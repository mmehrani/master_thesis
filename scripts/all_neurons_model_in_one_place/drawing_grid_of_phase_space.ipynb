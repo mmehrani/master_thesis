{
 "cells": [
  {
   "cell_type": "code",
   "execution_count": 1,
   "metadata": {},
   "outputs": [],
   "source": [
    "import numpy as np\n",
    "import matplotlib.pyplot as plt\n",
    "import os\n",
    "import pandas as pd\n",
    "import seaborn as sns\n",
    "# from tqdm import"
   ]
  },
  {
   "cell_type": "code",
   "execution_count": 2,
   "metadata": {},
   "outputs": [],
   "source": [
    "connectivity_min, connectivity_max = 0,65\n",
    "random_input_span = (1.2,2.8)\n",
    "# random_input_span = (9.5,13.5)\n",
    "total_time = 1000\n",
    "alpha = 20\n",
    "alpha_folder = 'alpha_' + str(alpha)\n",
    "\n",
    "current_models = ['IF','Rotational']\n",
    "neuron_model = current_models[0]\n",
    "\n",
    "model_folder_name = neuron_model+'_ensembles'\n",
    "version = '_cluster_computed'"
   ]
  },
  {
   "cell_type": "markdown",
   "metadata": {},
   "source": [
    "# Capture related ensembles"
   ]
  },
  {
   "cell_type": "code",
   "execution_count": 3,
   "metadata": {},
   "outputs": [],
   "source": [
    "def list_folders_in_path(path):\n",
    "    return [ name for name in os.listdir( path ) if os.path.isdir( os.path.join(path, name) ) ]"
   ]
  },
  {
   "cell_type": "code",
   "execution_count": 4,
   "metadata": {},
   "outputs": [],
   "source": [
    "num_neurons = 10000\n",
    "target_networks_name = 'N{}_T{}_I{}_{}'.format(num_neurons,total_time,random_input_span[0],random_input_span[1]) + version\n",
    "target_path = os.path.join(model_folder_name,target_networks_name)\n",
    "all_g_folders = list_folders_in_path(target_path)\n",
    "desired_g_folders = all_g_folders\n",
    "\n",
    "# delay_folder_name = 'd_{}'.format(delay)"
   ]
  },
  {
   "cell_type": "code",
   "execution_count": 5,
   "metadata": {},
   "outputs": [],
   "source": [
    "sigma_glossary_dict = {}\n",
    "amin_saman_param_glossary_dict = {}\n",
    "field_period_glossary_dict = {}\n",
    "field_max_intensity_mod_glossary_dict = {}"
   ]
  },
  {
   "cell_type": "code",
   "execution_count": 6,
   "metadata": {},
   "outputs": [
    {
     "ename": "KeyboardInterrupt",
     "evalue": "",
     "output_type": "error",
     "traceback": [
      "\u001b[1;31m---------------------------------------------------------------------------\u001b[0m",
      "\u001b[1;31mKeyboardInterrupt\u001b[0m                         Traceback (most recent call last)",
      "\u001b[1;32m~\\AppData\\Local\\Temp/ipykernel_15540/396605238.py\u001b[0m in \u001b[0;36m<module>\u001b[1;34m\u001b[0m\n\u001b[0;32m     26\u001b[0m         \u001b[1;32mfor\u001b[0m \u001b[0mensemble_num\u001b[0m \u001b[1;32min\u001b[0m \u001b[0mg_ensembles_list\u001b[0m\u001b[1;33m:\u001b[0m\u001b[1;33m\u001b[0m\u001b[1;33m\u001b[0m\u001b[0m\n\u001b[0;32m     27\u001b[0m             \u001b[0mensemble_path\u001b[0m \u001b[1;33m=\u001b[0m \u001b[0mos\u001b[0m\u001b[1;33m.\u001b[0m\u001b[0mpath\u001b[0m\u001b[1;33m.\u001b[0m\u001b[0mjoin\u001b[0m\u001b[1;33m(\u001b[0m\u001b[0mg_d_alpha_path\u001b[0m\u001b[1;33m,\u001b[0m \u001b[0mensemble_num\u001b[0m\u001b[1;33m)\u001b[0m\u001b[1;33m\u001b[0m\u001b[1;33m\u001b[0m\u001b[0m\n\u001b[1;32m---> 28\u001b[1;33m             \u001b[1;32mwith\u001b[0m \u001b[0mopen\u001b[0m\u001b[1;33m(\u001b[0m \u001b[0mos\u001b[0m\u001b[1;33m.\u001b[0m\u001b[0mpath\u001b[0m\u001b[1;33m.\u001b[0m\u001b[0mjoin\u001b[0m\u001b[1;33m(\u001b[0m\u001b[0mensemble_path\u001b[0m\u001b[1;33m,\u001b[0m\u001b[1;34m'sigma.txt'\u001b[0m\u001b[1;33m)\u001b[0m \u001b[1;33m)\u001b[0m \u001b[1;32mas\u001b[0m \u001b[0mfile\u001b[0m\u001b[1;33m:\u001b[0m\u001b[1;33m\u001b[0m\u001b[1;33m\u001b[0m\u001b[0m\n\u001b[0m\u001b[0;32m     29\u001b[0m                 \u001b[0msigma\u001b[0m \u001b[1;33m=\u001b[0m \u001b[0mfloat\u001b[0m\u001b[1;33m(\u001b[0m \u001b[0mfile\u001b[0m\u001b[1;33m.\u001b[0m\u001b[0mreadline\u001b[0m\u001b[1;33m(\u001b[0m\u001b[1;33m)\u001b[0m \u001b[1;33m)\u001b[0m\u001b[1;33m\u001b[0m\u001b[1;33m\u001b[0m\u001b[0m\n\u001b[0;32m     30\u001b[0m                 \u001b[0msigma_glossary_dict\u001b[0m\u001b[1;33m[\u001b[0m\u001b[0mg\u001b[0m\u001b[1;33m]\u001b[0m\u001b[1;33m[\u001b[0m\u001b[0mdelay\u001b[0m\u001b[1;33m]\u001b[0m\u001b[1;33m.\u001b[0m\u001b[0mappend\u001b[0m\u001b[1;33m(\u001b[0m \u001b[0msigma\u001b[0m \u001b[1;33m)\u001b[0m\u001b[1;33m\u001b[0m\u001b[1;33m\u001b[0m\u001b[0m\n",
      "\u001b[1;32mC:\\ProgramData\\Anaconda3\\lib\\_bootlocale.py\u001b[0m in \u001b[0;36mgetpreferredencoding\u001b[1;34m(do_setlocale)\u001b[0m\n\u001b[0;32m      9\u001b[0m \u001b[1;33m\u001b[0m\u001b[0m\n\u001b[0;32m     10\u001b[0m \u001b[1;32mif\u001b[0m \u001b[0msys\u001b[0m\u001b[1;33m.\u001b[0m\u001b[0mplatform\u001b[0m\u001b[1;33m.\u001b[0m\u001b[0mstartswith\u001b[0m\u001b[1;33m(\u001b[0m\u001b[1;34m\"win\"\u001b[0m\u001b[1;33m)\u001b[0m\u001b[1;33m:\u001b[0m\u001b[1;33m\u001b[0m\u001b[1;33m\u001b[0m\u001b[0m\n\u001b[1;32m---> 11\u001b[1;33m     \u001b[1;32mdef\u001b[0m \u001b[0mgetpreferredencoding\u001b[0m\u001b[1;33m(\u001b[0m\u001b[0mdo_setlocale\u001b[0m\u001b[1;33m=\u001b[0m\u001b[1;32mTrue\u001b[0m\u001b[1;33m)\u001b[0m\u001b[1;33m:\u001b[0m\u001b[1;33m\u001b[0m\u001b[1;33m\u001b[0m\u001b[0m\n\u001b[0m\u001b[0;32m     12\u001b[0m         \u001b[1;32mif\u001b[0m \u001b[0msys\u001b[0m\u001b[1;33m.\u001b[0m\u001b[0mflags\u001b[0m\u001b[1;33m.\u001b[0m\u001b[0mutf8_mode\u001b[0m\u001b[1;33m:\u001b[0m\u001b[1;33m\u001b[0m\u001b[1;33m\u001b[0m\u001b[0m\n\u001b[0;32m     13\u001b[0m             \u001b[1;32mreturn\u001b[0m \u001b[1;34m'UTF-8'\u001b[0m\u001b[1;33m\u001b[0m\u001b[1;33m\u001b[0m\u001b[0m\n",
      "\u001b[1;31mKeyboardInterrupt\u001b[0m: "
     ]
    }
   ],
   "source": [
    "for g_folder in desired_g_folders:\n",
    "    available_d_folders = list_folders_in_path(os.path.join(target_path,g_folder))\n",
    "\n",
    "    g = float( g_folder.split('_')[1] ) #folder names are g_# d_#\n",
    "    \n",
    "    sigma_glossary_dict[g] = {}\n",
    "    amin_saman_param_glossary_dict[g] = {}\n",
    "    field_period_glossary_dict[g] = {}\n",
    "    field_max_intensity_mod_glossary_dict[g] = {}\n",
    "    \n",
    "    for d_folder in available_d_folders:\n",
    "        delay = float( d_folder.split('_')[1] ) #folder names are d_#\n",
    "        \n",
    "        g_d_alpha_path = os.path.join(target_path, g_folder, d_folder, alpha_folder)\n",
    "\n",
    "        try:\n",
    "            g_ensembles_list = list_folders_in_path(g_d_alpha_path)\n",
    "            \n",
    "            sigma_glossary_dict[g].update( {delay:[]} )\n",
    "            amin_saman_param_glossary_dict[g].update( {delay:[]} )\n",
    "            field_period_glossary_dict[g].update( {delay:[]} )\n",
    "            field_max_intensity_mod_glossary_dict[g].update( {delay:[]} )\n",
    "        except: #if the given connectivity and delay has not been measured even once\n",
    "            continue\n",
    "\n",
    "        for ensemble_num in g_ensembles_list:\n",
    "            ensemble_path = os.path.join(g_d_alpha_path, ensemble_num)\n",
    "            with open( os.path.join(ensemble_path,'sigma.txt') ) as file:\n",
    "                sigma = float( file.readline() )\n",
    "                sigma_glossary_dict[g][delay].append( sigma )\n",
    "\n",
    "            with open( os.path.join(ensemble_path,'field_properties.txt') ) as file:\n",
    "                info_line = file.readline()\n",
    "                field_period = float( info_line.split(',')[0] )\n",
    "                max_intensity_mod = float( info_line.split(',')[1] )\n",
    "                field_period_glossary_dict[g][delay].append( field_period )\n",
    "                field_max_intensity_mod_glossary_dict[g][delay].append( max_intensity_mod )\n",
    "\n",
    "            if neuron_model == 'Rotational': #if not does not exist\n",
    "                with open( os.path.join(ensemble_path,'amin_saman_param.txt') ) as file:\n",
    "                    amin_saman_param = float( file.readline() )        \n",
    "                    amin_saman_param_glossary_dict[g][delay].append( amin_saman_param )        \n",
    "\n",
    "\n",
    "        sigma_glossary_dict[g][delay] = np.mean(sigma_glossary_dict[g][delay])\n",
    "        field_period_glossary_dict[g][delay] = np.mean(np.abs( field_period_glossary_dict[g][delay] ) )\n",
    "        field_max_intensity_mod_glossary_dict[g][delay] = np.mean(field_max_intensity_mod_glossary_dict[g][delay])\n",
    "        if neuron_model == 'Rotational':amin_saman_param_glossary_dict[g][delay] = np.mean(amin_saman_param_glossary_dict[g][delay])\n"
   ]
  },
  {
   "cell_type": "code",
   "execution_count": null,
   "metadata": {},
   "outputs": [],
   "source": [
    "def dict_to_dataframe(input_dict):\n",
    "    table = pd.DataFrame.from_dict(input_dict)\n",
    "    table.index.name = 'delay'\n",
    "    table.columns.name = 'connectivity'\n",
    "    table = table.sort_index(axis=1)\n",
    "    return table"
   ]
  },
  {
   "cell_type": "markdown",
   "metadata": {},
   "source": [
    "##### Fonts properties:"
   ]
  },
  {
   "cell_type": "code",
   "execution_count": null,
   "metadata": {},
   "outputs": [],
   "source": [
    "plt.rc('font', family='serif')\n",
    "COLOR = 'white'\n",
    "plt.rcParams['text.color'] = COLOR\n",
    "plt.rcParams['axes.labelcolor'] = COLOR\n",
    "plt.rcParams['xtick.color'] = COLOR\n",
    "plt.rcParams['ytick.color'] = COLOR\n",
    "plt.tight_layout()"
   ]
  },
  {
   "cell_type": "markdown",
   "metadata": {},
   "source": [
    "# Sigma dataframe"
   ]
  },
  {
   "cell_type": "code",
   "execution_count": null,
   "metadata": {},
   "outputs": [],
   "source": [
    "sigma_table = dict_to_dataframe(sigma_glossary_dict)\n",
    "sigma_table"
   ]
  },
  {
   "cell_type": "code",
   "execution_count": null,
   "metadata": {},
   "outputs": [],
   "source": []
  },
  {
   "cell_type": "code",
   "execution_count": null,
   "metadata": {},
   "outputs": [],
   "source": [
    "ax_sigma = sns.heatmap(sigma_table, annot=False, vmax = 1)\n",
    "ax_sigma.set_title('Sigma as an Order parameter')\n",
    "ax_sigma.invert_yaxis()"
   ]
  },
  {
   "cell_type": "code",
   "execution_count": null,
   "metadata": {},
   "outputs": [],
   "source": []
  },
  {
   "cell_type": "code",
   "execution_count": null,
   "metadata": {},
   "outputs": [],
   "source": [
    "fig = ax_sigma.get_figure()\n",
    "fig.savefig(os.path.join(target_path, 'sigma_phase_space.png'), dpi = 1000)"
   ]
  },
  {
   "cell_type": "markdown",
   "metadata": {},
   "source": [
    "# Amin Saman Parameter"
   ]
  },
  {
   "cell_type": "code",
   "execution_count": null,
   "metadata": {},
   "outputs": [],
   "source": [
    "if neuron_model == 'Rotational':\n",
    "    amin_saman_param_table = dict_to_dataframe(amin_saman_param_glossary_dict)\n",
    "    ax_field_period = sns.heatmap(amin_saman_param_table)\n",
    "    ax_field_period.set_title('AminSaman as an Order parameter ')\n",
    "    fig = ax_field_period.get_figure()\n",
    "    fig.savefig(os.path.join(target_path, 'amin_saman_phase_space.png'))"
   ]
  },
  {
   "cell_type": "code",
   "execution_count": null,
   "metadata": {},
   "outputs": [],
   "source": []
  },
  {
   "cell_type": "markdown",
   "metadata": {},
   "source": [
    "# Field period dataframe"
   ]
  },
  {
   "cell_type": "code",
   "execution_count": null,
   "metadata": {},
   "outputs": [],
   "source": [
    "field_period_table = dict_to_dataframe(field_period_glossary_dict)\n",
    "field_period_table"
   ]
  },
  {
   "cell_type": "code",
   "execution_count": null,
   "metadata": {},
   "outputs": [],
   "source": [
    "ax_field_period = sns.heatmap(np.log(field_period_table.abs()), annot=False, vmax = 2, vmin = -2)\n",
    "ax_field_period.set_title('Logarithm of field period time')\n",
    "ax_field_period.invert_yaxis()"
   ]
  },
  {
   "cell_type": "code",
   "execution_count": null,
   "metadata": {},
   "outputs": [],
   "source": [
    "fig = ax_field_period.get_figure()\n",
    "fig.savefig(os.path.join(target_path, 'field_period_phase_space.png'))"
   ]
  },
  {
   "cell_type": "code",
   "execution_count": null,
   "metadata": {
    "scrolled": true
   },
   "outputs": [],
   "source": [
    "max_intensity_table = dict_to_dataframe(field_max_intensity_mod_glossary_dict)\n",
    "max_intensity_table"
   ]
  },
  {
   "cell_type": "code",
   "execution_count": null,
   "metadata": {},
   "outputs": [],
   "source": []
  },
  {
   "cell_type": "code",
   "execution_count": null,
   "metadata": {},
   "outputs": [],
   "source": [
    "%matplotlib notebook\n",
    "from mpl_toolkits.mplot3d import Axes3D\n",
    "\n",
    "d_arr = max_intensity_table.index\n",
    "g_arr = max_intensity_table.columns\n",
    "bars_pos = np.array([np.tile(g_arr, len(d_arr)), np.repeat(d_arr, len(g_arr)), [0]*(len(d_arr)*len(g_arr))])\n",
    "\n",
    "dd_arr = d_arr[1] - d_arr[0]\n",
    "dg_arr = g_arr[1] - g_arr[0]\n",
    "\n",
    "dmax_intensity = max_intensity_table.to_numpy().flatten()\n",
    "\n",
    "cmap = plt.cm.get_cmap('magma') # Get desired colormap - you can change this!\n",
    "period_arr = field_period_table.to_numpy().flatten()\n",
    "max_height = np.max(period_arr)   # get range of colorbars so we can normalize\n",
    "min_height = np.min(period_arr)\n",
    "# scale each z to [0,1], and get their rgb values\n",
    "rgba = [cmap( np.log( k ) ) for k in period_arr] \n",
    "\n",
    "\n",
    "fig = plt.figure()          #create a canvas, tell matplotlib it's 3d\n",
    "ax = fig.add_subplot(111, projection='3d')\n",
    "ax.bar3d(bars_pos[0], bars_pos[1], bars_pos[2], dg_arr, dd_arr, dmax_intensity, color=rgba)"
   ]
  },
  {
   "cell_type": "code",
   "execution_count": null,
   "metadata": {},
   "outputs": [],
   "source": []
  },
  {
   "cell_type": "code",
   "execution_count": null,
   "metadata": {},
   "outputs": [],
   "source": []
  },
  {
   "cell_type": "code",
   "execution_count": null,
   "metadata": {},
   "outputs": [],
   "source": []
  },
  {
   "cell_type": "code",
   "execution_count": null,
   "metadata": {},
   "outputs": [],
   "source": []
  },
  {
   "cell_type": "code",
   "execution_count": null,
   "metadata": {},
   "outputs": [],
   "source": []
  }
 ],
 "metadata": {
  "kernelspec": {
   "display_name": "Python 3 (ipykernel)",
   "language": "python",
   "name": "python3"
  },
  "language_info": {
   "codemirror_mode": {
    "name": "ipython",
    "version": 3
   },
   "file_extension": ".py",
   "mimetype": "text/x-python",
   "name": "python",
   "nbconvert_exporter": "python",
   "pygments_lexer": "ipython3",
   "version": "3.9.7"
  }
 },
 "nbformat": 4,
 "nbformat_minor": 4
}
