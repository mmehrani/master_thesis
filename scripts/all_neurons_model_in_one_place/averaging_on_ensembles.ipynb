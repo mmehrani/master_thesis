{
 "cells": [
  {
   "cell_type": "code",
   "execution_count": 1,
   "metadata": {},
   "outputs": [],
   "source": [
    "import numpy as np\n",
    "import matplotlib.pyplot as plt\n",
    "import os\n",
    "# from tqdm import"
   ]
  },
  {
   "cell_type": "code",
   "execution_count": 2,
   "metadata": {},
   "outputs": [],
   "source": [
    "connectivity_min, connectivity_max = 0.1,65\n",
    "random_input_span = (9.5,13.5)\n",
    "# random_input_span = (1.2,2.8)\n",
    "\n",
    "total_time = 100\n",
    "delay = 0.11\n",
    "alpha = 20\n",
    "\n",
    "current_models = ['IF','Rotational']\n",
    "neuron_model = current_models[1]\n",
    "\n",
    "model_folder_name = neuron_model+'_ensembles'"
   ]
  },
  {
   "cell_type": "markdown",
   "metadata": {},
   "source": [
    "# Capture related ensembles"
   ]
  },
  {
   "cell_type": "code",
   "execution_count": 3,
   "metadata": {},
   "outputs": [],
   "source": [
    "def list_folders_in_path(path):\n",
    "    return [ name for name in os.listdir( path ) if os.path.isdir( os.path.join(path, name) ) ]"
   ]
  },
  {
   "cell_type": "code",
   "execution_count": 4,
   "metadata": {},
   "outputs": [],
   "source": [
    "num_neurons = 10000\n",
    "target_networks_name = 'N{}_T{}_I{}_{}'.format(num_neurons,total_time,random_input_span[0],random_input_span[1])\n",
    "target_path = os.path.join(model_folder_name,target_networks_name)\n",
    "all_g_folders = list_folders_in_path(target_path)\n",
    "desired_g_folders = all_g_folders\n",
    "\n",
    "delay_folder_name = 'd_{}'.format(delay)\n",
    "alpha_folder_name = 'alpha_{}'.format(alpha)"
   ]
  },
  {
   "cell_type": "code",
   "execution_count": null,
   "metadata": {},
   "outputs": [],
   "source": []
  },
  {
   "cell_type": "code",
   "execution_count": 5,
   "metadata": {},
   "outputs": [],
   "source": [
    "sigma_glossary_dict = {}\n",
    "amin_saman_param_glossary_dict = {}\n",
    "mean_periods_arr_dict = {}"
   ]
  },
  {
   "cell_type": "code",
   "execution_count": 6,
   "metadata": {},
   "outputs": [],
   "source": [
    "for g_folder in desired_g_folders:\n",
    "    g_d_path = os.path.join(target_path, g_folder, delay_folder_name, alpha_folder_name)\n",
    "    \n",
    "    try:\n",
    "        g_ensembles_list = list_folders_in_path(g_d_path)\n",
    "        g = float( g_folder.split('_')[1] ) #folder names are g_# d_#\n",
    "    \n",
    "        sigma_glossary_dict[g] = []\n",
    "        mean_periods_arr_dict[g] = []\n",
    "        amin_saman_param_glossary_dict[g] = []\n",
    "        \n",
    "    except: #if the given connectivity and delay has not been measured even once\n",
    "        continue\n",
    "    \n",
    "    for ensemble_num in g_ensembles_list:\n",
    "        ensemble_path = os.path.join(g_d_path, ensemble_num)\n",
    "        with open( os.path.join(ensemble_path,'sigma.txt') ) as file:\n",
    "            sigma = float( file.readline() )\n",
    "            sigma_glossary_dict[g].append( sigma )\n",
    "        \n",
    "        if neuron_model == 'Rotational': #if not does not exist\n",
    "            with open( os.path.join(ensemble_path,'amin_saman_param.txt') ) as file:\n",
    "                amin_saman_param = float( file.readline() )        \n",
    "                amin_saman_param_glossary_dict[g].append( amin_saman_param )        \n",
    "        \n",
    "        mean_periods_arr_dict[g].append( np.loadtxt(os.path.join(ensemble_path,'mean_spiking_periods.txt')) )\n",
    "        \n"
   ]
  },
  {
   "cell_type": "code",
   "execution_count": 7,
   "metadata": {},
   "outputs": [
    {
     "data": {
      "text/plain": [
       "{10.0: [0.21142535906109225, 0.2114324316954711],\n",
       " 10.1: [0.21207059629349492, 0.21202213636560396],\n",
       " 10.2: [0.21177068033784538, 0.21188674235671215],\n",
       " 10.3: [0.212374654387103, 0.21190521810596424],\n",
       " 10.4: [0.21212828990492538, 0.21231126492778238],\n",
       " 10.5: [0.2125531437388318, 0.2129307464175471],\n",
       " 10.6: [0.21142816929945502, 0.21285615192508725],\n",
       " 10.7: [0.21205076783441487, 0.21222970736728602],\n",
       " 10.8: [0.21302256025025298, 0.21250911207501041],\n",
       " 10.9: [0.2127706399842084, 0.2127327343976809],\n",
       " 11.0: [0.21344734011710823, 0.21226381253773385],\n",
       " 11.1: [0.21287672254032297, 0.21334528547333942],\n",
       " 11.2: [0.21379785788115527, 0.21279003085762707],\n",
       " 11.3: [0.21245659746553444, 0.21316813323946418],\n",
       " 11.4: [0.21369535354787186, 0.21462767825074783],\n",
       " 11.5: [0.21419372338644815, 0.2131314833038788],\n",
       " 11.6: [0.21509508274361105, 0.21357627507885013],\n",
       " 11.7: [0.21468481605849485, 0.2158451550595102],\n",
       " 11.8: [0.21614303335833326, 0.21300646773997695],\n",
       " 11.9: [0.21595916912204888, 0.21575920830162676],\n",
       " 12.0: [0.2172394619438584, 0.21810457452679868],\n",
       " 12.1: [0.22035577752695606, 0.22050781784181175],\n",
       " 12.2: [0.2246306547625494, 0.21944816746041432],\n",
       " 12.3: [0.22022695783270846, 0.2202527684820346],\n",
       " 12.4: [0.22618066588603916, 0.2293873135417252],\n",
       " 12.5: [0.22402335174590815, 0.2313548557249793],\n",
       " 12.6: [0.22368729573190077, 0.23413074486830415],\n",
       " 12.7: [0.25629340859401833, 0.25618599032056283],\n",
       " 12.8: [0.2619309858655108, 0.2965169321442564],\n",
       " 12.9: [0.29154723287288536, 0.26394423646105875],\n",
       " 13.0: [0.31363711027770647, 0.3291524116924591],\n",
       " 13.1: [0.342954854367922, 0.3341934450751787],\n",
       " 13.2: [0.3495807175806969, 0.3489211923338452],\n",
       " 13.3: [0.35481798862979014, 0.35368215750516524],\n",
       " 13.4: [0.36313571420859514, 0.3624577348502997],\n",
       " 13.5: [0.3661718493618961, 0.36856745323630186],\n",
       " 13.6: [0.3737908870081097, 0.37284538501075914],\n",
       " 13.7: [0.37449672547856755, 0.37525865968524674],\n",
       " 13.8: [0.3827877532602547, 0.37782357255507487],\n",
       " 13.9: [0.3820826683000758, 0.38520183490702575],\n",
       " 14.0: [0.3858713897063189, 0.38596733949090195],\n",
       " 14.1: [0.38658777201123357, 0.38793682720659883],\n",
       " 14.2: [0.3870985904676198, 0.3889243473418105],\n",
       " 14.3: [0.39004586660646795, 0.3924318060388551],\n",
       " 14.4: [0.39279433523327323, 0.39457855859745267],\n",
       " 14.5: [0.39602933459451134, 0.3967783973491989],\n",
       " 14.6: [0.39787891758558946, 0.39762646952659286],\n",
       " 14.7: [0.39982159844788395, 0.39787287136967786],\n",
       " 14.8: [0.40085123744086254, 0.3997094465491447],\n",
       " 14.9: [0.40123745864930827, 0.40309837519035735],\n",
       " 15.0: [0.40381864759074565, 0.40117502422924256],\n",
       " 16.0: [0.40921222975948635, 0.40887719185642735],\n",
       " 17.0: [0.41269688448948183, 0.41366854883179],\n",
       " 18.0: [0.41334821782237097, 0.410743038918616],\n",
       " 19.0: [0.41122421095353945, 0.4105026008428357]}"
      ]
     },
     "execution_count": 7,
     "metadata": {},
     "output_type": "execute_result"
    }
   ],
   "source": []
  },
  {
   "cell_type": "code",
   "execution_count": null,
   "metadata": {},
   "outputs": [],
   "source": []
  },
  {
   "cell_type": "markdown",
   "metadata": {},
   "source": [
    "## Standard deviation of the current"
   ]
  },
  {
   "cell_type": "code",
   "execution_count": 8,
   "metadata": {},
   "outputs": [],
   "source": [
    "g_list = list(sigma_glossary_dict.keys())\n",
    "g_list.sort()\n",
    "sigma_mean = [ np.mean(sigma_glossary_dict[g]) for g in g_list ]\n",
    "sigma_err = [ np.var(sigma_glossary_dict[g])**(0.5) for g in g_list ]"
   ]
  },
  {
   "cell_type": "code",
   "execution_count": null,
   "metadata": {},
   "outputs": [],
   "source": []
  },
  {
   "cell_type": "code",
   "execution_count": 31,
   "metadata": {},
   "outputs": [
    {
     "data": {
      "image/png": "[encoded data removed]",
      "text/plain": [
       "<Figure size 432x288 with 1 Axes>"
      ]
     },
     "metadata": {
      "needs_background": "light"
     },
     "output_type": "display_data"
    }
   ],
   "source": [
    "fig = plt.figure()\n",
    "ax = fig.subplots()\n",
    "ax.errorbar(x = g_list, y = sigma_mean, yerr = sigma_err, label = str(num_neurons))\n",
    "\n",
    "plt.legend()\n",
    "# ax.set_title('$\\sigma$')\n",
    "ax.set_xlabel('g as connectivity')\n",
    "ax.set_ylabel('$\\sigma$')\n",
    "\n",
    "ax.set_xticks( np.arange(g_list[0], g_list[-1], 0.5 ), minor = True)\n",
    "\n",
    "ax.grid(which='both')\n",
    "\n",
    "fig.savefig(os.path.join(target_path,'sigma_g_{}_{}.png'.format(connectivity_min, connectivity_max)) )"
   ]
  },
  {
   "cell_type": "markdown",
   "metadata": {},
   "source": [
    "## Amin Saman parameter"
   ]
  },
  {
   "cell_type": "code",
   "execution_count": 10,
   "metadata": {},
   "outputs": [],
   "source": [
    "amin_saman_param_mean = [ np.mean(amin_saman_param_glossary_dict[g]) for g in g_list ]\n",
    "amin_saman_param_err = [ np.var(amin_saman_param_glossary_dict[g])**(0.5) for g in g_list ]"
   ]
  },
  {
   "cell_type": "code",
   "execution_count": 11,
   "metadata": {},
   "outputs": [
    {
     "data": {
      "image/png": "[encoded data removed]",
      "text/plain": [
       "<Figure size 432x288 with 1 Axes>"
      ]
     },
     "metadata": {
      "needs_background": "light"
     },
     "output_type": "display_data"
    }
   ],
   "source": [
    "if neuron_model == 'Rotational': #if not does not exist\n",
    "    fig = plt.figure()\n",
    "    ax = fig.subplots()\n",
    "    ax.errorbar(x = g_list, y = amin_saman_param_mean, yerr = amin_saman_param_err, label = str(num_neurons))\n",
    "\n",
    "    plt.legend()\n",
    "    # ax.set_title('$\\sigma$')\n",
    "    ax.set_xlabel('g as connectivity')\n",
    "    ax.set_ylabel('$s$')\n",
    "    fig.savefig(os.path.join(target_path,'amin_saman_param_g_{}_{}.png'.format(connectivity_min, connectivity_max) ) )"
   ]
  },
  {
   "cell_type": "code",
   "execution_count": null,
   "metadata": {},
   "outputs": [],
   "source": []
  },
  {
   "cell_type": "markdown",
   "metadata": {},
   "source": [
    "## Mean spikies period"
   ]
  },
  {
   "cell_type": "code",
   "execution_count": 12,
   "metadata": {},
   "outputs": [],
   "source": [
    "def mean_heights_hist(pops_list,given_bins):\n",
    "    heights_reservoir = np.zeros((len(pops_list),len(given_bins)-1))\n",
    "    for i,pop in enumerate(pops_list):\n",
    "        heights = np.histogram(pop, bins = given_bins, density = True)[0]\n",
    "        heights_reservoir[i] = heights\n",
    "    return np.mean(heights_reservoir,axis = 0)"
   ]
  },
  {
   "cell_type": "code",
   "execution_count": 13,
   "metadata": {},
   "outputs": [],
   "source": [
    "# bins = np.arange(0,100,0.5)\n",
    "bins = np.logspace(np.log10(0.1),np.log10(1000.0), 100)\n",
    "mean_heights_dict = {}\n",
    "for g in g_list:\n",
    "    mean_heights_dict[g] = mean_heights_hist(mean_periods_arr_dict[g],bins)"
   ]
  },
  {
   "cell_type": "code",
   "execution_count": null,
   "metadata": {},
   "outputs": [],
   "source": []
  },
  {
   "cell_type": "code",
   "execution_count": 14,
   "metadata": {},
   "outputs": [
    {
     "data": {
      "image/png": "[encoded data removed]",
      "text/plain": [
       "<Figure size 432x288 with 1 Axes>"
      ]
     },
     "metadata": {
      "needs_background": "light"
     },
     "output_type": "display_data"
    }
   ],
   "source": [
    "fig = plt.figure()\n",
    "ax = fig.subplots()\n",
    "\n",
    "ax.set_xscale(\"log\")\n",
    "ax.set_yscale(\"log\")\n",
    "\n",
    "\n",
    "desired_g_list = g_list[::5]\n",
    "\n",
    "for g in desired_g_list:\n",
    "    non_zero_mask = (mean_heights_dict[g] != 0 ) & (bins[:-1] != 0)\n",
    "    ax.scatter(bins[:-1][non_zero_mask],mean_heights_dict[g][non_zero_mask],label = round(g,2), alpha = 0.5)\n",
    "plt.legend()\n",
    "plt.xlim(0.1, bins[-1])\n",
    "# plt.ylim(10**-4, num_neurons)\n",
    "# plt.ylim(10**-4, 10**2)\n",
    "plt.ylim(num_neurons**-1, 10)\n",
    "# plt.xscale('log')\n",
    "# plt.yscale('log')\n",
    "\n",
    "\n",
    "ax.set_title('Mean periods of neurons spikes')\n",
    "ax.set_ylabel('population')\n",
    "ax.set_xlabel('$\\Delta T$')\n",
    "fig.savefig(os.path.join(target_path,'mean_spiking_persiods_g_{}_{}.png'.format(connectivity_min,connectivity_max)) )"
   ]
  },
  {
   "cell_type": "markdown",
   "metadata": {},
   "source": [
    "## Trending line in histogram"
   ]
  },
  {
   "cell_type": "code",
   "execution_count": 15,
   "metadata": {},
   "outputs": [],
   "source": [
    "desired_g = 15"
   ]
  },
  {
   "cell_type": "code",
   "execution_count": 16,
   "metadata": {},
   "outputs": [],
   "source": [
    "non_zero_mask = (mean_heights_dict[desired_g] != 0 ) & (bins[:-1] != 0)\n",
    "x = bins[:-1][non_zero_mask]\n",
    "y = mean_heights_dict[desired_g][non_zero_mask]\n",
    "\n",
    "x_log = np.log10(x)\n",
    "y_log = np.log10(y)\n",
    "\n",
    "trend_curve = x**(np.polyfit(x_log,y_log,1)[0]) * 10**(np.polyfit(x_log,y_log,1)[1])\n",
    "slope, shift = np.polyfit(x_log,y_log,1)"
   ]
  },
  {
   "cell_type": "code",
   "execution_count": null,
   "metadata": {},
   "outputs": [],
   "source": []
  },
  {
   "cell_type": "code",
   "execution_count": 17,
   "metadata": {},
   "outputs": [
    {
     "data": {
      "image/png": "[encoded data removed]",
      "text/plain": [
       "<Figure size 432x288 with 1 Axes>"
      ]
     },
     "metadata": {
      "needs_background": "light"
     },
     "output_type": "display_data"
    }
   ],
   "source": [
    "fig = plt.figure()\n",
    "ax = fig.subplots()\n",
    "\n",
    "ax.set_xscale(\"log\")\n",
    "ax.set_yscale(\"log\")\n",
    "\n",
    "ax.scatter(x,y,label = round(desired_g,2), alpha = 0.8)\n",
    "\n",
    "ax.set_xlim(0.1, bins[-1])\n",
    "ax.set_ylim(num_neurons**-1,10) #we are working with densities\n",
    "\n",
    "ax.plot(x, trend_curve,'r-',label = '{:.2f}log($\\Delta$T)+{:.2f}'.format(slope,shift))\n",
    "\n",
    "plt.legend()\n",
    "ax.set_title('Trending line of mean periods of neurons spikes')\n",
    "ax.set_ylabel('population')\n",
    "ax.set_xlabel('$\\Delta T$')\n",
    "fig.savefig(os.path.join(target_path,'mean_spiking_persiods_with_trending_line_g_{}_{}.png'.format(connectivity_min,connectivity_max)) )"
   ]
  },
  {
   "cell_type": "code",
   "execution_count": null,
   "metadata": {},
   "outputs": [],
   "source": []
  },
  {
   "cell_type": "markdown",
   "metadata": {},
   "source": [
    "# Silent neurons"
   ]
  },
  {
   "cell_type": "code",
   "execution_count": 18,
   "metadata": {},
   "outputs": [],
   "source": [
    "def silent_neurons_num(pops_list):\n",
    "    silent_num = np.zeros(len(pops_list))\n",
    "    for i,pop in enumerate(pops_list):\n",
    "        nan_num = np.count_nonzero(np.isnan(pop))\n",
    "#         nan_num = 0 if nan_num != 0 else nan_num\n",
    "        silent_num[i] = nan_num\n",
    "    return np.mean(silent_num)"
   ]
  },
  {
   "cell_type": "code",
   "execution_count": 19,
   "metadata": {},
   "outputs": [
    {
     "data": {
      "image/png": "[encoded data removed]",
      "text/plain": [
       "<Figure size 432x288 with 1 Axes>"
      ]
     },
     "metadata": {
      "needs_background": "light"
     },
     "output_type": "display_data"
    }
   ],
   "source": [
    "fig = plt.figure()\n",
    "ax = fig.subplots()\n",
    "\n",
    "silent_neurons = []\n",
    "\n",
    "for g in g_list:\n",
    "    silent_neurons.append( silent_neurons_num(mean_periods_arr_dict[g]) )\n",
    "\n",
    "ax.plot(g_list,silent_neurons)\n",
    "# plt.legend()\n",
    "\n",
    "ax.set_title('number of silent neurons')\n",
    "ax.set_ylabel('silent population')\n",
    "ax.set_xlabel('g as connectivity')\n",
    "fig.savefig(os.path.join(target_path,'silent_neurons_g_{}_{}.png'.format(connectivity_min,connectivity_max)) )"
   ]
  },
  {
   "cell_type": "code",
   "execution_count": null,
   "metadata": {},
   "outputs": [],
   "source": []
  }
 ],
 "metadata": {
  "kernelspec": {
   "display_name": "Python 3",
   "language": "python",
   "name": "python3"
  },
  "language_info": {
   "codemirror_mode": {
    "name": "ipython",
    "version": 3
   },
   "file_extension": ".py",
   "mimetype": "text/x-python",
   "name": "python",
   "nbconvert_exporter": "python",
   "pygments_lexer": "ipython3",
   "version": "3.7.6"
  }
 },
 "nbformat": 4,
 "nbformat_minor": 4
}
