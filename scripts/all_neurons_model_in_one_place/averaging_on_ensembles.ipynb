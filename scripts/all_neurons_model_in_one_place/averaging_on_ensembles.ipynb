{
 "cells": [
  {
   "cell_type": "code",
   "execution_count": 1,
   "metadata": {},
   "outputs": [],
   "source": [
    "import numpy as np\n",
    "import matplotlib.pyplot as plt\n",
    "import os\n",
    "# from tqdm import"
   ]
  },
  {
   "cell_type": "code",
   "execution_count": 2,
   "metadata": {},
   "outputs": [],
   "source": [
    "connectivity_min, connectivity_max = 0.1,65\n",
    "random_input_span = (9.5,13.5)\n",
    "\n",
    "total_time = 100\n",
    "delay = 0.29\n",
    "\n",
    "neuron_model = 'Rotational'\n",
    "model_folder_name = neuron_model+'_ensembles'"
   ]
  },
  {
   "cell_type": "markdown",
   "metadata": {},
   "source": [
    "# Capture related ensembles"
   ]
  },
  {
   "cell_type": "code",
   "execution_count": 3,
   "metadata": {},
   "outputs": [],
   "source": [
    "def list_folders_in_path(path):\n",
    "    return [ name for name in os.listdir( path ) if os.path.isdir( os.path.join(path, name) ) ]"
   ]
  },
  {
   "cell_type": "code",
   "execution_count": 4,
   "metadata": {},
   "outputs": [],
   "source": [
    "num_neurons = 10000\n",
    "target_networks_name = 'N{}_T{}_I{}_{}'.format(num_neurons,total_time,random_input_span[0],random_input_span[1])\n",
    "target_path = os.path.join(model_folder_name,target_networks_name)\n",
    "all_g_folders = list_folders_in_path(target_path)\n",
    "desired_g_folders = all_g_folders\n",
    "\n",
    "delay_folder_name = 'd_{}'.format(delay)"
   ]
  },
  {
   "cell_type": "code",
   "execution_count": null,
   "metadata": {},
   "outputs": [],
   "source": []
  },
  {
   "cell_type": "code",
   "execution_count": 5,
   "metadata": {},
   "outputs": [],
   "source": [
    "sigma_glossary_dict = {}\n",
    "amin_saman_param_glossary_dict = {}\n",
    "mean_periods_arr_dict = {}"
   ]
  },
  {
   "cell_type": "code",
   "execution_count": 6,
   "metadata": {},
   "outputs": [],
   "source": [
    "for g_folder in desired_g_folders:\n",
    "    g_d_path = os.path.join(target_path, g_folder, delay_folder_name)\n",
    "    \n",
    "    try:\n",
    "        g_ensembles_list = list_folders_in_path(g_d_path)\n",
    "        g = float( g_folder.split('_')[1] ) #folder names are g_# d_#\n",
    "    \n",
    "        sigma_glossary_dict[g] = []\n",
    "        mean_periods_arr_dict[g] = []\n",
    "        amin_saman_param_glossary_dict[g] = []\n",
    "        \n",
    "    except: #if the given connectivity and delay has not been measured even once\n",
    "        continue\n",
    "    \n",
    "    for ensemble_num in g_ensembles_list:\n",
    "        ensemble_path = os.path.join(g_d_path, ensemble_num)\n",
    "        with open( os.path.join(ensemble_path,'sigma.txt') ) as file:\n",
    "            sigma = float( file.readline() )\n",
    "            sigma_glossary_dict[g].append( sigma )\n",
    "        \n",
    "        if neuron_model == 'Rotational': #if not does not exist\n",
    "            with open( os.path.join(ensemble_path,'amin_saman_param.txt') ) as file:\n",
    "                amin_saman_param = float( file.readline() )        \n",
    "                amin_saman_param_glossary_dict[g].append( amin_saman_param )        \n",
    "        \n",
    "        mean_periods_arr_dict[g].append( np.loadtxt(os.path.join(ensemble_path,'mean_spiking_periods.txt')) )\n",
    "        \n"
   ]
  },
  {
   "cell_type": "code",
   "execution_count": null,
   "metadata": {},
   "outputs": [],
   "source": []
  },
  {
   "cell_type": "code",
   "execution_count": null,
   "metadata": {},
   "outputs": [],
   "source": []
  },
  {
   "cell_type": "markdown",
   "metadata": {},
   "source": [
    "## Standard deviation of the current"
   ]
  },
  {
   "cell_type": "code",
   "execution_count": 7,
   "metadata": {},
   "outputs": [],
   "source": [
    "g_list = list(sigma_glossary_dict.keys())\n",
    "g_list.sort()\n",
    "sigma_mean = [ np.mean(sigma_glossary_dict[g]) for g in g_list ]\n",
    "sigma_err = [ np.var(sigma_glossary_dict[g])**(0.5) for g in g_list ]"
   ]
  },
  {
   "cell_type": "code",
   "execution_count": null,
   "metadata": {},
   "outputs": [],
   "source": []
  },
  {
   "cell_type": "code",
   "execution_count": 8,
   "metadata": {},
   "outputs": [
    {
     "data": {
      "image/png": "[encoded data removed]",
      "text/plain": [
       "<Figure size 432x288 with 1 Axes>"
      ]
     },
     "metadata": {
      "needs_background": "light"
     },
     "output_type": "display_data"
    }
   ],
   "source": [
    "fig = plt.figure()\n",
    "ax = fig.subplots()\n",
    "ax.errorbar(x = g_list, y = sigma_mean, yerr = sigma_err, label = str(num_neurons))\n",
    "\n",
    "plt.legend()\n",
    "# ax.set_title('$\\sigma$')\n",
    "ax.set_xlabel('g as connectivity')\n",
    "ax.set_ylabel('$\\sigma$')\n",
    "fig.savefig(os.path.join(target_path,'sigma_g_{}_{}.png'.format(connectivity_min, connectivity_max)) )"
   ]
  },
  {
   "cell_type": "markdown",
   "metadata": {},
   "source": [
    "## Amin Saman parameter"
   ]
  },
  {
   "cell_type": "code",
   "execution_count": 9,
   "metadata": {},
   "outputs": [],
   "source": [
    "amin_saman_param_mean = [ np.mean(amin_saman_param_glossary_dict[g]) for g in g_list ]\n",
    "amin_saman_param_err = [ np.var(amin_saman_param_glossary_dict[g])**(0.5) for g in g_list ]"
   ]
  },
  {
   "cell_type": "code",
   "execution_count": 10,
   "metadata": {},
   "outputs": [
    {
     "data": {
      "image/png": "[encoded data removed]",
      "text/plain": [
       "<Figure size 432x288 with 1 Axes>"
      ]
     },
     "metadata": {
      "needs_background": "light"
     },
     "output_type": "display_data"
    }
   ],
   "source": [
    "if neuron_model == 'Rotational': #if not does not exist\n",
    "    fig = plt.figure()\n",
    "    ax = fig.subplots()\n",
    "    ax.errorbar(x = g_list, y = amin_saman_param_mean, yerr = amin_saman_param_err, label = str(num_neurons))\n",
    "\n",
    "    plt.legend()\n",
    "    # ax.set_title('$\\sigma$')\n",
    "    ax.set_xlabel('g as connectivity')\n",
    "    ax.set_ylabel('$s$')\n",
    "    fig.savefig(os.path.join(target_path,'amin_saman_param_g_{}_{}.png'.format(connectivity_min, connectivity_max) ) )"
   ]
  },
  {
   "cell_type": "code",
   "execution_count": null,
   "metadata": {},
   "outputs": [],
   "source": []
  },
  {
   "cell_type": "markdown",
   "metadata": {},
   "source": [
    "## Mean spikies period"
   ]
  },
  {
   "cell_type": "code",
   "execution_count": 11,
   "metadata": {},
   "outputs": [],
   "source": [
    "def mean_heights_hist(pops_list,given_bins):\n",
    "    heights_reservoir = np.zeros((len(pops_list),len(given_bins)-1))\n",
    "    for i,pop in enumerate(pops_list):\n",
    "        heights = np.histogram(pop, bins = given_bins, density = True)[0]\n",
    "        heights_reservoir[i] = heights\n",
    "    return np.mean(heights_reservoir,axis = 0)"
   ]
  },
  {
   "cell_type": "code",
   "execution_count": 12,
   "metadata": {},
   "outputs": [],
   "source": [
    "# bins = np.arange(0,100,0.5)\n",
    "bins = np.logspace(np.log10(0.1),np.log10(1000.0), 100)\n",
    "mean_heights_dict = {}\n",
    "for g in g_list:\n",
    "    mean_heights_dict[g] = mean_heights_hist(mean_periods_arr_dict[g],bins)"
   ]
  },
  {
   "cell_type": "code",
   "execution_count": null,
   "metadata": {},
   "outputs": [],
   "source": []
  },
  {
   "cell_type": "code",
   "execution_count": 13,
   "metadata": {},
   "outputs": [
    {
     "data": {
      "image/png": "[encoded data removed]",
      "text/plain": [
       "<Figure size 432x288 with 1 Axes>"
      ]
     },
     "metadata": {
      "needs_background": "light"
     },
     "output_type": "display_data"
    }
   ],
   "source": [
    "fig = plt.figure()\n",
    "ax = fig.subplots()\n",
    "\n",
    "ax.set_xscale(\"log\")\n",
    "ax.set_yscale(\"log\")\n",
    "\n",
    "\n",
    "desired_g_list = g_list[::5]\n",
    "\n",
    "for g in desired_g_list:\n",
    "    non_zero_mask = (mean_heights_dict[g] != 0 ) & (bins[:-1] != 0)\n",
    "    ax.scatter(bins[:-1][non_zero_mask],mean_heights_dict[g][non_zero_mask],label = round(g,2), alpha = 0.5)\n",
    "plt.legend()\n",
    "plt.xlim(0.1, bins[-1])\n",
    "# plt.ylim(10**-4, num_neurons)\n",
    "# plt.ylim(10**-4, 10**2)\n",
    "plt.ylim(num_neurons**-1, 10)\n",
    "# plt.xscale('log')\n",
    "# plt.yscale('log')\n",
    "\n",
    "\n",
    "ax.set_title('Mean periods of neurons spikes')\n",
    "ax.set_ylabel('population')\n",
    "ax.set_xlabel('$\\Delta T$')\n",
    "fig.savefig(os.path.join(target_path,'mean_spiking_persiods_g_{}_{}.png'.format(connectivity_min,connectivity_max)) )"
   ]
  },
  {
   "cell_type": "markdown",
   "metadata": {},
   "source": [
    "## Trending line in histogram"
   ]
  },
  {
   "cell_type": "code",
   "execution_count": 14,
   "metadata": {},
   "outputs": [],
   "source": [
    "desired_g = 15"
   ]
  },
  {
   "cell_type": "code",
   "execution_count": 15,
   "metadata": {},
   "outputs": [],
   "source": [
    "non_zero_mask = (mean_heights_dict[desired_g] != 0 ) & (bins[:-1] != 0)\n",
    "x = bins[:-1][non_zero_mask]\n",
    "y = mean_heights_dict[desired_g][non_zero_mask]\n",
    "\n",
    "x_log = np.log10(x)\n",
    "y_log = np.log10(y)\n",
    "\n",
    "trend_curve = x**(np.polyfit(x_log,y_log,1)[0]) * 10**(np.polyfit(x_log,y_log,1)[1])\n",
    "slope, shift = np.polyfit(x_log,y_log,1)"
   ]
  },
  {
   "cell_type": "code",
   "execution_count": null,
   "metadata": {},
   "outputs": [],
   "source": []
  },
  {
   "cell_type": "code",
   "execution_count": 16,
   "metadata": {},
   "outputs": [
    {
     "data": {
      "image/png": "[encoded data removed]",
      "text/plain": [
       "<Figure size 432x288 with 1 Axes>"
      ]
     },
     "metadata": {
      "needs_background": "light"
     },
     "output_type": "display_data"
    }
   ],
   "source": [
    "fig = plt.figure()\n",
    "ax = fig.subplots()\n",
    "\n",
    "ax.set_xscale(\"log\")\n",
    "ax.set_yscale(\"log\")\n",
    "\n",
    "ax.scatter(x,y,label = round(desired_g,2), alpha = 0.8)\n",
    "\n",
    "ax.set_xlim(0.1, bins[-1])\n",
    "ax.set_ylim(num_neurons**-1,10) #we are working with densities\n",
    "\n",
    "ax.plot(x, trend_curve,'r-',label = '{:.2f}log($\\Delta$T)+{:.2f}'.format(slope,shift))\n",
    "\n",
    "plt.legend()\n",
    "ax.set_title('Trending line of mean periods of neurons spikes')\n",
    "ax.set_ylabel('population')\n",
    "ax.set_xlabel('$\\Delta T$')\n",
    "fig.savefig(os.path.join(target_path,'mean_spiking_persiods_with_trending_line_g_{}_{}.png'.format(connectivity_min,connectivity_max)) )"
   ]
  },
  {
   "cell_type": "code",
   "execution_count": null,
   "metadata": {},
   "outputs": [],
   "source": []
  },
  {
   "cell_type": "markdown",
   "metadata": {},
   "source": [
    "# Silent neurons"
   ]
  },
  {
   "cell_type": "code",
   "execution_count": 17,
   "metadata": {},
   "outputs": [],
   "source": [
    "def silent_neurons_num(pops_list):\n",
    "    silent_num = np.zeros(len(pops_list))\n",
    "    for i,pop in enumerate(pops_list):\n",
    "        nan_num = np.count_nonzero(np.isnan(pop))\n",
    "#         nan_num = 0 if nan_num != 0 else nan_num\n",
    "        silent_num[i] = nan_num\n",
    "    return np.mean(silent_num)"
   ]
  },
  {
   "cell_type": "code",
   "execution_count": 18,
   "metadata": {},
   "outputs": [
    {
     "data": {
      "image/png": "[encoded data removed]",
      "text/plain": [
       "<Figure size 432x288 with 1 Axes>"
      ]
     },
     "metadata": {
      "needs_background": "light"
     },
     "output_type": "display_data"
    }
   ],
   "source": [
    "fig = plt.figure()\n",
    "ax = fig.subplots()\n",
    "\n",
    "silent_neurons = []\n",
    "\n",
    "for g in g_list:\n",
    "    silent_neurons.append( silent_neurons_num(mean_periods_arr_dict[g]) )\n",
    "\n",
    "ax.plot(g_list,silent_neurons)\n",
    "# plt.legend()\n",
    "\n",
    "ax.set_title('number of silent neurons')\n",
    "ax.set_ylabel('silent population')\n",
    "ax.set_xlabel('g as connectivity')\n",
    "fig.savefig(os.path.join(target_path,'silent_neurons_g_{}_{}.png'.format(connectivity_min,connectivity_max)) )"
   ]
  },
  {
   "cell_type": "code",
   "execution_count": null,
   "metadata": {},
   "outputs": [],
   "source": []
  }
 ],
 "metadata": {
  "kernelspec": {
   "display_name": "Python 3",
   "language": "python",
   "name": "python3"
  },
  "language_info": {
   "codemirror_mode": {
    "name": "ipython",
    "version": 3
   },
   "file_extension": ".py",
   "mimetype": "text/x-python",
   "name": "python",
   "nbconvert_exporter": "python",
   "pygments_lexer": "ipython3",
   "version": "3.7.6"
  }
 },
 "nbformat": 4,
 "nbformat_minor": 4
}
