{
 "cells": [
  {
   "cell_type": "markdown",
   "metadata": {},
   "source": [
    "# Neural networks simulation (Synchronization Problem)"
   ]
  },
  {
   "cell_type": "markdown",
   "metadata": {},
   "source": [
    "This file is going to study any neural netwrok class which is defined in the `<network_reference.py>` file."
   ]
  },
  {
   "cell_type": "code",
   "execution_count": 1,
   "metadata": {},
   "outputs": [],
   "source": [
    "import numpy as np\n",
    "from tqdm import tqdm\n",
    "import matplotlib.pyplot as plt\n",
    "import os"
   ]
  },
  {
   "cell_type": "code",
   "execution_count": 2,
   "metadata": {},
   "outputs": [],
   "source": [
    "%%capture\n",
    "from tqdm import tqdm_notebook as tqdm\n",
    "tqdm().pandas() #This line make sure that the progress bars looks natural"
   ]
  },
  {
   "cell_type": "markdown",
   "metadata": {},
   "source": [
    "## Order your neuron model of interest"
   ]
  },
  {
   "cell_type": "code",
   "execution_count": 3,
   "metadata": {},
   "outputs": [],
   "source": [
    "current_models = ['IF','Rotational']\n",
    "neuron_model = current_models[1]"
   ]
  },
  {
   "cell_type": "code",
   "execution_count": 4,
   "metadata": {},
   "outputs": [],
   "source": [
    "with open(\"network_reference.py\") as net_ref: \n",
    "    lines = net_ref.readlines() #read \n",
    " \n",
    "    #modify \n",
    "    lines[0] = \"neuron_engine = '{}'\\n\".format(neuron_model) #you can replace zero with any line number. \n",
    " \n",
    "with open(\"network_reference.py\", \"w\") as net_ref: \n",
    "    net_ref.writelines(lines) #write back "
   ]
  },
  {
   "cell_type": "code",
   "execution_count": 5,
   "metadata": {},
   "outputs": [],
   "source": [
    "from network_reference import Network_of_neurons"
   ]
  },
  {
   "cell_type": "markdown",
   "metadata": {},
   "source": [
    "## Parameters and constants"
   ]
  },
  {
   "cell_type": "code",
   "execution_count": 6,
   "metadata": {},
   "outputs": [],
   "source": [
    "num_neurons = 1000\n",
    "total_time = 1000\n",
    "\n",
    "num_ensembles_each_g = 2"
   ]
  },
  {
   "cell_type": "code",
   "execution_count": 7,
   "metadata": {},
   "outputs": [],
   "source": [
    "random_input_span = (3.5,13.5)"
   ]
  },
  {
   "cell_type": "code",
   "execution_count": 8,
   "metadata": {},
   "outputs": [],
   "source": [
    "connectivity_min,connectivity_max, connectivity_step =0.1, 5, 0.25\n",
    "connectivity_span = np.arange(connectivity_min,connectivity_max,connectivity_step)"
   ]
  },
  {
   "cell_type": "code",
   "execution_count": 9,
   "metadata": {},
   "outputs": [],
   "source": [
    "sync_param_record = np.zeros( shape = (len(connectivity_span),num_ensembles_each_g) )\n",
    "sigma_record = np.zeros( shape = (len(connectivity_span),num_ensembles_each_g) )\n",
    "neurons_mean_spiking_period = np.zeros( shape = (len(connectivity_span),num_ensembles_each_g,num_neurons) )"
   ]
  },
  {
   "cell_type": "markdown",
   "metadata": {},
   "source": [
    "## Creating various ensembles:"
   ]
  },
  {
   "cell_type": "code",
   "execution_count": 10,
   "metadata": {},
   "outputs": [
    {
     "name": "stderr",
     "output_type": "stream",
     "text": [
      "C:\\ProgramData\\Anaconda3\\lib\\site-packages\\ipykernel_launcher.py:1: TqdmDeprecationWarning: This function will be removed in tqdm==5.0.0\n",
      "Please use `tqdm.notebook.tqdm` instead of `tqdm.tqdm_notebook`\n",
      "  \"\"\"Entry point for launching an IPython kernel.\n"
     ]
    },
    {
     "data": {
      "application/vnd.jupyter.widget-view+json": {
       "model_id": "189d6193240f4545a63f666aa06b0052",
       "version_major": 2,
       "version_minor": 0
      },
      "text/plain": [
       "HBox(children=(FloatProgress(value=0.0, description='Variation of connectivities', max=20.0, style=ProgressSty…"
      ]
     },
     "metadata": {},
     "output_type": "display_data"
    },
    {
     "name": "stderr",
     "output_type": "stream",
     "text": [
      "C:\\ProgramData\\Anaconda3\\lib\\site-packages\\ipykernel_launcher.py:2: TqdmDeprecationWarning: This function will be removed in tqdm==5.0.0\n",
      "Please use `tqdm.notebook.tqdm` instead of `tqdm.tqdm_notebook`\n",
      "  \n"
     ]
    },
    {
     "data": {
      "application/vnd.jupyter.widget-view+json": {
       "model_id": "f4746044f489493cbfe124e66a1409af",
       "version_major": 2,
       "version_minor": 0
      },
      "text/plain": [
       "HBox(children=(FloatProgress(value=0.0, description='Making ensembles', max=2.0, style=ProgressStyle(descripti…"
      ]
     },
     "metadata": {},
     "output_type": "display_data"
    },
    {
     "name": "stderr",
     "output_type": "stream",
     "text": [
      "network dynamic:   0%|                                                                       | 0/99999 [00:00<?, ?it/s]C:\\ProgramData\\Anaconda3\\lib\\site-packages\\numpy\\core\\fromnumeric.py:3335: RuntimeWarning: Mean of empty slice.\n",
      "  out=out, **kwargs)\n",
      "C:\\ProgramData\\Anaconda3\\lib\\site-packages\\numpy\\core\\_methods.py:161: RuntimeWarning: invalid value encountered in double_scalars\n",
      "  ret = ret.dtype.type(ret / rcount)\n",
      "network dynamic: 100%|████████████████████████████████████████████████████████| 99999/99999 [00:08<00:00, 11770.03it/s]\n",
      "network dynamic: 100%|████████████████████████████████████████████████████████| 99999/99999 [00:09<00:00, 10773.89it/s]\n"
     ]
    },
    {
     "name": "stdout",
     "output_type": "stream",
     "text": [
      "\n"
     ]
    },
    {
     "data": {
      "application/vnd.jupyter.widget-view+json": {
       "model_id": "6daaa8fab9b64a94b51402ad6d470513",
       "version_major": 2,
       "version_minor": 0
      },
      "text/plain": [
       "HBox(children=(FloatProgress(value=0.0, description='Making ensembles', max=2.0, style=ProgressStyle(descripti…"
      ]
     },
     "metadata": {},
     "output_type": "display_data"
    },
    {
     "name": "stderr",
     "output_type": "stream",
     "text": [
      "network dynamic: 100%|█████████████████████████████████████████████████████████| 99999/99999 [00:10<00:00, 9338.32it/s]\n",
      "network dynamic: 100%|█████████████████████████████████████████████████████████| 99999/99999 [00:10<00:00, 9884.45it/s]"
     ]
    },
    {
     "name": "stdout",
     "output_type": "stream",
     "text": [
      "\n"
     ]
    },
    {
     "name": "stderr",
     "output_type": "stream",
     "text": [
      "\n"
     ]
    },
    {
     "data": {
      "application/vnd.jupyter.widget-view+json": {
       "model_id": "5d0bcc5a339941e6943db12ab2db5bc3",
       "version_major": 2,
       "version_minor": 0
      },
      "text/plain": [
       "HBox(children=(FloatProgress(value=0.0, description='Making ensembles', max=2.0, style=ProgressStyle(descripti…"
      ]
     },
     "metadata": {},
     "output_type": "display_data"
    },
    {
     "name": "stderr",
     "output_type": "stream",
     "text": [
      "network dynamic: 100%|█████████████████████████████████████████████████████████| 99999/99999 [00:12<00:00, 7925.03it/s]\n",
      "network dynamic: 100%|█████████████████████████████████████████████████████████| 99999/99999 [00:10<00:00, 9112.88it/s]"
     ]
    },
    {
     "name": "stdout",
     "output_type": "stream",
     "text": [
      "\n"
     ]
    },
    {
     "name": "stderr",
     "output_type": "stream",
     "text": [
      "\n"
     ]
    },
    {
     "data": {
      "application/vnd.jupyter.widget-view+json": {
       "model_id": "666df9793b0249e39d96f1a2099838aa",
       "version_major": 2,
       "version_minor": 0
      },
      "text/plain": [
       "HBox(children=(FloatProgress(value=0.0, description='Making ensembles', max=2.0, style=ProgressStyle(descripti…"
      ]
     },
     "metadata": {},
     "output_type": "display_data"
    },
    {
     "name": "stderr",
     "output_type": "stream",
     "text": [
      "network dynamic: 100%|█████████████████████████████████████████████████████████| 99999/99999 [00:12<00:00, 8262.19it/s]\n",
      "network dynamic: 100%|█████████████████████████████████████████████████████████| 99999/99999 [00:11<00:00, 8456.86it/s]"
     ]
    },
    {
     "name": "stdout",
     "output_type": "stream",
     "text": [
      "\n"
     ]
    },
    {
     "name": "stderr",
     "output_type": "stream",
     "text": [
      "\n"
     ]
    },
    {
     "data": {
      "application/vnd.jupyter.widget-view+json": {
       "model_id": "4f3b0cbf47bd436f9533264d98d98845",
       "version_major": 2,
       "version_minor": 0
      },
      "text/plain": [
       "HBox(children=(FloatProgress(value=0.0, description='Making ensembles', max=2.0, style=ProgressStyle(descripti…"
      ]
     },
     "metadata": {},
     "output_type": "display_data"
    },
    {
     "name": "stderr",
     "output_type": "stream",
     "text": [
      "network dynamic: 100%|█████████████████████████████████████████████████████████| 99999/99999 [00:12<00:00, 8225.57it/s]\n",
      "network dynamic: 100%|█████████████████████████████████████████████████████████| 99999/99999 [00:11<00:00, 8508.58it/s]"
     ]
    },
    {
     "name": "stdout",
     "output_type": "stream",
     "text": [
      "\n"
     ]
    },
    {
     "name": "stderr",
     "output_type": "stream",
     "text": [
      "\n"
     ]
    },
    {
     "data": {
      "application/vnd.jupyter.widget-view+json": {
       "model_id": "df19d34e6d6845ff857e65e937ddd9f2",
       "version_major": 2,
       "version_minor": 0
      },
      "text/plain": [
       "HBox(children=(FloatProgress(value=0.0, description='Making ensembles', max=2.0, style=ProgressStyle(descripti…"
      ]
     },
     "metadata": {},
     "output_type": "display_data"
    },
    {
     "name": "stderr",
     "output_type": "stream",
     "text": [
      "network dynamic: 100%|█████████████████████████████████████████████████████████| 99999/99999 [00:11<00:00, 8870.88it/s]\n",
      "network dynamic: 100%|█████████████████████████████████████████████████████████| 99999/99999 [00:12<00:00, 7984.57it/s]"
     ]
    },
    {
     "name": "stdout",
     "output_type": "stream",
     "text": [
      "\n"
     ]
    },
    {
     "name": "stderr",
     "output_type": "stream",
     "text": [
      "\n"
     ]
    },
    {
     "data": {
      "application/vnd.jupyter.widget-view+json": {
       "model_id": "045b303fd01043e198cee983480a054c",
       "version_major": 2,
       "version_minor": 0
      },
      "text/plain": [
       "HBox(children=(FloatProgress(value=0.0, description='Making ensembles', max=2.0, style=ProgressStyle(descripti…"
      ]
     },
     "metadata": {},
     "output_type": "display_data"
    },
    {
     "name": "stderr",
     "output_type": "stream",
     "text": [
      "network dynamic: 100%|█████████████████████████████████████████████████████████| 99999/99999 [00:11<00:00, 9059.49it/s]\n",
      "network dynamic: 100%|█████████████████████████████████████████████████████████| 99999/99999 [00:12<00:00, 7853.11it/s]"
     ]
    },
    {
     "name": "stdout",
     "output_type": "stream",
     "text": [
      "\n"
     ]
    },
    {
     "name": "stderr",
     "output_type": "stream",
     "text": [
      "\n"
     ]
    },
    {
     "data": {
      "application/vnd.jupyter.widget-view+json": {
       "model_id": "0d5559abcc724902953efb1e17705016",
       "version_major": 2,
       "version_minor": 0
      },
      "text/plain": [
       "HBox(children=(FloatProgress(value=0.0, description='Making ensembles', max=2.0, style=ProgressStyle(descripti…"
      ]
     },
     "metadata": {},
     "output_type": "display_data"
    },
    {
     "name": "stderr",
     "output_type": "stream",
     "text": [
      "network dynamic: 100%|█████████████████████████████████████████████████████████| 99999/99999 [00:10<00:00, 9330.48it/s]\n",
      "network dynamic: 100%|████████████████████████████████████████████████████████| 99999/99999 [00:08<00:00, 11224.51it/s]"
     ]
    },
    {
     "name": "stdout",
     "output_type": "stream",
     "text": [
      "\n"
     ]
    },
    {
     "name": "stderr",
     "output_type": "stream",
     "text": [
      "\n"
     ]
    },
    {
     "data": {
      "application/vnd.jupyter.widget-view+json": {
       "model_id": "bbd5ddbfe3aa490087ae584790b8c547",
       "version_major": 2,
       "version_minor": 0
      },
      "text/plain": [
       "HBox(children=(FloatProgress(value=0.0, description='Making ensembles', max=2.0, style=ProgressStyle(descripti…"
      ]
     },
     "metadata": {},
     "output_type": "display_data"
    },
    {
     "name": "stderr",
     "output_type": "stream",
     "text": [
      "network dynamic: 100%|████████████████████████████████████████████████████████| 99999/99999 [00:09<00:00, 11092.23it/s]\n",
      "network dynamic: 100%|████████████████████████████████████████████████████████| 99999/99999 [00:08<00:00, 11156.79it/s]"
     ]
    },
    {
     "name": "stdout",
     "output_type": "stream",
     "text": [
      "\n"
     ]
    },
    {
     "name": "stderr",
     "output_type": "stream",
     "text": [
      "\n"
     ]
    },
    {
     "data": {
      "application/vnd.jupyter.widget-view+json": {
       "model_id": "c5bd19fcdf5f49fda55bd3ab278f05a1",
       "version_major": 2,
       "version_minor": 0
      },
      "text/plain": [
       "HBox(children=(FloatProgress(value=0.0, description='Making ensembles', max=2.0, style=ProgressStyle(descripti…"
      ]
     },
     "metadata": {},
     "output_type": "display_data"
    },
    {
     "name": "stderr",
     "output_type": "stream",
     "text": [
      "network dynamic: 100%|█████████████████████████████████████████████████████████| 99999/99999 [00:13<00:00, 7655.37it/s]\n",
      "network dynamic: 100%|█████████████████████████████████████████████████████████| 99999/99999 [00:10<00:00, 9377.26it/s]"
     ]
    },
    {
     "name": "stdout",
     "output_type": "stream",
     "text": [
      "\n"
     ]
    },
    {
     "name": "stderr",
     "output_type": "stream",
     "text": [
      "\n"
     ]
    },
    {
     "data": {
      "application/vnd.jupyter.widget-view+json": {
       "model_id": "83f3e75a296e497fab891728855b33b5",
       "version_major": 2,
       "version_minor": 0
      },
      "text/plain": [
       "HBox(children=(FloatProgress(value=0.0, description='Making ensembles', max=2.0, style=ProgressStyle(descripti…"
      ]
     },
     "metadata": {},
     "output_type": "display_data"
    },
    {
     "name": "stderr",
     "output_type": "stream",
     "text": [
      "network dynamic: 100%|█████████████████████████████████████████████████████████| 99999/99999 [00:12<00:00, 7760.75it/s]\n",
      "network dynamic: 100%|█████████████████████████████████████████████████████████| 99999/99999 [00:10<00:00, 9427.60it/s]"
     ]
    },
    {
     "name": "stdout",
     "output_type": "stream",
     "text": [
      "\n"
     ]
    },
    {
     "name": "stderr",
     "output_type": "stream",
     "text": [
      "\n"
     ]
    },
    {
     "data": {
      "application/vnd.jupyter.widget-view+json": {
       "model_id": "ca95e4f9d88a46f3aea2cf61c9f7df07",
       "version_major": 2,
       "version_minor": 0
      },
      "text/plain": [
       "HBox(children=(FloatProgress(value=0.0, description='Making ensembles', max=2.0, style=ProgressStyle(descripti…"
      ]
     },
     "metadata": {},
     "output_type": "display_data"
    },
    {
     "name": "stderr",
     "output_type": "stream",
     "text": [
      "network dynamic: 100%|█████████████████████████████████████████████████████████| 99999/99999 [00:12<00:00, 7788.73it/s]\n",
      "C:\\Users\\mohsen\\Documents\\Master journey\\master_thesis\\scripts\\all_neurons_model_in_one_place\\network_reference.py:93: RuntimeWarning: invalid value encountered in true_divide\n",
      "  self.spikies_period_mean = self.total_spikes_intervals * self.time_step / self.total_spikes_num\n",
      "network dynamic: 100%|█████████████████████████████████████████████████████████| 99999/99999 [00:10<00:00, 9362.64it/s]"
     ]
    },
    {
     "name": "stdout",
     "output_type": "stream",
     "text": [
      "\n"
     ]
    },
    {
     "name": "stderr",
     "output_type": "stream",
     "text": [
      "\n"
     ]
    },
    {
     "data": {
      "application/vnd.jupyter.widget-view+json": {
       "model_id": "c410705daac245b1b33b8ede43b02b9d",
       "version_major": 2,
       "version_minor": 0
      },
      "text/plain": [
       "HBox(children=(FloatProgress(value=0.0, description='Making ensembles', max=2.0, style=ProgressStyle(descripti…"
      ]
     },
     "metadata": {},
     "output_type": "display_data"
    },
    {
     "name": "stderr",
     "output_type": "stream",
     "text": [
      "network dynamic: 100%|█████████████████████████████████████████████████████████| 99999/99999 [00:12<00:00, 7883.23it/s]\n",
      "network dynamic: 100%|█████████████████████████████████████████████████████████| 99999/99999 [00:11<00:00, 8871.71it/s]"
     ]
    },
    {
     "name": "stdout",
     "output_type": "stream",
     "text": [
      "\n"
     ]
    },
    {
     "name": "stderr",
     "output_type": "stream",
     "text": [
      "\n"
     ]
    },
    {
     "data": {
      "application/vnd.jupyter.widget-view+json": {
       "model_id": "3832e4446721456eb2adf158cd92a151",
       "version_major": 2,
       "version_minor": 0
      },
      "text/plain": [
       "HBox(children=(FloatProgress(value=0.0, description='Making ensembles', max=2.0, style=ProgressStyle(descripti…"
      ]
     },
     "metadata": {},
     "output_type": "display_data"
    },
    {
     "name": "stderr",
     "output_type": "stream",
     "text": [
      "network dynamic: 100%|█████████████████████████████████████████████████████████| 99999/99999 [00:12<00:00, 8288.75it/s]\n",
      "network dynamic: 100%|█████████████████████████████████████████████████████████| 99999/99999 [00:11<00:00, 8549.26it/s]"
     ]
    },
    {
     "name": "stdout",
     "output_type": "stream",
     "text": [
      "\n"
     ]
    },
    {
     "name": "stderr",
     "output_type": "stream",
     "text": [
      "\n"
     ]
    },
    {
     "data": {
      "application/vnd.jupyter.widget-view+json": {
       "model_id": "1174565c15114826bfcd44d9b963e767",
       "version_major": 2,
       "version_minor": 0
      },
      "text/plain": [
       "HBox(children=(FloatProgress(value=0.0, description='Making ensembles', max=2.0, style=ProgressStyle(descripti…"
      ]
     },
     "metadata": {},
     "output_type": "display_data"
    },
    {
     "name": "stderr",
     "output_type": "stream",
     "text": [
      "network dynamic: 100%|█████████████████████████████████████████████████████████| 99999/99999 [00:10<00:00, 9315.34it/s]\n",
      "network dynamic: 100%|█████████████████████████████████████████████████████████| 99999/99999 [00:12<00:00, 8027.21it/s]"
     ]
    },
    {
     "name": "stdout",
     "output_type": "stream",
     "text": [
      "\n"
     ]
    },
    {
     "name": "stderr",
     "output_type": "stream",
     "text": [
      "\n"
     ]
    },
    {
     "data": {
      "application/vnd.jupyter.widget-view+json": {
       "model_id": "6044836a6b3f40bb8186aedf3a6471ac",
       "version_major": 2,
       "version_minor": 0
      },
      "text/plain": [
       "HBox(children=(FloatProgress(value=0.0, description='Making ensembles', max=2.0, style=ProgressStyle(descripti…"
      ]
     },
     "metadata": {},
     "output_type": "display_data"
    },
    {
     "name": "stderr",
     "output_type": "stream",
     "text": [
      "network dynamic: 100%|█████████████████████████████████████████████████████████| 99999/99999 [00:10<00:00, 9566.22it/s]\n",
      "network dynamic: 100%|█████████████████████████████████████████████████████████| 99999/99999 [00:12<00:00, 7774.68it/s]"
     ]
    },
    {
     "name": "stdout",
     "output_type": "stream",
     "text": [
      "\n"
     ]
    },
    {
     "name": "stderr",
     "output_type": "stream",
     "text": [
      "\n"
     ]
    },
    {
     "data": {
      "application/vnd.jupyter.widget-view+json": {
       "model_id": "4e2377bb4d1a4bc982a65d05342249db",
       "version_major": 2,
       "version_minor": 0
      },
      "text/plain": [
       "HBox(children=(FloatProgress(value=0.0, description='Making ensembles', max=2.0, style=ProgressStyle(descripti…"
      ]
     },
     "metadata": {},
     "output_type": "display_data"
    },
    {
     "name": "stderr",
     "output_type": "stream",
     "text": [
      "network dynamic: 100%|█████████████████████████████████████████████████████████| 99999/99999 [00:10<00:00, 9514.95it/s]\n",
      "network dynamic: 100%|█████████████████████████████████████████████████████████| 99999/99999 [00:10<00:00, 9117.39it/s]"
     ]
    },
    {
     "name": "stdout",
     "output_type": "stream",
     "text": [
      "\n"
     ]
    },
    {
     "name": "stderr",
     "output_type": "stream",
     "text": [
      "\n"
     ]
    },
    {
     "data": {
      "application/vnd.jupyter.widget-view+json": {
       "model_id": "ecd6315e15fc492081bb6ad5f28f8857",
       "version_major": 2,
       "version_minor": 0
      },
      "text/plain": [
       "HBox(children=(FloatProgress(value=0.0, description='Making ensembles', max=2.0, style=ProgressStyle(descripti…"
      ]
     },
     "metadata": {},
     "output_type": "display_data"
    },
    {
     "name": "stderr",
     "output_type": "stream",
     "text": [
      "network dynamic: 100%|█████████████████████████████████████████████████████████| 99999/99999 [00:11<00:00, 8387.92it/s]\n",
      "network dynamic: 100%|█████████████████████████████████████████████████████████| 99999/99999 [00:10<00:00, 9394.96it/s]"
     ]
    },
    {
     "name": "stdout",
     "output_type": "stream",
     "text": [
      "\n"
     ]
    },
    {
     "name": "stderr",
     "output_type": "stream",
     "text": [
      "\n"
     ]
    },
    {
     "data": {
      "application/vnd.jupyter.widget-view+json": {
       "model_id": "f2512875e040425c91cefe8d8c99f9ff",
       "version_major": 2,
       "version_minor": 0
      },
      "text/plain": [
       "HBox(children=(FloatProgress(value=0.0, description='Making ensembles', max=2.0, style=ProgressStyle(descripti…"
      ]
     },
     "metadata": {},
     "output_type": "display_data"
    },
    {
     "name": "stderr",
     "output_type": "stream",
     "text": [
      "network dynamic: 100%|█████████████████████████████████████████████████████████| 99999/99999 [00:12<00:00, 7941.54it/s]\n",
      "network dynamic: 100%|█████████████████████████████████████████████████████████| 99999/99999 [00:10<00:00, 9672.36it/s]"
     ]
    },
    {
     "name": "stdout",
     "output_type": "stream",
     "text": [
      "\n"
     ]
    },
    {
     "name": "stderr",
     "output_type": "stream",
     "text": [
      "\n"
     ]
    },
    {
     "data": {
      "application/vnd.jupyter.widget-view+json": {
       "model_id": "a80ded188dc24528886ead134ddb3ec2",
       "version_major": 2,
       "version_minor": 0
      },
      "text/plain": [
       "HBox(children=(FloatProgress(value=0.0, description='Making ensembles', max=2.0, style=ProgressStyle(descripti…"
      ]
     },
     "metadata": {},
     "output_type": "display_data"
    },
    {
     "name": "stderr",
     "output_type": "stream",
     "text": [
      "network dynamic: 100%|█████████████████████████████████████████████████████████| 99999/99999 [00:11<00:00, 8538.05it/s]\n",
      "network dynamic: 100%|█████████████████████████████████████████████████████████| 99999/99999 [00:11<00:00, 9056.87it/s]"
     ]
    },
    {
     "name": "stdout",
     "output_type": "stream",
     "text": [
      "\n",
      "\n"
     ]
    },
    {
     "name": "stderr",
     "output_type": "stream",
     "text": [
      "\n"
     ]
    }
   ],
   "source": [
    "for i,connectivity in enumerate(tqdm( connectivity_span , desc='Variation of connectivities') ):\n",
    "    for j in tqdm( range(num_ensembles_each_g) , desc='Making ensembles'):\n",
    "        sample_model = Network_of_neurons(num_neurons=num_neurons,g=connectivity)\n",
    "        sample_model.ignite(random_input_span,total_time = total_time)\n",
    "\n",
    "#         sync_param_record[i][j] = sample_model.report_sync_parameter()\n",
    "        sigma_record[i][j] = sample_model.report_sigma()\n",
    "        neurons_mean_spiking_period[i][j] = sample_model.report_spikies_period_mean()"
   ]
  },
  {
   "cell_type": "code",
   "execution_count": null,
   "metadata": {},
   "outputs": [],
   "source": []
  },
  {
   "cell_type": "markdown",
   "metadata": {},
   "source": [
    "# Results saving unit"
   ]
  },
  {
   "cell_type": "code",
   "execution_count": 11,
   "metadata": {},
   "outputs": [],
   "source": [
    "path = os.path.join(neuron_model + '_ensembles','N{}_T{}_g_{}_{}_{}'.format(num_neurons,total_time,connectivity_min,connectivity_max,connectivity_step))\n",
    "try:\n",
    "    os.makedirs(path)\n",
    "except:\n",
    "    pass"
   ]
  },
  {
   "cell_type": "code",
   "execution_count": 12,
   "metadata": {},
   "outputs": [],
   "source": [
    "# sigma_record = connectivity_record\n",
    "np.save(os.path.join(path,'sync_param_records.npy'), sync_param_record)\n",
    "np.save(os.path.join(path,'sigma_records.npy'), sigma_record)\n",
    "np.save(os.path.join(path,'neurons_mean_spiking_period.npy'), neurons_mean_spiking_period)"
   ]
  },
  {
   "cell_type": "code",
   "execution_count": null,
   "metadata": {},
   "outputs": [],
   "source": []
  },
  {
   "cell_type": "markdown",
   "metadata": {},
   "source": [
    "## Brief data evaluation"
   ]
  },
  {
   "cell_type": "code",
   "execution_count": 13,
   "metadata": {},
   "outputs": [
    {
     "data": {
      "image/png": "[encoded data removed]",
      "text/plain": [
       "<Figure size 432x288 with 1 Axes>"
      ]
     },
     "metadata": {
      "needs_background": "light"
     },
     "output_type": "display_data"
    }
   ],
   "source": [
    "fig = plt.figure()\n",
    "ax = fig.subplots()\n",
    "ax.errorbar(x = connectivity_span, y = np.mean(sync_param_record,axis = 1),yerr = np.var(sync_param_record,axis = 1)**(0.5))\n",
    "# ax.set_title('$\\sigma$')\n",
    "ax.set_xlabel('g as connectivity')\n",
    "ax.set_ylabel('$\\sum \\frac{sin\\theta_i}{N}$')\n",
    "fig.savefig(os.path.join(path, 'synchoronization.png'))"
   ]
  },
  {
   "cell_type": "code",
   "execution_count": 14,
   "metadata": {},
   "outputs": [
    {
     "data": {
      "image/png": "[encoded data removed]",
      "text/plain": [
       "<Figure size 432x288 with 1 Axes>"
      ]
     },
     "metadata": {
      "needs_background": "light"
     },
     "output_type": "display_data"
    }
   ],
   "source": [
    "fig = plt.figure()\n",
    "ax = fig.subplots()\n",
    "ax.errorbar(x = connectivity_span, y = np.mean(sigma_record,axis = 1),yerr = np.var(sigma_record,axis = 1)**(0.5))\n",
    "# ax.set_title('$\\sigma$')\n",
    "ax.set_xlabel('g as connectivity')\n",
    "ax.set_ylabel('$\\sigma$')\n",
    "fig.savefig(os.path.join(path, 'sigma_as_synchoronization_meter.png'))"
   ]
  }
 ],
 "metadata": {
  "kernelspec": {
   "display_name": "Python 3",
   "language": "python",
   "name": "python3"
  },
  "language_info": {
   "codemirror_mode": {
    "name": "ipython",
    "version": 3
   },
   "file_extension": ".py",
   "mimetype": "text/x-python",
   "name": "python",
   "nbconvert_exporter": "python",
   "pygments_lexer": "ipython3",
   "version": "3.7.6"
  }
 },
 "nbformat": 4,
 "nbformat_minor": 4
}
