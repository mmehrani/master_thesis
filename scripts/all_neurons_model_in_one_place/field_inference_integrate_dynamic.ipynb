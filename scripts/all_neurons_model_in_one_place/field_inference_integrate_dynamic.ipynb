{
 "cells": [
  {
   "cell_type": "markdown",
   "id": "d68748e1",
   "metadata": {},
   "source": [
    "# Field inference"
   ]
  },
  {
   "cell_type": "code",
   "execution_count": 1,
   "id": "1bcefebf",
   "metadata": {},
   "outputs": [],
   "source": [
    "import numpy as np\n",
    "import matplotlib.pyplot as plt\n",
    "from scipy.special import gammainc\n",
    "import seaborn as sns"
   ]
  },
  {
   "cell_type": "code",
   "execution_count": 2,
   "id": "586bec95",
   "metadata": {},
   "outputs": [],
   "source": [
    "from scipy.signal import argrelextrema, find_peaks"
   ]
  },
  {
   "cell_type": "code",
   "execution_count": 3,
   "id": "7c172812",
   "metadata": {},
   "outputs": [],
   "source": [
    "sns.set_theme(context='paper', font= 'Serif', style = 'ticks')"
   ]
  },
  {
   "cell_type": "code",
   "execution_count": 4,
   "id": "12934697",
   "metadata": {},
   "outputs": [],
   "source": [
    "a = 9.5\n",
    "g = 10\n",
    "d = 0.1\n",
    "alpha = 10\n",
    "\n",
    "time_step = 0.01\n",
    "total_time = 50\n",
    "\n",
    "time_arr = np.arange(0,total_time,time_step)"
   ]
  },
  {
   "cell_type": "code",
   "execution_count": 5,
   "id": "c58902fe",
   "metadata": {},
   "outputs": [],
   "source": [
    "a_bar = a/(2*np.pi)\n",
    "g_bar = g/(2*np.pi)"
   ]
  },
  {
   "cell_type": "code",
   "execution_count": 6,
   "id": "0d210122",
   "metadata": {},
   "outputs": [],
   "source": [
    "def set_initial_states(initial_value, initial_time_period, field_arr):\n",
    "    initial_step = int(initial_time_period//time_step)\n",
    "    field_arr[0:initial_step] = initial_value\n",
    "    return field_arr\n",
    "\n",
    "def field_avg_over_tau(field_arr, t, tau):\n",
    "    steps = int(tau//time_step)\n",
    "    ind = int(t//time_step)\n",
    "    return np.average(field_arr[ind-steps:ind])"
   ]
  },
  {
   "cell_type": "code",
   "execution_count": null,
   "id": "7751ab1c",
   "metadata": {},
   "outputs": [],
   "source": []
  },
  {
   "cell_type": "code",
   "execution_count": 7,
   "id": "3dd66138",
   "metadata": {},
   "outputs": [],
   "source": [
    "# epsilon = 0.00\n",
    "tau = 1 / alpha\n",
    "e_0 = a_bar/(1 + g_bar)\n",
    "\n",
    "initial_e = e_0 + 0.01\n",
    "epsilon = initial_e - e_0\n",
    "\n",
    "field_arr = np.zeros_like(time_arr)\n",
    "\n",
    "reset_time = 0 #last moment when e touched the ground"
   ]
  },
  {
   "cell_type": "code",
   "execution_count": null,
   "id": "963f9fa5",
   "metadata": {},
   "outputs": [],
   "source": []
  },
  {
   "cell_type": "markdown",
   "id": "bbb497ab",
   "metadata": {},
   "source": [
    "$$ E(t) = \\bar{a} -  \\bar{g}  \\int_0^{\\tau} E(t-d -s) ds /\\tau $$"
   ]
  },
  {
   "cell_type": "code",
   "execution_count": 8,
   "id": "40e39d9a",
   "metadata": {},
   "outputs": [],
   "source": [
    "for ind,t in enumerate(time_arr):\n",
    "    if t < 2*max(d,tau):\n",
    "        field_arr[ind] = initial_e\n",
    "        continue\n",
    "    field_arr[ind] = a_bar - g_bar * field_avg_over_tau(field_arr, t - d, tau)"
   ]
  },
  {
   "cell_type": "code",
   "execution_count": 9,
   "id": "abf092da",
   "metadata": {},
   "outputs": [
    {
     "data": {
      "text/plain": [
       "array([5.93423932e-01, 5.93423932e-01, 5.93423932e-01, ...,\n",
       "       1.06247868e+38, 9.23135440e+37, 9.23135440e+37])"
      ]
     },
     "execution_count": 9,
     "metadata": {},
     "output_type": "execute_result"
    }
   ],
   "source": [
    "field_arr"
   ]
  },
  {
   "cell_type": "code",
   "execution_count": 10,
   "id": "fa78b54d",
   "metadata": {},
   "outputs": [
    {
     "data": {
      "text/plain": [
       "[<matplotlib.lines.Line2D at 0x1ad1476c640>]"
      ]
     },
     "execution_count": 10,
     "metadata": {},
     "output_type": "execute_result"
    },
    {
     "data": {
      "image/png": "[encoded data removed]",
      "text/plain": [
       "<Figure size 432x288 with 1 Axes>"
      ]
     },
     "metadata": {},
     "output_type": "display_data"
    }
   ],
   "source": [
    "fig = plt.figure()\n",
    "ax = fig.add_subplot()\n",
    "\n",
    "ax.set_title('Analytical field inference')\n",
    "ax.set_xlabel('Time (s)')\n",
    "ax.set_ylabel('Field')\n",
    "\n",
    "ax.plot(time_arr, field_arr)"
   ]
  },
  {
   "cell_type": "code",
   "execution_count": null,
   "id": "13970a88",
   "metadata": {},
   "outputs": [],
   "source": []
  },
  {
   "cell_type": "code",
   "execution_count": null,
   "id": "b2d20cf6",
   "metadata": {},
   "outputs": [],
   "source": []
  },
  {
   "cell_type": "code",
   "execution_count": null,
   "id": "2219fca1",
   "metadata": {},
   "outputs": [],
   "source": []
  },
  {
   "cell_type": "code",
   "execution_count": null,
   "id": "13bedc69",
   "metadata": {},
   "outputs": [],
   "source": []
  },
  {
   "cell_type": "code",
   "execution_count": null,
   "id": "ec68c6fa",
   "metadata": {},
   "outputs": [],
   "source": []
  },
  {
   "cell_type": "markdown",
   "id": "13aa9e1c",
   "metadata": {},
   "source": [
    "# Phase diagram"
   ]
  },
  {
   "cell_type": "code",
   "execution_count": 11,
   "id": "5baaba97",
   "metadata": {},
   "outputs": [],
   "source": [
    "def roof_func(array, roof):\n",
    "    array[array>roof] = roof\n",
    "    return array"
   ]
  },
  {
   "cell_type": "code",
   "execution_count": 12,
   "id": "708f0f9f",
   "metadata": {},
   "outputs": [],
   "source": [
    "time_step = 0.01\n",
    "total_time = 30\n",
    "\n",
    "time_arr = np.arange(0.01,total_time,time_step)"
   ]
  },
  {
   "cell_type": "code",
   "execution_count": 13,
   "id": "a8c59468",
   "metadata": {},
   "outputs": [
    {
     "data": {
      "text/plain": [
       "0.1"
      ]
     },
     "execution_count": 13,
     "metadata": {},
     "output_type": "execute_result"
    }
   ],
   "source": [
    "tau"
   ]
  },
  {
   "cell_type": "code",
   "execution_count": 14,
   "id": "3da061b3",
   "metadata": {},
   "outputs": [],
   "source": [
    "g_arr = np.arange(0.1,15.1,0.5)\n",
    "delay_arr = np.arange(0.01,1,0.05)\n",
    "\n",
    "sigma_arr = np.zeros((g_arr.shape[0], delay_arr.shape[0]))\n",
    "mean_arr = np.zeros((g_arr.shape[0], delay_arr.shape[0]))\n",
    "check_arr = np.zeros((g_arr.shape[0], delay_arr.shape[0]), dtype = bool)\n",
    "diff_arr = np.zeros((g_arr.shape[0], delay_arr.shape[0]))"
   ]
  },
  {
   "cell_type": "code",
   "execution_count": 15,
   "id": "7a3e7f5e",
   "metadata": {},
   "outputs": [],
   "source": [
    "for i,g in enumerate(g_arr):\n",
    "    for j,d in enumerate(delay_arr):\n",
    "        field_arr = np.zeros_like(time_arr)\n",
    "        e_0 = a/(2*np.pi + g)\n",
    "        g_bar = g/(2*np.pi)\n",
    "\n",
    "        initial_e = e_0 + 0.1\n",
    "        epsilon = initial_e - e_0\n",
    "        \n",
    "        for ind,t in enumerate(time_arr):\n",
    "            if t < 2*max(d,tau):\n",
    "                field_arr[ind] = initial_e\n",
    "                continue\n",
    "            field_arr[ind] = a_bar - g_bar * field_avg_over_tau(field_arr, t - d, tau)\n",
    "        \n",
    "        \n",
    "        last_ind = int(2*d//time_step)\n",
    "        sigma_arr[i,j] = np.std(field_arr[-last_ind:])\n",
    "        mean_arr[i,j] = np.mean(field_arr[-last_ind:])\n",
    "        \n",
    "        indexes = np.unique(field_arr, return_index=True)[1]\n",
    "        field_arr_unique = np.array( [field_arr[index] for index in sorted(indexes)] )\n",
    "        local_peaks =  argrelextrema(field_arr_unique, np.greater)[0]\n",
    "        if len(local_peaks) in [0,1]:\n",
    "            check_arr[i,j] = False\n",
    "        elif field_arr_unique[ local_peaks[-1] ]  > field_arr_unique[ local_peaks[-2] ]:\n",
    "            check_arr[i,j] = True\n",
    "\n"
   ]
  },
  {
   "cell_type": "code",
   "execution_count": 16,
   "id": "283dc4c8",
   "metadata": {},
   "outputs": [
    {
     "data": {
      "text/plain": [
       "[<matplotlib.lines.Line2D at 0x1ad14874070>]"
      ]
     },
     "execution_count": 16,
     "metadata": {},
     "output_type": "execute_result"
    },
    {
     "data": {
      "image/png": "[encoded data removed]",
      "text/plain": [
       "<Figure size 432x288 with 1 Axes>"
      ]
     },
     "metadata": {},
     "output_type": "display_data"
    }
   ],
   "source": [
    "plt.plot(time_arr, field_arr)"
   ]
  },
  {
   "cell_type": "code",
   "execution_count": 17,
   "id": "e9efdf55",
   "metadata": {},
   "outputs": [
    {
     "data": {
      "text/plain": [
       "array([1353, 1557, 1758, 2364, 2565, 2766], dtype=int64)"
      ]
     },
     "execution_count": 17,
     "metadata": {},
     "output_type": "execute_result"
    }
   ],
   "source": [
    "argrelextrema(field_arr, np.greater)[0]\n",
    "# sns.heatmap(roof_func(sigma_arr.T,10), xticklabels=g_arr, yticklabels=delay_arr[::-1])"
   ]
  },
  {
   "cell_type": "code",
   "execution_count": 18,
   "id": "bdf9c268",
   "metadata": {},
   "outputs": [
    {
     "data": {
      "text/plain": [
       "<AxesSubplot:>"
      ]
     },
     "execution_count": 18,
     "metadata": {},
     "output_type": "execute_result"
    },
    {
     "data": {
      "image/png": "[encoded data removed]",
      "text/plain": [
       "<Figure size 432x288 with 2 Axes>"
      ]
     },
     "metadata": {},
     "output_type": "display_data"
    }
   ],
   "source": [
    "sns.heatmap(roof_func(sigma_arr,10), xticklabels=np.round(delay_arr,2), yticklabels=np.round(g_arr,2))"
   ]
  },
  {
   "cell_type": "code",
   "execution_count": 19,
   "id": "e5286235",
   "metadata": {},
   "outputs": [],
   "source": [
    "# sns.heatmap(check_arr,xticklabels=np.round(delay_arr,2), yticklabels=np.round(g_arr,2))"
   ]
  },
  {
   "cell_type": "code",
   "execution_count": null,
   "id": "728b879c",
   "metadata": {},
   "outputs": [],
   "source": []
  },
  {
   "cell_type": "code",
   "execution_count": null,
   "id": "e0659058",
   "metadata": {},
   "outputs": [],
   "source": []
  },
  {
   "cell_type": "code",
   "execution_count": null,
   "id": "b89d2785",
   "metadata": {},
   "outputs": [],
   "source": []
  },
  {
   "cell_type": "code",
   "execution_count": null,
   "id": "7e750279",
   "metadata": {},
   "outputs": [],
   "source": []
  },
  {
   "cell_type": "code",
   "execution_count": null,
   "id": "fba4cbeb",
   "metadata": {},
   "outputs": [],
   "source": []
  }
 ],
 "metadata": {
  "kernelspec": {
   "display_name": "Python 3 (ipykernel)",
   "language": "python",
   "name": "python3"
  },
  "language_info": {
   "codemirror_mode": {
    "name": "ipython",
    "version": 3
   },
   "file_extension": ".py",
   "mimetype": "text/x-python",
   "name": "python",
   "nbconvert_exporter": "python",
   "pygments_lexer": "ipython3",
   "version": "3.9.7"
  }
 },
 "nbformat": 4,
 "nbformat_minor": 5
}
