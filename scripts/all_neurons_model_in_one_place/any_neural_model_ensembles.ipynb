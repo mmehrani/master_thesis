{
 "cells": [
  {
   "cell_type": "markdown",
   "metadata": {},
   "source": [
    "# Neural networks simulation (Synchronization Problem)"
   ]
  },
  {
   "cell_type": "markdown",
   "metadata": {},
   "source": [
    "This file is going to study any neural netwrok class which is defined in the `<network_reference.py>` file."
   ]
  },
  {
   "cell_type": "code",
   "execution_count": 1,
   "metadata": {},
   "outputs": [],
   "source": [
    "import numpy as np\n",
    "from tqdm import tqdm\n",
    "import matplotlib.pyplot as plt\n",
    "import os"
   ]
  },
  {
   "cell_type": "code",
   "execution_count": 2,
   "metadata": {},
   "outputs": [],
   "source": [
    "%%capture\n",
    "from tqdm import tqdm_notebook as tqdm\n",
    "tqdm().pandas() #This line make sure that the progress bars looks natural"
   ]
  },
  {
   "cell_type": "markdown",
   "metadata": {},
   "source": [
    "## Order your neuron model of interest"
   ]
  },
  {
   "cell_type": "code",
   "execution_count": 3,
   "metadata": {},
   "outputs": [],
   "source": [
    "current_models = ['IF','Rotational','Non_repulsive_rotational']\n",
    "neuron_model = current_models[2]\n",
    "\n",
    "with open(\"network_reference.py\") as net_ref: \n",
    "    lines = net_ref.readlines() #read \n",
    " \n",
    "    #modify \n",
    "    lines[0] = \"neuron_engine = '{}'\\n\".format(neuron_model) #you can replace zero with any line number. \n",
    " \n",
    "with open(\"network_reference.py\", \"w\") as net_ref: \n",
    "    net_ref.writelines(lines) #write back "
   ]
  },
  {
   "cell_type": "code",
   "execution_count": 4,
   "metadata": {},
   "outputs": [],
   "source": [
    "from network_reference import Network_of_neurons"
   ]
  },
  {
   "cell_type": "markdown",
   "metadata": {},
   "source": [
    "## Parameters and constants"
   ]
  },
  {
   "cell_type": "code",
   "execution_count": 5,
   "metadata": {},
   "outputs": [],
   "source": [
    "num_neurons = 10000\n",
    "total_time = 100\n",
    "\n",
    "num_ensembles_each_g = 1"
   ]
  },
  {
   "cell_type": "code",
   "execution_count": 6,
   "metadata": {},
   "outputs": [],
   "source": [
    "random_input_span = (9.5,13.5)\n",
    "# random_input_span = (9.5,9.5)\n",
    "# random_input_span = (1.2,2.8)"
   ]
  },
  {
   "cell_type": "code",
   "execution_count": 7,
   "metadata": {},
   "outputs": [],
   "source": [
    "connectivity_min,connectivity_max, connectivity_step = 0,15, 1\n",
    "connectivity_span = np.arange(connectivity_min,connectivity_max,connectivity_step).round(2)"
   ]
  },
  {
   "cell_type": "code",
   "execution_count": 8,
   "metadata": {},
   "outputs": [],
   "source": [
    "delay_min, delay_max, delay_step =0.0, 2.5, 0.25\n",
    "delay_span = np.arange(delay_min, delay_max, delay_step).round(2)"
   ]
  },
  {
   "cell_type": "code",
   "execution_count": 9,
   "metadata": {},
   "outputs": [
    {
     "data": {
      "text/plain": [
       "array([ 20, 100])"
      ]
     },
     "execution_count": 9,
     "metadata": {},
     "output_type": "execute_result"
    }
   ],
   "source": [
    "alpha_min, alpha_max, alpha_step = 20, 101, 80\n",
    "alpha_span = np.arange(alpha_min, alpha_max, alpha_step).round(2)\n",
    "# a1 = np.logspace(0, 1,num = 2)\n",
    "# a2 = np.arange(1,10,1)\n",
    "# alpha_span = np.outer(a1, a2).flatten()\n",
    "alpha_span"
   ]
  },
  {
   "cell_type": "code",
   "execution_count": null,
   "metadata": {},
   "outputs": [],
   "source": []
  },
  {
   "cell_type": "code",
   "execution_count": null,
   "metadata": {},
   "outputs": [],
   "source": []
  },
  {
   "cell_type": "code",
   "execution_count": null,
   "metadata": {},
   "outputs": [],
   "source": []
  },
  {
   "cell_type": "markdown",
   "metadata": {},
   "source": [
    "## Prepare the storage to record the outputs"
   ]
  },
  {
   "cell_type": "code",
   "execution_count": 10,
   "metadata": {},
   "outputs": [],
   "source": [
    "# version = '_v1.0' #all zero initial condition\n",
    "version = '_v2.0' #tiled uniformly on the phase space\n",
    "current_size_networks_path = os.path.join(neuron_model + '_ensembles','N{}_T{}_I{}_{}'.format(num_neurons,total_time,random_input_span[0],random_input_span[1]) + version )\n",
    "try:\n",
    "    os.makedirs(current_size_networks_path)\n",
    "except:\n",
    "    pass"
   ]
  },
  {
   "cell_type": "code",
   "execution_count": 11,
   "metadata": {},
   "outputs": [],
   "source": [
    "from storage_modifications import *"
   ]
  },
  {
   "cell_type": "markdown",
   "metadata": {},
   "source": [
    "## Creating various ensembles:"
   ]
  },
  {
   "cell_type": "code",
   "execution_count": 12,
   "metadata": {},
   "outputs": [
    {
     "name": "stderr",
     "output_type": "stream",
     "text": [
      "C:\\Users\\mohsen\\AppData\\Local\\Temp\\ipykernel_4780\\1212606915.py:1: TqdmDeprecationWarning: This function will be removed in tqdm==5.0.0\n",
      "Please use `tqdm.notebook.tqdm` instead of `tqdm.tqdm_notebook`\n",
      "  for connectivity in tqdm( connectivity_span , desc='Variation of connectivities'):\n"
     ]
    },
    {
     "data": {
      "application/vnd.jupyter.widget-view+json": {
       "model_id": "b5c70965a08d4ed09f5007132ea89052",
       "version_major": 2,
       "version_minor": 0
      },
      "text/plain": [
       "Variation of connectivities:   0%|          | 0/15 [00:00<?, ?it/s]"
      ]
     },
     "metadata": {},
     "output_type": "display_data"
    },
    {
     "name": "stderr",
     "output_type": "stream",
     "text": [
      "C:\\Users\\mohsen\\AppData\\Local\\Temp\\ipykernel_4780\\1212606915.py:5: TqdmDeprecationWarning: This function will be removed in tqdm==5.0.0\n",
      "Please use `tqdm.notebook.tqdm` instead of `tqdm.tqdm_notebook`\n",
      "  for delay in tqdm( delay_span , desc='Variation of delay'):\n"
     ]
    },
    {
     "data": {
      "application/vnd.jupyter.widget-view+json": {
       "model_id": "cbdd55f74b31464e8e99f1b8ae327544",
       "version_major": 2,
       "version_minor": 0
      },
      "text/plain": [
       "Variation of delay:   0%|          | 0/10 [00:00<?, ?it/s]"
      ]
     },
     "metadata": {},
     "output_type": "display_data"
    },
    {
     "name": "stderr",
     "output_type": "stream",
     "text": [
      "C:\\Users\\mohsen\\AppData\\Local\\Temp\\ipykernel_4780\\1212606915.py:9: TqdmDeprecationWarning: This function will be removed in tqdm==5.0.0\n",
      "Please use `tqdm.notebook.tqdm` instead of `tqdm.tqdm_notebook`\n",
      "  for alpha in tqdm( alpha_span , desc='Variation of alpha') :\n"
     ]
    },
    {
     "data": {
      "application/vnd.jupyter.widget-view+json": {
       "model_id": "74033c35d5614a6cbce740df66d74400",
       "version_major": 2,
       "version_minor": 0
      },
      "text/plain": [
       "Variation of alpha:   0%|          | 0/2 [00:00<?, ?it/s]"
      ]
     },
     "metadata": {},
     "output_type": "display_data"
    },
    {
     "name": "stderr",
     "output_type": "stream",
     "text": [
      "C:\\Users\\mohsen\\AppData\\Local\\Temp\\ipykernel_4780\\1212606915.py:14: TqdmDeprecationWarning: This function will be removed in tqdm==5.0.0\n",
      "Please use `tqdm.notebook.tqdm` instead of `tqdm.tqdm_notebook`\n",
      "  for i in tqdm( range(num_ensembles_each_g) , desc='Making ensembles'):\n"
     ]
    },
    {
     "data": {
      "application/vnd.jupyter.widget-view+json": {
       "model_id": "e5122fac0af84bc28f8f85cf0e19ea6c",
       "version_major": 2,
       "version_minor": 0
      },
      "text/plain": [
       "Making ensembles:   0%|          | 0/1 [00:00<?, ?it/s]"
      ]
     },
     "metadata": {},
     "output_type": "display_data"
    },
    {
     "data": {
      "application/vnd.jupyter.widget-view+json": {
       "model_id": "54fff886a63f46d29a1424315e8fe5eb",
       "version_major": 2,
       "version_minor": 0
      },
      "text/plain": [
       "network dynamic:   0%|          | 0/9999 [00:00<?, ?it/s]"
      ]
     },
     "metadata": {},
     "output_type": "display_data"
    },
    {
     "data": {
      "application/vnd.jupyter.widget-view+json": {
       "model_id": "caeded17bae74bccb7bf58af729d65dc",
       "version_major": 2,
       "version_minor": 0
      },
      "text/plain": [
       "Making ensembles:   0%|          | 0/1 [00:00<?, ?it/s]"
      ]
     },
     "metadata": {},
     "output_type": "display_data"
    },
    {
     "data": {
      "application/vnd.jupyter.widget-view+json": {
       "model_id": "c351699b23e148d3a4477c8af74be53a",
       "version_major": 2,
       "version_minor": 0
      },
      "text/plain": [
       "network dynamic:   0%|          | 0/9999 [00:00<?, ?it/s]"
      ]
     },
     "metadata": {},
     "output_type": "display_data"
    },
    {
     "data": {
      "application/vnd.jupyter.widget-view+json": {
       "model_id": "265a5dbb2002440491c82fb5dd0ad51c",
       "version_major": 2,
       "version_minor": 0
      },
      "text/plain": [
       "Variation of alpha:   0%|          | 0/2 [00:00<?, ?it/s]"
      ]
     },
     "metadata": {},
     "output_type": "display_data"
    },
    {
     "data": {
      "application/vnd.jupyter.widget-view+json": {
       "model_id": "13039ce9f7084fc386ecc39b12421945",
       "version_major": 2,
       "version_minor": 0
      },
      "text/plain": [
       "Making ensembles:   0%|          | 0/1 [00:00<?, ?it/s]"
      ]
     },
     "metadata": {},
     "output_type": "display_data"
    },
    {
     "data": {
      "application/vnd.jupyter.widget-view+json": {
       "model_id": "333f305a59c54341bc4aace0cf6aaaf3",
       "version_major": 2,
       "version_minor": 0
      },
      "text/plain": [
       "network dynamic:   0%|          | 0/9999 [00:00<?, ?it/s]"
      ]
     },
     "metadata": {},
     "output_type": "display_data"
    },
    {
     "data": {
      "application/vnd.jupyter.widget-view+json": {
       "model_id": "a4e53e27e64147c789a6b3575165275a",
       "version_major": 2,
       "version_minor": 0
      },
      "text/plain": [
       "Making ensembles:   0%|          | 0/1 [00:00<?, ?it/s]"
      ]
     },
     "metadata": {},
     "output_type": "display_data"
    },
    {
     "data": {
      "application/vnd.jupyter.widget-view+json": {
       "model_id": "ab09403036c246a88a6c032110df1abd",
       "version_major": 2,
       "version_minor": 0
      },
      "text/plain": [
       "network dynamic:   0%|          | 0/9999 [00:00<?, ?it/s]"
      ]
     },
     "metadata": {},
     "output_type": "display_data"
    },
    {
     "data": {
      "application/vnd.jupyter.widget-view+json": {
       "model_id": "801b697572a747e89770192cd7cee8fc",
       "version_major": 2,
       "version_minor": 0
      },
      "text/plain": [
       "Variation of alpha:   0%|          | 0/2 [00:00<?, ?it/s]"
      ]
     },
     "metadata": {},
     "output_type": "display_data"
    },
    {
     "data": {
      "application/vnd.jupyter.widget-view+json": {
       "model_id": "d298e4d2398b4a1089f4c9bb116bd460",
       "version_major": 2,
       "version_minor": 0
      },
      "text/plain": [
       "Making ensembles:   0%|          | 0/1 [00:00<?, ?it/s]"
      ]
     },
     "metadata": {},
     "output_type": "display_data"
    },
    {
     "data": {
      "application/vnd.jupyter.widget-view+json": {
       "model_id": "d14195d6c8e84556831020848af38d9d",
       "version_major": 2,
       "version_minor": 0
      },
      "text/plain": [
       "network dynamic:   0%|          | 0/9999 [00:00<?, ?it/s]"
      ]
     },
     "metadata": {},
     "output_type": "display_data"
    },
    {
     "data": {
      "application/vnd.jupyter.widget-view+json": {
       "model_id": "e91b5ecec66944bf811c085412e68664",
       "version_major": 2,
       "version_minor": 0
      },
      "text/plain": [
       "Making ensembles:   0%|          | 0/1 [00:00<?, ?it/s]"
      ]
     },
     "metadata": {},
     "output_type": "display_data"
    },
    {
     "data": {
      "application/vnd.jupyter.widget-view+json": {
       "model_id": "73c1ae481046458f85cad2b967455cc0",
       "version_major": 2,
       "version_minor": 0
      },
      "text/plain": [
       "network dynamic:   0%|          | 0/9999 [00:00<?, ?it/s]"
      ]
     },
     "metadata": {},
     "output_type": "display_data"
    },
    {
     "data": {
      "application/vnd.jupyter.widget-view+json": {
       "model_id": "b8bff0e243124ba19d311b56b809f313",
       "version_major": 2,
       "version_minor": 0
      },
      "text/plain": [
       "Variation of alpha:   0%|          | 0/2 [00:00<?, ?it/s]"
      ]
     },
     "metadata": {},
     "output_type": "display_data"
    },
    {
     "data": {
      "application/vnd.jupyter.widget-view+json": {
       "model_id": "582e119d82b94074a579d097c2d929bf",
       "version_major": 2,
       "version_minor": 0
      },
      "text/plain": [
       "Making ensembles:   0%|          | 0/1 [00:00<?, ?it/s]"
      ]
     },
     "metadata": {},
     "output_type": "display_data"
    },
    {
     "data": {
      "application/vnd.jupyter.widget-view+json": {
       "model_id": "e9bedb9dd2214ec19fa240a6c5f4407d",
       "version_major": 2,
       "version_minor": 0
      },
      "text/plain": [
       "network dynamic:   0%|          | 0/9999 [00:00<?, ?it/s]"
      ]
     },
     "metadata": {},
     "output_type": "display_data"
    },
    {
     "data": {
      "application/vnd.jupyter.widget-view+json": {
       "model_id": "42d00a21a3164333afa13b0e1a7b6fb7",
       "version_major": 2,
       "version_minor": 0
      },
      "text/plain": [
       "Making ensembles:   0%|          | 0/1 [00:00<?, ?it/s]"
      ]
     },
     "metadata": {},
     "output_type": "display_data"
    },
    {
     "data": {
      "application/vnd.jupyter.widget-view+json": {
       "model_id": "b1df0ed610f74d39af9e5c4d4e5a76d4",
       "version_major": 2,
       "version_minor": 0
      },
      "text/plain": [
       "network dynamic:   0%|          | 0/9999 [00:00<?, ?it/s]"
      ]
     },
     "metadata": {},
     "output_type": "display_data"
    },
    {
     "data": {
      "application/vnd.jupyter.widget-view+json": {
       "model_id": "f0c0c9a310ed422097a635668e23c42e",
       "version_major": 2,
       "version_minor": 0
      },
      "text/plain": [
       "Variation of alpha:   0%|          | 0/2 [00:00<?, ?it/s]"
      ]
     },
     "metadata": {},
     "output_type": "display_data"
    },
    {
     "data": {
      "application/vnd.jupyter.widget-view+json": {
       "model_id": "17cdb7ccf6ea41d69ab8c5ea0bf150af",
       "version_major": 2,
       "version_minor": 0
      },
      "text/plain": [
       "Making ensembles:   0%|          | 0/1 [00:00<?, ?it/s]"
      ]
     },
     "metadata": {},
     "output_type": "display_data"
    },
    {
     "data": {
      "application/vnd.jupyter.widget-view+json": {
       "model_id": "0924b741b9f448baa8b1ab8f3ed1690f",
       "version_major": 2,
       "version_minor": 0
      },
      "text/plain": [
       "network dynamic:   0%|          | 0/9999 [00:00<?, ?it/s]"
      ]
     },
     "metadata": {},
     "output_type": "display_data"
    },
    {
     "data": {
      "application/vnd.jupyter.widget-view+json": {
       "model_id": "326abc7d62464fcbbb9f5b2def6bee9d",
       "version_major": 2,
       "version_minor": 0
      },
      "text/plain": [
       "Making ensembles:   0%|          | 0/1 [00:00<?, ?it/s]"
      ]
     },
     "metadata": {},
     "output_type": "display_data"
    },
    {
     "data": {
      "application/vnd.jupyter.widget-view+json": {
       "model_id": "1f39c7de363f4e8b976fceb1301d5f46",
       "version_major": 2,
       "version_minor": 0
      },
      "text/plain": [
       "network dynamic:   0%|          | 0/9999 [00:00<?, ?it/s]"
      ]
     },
     "metadata": {},
     "output_type": "display_data"
    },
    {
     "data": {
      "application/vnd.jupyter.widget-view+json": {
       "model_id": "b0fc9c2a9e604443b324bff6a40b6a3e",
       "version_major": 2,
       "version_minor": 0
      },
      "text/plain": [
       "Variation of alpha:   0%|          | 0/2 [00:00<?, ?it/s]"
      ]
     },
     "metadata": {},
     "output_type": "display_data"
    },
    {
     "data": {
      "application/vnd.jupyter.widget-view+json": {
       "model_id": "3139e9441be64042b09180b4ae1a75d8",
       "version_major": 2,
       "version_minor": 0
      },
      "text/plain": [
       "Making ensembles:   0%|          | 0/1 [00:00<?, ?it/s]"
      ]
     },
     "metadata": {},
     "output_type": "display_data"
    },
    {
     "data": {
      "application/vnd.jupyter.widget-view+json": {
       "model_id": "f05163ab4e394033acfa0788d48ba1bf",
       "version_major": 2,
       "version_minor": 0
      },
      "text/plain": [
       "network dynamic:   0%|          | 0/9999 [00:00<?, ?it/s]"
      ]
     },
     "metadata": {},
     "output_type": "display_data"
    },
    {
     "data": {
      "application/vnd.jupyter.widget-view+json": {
       "model_id": "a33815cc350d46fb86eed19030cce00c",
       "version_major": 2,
       "version_minor": 0
      },
      "text/plain": [
       "Making ensembles:   0%|          | 0/1 [00:00<?, ?it/s]"
      ]
     },
     "metadata": {},
     "output_type": "display_data"
    },
    {
     "data": {
      "application/vnd.jupyter.widget-view+json": {
       "model_id": "a4de92273725477fb39ed32109a35280",
       "version_major": 2,
       "version_minor": 0
      },
      "text/plain": [
       "network dynamic:   0%|          | 0/9999 [00:00<?, ?it/s]"
      ]
     },
     "metadata": {},
     "output_type": "display_data"
    },
    {
     "data": {
      "application/vnd.jupyter.widget-view+json": {
       "model_id": "f46f5ba4a6134c7c874de16f28cfbf0a",
       "version_major": 2,
       "version_minor": 0
      },
      "text/plain": [
       "Variation of alpha:   0%|          | 0/2 [00:00<?, ?it/s]"
      ]
     },
     "metadata": {},
     "output_type": "display_data"
    },
    {
     "data": {
      "application/vnd.jupyter.widget-view+json": {
       "model_id": "b88b02e418f1457fa35da974c36f16e9",
       "version_major": 2,
       "version_minor": 0
      },
      "text/plain": [
       "Making ensembles:   0%|          | 0/1 [00:00<?, ?it/s]"
      ]
     },
     "metadata": {},
     "output_type": "display_data"
    },
    {
     "data": {
      "application/vnd.jupyter.widget-view+json": {
       "model_id": "1302a1c6a20f4a04a91732b326eb1acc",
       "version_major": 2,
       "version_minor": 0
      },
      "text/plain": [
       "network dynamic:   0%|          | 0/9999 [00:00<?, ?it/s]"
      ]
     },
     "metadata": {},
     "output_type": "display_data"
    },
    {
     "data": {
      "application/vnd.jupyter.widget-view+json": {
       "model_id": "653bef61ff964f9f89293522d6c8ea2c",
       "version_major": 2,
       "version_minor": 0
      },
      "text/plain": [
       "Making ensembles:   0%|          | 0/1 [00:00<?, ?it/s]"
      ]
     },
     "metadata": {},
     "output_type": "display_data"
    },
    {
     "data": {
      "application/vnd.jupyter.widget-view+json": {
       "model_id": "8b2171fa28754f6db13558c8f30e6d36",
       "version_major": 2,
       "version_minor": 0
      },
      "text/plain": [
       "network dynamic:   0%|          | 0/9999 [00:00<?, ?it/s]"
      ]
     },
     "metadata": {},
     "output_type": "display_data"
    },
    {
     "data": {
      "application/vnd.jupyter.widget-view+json": {
       "model_id": "5eb3962ed74d4118842c0a42ec34eb73",
       "version_major": 2,
       "version_minor": 0
      },
      "text/plain": [
       "Variation of alpha:   0%|          | 0/2 [00:00<?, ?it/s]"
      ]
     },
     "metadata": {},
     "output_type": "display_data"
    },
    {
     "data": {
      "application/vnd.jupyter.widget-view+json": {
       "model_id": "056d62699e0b46e3b876f0797cf665f8",
       "version_major": 2,
       "version_minor": 0
      },
      "text/plain": [
       "Making ensembles:   0%|          | 0/1 [00:00<?, ?it/s]"
      ]
     },
     "metadata": {},
     "output_type": "display_data"
    },
    {
     "data": {
      "application/vnd.jupyter.widget-view+json": {
       "model_id": "73f77fbeb8544b619b7ec5d89adddaca",
       "version_major": 2,
       "version_minor": 0
      },
      "text/plain": [
       "network dynamic:   0%|          | 0/9999 [00:00<?, ?it/s]"
      ]
     },
     "metadata": {},
     "output_type": "display_data"
    },
    {
     "data": {
      "application/vnd.jupyter.widget-view+json": {
       "model_id": "782cd728973941dca6f88f14cdd8485a",
       "version_major": 2,
       "version_minor": 0
      },
      "text/plain": [
       "Making ensembles:   0%|          | 0/1 [00:00<?, ?it/s]"
      ]
     },
     "metadata": {},
     "output_type": "display_data"
    },
    {
     "data": {
      "application/vnd.jupyter.widget-view+json": {
       "model_id": "68b6590e565e49b6bc64374f5631f14b",
       "version_major": 2,
       "version_minor": 0
      },
      "text/plain": [
       "network dynamic:   0%|          | 0/9999 [00:00<?, ?it/s]"
      ]
     },
     "metadata": {},
     "output_type": "display_data"
    },
    {
     "data": {
      "application/vnd.jupyter.widget-view+json": {
       "model_id": "1add513dc089430d880895de8fd27e6c",
       "version_major": 2,
       "version_minor": 0
      },
      "text/plain": [
       "Variation of alpha:   0%|          | 0/2 [00:00<?, ?it/s]"
      ]
     },
     "metadata": {},
     "output_type": "display_data"
    },
    {
     "data": {
      "application/vnd.jupyter.widget-view+json": {
       "model_id": "e9f224b9b9ad4b388de4380b2e6cb7c0",
       "version_major": 2,
       "version_minor": 0
      },
      "text/plain": [
       "Making ensembles:   0%|          | 0/1 [00:00<?, ?it/s]"
      ]
     },
     "metadata": {},
     "output_type": "display_data"
    },
    {
     "data": {
      "application/vnd.jupyter.widget-view+json": {
       "model_id": "c177af53677e4500a8bca756fc91e5ec",
       "version_major": 2,
       "version_minor": 0
      },
      "text/plain": [
       "network dynamic:   0%|          | 0/9999 [00:00<?, ?it/s]"
      ]
     },
     "metadata": {},
     "output_type": "display_data"
    },
    {
     "data": {
      "application/vnd.jupyter.widget-view+json": {
       "model_id": "d9be19a3df874b1a861d8c9230815c48",
       "version_major": 2,
       "version_minor": 0
      },
      "text/plain": [
       "Making ensembles:   0%|          | 0/1 [00:00<?, ?it/s]"
      ]
     },
     "metadata": {},
     "output_type": "display_data"
    },
    {
     "data": {
      "application/vnd.jupyter.widget-view+json": {
       "model_id": "645f5dd7e1f5410ab5f2630196ac793b",
       "version_major": 2,
       "version_minor": 0
      },
      "text/plain": [
       "network dynamic:   0%|          | 0/9999 [00:00<?, ?it/s]"
      ]
     },
     "metadata": {},
     "output_type": "display_data"
    },
    {
     "data": {
      "application/vnd.jupyter.widget-view+json": {
       "model_id": "0ef4081e56fe45f09e57d956be98a3bd",
       "version_major": 2,
       "version_minor": 0
      },
      "text/plain": [
       "Variation of alpha:   0%|          | 0/2 [00:00<?, ?it/s]"
      ]
     },
     "metadata": {},
     "output_type": "display_data"
    },
    {
     "data": {
      "application/vnd.jupyter.widget-view+json": {
       "model_id": "ecdf0a84cfe8423998d5ea22b88e2fb8",
       "version_major": 2,
       "version_minor": 0
      },
      "text/plain": [
       "Making ensembles:   0%|          | 0/1 [00:00<?, ?it/s]"
      ]
     },
     "metadata": {},
     "output_type": "display_data"
    },
    {
     "data": {
      "application/vnd.jupyter.widget-view+json": {
       "model_id": "fd136f11810a4e14b7a40f07abaf5e6c",
       "version_major": 2,
       "version_minor": 0
      },
      "text/plain": [
       "network dynamic:   0%|          | 0/9999 [00:00<?, ?it/s]"
      ]
     },
     "metadata": {},
     "output_type": "display_data"
    },
    {
     "data": {
      "application/vnd.jupyter.widget-view+json": {
       "model_id": "826ef89605204bfbb98b437011a72c4d",
       "version_major": 2,
       "version_minor": 0
      },
      "text/plain": [
       "Making ensembles:   0%|          | 0/1 [00:00<?, ?it/s]"
      ]
     },
     "metadata": {},
     "output_type": "display_data"
    },
    {
     "data": {
      "application/vnd.jupyter.widget-view+json": {
       "model_id": "d19cabb588004492967b8d949e2296b8",
       "version_major": 2,
       "version_minor": 0
      },
      "text/plain": [
       "network dynamic:   0%|          | 0/9999 [00:00<?, ?it/s]"
      ]
     },
     "metadata": {},
     "output_type": "display_data"
    },
    {
     "data": {
      "application/vnd.jupyter.widget-view+json": {
       "model_id": "8f5baf5bb0894f4aac590e33a50bb54b",
       "version_major": 2,
       "version_minor": 0
      },
      "text/plain": [
       "Variation of delay:   0%|          | 0/10 [00:00<?, ?it/s]"
      ]
     },
     "metadata": {},
     "output_type": "display_data"
    },
    {
     "data": {
      "application/vnd.jupyter.widget-view+json": {
       "model_id": "70c4606ed07949b086cfbf463a7cd9d7",
       "version_major": 2,
       "version_minor": 0
      },
      "text/plain": [
       "Variation of alpha:   0%|          | 0/2 [00:00<?, ?it/s]"
      ]
     },
     "metadata": {},
     "output_type": "display_data"
    },
    {
     "data": {
      "application/vnd.jupyter.widget-view+json": {
       "model_id": "af4cd29c1f794911934c4d1d6fce458f",
       "version_major": 2,
       "version_minor": 0
      },
      "text/plain": [
       "Making ensembles:   0%|          | 0/1 [00:00<?, ?it/s]"
      ]
     },
     "metadata": {},
     "output_type": "display_data"
    },
    {
     "data": {
      "application/vnd.jupyter.widget-view+json": {
       "model_id": "9ac41205061a48e0bfbd07c604c8ad77",
       "version_major": 2,
       "version_minor": 0
      },
      "text/plain": [
       "network dynamic:   0%|          | 0/9999 [00:00<?, ?it/s]"
      ]
     },
     "metadata": {},
     "output_type": "display_data"
    },
    {
     "data": {
      "application/vnd.jupyter.widget-view+json": {
       "model_id": "d1cac8e02e2a42b9b1748c5ab693a7f8",
       "version_major": 2,
       "version_minor": 0
      },
      "text/plain": [
       "Making ensembles:   0%|          | 0/1 [00:00<?, ?it/s]"
      ]
     },
     "metadata": {},
     "output_type": "display_data"
    },
    {
     "data": {
      "application/vnd.jupyter.widget-view+json": {
       "model_id": "a5d23a8b78f84b1a814a472596f10726",
       "version_major": 2,
       "version_minor": 0
      },
      "text/plain": [
       "network dynamic:   0%|          | 0/9999 [00:00<?, ?it/s]"
      ]
     },
     "metadata": {},
     "output_type": "display_data"
    },
    {
     "data": {
      "application/vnd.jupyter.widget-view+json": {
       "model_id": "a9f8aa2ce4ec45718a9d75453e7e7c82",
       "version_major": 2,
       "version_minor": 0
      },
      "text/plain": [
       "Variation of alpha:   0%|          | 0/2 [00:00<?, ?it/s]"
      ]
     },
     "metadata": {},
     "output_type": "display_data"
    },
    {
     "data": {
      "application/vnd.jupyter.widget-view+json": {
       "model_id": "431bc0437e304366b44a06eef30d2738",
       "version_major": 2,
       "version_minor": 0
      },
      "text/plain": [
       "Making ensembles:   0%|          | 0/1 [00:00<?, ?it/s]"
      ]
     },
     "metadata": {},
     "output_type": "display_data"
    },
    {
     "data": {
      "application/vnd.jupyter.widget-view+json": {
       "model_id": "8b0a2c78571549318bfb0fd144202028",
       "version_major": 2,
       "version_minor": 0
      },
      "text/plain": [
       "network dynamic:   0%|          | 0/9999 [00:00<?, ?it/s]"
      ]
     },
     "metadata": {},
     "output_type": "display_data"
    },
    {
     "data": {
      "application/vnd.jupyter.widget-view+json": {
       "model_id": "1808258f718a4536ad528979f555a0c7",
       "version_major": 2,
       "version_minor": 0
      },
      "text/plain": [
       "Making ensembles:   0%|          | 0/1 [00:00<?, ?it/s]"
      ]
     },
     "metadata": {},
     "output_type": "display_data"
    },
    {
     "data": {
      "application/vnd.jupyter.widget-view+json": {
       "model_id": "222b51fa0d414d44a0b11aac3428e3c8",
       "version_major": 2,
       "version_minor": 0
      },
      "text/plain": [
       "network dynamic:   0%|          | 0/9999 [00:00<?, ?it/s]"
      ]
     },
     "metadata": {},
     "output_type": "display_data"
    },
    {
     "data": {
      "application/vnd.jupyter.widget-view+json": {
       "model_id": "7efcef8234ef48ae94449609f20db4f6",
       "version_major": 2,
       "version_minor": 0
      },
      "text/plain": [
       "Variation of alpha:   0%|          | 0/2 [00:00<?, ?it/s]"
      ]
     },
     "metadata": {},
     "output_type": "display_data"
    },
    {
     "data": {
      "application/vnd.jupyter.widget-view+json": {
       "model_id": "b6285d70d2814b3aa1def36945ffe73b",
       "version_major": 2,
       "version_minor": 0
      },
      "text/plain": [
       "Making ensembles:   0%|          | 0/1 [00:00<?, ?it/s]"
      ]
     },
     "metadata": {},
     "output_type": "display_data"
    },
    {
     "data": {
      "application/vnd.jupyter.widget-view+json": {
       "model_id": "a833d410c8dc4815ac749d19d9500598",
       "version_major": 2,
       "version_minor": 0
      },
      "text/plain": [
       "network dynamic:   0%|          | 0/9999 [00:00<?, ?it/s]"
      ]
     },
     "metadata": {},
     "output_type": "display_data"
    },
    {
     "data": {
      "application/vnd.jupyter.widget-view+json": {
       "model_id": "f8a505a2eccc483dba36f79430210ff4",
       "version_major": 2,
       "version_minor": 0
      },
      "text/plain": [
       "Making ensembles:   0%|          | 0/1 [00:00<?, ?it/s]"
      ]
     },
     "metadata": {},
     "output_type": "display_data"
    },
    {
     "data": {
      "application/vnd.jupyter.widget-view+json": {
       "model_id": "396404a6b43a41758d2ddd7fe333171f",
       "version_major": 2,
       "version_minor": 0
      },
      "text/plain": [
       "network dynamic:   0%|          | 0/9999 [00:00<?, ?it/s]"
      ]
     },
     "metadata": {},
     "output_type": "display_data"
    },
    {
     "data": {
      "application/vnd.jupyter.widget-view+json": {
       "model_id": "0e69402e2ad843a69797d03a21b239dc",
       "version_major": 2,
       "version_minor": 0
      },
      "text/plain": [
       "Variation of alpha:   0%|          | 0/2 [00:00<?, ?it/s]"
      ]
     },
     "metadata": {},
     "output_type": "display_data"
    },
    {
     "data": {
      "application/vnd.jupyter.widget-view+json": {
       "model_id": "b6251b1bf08a481391a60ab9238db684",
       "version_major": 2,
       "version_minor": 0
      },
      "text/plain": [
       "Making ensembles:   0%|          | 0/1 [00:00<?, ?it/s]"
      ]
     },
     "metadata": {},
     "output_type": "display_data"
    },
    {
     "data": {
      "application/vnd.jupyter.widget-view+json": {
       "model_id": "9c3266de8cd145bf8610fc0c6a0cdd4e",
       "version_major": 2,
       "version_minor": 0
      },
      "text/plain": [
       "network dynamic:   0%|          | 0/9999 [00:00<?, ?it/s]"
      ]
     },
     "metadata": {},
     "output_type": "display_data"
    },
    {
     "data": {
      "application/vnd.jupyter.widget-view+json": {
       "model_id": "f6cbd01fd66a4ca79a09b5f64923dafe",
       "version_major": 2,
       "version_minor": 0
      },
      "text/plain": [
       "Making ensembles:   0%|          | 0/1 [00:00<?, ?it/s]"
      ]
     },
     "metadata": {},
     "output_type": "display_data"
    },
    {
     "data": {
      "application/vnd.jupyter.widget-view+json": {
       "model_id": "eda14c6ba9044b559f9e15ed10506724",
       "version_major": 2,
       "version_minor": 0
      },
      "text/plain": [
       "network dynamic:   0%|          | 0/9999 [00:00<?, ?it/s]"
      ]
     },
     "metadata": {},
     "output_type": "display_data"
    },
    {
     "data": {
      "application/vnd.jupyter.widget-view+json": {
       "model_id": "d1ec226d35bc4b0884f6f6eb51a3f366",
       "version_major": 2,
       "version_minor": 0
      },
      "text/plain": [
       "Variation of alpha:   0%|          | 0/2 [00:00<?, ?it/s]"
      ]
     },
     "metadata": {},
     "output_type": "display_data"
    },
    {
     "data": {
      "application/vnd.jupyter.widget-view+json": {
       "model_id": "f875ca393214407d943b8347ba91d0ea",
       "version_major": 2,
       "version_minor": 0
      },
      "text/plain": [
       "Making ensembles:   0%|          | 0/1 [00:00<?, ?it/s]"
      ]
     },
     "metadata": {},
     "output_type": "display_data"
    },
    {
     "data": {
      "application/vnd.jupyter.widget-view+json": {
       "model_id": "d2341767aa374597bde43949d80cda44",
       "version_major": 2,
       "version_minor": 0
      },
      "text/plain": [
       "network dynamic:   0%|          | 0/9999 [00:00<?, ?it/s]"
      ]
     },
     "metadata": {},
     "output_type": "display_data"
    },
    {
     "data": {
      "application/vnd.jupyter.widget-view+json": {
       "model_id": "4b4b9458f386458ea8adb378a89dc5ea",
       "version_major": 2,
       "version_minor": 0
      },
      "text/plain": [
       "Making ensembles:   0%|          | 0/1 [00:00<?, ?it/s]"
      ]
     },
     "metadata": {},
     "output_type": "display_data"
    },
    {
     "data": {
      "application/vnd.jupyter.widget-view+json": {
       "model_id": "481440c77da340c7bcce449975748b34",
       "version_major": 2,
       "version_minor": 0
      },
      "text/plain": [
       "network dynamic:   0%|          | 0/9999 [00:00<?, ?it/s]"
      ]
     },
     "metadata": {},
     "output_type": "display_data"
    },
    {
     "data": {
      "application/vnd.jupyter.widget-view+json": {
       "model_id": "21e643f293e640d0bc6fe736427dfd68",
       "version_major": 2,
       "version_minor": 0
      },
      "text/plain": [
       "Variation of alpha:   0%|          | 0/2 [00:00<?, ?it/s]"
      ]
     },
     "metadata": {},
     "output_type": "display_data"
    },
    {
     "data": {
      "application/vnd.jupyter.widget-view+json": {
       "model_id": "6a4a84570b1a469a9993400b7ced2b0a",
       "version_major": 2,
       "version_minor": 0
      },
      "text/plain": [
       "Making ensembles:   0%|          | 0/1 [00:00<?, ?it/s]"
      ]
     },
     "metadata": {},
     "output_type": "display_data"
    },
    {
     "data": {
      "application/vnd.jupyter.widget-view+json": {
       "model_id": "01cbc7297f1c44d5b6065c199ed9f6fb",
       "version_major": 2,
       "version_minor": 0
      },
      "text/plain": [
       "network dynamic:   0%|          | 0/9999 [00:00<?, ?it/s]"
      ]
     },
     "metadata": {},
     "output_type": "display_data"
    },
    {
     "data": {
      "application/vnd.jupyter.widget-view+json": {
       "model_id": "d7ab79b1699a4793a69082059b6ab0bf",
       "version_major": 2,
       "version_minor": 0
      },
      "text/plain": [
       "Making ensembles:   0%|          | 0/1 [00:00<?, ?it/s]"
      ]
     },
     "metadata": {},
     "output_type": "display_data"
    },
    {
     "data": {
      "application/vnd.jupyter.widget-view+json": {
       "model_id": "a5ed484a7bc0441e9fff67057a15b829",
       "version_major": 2,
       "version_minor": 0
      },
      "text/plain": [
       "network dynamic:   0%|          | 0/9999 [00:00<?, ?it/s]"
      ]
     },
     "metadata": {},
     "output_type": "display_data"
    },
    {
     "data": {
      "application/vnd.jupyter.widget-view+json": {
       "model_id": "5c6ed4f78161469983dda8c083d84008",
       "version_major": 2,
       "version_minor": 0
      },
      "text/plain": [
       "Variation of alpha:   0%|          | 0/2 [00:00<?, ?it/s]"
      ]
     },
     "metadata": {},
     "output_type": "display_data"
    },
    {
     "data": {
      "application/vnd.jupyter.widget-view+json": {
       "model_id": "f86dae62e1f34b208aa271b7ea102278",
       "version_major": 2,
       "version_minor": 0
      },
      "text/plain": [
       "Making ensembles:   0%|          | 0/1 [00:00<?, ?it/s]"
      ]
     },
     "metadata": {},
     "output_type": "display_data"
    },
    {
     "data": {
      "application/vnd.jupyter.widget-view+json": {
       "model_id": "a936ec3f7c964292bb33e8df89d61a1a",
       "version_major": 2,
       "version_minor": 0
      },
      "text/plain": [
       "network dynamic:   0%|          | 0/9999 [00:00<?, ?it/s]"
      ]
     },
     "metadata": {},
     "output_type": "display_data"
    },
    {
     "data": {
      "application/vnd.jupyter.widget-view+json": {
       "model_id": "62227781d04e4d8baa6e086e57e29b96",
       "version_major": 2,
       "version_minor": 0
      },
      "text/plain": [
       "Making ensembles:   0%|          | 0/1 [00:00<?, ?it/s]"
      ]
     },
     "metadata": {},
     "output_type": "display_data"
    },
    {
     "data": {
      "application/vnd.jupyter.widget-view+json": {
       "model_id": "b5e28ba62ece44beb37948aa12aca92f",
       "version_major": 2,
       "version_minor": 0
      },
      "text/plain": [
       "network dynamic:   0%|          | 0/9999 [00:00<?, ?it/s]"
      ]
     },
     "metadata": {},
     "output_type": "display_data"
    },
    {
     "data": {
      "application/vnd.jupyter.widget-view+json": {
       "model_id": "8b11a104d2e04a9eadb70fbf194efd8e",
       "version_major": 2,
       "version_minor": 0
      },
      "text/plain": [
       "Variation of alpha:   0%|          | 0/2 [00:00<?, ?it/s]"
      ]
     },
     "metadata": {},
     "output_type": "display_data"
    },
    {
     "data": {
      "application/vnd.jupyter.widget-view+json": {
       "model_id": "219fa665749242baab613b05ed8c5d32",
       "version_major": 2,
       "version_minor": 0
      },
      "text/plain": [
       "Making ensembles:   0%|          | 0/1 [00:00<?, ?it/s]"
      ]
     },
     "metadata": {},
     "output_type": "display_data"
    },
    {
     "data": {
      "application/vnd.jupyter.widget-view+json": {
       "model_id": "5e8200a75e38435687d26bb85e6f96b5",
       "version_major": 2,
       "version_minor": 0
      },
      "text/plain": [
       "network dynamic:   0%|          | 0/9999 [00:00<?, ?it/s]"
      ]
     },
     "metadata": {},
     "output_type": "display_data"
    },
    {
     "data": {
      "application/vnd.jupyter.widget-view+json": {
       "model_id": "53c84459452f45f69a5b49c27f57e27e",
       "version_major": 2,
       "version_minor": 0
      },
      "text/plain": [
       "Making ensembles:   0%|          | 0/1 [00:00<?, ?it/s]"
      ]
     },
     "metadata": {},
     "output_type": "display_data"
    },
    {
     "data": {
      "application/vnd.jupyter.widget-view+json": {
       "model_id": "1186d0ebddda4cc6baadc25071b9b432",
       "version_major": 2,
       "version_minor": 0
      },
      "text/plain": [
       "network dynamic:   0%|          | 0/9999 [00:00<?, ?it/s]"
      ]
     },
     "metadata": {},
     "output_type": "display_data"
    },
    {
     "data": {
      "application/vnd.jupyter.widget-view+json": {
       "model_id": "3d3603ac26af4abfaa7c727507b34b17",
       "version_major": 2,
       "version_minor": 0
      },
      "text/plain": [
       "Variation of alpha:   0%|          | 0/2 [00:00<?, ?it/s]"
      ]
     },
     "metadata": {},
     "output_type": "display_data"
    },
    {
     "data": {
      "application/vnd.jupyter.widget-view+json": {
       "model_id": "367a77d97eb243a18d129b067cccd2eb",
       "version_major": 2,
       "version_minor": 0
      },
      "text/plain": [
       "Making ensembles:   0%|          | 0/1 [00:00<?, ?it/s]"
      ]
     },
     "metadata": {},
     "output_type": "display_data"
    },
    {
     "data": {
      "application/vnd.jupyter.widget-view+json": {
       "model_id": "bcdbb918a78e4ebdb7157597beeec3d2",
       "version_major": 2,
       "version_minor": 0
      },
      "text/plain": [
       "network dynamic:   0%|          | 0/9999 [00:00<?, ?it/s]"
      ]
     },
     "metadata": {},
     "output_type": "display_data"
    },
    {
     "data": {
      "application/vnd.jupyter.widget-view+json": {
       "model_id": "394521c340a141a797bbd824b9e70fd8",
       "version_major": 2,
       "version_minor": 0
      },
      "text/plain": [
       "Making ensembles:   0%|          | 0/1 [00:00<?, ?it/s]"
      ]
     },
     "metadata": {},
     "output_type": "display_data"
    },
    {
     "data": {
      "application/vnd.jupyter.widget-view+json": {
       "model_id": "a301708abbb6448db11d7c225845ff21",
       "version_major": 2,
       "version_minor": 0
      },
      "text/plain": [
       "network dynamic:   0%|          | 0/9999 [00:00<?, ?it/s]"
      ]
     },
     "metadata": {},
     "output_type": "display_data"
    },
    {
     "data": {
      "application/vnd.jupyter.widget-view+json": {
       "model_id": "2123a257159747aba6f92e86595241f7",
       "version_major": 2,
       "version_minor": 0
      },
      "text/plain": [
       "Variation of alpha:   0%|          | 0/2 [00:00<?, ?it/s]"
      ]
     },
     "metadata": {},
     "output_type": "display_data"
    },
    {
     "data": {
      "application/vnd.jupyter.widget-view+json": {
       "model_id": "bb8f587a9bb54b18821cd6264cce197e",
       "version_major": 2,
       "version_minor": 0
      },
      "text/plain": [
       "Making ensembles:   0%|          | 0/1 [00:00<?, ?it/s]"
      ]
     },
     "metadata": {},
     "output_type": "display_data"
    },
    {
     "data": {
      "application/vnd.jupyter.widget-view+json": {
       "model_id": "583a838d2d7a468a99a2e654bae9c39d",
       "version_major": 2,
       "version_minor": 0
      },
      "text/plain": [
       "network dynamic:   0%|          | 0/9999 [00:00<?, ?it/s]"
      ]
     },
     "metadata": {},
     "output_type": "display_data"
    },
    {
     "data": {
      "application/vnd.jupyter.widget-view+json": {
       "model_id": "cea68378824f4965985788135b0427e6",
       "version_major": 2,
       "version_minor": 0
      },
      "text/plain": [
       "Making ensembles:   0%|          | 0/1 [00:00<?, ?it/s]"
      ]
     },
     "metadata": {},
     "output_type": "display_data"
    },
    {
     "data": {
      "application/vnd.jupyter.widget-view+json": {
       "model_id": "bf6476229a024137888cfd7b46dfb8d6",
       "version_major": 2,
       "version_minor": 0
      },
      "text/plain": [
       "network dynamic:   0%|          | 0/9999 [00:00<?, ?it/s]"
      ]
     },
     "metadata": {},
     "output_type": "display_data"
    },
    {
     "data": {
      "application/vnd.jupyter.widget-view+json": {
       "model_id": "79f862c138ee4e499ef1504f81b82293",
       "version_major": 2,
       "version_minor": 0
      },
      "text/plain": [
       "Variation of delay:   0%|          | 0/10 [00:00<?, ?it/s]"
      ]
     },
     "metadata": {},
     "output_type": "display_data"
    },
    {
     "data": {
      "application/vnd.jupyter.widget-view+json": {
       "model_id": "5aee605a72ac4a879a08423648d9e7ca",
       "version_major": 2,
       "version_minor": 0
      },
      "text/plain": [
       "Variation of alpha:   0%|          | 0/2 [00:00<?, ?it/s]"
      ]
     },
     "metadata": {},
     "output_type": "display_data"
    },
    {
     "data": {
      "application/vnd.jupyter.widget-view+json": {
       "model_id": "312de73f3eb14a489cb6ea0bb88476d0",
       "version_major": 2,
       "version_minor": 0
      },
      "text/plain": [
       "Making ensembles:   0%|          | 0/1 [00:00<?, ?it/s]"
      ]
     },
     "metadata": {},
     "output_type": "display_data"
    },
    {
     "data": {
      "application/vnd.jupyter.widget-view+json": {
       "model_id": "f413100d52fd45f9aa758fcb83074c81",
       "version_major": 2,
       "version_minor": 0
      },
      "text/plain": [
       "network dynamic:   0%|          | 0/9999 [00:00<?, ?it/s]"
      ]
     },
     "metadata": {},
     "output_type": "display_data"
    },
    {
     "data": {
      "application/vnd.jupyter.widget-view+json": {
       "model_id": "f418d0bbca084565ba52734683f74404",
       "version_major": 2,
       "version_minor": 0
      },
      "text/plain": [
       "Making ensembles:   0%|          | 0/1 [00:00<?, ?it/s]"
      ]
     },
     "metadata": {},
     "output_type": "display_data"
    },
    {
     "data": {
      "application/vnd.jupyter.widget-view+json": {
       "model_id": "faa25fc8a1bf4eeeaeb8d6e4926ba279",
       "version_major": 2,
       "version_minor": 0
      },
      "text/plain": [
       "network dynamic:   0%|          | 0/9999 [00:00<?, ?it/s]"
      ]
     },
     "metadata": {},
     "output_type": "display_data"
    },
    {
     "data": {
      "application/vnd.jupyter.widget-view+json": {
       "model_id": "b0d5de2f44ad428d88f7c97919eec3a2",
       "version_major": 2,
       "version_minor": 0
      },
      "text/plain": [
       "Variation of alpha:   0%|          | 0/2 [00:00<?, ?it/s]"
      ]
     },
     "metadata": {},
     "output_type": "display_data"
    },
    {
     "data": {
      "application/vnd.jupyter.widget-view+json": {
       "model_id": "e5ce35c841f04022b977107bb9861f5d",
       "version_major": 2,
       "version_minor": 0
      },
      "text/plain": [
       "Making ensembles:   0%|          | 0/1 [00:00<?, ?it/s]"
      ]
     },
     "metadata": {},
     "output_type": "display_data"
    },
    {
     "data": {
      "application/vnd.jupyter.widget-view+json": {
       "model_id": "571344750e1f400a96179b36e43b3dfc",
       "version_major": 2,
       "version_minor": 0
      },
      "text/plain": [
       "network dynamic:   0%|          | 0/9999 [00:00<?, ?it/s]"
      ]
     },
     "metadata": {},
     "output_type": "display_data"
    },
    {
     "data": {
      "application/vnd.jupyter.widget-view+json": {
       "model_id": "4049b5eda0ee4966b3090b51be6bb4c1",
       "version_major": 2,
       "version_minor": 0
      },
      "text/plain": [
       "Making ensembles:   0%|          | 0/1 [00:00<?, ?it/s]"
      ]
     },
     "metadata": {},
     "output_type": "display_data"
    },
    {
     "data": {
      "application/vnd.jupyter.widget-view+json": {
       "model_id": "667282aa0c0b4153bd1976420fc66961",
       "version_major": 2,
       "version_minor": 0
      },
      "text/plain": [
       "network dynamic:   0%|          | 0/9999 [00:00<?, ?it/s]"
      ]
     },
     "metadata": {},
     "output_type": "display_data"
    },
    {
     "data": {
      "application/vnd.jupyter.widget-view+json": {
       "model_id": "d43e345480b1494d8481da583f3ed0c1",
       "version_major": 2,
       "version_minor": 0
      },
      "text/plain": [
       "Variation of alpha:   0%|          | 0/2 [00:00<?, ?it/s]"
      ]
     },
     "metadata": {},
     "output_type": "display_data"
    },
    {
     "data": {
      "application/vnd.jupyter.widget-view+json": {
       "model_id": "3a397d9ae96946bf86d27c558bb87058",
       "version_major": 2,
       "version_minor": 0
      },
      "text/plain": [
       "Making ensembles:   0%|          | 0/1 [00:00<?, ?it/s]"
      ]
     },
     "metadata": {},
     "output_type": "display_data"
    },
    {
     "data": {
      "application/vnd.jupyter.widget-view+json": {
       "model_id": "d508e334b3a84ea7924c8d3841f77964",
       "version_major": 2,
       "version_minor": 0
      },
      "text/plain": [
       "network dynamic:   0%|          | 0/9999 [00:00<?, ?it/s]"
      ]
     },
     "metadata": {},
     "output_type": "display_data"
    },
    {
     "data": {
      "application/vnd.jupyter.widget-view+json": {
       "model_id": "140ebe6e5a174f8b81ab385806d37127",
       "version_major": 2,
       "version_minor": 0
      },
      "text/plain": [
       "Making ensembles:   0%|          | 0/1 [00:00<?, ?it/s]"
      ]
     },
     "metadata": {},
     "output_type": "display_data"
    },
    {
     "data": {
      "application/vnd.jupyter.widget-view+json": {
       "model_id": "e3b793315011421888d285470d37e5a4",
       "version_major": 2,
       "version_minor": 0
      },
      "text/plain": [
       "network dynamic:   0%|          | 0/9999 [00:00<?, ?it/s]"
      ]
     },
     "metadata": {},
     "output_type": "display_data"
    },
    {
     "data": {
      "application/vnd.jupyter.widget-view+json": {
       "model_id": "486846bde6754b338687d3d0e2b7c8e0",
       "version_major": 2,
       "version_minor": 0
      },
      "text/plain": [
       "Variation of alpha:   0%|          | 0/2 [00:00<?, ?it/s]"
      ]
     },
     "metadata": {},
     "output_type": "display_data"
    },
    {
     "data": {
      "application/vnd.jupyter.widget-view+json": {
       "model_id": "1726fd628ce246fb86bb54e9c4d38df5",
       "version_major": 2,
       "version_minor": 0
      },
      "text/plain": [
       "Making ensembles:   0%|          | 0/1 [00:00<?, ?it/s]"
      ]
     },
     "metadata": {},
     "output_type": "display_data"
    },
    {
     "data": {
      "application/vnd.jupyter.widget-view+json": {
       "model_id": "4df2da3b6aa54264b5c75bffe4a943ad",
       "version_major": 2,
       "version_minor": 0
      },
      "text/plain": [
       "network dynamic:   0%|          | 0/9999 [00:00<?, ?it/s]"
      ]
     },
     "metadata": {},
     "output_type": "display_data"
    },
    {
     "data": {
      "application/vnd.jupyter.widget-view+json": {
       "model_id": "6f64ba7d0412497891ffa776b273d148",
       "version_major": 2,
       "version_minor": 0
      },
      "text/plain": [
       "Making ensembles:   0%|          | 0/1 [00:00<?, ?it/s]"
      ]
     },
     "metadata": {},
     "output_type": "display_data"
    },
    {
     "data": {
      "application/vnd.jupyter.widget-view+json": {
       "model_id": "3fabf9ef89ca465cabb1697b68904c22",
       "version_major": 2,
       "version_minor": 0
      },
      "text/plain": [
       "network dynamic:   0%|          | 0/9999 [00:00<?, ?it/s]"
      ]
     },
     "metadata": {},
     "output_type": "display_data"
    },
    {
     "data": {
      "application/vnd.jupyter.widget-view+json": {
       "model_id": "e5a1fec1fa074822ac75a437e510f40f",
       "version_major": 2,
       "version_minor": 0
      },
      "text/plain": [
       "Variation of alpha:   0%|          | 0/2 [00:00<?, ?it/s]"
      ]
     },
     "metadata": {},
     "output_type": "display_data"
    },
    {
     "data": {
      "application/vnd.jupyter.widget-view+json": {
       "model_id": "96842f2c7e9a4460b575dc08cdf002ec",
       "version_major": 2,
       "version_minor": 0
      },
      "text/plain": [
       "Making ensembles:   0%|          | 0/1 [00:00<?, ?it/s]"
      ]
     },
     "metadata": {},
     "output_type": "display_data"
    },
    {
     "data": {
      "application/vnd.jupyter.widget-view+json": {
       "model_id": "e06585f5c4c04378b52aba92fdde5ec7",
       "version_major": 2,
       "version_minor": 0
      },
      "text/plain": [
       "network dynamic:   0%|          | 0/9999 [00:00<?, ?it/s]"
      ]
     },
     "metadata": {},
     "output_type": "display_data"
    },
    {
     "data": {
      "application/vnd.jupyter.widget-view+json": {
       "model_id": "674976d2f2a54d8badee2a8fa1574a91",
       "version_major": 2,
       "version_minor": 0
      },
      "text/plain": [
       "Making ensembles:   0%|          | 0/1 [00:00<?, ?it/s]"
      ]
     },
     "metadata": {},
     "output_type": "display_data"
    },
    {
     "data": {
      "application/vnd.jupyter.widget-view+json": {
       "model_id": "11c68785fbb64bf9aee75f507f77fe6b",
       "version_major": 2,
       "version_minor": 0
      },
      "text/plain": [
       "network dynamic:   0%|          | 0/9999 [00:00<?, ?it/s]"
      ]
     },
     "metadata": {},
     "output_type": "display_data"
    },
    {
     "data": {
      "application/vnd.jupyter.widget-view+json": {
       "model_id": "0529701dcc6b4af89916ac04c3160366",
       "version_major": 2,
       "version_minor": 0
      },
      "text/plain": [
       "Variation of alpha:   0%|          | 0/2 [00:00<?, ?it/s]"
      ]
     },
     "metadata": {},
     "output_type": "display_data"
    },
    {
     "data": {
      "application/vnd.jupyter.widget-view+json": {
       "model_id": "7498ada6f7dc48d78a88dd45d5eff57b",
       "version_major": 2,
       "version_minor": 0
      },
      "text/plain": [
       "Making ensembles:   0%|          | 0/1 [00:00<?, ?it/s]"
      ]
     },
     "metadata": {},
     "output_type": "display_data"
    },
    {
     "data": {
      "application/vnd.jupyter.widget-view+json": {
       "model_id": "03d1f633411642c5b5c2997b61ee6f44",
       "version_major": 2,
       "version_minor": 0
      },
      "text/plain": [
       "network dynamic:   0%|          | 0/9999 [00:00<?, ?it/s]"
      ]
     },
     "metadata": {},
     "output_type": "display_data"
    },
    {
     "data": {
      "application/vnd.jupyter.widget-view+json": {
       "model_id": "3fc06baf563e49159bf97dfffa813e0e",
       "version_major": 2,
       "version_minor": 0
      },
      "text/plain": [
       "Making ensembles:   0%|          | 0/1 [00:00<?, ?it/s]"
      ]
     },
     "metadata": {},
     "output_type": "display_data"
    },
    {
     "data": {
      "application/vnd.jupyter.widget-view+json": {
       "model_id": "c76d9cb1d7f040fc9e3de70209be46ba",
       "version_major": 2,
       "version_minor": 0
      },
      "text/plain": [
       "network dynamic:   0%|          | 0/9999 [00:00<?, ?it/s]"
      ]
     },
     "metadata": {},
     "output_type": "display_data"
    },
    {
     "data": {
      "application/vnd.jupyter.widget-view+json": {
       "model_id": "d4cde5a151254b68aa2c5dbb670037ac",
       "version_major": 2,
       "version_minor": 0
      },
      "text/plain": [
       "Variation of alpha:   0%|          | 0/2 [00:00<?, ?it/s]"
      ]
     },
     "metadata": {},
     "output_type": "display_data"
    },
    {
     "data": {
      "application/vnd.jupyter.widget-view+json": {
       "model_id": "93685bcd3a954dad816694a574aa8ded",
       "version_major": 2,
       "version_minor": 0
      },
      "text/plain": [
       "Making ensembles:   0%|          | 0/1 [00:00<?, ?it/s]"
      ]
     },
     "metadata": {},
     "output_type": "display_data"
    },
    {
     "data": {
      "application/vnd.jupyter.widget-view+json": {
       "model_id": "a138bb7b590d4a479528508c54f1c54d",
       "version_major": 2,
       "version_minor": 0
      },
      "text/plain": [
       "network dynamic:   0%|          | 0/9999 [00:00<?, ?it/s]"
      ]
     },
     "metadata": {},
     "output_type": "display_data"
    },
    {
     "data": {
      "application/vnd.jupyter.widget-view+json": {
       "model_id": "c7ce11dc4cbc4896b2b01b811b95ffe4",
       "version_major": 2,
       "version_minor": 0
      },
      "text/plain": [
       "Making ensembles:   0%|          | 0/1 [00:00<?, ?it/s]"
      ]
     },
     "metadata": {},
     "output_type": "display_data"
    },
    {
     "data": {
      "application/vnd.jupyter.widget-view+json": {
       "model_id": "b1496bf0413d4974a166fdcf6f3c88ac",
       "version_major": 2,
       "version_minor": 0
      },
      "text/plain": [
       "network dynamic:   0%|          | 0/9999 [00:00<?, ?it/s]"
      ]
     },
     "metadata": {},
     "output_type": "display_data"
    },
    {
     "data": {
      "application/vnd.jupyter.widget-view+json": {
       "model_id": "c037797c151f4129985426ddb0685844",
       "version_major": 2,
       "version_minor": 0
      },
      "text/plain": [
       "Variation of alpha:   0%|          | 0/2 [00:00<?, ?it/s]"
      ]
     },
     "metadata": {},
     "output_type": "display_data"
    },
    {
     "data": {
      "application/vnd.jupyter.widget-view+json": {
       "model_id": "8dd04ca8bade4489818202b6215a90aa",
       "version_major": 2,
       "version_minor": 0
      },
      "text/plain": [
       "Making ensembles:   0%|          | 0/1 [00:00<?, ?it/s]"
      ]
     },
     "metadata": {},
     "output_type": "display_data"
    },
    {
     "data": {
      "application/vnd.jupyter.widget-view+json": {
       "model_id": "e2bd40d95c33419db777099c789d5c44",
       "version_major": 2,
       "version_minor": 0
      },
      "text/plain": [
       "network dynamic:   0%|          | 0/9999 [00:00<?, ?it/s]"
      ]
     },
     "metadata": {},
     "output_type": "display_data"
    },
    {
     "data": {
      "application/vnd.jupyter.widget-view+json": {
       "model_id": "13ea9e6acc2446c9a1f15c36cdc1fde5",
       "version_major": 2,
       "version_minor": 0
      },
      "text/plain": [
       "Making ensembles:   0%|          | 0/1 [00:00<?, ?it/s]"
      ]
     },
     "metadata": {},
     "output_type": "display_data"
    },
    {
     "data": {
      "application/vnd.jupyter.widget-view+json": {
       "model_id": "02e305e2e0fa4c5394d5ff86bc6d2d3a",
       "version_major": 2,
       "version_minor": 0
      },
      "text/plain": [
       "network dynamic:   0%|          | 0/9999 [00:00<?, ?it/s]"
      ]
     },
     "metadata": {},
     "output_type": "display_data"
    },
    {
     "data": {
      "application/vnd.jupyter.widget-view+json": {
       "model_id": "dcc7a53bc1b34c1090802fee77c6b12a",
       "version_major": 2,
       "version_minor": 0
      },
      "text/plain": [
       "Variation of alpha:   0%|          | 0/2 [00:00<?, ?it/s]"
      ]
     },
     "metadata": {},
     "output_type": "display_data"
    },
    {
     "data": {
      "application/vnd.jupyter.widget-view+json": {
       "model_id": "2a53cf3a4137490c838883abebca3a24",
       "version_major": 2,
       "version_minor": 0
      },
      "text/plain": [
       "Making ensembles:   0%|          | 0/1 [00:00<?, ?it/s]"
      ]
     },
     "metadata": {},
     "output_type": "display_data"
    },
    {
     "data": {
      "application/vnd.jupyter.widget-view+json": {
       "model_id": "e97c5fe9eb16448184aa4881f413ff92",
       "version_major": 2,
       "version_minor": 0
      },
      "text/plain": [
       "network dynamic:   0%|          | 0/9999 [00:00<?, ?it/s]"
      ]
     },
     "metadata": {},
     "output_type": "display_data"
    },
    {
     "data": {
      "application/vnd.jupyter.widget-view+json": {
       "model_id": "ba4a8f1d1cfe4776bc6ec23f15041434",
       "version_major": 2,
       "version_minor": 0
      },
      "text/plain": [
       "Making ensembles:   0%|          | 0/1 [00:00<?, ?it/s]"
      ]
     },
     "metadata": {},
     "output_type": "display_data"
    },
    {
     "data": {
      "application/vnd.jupyter.widget-view+json": {
       "model_id": "1343fe0daa5343cb98b2e96707a94a53",
       "version_major": 2,
       "version_minor": 0
      },
      "text/plain": [
       "network dynamic:   0%|          | 0/9999 [00:00<?, ?it/s]"
      ]
     },
     "metadata": {},
     "output_type": "display_data"
    },
    {
     "data": {
      "application/vnd.jupyter.widget-view+json": {
       "model_id": "3eb4455e146c42148d070d191b509978",
       "version_major": 2,
       "version_minor": 0
      },
      "text/plain": [
       "Variation of alpha:   0%|          | 0/2 [00:00<?, ?it/s]"
      ]
     },
     "metadata": {},
     "output_type": "display_data"
    },
    {
     "data": {
      "application/vnd.jupyter.widget-view+json": {
       "model_id": "c8055f508bcd4c2ebae2e62e3645b1a9",
       "version_major": 2,
       "version_minor": 0
      },
      "text/plain": [
       "Making ensembles:   0%|          | 0/1 [00:00<?, ?it/s]"
      ]
     },
     "metadata": {},
     "output_type": "display_data"
    },
    {
     "data": {
      "application/vnd.jupyter.widget-view+json": {
       "model_id": "e8b1653d492e46a1aca69dc27b8f3956",
       "version_major": 2,
       "version_minor": 0
      },
      "text/plain": [
       "network dynamic:   0%|          | 0/9999 [00:00<?, ?it/s]"
      ]
     },
     "metadata": {},
     "output_type": "display_data"
    },
    {
     "data": {
      "application/vnd.jupyter.widget-view+json": {
       "model_id": "3026c3e2ff1048d798b1fd90a5e7e1be",
       "version_major": 2,
       "version_minor": 0
      },
      "text/plain": [
       "Making ensembles:   0%|          | 0/1 [00:00<?, ?it/s]"
      ]
     },
     "metadata": {},
     "output_type": "display_data"
    },
    {
     "data": {
      "application/vnd.jupyter.widget-view+json": {
       "model_id": "3a4295f3d3ed43b6b5b55038e2d7e7b7",
       "version_major": 2,
       "version_minor": 0
      },
      "text/plain": [
       "network dynamic:   0%|          | 0/9999 [00:00<?, ?it/s]"
      ]
     },
     "metadata": {},
     "output_type": "display_data"
    },
    {
     "data": {
      "application/vnd.jupyter.widget-view+json": {
       "model_id": "0113d5d224c540508c20c3ed860c2cb6",
       "version_major": 2,
       "version_minor": 0
      },
      "text/plain": [
       "Variation of delay:   0%|          | 0/10 [00:00<?, ?it/s]"
      ]
     },
     "metadata": {},
     "output_type": "display_data"
    },
    {
     "data": {
      "application/vnd.jupyter.widget-view+json": {
       "model_id": "16341b54f77e4edaa1155473310a8cbd",
       "version_major": 2,
       "version_minor": 0
      },
      "text/plain": [
       "Variation of alpha:   0%|          | 0/2 [00:00<?, ?it/s]"
      ]
     },
     "metadata": {},
     "output_type": "display_data"
    },
    {
     "data": {
      "application/vnd.jupyter.widget-view+json": {
       "model_id": "65639894fe484ec68815f89f9f8b100a",
       "version_major": 2,
       "version_minor": 0
      },
      "text/plain": [
       "Making ensembles:   0%|          | 0/1 [00:00<?, ?it/s]"
      ]
     },
     "metadata": {},
     "output_type": "display_data"
    },
    {
     "data": {
      "application/vnd.jupyter.widget-view+json": {
       "model_id": "73b7069552f84f8abdf523c2cd92695c",
       "version_major": 2,
       "version_minor": 0
      },
      "text/plain": [
       "network dynamic:   0%|          | 0/9999 [00:00<?, ?it/s]"
      ]
     },
     "metadata": {},
     "output_type": "display_data"
    },
    {
     "data": {
      "application/vnd.jupyter.widget-view+json": {
       "model_id": "870c332afdaf473094f126f1b7a1f4f0",
       "version_major": 2,
       "version_minor": 0
      },
      "text/plain": [
       "Making ensembles:   0%|          | 0/1 [00:00<?, ?it/s]"
      ]
     },
     "metadata": {},
     "output_type": "display_data"
    },
    {
     "data": {
      "application/vnd.jupyter.widget-view+json": {
       "model_id": "7bca088577aa4a64a503f687bb2a236c",
       "version_major": 2,
       "version_minor": 0
      },
      "text/plain": [
       "network dynamic:   0%|          | 0/9999 [00:00<?, ?it/s]"
      ]
     },
     "metadata": {},
     "output_type": "display_data"
    },
    {
     "data": {
      "application/vnd.jupyter.widget-view+json": {
       "model_id": "ee98e54c291f4170b04734a907957a82",
       "version_major": 2,
       "version_minor": 0
      },
      "text/plain": [
       "Variation of alpha:   0%|          | 0/2 [00:00<?, ?it/s]"
      ]
     },
     "metadata": {},
     "output_type": "display_data"
    },
    {
     "data": {
      "application/vnd.jupyter.widget-view+json": {
       "model_id": "679c20bfe7b84f2298fc2632e84f0261",
       "version_major": 2,
       "version_minor": 0
      },
      "text/plain": [
       "Making ensembles:   0%|          | 0/1 [00:00<?, ?it/s]"
      ]
     },
     "metadata": {},
     "output_type": "display_data"
    },
    {
     "data": {
      "application/vnd.jupyter.widget-view+json": {
       "model_id": "fc97205e19b04d2ab5d7710a24aa4275",
       "version_major": 2,
       "version_minor": 0
      },
      "text/plain": [
       "network dynamic:   0%|          | 0/9999 [00:00<?, ?it/s]"
      ]
     },
     "metadata": {},
     "output_type": "display_data"
    },
    {
     "data": {
      "application/vnd.jupyter.widget-view+json": {
       "model_id": "52aa18d39629425f8f7764a3d06a1cc8",
       "version_major": 2,
       "version_minor": 0
      },
      "text/plain": [
       "Making ensembles:   0%|          | 0/1 [00:00<?, ?it/s]"
      ]
     },
     "metadata": {},
     "output_type": "display_data"
    },
    {
     "data": {
      "application/vnd.jupyter.widget-view+json": {
       "model_id": "46ef08d4e7f242abb8a15ff544e31146",
       "version_major": 2,
       "version_minor": 0
      },
      "text/plain": [
       "network dynamic:   0%|          | 0/9999 [00:00<?, ?it/s]"
      ]
     },
     "metadata": {},
     "output_type": "display_data"
    },
    {
     "data": {
      "application/vnd.jupyter.widget-view+json": {
       "model_id": "06b44765912d40349aeb883bbeba4ed3",
       "version_major": 2,
       "version_minor": 0
      },
      "text/plain": [
       "Variation of alpha:   0%|          | 0/2 [00:00<?, ?it/s]"
      ]
     },
     "metadata": {},
     "output_type": "display_data"
    },
    {
     "data": {
      "application/vnd.jupyter.widget-view+json": {
       "model_id": "27572a136fe24233a3e06d18171da028",
       "version_major": 2,
       "version_minor": 0
      },
      "text/plain": [
       "Making ensembles:   0%|          | 0/1 [00:00<?, ?it/s]"
      ]
     },
     "metadata": {},
     "output_type": "display_data"
    },
    {
     "data": {
      "application/vnd.jupyter.widget-view+json": {
       "model_id": "80f28bd048b14e439c050a094d56b374",
       "version_major": 2,
       "version_minor": 0
      },
      "text/plain": [
       "network dynamic:   0%|          | 0/9999 [00:00<?, ?it/s]"
      ]
     },
     "metadata": {},
     "output_type": "display_data"
    },
    {
     "data": {
      "application/vnd.jupyter.widget-view+json": {
       "model_id": "84ce5727cbce459781583c320ee5b36a",
       "version_major": 2,
       "version_minor": 0
      },
      "text/plain": [
       "Making ensembles:   0%|          | 0/1 [00:00<?, ?it/s]"
      ]
     },
     "metadata": {},
     "output_type": "display_data"
    },
    {
     "data": {
      "application/vnd.jupyter.widget-view+json": {
       "model_id": "e9cd296478504de68fd9b0d8fc2f07aa",
       "version_major": 2,
       "version_minor": 0
      },
      "text/plain": [
       "network dynamic:   0%|          | 0/9999 [00:00<?, ?it/s]"
      ]
     },
     "metadata": {},
     "output_type": "display_data"
    },
    {
     "data": {
      "application/vnd.jupyter.widget-view+json": {
       "model_id": "da6807ff7ff240d98deed49c532b0775",
       "version_major": 2,
       "version_minor": 0
      },
      "text/plain": [
       "Variation of alpha:   0%|          | 0/2 [00:00<?, ?it/s]"
      ]
     },
     "metadata": {},
     "output_type": "display_data"
    },
    {
     "data": {
      "application/vnd.jupyter.widget-view+json": {
       "model_id": "6c452aabbf744ee68b7b4381ccf50d7c",
       "version_major": 2,
       "version_minor": 0
      },
      "text/plain": [
       "Making ensembles:   0%|          | 0/1 [00:00<?, ?it/s]"
      ]
     },
     "metadata": {},
     "output_type": "display_data"
    },
    {
     "data": {
      "application/vnd.jupyter.widget-view+json": {
       "model_id": "ee2fb0fdc7fe4a6eaed89f3f7efa932e",
       "version_major": 2,
       "version_minor": 0
      },
      "text/plain": [
       "network dynamic:   0%|          | 0/9999 [00:00<?, ?it/s]"
      ]
     },
     "metadata": {},
     "output_type": "display_data"
    },
    {
     "data": {
      "application/vnd.jupyter.widget-view+json": {
       "model_id": "42129ddda28840da91b29c4e684b7162",
       "version_major": 2,
       "version_minor": 0
      },
      "text/plain": [
       "Making ensembles:   0%|          | 0/1 [00:00<?, ?it/s]"
      ]
     },
     "metadata": {},
     "output_type": "display_data"
    },
    {
     "data": {
      "application/vnd.jupyter.widget-view+json": {
       "model_id": "fb60e2bb5c3c4f2fbbc2d16098c353dd",
       "version_major": 2,
       "version_minor": 0
      },
      "text/plain": [
       "network dynamic:   0%|          | 0/9999 [00:00<?, ?it/s]"
      ]
     },
     "metadata": {},
     "output_type": "display_data"
    },
    {
     "data": {
      "application/vnd.jupyter.widget-view+json": {
       "model_id": "1c479000cf064e5d8abda3ca3f8770cc",
       "version_major": 2,
       "version_minor": 0
      },
      "text/plain": [
       "Variation of alpha:   0%|          | 0/2 [00:00<?, ?it/s]"
      ]
     },
     "metadata": {},
     "output_type": "display_data"
    },
    {
     "data": {
      "application/vnd.jupyter.widget-view+json": {
       "model_id": "fba19c1ff38f4ee0a8bdc0ae870ecd1c",
       "version_major": 2,
       "version_minor": 0
      },
      "text/plain": [
       "Making ensembles:   0%|          | 0/1 [00:00<?, ?it/s]"
      ]
     },
     "metadata": {},
     "output_type": "display_data"
    },
    {
     "data": {
      "application/vnd.jupyter.widget-view+json": {
       "model_id": "e94799556323418194b96b4923c8e802",
       "version_major": 2,
       "version_minor": 0
      },
      "text/plain": [
       "network dynamic:   0%|          | 0/9999 [00:00<?, ?it/s]"
      ]
     },
     "metadata": {},
     "output_type": "display_data"
    },
    {
     "data": {
      "application/vnd.jupyter.widget-view+json": {
       "model_id": "915879f56ab54c23927ff455438e20f8",
       "version_major": 2,
       "version_minor": 0
      },
      "text/plain": [
       "Making ensembles:   0%|          | 0/1 [00:00<?, ?it/s]"
      ]
     },
     "metadata": {},
     "output_type": "display_data"
    },
    {
     "data": {
      "application/vnd.jupyter.widget-view+json": {
       "model_id": "5767e545c50f4ff69e19af23d4e2e54b",
       "version_major": 2,
       "version_minor": 0
      },
      "text/plain": [
       "network dynamic:   0%|          | 0/9999 [00:00<?, ?it/s]"
      ]
     },
     "metadata": {},
     "output_type": "display_data"
    },
    {
     "data": {
      "application/vnd.jupyter.widget-view+json": {
       "model_id": "73e4a5abbe6642cbb666e9743eb47ced",
       "version_major": 2,
       "version_minor": 0
      },
      "text/plain": [
       "Variation of alpha:   0%|          | 0/2 [00:00<?, ?it/s]"
      ]
     },
     "metadata": {},
     "output_type": "display_data"
    },
    {
     "data": {
      "application/vnd.jupyter.widget-view+json": {
       "model_id": "b07849a75fa044788c5747857be523be",
       "version_major": 2,
       "version_minor": 0
      },
      "text/plain": [
       "Making ensembles:   0%|          | 0/1 [00:00<?, ?it/s]"
      ]
     },
     "metadata": {},
     "output_type": "display_data"
    },
    {
     "data": {
      "application/vnd.jupyter.widget-view+json": {
       "model_id": "8d1e1ed283d64f398b4a2c9cba26144a",
       "version_major": 2,
       "version_minor": 0
      },
      "text/plain": [
       "network dynamic:   0%|          | 0/9999 [00:00<?, ?it/s]"
      ]
     },
     "metadata": {},
     "output_type": "display_data"
    },
    {
     "data": {
      "application/vnd.jupyter.widget-view+json": {
       "model_id": "fa0863eadb3d41ccb42ed37f7e4a0fe5",
       "version_major": 2,
       "version_minor": 0
      },
      "text/plain": [
       "Making ensembles:   0%|          | 0/1 [00:00<?, ?it/s]"
      ]
     },
     "metadata": {},
     "output_type": "display_data"
    },
    {
     "data": {
      "application/vnd.jupyter.widget-view+json": {
       "model_id": "82b1f89d214647708bc05b643a4deeb1",
       "version_major": 2,
       "version_minor": 0
      },
      "text/plain": [
       "network dynamic:   0%|          | 0/9999 [00:00<?, ?it/s]"
      ]
     },
     "metadata": {},
     "output_type": "display_data"
    },
    {
     "data": {
      "application/vnd.jupyter.widget-view+json": {
       "model_id": "d6fc9ecb2726454a9fec2a6cd69a9909",
       "version_major": 2,
       "version_minor": 0
      },
      "text/plain": [
       "Variation of alpha:   0%|          | 0/2 [00:00<?, ?it/s]"
      ]
     },
     "metadata": {},
     "output_type": "display_data"
    },
    {
     "data": {
      "application/vnd.jupyter.widget-view+json": {
       "model_id": "a9e45d271725410293996794b6f109cd",
       "version_major": 2,
       "version_minor": 0
      },
      "text/plain": [
       "Making ensembles:   0%|          | 0/1 [00:00<?, ?it/s]"
      ]
     },
     "metadata": {},
     "output_type": "display_data"
    },
    {
     "data": {
      "application/vnd.jupyter.widget-view+json": {
       "model_id": "d45f72e1a1f94a4ea930c9ed4d60a025",
       "version_major": 2,
       "version_minor": 0
      },
      "text/plain": [
       "network dynamic:   0%|          | 0/9999 [00:00<?, ?it/s]"
      ]
     },
     "metadata": {},
     "output_type": "display_data"
    },
    {
     "data": {
      "application/vnd.jupyter.widget-view+json": {
       "model_id": "e68cd88eab974638ad54f3db8d00d999",
       "version_major": 2,
       "version_minor": 0
      },
      "text/plain": [
       "Making ensembles:   0%|          | 0/1 [00:00<?, ?it/s]"
      ]
     },
     "metadata": {},
     "output_type": "display_data"
    },
    {
     "data": {
      "application/vnd.jupyter.widget-view+json": {
       "model_id": "4999cb3d74b348b28a9e3fe99d55602e",
       "version_major": 2,
       "version_minor": 0
      },
      "text/plain": [
       "network dynamic:   0%|          | 0/9999 [00:00<?, ?it/s]"
      ]
     },
     "metadata": {},
     "output_type": "display_data"
    },
    {
     "data": {
      "application/vnd.jupyter.widget-view+json": {
       "model_id": "efcfc45bd3544c2eacd6a3488a25f68b",
       "version_major": 2,
       "version_minor": 0
      },
      "text/plain": [
       "Variation of alpha:   0%|          | 0/2 [00:00<?, ?it/s]"
      ]
     },
     "metadata": {},
     "output_type": "display_data"
    },
    {
     "data": {
      "application/vnd.jupyter.widget-view+json": {
       "model_id": "c6aff4c0658a42ae8a6340d66fb40ef9",
       "version_major": 2,
       "version_minor": 0
      },
      "text/plain": [
       "Making ensembles:   0%|          | 0/1 [00:00<?, ?it/s]"
      ]
     },
     "metadata": {},
     "output_type": "display_data"
    },
    {
     "data": {
      "application/vnd.jupyter.widget-view+json": {
       "model_id": "35494eb9351f4e0f94fa6930bfee1a7a",
       "version_major": 2,
       "version_minor": 0
      },
      "text/plain": [
       "network dynamic:   0%|          | 0/9999 [00:00<?, ?it/s]"
      ]
     },
     "metadata": {},
     "output_type": "display_data"
    },
    {
     "data": {
      "application/vnd.jupyter.widget-view+json": {
       "model_id": "e3239d1278f54965b3186ab5c03635e0",
       "version_major": 2,
       "version_minor": 0
      },
      "text/plain": [
       "Making ensembles:   0%|          | 0/1 [00:00<?, ?it/s]"
      ]
     },
     "metadata": {},
     "output_type": "display_data"
    },
    {
     "data": {
      "application/vnd.jupyter.widget-view+json": {
       "model_id": "9a5519c49e8e49c8bc3615d15d95d618",
       "version_major": 2,
       "version_minor": 0
      },
      "text/plain": [
       "network dynamic:   0%|          | 0/9999 [00:00<?, ?it/s]"
      ]
     },
     "metadata": {},
     "output_type": "display_data"
    },
    {
     "data": {
      "application/vnd.jupyter.widget-view+json": {
       "model_id": "ce6d6044048c409490e75010e7c4ac0f",
       "version_major": 2,
       "version_minor": 0
      },
      "text/plain": [
       "Variation of alpha:   0%|          | 0/2 [00:00<?, ?it/s]"
      ]
     },
     "metadata": {},
     "output_type": "display_data"
    },
    {
     "data": {
      "application/vnd.jupyter.widget-view+json": {
       "model_id": "8cacaf6ad741419bb0fc6c286bd4368c",
       "version_major": 2,
       "version_minor": 0
      },
      "text/plain": [
       "Making ensembles:   0%|          | 0/1 [00:00<?, ?it/s]"
      ]
     },
     "metadata": {},
     "output_type": "display_data"
    },
    {
     "data": {
      "application/vnd.jupyter.widget-view+json": {
       "model_id": "3d89ce8dc2954bbeb6df36834f52d64d",
       "version_major": 2,
       "version_minor": 0
      },
      "text/plain": [
       "network dynamic:   0%|          | 0/9999 [00:00<?, ?it/s]"
      ]
     },
     "metadata": {},
     "output_type": "display_data"
    },
    {
     "data": {
      "application/vnd.jupyter.widget-view+json": {
       "model_id": "67b8682597334299b3e76c467fd50a97",
       "version_major": 2,
       "version_minor": 0
      },
      "text/plain": [
       "Making ensembles:   0%|          | 0/1 [00:00<?, ?it/s]"
      ]
     },
     "metadata": {},
     "output_type": "display_data"
    },
    {
     "data": {
      "application/vnd.jupyter.widget-view+json": {
       "model_id": "23129d8015174107b4ce37c2066abb12",
       "version_major": 2,
       "version_minor": 0
      },
      "text/plain": [
       "network dynamic:   0%|          | 0/9999 [00:00<?, ?it/s]"
      ]
     },
     "metadata": {},
     "output_type": "display_data"
    },
    {
     "data": {
      "application/vnd.jupyter.widget-view+json": {
       "model_id": "5e886618db324840b68277f17347dec2",
       "version_major": 2,
       "version_minor": 0
      },
      "text/plain": [
       "Variation of alpha:   0%|          | 0/2 [00:00<?, ?it/s]"
      ]
     },
     "metadata": {},
     "output_type": "display_data"
    },
    {
     "data": {
      "application/vnd.jupyter.widget-view+json": {
       "model_id": "cb68f2c04d344770b0b8db7d94c1e8d2",
       "version_major": 2,
       "version_minor": 0
      },
      "text/plain": [
       "Making ensembles:   0%|          | 0/1 [00:00<?, ?it/s]"
      ]
     },
     "metadata": {},
     "output_type": "display_data"
    },
    {
     "data": {
      "application/vnd.jupyter.widget-view+json": {
       "model_id": "f91db51d41334e35bb8976932fc2a8b0",
       "version_major": 2,
       "version_minor": 0
      },
      "text/plain": [
       "network dynamic:   0%|          | 0/9999 [00:00<?, ?it/s]"
      ]
     },
     "metadata": {},
     "output_type": "display_data"
    },
    {
     "data": {
      "application/vnd.jupyter.widget-view+json": {
       "model_id": "6939ff0e3c714e658f08434bf29a3772",
       "version_major": 2,
       "version_minor": 0
      },
      "text/plain": [
       "Making ensembles:   0%|          | 0/1 [00:00<?, ?it/s]"
      ]
     },
     "metadata": {},
     "output_type": "display_data"
    },
    {
     "data": {
      "application/vnd.jupyter.widget-view+json": {
       "model_id": "fb82003900254cd194cd2059e7c13f18",
       "version_major": 2,
       "version_minor": 0
      },
      "text/plain": [
       "network dynamic:   0%|          | 0/9999 [00:00<?, ?it/s]"
      ]
     },
     "metadata": {},
     "output_type": "display_data"
    },
    {
     "data": {
      "application/vnd.jupyter.widget-view+json": {
       "model_id": "2b108dd5b90d4b36a9fb87a1a70ae0a1",
       "version_major": 2,
       "version_minor": 0
      },
      "text/plain": [
       "Variation of delay:   0%|          | 0/10 [00:00<?, ?it/s]"
      ]
     },
     "metadata": {},
     "output_type": "display_data"
    },
    {
     "data": {
      "application/vnd.jupyter.widget-view+json": {
       "model_id": "6f72dc7a5e61453c9ef567e237f4475f",
       "version_major": 2,
       "version_minor": 0
      },
      "text/plain": [
       "Variation of alpha:   0%|          | 0/2 [00:00<?, ?it/s]"
      ]
     },
     "metadata": {},
     "output_type": "display_data"
    },
    {
     "data": {
      "application/vnd.jupyter.widget-view+json": {
       "model_id": "114332ee99bf4d7ba64714f9c35caa10",
       "version_major": 2,
       "version_minor": 0
      },
      "text/plain": [
       "Making ensembles:   0%|          | 0/1 [00:00<?, ?it/s]"
      ]
     },
     "metadata": {},
     "output_type": "display_data"
    },
    {
     "data": {
      "application/vnd.jupyter.widget-view+json": {
       "model_id": "0dec90b49f754c6c867980a1e3027a8f",
       "version_major": 2,
       "version_minor": 0
      },
      "text/plain": [
       "network dynamic:   0%|          | 0/9999 [00:00<?, ?it/s]"
      ]
     },
     "metadata": {},
     "output_type": "display_data"
    },
    {
     "data": {
      "application/vnd.jupyter.widget-view+json": {
       "model_id": "693cb2c934df471482a50774a853f0bd",
       "version_major": 2,
       "version_minor": 0
      },
      "text/plain": [
       "Making ensembles:   0%|          | 0/1 [00:00<?, ?it/s]"
      ]
     },
     "metadata": {},
     "output_type": "display_data"
    },
    {
     "data": {
      "application/vnd.jupyter.widget-view+json": {
       "model_id": "f1780c63e230404faa8919bdbc3b834e",
       "version_major": 2,
       "version_minor": 0
      },
      "text/plain": [
       "network dynamic:   0%|          | 0/9999 [00:00<?, ?it/s]"
      ]
     },
     "metadata": {},
     "output_type": "display_data"
    },
    {
     "data": {
      "application/vnd.jupyter.widget-view+json": {
       "model_id": "5b4b41402c85466d81fafb5120129ce7",
       "version_major": 2,
       "version_minor": 0
      },
      "text/plain": [
       "Variation of alpha:   0%|          | 0/2 [00:00<?, ?it/s]"
      ]
     },
     "metadata": {},
     "output_type": "display_data"
    },
    {
     "data": {
      "application/vnd.jupyter.widget-view+json": {
       "model_id": "aaf03122030c45a78ec5e1b4fbd3af33",
       "version_major": 2,
       "version_minor": 0
      },
      "text/plain": [
       "Making ensembles:   0%|          | 0/1 [00:00<?, ?it/s]"
      ]
     },
     "metadata": {},
     "output_type": "display_data"
    },
    {
     "data": {
      "application/vnd.jupyter.widget-view+json": {
       "model_id": "649b6e8c16474398ab3b834809e8dfb9",
       "version_major": 2,
       "version_minor": 0
      },
      "text/plain": [
       "network dynamic:   0%|          | 0/9999 [00:00<?, ?it/s]"
      ]
     },
     "metadata": {},
     "output_type": "display_data"
    },
    {
     "data": {
      "application/vnd.jupyter.widget-view+json": {
       "model_id": "ffbe0e3943584d0da22ef110be019e5d",
       "version_major": 2,
       "version_minor": 0
      },
      "text/plain": [
       "Making ensembles:   0%|          | 0/1 [00:00<?, ?it/s]"
      ]
     },
     "metadata": {},
     "output_type": "display_data"
    },
    {
     "data": {
      "application/vnd.jupyter.widget-view+json": {
       "model_id": "7640705add3741c2bb1f47a6f5343a44",
       "version_major": 2,
       "version_minor": 0
      },
      "text/plain": [
       "network dynamic:   0%|          | 0/9999 [00:00<?, ?it/s]"
      ]
     },
     "metadata": {},
     "output_type": "display_data"
    },
    {
     "data": {
      "application/vnd.jupyter.widget-view+json": {
       "model_id": "a21c5dfd2b924578a20bfd6cfc038348",
       "version_major": 2,
       "version_minor": 0
      },
      "text/plain": [
       "Variation of alpha:   0%|          | 0/2 [00:00<?, ?it/s]"
      ]
     },
     "metadata": {},
     "output_type": "display_data"
    },
    {
     "data": {
      "application/vnd.jupyter.widget-view+json": {
       "model_id": "006080edb1b54f90b4a4e0869faf9cf5",
       "version_major": 2,
       "version_minor": 0
      },
      "text/plain": [
       "Making ensembles:   0%|          | 0/1 [00:00<?, ?it/s]"
      ]
     },
     "metadata": {},
     "output_type": "display_data"
    },
    {
     "data": {
      "application/vnd.jupyter.widget-view+json": {
       "model_id": "9702008f7d364b54a56cc40f0f77c4fe",
       "version_major": 2,
       "version_minor": 0
      },
      "text/plain": [
       "network dynamic:   0%|          | 0/9999 [00:00<?, ?it/s]"
      ]
     },
     "metadata": {},
     "output_type": "display_data"
    },
    {
     "data": {
      "application/vnd.jupyter.widget-view+json": {
       "model_id": "0bde1253d36e41bc969897e1994c81dc",
       "version_major": 2,
       "version_minor": 0
      },
      "text/plain": [
       "Making ensembles:   0%|          | 0/1 [00:00<?, ?it/s]"
      ]
     },
     "metadata": {},
     "output_type": "display_data"
    },
    {
     "data": {
      "application/vnd.jupyter.widget-view+json": {
       "model_id": "c0befc3607624e29a531e9a848612e92",
       "version_major": 2,
       "version_minor": 0
      },
      "text/plain": [
       "network dynamic:   0%|          | 0/9999 [00:00<?, ?it/s]"
      ]
     },
     "metadata": {},
     "output_type": "display_data"
    },
    {
     "data": {
      "application/vnd.jupyter.widget-view+json": {
       "model_id": "349b38d40e7245ffad59aef2d41f1bc2",
       "version_major": 2,
       "version_minor": 0
      },
      "text/plain": [
       "Variation of alpha:   0%|          | 0/2 [00:00<?, ?it/s]"
      ]
     },
     "metadata": {},
     "output_type": "display_data"
    },
    {
     "data": {
      "application/vnd.jupyter.widget-view+json": {
       "model_id": "9dd0dd3369cd43bbb04bb2d38f9ce44d",
       "version_major": 2,
       "version_minor": 0
      },
      "text/plain": [
       "Making ensembles:   0%|          | 0/1 [00:00<?, ?it/s]"
      ]
     },
     "metadata": {},
     "output_type": "display_data"
    },
    {
     "data": {
      "application/vnd.jupyter.widget-view+json": {
       "model_id": "9ad0841c687945aa9c33f475a50ada82",
       "version_major": 2,
       "version_minor": 0
      },
      "text/plain": [
       "network dynamic:   0%|          | 0/9999 [00:00<?, ?it/s]"
      ]
     },
     "metadata": {},
     "output_type": "display_data"
    },
    {
     "data": {
      "application/vnd.jupyter.widget-view+json": {
       "model_id": "edf79f4f3c5e48589fef733a893dc00a",
       "version_major": 2,
       "version_minor": 0
      },
      "text/plain": [
       "Making ensembles:   0%|          | 0/1 [00:00<?, ?it/s]"
      ]
     },
     "metadata": {},
     "output_type": "display_data"
    },
    {
     "data": {
      "application/vnd.jupyter.widget-view+json": {
       "model_id": "2606561c65bc40ef9d8f847aaaa819ee",
       "version_major": 2,
       "version_minor": 0
      },
      "text/plain": [
       "network dynamic:   0%|          | 0/9999 [00:00<?, ?it/s]"
      ]
     },
     "metadata": {},
     "output_type": "display_data"
    },
    {
     "data": {
      "application/vnd.jupyter.widget-view+json": {
       "model_id": "ed12fec4c2424e0aae0b9c2246db3b57",
       "version_major": 2,
       "version_minor": 0
      },
      "text/plain": [
       "Variation of alpha:   0%|          | 0/2 [00:00<?, ?it/s]"
      ]
     },
     "metadata": {},
     "output_type": "display_data"
    },
    {
     "data": {
      "application/vnd.jupyter.widget-view+json": {
       "model_id": "4ed5c5c573db4c9fabb337758d7c0884",
       "version_major": 2,
       "version_minor": 0
      },
      "text/plain": [
       "Making ensembles:   0%|          | 0/1 [00:00<?, ?it/s]"
      ]
     },
     "metadata": {},
     "output_type": "display_data"
    },
    {
     "data": {
      "application/vnd.jupyter.widget-view+json": {
       "model_id": "b7da579cc7ef471f9b74b0001955e82e",
       "version_major": 2,
       "version_minor": 0
      },
      "text/plain": [
       "network dynamic:   0%|          | 0/9999 [00:00<?, ?it/s]"
      ]
     },
     "metadata": {},
     "output_type": "display_data"
    },
    {
     "data": {
      "application/vnd.jupyter.widget-view+json": {
       "model_id": "f9703e12921346df81c65c13b611db80",
       "version_major": 2,
       "version_minor": 0
      },
      "text/plain": [
       "Making ensembles:   0%|          | 0/1 [00:00<?, ?it/s]"
      ]
     },
     "metadata": {},
     "output_type": "display_data"
    },
    {
     "data": {
      "application/vnd.jupyter.widget-view+json": {
       "model_id": "a5ff2ece5dbd4f598884715d104b0d17",
       "version_major": 2,
       "version_minor": 0
      },
      "text/plain": [
       "network dynamic:   0%|          | 0/9999 [00:00<?, ?it/s]"
      ]
     },
     "metadata": {},
     "output_type": "display_data"
    },
    {
     "data": {
      "application/vnd.jupyter.widget-view+json": {
       "model_id": "ce6a48c6e8a546c4ac139f3e83b906fc",
       "version_major": 2,
       "version_minor": 0
      },
      "text/plain": [
       "Variation of alpha:   0%|          | 0/2 [00:00<?, ?it/s]"
      ]
     },
     "metadata": {},
     "output_type": "display_data"
    },
    {
     "data": {
      "application/vnd.jupyter.widget-view+json": {
       "model_id": "c81f4828e19b4a05ae1220c86471ad5c",
       "version_major": 2,
       "version_minor": 0
      },
      "text/plain": [
       "Making ensembles:   0%|          | 0/1 [00:00<?, ?it/s]"
      ]
     },
     "metadata": {},
     "output_type": "display_data"
    },
    {
     "data": {
      "application/vnd.jupyter.widget-view+json": {
       "model_id": "209db2ec67f6489ca8e04c54dc23b287",
       "version_major": 2,
       "version_minor": 0
      },
      "text/plain": [
       "network dynamic:   0%|          | 0/9999 [00:00<?, ?it/s]"
      ]
     },
     "metadata": {},
     "output_type": "display_data"
    },
    {
     "data": {
      "application/vnd.jupyter.widget-view+json": {
       "model_id": "b25f9ac79fd64a4fb5a0bf695f535103",
       "version_major": 2,
       "version_minor": 0
      },
      "text/plain": [
       "Making ensembles:   0%|          | 0/1 [00:00<?, ?it/s]"
      ]
     },
     "metadata": {},
     "output_type": "display_data"
    },
    {
     "data": {
      "application/vnd.jupyter.widget-view+json": {
       "model_id": "1a06a30cf7054868afa366da1a3b5fad",
       "version_major": 2,
       "version_minor": 0
      },
      "text/plain": [
       "network dynamic:   0%|          | 0/9999 [00:00<?, ?it/s]"
      ]
     },
     "metadata": {},
     "output_type": "display_data"
    },
    {
     "data": {
      "application/vnd.jupyter.widget-view+json": {
       "model_id": "3a61a99e1bcf4539a20f1ac3f8561186",
       "version_major": 2,
       "version_minor": 0
      },
      "text/plain": [
       "Variation of alpha:   0%|          | 0/2 [00:00<?, ?it/s]"
      ]
     },
     "metadata": {},
     "output_type": "display_data"
    },
    {
     "data": {
      "application/vnd.jupyter.widget-view+json": {
       "model_id": "60f56a4ac1ad40a187ae69620383076b",
       "version_major": 2,
       "version_minor": 0
      },
      "text/plain": [
       "Making ensembles:   0%|          | 0/1 [00:00<?, ?it/s]"
      ]
     },
     "metadata": {},
     "output_type": "display_data"
    },
    {
     "data": {
      "application/vnd.jupyter.widget-view+json": {
       "model_id": "630b5a7d62d14d028793015811b97a0f",
       "version_major": 2,
       "version_minor": 0
      },
      "text/plain": [
       "network dynamic:   0%|          | 0/9999 [00:00<?, ?it/s]"
      ]
     },
     "metadata": {},
     "output_type": "display_data"
    },
    {
     "data": {
      "application/vnd.jupyter.widget-view+json": {
       "model_id": "46ea50e76b61405194dfa83e6eb05fe5",
       "version_major": 2,
       "version_minor": 0
      },
      "text/plain": [
       "Making ensembles:   0%|          | 0/1 [00:00<?, ?it/s]"
      ]
     },
     "metadata": {},
     "output_type": "display_data"
    },
    {
     "data": {
      "application/vnd.jupyter.widget-view+json": {
       "model_id": "6a2eaed205474371a6cebd92b5c6f675",
       "version_major": 2,
       "version_minor": 0
      },
      "text/plain": [
       "network dynamic:   0%|          | 0/9999 [00:00<?, ?it/s]"
      ]
     },
     "metadata": {},
     "output_type": "display_data"
    },
    {
     "data": {
      "application/vnd.jupyter.widget-view+json": {
       "model_id": "5838a424d52441c897bdb8e2ada6f44c",
       "version_major": 2,
       "version_minor": 0
      },
      "text/plain": [
       "Variation of alpha:   0%|          | 0/2 [00:00<?, ?it/s]"
      ]
     },
     "metadata": {},
     "output_type": "display_data"
    },
    {
     "data": {
      "application/vnd.jupyter.widget-view+json": {
       "model_id": "d80fbda617fb4c6f9467667dcac54955",
       "version_major": 2,
       "version_minor": 0
      },
      "text/plain": [
       "Making ensembles:   0%|          | 0/1 [00:00<?, ?it/s]"
      ]
     },
     "metadata": {},
     "output_type": "display_data"
    },
    {
     "data": {
      "application/vnd.jupyter.widget-view+json": {
       "model_id": "fc0feb3e543d4871970577a7751e4297",
       "version_major": 2,
       "version_minor": 0
      },
      "text/plain": [
       "network dynamic:   0%|          | 0/9999 [00:00<?, ?it/s]"
      ]
     },
     "metadata": {},
     "output_type": "display_data"
    },
    {
     "data": {
      "application/vnd.jupyter.widget-view+json": {
       "model_id": "a7ba0a057bbf4dc78fda6098055659b9",
       "version_major": 2,
       "version_minor": 0
      },
      "text/plain": [
       "Making ensembles:   0%|          | 0/1 [00:00<?, ?it/s]"
      ]
     },
     "metadata": {},
     "output_type": "display_data"
    },
    {
     "data": {
      "application/vnd.jupyter.widget-view+json": {
       "model_id": "339ea14b7f924b3dae99d8325804044d",
       "version_major": 2,
       "version_minor": 0
      },
      "text/plain": [
       "network dynamic:   0%|          | 0/9999 [00:00<?, ?it/s]"
      ]
     },
     "metadata": {},
     "output_type": "display_data"
    },
    {
     "data": {
      "application/vnd.jupyter.widget-view+json": {
       "model_id": "392fe01feb284eebb070fa14d0ce8855",
       "version_major": 2,
       "version_minor": 0
      },
      "text/plain": [
       "Variation of alpha:   0%|          | 0/2 [00:00<?, ?it/s]"
      ]
     },
     "metadata": {},
     "output_type": "display_data"
    },
    {
     "data": {
      "application/vnd.jupyter.widget-view+json": {
       "model_id": "2a02bab70b21486083b50d9be8df80a0",
       "version_major": 2,
       "version_minor": 0
      },
      "text/plain": [
       "Making ensembles:   0%|          | 0/1 [00:00<?, ?it/s]"
      ]
     },
     "metadata": {},
     "output_type": "display_data"
    },
    {
     "data": {
      "application/vnd.jupyter.widget-view+json": {
       "model_id": "20a94e0affe34d5e95822ae75fbd71c5",
       "version_major": 2,
       "version_minor": 0
      },
      "text/plain": [
       "network dynamic:   0%|          | 0/9999 [00:00<?, ?it/s]"
      ]
     },
     "metadata": {},
     "output_type": "display_data"
    },
    {
     "data": {
      "application/vnd.jupyter.widget-view+json": {
       "model_id": "0258a049143a4a5db7e042d4fdd14162",
       "version_major": 2,
       "version_minor": 0
      },
      "text/plain": [
       "Making ensembles:   0%|          | 0/1 [00:00<?, ?it/s]"
      ]
     },
     "metadata": {},
     "output_type": "display_data"
    },
    {
     "data": {
      "application/vnd.jupyter.widget-view+json": {
       "model_id": "11a32f8fa2514368a15774f68f717628",
       "version_major": 2,
       "version_minor": 0
      },
      "text/plain": [
       "network dynamic:   0%|          | 0/9999 [00:00<?, ?it/s]"
      ]
     },
     "metadata": {},
     "output_type": "display_data"
    },
    {
     "data": {
      "application/vnd.jupyter.widget-view+json": {
       "model_id": "21b8c1a49bb04fd0bf16f124fe6c3e32",
       "version_major": 2,
       "version_minor": 0
      },
      "text/plain": [
       "Variation of alpha:   0%|          | 0/2 [00:00<?, ?it/s]"
      ]
     },
     "metadata": {},
     "output_type": "display_data"
    },
    {
     "data": {
      "application/vnd.jupyter.widget-view+json": {
       "model_id": "664fdccfa2f044d4bb03d7d0409a27a3",
       "version_major": 2,
       "version_minor": 0
      },
      "text/plain": [
       "Making ensembles:   0%|          | 0/1 [00:00<?, ?it/s]"
      ]
     },
     "metadata": {},
     "output_type": "display_data"
    },
    {
     "data": {
      "application/vnd.jupyter.widget-view+json": {
       "model_id": "bc87f6d5761b4bda92a8f46262d56ac6",
       "version_major": 2,
       "version_minor": 0
      },
      "text/plain": [
       "network dynamic:   0%|          | 0/9999 [00:00<?, ?it/s]"
      ]
     },
     "metadata": {},
     "output_type": "display_data"
    },
    {
     "data": {
      "application/vnd.jupyter.widget-view+json": {
       "model_id": "f4546bf31087468ebe2b08b02f971b27",
       "version_major": 2,
       "version_minor": 0
      },
      "text/plain": [
       "Making ensembles:   0%|          | 0/1 [00:00<?, ?it/s]"
      ]
     },
     "metadata": {},
     "output_type": "display_data"
    },
    {
     "data": {
      "application/vnd.jupyter.widget-view+json": {
       "model_id": "853f8fb800744e1d80fa1f640af5f65e",
       "version_major": 2,
       "version_minor": 0
      },
      "text/plain": [
       "network dynamic:   0%|          | 0/9999 [00:00<?, ?it/s]"
      ]
     },
     "metadata": {},
     "output_type": "display_data"
    },
    {
     "data": {
      "application/vnd.jupyter.widget-view+json": {
       "model_id": "fa2793e390e749109cf295da9dd13e18",
       "version_major": 2,
       "version_minor": 0
      },
      "text/plain": [
       "Variation of delay:   0%|          | 0/10 [00:00<?, ?it/s]"
      ]
     },
     "metadata": {},
     "output_type": "display_data"
    },
    {
     "data": {
      "application/vnd.jupyter.widget-view+json": {
       "model_id": "0c7f7b33df0b449baf55018127dd2c18",
       "version_major": 2,
       "version_minor": 0
      },
      "text/plain": [
       "Variation of alpha:   0%|          | 0/2 [00:00<?, ?it/s]"
      ]
     },
     "metadata": {},
     "output_type": "display_data"
    },
    {
     "data": {
      "application/vnd.jupyter.widget-view+json": {
       "model_id": "f29f5bee06e84f8082f9a8c6228f056b",
       "version_major": 2,
       "version_minor": 0
      },
      "text/plain": [
       "Making ensembles:   0%|          | 0/1 [00:00<?, ?it/s]"
      ]
     },
     "metadata": {},
     "output_type": "display_data"
    },
    {
     "data": {
      "application/vnd.jupyter.widget-view+json": {
       "model_id": "69ad6a6390b2491ead5083facdd7a226",
       "version_major": 2,
       "version_minor": 0
      },
      "text/plain": [
       "network dynamic:   0%|          | 0/9999 [00:00<?, ?it/s]"
      ]
     },
     "metadata": {},
     "output_type": "display_data"
    },
    {
     "data": {
      "application/vnd.jupyter.widget-view+json": {
       "model_id": "e462be92ddf24d989d0aa7a659257172",
       "version_major": 2,
       "version_minor": 0
      },
      "text/plain": [
       "Making ensembles:   0%|          | 0/1 [00:00<?, ?it/s]"
      ]
     },
     "metadata": {},
     "output_type": "display_data"
    },
    {
     "data": {
      "application/vnd.jupyter.widget-view+json": {
       "model_id": "2d00c9623f2241c0ad9233d64d944ec6",
       "version_major": 2,
       "version_minor": 0
      },
      "text/plain": [
       "network dynamic:   0%|          | 0/9999 [00:00<?, ?it/s]"
      ]
     },
     "metadata": {},
     "output_type": "display_data"
    },
    {
     "data": {
      "application/vnd.jupyter.widget-view+json": {
       "model_id": "68bf451a5ab8448aa83782727a5996b3",
       "version_major": 2,
       "version_minor": 0
      },
      "text/plain": [
       "Variation of alpha:   0%|          | 0/2 [00:00<?, ?it/s]"
      ]
     },
     "metadata": {},
     "output_type": "display_data"
    },
    {
     "data": {
      "application/vnd.jupyter.widget-view+json": {
       "model_id": "74d81dc83bd3429d85a233fcd14eb1ef",
       "version_major": 2,
       "version_minor": 0
      },
      "text/plain": [
       "Making ensembles:   0%|          | 0/1 [00:00<?, ?it/s]"
      ]
     },
     "metadata": {},
     "output_type": "display_data"
    },
    {
     "data": {
      "application/vnd.jupyter.widget-view+json": {
       "model_id": "9ced6f17ebf549e1bddac1b3f3768dfa",
       "version_major": 2,
       "version_minor": 0
      },
      "text/plain": [
       "network dynamic:   0%|          | 0/9999 [00:00<?, ?it/s]"
      ]
     },
     "metadata": {},
     "output_type": "display_data"
    },
    {
     "data": {
      "application/vnd.jupyter.widget-view+json": {
       "model_id": "3f88cefda43a403ebaedfd1989b96063",
       "version_major": 2,
       "version_minor": 0
      },
      "text/plain": [
       "Making ensembles:   0%|          | 0/1 [00:00<?, ?it/s]"
      ]
     },
     "metadata": {},
     "output_type": "display_data"
    },
    {
     "data": {
      "application/vnd.jupyter.widget-view+json": {
       "model_id": "858de148652e45c195c6b0e50b52066d",
       "version_major": 2,
       "version_minor": 0
      },
      "text/plain": [
       "network dynamic:   0%|          | 0/9999 [00:00<?, ?it/s]"
      ]
     },
     "metadata": {},
     "output_type": "display_data"
    },
    {
     "data": {
      "application/vnd.jupyter.widget-view+json": {
       "model_id": "7dd72c86be7042bf8ed618e82d8b117d",
       "version_major": 2,
       "version_minor": 0
      },
      "text/plain": [
       "Variation of alpha:   0%|          | 0/2 [00:00<?, ?it/s]"
      ]
     },
     "metadata": {},
     "output_type": "display_data"
    },
    {
     "data": {
      "application/vnd.jupyter.widget-view+json": {
       "model_id": "628fe9b3ed554e7f804577eff9761af5",
       "version_major": 2,
       "version_minor": 0
      },
      "text/plain": [
       "Making ensembles:   0%|          | 0/1 [00:00<?, ?it/s]"
      ]
     },
     "metadata": {},
     "output_type": "display_data"
    },
    {
     "data": {
      "application/vnd.jupyter.widget-view+json": {
       "model_id": "2dc23fa2ecf44c8eb9dfb065e44f2186",
       "version_major": 2,
       "version_minor": 0
      },
      "text/plain": [
       "network dynamic:   0%|          | 0/9999 [00:00<?, ?it/s]"
      ]
     },
     "metadata": {},
     "output_type": "display_data"
    },
    {
     "data": {
      "application/vnd.jupyter.widget-view+json": {
       "model_id": "d84be088e10b429a9d7fa1a1c28475e6",
       "version_major": 2,
       "version_minor": 0
      },
      "text/plain": [
       "Making ensembles:   0%|          | 0/1 [00:00<?, ?it/s]"
      ]
     },
     "metadata": {},
     "output_type": "display_data"
    },
    {
     "data": {
      "application/vnd.jupyter.widget-view+json": {
       "model_id": "e89b25f27f844680a1835db2c8f57c5a",
       "version_major": 2,
       "version_minor": 0
      },
      "text/plain": [
       "network dynamic:   0%|          | 0/9999 [00:00<?, ?it/s]"
      ]
     },
     "metadata": {},
     "output_type": "display_data"
    },
    {
     "data": {
      "application/vnd.jupyter.widget-view+json": {
       "model_id": "a462331f280e421fb0af1b7fdcad4d48",
       "version_major": 2,
       "version_minor": 0
      },
      "text/plain": [
       "Variation of alpha:   0%|          | 0/2 [00:00<?, ?it/s]"
      ]
     },
     "metadata": {},
     "output_type": "display_data"
    },
    {
     "data": {
      "application/vnd.jupyter.widget-view+json": {
       "model_id": "8dd78f392ff841f2b47a9e880cb28b67",
       "version_major": 2,
       "version_minor": 0
      },
      "text/plain": [
       "Making ensembles:   0%|          | 0/1 [00:00<?, ?it/s]"
      ]
     },
     "metadata": {},
     "output_type": "display_data"
    },
    {
     "data": {
      "application/vnd.jupyter.widget-view+json": {
       "model_id": "6d6a1e1b2fb442179c4214354e888129",
       "version_major": 2,
       "version_minor": 0
      },
      "text/plain": [
       "network dynamic:   0%|          | 0/9999 [00:00<?, ?it/s]"
      ]
     },
     "metadata": {},
     "output_type": "display_data"
    },
    {
     "data": {
      "application/vnd.jupyter.widget-view+json": {
       "model_id": "7972685a09f9423a9bc138923c794f39",
       "version_major": 2,
       "version_minor": 0
      },
      "text/plain": [
       "Making ensembles:   0%|          | 0/1 [00:00<?, ?it/s]"
      ]
     },
     "metadata": {},
     "output_type": "display_data"
    },
    {
     "data": {
      "application/vnd.jupyter.widget-view+json": {
       "model_id": "392619bc7837403e8c99a778d0ccedd3",
       "version_major": 2,
       "version_minor": 0
      },
      "text/plain": [
       "network dynamic:   0%|          | 0/9999 [00:00<?, ?it/s]"
      ]
     },
     "metadata": {},
     "output_type": "display_data"
    },
    {
     "data": {
      "application/vnd.jupyter.widget-view+json": {
       "model_id": "85b6a231af2842408d36814803003953",
       "version_major": 2,
       "version_minor": 0
      },
      "text/plain": [
       "Variation of alpha:   0%|          | 0/2 [00:00<?, ?it/s]"
      ]
     },
     "metadata": {},
     "output_type": "display_data"
    },
    {
     "data": {
      "application/vnd.jupyter.widget-view+json": {
       "model_id": "3bf953d5cbd942479aaa64b6cf845a87",
       "version_major": 2,
       "version_minor": 0
      },
      "text/plain": [
       "Making ensembles:   0%|          | 0/1 [00:00<?, ?it/s]"
      ]
     },
     "metadata": {},
     "output_type": "display_data"
    },
    {
     "data": {
      "application/vnd.jupyter.widget-view+json": {
       "model_id": "4c5fdb34ebeb4c84a2b25f59989e8092",
       "version_major": 2,
       "version_minor": 0
      },
      "text/plain": [
       "network dynamic:   0%|          | 0/9999 [00:00<?, ?it/s]"
      ]
     },
     "metadata": {},
     "output_type": "display_data"
    },
    {
     "data": {
      "application/vnd.jupyter.widget-view+json": {
       "model_id": "30989f0c9526474bac8294f8a5b2f3b1",
       "version_major": 2,
       "version_minor": 0
      },
      "text/plain": [
       "Making ensembles:   0%|          | 0/1 [00:00<?, ?it/s]"
      ]
     },
     "metadata": {},
     "output_type": "display_data"
    },
    {
     "data": {
      "application/vnd.jupyter.widget-view+json": {
       "model_id": "a01d2fb524ba4f2f878fb55115bb4368",
       "version_major": 2,
       "version_minor": 0
      },
      "text/plain": [
       "network dynamic:   0%|          | 0/9999 [00:00<?, ?it/s]"
      ]
     },
     "metadata": {},
     "output_type": "display_data"
    },
    {
     "data": {
      "application/vnd.jupyter.widget-view+json": {
       "model_id": "23b01e240b214e90a0ebc299b422cd85",
       "version_major": 2,
       "version_minor": 0
      },
      "text/plain": [
       "Variation of alpha:   0%|          | 0/2 [00:00<?, ?it/s]"
      ]
     },
     "metadata": {},
     "output_type": "display_data"
    },
    {
     "data": {
      "application/vnd.jupyter.widget-view+json": {
       "model_id": "a5366871ea854de08e86f4f6e6daf144",
       "version_major": 2,
       "version_minor": 0
      },
      "text/plain": [
       "Making ensembles:   0%|          | 0/1 [00:00<?, ?it/s]"
      ]
     },
     "metadata": {},
     "output_type": "display_data"
    },
    {
     "data": {
      "application/vnd.jupyter.widget-view+json": {
       "model_id": "518b70d2e9b84aeebc2941a65ceadd83",
       "version_major": 2,
       "version_minor": 0
      },
      "text/plain": [
       "network dynamic:   0%|          | 0/9999 [00:00<?, ?it/s]"
      ]
     },
     "metadata": {},
     "output_type": "display_data"
    },
    {
     "data": {
      "application/vnd.jupyter.widget-view+json": {
       "model_id": "1746a5013e604dfd99e1e0d3b1efda91",
       "version_major": 2,
       "version_minor": 0
      },
      "text/plain": [
       "Making ensembles:   0%|          | 0/1 [00:00<?, ?it/s]"
      ]
     },
     "metadata": {},
     "output_type": "display_data"
    },
    {
     "data": {
      "application/vnd.jupyter.widget-view+json": {
       "model_id": "59ee6b025d344db3ac1c6af722d63d82",
       "version_major": 2,
       "version_minor": 0
      },
      "text/plain": [
       "network dynamic:   0%|          | 0/9999 [00:00<?, ?it/s]"
      ]
     },
     "metadata": {},
     "output_type": "display_data"
    },
    {
     "data": {
      "application/vnd.jupyter.widget-view+json": {
       "model_id": "104b2a422ece407abfa3fb4f14cb91ae",
       "version_major": 2,
       "version_minor": 0
      },
      "text/plain": [
       "Variation of alpha:   0%|          | 0/2 [00:00<?, ?it/s]"
      ]
     },
     "metadata": {},
     "output_type": "display_data"
    },
    {
     "data": {
      "application/vnd.jupyter.widget-view+json": {
       "model_id": "d9f70b11310841ffa0537f9e1aa22fdb",
       "version_major": 2,
       "version_minor": 0
      },
      "text/plain": [
       "Making ensembles:   0%|          | 0/1 [00:00<?, ?it/s]"
      ]
     },
     "metadata": {},
     "output_type": "display_data"
    },
    {
     "data": {
      "application/vnd.jupyter.widget-view+json": {
       "model_id": "f933a822ea9a48f8b527f9e0ddada75d",
       "version_major": 2,
       "version_minor": 0
      },
      "text/plain": [
       "network dynamic:   0%|          | 0/9999 [00:00<?, ?it/s]"
      ]
     },
     "metadata": {},
     "output_type": "display_data"
    },
    {
     "data": {
      "application/vnd.jupyter.widget-view+json": {
       "model_id": "a93820686d1947308371af7265515c5a",
       "version_major": 2,
       "version_minor": 0
      },
      "text/plain": [
       "Making ensembles:   0%|          | 0/1 [00:00<?, ?it/s]"
      ]
     },
     "metadata": {},
     "output_type": "display_data"
    },
    {
     "data": {
      "application/vnd.jupyter.widget-view+json": {
       "model_id": "b8567caf116d4815a92b77bc468982dd",
       "version_major": 2,
       "version_minor": 0
      },
      "text/plain": [
       "network dynamic:   0%|          | 0/9999 [00:00<?, ?it/s]"
      ]
     },
     "metadata": {},
     "output_type": "display_data"
    },
    {
     "data": {
      "application/vnd.jupyter.widget-view+json": {
       "model_id": "8712c9de20814164a3f62b92134d7f80",
       "version_major": 2,
       "version_minor": 0
      },
      "text/plain": [
       "Variation of alpha:   0%|          | 0/2 [00:00<?, ?it/s]"
      ]
     },
     "metadata": {},
     "output_type": "display_data"
    },
    {
     "data": {
      "application/vnd.jupyter.widget-view+json": {
       "model_id": "7835296650b74b04a4591ffbf8ac2508",
       "version_major": 2,
       "version_minor": 0
      },
      "text/plain": [
       "Making ensembles:   0%|          | 0/1 [00:00<?, ?it/s]"
      ]
     },
     "metadata": {},
     "output_type": "display_data"
    },
    {
     "data": {
      "application/vnd.jupyter.widget-view+json": {
       "model_id": "4edc339a700340e1b8fd0b59e2036a73",
       "version_major": 2,
       "version_minor": 0
      },
      "text/plain": [
       "network dynamic:   0%|          | 0/9999 [00:00<?, ?it/s]"
      ]
     },
     "metadata": {},
     "output_type": "display_data"
    },
    {
     "data": {
      "application/vnd.jupyter.widget-view+json": {
       "model_id": "c5b1911c43024c6aa21a1074cd3f881b",
       "version_major": 2,
       "version_minor": 0
      },
      "text/plain": [
       "Making ensembles:   0%|          | 0/1 [00:00<?, ?it/s]"
      ]
     },
     "metadata": {},
     "output_type": "display_data"
    },
    {
     "data": {
      "application/vnd.jupyter.widget-view+json": {
       "model_id": "184b51ad81d34b18912eacc4e14e4484",
       "version_major": 2,
       "version_minor": 0
      },
      "text/plain": [
       "network dynamic:   0%|          | 0/9999 [00:00<?, ?it/s]"
      ]
     },
     "metadata": {},
     "output_type": "display_data"
    },
    {
     "data": {
      "application/vnd.jupyter.widget-view+json": {
       "model_id": "e870902741c2481f964d3f8fdc629c55",
       "version_major": 2,
       "version_minor": 0
      },
      "text/plain": [
       "Variation of alpha:   0%|          | 0/2 [00:00<?, ?it/s]"
      ]
     },
     "metadata": {},
     "output_type": "display_data"
    },
    {
     "data": {
      "application/vnd.jupyter.widget-view+json": {
       "model_id": "27de39b54e6b4649860c3912b819d9d2",
       "version_major": 2,
       "version_minor": 0
      },
      "text/plain": [
       "Making ensembles:   0%|          | 0/1 [00:00<?, ?it/s]"
      ]
     },
     "metadata": {},
     "output_type": "display_data"
    },
    {
     "data": {
      "application/vnd.jupyter.widget-view+json": {
       "model_id": "8708f65afbf24456833407a625aaae79",
       "version_major": 2,
       "version_minor": 0
      },
      "text/plain": [
       "network dynamic:   0%|          | 0/9999 [00:00<?, ?it/s]"
      ]
     },
     "metadata": {},
     "output_type": "display_data"
    },
    {
     "data": {
      "application/vnd.jupyter.widget-view+json": {
       "model_id": "ece5ef497a2b43f38978e091f08d0b03",
       "version_major": 2,
       "version_minor": 0
      },
      "text/plain": [
       "Making ensembles:   0%|          | 0/1 [00:00<?, ?it/s]"
      ]
     },
     "metadata": {},
     "output_type": "display_data"
    },
    {
     "data": {
      "application/vnd.jupyter.widget-view+json": {
       "model_id": "4b3b16385347404ead9f075cac154b8b",
       "version_major": 2,
       "version_minor": 0
      },
      "text/plain": [
       "network dynamic:   0%|          | 0/9999 [00:00<?, ?it/s]"
      ]
     },
     "metadata": {},
     "output_type": "display_data"
    },
    {
     "data": {
      "application/vnd.jupyter.widget-view+json": {
       "model_id": "605be0eeb97f40db98efc042f314c508",
       "version_major": 2,
       "version_minor": 0
      },
      "text/plain": [
       "Variation of alpha:   0%|          | 0/2 [00:00<?, ?it/s]"
      ]
     },
     "metadata": {},
     "output_type": "display_data"
    },
    {
     "data": {
      "application/vnd.jupyter.widget-view+json": {
       "model_id": "54f1c72735cf4b4aa0290604adc623c6",
       "version_major": 2,
       "version_minor": 0
      },
      "text/plain": [
       "Making ensembles:   0%|          | 0/1 [00:00<?, ?it/s]"
      ]
     },
     "metadata": {},
     "output_type": "display_data"
    },
    {
     "data": {
      "application/vnd.jupyter.widget-view+json": {
       "model_id": "16f12af23c0344e8a111ef167d4bc7e4",
       "version_major": 2,
       "version_minor": 0
      },
      "text/plain": [
       "network dynamic:   0%|          | 0/9999 [00:00<?, ?it/s]"
      ]
     },
     "metadata": {},
     "output_type": "display_data"
    },
    {
     "data": {
      "application/vnd.jupyter.widget-view+json": {
       "model_id": "0894ca02b1e14242bebb38ec276be6ae",
       "version_major": 2,
       "version_minor": 0
      },
      "text/plain": [
       "Making ensembles:   0%|          | 0/1 [00:00<?, ?it/s]"
      ]
     },
     "metadata": {},
     "output_type": "display_data"
    },
    {
     "data": {
      "application/vnd.jupyter.widget-view+json": {
       "model_id": "597613677f9043769f4967ab48bc71ce",
       "version_major": 2,
       "version_minor": 0
      },
      "text/plain": [
       "network dynamic:   0%|          | 0/9999 [00:00<?, ?it/s]"
      ]
     },
     "metadata": {},
     "output_type": "display_data"
    },
    {
     "data": {
      "application/vnd.jupyter.widget-view+json": {
       "model_id": "18a0782375b44e1b9b97db29ab63b8f9",
       "version_major": 2,
       "version_minor": 0
      },
      "text/plain": [
       "Variation of delay:   0%|          | 0/10 [00:00<?, ?it/s]"
      ]
     },
     "metadata": {},
     "output_type": "display_data"
    },
    {
     "data": {
      "application/vnd.jupyter.widget-view+json": {
       "model_id": "8072156ee54c45d698b9d006406fd130",
       "version_major": 2,
       "version_minor": 0
      },
      "text/plain": [
       "Variation of alpha:   0%|          | 0/2 [00:00<?, ?it/s]"
      ]
     },
     "metadata": {},
     "output_type": "display_data"
    },
    {
     "data": {
      "application/vnd.jupyter.widget-view+json": {
       "model_id": "7eff283179364f72b7b7ec72f1fd06b7",
       "version_major": 2,
       "version_minor": 0
      },
      "text/plain": [
       "Making ensembles:   0%|          | 0/1 [00:00<?, ?it/s]"
      ]
     },
     "metadata": {},
     "output_type": "display_data"
    },
    {
     "data": {
      "application/vnd.jupyter.widget-view+json": {
       "model_id": "8c847bbde0f14a0396cbea1db4de6e0e",
       "version_major": 2,
       "version_minor": 0
      },
      "text/plain": [
       "network dynamic:   0%|          | 0/9999 [00:00<?, ?it/s]"
      ]
     },
     "metadata": {},
     "output_type": "display_data"
    },
    {
     "data": {
      "application/vnd.jupyter.widget-view+json": {
       "model_id": "eb885d8698d24c5e87d5e356c89cacd4",
       "version_major": 2,
       "version_minor": 0
      },
      "text/plain": [
       "Making ensembles:   0%|          | 0/1 [00:00<?, ?it/s]"
      ]
     },
     "metadata": {},
     "output_type": "display_data"
    },
    {
     "data": {
      "application/vnd.jupyter.widget-view+json": {
       "model_id": "e53cf45170954e6eab38985228a5f029",
       "version_major": 2,
       "version_minor": 0
      },
      "text/plain": [
       "network dynamic:   0%|          | 0/9999 [00:00<?, ?it/s]"
      ]
     },
     "metadata": {},
     "output_type": "display_data"
    },
    {
     "data": {
      "application/vnd.jupyter.widget-view+json": {
       "model_id": "72cb3fa77f084c2e8c68f8392167ae79",
       "version_major": 2,
       "version_minor": 0
      },
      "text/plain": [
       "Variation of alpha:   0%|          | 0/2 [00:00<?, ?it/s]"
      ]
     },
     "metadata": {},
     "output_type": "display_data"
    },
    {
     "data": {
      "application/vnd.jupyter.widget-view+json": {
       "model_id": "f47001abdc334b09a74f7d6f0419156f",
       "version_major": 2,
       "version_minor": 0
      },
      "text/plain": [
       "Making ensembles:   0%|          | 0/1 [00:00<?, ?it/s]"
      ]
     },
     "metadata": {},
     "output_type": "display_data"
    },
    {
     "data": {
      "application/vnd.jupyter.widget-view+json": {
       "model_id": "3bda98517a584902b745b47992089962",
       "version_major": 2,
       "version_minor": 0
      },
      "text/plain": [
       "network dynamic:   0%|          | 0/9999 [00:00<?, ?it/s]"
      ]
     },
     "metadata": {},
     "output_type": "display_data"
    },
    {
     "data": {
      "application/vnd.jupyter.widget-view+json": {
       "model_id": "f03918b222cf40148e3dfedbde96df48",
       "version_major": 2,
       "version_minor": 0
      },
      "text/plain": [
       "Making ensembles:   0%|          | 0/1 [00:00<?, ?it/s]"
      ]
     },
     "metadata": {},
     "output_type": "display_data"
    },
    {
     "data": {
      "application/vnd.jupyter.widget-view+json": {
       "model_id": "0c24b637282440e19ebf02f0f1490486",
       "version_major": 2,
       "version_minor": 0
      },
      "text/plain": [
       "network dynamic:   0%|          | 0/9999 [00:00<?, ?it/s]"
      ]
     },
     "metadata": {},
     "output_type": "display_data"
    },
    {
     "data": {
      "application/vnd.jupyter.widget-view+json": {
       "model_id": "96991bc6af8a4d249252fb30df63871f",
       "version_major": 2,
       "version_minor": 0
      },
      "text/plain": [
       "Variation of alpha:   0%|          | 0/2 [00:00<?, ?it/s]"
      ]
     },
     "metadata": {},
     "output_type": "display_data"
    },
    {
     "data": {
      "application/vnd.jupyter.widget-view+json": {
       "model_id": "fcf18b8d3ad144368242cd8cb3f73378",
       "version_major": 2,
       "version_minor": 0
      },
      "text/plain": [
       "Making ensembles:   0%|          | 0/1 [00:00<?, ?it/s]"
      ]
     },
     "metadata": {},
     "output_type": "display_data"
    },
    {
     "data": {
      "application/vnd.jupyter.widget-view+json": {
       "model_id": "439ab50c3c1c4d9ea74db30677d03c61",
       "version_major": 2,
       "version_minor": 0
      },
      "text/plain": [
       "network dynamic:   0%|          | 0/9999 [00:00<?, ?it/s]"
      ]
     },
     "metadata": {},
     "output_type": "display_data"
    },
    {
     "data": {
      "application/vnd.jupyter.widget-view+json": {
       "model_id": "e22c86a3ace04d87a430eaa9f5d16b5b",
       "version_major": 2,
       "version_minor": 0
      },
      "text/plain": [
       "Making ensembles:   0%|          | 0/1 [00:00<?, ?it/s]"
      ]
     },
     "metadata": {},
     "output_type": "display_data"
    },
    {
     "data": {
      "application/vnd.jupyter.widget-view+json": {
       "model_id": "ea6cf22c777b48af88367f0472c06cfa",
       "version_major": 2,
       "version_minor": 0
      },
      "text/plain": [
       "network dynamic:   0%|          | 0/9999 [00:00<?, ?it/s]"
      ]
     },
     "metadata": {},
     "output_type": "display_data"
    },
    {
     "data": {
      "application/vnd.jupyter.widget-view+json": {
       "model_id": "cb716094fb0f4852a8b7a791c862e7b0",
       "version_major": 2,
       "version_minor": 0
      },
      "text/plain": [
       "Variation of alpha:   0%|          | 0/2 [00:00<?, ?it/s]"
      ]
     },
     "metadata": {},
     "output_type": "display_data"
    },
    {
     "data": {
      "application/vnd.jupyter.widget-view+json": {
       "model_id": "c81b5499f6f540ab8659d9ce480c7961",
       "version_major": 2,
       "version_minor": 0
      },
      "text/plain": [
       "Making ensembles:   0%|          | 0/1 [00:00<?, ?it/s]"
      ]
     },
     "metadata": {},
     "output_type": "display_data"
    },
    {
     "data": {
      "application/vnd.jupyter.widget-view+json": {
       "model_id": "03ff053697b44e37850396c7884865b5",
       "version_major": 2,
       "version_minor": 0
      },
      "text/plain": [
       "network dynamic:   0%|          | 0/9999 [00:00<?, ?it/s]"
      ]
     },
     "metadata": {},
     "output_type": "display_data"
    },
    {
     "data": {
      "application/vnd.jupyter.widget-view+json": {
       "model_id": "e3c49027ad494b98a1b7a2d1c0b6e8a2",
       "version_major": 2,
       "version_minor": 0
      },
      "text/plain": [
       "Making ensembles:   0%|          | 0/1 [00:00<?, ?it/s]"
      ]
     },
     "metadata": {},
     "output_type": "display_data"
    },
    {
     "data": {
      "application/vnd.jupyter.widget-view+json": {
       "model_id": "20929599bb36447c814a228efcf2e542",
       "version_major": 2,
       "version_minor": 0
      },
      "text/plain": [
       "network dynamic:   0%|          | 0/9999 [00:00<?, ?it/s]"
      ]
     },
     "metadata": {},
     "output_type": "display_data"
    },
    {
     "data": {
      "application/vnd.jupyter.widget-view+json": {
       "model_id": "6a3edb820ef34d9397829309eb2b772e",
       "version_major": 2,
       "version_minor": 0
      },
      "text/plain": [
       "Variation of alpha:   0%|          | 0/2 [00:00<?, ?it/s]"
      ]
     },
     "metadata": {},
     "output_type": "display_data"
    },
    {
     "data": {
      "application/vnd.jupyter.widget-view+json": {
       "model_id": "0a902d9a94a54b6fa964d5d752e8c23a",
       "version_major": 2,
       "version_minor": 0
      },
      "text/plain": [
       "Making ensembles:   0%|          | 0/1 [00:00<?, ?it/s]"
      ]
     },
     "metadata": {},
     "output_type": "display_data"
    },
    {
     "data": {
      "application/vnd.jupyter.widget-view+json": {
       "model_id": "1ed77e5980014a568e2fcecb2be6a657",
       "version_major": 2,
       "version_minor": 0
      },
      "text/plain": [
       "network dynamic:   0%|          | 0/9999 [00:00<?, ?it/s]"
      ]
     },
     "metadata": {},
     "output_type": "display_data"
    },
    {
     "data": {
      "application/vnd.jupyter.widget-view+json": {
       "model_id": "1fee554ad95243bf83de848e8595c2fa",
       "version_major": 2,
       "version_minor": 0
      },
      "text/plain": [
       "Making ensembles:   0%|          | 0/1 [00:00<?, ?it/s]"
      ]
     },
     "metadata": {},
     "output_type": "display_data"
    },
    {
     "data": {
      "application/vnd.jupyter.widget-view+json": {
       "model_id": "f018e342b74f4bae9ddb262aed6a50aa",
       "version_major": 2,
       "version_minor": 0
      },
      "text/plain": [
       "network dynamic:   0%|          | 0/9999 [00:00<?, ?it/s]"
      ]
     },
     "metadata": {},
     "output_type": "display_data"
    },
    {
     "data": {
      "application/vnd.jupyter.widget-view+json": {
       "model_id": "ed8ff8e8f2d84da787ade2cab46ae41c",
       "version_major": 2,
       "version_minor": 0
      },
      "text/plain": [
       "Variation of alpha:   0%|          | 0/2 [00:00<?, ?it/s]"
      ]
     },
     "metadata": {},
     "output_type": "display_data"
    },
    {
     "data": {
      "application/vnd.jupyter.widget-view+json": {
       "model_id": "cb67e3944f6149e78f5f706af7d32e3c",
       "version_major": 2,
       "version_minor": 0
      },
      "text/plain": [
       "Making ensembles:   0%|          | 0/1 [00:00<?, ?it/s]"
      ]
     },
     "metadata": {},
     "output_type": "display_data"
    },
    {
     "data": {
      "application/vnd.jupyter.widget-view+json": {
       "model_id": "430a575fcc274feb8f9876a0586a9239",
       "version_major": 2,
       "version_minor": 0
      },
      "text/plain": [
       "network dynamic:   0%|          | 0/9999 [00:00<?, ?it/s]"
      ]
     },
     "metadata": {},
     "output_type": "display_data"
    },
    {
     "data": {
      "application/vnd.jupyter.widget-view+json": {
       "model_id": "54477b0948e94614bfb7fa7e2be0a1af",
       "version_major": 2,
       "version_minor": 0
      },
      "text/plain": [
       "Making ensembles:   0%|          | 0/1 [00:00<?, ?it/s]"
      ]
     },
     "metadata": {},
     "output_type": "display_data"
    },
    {
     "data": {
      "application/vnd.jupyter.widget-view+json": {
       "model_id": "52f7129aacd64992942b350de9e528b2",
       "version_major": 2,
       "version_minor": 0
      },
      "text/plain": [
       "network dynamic:   0%|          | 0/9999 [00:00<?, ?it/s]"
      ]
     },
     "metadata": {},
     "output_type": "display_data"
    },
    {
     "data": {
      "application/vnd.jupyter.widget-view+json": {
       "model_id": "8ecd736ea8014b3281a09cbf1034f1a3",
       "version_major": 2,
       "version_minor": 0
      },
      "text/plain": [
       "Variation of alpha:   0%|          | 0/2 [00:00<?, ?it/s]"
      ]
     },
     "metadata": {},
     "output_type": "display_data"
    },
    {
     "data": {
      "application/vnd.jupyter.widget-view+json": {
       "model_id": "6bfe0dfb1dd042c0a1147e74152fef3a",
       "version_major": 2,
       "version_minor": 0
      },
      "text/plain": [
       "Making ensembles:   0%|          | 0/1 [00:00<?, ?it/s]"
      ]
     },
     "metadata": {},
     "output_type": "display_data"
    },
    {
     "data": {
      "application/vnd.jupyter.widget-view+json": {
       "model_id": "6b9c38402321441595edea36c63023d6",
       "version_major": 2,
       "version_minor": 0
      },
      "text/plain": [
       "network dynamic:   0%|          | 0/9999 [00:00<?, ?it/s]"
      ]
     },
     "metadata": {},
     "output_type": "display_data"
    },
    {
     "data": {
      "application/vnd.jupyter.widget-view+json": {
       "model_id": "b49037b171c140788f592d8242806e2c",
       "version_major": 2,
       "version_minor": 0
      },
      "text/plain": [
       "Making ensembles:   0%|          | 0/1 [00:00<?, ?it/s]"
      ]
     },
     "metadata": {},
     "output_type": "display_data"
    },
    {
     "data": {
      "application/vnd.jupyter.widget-view+json": {
       "model_id": "477b2ffd84a74aafaaa5db5386d7ce1b",
       "version_major": 2,
       "version_minor": 0
      },
      "text/plain": [
       "network dynamic:   0%|          | 0/9999 [00:00<?, ?it/s]"
      ]
     },
     "metadata": {},
     "output_type": "display_data"
    },
    {
     "data": {
      "application/vnd.jupyter.widget-view+json": {
       "model_id": "305435ead265425dba485a7d8990b0c0",
       "version_major": 2,
       "version_minor": 0
      },
      "text/plain": [
       "Variation of alpha:   0%|          | 0/2 [00:00<?, ?it/s]"
      ]
     },
     "metadata": {},
     "output_type": "display_data"
    },
    {
     "data": {
      "application/vnd.jupyter.widget-view+json": {
       "model_id": "a965063c774c469abe4d7626f92ae0cd",
       "version_major": 2,
       "version_minor": 0
      },
      "text/plain": [
       "Making ensembles:   0%|          | 0/1 [00:00<?, ?it/s]"
      ]
     },
     "metadata": {},
     "output_type": "display_data"
    },
    {
     "data": {
      "application/vnd.jupyter.widget-view+json": {
       "model_id": "81de265148774548ad93b55fb4a80a6e",
       "version_major": 2,
       "version_minor": 0
      },
      "text/plain": [
       "network dynamic:   0%|          | 0/9999 [00:00<?, ?it/s]"
      ]
     },
     "metadata": {},
     "output_type": "display_data"
    },
    {
     "data": {
      "application/vnd.jupyter.widget-view+json": {
       "model_id": "62988a55bda149c7a83b12af7fca8073",
       "version_major": 2,
       "version_minor": 0
      },
      "text/plain": [
       "Making ensembles:   0%|          | 0/1 [00:00<?, ?it/s]"
      ]
     },
     "metadata": {},
     "output_type": "display_data"
    },
    {
     "data": {
      "application/vnd.jupyter.widget-view+json": {
       "model_id": "c1175247d6d34d0e8dcf03ef0da67631",
       "version_major": 2,
       "version_minor": 0
      },
      "text/plain": [
       "network dynamic:   0%|          | 0/9999 [00:00<?, ?it/s]"
      ]
     },
     "metadata": {},
     "output_type": "display_data"
    },
    {
     "data": {
      "application/vnd.jupyter.widget-view+json": {
       "model_id": "2d321844db1740dab41fb9a7b50ec083",
       "version_major": 2,
       "version_minor": 0
      },
      "text/plain": [
       "Variation of alpha:   0%|          | 0/2 [00:00<?, ?it/s]"
      ]
     },
     "metadata": {},
     "output_type": "display_data"
    },
    {
     "data": {
      "application/vnd.jupyter.widget-view+json": {
       "model_id": "985b46541b314f898b799627c85c2cec",
       "version_major": 2,
       "version_minor": 0
      },
      "text/plain": [
       "Making ensembles:   0%|          | 0/1 [00:00<?, ?it/s]"
      ]
     },
     "metadata": {},
     "output_type": "display_data"
    },
    {
     "data": {
      "application/vnd.jupyter.widget-view+json": {
       "model_id": "5ca8db1348854446baf7c8e6b1f37313",
       "version_major": 2,
       "version_minor": 0
      },
      "text/plain": [
       "network dynamic:   0%|          | 0/9999 [00:00<?, ?it/s]"
      ]
     },
     "metadata": {},
     "output_type": "display_data"
    },
    {
     "data": {
      "application/vnd.jupyter.widget-view+json": {
       "model_id": "db2e59e83976481c872e9daa97ad01ac",
       "version_major": 2,
       "version_minor": 0
      },
      "text/plain": [
       "Making ensembles:   0%|          | 0/1 [00:00<?, ?it/s]"
      ]
     },
     "metadata": {},
     "output_type": "display_data"
    },
    {
     "data": {
      "application/vnd.jupyter.widget-view+json": {
       "model_id": "b3375eebdf1a466ca4ad939929b0a71a",
       "version_major": 2,
       "version_minor": 0
      },
      "text/plain": [
       "network dynamic:   0%|          | 0/9999 [00:00<?, ?it/s]"
      ]
     },
     "metadata": {},
     "output_type": "display_data"
    },
    {
     "data": {
      "application/vnd.jupyter.widget-view+json": {
       "model_id": "db096b17cddb4ca9b0ad926829943eb5",
       "version_major": 2,
       "version_minor": 0
      },
      "text/plain": [
       "Variation of alpha:   0%|          | 0/2 [00:00<?, ?it/s]"
      ]
     },
     "metadata": {},
     "output_type": "display_data"
    },
    {
     "data": {
      "application/vnd.jupyter.widget-view+json": {
       "model_id": "bec8a77d55e043ba894a6e7ac2da7c9d",
       "version_major": 2,
       "version_minor": 0
      },
      "text/plain": [
       "Making ensembles:   0%|          | 0/1 [00:00<?, ?it/s]"
      ]
     },
     "metadata": {},
     "output_type": "display_data"
    },
    {
     "data": {
      "application/vnd.jupyter.widget-view+json": {
       "model_id": "da6c82eed3bf454d9e10f26d945bb8bb",
       "version_major": 2,
       "version_minor": 0
      },
      "text/plain": [
       "network dynamic:   0%|          | 0/9999 [00:00<?, ?it/s]"
      ]
     },
     "metadata": {},
     "output_type": "display_data"
    },
    {
     "data": {
      "application/vnd.jupyter.widget-view+json": {
       "model_id": "9b846dd031974138943c77e38ff990f1",
       "version_major": 2,
       "version_minor": 0
      },
      "text/plain": [
       "Making ensembles:   0%|          | 0/1 [00:00<?, ?it/s]"
      ]
     },
     "metadata": {},
     "output_type": "display_data"
    },
    {
     "data": {
      "application/vnd.jupyter.widget-view+json": {
       "model_id": "09b20ea00afa423f9d7080150c7173b8",
       "version_major": 2,
       "version_minor": 0
      },
      "text/plain": [
       "network dynamic:   0%|          | 0/9999 [00:00<?, ?it/s]"
      ]
     },
     "metadata": {},
     "output_type": "display_data"
    },
    {
     "data": {
      "application/vnd.jupyter.widget-view+json": {
       "model_id": "9a70ecedab9d4e07b4ec0c4aa11b4154",
       "version_major": 2,
       "version_minor": 0
      },
      "text/plain": [
       "Variation of delay:   0%|          | 0/10 [00:00<?, ?it/s]"
      ]
     },
     "metadata": {},
     "output_type": "display_data"
    },
    {
     "data": {
      "application/vnd.jupyter.widget-view+json": {
       "model_id": "3c3f174c14c04028a485bea9e633016b",
       "version_major": 2,
       "version_minor": 0
      },
      "text/plain": [
       "Variation of alpha:   0%|          | 0/2 [00:00<?, ?it/s]"
      ]
     },
     "metadata": {},
     "output_type": "display_data"
    },
    {
     "data": {
      "application/vnd.jupyter.widget-view+json": {
       "model_id": "e8137412345c4f5f96ceef471f2ae717",
       "version_major": 2,
       "version_minor": 0
      },
      "text/plain": [
       "Making ensembles:   0%|          | 0/1 [00:00<?, ?it/s]"
      ]
     },
     "metadata": {},
     "output_type": "display_data"
    },
    {
     "data": {
      "application/vnd.jupyter.widget-view+json": {
       "model_id": "88a465ebcd7a4f5a8fe00b4c99b0ad35",
       "version_major": 2,
       "version_minor": 0
      },
      "text/plain": [
       "network dynamic:   0%|          | 0/9999 [00:00<?, ?it/s]"
      ]
     },
     "metadata": {},
     "output_type": "display_data"
    },
    {
     "data": {
      "application/vnd.jupyter.widget-view+json": {
       "model_id": "fe1f90f3654445c18eb9ac1f6adf96f4",
       "version_major": 2,
       "version_minor": 0
      },
      "text/plain": [
       "Making ensembles:   0%|          | 0/1 [00:00<?, ?it/s]"
      ]
     },
     "metadata": {},
     "output_type": "display_data"
    },
    {
     "data": {
      "application/vnd.jupyter.widget-view+json": {
       "model_id": "ecf088f6516e4ddd821428dd2aa4f45c",
       "version_major": 2,
       "version_minor": 0
      },
      "text/plain": [
       "network dynamic:   0%|          | 0/9999 [00:00<?, ?it/s]"
      ]
     },
     "metadata": {},
     "output_type": "display_data"
    },
    {
     "data": {
      "application/vnd.jupyter.widget-view+json": {
       "model_id": "c0f7d3ec7f0647b484342e6482bd826a",
       "version_major": 2,
       "version_minor": 0
      },
      "text/plain": [
       "Variation of alpha:   0%|          | 0/2 [00:00<?, ?it/s]"
      ]
     },
     "metadata": {},
     "output_type": "display_data"
    },
    {
     "data": {
      "application/vnd.jupyter.widget-view+json": {
       "model_id": "d1b3bfd392f449dba446b00af852cdc0",
       "version_major": 2,
       "version_minor": 0
      },
      "text/plain": [
       "Making ensembles:   0%|          | 0/1 [00:00<?, ?it/s]"
      ]
     },
     "metadata": {},
     "output_type": "display_data"
    },
    {
     "data": {
      "application/vnd.jupyter.widget-view+json": {
       "model_id": "0630a51b0e194b1bab7e4a2c0b109b81",
       "version_major": 2,
       "version_minor": 0
      },
      "text/plain": [
       "network dynamic:   0%|          | 0/9999 [00:00<?, ?it/s]"
      ]
     },
     "metadata": {},
     "output_type": "display_data"
    },
    {
     "data": {
      "application/vnd.jupyter.widget-view+json": {
       "model_id": "3d25855cbb96424b8fdef82d045aef72",
       "version_major": 2,
       "version_minor": 0
      },
      "text/plain": [
       "Making ensembles:   0%|          | 0/1 [00:00<?, ?it/s]"
      ]
     },
     "metadata": {},
     "output_type": "display_data"
    },
    {
     "data": {
      "application/vnd.jupyter.widget-view+json": {
       "model_id": "9fda007625c64ee79916ad570e8f55f7",
       "version_major": 2,
       "version_minor": 0
      },
      "text/plain": [
       "network dynamic:   0%|          | 0/9999 [00:00<?, ?it/s]"
      ]
     },
     "metadata": {},
     "output_type": "display_data"
    },
    {
     "data": {
      "application/vnd.jupyter.widget-view+json": {
       "model_id": "cfc569380d0e46eea12bceb075088692",
       "version_major": 2,
       "version_minor": 0
      },
      "text/plain": [
       "Variation of alpha:   0%|          | 0/2 [00:00<?, ?it/s]"
      ]
     },
     "metadata": {},
     "output_type": "display_data"
    },
    {
     "data": {
      "application/vnd.jupyter.widget-view+json": {
       "model_id": "fc51c87fe02844359a17a46d285fb2c2",
       "version_major": 2,
       "version_minor": 0
      },
      "text/plain": [
       "Making ensembles:   0%|          | 0/1 [00:00<?, ?it/s]"
      ]
     },
     "metadata": {},
     "output_type": "display_data"
    },
    {
     "data": {
      "application/vnd.jupyter.widget-view+json": {
       "model_id": "1d60ff27b0bf4c589e376ca6f239a337",
       "version_major": 2,
       "version_minor": 0
      },
      "text/plain": [
       "network dynamic:   0%|          | 0/9999 [00:00<?, ?it/s]"
      ]
     },
     "metadata": {},
     "output_type": "display_data"
    },
    {
     "data": {
      "application/vnd.jupyter.widget-view+json": {
       "model_id": "0b8d5c7b4e3044acb2a73805e8ca282e",
       "version_major": 2,
       "version_minor": 0
      },
      "text/plain": [
       "Making ensembles:   0%|          | 0/1 [00:00<?, ?it/s]"
      ]
     },
     "metadata": {},
     "output_type": "display_data"
    },
    {
     "data": {
      "application/vnd.jupyter.widget-view+json": {
       "model_id": "6564ea355b37407cb30d5d06f4bca943",
       "version_major": 2,
       "version_minor": 0
      },
      "text/plain": [
       "network dynamic:   0%|          | 0/9999 [00:00<?, ?it/s]"
      ]
     },
     "metadata": {},
     "output_type": "display_data"
    },
    {
     "data": {
      "application/vnd.jupyter.widget-view+json": {
       "model_id": "1f8875d97f434a58a6c02251c68c0da7",
       "version_major": 2,
       "version_minor": 0
      },
      "text/plain": [
       "Variation of alpha:   0%|          | 0/2 [00:00<?, ?it/s]"
      ]
     },
     "metadata": {},
     "output_type": "display_data"
    },
    {
     "data": {
      "application/vnd.jupyter.widget-view+json": {
       "model_id": "96bb2936b59d48a18b7c5cf2ae2cf1d3",
       "version_major": 2,
       "version_minor": 0
      },
      "text/plain": [
       "Making ensembles:   0%|          | 0/1 [00:00<?, ?it/s]"
      ]
     },
     "metadata": {},
     "output_type": "display_data"
    },
    {
     "data": {
      "application/vnd.jupyter.widget-view+json": {
       "model_id": "2f10fe03a75647928f009656d9ef341a",
       "version_major": 2,
       "version_minor": 0
      },
      "text/plain": [
       "network dynamic:   0%|          | 0/9999 [00:00<?, ?it/s]"
      ]
     },
     "metadata": {},
     "output_type": "display_data"
    },
    {
     "data": {
      "application/vnd.jupyter.widget-view+json": {
       "model_id": "cd44ef64f9cf4bfeaacb8682c175031b",
       "version_major": 2,
       "version_minor": 0
      },
      "text/plain": [
       "Making ensembles:   0%|          | 0/1 [00:00<?, ?it/s]"
      ]
     },
     "metadata": {},
     "output_type": "display_data"
    },
    {
     "data": {
      "application/vnd.jupyter.widget-view+json": {
       "model_id": "e8d949db7f804da49cf86cf0f5a773db",
       "version_major": 2,
       "version_minor": 0
      },
      "text/plain": [
       "network dynamic:   0%|          | 0/9999 [00:00<?, ?it/s]"
      ]
     },
     "metadata": {},
     "output_type": "display_data"
    },
    {
     "data": {
      "application/vnd.jupyter.widget-view+json": {
       "model_id": "7280bbc382a14cee875ec5ace157f6f3",
       "version_major": 2,
       "version_minor": 0
      },
      "text/plain": [
       "Variation of alpha:   0%|          | 0/2 [00:00<?, ?it/s]"
      ]
     },
     "metadata": {},
     "output_type": "display_data"
    },
    {
     "data": {
      "application/vnd.jupyter.widget-view+json": {
       "model_id": "b0d93071bf6846aeb2f0b166b875c1dc",
       "version_major": 2,
       "version_minor": 0
      },
      "text/plain": [
       "Making ensembles:   0%|          | 0/1 [00:00<?, ?it/s]"
      ]
     },
     "metadata": {},
     "output_type": "display_data"
    },
    {
     "data": {
      "application/vnd.jupyter.widget-view+json": {
       "model_id": "af3cca02b143419aa1b6edb009db7245",
       "version_major": 2,
       "version_minor": 0
      },
      "text/plain": [
       "network dynamic:   0%|          | 0/9999 [00:00<?, ?it/s]"
      ]
     },
     "metadata": {},
     "output_type": "display_data"
    },
    {
     "data": {
      "application/vnd.jupyter.widget-view+json": {
       "model_id": "cd0c8fa8a8ca4e2e8db9c472935702f4",
       "version_major": 2,
       "version_minor": 0
      },
      "text/plain": [
       "Making ensembles:   0%|          | 0/1 [00:00<?, ?it/s]"
      ]
     },
     "metadata": {},
     "output_type": "display_data"
    },
    {
     "data": {
      "application/vnd.jupyter.widget-view+json": {
       "model_id": "61f0471d0e53448dac7ff3804066feb1",
       "version_major": 2,
       "version_minor": 0
      },
      "text/plain": [
       "network dynamic:   0%|          | 0/9999 [00:00<?, ?it/s]"
      ]
     },
     "metadata": {},
     "output_type": "display_data"
    },
    {
     "data": {
      "application/vnd.jupyter.widget-view+json": {
       "model_id": "f6c900974a32429a92d4cdd01831f704",
       "version_major": 2,
       "version_minor": 0
      },
      "text/plain": [
       "Variation of alpha:   0%|          | 0/2 [00:00<?, ?it/s]"
      ]
     },
     "metadata": {},
     "output_type": "display_data"
    },
    {
     "data": {
      "application/vnd.jupyter.widget-view+json": {
       "model_id": "646e08e2c2424598a33c9b7beb1bc3d1",
       "version_major": 2,
       "version_minor": 0
      },
      "text/plain": [
       "Making ensembles:   0%|          | 0/1 [00:00<?, ?it/s]"
      ]
     },
     "metadata": {},
     "output_type": "display_data"
    },
    {
     "data": {
      "application/vnd.jupyter.widget-view+json": {
       "model_id": "3910ff59fbb64562ba1088b311124734",
       "version_major": 2,
       "version_minor": 0
      },
      "text/plain": [
       "network dynamic:   0%|          | 0/9999 [00:00<?, ?it/s]"
      ]
     },
     "metadata": {},
     "output_type": "display_data"
    },
    {
     "data": {
      "application/vnd.jupyter.widget-view+json": {
       "model_id": "3ca5226c101f4f879b4e6fe000327f95",
       "version_major": 2,
       "version_minor": 0
      },
      "text/plain": [
       "Making ensembles:   0%|          | 0/1 [00:00<?, ?it/s]"
      ]
     },
     "metadata": {},
     "output_type": "display_data"
    },
    {
     "data": {
      "application/vnd.jupyter.widget-view+json": {
       "model_id": "50b6a7e0a94d4588a23275492a8cf650",
       "version_major": 2,
       "version_minor": 0
      },
      "text/plain": [
       "network dynamic:   0%|          | 0/9999 [00:00<?, ?it/s]"
      ]
     },
     "metadata": {},
     "output_type": "display_data"
    },
    {
     "data": {
      "application/vnd.jupyter.widget-view+json": {
       "model_id": "68e5d8a89fc74b47b404cdb1244e9fc4",
       "version_major": 2,
       "version_minor": 0
      },
      "text/plain": [
       "Variation of alpha:   0%|          | 0/2 [00:00<?, ?it/s]"
      ]
     },
     "metadata": {},
     "output_type": "display_data"
    },
    {
     "data": {
      "application/vnd.jupyter.widget-view+json": {
       "model_id": "e9d988ad8d3a4a0bb637a202e09afc30",
       "version_major": 2,
       "version_minor": 0
      },
      "text/plain": [
       "Making ensembles:   0%|          | 0/1 [00:00<?, ?it/s]"
      ]
     },
     "metadata": {},
     "output_type": "display_data"
    },
    {
     "data": {
      "application/vnd.jupyter.widget-view+json": {
       "model_id": "1189eba9205443699d07833630c26403",
       "version_major": 2,
       "version_minor": 0
      },
      "text/plain": [
       "network dynamic:   0%|          | 0/9999 [00:00<?, ?it/s]"
      ]
     },
     "metadata": {},
     "output_type": "display_data"
    },
    {
     "data": {
      "application/vnd.jupyter.widget-view+json": {
       "model_id": "b1cae809e40a4043bb1575f7c1f0a1da",
       "version_major": 2,
       "version_minor": 0
      },
      "text/plain": [
       "Making ensembles:   0%|          | 0/1 [00:00<?, ?it/s]"
      ]
     },
     "metadata": {},
     "output_type": "display_data"
    },
    {
     "data": {
      "application/vnd.jupyter.widget-view+json": {
       "model_id": "6ab5e26c117e46bbbc3f9dda77915da7",
       "version_major": 2,
       "version_minor": 0
      },
      "text/plain": [
       "network dynamic:   0%|          | 0/9999 [00:00<?, ?it/s]"
      ]
     },
     "metadata": {},
     "output_type": "display_data"
    },
    {
     "data": {
      "application/vnd.jupyter.widget-view+json": {
       "model_id": "16a4573026c641d7b8dfc38dfda03b91",
       "version_major": 2,
       "version_minor": 0
      },
      "text/plain": [
       "Variation of alpha:   0%|          | 0/2 [00:00<?, ?it/s]"
      ]
     },
     "metadata": {},
     "output_type": "display_data"
    },
    {
     "data": {
      "application/vnd.jupyter.widget-view+json": {
       "model_id": "157661cc4d3745d68470c39389f4f740",
       "version_major": 2,
       "version_minor": 0
      },
      "text/plain": [
       "Making ensembles:   0%|          | 0/1 [00:00<?, ?it/s]"
      ]
     },
     "metadata": {},
     "output_type": "display_data"
    },
    {
     "data": {
      "application/vnd.jupyter.widget-view+json": {
       "model_id": "22c2eb307d8540a3a0474dcfc4ff399c",
       "version_major": 2,
       "version_minor": 0
      },
      "text/plain": [
       "network dynamic:   0%|          | 0/9999 [00:00<?, ?it/s]"
      ]
     },
     "metadata": {},
     "output_type": "display_data"
    },
    {
     "data": {
      "application/vnd.jupyter.widget-view+json": {
       "model_id": "ad0a8ce370004450925262ff38f88d43",
       "version_major": 2,
       "version_minor": 0
      },
      "text/plain": [
       "Making ensembles:   0%|          | 0/1 [00:00<?, ?it/s]"
      ]
     },
     "metadata": {},
     "output_type": "display_data"
    },
    {
     "data": {
      "application/vnd.jupyter.widget-view+json": {
       "model_id": "54c12d084c3240368ce2aed3e9198edc",
       "version_major": 2,
       "version_minor": 0
      },
      "text/plain": [
       "network dynamic:   0%|          | 0/9999 [00:00<?, ?it/s]"
      ]
     },
     "metadata": {},
     "output_type": "display_data"
    },
    {
     "data": {
      "application/vnd.jupyter.widget-view+json": {
       "model_id": "16a12b04feb24f9eb79f926916c72c34",
       "version_major": 2,
       "version_minor": 0
      },
      "text/plain": [
       "Variation of alpha:   0%|          | 0/2 [00:00<?, ?it/s]"
      ]
     },
     "metadata": {},
     "output_type": "display_data"
    },
    {
     "data": {
      "application/vnd.jupyter.widget-view+json": {
       "model_id": "2233c16a8c6f403288d3079285bc0ae4",
       "version_major": 2,
       "version_minor": 0
      },
      "text/plain": [
       "Making ensembles:   0%|          | 0/1 [00:00<?, ?it/s]"
      ]
     },
     "metadata": {},
     "output_type": "display_data"
    },
    {
     "data": {
      "application/vnd.jupyter.widget-view+json": {
       "model_id": "ede2bf94f57c406d9e4e39f7990b7f0d",
       "version_major": 2,
       "version_minor": 0
      },
      "text/plain": [
       "network dynamic:   0%|          | 0/9999 [00:00<?, ?it/s]"
      ]
     },
     "metadata": {},
     "output_type": "display_data"
    },
    {
     "data": {
      "application/vnd.jupyter.widget-view+json": {
       "model_id": "e2f3fa1905bf4f6081e4e58ea1c3f029",
       "version_major": 2,
       "version_minor": 0
      },
      "text/plain": [
       "Making ensembles:   0%|          | 0/1 [00:00<?, ?it/s]"
      ]
     },
     "metadata": {},
     "output_type": "display_data"
    },
    {
     "data": {
      "application/vnd.jupyter.widget-view+json": {
       "model_id": "146ebc4ca7d74fefb16070691278686b",
       "version_major": 2,
       "version_minor": 0
      },
      "text/plain": [
       "network dynamic:   0%|          | 0/9999 [00:00<?, ?it/s]"
      ]
     },
     "metadata": {},
     "output_type": "display_data"
    },
    {
     "data": {
      "application/vnd.jupyter.widget-view+json": {
       "model_id": "9a660f9757ce43038383dd1601fd1376",
       "version_major": 2,
       "version_minor": 0
      },
      "text/plain": [
       "Variation of alpha:   0%|          | 0/2 [00:00<?, ?it/s]"
      ]
     },
     "metadata": {},
     "output_type": "display_data"
    },
    {
     "data": {
      "application/vnd.jupyter.widget-view+json": {
       "model_id": "8448df7c08d248b083d5acd8787d9674",
       "version_major": 2,
       "version_minor": 0
      },
      "text/plain": [
       "Making ensembles:   0%|          | 0/1 [00:00<?, ?it/s]"
      ]
     },
     "metadata": {},
     "output_type": "display_data"
    },
    {
     "data": {
      "application/vnd.jupyter.widget-view+json": {
       "model_id": "6edd44ff3d764419a443c2493fd850ed",
       "version_major": 2,
       "version_minor": 0
      },
      "text/plain": [
       "network dynamic:   0%|          | 0/9999 [00:00<?, ?it/s]"
      ]
     },
     "metadata": {},
     "output_type": "display_data"
    },
    {
     "data": {
      "application/vnd.jupyter.widget-view+json": {
       "model_id": "4857de46672146279618ed1cdcdf4fca",
       "version_major": 2,
       "version_minor": 0
      },
      "text/plain": [
       "Making ensembles:   0%|          | 0/1 [00:00<?, ?it/s]"
      ]
     },
     "metadata": {},
     "output_type": "display_data"
    },
    {
     "data": {
      "application/vnd.jupyter.widget-view+json": {
       "model_id": "729d03ee111948c6ad9e04a5718ece1a",
       "version_major": 2,
       "version_minor": 0
      },
      "text/plain": [
       "network dynamic:   0%|          | 0/9999 [00:00<?, ?it/s]"
      ]
     },
     "metadata": {},
     "output_type": "display_data"
    },
    {
     "data": {
      "application/vnd.jupyter.widget-view+json": {
       "model_id": "199c755959ff42eab3849fca03f83c3a",
       "version_major": 2,
       "version_minor": 0
      },
      "text/plain": [
       "Variation of delay:   0%|          | 0/10 [00:00<?, ?it/s]"
      ]
     },
     "metadata": {},
     "output_type": "display_data"
    },
    {
     "data": {
      "application/vnd.jupyter.widget-view+json": {
       "model_id": "4607711815664bb0b16277baf96c589f",
       "version_major": 2,
       "version_minor": 0
      },
      "text/plain": [
       "Variation of alpha:   0%|          | 0/2 [00:00<?, ?it/s]"
      ]
     },
     "metadata": {},
     "output_type": "display_data"
    },
    {
     "data": {
      "application/vnd.jupyter.widget-view+json": {
       "model_id": "e945ac8d6e7445ddaa78a8d6b3c497eb",
       "version_major": 2,
       "version_minor": 0
      },
      "text/plain": [
       "Making ensembles:   0%|          | 0/1 [00:00<?, ?it/s]"
      ]
     },
     "metadata": {},
     "output_type": "display_data"
    },
    {
     "data": {
      "application/vnd.jupyter.widget-view+json": {
       "model_id": "f56e736945fb48bfbeca7bf418cd8b8b",
       "version_major": 2,
       "version_minor": 0
      },
      "text/plain": [
       "network dynamic:   0%|          | 0/9999 [00:00<?, ?it/s]"
      ]
     },
     "metadata": {},
     "output_type": "display_data"
    },
    {
     "data": {
      "application/vnd.jupyter.widget-view+json": {
       "model_id": "ace75ae149234c8d99bb5e90b4c0d651",
       "version_major": 2,
       "version_minor": 0
      },
      "text/plain": [
       "Making ensembles:   0%|          | 0/1 [00:00<?, ?it/s]"
      ]
     },
     "metadata": {},
     "output_type": "display_data"
    },
    {
     "data": {
      "application/vnd.jupyter.widget-view+json": {
       "model_id": "6ebbfbdd8ca64120845bf07a1b5221d1",
       "version_major": 2,
       "version_minor": 0
      },
      "text/plain": [
       "network dynamic:   0%|          | 0/9999 [00:00<?, ?it/s]"
      ]
     },
     "metadata": {},
     "output_type": "display_data"
    },
    {
     "data": {
      "application/vnd.jupyter.widget-view+json": {
       "model_id": "516d8c19db1c497da844ed84717a5dc6",
       "version_major": 2,
       "version_minor": 0
      },
      "text/plain": [
       "Variation of alpha:   0%|          | 0/2 [00:00<?, ?it/s]"
      ]
     },
     "metadata": {},
     "output_type": "display_data"
    },
    {
     "data": {
      "application/vnd.jupyter.widget-view+json": {
       "model_id": "14fe921f0a5347cb9a26530b3d631790",
       "version_major": 2,
       "version_minor": 0
      },
      "text/plain": [
       "Making ensembles:   0%|          | 0/1 [00:00<?, ?it/s]"
      ]
     },
     "metadata": {},
     "output_type": "display_data"
    },
    {
     "data": {
      "application/vnd.jupyter.widget-view+json": {
       "model_id": "1c96e360f70b4149a66229181fb2b557",
       "version_major": 2,
       "version_minor": 0
      },
      "text/plain": [
       "network dynamic:   0%|          | 0/9999 [00:00<?, ?it/s]"
      ]
     },
     "metadata": {},
     "output_type": "display_data"
    },
    {
     "data": {
      "application/vnd.jupyter.widget-view+json": {
       "model_id": "554d05c07b6440feb5a8b8413f847357",
       "version_major": 2,
       "version_minor": 0
      },
      "text/plain": [
       "Making ensembles:   0%|          | 0/1 [00:00<?, ?it/s]"
      ]
     },
     "metadata": {},
     "output_type": "display_data"
    },
    {
     "data": {
      "application/vnd.jupyter.widget-view+json": {
       "model_id": "8a57f5d51f654b859ee2ccd61796c6e7",
       "version_major": 2,
       "version_minor": 0
      },
      "text/plain": [
       "network dynamic:   0%|          | 0/9999 [00:00<?, ?it/s]"
      ]
     },
     "metadata": {},
     "output_type": "display_data"
    },
    {
     "data": {
      "application/vnd.jupyter.widget-view+json": {
       "model_id": "d1879222b2d54d19aa8674d2e85aab33",
       "version_major": 2,
       "version_minor": 0
      },
      "text/plain": [
       "Variation of alpha:   0%|          | 0/2 [00:00<?, ?it/s]"
      ]
     },
     "metadata": {},
     "output_type": "display_data"
    },
    {
     "data": {
      "application/vnd.jupyter.widget-view+json": {
       "model_id": "5ef713ae61864c2a9f10ac034c63defe",
       "version_major": 2,
       "version_minor": 0
      },
      "text/plain": [
       "Making ensembles:   0%|          | 0/1 [00:00<?, ?it/s]"
      ]
     },
     "metadata": {},
     "output_type": "display_data"
    },
    {
     "data": {
      "application/vnd.jupyter.widget-view+json": {
       "model_id": "31b990aa651b4735b0ebccdf84fb6da9",
       "version_major": 2,
       "version_minor": 0
      },
      "text/plain": [
       "network dynamic:   0%|          | 0/9999 [00:00<?, ?it/s]"
      ]
     },
     "metadata": {},
     "output_type": "display_data"
    },
    {
     "data": {
      "application/vnd.jupyter.widget-view+json": {
       "model_id": "8e91fa9577b241859e848f012c54c6a8",
       "version_major": 2,
       "version_minor": 0
      },
      "text/plain": [
       "Making ensembles:   0%|          | 0/1 [00:00<?, ?it/s]"
      ]
     },
     "metadata": {},
     "output_type": "display_data"
    },
    {
     "data": {
      "application/vnd.jupyter.widget-view+json": {
       "model_id": "5e7213ab84904479bac6b1582c9fde9d",
       "version_major": 2,
       "version_minor": 0
      },
      "text/plain": [
       "network dynamic:   0%|          | 0/9999 [00:00<?, ?it/s]"
      ]
     },
     "metadata": {},
     "output_type": "display_data"
    },
    {
     "data": {
      "application/vnd.jupyter.widget-view+json": {
       "model_id": "88dccdcde4f94485ab692de26235e311",
       "version_major": 2,
       "version_minor": 0
      },
      "text/plain": [
       "Variation of alpha:   0%|          | 0/2 [00:00<?, ?it/s]"
      ]
     },
     "metadata": {},
     "output_type": "display_data"
    },
    {
     "data": {
      "application/vnd.jupyter.widget-view+json": {
       "model_id": "968e3e21490d4280a627dbeeda47a2c2",
       "version_major": 2,
       "version_minor": 0
      },
      "text/plain": [
       "Making ensembles:   0%|          | 0/1 [00:00<?, ?it/s]"
      ]
     },
     "metadata": {},
     "output_type": "display_data"
    },
    {
     "data": {
      "application/vnd.jupyter.widget-view+json": {
       "model_id": "f60eaa9a9dfb4425b4aeb7847cc104ba",
       "version_major": 2,
       "version_minor": 0
      },
      "text/plain": [
       "network dynamic:   0%|          | 0/9999 [00:00<?, ?it/s]"
      ]
     },
     "metadata": {},
     "output_type": "display_data"
    },
    {
     "data": {
      "application/vnd.jupyter.widget-view+json": {
       "model_id": "845805b1ee7647e7a567af3356c2cf88",
       "version_major": 2,
       "version_minor": 0
      },
      "text/plain": [
       "Making ensembles:   0%|          | 0/1 [00:00<?, ?it/s]"
      ]
     },
     "metadata": {},
     "output_type": "display_data"
    },
    {
     "data": {
      "application/vnd.jupyter.widget-view+json": {
       "model_id": "7bb9095907e4406fba0c48ed0b4e8097",
       "version_major": 2,
       "version_minor": 0
      },
      "text/plain": [
       "network dynamic:   0%|          | 0/9999 [00:00<?, ?it/s]"
      ]
     },
     "metadata": {},
     "output_type": "display_data"
    },
    {
     "data": {
      "application/vnd.jupyter.widget-view+json": {
       "model_id": "5f9d658a78134521a57cdd64a90e9fa1",
       "version_major": 2,
       "version_minor": 0
      },
      "text/plain": [
       "Variation of alpha:   0%|          | 0/2 [00:00<?, ?it/s]"
      ]
     },
     "metadata": {},
     "output_type": "display_data"
    },
    {
     "data": {
      "application/vnd.jupyter.widget-view+json": {
       "model_id": "b22483c21f2c43c2af6a3f75f00ad360",
       "version_major": 2,
       "version_minor": 0
      },
      "text/plain": [
       "Making ensembles:   0%|          | 0/1 [00:00<?, ?it/s]"
      ]
     },
     "metadata": {},
     "output_type": "display_data"
    },
    {
     "data": {
      "application/vnd.jupyter.widget-view+json": {
       "model_id": "6d427eabce8a430d90b7492441a54f24",
       "version_major": 2,
       "version_minor": 0
      },
      "text/plain": [
       "network dynamic:   0%|          | 0/9999 [00:00<?, ?it/s]"
      ]
     },
     "metadata": {},
     "output_type": "display_data"
    },
    {
     "data": {
      "application/vnd.jupyter.widget-view+json": {
       "model_id": "5ff059ba241a44f5a7969debe2f9f68a",
       "version_major": 2,
       "version_minor": 0
      },
      "text/plain": [
       "Making ensembles:   0%|          | 0/1 [00:00<?, ?it/s]"
      ]
     },
     "metadata": {},
     "output_type": "display_data"
    },
    {
     "data": {
      "application/vnd.jupyter.widget-view+json": {
       "model_id": "89279c5096414c148c973b44fcf7a347",
       "version_major": 2,
       "version_minor": 0
      },
      "text/plain": [
       "network dynamic:   0%|          | 0/9999 [00:00<?, ?it/s]"
      ]
     },
     "metadata": {},
     "output_type": "display_data"
    },
    {
     "data": {
      "application/vnd.jupyter.widget-view+json": {
       "model_id": "5b6df944880941c7926fd45244fe58a1",
       "version_major": 2,
       "version_minor": 0
      },
      "text/plain": [
       "Variation of alpha:   0%|          | 0/2 [00:00<?, ?it/s]"
      ]
     },
     "metadata": {},
     "output_type": "display_data"
    },
    {
     "data": {
      "application/vnd.jupyter.widget-view+json": {
       "model_id": "7e4110ed2735478487210e2748e2b1bd",
       "version_major": 2,
       "version_minor": 0
      },
      "text/plain": [
       "Making ensembles:   0%|          | 0/1 [00:00<?, ?it/s]"
      ]
     },
     "metadata": {},
     "output_type": "display_data"
    },
    {
     "data": {
      "application/vnd.jupyter.widget-view+json": {
       "model_id": "ddfd4b8977614363b0dece7f56809140",
       "version_major": 2,
       "version_minor": 0
      },
      "text/plain": [
       "network dynamic:   0%|          | 0/9999 [00:00<?, ?it/s]"
      ]
     },
     "metadata": {},
     "output_type": "display_data"
    },
    {
     "data": {
      "application/vnd.jupyter.widget-view+json": {
       "model_id": "986a56ba905942c185e269e3fe213bd6",
       "version_major": 2,
       "version_minor": 0
      },
      "text/plain": [
       "Making ensembles:   0%|          | 0/1 [00:00<?, ?it/s]"
      ]
     },
     "metadata": {},
     "output_type": "display_data"
    },
    {
     "data": {
      "application/vnd.jupyter.widget-view+json": {
       "model_id": "f106cf98295b440d86897291c93fdb7c",
       "version_major": 2,
       "version_minor": 0
      },
      "text/plain": [
       "network dynamic:   0%|          | 0/9999 [00:00<?, ?it/s]"
      ]
     },
     "metadata": {},
     "output_type": "display_data"
    },
    {
     "data": {
      "application/vnd.jupyter.widget-view+json": {
       "model_id": "8e098c591c9b4e6e9674570cebeafa4e",
       "version_major": 2,
       "version_minor": 0
      },
      "text/plain": [
       "Variation of alpha:   0%|          | 0/2 [00:00<?, ?it/s]"
      ]
     },
     "metadata": {},
     "output_type": "display_data"
    },
    {
     "data": {
      "application/vnd.jupyter.widget-view+json": {
       "model_id": "7c6171e69de64c929898a669cc757f32",
       "version_major": 2,
       "version_minor": 0
      },
      "text/plain": [
       "Making ensembles:   0%|          | 0/1 [00:00<?, ?it/s]"
      ]
     },
     "metadata": {},
     "output_type": "display_data"
    },
    {
     "data": {
      "application/vnd.jupyter.widget-view+json": {
       "model_id": "207cfcb18928431ca2bbecef8472673f",
       "version_major": 2,
       "version_minor": 0
      },
      "text/plain": [
       "network dynamic:   0%|          | 0/9999 [00:00<?, ?it/s]"
      ]
     },
     "metadata": {},
     "output_type": "display_data"
    },
    {
     "data": {
      "application/vnd.jupyter.widget-view+json": {
       "model_id": "b6fbd3c9d4694b62876fd66fc48af738",
       "version_major": 2,
       "version_minor": 0
      },
      "text/plain": [
       "Making ensembles:   0%|          | 0/1 [00:00<?, ?it/s]"
      ]
     },
     "metadata": {},
     "output_type": "display_data"
    },
    {
     "data": {
      "application/vnd.jupyter.widget-view+json": {
       "model_id": "74ae0c49a993479b9df5ba17048196c1",
       "version_major": 2,
       "version_minor": 0
      },
      "text/plain": [
       "network dynamic:   0%|          | 0/9999 [00:00<?, ?it/s]"
      ]
     },
     "metadata": {},
     "output_type": "display_data"
    },
    {
     "data": {
      "application/vnd.jupyter.widget-view+json": {
       "model_id": "d10aee19e2944c85aea9758c0214b358",
       "version_major": 2,
       "version_minor": 0
      },
      "text/plain": [
       "Variation of alpha:   0%|          | 0/2 [00:00<?, ?it/s]"
      ]
     },
     "metadata": {},
     "output_type": "display_data"
    },
    {
     "data": {
      "application/vnd.jupyter.widget-view+json": {
       "model_id": "ce761a0ab52740dcb0ff1b2985e20333",
       "version_major": 2,
       "version_minor": 0
      },
      "text/plain": [
       "Making ensembles:   0%|          | 0/1 [00:00<?, ?it/s]"
      ]
     },
     "metadata": {},
     "output_type": "display_data"
    },
    {
     "data": {
      "application/vnd.jupyter.widget-view+json": {
       "model_id": "d1861d8db2034d74a333c0c4b5d942c8",
       "version_major": 2,
       "version_minor": 0
      },
      "text/plain": [
       "network dynamic:   0%|          | 0/9999 [00:00<?, ?it/s]"
      ]
     },
     "metadata": {},
     "output_type": "display_data"
    },
    {
     "data": {
      "application/vnd.jupyter.widget-view+json": {
       "model_id": "1204959414ec414d9f192f50b84603bc",
       "version_major": 2,
       "version_minor": 0
      },
      "text/plain": [
       "Making ensembles:   0%|          | 0/1 [00:00<?, ?it/s]"
      ]
     },
     "metadata": {},
     "output_type": "display_data"
    },
    {
     "data": {
      "application/vnd.jupyter.widget-view+json": {
       "model_id": "91ecb76a35484c9ab7ed44720615c710",
       "version_major": 2,
       "version_minor": 0
      },
      "text/plain": [
       "network dynamic:   0%|          | 0/9999 [00:00<?, ?it/s]"
      ]
     },
     "metadata": {},
     "output_type": "display_data"
    },
    {
     "data": {
      "application/vnd.jupyter.widget-view+json": {
       "model_id": "730be216989848319d7b90e7ed9e53a9",
       "version_major": 2,
       "version_minor": 0
      },
      "text/plain": [
       "Variation of alpha:   0%|          | 0/2 [00:00<?, ?it/s]"
      ]
     },
     "metadata": {},
     "output_type": "display_data"
    },
    {
     "data": {
      "application/vnd.jupyter.widget-view+json": {
       "model_id": "ddf97d2d0adc4fd7aaf3d3cb634cde37",
       "version_major": 2,
       "version_minor": 0
      },
      "text/plain": [
       "Making ensembles:   0%|          | 0/1 [00:00<?, ?it/s]"
      ]
     },
     "metadata": {},
     "output_type": "display_data"
    },
    {
     "data": {
      "application/vnd.jupyter.widget-view+json": {
       "model_id": "9b9188dcf21843339e0870c2282780e8",
       "version_major": 2,
       "version_minor": 0
      },
      "text/plain": [
       "network dynamic:   0%|          | 0/9999 [00:00<?, ?it/s]"
      ]
     },
     "metadata": {},
     "output_type": "display_data"
    },
    {
     "data": {
      "application/vnd.jupyter.widget-view+json": {
       "model_id": "6132969085c94a749a2c1c147d61373a",
       "version_major": 2,
       "version_minor": 0
      },
      "text/plain": [
       "Making ensembles:   0%|          | 0/1 [00:00<?, ?it/s]"
      ]
     },
     "metadata": {},
     "output_type": "display_data"
    },
    {
     "data": {
      "application/vnd.jupyter.widget-view+json": {
       "model_id": "8251d9bd7da643d794c510be1cfbaecd",
       "version_major": 2,
       "version_minor": 0
      },
      "text/plain": [
       "network dynamic:   0%|          | 0/9999 [00:00<?, ?it/s]"
      ]
     },
     "metadata": {},
     "output_type": "display_data"
    },
    {
     "data": {
      "application/vnd.jupyter.widget-view+json": {
       "model_id": "ed0cce3057714e909f3ee0f5f9c7fbde",
       "version_major": 2,
       "version_minor": 0
      },
      "text/plain": [
       "Variation of alpha:   0%|          | 0/2 [00:00<?, ?it/s]"
      ]
     },
     "metadata": {},
     "output_type": "display_data"
    },
    {
     "data": {
      "application/vnd.jupyter.widget-view+json": {
       "model_id": "e37f5e50c42f43c380cbd448271bc86d",
       "version_major": 2,
       "version_minor": 0
      },
      "text/plain": [
       "Making ensembles:   0%|          | 0/1 [00:00<?, ?it/s]"
      ]
     },
     "metadata": {},
     "output_type": "display_data"
    },
    {
     "data": {
      "application/vnd.jupyter.widget-view+json": {
       "model_id": "80cb26c921594d2388414b1073d5c92a",
       "version_major": 2,
       "version_minor": 0
      },
      "text/plain": [
       "network dynamic:   0%|          | 0/9999 [00:00<?, ?it/s]"
      ]
     },
     "metadata": {},
     "output_type": "display_data"
    },
    {
     "data": {
      "application/vnd.jupyter.widget-view+json": {
       "model_id": "9f8590f5b32942299b21aec4aa795993",
       "version_major": 2,
       "version_minor": 0
      },
      "text/plain": [
       "Making ensembles:   0%|          | 0/1 [00:00<?, ?it/s]"
      ]
     },
     "metadata": {},
     "output_type": "display_data"
    },
    {
     "data": {
      "application/vnd.jupyter.widget-view+json": {
       "model_id": "2e89459928c14171bf395f8987f66d63",
       "version_major": 2,
       "version_minor": 0
      },
      "text/plain": [
       "network dynamic:   0%|          | 0/9999 [00:00<?, ?it/s]"
      ]
     },
     "metadata": {},
     "output_type": "display_data"
    },
    {
     "data": {
      "application/vnd.jupyter.widget-view+json": {
       "model_id": "75995c018eb94d5da5675ef5920fc263",
       "version_major": 2,
       "version_minor": 0
      },
      "text/plain": [
       "Variation of delay:   0%|          | 0/10 [00:00<?, ?it/s]"
      ]
     },
     "metadata": {},
     "output_type": "display_data"
    },
    {
     "data": {
      "application/vnd.jupyter.widget-view+json": {
       "model_id": "d2d1b6a2bf9a475d9fdaf24943f23aa5",
       "version_major": 2,
       "version_minor": 0
      },
      "text/plain": [
       "Variation of alpha:   0%|          | 0/2 [00:00<?, ?it/s]"
      ]
     },
     "metadata": {},
     "output_type": "display_data"
    },
    {
     "data": {
      "application/vnd.jupyter.widget-view+json": {
       "model_id": "14c7a323d41a4f7890a2f02d4f0b574d",
       "version_major": 2,
       "version_minor": 0
      },
      "text/plain": [
       "Making ensembles:   0%|          | 0/1 [00:00<?, ?it/s]"
      ]
     },
     "metadata": {},
     "output_type": "display_data"
    },
    {
     "data": {
      "application/vnd.jupyter.widget-view+json": {
       "model_id": "1d863845875947a4a92d7fd66937d09e",
       "version_major": 2,
       "version_minor": 0
      },
      "text/plain": [
       "network dynamic:   0%|          | 0/9999 [00:00<?, ?it/s]"
      ]
     },
     "metadata": {},
     "output_type": "display_data"
    },
    {
     "data": {
      "application/vnd.jupyter.widget-view+json": {
       "model_id": "4db238cdd072443c8477cfdc063d0757",
       "version_major": 2,
       "version_minor": 0
      },
      "text/plain": [
       "Making ensembles:   0%|          | 0/1 [00:00<?, ?it/s]"
      ]
     },
     "metadata": {},
     "output_type": "display_data"
    },
    {
     "data": {
      "application/vnd.jupyter.widget-view+json": {
       "model_id": "577e4d7e7c4046dc8c2a88f2be557068",
       "version_major": 2,
       "version_minor": 0
      },
      "text/plain": [
       "network dynamic:   0%|          | 0/9999 [00:00<?, ?it/s]"
      ]
     },
     "metadata": {},
     "output_type": "display_data"
    },
    {
     "data": {
      "application/vnd.jupyter.widget-view+json": {
       "model_id": "85a5cd5de2584d3ab669d73cea8f0656",
       "version_major": 2,
       "version_minor": 0
      },
      "text/plain": [
       "Variation of alpha:   0%|          | 0/2 [00:00<?, ?it/s]"
      ]
     },
     "metadata": {},
     "output_type": "display_data"
    },
    {
     "data": {
      "application/vnd.jupyter.widget-view+json": {
       "model_id": "caf3bcbb7fc94bf68df11842129b39c2",
       "version_major": 2,
       "version_minor": 0
      },
      "text/plain": [
       "Making ensembles:   0%|          | 0/1 [00:00<?, ?it/s]"
      ]
     },
     "metadata": {},
     "output_type": "display_data"
    },
    {
     "data": {
      "application/vnd.jupyter.widget-view+json": {
       "model_id": "c3cc5d23dd11462bb35e3290a7c32426",
       "version_major": 2,
       "version_minor": 0
      },
      "text/plain": [
       "network dynamic:   0%|          | 0/9999 [00:00<?, ?it/s]"
      ]
     },
     "metadata": {},
     "output_type": "display_data"
    },
    {
     "data": {
      "application/vnd.jupyter.widget-view+json": {
       "model_id": "fa7c666b53d14fdeb942fc547a07b75b",
       "version_major": 2,
       "version_minor": 0
      },
      "text/plain": [
       "Making ensembles:   0%|          | 0/1 [00:00<?, ?it/s]"
      ]
     },
     "metadata": {},
     "output_type": "display_data"
    },
    {
     "data": {
      "application/vnd.jupyter.widget-view+json": {
       "model_id": "7c9c21c471e0448785f374231b7ba354",
       "version_major": 2,
       "version_minor": 0
      },
      "text/plain": [
       "network dynamic:   0%|          | 0/9999 [00:00<?, ?it/s]"
      ]
     },
     "metadata": {},
     "output_type": "display_data"
    },
    {
     "data": {
      "application/vnd.jupyter.widget-view+json": {
       "model_id": "c9ce62d3184a4a4aa2359314fa7e8218",
       "version_major": 2,
       "version_minor": 0
      },
      "text/plain": [
       "Variation of alpha:   0%|          | 0/2 [00:00<?, ?it/s]"
      ]
     },
     "metadata": {},
     "output_type": "display_data"
    },
    {
     "data": {
      "application/vnd.jupyter.widget-view+json": {
       "model_id": "0a9cec991a87430696762822d4b4868c",
       "version_major": 2,
       "version_minor": 0
      },
      "text/plain": [
       "Making ensembles:   0%|          | 0/1 [00:00<?, ?it/s]"
      ]
     },
     "metadata": {},
     "output_type": "display_data"
    },
    {
     "data": {
      "application/vnd.jupyter.widget-view+json": {
       "model_id": "7e7a9a1bf26c4e03a7b009a328cdd362",
       "version_major": 2,
       "version_minor": 0
      },
      "text/plain": [
       "network dynamic:   0%|          | 0/9999 [00:00<?, ?it/s]"
      ]
     },
     "metadata": {},
     "output_type": "display_data"
    },
    {
     "data": {
      "application/vnd.jupyter.widget-view+json": {
       "model_id": "dff6bf797c80486eaca2950ddfa167fd",
       "version_major": 2,
       "version_minor": 0
      },
      "text/plain": [
       "Making ensembles:   0%|          | 0/1 [00:00<?, ?it/s]"
      ]
     },
     "metadata": {},
     "output_type": "display_data"
    },
    {
     "data": {
      "application/vnd.jupyter.widget-view+json": {
       "model_id": "4920c12d0fb84c7b8572025a1cfd1e2c",
       "version_major": 2,
       "version_minor": 0
      },
      "text/plain": [
       "network dynamic:   0%|          | 0/9999 [00:00<?, ?it/s]"
      ]
     },
     "metadata": {},
     "output_type": "display_data"
    },
    {
     "data": {
      "application/vnd.jupyter.widget-view+json": {
       "model_id": "8db6bad4df7b4b129de2425e2722c805",
       "version_major": 2,
       "version_minor": 0
      },
      "text/plain": [
       "Variation of alpha:   0%|          | 0/2 [00:00<?, ?it/s]"
      ]
     },
     "metadata": {},
     "output_type": "display_data"
    },
    {
     "data": {
      "application/vnd.jupyter.widget-view+json": {
       "model_id": "fa58ce5fc99a41eaa81b52700a7614f4",
       "version_major": 2,
       "version_minor": 0
      },
      "text/plain": [
       "Making ensembles:   0%|          | 0/1 [00:00<?, ?it/s]"
      ]
     },
     "metadata": {},
     "output_type": "display_data"
    },
    {
     "data": {
      "application/vnd.jupyter.widget-view+json": {
       "model_id": "b49bbfd8ff2b4c9bb791246ffa8c8bff",
       "version_major": 2,
       "version_minor": 0
      },
      "text/plain": [
       "network dynamic:   0%|          | 0/9999 [00:00<?, ?it/s]"
      ]
     },
     "metadata": {},
     "output_type": "display_data"
    },
    {
     "data": {
      "application/vnd.jupyter.widget-view+json": {
       "model_id": "0cd54f0e7b374330af3c36ddba0704c2",
       "version_major": 2,
       "version_minor": 0
      },
      "text/plain": [
       "Making ensembles:   0%|          | 0/1 [00:00<?, ?it/s]"
      ]
     },
     "metadata": {},
     "output_type": "display_data"
    },
    {
     "data": {
      "application/vnd.jupyter.widget-view+json": {
       "model_id": "fdaa46d6b78f4e5daab169278636d855",
       "version_major": 2,
       "version_minor": 0
      },
      "text/plain": [
       "network dynamic:   0%|          | 0/9999 [00:00<?, ?it/s]"
      ]
     },
     "metadata": {},
     "output_type": "display_data"
    },
    {
     "data": {
      "application/vnd.jupyter.widget-view+json": {
       "model_id": "50966f97b71f4414b61ef931ca5e1ed2",
       "version_major": 2,
       "version_minor": 0
      },
      "text/plain": [
       "Variation of alpha:   0%|          | 0/2 [00:00<?, ?it/s]"
      ]
     },
     "metadata": {},
     "output_type": "display_data"
    },
    {
     "data": {
      "application/vnd.jupyter.widget-view+json": {
       "model_id": "c41303650c3140a189b16465eebf7f6b",
       "version_major": 2,
       "version_minor": 0
      },
      "text/plain": [
       "Making ensembles:   0%|          | 0/1 [00:00<?, ?it/s]"
      ]
     },
     "metadata": {},
     "output_type": "display_data"
    },
    {
     "data": {
      "application/vnd.jupyter.widget-view+json": {
       "model_id": "912adfae83044d9a8cc3114b112a789c",
       "version_major": 2,
       "version_minor": 0
      },
      "text/plain": [
       "network dynamic:   0%|          | 0/9999 [00:00<?, ?it/s]"
      ]
     },
     "metadata": {},
     "output_type": "display_data"
    },
    {
     "data": {
      "application/vnd.jupyter.widget-view+json": {
       "model_id": "b888d5b88791426fbddd4216671a716d",
       "version_major": 2,
       "version_minor": 0
      },
      "text/plain": [
       "Making ensembles:   0%|          | 0/1 [00:00<?, ?it/s]"
      ]
     },
     "metadata": {},
     "output_type": "display_data"
    },
    {
     "data": {
      "application/vnd.jupyter.widget-view+json": {
       "model_id": "66a40706faaf49eea132cfec19494101",
       "version_major": 2,
       "version_minor": 0
      },
      "text/plain": [
       "network dynamic:   0%|          | 0/9999 [00:00<?, ?it/s]"
      ]
     },
     "metadata": {},
     "output_type": "display_data"
    },
    {
     "data": {
      "application/vnd.jupyter.widget-view+json": {
       "model_id": "448944b717234654ada2ad2bf843e018",
       "version_major": 2,
       "version_minor": 0
      },
      "text/plain": [
       "Variation of alpha:   0%|          | 0/2 [00:00<?, ?it/s]"
      ]
     },
     "metadata": {},
     "output_type": "display_data"
    },
    {
     "data": {
      "application/vnd.jupyter.widget-view+json": {
       "model_id": "933e4297c1274e78bfab537a52a5a21e",
       "version_major": 2,
       "version_minor": 0
      },
      "text/plain": [
       "Making ensembles:   0%|          | 0/1 [00:00<?, ?it/s]"
      ]
     },
     "metadata": {},
     "output_type": "display_data"
    },
    {
     "data": {
      "application/vnd.jupyter.widget-view+json": {
       "model_id": "62fbb85675004ead9f659747c3c705a4",
       "version_major": 2,
       "version_minor": 0
      },
      "text/plain": [
       "network dynamic:   0%|          | 0/9999 [00:00<?, ?it/s]"
      ]
     },
     "metadata": {},
     "output_type": "display_data"
    },
    {
     "data": {
      "application/vnd.jupyter.widget-view+json": {
       "model_id": "d7fec3b2d5074b909f356872147cbe1b",
       "version_major": 2,
       "version_minor": 0
      },
      "text/plain": [
       "Making ensembles:   0%|          | 0/1 [00:00<?, ?it/s]"
      ]
     },
     "metadata": {},
     "output_type": "display_data"
    },
    {
     "data": {
      "application/vnd.jupyter.widget-view+json": {
       "model_id": "92262b55335642f88f4085c3a2bb0246",
       "version_major": 2,
       "version_minor": 0
      },
      "text/plain": [
       "network dynamic:   0%|          | 0/9999 [00:00<?, ?it/s]"
      ]
     },
     "metadata": {},
     "output_type": "display_data"
    },
    {
     "data": {
      "application/vnd.jupyter.widget-view+json": {
       "model_id": "a53001624eb44bbdbfa212213b617cb5",
       "version_major": 2,
       "version_minor": 0
      },
      "text/plain": [
       "Variation of alpha:   0%|          | 0/2 [00:00<?, ?it/s]"
      ]
     },
     "metadata": {},
     "output_type": "display_data"
    },
    {
     "data": {
      "application/vnd.jupyter.widget-view+json": {
       "model_id": "5acd302c59604d5e96293564782de9af",
       "version_major": 2,
       "version_minor": 0
      },
      "text/plain": [
       "Making ensembles:   0%|          | 0/1 [00:00<?, ?it/s]"
      ]
     },
     "metadata": {},
     "output_type": "display_data"
    },
    {
     "data": {
      "application/vnd.jupyter.widget-view+json": {
       "model_id": "cab731683033449197091355895cead1",
       "version_major": 2,
       "version_minor": 0
      },
      "text/plain": [
       "network dynamic:   0%|          | 0/9999 [00:00<?, ?it/s]"
      ]
     },
     "metadata": {},
     "output_type": "display_data"
    },
    {
     "data": {
      "application/vnd.jupyter.widget-view+json": {
       "model_id": "b7b8f1594774459e9d44c3996ba25ef2",
       "version_major": 2,
       "version_minor": 0
      },
      "text/plain": [
       "Making ensembles:   0%|          | 0/1 [00:00<?, ?it/s]"
      ]
     },
     "metadata": {},
     "output_type": "display_data"
    },
    {
     "data": {
      "application/vnd.jupyter.widget-view+json": {
       "model_id": "5150744ff8324a73afd7620188b9260e",
       "version_major": 2,
       "version_minor": 0
      },
      "text/plain": [
       "network dynamic:   0%|          | 0/9999 [00:00<?, ?it/s]"
      ]
     },
     "metadata": {},
     "output_type": "display_data"
    },
    {
     "data": {
      "application/vnd.jupyter.widget-view+json": {
       "model_id": "11944fc10a03449f843c8dce266b0be6",
       "version_major": 2,
       "version_minor": 0
      },
      "text/plain": [
       "Variation of alpha:   0%|          | 0/2 [00:00<?, ?it/s]"
      ]
     },
     "metadata": {},
     "output_type": "display_data"
    },
    {
     "data": {
      "application/vnd.jupyter.widget-view+json": {
       "model_id": "78d6bdeff3c84c029ffa4f84489618e2",
       "version_major": 2,
       "version_minor": 0
      },
      "text/plain": [
       "Making ensembles:   0%|          | 0/1 [00:00<?, ?it/s]"
      ]
     },
     "metadata": {},
     "output_type": "display_data"
    },
    {
     "data": {
      "application/vnd.jupyter.widget-view+json": {
       "model_id": "551865254be74ed88c882f137481a843",
       "version_major": 2,
       "version_minor": 0
      },
      "text/plain": [
       "network dynamic:   0%|          | 0/9999 [00:00<?, ?it/s]"
      ]
     },
     "metadata": {},
     "output_type": "display_data"
    },
    {
     "data": {
      "application/vnd.jupyter.widget-view+json": {
       "model_id": "8efc7f4211e145c6a0855c25081af52c",
       "version_major": 2,
       "version_minor": 0
      },
      "text/plain": [
       "Making ensembles:   0%|          | 0/1 [00:00<?, ?it/s]"
      ]
     },
     "metadata": {},
     "output_type": "display_data"
    },
    {
     "data": {
      "application/vnd.jupyter.widget-view+json": {
       "model_id": "8be5f1372c9e4eda8a11a34ec8b5f633",
       "version_major": 2,
       "version_minor": 0
      },
      "text/plain": [
       "network dynamic:   0%|          | 0/9999 [00:00<?, ?it/s]"
      ]
     },
     "metadata": {},
     "output_type": "display_data"
    },
    {
     "data": {
      "application/vnd.jupyter.widget-view+json": {
       "model_id": "9c02a0cf6434407db25c62ca2d3090eb",
       "version_major": 2,
       "version_minor": 0
      },
      "text/plain": [
       "Variation of alpha:   0%|          | 0/2 [00:00<?, ?it/s]"
      ]
     },
     "metadata": {},
     "output_type": "display_data"
    },
    {
     "data": {
      "application/vnd.jupyter.widget-view+json": {
       "model_id": "2aac9a459f1b4dafae81c8014c77628e",
       "version_major": 2,
       "version_minor": 0
      },
      "text/plain": [
       "Making ensembles:   0%|          | 0/1 [00:00<?, ?it/s]"
      ]
     },
     "metadata": {},
     "output_type": "display_data"
    },
    {
     "data": {
      "application/vnd.jupyter.widget-view+json": {
       "model_id": "098522bd433044c59ddd5afde5d72bdd",
       "version_major": 2,
       "version_minor": 0
      },
      "text/plain": [
       "network dynamic:   0%|          | 0/9999 [00:00<?, ?it/s]"
      ]
     },
     "metadata": {},
     "output_type": "display_data"
    },
    {
     "data": {
      "application/vnd.jupyter.widget-view+json": {
       "model_id": "fe16d2244f5a44aab32058159dd099cf",
       "version_major": 2,
       "version_minor": 0
      },
      "text/plain": [
       "Making ensembles:   0%|          | 0/1 [00:00<?, ?it/s]"
      ]
     },
     "metadata": {},
     "output_type": "display_data"
    },
    {
     "data": {
      "application/vnd.jupyter.widget-view+json": {
       "model_id": "ae5e5a01ef4d48eb950ce65ba8002670",
       "version_major": 2,
       "version_minor": 0
      },
      "text/plain": [
       "network dynamic:   0%|          | 0/9999 [00:00<?, ?it/s]"
      ]
     },
     "metadata": {},
     "output_type": "display_data"
    },
    {
     "data": {
      "application/vnd.jupyter.widget-view+json": {
       "model_id": "fdbf103798764787aebee5363086b120",
       "version_major": 2,
       "version_minor": 0
      },
      "text/plain": [
       "Variation of alpha:   0%|          | 0/2 [00:00<?, ?it/s]"
      ]
     },
     "metadata": {},
     "output_type": "display_data"
    },
    {
     "data": {
      "application/vnd.jupyter.widget-view+json": {
       "model_id": "746408f4477849aebddc36b16681b993",
       "version_major": 2,
       "version_minor": 0
      },
      "text/plain": [
       "Making ensembles:   0%|          | 0/1 [00:00<?, ?it/s]"
      ]
     },
     "metadata": {},
     "output_type": "display_data"
    },
    {
     "data": {
      "application/vnd.jupyter.widget-view+json": {
       "model_id": "dfc1aaa5fd3f48bdb780d8b973d30626",
       "version_major": 2,
       "version_minor": 0
      },
      "text/plain": [
       "network dynamic:   0%|          | 0/9999 [00:00<?, ?it/s]"
      ]
     },
     "metadata": {},
     "output_type": "display_data"
    },
    {
     "data": {
      "application/vnd.jupyter.widget-view+json": {
       "model_id": "d0609fd244864139a03172ff71fc4310",
       "version_major": 2,
       "version_minor": 0
      },
      "text/plain": [
       "Making ensembles:   0%|          | 0/1 [00:00<?, ?it/s]"
      ]
     },
     "metadata": {},
     "output_type": "display_data"
    },
    {
     "data": {
      "application/vnd.jupyter.widget-view+json": {
       "model_id": "cc043ac9a76145e0afb844f4e028b30d",
       "version_major": 2,
       "version_minor": 0
      },
      "text/plain": [
       "network dynamic:   0%|          | 0/9999 [00:00<?, ?it/s]"
      ]
     },
     "metadata": {},
     "output_type": "display_data"
    },
    {
     "data": {
      "application/vnd.jupyter.widget-view+json": {
       "model_id": "36dd16fa3fc545e48c863e5d8a56963b",
       "version_major": 2,
       "version_minor": 0
      },
      "text/plain": [
       "Variation of delay:   0%|          | 0/10 [00:00<?, ?it/s]"
      ]
     },
     "metadata": {},
     "output_type": "display_data"
    },
    {
     "data": {
      "application/vnd.jupyter.widget-view+json": {
       "model_id": "0a432da10e504115ae569dbc6a752b59",
       "version_major": 2,
       "version_minor": 0
      },
      "text/plain": [
       "Variation of alpha:   0%|          | 0/2 [00:00<?, ?it/s]"
      ]
     },
     "metadata": {},
     "output_type": "display_data"
    },
    {
     "data": {
      "application/vnd.jupyter.widget-view+json": {
       "model_id": "113ec6801a0d445f9065233cb95ecdb1",
       "version_major": 2,
       "version_minor": 0
      },
      "text/plain": [
       "Making ensembles:   0%|          | 0/1 [00:00<?, ?it/s]"
      ]
     },
     "metadata": {},
     "output_type": "display_data"
    },
    {
     "data": {
      "application/vnd.jupyter.widget-view+json": {
       "model_id": "b0327da021084cd587651390ce8994d6",
       "version_major": 2,
       "version_minor": 0
      },
      "text/plain": [
       "network dynamic:   0%|          | 0/9999 [00:00<?, ?it/s]"
      ]
     },
     "metadata": {},
     "output_type": "display_data"
    },
    {
     "data": {
      "application/vnd.jupyter.widget-view+json": {
       "model_id": "19c8abae97a847dd93d3682c21c58e16",
       "version_major": 2,
       "version_minor": 0
      },
      "text/plain": [
       "Making ensembles:   0%|          | 0/1 [00:00<?, ?it/s]"
      ]
     },
     "metadata": {},
     "output_type": "display_data"
    },
    {
     "data": {
      "application/vnd.jupyter.widget-view+json": {
       "model_id": "d0560d7977714684afb93e6c2d3cb6c3",
       "version_major": 2,
       "version_minor": 0
      },
      "text/plain": [
       "network dynamic:   0%|          | 0/9999 [00:00<?, ?it/s]"
      ]
     },
     "metadata": {},
     "output_type": "display_data"
    },
    {
     "data": {
      "application/vnd.jupyter.widget-view+json": {
       "model_id": "f70a78de76eb49e29566e7b93fe013b5",
       "version_major": 2,
       "version_minor": 0
      },
      "text/plain": [
       "Variation of alpha:   0%|          | 0/2 [00:00<?, ?it/s]"
      ]
     },
     "metadata": {},
     "output_type": "display_data"
    },
    {
     "data": {
      "application/vnd.jupyter.widget-view+json": {
       "model_id": "17d17d9fa62249c093427c1575cdbacf",
       "version_major": 2,
       "version_minor": 0
      },
      "text/plain": [
       "Making ensembles:   0%|          | 0/1 [00:00<?, ?it/s]"
      ]
     },
     "metadata": {},
     "output_type": "display_data"
    },
    {
     "data": {
      "application/vnd.jupyter.widget-view+json": {
       "model_id": "1d70a113d0414f1bbcbfd94a9212ed49",
       "version_major": 2,
       "version_minor": 0
      },
      "text/plain": [
       "network dynamic:   0%|          | 0/9999 [00:00<?, ?it/s]"
      ]
     },
     "metadata": {},
     "output_type": "display_data"
    },
    {
     "data": {
      "application/vnd.jupyter.widget-view+json": {
       "model_id": "1474dc6aaa92404f9ac9daf94a3e6b93",
       "version_major": 2,
       "version_minor": 0
      },
      "text/plain": [
       "Making ensembles:   0%|          | 0/1 [00:00<?, ?it/s]"
      ]
     },
     "metadata": {},
     "output_type": "display_data"
    },
    {
     "data": {
      "application/vnd.jupyter.widget-view+json": {
       "model_id": "4205f228f2274e62bba662ee534a4734",
       "version_major": 2,
       "version_minor": 0
      },
      "text/plain": [
       "network dynamic:   0%|          | 0/9999 [00:00<?, ?it/s]"
      ]
     },
     "metadata": {},
     "output_type": "display_data"
    },
    {
     "data": {
      "application/vnd.jupyter.widget-view+json": {
       "model_id": "f7a9100dc04b486686da38671360f005",
       "version_major": 2,
       "version_minor": 0
      },
      "text/plain": [
       "Variation of alpha:   0%|          | 0/2 [00:00<?, ?it/s]"
      ]
     },
     "metadata": {},
     "output_type": "display_data"
    },
    {
     "data": {
      "application/vnd.jupyter.widget-view+json": {
       "model_id": "a7638a8227b943e1835b01bc09cbb616",
       "version_major": 2,
       "version_minor": 0
      },
      "text/plain": [
       "Making ensembles:   0%|          | 0/1 [00:00<?, ?it/s]"
      ]
     },
     "metadata": {},
     "output_type": "display_data"
    },
    {
     "data": {
      "application/vnd.jupyter.widget-view+json": {
       "model_id": "0b804648c6e14b92b2409d1cf4e84b98",
       "version_major": 2,
       "version_minor": 0
      },
      "text/plain": [
       "network dynamic:   0%|          | 0/9999 [00:00<?, ?it/s]"
      ]
     },
     "metadata": {},
     "output_type": "display_data"
    },
    {
     "data": {
      "application/vnd.jupyter.widget-view+json": {
       "model_id": "37c35d5bc7f8408b9dc03bf75a31562a",
       "version_major": 2,
       "version_minor": 0
      },
      "text/plain": [
       "Making ensembles:   0%|          | 0/1 [00:00<?, ?it/s]"
      ]
     },
     "metadata": {},
     "output_type": "display_data"
    },
    {
     "data": {
      "application/vnd.jupyter.widget-view+json": {
       "model_id": "2a00dc0daa684e81b916d7c3022ea3d2",
       "version_major": 2,
       "version_minor": 0
      },
      "text/plain": [
       "network dynamic:   0%|          | 0/9999 [00:00<?, ?it/s]"
      ]
     },
     "metadata": {},
     "output_type": "display_data"
    },
    {
     "data": {
      "application/vnd.jupyter.widget-view+json": {
       "model_id": "d4c313b689184d539b989f8782cfaf53",
       "version_major": 2,
       "version_minor": 0
      },
      "text/plain": [
       "Variation of alpha:   0%|          | 0/2 [00:00<?, ?it/s]"
      ]
     },
     "metadata": {},
     "output_type": "display_data"
    },
    {
     "data": {
      "application/vnd.jupyter.widget-view+json": {
       "model_id": "68a45c4f54d54d30a386c22766e06bac",
       "version_major": 2,
       "version_minor": 0
      },
      "text/plain": [
       "Making ensembles:   0%|          | 0/1 [00:00<?, ?it/s]"
      ]
     },
     "metadata": {},
     "output_type": "display_data"
    },
    {
     "data": {
      "application/vnd.jupyter.widget-view+json": {
       "model_id": "bbbd751653bc48d1b64ce510265cfaa3",
       "version_major": 2,
       "version_minor": 0
      },
      "text/plain": [
       "network dynamic:   0%|          | 0/9999 [00:00<?, ?it/s]"
      ]
     },
     "metadata": {},
     "output_type": "display_data"
    },
    {
     "data": {
      "application/vnd.jupyter.widget-view+json": {
       "model_id": "0d4584466c0c4610a158af9f37014e5d",
       "version_major": 2,
       "version_minor": 0
      },
      "text/plain": [
       "Making ensembles:   0%|          | 0/1 [00:00<?, ?it/s]"
      ]
     },
     "metadata": {},
     "output_type": "display_data"
    },
    {
     "data": {
      "application/vnd.jupyter.widget-view+json": {
       "model_id": "a9b2799859b7454aa70482053c5a8eba",
       "version_major": 2,
       "version_minor": 0
      },
      "text/plain": [
       "network dynamic:   0%|          | 0/9999 [00:00<?, ?it/s]"
      ]
     },
     "metadata": {},
     "output_type": "display_data"
    },
    {
     "data": {
      "application/vnd.jupyter.widget-view+json": {
       "model_id": "e432b20695a44c29b0f796c46403e2d3",
       "version_major": 2,
       "version_minor": 0
      },
      "text/plain": [
       "Variation of alpha:   0%|          | 0/2 [00:00<?, ?it/s]"
      ]
     },
     "metadata": {},
     "output_type": "display_data"
    },
    {
     "data": {
      "application/vnd.jupyter.widget-view+json": {
       "model_id": "f26eee13d87643c29a0a0f037ee17c0f",
       "version_major": 2,
       "version_minor": 0
      },
      "text/plain": [
       "Making ensembles:   0%|          | 0/1 [00:00<?, ?it/s]"
      ]
     },
     "metadata": {},
     "output_type": "display_data"
    },
    {
     "data": {
      "application/vnd.jupyter.widget-view+json": {
       "model_id": "034c063db6ad4399a375fc9e05bb93af",
       "version_major": 2,
       "version_minor": 0
      },
      "text/plain": [
       "network dynamic:   0%|          | 0/9999 [00:00<?, ?it/s]"
      ]
     },
     "metadata": {},
     "output_type": "display_data"
    },
    {
     "data": {
      "application/vnd.jupyter.widget-view+json": {
       "model_id": "cfc9817067cb44b1936c076100bf4085",
       "version_major": 2,
       "version_minor": 0
      },
      "text/plain": [
       "Making ensembles:   0%|          | 0/1 [00:00<?, ?it/s]"
      ]
     },
     "metadata": {},
     "output_type": "display_data"
    },
    {
     "data": {
      "application/vnd.jupyter.widget-view+json": {
       "model_id": "d52fa7c00b9648c99bfb2805bac697a8",
       "version_major": 2,
       "version_minor": 0
      },
      "text/plain": [
       "network dynamic:   0%|          | 0/9999 [00:00<?, ?it/s]"
      ]
     },
     "metadata": {},
     "output_type": "display_data"
    },
    {
     "data": {
      "application/vnd.jupyter.widget-view+json": {
       "model_id": "aa7f83857f324a9fa96c4c7072922675",
       "version_major": 2,
       "version_minor": 0
      },
      "text/plain": [
       "Variation of alpha:   0%|          | 0/2 [00:00<?, ?it/s]"
      ]
     },
     "metadata": {},
     "output_type": "display_data"
    },
    {
     "data": {
      "application/vnd.jupyter.widget-view+json": {
       "model_id": "2bcf873723a8473d830058803902b804",
       "version_major": 2,
       "version_minor": 0
      },
      "text/plain": [
       "Making ensembles:   0%|          | 0/1 [00:00<?, ?it/s]"
      ]
     },
     "metadata": {},
     "output_type": "display_data"
    },
    {
     "data": {
      "application/vnd.jupyter.widget-view+json": {
       "model_id": "5e37d0bf5895495fab32175a0bfbda77",
       "version_major": 2,
       "version_minor": 0
      },
      "text/plain": [
       "network dynamic:   0%|          | 0/9999 [00:00<?, ?it/s]"
      ]
     },
     "metadata": {},
     "output_type": "display_data"
    },
    {
     "data": {
      "application/vnd.jupyter.widget-view+json": {
       "model_id": "6de8fbb40fb9486ab234ec43952d7e01",
       "version_major": 2,
       "version_minor": 0
      },
      "text/plain": [
       "Making ensembles:   0%|          | 0/1 [00:00<?, ?it/s]"
      ]
     },
     "metadata": {},
     "output_type": "display_data"
    },
    {
     "data": {
      "application/vnd.jupyter.widget-view+json": {
       "model_id": "1c769a00db774ed99d21e09a5e710154",
       "version_major": 2,
       "version_minor": 0
      },
      "text/plain": [
       "network dynamic:   0%|          | 0/9999 [00:00<?, ?it/s]"
      ]
     },
     "metadata": {},
     "output_type": "display_data"
    },
    {
     "data": {
      "application/vnd.jupyter.widget-view+json": {
       "model_id": "1f0fcc5b904c4d8798a96f82d7bd5200",
       "version_major": 2,
       "version_minor": 0
      },
      "text/plain": [
       "Variation of alpha:   0%|          | 0/2 [00:00<?, ?it/s]"
      ]
     },
     "metadata": {},
     "output_type": "display_data"
    },
    {
     "data": {
      "application/vnd.jupyter.widget-view+json": {
       "model_id": "b5dc8e1655e9452c8a538e63c4280e5c",
       "version_major": 2,
       "version_minor": 0
      },
      "text/plain": [
       "Making ensembles:   0%|          | 0/1 [00:00<?, ?it/s]"
      ]
     },
     "metadata": {},
     "output_type": "display_data"
    },
    {
     "data": {
      "application/vnd.jupyter.widget-view+json": {
       "model_id": "738083cbc0c64a47bc4e526c090fbb60",
       "version_major": 2,
       "version_minor": 0
      },
      "text/plain": [
       "network dynamic:   0%|          | 0/9999 [00:00<?, ?it/s]"
      ]
     },
     "metadata": {},
     "output_type": "display_data"
    },
    {
     "data": {
      "application/vnd.jupyter.widget-view+json": {
       "model_id": "3d58350fb7b14eafa4a6e45234cda912",
       "version_major": 2,
       "version_minor": 0
      },
      "text/plain": [
       "Making ensembles:   0%|          | 0/1 [00:00<?, ?it/s]"
      ]
     },
     "metadata": {},
     "output_type": "display_data"
    },
    {
     "data": {
      "application/vnd.jupyter.widget-view+json": {
       "model_id": "db1477bd191c4b0e9690300a6c0c8c50",
       "version_major": 2,
       "version_minor": 0
      },
      "text/plain": [
       "network dynamic:   0%|          | 0/9999 [00:00<?, ?it/s]"
      ]
     },
     "metadata": {},
     "output_type": "display_data"
    },
    {
     "data": {
      "application/vnd.jupyter.widget-view+json": {
       "model_id": "c51dc896713a45c0abbe08b477486790",
       "version_major": 2,
       "version_minor": 0
      },
      "text/plain": [
       "Variation of alpha:   0%|          | 0/2 [00:00<?, ?it/s]"
      ]
     },
     "metadata": {},
     "output_type": "display_data"
    },
    {
     "data": {
      "application/vnd.jupyter.widget-view+json": {
       "model_id": "633fac6a7e0f403286b873461c9dd8b4",
       "version_major": 2,
       "version_minor": 0
      },
      "text/plain": [
       "Making ensembles:   0%|          | 0/1 [00:00<?, ?it/s]"
      ]
     },
     "metadata": {},
     "output_type": "display_data"
    },
    {
     "data": {
      "application/vnd.jupyter.widget-view+json": {
       "model_id": "321398c35cda47c28a4c0620555253e6",
       "version_major": 2,
       "version_minor": 0
      },
      "text/plain": [
       "network dynamic:   0%|          | 0/9999 [00:00<?, ?it/s]"
      ]
     },
     "metadata": {},
     "output_type": "display_data"
    },
    {
     "data": {
      "application/vnd.jupyter.widget-view+json": {
       "model_id": "d6f6d23d94ee4ce0bfcfb9f08bada804",
       "version_major": 2,
       "version_minor": 0
      },
      "text/plain": [
       "Making ensembles:   0%|          | 0/1 [00:00<?, ?it/s]"
      ]
     },
     "metadata": {},
     "output_type": "display_data"
    },
    {
     "data": {
      "application/vnd.jupyter.widget-view+json": {
       "model_id": "ec26c4368d624d7abb73ca9ae343eee6",
       "version_major": 2,
       "version_minor": 0
      },
      "text/plain": [
       "network dynamic:   0%|          | 0/9999 [00:00<?, ?it/s]"
      ]
     },
     "metadata": {},
     "output_type": "display_data"
    },
    {
     "data": {
      "application/vnd.jupyter.widget-view+json": {
       "model_id": "03af0238ad7e4b8ba4c009cce3b6d288",
       "version_major": 2,
       "version_minor": 0
      },
      "text/plain": [
       "Variation of alpha:   0%|          | 0/2 [00:00<?, ?it/s]"
      ]
     },
     "metadata": {},
     "output_type": "display_data"
    },
    {
     "data": {
      "application/vnd.jupyter.widget-view+json": {
       "model_id": "1575f03a35504660aa4f4f5b7082e9b9",
       "version_major": 2,
       "version_minor": 0
      },
      "text/plain": [
       "Making ensembles:   0%|          | 0/1 [00:00<?, ?it/s]"
      ]
     },
     "metadata": {},
     "output_type": "display_data"
    },
    {
     "data": {
      "application/vnd.jupyter.widget-view+json": {
       "model_id": "b7ddf461f6b14b3db784159f0ef6b7cd",
       "version_major": 2,
       "version_minor": 0
      },
      "text/plain": [
       "network dynamic:   0%|          | 0/9999 [00:00<?, ?it/s]"
      ]
     },
     "metadata": {},
     "output_type": "display_data"
    },
    {
     "data": {
      "application/vnd.jupyter.widget-view+json": {
       "model_id": "7e26be5669bb47b6b48e1a222216af4c",
       "version_major": 2,
       "version_minor": 0
      },
      "text/plain": [
       "Making ensembles:   0%|          | 0/1 [00:00<?, ?it/s]"
      ]
     },
     "metadata": {},
     "output_type": "display_data"
    },
    {
     "data": {
      "application/vnd.jupyter.widget-view+json": {
       "model_id": "e7d4d45acb834cf493ecec424bf9a765",
       "version_major": 2,
       "version_minor": 0
      },
      "text/plain": [
       "network dynamic:   0%|          | 0/9999 [00:00<?, ?it/s]"
      ]
     },
     "metadata": {},
     "output_type": "display_data"
    },
    {
     "data": {
      "application/vnd.jupyter.widget-view+json": {
       "model_id": "3a5d80df445e4ee98eebf27ae2ffd42a",
       "version_major": 2,
       "version_minor": 0
      },
      "text/plain": [
       "Variation of alpha:   0%|          | 0/2 [00:00<?, ?it/s]"
      ]
     },
     "metadata": {},
     "output_type": "display_data"
    },
    {
     "data": {
      "application/vnd.jupyter.widget-view+json": {
       "model_id": "90556952453c4389a2144b33f4fd219c",
       "version_major": 2,
       "version_minor": 0
      },
      "text/plain": [
       "Making ensembles:   0%|          | 0/1 [00:00<?, ?it/s]"
      ]
     },
     "metadata": {},
     "output_type": "display_data"
    },
    {
     "data": {
      "application/vnd.jupyter.widget-view+json": {
       "model_id": "fc7560e0bc36455ca594f959180f8d8f",
       "version_major": 2,
       "version_minor": 0
      },
      "text/plain": [
       "network dynamic:   0%|          | 0/9999 [00:00<?, ?it/s]"
      ]
     },
     "metadata": {},
     "output_type": "display_data"
    },
    {
     "data": {
      "application/vnd.jupyter.widget-view+json": {
       "model_id": "a650b77d5ada4a688cc8dd26b8e70832",
       "version_major": 2,
       "version_minor": 0
      },
      "text/plain": [
       "Making ensembles:   0%|          | 0/1 [00:00<?, ?it/s]"
      ]
     },
     "metadata": {},
     "output_type": "display_data"
    },
    {
     "data": {
      "application/vnd.jupyter.widget-view+json": {
       "model_id": "2b50f043673540d9b582807e713f1b2f",
       "version_major": 2,
       "version_minor": 0
      },
      "text/plain": [
       "network dynamic:   0%|          | 0/9999 [00:00<?, ?it/s]"
      ]
     },
     "metadata": {},
     "output_type": "display_data"
    },
    {
     "data": {
      "application/vnd.jupyter.widget-view+json": {
       "model_id": "ee15c0bcab60485e9d2fb90ea140bc8d",
       "version_major": 2,
       "version_minor": 0
      },
      "text/plain": [
       "Variation of delay:   0%|          | 0/10 [00:00<?, ?it/s]"
      ]
     },
     "metadata": {},
     "output_type": "display_data"
    },
    {
     "data": {
      "application/vnd.jupyter.widget-view+json": {
       "model_id": "e68dbedc657f4471b4efeca02d8c4b4f",
       "version_major": 2,
       "version_minor": 0
      },
      "text/plain": [
       "Variation of alpha:   0%|          | 0/2 [00:00<?, ?it/s]"
      ]
     },
     "metadata": {},
     "output_type": "display_data"
    },
    {
     "data": {
      "application/vnd.jupyter.widget-view+json": {
       "model_id": "39ab49c68fef4493984bf8c04286e91b",
       "version_major": 2,
       "version_minor": 0
      },
      "text/plain": [
       "Making ensembles:   0%|          | 0/1 [00:00<?, ?it/s]"
      ]
     },
     "metadata": {},
     "output_type": "display_data"
    },
    {
     "data": {
      "application/vnd.jupyter.widget-view+json": {
       "model_id": "7b512252ed554958a03a8dd4def2dbb1",
       "version_major": 2,
       "version_minor": 0
      },
      "text/plain": [
       "network dynamic:   0%|          | 0/9999 [00:00<?, ?it/s]"
      ]
     },
     "metadata": {},
     "output_type": "display_data"
    },
    {
     "data": {
      "application/vnd.jupyter.widget-view+json": {
       "model_id": "5273024806524fb79177e65fe3beb2c0",
       "version_major": 2,
       "version_minor": 0
      },
      "text/plain": [
       "Making ensembles:   0%|          | 0/1 [00:00<?, ?it/s]"
      ]
     },
     "metadata": {},
     "output_type": "display_data"
    },
    {
     "data": {
      "application/vnd.jupyter.widget-view+json": {
       "model_id": "53e80b84938b4a38bef35a69c6f096eb",
       "version_major": 2,
       "version_minor": 0
      },
      "text/plain": [
       "network dynamic:   0%|          | 0/9999 [00:00<?, ?it/s]"
      ]
     },
     "metadata": {},
     "output_type": "display_data"
    },
    {
     "data": {
      "application/vnd.jupyter.widget-view+json": {
       "model_id": "dab7eeb3bde04762b460632b02207805",
       "version_major": 2,
       "version_minor": 0
      },
      "text/plain": [
       "Variation of alpha:   0%|          | 0/2 [00:00<?, ?it/s]"
      ]
     },
     "metadata": {},
     "output_type": "display_data"
    },
    {
     "data": {
      "application/vnd.jupyter.widget-view+json": {
       "model_id": "88cc283e9a7c4dd39800c630b6f11f75",
       "version_major": 2,
       "version_minor": 0
      },
      "text/plain": [
       "Making ensembles:   0%|          | 0/1 [00:00<?, ?it/s]"
      ]
     },
     "metadata": {},
     "output_type": "display_data"
    },
    {
     "data": {
      "application/vnd.jupyter.widget-view+json": {
       "model_id": "0ac3b61ff4524c698b8bb720b7bea45b",
       "version_major": 2,
       "version_minor": 0
      },
      "text/plain": [
       "network dynamic:   0%|          | 0/9999 [00:00<?, ?it/s]"
      ]
     },
     "metadata": {},
     "output_type": "display_data"
    },
    {
     "data": {
      "application/vnd.jupyter.widget-view+json": {
       "model_id": "7b3047cadcfc4738ba1083b63a042680",
       "version_major": 2,
       "version_minor": 0
      },
      "text/plain": [
       "Making ensembles:   0%|          | 0/1 [00:00<?, ?it/s]"
      ]
     },
     "metadata": {},
     "output_type": "display_data"
    },
    {
     "data": {
      "application/vnd.jupyter.widget-view+json": {
       "model_id": "99c866e0818d4e6abcdbd7f711bbcf04",
       "version_major": 2,
       "version_minor": 0
      },
      "text/plain": [
       "network dynamic:   0%|          | 0/9999 [00:00<?, ?it/s]"
      ]
     },
     "metadata": {},
     "output_type": "display_data"
    },
    {
     "data": {
      "application/vnd.jupyter.widget-view+json": {
       "model_id": "aaed643c283e454696626d16781b2c73",
       "version_major": 2,
       "version_minor": 0
      },
      "text/plain": [
       "Variation of alpha:   0%|          | 0/2 [00:00<?, ?it/s]"
      ]
     },
     "metadata": {},
     "output_type": "display_data"
    },
    {
     "data": {
      "application/vnd.jupyter.widget-view+json": {
       "model_id": "e3eba562a07a4a2bbc3a9293f0a3a782",
       "version_major": 2,
       "version_minor": 0
      },
      "text/plain": [
       "Making ensembles:   0%|          | 0/1 [00:00<?, ?it/s]"
      ]
     },
     "metadata": {},
     "output_type": "display_data"
    },
    {
     "data": {
      "application/vnd.jupyter.widget-view+json": {
       "model_id": "ba8bd3d8e9b44556a55cf69863933543",
       "version_major": 2,
       "version_minor": 0
      },
      "text/plain": [
       "network dynamic:   0%|          | 0/9999 [00:00<?, ?it/s]"
      ]
     },
     "metadata": {},
     "output_type": "display_data"
    },
    {
     "data": {
      "application/vnd.jupyter.widget-view+json": {
       "model_id": "9aed2db3698c49389e884cea2c5a8f68",
       "version_major": 2,
       "version_minor": 0
      },
      "text/plain": [
       "Making ensembles:   0%|          | 0/1 [00:00<?, ?it/s]"
      ]
     },
     "metadata": {},
     "output_type": "display_data"
    },
    {
     "data": {
      "application/vnd.jupyter.widget-view+json": {
       "model_id": "a9aee125b753411db80428a1fbf78f28",
       "version_major": 2,
       "version_minor": 0
      },
      "text/plain": [
       "network dynamic:   0%|          | 0/9999 [00:00<?, ?it/s]"
      ]
     },
     "metadata": {},
     "output_type": "display_data"
    },
    {
     "data": {
      "application/vnd.jupyter.widget-view+json": {
       "model_id": "7215cf1ae41a40cbba1030366932d7a6",
       "version_major": 2,
       "version_minor": 0
      },
      "text/plain": [
       "Variation of alpha:   0%|          | 0/2 [00:00<?, ?it/s]"
      ]
     },
     "metadata": {},
     "output_type": "display_data"
    },
    {
     "data": {
      "application/vnd.jupyter.widget-view+json": {
       "model_id": "a624b39d2ea64cf68bf0a07812c5271b",
       "version_major": 2,
       "version_minor": 0
      },
      "text/plain": [
       "Making ensembles:   0%|          | 0/1 [00:00<?, ?it/s]"
      ]
     },
     "metadata": {},
     "output_type": "display_data"
    },
    {
     "data": {
      "application/vnd.jupyter.widget-view+json": {
       "model_id": "4a25e5e2cccd4f9f87c4c2443aaa89d8",
       "version_major": 2,
       "version_minor": 0
      },
      "text/plain": [
       "network dynamic:   0%|          | 0/9999 [00:00<?, ?it/s]"
      ]
     },
     "metadata": {},
     "output_type": "display_data"
    },
    {
     "data": {
      "application/vnd.jupyter.widget-view+json": {
       "model_id": "6b9539fe37bc42c5ae441cc0bd5e7e6e",
       "version_major": 2,
       "version_minor": 0
      },
      "text/plain": [
       "Making ensembles:   0%|          | 0/1 [00:00<?, ?it/s]"
      ]
     },
     "metadata": {},
     "output_type": "display_data"
    },
    {
     "data": {
      "application/vnd.jupyter.widget-view+json": {
       "model_id": "28caf450fb6d41f1a9b44b2bfb419329",
       "version_major": 2,
       "version_minor": 0
      },
      "text/plain": [
       "network dynamic:   0%|          | 0/9999 [00:00<?, ?it/s]"
      ]
     },
     "metadata": {},
     "output_type": "display_data"
    },
    {
     "data": {
      "application/vnd.jupyter.widget-view+json": {
       "model_id": "6a1e58c89bbf4c6b822a81e15e21b5ca",
       "version_major": 2,
       "version_minor": 0
      },
      "text/plain": [
       "Variation of alpha:   0%|          | 0/2 [00:00<?, ?it/s]"
      ]
     },
     "metadata": {},
     "output_type": "display_data"
    },
    {
     "data": {
      "application/vnd.jupyter.widget-view+json": {
       "model_id": "5d05181e64c343f18b763f307af76528",
       "version_major": 2,
       "version_minor": 0
      },
      "text/plain": [
       "Making ensembles:   0%|          | 0/1 [00:00<?, ?it/s]"
      ]
     },
     "metadata": {},
     "output_type": "display_data"
    },
    {
     "data": {
      "application/vnd.jupyter.widget-view+json": {
       "model_id": "07601205e69c4caeb44422befde93b01",
       "version_major": 2,
       "version_minor": 0
      },
      "text/plain": [
       "network dynamic:   0%|          | 0/9999 [00:00<?, ?it/s]"
      ]
     },
     "metadata": {},
     "output_type": "display_data"
    },
    {
     "data": {
      "application/vnd.jupyter.widget-view+json": {
       "model_id": "ecb37839cd024cc6bc044a76d8e4e59d",
       "version_major": 2,
       "version_minor": 0
      },
      "text/plain": [
       "Making ensembles:   0%|          | 0/1 [00:00<?, ?it/s]"
      ]
     },
     "metadata": {},
     "output_type": "display_data"
    },
    {
     "data": {
      "application/vnd.jupyter.widget-view+json": {
       "model_id": "2d76f2ab548d45a7b518ec863dd9223e",
       "version_major": 2,
       "version_minor": 0
      },
      "text/plain": [
       "network dynamic:   0%|          | 0/9999 [00:00<?, ?it/s]"
      ]
     },
     "metadata": {},
     "output_type": "display_data"
    },
    {
     "data": {
      "application/vnd.jupyter.widget-view+json": {
       "model_id": "7659fa21b46b43e48542ca4e4aa7b9a2",
       "version_major": 2,
       "version_minor": 0
      },
      "text/plain": [
       "Variation of alpha:   0%|          | 0/2 [00:00<?, ?it/s]"
      ]
     },
     "metadata": {},
     "output_type": "display_data"
    },
    {
     "data": {
      "application/vnd.jupyter.widget-view+json": {
       "model_id": "86bf2903021b42b2bb3982dad9d6f6f9",
       "version_major": 2,
       "version_minor": 0
      },
      "text/plain": [
       "Making ensembles:   0%|          | 0/1 [00:00<?, ?it/s]"
      ]
     },
     "metadata": {},
     "output_type": "display_data"
    },
    {
     "data": {
      "application/vnd.jupyter.widget-view+json": {
       "model_id": "af26baa59755468099c14523b82dd02f",
       "version_major": 2,
       "version_minor": 0
      },
      "text/plain": [
       "network dynamic:   0%|          | 0/9999 [00:00<?, ?it/s]"
      ]
     },
     "metadata": {},
     "output_type": "display_data"
    },
    {
     "data": {
      "application/vnd.jupyter.widget-view+json": {
       "model_id": "d4680aca3e874af89e962a782e910c8c",
       "version_major": 2,
       "version_minor": 0
      },
      "text/plain": [
       "Making ensembles:   0%|          | 0/1 [00:00<?, ?it/s]"
      ]
     },
     "metadata": {},
     "output_type": "display_data"
    },
    {
     "data": {
      "application/vnd.jupyter.widget-view+json": {
       "model_id": "b2024d78a223456ea977f5bf38c44fb2",
       "version_major": 2,
       "version_minor": 0
      },
      "text/plain": [
       "network dynamic:   0%|          | 0/9999 [00:00<?, ?it/s]"
      ]
     },
     "metadata": {},
     "output_type": "display_data"
    },
    {
     "data": {
      "application/vnd.jupyter.widget-view+json": {
       "model_id": "5d26e604fc59477db90c0e15d532df28",
       "version_major": 2,
       "version_minor": 0
      },
      "text/plain": [
       "Variation of alpha:   0%|          | 0/2 [00:00<?, ?it/s]"
      ]
     },
     "metadata": {},
     "output_type": "display_data"
    },
    {
     "data": {
      "application/vnd.jupyter.widget-view+json": {
       "model_id": "6f6d74ceff154e5897ee4308b187912a",
       "version_major": 2,
       "version_minor": 0
      },
      "text/plain": [
       "Making ensembles:   0%|          | 0/1 [00:00<?, ?it/s]"
      ]
     },
     "metadata": {},
     "output_type": "display_data"
    },
    {
     "data": {
      "application/vnd.jupyter.widget-view+json": {
       "model_id": "ba3d30af99914642a4085730326bf704",
       "version_major": 2,
       "version_minor": 0
      },
      "text/plain": [
       "network dynamic:   0%|          | 0/9999 [00:00<?, ?it/s]"
      ]
     },
     "metadata": {},
     "output_type": "display_data"
    },
    {
     "data": {
      "application/vnd.jupyter.widget-view+json": {
       "model_id": "77f09c18eced472e8f8ce95594dc4c4d",
       "version_major": 2,
       "version_minor": 0
      },
      "text/plain": [
       "Making ensembles:   0%|          | 0/1 [00:00<?, ?it/s]"
      ]
     },
     "metadata": {},
     "output_type": "display_data"
    },
    {
     "data": {
      "application/vnd.jupyter.widget-view+json": {
       "model_id": "4913b9962156471eb0a95ca459380b8d",
       "version_major": 2,
       "version_minor": 0
      },
      "text/plain": [
       "network dynamic:   0%|          | 0/9999 [00:00<?, ?it/s]"
      ]
     },
     "metadata": {},
     "output_type": "display_data"
    },
    {
     "data": {
      "application/vnd.jupyter.widget-view+json": {
       "model_id": "d67bd957e6da49e9b1e2cf8f5d5449ae",
       "version_major": 2,
       "version_minor": 0
      },
      "text/plain": [
       "Variation of alpha:   0%|          | 0/2 [00:00<?, ?it/s]"
      ]
     },
     "metadata": {},
     "output_type": "display_data"
    },
    {
     "data": {
      "application/vnd.jupyter.widget-view+json": {
       "model_id": "b812fd1149f34db9977d96256908cb18",
       "version_major": 2,
       "version_minor": 0
      },
      "text/plain": [
       "Making ensembles:   0%|          | 0/1 [00:00<?, ?it/s]"
      ]
     },
     "metadata": {},
     "output_type": "display_data"
    },
    {
     "data": {
      "application/vnd.jupyter.widget-view+json": {
       "model_id": "f5f87b671f8f4ce8b225c3d32701086f",
       "version_major": 2,
       "version_minor": 0
      },
      "text/plain": [
       "network dynamic:   0%|          | 0/9999 [00:00<?, ?it/s]"
      ]
     },
     "metadata": {},
     "output_type": "display_data"
    },
    {
     "data": {
      "application/vnd.jupyter.widget-view+json": {
       "model_id": "ac34867c73c747ab8d23268fd2e23895",
       "version_major": 2,
       "version_minor": 0
      },
      "text/plain": [
       "Making ensembles:   0%|          | 0/1 [00:00<?, ?it/s]"
      ]
     },
     "metadata": {},
     "output_type": "display_data"
    },
    {
     "data": {
      "application/vnd.jupyter.widget-view+json": {
       "model_id": "44a37be724db43f39ab4f54ccad28fcc",
       "version_major": 2,
       "version_minor": 0
      },
      "text/plain": [
       "network dynamic:   0%|          | 0/9999 [00:00<?, ?it/s]"
      ]
     },
     "metadata": {},
     "output_type": "display_data"
    },
    {
     "data": {
      "application/vnd.jupyter.widget-view+json": {
       "model_id": "41da63ed79b44760999fe85594996ee7",
       "version_major": 2,
       "version_minor": 0
      },
      "text/plain": [
       "Variation of alpha:   0%|          | 0/2 [00:00<?, ?it/s]"
      ]
     },
     "metadata": {},
     "output_type": "display_data"
    },
    {
     "data": {
      "application/vnd.jupyter.widget-view+json": {
       "model_id": "b7771b4299ba4acda8a2b34ecb9ff15a",
       "version_major": 2,
       "version_minor": 0
      },
      "text/plain": [
       "Making ensembles:   0%|          | 0/1 [00:00<?, ?it/s]"
      ]
     },
     "metadata": {},
     "output_type": "display_data"
    },
    {
     "data": {
      "application/vnd.jupyter.widget-view+json": {
       "model_id": "836c3fb2bfe643c5abce4a8a37b69b34",
       "version_major": 2,
       "version_minor": 0
      },
      "text/plain": [
       "network dynamic:   0%|          | 0/9999 [00:00<?, ?it/s]"
      ]
     },
     "metadata": {},
     "output_type": "display_data"
    },
    {
     "data": {
      "application/vnd.jupyter.widget-view+json": {
       "model_id": "9f98d0cc9aab4d8e9e79f8d5b516f395",
       "version_major": 2,
       "version_minor": 0
      },
      "text/plain": [
       "Making ensembles:   0%|          | 0/1 [00:00<?, ?it/s]"
      ]
     },
     "metadata": {},
     "output_type": "display_data"
    },
    {
     "data": {
      "application/vnd.jupyter.widget-view+json": {
       "model_id": "d09b7384388c4a448b2a78fab31eb253",
       "version_major": 2,
       "version_minor": 0
      },
      "text/plain": [
       "network dynamic:   0%|          | 0/9999 [00:00<?, ?it/s]"
      ]
     },
     "metadata": {},
     "output_type": "display_data"
    },
    {
     "data": {
      "application/vnd.jupyter.widget-view+json": {
       "model_id": "f9ca7c65eea14412988c71feba78e2da",
       "version_major": 2,
       "version_minor": 0
      },
      "text/plain": [
       "Variation of alpha:   0%|          | 0/2 [00:00<?, ?it/s]"
      ]
     },
     "metadata": {},
     "output_type": "display_data"
    },
    {
     "data": {
      "application/vnd.jupyter.widget-view+json": {
       "model_id": "5896b1fde27445e9b93b0fc65bcaf4b9",
       "version_major": 2,
       "version_minor": 0
      },
      "text/plain": [
       "Making ensembles:   0%|          | 0/1 [00:00<?, ?it/s]"
      ]
     },
     "metadata": {},
     "output_type": "display_data"
    },
    {
     "data": {
      "application/vnd.jupyter.widget-view+json": {
       "model_id": "df3bec9fe9554acdbff6ef3f6bbda399",
       "version_major": 2,
       "version_minor": 0
      },
      "text/plain": [
       "network dynamic:   0%|          | 0/9999 [00:00<?, ?it/s]"
      ]
     },
     "metadata": {},
     "output_type": "display_data"
    },
    {
     "data": {
      "application/vnd.jupyter.widget-view+json": {
       "model_id": "8691c4a4bd0b4fdaa44b3a94df85ea5d",
       "version_major": 2,
       "version_minor": 0
      },
      "text/plain": [
       "Making ensembles:   0%|          | 0/1 [00:00<?, ?it/s]"
      ]
     },
     "metadata": {},
     "output_type": "display_data"
    },
    {
     "data": {
      "application/vnd.jupyter.widget-view+json": {
       "model_id": "c03d94b003e541f8b55d0f70400b7538",
       "version_major": 2,
       "version_minor": 0
      },
      "text/plain": [
       "network dynamic:   0%|          | 0/9999 [00:00<?, ?it/s]"
      ]
     },
     "metadata": {},
     "output_type": "display_data"
    },
    {
     "data": {
      "application/vnd.jupyter.widget-view+json": {
       "model_id": "eb658c70cb144184998cba13b494e069",
       "version_major": 2,
       "version_minor": 0
      },
      "text/plain": [
       "Variation of delay:   0%|          | 0/10 [00:00<?, ?it/s]"
      ]
     },
     "metadata": {},
     "output_type": "display_data"
    },
    {
     "data": {
      "application/vnd.jupyter.widget-view+json": {
       "model_id": "4da592a5d2d8456bac4d3a0442167b7d",
       "version_major": 2,
       "version_minor": 0
      },
      "text/plain": [
       "Variation of alpha:   0%|          | 0/2 [00:00<?, ?it/s]"
      ]
     },
     "metadata": {},
     "output_type": "display_data"
    },
    {
     "data": {
      "application/vnd.jupyter.widget-view+json": {
       "model_id": "2c8108153e60421ca551144ffb006032",
       "version_major": 2,
       "version_minor": 0
      },
      "text/plain": [
       "Making ensembles:   0%|          | 0/1 [00:00<?, ?it/s]"
      ]
     },
     "metadata": {},
     "output_type": "display_data"
    },
    {
     "data": {
      "application/vnd.jupyter.widget-view+json": {
       "model_id": "e1b82fd04b3048a4a501b6ea727442d9",
       "version_major": 2,
       "version_minor": 0
      },
      "text/plain": [
       "network dynamic:   0%|          | 0/9999 [00:00<?, ?it/s]"
      ]
     },
     "metadata": {},
     "output_type": "display_data"
    },
    {
     "data": {
      "application/vnd.jupyter.widget-view+json": {
       "model_id": "e533071b2afe47e7bee8abcc8ba00415",
       "version_major": 2,
       "version_minor": 0
      },
      "text/plain": [
       "Making ensembles:   0%|          | 0/1 [00:00<?, ?it/s]"
      ]
     },
     "metadata": {},
     "output_type": "display_data"
    },
    {
     "data": {
      "application/vnd.jupyter.widget-view+json": {
       "model_id": "0101a6f6e4874d11a7923a03aab444af",
       "version_major": 2,
       "version_minor": 0
      },
      "text/plain": [
       "network dynamic:   0%|          | 0/9999 [00:00<?, ?it/s]"
      ]
     },
     "metadata": {},
     "output_type": "display_data"
    },
    {
     "data": {
      "application/vnd.jupyter.widget-view+json": {
       "model_id": "188d7b1cebc64b71a5f6acb08262bea5",
       "version_major": 2,
       "version_minor": 0
      },
      "text/plain": [
       "Variation of alpha:   0%|          | 0/2 [00:00<?, ?it/s]"
      ]
     },
     "metadata": {},
     "output_type": "display_data"
    },
    {
     "data": {
      "application/vnd.jupyter.widget-view+json": {
       "model_id": "a3a971d0b41144a2af0b01a555f43e52",
       "version_major": 2,
       "version_minor": 0
      },
      "text/plain": [
       "Making ensembles:   0%|          | 0/1 [00:00<?, ?it/s]"
      ]
     },
     "metadata": {},
     "output_type": "display_data"
    },
    {
     "data": {
      "application/vnd.jupyter.widget-view+json": {
       "model_id": "9616982d82ea469e8bdfafc2fcfae46a",
       "version_major": 2,
       "version_minor": 0
      },
      "text/plain": [
       "network dynamic:   0%|          | 0/9999 [00:00<?, ?it/s]"
      ]
     },
     "metadata": {},
     "output_type": "display_data"
    },
    {
     "data": {
      "application/vnd.jupyter.widget-view+json": {
       "model_id": "084886b214324933a23c75f80ce0ff4a",
       "version_major": 2,
       "version_minor": 0
      },
      "text/plain": [
       "Making ensembles:   0%|          | 0/1 [00:00<?, ?it/s]"
      ]
     },
     "metadata": {},
     "output_type": "display_data"
    },
    {
     "data": {
      "application/vnd.jupyter.widget-view+json": {
       "model_id": "1e2e1ce4857d48c6bdcd56000cf03299",
       "version_major": 2,
       "version_minor": 0
      },
      "text/plain": [
       "network dynamic:   0%|          | 0/9999 [00:00<?, ?it/s]"
      ]
     },
     "metadata": {},
     "output_type": "display_data"
    },
    {
     "data": {
      "application/vnd.jupyter.widget-view+json": {
       "model_id": "4c215f2e5ebf4da1a4b5580b960cfc73",
       "version_major": 2,
       "version_minor": 0
      },
      "text/plain": [
       "Variation of alpha:   0%|          | 0/2 [00:00<?, ?it/s]"
      ]
     },
     "metadata": {},
     "output_type": "display_data"
    },
    {
     "data": {
      "application/vnd.jupyter.widget-view+json": {
       "model_id": "79295da894274c5fa227928c6995575b",
       "version_major": 2,
       "version_minor": 0
      },
      "text/plain": [
       "Making ensembles:   0%|          | 0/1 [00:00<?, ?it/s]"
      ]
     },
     "metadata": {},
     "output_type": "display_data"
    },
    {
     "data": {
      "application/vnd.jupyter.widget-view+json": {
       "model_id": "fc898deabb41483689ca4ce73cbb9ed3",
       "version_major": 2,
       "version_minor": 0
      },
      "text/plain": [
       "network dynamic:   0%|          | 0/9999 [00:00<?, ?it/s]"
      ]
     },
     "metadata": {},
     "output_type": "display_data"
    },
    {
     "data": {
      "application/vnd.jupyter.widget-view+json": {
       "model_id": "6ea9db95b65f415cb8a9b7d7c00962af",
       "version_major": 2,
       "version_minor": 0
      },
      "text/plain": [
       "Making ensembles:   0%|          | 0/1 [00:00<?, ?it/s]"
      ]
     },
     "metadata": {},
     "output_type": "display_data"
    },
    {
     "data": {
      "application/vnd.jupyter.widget-view+json": {
       "model_id": "9d4da345c7194e5db911630f0a83fcf7",
       "version_major": 2,
       "version_minor": 0
      },
      "text/plain": [
       "network dynamic:   0%|          | 0/9999 [00:00<?, ?it/s]"
      ]
     },
     "metadata": {},
     "output_type": "display_data"
    },
    {
     "data": {
      "application/vnd.jupyter.widget-view+json": {
       "model_id": "a548af5fc7cb4744bc8f17ca00d6b9eb",
       "version_major": 2,
       "version_minor": 0
      },
      "text/plain": [
       "Variation of alpha:   0%|          | 0/2 [00:00<?, ?it/s]"
      ]
     },
     "metadata": {},
     "output_type": "display_data"
    },
    {
     "data": {
      "application/vnd.jupyter.widget-view+json": {
       "model_id": "b4163025c63d41f2afb2932471e6723e",
       "version_major": 2,
       "version_minor": 0
      },
      "text/plain": [
       "Making ensembles:   0%|          | 0/1 [00:00<?, ?it/s]"
      ]
     },
     "metadata": {},
     "output_type": "display_data"
    },
    {
     "data": {
      "application/vnd.jupyter.widget-view+json": {
       "model_id": "88c53fed106243b0a2c5049d0adcf0b9",
       "version_major": 2,
       "version_minor": 0
      },
      "text/plain": [
       "network dynamic:   0%|          | 0/9999 [00:00<?, ?it/s]"
      ]
     },
     "metadata": {},
     "output_type": "display_data"
    },
    {
     "data": {
      "application/vnd.jupyter.widget-view+json": {
       "model_id": "3d01f8d49d704d35a367261ee38526d5",
       "version_major": 2,
       "version_minor": 0
      },
      "text/plain": [
       "Making ensembles:   0%|          | 0/1 [00:00<?, ?it/s]"
      ]
     },
     "metadata": {},
     "output_type": "display_data"
    },
    {
     "data": {
      "application/vnd.jupyter.widget-view+json": {
       "model_id": "a72149f30c124f4e872e39368d1277ee",
       "version_major": 2,
       "version_minor": 0
      },
      "text/plain": [
       "network dynamic:   0%|          | 0/9999 [00:00<?, ?it/s]"
      ]
     },
     "metadata": {},
     "output_type": "display_data"
    },
    {
     "data": {
      "application/vnd.jupyter.widget-view+json": {
       "model_id": "bbec10e303444398bcc478919cccf31a",
       "version_major": 2,
       "version_minor": 0
      },
      "text/plain": [
       "Variation of alpha:   0%|          | 0/2 [00:00<?, ?it/s]"
      ]
     },
     "metadata": {},
     "output_type": "display_data"
    },
    {
     "data": {
      "application/vnd.jupyter.widget-view+json": {
       "model_id": "e3b5060f7f35440aaabad2f19cdabd40",
       "version_major": 2,
       "version_minor": 0
      },
      "text/plain": [
       "Making ensembles:   0%|          | 0/1 [00:00<?, ?it/s]"
      ]
     },
     "metadata": {},
     "output_type": "display_data"
    },
    {
     "data": {
      "application/vnd.jupyter.widget-view+json": {
       "model_id": "83aa7869ec9844c4be87eb9338d3aaa0",
       "version_major": 2,
       "version_minor": 0
      },
      "text/plain": [
       "network dynamic:   0%|          | 0/9999 [00:00<?, ?it/s]"
      ]
     },
     "metadata": {},
     "output_type": "display_data"
    },
    {
     "data": {
      "application/vnd.jupyter.widget-view+json": {
       "model_id": "fcdffa03711240a7aa9933070bf45f11",
       "version_major": 2,
       "version_minor": 0
      },
      "text/plain": [
       "Making ensembles:   0%|          | 0/1 [00:00<?, ?it/s]"
      ]
     },
     "metadata": {},
     "output_type": "display_data"
    },
    {
     "data": {
      "application/vnd.jupyter.widget-view+json": {
       "model_id": "acca2eceb39f41299d91207def1bd03e",
       "version_major": 2,
       "version_minor": 0
      },
      "text/plain": [
       "network dynamic:   0%|          | 0/9999 [00:00<?, ?it/s]"
      ]
     },
     "metadata": {},
     "output_type": "display_data"
    },
    {
     "data": {
      "application/vnd.jupyter.widget-view+json": {
       "model_id": "aa1988b2258d466b9527e8cb524ae9f7",
       "version_major": 2,
       "version_minor": 0
      },
      "text/plain": [
       "Variation of alpha:   0%|          | 0/2 [00:00<?, ?it/s]"
      ]
     },
     "metadata": {},
     "output_type": "display_data"
    },
    {
     "data": {
      "application/vnd.jupyter.widget-view+json": {
       "model_id": "ae938e94e0f846d3bd2036da8e16614b",
       "version_major": 2,
       "version_minor": 0
      },
      "text/plain": [
       "Making ensembles:   0%|          | 0/1 [00:00<?, ?it/s]"
      ]
     },
     "metadata": {},
     "output_type": "display_data"
    },
    {
     "data": {
      "application/vnd.jupyter.widget-view+json": {
       "model_id": "3902f5395c0941c39dc2e9aa70a5b4fe",
       "version_major": 2,
       "version_minor": 0
      },
      "text/plain": [
       "network dynamic:   0%|          | 0/9999 [00:00<?, ?it/s]"
      ]
     },
     "metadata": {},
     "output_type": "display_data"
    },
    {
     "data": {
      "application/vnd.jupyter.widget-view+json": {
       "model_id": "2d02641f3c5f4394955c76eb94b1622c",
       "version_major": 2,
       "version_minor": 0
      },
      "text/plain": [
       "Making ensembles:   0%|          | 0/1 [00:00<?, ?it/s]"
      ]
     },
     "metadata": {},
     "output_type": "display_data"
    },
    {
     "data": {
      "application/vnd.jupyter.widget-view+json": {
       "model_id": "5a2e52ea6a67476cac2899dad27e9e3c",
       "version_major": 2,
       "version_minor": 0
      },
      "text/plain": [
       "network dynamic:   0%|          | 0/9999 [00:00<?, ?it/s]"
      ]
     },
     "metadata": {},
     "output_type": "display_data"
    },
    {
     "data": {
      "application/vnd.jupyter.widget-view+json": {
       "model_id": "9bc6f52d9294414e8634aeb6756b86e1",
       "version_major": 2,
       "version_minor": 0
      },
      "text/plain": [
       "Variation of alpha:   0%|          | 0/2 [00:00<?, ?it/s]"
      ]
     },
     "metadata": {},
     "output_type": "display_data"
    },
    {
     "data": {
      "application/vnd.jupyter.widget-view+json": {
       "model_id": "748c638c43774648981cc51813647c10",
       "version_major": 2,
       "version_minor": 0
      },
      "text/plain": [
       "Making ensembles:   0%|          | 0/1 [00:00<?, ?it/s]"
      ]
     },
     "metadata": {},
     "output_type": "display_data"
    },
    {
     "data": {
      "application/vnd.jupyter.widget-view+json": {
       "model_id": "66930cf70d73402faa7c080ed1101c82",
       "version_major": 2,
       "version_minor": 0
      },
      "text/plain": [
       "network dynamic:   0%|          | 0/9999 [00:00<?, ?it/s]"
      ]
     },
     "metadata": {},
     "output_type": "display_data"
    },
    {
     "data": {
      "application/vnd.jupyter.widget-view+json": {
       "model_id": "a0843d88bea64c488808651cbdf166b9",
       "version_major": 2,
       "version_minor": 0
      },
      "text/plain": [
       "Making ensembles:   0%|          | 0/1 [00:00<?, ?it/s]"
      ]
     },
     "metadata": {},
     "output_type": "display_data"
    },
    {
     "data": {
      "application/vnd.jupyter.widget-view+json": {
       "model_id": "4488b236909c4a75b1ec5628e093c87c",
       "version_major": 2,
       "version_minor": 0
      },
      "text/plain": [
       "network dynamic:   0%|          | 0/9999 [00:00<?, ?it/s]"
      ]
     },
     "metadata": {},
     "output_type": "display_data"
    },
    {
     "data": {
      "application/vnd.jupyter.widget-view+json": {
       "model_id": "e103e294c3804c0dbfdbaa60940d9d77",
       "version_major": 2,
       "version_minor": 0
      },
      "text/plain": [
       "Variation of alpha:   0%|          | 0/2 [00:00<?, ?it/s]"
      ]
     },
     "metadata": {},
     "output_type": "display_data"
    },
    {
     "data": {
      "application/vnd.jupyter.widget-view+json": {
       "model_id": "ac66c77b83a9421eb8a2e82720264457",
       "version_major": 2,
       "version_minor": 0
      },
      "text/plain": [
       "Making ensembles:   0%|          | 0/1 [00:00<?, ?it/s]"
      ]
     },
     "metadata": {},
     "output_type": "display_data"
    },
    {
     "data": {
      "application/vnd.jupyter.widget-view+json": {
       "model_id": "a4740918b8874774bda987ef9bb3e512",
       "version_major": 2,
       "version_minor": 0
      },
      "text/plain": [
       "network dynamic:   0%|          | 0/9999 [00:00<?, ?it/s]"
      ]
     },
     "metadata": {},
     "output_type": "display_data"
    },
    {
     "data": {
      "application/vnd.jupyter.widget-view+json": {
       "model_id": "ff6fc0ea61c74c51b2ba56af510c5f7d",
       "version_major": 2,
       "version_minor": 0
      },
      "text/plain": [
       "Making ensembles:   0%|          | 0/1 [00:00<?, ?it/s]"
      ]
     },
     "metadata": {},
     "output_type": "display_data"
    },
    {
     "data": {
      "application/vnd.jupyter.widget-view+json": {
       "model_id": "20c6a5f854cd4c99bf41b488f5901f2e",
       "version_major": 2,
       "version_minor": 0
      },
      "text/plain": [
       "network dynamic:   0%|          | 0/9999 [00:00<?, ?it/s]"
      ]
     },
     "metadata": {},
     "output_type": "display_data"
    },
    {
     "data": {
      "application/vnd.jupyter.widget-view+json": {
       "model_id": "34ea3ad94c79435eb12cf42fb614bd6a",
       "version_major": 2,
       "version_minor": 0
      },
      "text/plain": [
       "Variation of alpha:   0%|          | 0/2 [00:00<?, ?it/s]"
      ]
     },
     "metadata": {},
     "output_type": "display_data"
    },
    {
     "data": {
      "application/vnd.jupyter.widget-view+json": {
       "model_id": "92a61d777d5e42439acbd9b8e3d44422",
       "version_major": 2,
       "version_minor": 0
      },
      "text/plain": [
       "Making ensembles:   0%|          | 0/1 [00:00<?, ?it/s]"
      ]
     },
     "metadata": {},
     "output_type": "display_data"
    },
    {
     "data": {
      "application/vnd.jupyter.widget-view+json": {
       "model_id": "bdf7ad7de9154a91836c7469e6b0df01",
       "version_major": 2,
       "version_minor": 0
      },
      "text/plain": [
       "network dynamic:   0%|          | 0/9999 [00:00<?, ?it/s]"
      ]
     },
     "metadata": {},
     "output_type": "display_data"
    },
    {
     "data": {
      "application/vnd.jupyter.widget-view+json": {
       "model_id": "dc5c559740ac4cd48fd927d5dc1debeb",
       "version_major": 2,
       "version_minor": 0
      },
      "text/plain": [
       "Making ensembles:   0%|          | 0/1 [00:00<?, ?it/s]"
      ]
     },
     "metadata": {},
     "output_type": "display_data"
    },
    {
     "data": {
      "application/vnd.jupyter.widget-view+json": {
       "model_id": "255300d1c6c14d9a800eb620ea045d2d",
       "version_major": 2,
       "version_minor": 0
      },
      "text/plain": [
       "network dynamic:   0%|          | 0/9999 [00:00<?, ?it/s]"
      ]
     },
     "metadata": {},
     "output_type": "display_data"
    },
    {
     "data": {
      "application/vnd.jupyter.widget-view+json": {
       "model_id": "220ff8bcb7a54521ad860d044c3fe1f9",
       "version_major": 2,
       "version_minor": 0
      },
      "text/plain": [
       "Variation of alpha:   0%|          | 0/2 [00:00<?, ?it/s]"
      ]
     },
     "metadata": {},
     "output_type": "display_data"
    },
    {
     "data": {
      "application/vnd.jupyter.widget-view+json": {
       "model_id": "21e8af6882ec4b02aabc06a06212fe82",
       "version_major": 2,
       "version_minor": 0
      },
      "text/plain": [
       "Making ensembles:   0%|          | 0/1 [00:00<?, ?it/s]"
      ]
     },
     "metadata": {},
     "output_type": "display_data"
    },
    {
     "data": {
      "application/vnd.jupyter.widget-view+json": {
       "model_id": "a74781424a1849018344f36ca2de3f67",
       "version_major": 2,
       "version_minor": 0
      },
      "text/plain": [
       "network dynamic:   0%|          | 0/9999 [00:00<?, ?it/s]"
      ]
     },
     "metadata": {},
     "output_type": "display_data"
    },
    {
     "data": {
      "application/vnd.jupyter.widget-view+json": {
       "model_id": "2e8051031e77409e85b9631efd1c8b62",
       "version_major": 2,
       "version_minor": 0
      },
      "text/plain": [
       "Making ensembles:   0%|          | 0/1 [00:00<?, ?it/s]"
      ]
     },
     "metadata": {},
     "output_type": "display_data"
    },
    {
     "data": {
      "application/vnd.jupyter.widget-view+json": {
       "model_id": "65c72f8de3a147d1ae7d1bd2ba770f10",
       "version_major": 2,
       "version_minor": 0
      },
      "text/plain": [
       "network dynamic:   0%|          | 0/9999 [00:00<?, ?it/s]"
      ]
     },
     "metadata": {},
     "output_type": "display_data"
    },
    {
     "data": {
      "application/vnd.jupyter.widget-view+json": {
       "model_id": "72b4f576baed4a26bd4fd322c659912d",
       "version_major": 2,
       "version_minor": 0
      },
      "text/plain": [
       "Variation of delay:   0%|          | 0/10 [00:00<?, ?it/s]"
      ]
     },
     "metadata": {},
     "output_type": "display_data"
    },
    {
     "data": {
      "application/vnd.jupyter.widget-view+json": {
       "model_id": "36d1aca1b0c648dcb44b5975a6a770ab",
       "version_major": 2,
       "version_minor": 0
      },
      "text/plain": [
       "Variation of alpha:   0%|          | 0/2 [00:00<?, ?it/s]"
      ]
     },
     "metadata": {},
     "output_type": "display_data"
    },
    {
     "data": {
      "application/vnd.jupyter.widget-view+json": {
       "model_id": "96fb6cfc1b73440a857554e2344b77b3",
       "version_major": 2,
       "version_minor": 0
      },
      "text/plain": [
       "Making ensembles:   0%|          | 0/1 [00:00<?, ?it/s]"
      ]
     },
     "metadata": {},
     "output_type": "display_data"
    },
    {
     "data": {
      "application/vnd.jupyter.widget-view+json": {
       "model_id": "576eb648bc9244f487fe9a60dee24039",
       "version_major": 2,
       "version_minor": 0
      },
      "text/plain": [
       "network dynamic:   0%|          | 0/9999 [00:00<?, ?it/s]"
      ]
     },
     "metadata": {},
     "output_type": "display_data"
    },
    {
     "data": {
      "application/vnd.jupyter.widget-view+json": {
       "model_id": "f7c91ead827e40199d5311243a2775a4",
       "version_major": 2,
       "version_minor": 0
      },
      "text/plain": [
       "Making ensembles:   0%|          | 0/1 [00:00<?, ?it/s]"
      ]
     },
     "metadata": {},
     "output_type": "display_data"
    },
    {
     "data": {
      "application/vnd.jupyter.widget-view+json": {
       "model_id": "506f3abed0794dcc93e658c9482838d9",
       "version_major": 2,
       "version_minor": 0
      },
      "text/plain": [
       "network dynamic:   0%|          | 0/9999 [00:00<?, ?it/s]"
      ]
     },
     "metadata": {},
     "output_type": "display_data"
    },
    {
     "data": {
      "application/vnd.jupyter.widget-view+json": {
       "model_id": "9ed151f6cc19437fb6eaa44d06d67f9a",
       "version_major": 2,
       "version_minor": 0
      },
      "text/plain": [
       "Variation of alpha:   0%|          | 0/2 [00:00<?, ?it/s]"
      ]
     },
     "metadata": {},
     "output_type": "display_data"
    },
    {
     "data": {
      "application/vnd.jupyter.widget-view+json": {
       "model_id": "fee71c801d094717b358227a0537f4eb",
       "version_major": 2,
       "version_minor": 0
      },
      "text/plain": [
       "Making ensembles:   0%|          | 0/1 [00:00<?, ?it/s]"
      ]
     },
     "metadata": {},
     "output_type": "display_data"
    },
    {
     "data": {
      "application/vnd.jupyter.widget-view+json": {
       "model_id": "9d87d4e188cf4ef28188ae33c98f530f",
       "version_major": 2,
       "version_minor": 0
      },
      "text/plain": [
       "network dynamic:   0%|          | 0/9999 [00:00<?, ?it/s]"
      ]
     },
     "metadata": {},
     "output_type": "display_data"
    },
    {
     "data": {
      "application/vnd.jupyter.widget-view+json": {
       "model_id": "94318af5428c4a52bc67d02848987e66",
       "version_major": 2,
       "version_minor": 0
      },
      "text/plain": [
       "Making ensembles:   0%|          | 0/1 [00:00<?, ?it/s]"
      ]
     },
     "metadata": {},
     "output_type": "display_data"
    },
    {
     "data": {
      "application/vnd.jupyter.widget-view+json": {
       "model_id": "dc29e87c2132413da46c6c47d7c93330",
       "version_major": 2,
       "version_minor": 0
      },
      "text/plain": [
       "network dynamic:   0%|          | 0/9999 [00:00<?, ?it/s]"
      ]
     },
     "metadata": {},
     "output_type": "display_data"
    },
    {
     "data": {
      "application/vnd.jupyter.widget-view+json": {
       "model_id": "e405271ecbab4e4995d627a9b3f00ab6",
       "version_major": 2,
       "version_minor": 0
      },
      "text/plain": [
       "Variation of alpha:   0%|          | 0/2 [00:00<?, ?it/s]"
      ]
     },
     "metadata": {},
     "output_type": "display_data"
    },
    {
     "data": {
      "application/vnd.jupyter.widget-view+json": {
       "model_id": "1cca03082ee64efaa6f24cb434f73bd7",
       "version_major": 2,
       "version_minor": 0
      },
      "text/plain": [
       "Making ensembles:   0%|          | 0/1 [00:00<?, ?it/s]"
      ]
     },
     "metadata": {},
     "output_type": "display_data"
    },
    {
     "data": {
      "application/vnd.jupyter.widget-view+json": {
       "model_id": "7dae58b838904ee2828e4086261238ae",
       "version_major": 2,
       "version_minor": 0
      },
      "text/plain": [
       "network dynamic:   0%|          | 0/9999 [00:00<?, ?it/s]"
      ]
     },
     "metadata": {},
     "output_type": "display_data"
    },
    {
     "data": {
      "application/vnd.jupyter.widget-view+json": {
       "model_id": "9e29e7be7d8143d4934c93a03fb125de",
       "version_major": 2,
       "version_minor": 0
      },
      "text/plain": [
       "Making ensembles:   0%|          | 0/1 [00:00<?, ?it/s]"
      ]
     },
     "metadata": {},
     "output_type": "display_data"
    },
    {
     "data": {
      "application/vnd.jupyter.widget-view+json": {
       "model_id": "4ffe5b0aafcf43ac8df589e429db4f79",
       "version_major": 2,
       "version_minor": 0
      },
      "text/plain": [
       "network dynamic:   0%|          | 0/9999 [00:00<?, ?it/s]"
      ]
     },
     "metadata": {},
     "output_type": "display_data"
    },
    {
     "data": {
      "application/vnd.jupyter.widget-view+json": {
       "model_id": "edfabbaad99942f18173461f614a7647",
       "version_major": 2,
       "version_minor": 0
      },
      "text/plain": [
       "Variation of alpha:   0%|          | 0/2 [00:00<?, ?it/s]"
      ]
     },
     "metadata": {},
     "output_type": "display_data"
    },
    {
     "data": {
      "application/vnd.jupyter.widget-view+json": {
       "model_id": "16ac2748d3654545aac978aaf7f57f6c",
       "version_major": 2,
       "version_minor": 0
      },
      "text/plain": [
       "Making ensembles:   0%|          | 0/1 [00:00<?, ?it/s]"
      ]
     },
     "metadata": {},
     "output_type": "display_data"
    },
    {
     "data": {
      "application/vnd.jupyter.widget-view+json": {
       "model_id": "801da108168a4911a9c3ea93a26549fc",
       "version_major": 2,
       "version_minor": 0
      },
      "text/plain": [
       "network dynamic:   0%|          | 0/9999 [00:00<?, ?it/s]"
      ]
     },
     "metadata": {},
     "output_type": "display_data"
    },
    {
     "data": {
      "application/vnd.jupyter.widget-view+json": {
       "model_id": "b8b150c4945c476187153275f74e4680",
       "version_major": 2,
       "version_minor": 0
      },
      "text/plain": [
       "Making ensembles:   0%|          | 0/1 [00:00<?, ?it/s]"
      ]
     },
     "metadata": {},
     "output_type": "display_data"
    },
    {
     "data": {
      "application/vnd.jupyter.widget-view+json": {
       "model_id": "3253d419d374476b88ced03178e1bf72",
       "version_major": 2,
       "version_minor": 0
      },
      "text/plain": [
       "network dynamic:   0%|          | 0/9999 [00:00<?, ?it/s]"
      ]
     },
     "metadata": {},
     "output_type": "display_data"
    },
    {
     "data": {
      "application/vnd.jupyter.widget-view+json": {
       "model_id": "1a2aca08a2c74f51bd82f38660e600af",
       "version_major": 2,
       "version_minor": 0
      },
      "text/plain": [
       "Variation of alpha:   0%|          | 0/2 [00:00<?, ?it/s]"
      ]
     },
     "metadata": {},
     "output_type": "display_data"
    },
    {
     "data": {
      "application/vnd.jupyter.widget-view+json": {
       "model_id": "836d11518b6b416fa70c2c8243f9d66b",
       "version_major": 2,
       "version_minor": 0
      },
      "text/plain": [
       "Making ensembles:   0%|          | 0/1 [00:00<?, ?it/s]"
      ]
     },
     "metadata": {},
     "output_type": "display_data"
    },
    {
     "data": {
      "application/vnd.jupyter.widget-view+json": {
       "model_id": "07e474dfb60544389893a04c63b44a7f",
       "version_major": 2,
       "version_minor": 0
      },
      "text/plain": [
       "network dynamic:   0%|          | 0/9999 [00:00<?, ?it/s]"
      ]
     },
     "metadata": {},
     "output_type": "display_data"
    },
    {
     "data": {
      "application/vnd.jupyter.widget-view+json": {
       "model_id": "c71a4033dfd74b8d9ca0f522d6dad511",
       "version_major": 2,
       "version_minor": 0
      },
      "text/plain": [
       "Making ensembles:   0%|          | 0/1 [00:00<?, ?it/s]"
      ]
     },
     "metadata": {},
     "output_type": "display_data"
    },
    {
     "data": {
      "application/vnd.jupyter.widget-view+json": {
       "model_id": "5b1cb9838ca6488e8794ec36a8f075d1",
       "version_major": 2,
       "version_minor": 0
      },
      "text/plain": [
       "network dynamic:   0%|          | 0/9999 [00:00<?, ?it/s]"
      ]
     },
     "metadata": {},
     "output_type": "display_data"
    },
    {
     "data": {
      "application/vnd.jupyter.widget-view+json": {
       "model_id": "8702d5c7b107402eba50cc26bd782944",
       "version_major": 2,
       "version_minor": 0
      },
      "text/plain": [
       "Variation of alpha:   0%|          | 0/2 [00:00<?, ?it/s]"
      ]
     },
     "metadata": {},
     "output_type": "display_data"
    },
    {
     "data": {
      "application/vnd.jupyter.widget-view+json": {
       "model_id": "e9db3dfdf6334681b789ea5560d498b1",
       "version_major": 2,
       "version_minor": 0
      },
      "text/plain": [
       "Making ensembles:   0%|          | 0/1 [00:00<?, ?it/s]"
      ]
     },
     "metadata": {},
     "output_type": "display_data"
    },
    {
     "data": {
      "application/vnd.jupyter.widget-view+json": {
       "model_id": "597f74a593d0413aa14b34bda59e5c31",
       "version_major": 2,
       "version_minor": 0
      },
      "text/plain": [
       "network dynamic:   0%|          | 0/9999 [00:00<?, ?it/s]"
      ]
     },
     "metadata": {},
     "output_type": "display_data"
    },
    {
     "data": {
      "application/vnd.jupyter.widget-view+json": {
       "model_id": "c50e1a70f81a4e23a94a73a0495a6a54",
       "version_major": 2,
       "version_minor": 0
      },
      "text/plain": [
       "Making ensembles:   0%|          | 0/1 [00:00<?, ?it/s]"
      ]
     },
     "metadata": {},
     "output_type": "display_data"
    },
    {
     "data": {
      "application/vnd.jupyter.widget-view+json": {
       "model_id": "6c17b131ac7b4ef99eaab9af651dc7bf",
       "version_major": 2,
       "version_minor": 0
      },
      "text/plain": [
       "network dynamic:   0%|          | 0/9999 [00:00<?, ?it/s]"
      ]
     },
     "metadata": {},
     "output_type": "display_data"
    },
    {
     "data": {
      "application/vnd.jupyter.widget-view+json": {
       "model_id": "52a028d4148c4782a3ca1e5285866721",
       "version_major": 2,
       "version_minor": 0
      },
      "text/plain": [
       "Variation of alpha:   0%|          | 0/2 [00:00<?, ?it/s]"
      ]
     },
     "metadata": {},
     "output_type": "display_data"
    },
    {
     "data": {
      "application/vnd.jupyter.widget-view+json": {
       "model_id": "aa7ad02b949b42fa9565fd64d977112b",
       "version_major": 2,
       "version_minor": 0
      },
      "text/plain": [
       "Making ensembles:   0%|          | 0/1 [00:00<?, ?it/s]"
      ]
     },
     "metadata": {},
     "output_type": "display_data"
    },
    {
     "data": {
      "application/vnd.jupyter.widget-view+json": {
       "model_id": "e10d9c10c07e45db8197afe65b9e661b",
       "version_major": 2,
       "version_minor": 0
      },
      "text/plain": [
       "network dynamic:   0%|          | 0/9999 [00:00<?, ?it/s]"
      ]
     },
     "metadata": {},
     "output_type": "display_data"
    },
    {
     "data": {
      "application/vnd.jupyter.widget-view+json": {
       "model_id": "e3005d7da0a74422b406f0e52c1c56e3",
       "version_major": 2,
       "version_minor": 0
      },
      "text/plain": [
       "Making ensembles:   0%|          | 0/1 [00:00<?, ?it/s]"
      ]
     },
     "metadata": {},
     "output_type": "display_data"
    },
    {
     "data": {
      "application/vnd.jupyter.widget-view+json": {
       "model_id": "13d4321dd65c40fb9ae6ae52b6faf763",
       "version_major": 2,
       "version_minor": 0
      },
      "text/plain": [
       "network dynamic:   0%|          | 0/9999 [00:00<?, ?it/s]"
      ]
     },
     "metadata": {},
     "output_type": "display_data"
    },
    {
     "data": {
      "application/vnd.jupyter.widget-view+json": {
       "model_id": "c50085d56ae8499f938207395c52c363",
       "version_major": 2,
       "version_minor": 0
      },
      "text/plain": [
       "Variation of alpha:   0%|          | 0/2 [00:00<?, ?it/s]"
      ]
     },
     "metadata": {},
     "output_type": "display_data"
    },
    {
     "data": {
      "application/vnd.jupyter.widget-view+json": {
       "model_id": "db9099b0fbeb47839c665315ed401f8b",
       "version_major": 2,
       "version_minor": 0
      },
      "text/plain": [
       "Making ensembles:   0%|          | 0/1 [00:00<?, ?it/s]"
      ]
     },
     "metadata": {},
     "output_type": "display_data"
    },
    {
     "data": {
      "application/vnd.jupyter.widget-view+json": {
       "model_id": "aea98f5d3a4744f2959188dab3c1ba93",
       "version_major": 2,
       "version_minor": 0
      },
      "text/plain": [
       "network dynamic:   0%|          | 0/9999 [00:00<?, ?it/s]"
      ]
     },
     "metadata": {},
     "output_type": "display_data"
    },
    {
     "data": {
      "application/vnd.jupyter.widget-view+json": {
       "model_id": "3f3d2015ac364ebfa270689394546a43",
       "version_major": 2,
       "version_minor": 0
      },
      "text/plain": [
       "Making ensembles:   0%|          | 0/1 [00:00<?, ?it/s]"
      ]
     },
     "metadata": {},
     "output_type": "display_data"
    },
    {
     "data": {
      "application/vnd.jupyter.widget-view+json": {
       "model_id": "7cb81edf90eb4aa79ecd19d6f554e731",
       "version_major": 2,
       "version_minor": 0
      },
      "text/plain": [
       "network dynamic:   0%|          | 0/9999 [00:00<?, ?it/s]"
      ]
     },
     "metadata": {},
     "output_type": "display_data"
    },
    {
     "data": {
      "application/vnd.jupyter.widget-view+json": {
       "model_id": "97cb61315a2740f38699ff25fc9fabc5",
       "version_major": 2,
       "version_minor": 0
      },
      "text/plain": [
       "Variation of alpha:   0%|          | 0/2 [00:00<?, ?it/s]"
      ]
     },
     "metadata": {},
     "output_type": "display_data"
    },
    {
     "data": {
      "application/vnd.jupyter.widget-view+json": {
       "model_id": "98f4e155b9d54d6ebd066de082ce3fc2",
       "version_major": 2,
       "version_minor": 0
      },
      "text/plain": [
       "Making ensembles:   0%|          | 0/1 [00:00<?, ?it/s]"
      ]
     },
     "metadata": {},
     "output_type": "display_data"
    },
    {
     "data": {
      "application/vnd.jupyter.widget-view+json": {
       "model_id": "14f2039779064afe888fa2079ae46df3",
       "version_major": 2,
       "version_minor": 0
      },
      "text/plain": [
       "network dynamic:   0%|          | 0/9999 [00:00<?, ?it/s]"
      ]
     },
     "metadata": {},
     "output_type": "display_data"
    },
    {
     "data": {
      "application/vnd.jupyter.widget-view+json": {
       "model_id": "ee6b0422c1a64665a662058d34b58c8a",
       "version_major": 2,
       "version_minor": 0
      },
      "text/plain": [
       "Making ensembles:   0%|          | 0/1 [00:00<?, ?it/s]"
      ]
     },
     "metadata": {},
     "output_type": "display_data"
    },
    {
     "data": {
      "application/vnd.jupyter.widget-view+json": {
       "model_id": "92b59a03b3514587940a030b22bd943a",
       "version_major": 2,
       "version_minor": 0
      },
      "text/plain": [
       "network dynamic:   0%|          | 0/9999 [00:00<?, ?it/s]"
      ]
     },
     "metadata": {},
     "output_type": "display_data"
    },
    {
     "data": {
      "application/vnd.jupyter.widget-view+json": {
       "model_id": "e2ba37e0a4e94aef81ffcfc4812e1c63",
       "version_major": 2,
       "version_minor": 0
      },
      "text/plain": [
       "Variation of alpha:   0%|          | 0/2 [00:00<?, ?it/s]"
      ]
     },
     "metadata": {},
     "output_type": "display_data"
    },
    {
     "data": {
      "application/vnd.jupyter.widget-view+json": {
       "model_id": "6d9bdf7a29b4457ea20d9e88e8b88497",
       "version_major": 2,
       "version_minor": 0
      },
      "text/plain": [
       "Making ensembles:   0%|          | 0/1 [00:00<?, ?it/s]"
      ]
     },
     "metadata": {},
     "output_type": "display_data"
    },
    {
     "data": {
      "application/vnd.jupyter.widget-view+json": {
       "model_id": "767f28989f5b416ebc452220a3aa3057",
       "version_major": 2,
       "version_minor": 0
      },
      "text/plain": [
       "network dynamic:   0%|          | 0/9999 [00:00<?, ?it/s]"
      ]
     },
     "metadata": {},
     "output_type": "display_data"
    },
    {
     "data": {
      "application/vnd.jupyter.widget-view+json": {
       "model_id": "9b624de34e9a4fce80aa36b96c237d07",
       "version_major": 2,
       "version_minor": 0
      },
      "text/plain": [
       "Making ensembles:   0%|          | 0/1 [00:00<?, ?it/s]"
      ]
     },
     "metadata": {},
     "output_type": "display_data"
    },
    {
     "data": {
      "application/vnd.jupyter.widget-view+json": {
       "model_id": "9b2d622dc2254e9f81e54a0f168c7347",
       "version_major": 2,
       "version_minor": 0
      },
      "text/plain": [
       "network dynamic:   0%|          | 0/9999 [00:00<?, ?it/s]"
      ]
     },
     "metadata": {},
     "output_type": "display_data"
    },
    {
     "data": {
      "application/vnd.jupyter.widget-view+json": {
       "model_id": "2318cadd61af4cba867c20df865c0b7a",
       "version_major": 2,
       "version_minor": 0
      },
      "text/plain": [
       "Variation of delay:   0%|          | 0/10 [00:00<?, ?it/s]"
      ]
     },
     "metadata": {},
     "output_type": "display_data"
    },
    {
     "data": {
      "application/vnd.jupyter.widget-view+json": {
       "model_id": "a7da7f33293e4b1298d72c9f4191d865",
       "version_major": 2,
       "version_minor": 0
      },
      "text/plain": [
       "Variation of alpha:   0%|          | 0/2 [00:00<?, ?it/s]"
      ]
     },
     "metadata": {},
     "output_type": "display_data"
    },
    {
     "data": {
      "application/vnd.jupyter.widget-view+json": {
       "model_id": "f52124e237ad4c24a7e92e5f0ee946a5",
       "version_major": 2,
       "version_minor": 0
      },
      "text/plain": [
       "Making ensembles:   0%|          | 0/1 [00:00<?, ?it/s]"
      ]
     },
     "metadata": {},
     "output_type": "display_data"
    },
    {
     "data": {
      "application/vnd.jupyter.widget-view+json": {
       "model_id": "e3c23a9e64e3465997e8b11962bb6219",
       "version_major": 2,
       "version_minor": 0
      },
      "text/plain": [
       "network dynamic:   0%|          | 0/9999 [00:00<?, ?it/s]"
      ]
     },
     "metadata": {},
     "output_type": "display_data"
    },
    {
     "data": {
      "application/vnd.jupyter.widget-view+json": {
       "model_id": "6633ff8f6aa44e43915f6b9e099b7d2a",
       "version_major": 2,
       "version_minor": 0
      },
      "text/plain": [
       "Making ensembles:   0%|          | 0/1 [00:00<?, ?it/s]"
      ]
     },
     "metadata": {},
     "output_type": "display_data"
    },
    {
     "data": {
      "application/vnd.jupyter.widget-view+json": {
       "model_id": "27610283f38e4f24bc979cdf4f989b14",
       "version_major": 2,
       "version_minor": 0
      },
      "text/plain": [
       "network dynamic:   0%|          | 0/9999 [00:00<?, ?it/s]"
      ]
     },
     "metadata": {},
     "output_type": "display_data"
    },
    {
     "data": {
      "application/vnd.jupyter.widget-view+json": {
       "model_id": "87b26eeb7b8249daac652afdbf8d51b0",
       "version_major": 2,
       "version_minor": 0
      },
      "text/plain": [
       "Variation of alpha:   0%|          | 0/2 [00:00<?, ?it/s]"
      ]
     },
     "metadata": {},
     "output_type": "display_data"
    },
    {
     "data": {
      "application/vnd.jupyter.widget-view+json": {
       "model_id": "6b3669e47bb24b5ba5c1f1f828e7d280",
       "version_major": 2,
       "version_minor": 0
      },
      "text/plain": [
       "Making ensembles:   0%|          | 0/1 [00:00<?, ?it/s]"
      ]
     },
     "metadata": {},
     "output_type": "display_data"
    },
    {
     "data": {
      "application/vnd.jupyter.widget-view+json": {
       "model_id": "f5e47016f19d4a758208d49c45cfb82f",
       "version_major": 2,
       "version_minor": 0
      },
      "text/plain": [
       "network dynamic:   0%|          | 0/9999 [00:00<?, ?it/s]"
      ]
     },
     "metadata": {},
     "output_type": "display_data"
    },
    {
     "data": {
      "application/vnd.jupyter.widget-view+json": {
       "model_id": "7495117d852249ebb1224bb3623e434a",
       "version_major": 2,
       "version_minor": 0
      },
      "text/plain": [
       "Making ensembles:   0%|          | 0/1 [00:00<?, ?it/s]"
      ]
     },
     "metadata": {},
     "output_type": "display_data"
    },
    {
     "data": {
      "application/vnd.jupyter.widget-view+json": {
       "model_id": "6928c9b907ea4f64806e2717f6fff4de",
       "version_major": 2,
       "version_minor": 0
      },
      "text/plain": [
       "network dynamic:   0%|          | 0/9999 [00:00<?, ?it/s]"
      ]
     },
     "metadata": {},
     "output_type": "display_data"
    },
    {
     "data": {
      "application/vnd.jupyter.widget-view+json": {
       "model_id": "2b77177cada1462c815551b918146f4c",
       "version_major": 2,
       "version_minor": 0
      },
      "text/plain": [
       "Variation of alpha:   0%|          | 0/2 [00:00<?, ?it/s]"
      ]
     },
     "metadata": {},
     "output_type": "display_data"
    },
    {
     "data": {
      "application/vnd.jupyter.widget-view+json": {
       "model_id": "aab6bcd0d62e48c289f670c5bb265142",
       "version_major": 2,
       "version_minor": 0
      },
      "text/plain": [
       "Making ensembles:   0%|          | 0/1 [00:00<?, ?it/s]"
      ]
     },
     "metadata": {},
     "output_type": "display_data"
    },
    {
     "data": {
      "application/vnd.jupyter.widget-view+json": {
       "model_id": "d90866e382f445e6b5185fddedcf1530",
       "version_major": 2,
       "version_minor": 0
      },
      "text/plain": [
       "network dynamic:   0%|          | 0/9999 [00:00<?, ?it/s]"
      ]
     },
     "metadata": {},
     "output_type": "display_data"
    },
    {
     "data": {
      "application/vnd.jupyter.widget-view+json": {
       "model_id": "e0dd6447a75c4be58cf517f2455bece1",
       "version_major": 2,
       "version_minor": 0
      },
      "text/plain": [
       "Making ensembles:   0%|          | 0/1 [00:00<?, ?it/s]"
      ]
     },
     "metadata": {},
     "output_type": "display_data"
    },
    {
     "data": {
      "application/vnd.jupyter.widget-view+json": {
       "model_id": "e232c17c1d2741388da64a52fdb8c675",
       "version_major": 2,
       "version_minor": 0
      },
      "text/plain": [
       "network dynamic:   0%|          | 0/9999 [00:00<?, ?it/s]"
      ]
     },
     "metadata": {},
     "output_type": "display_data"
    },
    {
     "data": {
      "application/vnd.jupyter.widget-view+json": {
       "model_id": "51c9af9a872e4eb1a93a6fd861980246",
       "version_major": 2,
       "version_minor": 0
      },
      "text/plain": [
       "Variation of alpha:   0%|          | 0/2 [00:00<?, ?it/s]"
      ]
     },
     "metadata": {},
     "output_type": "display_data"
    },
    {
     "data": {
      "application/vnd.jupyter.widget-view+json": {
       "model_id": "cff36ee6536d4c148f9d806adf02905a",
       "version_major": 2,
       "version_minor": 0
      },
      "text/plain": [
       "Making ensembles:   0%|          | 0/1 [00:00<?, ?it/s]"
      ]
     },
     "metadata": {},
     "output_type": "display_data"
    },
    {
     "data": {
      "application/vnd.jupyter.widget-view+json": {
       "model_id": "b3908bdaf0b84a6c863c5ebb34224743",
       "version_major": 2,
       "version_minor": 0
      },
      "text/plain": [
       "network dynamic:   0%|          | 0/9999 [00:00<?, ?it/s]"
      ]
     },
     "metadata": {},
     "output_type": "display_data"
    },
    {
     "data": {
      "application/vnd.jupyter.widget-view+json": {
       "model_id": "1b83a4e24d7b46b1b01729124e2182d1",
       "version_major": 2,
       "version_minor": 0
      },
      "text/plain": [
       "Making ensembles:   0%|          | 0/1 [00:00<?, ?it/s]"
      ]
     },
     "metadata": {},
     "output_type": "display_data"
    },
    {
     "data": {
      "application/vnd.jupyter.widget-view+json": {
       "model_id": "c829d4c538f34b78a80583daade27e8d",
       "version_major": 2,
       "version_minor": 0
      },
      "text/plain": [
       "network dynamic:   0%|          | 0/9999 [00:00<?, ?it/s]"
      ]
     },
     "metadata": {},
     "output_type": "display_data"
    },
    {
     "data": {
      "application/vnd.jupyter.widget-view+json": {
       "model_id": "05217cd312844773bc915697be2eb9b5",
       "version_major": 2,
       "version_minor": 0
      },
      "text/plain": [
       "Variation of alpha:   0%|          | 0/2 [00:00<?, ?it/s]"
      ]
     },
     "metadata": {},
     "output_type": "display_data"
    },
    {
     "data": {
      "application/vnd.jupyter.widget-view+json": {
       "model_id": "b5ded8712cc840e9a1aefd128bbb353f",
       "version_major": 2,
       "version_minor": 0
      },
      "text/plain": [
       "Making ensembles:   0%|          | 0/1 [00:00<?, ?it/s]"
      ]
     },
     "metadata": {},
     "output_type": "display_data"
    },
    {
     "data": {
      "application/vnd.jupyter.widget-view+json": {
       "model_id": "9719f3f32acd4967a65e8f5c842ec568",
       "version_major": 2,
       "version_minor": 0
      },
      "text/plain": [
       "network dynamic:   0%|          | 0/9999 [00:00<?, ?it/s]"
      ]
     },
     "metadata": {},
     "output_type": "display_data"
    },
    {
     "data": {
      "application/vnd.jupyter.widget-view+json": {
       "model_id": "f7ef6d905b944c66bf3c38342ac3f00a",
       "version_major": 2,
       "version_minor": 0
      },
      "text/plain": [
       "Making ensembles:   0%|          | 0/1 [00:00<?, ?it/s]"
      ]
     },
     "metadata": {},
     "output_type": "display_data"
    },
    {
     "data": {
      "application/vnd.jupyter.widget-view+json": {
       "model_id": "334b242cbd8241078e3f265309fc3836",
       "version_major": 2,
       "version_minor": 0
      },
      "text/plain": [
       "network dynamic:   0%|          | 0/9999 [00:00<?, ?it/s]"
      ]
     },
     "metadata": {},
     "output_type": "display_data"
    },
    {
     "data": {
      "application/vnd.jupyter.widget-view+json": {
       "model_id": "5cae4f56417b49f29e2e046542796aa9",
       "version_major": 2,
       "version_minor": 0
      },
      "text/plain": [
       "Variation of alpha:   0%|          | 0/2 [00:00<?, ?it/s]"
      ]
     },
     "metadata": {},
     "output_type": "display_data"
    },
    {
     "data": {
      "application/vnd.jupyter.widget-view+json": {
       "model_id": "f14f89f75be14233a6ab1effef07c45f",
       "version_major": 2,
       "version_minor": 0
      },
      "text/plain": [
       "Making ensembles:   0%|          | 0/1 [00:00<?, ?it/s]"
      ]
     },
     "metadata": {},
     "output_type": "display_data"
    },
    {
     "data": {
      "application/vnd.jupyter.widget-view+json": {
       "model_id": "6d538b11b4e74da789aa4733f1133054",
       "version_major": 2,
       "version_minor": 0
      },
      "text/plain": [
       "network dynamic:   0%|          | 0/9999 [00:00<?, ?it/s]"
      ]
     },
     "metadata": {},
     "output_type": "display_data"
    },
    {
     "data": {
      "application/vnd.jupyter.widget-view+json": {
       "model_id": "9663ebed21464b569b340de214eaf27a",
       "version_major": 2,
       "version_minor": 0
      },
      "text/plain": [
       "Making ensembles:   0%|          | 0/1 [00:00<?, ?it/s]"
      ]
     },
     "metadata": {},
     "output_type": "display_data"
    },
    {
     "data": {
      "application/vnd.jupyter.widget-view+json": {
       "model_id": "e8e95b8683634ec4ae6c4fbc0bde2897",
       "version_major": 2,
       "version_minor": 0
      },
      "text/plain": [
       "network dynamic:   0%|          | 0/9999 [00:00<?, ?it/s]"
      ]
     },
     "metadata": {},
     "output_type": "display_data"
    },
    {
     "data": {
      "application/vnd.jupyter.widget-view+json": {
       "model_id": "ac6a1d1032584b1a82617a404b42426c",
       "version_major": 2,
       "version_minor": 0
      },
      "text/plain": [
       "Variation of alpha:   0%|          | 0/2 [00:00<?, ?it/s]"
      ]
     },
     "metadata": {},
     "output_type": "display_data"
    },
    {
     "data": {
      "application/vnd.jupyter.widget-view+json": {
       "model_id": "3c8dce779c404e5997e01cc8ca64135c",
       "version_major": 2,
       "version_minor": 0
      },
      "text/plain": [
       "Making ensembles:   0%|          | 0/1 [00:00<?, ?it/s]"
      ]
     },
     "metadata": {},
     "output_type": "display_data"
    },
    {
     "data": {
      "application/vnd.jupyter.widget-view+json": {
       "model_id": "0770f37056d242a197915202a97a2950",
       "version_major": 2,
       "version_minor": 0
      },
      "text/plain": [
       "network dynamic:   0%|          | 0/9999 [00:00<?, ?it/s]"
      ]
     },
     "metadata": {},
     "output_type": "display_data"
    },
    {
     "data": {
      "application/vnd.jupyter.widget-view+json": {
       "model_id": "978e985b98ff4b03afae353b6f28a388",
       "version_major": 2,
       "version_minor": 0
      },
      "text/plain": [
       "Making ensembles:   0%|          | 0/1 [00:00<?, ?it/s]"
      ]
     },
     "metadata": {},
     "output_type": "display_data"
    },
    {
     "data": {
      "application/vnd.jupyter.widget-view+json": {
       "model_id": "e782f0d90b4b4378ae16fe3f6bee42e6",
       "version_major": 2,
       "version_minor": 0
      },
      "text/plain": [
       "network dynamic:   0%|          | 0/9999 [00:00<?, ?it/s]"
      ]
     },
     "metadata": {},
     "output_type": "display_data"
    },
    {
     "data": {
      "application/vnd.jupyter.widget-view+json": {
       "model_id": "8e7732219b134f5493052230f9b1551b",
       "version_major": 2,
       "version_minor": 0
      },
      "text/plain": [
       "Variation of alpha:   0%|          | 0/2 [00:00<?, ?it/s]"
      ]
     },
     "metadata": {},
     "output_type": "display_data"
    },
    {
     "data": {
      "application/vnd.jupyter.widget-view+json": {
       "model_id": "51fe057533904c3aa0a4d2ed4fa8c17b",
       "version_major": 2,
       "version_minor": 0
      },
      "text/plain": [
       "Making ensembles:   0%|          | 0/1 [00:00<?, ?it/s]"
      ]
     },
     "metadata": {},
     "output_type": "display_data"
    },
    {
     "data": {
      "application/vnd.jupyter.widget-view+json": {
       "model_id": "846deb6dc82048ee9097b675d1f1ada1",
       "version_major": 2,
       "version_minor": 0
      },
      "text/plain": [
       "network dynamic:   0%|          | 0/9999 [00:00<?, ?it/s]"
      ]
     },
     "metadata": {},
     "output_type": "display_data"
    },
    {
     "data": {
      "application/vnd.jupyter.widget-view+json": {
       "model_id": "2130177d7c4144a2b4a6992de8726f4a",
       "version_major": 2,
       "version_minor": 0
      },
      "text/plain": [
       "Making ensembles:   0%|          | 0/1 [00:00<?, ?it/s]"
      ]
     },
     "metadata": {},
     "output_type": "display_data"
    },
    {
     "data": {
      "application/vnd.jupyter.widget-view+json": {
       "model_id": "ef388b4ed13a4f47a2070a25ae6b578f",
       "version_major": 2,
       "version_minor": 0
      },
      "text/plain": [
       "network dynamic:   0%|          | 0/9999 [00:00<?, ?it/s]"
      ]
     },
     "metadata": {},
     "output_type": "display_data"
    },
    {
     "data": {
      "application/vnd.jupyter.widget-view+json": {
       "model_id": "134e46fe19974b89b51e5f1a671486e9",
       "version_major": 2,
       "version_minor": 0
      },
      "text/plain": [
       "Variation of alpha:   0%|          | 0/2 [00:00<?, ?it/s]"
      ]
     },
     "metadata": {},
     "output_type": "display_data"
    },
    {
     "data": {
      "application/vnd.jupyter.widget-view+json": {
       "model_id": "0ff433073a9345888b4909c7fe5b1bc2",
       "version_major": 2,
       "version_minor": 0
      },
      "text/plain": [
       "Making ensembles:   0%|          | 0/1 [00:00<?, ?it/s]"
      ]
     },
     "metadata": {},
     "output_type": "display_data"
    },
    {
     "data": {
      "application/vnd.jupyter.widget-view+json": {
       "model_id": "439b575cddda4e0f931e2e381cd5b888",
       "version_major": 2,
       "version_minor": 0
      },
      "text/plain": [
       "network dynamic:   0%|          | 0/9999 [00:00<?, ?it/s]"
      ]
     },
     "metadata": {},
     "output_type": "display_data"
    },
    {
     "data": {
      "application/vnd.jupyter.widget-view+json": {
       "model_id": "67186c0a6c0546a58b7937d8fd5f5231",
       "version_major": 2,
       "version_minor": 0
      },
      "text/plain": [
       "Making ensembles:   0%|          | 0/1 [00:00<?, ?it/s]"
      ]
     },
     "metadata": {},
     "output_type": "display_data"
    },
    {
     "data": {
      "application/vnd.jupyter.widget-view+json": {
       "model_id": "62e75b44ce644d159af41b5042fb1006",
       "version_major": 2,
       "version_minor": 0
      },
      "text/plain": [
       "network dynamic:   0%|          | 0/9999 [00:00<?, ?it/s]"
      ]
     },
     "metadata": {},
     "output_type": "display_data"
    },
    {
     "data": {
      "application/vnd.jupyter.widget-view+json": {
       "model_id": "139fc423b0de40999df7d572b19730cc",
       "version_major": 2,
       "version_minor": 0
      },
      "text/plain": [
       "Variation of alpha:   0%|          | 0/2 [00:00<?, ?it/s]"
      ]
     },
     "metadata": {},
     "output_type": "display_data"
    },
    {
     "data": {
      "application/vnd.jupyter.widget-view+json": {
       "model_id": "2ed0b95b93e84b0e9af6be6be7e770aa",
       "version_major": 2,
       "version_minor": 0
      },
      "text/plain": [
       "Making ensembles:   0%|          | 0/1 [00:00<?, ?it/s]"
      ]
     },
     "metadata": {},
     "output_type": "display_data"
    },
    {
     "data": {
      "application/vnd.jupyter.widget-view+json": {
       "model_id": "f3a7862b734a411d8a8f3493156009db",
       "version_major": 2,
       "version_minor": 0
      },
      "text/plain": [
       "network dynamic:   0%|          | 0/9999 [00:00<?, ?it/s]"
      ]
     },
     "metadata": {},
     "output_type": "display_data"
    },
    {
     "data": {
      "application/vnd.jupyter.widget-view+json": {
       "model_id": "672a0f044ee24e47aa3504fcee9c8a5d",
       "version_major": 2,
       "version_minor": 0
      },
      "text/plain": [
       "Making ensembles:   0%|          | 0/1 [00:00<?, ?it/s]"
      ]
     },
     "metadata": {},
     "output_type": "display_data"
    },
    {
     "data": {
      "application/vnd.jupyter.widget-view+json": {
       "model_id": "14d9dbbb5f1f47d0bea5e07fb6b2ca19",
       "version_major": 2,
       "version_minor": 0
      },
      "text/plain": [
       "network dynamic:   0%|          | 0/9999 [00:00<?, ?it/s]"
      ]
     },
     "metadata": {},
     "output_type": "display_data"
    }
   ],
   "source": [
    "for connectivity in tqdm( connectivity_span , desc='Variation of connectivities'):\n",
    "    group_folder_name = 'g_{}'.format(connectivity)\n",
    "    group_storage = make_inner_dir(current_size_networks_path, group_folder_name)\n",
    "    \n",
    "    for delay in tqdm( delay_span , desc='Variation of delay'):\n",
    "        d_subgroup_folder_name = 'd_{}'.format(delay)\n",
    "        d_subgroup_storage = make_inner_dir(group_storage, d_subgroup_folder_name)\n",
    "        \n",
    "        for alpha in tqdm( alpha_span , desc='Variation of alpha') :\n",
    "            alpha_subgroup_folder_name = 'alpha_{}'.format(alpha)\n",
    "            alpha_subgroup_storage = make_inner_dir(d_subgroup_storage, alpha_subgroup_folder_name)\n",
    "            last_index = last_ensemble_index_in_group(alpha_subgroup_storage)\n",
    "\n",
    "            for i in tqdm( range(num_ensembles_each_g) , desc='Making ensembles'):\n",
    "                sample_model = Network_of_neurons(num_neurons=num_neurons,\n",
    "                                                  g=connectivity, alpha = alpha)\n",
    "                sample_model.ignite(random_input_span, total_time = total_time,\n",
    "                                    time_step = 0.01, delay_time = delay)\n",
    "\n",
    "                current_ensemble_folder = make_inner_dir(alpha_subgroup_storage, str(last_index + i + 1) )\n",
    "\n",
    "                save_sigma(sample_model.report_sigma(), current_ensemble_folder)\n",
    "                save_field_period(*sample_model.report_e_period_fft(), current_ensemble_folder)\n",
    "                save_field_average(sample_model.e_arr, current_ensemble_folder)\n",
    "                \n",
    "                if neuron_model in current_models[1:]: save_amin_saman_param(sample_model.report_sync_parameter(), current_ensemble_folder)\n",
    "                save_mean_spiking_periods( sample_model.report_spikies_period_mean(), current_ensemble_folder )"
   ]
  },
  {
   "cell_type": "code",
   "execution_count": null,
   "metadata": {},
   "outputs": [],
   "source": []
  },
  {
   "cell_type": "code",
   "execution_count": 13,
   "metadata": {},
   "outputs": [],
   "source": [
    "# !ipython nbconvert --to python any_neural_model_ensembles.ipynb"
   ]
  },
  {
   "cell_type": "code",
   "execution_count": null,
   "metadata": {},
   "outputs": [],
   "source": []
  }
 ],
 "metadata": {
  "kernelspec": {
   "display_name": "Python 3 (ipykernel)",
   "language": "python",
   "name": "python3"
  },
  "language_info": {
   "codemirror_mode": {
    "name": "ipython",
    "version": 3
   },
   "file_extension": ".py",
   "mimetype": "text/x-python",
   "name": "python",
   "nbconvert_exporter": "python",
   "pygments_lexer": "ipython3",
   "version": "3.9.12"
  }
 },
 "nbformat": 4,
 "nbformat_minor": 4
}
