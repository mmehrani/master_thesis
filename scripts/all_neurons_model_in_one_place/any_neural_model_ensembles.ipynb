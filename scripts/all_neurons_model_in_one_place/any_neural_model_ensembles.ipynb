{
 "cells": [
  {
   "cell_type": "markdown",
   "metadata": {},
   "source": [
    "# Neural networks simulation (Synchronization Problem)"
   ]
  },
  {
   "cell_type": "markdown",
   "metadata": {},
   "source": [
    "This file is going to study any neural netwrok class which is defined in the `<network_reference.py>` file."
   ]
  },
  {
   "cell_type": "code",
   "execution_count": 1,
   "metadata": {},
   "outputs": [],
   "source": [
    "import numpy as np\n",
    "from tqdm import tqdm\n",
    "import matplotlib.pyplot as plt\n",
    "import os"
   ]
  },
  {
   "cell_type": "code",
   "execution_count": 2,
   "metadata": {},
   "outputs": [],
   "source": [
    "%%capture\n",
    "from tqdm import tqdm_notebook as tqdm\n",
    "tqdm().pandas() #This line make sure that the progress bars looks natural"
   ]
  },
  {
   "cell_type": "markdown",
   "metadata": {},
   "source": [
    "## Order your neuron model of interest"
   ]
  },
  {
   "cell_type": "code",
   "execution_count": 3,
   "metadata": {},
   "outputs": [],
   "source": [
    "current_models = ['IF','Rotational','Non_repulsive_rotational']\n",
    "neuron_model = current_models[1]\n",
    "\n",
    "with open(\"network_reference.py\") as net_ref: \n",
    "    lines = net_ref.readlines() #read \n",
    " \n",
    "    #modify \n",
    "    lines[0] = \"neuron_engine = '{}'\\n\".format(neuron_model) #you can replace zero with any line number. \n",
    " \n",
    "with open(\"network_reference.py\", \"w\") as net_ref: \n",
    "    net_ref.writelines(lines) #write back "
   ]
  },
  {
   "cell_type": "code",
   "execution_count": 4,
   "metadata": {},
   "outputs": [],
   "source": [
    "from network_reference import Network_of_neurons"
   ]
  },
  {
   "cell_type": "markdown",
   "metadata": {},
   "source": [
    "## Parameters and constants"
   ]
  },
  {
   "cell_type": "code",
   "execution_count": 5,
   "metadata": {},
   "outputs": [],
   "source": [
    "num_neurons = 10000\n",
    "total_time = 100\n",
    "\n",
    "num_ensembles_each_g = 1"
   ]
  },
  {
   "cell_type": "code",
   "execution_count": 6,
   "metadata": {},
   "outputs": [],
   "source": [
    "random_input_span = (9.5,13.5)\n",
    "# random_input_span = (9.5,9.5)\n",
    "# random_input_span = (1.2,2.8)"
   ]
  },
  {
   "cell_type": "code",
   "execution_count": 7,
   "metadata": {},
   "outputs": [],
   "source": [
    "connectivity_min,connectivity_max, connectivity_step = 5,8, 0.5\n",
    "connectivity_span = np.arange(connectivity_min,connectivity_max,connectivity_step).round(2)"
   ]
  },
  {
   "cell_type": "code",
   "execution_count": 8,
   "metadata": {},
   "outputs": [],
   "source": [
    "delay_min, delay_max, delay_step =0.75, 2, 0.2\n",
    "delay_span = np.arange(delay_min, delay_max, delay_step).round(2)"
   ]
  },
  {
   "cell_type": "code",
   "execution_count": 9,
   "metadata": {},
   "outputs": [
    {
     "data": {
      "text/plain": [
       "array([100])"
      ]
     },
     "execution_count": 9,
     "metadata": {},
     "output_type": "execute_result"
    }
   ],
   "source": [
    "alpha_min, alpha_max, alpha_step = 100, 101, 10\n",
    "alpha_span = np.arange(alpha_min, alpha_max, alpha_step).round(2)\n",
    "# a1 = np.logspace(0, 1,num = 2)\n",
    "# a2 = np.arange(1,10,1)\n",
    "# alpha_span = np.outer(a1, a2).flatten()\n",
    "alpha_span"
   ]
  },
  {
   "cell_type": "code",
   "execution_count": null,
   "metadata": {},
   "outputs": [],
   "source": []
  },
  {
   "cell_type": "code",
   "execution_count": null,
   "metadata": {},
   "outputs": [],
   "source": []
  },
  {
   "cell_type": "code",
   "execution_count": null,
   "metadata": {},
   "outputs": [],
   "source": []
  },
  {
   "cell_type": "markdown",
   "metadata": {},
   "source": [
    "## Prepare the storage to record the outputs"
   ]
  },
  {
   "cell_type": "code",
   "execution_count": 10,
   "metadata": {},
   "outputs": [],
   "source": [
    "# version = '_v1.0' #all zero initial condition\n",
    "version = '_v2.0' #tiled uniformly on the phase space\n",
    "current_size_networks_path = os.path.join(neuron_model + '_ensembles','N{}_T{}_I{}_{}'.format(num_neurons,total_time,random_input_span[0],random_input_span[1]) + version )\n",
    "try:\n",
    "    os.makedirs(current_size_networks_path)\n",
    "except:\n",
    "    pass"
   ]
  },
  {
   "cell_type": "code",
   "execution_count": 11,
   "metadata": {},
   "outputs": [],
   "source": [
    "from storage_modifications import *"
   ]
  },
  {
   "cell_type": "markdown",
   "metadata": {},
   "source": [
    "## Creating various ensembles:"
   ]
  },
  {
   "cell_type": "code",
   "execution_count": 12,
   "metadata": {},
   "outputs": [
    {
     "name": "stderr",
     "output_type": "stream",
     "text": [
      "C:\\Users\\mohsen\\AppData\\Local\\Temp\\ipykernel_17552\\1212606915.py:1: TqdmDeprecationWarning: This function will be removed in tqdm==5.0.0\n",
      "Please use `tqdm.notebook.tqdm` instead of `tqdm.tqdm_notebook`\n",
      "  for connectivity in tqdm( connectivity_span , desc='Variation of connectivities'):\n"
     ]
    },
    {
     "data": {
      "application/vnd.jupyter.widget-view+json": {
       "model_id": "b517d9eb238842b4a4cd1912c1968140",
       "version_major": 2,
       "version_minor": 0
      },
      "text/plain": [
       "Variation of connectivities:   0%|          | 0/6 [00:00<?, ?it/s]"
      ]
     },
     "metadata": {},
     "output_type": "display_data"
    },
    {
     "name": "stderr",
     "output_type": "stream",
     "text": [
      "C:\\Users\\mohsen\\AppData\\Local\\Temp\\ipykernel_17552\\1212606915.py:5: TqdmDeprecationWarning: This function will be removed in tqdm==5.0.0\n",
      "Please use `tqdm.notebook.tqdm` instead of `tqdm.tqdm_notebook`\n",
      "  for delay in tqdm( delay_span , desc='Variation of delay'):\n"
     ]
    },
    {
     "data": {
      "application/vnd.jupyter.widget-view+json": {
       "model_id": "9faf6ff146a64c30b3f47ed89675725e",
       "version_major": 2,
       "version_minor": 0
      },
      "text/plain": [
       "Variation of delay:   0%|          | 0/7 [00:00<?, ?it/s]"
      ]
     },
     "metadata": {},
     "output_type": "display_data"
    },
    {
     "name": "stderr",
     "output_type": "stream",
     "text": [
      "C:\\Users\\mohsen\\AppData\\Local\\Temp\\ipykernel_17552\\1212606915.py:9: TqdmDeprecationWarning: This function will be removed in tqdm==5.0.0\n",
      "Please use `tqdm.notebook.tqdm` instead of `tqdm.tqdm_notebook`\n",
      "  for alpha in tqdm( alpha_span , desc='Variation of alpha') :\n"
     ]
    },
    {
     "data": {
      "application/vnd.jupyter.widget-view+json": {
       "model_id": "1e830019b2d24b54ae8d88677c5ff8c8",
       "version_major": 2,
       "version_minor": 0
      },
      "text/plain": [
       "Variation of alpha:   0%|          | 0/1 [00:00<?, ?it/s]"
      ]
     },
     "metadata": {},
     "output_type": "display_data"
    },
    {
     "name": "stderr",
     "output_type": "stream",
     "text": [
      "C:\\Users\\mohsen\\AppData\\Local\\Temp\\ipykernel_17552\\1212606915.py:14: TqdmDeprecationWarning: This function will be removed in tqdm==5.0.0\n",
      "Please use `tqdm.notebook.tqdm` instead of `tqdm.tqdm_notebook`\n",
      "  for i in tqdm( range(num_ensembles_each_g) , desc='Making ensembles'):\n"
     ]
    },
    {
     "data": {
      "application/vnd.jupyter.widget-view+json": {
       "model_id": "3b9cdf86ace04d909510ccbd3ead4af7",
       "version_major": 2,
       "version_minor": 0
      },
      "text/plain": [
       "Making ensembles:   0%|          | 0/1 [00:00<?, ?it/s]"
      ]
     },
     "metadata": {},
     "output_type": "display_data"
    },
    {
     "data": {
      "application/vnd.jupyter.widget-view+json": {
       "model_id": "f90a4d2acca1437a98a8dde3055a6898",
       "version_major": 2,
       "version_minor": 0
      },
      "text/plain": [
       "network dynamic:   0%|          | 0/9999 [00:00<?, ?it/s]"
      ]
     },
     "metadata": {},
     "output_type": "display_data"
    },
    {
     "data": {
      "application/vnd.jupyter.widget-view+json": {
       "model_id": "f2e23f3f173a4705a6a63e99a93bd9ad",
       "version_major": 2,
       "version_minor": 0
      },
      "text/plain": [
       "Variation of alpha:   0%|          | 0/1 [00:00<?, ?it/s]"
      ]
     },
     "metadata": {},
     "output_type": "display_data"
    },
    {
     "data": {
      "application/vnd.jupyter.widget-view+json": {
       "model_id": "00191093ec844d1fb3395a40bc1c6b08",
       "version_major": 2,
       "version_minor": 0
      },
      "text/plain": [
       "Making ensembles:   0%|          | 0/1 [00:00<?, ?it/s]"
      ]
     },
     "metadata": {},
     "output_type": "display_data"
    },
    {
     "data": {
      "application/vnd.jupyter.widget-view+json": {
       "model_id": "6ef9259c0537402db99e9831ae766642",
       "version_major": 2,
       "version_minor": 0
      },
      "text/plain": [
       "network dynamic:   0%|          | 0/9999 [00:00<?, ?it/s]"
      ]
     },
     "metadata": {},
     "output_type": "display_data"
    },
    {
     "data": {
      "application/vnd.jupyter.widget-view+json": {
       "model_id": "cca1471ccbc64705bedb2d8258abc1ce",
       "version_major": 2,
       "version_minor": 0
      },
      "text/plain": [
       "Variation of alpha:   0%|          | 0/1 [00:00<?, ?it/s]"
      ]
     },
     "metadata": {},
     "output_type": "display_data"
    },
    {
     "data": {
      "application/vnd.jupyter.widget-view+json": {
       "model_id": "3934e8659ad540aebb3ee5f951f827a1",
       "version_major": 2,
       "version_minor": 0
      },
      "text/plain": [
       "Making ensembles:   0%|          | 0/1 [00:00<?, ?it/s]"
      ]
     },
     "metadata": {},
     "output_type": "display_data"
    },
    {
     "data": {
      "application/vnd.jupyter.widget-view+json": {
       "model_id": "2df9dec5ba3d45f3ab1aaee6c98e0472",
       "version_major": 2,
       "version_minor": 0
      },
      "text/plain": [
       "network dynamic:   0%|          | 0/9999 [00:00<?, ?it/s]"
      ]
     },
     "metadata": {},
     "output_type": "display_data"
    },
    {
     "data": {
      "application/vnd.jupyter.widget-view+json": {
       "model_id": "fb8eb1a657734cb5814c8c86115f3157",
       "version_major": 2,
       "version_minor": 0
      },
      "text/plain": [
       "Variation of alpha:   0%|          | 0/1 [00:00<?, ?it/s]"
      ]
     },
     "metadata": {},
     "output_type": "display_data"
    },
    {
     "data": {
      "application/vnd.jupyter.widget-view+json": {
       "model_id": "3db1ef787f324b379fc6f711e7bc19e8",
       "version_major": 2,
       "version_minor": 0
      },
      "text/plain": [
       "Making ensembles:   0%|          | 0/1 [00:00<?, ?it/s]"
      ]
     },
     "metadata": {},
     "output_type": "display_data"
    },
    {
     "data": {
      "application/vnd.jupyter.widget-view+json": {
       "model_id": "b84102ed60ad491b9ce27cbd53a5a35e",
       "version_major": 2,
       "version_minor": 0
      },
      "text/plain": [
       "network dynamic:   0%|          | 0/9999 [00:00<?, ?it/s]"
      ]
     },
     "metadata": {},
     "output_type": "display_data"
    },
    {
     "data": {
      "application/vnd.jupyter.widget-view+json": {
       "model_id": "108d2c084b34462b8ce37f15faf4fe3b",
       "version_major": 2,
       "version_minor": 0
      },
      "text/plain": [
       "Variation of alpha:   0%|          | 0/1 [00:00<?, ?it/s]"
      ]
     },
     "metadata": {},
     "output_type": "display_data"
    },
    {
     "data": {
      "application/vnd.jupyter.widget-view+json": {
       "model_id": "9456486cbe2c4a05b1c72d7c8a5de3c4",
       "version_major": 2,
       "version_minor": 0
      },
      "text/plain": [
       "Making ensembles:   0%|          | 0/1 [00:00<?, ?it/s]"
      ]
     },
     "metadata": {},
     "output_type": "display_data"
    },
    {
     "data": {
      "application/vnd.jupyter.widget-view+json": {
       "model_id": "fcf4e139c71a40ae8724ba8dbc43fa22",
       "version_major": 2,
       "version_minor": 0
      },
      "text/plain": [
       "network dynamic:   0%|          | 0/9999 [00:00<?, ?it/s]"
      ]
     },
     "metadata": {},
     "output_type": "display_data"
    },
    {
     "data": {
      "application/vnd.jupyter.widget-view+json": {
       "model_id": "6e56b981c04f461fb577a793cae5030c",
       "version_major": 2,
       "version_minor": 0
      },
      "text/plain": [
       "Variation of alpha:   0%|          | 0/1 [00:00<?, ?it/s]"
      ]
     },
     "metadata": {},
     "output_type": "display_data"
    },
    {
     "data": {
      "application/vnd.jupyter.widget-view+json": {
       "model_id": "b0a64a14952d4491970be6c1a9179e59",
       "version_major": 2,
       "version_minor": 0
      },
      "text/plain": [
       "Making ensembles:   0%|          | 0/1 [00:00<?, ?it/s]"
      ]
     },
     "metadata": {},
     "output_type": "display_data"
    },
    {
     "data": {
      "application/vnd.jupyter.widget-view+json": {
       "model_id": "aedf076fa7d64aecb0ee0df8e03c38f1",
       "version_major": 2,
       "version_minor": 0
      },
      "text/plain": [
       "network dynamic:   0%|          | 0/9999 [00:00<?, ?it/s]"
      ]
     },
     "metadata": {},
     "output_type": "display_data"
    },
    {
     "data": {
      "application/vnd.jupyter.widget-view+json": {
       "model_id": "b5739a1f1b0441d8a5d471d0af27a4d9",
       "version_major": 2,
       "version_minor": 0
      },
      "text/plain": [
       "Variation of alpha:   0%|          | 0/1 [00:00<?, ?it/s]"
      ]
     },
     "metadata": {},
     "output_type": "display_data"
    },
    {
     "data": {
      "application/vnd.jupyter.widget-view+json": {
       "model_id": "00e5e5fe969c4418bb6e5e61083199d9",
       "version_major": 2,
       "version_minor": 0
      },
      "text/plain": [
       "Making ensembles:   0%|          | 0/1 [00:00<?, ?it/s]"
      ]
     },
     "metadata": {},
     "output_type": "display_data"
    },
    {
     "data": {
      "application/vnd.jupyter.widget-view+json": {
       "model_id": "6a77e5e5c6114406b4ad7d121ab1655d",
       "version_major": 2,
       "version_minor": 0
      },
      "text/plain": [
       "network dynamic:   0%|          | 0/9999 [00:00<?, ?it/s]"
      ]
     },
     "metadata": {},
     "output_type": "display_data"
    },
    {
     "data": {
      "application/vnd.jupyter.widget-view+json": {
       "model_id": "2330e64bae7d465daf83a818fb67e3d1",
       "version_major": 2,
       "version_minor": 0
      },
      "text/plain": [
       "Variation of delay:   0%|          | 0/7 [00:00<?, ?it/s]"
      ]
     },
     "metadata": {},
     "output_type": "display_data"
    },
    {
     "data": {
      "application/vnd.jupyter.widget-view+json": {
       "model_id": "deeb1aeb0dab437bbc2f9dac2dbe78da",
       "version_major": 2,
       "version_minor": 0
      },
      "text/plain": [
       "Variation of alpha:   0%|          | 0/1 [00:00<?, ?it/s]"
      ]
     },
     "metadata": {},
     "output_type": "display_data"
    },
    {
     "data": {
      "application/vnd.jupyter.widget-view+json": {
       "model_id": "e23dd69b0a0e4c848b42c337c4b45f23",
       "version_major": 2,
       "version_minor": 0
      },
      "text/plain": [
       "Making ensembles:   0%|          | 0/1 [00:00<?, ?it/s]"
      ]
     },
     "metadata": {},
     "output_type": "display_data"
    },
    {
     "data": {
      "application/vnd.jupyter.widget-view+json": {
       "model_id": "b2c628321f5744489646de5f30b1210f",
       "version_major": 2,
       "version_minor": 0
      },
      "text/plain": [
       "network dynamic:   0%|          | 0/9999 [00:00<?, ?it/s]"
      ]
     },
     "metadata": {},
     "output_type": "display_data"
    },
    {
     "data": {
      "application/vnd.jupyter.widget-view+json": {
       "model_id": "b308a72c57eb45abaffdf240e1078e6d",
       "version_major": 2,
       "version_minor": 0
      },
      "text/plain": [
       "Variation of alpha:   0%|          | 0/1 [00:00<?, ?it/s]"
      ]
     },
     "metadata": {},
     "output_type": "display_data"
    },
    {
     "data": {
      "application/vnd.jupyter.widget-view+json": {
       "model_id": "a4c03812602440cf84cf327a3d39f54d",
       "version_major": 2,
       "version_minor": 0
      },
      "text/plain": [
       "Making ensembles:   0%|          | 0/1 [00:00<?, ?it/s]"
      ]
     },
     "metadata": {},
     "output_type": "display_data"
    },
    {
     "data": {
      "application/vnd.jupyter.widget-view+json": {
       "model_id": "24b837294a1a46f2b37e4a05f3bd2815",
       "version_major": 2,
       "version_minor": 0
      },
      "text/plain": [
       "network dynamic:   0%|          | 0/9999 [00:00<?, ?it/s]"
      ]
     },
     "metadata": {},
     "output_type": "display_data"
    },
    {
     "data": {
      "application/vnd.jupyter.widget-view+json": {
       "model_id": "78d212803b07420e98d15aec9edb35bf",
       "version_major": 2,
       "version_minor": 0
      },
      "text/plain": [
       "Variation of alpha:   0%|          | 0/1 [00:00<?, ?it/s]"
      ]
     },
     "metadata": {},
     "output_type": "display_data"
    },
    {
     "data": {
      "application/vnd.jupyter.widget-view+json": {
       "model_id": "d535fa145bb1428ba5da644326ba7a08",
       "version_major": 2,
       "version_minor": 0
      },
      "text/plain": [
       "Making ensembles:   0%|          | 0/1 [00:00<?, ?it/s]"
      ]
     },
     "metadata": {},
     "output_type": "display_data"
    },
    {
     "data": {
      "application/vnd.jupyter.widget-view+json": {
       "model_id": "47a72c0ca28545daba01400b4a04d5b3",
       "version_major": 2,
       "version_minor": 0
      },
      "text/plain": [
       "network dynamic:   0%|          | 0/9999 [00:00<?, ?it/s]"
      ]
     },
     "metadata": {},
     "output_type": "display_data"
    },
    {
     "data": {
      "application/vnd.jupyter.widget-view+json": {
       "model_id": "643a949694a748359041401047dd1f7b",
       "version_major": 2,
       "version_minor": 0
      },
      "text/plain": [
       "Variation of alpha:   0%|          | 0/1 [00:00<?, ?it/s]"
      ]
     },
     "metadata": {},
     "output_type": "display_data"
    },
    {
     "data": {
      "application/vnd.jupyter.widget-view+json": {
       "model_id": "e63f451ee2be4d64acda2964fa60f1c1",
       "version_major": 2,
       "version_minor": 0
      },
      "text/plain": [
       "Making ensembles:   0%|          | 0/1 [00:00<?, ?it/s]"
      ]
     },
     "metadata": {},
     "output_type": "display_data"
    },
    {
     "data": {
      "application/vnd.jupyter.widget-view+json": {
       "model_id": "8fd4d04c71734d2aa02d17c17f5cf439",
       "version_major": 2,
       "version_minor": 0
      },
      "text/plain": [
       "network dynamic:   0%|          | 0/9999 [00:00<?, ?it/s]"
      ]
     },
     "metadata": {},
     "output_type": "display_data"
    },
    {
     "data": {
      "application/vnd.jupyter.widget-view+json": {
       "model_id": "be889b66ec2149a0a6005fc3e1a33ff7",
       "version_major": 2,
       "version_minor": 0
      },
      "text/plain": [
       "Variation of alpha:   0%|          | 0/1 [00:00<?, ?it/s]"
      ]
     },
     "metadata": {},
     "output_type": "display_data"
    },
    {
     "data": {
      "application/vnd.jupyter.widget-view+json": {
       "model_id": "3e108a4bcc5744059f1d9e1c9f6a409e",
       "version_major": 2,
       "version_minor": 0
      },
      "text/plain": [
       "Making ensembles:   0%|          | 0/1 [00:00<?, ?it/s]"
      ]
     },
     "metadata": {},
     "output_type": "display_data"
    },
    {
     "data": {
      "application/vnd.jupyter.widget-view+json": {
       "model_id": "bbf8c6f56d0d4bed88a7336d694340da",
       "version_major": 2,
       "version_minor": 0
      },
      "text/plain": [
       "network dynamic:   0%|          | 0/9999 [00:00<?, ?it/s]"
      ]
     },
     "metadata": {},
     "output_type": "display_data"
    },
    {
     "data": {
      "application/vnd.jupyter.widget-view+json": {
       "model_id": "7a68d6f2b2c349659374f3f0b43e52db",
       "version_major": 2,
       "version_minor": 0
      },
      "text/plain": [
       "Variation of alpha:   0%|          | 0/1 [00:00<?, ?it/s]"
      ]
     },
     "metadata": {},
     "output_type": "display_data"
    },
    {
     "data": {
      "application/vnd.jupyter.widget-view+json": {
       "model_id": "277c9fda599c4aad95a8d3645605df34",
       "version_major": 2,
       "version_minor": 0
      },
      "text/plain": [
       "Making ensembles:   0%|          | 0/1 [00:00<?, ?it/s]"
      ]
     },
     "metadata": {},
     "output_type": "display_data"
    },
    {
     "data": {
      "application/vnd.jupyter.widget-view+json": {
       "model_id": "7b4aefa7288645238618f4ab18ae19a3",
       "version_major": 2,
       "version_minor": 0
      },
      "text/plain": [
       "network dynamic:   0%|          | 0/9999 [00:00<?, ?it/s]"
      ]
     },
     "metadata": {},
     "output_type": "display_data"
    },
    {
     "data": {
      "application/vnd.jupyter.widget-view+json": {
       "model_id": "9e1deeb621004db683982d7aac9a8d25",
       "version_major": 2,
       "version_minor": 0
      },
      "text/plain": [
       "Variation of alpha:   0%|          | 0/1 [00:00<?, ?it/s]"
      ]
     },
     "metadata": {},
     "output_type": "display_data"
    },
    {
     "data": {
      "application/vnd.jupyter.widget-view+json": {
       "model_id": "ce9e1c0b1863453db9b02df7f8d93db9",
       "version_major": 2,
       "version_minor": 0
      },
      "text/plain": [
       "Making ensembles:   0%|          | 0/1 [00:00<?, ?it/s]"
      ]
     },
     "metadata": {},
     "output_type": "display_data"
    },
    {
     "data": {
      "application/vnd.jupyter.widget-view+json": {
       "model_id": "9689f5f5a4044b3099ff4ea29ba65fbb",
       "version_major": 2,
       "version_minor": 0
      },
      "text/plain": [
       "network dynamic:   0%|          | 0/9999 [00:00<?, ?it/s]"
      ]
     },
     "metadata": {},
     "output_type": "display_data"
    },
    {
     "data": {
      "application/vnd.jupyter.widget-view+json": {
       "model_id": "a2d27616bfe94a389c3fc0a22c0b45e9",
       "version_major": 2,
       "version_minor": 0
      },
      "text/plain": [
       "Variation of delay:   0%|          | 0/7 [00:00<?, ?it/s]"
      ]
     },
     "metadata": {},
     "output_type": "display_data"
    },
    {
     "data": {
      "application/vnd.jupyter.widget-view+json": {
       "model_id": "48bd24d90f1d468aa9f5c9f39d8fc481",
       "version_major": 2,
       "version_minor": 0
      },
      "text/plain": [
       "Variation of alpha:   0%|          | 0/1 [00:00<?, ?it/s]"
      ]
     },
     "metadata": {},
     "output_type": "display_data"
    },
    {
     "data": {
      "application/vnd.jupyter.widget-view+json": {
       "model_id": "6bb1eb7c72944ec78c234c12ea4e2173",
       "version_major": 2,
       "version_minor": 0
      },
      "text/plain": [
       "Making ensembles:   0%|          | 0/1 [00:00<?, ?it/s]"
      ]
     },
     "metadata": {},
     "output_type": "display_data"
    },
    {
     "data": {
      "application/vnd.jupyter.widget-view+json": {
       "model_id": "a9ccf7a22b1b4cd38fcea8f515ee3e5b",
       "version_major": 2,
       "version_minor": 0
      },
      "text/plain": [
       "network dynamic:   0%|          | 0/9999 [00:00<?, ?it/s]"
      ]
     },
     "metadata": {},
     "output_type": "display_data"
    },
    {
     "data": {
      "application/vnd.jupyter.widget-view+json": {
       "model_id": "0d17a8bd0f0a42f1b064722ebb1edb0b",
       "version_major": 2,
       "version_minor": 0
      },
      "text/plain": [
       "Variation of alpha:   0%|          | 0/1 [00:00<?, ?it/s]"
      ]
     },
     "metadata": {},
     "output_type": "display_data"
    },
    {
     "data": {
      "application/vnd.jupyter.widget-view+json": {
       "model_id": "0e57122e45c64fcd91f3095e59810fd3",
       "version_major": 2,
       "version_minor": 0
      },
      "text/plain": [
       "Making ensembles:   0%|          | 0/1 [00:00<?, ?it/s]"
      ]
     },
     "metadata": {},
     "output_type": "display_data"
    },
    {
     "data": {
      "application/vnd.jupyter.widget-view+json": {
       "model_id": "9e9a232d2aea4bb9937cc0fb8679b81d",
       "version_major": 2,
       "version_minor": 0
      },
      "text/plain": [
       "network dynamic:   0%|          | 0/9999 [00:00<?, ?it/s]"
      ]
     },
     "metadata": {},
     "output_type": "display_data"
    },
    {
     "data": {
      "application/vnd.jupyter.widget-view+json": {
       "model_id": "00fe99e5e0364f5ebcbae33431eb92d4",
       "version_major": 2,
       "version_minor": 0
      },
      "text/plain": [
       "Variation of alpha:   0%|          | 0/1 [00:00<?, ?it/s]"
      ]
     },
     "metadata": {},
     "output_type": "display_data"
    },
    {
     "data": {
      "application/vnd.jupyter.widget-view+json": {
       "model_id": "5a55db78db0b485696bfad0b29e611e8",
       "version_major": 2,
       "version_minor": 0
      },
      "text/plain": [
       "Making ensembles:   0%|          | 0/1 [00:00<?, ?it/s]"
      ]
     },
     "metadata": {},
     "output_type": "display_data"
    },
    {
     "data": {
      "application/vnd.jupyter.widget-view+json": {
       "model_id": "e4fe4c43d249434d97a33f65699cd2b9",
       "version_major": 2,
       "version_minor": 0
      },
      "text/plain": [
       "network dynamic:   0%|          | 0/9999 [00:00<?, ?it/s]"
      ]
     },
     "metadata": {},
     "output_type": "display_data"
    },
    {
     "data": {
      "application/vnd.jupyter.widget-view+json": {
       "model_id": "39db504407d9474b9f0890bdb6c7213e",
       "version_major": 2,
       "version_minor": 0
      },
      "text/plain": [
       "Variation of alpha:   0%|          | 0/1 [00:00<?, ?it/s]"
      ]
     },
     "metadata": {},
     "output_type": "display_data"
    },
    {
     "data": {
      "application/vnd.jupyter.widget-view+json": {
       "model_id": "83aa5ee918704d8ab99277aa344d155a",
       "version_major": 2,
       "version_minor": 0
      },
      "text/plain": [
       "Making ensembles:   0%|          | 0/1 [00:00<?, ?it/s]"
      ]
     },
     "metadata": {},
     "output_type": "display_data"
    },
    {
     "data": {
      "application/vnd.jupyter.widget-view+json": {
       "model_id": "a78bb50646dc4d6db2b375e350ec9e49",
       "version_major": 2,
       "version_minor": 0
      },
      "text/plain": [
       "network dynamic:   0%|          | 0/9999 [00:00<?, ?it/s]"
      ]
     },
     "metadata": {},
     "output_type": "display_data"
    },
    {
     "data": {
      "application/vnd.jupyter.widget-view+json": {
       "model_id": "b760e25064df4cacbf9ae7712f1bdb05",
       "version_major": 2,
       "version_minor": 0
      },
      "text/plain": [
       "Variation of alpha:   0%|          | 0/1 [00:00<?, ?it/s]"
      ]
     },
     "metadata": {},
     "output_type": "display_data"
    },
    {
     "data": {
      "application/vnd.jupyter.widget-view+json": {
       "model_id": "5fdbb9c6ccf3498296c8d8e85c0fd2df",
       "version_major": 2,
       "version_minor": 0
      },
      "text/plain": [
       "Making ensembles:   0%|          | 0/1 [00:00<?, ?it/s]"
      ]
     },
     "metadata": {},
     "output_type": "display_data"
    },
    {
     "data": {
      "application/vnd.jupyter.widget-view+json": {
       "model_id": "424aadecdfe844a68b68a7165bf6419d",
       "version_major": 2,
       "version_minor": 0
      },
      "text/plain": [
       "network dynamic:   0%|          | 0/9999 [00:00<?, ?it/s]"
      ]
     },
     "metadata": {},
     "output_type": "display_data"
    },
    {
     "data": {
      "application/vnd.jupyter.widget-view+json": {
       "model_id": "c75ae97428e74cfebbe4f6808a723369",
       "version_major": 2,
       "version_minor": 0
      },
      "text/plain": [
       "Variation of alpha:   0%|          | 0/1 [00:00<?, ?it/s]"
      ]
     },
     "metadata": {},
     "output_type": "display_data"
    },
    {
     "data": {
      "application/vnd.jupyter.widget-view+json": {
       "model_id": "db21c8548f7d4f5c988e142d60f1035f",
       "version_major": 2,
       "version_minor": 0
      },
      "text/plain": [
       "Making ensembles:   0%|          | 0/1 [00:00<?, ?it/s]"
      ]
     },
     "metadata": {},
     "output_type": "display_data"
    },
    {
     "data": {
      "application/vnd.jupyter.widget-view+json": {
       "model_id": "7a1e4096242d488aa630b6e36674e77b",
       "version_major": 2,
       "version_minor": 0
      },
      "text/plain": [
       "network dynamic:   0%|          | 0/9999 [00:00<?, ?it/s]"
      ]
     },
     "metadata": {},
     "output_type": "display_data"
    },
    {
     "data": {
      "application/vnd.jupyter.widget-view+json": {
       "model_id": "feea575b69fa4ba1bc000f7ab9b3e1f5",
       "version_major": 2,
       "version_minor": 0
      },
      "text/plain": [
       "Variation of alpha:   0%|          | 0/1 [00:00<?, ?it/s]"
      ]
     },
     "metadata": {},
     "output_type": "display_data"
    },
    {
     "data": {
      "application/vnd.jupyter.widget-view+json": {
       "model_id": "adf5a6c69f31423f87c1961e6c814d46",
       "version_major": 2,
       "version_minor": 0
      },
      "text/plain": [
       "Making ensembles:   0%|          | 0/1 [00:00<?, ?it/s]"
      ]
     },
     "metadata": {},
     "output_type": "display_data"
    },
    {
     "data": {
      "application/vnd.jupyter.widget-view+json": {
       "model_id": "52b19239cbf94ddeb8b6b6f57db9670d",
       "version_major": 2,
       "version_minor": 0
      },
      "text/plain": [
       "network dynamic:   0%|          | 0/9999 [00:00<?, ?it/s]"
      ]
     },
     "metadata": {},
     "output_type": "display_data"
    },
    {
     "data": {
      "application/vnd.jupyter.widget-view+json": {
       "model_id": "49d46d53b27e4a65ac885fdaeb541b09",
       "version_major": 2,
       "version_minor": 0
      },
      "text/plain": [
       "Variation of delay:   0%|          | 0/7 [00:00<?, ?it/s]"
      ]
     },
     "metadata": {},
     "output_type": "display_data"
    },
    {
     "data": {
      "application/vnd.jupyter.widget-view+json": {
       "model_id": "7133ca17a6304b8b8c34d31546982dd2",
       "version_major": 2,
       "version_minor": 0
      },
      "text/plain": [
       "Variation of alpha:   0%|          | 0/1 [00:00<?, ?it/s]"
      ]
     },
     "metadata": {},
     "output_type": "display_data"
    },
    {
     "data": {
      "application/vnd.jupyter.widget-view+json": {
       "model_id": "08fa0cbcca3a4c61b54ebdcd50fbf3fc",
       "version_major": 2,
       "version_minor": 0
      },
      "text/plain": [
       "Making ensembles:   0%|          | 0/1 [00:00<?, ?it/s]"
      ]
     },
     "metadata": {},
     "output_type": "display_data"
    },
    {
     "data": {
      "application/vnd.jupyter.widget-view+json": {
       "model_id": "c6857b5db0b3425cbb298d802d6381a2",
       "version_major": 2,
       "version_minor": 0
      },
      "text/plain": [
       "network dynamic:   0%|          | 0/9999 [00:00<?, ?it/s]"
      ]
     },
     "metadata": {},
     "output_type": "display_data"
    },
    {
     "data": {
      "application/vnd.jupyter.widget-view+json": {
       "model_id": "58f7a4ecb993472891aacba87d0bf10f",
       "version_major": 2,
       "version_minor": 0
      },
      "text/plain": [
       "Variation of alpha:   0%|          | 0/1 [00:00<?, ?it/s]"
      ]
     },
     "metadata": {},
     "output_type": "display_data"
    },
    {
     "data": {
      "application/vnd.jupyter.widget-view+json": {
       "model_id": "29d1a1829c89427ea246b61c1fc72099",
       "version_major": 2,
       "version_minor": 0
      },
      "text/plain": [
       "Making ensembles:   0%|          | 0/1 [00:00<?, ?it/s]"
      ]
     },
     "metadata": {},
     "output_type": "display_data"
    },
    {
     "data": {
      "application/vnd.jupyter.widget-view+json": {
       "model_id": "3788a2c80c964d56986d05e196a087cd",
       "version_major": 2,
       "version_minor": 0
      },
      "text/plain": [
       "network dynamic:   0%|          | 0/9999 [00:00<?, ?it/s]"
      ]
     },
     "metadata": {},
     "output_type": "display_data"
    },
    {
     "data": {
      "application/vnd.jupyter.widget-view+json": {
       "model_id": "65618828c53e457c979dad1f277e4461",
       "version_major": 2,
       "version_minor": 0
      },
      "text/plain": [
       "Variation of alpha:   0%|          | 0/1 [00:00<?, ?it/s]"
      ]
     },
     "metadata": {},
     "output_type": "display_data"
    },
    {
     "data": {
      "application/vnd.jupyter.widget-view+json": {
       "model_id": "a31255ea62f74646a8d4dd7c175101d3",
       "version_major": 2,
       "version_minor": 0
      },
      "text/plain": [
       "Making ensembles:   0%|          | 0/1 [00:00<?, ?it/s]"
      ]
     },
     "metadata": {},
     "output_type": "display_data"
    },
    {
     "data": {
      "application/vnd.jupyter.widget-view+json": {
       "model_id": "9b5ac8bbaf304f70b070174f3a83836c",
       "version_major": 2,
       "version_minor": 0
      },
      "text/plain": [
       "network dynamic:   0%|          | 0/9999 [00:00<?, ?it/s]"
      ]
     },
     "metadata": {},
     "output_type": "display_data"
    },
    {
     "data": {
      "application/vnd.jupyter.widget-view+json": {
       "model_id": "b960cf0aa9144fe08deb3515fc9603b1",
       "version_major": 2,
       "version_minor": 0
      },
      "text/plain": [
       "Variation of alpha:   0%|          | 0/1 [00:00<?, ?it/s]"
      ]
     },
     "metadata": {},
     "output_type": "display_data"
    },
    {
     "data": {
      "application/vnd.jupyter.widget-view+json": {
       "model_id": "76369c431552466bb2afe641b1d56366",
       "version_major": 2,
       "version_minor": 0
      },
      "text/plain": [
       "Making ensembles:   0%|          | 0/1 [00:00<?, ?it/s]"
      ]
     },
     "metadata": {},
     "output_type": "display_data"
    },
    {
     "data": {
      "application/vnd.jupyter.widget-view+json": {
       "model_id": "ee6f098616ff4695b1ec8d15a3591c0b",
       "version_major": 2,
       "version_minor": 0
      },
      "text/plain": [
       "network dynamic:   0%|          | 0/9999 [00:00<?, ?it/s]"
      ]
     },
     "metadata": {},
     "output_type": "display_data"
    },
    {
     "data": {
      "application/vnd.jupyter.widget-view+json": {
       "model_id": "fb458a54ec89475f803a7e11ba1f1d9b",
       "version_major": 2,
       "version_minor": 0
      },
      "text/plain": [
       "Variation of alpha:   0%|          | 0/1 [00:00<?, ?it/s]"
      ]
     },
     "metadata": {},
     "output_type": "display_data"
    },
    {
     "data": {
      "application/vnd.jupyter.widget-view+json": {
       "model_id": "d199e5096b5e4179a0fbe3884f2b7182",
       "version_major": 2,
       "version_minor": 0
      },
      "text/plain": [
       "Making ensembles:   0%|          | 0/1 [00:00<?, ?it/s]"
      ]
     },
     "metadata": {},
     "output_type": "display_data"
    },
    {
     "data": {
      "application/vnd.jupyter.widget-view+json": {
       "model_id": "30d28d7339664bfe902b1016849c10b8",
       "version_major": 2,
       "version_minor": 0
      },
      "text/plain": [
       "network dynamic:   0%|          | 0/9999 [00:00<?, ?it/s]"
      ]
     },
     "metadata": {},
     "output_type": "display_data"
    },
    {
     "data": {
      "application/vnd.jupyter.widget-view+json": {
       "model_id": "62b389a50f9c4a7f9a574fd8a660b54b",
       "version_major": 2,
       "version_minor": 0
      },
      "text/plain": [
       "Variation of alpha:   0%|          | 0/1 [00:00<?, ?it/s]"
      ]
     },
     "metadata": {},
     "output_type": "display_data"
    },
    {
     "data": {
      "application/vnd.jupyter.widget-view+json": {
       "model_id": "48de7b8bc2284c359568d669576bf327",
       "version_major": 2,
       "version_minor": 0
      },
      "text/plain": [
       "Making ensembles:   0%|          | 0/1 [00:00<?, ?it/s]"
      ]
     },
     "metadata": {},
     "output_type": "display_data"
    },
    {
     "data": {
      "application/vnd.jupyter.widget-view+json": {
       "model_id": "470252b96bc34cfdaff5c367ff627aa7",
       "version_major": 2,
       "version_minor": 0
      },
      "text/plain": [
       "network dynamic:   0%|          | 0/9999 [00:00<?, ?it/s]"
      ]
     },
     "metadata": {},
     "output_type": "display_data"
    },
    {
     "data": {
      "application/vnd.jupyter.widget-view+json": {
       "model_id": "4b1f684cff144066b33b06d6bf730d3e",
       "version_major": 2,
       "version_minor": 0
      },
      "text/plain": [
       "Variation of alpha:   0%|          | 0/1 [00:00<?, ?it/s]"
      ]
     },
     "metadata": {},
     "output_type": "display_data"
    },
    {
     "data": {
      "application/vnd.jupyter.widget-view+json": {
       "model_id": "e1778d572d2c471b8abfb91fc4d79ef0",
       "version_major": 2,
       "version_minor": 0
      },
      "text/plain": [
       "Making ensembles:   0%|          | 0/1 [00:00<?, ?it/s]"
      ]
     },
     "metadata": {},
     "output_type": "display_data"
    },
    {
     "data": {
      "application/vnd.jupyter.widget-view+json": {
       "model_id": "ee39539025dc4b51a5bc143e39e8b928",
       "version_major": 2,
       "version_minor": 0
      },
      "text/plain": [
       "network dynamic:   0%|          | 0/9999 [00:00<?, ?it/s]"
      ]
     },
     "metadata": {},
     "output_type": "display_data"
    },
    {
     "data": {
      "application/vnd.jupyter.widget-view+json": {
       "model_id": "c731e9c8fee740debb700ffedd33e61f",
       "version_major": 2,
       "version_minor": 0
      },
      "text/plain": [
       "Variation of delay:   0%|          | 0/7 [00:00<?, ?it/s]"
      ]
     },
     "metadata": {},
     "output_type": "display_data"
    },
    {
     "data": {
      "application/vnd.jupyter.widget-view+json": {
       "model_id": "d46616adb57e4d278b3d301fc60fd904",
       "version_major": 2,
       "version_minor": 0
      },
      "text/plain": [
       "Variation of alpha:   0%|          | 0/1 [00:00<?, ?it/s]"
      ]
     },
     "metadata": {},
     "output_type": "display_data"
    },
    {
     "data": {
      "application/vnd.jupyter.widget-view+json": {
       "model_id": "bd06bb458e57401a9c563428bf559ad3",
       "version_major": 2,
       "version_minor": 0
      },
      "text/plain": [
       "Making ensembles:   0%|          | 0/1 [00:00<?, ?it/s]"
      ]
     },
     "metadata": {},
     "output_type": "display_data"
    },
    {
     "data": {
      "application/vnd.jupyter.widget-view+json": {
       "model_id": "d67fc014ecd046158503c89837c614b1",
       "version_major": 2,
       "version_minor": 0
      },
      "text/plain": [
       "network dynamic:   0%|          | 0/9999 [00:00<?, ?it/s]"
      ]
     },
     "metadata": {},
     "output_type": "display_data"
    },
    {
     "data": {
      "application/vnd.jupyter.widget-view+json": {
       "model_id": "2348762658434b8abb91bc6ef4bc3dcf",
       "version_major": 2,
       "version_minor": 0
      },
      "text/plain": [
       "Variation of alpha:   0%|          | 0/1 [00:00<?, ?it/s]"
      ]
     },
     "metadata": {},
     "output_type": "display_data"
    },
    {
     "data": {
      "application/vnd.jupyter.widget-view+json": {
       "model_id": "bedb672742ec45ddbda104ad1aba82e1",
       "version_major": 2,
       "version_minor": 0
      },
      "text/plain": [
       "Making ensembles:   0%|          | 0/1 [00:00<?, ?it/s]"
      ]
     },
     "metadata": {},
     "output_type": "display_data"
    },
    {
     "data": {
      "application/vnd.jupyter.widget-view+json": {
       "model_id": "243b0011a4884c3197b1db8cdfc70d43",
       "version_major": 2,
       "version_minor": 0
      },
      "text/plain": [
       "network dynamic:   0%|          | 0/9999 [00:00<?, ?it/s]"
      ]
     },
     "metadata": {},
     "output_type": "display_data"
    },
    {
     "data": {
      "application/vnd.jupyter.widget-view+json": {
       "model_id": "7cabd95455c348cbbfbf64ad1fcd7ff4",
       "version_major": 2,
       "version_minor": 0
      },
      "text/plain": [
       "Variation of alpha:   0%|          | 0/1 [00:00<?, ?it/s]"
      ]
     },
     "metadata": {},
     "output_type": "display_data"
    },
    {
     "data": {
      "application/vnd.jupyter.widget-view+json": {
       "model_id": "32327103236443e1b2672a517fb77503",
       "version_major": 2,
       "version_minor": 0
      },
      "text/plain": [
       "Making ensembles:   0%|          | 0/1 [00:00<?, ?it/s]"
      ]
     },
     "metadata": {},
     "output_type": "display_data"
    },
    {
     "data": {
      "application/vnd.jupyter.widget-view+json": {
       "model_id": "bce1f46d4f3d44c99f9e10280fcf4970",
       "version_major": 2,
       "version_minor": 0
      },
      "text/plain": [
       "network dynamic:   0%|          | 0/9999 [00:00<?, ?it/s]"
      ]
     },
     "metadata": {},
     "output_type": "display_data"
    },
    {
     "data": {
      "application/vnd.jupyter.widget-view+json": {
       "model_id": "b1e01af59a18454e83099da359f08783",
       "version_major": 2,
       "version_minor": 0
      },
      "text/plain": [
       "Variation of alpha:   0%|          | 0/1 [00:00<?, ?it/s]"
      ]
     },
     "metadata": {},
     "output_type": "display_data"
    },
    {
     "data": {
      "application/vnd.jupyter.widget-view+json": {
       "model_id": "a3934746a9f146878bb7aa9f911d050d",
       "version_major": 2,
       "version_minor": 0
      },
      "text/plain": [
       "Making ensembles:   0%|          | 0/1 [00:00<?, ?it/s]"
      ]
     },
     "metadata": {},
     "output_type": "display_data"
    },
    {
     "data": {
      "application/vnd.jupyter.widget-view+json": {
       "model_id": "aa3ec9c9e23e4985a2dcf4e9bcc34fc8",
       "version_major": 2,
       "version_minor": 0
      },
      "text/plain": [
       "network dynamic:   0%|          | 0/9999 [00:00<?, ?it/s]"
      ]
     },
     "metadata": {},
     "output_type": "display_data"
    },
    {
     "data": {
      "application/vnd.jupyter.widget-view+json": {
       "model_id": "34cfc088274147c8b99f392aaaa7d5e3",
       "version_major": 2,
       "version_minor": 0
      },
      "text/plain": [
       "Variation of alpha:   0%|          | 0/1 [00:00<?, ?it/s]"
      ]
     },
     "metadata": {},
     "output_type": "display_data"
    },
    {
     "data": {
      "application/vnd.jupyter.widget-view+json": {
       "model_id": "3c49191bc7fb432fa8c264fc83d1938d",
       "version_major": 2,
       "version_minor": 0
      },
      "text/plain": [
       "Making ensembles:   0%|          | 0/1 [00:00<?, ?it/s]"
      ]
     },
     "metadata": {},
     "output_type": "display_data"
    },
    {
     "data": {
      "application/vnd.jupyter.widget-view+json": {
       "model_id": "91a57478b41b4aa1818c87e87d39fdba",
       "version_major": 2,
       "version_minor": 0
      },
      "text/plain": [
       "network dynamic:   0%|          | 0/9999 [00:00<?, ?it/s]"
      ]
     },
     "metadata": {},
     "output_type": "display_data"
    },
    {
     "data": {
      "application/vnd.jupyter.widget-view+json": {
       "model_id": "0819d3fa31974687829ffa8525447897",
       "version_major": 2,
       "version_minor": 0
      },
      "text/plain": [
       "Variation of alpha:   0%|          | 0/1 [00:00<?, ?it/s]"
      ]
     },
     "metadata": {},
     "output_type": "display_data"
    },
    {
     "data": {
      "application/vnd.jupyter.widget-view+json": {
       "model_id": "c13e33bd0bcc41659ee41d0e9fa45531",
       "version_major": 2,
       "version_minor": 0
      },
      "text/plain": [
       "Making ensembles:   0%|          | 0/1 [00:00<?, ?it/s]"
      ]
     },
     "metadata": {},
     "output_type": "display_data"
    },
    {
     "data": {
      "application/vnd.jupyter.widget-view+json": {
       "model_id": "9cc070d6ab024cbd8dca733b6d75006a",
       "version_major": 2,
       "version_minor": 0
      },
      "text/plain": [
       "network dynamic:   0%|          | 0/9999 [00:00<?, ?it/s]"
      ]
     },
     "metadata": {},
     "output_type": "display_data"
    },
    {
     "data": {
      "application/vnd.jupyter.widget-view+json": {
       "model_id": "6e50f2f6eeda4f26817f2fd09517031c",
       "version_major": 2,
       "version_minor": 0
      },
      "text/plain": [
       "Variation of alpha:   0%|          | 0/1 [00:00<?, ?it/s]"
      ]
     },
     "metadata": {},
     "output_type": "display_data"
    },
    {
     "data": {
      "application/vnd.jupyter.widget-view+json": {
       "model_id": "1646430ded664ecc84795579ffcecfdf",
       "version_major": 2,
       "version_minor": 0
      },
      "text/plain": [
       "Making ensembles:   0%|          | 0/1 [00:00<?, ?it/s]"
      ]
     },
     "metadata": {},
     "output_type": "display_data"
    },
    {
     "data": {
      "application/vnd.jupyter.widget-view+json": {
       "model_id": "3eaa45defdba47f289c6405a0879ce8c",
       "version_major": 2,
       "version_minor": 0
      },
      "text/plain": [
       "network dynamic:   0%|          | 0/9999 [00:00<?, ?it/s]"
      ]
     },
     "metadata": {},
     "output_type": "display_data"
    },
    {
     "data": {
      "application/vnd.jupyter.widget-view+json": {
       "model_id": "6411e3677a0441b79a0280aaa9faf0f0",
       "version_major": 2,
       "version_minor": 0
      },
      "text/plain": [
       "Variation of delay:   0%|          | 0/7 [00:00<?, ?it/s]"
      ]
     },
     "metadata": {},
     "output_type": "display_data"
    },
    {
     "data": {
      "application/vnd.jupyter.widget-view+json": {
       "model_id": "35fb039589954c708f8517b9737dc074",
       "version_major": 2,
       "version_minor": 0
      },
      "text/plain": [
       "Variation of alpha:   0%|          | 0/1 [00:00<?, ?it/s]"
      ]
     },
     "metadata": {},
     "output_type": "display_data"
    },
    {
     "data": {
      "application/vnd.jupyter.widget-view+json": {
       "model_id": "34d6a343c3ba4efd9b3c41a86d660ee0",
       "version_major": 2,
       "version_minor": 0
      },
      "text/plain": [
       "Making ensembles:   0%|          | 0/1 [00:00<?, ?it/s]"
      ]
     },
     "metadata": {},
     "output_type": "display_data"
    },
    {
     "data": {
      "application/vnd.jupyter.widget-view+json": {
       "model_id": "308070197c874cc699cd96de8dcd8406",
       "version_major": 2,
       "version_minor": 0
      },
      "text/plain": [
       "network dynamic:   0%|          | 0/9999 [00:00<?, ?it/s]"
      ]
     },
     "metadata": {},
     "output_type": "display_data"
    },
    {
     "data": {
      "application/vnd.jupyter.widget-view+json": {
       "model_id": "3d5b843de9084422b77915b0f7d01b5c",
       "version_major": 2,
       "version_minor": 0
      },
      "text/plain": [
       "Variation of alpha:   0%|          | 0/1 [00:00<?, ?it/s]"
      ]
     },
     "metadata": {},
     "output_type": "display_data"
    },
    {
     "data": {
      "application/vnd.jupyter.widget-view+json": {
       "model_id": "d2cd434c459245a08108409ca2a3a99f",
       "version_major": 2,
       "version_minor": 0
      },
      "text/plain": [
       "Making ensembles:   0%|          | 0/1 [00:00<?, ?it/s]"
      ]
     },
     "metadata": {},
     "output_type": "display_data"
    },
    {
     "data": {
      "application/vnd.jupyter.widget-view+json": {
       "model_id": "939560f79ffe44c184b91b6da304de4e",
       "version_major": 2,
       "version_minor": 0
      },
      "text/plain": [
       "network dynamic:   0%|          | 0/9999 [00:00<?, ?it/s]"
      ]
     },
     "metadata": {},
     "output_type": "display_data"
    },
    {
     "data": {
      "application/vnd.jupyter.widget-view+json": {
       "model_id": "e491a1ece8014070b4a21e864c5af98d",
       "version_major": 2,
       "version_minor": 0
      },
      "text/plain": [
       "Variation of alpha:   0%|          | 0/1 [00:00<?, ?it/s]"
      ]
     },
     "metadata": {},
     "output_type": "display_data"
    },
    {
     "data": {
      "application/vnd.jupyter.widget-view+json": {
       "model_id": "9ee3912d2cb8401b99bc99addc98c477",
       "version_major": 2,
       "version_minor": 0
      },
      "text/plain": [
       "Making ensembles:   0%|          | 0/1 [00:00<?, ?it/s]"
      ]
     },
     "metadata": {},
     "output_type": "display_data"
    },
    {
     "data": {
      "application/vnd.jupyter.widget-view+json": {
       "model_id": "48601c8bd14d4e70ae95618d04f51be7",
       "version_major": 2,
       "version_minor": 0
      },
      "text/plain": [
       "network dynamic:   0%|          | 0/9999 [00:00<?, ?it/s]"
      ]
     },
     "metadata": {},
     "output_type": "display_data"
    },
    {
     "data": {
      "application/vnd.jupyter.widget-view+json": {
       "model_id": "bece0bba86e34a9482f37a89e953d039",
       "version_major": 2,
       "version_minor": 0
      },
      "text/plain": [
       "Variation of alpha:   0%|          | 0/1 [00:00<?, ?it/s]"
      ]
     },
     "metadata": {},
     "output_type": "display_data"
    },
    {
     "data": {
      "application/vnd.jupyter.widget-view+json": {
       "model_id": "dc5b5401c4b94c49bef38440a1b2ee4b",
       "version_major": 2,
       "version_minor": 0
      },
      "text/plain": [
       "Making ensembles:   0%|          | 0/1 [00:00<?, ?it/s]"
      ]
     },
     "metadata": {},
     "output_type": "display_data"
    },
    {
     "data": {
      "application/vnd.jupyter.widget-view+json": {
       "model_id": "73feb6246d974bf991db1888f9aa10b5",
       "version_major": 2,
       "version_minor": 0
      },
      "text/plain": [
       "network dynamic:   0%|          | 0/9999 [00:00<?, ?it/s]"
      ]
     },
     "metadata": {},
     "output_type": "display_data"
    },
    {
     "data": {
      "application/vnd.jupyter.widget-view+json": {
       "model_id": "160f704b0a9f45388c4c98228fd39cac",
       "version_major": 2,
       "version_minor": 0
      },
      "text/plain": [
       "Variation of alpha:   0%|          | 0/1 [00:00<?, ?it/s]"
      ]
     },
     "metadata": {},
     "output_type": "display_data"
    },
    {
     "data": {
      "application/vnd.jupyter.widget-view+json": {
       "model_id": "0120eabbe464442b80e7ac25fb2cf6a1",
       "version_major": 2,
       "version_minor": 0
      },
      "text/plain": [
       "Making ensembles:   0%|          | 0/1 [00:00<?, ?it/s]"
      ]
     },
     "metadata": {},
     "output_type": "display_data"
    },
    {
     "data": {
      "application/vnd.jupyter.widget-view+json": {
       "model_id": "5006e50865354419ad9cc5939e3cd1c0",
       "version_major": 2,
       "version_minor": 0
      },
      "text/plain": [
       "network dynamic:   0%|          | 0/9999 [00:00<?, ?it/s]"
      ]
     },
     "metadata": {},
     "output_type": "display_data"
    },
    {
     "data": {
      "application/vnd.jupyter.widget-view+json": {
       "model_id": "011f1fddfa724242918d49d5a188aac4",
       "version_major": 2,
       "version_minor": 0
      },
      "text/plain": [
       "Variation of alpha:   0%|          | 0/1 [00:00<?, ?it/s]"
      ]
     },
     "metadata": {},
     "output_type": "display_data"
    },
    {
     "data": {
      "application/vnd.jupyter.widget-view+json": {
       "model_id": "d3811892244b4dfeaec6d135dd2e6e01",
       "version_major": 2,
       "version_minor": 0
      },
      "text/plain": [
       "Making ensembles:   0%|          | 0/1 [00:00<?, ?it/s]"
      ]
     },
     "metadata": {},
     "output_type": "display_data"
    },
    {
     "data": {
      "application/vnd.jupyter.widget-view+json": {
       "model_id": "fe2642db72fc40eebdb2b8271cec9a1f",
       "version_major": 2,
       "version_minor": 0
      },
      "text/plain": [
       "network dynamic:   0%|          | 0/9999 [00:00<?, ?it/s]"
      ]
     },
     "metadata": {},
     "output_type": "display_data"
    },
    {
     "data": {
      "application/vnd.jupyter.widget-view+json": {
       "model_id": "032dfa15a0374b87bbadcb90c5942ad0",
       "version_major": 2,
       "version_minor": 0
      },
      "text/plain": [
       "Variation of alpha:   0%|          | 0/1 [00:00<?, ?it/s]"
      ]
     },
     "metadata": {},
     "output_type": "display_data"
    },
    {
     "data": {
      "application/vnd.jupyter.widget-view+json": {
       "model_id": "f1a939ea324e4adba4214033d881cb21",
       "version_major": 2,
       "version_minor": 0
      },
      "text/plain": [
       "Making ensembles:   0%|          | 0/1 [00:00<?, ?it/s]"
      ]
     },
     "metadata": {},
     "output_type": "display_data"
    },
    {
     "data": {
      "application/vnd.jupyter.widget-view+json": {
       "model_id": "fc4c30c9462647ad94dd4783ae36ccd0",
       "version_major": 2,
       "version_minor": 0
      },
      "text/plain": [
       "network dynamic:   0%|          | 0/9999 [00:00<?, ?it/s]"
      ]
     },
     "metadata": {},
     "output_type": "display_data"
    }
   ],
   "source": [
    "for connectivity in tqdm( connectivity_span , desc='Variation of connectivities'):\n",
    "    group_folder_name = 'g_{}'.format(connectivity)\n",
    "    group_storage = make_inner_dir(current_size_networks_path, group_folder_name)\n",
    "    \n",
    "    for delay in tqdm( delay_span , desc='Variation of delay'):\n",
    "        d_subgroup_folder_name = 'd_{}'.format(delay)\n",
    "        d_subgroup_storage = make_inner_dir(group_storage, d_subgroup_folder_name)\n",
    "        \n",
    "        for alpha in tqdm( alpha_span , desc='Variation of alpha') :\n",
    "            alpha_subgroup_folder_name = 'alpha_{}'.format(alpha)\n",
    "            alpha_subgroup_storage = make_inner_dir(d_subgroup_storage, alpha_subgroup_folder_name)\n",
    "            last_index = last_ensemble_index_in_group(alpha_subgroup_storage)\n",
    "\n",
    "            for i in tqdm( range(num_ensembles_each_g) , desc='Making ensembles'):\n",
    "                sample_model = Network_of_neurons(num_neurons=num_neurons,\n",
    "                                                  g=connectivity, alpha = alpha)\n",
    "                sample_model.ignite(random_input_span, total_time = total_time,\n",
    "                                    time_step = 0.01, delay_time = delay)\n",
    "\n",
    "                current_ensemble_folder = make_inner_dir(alpha_subgroup_storage, str(last_index + i + 1) )\n",
    "\n",
    "                save_sigma(sample_model.report_sigma(), current_ensemble_folder)\n",
    "                save_field_period(*sample_model.report_e_period_fft(), current_ensemble_folder)\n",
    "                save_field_average(sample_model.e_arr, current_ensemble_folder)\n",
    "                \n",
    "                if neuron_model in current_models[1:]: save_amin_saman_param(sample_model.report_sync_parameter(), current_ensemble_folder)\n",
    "                save_mean_spiking_periods( sample_model.report_spikies_period_mean(), current_ensemble_folder )"
   ]
  },
  {
   "cell_type": "code",
   "execution_count": null,
   "metadata": {},
   "outputs": [],
   "source": []
  },
  {
   "cell_type": "code",
   "execution_count": 13,
   "metadata": {},
   "outputs": [
    {
     "name": "stderr",
     "output_type": "stream",
     "text": [
      "usage: ipython [-h] [--debug] [--show-config] [--show-config-json] [--quiet]\n",
      "               [--init] [--autoindent] [--no-autoindent] [--automagic]\n",
      "               [--no-automagic] [--pdb] [--no-pdb] [--pprint] [--no-pprint]\n",
      "               [--color-info] [--no-color-info] [--ignore-cwd]\n",
      "               [--no-ignore-cwd] [--nosep] [--autoedit-syntax]\n",
      "               [--no-autoedit-syntax] [--simple-prompt] [--no-simple-prompt]\n",
      "               [--banner] [--no-banner] [--confirm-exit] [--no-confirm-exit]\n",
      "               [--term-title] [--no-term-title] [--classic] [--quick] [-i]\n",
      "               [--log-level TerminalIPythonApp.log_level]\n",
      "               [--profile-dir ProfileDir.location]\n",
      "               [--profile TerminalIPythonApp.profile]\n",
      "               [--ipython-dir TerminalIPythonApp.ipython_dir]\n",
      "               [--config TerminalIPythonApp.extra_config_file]\n",
      "               [--autocall TerminalInteractiveShell.autocall]\n",
      "               [--colors TerminalInteractiveShell.colors]\n",
      "               [--logfile TerminalInteractiveShell.logfile]\n",
      "               [--logappend TerminalInteractiveShell.logappend]\n",
      "               [-c TerminalIPythonApp.code_to_run]\n",
      "               [-m TerminalIPythonApp.module_to_run]\n",
      "               [--ext TerminalIPythonApp.extra_extensions]\n",
      "               [--gui TerminalIPythonApp.gui]\n",
      "               [--pylab [TerminalIPythonApp.pylab]]\n",
      "               [--matplotlib [TerminalIPythonApp.matplotlib]]\n",
      "               [--cache-size TerminalInteractiveShell.cache_size]\n",
      "               [extra_args ...]\n",
      "ipython: error: unrecognized arguments: any_neural_model_ensembles.ipynb\n"
     ]
    }
   ],
   "source": [
    "!ipython nbconvert --to python any_neural_model_ensembles.ipynb"
   ]
  },
  {
   "cell_type": "code",
   "execution_count": null,
   "metadata": {},
   "outputs": [],
   "source": []
  }
 ],
 "metadata": {
  "kernelspec": {
   "display_name": "Python 3 (ipykernel)",
   "language": "python",
   "name": "python3"
  },
  "language_info": {
   "codemirror_mode": {
    "name": "ipython",
    "version": 3
   },
   "file_extension": ".py",
   "mimetype": "text/x-python",
   "name": "python",
   "nbconvert_exporter": "python",
   "pygments_lexer": "ipython3",
   "version": "3.9.12"
  }
 },
 "nbformat": 4,
 "nbformat_minor": 4
}
