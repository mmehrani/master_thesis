{
 "cells": [
  {
   "cell_type": "markdown",
   "metadata": {},
   "source": [
    "# Neural networks simulation (Synchronization Problem)"
   ]
  },
  {
   "cell_type": "markdown",
   "metadata": {},
   "source": [
    "This file is going to study any neural netwrok class which is defined in the `<network_reference.py>` file."
   ]
  },
  {
   "cell_type": "code",
   "execution_count": 1,
   "metadata": {},
   "outputs": [],
   "source": [
    "import numpy as np\n",
    "from tqdm import tqdm\n",
    "import matplotlib.pyplot as plt\n",
    "import os"
   ]
  },
  {
   "cell_type": "code",
   "execution_count": 2,
   "metadata": {},
   "outputs": [],
   "source": [
    "%%capture\n",
    "from tqdm import tqdm_notebook as tqdm\n",
    "tqdm().pandas() #This line make sure that the progress bars looks natural"
   ]
  },
  {
   "cell_type": "markdown",
   "metadata": {},
   "source": [
    "## Order your neuron model of interest"
   ]
  },
  {
   "cell_type": "code",
   "execution_count": 3,
   "metadata": {},
   "outputs": [],
   "source": [
    "current_models = ['IF','Rotational','Non_repulsive_rotational']\n",
    "neuron_model = current_models[2]\n",
    "\n",
    "with open(\"network_reference.py\") as net_ref: \n",
    "    lines = net_ref.readlines() #read \n",
    " \n",
    "    #modify \n",
    "    lines[0] = \"neuron_engine = '{}'\\n\".format(neuron_model) #you can replace zero with any line number. \n",
    " \n",
    "with open(\"network_reference.py\", \"w\") as net_ref: \n",
    "    net_ref.writelines(lines) #write back "
   ]
  },
  {
   "cell_type": "code",
   "execution_count": 4,
   "metadata": {},
   "outputs": [],
   "source": [
    "from network_reference import Network_of_neurons"
   ]
  },
  {
   "cell_type": "markdown",
   "metadata": {},
   "source": [
    "## Parameters and constants"
   ]
  },
  {
   "cell_type": "code",
   "execution_count": 5,
   "metadata": {},
   "outputs": [],
   "source": [
    "num_neurons = 10000\n",
    "total_time = 100\n",
    "\n",
    "num_ensembles_each_g = 1"
   ]
  },
  {
   "cell_type": "code",
   "execution_count": 6,
   "metadata": {},
   "outputs": [],
   "source": [
    "# random_input_span = (9.5,13.5)\n",
    "random_input_span = (9.5,9.5)\n",
    "# random_input_span = (1.2,2.8)"
   ]
  },
  {
   "cell_type": "code",
   "execution_count": 7,
   "metadata": {},
   "outputs": [],
   "source": [
    "connectivity_min,connectivity_max, connectivity_step = 6,6.5, 0.1\n",
    "connectivity_span = np.arange(connectivity_min,connectivity_max,connectivity_step).round(2)"
   ]
  },
  {
   "cell_type": "code",
   "execution_count": 8,
   "metadata": {},
   "outputs": [],
   "source": [
    "delay_min, delay_max, delay_step =0.5, 2.5, 0.25\n",
    "delay_span = np.arange(delay_min, delay_max, delay_step).round(2)"
   ]
  },
  {
   "cell_type": "code",
   "execution_count": 9,
   "metadata": {},
   "outputs": [
    {
     "data": {
      "text/plain": [
       "array([20])"
      ]
     },
     "execution_count": 9,
     "metadata": {},
     "output_type": "execute_result"
    }
   ],
   "source": [
    "alpha_min, alpha_max, alpha_step = 20, 21, 10\n",
    "alpha_span = np.arange(alpha_min, alpha_max, alpha_step).round(2)\n",
    "# a1 = np.logspace(0, 1,num = 2)\n",
    "# a2 = np.arange(1,10,1)\n",
    "# alpha_span = np.outer(a1, a2).flatten()\n",
    "alpha_span"
   ]
  },
  {
   "cell_type": "code",
   "execution_count": null,
   "metadata": {},
   "outputs": [],
   "source": []
  },
  {
   "cell_type": "code",
   "execution_count": null,
   "metadata": {},
   "outputs": [],
   "source": []
  },
  {
   "cell_type": "code",
   "execution_count": null,
   "metadata": {},
   "outputs": [],
   "source": []
  },
  {
   "cell_type": "markdown",
   "metadata": {},
   "source": [
    "## Prepare the storage to record the outputs"
   ]
  },
  {
   "cell_type": "code",
   "execution_count": 10,
   "metadata": {},
   "outputs": [],
   "source": [
    "# version = '_v1.0' #all zero initial condition\n",
    "version = '_v2.0' #tiled uniformly on the phase space\n",
    "current_size_networks_path = os.path.join(neuron_model + '_ensembles','N{}_T{}_I{}_{}'.format(num_neurons,total_time,random_input_span[0],random_input_span[1]) + version )\n",
    "try:\n",
    "    os.makedirs(current_size_networks_path)\n",
    "except:\n",
    "    pass"
   ]
  },
  {
   "cell_type": "code",
   "execution_count": 11,
   "metadata": {},
   "outputs": [],
   "source": [
    "from storage_modifications import *"
   ]
  },
  {
   "cell_type": "markdown",
   "metadata": {},
   "source": [
    "## Creating various ensembles:"
   ]
  },
  {
   "cell_type": "code",
   "execution_count": 12,
   "metadata": {},
   "outputs": [
    {
     "name": "stderr",
     "output_type": "stream",
     "text": [
      "C:\\Users\\mohsen\\AppData\\Local\\Temp/ipykernel_16892/1212606915.py:1: TqdmDeprecationWarning: This function will be removed in tqdm==5.0.0\n",
      "Please use `tqdm.notebook.tqdm` instead of `tqdm.tqdm_notebook`\n",
      "  for connectivity in tqdm( connectivity_span , desc='Variation of connectivities'):\n"
     ]
    },
    {
     "data": {
      "application/vnd.jupyter.widget-view+json": {
       "model_id": "826ea7b3a30b4d4799a30ba4a7effba4",
       "version_major": 2,
       "version_minor": 0
      },
      "text/plain": [
       "Variation of connectivities:   0%|          | 0/5 [00:00<?, ?it/s]"
      ]
     },
     "metadata": {},
     "output_type": "display_data"
    },
    {
     "name": "stderr",
     "output_type": "stream",
     "text": [
      "C:\\Users\\mohsen\\AppData\\Local\\Temp/ipykernel_16892/1212606915.py:5: TqdmDeprecationWarning: This function will be removed in tqdm==5.0.0\n",
      "Please use `tqdm.notebook.tqdm` instead of `tqdm.tqdm_notebook`\n",
      "  for delay in tqdm( delay_span , desc='Variation of delay'):\n"
     ]
    },
    {
     "data": {
      "application/vnd.jupyter.widget-view+json": {
       "model_id": "73c8155796524eb1b5f78f19e81af9ba",
       "version_major": 2,
       "version_minor": 0
      },
      "text/plain": [
       "Variation of delay:   0%|          | 0/8 [00:00<?, ?it/s]"
      ]
     },
     "metadata": {},
     "output_type": "display_data"
    },
    {
     "name": "stderr",
     "output_type": "stream",
     "text": [
      "C:\\Users\\mohsen\\AppData\\Local\\Temp/ipykernel_16892/1212606915.py:9: TqdmDeprecationWarning: This function will be removed in tqdm==5.0.0\n",
      "Please use `tqdm.notebook.tqdm` instead of `tqdm.tqdm_notebook`\n",
      "  for alpha in tqdm( alpha_span , desc='Variation of alpha') :\n"
     ]
    },
    {
     "data": {
      "application/vnd.jupyter.widget-view+json": {
       "model_id": "d212f358b5224119b754e08065125406",
       "version_major": 2,
       "version_minor": 0
      },
      "text/plain": [
       "Variation of alpha:   0%|          | 0/1 [00:00<?, ?it/s]"
      ]
     },
     "metadata": {},
     "output_type": "display_data"
    },
    {
     "name": "stderr",
     "output_type": "stream",
     "text": [
      "C:\\Users\\mohsen\\AppData\\Local\\Temp/ipykernel_16892/1212606915.py:14: TqdmDeprecationWarning: This function will be removed in tqdm==5.0.0\n",
      "Please use `tqdm.notebook.tqdm` instead of `tqdm.tqdm_notebook`\n",
      "  for i in tqdm( range(num_ensembles_each_g) , desc='Making ensembles'):\n"
     ]
    },
    {
     "data": {
      "application/vnd.jupyter.widget-view+json": {
       "model_id": "4cdf17446e394451ac723abd8cbfd1b8",
       "version_major": 2,
       "version_minor": 0
      },
      "text/plain": [
       "Making ensembles:   0%|          | 0/1 [00:00<?, ?it/s]"
      ]
     },
     "metadata": {},
     "output_type": "display_data"
    },
    {
     "data": {
      "application/vnd.jupyter.widget-view+json": {
       "model_id": "0ad0f619bb5e46439bce902ea732af7d",
       "version_major": 2,
       "version_minor": 0
      },
      "text/plain": [
       "network dynamic:   0%|          | 0/9999 [00:00<?, ?it/s]"
      ]
     },
     "metadata": {},
     "output_type": "display_data"
    },
    {
     "data": {
      "application/vnd.jupyter.widget-view+json": {
       "model_id": "9ef2d2ce7e33408896b4a36d3ad0ba20",
       "version_major": 2,
       "version_minor": 0
      },
      "text/plain": [
       "Variation of alpha:   0%|          | 0/1 [00:00<?, ?it/s]"
      ]
     },
     "metadata": {},
     "output_type": "display_data"
    },
    {
     "data": {
      "application/vnd.jupyter.widget-view+json": {
       "model_id": "3bab147b5ac6419d81671801120768f9",
       "version_major": 2,
       "version_minor": 0
      },
      "text/plain": [
       "Making ensembles:   0%|          | 0/1 [00:00<?, ?it/s]"
      ]
     },
     "metadata": {},
     "output_type": "display_data"
    },
    {
     "data": {
      "application/vnd.jupyter.widget-view+json": {
       "model_id": "f492a8650d354ca58eb934dff835e83b",
       "version_major": 2,
       "version_minor": 0
      },
      "text/plain": [
       "network dynamic:   0%|          | 0/9999 [00:00<?, ?it/s]"
      ]
     },
     "metadata": {},
     "output_type": "display_data"
    },
    {
     "data": {
      "application/vnd.jupyter.widget-view+json": {
       "model_id": "7a168a3d9b124d2e983795638200dc49",
       "version_major": 2,
       "version_minor": 0
      },
      "text/plain": [
       "Variation of alpha:   0%|          | 0/1 [00:00<?, ?it/s]"
      ]
     },
     "metadata": {},
     "output_type": "display_data"
    },
    {
     "data": {
      "application/vnd.jupyter.widget-view+json": {
       "model_id": "118a9190770a4bdfa6fb8f343739008f",
       "version_major": 2,
       "version_minor": 0
      },
      "text/plain": [
       "Making ensembles:   0%|          | 0/1 [00:00<?, ?it/s]"
      ]
     },
     "metadata": {},
     "output_type": "display_data"
    },
    {
     "data": {
      "application/vnd.jupyter.widget-view+json": {
       "model_id": "ad822c3d3c8f4cac8b8b7730863775da",
       "version_major": 2,
       "version_minor": 0
      },
      "text/plain": [
       "network dynamic:   0%|          | 0/9999 [00:00<?, ?it/s]"
      ]
     },
     "metadata": {},
     "output_type": "display_data"
    },
    {
     "data": {
      "application/vnd.jupyter.widget-view+json": {
       "model_id": "689e3d9006074d758d927e1d9def8820",
       "version_major": 2,
       "version_minor": 0
      },
      "text/plain": [
       "Variation of alpha:   0%|          | 0/1 [00:00<?, ?it/s]"
      ]
     },
     "metadata": {},
     "output_type": "display_data"
    },
    {
     "data": {
      "application/vnd.jupyter.widget-view+json": {
       "model_id": "7646f3e495cb41fcb4822c1f00acd47e",
       "version_major": 2,
       "version_minor": 0
      },
      "text/plain": [
       "Making ensembles:   0%|          | 0/1 [00:00<?, ?it/s]"
      ]
     },
     "metadata": {},
     "output_type": "display_data"
    },
    {
     "data": {
      "application/vnd.jupyter.widget-view+json": {
       "model_id": "1a07a8710ee240218a8329c8fa0aa70a",
       "version_major": 2,
       "version_minor": 0
      },
      "text/plain": [
       "network dynamic:   0%|          | 0/9999 [00:00<?, ?it/s]"
      ]
     },
     "metadata": {},
     "output_type": "display_data"
    },
    {
     "data": {
      "application/vnd.jupyter.widget-view+json": {
       "model_id": "f3a5e583c70c4eaeb431481dc81aa2bd",
       "version_major": 2,
       "version_minor": 0
      },
      "text/plain": [
       "Variation of alpha:   0%|          | 0/1 [00:00<?, ?it/s]"
      ]
     },
     "metadata": {},
     "output_type": "display_data"
    },
    {
     "data": {
      "application/vnd.jupyter.widget-view+json": {
       "model_id": "c37a76115eae4ac0bb18bbb5bf8750d0",
       "version_major": 2,
       "version_minor": 0
      },
      "text/plain": [
       "Making ensembles:   0%|          | 0/1 [00:00<?, ?it/s]"
      ]
     },
     "metadata": {},
     "output_type": "display_data"
    },
    {
     "data": {
      "application/vnd.jupyter.widget-view+json": {
       "model_id": "15606ddfa60d404ba6e40472ab602db8",
       "version_major": 2,
       "version_minor": 0
      },
      "text/plain": [
       "network dynamic:   0%|          | 0/9999 [00:00<?, ?it/s]"
      ]
     },
     "metadata": {},
     "output_type": "display_data"
    },
    {
     "data": {
      "application/vnd.jupyter.widget-view+json": {
       "model_id": "edf9df0332f44aeb958e126bd2ba00b2",
       "version_major": 2,
       "version_minor": 0
      },
      "text/plain": [
       "Variation of alpha:   0%|          | 0/1 [00:00<?, ?it/s]"
      ]
     },
     "metadata": {},
     "output_type": "display_data"
    },
    {
     "data": {
      "application/vnd.jupyter.widget-view+json": {
       "model_id": "d5e736c9b7fa4682955f69ce113562c5",
       "version_major": 2,
       "version_minor": 0
      },
      "text/plain": [
       "Making ensembles:   0%|          | 0/1 [00:00<?, ?it/s]"
      ]
     },
     "metadata": {},
     "output_type": "display_data"
    },
    {
     "data": {
      "application/vnd.jupyter.widget-view+json": {
       "model_id": "b83af4085ebc48bfac32daff6f6ad99c",
       "version_major": 2,
       "version_minor": 0
      },
      "text/plain": [
       "network dynamic:   0%|          | 0/9999 [00:00<?, ?it/s]"
      ]
     },
     "metadata": {},
     "output_type": "display_data"
    },
    {
     "data": {
      "application/vnd.jupyter.widget-view+json": {
       "model_id": "c3aed5d0f29d4e66b79881366dd03224",
       "version_major": 2,
       "version_minor": 0
      },
      "text/plain": [
       "Variation of alpha:   0%|          | 0/1 [00:00<?, ?it/s]"
      ]
     },
     "metadata": {},
     "output_type": "display_data"
    },
    {
     "data": {
      "application/vnd.jupyter.widget-view+json": {
       "model_id": "4dddd23a214645c9bdc688e130bee3f5",
       "version_major": 2,
       "version_minor": 0
      },
      "text/plain": [
       "Making ensembles:   0%|          | 0/1 [00:00<?, ?it/s]"
      ]
     },
     "metadata": {},
     "output_type": "display_data"
    },
    {
     "data": {
      "application/vnd.jupyter.widget-view+json": {
       "model_id": "7fde4437c10e4ad4bb5880becd505d06",
       "version_major": 2,
       "version_minor": 0
      },
      "text/plain": [
       "network dynamic:   0%|          | 0/9999 [00:00<?, ?it/s]"
      ]
     },
     "metadata": {},
     "output_type": "display_data"
    },
    {
     "data": {
      "application/vnd.jupyter.widget-view+json": {
       "model_id": "bc11b2a2007347fe97927db38899da6e",
       "version_major": 2,
       "version_minor": 0
      },
      "text/plain": [
       "Variation of alpha:   0%|          | 0/1 [00:00<?, ?it/s]"
      ]
     },
     "metadata": {},
     "output_type": "display_data"
    },
    {
     "data": {
      "application/vnd.jupyter.widget-view+json": {
       "model_id": "27c01e81132747fcac42939948ae3653",
       "version_major": 2,
       "version_minor": 0
      },
      "text/plain": [
       "Making ensembles:   0%|          | 0/1 [00:00<?, ?it/s]"
      ]
     },
     "metadata": {},
     "output_type": "display_data"
    },
    {
     "data": {
      "application/vnd.jupyter.widget-view+json": {
       "model_id": "9d5495da0e29456c8f6dfdb3d8a7c37d",
       "version_major": 2,
       "version_minor": 0
      },
      "text/plain": [
       "network dynamic:   0%|          | 0/9999 [00:00<?, ?it/s]"
      ]
     },
     "metadata": {},
     "output_type": "display_data"
    },
    {
     "data": {
      "application/vnd.jupyter.widget-view+json": {
       "model_id": "de3fd4723b5346ab9b9940107f09faf0",
       "version_major": 2,
       "version_minor": 0
      },
      "text/plain": [
       "Variation of delay:   0%|          | 0/8 [00:00<?, ?it/s]"
      ]
     },
     "metadata": {},
     "output_type": "display_data"
    },
    {
     "data": {
      "application/vnd.jupyter.widget-view+json": {
       "model_id": "f17e64be3248429cbe9ebe1dbd08021a",
       "version_major": 2,
       "version_minor": 0
      },
      "text/plain": [
       "Variation of alpha:   0%|          | 0/1 [00:00<?, ?it/s]"
      ]
     },
     "metadata": {},
     "output_type": "display_data"
    },
    {
     "data": {
      "application/vnd.jupyter.widget-view+json": {
       "model_id": "702b81e35239448b8fff1a0a443a5b1b",
       "version_major": 2,
       "version_minor": 0
      },
      "text/plain": [
       "Making ensembles:   0%|          | 0/1 [00:00<?, ?it/s]"
      ]
     },
     "metadata": {},
     "output_type": "display_data"
    },
    {
     "data": {
      "application/vnd.jupyter.widget-view+json": {
       "model_id": "6152900d680e4c368f18d583264ece3d",
       "version_major": 2,
       "version_minor": 0
      },
      "text/plain": [
       "network dynamic:   0%|          | 0/9999 [00:00<?, ?it/s]"
      ]
     },
     "metadata": {},
     "output_type": "display_data"
    },
    {
     "data": {
      "application/vnd.jupyter.widget-view+json": {
       "model_id": "767ef11ab8764270b400003a09506dda",
       "version_major": 2,
       "version_minor": 0
      },
      "text/plain": [
       "Variation of alpha:   0%|          | 0/1 [00:00<?, ?it/s]"
      ]
     },
     "metadata": {},
     "output_type": "display_data"
    },
    {
     "data": {
      "application/vnd.jupyter.widget-view+json": {
       "model_id": "0caef930a8cb48dc891478bbda31aaa4",
       "version_major": 2,
       "version_minor": 0
      },
      "text/plain": [
       "Making ensembles:   0%|          | 0/1 [00:00<?, ?it/s]"
      ]
     },
     "metadata": {},
     "output_type": "display_data"
    },
    {
     "data": {
      "application/vnd.jupyter.widget-view+json": {
       "model_id": "581bcfa07051428397040a79249500f9",
       "version_major": 2,
       "version_minor": 0
      },
      "text/plain": [
       "network dynamic:   0%|          | 0/9999 [00:00<?, ?it/s]"
      ]
     },
     "metadata": {},
     "output_type": "display_data"
    },
    {
     "data": {
      "application/vnd.jupyter.widget-view+json": {
       "model_id": "58eaea7603014e338df653bb28a602c3",
       "version_major": 2,
       "version_minor": 0
      },
      "text/plain": [
       "Variation of alpha:   0%|          | 0/1 [00:00<?, ?it/s]"
      ]
     },
     "metadata": {},
     "output_type": "display_data"
    },
    {
     "data": {
      "application/vnd.jupyter.widget-view+json": {
       "model_id": "0a19c28b2a144fc38644ab928da095a6",
       "version_major": 2,
       "version_minor": 0
      },
      "text/plain": [
       "Making ensembles:   0%|          | 0/1 [00:00<?, ?it/s]"
      ]
     },
     "metadata": {},
     "output_type": "display_data"
    },
    {
     "data": {
      "application/vnd.jupyter.widget-view+json": {
       "model_id": "2e9331fee4e84dcab644cc1de49c3397",
       "version_major": 2,
       "version_minor": 0
      },
      "text/plain": [
       "network dynamic:   0%|          | 0/9999 [00:00<?, ?it/s]"
      ]
     },
     "metadata": {},
     "output_type": "display_data"
    },
    {
     "data": {
      "application/vnd.jupyter.widget-view+json": {
       "model_id": "e55859baa6854070ad17eb0014191b33",
       "version_major": 2,
       "version_minor": 0
      },
      "text/plain": [
       "Variation of alpha:   0%|          | 0/1 [00:00<?, ?it/s]"
      ]
     },
     "metadata": {},
     "output_type": "display_data"
    },
    {
     "data": {
      "application/vnd.jupyter.widget-view+json": {
       "model_id": "b0498cd89127432986665cf5e19a191e",
       "version_major": 2,
       "version_minor": 0
      },
      "text/plain": [
       "Making ensembles:   0%|          | 0/1 [00:00<?, ?it/s]"
      ]
     },
     "metadata": {},
     "output_type": "display_data"
    },
    {
     "data": {
      "application/vnd.jupyter.widget-view+json": {
       "model_id": "57a02314560e49d9bcf75caa6e71a5c4",
       "version_major": 2,
       "version_minor": 0
      },
      "text/plain": [
       "network dynamic:   0%|          | 0/9999 [00:00<?, ?it/s]"
      ]
     },
     "metadata": {},
     "output_type": "display_data"
    },
    {
     "data": {
      "application/vnd.jupyter.widget-view+json": {
       "model_id": "2a99ca3a5a0d486ba4117d0e91fe9d96",
       "version_major": 2,
       "version_minor": 0
      },
      "text/plain": [
       "Variation of alpha:   0%|          | 0/1 [00:00<?, ?it/s]"
      ]
     },
     "metadata": {},
     "output_type": "display_data"
    },
    {
     "data": {
      "application/vnd.jupyter.widget-view+json": {
       "model_id": "b442d042c0b441878d3bb0d8b3ac47bb",
       "version_major": 2,
       "version_minor": 0
      },
      "text/plain": [
       "Making ensembles:   0%|          | 0/1 [00:00<?, ?it/s]"
      ]
     },
     "metadata": {},
     "output_type": "display_data"
    },
    {
     "data": {
      "application/vnd.jupyter.widget-view+json": {
       "model_id": "cbe7d8864266485b8b1d4e898eb90ad4",
       "version_major": 2,
       "version_minor": 0
      },
      "text/plain": [
       "network dynamic:   0%|          | 0/9999 [00:00<?, ?it/s]"
      ]
     },
     "metadata": {},
     "output_type": "display_data"
    },
    {
     "data": {
      "application/vnd.jupyter.widget-view+json": {
       "model_id": "edf4c5cee8bc48ca93565188cc8ea5cd",
       "version_major": 2,
       "version_minor": 0
      },
      "text/plain": [
       "Variation of alpha:   0%|          | 0/1 [00:00<?, ?it/s]"
      ]
     },
     "metadata": {},
     "output_type": "display_data"
    },
    {
     "data": {
      "application/vnd.jupyter.widget-view+json": {
       "model_id": "c2af158c43444efa8da9e98f00d680a2",
       "version_major": 2,
       "version_minor": 0
      },
      "text/plain": [
       "Making ensembles:   0%|          | 0/1 [00:00<?, ?it/s]"
      ]
     },
     "metadata": {},
     "output_type": "display_data"
    },
    {
     "data": {
      "application/vnd.jupyter.widget-view+json": {
       "model_id": "f895421f4af640c4b357045559174521",
       "version_major": 2,
       "version_minor": 0
      },
      "text/plain": [
       "network dynamic:   0%|          | 0/9999 [00:00<?, ?it/s]"
      ]
     },
     "metadata": {},
     "output_type": "display_data"
    },
    {
     "data": {
      "application/vnd.jupyter.widget-view+json": {
       "model_id": "892240af220e44fcad5472da43fdc8b6",
       "version_major": 2,
       "version_minor": 0
      },
      "text/plain": [
       "Variation of alpha:   0%|          | 0/1 [00:00<?, ?it/s]"
      ]
     },
     "metadata": {},
     "output_type": "display_data"
    },
    {
     "data": {
      "application/vnd.jupyter.widget-view+json": {
       "model_id": "02b1eb557fcd4c83ac3cf85d7e56e43f",
       "version_major": 2,
       "version_minor": 0
      },
      "text/plain": [
       "Making ensembles:   0%|          | 0/1 [00:00<?, ?it/s]"
      ]
     },
     "metadata": {},
     "output_type": "display_data"
    },
    {
     "data": {
      "application/vnd.jupyter.widget-view+json": {
       "model_id": "14a88308ba6b4806962dcc506408fbd6",
       "version_major": 2,
       "version_minor": 0
      },
      "text/plain": [
       "network dynamic:   0%|          | 0/9999 [00:00<?, ?it/s]"
      ]
     },
     "metadata": {},
     "output_type": "display_data"
    },
    {
     "data": {
      "application/vnd.jupyter.widget-view+json": {
       "model_id": "36e03e5400264be78e62b83c1a1026c8",
       "version_major": 2,
       "version_minor": 0
      },
      "text/plain": [
       "Variation of alpha:   0%|          | 0/1 [00:00<?, ?it/s]"
      ]
     },
     "metadata": {},
     "output_type": "display_data"
    },
    {
     "data": {
      "application/vnd.jupyter.widget-view+json": {
       "model_id": "ba4e7a084b1741928f2a6d979531ac49",
       "version_major": 2,
       "version_minor": 0
      },
      "text/plain": [
       "Making ensembles:   0%|          | 0/1 [00:00<?, ?it/s]"
      ]
     },
     "metadata": {},
     "output_type": "display_data"
    },
    {
     "data": {
      "application/vnd.jupyter.widget-view+json": {
       "model_id": "d9d25c0b991d4cd18e0d85873253f0e6",
       "version_major": 2,
       "version_minor": 0
      },
      "text/plain": [
       "network dynamic:   0%|          | 0/9999 [00:00<?, ?it/s]"
      ]
     },
     "metadata": {},
     "output_type": "display_data"
    },
    {
     "data": {
      "application/vnd.jupyter.widget-view+json": {
       "model_id": "dc3c6eeef54d4183b1a3296e83e6e027",
       "version_major": 2,
       "version_minor": 0
      },
      "text/plain": [
       "Variation of delay:   0%|          | 0/8 [00:00<?, ?it/s]"
      ]
     },
     "metadata": {},
     "output_type": "display_data"
    },
    {
     "data": {
      "application/vnd.jupyter.widget-view+json": {
       "model_id": "e54e04c444db4a6aae2bf8d718f72ad0",
       "version_major": 2,
       "version_minor": 0
      },
      "text/plain": [
       "Variation of alpha:   0%|          | 0/1 [00:00<?, ?it/s]"
      ]
     },
     "metadata": {},
     "output_type": "display_data"
    },
    {
     "data": {
      "application/vnd.jupyter.widget-view+json": {
       "model_id": "4b2bd20014e14998b206d4a5903d6418",
       "version_major": 2,
       "version_minor": 0
      },
      "text/plain": [
       "Making ensembles:   0%|          | 0/1 [00:00<?, ?it/s]"
      ]
     },
     "metadata": {},
     "output_type": "display_data"
    },
    {
     "data": {
      "application/vnd.jupyter.widget-view+json": {
       "model_id": "9d621c26c02249968c76060c70ce5cbc",
       "version_major": 2,
       "version_minor": 0
      },
      "text/plain": [
       "network dynamic:   0%|          | 0/9999 [00:00<?, ?it/s]"
      ]
     },
     "metadata": {},
     "output_type": "display_data"
    },
    {
     "data": {
      "application/vnd.jupyter.widget-view+json": {
       "model_id": "1070d8b7c357458da9d7337daebf1834",
       "version_major": 2,
       "version_minor": 0
      },
      "text/plain": [
       "Variation of alpha:   0%|          | 0/1 [00:00<?, ?it/s]"
      ]
     },
     "metadata": {},
     "output_type": "display_data"
    },
    {
     "data": {
      "application/vnd.jupyter.widget-view+json": {
       "model_id": "3fe523c198b14d8e86f8c918ee22081e",
       "version_major": 2,
       "version_minor": 0
      },
      "text/plain": [
       "Making ensembles:   0%|          | 0/1 [00:00<?, ?it/s]"
      ]
     },
     "metadata": {},
     "output_type": "display_data"
    },
    {
     "data": {
      "application/vnd.jupyter.widget-view+json": {
       "model_id": "c8cea4b3b3c5480b9ebdccc2c9e7838b",
       "version_major": 2,
       "version_minor": 0
      },
      "text/plain": [
       "network dynamic:   0%|          | 0/9999 [00:00<?, ?it/s]"
      ]
     },
     "metadata": {},
     "output_type": "display_data"
    },
    {
     "data": {
      "application/vnd.jupyter.widget-view+json": {
       "model_id": "7692f9381bd543438d0ef2315f32a265",
       "version_major": 2,
       "version_minor": 0
      },
      "text/plain": [
       "Variation of alpha:   0%|          | 0/1 [00:00<?, ?it/s]"
      ]
     },
     "metadata": {},
     "output_type": "display_data"
    },
    {
     "data": {
      "application/vnd.jupyter.widget-view+json": {
       "model_id": "32d3e4de1d9c47fe8714ae53ba3eadf1",
       "version_major": 2,
       "version_minor": 0
      },
      "text/plain": [
       "Making ensembles:   0%|          | 0/1 [00:00<?, ?it/s]"
      ]
     },
     "metadata": {},
     "output_type": "display_data"
    },
    {
     "data": {
      "application/vnd.jupyter.widget-view+json": {
       "model_id": "bfb4e6f570694b8892f2b753edc9900c",
       "version_major": 2,
       "version_minor": 0
      },
      "text/plain": [
       "network dynamic:   0%|          | 0/9999 [00:00<?, ?it/s]"
      ]
     },
     "metadata": {},
     "output_type": "display_data"
    },
    {
     "data": {
      "application/vnd.jupyter.widget-view+json": {
       "model_id": "41c54dc40649400f9a2b686876557cf9",
       "version_major": 2,
       "version_minor": 0
      },
      "text/plain": [
       "Variation of alpha:   0%|          | 0/1 [00:00<?, ?it/s]"
      ]
     },
     "metadata": {},
     "output_type": "display_data"
    },
    {
     "data": {
      "application/vnd.jupyter.widget-view+json": {
       "model_id": "62074340ef1e410a887c0654371c25bd",
       "version_major": 2,
       "version_minor": 0
      },
      "text/plain": [
       "Making ensembles:   0%|          | 0/1 [00:00<?, ?it/s]"
      ]
     },
     "metadata": {},
     "output_type": "display_data"
    },
    {
     "data": {
      "application/vnd.jupyter.widget-view+json": {
       "model_id": "9cfaac067e3b44b3b103215a6637ba2f",
       "version_major": 2,
       "version_minor": 0
      },
      "text/plain": [
       "network dynamic:   0%|          | 0/9999 [00:00<?, ?it/s]"
      ]
     },
     "metadata": {},
     "output_type": "display_data"
    },
    {
     "data": {
      "application/vnd.jupyter.widget-view+json": {
       "model_id": "183f31bdef5c41768cccb7a0b2feb57a",
       "version_major": 2,
       "version_minor": 0
      },
      "text/plain": [
       "Variation of alpha:   0%|          | 0/1 [00:00<?, ?it/s]"
      ]
     },
     "metadata": {},
     "output_type": "display_data"
    },
    {
     "data": {
      "application/vnd.jupyter.widget-view+json": {
       "model_id": "94d607f635694b918278d4ca55dcbd86",
       "version_major": 2,
       "version_minor": 0
      },
      "text/plain": [
       "Making ensembles:   0%|          | 0/1 [00:00<?, ?it/s]"
      ]
     },
     "metadata": {},
     "output_type": "display_data"
    },
    {
     "data": {
      "application/vnd.jupyter.widget-view+json": {
       "model_id": "45f9efa67ddc4b89937c2222d558b3ee",
       "version_major": 2,
       "version_minor": 0
      },
      "text/plain": [
       "network dynamic:   0%|          | 0/9999 [00:00<?, ?it/s]"
      ]
     },
     "metadata": {},
     "output_type": "display_data"
    },
    {
     "data": {
      "application/vnd.jupyter.widget-view+json": {
       "model_id": "7417cffdf7bf4619bb6b2f4f1f99f5e9",
       "version_major": 2,
       "version_minor": 0
      },
      "text/plain": [
       "Variation of alpha:   0%|          | 0/1 [00:00<?, ?it/s]"
      ]
     },
     "metadata": {},
     "output_type": "display_data"
    },
    {
     "data": {
      "application/vnd.jupyter.widget-view+json": {
       "model_id": "126f6032764543cfb16a4a6ee06d3c14",
       "version_major": 2,
       "version_minor": 0
      },
      "text/plain": [
       "Making ensembles:   0%|          | 0/1 [00:00<?, ?it/s]"
      ]
     },
     "metadata": {},
     "output_type": "display_data"
    },
    {
     "data": {
      "application/vnd.jupyter.widget-view+json": {
       "model_id": "1392a7deb7a147f3aceb924ef751dc3e",
       "version_major": 2,
       "version_minor": 0
      },
      "text/plain": [
       "network dynamic:   0%|          | 0/9999 [00:00<?, ?it/s]"
      ]
     },
     "metadata": {},
     "output_type": "display_data"
    },
    {
     "data": {
      "application/vnd.jupyter.widget-view+json": {
       "model_id": "3fa1aef1f28b429b859e81a2f2b1c330",
       "version_major": 2,
       "version_minor": 0
      },
      "text/plain": [
       "Variation of alpha:   0%|          | 0/1 [00:00<?, ?it/s]"
      ]
     },
     "metadata": {},
     "output_type": "display_data"
    },
    {
     "data": {
      "application/vnd.jupyter.widget-view+json": {
       "model_id": "b44936d4ec01472f8a926fa8ad41e9e6",
       "version_major": 2,
       "version_minor": 0
      },
      "text/plain": [
       "Making ensembles:   0%|          | 0/1 [00:00<?, ?it/s]"
      ]
     },
     "metadata": {},
     "output_type": "display_data"
    },
    {
     "data": {
      "application/vnd.jupyter.widget-view+json": {
       "model_id": "128b3adc5bc046a8ba3d323f2434ee94",
       "version_major": 2,
       "version_minor": 0
      },
      "text/plain": [
       "network dynamic:   0%|          | 0/9999 [00:00<?, ?it/s]"
      ]
     },
     "metadata": {},
     "output_type": "display_data"
    },
    {
     "data": {
      "application/vnd.jupyter.widget-view+json": {
       "model_id": "b418524f8c7c4a769c1b55fbe984d8e6",
       "version_major": 2,
       "version_minor": 0
      },
      "text/plain": [
       "Variation of alpha:   0%|          | 0/1 [00:00<?, ?it/s]"
      ]
     },
     "metadata": {},
     "output_type": "display_data"
    },
    {
     "data": {
      "application/vnd.jupyter.widget-view+json": {
       "model_id": "e6a8ca42ba7e433eac3be06f026178b4",
       "version_major": 2,
       "version_minor": 0
      },
      "text/plain": [
       "Making ensembles:   0%|          | 0/1 [00:00<?, ?it/s]"
      ]
     },
     "metadata": {},
     "output_type": "display_data"
    },
    {
     "data": {
      "application/vnd.jupyter.widget-view+json": {
       "model_id": "89acc36a184d4607900ec7639ae9a99f",
       "version_major": 2,
       "version_minor": 0
      },
      "text/plain": [
       "network dynamic:   0%|          | 0/9999 [00:00<?, ?it/s]"
      ]
     },
     "metadata": {},
     "output_type": "display_data"
    },
    {
     "data": {
      "application/vnd.jupyter.widget-view+json": {
       "model_id": "e9a5841e32cd45b1bf98b72f38b93322",
       "version_major": 2,
       "version_minor": 0
      },
      "text/plain": [
       "Variation of delay:   0%|          | 0/8 [00:00<?, ?it/s]"
      ]
     },
     "metadata": {},
     "output_type": "display_data"
    },
    {
     "data": {
      "application/vnd.jupyter.widget-view+json": {
       "model_id": "5494d5155c9b4134b5efda226fcc94a2",
       "version_major": 2,
       "version_minor": 0
      },
      "text/plain": [
       "Variation of alpha:   0%|          | 0/1 [00:00<?, ?it/s]"
      ]
     },
     "metadata": {},
     "output_type": "display_data"
    },
    {
     "data": {
      "application/vnd.jupyter.widget-view+json": {
       "model_id": "6fd8ce2f211c45b0a4da2b6bf9bbd026",
       "version_major": 2,
       "version_minor": 0
      },
      "text/plain": [
       "Making ensembles:   0%|          | 0/1 [00:00<?, ?it/s]"
      ]
     },
     "metadata": {},
     "output_type": "display_data"
    },
    {
     "data": {
      "application/vnd.jupyter.widget-view+json": {
       "model_id": "1fe687c9ceec451d85b59a126b4be254",
       "version_major": 2,
       "version_minor": 0
      },
      "text/plain": [
       "network dynamic:   0%|          | 0/9999 [00:00<?, ?it/s]"
      ]
     },
     "metadata": {},
     "output_type": "display_data"
    },
    {
     "data": {
      "application/vnd.jupyter.widget-view+json": {
       "model_id": "ae073549e239441faf8420ea966c44c8",
       "version_major": 2,
       "version_minor": 0
      },
      "text/plain": [
       "Variation of alpha:   0%|          | 0/1 [00:00<?, ?it/s]"
      ]
     },
     "metadata": {},
     "output_type": "display_data"
    },
    {
     "data": {
      "application/vnd.jupyter.widget-view+json": {
       "model_id": "abfb8214d950495eb2fca7ebd910ba5c",
       "version_major": 2,
       "version_minor": 0
      },
      "text/plain": [
       "Making ensembles:   0%|          | 0/1 [00:00<?, ?it/s]"
      ]
     },
     "metadata": {},
     "output_type": "display_data"
    },
    {
     "data": {
      "application/vnd.jupyter.widget-view+json": {
       "model_id": "5172d6063c684ae7a1d57b5dea8f6690",
       "version_major": 2,
       "version_minor": 0
      },
      "text/plain": [
       "network dynamic:   0%|          | 0/9999 [00:00<?, ?it/s]"
      ]
     },
     "metadata": {},
     "output_type": "display_data"
    },
    {
     "data": {
      "application/vnd.jupyter.widget-view+json": {
       "model_id": "20aee0e9e84c495b86d7dec7982b01d5",
       "version_major": 2,
       "version_minor": 0
      },
      "text/plain": [
       "Variation of alpha:   0%|          | 0/1 [00:00<?, ?it/s]"
      ]
     },
     "metadata": {},
     "output_type": "display_data"
    },
    {
     "data": {
      "application/vnd.jupyter.widget-view+json": {
       "model_id": "995ba1645baf46ed9b5b9eedead75f41",
       "version_major": 2,
       "version_minor": 0
      },
      "text/plain": [
       "Making ensembles:   0%|          | 0/1 [00:00<?, ?it/s]"
      ]
     },
     "metadata": {},
     "output_type": "display_data"
    },
    {
     "data": {
      "application/vnd.jupyter.widget-view+json": {
       "model_id": "a39cb660ac694a03b9a177ef20855bb6",
       "version_major": 2,
       "version_minor": 0
      },
      "text/plain": [
       "network dynamic:   0%|          | 0/9999 [00:00<?, ?it/s]"
      ]
     },
     "metadata": {},
     "output_type": "display_data"
    },
    {
     "data": {
      "application/vnd.jupyter.widget-view+json": {
       "model_id": "2363023d6b28439594fa29888cc624a3",
       "version_major": 2,
       "version_minor": 0
      },
      "text/plain": [
       "Variation of alpha:   0%|          | 0/1 [00:00<?, ?it/s]"
      ]
     },
     "metadata": {},
     "output_type": "display_data"
    },
    {
     "data": {
      "application/vnd.jupyter.widget-view+json": {
       "model_id": "2c7d8f7bd45741cb9a612017fb476ce7",
       "version_major": 2,
       "version_minor": 0
      },
      "text/plain": [
       "Making ensembles:   0%|          | 0/1 [00:00<?, ?it/s]"
      ]
     },
     "metadata": {},
     "output_type": "display_data"
    },
    {
     "data": {
      "application/vnd.jupyter.widget-view+json": {
       "model_id": "80a6b1f6b2474d44a6005352d92f74fb",
       "version_major": 2,
       "version_minor": 0
      },
      "text/plain": [
       "network dynamic:   0%|          | 0/9999 [00:00<?, ?it/s]"
      ]
     },
     "metadata": {},
     "output_type": "display_data"
    },
    {
     "data": {
      "application/vnd.jupyter.widget-view+json": {
       "model_id": "addea8f1543844ab8cd18678ed5da2af",
       "version_major": 2,
       "version_minor": 0
      },
      "text/plain": [
       "Variation of alpha:   0%|          | 0/1 [00:00<?, ?it/s]"
      ]
     },
     "metadata": {},
     "output_type": "display_data"
    },
    {
     "data": {
      "application/vnd.jupyter.widget-view+json": {
       "model_id": "cf67b5686e1649d9af7d83712485aa94",
       "version_major": 2,
       "version_minor": 0
      },
      "text/plain": [
       "Making ensembles:   0%|          | 0/1 [00:00<?, ?it/s]"
      ]
     },
     "metadata": {},
     "output_type": "display_data"
    },
    {
     "data": {
      "application/vnd.jupyter.widget-view+json": {
       "model_id": "74c26b00435e429d90629b0ec231ab92",
       "version_major": 2,
       "version_minor": 0
      },
      "text/plain": [
       "network dynamic:   0%|          | 0/9999 [00:00<?, ?it/s]"
      ]
     },
     "metadata": {},
     "output_type": "display_data"
    },
    {
     "data": {
      "application/vnd.jupyter.widget-view+json": {
       "model_id": "e5638a58f80f415b91fcfcd948194c47",
       "version_major": 2,
       "version_minor": 0
      },
      "text/plain": [
       "Variation of alpha:   0%|          | 0/1 [00:00<?, ?it/s]"
      ]
     },
     "metadata": {},
     "output_type": "display_data"
    },
    {
     "data": {
      "application/vnd.jupyter.widget-view+json": {
       "model_id": "96ce090ab7ac43969733fb07b68d5339",
       "version_major": 2,
       "version_minor": 0
      },
      "text/plain": [
       "Making ensembles:   0%|          | 0/1 [00:00<?, ?it/s]"
      ]
     },
     "metadata": {},
     "output_type": "display_data"
    },
    {
     "data": {
      "application/vnd.jupyter.widget-view+json": {
       "model_id": "3f42a4b7092448b3b66ef5912c5fbad5",
       "version_major": 2,
       "version_minor": 0
      },
      "text/plain": [
       "network dynamic:   0%|          | 0/9999 [00:00<?, ?it/s]"
      ]
     },
     "metadata": {},
     "output_type": "display_data"
    },
    {
     "data": {
      "application/vnd.jupyter.widget-view+json": {
       "model_id": "48134cc5aad54f2784ab2fd7e914dcb5",
       "version_major": 2,
       "version_minor": 0
      },
      "text/plain": [
       "Variation of alpha:   0%|          | 0/1 [00:00<?, ?it/s]"
      ]
     },
     "metadata": {},
     "output_type": "display_data"
    },
    {
     "data": {
      "application/vnd.jupyter.widget-view+json": {
       "model_id": "11825bc09e4e4b259af9c7b907926525",
       "version_major": 2,
       "version_minor": 0
      },
      "text/plain": [
       "Making ensembles:   0%|          | 0/1 [00:00<?, ?it/s]"
      ]
     },
     "metadata": {},
     "output_type": "display_data"
    },
    {
     "data": {
      "application/vnd.jupyter.widget-view+json": {
       "model_id": "9709c59dd14a424eafa4f8f9fb96ee37",
       "version_major": 2,
       "version_minor": 0
      },
      "text/plain": [
       "network dynamic:   0%|          | 0/9999 [00:00<?, ?it/s]"
      ]
     },
     "metadata": {},
     "output_type": "display_data"
    },
    {
     "data": {
      "application/vnd.jupyter.widget-view+json": {
       "model_id": "ca6d8f7bbce04cb0994720415c23bfd0",
       "version_major": 2,
       "version_minor": 0
      },
      "text/plain": [
       "Variation of alpha:   0%|          | 0/1 [00:00<?, ?it/s]"
      ]
     },
     "metadata": {},
     "output_type": "display_data"
    },
    {
     "data": {
      "application/vnd.jupyter.widget-view+json": {
       "model_id": "c57a73c9107d4e79ba96d1c52318849e",
       "version_major": 2,
       "version_minor": 0
      },
      "text/plain": [
       "Making ensembles:   0%|          | 0/1 [00:00<?, ?it/s]"
      ]
     },
     "metadata": {},
     "output_type": "display_data"
    },
    {
     "data": {
      "application/vnd.jupyter.widget-view+json": {
       "model_id": "32fc0354ddbc4e92a8f158b8930390fa",
       "version_major": 2,
       "version_minor": 0
      },
      "text/plain": [
       "network dynamic:   0%|          | 0/9999 [00:00<?, ?it/s]"
      ]
     },
     "metadata": {},
     "output_type": "display_data"
    },
    {
     "data": {
      "application/vnd.jupyter.widget-view+json": {
       "model_id": "6bb05142592949398dd355fb1bae418e",
       "version_major": 2,
       "version_minor": 0
      },
      "text/plain": [
       "Variation of delay:   0%|          | 0/8 [00:00<?, ?it/s]"
      ]
     },
     "metadata": {},
     "output_type": "display_data"
    },
    {
     "data": {
      "application/vnd.jupyter.widget-view+json": {
       "model_id": "8a1dc91d5afd4da5aaac3299f5994012",
       "version_major": 2,
       "version_minor": 0
      },
      "text/plain": [
       "Variation of alpha:   0%|          | 0/1 [00:00<?, ?it/s]"
      ]
     },
     "metadata": {},
     "output_type": "display_data"
    },
    {
     "data": {
      "application/vnd.jupyter.widget-view+json": {
       "model_id": "14ee73bae7da442193f44f8d3925db8c",
       "version_major": 2,
       "version_minor": 0
      },
      "text/plain": [
       "Making ensembles:   0%|          | 0/1 [00:00<?, ?it/s]"
      ]
     },
     "metadata": {},
     "output_type": "display_data"
    },
    {
     "data": {
      "application/vnd.jupyter.widget-view+json": {
       "model_id": "b306905a7ed04dafbfb7cf418c99e5ed",
       "version_major": 2,
       "version_minor": 0
      },
      "text/plain": [
       "network dynamic:   0%|          | 0/9999 [00:00<?, ?it/s]"
      ]
     },
     "metadata": {},
     "output_type": "display_data"
    },
    {
     "data": {
      "application/vnd.jupyter.widget-view+json": {
       "model_id": "860ed818df5a4a73b770eec903011e9b",
       "version_major": 2,
       "version_minor": 0
      },
      "text/plain": [
       "Variation of alpha:   0%|          | 0/1 [00:00<?, ?it/s]"
      ]
     },
     "metadata": {},
     "output_type": "display_data"
    },
    {
     "data": {
      "application/vnd.jupyter.widget-view+json": {
       "model_id": "19c996fc99884a65bde54fd5fc1ebb8b",
       "version_major": 2,
       "version_minor": 0
      },
      "text/plain": [
       "Making ensembles:   0%|          | 0/1 [00:00<?, ?it/s]"
      ]
     },
     "metadata": {},
     "output_type": "display_data"
    },
    {
     "data": {
      "application/vnd.jupyter.widget-view+json": {
       "model_id": "a8809a52538f45db82f78b6c05364a52",
       "version_major": 2,
       "version_minor": 0
      },
      "text/plain": [
       "network dynamic:   0%|          | 0/9999 [00:00<?, ?it/s]"
      ]
     },
     "metadata": {},
     "output_type": "display_data"
    },
    {
     "data": {
      "application/vnd.jupyter.widget-view+json": {
       "model_id": "014a629de8c34582b7dd1c0c3b6df093",
       "version_major": 2,
       "version_minor": 0
      },
      "text/plain": [
       "Variation of alpha:   0%|          | 0/1 [00:00<?, ?it/s]"
      ]
     },
     "metadata": {},
     "output_type": "display_data"
    },
    {
     "data": {
      "application/vnd.jupyter.widget-view+json": {
       "model_id": "a734d744a6f94f2a9335ac6ad4618cee",
       "version_major": 2,
       "version_minor": 0
      },
      "text/plain": [
       "Making ensembles:   0%|          | 0/1 [00:00<?, ?it/s]"
      ]
     },
     "metadata": {},
     "output_type": "display_data"
    },
    {
     "data": {
      "application/vnd.jupyter.widget-view+json": {
       "model_id": "1a96909d3a7d42de95f267f863b9410d",
       "version_major": 2,
       "version_minor": 0
      },
      "text/plain": [
       "network dynamic:   0%|          | 0/9999 [00:00<?, ?it/s]"
      ]
     },
     "metadata": {},
     "output_type": "display_data"
    },
    {
     "data": {
      "application/vnd.jupyter.widget-view+json": {
       "model_id": "94e6e3e1637540de8ab44a5dc3821767",
       "version_major": 2,
       "version_minor": 0
      },
      "text/plain": [
       "Variation of alpha:   0%|          | 0/1 [00:00<?, ?it/s]"
      ]
     },
     "metadata": {},
     "output_type": "display_data"
    },
    {
     "data": {
      "application/vnd.jupyter.widget-view+json": {
       "model_id": "3efcfa1c03114d7c8c2f68dec7619b4a",
       "version_major": 2,
       "version_minor": 0
      },
      "text/plain": [
       "Making ensembles:   0%|          | 0/1 [00:00<?, ?it/s]"
      ]
     },
     "metadata": {},
     "output_type": "display_data"
    },
    {
     "data": {
      "application/vnd.jupyter.widget-view+json": {
       "model_id": "28dc360a9d9f4572a8d6f3e660550fc2",
       "version_major": 2,
       "version_minor": 0
      },
      "text/plain": [
       "network dynamic:   0%|          | 0/9999 [00:00<?, ?it/s]"
      ]
     },
     "metadata": {},
     "output_type": "display_data"
    },
    {
     "data": {
      "application/vnd.jupyter.widget-view+json": {
       "model_id": "d97dfa21ec834d85842f2ed97a2f224d",
       "version_major": 2,
       "version_minor": 0
      },
      "text/plain": [
       "Variation of alpha:   0%|          | 0/1 [00:00<?, ?it/s]"
      ]
     },
     "metadata": {},
     "output_type": "display_data"
    },
    {
     "data": {
      "application/vnd.jupyter.widget-view+json": {
       "model_id": "ea696f72136b434287f2563e4a2738e9",
       "version_major": 2,
       "version_minor": 0
      },
      "text/plain": [
       "Making ensembles:   0%|          | 0/1 [00:00<?, ?it/s]"
      ]
     },
     "metadata": {},
     "output_type": "display_data"
    },
    {
     "data": {
      "application/vnd.jupyter.widget-view+json": {
       "model_id": "52469d889c4c4234a7547cf103e93ba8",
       "version_major": 2,
       "version_minor": 0
      },
      "text/plain": [
       "network dynamic:   0%|          | 0/9999 [00:00<?, ?it/s]"
      ]
     },
     "metadata": {},
     "output_type": "display_data"
    },
    {
     "data": {
      "application/vnd.jupyter.widget-view+json": {
       "model_id": "d781fffe92804415a42fd51c6e8f9e36",
       "version_major": 2,
       "version_minor": 0
      },
      "text/plain": [
       "Variation of alpha:   0%|          | 0/1 [00:00<?, ?it/s]"
      ]
     },
     "metadata": {},
     "output_type": "display_data"
    },
    {
     "data": {
      "application/vnd.jupyter.widget-view+json": {
       "model_id": "9ae055f0ff994216914b285704c51e26",
       "version_major": 2,
       "version_minor": 0
      },
      "text/plain": [
       "Making ensembles:   0%|          | 0/1 [00:00<?, ?it/s]"
      ]
     },
     "metadata": {},
     "output_type": "display_data"
    },
    {
     "data": {
      "application/vnd.jupyter.widget-view+json": {
       "model_id": "6cfc74efa801493883673700d3042e44",
       "version_major": 2,
       "version_minor": 0
      },
      "text/plain": [
       "network dynamic:   0%|          | 0/9999 [00:00<?, ?it/s]"
      ]
     },
     "metadata": {},
     "output_type": "display_data"
    },
    {
     "data": {
      "application/vnd.jupyter.widget-view+json": {
       "model_id": "1d436dc3dfab40f08d8ca1d3342ddbff",
       "version_major": 2,
       "version_minor": 0
      },
      "text/plain": [
       "Variation of alpha:   0%|          | 0/1 [00:00<?, ?it/s]"
      ]
     },
     "metadata": {},
     "output_type": "display_data"
    },
    {
     "data": {
      "application/vnd.jupyter.widget-view+json": {
       "model_id": "292a9f40b19d4f92a1bcc333cceb7f64",
       "version_major": 2,
       "version_minor": 0
      },
      "text/plain": [
       "Making ensembles:   0%|          | 0/1 [00:00<?, ?it/s]"
      ]
     },
     "metadata": {},
     "output_type": "display_data"
    },
    {
     "data": {
      "application/vnd.jupyter.widget-view+json": {
       "model_id": "dbc7914834dc4662ae722e6b153e64d0",
       "version_major": 2,
       "version_minor": 0
      },
      "text/plain": [
       "network dynamic:   0%|          | 0/9999 [00:00<?, ?it/s]"
      ]
     },
     "metadata": {},
     "output_type": "display_data"
    },
    {
     "data": {
      "application/vnd.jupyter.widget-view+json": {
       "model_id": "e3bcf6219dd34128bfc38791178badf3",
       "version_major": 2,
       "version_minor": 0
      },
      "text/plain": [
       "Variation of alpha:   0%|          | 0/1 [00:00<?, ?it/s]"
      ]
     },
     "metadata": {},
     "output_type": "display_data"
    },
    {
     "data": {
      "application/vnd.jupyter.widget-view+json": {
       "model_id": "6cd90fdb67724aeab934bd85f63112ff",
       "version_major": 2,
       "version_minor": 0
      },
      "text/plain": [
       "Making ensembles:   0%|          | 0/1 [00:00<?, ?it/s]"
      ]
     },
     "metadata": {},
     "output_type": "display_data"
    },
    {
     "data": {
      "application/vnd.jupyter.widget-view+json": {
       "model_id": "b56b92753c46453eb89985dfeed69b3d",
       "version_major": 2,
       "version_minor": 0
      },
      "text/plain": [
       "network dynamic:   0%|          | 0/9999 [00:00<?, ?it/s]"
      ]
     },
     "metadata": {},
     "output_type": "display_data"
    }
   ],
   "source": [
    "for connectivity in tqdm( connectivity_span , desc='Variation of connectivities'):\n",
    "    group_folder_name = 'g_{}'.format(connectivity)\n",
    "    group_storage = make_inner_dir(current_size_networks_path, group_folder_name)\n",
    "    \n",
    "    for delay in tqdm( delay_span , desc='Variation of delay'):\n",
    "        d_subgroup_folder_name = 'd_{}'.format(delay)\n",
    "        d_subgroup_storage = make_inner_dir(group_storage, d_subgroup_folder_name)\n",
    "        \n",
    "        for alpha in tqdm( alpha_span , desc='Variation of alpha') :\n",
    "            alpha_subgroup_folder_name = 'alpha_{}'.format(alpha)\n",
    "            alpha_subgroup_storage = make_inner_dir(d_subgroup_storage, alpha_subgroup_folder_name)\n",
    "            last_index = last_ensemble_index_in_group(alpha_subgroup_storage)\n",
    "\n",
    "            for i in tqdm( range(num_ensembles_each_g) , desc='Making ensembles'):\n",
    "                sample_model = Network_of_neurons(num_neurons=num_neurons,\n",
    "                                                  g=connectivity, alpha = alpha)\n",
    "                sample_model.ignite(random_input_span, total_time = total_time,\n",
    "                                    time_step = 0.01, delay_time = delay)\n",
    "\n",
    "                current_ensemble_folder = make_inner_dir(alpha_subgroup_storage, str(last_index + i + 1) )\n",
    "\n",
    "                save_sigma(sample_model.report_sigma(), current_ensemble_folder)\n",
    "                save_field_period(*sample_model.report_e_period_fft(), current_ensemble_folder)\n",
    "                save_field_average(sample_model.e_arr, current_ensemble_folder)\n",
    "                \n",
    "                if neuron_model in current_models[1:]: save_amin_saman_param(sample_model.report_sync_parameter(), current_ensemble_folder)\n",
    "                save_mean_spiking_periods( sample_model.report_spikies_period_mean(), current_ensemble_folder )"
   ]
  },
  {
   "cell_type": "code",
   "execution_count": null,
   "metadata": {},
   "outputs": [],
   "source": []
  },
  {
   "cell_type": "code",
   "execution_count": 13,
   "metadata": {},
   "outputs": [
    {
     "name": "stderr",
     "output_type": "stream",
     "text": [
      "[TerminalIPythonApp] WARNING | Subcommand `ipython nbconvert` is deprecated and will be removed in future versions.\n",
      "[TerminalIPythonApp] WARNING | You likely want to use `jupyter nbconvert` in the future\n",
      "[NbConvertApp] Converting notebook any_neural_model_ensembles.ipynb to python\n",
      "[NbConvertApp] Writing 4189 bytes to any_neural_model_ensembles.py\n"
     ]
    }
   ],
   "source": [
    "!ipython nbconvert --to python any_neural_model_ensembles.ipynb"
   ]
  },
  {
   "cell_type": "code",
   "execution_count": null,
   "metadata": {},
   "outputs": [],
   "source": []
  }
 ],
 "metadata": {
  "kernelspec": {
   "display_name": "Python 3 (ipykernel)",
   "language": "python",
   "name": "python3"
  },
  "language_info": {
   "codemirror_mode": {
    "name": "ipython",
    "version": 3
   },
   "file_extension": ".py",
   "mimetype": "text/x-python",
   "name": "python",
   "nbconvert_exporter": "python",
   "pygments_lexer": "ipython3",
   "version": "3.9.7"
  }
 },
 "nbformat": 4,
 "nbformat_minor": 4
}
