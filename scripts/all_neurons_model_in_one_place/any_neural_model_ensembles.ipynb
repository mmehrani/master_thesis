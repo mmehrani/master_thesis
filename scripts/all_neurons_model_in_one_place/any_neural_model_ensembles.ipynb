{
 "cells": [
  {
   "cell_type": "markdown",
   "metadata": {},
   "source": [
    "# Neural networks simulation (Synchronization Problem)"
   ]
  },
  {
   "cell_type": "markdown",
   "metadata": {},
   "source": [
    "This file is going to study any neural netwrok class which is defined in the `<network_reference.py>` file."
   ]
  },
  {
   "cell_type": "code",
   "execution_count": 1,
   "metadata": {},
   "outputs": [],
   "source": [
    "import numpy as np\n",
    "from tqdm import tqdm\n",
    "import matplotlib.pyplot as plt\n",
    "import os"
   ]
  },
  {
   "cell_type": "code",
   "execution_count": 2,
   "metadata": {},
   "outputs": [],
   "source": [
    "%%capture\n",
    "from tqdm import tqdm_notebook as tqdm\n",
    "tqdm().pandas() #This line make sure that the progress bars looks natural"
   ]
  },
  {
   "cell_type": "markdown",
   "metadata": {},
   "source": [
    "## Order your neuron model of interest"
   ]
  },
  {
   "cell_type": "code",
   "execution_count": 3,
   "metadata": {},
   "outputs": [],
   "source": [
    "current_models = ['IF','Rotational','Non_repulsive_rotational']\n",
    "neuron_model = current_models[2]\n",
    "\n",
    "with open(\"network_reference.py\") as net_ref: \n",
    "    lines = net_ref.readlines() #read \n",
    " \n",
    "    #modify \n",
    "    lines[0] = \"neuron_engine = '{}'\\n\".format(neuron_model) #you can replace zero with any line number. \n",
    " \n",
    "with open(\"network_reference.py\", \"w\") as net_ref: \n",
    "    net_ref.writelines(lines) #write back "
   ]
  },
  {
   "cell_type": "code",
   "execution_count": 4,
   "metadata": {},
   "outputs": [],
   "source": [
    "from network_reference import Network_of_neurons"
   ]
  },
  {
   "cell_type": "markdown",
   "metadata": {},
   "source": [
    "## Parameters and constants"
   ]
  },
  {
   "cell_type": "code",
   "execution_count": 5,
   "metadata": {},
   "outputs": [],
   "source": [
    "num_neurons = 10000\n",
    "total_time = 100\n",
    "\n",
    "num_ensembles_each_g = 1"
   ]
  },
  {
   "cell_type": "code",
   "execution_count": 6,
   "metadata": {},
   "outputs": [],
   "source": [
    "# random_input_span = (9.5,13.5)\n",
    "random_input_span = (9.5,9.5)\n",
    "# random_input_span = (1.2,2.8)"
   ]
  },
  {
   "cell_type": "code",
   "execution_count": 7,
   "metadata": {},
   "outputs": [],
   "source": [
    "connectivity_min,connectivity_max, connectivity_step = 0,15.5, 0.5\n",
    "connectivity_span = np.arange(connectivity_min,connectivity_max,connectivity_step).round(2)"
   ]
  },
  {
   "cell_type": "code",
   "execution_count": 8,
   "metadata": {},
   "outputs": [],
   "source": [
    "delay_min, delay_max, delay_step =0.25, 2.5, 0.25\n",
    "delay_span = np.arange(delay_min, delay_max, delay_step).round(2)"
   ]
  },
  {
   "cell_type": "code",
   "execution_count": 9,
   "metadata": {},
   "outputs": [],
   "source": [
    "alpha_min, alpha_max, alpha_step = 20, 25, 40\n",
    "alpha_span = np.arange(alpha_min, alpha_max, alpha_step).round(2)"
   ]
  },
  {
   "cell_type": "code",
   "execution_count": null,
   "metadata": {},
   "outputs": [],
   "source": []
  },
  {
   "cell_type": "markdown",
   "metadata": {},
   "source": [
    "## Prepare the storage to record the outputs"
   ]
  },
  {
   "cell_type": "code",
   "execution_count": 10,
   "metadata": {},
   "outputs": [],
   "source": [
    "# version = '_v1.0' #all zero initial condition\n",
    "version = '_v2.0' #tiled uniformly on the phase space\n",
    "current_size_networks_path = os.path.join(neuron_model + '_ensembles','N{}_T{}_I{}_{}'.format(num_neurons,total_time,random_input_span[0],random_input_span[1]) + version )\n",
    "try:\n",
    "    os.makedirs(current_size_networks_path)\n",
    "except:\n",
    "    pass"
   ]
  },
  {
   "cell_type": "code",
   "execution_count": 11,
   "metadata": {},
   "outputs": [],
   "source": [
    "from storage_modifications import *"
   ]
  },
  {
   "cell_type": "markdown",
   "metadata": {},
   "source": [
    "## Creating various ensembles:"
   ]
  },
  {
   "cell_type": "code",
   "execution_count": 12,
   "metadata": {},
   "outputs": [
    {
     "name": "stderr",
     "output_type": "stream",
     "text": [
      "C:\\Users\\mohsen\\AppData\\Local\\Temp/ipykernel_15100/1212606915.py:1: TqdmDeprecationWarning: This function will be removed in tqdm==5.0.0\n",
      "Please use `tqdm.notebook.tqdm` instead of `tqdm.tqdm_notebook`\n",
      "  for connectivity in tqdm( connectivity_span , desc='Variation of connectivities'):\n"
     ]
    },
    {
     "data": {
      "application/vnd.jupyter.widget-view+json": {
       "model_id": "ab951e58497c4206892e090066d098e0",
       "version_major": 2,
       "version_minor": 0
      },
      "text/plain": [
       "Variation of connectivities:   0%|          | 0/31 [00:00<?, ?it/s]"
      ]
     },
     "metadata": {},
     "output_type": "display_data"
    },
    {
     "name": "stderr",
     "output_type": "stream",
     "text": [
      "C:\\Users\\mohsen\\AppData\\Local\\Temp/ipykernel_15100/1212606915.py:5: TqdmDeprecationWarning: This function will be removed in tqdm==5.0.0\n",
      "Please use `tqdm.notebook.tqdm` instead of `tqdm.tqdm_notebook`\n",
      "  for delay in tqdm( delay_span , desc='Variation of delay'):\n"
     ]
    },
    {
     "data": {
      "application/vnd.jupyter.widget-view+json": {
       "model_id": "860dc1bf57344fa0b20237063d751a94",
       "version_major": 2,
       "version_minor": 0
      },
      "text/plain": [
       "Variation of delay:   0%|          | 0/9 [00:00<?, ?it/s]"
      ]
     },
     "metadata": {},
     "output_type": "display_data"
    },
    {
     "name": "stderr",
     "output_type": "stream",
     "text": [
      "C:\\Users\\mohsen\\AppData\\Local\\Temp/ipykernel_15100/1212606915.py:9: TqdmDeprecationWarning: This function will be removed in tqdm==5.0.0\n",
      "Please use `tqdm.notebook.tqdm` instead of `tqdm.tqdm_notebook`\n",
      "  for alpha in tqdm( alpha_span , desc='Variation of alpha') :\n"
     ]
    },
    {
     "data": {
      "application/vnd.jupyter.widget-view+json": {
       "model_id": "c7705526b4304942af17b034150d1b34",
       "version_major": 2,
       "version_minor": 0
      },
      "text/plain": [
       "Variation of alpha:   0%|          | 0/1 [00:00<?, ?it/s]"
      ]
     },
     "metadata": {},
     "output_type": "display_data"
    },
    {
     "name": "stderr",
     "output_type": "stream",
     "text": [
      "C:\\Users\\mohsen\\AppData\\Local\\Temp/ipykernel_15100/1212606915.py:14: TqdmDeprecationWarning: This function will be removed in tqdm==5.0.0\n",
      "Please use `tqdm.notebook.tqdm` instead of `tqdm.tqdm_notebook`\n",
      "  for i in tqdm( range(num_ensembles_each_g) , desc='Making ensembles'):\n"
     ]
    },
    {
     "data": {
      "application/vnd.jupyter.widget-view+json": {
       "model_id": "1c204be59156426c9541a798f7aded33",
       "version_major": 2,
       "version_minor": 0
      },
      "text/plain": [
       "Making ensembles:   0%|          | 0/1 [00:00<?, ?it/s]"
      ]
     },
     "metadata": {},
     "output_type": "display_data"
    },
    {
     "data": {
      "application/vnd.jupyter.widget-view+json": {
       "model_id": "ee39f1c86ef645f690eac2ce0ecc8a00",
       "version_major": 2,
       "version_minor": 0
      },
      "text/plain": [
       "network dynamic:   0%|          | 0/9999 [00:00<?, ?it/s]"
      ]
     },
     "metadata": {},
     "output_type": "display_data"
    },
    {
     "data": {
      "application/vnd.jupyter.widget-view+json": {
       "model_id": "d562ad2e63274d4e95e87a077d577b2b",
       "version_major": 2,
       "version_minor": 0
      },
      "text/plain": [
       "Variation of alpha:   0%|          | 0/1 [00:00<?, ?it/s]"
      ]
     },
     "metadata": {},
     "output_type": "display_data"
    },
    {
     "data": {
      "application/vnd.jupyter.widget-view+json": {
       "model_id": "caadd59de71244b0a8dc0631ccab0c18",
       "version_major": 2,
       "version_minor": 0
      },
      "text/plain": [
       "Making ensembles:   0%|          | 0/1 [00:00<?, ?it/s]"
      ]
     },
     "metadata": {},
     "output_type": "display_data"
    },
    {
     "data": {
      "application/vnd.jupyter.widget-view+json": {
       "model_id": "82c89ebea66947cabf45002105819a60",
       "version_major": 2,
       "version_minor": 0
      },
      "text/plain": [
       "network dynamic:   0%|          | 0/9999 [00:00<?, ?it/s]"
      ]
     },
     "metadata": {},
     "output_type": "display_data"
    },
    {
     "data": {
      "application/vnd.jupyter.widget-view+json": {
       "model_id": "f2ca9853e6654777a003da64851e0eac",
       "version_major": 2,
       "version_minor": 0
      },
      "text/plain": [
       "Variation of alpha:   0%|          | 0/1 [00:00<?, ?it/s]"
      ]
     },
     "metadata": {},
     "output_type": "display_data"
    },
    {
     "data": {
      "application/vnd.jupyter.widget-view+json": {
       "model_id": "d47d0ac112ca49799f1aff1b989f51dc",
       "version_major": 2,
       "version_minor": 0
      },
      "text/plain": [
       "Making ensembles:   0%|          | 0/1 [00:00<?, ?it/s]"
      ]
     },
     "metadata": {},
     "output_type": "display_data"
    },
    {
     "data": {
      "application/vnd.jupyter.widget-view+json": {
       "model_id": "cb43b539b3c9456e88b4ee2190b02f04",
       "version_major": 2,
       "version_minor": 0
      },
      "text/plain": [
       "network dynamic:   0%|          | 0/9999 [00:00<?, ?it/s]"
      ]
     },
     "metadata": {},
     "output_type": "display_data"
    },
    {
     "data": {
      "application/vnd.jupyter.widget-view+json": {
       "model_id": "072236b6826342599498c2a9da101477",
       "version_major": 2,
       "version_minor": 0
      },
      "text/plain": [
       "Variation of alpha:   0%|          | 0/1 [00:00<?, ?it/s]"
      ]
     },
     "metadata": {},
     "output_type": "display_data"
    },
    {
     "data": {
      "application/vnd.jupyter.widget-view+json": {
       "model_id": "7a3d77a35f21441f86da327627917992",
       "version_major": 2,
       "version_minor": 0
      },
      "text/plain": [
       "Making ensembles:   0%|          | 0/1 [00:00<?, ?it/s]"
      ]
     },
     "metadata": {},
     "output_type": "display_data"
    },
    {
     "data": {
      "application/vnd.jupyter.widget-view+json": {
       "model_id": "401f38303bec48afb1b39dd94513ea6c",
       "version_major": 2,
       "version_minor": 0
      },
      "text/plain": [
       "network dynamic:   0%|          | 0/9999 [00:00<?, ?it/s]"
      ]
     },
     "metadata": {},
     "output_type": "display_data"
    },
    {
     "data": {
      "application/vnd.jupyter.widget-view+json": {
       "model_id": "527c26f8526241e39dfe34b7f153df57",
       "version_major": 2,
       "version_minor": 0
      },
      "text/plain": [
       "Variation of alpha:   0%|          | 0/1 [00:00<?, ?it/s]"
      ]
     },
     "metadata": {},
     "output_type": "display_data"
    },
    {
     "data": {
      "application/vnd.jupyter.widget-view+json": {
       "model_id": "be5cf08565084d3dbff95529e28a3f26",
       "version_major": 2,
       "version_minor": 0
      },
      "text/plain": [
       "Making ensembles:   0%|          | 0/1 [00:00<?, ?it/s]"
      ]
     },
     "metadata": {},
     "output_type": "display_data"
    },
    {
     "data": {
      "application/vnd.jupyter.widget-view+json": {
       "model_id": "5dc29be982644903bc31f3dfcbac0f5e",
       "version_major": 2,
       "version_minor": 0
      },
      "text/plain": [
       "network dynamic:   0%|          | 0/9999 [00:00<?, ?it/s]"
      ]
     },
     "metadata": {},
     "output_type": "display_data"
    },
    {
     "data": {
      "application/vnd.jupyter.widget-view+json": {
       "model_id": "ee350725a566438ebedde8f6e2088d56",
       "version_major": 2,
       "version_minor": 0
      },
      "text/plain": [
       "Variation of alpha:   0%|          | 0/1 [00:00<?, ?it/s]"
      ]
     },
     "metadata": {},
     "output_type": "display_data"
    },
    {
     "data": {
      "application/vnd.jupyter.widget-view+json": {
       "model_id": "f8a55f51873c432d90b2e0423577cc07",
       "version_major": 2,
       "version_minor": 0
      },
      "text/plain": [
       "Making ensembles:   0%|          | 0/1 [00:00<?, ?it/s]"
      ]
     },
     "metadata": {},
     "output_type": "display_data"
    },
    {
     "data": {
      "application/vnd.jupyter.widget-view+json": {
       "model_id": "2d31f4b7cd284e3fa4b783e11d9a62c9",
       "version_major": 2,
       "version_minor": 0
      },
      "text/plain": [
       "network dynamic:   0%|          | 0/9999 [00:00<?, ?it/s]"
      ]
     },
     "metadata": {},
     "output_type": "display_data"
    },
    {
     "data": {
      "application/vnd.jupyter.widget-view+json": {
       "model_id": "572cda150ff84b428ebb97fc0944545c",
       "version_major": 2,
       "version_minor": 0
      },
      "text/plain": [
       "Variation of alpha:   0%|          | 0/1 [00:00<?, ?it/s]"
      ]
     },
     "metadata": {},
     "output_type": "display_data"
    },
    {
     "data": {
      "application/vnd.jupyter.widget-view+json": {
       "model_id": "078665b62f124115a2a41fc2e70f5e0a",
       "version_major": 2,
       "version_minor": 0
      },
      "text/plain": [
       "Making ensembles:   0%|          | 0/1 [00:00<?, ?it/s]"
      ]
     },
     "metadata": {},
     "output_type": "display_data"
    },
    {
     "data": {
      "application/vnd.jupyter.widget-view+json": {
       "model_id": "3e195697859c468f86fcb9e2d74b6227",
       "version_major": 2,
       "version_minor": 0
      },
      "text/plain": [
       "network dynamic:   0%|          | 0/9999 [00:00<?, ?it/s]"
      ]
     },
     "metadata": {},
     "output_type": "display_data"
    },
    {
     "data": {
      "application/vnd.jupyter.widget-view+json": {
       "model_id": "c484ef6587f04ef981dfa9af03b1932f",
       "version_major": 2,
       "version_minor": 0
      },
      "text/plain": [
       "Variation of alpha:   0%|          | 0/1 [00:00<?, ?it/s]"
      ]
     },
     "metadata": {},
     "output_type": "display_data"
    },
    {
     "data": {
      "application/vnd.jupyter.widget-view+json": {
       "model_id": "de99b05780934a5cac46959bb4d4db76",
       "version_major": 2,
       "version_minor": 0
      },
      "text/plain": [
       "Making ensembles:   0%|          | 0/1 [00:00<?, ?it/s]"
      ]
     },
     "metadata": {},
     "output_type": "display_data"
    },
    {
     "data": {
      "application/vnd.jupyter.widget-view+json": {
       "model_id": "70f50b7892a8423fb7c4b619e4f30e82",
       "version_major": 2,
       "version_minor": 0
      },
      "text/plain": [
       "network dynamic:   0%|          | 0/9999 [00:00<?, ?it/s]"
      ]
     },
     "metadata": {},
     "output_type": "display_data"
    },
    {
     "data": {
      "application/vnd.jupyter.widget-view+json": {
       "model_id": "11f7800bcac14cdfaff04fc30773b636",
       "version_major": 2,
       "version_minor": 0
      },
      "text/plain": [
       "Variation of alpha:   0%|          | 0/1 [00:00<?, ?it/s]"
      ]
     },
     "metadata": {},
     "output_type": "display_data"
    },
    {
     "data": {
      "application/vnd.jupyter.widget-view+json": {
       "model_id": "9189fd09b51f4f48a2f98b41b63b0ed7",
       "version_major": 2,
       "version_minor": 0
      },
      "text/plain": [
       "Making ensembles:   0%|          | 0/1 [00:00<?, ?it/s]"
      ]
     },
     "metadata": {},
     "output_type": "display_data"
    },
    {
     "data": {
      "application/vnd.jupyter.widget-view+json": {
       "model_id": "6041fe1c86de4ac1a7936c1b25b5d9ca",
       "version_major": 2,
       "version_minor": 0
      },
      "text/plain": [
       "network dynamic:   0%|          | 0/9999 [00:00<?, ?it/s]"
      ]
     },
     "metadata": {},
     "output_type": "display_data"
    },
    {
     "data": {
      "application/vnd.jupyter.widget-view+json": {
       "model_id": "99518ebd93184a98874bcc76b064dbdc",
       "version_major": 2,
       "version_minor": 0
      },
      "text/plain": [
       "Variation of delay:   0%|          | 0/9 [00:00<?, ?it/s]"
      ]
     },
     "metadata": {},
     "output_type": "display_data"
    },
    {
     "data": {
      "application/vnd.jupyter.widget-view+json": {
       "model_id": "65c9688e04284ab2a160f76a49a47270",
       "version_major": 2,
       "version_minor": 0
      },
      "text/plain": [
       "Variation of alpha:   0%|          | 0/1 [00:00<?, ?it/s]"
      ]
     },
     "metadata": {},
     "output_type": "display_data"
    },
    {
     "data": {
      "application/vnd.jupyter.widget-view+json": {
       "model_id": "fa5ab5406c3a4cc0a850c9b474152a55",
       "version_major": 2,
       "version_minor": 0
      },
      "text/plain": [
       "Making ensembles:   0%|          | 0/1 [00:00<?, ?it/s]"
      ]
     },
     "metadata": {},
     "output_type": "display_data"
    },
    {
     "data": {
      "application/vnd.jupyter.widget-view+json": {
       "model_id": "d966336c90df4aa095193d2e25b150c1",
       "version_major": 2,
       "version_minor": 0
      },
      "text/plain": [
       "network dynamic:   0%|          | 0/9999 [00:00<?, ?it/s]"
      ]
     },
     "metadata": {},
     "output_type": "display_data"
    },
    {
     "data": {
      "application/vnd.jupyter.widget-view+json": {
       "model_id": "c1582380840f422c9b5ba334a5e6b4d5",
       "version_major": 2,
       "version_minor": 0
      },
      "text/plain": [
       "Variation of alpha:   0%|          | 0/1 [00:00<?, ?it/s]"
      ]
     },
     "metadata": {},
     "output_type": "display_data"
    },
    {
     "data": {
      "application/vnd.jupyter.widget-view+json": {
       "model_id": "8de49a5b91514224b2d242ef762f987c",
       "version_major": 2,
       "version_minor": 0
      },
      "text/plain": [
       "Making ensembles:   0%|          | 0/1 [00:00<?, ?it/s]"
      ]
     },
     "metadata": {},
     "output_type": "display_data"
    },
    {
     "data": {
      "application/vnd.jupyter.widget-view+json": {
       "model_id": "676d834ce01d4ee0a726be04c953edf9",
       "version_major": 2,
       "version_minor": 0
      },
      "text/plain": [
       "network dynamic:   0%|          | 0/9999 [00:00<?, ?it/s]"
      ]
     },
     "metadata": {},
     "output_type": "display_data"
    },
    {
     "data": {
      "application/vnd.jupyter.widget-view+json": {
       "model_id": "9cc90fd81a7d475ca17ef0462e7c68d2",
       "version_major": 2,
       "version_minor": 0
      },
      "text/plain": [
       "Variation of alpha:   0%|          | 0/1 [00:00<?, ?it/s]"
      ]
     },
     "metadata": {},
     "output_type": "display_data"
    },
    {
     "data": {
      "application/vnd.jupyter.widget-view+json": {
       "model_id": "4aef2886488c407b93e094e9af91350f",
       "version_major": 2,
       "version_minor": 0
      },
      "text/plain": [
       "Making ensembles:   0%|          | 0/1 [00:00<?, ?it/s]"
      ]
     },
     "metadata": {},
     "output_type": "display_data"
    },
    {
     "data": {
      "application/vnd.jupyter.widget-view+json": {
       "model_id": "e5fde1d9435b443e93b708b26c72ea99",
       "version_major": 2,
       "version_minor": 0
      },
      "text/plain": [
       "network dynamic:   0%|          | 0/9999 [00:00<?, ?it/s]"
      ]
     },
     "metadata": {},
     "output_type": "display_data"
    },
    {
     "data": {
      "application/vnd.jupyter.widget-view+json": {
       "model_id": "195c76f851844edbb4c0c767c8235e2c",
       "version_major": 2,
       "version_minor": 0
      },
      "text/plain": [
       "Variation of alpha:   0%|          | 0/1 [00:00<?, ?it/s]"
      ]
     },
     "metadata": {},
     "output_type": "display_data"
    },
    {
     "data": {
      "application/vnd.jupyter.widget-view+json": {
       "model_id": "0c2738b59701466e9dc25e47954c0e29",
       "version_major": 2,
       "version_minor": 0
      },
      "text/plain": [
       "Making ensembles:   0%|          | 0/1 [00:00<?, ?it/s]"
      ]
     },
     "metadata": {},
     "output_type": "display_data"
    },
    {
     "data": {
      "application/vnd.jupyter.widget-view+json": {
       "model_id": "04b8f903e3b84ffe849c6fc759f3fdc3",
       "version_major": 2,
       "version_minor": 0
      },
      "text/plain": [
       "network dynamic:   0%|          | 0/9999 [00:00<?, ?it/s]"
      ]
     },
     "metadata": {},
     "output_type": "display_data"
    },
    {
     "data": {
      "application/vnd.jupyter.widget-view+json": {
       "model_id": "bc99eadc2f6d41e2b5aacba8cf203166",
       "version_major": 2,
       "version_minor": 0
      },
      "text/plain": [
       "Variation of alpha:   0%|          | 0/1 [00:00<?, ?it/s]"
      ]
     },
     "metadata": {},
     "output_type": "display_data"
    },
    {
     "data": {
      "application/vnd.jupyter.widget-view+json": {
       "model_id": "bce136b421ec4c1aa7436f4643e71bcf",
       "version_major": 2,
       "version_minor": 0
      },
      "text/plain": [
       "Making ensembles:   0%|          | 0/1 [00:00<?, ?it/s]"
      ]
     },
     "metadata": {},
     "output_type": "display_data"
    },
    {
     "data": {
      "application/vnd.jupyter.widget-view+json": {
       "model_id": "a407892b2970426ebf1ff9bf1ec975c3",
       "version_major": 2,
       "version_minor": 0
      },
      "text/plain": [
       "network dynamic:   0%|          | 0/9999 [00:00<?, ?it/s]"
      ]
     },
     "metadata": {},
     "output_type": "display_data"
    },
    {
     "data": {
      "application/vnd.jupyter.widget-view+json": {
       "model_id": "8a7bf409e0d24033ba5530dcf416fd58",
       "version_major": 2,
       "version_minor": 0
      },
      "text/plain": [
       "Variation of alpha:   0%|          | 0/1 [00:00<?, ?it/s]"
      ]
     },
     "metadata": {},
     "output_type": "display_data"
    },
    {
     "data": {
      "application/vnd.jupyter.widget-view+json": {
       "model_id": "a330458e80df4f858919eee7fb15005c",
       "version_major": 2,
       "version_minor": 0
      },
      "text/plain": [
       "Making ensembles:   0%|          | 0/1 [00:00<?, ?it/s]"
      ]
     },
     "metadata": {},
     "output_type": "display_data"
    },
    {
     "data": {
      "application/vnd.jupyter.widget-view+json": {
       "model_id": "6758bb4d48844447a776b9a62a33f425",
       "version_major": 2,
       "version_minor": 0
      },
      "text/plain": [
       "network dynamic:   0%|          | 0/9999 [00:00<?, ?it/s]"
      ]
     },
     "metadata": {},
     "output_type": "display_data"
    },
    {
     "data": {
      "application/vnd.jupyter.widget-view+json": {
       "model_id": "a8491ded5da8401a9dba9b2cc0024c83",
       "version_major": 2,
       "version_minor": 0
      },
      "text/plain": [
       "Variation of alpha:   0%|          | 0/1 [00:00<?, ?it/s]"
      ]
     },
     "metadata": {},
     "output_type": "display_data"
    },
    {
     "data": {
      "application/vnd.jupyter.widget-view+json": {
       "model_id": "900f4b558bb940e385ed8513a400a983",
       "version_major": 2,
       "version_minor": 0
      },
      "text/plain": [
       "Making ensembles:   0%|          | 0/1 [00:00<?, ?it/s]"
      ]
     },
     "metadata": {},
     "output_type": "display_data"
    },
    {
     "data": {
      "application/vnd.jupyter.widget-view+json": {
       "model_id": "6c88c66170eb4f86b3e2d04a06d8ee10",
       "version_major": 2,
       "version_minor": 0
      },
      "text/plain": [
       "network dynamic:   0%|          | 0/9999 [00:00<?, ?it/s]"
      ]
     },
     "metadata": {},
     "output_type": "display_data"
    },
    {
     "data": {
      "application/vnd.jupyter.widget-view+json": {
       "model_id": "70906e36779c453697ad1d0aaf25468b",
       "version_major": 2,
       "version_minor": 0
      },
      "text/plain": [
       "Variation of alpha:   0%|          | 0/1 [00:00<?, ?it/s]"
      ]
     },
     "metadata": {},
     "output_type": "display_data"
    },
    {
     "data": {
      "application/vnd.jupyter.widget-view+json": {
       "model_id": "daba94aefe424269a3a1a5fd66153165",
       "version_major": 2,
       "version_minor": 0
      },
      "text/plain": [
       "Making ensembles:   0%|          | 0/1 [00:00<?, ?it/s]"
      ]
     },
     "metadata": {},
     "output_type": "display_data"
    },
    {
     "data": {
      "application/vnd.jupyter.widget-view+json": {
       "model_id": "20e21a2577b743f3b9bf828f91695ebf",
       "version_major": 2,
       "version_minor": 0
      },
      "text/plain": [
       "network dynamic:   0%|          | 0/9999 [00:00<?, ?it/s]"
      ]
     },
     "metadata": {},
     "output_type": "display_data"
    },
    {
     "data": {
      "application/vnd.jupyter.widget-view+json": {
       "model_id": "ed6086d7ccfe4b808dda4439d21760d3",
       "version_major": 2,
       "version_minor": 0
      },
      "text/plain": [
       "Variation of alpha:   0%|          | 0/1 [00:00<?, ?it/s]"
      ]
     },
     "metadata": {},
     "output_type": "display_data"
    },
    {
     "data": {
      "application/vnd.jupyter.widget-view+json": {
       "model_id": "70f4273f6c2641c7963d9a9f24c7d2dc",
       "version_major": 2,
       "version_minor": 0
      },
      "text/plain": [
       "Making ensembles:   0%|          | 0/1 [00:00<?, ?it/s]"
      ]
     },
     "metadata": {},
     "output_type": "display_data"
    },
    {
     "data": {
      "application/vnd.jupyter.widget-view+json": {
       "model_id": "214fd511f2084a8f86062acc361bd9c2",
       "version_major": 2,
       "version_minor": 0
      },
      "text/plain": [
       "network dynamic:   0%|          | 0/9999 [00:00<?, ?it/s]"
      ]
     },
     "metadata": {},
     "output_type": "display_data"
    },
    {
     "data": {
      "application/vnd.jupyter.widget-view+json": {
       "model_id": "749d319520ad45c8a1132665af0fb169",
       "version_major": 2,
       "version_minor": 0
      },
      "text/plain": [
       "Variation of delay:   0%|          | 0/9 [00:00<?, ?it/s]"
      ]
     },
     "metadata": {},
     "output_type": "display_data"
    },
    {
     "data": {
      "application/vnd.jupyter.widget-view+json": {
       "model_id": "c15afef17d6e47de9d5c67994e642e5e",
       "version_major": 2,
       "version_minor": 0
      },
      "text/plain": [
       "Variation of alpha:   0%|          | 0/1 [00:00<?, ?it/s]"
      ]
     },
     "metadata": {},
     "output_type": "display_data"
    },
    {
     "data": {
      "application/vnd.jupyter.widget-view+json": {
       "model_id": "c096cc5da1f94233847065a78ebfe07b",
       "version_major": 2,
       "version_minor": 0
      },
      "text/plain": [
       "Making ensembles:   0%|          | 0/1 [00:00<?, ?it/s]"
      ]
     },
     "metadata": {},
     "output_type": "display_data"
    },
    {
     "data": {
      "application/vnd.jupyter.widget-view+json": {
       "model_id": "81b8211c6a8846cea5e0cafe46083e39",
       "version_major": 2,
       "version_minor": 0
      },
      "text/plain": [
       "network dynamic:   0%|          | 0/9999 [00:00<?, ?it/s]"
      ]
     },
     "metadata": {},
     "output_type": "display_data"
    },
    {
     "data": {
      "application/vnd.jupyter.widget-view+json": {
       "model_id": "8ab8ff48974347d1b4b853f4b61edcd7",
       "version_major": 2,
       "version_minor": 0
      },
      "text/plain": [
       "Variation of alpha:   0%|          | 0/1 [00:00<?, ?it/s]"
      ]
     },
     "metadata": {},
     "output_type": "display_data"
    },
    {
     "data": {
      "application/vnd.jupyter.widget-view+json": {
       "model_id": "cab0b8626b0e4247b18348a0b831d47c",
       "version_major": 2,
       "version_minor": 0
      },
      "text/plain": [
       "Making ensembles:   0%|          | 0/1 [00:00<?, ?it/s]"
      ]
     },
     "metadata": {},
     "output_type": "display_data"
    },
    {
     "data": {
      "application/vnd.jupyter.widget-view+json": {
       "model_id": "38e2390ccba041e587f0cd461005fce8",
       "version_major": 2,
       "version_minor": 0
      },
      "text/plain": [
       "network dynamic:   0%|          | 0/9999 [00:00<?, ?it/s]"
      ]
     },
     "metadata": {},
     "output_type": "display_data"
    },
    {
     "data": {
      "application/vnd.jupyter.widget-view+json": {
       "model_id": "baed95fb9a954498a7e4956a4132bebf",
       "version_major": 2,
       "version_minor": 0
      },
      "text/plain": [
       "Variation of alpha:   0%|          | 0/1 [00:00<?, ?it/s]"
      ]
     },
     "metadata": {},
     "output_type": "display_data"
    },
    {
     "data": {
      "application/vnd.jupyter.widget-view+json": {
       "model_id": "32195d6d9ec0426b972a6b00187c49f1",
       "version_major": 2,
       "version_minor": 0
      },
      "text/plain": [
       "Making ensembles:   0%|          | 0/1 [00:00<?, ?it/s]"
      ]
     },
     "metadata": {},
     "output_type": "display_data"
    },
    {
     "data": {
      "application/vnd.jupyter.widget-view+json": {
       "model_id": "abdbbacef387423baa1df1ad2380a5a3",
       "version_major": 2,
       "version_minor": 0
      },
      "text/plain": [
       "network dynamic:   0%|          | 0/9999 [00:00<?, ?it/s]"
      ]
     },
     "metadata": {},
     "output_type": "display_data"
    },
    {
     "data": {
      "application/vnd.jupyter.widget-view+json": {
       "model_id": "1492e4291d0549ec984a9dab9a296ff5",
       "version_major": 2,
       "version_minor": 0
      },
      "text/plain": [
       "Variation of alpha:   0%|          | 0/1 [00:00<?, ?it/s]"
      ]
     },
     "metadata": {},
     "output_type": "display_data"
    },
    {
     "data": {
      "application/vnd.jupyter.widget-view+json": {
       "model_id": "ab7ba6bd8c5c4ebdad8744daafff21f4",
       "version_major": 2,
       "version_minor": 0
      },
      "text/plain": [
       "Making ensembles:   0%|          | 0/1 [00:00<?, ?it/s]"
      ]
     },
     "metadata": {},
     "output_type": "display_data"
    },
    {
     "data": {
      "application/vnd.jupyter.widget-view+json": {
       "model_id": "a5de4e91e12f49c0b2998e7fd96aa8df",
       "version_major": 2,
       "version_minor": 0
      },
      "text/plain": [
       "network dynamic:   0%|          | 0/9999 [00:00<?, ?it/s]"
      ]
     },
     "metadata": {},
     "output_type": "display_data"
    },
    {
     "data": {
      "application/vnd.jupyter.widget-view+json": {
       "model_id": "32c8d3893a7d44aebf145f64f9945d99",
       "version_major": 2,
       "version_minor": 0
      },
      "text/plain": [
       "Variation of alpha:   0%|          | 0/1 [00:00<?, ?it/s]"
      ]
     },
     "metadata": {},
     "output_type": "display_data"
    },
    {
     "data": {
      "application/vnd.jupyter.widget-view+json": {
       "model_id": "c06e480766964c1f9e5788d02375c048",
       "version_major": 2,
       "version_minor": 0
      },
      "text/plain": [
       "Making ensembles:   0%|          | 0/1 [00:00<?, ?it/s]"
      ]
     },
     "metadata": {},
     "output_type": "display_data"
    },
    {
     "data": {
      "application/vnd.jupyter.widget-view+json": {
       "model_id": "4c085aba4c984b68a39283c3bfbb757a",
       "version_major": 2,
       "version_minor": 0
      },
      "text/plain": [
       "network dynamic:   0%|          | 0/9999 [00:00<?, ?it/s]"
      ]
     },
     "metadata": {},
     "output_type": "display_data"
    },
    {
     "data": {
      "application/vnd.jupyter.widget-view+json": {
       "model_id": "8b01e4698ce84c32848be10f722378ff",
       "version_major": 2,
       "version_minor": 0
      },
      "text/plain": [
       "Variation of alpha:   0%|          | 0/1 [00:00<?, ?it/s]"
      ]
     },
     "metadata": {},
     "output_type": "display_data"
    },
    {
     "data": {
      "application/vnd.jupyter.widget-view+json": {
       "model_id": "8ac5a2174cab4d3cbc422997ea4aebb6",
       "version_major": 2,
       "version_minor": 0
      },
      "text/plain": [
       "Making ensembles:   0%|          | 0/1 [00:00<?, ?it/s]"
      ]
     },
     "metadata": {},
     "output_type": "display_data"
    },
    {
     "data": {
      "application/vnd.jupyter.widget-view+json": {
       "model_id": "20ea83f98eea4cc58fe4eeace4b27830",
       "version_major": 2,
       "version_minor": 0
      },
      "text/plain": [
       "network dynamic:   0%|          | 0/9999 [00:00<?, ?it/s]"
      ]
     },
     "metadata": {},
     "output_type": "display_data"
    },
    {
     "data": {
      "application/vnd.jupyter.widget-view+json": {
       "model_id": "ac13fadbef9542ada698a2011f7de3b0",
       "version_major": 2,
       "version_minor": 0
      },
      "text/plain": [
       "Variation of alpha:   0%|          | 0/1 [00:00<?, ?it/s]"
      ]
     },
     "metadata": {},
     "output_type": "display_data"
    },
    {
     "data": {
      "application/vnd.jupyter.widget-view+json": {
       "model_id": "67a757f7b9374cb5ab5d5595a18ef2b8",
       "version_major": 2,
       "version_minor": 0
      },
      "text/plain": [
       "Making ensembles:   0%|          | 0/1 [00:00<?, ?it/s]"
      ]
     },
     "metadata": {},
     "output_type": "display_data"
    },
    {
     "data": {
      "application/vnd.jupyter.widget-view+json": {
       "model_id": "7551805eb8ed4eee859794402c289f5c",
       "version_major": 2,
       "version_minor": 0
      },
      "text/plain": [
       "network dynamic:   0%|          | 0/9999 [00:00<?, ?it/s]"
      ]
     },
     "metadata": {},
     "output_type": "display_data"
    },
    {
     "data": {
      "application/vnd.jupyter.widget-view+json": {
       "model_id": "da0f99699ee54717a71ffaeaa86242b2",
       "version_major": 2,
       "version_minor": 0
      },
      "text/plain": [
       "Variation of alpha:   0%|          | 0/1 [00:00<?, ?it/s]"
      ]
     },
     "metadata": {},
     "output_type": "display_data"
    },
    {
     "data": {
      "application/vnd.jupyter.widget-view+json": {
       "model_id": "06cb1c74811d40e3b7ecdea0fe2972b6",
       "version_major": 2,
       "version_minor": 0
      },
      "text/plain": [
       "Making ensembles:   0%|          | 0/1 [00:00<?, ?it/s]"
      ]
     },
     "metadata": {},
     "output_type": "display_data"
    },
    {
     "data": {
      "application/vnd.jupyter.widget-view+json": {
       "model_id": "0a4c1936e96c4189a7ef00fa7ac0470a",
       "version_major": 2,
       "version_minor": 0
      },
      "text/plain": [
       "network dynamic:   0%|          | 0/9999 [00:00<?, ?it/s]"
      ]
     },
     "metadata": {},
     "output_type": "display_data"
    },
    {
     "data": {
      "application/vnd.jupyter.widget-view+json": {
       "model_id": "550c1434a7584759ac94027764160d39",
       "version_major": 2,
       "version_minor": 0
      },
      "text/plain": [
       "Variation of alpha:   0%|          | 0/1 [00:00<?, ?it/s]"
      ]
     },
     "metadata": {},
     "output_type": "display_data"
    },
    {
     "data": {
      "application/vnd.jupyter.widget-view+json": {
       "model_id": "b1fff0c9454e45a6a54db505cefbaea1",
       "version_major": 2,
       "version_minor": 0
      },
      "text/plain": [
       "Making ensembles:   0%|          | 0/1 [00:00<?, ?it/s]"
      ]
     },
     "metadata": {},
     "output_type": "display_data"
    },
    {
     "data": {
      "application/vnd.jupyter.widget-view+json": {
       "model_id": "38d5c5d1dbac4897b066f69ea6c7d6af",
       "version_major": 2,
       "version_minor": 0
      },
      "text/plain": [
       "network dynamic:   0%|          | 0/9999 [00:00<?, ?it/s]"
      ]
     },
     "metadata": {},
     "output_type": "display_data"
    },
    {
     "data": {
      "application/vnd.jupyter.widget-view+json": {
       "model_id": "1759f382e0d944938325b2ece8581b65",
       "version_major": 2,
       "version_minor": 0
      },
      "text/plain": [
       "Variation of delay:   0%|          | 0/9 [00:00<?, ?it/s]"
      ]
     },
     "metadata": {},
     "output_type": "display_data"
    },
    {
     "data": {
      "application/vnd.jupyter.widget-view+json": {
       "model_id": "ee92b611fd09462195e5e4c82ec6596c",
       "version_major": 2,
       "version_minor": 0
      },
      "text/plain": [
       "Variation of alpha:   0%|          | 0/1 [00:00<?, ?it/s]"
      ]
     },
     "metadata": {},
     "output_type": "display_data"
    },
    {
     "data": {
      "application/vnd.jupyter.widget-view+json": {
       "model_id": "b8c171ee50264903b85f3f60412be370",
       "version_major": 2,
       "version_minor": 0
      },
      "text/plain": [
       "Making ensembles:   0%|          | 0/1 [00:00<?, ?it/s]"
      ]
     },
     "metadata": {},
     "output_type": "display_data"
    },
    {
     "data": {
      "application/vnd.jupyter.widget-view+json": {
       "model_id": "10de5b704e5745038a1ce66d293d48f3",
       "version_major": 2,
       "version_minor": 0
      },
      "text/plain": [
       "network dynamic:   0%|          | 0/9999 [00:00<?, ?it/s]"
      ]
     },
     "metadata": {},
     "output_type": "display_data"
    },
    {
     "data": {
      "application/vnd.jupyter.widget-view+json": {
       "model_id": "1e621137a0bf46cba09ae763a4f6e86b",
       "version_major": 2,
       "version_minor": 0
      },
      "text/plain": [
       "Variation of alpha:   0%|          | 0/1 [00:00<?, ?it/s]"
      ]
     },
     "metadata": {},
     "output_type": "display_data"
    },
    {
     "data": {
      "application/vnd.jupyter.widget-view+json": {
       "model_id": "2434877131f440b4a256838fafe194e9",
       "version_major": 2,
       "version_minor": 0
      },
      "text/plain": [
       "Making ensembles:   0%|          | 0/1 [00:00<?, ?it/s]"
      ]
     },
     "metadata": {},
     "output_type": "display_data"
    },
    {
     "data": {
      "application/vnd.jupyter.widget-view+json": {
       "model_id": "d982e1bc5a414e85a3ed93b12bf03a69",
       "version_major": 2,
       "version_minor": 0
      },
      "text/plain": [
       "network dynamic:   0%|          | 0/9999 [00:00<?, ?it/s]"
      ]
     },
     "metadata": {},
     "output_type": "display_data"
    },
    {
     "data": {
      "application/vnd.jupyter.widget-view+json": {
       "model_id": "804812bba2a945e18869ea184663c7a5",
       "version_major": 2,
       "version_minor": 0
      },
      "text/plain": [
       "Variation of alpha:   0%|          | 0/1 [00:00<?, ?it/s]"
      ]
     },
     "metadata": {},
     "output_type": "display_data"
    },
    {
     "data": {
      "application/vnd.jupyter.widget-view+json": {
       "model_id": "4b5b7766973e405b85584d5f627cd940",
       "version_major": 2,
       "version_minor": 0
      },
      "text/plain": [
       "Making ensembles:   0%|          | 0/1 [00:00<?, ?it/s]"
      ]
     },
     "metadata": {},
     "output_type": "display_data"
    },
    {
     "data": {
      "application/vnd.jupyter.widget-view+json": {
       "model_id": "d368162542004007960dc34300528cea",
       "version_major": 2,
       "version_minor": 0
      },
      "text/plain": [
       "network dynamic:   0%|          | 0/9999 [00:00<?, ?it/s]"
      ]
     },
     "metadata": {},
     "output_type": "display_data"
    },
    {
     "data": {
      "application/vnd.jupyter.widget-view+json": {
       "model_id": "300b8b4db459454ba76e55f88b56fe5d",
       "version_major": 2,
       "version_minor": 0
      },
      "text/plain": [
       "Variation of alpha:   0%|          | 0/1 [00:00<?, ?it/s]"
      ]
     },
     "metadata": {},
     "output_type": "display_data"
    },
    {
     "data": {
      "application/vnd.jupyter.widget-view+json": {
       "model_id": "f79df9d0dde44f9eb028f09a08f7424f",
       "version_major": 2,
       "version_minor": 0
      },
      "text/plain": [
       "Making ensembles:   0%|          | 0/1 [00:00<?, ?it/s]"
      ]
     },
     "metadata": {},
     "output_type": "display_data"
    },
    {
     "data": {
      "application/vnd.jupyter.widget-view+json": {
       "model_id": "327bcff9cff4406fa0bb38d5a7529d75",
       "version_major": 2,
       "version_minor": 0
      },
      "text/plain": [
       "network dynamic:   0%|          | 0/9999 [00:00<?, ?it/s]"
      ]
     },
     "metadata": {},
     "output_type": "display_data"
    },
    {
     "data": {
      "application/vnd.jupyter.widget-view+json": {
       "model_id": "28a907bea02f452782f2327e48d9384e",
       "version_major": 2,
       "version_minor": 0
      },
      "text/plain": [
       "Variation of alpha:   0%|          | 0/1 [00:00<?, ?it/s]"
      ]
     },
     "metadata": {},
     "output_type": "display_data"
    },
    {
     "data": {
      "application/vnd.jupyter.widget-view+json": {
       "model_id": "355d7e2bcbec41bc978fc04da6cd7263",
       "version_major": 2,
       "version_minor": 0
      },
      "text/plain": [
       "Making ensembles:   0%|          | 0/1 [00:00<?, ?it/s]"
      ]
     },
     "metadata": {},
     "output_type": "display_data"
    },
    {
     "data": {
      "application/vnd.jupyter.widget-view+json": {
       "model_id": "bd9af2c6dbef4303ac577f4f148d1965",
       "version_major": 2,
       "version_minor": 0
      },
      "text/plain": [
       "network dynamic:   0%|          | 0/9999 [00:00<?, ?it/s]"
      ]
     },
     "metadata": {},
     "output_type": "display_data"
    },
    {
     "data": {
      "application/vnd.jupyter.widget-view+json": {
       "model_id": "8c1e132bd96e4da583bb575192cacd5e",
       "version_major": 2,
       "version_minor": 0
      },
      "text/plain": [
       "Variation of alpha:   0%|          | 0/1 [00:00<?, ?it/s]"
      ]
     },
     "metadata": {},
     "output_type": "display_data"
    },
    {
     "data": {
      "application/vnd.jupyter.widget-view+json": {
       "model_id": "17c5a5a5a47640e08326998e65c1bc8d",
       "version_major": 2,
       "version_minor": 0
      },
      "text/plain": [
       "Making ensembles:   0%|          | 0/1 [00:00<?, ?it/s]"
      ]
     },
     "metadata": {},
     "output_type": "display_data"
    },
    {
     "data": {
      "application/vnd.jupyter.widget-view+json": {
       "model_id": "dedf7807294f4b2ca8f78fe69fa09d43",
       "version_major": 2,
       "version_minor": 0
      },
      "text/plain": [
       "network dynamic:   0%|          | 0/9999 [00:00<?, ?it/s]"
      ]
     },
     "metadata": {},
     "output_type": "display_data"
    },
    {
     "data": {
      "application/vnd.jupyter.widget-view+json": {
       "model_id": "5914e23fb4ba496ba084ba30f05102fb",
       "version_major": 2,
       "version_minor": 0
      },
      "text/plain": [
       "Variation of alpha:   0%|          | 0/1 [00:00<?, ?it/s]"
      ]
     },
     "metadata": {},
     "output_type": "display_data"
    },
    {
     "data": {
      "application/vnd.jupyter.widget-view+json": {
       "model_id": "ea2c8e39746f403e9577f2c583ce365c",
       "version_major": 2,
       "version_minor": 0
      },
      "text/plain": [
       "Making ensembles:   0%|          | 0/1 [00:00<?, ?it/s]"
      ]
     },
     "metadata": {},
     "output_type": "display_data"
    },
    {
     "data": {
      "application/vnd.jupyter.widget-view+json": {
       "model_id": "cb203f0835be44fd895f87eb3d40de7c",
       "version_major": 2,
       "version_minor": 0
      },
      "text/plain": [
       "network dynamic:   0%|          | 0/9999 [00:00<?, ?it/s]"
      ]
     },
     "metadata": {},
     "output_type": "display_data"
    },
    {
     "data": {
      "application/vnd.jupyter.widget-view+json": {
       "model_id": "27629c58994546a38d200902c6956407",
       "version_major": 2,
       "version_minor": 0
      },
      "text/plain": [
       "Variation of alpha:   0%|          | 0/1 [00:00<?, ?it/s]"
      ]
     },
     "metadata": {},
     "output_type": "display_data"
    },
    {
     "data": {
      "application/vnd.jupyter.widget-view+json": {
       "model_id": "d99fdafc4d9b41bb866979fd80026f57",
       "version_major": 2,
       "version_minor": 0
      },
      "text/plain": [
       "Making ensembles:   0%|          | 0/1 [00:00<?, ?it/s]"
      ]
     },
     "metadata": {},
     "output_type": "display_data"
    },
    {
     "data": {
      "application/vnd.jupyter.widget-view+json": {
       "model_id": "2102517ffbd84c2d8f1ae93e221b5ea8",
       "version_major": 2,
       "version_minor": 0
      },
      "text/plain": [
       "network dynamic:   0%|          | 0/9999 [00:00<?, ?it/s]"
      ]
     },
     "metadata": {},
     "output_type": "display_data"
    },
    {
     "data": {
      "application/vnd.jupyter.widget-view+json": {
       "model_id": "1059dac2c3da454c9ebd94cd16984a79",
       "version_major": 2,
       "version_minor": 0
      },
      "text/plain": [
       "Variation of alpha:   0%|          | 0/1 [00:00<?, ?it/s]"
      ]
     },
     "metadata": {},
     "output_type": "display_data"
    },
    {
     "data": {
      "application/vnd.jupyter.widget-view+json": {
       "model_id": "9ee0526000384f689fa23aed4750dbf9",
       "version_major": 2,
       "version_minor": 0
      },
      "text/plain": [
       "Making ensembles:   0%|          | 0/1 [00:00<?, ?it/s]"
      ]
     },
     "metadata": {},
     "output_type": "display_data"
    },
    {
     "data": {
      "application/vnd.jupyter.widget-view+json": {
       "model_id": "dd72bdf576844e4d85d6aff9d5e281af",
       "version_major": 2,
       "version_minor": 0
      },
      "text/plain": [
       "network dynamic:   0%|          | 0/9999 [00:00<?, ?it/s]"
      ]
     },
     "metadata": {},
     "output_type": "display_data"
    },
    {
     "data": {
      "application/vnd.jupyter.widget-view+json": {
       "model_id": "3fd823bf0e5145e89602374a6fa1122f",
       "version_major": 2,
       "version_minor": 0
      },
      "text/plain": [
       "Variation of delay:   0%|          | 0/9 [00:00<?, ?it/s]"
      ]
     },
     "metadata": {},
     "output_type": "display_data"
    },
    {
     "data": {
      "application/vnd.jupyter.widget-view+json": {
       "model_id": "5898a332e6184f50a14d5ee066f23f83",
       "version_major": 2,
       "version_minor": 0
      },
      "text/plain": [
       "Variation of alpha:   0%|          | 0/1 [00:00<?, ?it/s]"
      ]
     },
     "metadata": {},
     "output_type": "display_data"
    },
    {
     "data": {
      "application/vnd.jupyter.widget-view+json": {
       "model_id": "1ad71dd31e7b41c8a16167d928fe22e6",
       "version_major": 2,
       "version_minor": 0
      },
      "text/plain": [
       "Making ensembles:   0%|          | 0/1 [00:00<?, ?it/s]"
      ]
     },
     "metadata": {},
     "output_type": "display_data"
    },
    {
     "data": {
      "application/vnd.jupyter.widget-view+json": {
       "model_id": "ce9cd490bef540d7b0a2f52dee3d0c7d",
       "version_major": 2,
       "version_minor": 0
      },
      "text/plain": [
       "network dynamic:   0%|          | 0/9999 [00:00<?, ?it/s]"
      ]
     },
     "metadata": {},
     "output_type": "display_data"
    },
    {
     "data": {
      "application/vnd.jupyter.widget-view+json": {
       "model_id": "414b00cc4cf8452d85b1aeabbb830201",
       "version_major": 2,
       "version_minor": 0
      },
      "text/plain": [
       "Variation of alpha:   0%|          | 0/1 [00:00<?, ?it/s]"
      ]
     },
     "metadata": {},
     "output_type": "display_data"
    },
    {
     "data": {
      "application/vnd.jupyter.widget-view+json": {
       "model_id": "11e5b08b365a4b4a825c5d7d5c5c327c",
       "version_major": 2,
       "version_minor": 0
      },
      "text/plain": [
       "Making ensembles:   0%|          | 0/1 [00:00<?, ?it/s]"
      ]
     },
     "metadata": {},
     "output_type": "display_data"
    },
    {
     "data": {
      "application/vnd.jupyter.widget-view+json": {
       "model_id": "996ff7b6cdd84d30a33b06e7f7295ba3",
       "version_major": 2,
       "version_minor": 0
      },
      "text/plain": [
       "network dynamic:   0%|          | 0/9999 [00:00<?, ?it/s]"
      ]
     },
     "metadata": {},
     "output_type": "display_data"
    },
    {
     "data": {
      "application/vnd.jupyter.widget-view+json": {
       "model_id": "62926e46405e4a278888756e1145c9fa",
       "version_major": 2,
       "version_minor": 0
      },
      "text/plain": [
       "Variation of alpha:   0%|          | 0/1 [00:00<?, ?it/s]"
      ]
     },
     "metadata": {},
     "output_type": "display_data"
    },
    {
     "data": {
      "application/vnd.jupyter.widget-view+json": {
       "model_id": "0b5dbfcdd0a449c6b815cab7b3149341",
       "version_major": 2,
       "version_minor": 0
      },
      "text/plain": [
       "Making ensembles:   0%|          | 0/1 [00:00<?, ?it/s]"
      ]
     },
     "metadata": {},
     "output_type": "display_data"
    },
    {
     "data": {
      "application/vnd.jupyter.widget-view+json": {
       "model_id": "eee176ebde5d4476a66629ce31e2d196",
       "version_major": 2,
       "version_minor": 0
      },
      "text/plain": [
       "network dynamic:   0%|          | 0/9999 [00:00<?, ?it/s]"
      ]
     },
     "metadata": {},
     "output_type": "display_data"
    },
    {
     "data": {
      "application/vnd.jupyter.widget-view+json": {
       "model_id": "a28f1c3e96a146219d21440447cce6aa",
       "version_major": 2,
       "version_minor": 0
      },
      "text/plain": [
       "Variation of alpha:   0%|          | 0/1 [00:00<?, ?it/s]"
      ]
     },
     "metadata": {},
     "output_type": "display_data"
    },
    {
     "data": {
      "application/vnd.jupyter.widget-view+json": {
       "model_id": "1be933d692034bac8e4e8f7db621075b",
       "version_major": 2,
       "version_minor": 0
      },
      "text/plain": [
       "Making ensembles:   0%|          | 0/1 [00:00<?, ?it/s]"
      ]
     },
     "metadata": {},
     "output_type": "display_data"
    },
    {
     "data": {
      "application/vnd.jupyter.widget-view+json": {
       "model_id": "cd51e36129bd4704892e914762a8d4a0",
       "version_major": 2,
       "version_minor": 0
      },
      "text/plain": [
       "network dynamic:   0%|          | 0/9999 [00:00<?, ?it/s]"
      ]
     },
     "metadata": {},
     "output_type": "display_data"
    },
    {
     "data": {
      "application/vnd.jupyter.widget-view+json": {
       "model_id": "b66cfa837de640698213c7a9563f56d0",
       "version_major": 2,
       "version_minor": 0
      },
      "text/plain": [
       "Variation of alpha:   0%|          | 0/1 [00:00<?, ?it/s]"
      ]
     },
     "metadata": {},
     "output_type": "display_data"
    },
    {
     "data": {
      "application/vnd.jupyter.widget-view+json": {
       "model_id": "e8969b3f602341a291a3275dc500fe3d",
       "version_major": 2,
       "version_minor": 0
      },
      "text/plain": [
       "Making ensembles:   0%|          | 0/1 [00:00<?, ?it/s]"
      ]
     },
     "metadata": {},
     "output_type": "display_data"
    },
    {
     "data": {
      "application/vnd.jupyter.widget-view+json": {
       "model_id": "93d8da3dc585479eb64e7d2cf75b39e7",
       "version_major": 2,
       "version_minor": 0
      },
      "text/plain": [
       "network dynamic:   0%|          | 0/9999 [00:00<?, ?it/s]"
      ]
     },
     "metadata": {},
     "output_type": "display_data"
    },
    {
     "data": {
      "application/vnd.jupyter.widget-view+json": {
       "model_id": "4708a42801d84045bc7f975bf6c1c2bd",
       "version_major": 2,
       "version_minor": 0
      },
      "text/plain": [
       "Variation of alpha:   0%|          | 0/1 [00:00<?, ?it/s]"
      ]
     },
     "metadata": {},
     "output_type": "display_data"
    },
    {
     "data": {
      "application/vnd.jupyter.widget-view+json": {
       "model_id": "98c90df966b84d7b8bcafd9061416224",
       "version_major": 2,
       "version_minor": 0
      },
      "text/plain": [
       "Making ensembles:   0%|          | 0/1 [00:00<?, ?it/s]"
      ]
     },
     "metadata": {},
     "output_type": "display_data"
    },
    {
     "data": {
      "application/vnd.jupyter.widget-view+json": {
       "model_id": "a458b409c5294e0f95355a4196bb2bb9",
       "version_major": 2,
       "version_minor": 0
      },
      "text/plain": [
       "network dynamic:   0%|          | 0/9999 [00:00<?, ?it/s]"
      ]
     },
     "metadata": {},
     "output_type": "display_data"
    },
    {
     "data": {
      "application/vnd.jupyter.widget-view+json": {
       "model_id": "7a97f90c4d834668b7d6e4e4ccf0f30c",
       "version_major": 2,
       "version_minor": 0
      },
      "text/plain": [
       "Variation of alpha:   0%|          | 0/1 [00:00<?, ?it/s]"
      ]
     },
     "metadata": {},
     "output_type": "display_data"
    },
    {
     "data": {
      "application/vnd.jupyter.widget-view+json": {
       "model_id": "6a2066837cc9479090b5ff6e93ceae2d",
       "version_major": 2,
       "version_minor": 0
      },
      "text/plain": [
       "Making ensembles:   0%|          | 0/1 [00:00<?, ?it/s]"
      ]
     },
     "metadata": {},
     "output_type": "display_data"
    },
    {
     "data": {
      "application/vnd.jupyter.widget-view+json": {
       "model_id": "96a47878ea32498b96e617519bc3b039",
       "version_major": 2,
       "version_minor": 0
      },
      "text/plain": [
       "network dynamic:   0%|          | 0/9999 [00:00<?, ?it/s]"
      ]
     },
     "metadata": {},
     "output_type": "display_data"
    },
    {
     "data": {
      "application/vnd.jupyter.widget-view+json": {
       "model_id": "acbe5126386449e79dca96bf211041f0",
       "version_major": 2,
       "version_minor": 0
      },
      "text/plain": [
       "Variation of alpha:   0%|          | 0/1 [00:00<?, ?it/s]"
      ]
     },
     "metadata": {},
     "output_type": "display_data"
    },
    {
     "data": {
      "application/vnd.jupyter.widget-view+json": {
       "model_id": "3e4b8a21bebf472d88070a31099ef72d",
       "version_major": 2,
       "version_minor": 0
      },
      "text/plain": [
       "Making ensembles:   0%|          | 0/1 [00:00<?, ?it/s]"
      ]
     },
     "metadata": {},
     "output_type": "display_data"
    },
    {
     "data": {
      "application/vnd.jupyter.widget-view+json": {
       "model_id": "8e070db268d645d6a556e66c20b56373",
       "version_major": 2,
       "version_minor": 0
      },
      "text/plain": [
       "network dynamic:   0%|          | 0/9999 [00:00<?, ?it/s]"
      ]
     },
     "metadata": {},
     "output_type": "display_data"
    },
    {
     "data": {
      "application/vnd.jupyter.widget-view+json": {
       "model_id": "5b454f28a1b44ee19509d71b93136672",
       "version_major": 2,
       "version_minor": 0
      },
      "text/plain": [
       "Variation of alpha:   0%|          | 0/1 [00:00<?, ?it/s]"
      ]
     },
     "metadata": {},
     "output_type": "display_data"
    },
    {
     "data": {
      "application/vnd.jupyter.widget-view+json": {
       "model_id": "9b927c4d754443578923456c23821c3b",
       "version_major": 2,
       "version_minor": 0
      },
      "text/plain": [
       "Making ensembles:   0%|          | 0/1 [00:00<?, ?it/s]"
      ]
     },
     "metadata": {},
     "output_type": "display_data"
    },
    {
     "data": {
      "application/vnd.jupyter.widget-view+json": {
       "model_id": "ec32174bf82a45de84274c286599de59",
       "version_major": 2,
       "version_minor": 0
      },
      "text/plain": [
       "network dynamic:   0%|          | 0/9999 [00:00<?, ?it/s]"
      ]
     },
     "metadata": {},
     "output_type": "display_data"
    },
    {
     "data": {
      "application/vnd.jupyter.widget-view+json": {
       "model_id": "acaf420404314e34814b435afc997173",
       "version_major": 2,
       "version_minor": 0
      },
      "text/plain": [
       "Variation of delay:   0%|          | 0/9 [00:00<?, ?it/s]"
      ]
     },
     "metadata": {},
     "output_type": "display_data"
    },
    {
     "data": {
      "application/vnd.jupyter.widget-view+json": {
       "model_id": "5c856f6ed96b42f79e7e641c89e11b54",
       "version_major": 2,
       "version_minor": 0
      },
      "text/plain": [
       "Variation of alpha:   0%|          | 0/1 [00:00<?, ?it/s]"
      ]
     },
     "metadata": {},
     "output_type": "display_data"
    },
    {
     "data": {
      "application/vnd.jupyter.widget-view+json": {
       "model_id": "43e91315c1964623a60e415479db7047",
       "version_major": 2,
       "version_minor": 0
      },
      "text/plain": [
       "Making ensembles:   0%|          | 0/1 [00:00<?, ?it/s]"
      ]
     },
     "metadata": {},
     "output_type": "display_data"
    },
    {
     "data": {
      "application/vnd.jupyter.widget-view+json": {
       "model_id": "f6574091adc54fa8ac6eadad5f490ed5",
       "version_major": 2,
       "version_minor": 0
      },
      "text/plain": [
       "network dynamic:   0%|          | 0/9999 [00:00<?, ?it/s]"
      ]
     },
     "metadata": {},
     "output_type": "display_data"
    },
    {
     "data": {
      "application/vnd.jupyter.widget-view+json": {
       "model_id": "e8977d445e7a4eeb94576df39617c797",
       "version_major": 2,
       "version_minor": 0
      },
      "text/plain": [
       "Variation of alpha:   0%|          | 0/1 [00:00<?, ?it/s]"
      ]
     },
     "metadata": {},
     "output_type": "display_data"
    },
    {
     "data": {
      "application/vnd.jupyter.widget-view+json": {
       "model_id": "514f6a6e16e84112bb84cef55eb52e33",
       "version_major": 2,
       "version_minor": 0
      },
      "text/plain": [
       "Making ensembles:   0%|          | 0/1 [00:00<?, ?it/s]"
      ]
     },
     "metadata": {},
     "output_type": "display_data"
    },
    {
     "data": {
      "application/vnd.jupyter.widget-view+json": {
       "model_id": "f88290affb3d4770a879309038f49ea7",
       "version_major": 2,
       "version_minor": 0
      },
      "text/plain": [
       "network dynamic:   0%|          | 0/9999 [00:00<?, ?it/s]"
      ]
     },
     "metadata": {},
     "output_type": "display_data"
    },
    {
     "data": {
      "application/vnd.jupyter.widget-view+json": {
       "model_id": "4bd628d2b36e4f0ea401c5fd3c069a43",
       "version_major": 2,
       "version_minor": 0
      },
      "text/plain": [
       "Variation of alpha:   0%|          | 0/1 [00:00<?, ?it/s]"
      ]
     },
     "metadata": {},
     "output_type": "display_data"
    },
    {
     "data": {
      "application/vnd.jupyter.widget-view+json": {
       "model_id": "b1d13203eb9f42bc8fd27a1c79ea12f3",
       "version_major": 2,
       "version_minor": 0
      },
      "text/plain": [
       "Making ensembles:   0%|          | 0/1 [00:00<?, ?it/s]"
      ]
     },
     "metadata": {},
     "output_type": "display_data"
    },
    {
     "data": {
      "application/vnd.jupyter.widget-view+json": {
       "model_id": "57f1a99298f94ad092aba47b7fa29ee8",
       "version_major": 2,
       "version_minor": 0
      },
      "text/plain": [
       "network dynamic:   0%|          | 0/9999 [00:00<?, ?it/s]"
      ]
     },
     "metadata": {},
     "output_type": "display_data"
    },
    {
     "data": {
      "application/vnd.jupyter.widget-view+json": {
       "model_id": "231e2d539789462ebbaafa13e9c5af16",
       "version_major": 2,
       "version_minor": 0
      },
      "text/plain": [
       "Variation of alpha:   0%|          | 0/1 [00:00<?, ?it/s]"
      ]
     },
     "metadata": {},
     "output_type": "display_data"
    },
    {
     "data": {
      "application/vnd.jupyter.widget-view+json": {
       "model_id": "90d227f476cf412388134af3ac5af555",
       "version_major": 2,
       "version_minor": 0
      },
      "text/plain": [
       "Making ensembles:   0%|          | 0/1 [00:00<?, ?it/s]"
      ]
     },
     "metadata": {},
     "output_type": "display_data"
    },
    {
     "data": {
      "application/vnd.jupyter.widget-view+json": {
       "model_id": "76e3de800b7b495a9462a230e953468f",
       "version_major": 2,
       "version_minor": 0
      },
      "text/plain": [
       "network dynamic:   0%|          | 0/9999 [00:00<?, ?it/s]"
      ]
     },
     "metadata": {},
     "output_type": "display_data"
    },
    {
     "data": {
      "application/vnd.jupyter.widget-view+json": {
       "model_id": "8671300b3bd1415d895d77f4755a5d64",
       "version_major": 2,
       "version_minor": 0
      },
      "text/plain": [
       "Variation of alpha:   0%|          | 0/1 [00:00<?, ?it/s]"
      ]
     },
     "metadata": {},
     "output_type": "display_data"
    },
    {
     "data": {
      "application/vnd.jupyter.widget-view+json": {
       "model_id": "3512681d922941b3b6b8341522abac47",
       "version_major": 2,
       "version_minor": 0
      },
      "text/plain": [
       "Making ensembles:   0%|          | 0/1 [00:00<?, ?it/s]"
      ]
     },
     "metadata": {},
     "output_type": "display_data"
    },
    {
     "data": {
      "application/vnd.jupyter.widget-view+json": {
       "model_id": "6927922f3f994a388a309564d7c9ae25",
       "version_major": 2,
       "version_minor": 0
      },
      "text/plain": [
       "network dynamic:   0%|          | 0/9999 [00:00<?, ?it/s]"
      ]
     },
     "metadata": {},
     "output_type": "display_data"
    },
    {
     "data": {
      "application/vnd.jupyter.widget-view+json": {
       "model_id": "79ec7ebd783b4c0b8bf85b723d5e6364",
       "version_major": 2,
       "version_minor": 0
      },
      "text/plain": [
       "Variation of alpha:   0%|          | 0/1 [00:00<?, ?it/s]"
      ]
     },
     "metadata": {},
     "output_type": "display_data"
    },
    {
     "data": {
      "application/vnd.jupyter.widget-view+json": {
       "model_id": "c563c69d26b343b5b9d4b487789a14a5",
       "version_major": 2,
       "version_minor": 0
      },
      "text/plain": [
       "Making ensembles:   0%|          | 0/1 [00:00<?, ?it/s]"
      ]
     },
     "metadata": {},
     "output_type": "display_data"
    },
    {
     "data": {
      "application/vnd.jupyter.widget-view+json": {
       "model_id": "964d205812db466a842d4ce62d48738a",
       "version_major": 2,
       "version_minor": 0
      },
      "text/plain": [
       "network dynamic:   0%|          | 0/9999 [00:00<?, ?it/s]"
      ]
     },
     "metadata": {},
     "output_type": "display_data"
    },
    {
     "data": {
      "application/vnd.jupyter.widget-view+json": {
       "model_id": "2002b4ef1c9b4fe0b2729776bf3b7998",
       "version_major": 2,
       "version_minor": 0
      },
      "text/plain": [
       "Variation of alpha:   0%|          | 0/1 [00:00<?, ?it/s]"
      ]
     },
     "metadata": {},
     "output_type": "display_data"
    },
    {
     "data": {
      "application/vnd.jupyter.widget-view+json": {
       "model_id": "094c6ab5d6b342328857ff9daa542835",
       "version_major": 2,
       "version_minor": 0
      },
      "text/plain": [
       "Making ensembles:   0%|          | 0/1 [00:00<?, ?it/s]"
      ]
     },
     "metadata": {},
     "output_type": "display_data"
    },
    {
     "data": {
      "application/vnd.jupyter.widget-view+json": {
       "model_id": "6ad0216d59084146895f5d1bffe63eca",
       "version_major": 2,
       "version_minor": 0
      },
      "text/plain": [
       "network dynamic:   0%|          | 0/9999 [00:00<?, ?it/s]"
      ]
     },
     "metadata": {},
     "output_type": "display_data"
    },
    {
     "data": {
      "application/vnd.jupyter.widget-view+json": {
       "model_id": "c0c14eedb0f348afa48641ad88d0fdf6",
       "version_major": 2,
       "version_minor": 0
      },
      "text/plain": [
       "Variation of alpha:   0%|          | 0/1 [00:00<?, ?it/s]"
      ]
     },
     "metadata": {},
     "output_type": "display_data"
    },
    {
     "data": {
      "application/vnd.jupyter.widget-view+json": {
       "model_id": "7377aa97babb4a9aaa58e373586cecb2",
       "version_major": 2,
       "version_minor": 0
      },
      "text/plain": [
       "Making ensembles:   0%|          | 0/1 [00:00<?, ?it/s]"
      ]
     },
     "metadata": {},
     "output_type": "display_data"
    },
    {
     "data": {
      "application/vnd.jupyter.widget-view+json": {
       "model_id": "fce09e28b4264ddcb20f0302d4b664bb",
       "version_major": 2,
       "version_minor": 0
      },
      "text/plain": [
       "network dynamic:   0%|          | 0/9999 [00:00<?, ?it/s]"
      ]
     },
     "metadata": {},
     "output_type": "display_data"
    },
    {
     "data": {
      "application/vnd.jupyter.widget-view+json": {
       "model_id": "fd807e2436074fb2b8c2ffef8e698a03",
       "version_major": 2,
       "version_minor": 0
      },
      "text/plain": [
       "Variation of alpha:   0%|          | 0/1 [00:00<?, ?it/s]"
      ]
     },
     "metadata": {},
     "output_type": "display_data"
    },
    {
     "data": {
      "application/vnd.jupyter.widget-view+json": {
       "model_id": "70557b216bd34a0f9b9d9448276905f6",
       "version_major": 2,
       "version_minor": 0
      },
      "text/plain": [
       "Making ensembles:   0%|          | 0/1 [00:00<?, ?it/s]"
      ]
     },
     "metadata": {},
     "output_type": "display_data"
    },
    {
     "data": {
      "application/vnd.jupyter.widget-view+json": {
       "model_id": "e8c9815d9c4b48029989f3f72501f13b",
       "version_major": 2,
       "version_minor": 0
      },
      "text/plain": [
       "network dynamic:   0%|          | 0/9999 [00:00<?, ?it/s]"
      ]
     },
     "metadata": {},
     "output_type": "display_data"
    },
    {
     "data": {
      "application/vnd.jupyter.widget-view+json": {
       "model_id": "344c49c9f88f4699996a0fa6659a4140",
       "version_major": 2,
       "version_minor": 0
      },
      "text/plain": [
       "Variation of delay:   0%|          | 0/9 [00:00<?, ?it/s]"
      ]
     },
     "metadata": {},
     "output_type": "display_data"
    },
    {
     "data": {
      "application/vnd.jupyter.widget-view+json": {
       "model_id": "d4b8c56aa4b24070b1f817ee56ff1922",
       "version_major": 2,
       "version_minor": 0
      },
      "text/plain": [
       "Variation of alpha:   0%|          | 0/1 [00:00<?, ?it/s]"
      ]
     },
     "metadata": {},
     "output_type": "display_data"
    },
    {
     "data": {
      "application/vnd.jupyter.widget-view+json": {
       "model_id": "c8afb813695f4f0b983f3e956f6b038a",
       "version_major": 2,
       "version_minor": 0
      },
      "text/plain": [
       "Making ensembles:   0%|          | 0/1 [00:00<?, ?it/s]"
      ]
     },
     "metadata": {},
     "output_type": "display_data"
    },
    {
     "data": {
      "application/vnd.jupyter.widget-view+json": {
       "model_id": "7ff3a167d1cb49198e31ba24727272af",
       "version_major": 2,
       "version_minor": 0
      },
      "text/plain": [
       "network dynamic:   0%|          | 0/9999 [00:00<?, ?it/s]"
      ]
     },
     "metadata": {},
     "output_type": "display_data"
    },
    {
     "data": {
      "application/vnd.jupyter.widget-view+json": {
       "model_id": "4642246a772a4bc88b19a8d32194380c",
       "version_major": 2,
       "version_minor": 0
      },
      "text/plain": [
       "Variation of alpha:   0%|          | 0/1 [00:00<?, ?it/s]"
      ]
     },
     "metadata": {},
     "output_type": "display_data"
    },
    {
     "data": {
      "application/vnd.jupyter.widget-view+json": {
       "model_id": "e37f5386f0134200926edffcc8410387",
       "version_major": 2,
       "version_minor": 0
      },
      "text/plain": [
       "Making ensembles:   0%|          | 0/1 [00:00<?, ?it/s]"
      ]
     },
     "metadata": {},
     "output_type": "display_data"
    },
    {
     "data": {
      "application/vnd.jupyter.widget-view+json": {
       "model_id": "bb351bd979c7479c942793704db273d2",
       "version_major": 2,
       "version_minor": 0
      },
      "text/plain": [
       "network dynamic:   0%|          | 0/9999 [00:00<?, ?it/s]"
      ]
     },
     "metadata": {},
     "output_type": "display_data"
    },
    {
     "data": {
      "application/vnd.jupyter.widget-view+json": {
       "model_id": "772c90cf28a94edc8ec27f55e8f9cffe",
       "version_major": 2,
       "version_minor": 0
      },
      "text/plain": [
       "Variation of alpha:   0%|          | 0/1 [00:00<?, ?it/s]"
      ]
     },
     "metadata": {},
     "output_type": "display_data"
    },
    {
     "data": {
      "application/vnd.jupyter.widget-view+json": {
       "model_id": "530a217693bd468ea18335137f515b0f",
       "version_major": 2,
       "version_minor": 0
      },
      "text/plain": [
       "Making ensembles:   0%|          | 0/1 [00:00<?, ?it/s]"
      ]
     },
     "metadata": {},
     "output_type": "display_data"
    },
    {
     "data": {
      "application/vnd.jupyter.widget-view+json": {
       "model_id": "b779bd54f97149c19cbe58c2be3833d1",
       "version_major": 2,
       "version_minor": 0
      },
      "text/plain": [
       "network dynamic:   0%|          | 0/9999 [00:00<?, ?it/s]"
      ]
     },
     "metadata": {},
     "output_type": "display_data"
    },
    {
     "data": {
      "application/vnd.jupyter.widget-view+json": {
       "model_id": "eee8574cbc784bda8382d89131b05ce3",
       "version_major": 2,
       "version_minor": 0
      },
      "text/plain": [
       "Variation of alpha:   0%|          | 0/1 [00:00<?, ?it/s]"
      ]
     },
     "metadata": {},
     "output_type": "display_data"
    },
    {
     "data": {
      "application/vnd.jupyter.widget-view+json": {
       "model_id": "2a1554f2644b43f8a6e4a780a2ecc0f2",
       "version_major": 2,
       "version_minor": 0
      },
      "text/plain": [
       "Making ensembles:   0%|          | 0/1 [00:00<?, ?it/s]"
      ]
     },
     "metadata": {},
     "output_type": "display_data"
    },
    {
     "data": {
      "application/vnd.jupyter.widget-view+json": {
       "model_id": "8ff7f46768bf4826972c3d286bcb9e64",
       "version_major": 2,
       "version_minor": 0
      },
      "text/plain": [
       "network dynamic:   0%|          | 0/9999 [00:00<?, ?it/s]"
      ]
     },
     "metadata": {},
     "output_type": "display_data"
    },
    {
     "data": {
      "application/vnd.jupyter.widget-view+json": {
       "model_id": "a9f2e8bf20d847a39d4acdb26816e18e",
       "version_major": 2,
       "version_minor": 0
      },
      "text/plain": [
       "Variation of alpha:   0%|          | 0/1 [00:00<?, ?it/s]"
      ]
     },
     "metadata": {},
     "output_type": "display_data"
    },
    {
     "data": {
      "application/vnd.jupyter.widget-view+json": {
       "model_id": "b6c6664dcd26406c81400f49dce0244e",
       "version_major": 2,
       "version_minor": 0
      },
      "text/plain": [
       "Making ensembles:   0%|          | 0/1 [00:00<?, ?it/s]"
      ]
     },
     "metadata": {},
     "output_type": "display_data"
    },
    {
     "data": {
      "application/vnd.jupyter.widget-view+json": {
       "model_id": "9a1216f2a87a4b5dbb4be31398f81c15",
       "version_major": 2,
       "version_minor": 0
      },
      "text/plain": [
       "network dynamic:   0%|          | 0/9999 [00:00<?, ?it/s]"
      ]
     },
     "metadata": {},
     "output_type": "display_data"
    },
    {
     "data": {
      "application/vnd.jupyter.widget-view+json": {
       "model_id": "8cadff52286c408fba19d054cfb74bb9",
       "version_major": 2,
       "version_minor": 0
      },
      "text/plain": [
       "Variation of alpha:   0%|          | 0/1 [00:00<?, ?it/s]"
      ]
     },
     "metadata": {},
     "output_type": "display_data"
    },
    {
     "data": {
      "application/vnd.jupyter.widget-view+json": {
       "model_id": "1844ad83329f4828b7b8a81d12551bbc",
       "version_major": 2,
       "version_minor": 0
      },
      "text/plain": [
       "Making ensembles:   0%|          | 0/1 [00:00<?, ?it/s]"
      ]
     },
     "metadata": {},
     "output_type": "display_data"
    },
    {
     "data": {
      "application/vnd.jupyter.widget-view+json": {
       "model_id": "ea5942ae135a4acab8efe9b38aca4508",
       "version_major": 2,
       "version_minor": 0
      },
      "text/plain": [
       "network dynamic:   0%|          | 0/9999 [00:00<?, ?it/s]"
      ]
     },
     "metadata": {},
     "output_type": "display_data"
    },
    {
     "data": {
      "application/vnd.jupyter.widget-view+json": {
       "model_id": "747c2980db0d4e20b0164890252c1191",
       "version_major": 2,
       "version_minor": 0
      },
      "text/plain": [
       "Variation of alpha:   0%|          | 0/1 [00:00<?, ?it/s]"
      ]
     },
     "metadata": {},
     "output_type": "display_data"
    },
    {
     "data": {
      "application/vnd.jupyter.widget-view+json": {
       "model_id": "cef0eb72ce1d4802b3eed20a5e15bc41",
       "version_major": 2,
       "version_minor": 0
      },
      "text/plain": [
       "Making ensembles:   0%|          | 0/1 [00:00<?, ?it/s]"
      ]
     },
     "metadata": {},
     "output_type": "display_data"
    },
    {
     "data": {
      "application/vnd.jupyter.widget-view+json": {
       "model_id": "2f2ae2bd42664da5831f10b14135b287",
       "version_major": 2,
       "version_minor": 0
      },
      "text/plain": [
       "network dynamic:   0%|          | 0/9999 [00:00<?, ?it/s]"
      ]
     },
     "metadata": {},
     "output_type": "display_data"
    },
    {
     "data": {
      "application/vnd.jupyter.widget-view+json": {
       "model_id": "8c12bc6994c7428087a3ebd69991d035",
       "version_major": 2,
       "version_minor": 0
      },
      "text/plain": [
       "Variation of alpha:   0%|          | 0/1 [00:00<?, ?it/s]"
      ]
     },
     "metadata": {},
     "output_type": "display_data"
    },
    {
     "data": {
      "application/vnd.jupyter.widget-view+json": {
       "model_id": "09e38dae4a3d4d4fa7775128f0101723",
       "version_major": 2,
       "version_minor": 0
      },
      "text/plain": [
       "Making ensembles:   0%|          | 0/1 [00:00<?, ?it/s]"
      ]
     },
     "metadata": {},
     "output_type": "display_data"
    },
    {
     "data": {
      "application/vnd.jupyter.widget-view+json": {
       "model_id": "4d010f0e34fc42c7ac936af41c334128",
       "version_major": 2,
       "version_minor": 0
      },
      "text/plain": [
       "network dynamic:   0%|          | 0/9999 [00:00<?, ?it/s]"
      ]
     },
     "metadata": {},
     "output_type": "display_data"
    },
    {
     "data": {
      "application/vnd.jupyter.widget-view+json": {
       "model_id": "be6851448d1e490c981b39a253901c6f",
       "version_major": 2,
       "version_minor": 0
      },
      "text/plain": [
       "Variation of alpha:   0%|          | 0/1 [00:00<?, ?it/s]"
      ]
     },
     "metadata": {},
     "output_type": "display_data"
    },
    {
     "data": {
      "application/vnd.jupyter.widget-view+json": {
       "model_id": "3b1ba30fe2f443b981d66e192a583dcb",
       "version_major": 2,
       "version_minor": 0
      },
      "text/plain": [
       "Making ensembles:   0%|          | 0/1 [00:00<?, ?it/s]"
      ]
     },
     "metadata": {},
     "output_type": "display_data"
    },
    {
     "data": {
      "application/vnd.jupyter.widget-view+json": {
       "model_id": "c22c403ae36044d390acd5a3a269689d",
       "version_major": 2,
       "version_minor": 0
      },
      "text/plain": [
       "network dynamic:   0%|          | 0/9999 [00:00<?, ?it/s]"
      ]
     },
     "metadata": {},
     "output_type": "display_data"
    },
    {
     "data": {
      "application/vnd.jupyter.widget-view+json": {
       "model_id": "f7c29449ee214541b5bd40dbda0b8fcb",
       "version_major": 2,
       "version_minor": 0
      },
      "text/plain": [
       "Variation of delay:   0%|          | 0/9 [00:00<?, ?it/s]"
      ]
     },
     "metadata": {},
     "output_type": "display_data"
    },
    {
     "data": {
      "application/vnd.jupyter.widget-view+json": {
       "model_id": "7e6a40ca6edc4475a30e1efbb4ef2611",
       "version_major": 2,
       "version_minor": 0
      },
      "text/plain": [
       "Variation of alpha:   0%|          | 0/1 [00:00<?, ?it/s]"
      ]
     },
     "metadata": {},
     "output_type": "display_data"
    },
    {
     "data": {
      "application/vnd.jupyter.widget-view+json": {
       "model_id": "b12ea67986634f8a88f98344055c9015",
       "version_major": 2,
       "version_minor": 0
      },
      "text/plain": [
       "Making ensembles:   0%|          | 0/1 [00:00<?, ?it/s]"
      ]
     },
     "metadata": {},
     "output_type": "display_data"
    },
    {
     "data": {
      "application/vnd.jupyter.widget-view+json": {
       "model_id": "43616902bbf245e6910429f1ba86962a",
       "version_major": 2,
       "version_minor": 0
      },
      "text/plain": [
       "network dynamic:   0%|          | 0/9999 [00:00<?, ?it/s]"
      ]
     },
     "metadata": {},
     "output_type": "display_data"
    },
    {
     "data": {
      "application/vnd.jupyter.widget-view+json": {
       "model_id": "ac5e4e1b6bb54ddcab859c2f48d03014",
       "version_major": 2,
       "version_minor": 0
      },
      "text/plain": [
       "Variation of alpha:   0%|          | 0/1 [00:00<?, ?it/s]"
      ]
     },
     "metadata": {},
     "output_type": "display_data"
    },
    {
     "data": {
      "application/vnd.jupyter.widget-view+json": {
       "model_id": "9224f2e7a4964606ac85b62fe590807c",
       "version_major": 2,
       "version_minor": 0
      },
      "text/plain": [
       "Making ensembles:   0%|          | 0/1 [00:00<?, ?it/s]"
      ]
     },
     "metadata": {},
     "output_type": "display_data"
    },
    {
     "data": {
      "application/vnd.jupyter.widget-view+json": {
       "model_id": "a86df922e223470096f2a4f2d960f08e",
       "version_major": 2,
       "version_minor": 0
      },
      "text/plain": [
       "network dynamic:   0%|          | 0/9999 [00:00<?, ?it/s]"
      ]
     },
     "metadata": {},
     "output_type": "display_data"
    },
    {
     "data": {
      "application/vnd.jupyter.widget-view+json": {
       "model_id": "d45464800de144b1830e01ebb9915665",
       "version_major": 2,
       "version_minor": 0
      },
      "text/plain": [
       "Variation of alpha:   0%|          | 0/1 [00:00<?, ?it/s]"
      ]
     },
     "metadata": {},
     "output_type": "display_data"
    },
    {
     "data": {
      "application/vnd.jupyter.widget-view+json": {
       "model_id": "6b5141479eb14d08a7ef416a9fa86a95",
       "version_major": 2,
       "version_minor": 0
      },
      "text/plain": [
       "Making ensembles:   0%|          | 0/1 [00:00<?, ?it/s]"
      ]
     },
     "metadata": {},
     "output_type": "display_data"
    },
    {
     "data": {
      "application/vnd.jupyter.widget-view+json": {
       "model_id": "f708f49173fc4b3a90020fc61377a907",
       "version_major": 2,
       "version_minor": 0
      },
      "text/plain": [
       "network dynamic:   0%|          | 0/9999 [00:00<?, ?it/s]"
      ]
     },
     "metadata": {},
     "output_type": "display_data"
    },
    {
     "data": {
      "application/vnd.jupyter.widget-view+json": {
       "model_id": "e2e9e25ad6184cbe8cc59cf69527ae9c",
       "version_major": 2,
       "version_minor": 0
      },
      "text/plain": [
       "Variation of alpha:   0%|          | 0/1 [00:00<?, ?it/s]"
      ]
     },
     "metadata": {},
     "output_type": "display_data"
    },
    {
     "data": {
      "application/vnd.jupyter.widget-view+json": {
       "model_id": "2f09d50f91c048de9b040c82fbe47c79",
       "version_major": 2,
       "version_minor": 0
      },
      "text/plain": [
       "Making ensembles:   0%|          | 0/1 [00:00<?, ?it/s]"
      ]
     },
     "metadata": {},
     "output_type": "display_data"
    },
    {
     "data": {
      "application/vnd.jupyter.widget-view+json": {
       "model_id": "748c4f5ef78e4e2583fdb44c9555d01e",
       "version_major": 2,
       "version_minor": 0
      },
      "text/plain": [
       "network dynamic:   0%|          | 0/9999 [00:00<?, ?it/s]"
      ]
     },
     "metadata": {},
     "output_type": "display_data"
    },
    {
     "data": {
      "application/vnd.jupyter.widget-view+json": {
       "model_id": "9bd4e4c0e6ff4d9b9857ebd2f3a56d51",
       "version_major": 2,
       "version_minor": 0
      },
      "text/plain": [
       "Variation of alpha:   0%|          | 0/1 [00:00<?, ?it/s]"
      ]
     },
     "metadata": {},
     "output_type": "display_data"
    },
    {
     "data": {
      "application/vnd.jupyter.widget-view+json": {
       "model_id": "d7d11bc2e5e54689aa5ec0411696d26b",
       "version_major": 2,
       "version_minor": 0
      },
      "text/plain": [
       "Making ensembles:   0%|          | 0/1 [00:00<?, ?it/s]"
      ]
     },
     "metadata": {},
     "output_type": "display_data"
    },
    {
     "data": {
      "application/vnd.jupyter.widget-view+json": {
       "model_id": "f859a4511d064f87b272b34ed6021f7a",
       "version_major": 2,
       "version_minor": 0
      },
      "text/plain": [
       "network dynamic:   0%|          | 0/9999 [00:00<?, ?it/s]"
      ]
     },
     "metadata": {},
     "output_type": "display_data"
    },
    {
     "data": {
      "application/vnd.jupyter.widget-view+json": {
       "model_id": "449fe81a68974ed3abfe3bbab4089444",
       "version_major": 2,
       "version_minor": 0
      },
      "text/plain": [
       "Variation of alpha:   0%|          | 0/1 [00:00<?, ?it/s]"
      ]
     },
     "metadata": {},
     "output_type": "display_data"
    },
    {
     "data": {
      "application/vnd.jupyter.widget-view+json": {
       "model_id": "114593ac410842d99870486e0e3264ff",
       "version_major": 2,
       "version_minor": 0
      },
      "text/plain": [
       "Making ensembles:   0%|          | 0/1 [00:00<?, ?it/s]"
      ]
     },
     "metadata": {},
     "output_type": "display_data"
    },
    {
     "data": {
      "application/vnd.jupyter.widget-view+json": {
       "model_id": "5c5724ee35c44b14a891fd507bca55ab",
       "version_major": 2,
       "version_minor": 0
      },
      "text/plain": [
       "network dynamic:   0%|          | 0/9999 [00:00<?, ?it/s]"
      ]
     },
     "metadata": {},
     "output_type": "display_data"
    },
    {
     "data": {
      "application/vnd.jupyter.widget-view+json": {
       "model_id": "a23e93c175e141d6ac0c5b6d3005306a",
       "version_major": 2,
       "version_minor": 0
      },
      "text/plain": [
       "Variation of alpha:   0%|          | 0/1 [00:00<?, ?it/s]"
      ]
     },
     "metadata": {},
     "output_type": "display_data"
    },
    {
     "data": {
      "application/vnd.jupyter.widget-view+json": {
       "model_id": "de124d114d4d42f1925166a2960348cd",
       "version_major": 2,
       "version_minor": 0
      },
      "text/plain": [
       "Making ensembles:   0%|          | 0/1 [00:00<?, ?it/s]"
      ]
     },
     "metadata": {},
     "output_type": "display_data"
    },
    {
     "data": {
      "application/vnd.jupyter.widget-view+json": {
       "model_id": "8e18f97efe7a473d8b802cd80ce4e73b",
       "version_major": 2,
       "version_minor": 0
      },
      "text/plain": [
       "network dynamic:   0%|          | 0/9999 [00:00<?, ?it/s]"
      ]
     },
     "metadata": {},
     "output_type": "display_data"
    },
    {
     "data": {
      "application/vnd.jupyter.widget-view+json": {
       "model_id": "e949869eb2fd4d0eb6a5bffe34e4dfbd",
       "version_major": 2,
       "version_minor": 0
      },
      "text/plain": [
       "Variation of alpha:   0%|          | 0/1 [00:00<?, ?it/s]"
      ]
     },
     "metadata": {},
     "output_type": "display_data"
    },
    {
     "data": {
      "application/vnd.jupyter.widget-view+json": {
       "model_id": "67be45f6df024cc294d330ff629a02f4",
       "version_major": 2,
       "version_minor": 0
      },
      "text/plain": [
       "Making ensembles:   0%|          | 0/1 [00:00<?, ?it/s]"
      ]
     },
     "metadata": {},
     "output_type": "display_data"
    },
    {
     "data": {
      "application/vnd.jupyter.widget-view+json": {
       "model_id": "bbaddcefa66a47d2bbbb96d648648b91",
       "version_major": 2,
       "version_minor": 0
      },
      "text/plain": [
       "network dynamic:   0%|          | 0/9999 [00:00<?, ?it/s]"
      ]
     },
     "metadata": {},
     "output_type": "display_data"
    },
    {
     "data": {
      "application/vnd.jupyter.widget-view+json": {
       "model_id": "732430e6eabb495dae6ea9d490092151",
       "version_major": 2,
       "version_minor": 0
      },
      "text/plain": [
       "Variation of alpha:   0%|          | 0/1 [00:00<?, ?it/s]"
      ]
     },
     "metadata": {},
     "output_type": "display_data"
    },
    {
     "data": {
      "application/vnd.jupyter.widget-view+json": {
       "model_id": "ccbfd5b294f440db99ae555831f6f2da",
       "version_major": 2,
       "version_minor": 0
      },
      "text/plain": [
       "Making ensembles:   0%|          | 0/1 [00:00<?, ?it/s]"
      ]
     },
     "metadata": {},
     "output_type": "display_data"
    },
    {
     "data": {
      "application/vnd.jupyter.widget-view+json": {
       "model_id": "1b2a0da48ca64aa18472a434b98f2e63",
       "version_major": 2,
       "version_minor": 0
      },
      "text/plain": [
       "network dynamic:   0%|          | 0/9999 [00:00<?, ?it/s]"
      ]
     },
     "metadata": {},
     "output_type": "display_data"
    },
    {
     "data": {
      "application/vnd.jupyter.widget-view+json": {
       "model_id": "7297a09f141a40ba80ba3d0da5d0a6a7",
       "version_major": 2,
       "version_minor": 0
      },
      "text/plain": [
       "Variation of delay:   0%|          | 0/9 [00:00<?, ?it/s]"
      ]
     },
     "metadata": {},
     "output_type": "display_data"
    },
    {
     "data": {
      "application/vnd.jupyter.widget-view+json": {
       "model_id": "778e84facce84e7294a9590472b84bd0",
       "version_major": 2,
       "version_minor": 0
      },
      "text/plain": [
       "Variation of alpha:   0%|          | 0/1 [00:00<?, ?it/s]"
      ]
     },
     "metadata": {},
     "output_type": "display_data"
    },
    {
     "data": {
      "application/vnd.jupyter.widget-view+json": {
       "model_id": "baf0ea0a4c604dda96fee9bfe95c763d",
       "version_major": 2,
       "version_minor": 0
      },
      "text/plain": [
       "Making ensembles:   0%|          | 0/1 [00:00<?, ?it/s]"
      ]
     },
     "metadata": {},
     "output_type": "display_data"
    },
    {
     "data": {
      "application/vnd.jupyter.widget-view+json": {
       "model_id": "c4f3c06b51664facb092858e3b760362",
       "version_major": 2,
       "version_minor": 0
      },
      "text/plain": [
       "network dynamic:   0%|          | 0/9999 [00:00<?, ?it/s]"
      ]
     },
     "metadata": {},
     "output_type": "display_data"
    },
    {
     "data": {
      "application/vnd.jupyter.widget-view+json": {
       "model_id": "d1a6c6b6c21d4df093ef875b77c27e71",
       "version_major": 2,
       "version_minor": 0
      },
      "text/plain": [
       "Variation of alpha:   0%|          | 0/1 [00:00<?, ?it/s]"
      ]
     },
     "metadata": {},
     "output_type": "display_data"
    },
    {
     "data": {
      "application/vnd.jupyter.widget-view+json": {
       "model_id": "6542ea37d0b642a081d96a5ca0dbb338",
       "version_major": 2,
       "version_minor": 0
      },
      "text/plain": [
       "Making ensembles:   0%|          | 0/1 [00:00<?, ?it/s]"
      ]
     },
     "metadata": {},
     "output_type": "display_data"
    },
    {
     "data": {
      "application/vnd.jupyter.widget-view+json": {
       "model_id": "876641db5acc4e0da7aab7a9cc97ed84",
       "version_major": 2,
       "version_minor": 0
      },
      "text/plain": [
       "network dynamic:   0%|          | 0/9999 [00:00<?, ?it/s]"
      ]
     },
     "metadata": {},
     "output_type": "display_data"
    },
    {
     "data": {
      "application/vnd.jupyter.widget-view+json": {
       "model_id": "2b4ba7b60d894629afd3a10eafb8ac94",
       "version_major": 2,
       "version_minor": 0
      },
      "text/plain": [
       "Variation of alpha:   0%|          | 0/1 [00:00<?, ?it/s]"
      ]
     },
     "metadata": {},
     "output_type": "display_data"
    },
    {
     "data": {
      "application/vnd.jupyter.widget-view+json": {
       "model_id": "8219dddce3f34fdab7a9de3df44bed1a",
       "version_major": 2,
       "version_minor": 0
      },
      "text/plain": [
       "Making ensembles:   0%|          | 0/1 [00:00<?, ?it/s]"
      ]
     },
     "metadata": {},
     "output_type": "display_data"
    },
    {
     "data": {
      "application/vnd.jupyter.widget-view+json": {
       "model_id": "ca9b25ede5564bcda775d304a0f79523",
       "version_major": 2,
       "version_minor": 0
      },
      "text/plain": [
       "network dynamic:   0%|          | 0/9999 [00:00<?, ?it/s]"
      ]
     },
     "metadata": {},
     "output_type": "display_data"
    },
    {
     "data": {
      "application/vnd.jupyter.widget-view+json": {
       "model_id": "fe0c2015c48c4ad9acf65f267d797402",
       "version_major": 2,
       "version_minor": 0
      },
      "text/plain": [
       "Variation of alpha:   0%|          | 0/1 [00:00<?, ?it/s]"
      ]
     },
     "metadata": {},
     "output_type": "display_data"
    },
    {
     "data": {
      "application/vnd.jupyter.widget-view+json": {
       "model_id": "0d97af1293454430bd5b5f19f32a1e33",
       "version_major": 2,
       "version_minor": 0
      },
      "text/plain": [
       "Making ensembles:   0%|          | 0/1 [00:00<?, ?it/s]"
      ]
     },
     "metadata": {},
     "output_type": "display_data"
    },
    {
     "data": {
      "application/vnd.jupyter.widget-view+json": {
       "model_id": "30fffbbdcce7407fa3ae4b1a114031b1",
       "version_major": 2,
       "version_minor": 0
      },
      "text/plain": [
       "network dynamic:   0%|          | 0/9999 [00:00<?, ?it/s]"
      ]
     },
     "metadata": {},
     "output_type": "display_data"
    },
    {
     "data": {
      "application/vnd.jupyter.widget-view+json": {
       "model_id": "d4a8365fd4664fe78e26b5f0cd9d5e28",
       "version_major": 2,
       "version_minor": 0
      },
      "text/plain": [
       "Variation of alpha:   0%|          | 0/1 [00:00<?, ?it/s]"
      ]
     },
     "metadata": {},
     "output_type": "display_data"
    },
    {
     "data": {
      "application/vnd.jupyter.widget-view+json": {
       "model_id": "b0c2dc1693bd42b88bb1ef7c1ec57bf1",
       "version_major": 2,
       "version_minor": 0
      },
      "text/plain": [
       "Making ensembles:   0%|          | 0/1 [00:00<?, ?it/s]"
      ]
     },
     "metadata": {},
     "output_type": "display_data"
    },
    {
     "data": {
      "application/vnd.jupyter.widget-view+json": {
       "model_id": "ea04a5017d0d42c78b55babd5d5e9036",
       "version_major": 2,
       "version_minor": 0
      },
      "text/plain": [
       "network dynamic:   0%|          | 0/9999 [00:00<?, ?it/s]"
      ]
     },
     "metadata": {},
     "output_type": "display_data"
    },
    {
     "data": {
      "application/vnd.jupyter.widget-view+json": {
       "model_id": "c69130d8d48e4d4db5462327cf385d3b",
       "version_major": 2,
       "version_minor": 0
      },
      "text/plain": [
       "Variation of alpha:   0%|          | 0/1 [00:00<?, ?it/s]"
      ]
     },
     "metadata": {},
     "output_type": "display_data"
    },
    {
     "data": {
      "application/vnd.jupyter.widget-view+json": {
       "model_id": "60ead8fb1c4f44a4a84f8d0d20cc0a98",
       "version_major": 2,
       "version_minor": 0
      },
      "text/plain": [
       "Making ensembles:   0%|          | 0/1 [00:00<?, ?it/s]"
      ]
     },
     "metadata": {},
     "output_type": "display_data"
    },
    {
     "data": {
      "application/vnd.jupyter.widget-view+json": {
       "model_id": "7c427976052243a4a52397943e4d7ba5",
       "version_major": 2,
       "version_minor": 0
      },
      "text/plain": [
       "network dynamic:   0%|          | 0/9999 [00:00<?, ?it/s]"
      ]
     },
     "metadata": {},
     "output_type": "display_data"
    },
    {
     "data": {
      "application/vnd.jupyter.widget-view+json": {
       "model_id": "34aeed03c85d4db8b920d51359b19435",
       "version_major": 2,
       "version_minor": 0
      },
      "text/plain": [
       "Variation of alpha:   0%|          | 0/1 [00:00<?, ?it/s]"
      ]
     },
     "metadata": {},
     "output_type": "display_data"
    },
    {
     "data": {
      "application/vnd.jupyter.widget-view+json": {
       "model_id": "c68a5cb7c65e49efb09440b550979d51",
       "version_major": 2,
       "version_minor": 0
      },
      "text/plain": [
       "Making ensembles:   0%|          | 0/1 [00:00<?, ?it/s]"
      ]
     },
     "metadata": {},
     "output_type": "display_data"
    },
    {
     "data": {
      "application/vnd.jupyter.widget-view+json": {
       "model_id": "3a7ef6cfca854762bfcd5e04ae7070ae",
       "version_major": 2,
       "version_minor": 0
      },
      "text/plain": [
       "network dynamic:   0%|          | 0/9999 [00:00<?, ?it/s]"
      ]
     },
     "metadata": {},
     "output_type": "display_data"
    },
    {
     "data": {
      "application/vnd.jupyter.widget-view+json": {
       "model_id": "45db76e748e641a4b48fb50db55bc355",
       "version_major": 2,
       "version_minor": 0
      },
      "text/plain": [
       "Variation of alpha:   0%|          | 0/1 [00:00<?, ?it/s]"
      ]
     },
     "metadata": {},
     "output_type": "display_data"
    },
    {
     "data": {
      "application/vnd.jupyter.widget-view+json": {
       "model_id": "2bb4e5f01dad4b80bba761b86157745b",
       "version_major": 2,
       "version_minor": 0
      },
      "text/plain": [
       "Making ensembles:   0%|          | 0/1 [00:00<?, ?it/s]"
      ]
     },
     "metadata": {},
     "output_type": "display_data"
    },
    {
     "data": {
      "application/vnd.jupyter.widget-view+json": {
       "model_id": "d09a211fc16b4cd1a5d41296f2f8304c",
       "version_major": 2,
       "version_minor": 0
      },
      "text/plain": [
       "network dynamic:   0%|          | 0/9999 [00:00<?, ?it/s]"
      ]
     },
     "metadata": {},
     "output_type": "display_data"
    },
    {
     "data": {
      "application/vnd.jupyter.widget-view+json": {
       "model_id": "cfcee2710c864c4985980b3efba0a487",
       "version_major": 2,
       "version_minor": 0
      },
      "text/plain": [
       "Variation of alpha:   0%|          | 0/1 [00:00<?, ?it/s]"
      ]
     },
     "metadata": {},
     "output_type": "display_data"
    },
    {
     "data": {
      "application/vnd.jupyter.widget-view+json": {
       "model_id": "1a3cd50046ce473f899efcea27c769dd",
       "version_major": 2,
       "version_minor": 0
      },
      "text/plain": [
       "Making ensembles:   0%|          | 0/1 [00:00<?, ?it/s]"
      ]
     },
     "metadata": {},
     "output_type": "display_data"
    },
    {
     "data": {
      "application/vnd.jupyter.widget-view+json": {
       "model_id": "4b981dcd86b04a52a8d04dbad9f37b5e",
       "version_major": 2,
       "version_minor": 0
      },
      "text/plain": [
       "network dynamic:   0%|          | 0/9999 [00:00<?, ?it/s]"
      ]
     },
     "metadata": {},
     "output_type": "display_data"
    },
    {
     "data": {
      "application/vnd.jupyter.widget-view+json": {
       "model_id": "96a2b40f88ee4813a018a1078f26ec93",
       "version_major": 2,
       "version_minor": 0
      },
      "text/plain": [
       "Variation of delay:   0%|          | 0/9 [00:00<?, ?it/s]"
      ]
     },
     "metadata": {},
     "output_type": "display_data"
    },
    {
     "data": {
      "application/vnd.jupyter.widget-view+json": {
       "model_id": "fa15941c4d1044cfb3d74a8542afc468",
       "version_major": 2,
       "version_minor": 0
      },
      "text/plain": [
       "Variation of alpha:   0%|          | 0/1 [00:00<?, ?it/s]"
      ]
     },
     "metadata": {},
     "output_type": "display_data"
    },
    {
     "data": {
      "application/vnd.jupyter.widget-view+json": {
       "model_id": "0c8e3db5d6f24ec1a681fea40d034687",
       "version_major": 2,
       "version_minor": 0
      },
      "text/plain": [
       "Making ensembles:   0%|          | 0/1 [00:00<?, ?it/s]"
      ]
     },
     "metadata": {},
     "output_type": "display_data"
    },
    {
     "data": {
      "application/vnd.jupyter.widget-view+json": {
       "model_id": "a1aadef1524b45a5952508025b881dc4",
       "version_major": 2,
       "version_minor": 0
      },
      "text/plain": [
       "network dynamic:   0%|          | 0/9999 [00:00<?, ?it/s]"
      ]
     },
     "metadata": {},
     "output_type": "display_data"
    },
    {
     "data": {
      "application/vnd.jupyter.widget-view+json": {
       "model_id": "0e3ebe9c83c44336929f3c97d30ab55d",
       "version_major": 2,
       "version_minor": 0
      },
      "text/plain": [
       "Variation of alpha:   0%|          | 0/1 [00:00<?, ?it/s]"
      ]
     },
     "metadata": {},
     "output_type": "display_data"
    },
    {
     "data": {
      "application/vnd.jupyter.widget-view+json": {
       "model_id": "59c9563aa28d4511ae09bd257bb7b9a5",
       "version_major": 2,
       "version_minor": 0
      },
      "text/plain": [
       "Making ensembles:   0%|          | 0/1 [00:00<?, ?it/s]"
      ]
     },
     "metadata": {},
     "output_type": "display_data"
    },
    {
     "data": {
      "application/vnd.jupyter.widget-view+json": {
       "model_id": "96d88757fd514b5eb3a28a46a30913c6",
       "version_major": 2,
       "version_minor": 0
      },
      "text/plain": [
       "network dynamic:   0%|          | 0/9999 [00:00<?, ?it/s]"
      ]
     },
     "metadata": {},
     "output_type": "display_data"
    },
    {
     "data": {
      "application/vnd.jupyter.widget-view+json": {
       "model_id": "a696079986d041e2ac7d15b325866c93",
       "version_major": 2,
       "version_minor": 0
      },
      "text/plain": [
       "Variation of alpha:   0%|          | 0/1 [00:00<?, ?it/s]"
      ]
     },
     "metadata": {},
     "output_type": "display_data"
    },
    {
     "data": {
      "application/vnd.jupyter.widget-view+json": {
       "model_id": "8ac343fbd9dd47928f8798647b6c679e",
       "version_major": 2,
       "version_minor": 0
      },
      "text/plain": [
       "Making ensembles:   0%|          | 0/1 [00:00<?, ?it/s]"
      ]
     },
     "metadata": {},
     "output_type": "display_data"
    },
    {
     "data": {
      "application/vnd.jupyter.widget-view+json": {
       "model_id": "8748d1975af3434481289e748bcbde65",
       "version_major": 2,
       "version_minor": 0
      },
      "text/plain": [
       "network dynamic:   0%|          | 0/9999 [00:00<?, ?it/s]"
      ]
     },
     "metadata": {},
     "output_type": "display_data"
    },
    {
     "data": {
      "application/vnd.jupyter.widget-view+json": {
       "model_id": "7de48e4f48c74e70aed038b12fa624b6",
       "version_major": 2,
       "version_minor": 0
      },
      "text/plain": [
       "Variation of alpha:   0%|          | 0/1 [00:00<?, ?it/s]"
      ]
     },
     "metadata": {},
     "output_type": "display_data"
    },
    {
     "data": {
      "application/vnd.jupyter.widget-view+json": {
       "model_id": "939eda09cd8342da894a420a4b1513b5",
       "version_major": 2,
       "version_minor": 0
      },
      "text/plain": [
       "Making ensembles:   0%|          | 0/1 [00:00<?, ?it/s]"
      ]
     },
     "metadata": {},
     "output_type": "display_data"
    },
    {
     "data": {
      "application/vnd.jupyter.widget-view+json": {
       "model_id": "74e15063dba64e4d940380d627549ec4",
       "version_major": 2,
       "version_minor": 0
      },
      "text/plain": [
       "network dynamic:   0%|          | 0/9999 [00:00<?, ?it/s]"
      ]
     },
     "metadata": {},
     "output_type": "display_data"
    },
    {
     "data": {
      "application/vnd.jupyter.widget-view+json": {
       "model_id": "ea68f9644b3c445c8b030ccb8d7731e6",
       "version_major": 2,
       "version_minor": 0
      },
      "text/plain": [
       "Variation of alpha:   0%|          | 0/1 [00:00<?, ?it/s]"
      ]
     },
     "metadata": {},
     "output_type": "display_data"
    },
    {
     "data": {
      "application/vnd.jupyter.widget-view+json": {
       "model_id": "705974cc43fb4bdd966477b1d7442ce6",
       "version_major": 2,
       "version_minor": 0
      },
      "text/plain": [
       "Making ensembles:   0%|          | 0/1 [00:00<?, ?it/s]"
      ]
     },
     "metadata": {},
     "output_type": "display_data"
    },
    {
     "data": {
      "application/vnd.jupyter.widget-view+json": {
       "model_id": "14942b7227b44c3c8e7f2b329382e8a7",
       "version_major": 2,
       "version_minor": 0
      },
      "text/plain": [
       "network dynamic:   0%|          | 0/9999 [00:00<?, ?it/s]"
      ]
     },
     "metadata": {},
     "output_type": "display_data"
    },
    {
     "data": {
      "application/vnd.jupyter.widget-view+json": {
       "model_id": "dfa28cecc7084ad29e48d3fd53789936",
       "version_major": 2,
       "version_minor": 0
      },
      "text/plain": [
       "Variation of alpha:   0%|          | 0/1 [00:00<?, ?it/s]"
      ]
     },
     "metadata": {},
     "output_type": "display_data"
    },
    {
     "data": {
      "application/vnd.jupyter.widget-view+json": {
       "model_id": "28c30f1218b6475fb2d735b1afb81351",
       "version_major": 2,
       "version_minor": 0
      },
      "text/plain": [
       "Making ensembles:   0%|          | 0/1 [00:00<?, ?it/s]"
      ]
     },
     "metadata": {},
     "output_type": "display_data"
    },
    {
     "data": {
      "application/vnd.jupyter.widget-view+json": {
       "model_id": "70333f3054fc4a60bd35225d3f93232f",
       "version_major": 2,
       "version_minor": 0
      },
      "text/plain": [
       "network dynamic:   0%|          | 0/9999 [00:00<?, ?it/s]"
      ]
     },
     "metadata": {},
     "output_type": "display_data"
    },
    {
     "data": {
      "application/vnd.jupyter.widget-view+json": {
       "model_id": "5ab4aebd54c4447c825d30997a6a64ac",
       "version_major": 2,
       "version_minor": 0
      },
      "text/plain": [
       "Variation of alpha:   0%|          | 0/1 [00:00<?, ?it/s]"
      ]
     },
     "metadata": {},
     "output_type": "display_data"
    },
    {
     "data": {
      "application/vnd.jupyter.widget-view+json": {
       "model_id": "86958a4f47234b4a88ff0a4e3e50e55a",
       "version_major": 2,
       "version_minor": 0
      },
      "text/plain": [
       "Making ensembles:   0%|          | 0/1 [00:00<?, ?it/s]"
      ]
     },
     "metadata": {},
     "output_type": "display_data"
    },
    {
     "data": {
      "application/vnd.jupyter.widget-view+json": {
       "model_id": "e51ec5ec3e134e4ab2b12c09c228d927",
       "version_major": 2,
       "version_minor": 0
      },
      "text/plain": [
       "network dynamic:   0%|          | 0/9999 [00:00<?, ?it/s]"
      ]
     },
     "metadata": {},
     "output_type": "display_data"
    },
    {
     "data": {
      "application/vnd.jupyter.widget-view+json": {
       "model_id": "a5fe2566c5ef41858f45976628a2fe09",
       "version_major": 2,
       "version_minor": 0
      },
      "text/plain": [
       "Variation of alpha:   0%|          | 0/1 [00:00<?, ?it/s]"
      ]
     },
     "metadata": {},
     "output_type": "display_data"
    },
    {
     "data": {
      "application/vnd.jupyter.widget-view+json": {
       "model_id": "3ed26858d40245efa9895d3c9bab42b7",
       "version_major": 2,
       "version_minor": 0
      },
      "text/plain": [
       "Making ensembles:   0%|          | 0/1 [00:00<?, ?it/s]"
      ]
     },
     "metadata": {},
     "output_type": "display_data"
    },
    {
     "data": {
      "application/vnd.jupyter.widget-view+json": {
       "model_id": "1f869c793ee54bd1a8f82f5c01feec86",
       "version_major": 2,
       "version_minor": 0
      },
      "text/plain": [
       "network dynamic:   0%|          | 0/9999 [00:00<?, ?it/s]"
      ]
     },
     "metadata": {},
     "output_type": "display_data"
    },
    {
     "data": {
      "application/vnd.jupyter.widget-view+json": {
       "model_id": "00bf24b983b44f7a9c21846f35486ebf",
       "version_major": 2,
       "version_minor": 0
      },
      "text/plain": [
       "Variation of alpha:   0%|          | 0/1 [00:00<?, ?it/s]"
      ]
     },
     "metadata": {},
     "output_type": "display_data"
    },
    {
     "data": {
      "application/vnd.jupyter.widget-view+json": {
       "model_id": "5107617157484257ae6559261be7529f",
       "version_major": 2,
       "version_minor": 0
      },
      "text/plain": [
       "Making ensembles:   0%|          | 0/1 [00:00<?, ?it/s]"
      ]
     },
     "metadata": {},
     "output_type": "display_data"
    },
    {
     "data": {
      "application/vnd.jupyter.widget-view+json": {
       "model_id": "e70575bef44b4dff960343498244c7ab",
       "version_major": 2,
       "version_minor": 0
      },
      "text/plain": [
       "network dynamic:   0%|          | 0/9999 [00:00<?, ?it/s]"
      ]
     },
     "metadata": {},
     "output_type": "display_data"
    },
    {
     "data": {
      "application/vnd.jupyter.widget-view+json": {
       "model_id": "597a7906d3e4438d83b48058d1a0cee2",
       "version_major": 2,
       "version_minor": 0
      },
      "text/plain": [
       "Variation of delay:   0%|          | 0/9 [00:00<?, ?it/s]"
      ]
     },
     "metadata": {},
     "output_type": "display_data"
    },
    {
     "data": {
      "application/vnd.jupyter.widget-view+json": {
       "model_id": "046eb7db9e174af5a808ec2ef4b929c1",
       "version_major": 2,
       "version_minor": 0
      },
      "text/plain": [
       "Variation of alpha:   0%|          | 0/1 [00:00<?, ?it/s]"
      ]
     },
     "metadata": {},
     "output_type": "display_data"
    },
    {
     "data": {
      "application/vnd.jupyter.widget-view+json": {
       "model_id": "483841922dd24eee92e87a95b5571462",
       "version_major": 2,
       "version_minor": 0
      },
      "text/plain": [
       "Making ensembles:   0%|          | 0/1 [00:00<?, ?it/s]"
      ]
     },
     "metadata": {},
     "output_type": "display_data"
    },
    {
     "data": {
      "application/vnd.jupyter.widget-view+json": {
       "model_id": "fbb604a305844238aafb21f275ded98c",
       "version_major": 2,
       "version_minor": 0
      },
      "text/plain": [
       "network dynamic:   0%|          | 0/9999 [00:00<?, ?it/s]"
      ]
     },
     "metadata": {},
     "output_type": "display_data"
    },
    {
     "data": {
      "application/vnd.jupyter.widget-view+json": {
       "model_id": "c317069c95724a8b83ad0d6ec15b04f1",
       "version_major": 2,
       "version_minor": 0
      },
      "text/plain": [
       "Variation of alpha:   0%|          | 0/1 [00:00<?, ?it/s]"
      ]
     },
     "metadata": {},
     "output_type": "display_data"
    },
    {
     "data": {
      "application/vnd.jupyter.widget-view+json": {
       "model_id": "c98c5618d4b44d16937fe04435579812",
       "version_major": 2,
       "version_minor": 0
      },
      "text/plain": [
       "Making ensembles:   0%|          | 0/1 [00:00<?, ?it/s]"
      ]
     },
     "metadata": {},
     "output_type": "display_data"
    },
    {
     "data": {
      "application/vnd.jupyter.widget-view+json": {
       "model_id": "4b61f0f0734b41a088a46e9b348665e3",
       "version_major": 2,
       "version_minor": 0
      },
      "text/plain": [
       "network dynamic:   0%|          | 0/9999 [00:00<?, ?it/s]"
      ]
     },
     "metadata": {},
     "output_type": "display_data"
    },
    {
     "data": {
      "application/vnd.jupyter.widget-view+json": {
       "model_id": "cb364b87da394a508b569ec66f33e5e5",
       "version_major": 2,
       "version_minor": 0
      },
      "text/plain": [
       "Variation of alpha:   0%|          | 0/1 [00:00<?, ?it/s]"
      ]
     },
     "metadata": {},
     "output_type": "display_data"
    },
    {
     "data": {
      "application/vnd.jupyter.widget-view+json": {
       "model_id": "80a4df68e29743088da015a6e6a0b724",
       "version_major": 2,
       "version_minor": 0
      },
      "text/plain": [
       "Making ensembles:   0%|          | 0/1 [00:00<?, ?it/s]"
      ]
     },
     "metadata": {},
     "output_type": "display_data"
    },
    {
     "data": {
      "application/vnd.jupyter.widget-view+json": {
       "model_id": "44afbff781d640e586dcf2899631961d",
       "version_major": 2,
       "version_minor": 0
      },
      "text/plain": [
       "network dynamic:   0%|          | 0/9999 [00:00<?, ?it/s]"
      ]
     },
     "metadata": {},
     "output_type": "display_data"
    },
    {
     "data": {
      "application/vnd.jupyter.widget-view+json": {
       "model_id": "4b1be19e33d7491f81fe49369ec3cff3",
       "version_major": 2,
       "version_minor": 0
      },
      "text/plain": [
       "Variation of alpha:   0%|          | 0/1 [00:00<?, ?it/s]"
      ]
     },
     "metadata": {},
     "output_type": "display_data"
    },
    {
     "data": {
      "application/vnd.jupyter.widget-view+json": {
       "model_id": "86e1db67b487475ba6741eae8d6ef4d6",
       "version_major": 2,
       "version_minor": 0
      },
      "text/plain": [
       "Making ensembles:   0%|          | 0/1 [00:00<?, ?it/s]"
      ]
     },
     "metadata": {},
     "output_type": "display_data"
    },
    {
     "data": {
      "application/vnd.jupyter.widget-view+json": {
       "model_id": "0768734643194d969a38320013ed76b9",
       "version_major": 2,
       "version_minor": 0
      },
      "text/plain": [
       "network dynamic:   0%|          | 0/9999 [00:00<?, ?it/s]"
      ]
     },
     "metadata": {},
     "output_type": "display_data"
    },
    {
     "data": {
      "application/vnd.jupyter.widget-view+json": {
       "model_id": "5552ed8a9e894e70a650e198719a482a",
       "version_major": 2,
       "version_minor": 0
      },
      "text/plain": [
       "Variation of alpha:   0%|          | 0/1 [00:00<?, ?it/s]"
      ]
     },
     "metadata": {},
     "output_type": "display_data"
    },
    {
     "data": {
      "application/vnd.jupyter.widget-view+json": {
       "model_id": "befa8077b061431280fec056d1ff97d8",
       "version_major": 2,
       "version_minor": 0
      },
      "text/plain": [
       "Making ensembles:   0%|          | 0/1 [00:00<?, ?it/s]"
      ]
     },
     "metadata": {},
     "output_type": "display_data"
    },
    {
     "data": {
      "application/vnd.jupyter.widget-view+json": {
       "model_id": "db74afc0174349a690a8a30a94968149",
       "version_major": 2,
       "version_minor": 0
      },
      "text/plain": [
       "network dynamic:   0%|          | 0/9999 [00:00<?, ?it/s]"
      ]
     },
     "metadata": {},
     "output_type": "display_data"
    },
    {
     "data": {
      "application/vnd.jupyter.widget-view+json": {
       "model_id": "35ffec678f714879bd7527a2fef0d1f1",
       "version_major": 2,
       "version_minor": 0
      },
      "text/plain": [
       "Variation of alpha:   0%|          | 0/1 [00:00<?, ?it/s]"
      ]
     },
     "metadata": {},
     "output_type": "display_data"
    },
    {
     "data": {
      "application/vnd.jupyter.widget-view+json": {
       "model_id": "073ad1ad29b34ac781a25c350c2f32e1",
       "version_major": 2,
       "version_minor": 0
      },
      "text/plain": [
       "Making ensembles:   0%|          | 0/1 [00:00<?, ?it/s]"
      ]
     },
     "metadata": {},
     "output_type": "display_data"
    },
    {
     "data": {
      "application/vnd.jupyter.widget-view+json": {
       "model_id": "b1b6802a2f014ed9b0d5f443229e5d8c",
       "version_major": 2,
       "version_minor": 0
      },
      "text/plain": [
       "network dynamic:   0%|          | 0/9999 [00:00<?, ?it/s]"
      ]
     },
     "metadata": {},
     "output_type": "display_data"
    },
    {
     "data": {
      "application/vnd.jupyter.widget-view+json": {
       "model_id": "4c8538bc7fe640299f882176f9562ba9",
       "version_major": 2,
       "version_minor": 0
      },
      "text/plain": [
       "Variation of alpha:   0%|          | 0/1 [00:00<?, ?it/s]"
      ]
     },
     "metadata": {},
     "output_type": "display_data"
    },
    {
     "data": {
      "application/vnd.jupyter.widget-view+json": {
       "model_id": "a4699a6675874c0d99544ba8097c6949",
       "version_major": 2,
       "version_minor": 0
      },
      "text/plain": [
       "Making ensembles:   0%|          | 0/1 [00:00<?, ?it/s]"
      ]
     },
     "metadata": {},
     "output_type": "display_data"
    },
    {
     "data": {
      "application/vnd.jupyter.widget-view+json": {
       "model_id": "7a4982148def404ea23fbd16ac30c1a7",
       "version_major": 2,
       "version_minor": 0
      },
      "text/plain": [
       "network dynamic:   0%|          | 0/9999 [00:00<?, ?it/s]"
      ]
     },
     "metadata": {},
     "output_type": "display_data"
    },
    {
     "data": {
      "application/vnd.jupyter.widget-view+json": {
       "model_id": "4755424b566148c7bd263a2da9f8ea43",
       "version_major": 2,
       "version_minor": 0
      },
      "text/plain": [
       "Variation of alpha:   0%|          | 0/1 [00:00<?, ?it/s]"
      ]
     },
     "metadata": {},
     "output_type": "display_data"
    },
    {
     "data": {
      "application/vnd.jupyter.widget-view+json": {
       "model_id": "39bd73aac50f4029a3413ff404c2f08c",
       "version_major": 2,
       "version_minor": 0
      },
      "text/plain": [
       "Making ensembles:   0%|          | 0/1 [00:00<?, ?it/s]"
      ]
     },
     "metadata": {},
     "output_type": "display_data"
    },
    {
     "data": {
      "application/vnd.jupyter.widget-view+json": {
       "model_id": "798b254b68964a12b407365affafb9e8",
       "version_major": 2,
       "version_minor": 0
      },
      "text/plain": [
       "network dynamic:   0%|          | 0/9999 [00:00<?, ?it/s]"
      ]
     },
     "metadata": {},
     "output_type": "display_data"
    },
    {
     "data": {
      "application/vnd.jupyter.widget-view+json": {
       "model_id": "1a0cacf5165e43958b209b2f7f7fc1ec",
       "version_major": 2,
       "version_minor": 0
      },
      "text/plain": [
       "Variation of alpha:   0%|          | 0/1 [00:00<?, ?it/s]"
      ]
     },
     "metadata": {},
     "output_type": "display_data"
    },
    {
     "data": {
      "application/vnd.jupyter.widget-view+json": {
       "model_id": "8fd6f141548a4abd943907c06a0c3f5b",
       "version_major": 2,
       "version_minor": 0
      },
      "text/plain": [
       "Making ensembles:   0%|          | 0/1 [00:00<?, ?it/s]"
      ]
     },
     "metadata": {},
     "output_type": "display_data"
    },
    {
     "data": {
      "application/vnd.jupyter.widget-view+json": {
       "model_id": "b416c7971287466d969d0e05f651f69e",
       "version_major": 2,
       "version_minor": 0
      },
      "text/plain": [
       "network dynamic:   0%|          | 0/9999 [00:00<?, ?it/s]"
      ]
     },
     "metadata": {},
     "output_type": "display_data"
    },
    {
     "data": {
      "application/vnd.jupyter.widget-view+json": {
       "model_id": "b23ea525b8ce4fd58704b7b06e1b6803",
       "version_major": 2,
       "version_minor": 0
      },
      "text/plain": [
       "Variation of delay:   0%|          | 0/9 [00:00<?, ?it/s]"
      ]
     },
     "metadata": {},
     "output_type": "display_data"
    },
    {
     "data": {
      "application/vnd.jupyter.widget-view+json": {
       "model_id": "7e13c244764346b59d484e6199f03964",
       "version_major": 2,
       "version_minor": 0
      },
      "text/plain": [
       "Variation of alpha:   0%|          | 0/1 [00:00<?, ?it/s]"
      ]
     },
     "metadata": {},
     "output_type": "display_data"
    },
    {
     "data": {
      "application/vnd.jupyter.widget-view+json": {
       "model_id": "2d352d9a981b48cf8d89faf9b60d850b",
       "version_major": 2,
       "version_minor": 0
      },
      "text/plain": [
       "Making ensembles:   0%|          | 0/1 [00:00<?, ?it/s]"
      ]
     },
     "metadata": {},
     "output_type": "display_data"
    },
    {
     "data": {
      "application/vnd.jupyter.widget-view+json": {
       "model_id": "85ad2d41fa664def9cd34b19a7360ba4",
       "version_major": 2,
       "version_minor": 0
      },
      "text/plain": [
       "network dynamic:   0%|          | 0/9999 [00:00<?, ?it/s]"
      ]
     },
     "metadata": {},
     "output_type": "display_data"
    },
    {
     "data": {
      "application/vnd.jupyter.widget-view+json": {
       "model_id": "f7392297cefc42f3bc4906a9ffd5dab1",
       "version_major": 2,
       "version_minor": 0
      },
      "text/plain": [
       "Variation of alpha:   0%|          | 0/1 [00:00<?, ?it/s]"
      ]
     },
     "metadata": {},
     "output_type": "display_data"
    },
    {
     "data": {
      "application/vnd.jupyter.widget-view+json": {
       "model_id": "1f2a0eb5628b456783faf5144dd5a914",
       "version_major": 2,
       "version_minor": 0
      },
      "text/plain": [
       "Making ensembles:   0%|          | 0/1 [00:00<?, ?it/s]"
      ]
     },
     "metadata": {},
     "output_type": "display_data"
    },
    {
     "data": {
      "application/vnd.jupyter.widget-view+json": {
       "model_id": "214552d8939243bd87244d41061e5710",
       "version_major": 2,
       "version_minor": 0
      },
      "text/plain": [
       "network dynamic:   0%|          | 0/9999 [00:00<?, ?it/s]"
      ]
     },
     "metadata": {},
     "output_type": "display_data"
    },
    {
     "data": {
      "application/vnd.jupyter.widget-view+json": {
       "model_id": "b6c01674381d42b2aa0bd163b09735f8",
       "version_major": 2,
       "version_minor": 0
      },
      "text/plain": [
       "Variation of alpha:   0%|          | 0/1 [00:00<?, ?it/s]"
      ]
     },
     "metadata": {},
     "output_type": "display_data"
    },
    {
     "data": {
      "application/vnd.jupyter.widget-view+json": {
       "model_id": "d02f70594e0948109a9fee0e20596ac1",
       "version_major": 2,
       "version_minor": 0
      },
      "text/plain": [
       "Making ensembles:   0%|          | 0/1 [00:00<?, ?it/s]"
      ]
     },
     "metadata": {},
     "output_type": "display_data"
    },
    {
     "data": {
      "application/vnd.jupyter.widget-view+json": {
       "model_id": "390c5b6db2344206b5c60d06bb648b27",
       "version_major": 2,
       "version_minor": 0
      },
      "text/plain": [
       "network dynamic:   0%|          | 0/9999 [00:00<?, ?it/s]"
      ]
     },
     "metadata": {},
     "output_type": "display_data"
    },
    {
     "data": {
      "application/vnd.jupyter.widget-view+json": {
       "model_id": "2975a017a9a14de0941b922a86cb4b98",
       "version_major": 2,
       "version_minor": 0
      },
      "text/plain": [
       "Variation of alpha:   0%|          | 0/1 [00:00<?, ?it/s]"
      ]
     },
     "metadata": {},
     "output_type": "display_data"
    },
    {
     "data": {
      "application/vnd.jupyter.widget-view+json": {
       "model_id": "391dc7f49e354ce18e71c119cc68f99f",
       "version_major": 2,
       "version_minor": 0
      },
      "text/plain": [
       "Making ensembles:   0%|          | 0/1 [00:00<?, ?it/s]"
      ]
     },
     "metadata": {},
     "output_type": "display_data"
    },
    {
     "data": {
      "application/vnd.jupyter.widget-view+json": {
       "model_id": "ac170726b6f54bc38eb8b8e45e0d182a",
       "version_major": 2,
       "version_minor": 0
      },
      "text/plain": [
       "network dynamic:   0%|          | 0/9999 [00:00<?, ?it/s]"
      ]
     },
     "metadata": {},
     "output_type": "display_data"
    },
    {
     "data": {
      "application/vnd.jupyter.widget-view+json": {
       "model_id": "fbfc766a79af4947bf5689ec85db260b",
       "version_major": 2,
       "version_minor": 0
      },
      "text/plain": [
       "Variation of alpha:   0%|          | 0/1 [00:00<?, ?it/s]"
      ]
     },
     "metadata": {},
     "output_type": "display_data"
    },
    {
     "data": {
      "application/vnd.jupyter.widget-view+json": {
       "model_id": "ea992294b51747b0ac83e38e84d6c838",
       "version_major": 2,
       "version_minor": 0
      },
      "text/plain": [
       "Making ensembles:   0%|          | 0/1 [00:00<?, ?it/s]"
      ]
     },
     "metadata": {},
     "output_type": "display_data"
    },
    {
     "data": {
      "application/vnd.jupyter.widget-view+json": {
       "model_id": "741255c2b76243969e133889a7374b8e",
       "version_major": 2,
       "version_minor": 0
      },
      "text/plain": [
       "network dynamic:   0%|          | 0/9999 [00:00<?, ?it/s]"
      ]
     },
     "metadata": {},
     "output_type": "display_data"
    },
    {
     "data": {
      "application/vnd.jupyter.widget-view+json": {
       "model_id": "05d246b66ac44586847436f98d2c5096",
       "version_major": 2,
       "version_minor": 0
      },
      "text/plain": [
       "Variation of alpha:   0%|          | 0/1 [00:00<?, ?it/s]"
      ]
     },
     "metadata": {},
     "output_type": "display_data"
    },
    {
     "data": {
      "application/vnd.jupyter.widget-view+json": {
       "model_id": "67ecce541b3648ebbddc514fe79a7df3",
       "version_major": 2,
       "version_minor": 0
      },
      "text/plain": [
       "Making ensembles:   0%|          | 0/1 [00:00<?, ?it/s]"
      ]
     },
     "metadata": {},
     "output_type": "display_data"
    },
    {
     "data": {
      "application/vnd.jupyter.widget-view+json": {
       "model_id": "fe1f90342d4d42e79a45ab80dc291b78",
       "version_major": 2,
       "version_minor": 0
      },
      "text/plain": [
       "network dynamic:   0%|          | 0/9999 [00:00<?, ?it/s]"
      ]
     },
     "metadata": {},
     "output_type": "display_data"
    },
    {
     "data": {
      "application/vnd.jupyter.widget-view+json": {
       "model_id": "0c2b3ab4d3d24aaf82d33d998a1e7aac",
       "version_major": 2,
       "version_minor": 0
      },
      "text/plain": [
       "Variation of alpha:   0%|          | 0/1 [00:00<?, ?it/s]"
      ]
     },
     "metadata": {},
     "output_type": "display_data"
    },
    {
     "data": {
      "application/vnd.jupyter.widget-view+json": {
       "model_id": "bde95326be5745289f630bf36384b7af",
       "version_major": 2,
       "version_minor": 0
      },
      "text/plain": [
       "Making ensembles:   0%|          | 0/1 [00:00<?, ?it/s]"
      ]
     },
     "metadata": {},
     "output_type": "display_data"
    },
    {
     "data": {
      "application/vnd.jupyter.widget-view+json": {
       "model_id": "50eab12bd51a44aca5019e6daf220d1b",
       "version_major": 2,
       "version_minor": 0
      },
      "text/plain": [
       "network dynamic:   0%|          | 0/9999 [00:00<?, ?it/s]"
      ]
     },
     "metadata": {},
     "output_type": "display_data"
    },
    {
     "data": {
      "application/vnd.jupyter.widget-view+json": {
       "model_id": "336a39b474a74024a8117f95882a4368",
       "version_major": 2,
       "version_minor": 0
      },
      "text/plain": [
       "Variation of alpha:   0%|          | 0/1 [00:00<?, ?it/s]"
      ]
     },
     "metadata": {},
     "output_type": "display_data"
    },
    {
     "data": {
      "application/vnd.jupyter.widget-view+json": {
       "model_id": "098530c5f34a4894a7d582a35a33f5fd",
       "version_major": 2,
       "version_minor": 0
      },
      "text/plain": [
       "Making ensembles:   0%|          | 0/1 [00:00<?, ?it/s]"
      ]
     },
     "metadata": {},
     "output_type": "display_data"
    },
    {
     "data": {
      "application/vnd.jupyter.widget-view+json": {
       "model_id": "21be9a3a6aea449c97dc58fe00e9fc9e",
       "version_major": 2,
       "version_minor": 0
      },
      "text/plain": [
       "network dynamic:   0%|          | 0/9999 [00:00<?, ?it/s]"
      ]
     },
     "metadata": {},
     "output_type": "display_data"
    },
    {
     "data": {
      "application/vnd.jupyter.widget-view+json": {
       "model_id": "b413d26f0b4d4cf796b0d33ddb3e845d",
       "version_major": 2,
       "version_minor": 0
      },
      "text/plain": [
       "Variation of alpha:   0%|          | 0/1 [00:00<?, ?it/s]"
      ]
     },
     "metadata": {},
     "output_type": "display_data"
    },
    {
     "data": {
      "application/vnd.jupyter.widget-view+json": {
       "model_id": "3ac9382049134cbfaaca75babff20a04",
       "version_major": 2,
       "version_minor": 0
      },
      "text/plain": [
       "Making ensembles:   0%|          | 0/1 [00:00<?, ?it/s]"
      ]
     },
     "metadata": {},
     "output_type": "display_data"
    },
    {
     "data": {
      "application/vnd.jupyter.widget-view+json": {
       "model_id": "70fbe9f61ed84cf89543d46084c89c78",
       "version_major": 2,
       "version_minor": 0
      },
      "text/plain": [
       "network dynamic:   0%|          | 0/9999 [00:00<?, ?it/s]"
      ]
     },
     "metadata": {},
     "output_type": "display_data"
    },
    {
     "data": {
      "application/vnd.jupyter.widget-view+json": {
       "model_id": "811f51909fa64145828b0d80385099d2",
       "version_major": 2,
       "version_minor": 0
      },
      "text/plain": [
       "Variation of delay:   0%|          | 0/9 [00:00<?, ?it/s]"
      ]
     },
     "metadata": {},
     "output_type": "display_data"
    },
    {
     "data": {
      "application/vnd.jupyter.widget-view+json": {
       "model_id": "b6e684d39e0143188f66fe020a967b9a",
       "version_major": 2,
       "version_minor": 0
      },
      "text/plain": [
       "Variation of alpha:   0%|          | 0/1 [00:00<?, ?it/s]"
      ]
     },
     "metadata": {},
     "output_type": "display_data"
    },
    {
     "data": {
      "application/vnd.jupyter.widget-view+json": {
       "model_id": "b12bf401c26344dca37e51968cc74c63",
       "version_major": 2,
       "version_minor": 0
      },
      "text/plain": [
       "Making ensembles:   0%|          | 0/1 [00:00<?, ?it/s]"
      ]
     },
     "metadata": {},
     "output_type": "display_data"
    },
    {
     "data": {
      "application/vnd.jupyter.widget-view+json": {
       "model_id": "de0b39515e684b2ba4dbbf4525ed3203",
       "version_major": 2,
       "version_minor": 0
      },
      "text/plain": [
       "network dynamic:   0%|          | 0/9999 [00:00<?, ?it/s]"
      ]
     },
     "metadata": {},
     "output_type": "display_data"
    },
    {
     "data": {
      "application/vnd.jupyter.widget-view+json": {
       "model_id": "b73ef3dfe36f404393aaf037650e45bd",
       "version_major": 2,
       "version_minor": 0
      },
      "text/plain": [
       "Variation of alpha:   0%|          | 0/1 [00:00<?, ?it/s]"
      ]
     },
     "metadata": {},
     "output_type": "display_data"
    },
    {
     "data": {
      "application/vnd.jupyter.widget-view+json": {
       "model_id": "2f69273df64b41578d88edf19c1b2f4d",
       "version_major": 2,
       "version_minor": 0
      },
      "text/plain": [
       "Making ensembles:   0%|          | 0/1 [00:00<?, ?it/s]"
      ]
     },
     "metadata": {},
     "output_type": "display_data"
    },
    {
     "data": {
      "application/vnd.jupyter.widget-view+json": {
       "model_id": "3c3051e94b1c44d3b2b9c27a049722ff",
       "version_major": 2,
       "version_minor": 0
      },
      "text/plain": [
       "network dynamic:   0%|          | 0/9999 [00:00<?, ?it/s]"
      ]
     },
     "metadata": {},
     "output_type": "display_data"
    },
    {
     "data": {
      "application/vnd.jupyter.widget-view+json": {
       "model_id": "f35ecf8925834b95b4330785a15b984c",
       "version_major": 2,
       "version_minor": 0
      },
      "text/plain": [
       "Variation of alpha:   0%|          | 0/1 [00:00<?, ?it/s]"
      ]
     },
     "metadata": {},
     "output_type": "display_data"
    },
    {
     "data": {
      "application/vnd.jupyter.widget-view+json": {
       "model_id": "1e884af136574afab7d1355fc4bfb1b5",
       "version_major": 2,
       "version_minor": 0
      },
      "text/plain": [
       "Making ensembles:   0%|          | 0/1 [00:00<?, ?it/s]"
      ]
     },
     "metadata": {},
     "output_type": "display_data"
    },
    {
     "data": {
      "application/vnd.jupyter.widget-view+json": {
       "model_id": "d3695c4ef8a746759adb221e831ce8e9",
       "version_major": 2,
       "version_minor": 0
      },
      "text/plain": [
       "network dynamic:   0%|          | 0/9999 [00:00<?, ?it/s]"
      ]
     },
     "metadata": {},
     "output_type": "display_data"
    },
    {
     "data": {
      "application/vnd.jupyter.widget-view+json": {
       "model_id": "bd5e472d2d464beabffe8cc870f1f7cc",
       "version_major": 2,
       "version_minor": 0
      },
      "text/plain": [
       "Variation of alpha:   0%|          | 0/1 [00:00<?, ?it/s]"
      ]
     },
     "metadata": {},
     "output_type": "display_data"
    },
    {
     "data": {
      "application/vnd.jupyter.widget-view+json": {
       "model_id": "bbcc01be3e504ccbb877a16b4daa5edf",
       "version_major": 2,
       "version_minor": 0
      },
      "text/plain": [
       "Making ensembles:   0%|          | 0/1 [00:00<?, ?it/s]"
      ]
     },
     "metadata": {},
     "output_type": "display_data"
    },
    {
     "data": {
      "application/vnd.jupyter.widget-view+json": {
       "model_id": "3cfb69707ba24fac92a90a78ee90a5d1",
       "version_major": 2,
       "version_minor": 0
      },
      "text/plain": [
       "network dynamic:   0%|          | 0/9999 [00:00<?, ?it/s]"
      ]
     },
     "metadata": {},
     "output_type": "display_data"
    },
    {
     "data": {
      "application/vnd.jupyter.widget-view+json": {
       "model_id": "ec309ad5d70c4c9286904bc96ae4dd4c",
       "version_major": 2,
       "version_minor": 0
      },
      "text/plain": [
       "Variation of alpha:   0%|          | 0/1 [00:00<?, ?it/s]"
      ]
     },
     "metadata": {},
     "output_type": "display_data"
    },
    {
     "data": {
      "application/vnd.jupyter.widget-view+json": {
       "model_id": "cc5ed139b02442018b3a8c4ae20a452f",
       "version_major": 2,
       "version_minor": 0
      },
      "text/plain": [
       "Making ensembles:   0%|          | 0/1 [00:00<?, ?it/s]"
      ]
     },
     "metadata": {},
     "output_type": "display_data"
    },
    {
     "data": {
      "application/vnd.jupyter.widget-view+json": {
       "model_id": "1c2e43030ea94a228131c260786b7bc6",
       "version_major": 2,
       "version_minor": 0
      },
      "text/plain": [
       "network dynamic:   0%|          | 0/9999 [00:00<?, ?it/s]"
      ]
     },
     "metadata": {},
     "output_type": "display_data"
    },
    {
     "data": {
      "application/vnd.jupyter.widget-view+json": {
       "model_id": "06a418f8fc84416aafc520a0732c841a",
       "version_major": 2,
       "version_minor": 0
      },
      "text/plain": [
       "Variation of alpha:   0%|          | 0/1 [00:00<?, ?it/s]"
      ]
     },
     "metadata": {},
     "output_type": "display_data"
    },
    {
     "data": {
      "application/vnd.jupyter.widget-view+json": {
       "model_id": "587de230a3554da2bb7e1c4b7e3472db",
       "version_major": 2,
       "version_minor": 0
      },
      "text/plain": [
       "Making ensembles:   0%|          | 0/1 [00:00<?, ?it/s]"
      ]
     },
     "metadata": {},
     "output_type": "display_data"
    },
    {
     "data": {
      "application/vnd.jupyter.widget-view+json": {
       "model_id": "f8648487c0814a239585e7c72b8f0960",
       "version_major": 2,
       "version_minor": 0
      },
      "text/plain": [
       "network dynamic:   0%|          | 0/9999 [00:00<?, ?it/s]"
      ]
     },
     "metadata": {},
     "output_type": "display_data"
    },
    {
     "data": {
      "application/vnd.jupyter.widget-view+json": {
       "model_id": "c327aecb141847dbb6debd5eb2a7182a",
       "version_major": 2,
       "version_minor": 0
      },
      "text/plain": [
       "Variation of alpha:   0%|          | 0/1 [00:00<?, ?it/s]"
      ]
     },
     "metadata": {},
     "output_type": "display_data"
    },
    {
     "data": {
      "application/vnd.jupyter.widget-view+json": {
       "model_id": "0715c0b2e42f4bdfbd3191b47476501c",
       "version_major": 2,
       "version_minor": 0
      },
      "text/plain": [
       "Making ensembles:   0%|          | 0/1 [00:00<?, ?it/s]"
      ]
     },
     "metadata": {},
     "output_type": "display_data"
    },
    {
     "data": {
      "application/vnd.jupyter.widget-view+json": {
       "model_id": "fb3d1b8db98841abbe1627a63ff80cdc",
       "version_major": 2,
       "version_minor": 0
      },
      "text/plain": [
       "network dynamic:   0%|          | 0/9999 [00:00<?, ?it/s]"
      ]
     },
     "metadata": {},
     "output_type": "display_data"
    },
    {
     "data": {
      "application/vnd.jupyter.widget-view+json": {
       "model_id": "21ce51ce15dd403d90177dc5df39ba52",
       "version_major": 2,
       "version_minor": 0
      },
      "text/plain": [
       "Variation of alpha:   0%|          | 0/1 [00:00<?, ?it/s]"
      ]
     },
     "metadata": {},
     "output_type": "display_data"
    },
    {
     "data": {
      "application/vnd.jupyter.widget-view+json": {
       "model_id": "8d31c51d20834f439a68b4650a93cb8d",
       "version_major": 2,
       "version_minor": 0
      },
      "text/plain": [
       "Making ensembles:   0%|          | 0/1 [00:00<?, ?it/s]"
      ]
     },
     "metadata": {},
     "output_type": "display_data"
    },
    {
     "data": {
      "application/vnd.jupyter.widget-view+json": {
       "model_id": "8efa414a7f414a1ea60c7c87ccac048c",
       "version_major": 2,
       "version_minor": 0
      },
      "text/plain": [
       "network dynamic:   0%|          | 0/9999 [00:00<?, ?it/s]"
      ]
     },
     "metadata": {},
     "output_type": "display_data"
    },
    {
     "data": {
      "application/vnd.jupyter.widget-view+json": {
       "model_id": "70f3b6a3a03c4bd999ec58f70a975bb3",
       "version_major": 2,
       "version_minor": 0
      },
      "text/plain": [
       "Variation of alpha:   0%|          | 0/1 [00:00<?, ?it/s]"
      ]
     },
     "metadata": {},
     "output_type": "display_data"
    },
    {
     "data": {
      "application/vnd.jupyter.widget-view+json": {
       "model_id": "d4fdd67247e54a42b5c3f79df067607a",
       "version_major": 2,
       "version_minor": 0
      },
      "text/plain": [
       "Making ensembles:   0%|          | 0/1 [00:00<?, ?it/s]"
      ]
     },
     "metadata": {},
     "output_type": "display_data"
    },
    {
     "data": {
      "application/vnd.jupyter.widget-view+json": {
       "model_id": "e604182521ad4998a28c2be736e1ea64",
       "version_major": 2,
       "version_minor": 0
      },
      "text/plain": [
       "network dynamic:   0%|          | 0/9999 [00:00<?, ?it/s]"
      ]
     },
     "metadata": {},
     "output_type": "display_data"
    },
    {
     "data": {
      "application/vnd.jupyter.widget-view+json": {
       "model_id": "84d8dd61bbbb4719aba7194a39d40f7a",
       "version_major": 2,
       "version_minor": 0
      },
      "text/plain": [
       "Variation of delay:   0%|          | 0/9 [00:00<?, ?it/s]"
      ]
     },
     "metadata": {},
     "output_type": "display_data"
    },
    {
     "data": {
      "application/vnd.jupyter.widget-view+json": {
       "model_id": "b1d9772ba60e4cddb3991e5c42f47886",
       "version_major": 2,
       "version_minor": 0
      },
      "text/plain": [
       "Variation of alpha:   0%|          | 0/1 [00:00<?, ?it/s]"
      ]
     },
     "metadata": {},
     "output_type": "display_data"
    },
    {
     "data": {
      "application/vnd.jupyter.widget-view+json": {
       "model_id": "1fba321ee738486eb265da4f6cda8d96",
       "version_major": 2,
       "version_minor": 0
      },
      "text/plain": [
       "Making ensembles:   0%|          | 0/1 [00:00<?, ?it/s]"
      ]
     },
     "metadata": {},
     "output_type": "display_data"
    },
    {
     "data": {
      "application/vnd.jupyter.widget-view+json": {
       "model_id": "2b31766c786946a4856e8fc7ef1d711a",
       "version_major": 2,
       "version_minor": 0
      },
      "text/plain": [
       "network dynamic:   0%|          | 0/9999 [00:00<?, ?it/s]"
      ]
     },
     "metadata": {},
     "output_type": "display_data"
    },
    {
     "data": {
      "application/vnd.jupyter.widget-view+json": {
       "model_id": "8773c55874884432808eba90bba6605a",
       "version_major": 2,
       "version_minor": 0
      },
      "text/plain": [
       "Variation of alpha:   0%|          | 0/1 [00:00<?, ?it/s]"
      ]
     },
     "metadata": {},
     "output_type": "display_data"
    },
    {
     "data": {
      "application/vnd.jupyter.widget-view+json": {
       "model_id": "54e71b9a13284d01aed7de6b7f49ac8b",
       "version_major": 2,
       "version_minor": 0
      },
      "text/plain": [
       "Making ensembles:   0%|          | 0/1 [00:00<?, ?it/s]"
      ]
     },
     "metadata": {},
     "output_type": "display_data"
    },
    {
     "data": {
      "application/vnd.jupyter.widget-view+json": {
       "model_id": "e5f8f08ab6164e98b629844055a04b0d",
       "version_major": 2,
       "version_minor": 0
      },
      "text/plain": [
       "network dynamic:   0%|          | 0/9999 [00:00<?, ?it/s]"
      ]
     },
     "metadata": {},
     "output_type": "display_data"
    },
    {
     "data": {
      "application/vnd.jupyter.widget-view+json": {
       "model_id": "d243f942945943d082da7ec281dc9067",
       "version_major": 2,
       "version_minor": 0
      },
      "text/plain": [
       "Variation of alpha:   0%|          | 0/1 [00:00<?, ?it/s]"
      ]
     },
     "metadata": {},
     "output_type": "display_data"
    },
    {
     "data": {
      "application/vnd.jupyter.widget-view+json": {
       "model_id": "3c2ba028af9e407f9d6e549256fafffa",
       "version_major": 2,
       "version_minor": 0
      },
      "text/plain": [
       "Making ensembles:   0%|          | 0/1 [00:00<?, ?it/s]"
      ]
     },
     "metadata": {},
     "output_type": "display_data"
    },
    {
     "data": {
      "application/vnd.jupyter.widget-view+json": {
       "model_id": "b4daddb8877f4be8924246211d1fd5e2",
       "version_major": 2,
       "version_minor": 0
      },
      "text/plain": [
       "network dynamic:   0%|          | 0/9999 [00:00<?, ?it/s]"
      ]
     },
     "metadata": {},
     "output_type": "display_data"
    },
    {
     "data": {
      "application/vnd.jupyter.widget-view+json": {
       "model_id": "c6ba4e071cf0471bb1bf0a2a084a940c",
       "version_major": 2,
       "version_minor": 0
      },
      "text/plain": [
       "Variation of alpha:   0%|          | 0/1 [00:00<?, ?it/s]"
      ]
     },
     "metadata": {},
     "output_type": "display_data"
    },
    {
     "data": {
      "application/vnd.jupyter.widget-view+json": {
       "model_id": "349c2c567f304b919814e7f5d65eef85",
       "version_major": 2,
       "version_minor": 0
      },
      "text/plain": [
       "Making ensembles:   0%|          | 0/1 [00:00<?, ?it/s]"
      ]
     },
     "metadata": {},
     "output_type": "display_data"
    },
    {
     "data": {
      "application/vnd.jupyter.widget-view+json": {
       "model_id": "095d80b1cf6f4c2a8be59e29bb2752df",
       "version_major": 2,
       "version_minor": 0
      },
      "text/plain": [
       "network dynamic:   0%|          | 0/9999 [00:00<?, ?it/s]"
      ]
     },
     "metadata": {},
     "output_type": "display_data"
    },
    {
     "data": {
      "application/vnd.jupyter.widget-view+json": {
       "model_id": "6230c0769e544ccda18ceda5204de8ab",
       "version_major": 2,
       "version_minor": 0
      },
      "text/plain": [
       "Variation of alpha:   0%|          | 0/1 [00:00<?, ?it/s]"
      ]
     },
     "metadata": {},
     "output_type": "display_data"
    },
    {
     "data": {
      "application/vnd.jupyter.widget-view+json": {
       "model_id": "f22131f97aec4f1a970424d44f02f2f8",
       "version_major": 2,
       "version_minor": 0
      },
      "text/plain": [
       "Making ensembles:   0%|          | 0/1 [00:00<?, ?it/s]"
      ]
     },
     "metadata": {},
     "output_type": "display_data"
    },
    {
     "data": {
      "application/vnd.jupyter.widget-view+json": {
       "model_id": "096c85fcdf9d4aaf95f110264a4e3512",
       "version_major": 2,
       "version_minor": 0
      },
      "text/plain": [
       "network dynamic:   0%|          | 0/9999 [00:00<?, ?it/s]"
      ]
     },
     "metadata": {},
     "output_type": "display_data"
    },
    {
     "data": {
      "application/vnd.jupyter.widget-view+json": {
       "model_id": "8b60c4c974f347b5bfa4fbf63acd2c1f",
       "version_major": 2,
       "version_minor": 0
      },
      "text/plain": [
       "Variation of alpha:   0%|          | 0/1 [00:00<?, ?it/s]"
      ]
     },
     "metadata": {},
     "output_type": "display_data"
    },
    {
     "data": {
      "application/vnd.jupyter.widget-view+json": {
       "model_id": "10b84bac71cd4f9fb15f6b85a6f3e008",
       "version_major": 2,
       "version_minor": 0
      },
      "text/plain": [
       "Making ensembles:   0%|          | 0/1 [00:00<?, ?it/s]"
      ]
     },
     "metadata": {},
     "output_type": "display_data"
    },
    {
     "data": {
      "application/vnd.jupyter.widget-view+json": {
       "model_id": "29fe6a64cf0547f49b19e0018840777b",
       "version_major": 2,
       "version_minor": 0
      },
      "text/plain": [
       "network dynamic:   0%|          | 0/9999 [00:00<?, ?it/s]"
      ]
     },
     "metadata": {},
     "output_type": "display_data"
    },
    {
     "data": {
      "application/vnd.jupyter.widget-view+json": {
       "model_id": "f4fc926ee3fe4590be81f5248821347a",
       "version_major": 2,
       "version_minor": 0
      },
      "text/plain": [
       "Variation of alpha:   0%|          | 0/1 [00:00<?, ?it/s]"
      ]
     },
     "metadata": {},
     "output_type": "display_data"
    },
    {
     "data": {
      "application/vnd.jupyter.widget-view+json": {
       "model_id": "5f0ee7c1cd574cb9a045a4b840011c77",
       "version_major": 2,
       "version_minor": 0
      },
      "text/plain": [
       "Making ensembles:   0%|          | 0/1 [00:00<?, ?it/s]"
      ]
     },
     "metadata": {},
     "output_type": "display_data"
    },
    {
     "data": {
      "application/vnd.jupyter.widget-view+json": {
       "model_id": "1b8e543f8c924834bd48d3df14fe48ca",
       "version_major": 2,
       "version_minor": 0
      },
      "text/plain": [
       "network dynamic:   0%|          | 0/9999 [00:00<?, ?it/s]"
      ]
     },
     "metadata": {},
     "output_type": "display_data"
    },
    {
     "data": {
      "application/vnd.jupyter.widget-view+json": {
       "model_id": "d5f9450272f34e0d8126150df65044e8",
       "version_major": 2,
       "version_minor": 0
      },
      "text/plain": [
       "Variation of alpha:   0%|          | 0/1 [00:00<?, ?it/s]"
      ]
     },
     "metadata": {},
     "output_type": "display_data"
    },
    {
     "data": {
      "application/vnd.jupyter.widget-view+json": {
       "model_id": "a774534e2810466280788ff7a53b6bb0",
       "version_major": 2,
       "version_minor": 0
      },
      "text/plain": [
       "Making ensembles:   0%|          | 0/1 [00:00<?, ?it/s]"
      ]
     },
     "metadata": {},
     "output_type": "display_data"
    },
    {
     "data": {
      "application/vnd.jupyter.widget-view+json": {
       "model_id": "09933c2460d44e2d8d25025c13425229",
       "version_major": 2,
       "version_minor": 0
      },
      "text/plain": [
       "network dynamic:   0%|          | 0/9999 [00:00<?, ?it/s]"
      ]
     },
     "metadata": {},
     "output_type": "display_data"
    },
    {
     "data": {
      "application/vnd.jupyter.widget-view+json": {
       "model_id": "b4ca10cb362b43a4ae81b57038e74862",
       "version_major": 2,
       "version_minor": 0
      },
      "text/plain": [
       "Variation of alpha:   0%|          | 0/1 [00:00<?, ?it/s]"
      ]
     },
     "metadata": {},
     "output_type": "display_data"
    },
    {
     "data": {
      "application/vnd.jupyter.widget-view+json": {
       "model_id": "e551fa8726144dca997a948daa8bf4e8",
       "version_major": 2,
       "version_minor": 0
      },
      "text/plain": [
       "Making ensembles:   0%|          | 0/1 [00:00<?, ?it/s]"
      ]
     },
     "metadata": {},
     "output_type": "display_data"
    },
    {
     "data": {
      "application/vnd.jupyter.widget-view+json": {
       "model_id": "c1603d42989d4b59aae8751c32abda45",
       "version_major": 2,
       "version_minor": 0
      },
      "text/plain": [
       "network dynamic:   0%|          | 0/9999 [00:00<?, ?it/s]"
      ]
     },
     "metadata": {},
     "output_type": "display_data"
    },
    {
     "data": {
      "application/vnd.jupyter.widget-view+json": {
       "model_id": "5a628bd92c48491f9fcade7f5c6172f8",
       "version_major": 2,
       "version_minor": 0
      },
      "text/plain": [
       "Variation of delay:   0%|          | 0/9 [00:00<?, ?it/s]"
      ]
     },
     "metadata": {},
     "output_type": "display_data"
    },
    {
     "data": {
      "application/vnd.jupyter.widget-view+json": {
       "model_id": "63e4b0d88b7e4f02948dea781298248f",
       "version_major": 2,
       "version_minor": 0
      },
      "text/plain": [
       "Variation of alpha:   0%|          | 0/1 [00:00<?, ?it/s]"
      ]
     },
     "metadata": {},
     "output_type": "display_data"
    },
    {
     "data": {
      "application/vnd.jupyter.widget-view+json": {
       "model_id": "317321a1615745cdadb0a851f05dee8a",
       "version_major": 2,
       "version_minor": 0
      },
      "text/plain": [
       "Making ensembles:   0%|          | 0/1 [00:00<?, ?it/s]"
      ]
     },
     "metadata": {},
     "output_type": "display_data"
    },
    {
     "data": {
      "application/vnd.jupyter.widget-view+json": {
       "model_id": "9e6d98fb1ca841278088224ee1031b0c",
       "version_major": 2,
       "version_minor": 0
      },
      "text/plain": [
       "network dynamic:   0%|          | 0/9999 [00:00<?, ?it/s]"
      ]
     },
     "metadata": {},
     "output_type": "display_data"
    },
    {
     "data": {
      "application/vnd.jupyter.widget-view+json": {
       "model_id": "21a9e10d379644ad8d4cc9ba232651db",
       "version_major": 2,
       "version_minor": 0
      },
      "text/plain": [
       "Variation of alpha:   0%|          | 0/1 [00:00<?, ?it/s]"
      ]
     },
     "metadata": {},
     "output_type": "display_data"
    },
    {
     "data": {
      "application/vnd.jupyter.widget-view+json": {
       "model_id": "90290a6d028e452b9e77d113cea5938b",
       "version_major": 2,
       "version_minor": 0
      },
      "text/plain": [
       "Making ensembles:   0%|          | 0/1 [00:00<?, ?it/s]"
      ]
     },
     "metadata": {},
     "output_type": "display_data"
    },
    {
     "data": {
      "application/vnd.jupyter.widget-view+json": {
       "model_id": "814ca75a381b4d2babdfba1b144dd1ea",
       "version_major": 2,
       "version_minor": 0
      },
      "text/plain": [
       "network dynamic:   0%|          | 0/9999 [00:00<?, ?it/s]"
      ]
     },
     "metadata": {},
     "output_type": "display_data"
    },
    {
     "data": {
      "application/vnd.jupyter.widget-view+json": {
       "model_id": "2a7f577052bb489da742de0f3b0b880c",
       "version_major": 2,
       "version_minor": 0
      },
      "text/plain": [
       "Variation of alpha:   0%|          | 0/1 [00:00<?, ?it/s]"
      ]
     },
     "metadata": {},
     "output_type": "display_data"
    },
    {
     "data": {
      "application/vnd.jupyter.widget-view+json": {
       "model_id": "6c8d03003f18415282715adaf29e1691",
       "version_major": 2,
       "version_minor": 0
      },
      "text/plain": [
       "Making ensembles:   0%|          | 0/1 [00:00<?, ?it/s]"
      ]
     },
     "metadata": {},
     "output_type": "display_data"
    },
    {
     "data": {
      "application/vnd.jupyter.widget-view+json": {
       "model_id": "640688dc16bb45da955c9df7e82c6cff",
       "version_major": 2,
       "version_minor": 0
      },
      "text/plain": [
       "network dynamic:   0%|          | 0/9999 [00:00<?, ?it/s]"
      ]
     },
     "metadata": {},
     "output_type": "display_data"
    },
    {
     "data": {
      "application/vnd.jupyter.widget-view+json": {
       "model_id": "d5a7d05671f84ca786efe24e8d684b6a",
       "version_major": 2,
       "version_minor": 0
      },
      "text/plain": [
       "Variation of alpha:   0%|          | 0/1 [00:00<?, ?it/s]"
      ]
     },
     "metadata": {},
     "output_type": "display_data"
    },
    {
     "data": {
      "application/vnd.jupyter.widget-view+json": {
       "model_id": "08417d23080c42b8b5ac820bbc12ba8f",
       "version_major": 2,
       "version_minor": 0
      },
      "text/plain": [
       "Making ensembles:   0%|          | 0/1 [00:00<?, ?it/s]"
      ]
     },
     "metadata": {},
     "output_type": "display_data"
    },
    {
     "data": {
      "application/vnd.jupyter.widget-view+json": {
       "model_id": "bd87a811907d49b0952e95e2f2d8b320",
       "version_major": 2,
       "version_minor": 0
      },
      "text/plain": [
       "network dynamic:   0%|          | 0/9999 [00:00<?, ?it/s]"
      ]
     },
     "metadata": {},
     "output_type": "display_data"
    },
    {
     "data": {
      "application/vnd.jupyter.widget-view+json": {
       "model_id": "2424071771754f469997949dbeaf306b",
       "version_major": 2,
       "version_minor": 0
      },
      "text/plain": [
       "Variation of alpha:   0%|          | 0/1 [00:00<?, ?it/s]"
      ]
     },
     "metadata": {},
     "output_type": "display_data"
    },
    {
     "data": {
      "application/vnd.jupyter.widget-view+json": {
       "model_id": "1d93ee352f144bd986a838da91f1f8d5",
       "version_major": 2,
       "version_minor": 0
      },
      "text/plain": [
       "Making ensembles:   0%|          | 0/1 [00:00<?, ?it/s]"
      ]
     },
     "metadata": {},
     "output_type": "display_data"
    },
    {
     "data": {
      "application/vnd.jupyter.widget-view+json": {
       "model_id": "f59d4fd7b6db417bbeb54a9ea6d35013",
       "version_major": 2,
       "version_minor": 0
      },
      "text/plain": [
       "network dynamic:   0%|          | 0/9999 [00:00<?, ?it/s]"
      ]
     },
     "metadata": {},
     "output_type": "display_data"
    },
    {
     "data": {
      "application/vnd.jupyter.widget-view+json": {
       "model_id": "fc2f38c4b9764ecf9ce8d688fd9bfcda",
       "version_major": 2,
       "version_minor": 0
      },
      "text/plain": [
       "Variation of alpha:   0%|          | 0/1 [00:00<?, ?it/s]"
      ]
     },
     "metadata": {},
     "output_type": "display_data"
    },
    {
     "data": {
      "application/vnd.jupyter.widget-view+json": {
       "model_id": "0375e26278e6465aacab8274d075bc5d",
       "version_major": 2,
       "version_minor": 0
      },
      "text/plain": [
       "Making ensembles:   0%|          | 0/1 [00:00<?, ?it/s]"
      ]
     },
     "metadata": {},
     "output_type": "display_data"
    },
    {
     "data": {
      "application/vnd.jupyter.widget-view+json": {
       "model_id": "44767461a35b4213a67a163dc6b3a9e1",
       "version_major": 2,
       "version_minor": 0
      },
      "text/plain": [
       "network dynamic:   0%|          | 0/9999 [00:00<?, ?it/s]"
      ]
     },
     "metadata": {},
     "output_type": "display_data"
    },
    {
     "data": {
      "application/vnd.jupyter.widget-view+json": {
       "model_id": "6a4f334317a546c9868dfca0f20b3b1a",
       "version_major": 2,
       "version_minor": 0
      },
      "text/plain": [
       "Variation of alpha:   0%|          | 0/1 [00:00<?, ?it/s]"
      ]
     },
     "metadata": {},
     "output_type": "display_data"
    },
    {
     "data": {
      "application/vnd.jupyter.widget-view+json": {
       "model_id": "ed1f4d812a944b548901fecaf2b497d7",
       "version_major": 2,
       "version_minor": 0
      },
      "text/plain": [
       "Making ensembles:   0%|          | 0/1 [00:00<?, ?it/s]"
      ]
     },
     "metadata": {},
     "output_type": "display_data"
    },
    {
     "data": {
      "application/vnd.jupyter.widget-view+json": {
       "model_id": "508d5d7426f5464f9925374b1fe89813",
       "version_major": 2,
       "version_minor": 0
      },
      "text/plain": [
       "network dynamic:   0%|          | 0/9999 [00:00<?, ?it/s]"
      ]
     },
     "metadata": {},
     "output_type": "display_data"
    },
    {
     "data": {
      "application/vnd.jupyter.widget-view+json": {
       "model_id": "6abc088e45ca401d80edf206f26bee8b",
       "version_major": 2,
       "version_minor": 0
      },
      "text/plain": [
       "Variation of alpha:   0%|          | 0/1 [00:00<?, ?it/s]"
      ]
     },
     "metadata": {},
     "output_type": "display_data"
    },
    {
     "data": {
      "application/vnd.jupyter.widget-view+json": {
       "model_id": "c069c31b583d48adac6fb7fd3cb7b7aa",
       "version_major": 2,
       "version_minor": 0
      },
      "text/plain": [
       "Making ensembles:   0%|          | 0/1 [00:00<?, ?it/s]"
      ]
     },
     "metadata": {},
     "output_type": "display_data"
    },
    {
     "data": {
      "application/vnd.jupyter.widget-view+json": {
       "model_id": "db44617be7834fe19169b549ddc96a97",
       "version_major": 2,
       "version_minor": 0
      },
      "text/plain": [
       "network dynamic:   0%|          | 0/9999 [00:00<?, ?it/s]"
      ]
     },
     "metadata": {},
     "output_type": "display_data"
    },
    {
     "data": {
      "application/vnd.jupyter.widget-view+json": {
       "model_id": "5922c661e983497bb8b6a8bb98fb1142",
       "version_major": 2,
       "version_minor": 0
      },
      "text/plain": [
       "Variation of alpha:   0%|          | 0/1 [00:00<?, ?it/s]"
      ]
     },
     "metadata": {},
     "output_type": "display_data"
    },
    {
     "data": {
      "application/vnd.jupyter.widget-view+json": {
       "model_id": "46600b387c43437b8a1ec4c0118e5832",
       "version_major": 2,
       "version_minor": 0
      },
      "text/plain": [
       "Making ensembles:   0%|          | 0/1 [00:00<?, ?it/s]"
      ]
     },
     "metadata": {},
     "output_type": "display_data"
    },
    {
     "data": {
      "application/vnd.jupyter.widget-view+json": {
       "model_id": "d301121bd59d4a88a6d721ac61c07f5b",
       "version_major": 2,
       "version_minor": 0
      },
      "text/plain": [
       "network dynamic:   0%|          | 0/9999 [00:00<?, ?it/s]"
      ]
     },
     "metadata": {},
     "output_type": "display_data"
    },
    {
     "data": {
      "application/vnd.jupyter.widget-view+json": {
       "model_id": "cc67ea6bb5984a3e86e7cb09816868ec",
       "version_major": 2,
       "version_minor": 0
      },
      "text/plain": [
       "Variation of delay:   0%|          | 0/9 [00:00<?, ?it/s]"
      ]
     },
     "metadata": {},
     "output_type": "display_data"
    },
    {
     "data": {
      "application/vnd.jupyter.widget-view+json": {
       "model_id": "9d0cc52fce81422bb92804f33b6ae6ed",
       "version_major": 2,
       "version_minor": 0
      },
      "text/plain": [
       "Variation of alpha:   0%|          | 0/1 [00:00<?, ?it/s]"
      ]
     },
     "metadata": {},
     "output_type": "display_data"
    },
    {
     "data": {
      "application/vnd.jupyter.widget-view+json": {
       "model_id": "8a5992c6361c43e59875b5cc8d01045c",
       "version_major": 2,
       "version_minor": 0
      },
      "text/plain": [
       "Making ensembles:   0%|          | 0/1 [00:00<?, ?it/s]"
      ]
     },
     "metadata": {},
     "output_type": "display_data"
    },
    {
     "data": {
      "application/vnd.jupyter.widget-view+json": {
       "model_id": "aa9bc8ac4ea44fef919bf3bf98e9f480",
       "version_major": 2,
       "version_minor": 0
      },
      "text/plain": [
       "network dynamic:   0%|          | 0/9999 [00:00<?, ?it/s]"
      ]
     },
     "metadata": {},
     "output_type": "display_data"
    },
    {
     "data": {
      "application/vnd.jupyter.widget-view+json": {
       "model_id": "1c76cfb9246c484aa7177672b15cd038",
       "version_major": 2,
       "version_minor": 0
      },
      "text/plain": [
       "Variation of alpha:   0%|          | 0/1 [00:00<?, ?it/s]"
      ]
     },
     "metadata": {},
     "output_type": "display_data"
    },
    {
     "data": {
      "application/vnd.jupyter.widget-view+json": {
       "model_id": "308cbf465fd64e42839ed930f8cdac70",
       "version_major": 2,
       "version_minor": 0
      },
      "text/plain": [
       "Making ensembles:   0%|          | 0/1 [00:00<?, ?it/s]"
      ]
     },
     "metadata": {},
     "output_type": "display_data"
    },
    {
     "data": {
      "application/vnd.jupyter.widget-view+json": {
       "model_id": "7e8b4a3532b24d01a70f051d84d5841c",
       "version_major": 2,
       "version_minor": 0
      },
      "text/plain": [
       "network dynamic:   0%|          | 0/9999 [00:00<?, ?it/s]"
      ]
     },
     "metadata": {},
     "output_type": "display_data"
    },
    {
     "data": {
      "application/vnd.jupyter.widget-view+json": {
       "model_id": "2ea77e1a23164c3cbe638013192901cd",
       "version_major": 2,
       "version_minor": 0
      },
      "text/plain": [
       "Variation of alpha:   0%|          | 0/1 [00:00<?, ?it/s]"
      ]
     },
     "metadata": {},
     "output_type": "display_data"
    },
    {
     "data": {
      "application/vnd.jupyter.widget-view+json": {
       "model_id": "77a6aee4d62c4e2dac45ee0a6780ac17",
       "version_major": 2,
       "version_minor": 0
      },
      "text/plain": [
       "Making ensembles:   0%|          | 0/1 [00:00<?, ?it/s]"
      ]
     },
     "metadata": {},
     "output_type": "display_data"
    },
    {
     "data": {
      "application/vnd.jupyter.widget-view+json": {
       "model_id": "4c8c4f76b1a54fd3b4dd140ad272a0ba",
       "version_major": 2,
       "version_minor": 0
      },
      "text/plain": [
       "network dynamic:   0%|          | 0/9999 [00:00<?, ?it/s]"
      ]
     },
     "metadata": {},
     "output_type": "display_data"
    },
    {
     "data": {
      "application/vnd.jupyter.widget-view+json": {
       "model_id": "b8bc109af5ea4f2b9aa3f0afb196d9c3",
       "version_major": 2,
       "version_minor": 0
      },
      "text/plain": [
       "Variation of alpha:   0%|          | 0/1 [00:00<?, ?it/s]"
      ]
     },
     "metadata": {},
     "output_type": "display_data"
    },
    {
     "data": {
      "application/vnd.jupyter.widget-view+json": {
       "model_id": "2014a3ef05b54f65b386bd374a0649b5",
       "version_major": 2,
       "version_minor": 0
      },
      "text/plain": [
       "Making ensembles:   0%|          | 0/1 [00:00<?, ?it/s]"
      ]
     },
     "metadata": {},
     "output_type": "display_data"
    },
    {
     "data": {
      "application/vnd.jupyter.widget-view+json": {
       "model_id": "43d60028fcfc460c81fed918b2b107c8",
       "version_major": 2,
       "version_minor": 0
      },
      "text/plain": [
       "network dynamic:   0%|          | 0/9999 [00:00<?, ?it/s]"
      ]
     },
     "metadata": {},
     "output_type": "display_data"
    },
    {
     "data": {
      "application/vnd.jupyter.widget-view+json": {
       "model_id": "dd773c54c4b34b71818d336a61685fa3",
       "version_major": 2,
       "version_minor": 0
      },
      "text/plain": [
       "Variation of alpha:   0%|          | 0/1 [00:00<?, ?it/s]"
      ]
     },
     "metadata": {},
     "output_type": "display_data"
    },
    {
     "data": {
      "application/vnd.jupyter.widget-view+json": {
       "model_id": "8c96f73cf9604852ae3215731db71771",
       "version_major": 2,
       "version_minor": 0
      },
      "text/plain": [
       "Making ensembles:   0%|          | 0/1 [00:00<?, ?it/s]"
      ]
     },
     "metadata": {},
     "output_type": "display_data"
    },
    {
     "data": {
      "application/vnd.jupyter.widget-view+json": {
       "model_id": "43f4ef06556747c391c1a6c6b785f54c",
       "version_major": 2,
       "version_minor": 0
      },
      "text/plain": [
       "network dynamic:   0%|          | 0/9999 [00:00<?, ?it/s]"
      ]
     },
     "metadata": {},
     "output_type": "display_data"
    },
    {
     "data": {
      "application/vnd.jupyter.widget-view+json": {
       "model_id": "7f2cc696b43449eb85971b135dc0150b",
       "version_major": 2,
       "version_minor": 0
      },
      "text/plain": [
       "Variation of alpha:   0%|          | 0/1 [00:00<?, ?it/s]"
      ]
     },
     "metadata": {},
     "output_type": "display_data"
    },
    {
     "data": {
      "application/vnd.jupyter.widget-view+json": {
       "model_id": "6fdbae51a3634f0b9c9880a7ae13fb67",
       "version_major": 2,
       "version_minor": 0
      },
      "text/plain": [
       "Making ensembles:   0%|          | 0/1 [00:00<?, ?it/s]"
      ]
     },
     "metadata": {},
     "output_type": "display_data"
    },
    {
     "data": {
      "application/vnd.jupyter.widget-view+json": {
       "model_id": "0f39e90e299442d2951b7b128f8c58bd",
       "version_major": 2,
       "version_minor": 0
      },
      "text/plain": [
       "network dynamic:   0%|          | 0/9999 [00:00<?, ?it/s]"
      ]
     },
     "metadata": {},
     "output_type": "display_data"
    },
    {
     "data": {
      "application/vnd.jupyter.widget-view+json": {
       "model_id": "74277303f3654ca9a6065b7f21e63e45",
       "version_major": 2,
       "version_minor": 0
      },
      "text/plain": [
       "Variation of alpha:   0%|          | 0/1 [00:00<?, ?it/s]"
      ]
     },
     "metadata": {},
     "output_type": "display_data"
    },
    {
     "data": {
      "application/vnd.jupyter.widget-view+json": {
       "model_id": "b1da459072944ff1bab6a507ff16c3f5",
       "version_major": 2,
       "version_minor": 0
      },
      "text/plain": [
       "Making ensembles:   0%|          | 0/1 [00:00<?, ?it/s]"
      ]
     },
     "metadata": {},
     "output_type": "display_data"
    },
    {
     "data": {
      "application/vnd.jupyter.widget-view+json": {
       "model_id": "f8406d76337f4231a6b162e2334dc377",
       "version_major": 2,
       "version_minor": 0
      },
      "text/plain": [
       "network dynamic:   0%|          | 0/9999 [00:00<?, ?it/s]"
      ]
     },
     "metadata": {},
     "output_type": "display_data"
    },
    {
     "data": {
      "application/vnd.jupyter.widget-view+json": {
       "model_id": "19b9c628c22c4e3dae087755ca57e7ba",
       "version_major": 2,
       "version_minor": 0
      },
      "text/plain": [
       "Variation of alpha:   0%|          | 0/1 [00:00<?, ?it/s]"
      ]
     },
     "metadata": {},
     "output_type": "display_data"
    },
    {
     "data": {
      "application/vnd.jupyter.widget-view+json": {
       "model_id": "a1d0a2cefa4440b49bf3c1933708313f",
       "version_major": 2,
       "version_minor": 0
      },
      "text/plain": [
       "Making ensembles:   0%|          | 0/1 [00:00<?, ?it/s]"
      ]
     },
     "metadata": {},
     "output_type": "display_data"
    },
    {
     "data": {
      "application/vnd.jupyter.widget-view+json": {
       "model_id": "39b16c3b5d9745e48c69db0a5c43ea9f",
       "version_major": 2,
       "version_minor": 0
      },
      "text/plain": [
       "network dynamic:   0%|          | 0/9999 [00:00<?, ?it/s]"
      ]
     },
     "metadata": {},
     "output_type": "display_data"
    },
    {
     "data": {
      "application/vnd.jupyter.widget-view+json": {
       "model_id": "26b2324a69d5486a86d4858b30f85c92",
       "version_major": 2,
       "version_minor": 0
      },
      "text/plain": [
       "Variation of alpha:   0%|          | 0/1 [00:00<?, ?it/s]"
      ]
     },
     "metadata": {},
     "output_type": "display_data"
    },
    {
     "data": {
      "application/vnd.jupyter.widget-view+json": {
       "model_id": "34b26217b7c940e19952d3a2d8e418f1",
       "version_major": 2,
       "version_minor": 0
      },
      "text/plain": [
       "Making ensembles:   0%|          | 0/1 [00:00<?, ?it/s]"
      ]
     },
     "metadata": {},
     "output_type": "display_data"
    },
    {
     "data": {
      "application/vnd.jupyter.widget-view+json": {
       "model_id": "0bcc6c98db104880bf792412aa8f8372",
       "version_major": 2,
       "version_minor": 0
      },
      "text/plain": [
       "network dynamic:   0%|          | 0/9999 [00:00<?, ?it/s]"
      ]
     },
     "metadata": {},
     "output_type": "display_data"
    },
    {
     "data": {
      "application/vnd.jupyter.widget-view+json": {
       "model_id": "9b1dee4d5a2d4b818fc7340022a2177b",
       "version_major": 2,
       "version_minor": 0
      },
      "text/plain": [
       "Variation of delay:   0%|          | 0/9 [00:00<?, ?it/s]"
      ]
     },
     "metadata": {},
     "output_type": "display_data"
    },
    {
     "data": {
      "application/vnd.jupyter.widget-view+json": {
       "model_id": "56bea69430064c8c8d15046fd9c80da6",
       "version_major": 2,
       "version_minor": 0
      },
      "text/plain": [
       "Variation of alpha:   0%|          | 0/1 [00:00<?, ?it/s]"
      ]
     },
     "metadata": {},
     "output_type": "display_data"
    },
    {
     "data": {
      "application/vnd.jupyter.widget-view+json": {
       "model_id": "73f66e18811945a88af10a933fa7af26",
       "version_major": 2,
       "version_minor": 0
      },
      "text/plain": [
       "Making ensembles:   0%|          | 0/1 [00:00<?, ?it/s]"
      ]
     },
     "metadata": {},
     "output_type": "display_data"
    },
    {
     "data": {
      "application/vnd.jupyter.widget-view+json": {
       "model_id": "2db7686877cb44c29b2cf6be02c4876c",
       "version_major": 2,
       "version_minor": 0
      },
      "text/plain": [
       "network dynamic:   0%|          | 0/9999 [00:00<?, ?it/s]"
      ]
     },
     "metadata": {},
     "output_type": "display_data"
    },
    {
     "data": {
      "application/vnd.jupyter.widget-view+json": {
       "model_id": "4e9b79e726a84264a3f276d58dfb8d59",
       "version_major": 2,
       "version_minor": 0
      },
      "text/plain": [
       "Variation of alpha:   0%|          | 0/1 [00:00<?, ?it/s]"
      ]
     },
     "metadata": {},
     "output_type": "display_data"
    },
    {
     "data": {
      "application/vnd.jupyter.widget-view+json": {
       "model_id": "e7f69244900e4f81ab3a4b3d45a369a1",
       "version_major": 2,
       "version_minor": 0
      },
      "text/plain": [
       "Making ensembles:   0%|          | 0/1 [00:00<?, ?it/s]"
      ]
     },
     "metadata": {},
     "output_type": "display_data"
    },
    {
     "data": {
      "application/vnd.jupyter.widget-view+json": {
       "model_id": "9b002733911b41688e1213f4e664112f",
       "version_major": 2,
       "version_minor": 0
      },
      "text/plain": [
       "network dynamic:   0%|          | 0/9999 [00:00<?, ?it/s]"
      ]
     },
     "metadata": {},
     "output_type": "display_data"
    },
    {
     "data": {
      "application/vnd.jupyter.widget-view+json": {
       "model_id": "f8e37e6a78fe418babf353f7fb267aef",
       "version_major": 2,
       "version_minor": 0
      },
      "text/plain": [
       "Variation of alpha:   0%|          | 0/1 [00:00<?, ?it/s]"
      ]
     },
     "metadata": {},
     "output_type": "display_data"
    },
    {
     "data": {
      "application/vnd.jupyter.widget-view+json": {
       "model_id": "e593d3923d214c29afb91ee1c75bf695",
       "version_major": 2,
       "version_minor": 0
      },
      "text/plain": [
       "Making ensembles:   0%|          | 0/1 [00:00<?, ?it/s]"
      ]
     },
     "metadata": {},
     "output_type": "display_data"
    },
    {
     "data": {
      "application/vnd.jupyter.widget-view+json": {
       "model_id": "5dce877b09094a2d83a27e89119b2fd4",
       "version_major": 2,
       "version_minor": 0
      },
      "text/plain": [
       "network dynamic:   0%|          | 0/9999 [00:00<?, ?it/s]"
      ]
     },
     "metadata": {},
     "output_type": "display_data"
    },
    {
     "data": {
      "application/vnd.jupyter.widget-view+json": {
       "model_id": "2bcd3eacfa0749d1aea68f1ac0bac31c",
       "version_major": 2,
       "version_minor": 0
      },
      "text/plain": [
       "Variation of alpha:   0%|          | 0/1 [00:00<?, ?it/s]"
      ]
     },
     "metadata": {},
     "output_type": "display_data"
    },
    {
     "data": {
      "application/vnd.jupyter.widget-view+json": {
       "model_id": "3ca5c48060054174969e6b40165e7411",
       "version_major": 2,
       "version_minor": 0
      },
      "text/plain": [
       "Making ensembles:   0%|          | 0/1 [00:00<?, ?it/s]"
      ]
     },
     "metadata": {},
     "output_type": "display_data"
    },
    {
     "data": {
      "application/vnd.jupyter.widget-view+json": {
       "model_id": "b14dbea9a2464af999ad6f58943942a1",
       "version_major": 2,
       "version_minor": 0
      },
      "text/plain": [
       "network dynamic:   0%|          | 0/9999 [00:00<?, ?it/s]"
      ]
     },
     "metadata": {},
     "output_type": "display_data"
    },
    {
     "data": {
      "application/vnd.jupyter.widget-view+json": {
       "model_id": "073f9d313da64ae7b4376869210a8de0",
       "version_major": 2,
       "version_minor": 0
      },
      "text/plain": [
       "Variation of alpha:   0%|          | 0/1 [00:00<?, ?it/s]"
      ]
     },
     "metadata": {},
     "output_type": "display_data"
    },
    {
     "data": {
      "application/vnd.jupyter.widget-view+json": {
       "model_id": "e6e13bb803fe43b2a8d594db77d8fa4b",
       "version_major": 2,
       "version_minor": 0
      },
      "text/plain": [
       "Making ensembles:   0%|          | 0/1 [00:00<?, ?it/s]"
      ]
     },
     "metadata": {},
     "output_type": "display_data"
    },
    {
     "data": {
      "application/vnd.jupyter.widget-view+json": {
       "model_id": "430ba98968da487cb938874564da2116",
       "version_major": 2,
       "version_minor": 0
      },
      "text/plain": [
       "network dynamic:   0%|          | 0/9999 [00:00<?, ?it/s]"
      ]
     },
     "metadata": {},
     "output_type": "display_data"
    },
    {
     "data": {
      "application/vnd.jupyter.widget-view+json": {
       "model_id": "4af171dd83644a449dbe328f30969df3",
       "version_major": 2,
       "version_minor": 0
      },
      "text/plain": [
       "Variation of alpha:   0%|          | 0/1 [00:00<?, ?it/s]"
      ]
     },
     "metadata": {},
     "output_type": "display_data"
    },
    {
     "data": {
      "application/vnd.jupyter.widget-view+json": {
       "model_id": "ac086e9992e94726a7ecd1b4ac8d47a2",
       "version_major": 2,
       "version_minor": 0
      },
      "text/plain": [
       "Making ensembles:   0%|          | 0/1 [00:00<?, ?it/s]"
      ]
     },
     "metadata": {},
     "output_type": "display_data"
    },
    {
     "data": {
      "application/vnd.jupyter.widget-view+json": {
       "model_id": "3267dc09bb9845a58940c68f7b8a61f8",
       "version_major": 2,
       "version_minor": 0
      },
      "text/plain": [
       "network dynamic:   0%|          | 0/9999 [00:00<?, ?it/s]"
      ]
     },
     "metadata": {},
     "output_type": "display_data"
    },
    {
     "data": {
      "application/vnd.jupyter.widget-view+json": {
       "model_id": "eb8caf7ab36d4f439df7431a6f681b2b",
       "version_major": 2,
       "version_minor": 0
      },
      "text/plain": [
       "Variation of alpha:   0%|          | 0/1 [00:00<?, ?it/s]"
      ]
     },
     "metadata": {},
     "output_type": "display_data"
    },
    {
     "data": {
      "application/vnd.jupyter.widget-view+json": {
       "model_id": "491f2b4e579049388bae0377485af3ea",
       "version_major": 2,
       "version_minor": 0
      },
      "text/plain": [
       "Making ensembles:   0%|          | 0/1 [00:00<?, ?it/s]"
      ]
     },
     "metadata": {},
     "output_type": "display_data"
    },
    {
     "data": {
      "application/vnd.jupyter.widget-view+json": {
       "model_id": "b696e105788e427c9e0e955296af939d",
       "version_major": 2,
       "version_minor": 0
      },
      "text/plain": [
       "network dynamic:   0%|          | 0/9999 [00:00<?, ?it/s]"
      ]
     },
     "metadata": {},
     "output_type": "display_data"
    },
    {
     "data": {
      "application/vnd.jupyter.widget-view+json": {
       "model_id": "28a1976b629f44f2a7d5ae1b3bb2bc86",
       "version_major": 2,
       "version_minor": 0
      },
      "text/plain": [
       "Variation of alpha:   0%|          | 0/1 [00:00<?, ?it/s]"
      ]
     },
     "metadata": {},
     "output_type": "display_data"
    },
    {
     "data": {
      "application/vnd.jupyter.widget-view+json": {
       "model_id": "270716e0d54b40719009d4b772abfa91",
       "version_major": 2,
       "version_minor": 0
      },
      "text/plain": [
       "Making ensembles:   0%|          | 0/1 [00:00<?, ?it/s]"
      ]
     },
     "metadata": {},
     "output_type": "display_data"
    },
    {
     "data": {
      "application/vnd.jupyter.widget-view+json": {
       "model_id": "1ae33a18039241b488d5dcceea179152",
       "version_major": 2,
       "version_minor": 0
      },
      "text/plain": [
       "network dynamic:   0%|          | 0/9999 [00:00<?, ?it/s]"
      ]
     },
     "metadata": {},
     "output_type": "display_data"
    },
    {
     "data": {
      "application/vnd.jupyter.widget-view+json": {
       "model_id": "bea802318eb64731ba1a26086b0a995c",
       "version_major": 2,
       "version_minor": 0
      },
      "text/plain": [
       "Variation of alpha:   0%|          | 0/1 [00:00<?, ?it/s]"
      ]
     },
     "metadata": {},
     "output_type": "display_data"
    },
    {
     "data": {
      "application/vnd.jupyter.widget-view+json": {
       "model_id": "b20160579a8d429295e97109764a3f21",
       "version_major": 2,
       "version_minor": 0
      },
      "text/plain": [
       "Making ensembles:   0%|          | 0/1 [00:00<?, ?it/s]"
      ]
     },
     "metadata": {},
     "output_type": "display_data"
    },
    {
     "data": {
      "application/vnd.jupyter.widget-view+json": {
       "model_id": "b4f8fe73abeb420b980189e288f20626",
       "version_major": 2,
       "version_minor": 0
      },
      "text/plain": [
       "network dynamic:   0%|          | 0/9999 [00:00<?, ?it/s]"
      ]
     },
     "metadata": {},
     "output_type": "display_data"
    },
    {
     "data": {
      "application/vnd.jupyter.widget-view+json": {
       "model_id": "24ca5ba981654f1e99d9984a6341bda4",
       "version_major": 2,
       "version_minor": 0
      },
      "text/plain": [
       "Variation of delay:   0%|          | 0/9 [00:00<?, ?it/s]"
      ]
     },
     "metadata": {},
     "output_type": "display_data"
    },
    {
     "data": {
      "application/vnd.jupyter.widget-view+json": {
       "model_id": "7c5ae92c93184d50b140b72449adef42",
       "version_major": 2,
       "version_minor": 0
      },
      "text/plain": [
       "Variation of alpha:   0%|          | 0/1 [00:00<?, ?it/s]"
      ]
     },
     "metadata": {},
     "output_type": "display_data"
    },
    {
     "data": {
      "application/vnd.jupyter.widget-view+json": {
       "model_id": "7df0d956a9484611a41d65cbbcc47a65",
       "version_major": 2,
       "version_minor": 0
      },
      "text/plain": [
       "Making ensembles:   0%|          | 0/1 [00:00<?, ?it/s]"
      ]
     },
     "metadata": {},
     "output_type": "display_data"
    },
    {
     "data": {
      "application/vnd.jupyter.widget-view+json": {
       "model_id": "04036481e8ff4ca9b4b367595d636e82",
       "version_major": 2,
       "version_minor": 0
      },
      "text/plain": [
       "network dynamic:   0%|          | 0/9999 [00:00<?, ?it/s]"
      ]
     },
     "metadata": {},
     "output_type": "display_data"
    },
    {
     "data": {
      "application/vnd.jupyter.widget-view+json": {
       "model_id": "126393e0a12041058ffe417c27d6801c",
       "version_major": 2,
       "version_minor": 0
      },
      "text/plain": [
       "Variation of alpha:   0%|          | 0/1 [00:00<?, ?it/s]"
      ]
     },
     "metadata": {},
     "output_type": "display_data"
    },
    {
     "data": {
      "application/vnd.jupyter.widget-view+json": {
       "model_id": "c29b4c869c354d36b3084ab6ed82df7f",
       "version_major": 2,
       "version_minor": 0
      },
      "text/plain": [
       "Making ensembles:   0%|          | 0/1 [00:00<?, ?it/s]"
      ]
     },
     "metadata": {},
     "output_type": "display_data"
    },
    {
     "data": {
      "application/vnd.jupyter.widget-view+json": {
       "model_id": "69bb4f0ef5f645a9b040af81aa8e6751",
       "version_major": 2,
       "version_minor": 0
      },
      "text/plain": [
       "network dynamic:   0%|          | 0/9999 [00:00<?, ?it/s]"
      ]
     },
     "metadata": {},
     "output_type": "display_data"
    },
    {
     "data": {
      "application/vnd.jupyter.widget-view+json": {
       "model_id": "d5d18213ea744ec2a282728258f8496c",
       "version_major": 2,
       "version_minor": 0
      },
      "text/plain": [
       "Variation of alpha:   0%|          | 0/1 [00:00<?, ?it/s]"
      ]
     },
     "metadata": {},
     "output_type": "display_data"
    },
    {
     "data": {
      "application/vnd.jupyter.widget-view+json": {
       "model_id": "94b646aacf0b4b639866854dd8512114",
       "version_major": 2,
       "version_minor": 0
      },
      "text/plain": [
       "Making ensembles:   0%|          | 0/1 [00:00<?, ?it/s]"
      ]
     },
     "metadata": {},
     "output_type": "display_data"
    },
    {
     "data": {
      "application/vnd.jupyter.widget-view+json": {
       "model_id": "66bbda91a8844b9ba41709c25c12cfa9",
       "version_major": 2,
       "version_minor": 0
      },
      "text/plain": [
       "network dynamic:   0%|          | 0/9999 [00:00<?, ?it/s]"
      ]
     },
     "metadata": {},
     "output_type": "display_data"
    },
    {
     "data": {
      "application/vnd.jupyter.widget-view+json": {
       "model_id": "8d6d9000c1024578a68b05b72c500980",
       "version_major": 2,
       "version_minor": 0
      },
      "text/plain": [
       "Variation of alpha:   0%|          | 0/1 [00:00<?, ?it/s]"
      ]
     },
     "metadata": {},
     "output_type": "display_data"
    },
    {
     "data": {
      "application/vnd.jupyter.widget-view+json": {
       "model_id": "d1200d1bc1af431d8277d9ea77924cc9",
       "version_major": 2,
       "version_minor": 0
      },
      "text/plain": [
       "Making ensembles:   0%|          | 0/1 [00:00<?, ?it/s]"
      ]
     },
     "metadata": {},
     "output_type": "display_data"
    },
    {
     "data": {
      "application/vnd.jupyter.widget-view+json": {
       "model_id": "999bc0bfe82a4deca45d57fdc6dab578",
       "version_major": 2,
       "version_minor": 0
      },
      "text/plain": [
       "network dynamic:   0%|          | 0/9999 [00:00<?, ?it/s]"
      ]
     },
     "metadata": {},
     "output_type": "display_data"
    },
    {
     "data": {
      "application/vnd.jupyter.widget-view+json": {
       "model_id": "4b06b49c7d3a4fc186130feceee76b17",
       "version_major": 2,
       "version_minor": 0
      },
      "text/plain": [
       "Variation of alpha:   0%|          | 0/1 [00:00<?, ?it/s]"
      ]
     },
     "metadata": {},
     "output_type": "display_data"
    },
    {
     "data": {
      "application/vnd.jupyter.widget-view+json": {
       "model_id": "29467564a06d4715b802028c3257ddf4",
       "version_major": 2,
       "version_minor": 0
      },
      "text/plain": [
       "Making ensembles:   0%|          | 0/1 [00:00<?, ?it/s]"
      ]
     },
     "metadata": {},
     "output_type": "display_data"
    },
    {
     "data": {
      "application/vnd.jupyter.widget-view+json": {
       "model_id": "9db1ae201ea449048ffc2970a6c76800",
       "version_major": 2,
       "version_minor": 0
      },
      "text/plain": [
       "network dynamic:   0%|          | 0/9999 [00:00<?, ?it/s]"
      ]
     },
     "metadata": {},
     "output_type": "display_data"
    },
    {
     "data": {
      "application/vnd.jupyter.widget-view+json": {
       "model_id": "a94870ecec714f4781e2933e29cefa51",
       "version_major": 2,
       "version_minor": 0
      },
      "text/plain": [
       "Variation of alpha:   0%|          | 0/1 [00:00<?, ?it/s]"
      ]
     },
     "metadata": {},
     "output_type": "display_data"
    },
    {
     "data": {
      "application/vnd.jupyter.widget-view+json": {
       "model_id": "ddaf3cb6e1764773b94dc39e08015f2b",
       "version_major": 2,
       "version_minor": 0
      },
      "text/plain": [
       "Making ensembles:   0%|          | 0/1 [00:00<?, ?it/s]"
      ]
     },
     "metadata": {},
     "output_type": "display_data"
    },
    {
     "data": {
      "application/vnd.jupyter.widget-view+json": {
       "model_id": "46ff8a762f724a0a9f499142824c21bb",
       "version_major": 2,
       "version_minor": 0
      },
      "text/plain": [
       "network dynamic:   0%|          | 0/9999 [00:00<?, ?it/s]"
      ]
     },
     "metadata": {},
     "output_type": "display_data"
    },
    {
     "data": {
      "application/vnd.jupyter.widget-view+json": {
       "model_id": "167edc382bc4456ba64025acabac9f21",
       "version_major": 2,
       "version_minor": 0
      },
      "text/plain": [
       "Variation of alpha:   0%|          | 0/1 [00:00<?, ?it/s]"
      ]
     },
     "metadata": {},
     "output_type": "display_data"
    },
    {
     "data": {
      "application/vnd.jupyter.widget-view+json": {
       "model_id": "7a97e0f4af9d4820b69dfb5b3df5da8e",
       "version_major": 2,
       "version_minor": 0
      },
      "text/plain": [
       "Making ensembles:   0%|          | 0/1 [00:00<?, ?it/s]"
      ]
     },
     "metadata": {},
     "output_type": "display_data"
    },
    {
     "data": {
      "application/vnd.jupyter.widget-view+json": {
       "model_id": "275a1e3b1ee546f3a87e93ad4e195871",
       "version_major": 2,
       "version_minor": 0
      },
      "text/plain": [
       "network dynamic:   0%|          | 0/9999 [00:00<?, ?it/s]"
      ]
     },
     "metadata": {},
     "output_type": "display_data"
    },
    {
     "data": {
      "application/vnd.jupyter.widget-view+json": {
       "model_id": "4e004628244745d38078435c6f77fe40",
       "version_major": 2,
       "version_minor": 0
      },
      "text/plain": [
       "Variation of alpha:   0%|          | 0/1 [00:00<?, ?it/s]"
      ]
     },
     "metadata": {},
     "output_type": "display_data"
    },
    {
     "data": {
      "application/vnd.jupyter.widget-view+json": {
       "model_id": "f697e2c094504632b81f713524fbe170",
       "version_major": 2,
       "version_minor": 0
      },
      "text/plain": [
       "Making ensembles:   0%|          | 0/1 [00:00<?, ?it/s]"
      ]
     },
     "metadata": {},
     "output_type": "display_data"
    },
    {
     "data": {
      "application/vnd.jupyter.widget-view+json": {
       "model_id": "334309d69fb044049a783c345dd2e6a8",
       "version_major": 2,
       "version_minor": 0
      },
      "text/plain": [
       "network dynamic:   0%|          | 0/9999 [00:00<?, ?it/s]"
      ]
     },
     "metadata": {},
     "output_type": "display_data"
    },
    {
     "data": {
      "application/vnd.jupyter.widget-view+json": {
       "model_id": "6e4504cdc3cf42f3a244bc606c173886",
       "version_major": 2,
       "version_minor": 0
      },
      "text/plain": [
       "Variation of alpha:   0%|          | 0/1 [00:00<?, ?it/s]"
      ]
     },
     "metadata": {},
     "output_type": "display_data"
    },
    {
     "data": {
      "application/vnd.jupyter.widget-view+json": {
       "model_id": "152f13b0d2244f358d7b7dd8757bc882",
       "version_major": 2,
       "version_minor": 0
      },
      "text/plain": [
       "Making ensembles:   0%|          | 0/1 [00:00<?, ?it/s]"
      ]
     },
     "metadata": {},
     "output_type": "display_data"
    },
    {
     "data": {
      "application/vnd.jupyter.widget-view+json": {
       "model_id": "104aebd18ff8409f80601952c55e1234",
       "version_major": 2,
       "version_minor": 0
      },
      "text/plain": [
       "network dynamic:   0%|          | 0/9999 [00:00<?, ?it/s]"
      ]
     },
     "metadata": {},
     "output_type": "display_data"
    },
    {
     "data": {
      "application/vnd.jupyter.widget-view+json": {
       "model_id": "c2a5d1f1df0144a293a13f3584c3e789",
       "version_major": 2,
       "version_minor": 0
      },
      "text/plain": [
       "Variation of delay:   0%|          | 0/9 [00:00<?, ?it/s]"
      ]
     },
     "metadata": {},
     "output_type": "display_data"
    },
    {
     "data": {
      "application/vnd.jupyter.widget-view+json": {
       "model_id": "60f6d8ca9b2041d09e614c6f220dd439",
       "version_major": 2,
       "version_minor": 0
      },
      "text/plain": [
       "Variation of alpha:   0%|          | 0/1 [00:00<?, ?it/s]"
      ]
     },
     "metadata": {},
     "output_type": "display_data"
    },
    {
     "data": {
      "application/vnd.jupyter.widget-view+json": {
       "model_id": "8f749add19d648d3a005f676a9a1d884",
       "version_major": 2,
       "version_minor": 0
      },
      "text/plain": [
       "Making ensembles:   0%|          | 0/1 [00:00<?, ?it/s]"
      ]
     },
     "metadata": {},
     "output_type": "display_data"
    },
    {
     "data": {
      "application/vnd.jupyter.widget-view+json": {
       "model_id": "d5e69ae674ee4133a1d02da321ae2c2b",
       "version_major": 2,
       "version_minor": 0
      },
      "text/plain": [
       "network dynamic:   0%|          | 0/9999 [00:00<?, ?it/s]"
      ]
     },
     "metadata": {},
     "output_type": "display_data"
    },
    {
     "data": {
      "application/vnd.jupyter.widget-view+json": {
       "model_id": "0fabba33480b443aaad66cec377f5184",
       "version_major": 2,
       "version_minor": 0
      },
      "text/plain": [
       "Variation of alpha:   0%|          | 0/1 [00:00<?, ?it/s]"
      ]
     },
     "metadata": {},
     "output_type": "display_data"
    },
    {
     "data": {
      "application/vnd.jupyter.widget-view+json": {
       "model_id": "4c818aa3a36f4c60b7f0188e38a283a5",
       "version_major": 2,
       "version_minor": 0
      },
      "text/plain": [
       "Making ensembles:   0%|          | 0/1 [00:00<?, ?it/s]"
      ]
     },
     "metadata": {},
     "output_type": "display_data"
    },
    {
     "data": {
      "application/vnd.jupyter.widget-view+json": {
       "model_id": "23c970981b32410ca893471f680c91b1",
       "version_major": 2,
       "version_minor": 0
      },
      "text/plain": [
       "network dynamic:   0%|          | 0/9999 [00:00<?, ?it/s]"
      ]
     },
     "metadata": {},
     "output_type": "display_data"
    },
    {
     "data": {
      "application/vnd.jupyter.widget-view+json": {
       "model_id": "d372cf415b684962b7bc7984b0132471",
       "version_major": 2,
       "version_minor": 0
      },
      "text/plain": [
       "Variation of alpha:   0%|          | 0/1 [00:00<?, ?it/s]"
      ]
     },
     "metadata": {},
     "output_type": "display_data"
    },
    {
     "data": {
      "application/vnd.jupyter.widget-view+json": {
       "model_id": "eb57580c4b224db2a56cf8dcc069c54b",
       "version_major": 2,
       "version_minor": 0
      },
      "text/plain": [
       "Making ensembles:   0%|          | 0/1 [00:00<?, ?it/s]"
      ]
     },
     "metadata": {},
     "output_type": "display_data"
    },
    {
     "data": {
      "application/vnd.jupyter.widget-view+json": {
       "model_id": "0b05fad595a24bf296d43c8e459b709c",
       "version_major": 2,
       "version_minor": 0
      },
      "text/plain": [
       "network dynamic:   0%|          | 0/9999 [00:00<?, ?it/s]"
      ]
     },
     "metadata": {},
     "output_type": "display_data"
    },
    {
     "data": {
      "application/vnd.jupyter.widget-view+json": {
       "model_id": "f52e90a8c3d741a49cd86112e2b56504",
       "version_major": 2,
       "version_minor": 0
      },
      "text/plain": [
       "Variation of alpha:   0%|          | 0/1 [00:00<?, ?it/s]"
      ]
     },
     "metadata": {},
     "output_type": "display_data"
    },
    {
     "data": {
      "application/vnd.jupyter.widget-view+json": {
       "model_id": "6684f9fd8b6d414f8b135ab2922a842b",
       "version_major": 2,
       "version_minor": 0
      },
      "text/plain": [
       "Making ensembles:   0%|          | 0/1 [00:00<?, ?it/s]"
      ]
     },
     "metadata": {},
     "output_type": "display_data"
    },
    {
     "data": {
      "application/vnd.jupyter.widget-view+json": {
       "model_id": "c5b7de1d5d4d4683a592a34af29a13ba",
       "version_major": 2,
       "version_minor": 0
      },
      "text/plain": [
       "network dynamic:   0%|          | 0/9999 [00:00<?, ?it/s]"
      ]
     },
     "metadata": {},
     "output_type": "display_data"
    },
    {
     "data": {
      "application/vnd.jupyter.widget-view+json": {
       "model_id": "9bd8e8b4728d48688e26fdd370433086",
       "version_major": 2,
       "version_minor": 0
      },
      "text/plain": [
       "Variation of alpha:   0%|          | 0/1 [00:00<?, ?it/s]"
      ]
     },
     "metadata": {},
     "output_type": "display_data"
    },
    {
     "data": {
      "application/vnd.jupyter.widget-view+json": {
       "model_id": "a25545d48bc04209821743a8cbaf57cf",
       "version_major": 2,
       "version_minor": 0
      },
      "text/plain": [
       "Making ensembles:   0%|          | 0/1 [00:00<?, ?it/s]"
      ]
     },
     "metadata": {},
     "output_type": "display_data"
    },
    {
     "data": {
      "application/vnd.jupyter.widget-view+json": {
       "model_id": "3a66facc5d9b429895f4138b9993bd09",
       "version_major": 2,
       "version_minor": 0
      },
      "text/plain": [
       "network dynamic:   0%|          | 0/9999 [00:00<?, ?it/s]"
      ]
     },
     "metadata": {},
     "output_type": "display_data"
    },
    {
     "data": {
      "application/vnd.jupyter.widget-view+json": {
       "model_id": "29e08079e80c4de6bbaf5114cea423f9",
       "version_major": 2,
       "version_minor": 0
      },
      "text/plain": [
       "Variation of alpha:   0%|          | 0/1 [00:00<?, ?it/s]"
      ]
     },
     "metadata": {},
     "output_type": "display_data"
    },
    {
     "data": {
      "application/vnd.jupyter.widget-view+json": {
       "model_id": "fd0a0a5f917d4fe8920c6b7f754041dc",
       "version_major": 2,
       "version_minor": 0
      },
      "text/plain": [
       "Making ensembles:   0%|          | 0/1 [00:00<?, ?it/s]"
      ]
     },
     "metadata": {},
     "output_type": "display_data"
    },
    {
     "data": {
      "application/vnd.jupyter.widget-view+json": {
       "model_id": "13e28752f8e6455cbe402f6d9a37b6d8",
       "version_major": 2,
       "version_minor": 0
      },
      "text/plain": [
       "network dynamic:   0%|          | 0/9999 [00:00<?, ?it/s]"
      ]
     },
     "metadata": {},
     "output_type": "display_data"
    },
    {
     "data": {
      "application/vnd.jupyter.widget-view+json": {
       "model_id": "79abd55aa5e040898ab88ab913a3505a",
       "version_major": 2,
       "version_minor": 0
      },
      "text/plain": [
       "Variation of alpha:   0%|          | 0/1 [00:00<?, ?it/s]"
      ]
     },
     "metadata": {},
     "output_type": "display_data"
    },
    {
     "data": {
      "application/vnd.jupyter.widget-view+json": {
       "model_id": "2f072a7261b14afdba109b1364e273e8",
       "version_major": 2,
       "version_minor": 0
      },
      "text/plain": [
       "Making ensembles:   0%|          | 0/1 [00:00<?, ?it/s]"
      ]
     },
     "metadata": {},
     "output_type": "display_data"
    },
    {
     "data": {
      "application/vnd.jupyter.widget-view+json": {
       "model_id": "25e06e3eb1c148e9ac97855601e36cc7",
       "version_major": 2,
       "version_minor": 0
      },
      "text/plain": [
       "network dynamic:   0%|          | 0/9999 [00:00<?, ?it/s]"
      ]
     },
     "metadata": {},
     "output_type": "display_data"
    },
    {
     "data": {
      "application/vnd.jupyter.widget-view+json": {
       "model_id": "4542b960b1124dfd9666fae21b967e73",
       "version_major": 2,
       "version_minor": 0
      },
      "text/plain": [
       "Variation of alpha:   0%|          | 0/1 [00:00<?, ?it/s]"
      ]
     },
     "metadata": {},
     "output_type": "display_data"
    },
    {
     "data": {
      "application/vnd.jupyter.widget-view+json": {
       "model_id": "cf02ba67a552463ca90bc3bc770b4d80",
       "version_major": 2,
       "version_minor": 0
      },
      "text/plain": [
       "Making ensembles:   0%|          | 0/1 [00:00<?, ?it/s]"
      ]
     },
     "metadata": {},
     "output_type": "display_data"
    },
    {
     "data": {
      "application/vnd.jupyter.widget-view+json": {
       "model_id": "cb4d47c5af544858aca980d7d43f5b23",
       "version_major": 2,
       "version_minor": 0
      },
      "text/plain": [
       "network dynamic:   0%|          | 0/9999 [00:00<?, ?it/s]"
      ]
     },
     "metadata": {},
     "output_type": "display_data"
    },
    {
     "data": {
      "application/vnd.jupyter.widget-view+json": {
       "model_id": "5f1175870a164d16b11f848865d5079d",
       "version_major": 2,
       "version_minor": 0
      },
      "text/plain": [
       "Variation of alpha:   0%|          | 0/1 [00:00<?, ?it/s]"
      ]
     },
     "metadata": {},
     "output_type": "display_data"
    },
    {
     "data": {
      "application/vnd.jupyter.widget-view+json": {
       "model_id": "cf99d99b07254d9db386f50a353b5d96",
       "version_major": 2,
       "version_minor": 0
      },
      "text/plain": [
       "Making ensembles:   0%|          | 0/1 [00:00<?, ?it/s]"
      ]
     },
     "metadata": {},
     "output_type": "display_data"
    },
    {
     "data": {
      "application/vnd.jupyter.widget-view+json": {
       "model_id": "2095e7a4eb4847bbbb7a084e3d5a01e0",
       "version_major": 2,
       "version_minor": 0
      },
      "text/plain": [
       "network dynamic:   0%|          | 0/9999 [00:00<?, ?it/s]"
      ]
     },
     "metadata": {},
     "output_type": "display_data"
    },
    {
     "data": {
      "application/vnd.jupyter.widget-view+json": {
       "model_id": "4eef3f6677c74c509a65866c3fd9489d",
       "version_major": 2,
       "version_minor": 0
      },
      "text/plain": [
       "Variation of delay:   0%|          | 0/9 [00:00<?, ?it/s]"
      ]
     },
     "metadata": {},
     "output_type": "display_data"
    },
    {
     "data": {
      "application/vnd.jupyter.widget-view+json": {
       "model_id": "19416c3087c143c097a7eb3476e38205",
       "version_major": 2,
       "version_minor": 0
      },
      "text/plain": [
       "Variation of alpha:   0%|          | 0/1 [00:00<?, ?it/s]"
      ]
     },
     "metadata": {},
     "output_type": "display_data"
    },
    {
     "data": {
      "application/vnd.jupyter.widget-view+json": {
       "model_id": "0976b4c9212e4672ba615b301b8abf0c",
       "version_major": 2,
       "version_minor": 0
      },
      "text/plain": [
       "Making ensembles:   0%|          | 0/1 [00:00<?, ?it/s]"
      ]
     },
     "metadata": {},
     "output_type": "display_data"
    },
    {
     "data": {
      "application/vnd.jupyter.widget-view+json": {
       "model_id": "915b38c7ccd54fd09682e230a7f48c7c",
       "version_major": 2,
       "version_minor": 0
      },
      "text/plain": [
       "network dynamic:   0%|          | 0/9999 [00:00<?, ?it/s]"
      ]
     },
     "metadata": {},
     "output_type": "display_data"
    },
    {
     "data": {
      "application/vnd.jupyter.widget-view+json": {
       "model_id": "6a872b0f3e494217972f77939e0b8972",
       "version_major": 2,
       "version_minor": 0
      },
      "text/plain": [
       "Variation of alpha:   0%|          | 0/1 [00:00<?, ?it/s]"
      ]
     },
     "metadata": {},
     "output_type": "display_data"
    },
    {
     "data": {
      "application/vnd.jupyter.widget-view+json": {
       "model_id": "cf4f861f94774c85bcfac09742d4dac5",
       "version_major": 2,
       "version_minor": 0
      },
      "text/plain": [
       "Making ensembles:   0%|          | 0/1 [00:00<?, ?it/s]"
      ]
     },
     "metadata": {},
     "output_type": "display_data"
    },
    {
     "data": {
      "application/vnd.jupyter.widget-view+json": {
       "model_id": "7946a4f361f041449e721085b3cb5394",
       "version_major": 2,
       "version_minor": 0
      },
      "text/plain": [
       "network dynamic:   0%|          | 0/9999 [00:00<?, ?it/s]"
      ]
     },
     "metadata": {},
     "output_type": "display_data"
    },
    {
     "data": {
      "application/vnd.jupyter.widget-view+json": {
       "model_id": "c8525e1107cc454d9d9e7ad5a5cb6570",
       "version_major": 2,
       "version_minor": 0
      },
      "text/plain": [
       "Variation of alpha:   0%|          | 0/1 [00:00<?, ?it/s]"
      ]
     },
     "metadata": {},
     "output_type": "display_data"
    },
    {
     "data": {
      "application/vnd.jupyter.widget-view+json": {
       "model_id": "43d5c7f4f06f4f149ffa688938c517e3",
       "version_major": 2,
       "version_minor": 0
      },
      "text/plain": [
       "Making ensembles:   0%|          | 0/1 [00:00<?, ?it/s]"
      ]
     },
     "metadata": {},
     "output_type": "display_data"
    },
    {
     "data": {
      "application/vnd.jupyter.widget-view+json": {
       "model_id": "7946b596fc4c4d8c907efe7d05ab52b0",
       "version_major": 2,
       "version_minor": 0
      },
      "text/plain": [
       "network dynamic:   0%|          | 0/9999 [00:00<?, ?it/s]"
      ]
     },
     "metadata": {},
     "output_type": "display_data"
    },
    {
     "data": {
      "application/vnd.jupyter.widget-view+json": {
       "model_id": "a54626666f7b4968b7d94df3198f929b",
       "version_major": 2,
       "version_minor": 0
      },
      "text/plain": [
       "Variation of alpha:   0%|          | 0/1 [00:00<?, ?it/s]"
      ]
     },
     "metadata": {},
     "output_type": "display_data"
    },
    {
     "data": {
      "application/vnd.jupyter.widget-view+json": {
       "model_id": "cd0f9fc53c434da5b35469caa9857ccf",
       "version_major": 2,
       "version_minor": 0
      },
      "text/plain": [
       "Making ensembles:   0%|          | 0/1 [00:00<?, ?it/s]"
      ]
     },
     "metadata": {},
     "output_type": "display_data"
    },
    {
     "data": {
      "application/vnd.jupyter.widget-view+json": {
       "model_id": "04b2cc4847f74e56ac424757007acdc2",
       "version_major": 2,
       "version_minor": 0
      },
      "text/plain": [
       "network dynamic:   0%|          | 0/9999 [00:00<?, ?it/s]"
      ]
     },
     "metadata": {},
     "output_type": "display_data"
    },
    {
     "data": {
      "application/vnd.jupyter.widget-view+json": {
       "model_id": "fdc57bdec981462a8c6c6ba7c5c4ff16",
       "version_major": 2,
       "version_minor": 0
      },
      "text/plain": [
       "Variation of alpha:   0%|          | 0/1 [00:00<?, ?it/s]"
      ]
     },
     "metadata": {},
     "output_type": "display_data"
    },
    {
     "data": {
      "application/vnd.jupyter.widget-view+json": {
       "model_id": "1f89c817f6f74f8aa9748cea1020617a",
       "version_major": 2,
       "version_minor": 0
      },
      "text/plain": [
       "Making ensembles:   0%|          | 0/1 [00:00<?, ?it/s]"
      ]
     },
     "metadata": {},
     "output_type": "display_data"
    },
    {
     "data": {
      "application/vnd.jupyter.widget-view+json": {
       "model_id": "2e345a332ff64a25a17106824442beb1",
       "version_major": 2,
       "version_minor": 0
      },
      "text/plain": [
       "network dynamic:   0%|          | 0/9999 [00:00<?, ?it/s]"
      ]
     },
     "metadata": {},
     "output_type": "display_data"
    },
    {
     "data": {
      "application/vnd.jupyter.widget-view+json": {
       "model_id": "83d1d22e9d8149f197b10ab2416ec874",
       "version_major": 2,
       "version_minor": 0
      },
      "text/plain": [
       "Variation of alpha:   0%|          | 0/1 [00:00<?, ?it/s]"
      ]
     },
     "metadata": {},
     "output_type": "display_data"
    },
    {
     "data": {
      "application/vnd.jupyter.widget-view+json": {
       "model_id": "245e28f772e84967b41fd7339c902530",
       "version_major": 2,
       "version_minor": 0
      },
      "text/plain": [
       "Making ensembles:   0%|          | 0/1 [00:00<?, ?it/s]"
      ]
     },
     "metadata": {},
     "output_type": "display_data"
    },
    {
     "data": {
      "application/vnd.jupyter.widget-view+json": {
       "model_id": "24978995ebd64bb8a315e62f6d941322",
       "version_major": 2,
       "version_minor": 0
      },
      "text/plain": [
       "network dynamic:   0%|          | 0/9999 [00:00<?, ?it/s]"
      ]
     },
     "metadata": {},
     "output_type": "display_data"
    },
    {
     "data": {
      "application/vnd.jupyter.widget-view+json": {
       "model_id": "48ec53312e6240a0995dc001d893a4ae",
       "version_major": 2,
       "version_minor": 0
      },
      "text/plain": [
       "Variation of alpha:   0%|          | 0/1 [00:00<?, ?it/s]"
      ]
     },
     "metadata": {},
     "output_type": "display_data"
    },
    {
     "data": {
      "application/vnd.jupyter.widget-view+json": {
       "model_id": "935b372db61541758a0dae6c7f033150",
       "version_major": 2,
       "version_minor": 0
      },
      "text/plain": [
       "Making ensembles:   0%|          | 0/1 [00:00<?, ?it/s]"
      ]
     },
     "metadata": {},
     "output_type": "display_data"
    },
    {
     "data": {
      "application/vnd.jupyter.widget-view+json": {
       "model_id": "f3b5a596efcd4667aecb00917d313976",
       "version_major": 2,
       "version_minor": 0
      },
      "text/plain": [
       "network dynamic:   0%|          | 0/9999 [00:00<?, ?it/s]"
      ]
     },
     "metadata": {},
     "output_type": "display_data"
    },
    {
     "data": {
      "application/vnd.jupyter.widget-view+json": {
       "model_id": "0cf61fa1e53b42b8a458cb0c7a886e8e",
       "version_major": 2,
       "version_minor": 0
      },
      "text/plain": [
       "Variation of alpha:   0%|          | 0/1 [00:00<?, ?it/s]"
      ]
     },
     "metadata": {},
     "output_type": "display_data"
    },
    {
     "data": {
      "application/vnd.jupyter.widget-view+json": {
       "model_id": "75c4a968a4934025b56266e9e2da7b56",
       "version_major": 2,
       "version_minor": 0
      },
      "text/plain": [
       "Making ensembles:   0%|          | 0/1 [00:00<?, ?it/s]"
      ]
     },
     "metadata": {},
     "output_type": "display_data"
    },
    {
     "data": {
      "application/vnd.jupyter.widget-view+json": {
       "model_id": "336f9fa3b5ea46cb9cf207bca26ed880",
       "version_major": 2,
       "version_minor": 0
      },
      "text/plain": [
       "network dynamic:   0%|          | 0/9999 [00:00<?, ?it/s]"
      ]
     },
     "metadata": {},
     "output_type": "display_data"
    },
    {
     "data": {
      "application/vnd.jupyter.widget-view+json": {
       "model_id": "2d8a83b5ac93422bbbc0494e757893b0",
       "version_major": 2,
       "version_minor": 0
      },
      "text/plain": [
       "Variation of alpha:   0%|          | 0/1 [00:00<?, ?it/s]"
      ]
     },
     "metadata": {},
     "output_type": "display_data"
    },
    {
     "data": {
      "application/vnd.jupyter.widget-view+json": {
       "model_id": "eb08625719b046e3ba9a7091a20ece5d",
       "version_major": 2,
       "version_minor": 0
      },
      "text/plain": [
       "Making ensembles:   0%|          | 0/1 [00:00<?, ?it/s]"
      ]
     },
     "metadata": {},
     "output_type": "display_data"
    },
    {
     "data": {
      "application/vnd.jupyter.widget-view+json": {
       "model_id": "ed3126b88a544ad2aba01d2722bc8914",
       "version_major": 2,
       "version_minor": 0
      },
      "text/plain": [
       "network dynamic:   0%|          | 0/9999 [00:00<?, ?it/s]"
      ]
     },
     "metadata": {},
     "output_type": "display_data"
    },
    {
     "data": {
      "application/vnd.jupyter.widget-view+json": {
       "model_id": "8288d954bb8b44648edb4a555a48686c",
       "version_major": 2,
       "version_minor": 0
      },
      "text/plain": [
       "Variation of delay:   0%|          | 0/9 [00:00<?, ?it/s]"
      ]
     },
     "metadata": {},
     "output_type": "display_data"
    },
    {
     "data": {
      "application/vnd.jupyter.widget-view+json": {
       "model_id": "a5a0feae62e340d7bd94988c874c346e",
       "version_major": 2,
       "version_minor": 0
      },
      "text/plain": [
       "Variation of alpha:   0%|          | 0/1 [00:00<?, ?it/s]"
      ]
     },
     "metadata": {},
     "output_type": "display_data"
    },
    {
     "data": {
      "application/vnd.jupyter.widget-view+json": {
       "model_id": "a6a4addba7bb4a4cbe9910b63769bf74",
       "version_major": 2,
       "version_minor": 0
      },
      "text/plain": [
       "Making ensembles:   0%|          | 0/1 [00:00<?, ?it/s]"
      ]
     },
     "metadata": {},
     "output_type": "display_data"
    },
    {
     "data": {
      "application/vnd.jupyter.widget-view+json": {
       "model_id": "37594156a89d4a5a97da6ec3c81bbdec",
       "version_major": 2,
       "version_minor": 0
      },
      "text/plain": [
       "network dynamic:   0%|          | 0/9999 [00:00<?, ?it/s]"
      ]
     },
     "metadata": {},
     "output_type": "display_data"
    },
    {
     "data": {
      "application/vnd.jupyter.widget-view+json": {
       "model_id": "ec2070b28d9d4e36be46a3b413ce5cf6",
       "version_major": 2,
       "version_minor": 0
      },
      "text/plain": [
       "Variation of alpha:   0%|          | 0/1 [00:00<?, ?it/s]"
      ]
     },
     "metadata": {},
     "output_type": "display_data"
    },
    {
     "data": {
      "application/vnd.jupyter.widget-view+json": {
       "model_id": "afb327cba8d24b6f8b9e1371801fc5f3",
       "version_major": 2,
       "version_minor": 0
      },
      "text/plain": [
       "Making ensembles:   0%|          | 0/1 [00:00<?, ?it/s]"
      ]
     },
     "metadata": {},
     "output_type": "display_data"
    },
    {
     "data": {
      "application/vnd.jupyter.widget-view+json": {
       "model_id": "de06299776e34d1eb0244f738f032db6",
       "version_major": 2,
       "version_minor": 0
      },
      "text/plain": [
       "network dynamic:   0%|          | 0/9999 [00:00<?, ?it/s]"
      ]
     },
     "metadata": {},
     "output_type": "display_data"
    },
    {
     "data": {
      "application/vnd.jupyter.widget-view+json": {
       "model_id": "d2f6b3ddf4da48e0afc97352ecc49029",
       "version_major": 2,
       "version_minor": 0
      },
      "text/plain": [
       "Variation of alpha:   0%|          | 0/1 [00:00<?, ?it/s]"
      ]
     },
     "metadata": {},
     "output_type": "display_data"
    },
    {
     "data": {
      "application/vnd.jupyter.widget-view+json": {
       "model_id": "3da7cb1b8920409d88d8a944e0793637",
       "version_major": 2,
       "version_minor": 0
      },
      "text/plain": [
       "Making ensembles:   0%|          | 0/1 [00:00<?, ?it/s]"
      ]
     },
     "metadata": {},
     "output_type": "display_data"
    },
    {
     "data": {
      "application/vnd.jupyter.widget-view+json": {
       "model_id": "3d1d3b3174684a10b3de2a98c8a6cf92",
       "version_major": 2,
       "version_minor": 0
      },
      "text/plain": [
       "network dynamic:   0%|          | 0/9999 [00:00<?, ?it/s]"
      ]
     },
     "metadata": {},
     "output_type": "display_data"
    },
    {
     "data": {
      "application/vnd.jupyter.widget-view+json": {
       "model_id": "f03e443de9cb44a69ac263a31a9ac997",
       "version_major": 2,
       "version_minor": 0
      },
      "text/plain": [
       "Variation of alpha:   0%|          | 0/1 [00:00<?, ?it/s]"
      ]
     },
     "metadata": {},
     "output_type": "display_data"
    },
    {
     "data": {
      "application/vnd.jupyter.widget-view+json": {
       "model_id": "cdb987eaea114f48b7a29dc784d5c853",
       "version_major": 2,
       "version_minor": 0
      },
      "text/plain": [
       "Making ensembles:   0%|          | 0/1 [00:00<?, ?it/s]"
      ]
     },
     "metadata": {},
     "output_type": "display_data"
    },
    {
     "data": {
      "application/vnd.jupyter.widget-view+json": {
       "model_id": "82177210071546eaac5fad07732b1429",
       "version_major": 2,
       "version_minor": 0
      },
      "text/plain": [
       "network dynamic:   0%|          | 0/9999 [00:00<?, ?it/s]"
      ]
     },
     "metadata": {},
     "output_type": "display_data"
    },
    {
     "data": {
      "application/vnd.jupyter.widget-view+json": {
       "model_id": "950b05f8cc5041e2902bdfd2bfec308b",
       "version_major": 2,
       "version_minor": 0
      },
      "text/plain": [
       "Variation of alpha:   0%|          | 0/1 [00:00<?, ?it/s]"
      ]
     },
     "metadata": {},
     "output_type": "display_data"
    },
    {
     "data": {
      "application/vnd.jupyter.widget-view+json": {
       "model_id": "aa6dd39c9261417f92fe69ba776f7c78",
       "version_major": 2,
       "version_minor": 0
      },
      "text/plain": [
       "Making ensembles:   0%|          | 0/1 [00:00<?, ?it/s]"
      ]
     },
     "metadata": {},
     "output_type": "display_data"
    },
    {
     "data": {
      "application/vnd.jupyter.widget-view+json": {
       "model_id": "37f7d1049fef48678adaaa29d667584f",
       "version_major": 2,
       "version_minor": 0
      },
      "text/plain": [
       "network dynamic:   0%|          | 0/9999 [00:00<?, ?it/s]"
      ]
     },
     "metadata": {},
     "output_type": "display_data"
    },
    {
     "data": {
      "application/vnd.jupyter.widget-view+json": {
       "model_id": "c41989280f23465fb3cb90f42050c236",
       "version_major": 2,
       "version_minor": 0
      },
      "text/plain": [
       "Variation of alpha:   0%|          | 0/1 [00:00<?, ?it/s]"
      ]
     },
     "metadata": {},
     "output_type": "display_data"
    },
    {
     "data": {
      "application/vnd.jupyter.widget-view+json": {
       "model_id": "2e01ec139c9e412d916aca3b64f39c64",
       "version_major": 2,
       "version_minor": 0
      },
      "text/plain": [
       "Making ensembles:   0%|          | 0/1 [00:00<?, ?it/s]"
      ]
     },
     "metadata": {},
     "output_type": "display_data"
    },
    {
     "data": {
      "application/vnd.jupyter.widget-view+json": {
       "model_id": "b2837bbe4d314059823beb472ca2ac21",
       "version_major": 2,
       "version_minor": 0
      },
      "text/plain": [
       "network dynamic:   0%|          | 0/9999 [00:00<?, ?it/s]"
      ]
     },
     "metadata": {},
     "output_type": "display_data"
    },
    {
     "data": {
      "application/vnd.jupyter.widget-view+json": {
       "model_id": "3479377be7174c8299e14b6ea0e9b115",
       "version_major": 2,
       "version_minor": 0
      },
      "text/plain": [
       "Variation of alpha:   0%|          | 0/1 [00:00<?, ?it/s]"
      ]
     },
     "metadata": {},
     "output_type": "display_data"
    },
    {
     "data": {
      "application/vnd.jupyter.widget-view+json": {
       "model_id": "8cfa38c609c8462b82f819fcd6e264c7",
       "version_major": 2,
       "version_minor": 0
      },
      "text/plain": [
       "Making ensembles:   0%|          | 0/1 [00:00<?, ?it/s]"
      ]
     },
     "metadata": {},
     "output_type": "display_data"
    },
    {
     "data": {
      "application/vnd.jupyter.widget-view+json": {
       "model_id": "deda2cb1195a4fb5ad4281124850b9df",
       "version_major": 2,
       "version_minor": 0
      },
      "text/plain": [
       "network dynamic:   0%|          | 0/9999 [00:00<?, ?it/s]"
      ]
     },
     "metadata": {},
     "output_type": "display_data"
    },
    {
     "data": {
      "application/vnd.jupyter.widget-view+json": {
       "model_id": "a996da390e7248669e0bc0c7eb483e55",
       "version_major": 2,
       "version_minor": 0
      },
      "text/plain": [
       "Variation of alpha:   0%|          | 0/1 [00:00<?, ?it/s]"
      ]
     },
     "metadata": {},
     "output_type": "display_data"
    },
    {
     "data": {
      "application/vnd.jupyter.widget-view+json": {
       "model_id": "1436e89163a0492fb56ea459151174b1",
       "version_major": 2,
       "version_minor": 0
      },
      "text/plain": [
       "Making ensembles:   0%|          | 0/1 [00:00<?, ?it/s]"
      ]
     },
     "metadata": {},
     "output_type": "display_data"
    },
    {
     "data": {
      "application/vnd.jupyter.widget-view+json": {
       "model_id": "320e982fc3df4c9d9761cdd16fc7e282",
       "version_major": 2,
       "version_minor": 0
      },
      "text/plain": [
       "network dynamic:   0%|          | 0/9999 [00:00<?, ?it/s]"
      ]
     },
     "metadata": {},
     "output_type": "display_data"
    },
    {
     "data": {
      "application/vnd.jupyter.widget-view+json": {
       "model_id": "a7a23f1845ff42cc8faeea553dd3f39b",
       "version_major": 2,
       "version_minor": 0
      },
      "text/plain": [
       "Variation of alpha:   0%|          | 0/1 [00:00<?, ?it/s]"
      ]
     },
     "metadata": {},
     "output_type": "display_data"
    },
    {
     "data": {
      "application/vnd.jupyter.widget-view+json": {
       "model_id": "43aafec6d50e412584b3cf00bc570533",
       "version_major": 2,
       "version_minor": 0
      },
      "text/plain": [
       "Making ensembles:   0%|          | 0/1 [00:00<?, ?it/s]"
      ]
     },
     "metadata": {},
     "output_type": "display_data"
    },
    {
     "data": {
      "application/vnd.jupyter.widget-view+json": {
       "model_id": "7613be617fb045ea954700f9abdd318f",
       "version_major": 2,
       "version_minor": 0
      },
      "text/plain": [
       "network dynamic:   0%|          | 0/9999 [00:00<?, ?it/s]"
      ]
     },
     "metadata": {},
     "output_type": "display_data"
    },
    {
     "data": {
      "application/vnd.jupyter.widget-view+json": {
       "model_id": "fd549d76f48144fc89c5460bea99e893",
       "version_major": 2,
       "version_minor": 0
      },
      "text/plain": [
       "Variation of delay:   0%|          | 0/9 [00:00<?, ?it/s]"
      ]
     },
     "metadata": {},
     "output_type": "display_data"
    },
    {
     "data": {
      "application/vnd.jupyter.widget-view+json": {
       "model_id": "23e8a846af614a82aa11331064ec4d93",
       "version_major": 2,
       "version_minor": 0
      },
      "text/plain": [
       "Variation of alpha:   0%|          | 0/1 [00:00<?, ?it/s]"
      ]
     },
     "metadata": {},
     "output_type": "display_data"
    },
    {
     "data": {
      "application/vnd.jupyter.widget-view+json": {
       "model_id": "944b89f7578f4d87b62f2cdee63db21a",
       "version_major": 2,
       "version_minor": 0
      },
      "text/plain": [
       "Making ensembles:   0%|          | 0/1 [00:00<?, ?it/s]"
      ]
     },
     "metadata": {},
     "output_type": "display_data"
    },
    {
     "data": {
      "application/vnd.jupyter.widget-view+json": {
       "model_id": "b331946148fb4441bae59dbb782049c6",
       "version_major": 2,
       "version_minor": 0
      },
      "text/plain": [
       "network dynamic:   0%|          | 0/9999 [00:00<?, ?it/s]"
      ]
     },
     "metadata": {},
     "output_type": "display_data"
    },
    {
     "data": {
      "application/vnd.jupyter.widget-view+json": {
       "model_id": "83053f04f2a34600b49bafbfbb888567",
       "version_major": 2,
       "version_minor": 0
      },
      "text/plain": [
       "Variation of alpha:   0%|          | 0/1 [00:00<?, ?it/s]"
      ]
     },
     "metadata": {},
     "output_type": "display_data"
    },
    {
     "data": {
      "application/vnd.jupyter.widget-view+json": {
       "model_id": "c9ca707622ec4db39040d991baf2d5f9",
       "version_major": 2,
       "version_minor": 0
      },
      "text/plain": [
       "Making ensembles:   0%|          | 0/1 [00:00<?, ?it/s]"
      ]
     },
     "metadata": {},
     "output_type": "display_data"
    },
    {
     "data": {
      "application/vnd.jupyter.widget-view+json": {
       "model_id": "22ccc6e47fe44773b0d22cedab8a215f",
       "version_major": 2,
       "version_minor": 0
      },
      "text/plain": [
       "network dynamic:   0%|          | 0/9999 [00:00<?, ?it/s]"
      ]
     },
     "metadata": {},
     "output_type": "display_data"
    },
    {
     "data": {
      "application/vnd.jupyter.widget-view+json": {
       "model_id": "f74e9105a5134cc783916cefdd14f52c",
       "version_major": 2,
       "version_minor": 0
      },
      "text/plain": [
       "Variation of alpha:   0%|          | 0/1 [00:00<?, ?it/s]"
      ]
     },
     "metadata": {},
     "output_type": "display_data"
    },
    {
     "data": {
      "application/vnd.jupyter.widget-view+json": {
       "model_id": "4a65687dac7b49e09bf49b7d8c9420ce",
       "version_major": 2,
       "version_minor": 0
      },
      "text/plain": [
       "Making ensembles:   0%|          | 0/1 [00:00<?, ?it/s]"
      ]
     },
     "metadata": {},
     "output_type": "display_data"
    },
    {
     "data": {
      "application/vnd.jupyter.widget-view+json": {
       "model_id": "8cff9cd8ed11446cb256afb674d2179e",
       "version_major": 2,
       "version_minor": 0
      },
      "text/plain": [
       "network dynamic:   0%|          | 0/9999 [00:00<?, ?it/s]"
      ]
     },
     "metadata": {},
     "output_type": "display_data"
    },
    {
     "data": {
      "application/vnd.jupyter.widget-view+json": {
       "model_id": "5c605352f664456eafdd2b0f4534adc0",
       "version_major": 2,
       "version_minor": 0
      },
      "text/plain": [
       "Variation of alpha:   0%|          | 0/1 [00:00<?, ?it/s]"
      ]
     },
     "metadata": {},
     "output_type": "display_data"
    },
    {
     "data": {
      "application/vnd.jupyter.widget-view+json": {
       "model_id": "4f1c8c1c57a04e7987708889a9828581",
       "version_major": 2,
       "version_minor": 0
      },
      "text/plain": [
       "Making ensembles:   0%|          | 0/1 [00:00<?, ?it/s]"
      ]
     },
     "metadata": {},
     "output_type": "display_data"
    },
    {
     "data": {
      "application/vnd.jupyter.widget-view+json": {
       "model_id": "e24d65ec569f4ec784d20b2fe412d742",
       "version_major": 2,
       "version_minor": 0
      },
      "text/plain": [
       "network dynamic:   0%|          | 0/9999 [00:00<?, ?it/s]"
      ]
     },
     "metadata": {},
     "output_type": "display_data"
    },
    {
     "data": {
      "application/vnd.jupyter.widget-view+json": {
       "model_id": "0cee54865d1c4d9c84d06000d3ec15bd",
       "version_major": 2,
       "version_minor": 0
      },
      "text/plain": [
       "Variation of alpha:   0%|          | 0/1 [00:00<?, ?it/s]"
      ]
     },
     "metadata": {},
     "output_type": "display_data"
    },
    {
     "data": {
      "application/vnd.jupyter.widget-view+json": {
       "model_id": "1235455262394eef86601855442bf525",
       "version_major": 2,
       "version_minor": 0
      },
      "text/plain": [
       "Making ensembles:   0%|          | 0/1 [00:00<?, ?it/s]"
      ]
     },
     "metadata": {},
     "output_type": "display_data"
    },
    {
     "data": {
      "application/vnd.jupyter.widget-view+json": {
       "model_id": "ac2ec8a7c9c0447abf4b38ea7028f71f",
       "version_major": 2,
       "version_minor": 0
      },
      "text/plain": [
       "network dynamic:   0%|          | 0/9999 [00:00<?, ?it/s]"
      ]
     },
     "metadata": {},
     "output_type": "display_data"
    },
    {
     "data": {
      "application/vnd.jupyter.widget-view+json": {
       "model_id": "07ea475684c54d76a473d58b33cfbdaa",
       "version_major": 2,
       "version_minor": 0
      },
      "text/plain": [
       "Variation of alpha:   0%|          | 0/1 [00:00<?, ?it/s]"
      ]
     },
     "metadata": {},
     "output_type": "display_data"
    },
    {
     "data": {
      "application/vnd.jupyter.widget-view+json": {
       "model_id": "504bc0b0c0654c30abedd9d11abff38b",
       "version_major": 2,
       "version_minor": 0
      },
      "text/plain": [
       "Making ensembles:   0%|          | 0/1 [00:00<?, ?it/s]"
      ]
     },
     "metadata": {},
     "output_type": "display_data"
    },
    {
     "data": {
      "application/vnd.jupyter.widget-view+json": {
       "model_id": "17f2e6be91994613a7d9da1c500944de",
       "version_major": 2,
       "version_minor": 0
      },
      "text/plain": [
       "network dynamic:   0%|          | 0/9999 [00:00<?, ?it/s]"
      ]
     },
     "metadata": {},
     "output_type": "display_data"
    },
    {
     "data": {
      "application/vnd.jupyter.widget-view+json": {
       "model_id": "ec3eb0832cdf4d53934e081f9f760298",
       "version_major": 2,
       "version_minor": 0
      },
      "text/plain": [
       "Variation of alpha:   0%|          | 0/1 [00:00<?, ?it/s]"
      ]
     },
     "metadata": {},
     "output_type": "display_data"
    },
    {
     "data": {
      "application/vnd.jupyter.widget-view+json": {
       "model_id": "bde93ce266cc4880a798ff446411adcd",
       "version_major": 2,
       "version_minor": 0
      },
      "text/plain": [
       "Making ensembles:   0%|          | 0/1 [00:00<?, ?it/s]"
      ]
     },
     "metadata": {},
     "output_type": "display_data"
    },
    {
     "data": {
      "application/vnd.jupyter.widget-view+json": {
       "model_id": "b79b5d3aea4942c385abdfcdf0f66024",
       "version_major": 2,
       "version_minor": 0
      },
      "text/plain": [
       "network dynamic:   0%|          | 0/9999 [00:00<?, ?it/s]"
      ]
     },
     "metadata": {},
     "output_type": "display_data"
    },
    {
     "data": {
      "application/vnd.jupyter.widget-view+json": {
       "model_id": "87d6afd0b3b1466a9c074c7288d0e64c",
       "version_major": 2,
       "version_minor": 0
      },
      "text/plain": [
       "Variation of alpha:   0%|          | 0/1 [00:00<?, ?it/s]"
      ]
     },
     "metadata": {},
     "output_type": "display_data"
    },
    {
     "data": {
      "application/vnd.jupyter.widget-view+json": {
       "model_id": "be5f1ed3a53f44d1bf665093f0f0697e",
       "version_major": 2,
       "version_minor": 0
      },
      "text/plain": [
       "Making ensembles:   0%|          | 0/1 [00:00<?, ?it/s]"
      ]
     },
     "metadata": {},
     "output_type": "display_data"
    },
    {
     "data": {
      "application/vnd.jupyter.widget-view+json": {
       "model_id": "e9aac6156584449f8b945a379923a6df",
       "version_major": 2,
       "version_minor": 0
      },
      "text/plain": [
       "network dynamic:   0%|          | 0/9999 [00:00<?, ?it/s]"
      ]
     },
     "metadata": {},
     "output_type": "display_data"
    },
    {
     "data": {
      "application/vnd.jupyter.widget-view+json": {
       "model_id": "b85848ae8fb54b839fd959db5f2adce3",
       "version_major": 2,
       "version_minor": 0
      },
      "text/plain": [
       "Variation of alpha:   0%|          | 0/1 [00:00<?, ?it/s]"
      ]
     },
     "metadata": {},
     "output_type": "display_data"
    },
    {
     "data": {
      "application/vnd.jupyter.widget-view+json": {
       "model_id": "651df2950ccf4ba7bf495a38cb60d083",
       "version_major": 2,
       "version_minor": 0
      },
      "text/plain": [
       "Making ensembles:   0%|          | 0/1 [00:00<?, ?it/s]"
      ]
     },
     "metadata": {},
     "output_type": "display_data"
    },
    {
     "data": {
      "application/vnd.jupyter.widget-view+json": {
       "model_id": "be2e785431274f5383452a07cfdb164e",
       "version_major": 2,
       "version_minor": 0
      },
      "text/plain": [
       "network dynamic:   0%|          | 0/9999 [00:00<?, ?it/s]"
      ]
     },
     "metadata": {},
     "output_type": "display_data"
    },
    {
     "data": {
      "application/vnd.jupyter.widget-view+json": {
       "model_id": "a419aaf844b54fa6be47f6fc8b0b8848",
       "version_major": 2,
       "version_minor": 0
      },
      "text/plain": [
       "Variation of delay:   0%|          | 0/9 [00:00<?, ?it/s]"
      ]
     },
     "metadata": {},
     "output_type": "display_data"
    },
    {
     "data": {
      "application/vnd.jupyter.widget-view+json": {
       "model_id": "a3dbcb3cbf02427192f4e4da26e16702",
       "version_major": 2,
       "version_minor": 0
      },
      "text/plain": [
       "Variation of alpha:   0%|          | 0/1 [00:00<?, ?it/s]"
      ]
     },
     "metadata": {},
     "output_type": "display_data"
    },
    {
     "data": {
      "application/vnd.jupyter.widget-view+json": {
       "model_id": "cf5a072d90f4422da7aeaaf157cc7487",
       "version_major": 2,
       "version_minor": 0
      },
      "text/plain": [
       "Making ensembles:   0%|          | 0/1 [00:00<?, ?it/s]"
      ]
     },
     "metadata": {},
     "output_type": "display_data"
    },
    {
     "data": {
      "application/vnd.jupyter.widget-view+json": {
       "model_id": "f89a2ad439804d9ab85c46a2dabf05cd",
       "version_major": 2,
       "version_minor": 0
      },
      "text/plain": [
       "network dynamic:   0%|          | 0/9999 [00:00<?, ?it/s]"
      ]
     },
     "metadata": {},
     "output_type": "display_data"
    },
    {
     "data": {
      "application/vnd.jupyter.widget-view+json": {
       "model_id": "0785195c228c45ae8d41cf9839fbdaa9",
       "version_major": 2,
       "version_minor": 0
      },
      "text/plain": [
       "Variation of alpha:   0%|          | 0/1 [00:00<?, ?it/s]"
      ]
     },
     "metadata": {},
     "output_type": "display_data"
    },
    {
     "data": {
      "application/vnd.jupyter.widget-view+json": {
       "model_id": "c6f1ce04e70d4fc7a6f41e91b2a0f88a",
       "version_major": 2,
       "version_minor": 0
      },
      "text/plain": [
       "Making ensembles:   0%|          | 0/1 [00:00<?, ?it/s]"
      ]
     },
     "metadata": {},
     "output_type": "display_data"
    },
    {
     "data": {
      "application/vnd.jupyter.widget-view+json": {
       "model_id": "b5ac53f5c60d4800b882dd6fda0ff672",
       "version_major": 2,
       "version_minor": 0
      },
      "text/plain": [
       "network dynamic:   0%|          | 0/9999 [00:00<?, ?it/s]"
      ]
     },
     "metadata": {},
     "output_type": "display_data"
    },
    {
     "data": {
      "application/vnd.jupyter.widget-view+json": {
       "model_id": "b14b97edf30e453f869ebfc69dcdbd73",
       "version_major": 2,
       "version_minor": 0
      },
      "text/plain": [
       "Variation of alpha:   0%|          | 0/1 [00:00<?, ?it/s]"
      ]
     },
     "metadata": {},
     "output_type": "display_data"
    },
    {
     "data": {
      "application/vnd.jupyter.widget-view+json": {
       "model_id": "4e40b0cee53149faa3cfbd93c93ca418",
       "version_major": 2,
       "version_minor": 0
      },
      "text/plain": [
       "Making ensembles:   0%|          | 0/1 [00:00<?, ?it/s]"
      ]
     },
     "metadata": {},
     "output_type": "display_data"
    },
    {
     "data": {
      "application/vnd.jupyter.widget-view+json": {
       "model_id": "d7a750a597fa4a6991034a0e5dffdb61",
       "version_major": 2,
       "version_minor": 0
      },
      "text/plain": [
       "network dynamic:   0%|          | 0/9999 [00:00<?, ?it/s]"
      ]
     },
     "metadata": {},
     "output_type": "display_data"
    },
    {
     "data": {
      "application/vnd.jupyter.widget-view+json": {
       "model_id": "eb2c92eec3a24bb89ef5ded75e242eab",
       "version_major": 2,
       "version_minor": 0
      },
      "text/plain": [
       "Variation of alpha:   0%|          | 0/1 [00:00<?, ?it/s]"
      ]
     },
     "metadata": {},
     "output_type": "display_data"
    },
    {
     "data": {
      "application/vnd.jupyter.widget-view+json": {
       "model_id": "fcd04f1cb9d0464cadd66d38a195840e",
       "version_major": 2,
       "version_minor": 0
      },
      "text/plain": [
       "Making ensembles:   0%|          | 0/1 [00:00<?, ?it/s]"
      ]
     },
     "metadata": {},
     "output_type": "display_data"
    },
    {
     "data": {
      "application/vnd.jupyter.widget-view+json": {
       "model_id": "b528e0582b1c40fab45185508e637bae",
       "version_major": 2,
       "version_minor": 0
      },
      "text/plain": [
       "network dynamic:   0%|          | 0/9999 [00:00<?, ?it/s]"
      ]
     },
     "metadata": {},
     "output_type": "display_data"
    },
    {
     "data": {
      "application/vnd.jupyter.widget-view+json": {
       "model_id": "fc81860690964a2eb7cec4484c9c7b31",
       "version_major": 2,
       "version_minor": 0
      },
      "text/plain": [
       "Variation of alpha:   0%|          | 0/1 [00:00<?, ?it/s]"
      ]
     },
     "metadata": {},
     "output_type": "display_data"
    },
    {
     "data": {
      "application/vnd.jupyter.widget-view+json": {
       "model_id": "56291e2cb6a344fc88e3cde7f269d191",
       "version_major": 2,
       "version_minor": 0
      },
      "text/plain": [
       "Making ensembles:   0%|          | 0/1 [00:00<?, ?it/s]"
      ]
     },
     "metadata": {},
     "output_type": "display_data"
    },
    {
     "data": {
      "application/vnd.jupyter.widget-view+json": {
       "model_id": "a63b020cd0154c0d99d46aa4cd2f4b18",
       "version_major": 2,
       "version_minor": 0
      },
      "text/plain": [
       "network dynamic:   0%|          | 0/9999 [00:00<?, ?it/s]"
      ]
     },
     "metadata": {},
     "output_type": "display_data"
    },
    {
     "data": {
      "application/vnd.jupyter.widget-view+json": {
       "model_id": "3696b7d9bb4c4da496eb1b544081cce5",
       "version_major": 2,
       "version_minor": 0
      },
      "text/plain": [
       "Variation of alpha:   0%|          | 0/1 [00:00<?, ?it/s]"
      ]
     },
     "metadata": {},
     "output_type": "display_data"
    },
    {
     "data": {
      "application/vnd.jupyter.widget-view+json": {
       "model_id": "aa16835edd254cdfbd47bdb55be417d9",
       "version_major": 2,
       "version_minor": 0
      },
      "text/plain": [
       "Making ensembles:   0%|          | 0/1 [00:00<?, ?it/s]"
      ]
     },
     "metadata": {},
     "output_type": "display_data"
    },
    {
     "data": {
      "application/vnd.jupyter.widget-view+json": {
       "model_id": "abd7e68981214f308bfac8c5a8b9d5f7",
       "version_major": 2,
       "version_minor": 0
      },
      "text/plain": [
       "network dynamic:   0%|          | 0/9999 [00:00<?, ?it/s]"
      ]
     },
     "metadata": {},
     "output_type": "display_data"
    },
    {
     "data": {
      "application/vnd.jupyter.widget-view+json": {
       "model_id": "258b1fdb49d149cb9dd216b1e2b8dcb1",
       "version_major": 2,
       "version_minor": 0
      },
      "text/plain": [
       "Variation of alpha:   0%|          | 0/1 [00:00<?, ?it/s]"
      ]
     },
     "metadata": {},
     "output_type": "display_data"
    },
    {
     "data": {
      "application/vnd.jupyter.widget-view+json": {
       "model_id": "531bdf74e14046bcb794037d041e2ee6",
       "version_major": 2,
       "version_minor": 0
      },
      "text/plain": [
       "Making ensembles:   0%|          | 0/1 [00:00<?, ?it/s]"
      ]
     },
     "metadata": {},
     "output_type": "display_data"
    },
    {
     "data": {
      "application/vnd.jupyter.widget-view+json": {
       "model_id": "803325ce3b184b8e833325100c97adda",
       "version_major": 2,
       "version_minor": 0
      },
      "text/plain": [
       "network dynamic:   0%|          | 0/9999 [00:00<?, ?it/s]"
      ]
     },
     "metadata": {},
     "output_type": "display_data"
    },
    {
     "data": {
      "application/vnd.jupyter.widget-view+json": {
       "model_id": "4d462efa8bfe4c9facb8e635c597e54b",
       "version_major": 2,
       "version_minor": 0
      },
      "text/plain": [
       "Variation of alpha:   0%|          | 0/1 [00:00<?, ?it/s]"
      ]
     },
     "metadata": {},
     "output_type": "display_data"
    },
    {
     "data": {
      "application/vnd.jupyter.widget-view+json": {
       "model_id": "3d3f3d5d77d24e8e93fb30c1930e7f3a",
       "version_major": 2,
       "version_minor": 0
      },
      "text/plain": [
       "Making ensembles:   0%|          | 0/1 [00:00<?, ?it/s]"
      ]
     },
     "metadata": {},
     "output_type": "display_data"
    },
    {
     "data": {
      "application/vnd.jupyter.widget-view+json": {
       "model_id": "5f5520f947e944d8a05340b22a00670e",
       "version_major": 2,
       "version_minor": 0
      },
      "text/plain": [
       "network dynamic:   0%|          | 0/9999 [00:00<?, ?it/s]"
      ]
     },
     "metadata": {},
     "output_type": "display_data"
    },
    {
     "data": {
      "application/vnd.jupyter.widget-view+json": {
       "model_id": "2fb80cd5bf834b28a10fdb3c7489fcfa",
       "version_major": 2,
       "version_minor": 0
      },
      "text/plain": [
       "Variation of alpha:   0%|          | 0/1 [00:00<?, ?it/s]"
      ]
     },
     "metadata": {},
     "output_type": "display_data"
    },
    {
     "data": {
      "application/vnd.jupyter.widget-view+json": {
       "model_id": "a1d0185772d04cecbba3be90d758f7ac",
       "version_major": 2,
       "version_minor": 0
      },
      "text/plain": [
       "Making ensembles:   0%|          | 0/1 [00:00<?, ?it/s]"
      ]
     },
     "metadata": {},
     "output_type": "display_data"
    },
    {
     "data": {
      "application/vnd.jupyter.widget-view+json": {
       "model_id": "80dd850ae1e649b0a226d2514f69abe3",
       "version_major": 2,
       "version_minor": 0
      },
      "text/plain": [
       "network dynamic:   0%|          | 0/9999 [00:00<?, ?it/s]"
      ]
     },
     "metadata": {},
     "output_type": "display_data"
    },
    {
     "data": {
      "application/vnd.jupyter.widget-view+json": {
       "model_id": "f2baafaaaaeb43e19be1c8206f9ae5c7",
       "version_major": 2,
       "version_minor": 0
      },
      "text/plain": [
       "Variation of delay:   0%|          | 0/9 [00:00<?, ?it/s]"
      ]
     },
     "metadata": {},
     "output_type": "display_data"
    },
    {
     "data": {
      "application/vnd.jupyter.widget-view+json": {
       "model_id": "b7c297e282a9404cb8f7a3e73bae1001",
       "version_major": 2,
       "version_minor": 0
      },
      "text/plain": [
       "Variation of alpha:   0%|          | 0/1 [00:00<?, ?it/s]"
      ]
     },
     "metadata": {},
     "output_type": "display_data"
    },
    {
     "data": {
      "application/vnd.jupyter.widget-view+json": {
       "model_id": "d06b0a3f5e1e4848b608ccdb9935d33d",
       "version_major": 2,
       "version_minor": 0
      },
      "text/plain": [
       "Making ensembles:   0%|          | 0/1 [00:00<?, ?it/s]"
      ]
     },
     "metadata": {},
     "output_type": "display_data"
    },
    {
     "data": {
      "application/vnd.jupyter.widget-view+json": {
       "model_id": "628dca89b9254cf997a1c3f477b190ba",
       "version_major": 2,
       "version_minor": 0
      },
      "text/plain": [
       "network dynamic:   0%|          | 0/9999 [00:00<?, ?it/s]"
      ]
     },
     "metadata": {},
     "output_type": "display_data"
    },
    {
     "data": {
      "application/vnd.jupyter.widget-view+json": {
       "model_id": "da145c19a27c495681fcf5c9701093f4",
       "version_major": 2,
       "version_minor": 0
      },
      "text/plain": [
       "Variation of alpha:   0%|          | 0/1 [00:00<?, ?it/s]"
      ]
     },
     "metadata": {},
     "output_type": "display_data"
    },
    {
     "data": {
      "application/vnd.jupyter.widget-view+json": {
       "model_id": "330825d5c7834d5db4bbde1f95913070",
       "version_major": 2,
       "version_minor": 0
      },
      "text/plain": [
       "Making ensembles:   0%|          | 0/1 [00:00<?, ?it/s]"
      ]
     },
     "metadata": {},
     "output_type": "display_data"
    },
    {
     "data": {
      "application/vnd.jupyter.widget-view+json": {
       "model_id": "dbfa8acc786749cb87e376cdafa7f03a",
       "version_major": 2,
       "version_minor": 0
      },
      "text/plain": [
       "network dynamic:   0%|          | 0/9999 [00:00<?, ?it/s]"
      ]
     },
     "metadata": {},
     "output_type": "display_data"
    },
    {
     "data": {
      "application/vnd.jupyter.widget-view+json": {
       "model_id": "39b7055c8efd419f8a8846aecf5da87e",
       "version_major": 2,
       "version_minor": 0
      },
      "text/plain": [
       "Variation of alpha:   0%|          | 0/1 [00:00<?, ?it/s]"
      ]
     },
     "metadata": {},
     "output_type": "display_data"
    },
    {
     "data": {
      "application/vnd.jupyter.widget-view+json": {
       "model_id": "d2bc8faf148a45f5b3c79f4bf5206948",
       "version_major": 2,
       "version_minor": 0
      },
      "text/plain": [
       "Making ensembles:   0%|          | 0/1 [00:00<?, ?it/s]"
      ]
     },
     "metadata": {},
     "output_type": "display_data"
    },
    {
     "data": {
      "application/vnd.jupyter.widget-view+json": {
       "model_id": "b8f81a06d5514cf5ac02ac3fa421eba1",
       "version_major": 2,
       "version_minor": 0
      },
      "text/plain": [
       "network dynamic:   0%|          | 0/9999 [00:00<?, ?it/s]"
      ]
     },
     "metadata": {},
     "output_type": "display_data"
    },
    {
     "data": {
      "application/vnd.jupyter.widget-view+json": {
       "model_id": "3cecb449220b4d9c8f52ee59c9e0395f",
       "version_major": 2,
       "version_minor": 0
      },
      "text/plain": [
       "Variation of alpha:   0%|          | 0/1 [00:00<?, ?it/s]"
      ]
     },
     "metadata": {},
     "output_type": "display_data"
    },
    {
     "data": {
      "application/vnd.jupyter.widget-view+json": {
       "model_id": "e0736744d3e04d27aad42e99a1580084",
       "version_major": 2,
       "version_minor": 0
      },
      "text/plain": [
       "Making ensembles:   0%|          | 0/1 [00:00<?, ?it/s]"
      ]
     },
     "metadata": {},
     "output_type": "display_data"
    },
    {
     "data": {
      "application/vnd.jupyter.widget-view+json": {
       "model_id": "85026fd57569453695c318017b1a94ac",
       "version_major": 2,
       "version_minor": 0
      },
      "text/plain": [
       "network dynamic:   0%|          | 0/9999 [00:00<?, ?it/s]"
      ]
     },
     "metadata": {},
     "output_type": "display_data"
    },
    {
     "data": {
      "application/vnd.jupyter.widget-view+json": {
       "model_id": "c3f285b61ce5495480a6f1b06fbb0fa0",
       "version_major": 2,
       "version_minor": 0
      },
      "text/plain": [
       "Variation of alpha:   0%|          | 0/1 [00:00<?, ?it/s]"
      ]
     },
     "metadata": {},
     "output_type": "display_data"
    },
    {
     "data": {
      "application/vnd.jupyter.widget-view+json": {
       "model_id": "f366c9648bc2426d9d212a6790215a83",
       "version_major": 2,
       "version_minor": 0
      },
      "text/plain": [
       "Making ensembles:   0%|          | 0/1 [00:00<?, ?it/s]"
      ]
     },
     "metadata": {},
     "output_type": "display_data"
    },
    {
     "data": {
      "application/vnd.jupyter.widget-view+json": {
       "model_id": "822890d8801f42a98c25853c2f9de203",
       "version_major": 2,
       "version_minor": 0
      },
      "text/plain": [
       "network dynamic:   0%|          | 0/9999 [00:00<?, ?it/s]"
      ]
     },
     "metadata": {},
     "output_type": "display_data"
    },
    {
     "data": {
      "application/vnd.jupyter.widget-view+json": {
       "model_id": "5d89dc69fc0b4faa9d72f34a55b8ab11",
       "version_major": 2,
       "version_minor": 0
      },
      "text/plain": [
       "Variation of alpha:   0%|          | 0/1 [00:00<?, ?it/s]"
      ]
     },
     "metadata": {},
     "output_type": "display_data"
    },
    {
     "data": {
      "application/vnd.jupyter.widget-view+json": {
       "model_id": "3521d925613c4868b29e6518dee9de69",
       "version_major": 2,
       "version_minor": 0
      },
      "text/plain": [
       "Making ensembles:   0%|          | 0/1 [00:00<?, ?it/s]"
      ]
     },
     "metadata": {},
     "output_type": "display_data"
    },
    {
     "data": {
      "application/vnd.jupyter.widget-view+json": {
       "model_id": "11151c1e3665469a90eefb1227c5e72a",
       "version_major": 2,
       "version_minor": 0
      },
      "text/plain": [
       "network dynamic:   0%|          | 0/9999 [00:00<?, ?it/s]"
      ]
     },
     "metadata": {},
     "output_type": "display_data"
    },
    {
     "data": {
      "application/vnd.jupyter.widget-view+json": {
       "model_id": "930bf707038a40d8ad793bd1566925c3",
       "version_major": 2,
       "version_minor": 0
      },
      "text/plain": [
       "Variation of alpha:   0%|          | 0/1 [00:00<?, ?it/s]"
      ]
     },
     "metadata": {},
     "output_type": "display_data"
    },
    {
     "data": {
      "application/vnd.jupyter.widget-view+json": {
       "model_id": "e518a89d050c468199b9a8d67749e257",
       "version_major": 2,
       "version_minor": 0
      },
      "text/plain": [
       "Making ensembles:   0%|          | 0/1 [00:00<?, ?it/s]"
      ]
     },
     "metadata": {},
     "output_type": "display_data"
    },
    {
     "data": {
      "application/vnd.jupyter.widget-view+json": {
       "model_id": "19c899a327b14f9f99356ba10b32c7bb",
       "version_major": 2,
       "version_minor": 0
      },
      "text/plain": [
       "network dynamic:   0%|          | 0/9999 [00:00<?, ?it/s]"
      ]
     },
     "metadata": {},
     "output_type": "display_data"
    },
    {
     "data": {
      "application/vnd.jupyter.widget-view+json": {
       "model_id": "3628b3587fd34546b25cfb738b935b60",
       "version_major": 2,
       "version_minor": 0
      },
      "text/plain": [
       "Variation of alpha:   0%|          | 0/1 [00:00<?, ?it/s]"
      ]
     },
     "metadata": {},
     "output_type": "display_data"
    },
    {
     "data": {
      "application/vnd.jupyter.widget-view+json": {
       "model_id": "16a08beb2e70459392403f4c8f659630",
       "version_major": 2,
       "version_minor": 0
      },
      "text/plain": [
       "Making ensembles:   0%|          | 0/1 [00:00<?, ?it/s]"
      ]
     },
     "metadata": {},
     "output_type": "display_data"
    },
    {
     "data": {
      "application/vnd.jupyter.widget-view+json": {
       "model_id": "bc68e0eb702f493eb2bf1bf1614c0cca",
       "version_major": 2,
       "version_minor": 0
      },
      "text/plain": [
       "network dynamic:   0%|          | 0/9999 [00:00<?, ?it/s]"
      ]
     },
     "metadata": {},
     "output_type": "display_data"
    },
    {
     "data": {
      "application/vnd.jupyter.widget-view+json": {
       "model_id": "9aef7e5ca6e1429180b356076912cbf3",
       "version_major": 2,
       "version_minor": 0
      },
      "text/plain": [
       "Variation of alpha:   0%|          | 0/1 [00:00<?, ?it/s]"
      ]
     },
     "metadata": {},
     "output_type": "display_data"
    },
    {
     "data": {
      "application/vnd.jupyter.widget-view+json": {
       "model_id": "d1a757e79a48439e8d1f011f8fbff0cc",
       "version_major": 2,
       "version_minor": 0
      },
      "text/plain": [
       "Making ensembles:   0%|          | 0/1 [00:00<?, ?it/s]"
      ]
     },
     "metadata": {},
     "output_type": "display_data"
    },
    {
     "data": {
      "application/vnd.jupyter.widget-view+json": {
       "model_id": "4db6b942d89b4948be3cb4469cefa390",
       "version_major": 2,
       "version_minor": 0
      },
      "text/plain": [
       "network dynamic:   0%|          | 0/9999 [00:00<?, ?it/s]"
      ]
     },
     "metadata": {},
     "output_type": "display_data"
    },
    {
     "data": {
      "application/vnd.jupyter.widget-view+json": {
       "model_id": "c007c3a1515648b3a79fa9e26d565a7c",
       "version_major": 2,
       "version_minor": 0
      },
      "text/plain": [
       "Variation of delay:   0%|          | 0/9 [00:00<?, ?it/s]"
      ]
     },
     "metadata": {},
     "output_type": "display_data"
    },
    {
     "data": {
      "application/vnd.jupyter.widget-view+json": {
       "model_id": "a684ede0200b4475adb75477864f44f4",
       "version_major": 2,
       "version_minor": 0
      },
      "text/plain": [
       "Variation of alpha:   0%|          | 0/1 [00:00<?, ?it/s]"
      ]
     },
     "metadata": {},
     "output_type": "display_data"
    },
    {
     "data": {
      "application/vnd.jupyter.widget-view+json": {
       "model_id": "ca5610194c6241078a43d8e9d8a890e4",
       "version_major": 2,
       "version_minor": 0
      },
      "text/plain": [
       "Making ensembles:   0%|          | 0/1 [00:00<?, ?it/s]"
      ]
     },
     "metadata": {},
     "output_type": "display_data"
    },
    {
     "data": {
      "application/vnd.jupyter.widget-view+json": {
       "model_id": "584ca43257c04d139f3cbf9988a88a68",
       "version_major": 2,
       "version_minor": 0
      },
      "text/plain": [
       "network dynamic:   0%|          | 0/9999 [00:00<?, ?it/s]"
      ]
     },
     "metadata": {},
     "output_type": "display_data"
    },
    {
     "data": {
      "application/vnd.jupyter.widget-view+json": {
       "model_id": "9c996700f17f4e3abe94ddfa0955357f",
       "version_major": 2,
       "version_minor": 0
      },
      "text/plain": [
       "Variation of alpha:   0%|          | 0/1 [00:00<?, ?it/s]"
      ]
     },
     "metadata": {},
     "output_type": "display_data"
    },
    {
     "data": {
      "application/vnd.jupyter.widget-view+json": {
       "model_id": "383d0e6a707b4d2ebf5ef7e04d00b11a",
       "version_major": 2,
       "version_minor": 0
      },
      "text/plain": [
       "Making ensembles:   0%|          | 0/1 [00:00<?, ?it/s]"
      ]
     },
     "metadata": {},
     "output_type": "display_data"
    },
    {
     "data": {
      "application/vnd.jupyter.widget-view+json": {
       "model_id": "cbde92f5a35d4e6ba3b274770aff4579",
       "version_major": 2,
       "version_minor": 0
      },
      "text/plain": [
       "network dynamic:   0%|          | 0/9999 [00:00<?, ?it/s]"
      ]
     },
     "metadata": {},
     "output_type": "display_data"
    },
    {
     "data": {
      "application/vnd.jupyter.widget-view+json": {
       "model_id": "a2a39080a41e4e7c98fb2e4a3e174f4d",
       "version_major": 2,
       "version_minor": 0
      },
      "text/plain": [
       "Variation of alpha:   0%|          | 0/1 [00:00<?, ?it/s]"
      ]
     },
     "metadata": {},
     "output_type": "display_data"
    },
    {
     "data": {
      "application/vnd.jupyter.widget-view+json": {
       "model_id": "dc2d89314436456ba8e5c81cc4a883d6",
       "version_major": 2,
       "version_minor": 0
      },
      "text/plain": [
       "Making ensembles:   0%|          | 0/1 [00:00<?, ?it/s]"
      ]
     },
     "metadata": {},
     "output_type": "display_data"
    },
    {
     "data": {
      "application/vnd.jupyter.widget-view+json": {
       "model_id": "60b7ffd0c23a40c6bba2a4bbebca1932",
       "version_major": 2,
       "version_minor": 0
      },
      "text/plain": [
       "network dynamic:   0%|          | 0/9999 [00:00<?, ?it/s]"
      ]
     },
     "metadata": {},
     "output_type": "display_data"
    },
    {
     "data": {
      "application/vnd.jupyter.widget-view+json": {
       "model_id": "65d8f9a892f94195b819cb37bb045bb8",
       "version_major": 2,
       "version_minor": 0
      },
      "text/plain": [
       "Variation of alpha:   0%|          | 0/1 [00:00<?, ?it/s]"
      ]
     },
     "metadata": {},
     "output_type": "display_data"
    },
    {
     "data": {
      "application/vnd.jupyter.widget-view+json": {
       "model_id": "165089e324d54272a8ffd119b5166b30",
       "version_major": 2,
       "version_minor": 0
      },
      "text/plain": [
       "Making ensembles:   0%|          | 0/1 [00:00<?, ?it/s]"
      ]
     },
     "metadata": {},
     "output_type": "display_data"
    },
    {
     "data": {
      "application/vnd.jupyter.widget-view+json": {
       "model_id": "f5dd1bb7a6ec4cd4ac2baaa60fe7f180",
       "version_major": 2,
       "version_minor": 0
      },
      "text/plain": [
       "network dynamic:   0%|          | 0/9999 [00:00<?, ?it/s]"
      ]
     },
     "metadata": {},
     "output_type": "display_data"
    },
    {
     "data": {
      "application/vnd.jupyter.widget-view+json": {
       "model_id": "ac10402d4347474aa1f462686403a311",
       "version_major": 2,
       "version_minor": 0
      },
      "text/plain": [
       "Variation of alpha:   0%|          | 0/1 [00:00<?, ?it/s]"
      ]
     },
     "metadata": {},
     "output_type": "display_data"
    },
    {
     "data": {
      "application/vnd.jupyter.widget-view+json": {
       "model_id": "1afe223ce22c434a909ec2cf2cfa965e",
       "version_major": 2,
       "version_minor": 0
      },
      "text/plain": [
       "Making ensembles:   0%|          | 0/1 [00:00<?, ?it/s]"
      ]
     },
     "metadata": {},
     "output_type": "display_data"
    },
    {
     "data": {
      "application/vnd.jupyter.widget-view+json": {
       "model_id": "8185fef5b5d54b61ae55843df8ccc305",
       "version_major": 2,
       "version_minor": 0
      },
      "text/plain": [
       "network dynamic:   0%|          | 0/9999 [00:00<?, ?it/s]"
      ]
     },
     "metadata": {},
     "output_type": "display_data"
    },
    {
     "data": {
      "application/vnd.jupyter.widget-view+json": {
       "model_id": "af0fac5992104751a2a4870f96635867",
       "version_major": 2,
       "version_minor": 0
      },
      "text/plain": [
       "Variation of alpha:   0%|          | 0/1 [00:00<?, ?it/s]"
      ]
     },
     "metadata": {},
     "output_type": "display_data"
    },
    {
     "data": {
      "application/vnd.jupyter.widget-view+json": {
       "model_id": "b139f513d7f4407583e03e4cd8350184",
       "version_major": 2,
       "version_minor": 0
      },
      "text/plain": [
       "Making ensembles:   0%|          | 0/1 [00:00<?, ?it/s]"
      ]
     },
     "metadata": {},
     "output_type": "display_data"
    },
    {
     "data": {
      "application/vnd.jupyter.widget-view+json": {
       "model_id": "8acd3bd7b9454383a95d2b464d1a9b11",
       "version_major": 2,
       "version_minor": 0
      },
      "text/plain": [
       "network dynamic:   0%|          | 0/9999 [00:00<?, ?it/s]"
      ]
     },
     "metadata": {},
     "output_type": "display_data"
    },
    {
     "data": {
      "application/vnd.jupyter.widget-view+json": {
       "model_id": "83ce88b7e5024533b7d1d081470a4f54",
       "version_major": 2,
       "version_minor": 0
      },
      "text/plain": [
       "Variation of alpha:   0%|          | 0/1 [00:00<?, ?it/s]"
      ]
     },
     "metadata": {},
     "output_type": "display_data"
    },
    {
     "data": {
      "application/vnd.jupyter.widget-view+json": {
       "model_id": "0a4c299564b144d6a0990fcdc36595f1",
       "version_major": 2,
       "version_minor": 0
      },
      "text/plain": [
       "Making ensembles:   0%|          | 0/1 [00:00<?, ?it/s]"
      ]
     },
     "metadata": {},
     "output_type": "display_data"
    },
    {
     "data": {
      "application/vnd.jupyter.widget-view+json": {
       "model_id": "7866cd198f044f1b95d2a1ed6e253c20",
       "version_major": 2,
       "version_minor": 0
      },
      "text/plain": [
       "network dynamic:   0%|          | 0/9999 [00:00<?, ?it/s]"
      ]
     },
     "metadata": {},
     "output_type": "display_data"
    },
    {
     "data": {
      "application/vnd.jupyter.widget-view+json": {
       "model_id": "5defd925cd664d5dbd50d835aced4429",
       "version_major": 2,
       "version_minor": 0
      },
      "text/plain": [
       "Variation of alpha:   0%|          | 0/1 [00:00<?, ?it/s]"
      ]
     },
     "metadata": {},
     "output_type": "display_data"
    },
    {
     "data": {
      "application/vnd.jupyter.widget-view+json": {
       "model_id": "f64253df476a49db90befae7daea4051",
       "version_major": 2,
       "version_minor": 0
      },
      "text/plain": [
       "Making ensembles:   0%|          | 0/1 [00:00<?, ?it/s]"
      ]
     },
     "metadata": {},
     "output_type": "display_data"
    },
    {
     "data": {
      "application/vnd.jupyter.widget-view+json": {
       "model_id": "1517cafed418467cb9ccac57c829ed7a",
       "version_major": 2,
       "version_minor": 0
      },
      "text/plain": [
       "network dynamic:   0%|          | 0/9999 [00:00<?, ?it/s]"
      ]
     },
     "metadata": {},
     "output_type": "display_data"
    },
    {
     "data": {
      "application/vnd.jupyter.widget-view+json": {
       "model_id": "6f15eacbf2574b0a8019421f4d18c877",
       "version_major": 2,
       "version_minor": 0
      },
      "text/plain": [
       "Variation of alpha:   0%|          | 0/1 [00:00<?, ?it/s]"
      ]
     },
     "metadata": {},
     "output_type": "display_data"
    },
    {
     "data": {
      "application/vnd.jupyter.widget-view+json": {
       "model_id": "a640ec72060748ae9aad0a16bd4bdd90",
       "version_major": 2,
       "version_minor": 0
      },
      "text/plain": [
       "Making ensembles:   0%|          | 0/1 [00:00<?, ?it/s]"
      ]
     },
     "metadata": {},
     "output_type": "display_data"
    },
    {
     "data": {
      "application/vnd.jupyter.widget-view+json": {
       "model_id": "c550070b36154c0789e16d9962d83844",
       "version_major": 2,
       "version_minor": 0
      },
      "text/plain": [
       "network dynamic:   0%|          | 0/9999 [00:00<?, ?it/s]"
      ]
     },
     "metadata": {},
     "output_type": "display_data"
    },
    {
     "data": {
      "application/vnd.jupyter.widget-view+json": {
       "model_id": "2f32434ea24f4a909a7a32590f05d16b",
       "version_major": 2,
       "version_minor": 0
      },
      "text/plain": [
       "Variation of delay:   0%|          | 0/9 [00:00<?, ?it/s]"
      ]
     },
     "metadata": {},
     "output_type": "display_data"
    },
    {
     "data": {
      "application/vnd.jupyter.widget-view+json": {
       "model_id": "937511facc5647cb8816147f9c8f227a",
       "version_major": 2,
       "version_minor": 0
      },
      "text/plain": [
       "Variation of alpha:   0%|          | 0/1 [00:00<?, ?it/s]"
      ]
     },
     "metadata": {},
     "output_type": "display_data"
    },
    {
     "data": {
      "application/vnd.jupyter.widget-view+json": {
       "model_id": "6d2b3fe3b71245b0a44057fb365c4346",
       "version_major": 2,
       "version_minor": 0
      },
      "text/plain": [
       "Making ensembles:   0%|          | 0/1 [00:00<?, ?it/s]"
      ]
     },
     "metadata": {},
     "output_type": "display_data"
    },
    {
     "data": {
      "application/vnd.jupyter.widget-view+json": {
       "model_id": "c5a6d6b085c14217b68d7616f3ea1c3f",
       "version_major": 2,
       "version_minor": 0
      },
      "text/plain": [
       "network dynamic:   0%|          | 0/9999 [00:00<?, ?it/s]"
      ]
     },
     "metadata": {},
     "output_type": "display_data"
    },
    {
     "data": {
      "application/vnd.jupyter.widget-view+json": {
       "model_id": "7c8d9fc43c894266bb893ee0c73f8453",
       "version_major": 2,
       "version_minor": 0
      },
      "text/plain": [
       "Variation of alpha:   0%|          | 0/1 [00:00<?, ?it/s]"
      ]
     },
     "metadata": {},
     "output_type": "display_data"
    },
    {
     "data": {
      "application/vnd.jupyter.widget-view+json": {
       "model_id": "0999091ed7be48448c01472e0f03e770",
       "version_major": 2,
       "version_minor": 0
      },
      "text/plain": [
       "Making ensembles:   0%|          | 0/1 [00:00<?, ?it/s]"
      ]
     },
     "metadata": {},
     "output_type": "display_data"
    },
    {
     "data": {
      "application/vnd.jupyter.widget-view+json": {
       "model_id": "b14be3a7c3c5403a93182839a8cad685",
       "version_major": 2,
       "version_minor": 0
      },
      "text/plain": [
       "network dynamic:   0%|          | 0/9999 [00:00<?, ?it/s]"
      ]
     },
     "metadata": {},
     "output_type": "display_data"
    },
    {
     "data": {
      "application/vnd.jupyter.widget-view+json": {
       "model_id": "8cc10a1363d34e009e4b0edec6a0bee8",
       "version_major": 2,
       "version_minor": 0
      },
      "text/plain": [
       "Variation of alpha:   0%|          | 0/1 [00:00<?, ?it/s]"
      ]
     },
     "metadata": {},
     "output_type": "display_data"
    },
    {
     "data": {
      "application/vnd.jupyter.widget-view+json": {
       "model_id": "d55d78c0002e4961a24dd21acb753c40",
       "version_major": 2,
       "version_minor": 0
      },
      "text/plain": [
       "Making ensembles:   0%|          | 0/1 [00:00<?, ?it/s]"
      ]
     },
     "metadata": {},
     "output_type": "display_data"
    },
    {
     "data": {
      "application/vnd.jupyter.widget-view+json": {
       "model_id": "2dcede254e7449f8838ad546f8d72edd",
       "version_major": 2,
       "version_minor": 0
      },
      "text/plain": [
       "network dynamic:   0%|          | 0/9999 [00:00<?, ?it/s]"
      ]
     },
     "metadata": {},
     "output_type": "display_data"
    },
    {
     "data": {
      "application/vnd.jupyter.widget-view+json": {
       "model_id": "33de7adfff9b4b4e827a237f07c47185",
       "version_major": 2,
       "version_minor": 0
      },
      "text/plain": [
       "Variation of alpha:   0%|          | 0/1 [00:00<?, ?it/s]"
      ]
     },
     "metadata": {},
     "output_type": "display_data"
    },
    {
     "data": {
      "application/vnd.jupyter.widget-view+json": {
       "model_id": "0edd341fab114740bc28205dfd01dc57",
       "version_major": 2,
       "version_minor": 0
      },
      "text/plain": [
       "Making ensembles:   0%|          | 0/1 [00:00<?, ?it/s]"
      ]
     },
     "metadata": {},
     "output_type": "display_data"
    },
    {
     "data": {
      "application/vnd.jupyter.widget-view+json": {
       "model_id": "481503884a3c4839941d3144905df76a",
       "version_major": 2,
       "version_minor": 0
      },
      "text/plain": [
       "network dynamic:   0%|          | 0/9999 [00:00<?, ?it/s]"
      ]
     },
     "metadata": {},
     "output_type": "display_data"
    },
    {
     "data": {
      "application/vnd.jupyter.widget-view+json": {
       "model_id": "32939defcba549e4acf19eef992b7f7b",
       "version_major": 2,
       "version_minor": 0
      },
      "text/plain": [
       "Variation of alpha:   0%|          | 0/1 [00:00<?, ?it/s]"
      ]
     },
     "metadata": {},
     "output_type": "display_data"
    },
    {
     "data": {
      "application/vnd.jupyter.widget-view+json": {
       "model_id": "db8f3cf3619948e0ad2a72185fe42515",
       "version_major": 2,
       "version_minor": 0
      },
      "text/plain": [
       "Making ensembles:   0%|          | 0/1 [00:00<?, ?it/s]"
      ]
     },
     "metadata": {},
     "output_type": "display_data"
    },
    {
     "data": {
      "application/vnd.jupyter.widget-view+json": {
       "model_id": "f72e82a3c4c645babb245f6561d69197",
       "version_major": 2,
       "version_minor": 0
      },
      "text/plain": [
       "network dynamic:   0%|          | 0/9999 [00:00<?, ?it/s]"
      ]
     },
     "metadata": {},
     "output_type": "display_data"
    },
    {
     "data": {
      "application/vnd.jupyter.widget-view+json": {
       "model_id": "9282ee37459844c7870b03ae9d27f702",
       "version_major": 2,
       "version_minor": 0
      },
      "text/plain": [
       "Variation of alpha:   0%|          | 0/1 [00:00<?, ?it/s]"
      ]
     },
     "metadata": {},
     "output_type": "display_data"
    },
    {
     "data": {
      "application/vnd.jupyter.widget-view+json": {
       "model_id": "2215d194875b41feb129dd076d9198e9",
       "version_major": 2,
       "version_minor": 0
      },
      "text/plain": [
       "Making ensembles:   0%|          | 0/1 [00:00<?, ?it/s]"
      ]
     },
     "metadata": {},
     "output_type": "display_data"
    },
    {
     "data": {
      "application/vnd.jupyter.widget-view+json": {
       "model_id": "8cc57d37ba424ce1a4bfa643e8f5c28b",
       "version_major": 2,
       "version_minor": 0
      },
      "text/plain": [
       "network dynamic:   0%|          | 0/9999 [00:00<?, ?it/s]"
      ]
     },
     "metadata": {},
     "output_type": "display_data"
    },
    {
     "data": {
      "application/vnd.jupyter.widget-view+json": {
       "model_id": "6ef0e992a4a24d7896d050011f0ffa2b",
       "version_major": 2,
       "version_minor": 0
      },
      "text/plain": [
       "Variation of alpha:   0%|          | 0/1 [00:00<?, ?it/s]"
      ]
     },
     "metadata": {},
     "output_type": "display_data"
    },
    {
     "data": {
      "application/vnd.jupyter.widget-view+json": {
       "model_id": "38e4110a471e4d1bbf2fa0dd83134527",
       "version_major": 2,
       "version_minor": 0
      },
      "text/plain": [
       "Making ensembles:   0%|          | 0/1 [00:00<?, ?it/s]"
      ]
     },
     "metadata": {},
     "output_type": "display_data"
    },
    {
     "data": {
      "application/vnd.jupyter.widget-view+json": {
       "model_id": "fc7cdbe67d384dc78a5ec4fbd3e92e9c",
       "version_major": 2,
       "version_minor": 0
      },
      "text/plain": [
       "network dynamic:   0%|          | 0/9999 [00:00<?, ?it/s]"
      ]
     },
     "metadata": {},
     "output_type": "display_data"
    },
    {
     "data": {
      "application/vnd.jupyter.widget-view+json": {
       "model_id": "3c4b61d16daf4fda99316a5dce227601",
       "version_major": 2,
       "version_minor": 0
      },
      "text/plain": [
       "Variation of alpha:   0%|          | 0/1 [00:00<?, ?it/s]"
      ]
     },
     "metadata": {},
     "output_type": "display_data"
    },
    {
     "data": {
      "application/vnd.jupyter.widget-view+json": {
       "model_id": "7726ccce6fd24e41b764c63510654205",
       "version_major": 2,
       "version_minor": 0
      },
      "text/plain": [
       "Making ensembles:   0%|          | 0/1 [00:00<?, ?it/s]"
      ]
     },
     "metadata": {},
     "output_type": "display_data"
    },
    {
     "data": {
      "application/vnd.jupyter.widget-view+json": {
       "model_id": "174271ed4f4145ba9c3c486bb61c5975",
       "version_major": 2,
       "version_minor": 0
      },
      "text/plain": [
       "network dynamic:   0%|          | 0/9999 [00:00<?, ?it/s]"
      ]
     },
     "metadata": {},
     "output_type": "display_data"
    },
    {
     "data": {
      "application/vnd.jupyter.widget-view+json": {
       "model_id": "bb5a48ecd27047b797307b7ebaf85367",
       "version_major": 2,
       "version_minor": 0
      },
      "text/plain": [
       "Variation of alpha:   0%|          | 0/1 [00:00<?, ?it/s]"
      ]
     },
     "metadata": {},
     "output_type": "display_data"
    },
    {
     "data": {
      "application/vnd.jupyter.widget-view+json": {
       "model_id": "1d16723c81eb4a78b225f973ba4677fc",
       "version_major": 2,
       "version_minor": 0
      },
      "text/plain": [
       "Making ensembles:   0%|          | 0/1 [00:00<?, ?it/s]"
      ]
     },
     "metadata": {},
     "output_type": "display_data"
    },
    {
     "data": {
      "application/vnd.jupyter.widget-view+json": {
       "model_id": "f0a22cabc2ed4f7bbded508d8056fb7e",
       "version_major": 2,
       "version_minor": 0
      },
      "text/plain": [
       "network dynamic:   0%|          | 0/9999 [00:00<?, ?it/s]"
      ]
     },
     "metadata": {},
     "output_type": "display_data"
    },
    {
     "data": {
      "application/vnd.jupyter.widget-view+json": {
       "model_id": "99425f865a874c68b1af1ca1a9cb6c86",
       "version_major": 2,
       "version_minor": 0
      },
      "text/plain": [
       "Variation of delay:   0%|          | 0/9 [00:00<?, ?it/s]"
      ]
     },
     "metadata": {},
     "output_type": "display_data"
    },
    {
     "data": {
      "application/vnd.jupyter.widget-view+json": {
       "model_id": "1792cbb2485a42b99dec3404c41d63b7",
       "version_major": 2,
       "version_minor": 0
      },
      "text/plain": [
       "Variation of alpha:   0%|          | 0/1 [00:00<?, ?it/s]"
      ]
     },
     "metadata": {},
     "output_type": "display_data"
    },
    {
     "data": {
      "application/vnd.jupyter.widget-view+json": {
       "model_id": "d4361d21fa77410f93fffd54f91acb00",
       "version_major": 2,
       "version_minor": 0
      },
      "text/plain": [
       "Making ensembles:   0%|          | 0/1 [00:00<?, ?it/s]"
      ]
     },
     "metadata": {},
     "output_type": "display_data"
    },
    {
     "data": {
      "application/vnd.jupyter.widget-view+json": {
       "model_id": "b0dd7ee7d17342a8815b6f00199adce4",
       "version_major": 2,
       "version_minor": 0
      },
      "text/plain": [
       "network dynamic:   0%|          | 0/9999 [00:00<?, ?it/s]"
      ]
     },
     "metadata": {},
     "output_type": "display_data"
    },
    {
     "data": {
      "application/vnd.jupyter.widget-view+json": {
       "model_id": "84e53bdbbf5c46238eedade2d5734ab7",
       "version_major": 2,
       "version_minor": 0
      },
      "text/plain": [
       "Variation of alpha:   0%|          | 0/1 [00:00<?, ?it/s]"
      ]
     },
     "metadata": {},
     "output_type": "display_data"
    },
    {
     "data": {
      "application/vnd.jupyter.widget-view+json": {
       "model_id": "b3b18806b1ec46689752df67cd9f44c6",
       "version_major": 2,
       "version_minor": 0
      },
      "text/plain": [
       "Making ensembles:   0%|          | 0/1 [00:00<?, ?it/s]"
      ]
     },
     "metadata": {},
     "output_type": "display_data"
    },
    {
     "data": {
      "application/vnd.jupyter.widget-view+json": {
       "model_id": "aa429c7b76c742498e7ae4ea2dc1551e",
       "version_major": 2,
       "version_minor": 0
      },
      "text/plain": [
       "network dynamic:   0%|          | 0/9999 [00:00<?, ?it/s]"
      ]
     },
     "metadata": {},
     "output_type": "display_data"
    },
    {
     "data": {
      "application/vnd.jupyter.widget-view+json": {
       "model_id": "712f1ce3f6b7465cbebc84b3acc57473",
       "version_major": 2,
       "version_minor": 0
      },
      "text/plain": [
       "Variation of alpha:   0%|          | 0/1 [00:00<?, ?it/s]"
      ]
     },
     "metadata": {},
     "output_type": "display_data"
    },
    {
     "data": {
      "application/vnd.jupyter.widget-view+json": {
       "model_id": "f922ef293c1645059ce05fa15dde3f4e",
       "version_major": 2,
       "version_minor": 0
      },
      "text/plain": [
       "Making ensembles:   0%|          | 0/1 [00:00<?, ?it/s]"
      ]
     },
     "metadata": {},
     "output_type": "display_data"
    },
    {
     "data": {
      "application/vnd.jupyter.widget-view+json": {
       "model_id": "9c2e43db0be947e2ae1c8955ac7f33e8",
       "version_major": 2,
       "version_minor": 0
      },
      "text/plain": [
       "network dynamic:   0%|          | 0/9999 [00:00<?, ?it/s]"
      ]
     },
     "metadata": {},
     "output_type": "display_data"
    },
    {
     "data": {
      "application/vnd.jupyter.widget-view+json": {
       "model_id": "2960106adc0e4ebe8bc622816378e473",
       "version_major": 2,
       "version_minor": 0
      },
      "text/plain": [
       "Variation of alpha:   0%|          | 0/1 [00:00<?, ?it/s]"
      ]
     },
     "metadata": {},
     "output_type": "display_data"
    },
    {
     "data": {
      "application/vnd.jupyter.widget-view+json": {
       "model_id": "8f23c80d5f3d4d4dad2be5ee6d9a08dc",
       "version_major": 2,
       "version_minor": 0
      },
      "text/plain": [
       "Making ensembles:   0%|          | 0/1 [00:00<?, ?it/s]"
      ]
     },
     "metadata": {},
     "output_type": "display_data"
    },
    {
     "data": {
      "application/vnd.jupyter.widget-view+json": {
       "model_id": "ab3bf8df8a434d1e819fead952b1bdba",
       "version_major": 2,
       "version_minor": 0
      },
      "text/plain": [
       "network dynamic:   0%|          | 0/9999 [00:00<?, ?it/s]"
      ]
     },
     "metadata": {},
     "output_type": "display_data"
    },
    {
     "data": {
      "application/vnd.jupyter.widget-view+json": {
       "model_id": "680c57ab35e44fc18c3be1551b1d3804",
       "version_major": 2,
       "version_minor": 0
      },
      "text/plain": [
       "Variation of alpha:   0%|          | 0/1 [00:00<?, ?it/s]"
      ]
     },
     "metadata": {},
     "output_type": "display_data"
    },
    {
     "data": {
      "application/vnd.jupyter.widget-view+json": {
       "model_id": "7aee17ad37354a8ab69a66abdb4e1d97",
       "version_major": 2,
       "version_minor": 0
      },
      "text/plain": [
       "Making ensembles:   0%|          | 0/1 [00:00<?, ?it/s]"
      ]
     },
     "metadata": {},
     "output_type": "display_data"
    },
    {
     "data": {
      "application/vnd.jupyter.widget-view+json": {
       "model_id": "bc7f1711a79947b18eb4be72373d8f4c",
       "version_major": 2,
       "version_minor": 0
      },
      "text/plain": [
       "network dynamic:   0%|          | 0/9999 [00:00<?, ?it/s]"
      ]
     },
     "metadata": {},
     "output_type": "display_data"
    },
    {
     "data": {
      "application/vnd.jupyter.widget-view+json": {
       "model_id": "b8cdc7fc173849f3ac060d8892462726",
       "version_major": 2,
       "version_minor": 0
      },
      "text/plain": [
       "Variation of alpha:   0%|          | 0/1 [00:00<?, ?it/s]"
      ]
     },
     "metadata": {},
     "output_type": "display_data"
    },
    {
     "data": {
      "application/vnd.jupyter.widget-view+json": {
       "model_id": "5a3d1e8195f645e89399db1a1aac18e4",
       "version_major": 2,
       "version_minor": 0
      },
      "text/plain": [
       "Making ensembles:   0%|          | 0/1 [00:00<?, ?it/s]"
      ]
     },
     "metadata": {},
     "output_type": "display_data"
    },
    {
     "data": {
      "application/vnd.jupyter.widget-view+json": {
       "model_id": "2e04ddf87ba94d768e1f56372cf07379",
       "version_major": 2,
       "version_minor": 0
      },
      "text/plain": [
       "network dynamic:   0%|          | 0/9999 [00:00<?, ?it/s]"
      ]
     },
     "metadata": {},
     "output_type": "display_data"
    },
    {
     "data": {
      "application/vnd.jupyter.widget-view+json": {
       "model_id": "94b4a5bff72e484e94ba8c4b8bce0f50",
       "version_major": 2,
       "version_minor": 0
      },
      "text/plain": [
       "Variation of alpha:   0%|          | 0/1 [00:00<?, ?it/s]"
      ]
     },
     "metadata": {},
     "output_type": "display_data"
    },
    {
     "data": {
      "application/vnd.jupyter.widget-view+json": {
       "model_id": "ab702a2b88da49c1bd1a4cbe70b49b9b",
       "version_major": 2,
       "version_minor": 0
      },
      "text/plain": [
       "Making ensembles:   0%|          | 0/1 [00:00<?, ?it/s]"
      ]
     },
     "metadata": {},
     "output_type": "display_data"
    },
    {
     "data": {
      "application/vnd.jupyter.widget-view+json": {
       "model_id": "c900bef2035f4e929140f0f67fba24e6",
       "version_major": 2,
       "version_minor": 0
      },
      "text/plain": [
       "network dynamic:   0%|          | 0/9999 [00:00<?, ?it/s]"
      ]
     },
     "metadata": {},
     "output_type": "display_data"
    },
    {
     "data": {
      "application/vnd.jupyter.widget-view+json": {
       "model_id": "f7629d8b7d9c4b17ae8a91d0dfb3d4d5",
       "version_major": 2,
       "version_minor": 0
      },
      "text/plain": [
       "Variation of alpha:   0%|          | 0/1 [00:00<?, ?it/s]"
      ]
     },
     "metadata": {},
     "output_type": "display_data"
    },
    {
     "data": {
      "application/vnd.jupyter.widget-view+json": {
       "model_id": "8959ed44558f4ab9b138990164c2cf45",
       "version_major": 2,
       "version_minor": 0
      },
      "text/plain": [
       "Making ensembles:   0%|          | 0/1 [00:00<?, ?it/s]"
      ]
     },
     "metadata": {},
     "output_type": "display_data"
    },
    {
     "data": {
      "application/vnd.jupyter.widget-view+json": {
       "model_id": "8487097b9e35458884b9c3fa832fc8b7",
       "version_major": 2,
       "version_minor": 0
      },
      "text/plain": [
       "network dynamic:   0%|          | 0/9999 [00:00<?, ?it/s]"
      ]
     },
     "metadata": {},
     "output_type": "display_data"
    },
    {
     "data": {
      "application/vnd.jupyter.widget-view+json": {
       "model_id": "45d90348109f4680b6a2a53e8f28ff51",
       "version_major": 2,
       "version_minor": 0
      },
      "text/plain": [
       "Variation of alpha:   0%|          | 0/1 [00:00<?, ?it/s]"
      ]
     },
     "metadata": {},
     "output_type": "display_data"
    },
    {
     "data": {
      "application/vnd.jupyter.widget-view+json": {
       "model_id": "d823ea7e0319461d87feb557a40d20f4",
       "version_major": 2,
       "version_minor": 0
      },
      "text/plain": [
       "Making ensembles:   0%|          | 0/1 [00:00<?, ?it/s]"
      ]
     },
     "metadata": {},
     "output_type": "display_data"
    },
    {
     "data": {
      "application/vnd.jupyter.widget-view+json": {
       "model_id": "ff31fb42bba4458fa62268d0c9967187",
       "version_major": 2,
       "version_minor": 0
      },
      "text/plain": [
       "network dynamic:   0%|          | 0/9999 [00:00<?, ?it/s]"
      ]
     },
     "metadata": {},
     "output_type": "display_data"
    },
    {
     "data": {
      "application/vnd.jupyter.widget-view+json": {
       "model_id": "7ce2453e7f6b46b59b5dafd49bcb41c2",
       "version_major": 2,
       "version_minor": 0
      },
      "text/plain": [
       "Variation of delay:   0%|          | 0/9 [00:00<?, ?it/s]"
      ]
     },
     "metadata": {},
     "output_type": "display_data"
    },
    {
     "data": {
      "application/vnd.jupyter.widget-view+json": {
       "model_id": "e3c8211d1d6947969b0658cdb3d93851",
       "version_major": 2,
       "version_minor": 0
      },
      "text/plain": [
       "Variation of alpha:   0%|          | 0/1 [00:00<?, ?it/s]"
      ]
     },
     "metadata": {},
     "output_type": "display_data"
    },
    {
     "data": {
      "application/vnd.jupyter.widget-view+json": {
       "model_id": "01be5160d582459fb214f8042e3e3ad3",
       "version_major": 2,
       "version_minor": 0
      },
      "text/plain": [
       "Making ensembles:   0%|          | 0/1 [00:00<?, ?it/s]"
      ]
     },
     "metadata": {},
     "output_type": "display_data"
    },
    {
     "data": {
      "application/vnd.jupyter.widget-view+json": {
       "model_id": "a0962b8969e24409b0168e65ac2896db",
       "version_major": 2,
       "version_minor": 0
      },
      "text/plain": [
       "network dynamic:   0%|          | 0/9999 [00:00<?, ?it/s]"
      ]
     },
     "metadata": {},
     "output_type": "display_data"
    },
    {
     "data": {
      "application/vnd.jupyter.widget-view+json": {
       "model_id": "21f368d0c0ea4173ac5820e1d609589b",
       "version_major": 2,
       "version_minor": 0
      },
      "text/plain": [
       "Variation of alpha:   0%|          | 0/1 [00:00<?, ?it/s]"
      ]
     },
     "metadata": {},
     "output_type": "display_data"
    },
    {
     "data": {
      "application/vnd.jupyter.widget-view+json": {
       "model_id": "4c795d71a55947eeae1c22be73079a0e",
       "version_major": 2,
       "version_minor": 0
      },
      "text/plain": [
       "Making ensembles:   0%|          | 0/1 [00:00<?, ?it/s]"
      ]
     },
     "metadata": {},
     "output_type": "display_data"
    },
    {
     "data": {
      "application/vnd.jupyter.widget-view+json": {
       "model_id": "7daf0673cd9040d4a2c208f715100d93",
       "version_major": 2,
       "version_minor": 0
      },
      "text/plain": [
       "network dynamic:   0%|          | 0/9999 [00:00<?, ?it/s]"
      ]
     },
     "metadata": {},
     "output_type": "display_data"
    },
    {
     "data": {
      "application/vnd.jupyter.widget-view+json": {
       "model_id": "6a239709228742a2857d8287caa1dd7b",
       "version_major": 2,
       "version_minor": 0
      },
      "text/plain": [
       "Variation of alpha:   0%|          | 0/1 [00:00<?, ?it/s]"
      ]
     },
     "metadata": {},
     "output_type": "display_data"
    },
    {
     "data": {
      "application/vnd.jupyter.widget-view+json": {
       "model_id": "7d928fa636c0447b85ded8ab3d768a21",
       "version_major": 2,
       "version_minor": 0
      },
      "text/plain": [
       "Making ensembles:   0%|          | 0/1 [00:00<?, ?it/s]"
      ]
     },
     "metadata": {},
     "output_type": "display_data"
    },
    {
     "data": {
      "application/vnd.jupyter.widget-view+json": {
       "model_id": "42fcf0b47bae4a8191b6cb56989ca3a1",
       "version_major": 2,
       "version_minor": 0
      },
      "text/plain": [
       "network dynamic:   0%|          | 0/9999 [00:00<?, ?it/s]"
      ]
     },
     "metadata": {},
     "output_type": "display_data"
    },
    {
     "data": {
      "application/vnd.jupyter.widget-view+json": {
       "model_id": "9e0a70064b074997aa7cf1a22011a183",
       "version_major": 2,
       "version_minor": 0
      },
      "text/plain": [
       "Variation of alpha:   0%|          | 0/1 [00:00<?, ?it/s]"
      ]
     },
     "metadata": {},
     "output_type": "display_data"
    },
    {
     "data": {
      "application/vnd.jupyter.widget-view+json": {
       "model_id": "11095e6a75b44135854ed1982512b2c7",
       "version_major": 2,
       "version_minor": 0
      },
      "text/plain": [
       "Making ensembles:   0%|          | 0/1 [00:00<?, ?it/s]"
      ]
     },
     "metadata": {},
     "output_type": "display_data"
    },
    {
     "data": {
      "application/vnd.jupyter.widget-view+json": {
       "model_id": "1b49a9314c654f1b9c9b8585b2a9ce3e",
       "version_major": 2,
       "version_minor": 0
      },
      "text/plain": [
       "network dynamic:   0%|          | 0/9999 [00:00<?, ?it/s]"
      ]
     },
     "metadata": {},
     "output_type": "display_data"
    },
    {
     "data": {
      "application/vnd.jupyter.widget-view+json": {
       "model_id": "0230d155f164475680d7b618cf92604c",
       "version_major": 2,
       "version_minor": 0
      },
      "text/plain": [
       "Variation of alpha:   0%|          | 0/1 [00:00<?, ?it/s]"
      ]
     },
     "metadata": {},
     "output_type": "display_data"
    },
    {
     "data": {
      "application/vnd.jupyter.widget-view+json": {
       "model_id": "790dd6e774744ba28cb4a565ae1ecef2",
       "version_major": 2,
       "version_minor": 0
      },
      "text/plain": [
       "Making ensembles:   0%|          | 0/1 [00:00<?, ?it/s]"
      ]
     },
     "metadata": {},
     "output_type": "display_data"
    },
    {
     "data": {
      "application/vnd.jupyter.widget-view+json": {
       "model_id": "7734cd5789e242f59cafbfac9052846a",
       "version_major": 2,
       "version_minor": 0
      },
      "text/plain": [
       "network dynamic:   0%|          | 0/9999 [00:00<?, ?it/s]"
      ]
     },
     "metadata": {},
     "output_type": "display_data"
    },
    {
     "data": {
      "application/vnd.jupyter.widget-view+json": {
       "model_id": "be667854d6f84defa1e97ccf5b343d04",
       "version_major": 2,
       "version_minor": 0
      },
      "text/plain": [
       "Variation of alpha:   0%|          | 0/1 [00:00<?, ?it/s]"
      ]
     },
     "metadata": {},
     "output_type": "display_data"
    },
    {
     "data": {
      "application/vnd.jupyter.widget-view+json": {
       "model_id": "ab5f9bd6928441cca5758dbdca770ae6",
       "version_major": 2,
       "version_minor": 0
      },
      "text/plain": [
       "Making ensembles:   0%|          | 0/1 [00:00<?, ?it/s]"
      ]
     },
     "metadata": {},
     "output_type": "display_data"
    },
    {
     "data": {
      "application/vnd.jupyter.widget-view+json": {
       "model_id": "ffa57ea9e2d942ec8beaf0094b78fb33",
       "version_major": 2,
       "version_minor": 0
      },
      "text/plain": [
       "network dynamic:   0%|          | 0/9999 [00:00<?, ?it/s]"
      ]
     },
     "metadata": {},
     "output_type": "display_data"
    },
    {
     "data": {
      "application/vnd.jupyter.widget-view+json": {
       "model_id": "2846402368604ac4bebb14038a6c1051",
       "version_major": 2,
       "version_minor": 0
      },
      "text/plain": [
       "Variation of alpha:   0%|          | 0/1 [00:00<?, ?it/s]"
      ]
     },
     "metadata": {},
     "output_type": "display_data"
    },
    {
     "data": {
      "application/vnd.jupyter.widget-view+json": {
       "model_id": "1d97073f9c2c45a4b887b7dc457fa6f1",
       "version_major": 2,
       "version_minor": 0
      },
      "text/plain": [
       "Making ensembles:   0%|          | 0/1 [00:00<?, ?it/s]"
      ]
     },
     "metadata": {},
     "output_type": "display_data"
    },
    {
     "data": {
      "application/vnd.jupyter.widget-view+json": {
       "model_id": "0e2d554832984d7e98aa8c7b7d4980db",
       "version_major": 2,
       "version_minor": 0
      },
      "text/plain": [
       "network dynamic:   0%|          | 0/9999 [00:00<?, ?it/s]"
      ]
     },
     "metadata": {},
     "output_type": "display_data"
    },
    {
     "data": {
      "application/vnd.jupyter.widget-view+json": {
       "model_id": "df4cb34ae0344a48bacb0e78928acf0d",
       "version_major": 2,
       "version_minor": 0
      },
      "text/plain": [
       "Variation of alpha:   0%|          | 0/1 [00:00<?, ?it/s]"
      ]
     },
     "metadata": {},
     "output_type": "display_data"
    },
    {
     "data": {
      "application/vnd.jupyter.widget-view+json": {
       "model_id": "64504d39854e471996c951f355800539",
       "version_major": 2,
       "version_minor": 0
      },
      "text/plain": [
       "Making ensembles:   0%|          | 0/1 [00:00<?, ?it/s]"
      ]
     },
     "metadata": {},
     "output_type": "display_data"
    },
    {
     "data": {
      "application/vnd.jupyter.widget-view+json": {
       "model_id": "671648a0f17744f58723d3b9aa8b4b2b",
       "version_major": 2,
       "version_minor": 0
      },
      "text/plain": [
       "network dynamic:   0%|          | 0/9999 [00:00<?, ?it/s]"
      ]
     },
     "metadata": {},
     "output_type": "display_data"
    },
    {
     "data": {
      "application/vnd.jupyter.widget-view+json": {
       "model_id": "a183ef537eda48119594320e0745a240",
       "version_major": 2,
       "version_minor": 0
      },
      "text/plain": [
       "Variation of alpha:   0%|          | 0/1 [00:00<?, ?it/s]"
      ]
     },
     "metadata": {},
     "output_type": "display_data"
    },
    {
     "data": {
      "application/vnd.jupyter.widget-view+json": {
       "model_id": "e8720bd437fb437eb9985ed86dc1820c",
       "version_major": 2,
       "version_minor": 0
      },
      "text/plain": [
       "Making ensembles:   0%|          | 0/1 [00:00<?, ?it/s]"
      ]
     },
     "metadata": {},
     "output_type": "display_data"
    },
    {
     "data": {
      "application/vnd.jupyter.widget-view+json": {
       "model_id": "79149dd8688b4c8da7099e8a64bd4244",
       "version_major": 2,
       "version_minor": 0
      },
      "text/plain": [
       "network dynamic:   0%|          | 0/9999 [00:00<?, ?it/s]"
      ]
     },
     "metadata": {},
     "output_type": "display_data"
    },
    {
     "data": {
      "application/vnd.jupyter.widget-view+json": {
       "model_id": "4432696217d84860ab43723d78d026c8",
       "version_major": 2,
       "version_minor": 0
      },
      "text/plain": [
       "Variation of delay:   0%|          | 0/9 [00:00<?, ?it/s]"
      ]
     },
     "metadata": {},
     "output_type": "display_data"
    },
    {
     "data": {
      "application/vnd.jupyter.widget-view+json": {
       "model_id": "c6d813b932344e07a6226eb87610cdc4",
       "version_major": 2,
       "version_minor": 0
      },
      "text/plain": [
       "Variation of alpha:   0%|          | 0/1 [00:00<?, ?it/s]"
      ]
     },
     "metadata": {},
     "output_type": "display_data"
    },
    {
     "data": {
      "application/vnd.jupyter.widget-view+json": {
       "model_id": "691c663845214ad5bd1db8462ee2224b",
       "version_major": 2,
       "version_minor": 0
      },
      "text/plain": [
       "Making ensembles:   0%|          | 0/1 [00:00<?, ?it/s]"
      ]
     },
     "metadata": {},
     "output_type": "display_data"
    },
    {
     "data": {
      "application/vnd.jupyter.widget-view+json": {
       "model_id": "d6db4a7a512c4ca2a4c6338305f27bbb",
       "version_major": 2,
       "version_minor": 0
      },
      "text/plain": [
       "network dynamic:   0%|          | 0/9999 [00:00<?, ?it/s]"
      ]
     },
     "metadata": {},
     "output_type": "display_data"
    },
    {
     "data": {
      "application/vnd.jupyter.widget-view+json": {
       "model_id": "90e26f417a624dc78fa2f4c96163369e",
       "version_major": 2,
       "version_minor": 0
      },
      "text/plain": [
       "Variation of alpha:   0%|          | 0/1 [00:00<?, ?it/s]"
      ]
     },
     "metadata": {},
     "output_type": "display_data"
    },
    {
     "data": {
      "application/vnd.jupyter.widget-view+json": {
       "model_id": "1571447f543242889a5211c753649918",
       "version_major": 2,
       "version_minor": 0
      },
      "text/plain": [
       "Making ensembles:   0%|          | 0/1 [00:00<?, ?it/s]"
      ]
     },
     "metadata": {},
     "output_type": "display_data"
    },
    {
     "data": {
      "application/vnd.jupyter.widget-view+json": {
       "model_id": "235104584c3e423281d038d41ffdf22c",
       "version_major": 2,
       "version_minor": 0
      },
      "text/plain": [
       "network dynamic:   0%|          | 0/9999 [00:00<?, ?it/s]"
      ]
     },
     "metadata": {},
     "output_type": "display_data"
    },
    {
     "data": {
      "application/vnd.jupyter.widget-view+json": {
       "model_id": "05481a6cd9e44fb98d6fbfc543417981",
       "version_major": 2,
       "version_minor": 0
      },
      "text/plain": [
       "Variation of alpha:   0%|          | 0/1 [00:00<?, ?it/s]"
      ]
     },
     "metadata": {},
     "output_type": "display_data"
    },
    {
     "data": {
      "application/vnd.jupyter.widget-view+json": {
       "model_id": "f60b3808f2904c8a81714438cbc51a28",
       "version_major": 2,
       "version_minor": 0
      },
      "text/plain": [
       "Making ensembles:   0%|          | 0/1 [00:00<?, ?it/s]"
      ]
     },
     "metadata": {},
     "output_type": "display_data"
    },
    {
     "data": {
      "application/vnd.jupyter.widget-view+json": {
       "model_id": "dee4d80da7b74f149f8be160e1e3dad1",
       "version_major": 2,
       "version_minor": 0
      },
      "text/plain": [
       "network dynamic:   0%|          | 0/9999 [00:00<?, ?it/s]"
      ]
     },
     "metadata": {},
     "output_type": "display_data"
    },
    {
     "data": {
      "application/vnd.jupyter.widget-view+json": {
       "model_id": "de5e7b28811246b48072613d8da1d902",
       "version_major": 2,
       "version_minor": 0
      },
      "text/plain": [
       "Variation of alpha:   0%|          | 0/1 [00:00<?, ?it/s]"
      ]
     },
     "metadata": {},
     "output_type": "display_data"
    },
    {
     "data": {
      "application/vnd.jupyter.widget-view+json": {
       "model_id": "5528f772b49342878cf9017e4a03625a",
       "version_major": 2,
       "version_minor": 0
      },
      "text/plain": [
       "Making ensembles:   0%|          | 0/1 [00:00<?, ?it/s]"
      ]
     },
     "metadata": {},
     "output_type": "display_data"
    },
    {
     "data": {
      "application/vnd.jupyter.widget-view+json": {
       "model_id": "e7a86753b9504ebaa643c60d686fbc55",
       "version_major": 2,
       "version_minor": 0
      },
      "text/plain": [
       "network dynamic:   0%|          | 0/9999 [00:00<?, ?it/s]"
      ]
     },
     "metadata": {},
     "output_type": "display_data"
    },
    {
     "data": {
      "application/vnd.jupyter.widget-view+json": {
       "model_id": "928cbe6e517e4646965923d13c0f9732",
       "version_major": 2,
       "version_minor": 0
      },
      "text/plain": [
       "Variation of alpha:   0%|          | 0/1 [00:00<?, ?it/s]"
      ]
     },
     "metadata": {},
     "output_type": "display_data"
    },
    {
     "data": {
      "application/vnd.jupyter.widget-view+json": {
       "model_id": "f29fa4ea5fa246d7b9da753635d7ecb3",
       "version_major": 2,
       "version_minor": 0
      },
      "text/plain": [
       "Making ensembles:   0%|          | 0/1 [00:00<?, ?it/s]"
      ]
     },
     "metadata": {},
     "output_type": "display_data"
    },
    {
     "data": {
      "application/vnd.jupyter.widget-view+json": {
       "model_id": "6d3c8fee7e9841e798e369678fe6caaa",
       "version_major": 2,
       "version_minor": 0
      },
      "text/plain": [
       "network dynamic:   0%|          | 0/9999 [00:00<?, ?it/s]"
      ]
     },
     "metadata": {},
     "output_type": "display_data"
    },
    {
     "data": {
      "application/vnd.jupyter.widget-view+json": {
       "model_id": "c62bc4183ca74437b0b8ac244a07190b",
       "version_major": 2,
       "version_minor": 0
      },
      "text/plain": [
       "Variation of alpha:   0%|          | 0/1 [00:00<?, ?it/s]"
      ]
     },
     "metadata": {},
     "output_type": "display_data"
    },
    {
     "data": {
      "application/vnd.jupyter.widget-view+json": {
       "model_id": "772375f65de34561b9e1c328bc22e1d7",
       "version_major": 2,
       "version_minor": 0
      },
      "text/plain": [
       "Making ensembles:   0%|          | 0/1 [00:00<?, ?it/s]"
      ]
     },
     "metadata": {},
     "output_type": "display_data"
    },
    {
     "data": {
      "application/vnd.jupyter.widget-view+json": {
       "model_id": "6fa09841fb5d453bb70ede1023f75369",
       "version_major": 2,
       "version_minor": 0
      },
      "text/plain": [
       "network dynamic:   0%|          | 0/9999 [00:00<?, ?it/s]"
      ]
     },
     "metadata": {},
     "output_type": "display_data"
    },
    {
     "data": {
      "application/vnd.jupyter.widget-view+json": {
       "model_id": "ba21e671a0314450a91147b6e5be8bb3",
       "version_major": 2,
       "version_minor": 0
      },
      "text/plain": [
       "Variation of alpha:   0%|          | 0/1 [00:00<?, ?it/s]"
      ]
     },
     "metadata": {},
     "output_type": "display_data"
    },
    {
     "data": {
      "application/vnd.jupyter.widget-view+json": {
       "model_id": "0cd2a5a8cbf94bf8bdb61f1ecb741550",
       "version_major": 2,
       "version_minor": 0
      },
      "text/plain": [
       "Making ensembles:   0%|          | 0/1 [00:00<?, ?it/s]"
      ]
     },
     "metadata": {},
     "output_type": "display_data"
    },
    {
     "data": {
      "application/vnd.jupyter.widget-view+json": {
       "model_id": "26fb8ce731e44313b67962149c92527d",
       "version_major": 2,
       "version_minor": 0
      },
      "text/plain": [
       "network dynamic:   0%|          | 0/9999 [00:00<?, ?it/s]"
      ]
     },
     "metadata": {},
     "output_type": "display_data"
    },
    {
     "data": {
      "application/vnd.jupyter.widget-view+json": {
       "model_id": "475649c1944443eba8db39e0db82c013",
       "version_major": 2,
       "version_minor": 0
      },
      "text/plain": [
       "Variation of alpha:   0%|          | 0/1 [00:00<?, ?it/s]"
      ]
     },
     "metadata": {},
     "output_type": "display_data"
    },
    {
     "data": {
      "application/vnd.jupyter.widget-view+json": {
       "model_id": "1bfcba6a59724fd9a85c0f7c984aa9c3",
       "version_major": 2,
       "version_minor": 0
      },
      "text/plain": [
       "Making ensembles:   0%|          | 0/1 [00:00<?, ?it/s]"
      ]
     },
     "metadata": {},
     "output_type": "display_data"
    },
    {
     "data": {
      "application/vnd.jupyter.widget-view+json": {
       "model_id": "36ec896cfa794ea5b3745dd7183e1e7e",
       "version_major": 2,
       "version_minor": 0
      },
      "text/plain": [
       "network dynamic:   0%|          | 0/9999 [00:00<?, ?it/s]"
      ]
     },
     "metadata": {},
     "output_type": "display_data"
    },
    {
     "data": {
      "application/vnd.jupyter.widget-view+json": {
       "model_id": "92f5143b222446519b5d9db312619b31",
       "version_major": 2,
       "version_minor": 0
      },
      "text/plain": [
       "Variation of alpha:   0%|          | 0/1 [00:00<?, ?it/s]"
      ]
     },
     "metadata": {},
     "output_type": "display_data"
    },
    {
     "data": {
      "application/vnd.jupyter.widget-view+json": {
       "model_id": "a1f24824cb0f4ef39c8bd83f6580feb4",
       "version_major": 2,
       "version_minor": 0
      },
      "text/plain": [
       "Making ensembles:   0%|          | 0/1 [00:00<?, ?it/s]"
      ]
     },
     "metadata": {},
     "output_type": "display_data"
    },
    {
     "data": {
      "application/vnd.jupyter.widget-view+json": {
       "model_id": "2f112c53928c46fdb99d431bdd8ea249",
       "version_major": 2,
       "version_minor": 0
      },
      "text/plain": [
       "network dynamic:   0%|          | 0/9999 [00:00<?, ?it/s]"
      ]
     },
     "metadata": {},
     "output_type": "display_data"
    },
    {
     "data": {
      "application/vnd.jupyter.widget-view+json": {
       "model_id": "b8c9067db6b840ceb752076b7f527b91",
       "version_major": 2,
       "version_minor": 0
      },
      "text/plain": [
       "Variation of delay:   0%|          | 0/9 [00:00<?, ?it/s]"
      ]
     },
     "metadata": {},
     "output_type": "display_data"
    },
    {
     "data": {
      "application/vnd.jupyter.widget-view+json": {
       "model_id": "17948d1008a54f4e80d3b46815d1c376",
       "version_major": 2,
       "version_minor": 0
      },
      "text/plain": [
       "Variation of alpha:   0%|          | 0/1 [00:00<?, ?it/s]"
      ]
     },
     "metadata": {},
     "output_type": "display_data"
    },
    {
     "data": {
      "application/vnd.jupyter.widget-view+json": {
       "model_id": "044b42d0883f4173913805acbe6a52fb",
       "version_major": 2,
       "version_minor": 0
      },
      "text/plain": [
       "Making ensembles:   0%|          | 0/1 [00:00<?, ?it/s]"
      ]
     },
     "metadata": {},
     "output_type": "display_data"
    },
    {
     "data": {
      "application/vnd.jupyter.widget-view+json": {
       "model_id": "4b6a243ed47148e5b058079eab8df99c",
       "version_major": 2,
       "version_minor": 0
      },
      "text/plain": [
       "network dynamic:   0%|          | 0/9999 [00:00<?, ?it/s]"
      ]
     },
     "metadata": {},
     "output_type": "display_data"
    },
    {
     "data": {
      "application/vnd.jupyter.widget-view+json": {
       "model_id": "5c373490455f4526b41810190d731309",
       "version_major": 2,
       "version_minor": 0
      },
      "text/plain": [
       "Variation of alpha:   0%|          | 0/1 [00:00<?, ?it/s]"
      ]
     },
     "metadata": {},
     "output_type": "display_data"
    },
    {
     "data": {
      "application/vnd.jupyter.widget-view+json": {
       "model_id": "6440ca52703b4ae2b7876e1d4cbeb246",
       "version_major": 2,
       "version_minor": 0
      },
      "text/plain": [
       "Making ensembles:   0%|          | 0/1 [00:00<?, ?it/s]"
      ]
     },
     "metadata": {},
     "output_type": "display_data"
    },
    {
     "data": {
      "application/vnd.jupyter.widget-view+json": {
       "model_id": "7bf459eb420e4ec897e4185b44a46bbe",
       "version_major": 2,
       "version_minor": 0
      },
      "text/plain": [
       "network dynamic:   0%|          | 0/9999 [00:00<?, ?it/s]"
      ]
     },
     "metadata": {},
     "output_type": "display_data"
    },
    {
     "data": {
      "application/vnd.jupyter.widget-view+json": {
       "model_id": "556ad00d05f44fbebfac1bad68f6cd75",
       "version_major": 2,
       "version_minor": 0
      },
      "text/plain": [
       "Variation of alpha:   0%|          | 0/1 [00:00<?, ?it/s]"
      ]
     },
     "metadata": {},
     "output_type": "display_data"
    },
    {
     "data": {
      "application/vnd.jupyter.widget-view+json": {
       "model_id": "ad3bf6b0f25a47178b618dba2b4f0db5",
       "version_major": 2,
       "version_minor": 0
      },
      "text/plain": [
       "Making ensembles:   0%|          | 0/1 [00:00<?, ?it/s]"
      ]
     },
     "metadata": {},
     "output_type": "display_data"
    },
    {
     "data": {
      "application/vnd.jupyter.widget-view+json": {
       "model_id": "c39398efbe0b4e5a808927c525e2a554",
       "version_major": 2,
       "version_minor": 0
      },
      "text/plain": [
       "network dynamic:   0%|          | 0/9999 [00:00<?, ?it/s]"
      ]
     },
     "metadata": {},
     "output_type": "display_data"
    },
    {
     "data": {
      "application/vnd.jupyter.widget-view+json": {
       "model_id": "4c2dbaf935f2408d8e6290bc717fed50",
       "version_major": 2,
       "version_minor": 0
      },
      "text/plain": [
       "Variation of alpha:   0%|          | 0/1 [00:00<?, ?it/s]"
      ]
     },
     "metadata": {},
     "output_type": "display_data"
    },
    {
     "data": {
      "application/vnd.jupyter.widget-view+json": {
       "model_id": "41483eed35cb46219f1b7b701388f9db",
       "version_major": 2,
       "version_minor": 0
      },
      "text/plain": [
       "Making ensembles:   0%|          | 0/1 [00:00<?, ?it/s]"
      ]
     },
     "metadata": {},
     "output_type": "display_data"
    },
    {
     "data": {
      "application/vnd.jupyter.widget-view+json": {
       "model_id": "4fe92fe551244714ab72c1167ef6b446",
       "version_major": 2,
       "version_minor": 0
      },
      "text/plain": [
       "network dynamic:   0%|          | 0/9999 [00:00<?, ?it/s]"
      ]
     },
     "metadata": {},
     "output_type": "display_data"
    },
    {
     "data": {
      "application/vnd.jupyter.widget-view+json": {
       "model_id": "107566478d98473cb1f58bd1fdbc9f52",
       "version_major": 2,
       "version_minor": 0
      },
      "text/plain": [
       "Variation of alpha:   0%|          | 0/1 [00:00<?, ?it/s]"
      ]
     },
     "metadata": {},
     "output_type": "display_data"
    },
    {
     "data": {
      "application/vnd.jupyter.widget-view+json": {
       "model_id": "c3a352d6f1e54406bd77a5a5ecb65aa7",
       "version_major": 2,
       "version_minor": 0
      },
      "text/plain": [
       "Making ensembles:   0%|          | 0/1 [00:00<?, ?it/s]"
      ]
     },
     "metadata": {},
     "output_type": "display_data"
    },
    {
     "data": {
      "application/vnd.jupyter.widget-view+json": {
       "model_id": "375d44dc32e84f039d4a4144d38eef22",
       "version_major": 2,
       "version_minor": 0
      },
      "text/plain": [
       "network dynamic:   0%|          | 0/9999 [00:00<?, ?it/s]"
      ]
     },
     "metadata": {},
     "output_type": "display_data"
    },
    {
     "data": {
      "application/vnd.jupyter.widget-view+json": {
       "model_id": "561f9cd1b083422bbaa382136053d682",
       "version_major": 2,
       "version_minor": 0
      },
      "text/plain": [
       "Variation of alpha:   0%|          | 0/1 [00:00<?, ?it/s]"
      ]
     },
     "metadata": {},
     "output_type": "display_data"
    },
    {
     "data": {
      "application/vnd.jupyter.widget-view+json": {
       "model_id": "f339568022744c91a2a4cd2972f3c29f",
       "version_major": 2,
       "version_minor": 0
      },
      "text/plain": [
       "Making ensembles:   0%|          | 0/1 [00:00<?, ?it/s]"
      ]
     },
     "metadata": {},
     "output_type": "display_data"
    },
    {
     "data": {
      "application/vnd.jupyter.widget-view+json": {
       "model_id": "2cde2fcdeb354090817ed8f43b8170e4",
       "version_major": 2,
       "version_minor": 0
      },
      "text/plain": [
       "network dynamic:   0%|          | 0/9999 [00:00<?, ?it/s]"
      ]
     },
     "metadata": {},
     "output_type": "display_data"
    },
    {
     "data": {
      "application/vnd.jupyter.widget-view+json": {
       "model_id": "595c8ce7ee334485b8fb64b60af04207",
       "version_major": 2,
       "version_minor": 0
      },
      "text/plain": [
       "Variation of alpha:   0%|          | 0/1 [00:00<?, ?it/s]"
      ]
     },
     "metadata": {},
     "output_type": "display_data"
    },
    {
     "data": {
      "application/vnd.jupyter.widget-view+json": {
       "model_id": "8635d63f6003425e805d10d0afcabd8d",
       "version_major": 2,
       "version_minor": 0
      },
      "text/plain": [
       "Making ensembles:   0%|          | 0/1 [00:00<?, ?it/s]"
      ]
     },
     "metadata": {},
     "output_type": "display_data"
    },
    {
     "data": {
      "application/vnd.jupyter.widget-view+json": {
       "model_id": "7e5a69505e3b411280f5175e530927b7",
       "version_major": 2,
       "version_minor": 0
      },
      "text/plain": [
       "network dynamic:   0%|          | 0/9999 [00:00<?, ?it/s]"
      ]
     },
     "metadata": {},
     "output_type": "display_data"
    },
    {
     "data": {
      "application/vnd.jupyter.widget-view+json": {
       "model_id": "f229b063457a4e8a878cfbfadd917684",
       "version_major": 2,
       "version_minor": 0
      },
      "text/plain": [
       "Variation of alpha:   0%|          | 0/1 [00:00<?, ?it/s]"
      ]
     },
     "metadata": {},
     "output_type": "display_data"
    },
    {
     "data": {
      "application/vnd.jupyter.widget-view+json": {
       "model_id": "e9e381ab74bd4376b876a64fe46c9d1d",
       "version_major": 2,
       "version_minor": 0
      },
      "text/plain": [
       "Making ensembles:   0%|          | 0/1 [00:00<?, ?it/s]"
      ]
     },
     "metadata": {},
     "output_type": "display_data"
    },
    {
     "data": {
      "application/vnd.jupyter.widget-view+json": {
       "model_id": "199b8ee6a3ad46c5affafc7cf431703a",
       "version_major": 2,
       "version_minor": 0
      },
      "text/plain": [
       "network dynamic:   0%|          | 0/9999 [00:00<?, ?it/s]"
      ]
     },
     "metadata": {},
     "output_type": "display_data"
    },
    {
     "data": {
      "application/vnd.jupyter.widget-view+json": {
       "model_id": "0551a7650ffd4566bfc804aa147eb73d",
       "version_major": 2,
       "version_minor": 0
      },
      "text/plain": [
       "Variation of alpha:   0%|          | 0/1 [00:00<?, ?it/s]"
      ]
     },
     "metadata": {},
     "output_type": "display_data"
    },
    {
     "data": {
      "application/vnd.jupyter.widget-view+json": {
       "model_id": "7007dbd4f64c455181a244b2ae92c642",
       "version_major": 2,
       "version_minor": 0
      },
      "text/plain": [
       "Making ensembles:   0%|          | 0/1 [00:00<?, ?it/s]"
      ]
     },
     "metadata": {},
     "output_type": "display_data"
    },
    {
     "data": {
      "application/vnd.jupyter.widget-view+json": {
       "model_id": "52b94a7818be42dd97ac6093aaed4bbb",
       "version_major": 2,
       "version_minor": 0
      },
      "text/plain": [
       "network dynamic:   0%|          | 0/9999 [00:00<?, ?it/s]"
      ]
     },
     "metadata": {},
     "output_type": "display_data"
    },
    {
     "data": {
      "application/vnd.jupyter.widget-view+json": {
       "model_id": "da3a5f9b64ea4d1ebc583fc4931c9e98",
       "version_major": 2,
       "version_minor": 0
      },
      "text/plain": [
       "Variation of delay:   0%|          | 0/9 [00:00<?, ?it/s]"
      ]
     },
     "metadata": {},
     "output_type": "display_data"
    },
    {
     "data": {
      "application/vnd.jupyter.widget-view+json": {
       "model_id": "5b284dbc82554444865e1e15f2f4bc3e",
       "version_major": 2,
       "version_minor": 0
      },
      "text/plain": [
       "Variation of alpha:   0%|          | 0/1 [00:00<?, ?it/s]"
      ]
     },
     "metadata": {},
     "output_type": "display_data"
    },
    {
     "data": {
      "application/vnd.jupyter.widget-view+json": {
       "model_id": "927d27b510ec4054970609f960e9ca12",
       "version_major": 2,
       "version_minor": 0
      },
      "text/plain": [
       "Making ensembles:   0%|          | 0/1 [00:00<?, ?it/s]"
      ]
     },
     "metadata": {},
     "output_type": "display_data"
    },
    {
     "data": {
      "application/vnd.jupyter.widget-view+json": {
       "model_id": "370c8353dc124a77997b5bf8c8323462",
       "version_major": 2,
       "version_minor": 0
      },
      "text/plain": [
       "network dynamic:   0%|          | 0/9999 [00:00<?, ?it/s]"
      ]
     },
     "metadata": {},
     "output_type": "display_data"
    },
    {
     "data": {
      "application/vnd.jupyter.widget-view+json": {
       "model_id": "90e778dd30d44ab59433dd525906377f",
       "version_major": 2,
       "version_minor": 0
      },
      "text/plain": [
       "Variation of alpha:   0%|          | 0/1 [00:00<?, ?it/s]"
      ]
     },
     "metadata": {},
     "output_type": "display_data"
    },
    {
     "data": {
      "application/vnd.jupyter.widget-view+json": {
       "model_id": "0c6dcc8cc8634024b950c474edfb8256",
       "version_major": 2,
       "version_minor": 0
      },
      "text/plain": [
       "Making ensembles:   0%|          | 0/1 [00:00<?, ?it/s]"
      ]
     },
     "metadata": {},
     "output_type": "display_data"
    },
    {
     "data": {
      "application/vnd.jupyter.widget-view+json": {
       "model_id": "934ecb31fd0b45dab297fee5bb39ffac",
       "version_major": 2,
       "version_minor": 0
      },
      "text/plain": [
       "network dynamic:   0%|          | 0/9999 [00:00<?, ?it/s]"
      ]
     },
     "metadata": {},
     "output_type": "display_data"
    },
    {
     "data": {
      "application/vnd.jupyter.widget-view+json": {
       "model_id": "2d62457b87ba49bf9eec6ebfc2af9ec6",
       "version_major": 2,
       "version_minor": 0
      },
      "text/plain": [
       "Variation of alpha:   0%|          | 0/1 [00:00<?, ?it/s]"
      ]
     },
     "metadata": {},
     "output_type": "display_data"
    },
    {
     "data": {
      "application/vnd.jupyter.widget-view+json": {
       "model_id": "b67e26b9df9340139de9e5f7454098a8",
       "version_major": 2,
       "version_minor": 0
      },
      "text/plain": [
       "Making ensembles:   0%|          | 0/1 [00:00<?, ?it/s]"
      ]
     },
     "metadata": {},
     "output_type": "display_data"
    },
    {
     "data": {
      "application/vnd.jupyter.widget-view+json": {
       "model_id": "5eb0e6f9ff08423f9cb74d58b2df3c72",
       "version_major": 2,
       "version_minor": 0
      },
      "text/plain": [
       "network dynamic:   0%|          | 0/9999 [00:00<?, ?it/s]"
      ]
     },
     "metadata": {},
     "output_type": "display_data"
    },
    {
     "data": {
      "application/vnd.jupyter.widget-view+json": {
       "model_id": "f798eb9eb7a64287928f77f3f61a75ce",
       "version_major": 2,
       "version_minor": 0
      },
      "text/plain": [
       "Variation of alpha:   0%|          | 0/1 [00:00<?, ?it/s]"
      ]
     },
     "metadata": {},
     "output_type": "display_data"
    },
    {
     "data": {
      "application/vnd.jupyter.widget-view+json": {
       "model_id": "93c7f00eefef460bba677fad962f8060",
       "version_major": 2,
       "version_minor": 0
      },
      "text/plain": [
       "Making ensembles:   0%|          | 0/1 [00:00<?, ?it/s]"
      ]
     },
     "metadata": {},
     "output_type": "display_data"
    },
    {
     "data": {
      "application/vnd.jupyter.widget-view+json": {
       "model_id": "50544e6b2b9040e39a8e35c8beeb26f7",
       "version_major": 2,
       "version_minor": 0
      },
      "text/plain": [
       "network dynamic:   0%|          | 0/9999 [00:00<?, ?it/s]"
      ]
     },
     "metadata": {},
     "output_type": "display_data"
    },
    {
     "data": {
      "application/vnd.jupyter.widget-view+json": {
       "model_id": "146a4c4e1f6f4728b53991ba550b4a0a",
       "version_major": 2,
       "version_minor": 0
      },
      "text/plain": [
       "Variation of alpha:   0%|          | 0/1 [00:00<?, ?it/s]"
      ]
     },
     "metadata": {},
     "output_type": "display_data"
    },
    {
     "data": {
      "application/vnd.jupyter.widget-view+json": {
       "model_id": "c1c40ce47b0e4ad7996385f07b4488c2",
       "version_major": 2,
       "version_minor": 0
      },
      "text/plain": [
       "Making ensembles:   0%|          | 0/1 [00:00<?, ?it/s]"
      ]
     },
     "metadata": {},
     "output_type": "display_data"
    },
    {
     "data": {
      "application/vnd.jupyter.widget-view+json": {
       "model_id": "ce1f9cee010744468b9c6a614e693eac",
       "version_major": 2,
       "version_minor": 0
      },
      "text/plain": [
       "network dynamic:   0%|          | 0/9999 [00:00<?, ?it/s]"
      ]
     },
     "metadata": {},
     "output_type": "display_data"
    },
    {
     "data": {
      "application/vnd.jupyter.widget-view+json": {
       "model_id": "ffd28d8b44e84a4c85826cb917681f79",
       "version_major": 2,
       "version_minor": 0
      },
      "text/plain": [
       "Variation of alpha:   0%|          | 0/1 [00:00<?, ?it/s]"
      ]
     },
     "metadata": {},
     "output_type": "display_data"
    },
    {
     "data": {
      "application/vnd.jupyter.widget-view+json": {
       "model_id": "3ce6962cc19546fbacc269299b1031aa",
       "version_major": 2,
       "version_minor": 0
      },
      "text/plain": [
       "Making ensembles:   0%|          | 0/1 [00:00<?, ?it/s]"
      ]
     },
     "metadata": {},
     "output_type": "display_data"
    },
    {
     "data": {
      "application/vnd.jupyter.widget-view+json": {
       "model_id": "09111a683ef94081b3499f0a821c287b",
       "version_major": 2,
       "version_minor": 0
      },
      "text/plain": [
       "network dynamic:   0%|          | 0/9999 [00:00<?, ?it/s]"
      ]
     },
     "metadata": {},
     "output_type": "display_data"
    },
    {
     "data": {
      "application/vnd.jupyter.widget-view+json": {
       "model_id": "f0744962b2b74e2d8321effdc46c3b88",
       "version_major": 2,
       "version_minor": 0
      },
      "text/plain": [
       "Variation of alpha:   0%|          | 0/1 [00:00<?, ?it/s]"
      ]
     },
     "metadata": {},
     "output_type": "display_data"
    },
    {
     "data": {
      "application/vnd.jupyter.widget-view+json": {
       "model_id": "2145cdb004aa4f0f9a6b7c2c4f0b7725",
       "version_major": 2,
       "version_minor": 0
      },
      "text/plain": [
       "Making ensembles:   0%|          | 0/1 [00:00<?, ?it/s]"
      ]
     },
     "metadata": {},
     "output_type": "display_data"
    },
    {
     "data": {
      "application/vnd.jupyter.widget-view+json": {
       "model_id": "11888d07f42a444ab4197451c0724d0f",
       "version_major": 2,
       "version_minor": 0
      },
      "text/plain": [
       "network dynamic:   0%|          | 0/9999 [00:00<?, ?it/s]"
      ]
     },
     "metadata": {},
     "output_type": "display_data"
    },
    {
     "data": {
      "application/vnd.jupyter.widget-view+json": {
       "model_id": "93e696960d434a9c84433ba8fedddcd7",
       "version_major": 2,
       "version_minor": 0
      },
      "text/plain": [
       "Variation of alpha:   0%|          | 0/1 [00:00<?, ?it/s]"
      ]
     },
     "metadata": {},
     "output_type": "display_data"
    },
    {
     "data": {
      "application/vnd.jupyter.widget-view+json": {
       "model_id": "417491fdc513428db989e430bc916e5c",
       "version_major": 2,
       "version_minor": 0
      },
      "text/plain": [
       "Making ensembles:   0%|          | 0/1 [00:00<?, ?it/s]"
      ]
     },
     "metadata": {},
     "output_type": "display_data"
    },
    {
     "data": {
      "application/vnd.jupyter.widget-view+json": {
       "model_id": "c5956217d3fd4566b5de95b3e7eb0206",
       "version_major": 2,
       "version_minor": 0
      },
      "text/plain": [
       "network dynamic:   0%|          | 0/9999 [00:00<?, ?it/s]"
      ]
     },
     "metadata": {},
     "output_type": "display_data"
    },
    {
     "data": {
      "application/vnd.jupyter.widget-view+json": {
       "model_id": "f3c21f45b86e4a1c884d1a2a2776469b",
       "version_major": 2,
       "version_minor": 0
      },
      "text/plain": [
       "Variation of alpha:   0%|          | 0/1 [00:00<?, ?it/s]"
      ]
     },
     "metadata": {},
     "output_type": "display_data"
    },
    {
     "data": {
      "application/vnd.jupyter.widget-view+json": {
       "model_id": "102eaabc72cf44efa5fb817a15c50158",
       "version_major": 2,
       "version_minor": 0
      },
      "text/plain": [
       "Making ensembles:   0%|          | 0/1 [00:00<?, ?it/s]"
      ]
     },
     "metadata": {},
     "output_type": "display_data"
    },
    {
     "data": {
      "application/vnd.jupyter.widget-view+json": {
       "model_id": "66b77b8343b849a2a72437a1659e4f28",
       "version_major": 2,
       "version_minor": 0
      },
      "text/plain": [
       "network dynamic:   0%|          | 0/9999 [00:00<?, ?it/s]"
      ]
     },
     "metadata": {},
     "output_type": "display_data"
    }
   ],
   "source": [
    "for connectivity in tqdm( connectivity_span , desc='Variation of connectivities'):\n",
    "    group_folder_name = 'g_{}'.format(connectivity)\n",
    "    group_storage = make_inner_dir(current_size_networks_path, group_folder_name)\n",
    "    \n",
    "    for delay in tqdm( delay_span , desc='Variation of delay'):\n",
    "        d_subgroup_folder_name = 'd_{}'.format(delay)\n",
    "        d_subgroup_storage = make_inner_dir(group_storage, d_subgroup_folder_name)\n",
    "        \n",
    "        for alpha in tqdm( alpha_span , desc='Variation of alpha') :\n",
    "            alpha_subgroup_folder_name = 'alpha_{}'.format(alpha)\n",
    "            alpha_subgroup_storage = make_inner_dir(d_subgroup_storage, alpha_subgroup_folder_name)\n",
    "            last_index = last_ensemble_index_in_group(alpha_subgroup_storage)\n",
    "\n",
    "            for i in tqdm( range(num_ensembles_each_g) , desc='Making ensembles'):\n",
    "                sample_model = Network_of_neurons(num_neurons=num_neurons,\n",
    "                                                  g=connectivity, alpha = alpha)\n",
    "                sample_model.ignite(random_input_span, total_time = total_time,\n",
    "                                    time_step = 0.01, delay_time = delay)\n",
    "\n",
    "                current_ensemble_folder = make_inner_dir(alpha_subgroup_storage, str(last_index + i + 1) )\n",
    "\n",
    "                save_sigma(sample_model.report_sigma(), current_ensemble_folder)\n",
    "                save_field_period(*sample_model.report_e_period_fft(), current_ensemble_folder)\n",
    "                save_field_average(sample_model.e_arr, current_ensemble_folder)\n",
    "                \n",
    "                if neuron_model in current_models[1:]: save_amin_saman_param(sample_model.report_sync_parameter(), current_ensemble_folder)\n",
    "                save_mean_spiking_periods( sample_model.report_spikies_period_mean(), current_ensemble_folder )"
   ]
  },
  {
   "cell_type": "code",
   "execution_count": null,
   "metadata": {},
   "outputs": [],
   "source": []
  },
  {
   "cell_type": "code",
   "execution_count": 13,
   "metadata": {},
   "outputs": [
    {
     "name": "stderr",
     "output_type": "stream",
     "text": [
      "[TerminalIPythonApp] WARNING | Subcommand `ipython nbconvert` is deprecated and will be removed in future versions.\n",
      "[TerminalIPythonApp] WARNING | You likely want to use `jupyter nbconvert` in the future\n",
      "[NbConvertApp] Converting notebook any_neural_model_ensembles.ipynb to python\n",
      "[NbConvertApp] Writing 4052 bytes to any_neural_model_ensembles.py\n"
     ]
    }
   ],
   "source": [
    "!ipython nbconvert --to python any_neural_model_ensembles.ipynb"
   ]
  },
  {
   "cell_type": "code",
   "execution_count": null,
   "metadata": {},
   "outputs": [],
   "source": []
  }
 ],
 "metadata": {
  "kernelspec": {
   "display_name": "Python 3 (ipykernel)",
   "language": "python",
   "name": "python3"
  },
  "language_info": {
   "codemirror_mode": {
    "name": "ipython",
    "version": 3
   },
   "file_extension": ".py",
   "mimetype": "text/x-python",
   "name": "python",
   "nbconvert_exporter": "python",
   "pygments_lexer": "ipython3",
   "version": "3.9.7"
  }
 },
 "nbformat": 4,
 "nbformat_minor": 4
}
