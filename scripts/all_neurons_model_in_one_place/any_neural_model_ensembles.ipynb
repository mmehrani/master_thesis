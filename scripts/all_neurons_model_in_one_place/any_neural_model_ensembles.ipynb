{
 "cells": [
  {
   "cell_type": "markdown",
   "metadata": {},
   "source": [
    "# Neural networks simulation (Synchronization Problem)"
   ]
  },
  {
   "cell_type": "markdown",
   "metadata": {},
   "source": [
    "This file is going to study any neural netwrok class which is defined in the `<network_reference.py>` file."
   ]
  },
  {
   "cell_type": "code",
   "execution_count": 1,
   "metadata": {},
   "outputs": [],
   "source": [
    "import numpy as np\n",
    "from tqdm import tqdm\n",
    "import matplotlib.pyplot as plt\n",
    "import os"
   ]
  },
  {
   "cell_type": "code",
   "execution_count": 2,
   "metadata": {},
   "outputs": [],
   "source": [
    "%%capture\n",
    "from tqdm import tqdm_notebook as tqdm\n",
    "tqdm().pandas() #This line make sure that the progress bars looks natural"
   ]
  },
  {
   "cell_type": "markdown",
   "metadata": {},
   "source": [
    "## Order your neuron model of interest"
   ]
  },
  {
   "cell_type": "code",
   "execution_count": 3,
   "metadata": {},
   "outputs": [],
   "source": [
    "current_models = ['IF','Rotational','Non_repulsive_rotational']\n",
    "neuron_model = current_models[1]\n",
    "\n",
    "with open(\"network_reference.py\") as net_ref: \n",
    "    lines = net_ref.readlines() #read \n",
    " \n",
    "    #modify \n",
    "    lines[0] = \"neuron_engine = '{}'\\n\".format(neuron_model) #you can replace zero with any line number. \n",
    " \n",
    "with open(\"network_reference.py\", \"w\") as net_ref: \n",
    "    net_ref.writelines(lines) #write back "
   ]
  },
  {
   "cell_type": "code",
   "execution_count": 4,
   "metadata": {},
   "outputs": [],
   "source": [
    "from network_reference import Network_of_neurons"
   ]
  },
  {
   "cell_type": "markdown",
   "metadata": {},
   "source": [
    "## Parameters and constants"
   ]
  },
  {
   "cell_type": "code",
   "execution_count": 5,
   "metadata": {},
   "outputs": [],
   "source": [
    "num_neurons = 10000\n",
    "total_time = 100\n",
    "\n",
    "num_ensembles_each_g = 1"
   ]
  },
  {
   "cell_type": "code",
   "execution_count": 6,
   "metadata": {},
   "outputs": [],
   "source": [
    "random_input_span = (9.5,13.5)\n",
    "# random_input_span = (9.5,9.5)\n",
    "# random_input_span = (1.2,2.8)"
   ]
  },
  {
   "cell_type": "code",
   "execution_count": 7,
   "metadata": {},
   "outputs": [],
   "source": [
    "connectivity_min,connectivity_max, connectivity_step = 5,10, 0.1\n",
    "connectivity_span = np.arange(connectivity_min,connectivity_max,connectivity_step).round(2)"
   ]
  },
  {
   "cell_type": "code",
   "execution_count": 8,
   "metadata": {},
   "outputs": [],
   "source": [
    "delay_min, delay_max, delay_step =1, 2.25, 0.1\n",
    "delay_span = np.arange(delay_min, delay_max, delay_step).round(2)"
   ]
  },
  {
   "cell_type": "code",
   "execution_count": 9,
   "metadata": {},
   "outputs": [
    {
     "data": {
      "text/plain": [
       "array([20])"
      ]
     },
     "execution_count": 9,
     "metadata": {},
     "output_type": "execute_result"
    }
   ],
   "source": [
    "alpha_min, alpha_max, alpha_step = 20, 21, 10\n",
    "alpha_span = np.arange(alpha_min, alpha_max, alpha_step).round(2)\n",
    "# a1 = np.logspace(0, 1,num = 2)\n",
    "# a2 = np.arange(1,10,1)\n",
    "# alpha_span = np.outer(a1, a2).flatten()\n",
    "alpha_span"
   ]
  },
  {
   "cell_type": "code",
   "execution_count": null,
   "metadata": {},
   "outputs": [],
   "source": []
  },
  {
   "cell_type": "code",
   "execution_count": null,
   "metadata": {},
   "outputs": [],
   "source": []
  },
  {
   "cell_type": "code",
   "execution_count": null,
   "metadata": {},
   "outputs": [],
   "source": []
  },
  {
   "cell_type": "markdown",
   "metadata": {},
   "source": [
    "## Prepare the storage to record the outputs"
   ]
  },
  {
   "cell_type": "code",
   "execution_count": 10,
   "metadata": {},
   "outputs": [],
   "source": [
    "# version = '_v1.0' #all zero initial condition\n",
    "version = '_v2.0' #tiled uniformly on the phase space\n",
    "current_size_networks_path = os.path.join(neuron_model + '_ensembles','N{}_T{}_I{}_{}'.format(num_neurons,total_time,random_input_span[0],random_input_span[1]) + version )\n",
    "try:\n",
    "    os.makedirs(current_size_networks_path)\n",
    "except:\n",
    "    pass"
   ]
  },
  {
   "cell_type": "code",
   "execution_count": 11,
   "metadata": {},
   "outputs": [],
   "source": [
    "from storage_modifications import *"
   ]
  },
  {
   "cell_type": "markdown",
   "metadata": {},
   "source": [
    "## Creating various ensembles:"
   ]
  },
  {
   "cell_type": "code",
   "execution_count": null,
   "metadata": {},
   "outputs": [
    {
     "name": "stderr",
     "output_type": "stream",
     "text": [
      "C:\\Users\\mohsen\\AppData\\Local\\Temp\\ipykernel_828\\1212606915.py:1: TqdmDeprecationWarning: This function will be removed in tqdm==5.0.0\n",
      "Please use `tqdm.notebook.tqdm` instead of `tqdm.tqdm_notebook`\n",
      "  for connectivity in tqdm( connectivity_span , desc='Variation of connectivities'):\n"
     ]
    },
    {
     "data": {
      "application/vnd.jupyter.widget-view+json": {
       "model_id": "448a5af2371541d7a665d23c863d7356",
       "version_major": 2,
       "version_minor": 0
      },
      "text/plain": [
       "Variation of connectivities:   0%|          | 0/50 [00:00<?, ?it/s]"
      ]
     },
     "metadata": {},
     "output_type": "display_data"
    },
    {
     "name": "stderr",
     "output_type": "stream",
     "text": [
      "C:\\Users\\mohsen\\AppData\\Local\\Temp\\ipykernel_828\\1212606915.py:5: TqdmDeprecationWarning: This function will be removed in tqdm==5.0.0\n",
      "Please use `tqdm.notebook.tqdm` instead of `tqdm.tqdm_notebook`\n",
      "  for delay in tqdm( delay_span , desc='Variation of delay'):\n"
     ]
    },
    {
     "data": {
      "application/vnd.jupyter.widget-view+json": {
       "model_id": "5b5d03da483947dca8a27bb26640fd3f",
       "version_major": 2,
       "version_minor": 0
      },
      "text/plain": [
       "Variation of delay:   0%|          | 0/13 [00:00<?, ?it/s]"
      ]
     },
     "metadata": {},
     "output_type": "display_data"
    },
    {
     "name": "stderr",
     "output_type": "stream",
     "text": [
      "C:\\Users\\mohsen\\AppData\\Local\\Temp\\ipykernel_828\\1212606915.py:9: TqdmDeprecationWarning: This function will be removed in tqdm==5.0.0\n",
      "Please use `tqdm.notebook.tqdm` instead of `tqdm.tqdm_notebook`\n",
      "  for alpha in tqdm( alpha_span , desc='Variation of alpha') :\n"
     ]
    },
    {
     "data": {
      "application/vnd.jupyter.widget-view+json": {
       "model_id": "526e4d2e90204fe5a6b78e626efe4dc4",
       "version_major": 2,
       "version_minor": 0
      },
      "text/plain": [
       "Variation of alpha:   0%|          | 0/1 [00:00<?, ?it/s]"
      ]
     },
     "metadata": {},
     "output_type": "display_data"
    },
    {
     "name": "stderr",
     "output_type": "stream",
     "text": [
      "C:\\Users\\mohsen\\AppData\\Local\\Temp\\ipykernel_828\\1212606915.py:14: TqdmDeprecationWarning: This function will be removed in tqdm==5.0.0\n",
      "Please use `tqdm.notebook.tqdm` instead of `tqdm.tqdm_notebook`\n",
      "  for i in tqdm( range(num_ensembles_each_g) , desc='Making ensembles'):\n"
     ]
    },
    {
     "data": {
      "application/vnd.jupyter.widget-view+json": {
       "model_id": "fb11a349c56a49c98bc0a9cb6474e56c",
       "version_major": 2,
       "version_minor": 0
      },
      "text/plain": [
       "Making ensembles:   0%|          | 0/1 [00:00<?, ?it/s]"
      ]
     },
     "metadata": {},
     "output_type": "display_data"
    },
    {
     "data": {
      "application/vnd.jupyter.widget-view+json": {
       "model_id": "401e2dc74337448ea742c9dbe4fea5e7",
       "version_major": 2,
       "version_minor": 0
      },
      "text/plain": [
       "network dynamic:   0%|          | 0/9999 [00:00<?, ?it/s]"
      ]
     },
     "metadata": {},
     "output_type": "display_data"
    },
    {
     "data": {
      "application/vnd.jupyter.widget-view+json": {
       "model_id": "c620a823e5554a04bb5c45c9c3ee82e4",
       "version_major": 2,
       "version_minor": 0
      },
      "text/plain": [
       "Variation of alpha:   0%|          | 0/1 [00:00<?, ?it/s]"
      ]
     },
     "metadata": {},
     "output_type": "display_data"
    },
    {
     "data": {
      "application/vnd.jupyter.widget-view+json": {
       "model_id": "80116e04c5634e0797e7ffa49ad5e302",
       "version_major": 2,
       "version_minor": 0
      },
      "text/plain": [
       "Making ensembles:   0%|          | 0/1 [00:00<?, ?it/s]"
      ]
     },
     "metadata": {},
     "output_type": "display_data"
    },
    {
     "data": {
      "application/vnd.jupyter.widget-view+json": {
       "model_id": "c35c847abce44e4ebe8abe4a1461c491",
       "version_major": 2,
       "version_minor": 0
      },
      "text/plain": [
       "network dynamic:   0%|          | 0/9999 [00:00<?, ?it/s]"
      ]
     },
     "metadata": {},
     "output_type": "display_data"
    },
    {
     "data": {
      "application/vnd.jupyter.widget-view+json": {
       "model_id": "a49b92c71c134bbaa1487bd18194acb2",
       "version_major": 2,
       "version_minor": 0
      },
      "text/plain": [
       "Variation of alpha:   0%|          | 0/1 [00:00<?, ?it/s]"
      ]
     },
     "metadata": {},
     "output_type": "display_data"
    },
    {
     "data": {
      "application/vnd.jupyter.widget-view+json": {
       "model_id": "220bb949ead9498d81957db4cbe098d9",
       "version_major": 2,
       "version_minor": 0
      },
      "text/plain": [
       "Making ensembles:   0%|          | 0/1 [00:00<?, ?it/s]"
      ]
     },
     "metadata": {},
     "output_type": "display_data"
    },
    {
     "data": {
      "application/vnd.jupyter.widget-view+json": {
       "model_id": "107bb48a56b74569a47d3a03d0e1af31",
       "version_major": 2,
       "version_minor": 0
      },
      "text/plain": [
       "network dynamic:   0%|          | 0/9999 [00:00<?, ?it/s]"
      ]
     },
     "metadata": {},
     "output_type": "display_data"
    },
    {
     "data": {
      "application/vnd.jupyter.widget-view+json": {
       "model_id": "8cea5f389d6f4607b563513891dbd0a5",
       "version_major": 2,
       "version_minor": 0
      },
      "text/plain": [
       "Variation of alpha:   0%|          | 0/1 [00:00<?, ?it/s]"
      ]
     },
     "metadata": {},
     "output_type": "display_data"
    },
    {
     "data": {
      "application/vnd.jupyter.widget-view+json": {
       "model_id": "a1dd5107182f4e64986a0945b6c53728",
       "version_major": 2,
       "version_minor": 0
      },
      "text/plain": [
       "Making ensembles:   0%|          | 0/1 [00:00<?, ?it/s]"
      ]
     },
     "metadata": {},
     "output_type": "display_data"
    },
    {
     "data": {
      "application/vnd.jupyter.widget-view+json": {
       "model_id": "b1c7a3088a124635b506a4c1cfd55d6b",
       "version_major": 2,
       "version_minor": 0
      },
      "text/plain": [
       "network dynamic:   0%|          | 0/9999 [00:00<?, ?it/s]"
      ]
     },
     "metadata": {},
     "output_type": "display_data"
    },
    {
     "data": {
      "application/vnd.jupyter.widget-view+json": {
       "model_id": "19891a2adc0442deaa46d54087ed6297",
       "version_major": 2,
       "version_minor": 0
      },
      "text/plain": [
       "Variation of alpha:   0%|          | 0/1 [00:00<?, ?it/s]"
      ]
     },
     "metadata": {},
     "output_type": "display_data"
    },
    {
     "data": {
      "application/vnd.jupyter.widget-view+json": {
       "model_id": "01106bdeccc5482eb698e95f18224de4",
       "version_major": 2,
       "version_minor": 0
      },
      "text/plain": [
       "Making ensembles:   0%|          | 0/1 [00:00<?, ?it/s]"
      ]
     },
     "metadata": {},
     "output_type": "display_data"
    },
    {
     "data": {
      "application/vnd.jupyter.widget-view+json": {
       "model_id": "b803dce64b354f518f355266b19d921c",
       "version_major": 2,
       "version_minor": 0
      },
      "text/plain": [
       "network dynamic:   0%|          | 0/9999 [00:00<?, ?it/s]"
      ]
     },
     "metadata": {},
     "output_type": "display_data"
    },
    {
     "data": {
      "application/vnd.jupyter.widget-view+json": {
       "model_id": "6c8779cdfa6b49969f011b2d1b535385",
       "version_major": 2,
       "version_minor": 0
      },
      "text/plain": [
       "Variation of alpha:   0%|          | 0/1 [00:00<?, ?it/s]"
      ]
     },
     "metadata": {},
     "output_type": "display_data"
    },
    {
     "data": {
      "application/vnd.jupyter.widget-view+json": {
       "model_id": "4020e21c974a4c9aba90d4fc187037a5",
       "version_major": 2,
       "version_minor": 0
      },
      "text/plain": [
       "Making ensembles:   0%|          | 0/1 [00:00<?, ?it/s]"
      ]
     },
     "metadata": {},
     "output_type": "display_data"
    },
    {
     "data": {
      "application/vnd.jupyter.widget-view+json": {
       "model_id": "a58475b7959242a4b1d244bafc6751e5",
       "version_major": 2,
       "version_minor": 0
      },
      "text/plain": [
       "network dynamic:   0%|          | 0/9999 [00:00<?, ?it/s]"
      ]
     },
     "metadata": {},
     "output_type": "display_data"
    },
    {
     "data": {
      "application/vnd.jupyter.widget-view+json": {
       "model_id": "790e7b75b1894c34a48f7d1aa265b98b",
       "version_major": 2,
       "version_minor": 0
      },
      "text/plain": [
       "Variation of alpha:   0%|          | 0/1 [00:00<?, ?it/s]"
      ]
     },
     "metadata": {},
     "output_type": "display_data"
    },
    {
     "data": {
      "application/vnd.jupyter.widget-view+json": {
       "model_id": "7bdc1304185749fdbc1934dd36b737ad",
       "version_major": 2,
       "version_minor": 0
      },
      "text/plain": [
       "Making ensembles:   0%|          | 0/1 [00:00<?, ?it/s]"
      ]
     },
     "metadata": {},
     "output_type": "display_data"
    },
    {
     "data": {
      "application/vnd.jupyter.widget-view+json": {
       "model_id": "3823052bef3e4bb2aee50fc7099cb10a",
       "version_major": 2,
       "version_minor": 0
      },
      "text/plain": [
       "network dynamic:   0%|          | 0/9999 [00:00<?, ?it/s]"
      ]
     },
     "metadata": {},
     "output_type": "display_data"
    },
    {
     "data": {
      "application/vnd.jupyter.widget-view+json": {
       "model_id": "ea119032de0d45e58729e2b651189838",
       "version_major": 2,
       "version_minor": 0
      },
      "text/plain": [
       "Variation of alpha:   0%|          | 0/1 [00:00<?, ?it/s]"
      ]
     },
     "metadata": {},
     "output_type": "display_data"
    },
    {
     "data": {
      "application/vnd.jupyter.widget-view+json": {
       "model_id": "e8d657fce0414a18aa541b950c397dda",
       "version_major": 2,
       "version_minor": 0
      },
      "text/plain": [
       "Making ensembles:   0%|          | 0/1 [00:00<?, ?it/s]"
      ]
     },
     "metadata": {},
     "output_type": "display_data"
    },
    {
     "data": {
      "application/vnd.jupyter.widget-view+json": {
       "model_id": "47b5a22ab8424b7d9b1891fee68a12ae",
       "version_major": 2,
       "version_minor": 0
      },
      "text/plain": [
       "network dynamic:   0%|          | 0/9999 [00:00<?, ?it/s]"
      ]
     },
     "metadata": {},
     "output_type": "display_data"
    },
    {
     "data": {
      "application/vnd.jupyter.widget-view+json": {
       "model_id": "3a3d2a5a0e21496d96c3b6960610a983",
       "version_major": 2,
       "version_minor": 0
      },
      "text/plain": [
       "Variation of alpha:   0%|          | 0/1 [00:00<?, ?it/s]"
      ]
     },
     "metadata": {},
     "output_type": "display_data"
    },
    {
     "data": {
      "application/vnd.jupyter.widget-view+json": {
       "model_id": "be8129bd049344c090c5f25db9c3d714",
       "version_major": 2,
       "version_minor": 0
      },
      "text/plain": [
       "Making ensembles:   0%|          | 0/1 [00:00<?, ?it/s]"
      ]
     },
     "metadata": {},
     "output_type": "display_data"
    },
    {
     "data": {
      "application/vnd.jupyter.widget-view+json": {
       "model_id": "94c2312608b342949686d3b2e42ee80c",
       "version_major": 2,
       "version_minor": 0
      },
      "text/plain": [
       "network dynamic:   0%|          | 0/9999 [00:00<?, ?it/s]"
      ]
     },
     "metadata": {},
     "output_type": "display_data"
    },
    {
     "data": {
      "application/vnd.jupyter.widget-view+json": {
       "model_id": "c1555c3a48894fa6a7717d5a63f099fc",
       "version_major": 2,
       "version_minor": 0
      },
      "text/plain": [
       "Variation of alpha:   0%|          | 0/1 [00:00<?, ?it/s]"
      ]
     },
     "metadata": {},
     "output_type": "display_data"
    },
    {
     "data": {
      "application/vnd.jupyter.widget-view+json": {
       "model_id": "40f6f1aab5934cf08cf262bd113d89fc",
       "version_major": 2,
       "version_minor": 0
      },
      "text/plain": [
       "Making ensembles:   0%|          | 0/1 [00:00<?, ?it/s]"
      ]
     },
     "metadata": {},
     "output_type": "display_data"
    },
    {
     "data": {
      "application/vnd.jupyter.widget-view+json": {
       "model_id": "789f6bffd17e4f8da9871e4cf6af3141",
       "version_major": 2,
       "version_minor": 0
      },
      "text/plain": [
       "network dynamic:   0%|          | 0/9999 [00:00<?, ?it/s]"
      ]
     },
     "metadata": {},
     "output_type": "display_data"
    },
    {
     "data": {
      "application/vnd.jupyter.widget-view+json": {
       "model_id": "fddec00dd597442ea0df8b4a08391eea",
       "version_major": 2,
       "version_minor": 0
      },
      "text/plain": [
       "Variation of alpha:   0%|          | 0/1 [00:00<?, ?it/s]"
      ]
     },
     "metadata": {},
     "output_type": "display_data"
    },
    {
     "data": {
      "application/vnd.jupyter.widget-view+json": {
       "model_id": "831f78803ce342e0a59a119bc555b036",
       "version_major": 2,
       "version_minor": 0
      },
      "text/plain": [
       "Making ensembles:   0%|          | 0/1 [00:00<?, ?it/s]"
      ]
     },
     "metadata": {},
     "output_type": "display_data"
    },
    {
     "data": {
      "application/vnd.jupyter.widget-view+json": {
       "model_id": "19e44cf56e95471c8b57049d6de51141",
       "version_major": 2,
       "version_minor": 0
      },
      "text/plain": [
       "network dynamic:   0%|          | 0/9999 [00:00<?, ?it/s]"
      ]
     },
     "metadata": {},
     "output_type": "display_data"
    },
    {
     "data": {
      "application/vnd.jupyter.widget-view+json": {
       "model_id": "625361cb464148ab9a6c94d02f0783d3",
       "version_major": 2,
       "version_minor": 0
      },
      "text/plain": [
       "Variation of alpha:   0%|          | 0/1 [00:00<?, ?it/s]"
      ]
     },
     "metadata": {},
     "output_type": "display_data"
    },
    {
     "data": {
      "application/vnd.jupyter.widget-view+json": {
       "model_id": "c6a5f8cbacf249e6a36a20205d8dbacb",
       "version_major": 2,
       "version_minor": 0
      },
      "text/plain": [
       "Making ensembles:   0%|          | 0/1 [00:00<?, ?it/s]"
      ]
     },
     "metadata": {},
     "output_type": "display_data"
    },
    {
     "data": {
      "application/vnd.jupyter.widget-view+json": {
       "model_id": "f11a7ccde78c47029b79999e5de9985b",
       "version_major": 2,
       "version_minor": 0
      },
      "text/plain": [
       "network dynamic:   0%|          | 0/9999 [00:00<?, ?it/s]"
      ]
     },
     "metadata": {},
     "output_type": "display_data"
    },
    {
     "data": {
      "application/vnd.jupyter.widget-view+json": {
       "model_id": "2d8937c7d49e4a3f95dd6f66df0b903b",
       "version_major": 2,
       "version_minor": 0
      },
      "text/plain": [
       "Variation of alpha:   0%|          | 0/1 [00:00<?, ?it/s]"
      ]
     },
     "metadata": {},
     "output_type": "display_data"
    },
    {
     "data": {
      "application/vnd.jupyter.widget-view+json": {
       "model_id": "498d4ad26ae44883be4c2636f4f86465",
       "version_major": 2,
       "version_minor": 0
      },
      "text/plain": [
       "Making ensembles:   0%|          | 0/1 [00:00<?, ?it/s]"
      ]
     },
     "metadata": {},
     "output_type": "display_data"
    },
    {
     "data": {
      "application/vnd.jupyter.widget-view+json": {
       "model_id": "37a834b307c647c8a7271c8eff16038d",
       "version_major": 2,
       "version_minor": 0
      },
      "text/plain": [
       "network dynamic:   0%|          | 0/9999 [00:00<?, ?it/s]"
      ]
     },
     "metadata": {},
     "output_type": "display_data"
    },
    {
     "data": {
      "application/vnd.jupyter.widget-view+json": {
       "model_id": "b982f6a50a7742a4bdc6d9ff7f90a207",
       "version_major": 2,
       "version_minor": 0
      },
      "text/plain": [
       "Variation of delay:   0%|          | 0/13 [00:00<?, ?it/s]"
      ]
     },
     "metadata": {},
     "output_type": "display_data"
    },
    {
     "data": {
      "application/vnd.jupyter.widget-view+json": {
       "model_id": "8cb5bdaa70334cb58053174b453a74eb",
       "version_major": 2,
       "version_minor": 0
      },
      "text/plain": [
       "Variation of alpha:   0%|          | 0/1 [00:00<?, ?it/s]"
      ]
     },
     "metadata": {},
     "output_type": "display_data"
    },
    {
     "data": {
      "application/vnd.jupyter.widget-view+json": {
       "model_id": "445988304a2d48e7a641f3a049651a6c",
       "version_major": 2,
       "version_minor": 0
      },
      "text/plain": [
       "Making ensembles:   0%|          | 0/1 [00:00<?, ?it/s]"
      ]
     },
     "metadata": {},
     "output_type": "display_data"
    },
    {
     "data": {
      "application/vnd.jupyter.widget-view+json": {
       "model_id": "47793b0b9ada4ef8821fc1307f07728e",
       "version_major": 2,
       "version_minor": 0
      },
      "text/plain": [
       "network dynamic:   0%|          | 0/9999 [00:00<?, ?it/s]"
      ]
     },
     "metadata": {},
     "output_type": "display_data"
    },
    {
     "data": {
      "application/vnd.jupyter.widget-view+json": {
       "model_id": "b372d59e857f4dd297dae0d70b4023de",
       "version_major": 2,
       "version_minor": 0
      },
      "text/plain": [
       "Variation of alpha:   0%|          | 0/1 [00:00<?, ?it/s]"
      ]
     },
     "metadata": {},
     "output_type": "display_data"
    },
    {
     "data": {
      "application/vnd.jupyter.widget-view+json": {
       "model_id": "bdcb102c7efa48b98ebcba99ba219ee6",
       "version_major": 2,
       "version_minor": 0
      },
      "text/plain": [
       "Making ensembles:   0%|          | 0/1 [00:00<?, ?it/s]"
      ]
     },
     "metadata": {},
     "output_type": "display_data"
    },
    {
     "data": {
      "application/vnd.jupyter.widget-view+json": {
       "model_id": "9b9b7a454d87436db965a311c88aa307",
       "version_major": 2,
       "version_minor": 0
      },
      "text/plain": [
       "network dynamic:   0%|          | 0/9999 [00:00<?, ?it/s]"
      ]
     },
     "metadata": {},
     "output_type": "display_data"
    },
    {
     "data": {
      "application/vnd.jupyter.widget-view+json": {
       "model_id": "e8047626ec55498295f95844d08dcda2",
       "version_major": 2,
       "version_minor": 0
      },
      "text/plain": [
       "Variation of alpha:   0%|          | 0/1 [00:00<?, ?it/s]"
      ]
     },
     "metadata": {},
     "output_type": "display_data"
    },
    {
     "data": {
      "application/vnd.jupyter.widget-view+json": {
       "model_id": "f0bd5d1289354510b2ccc28dbbe0c76c",
       "version_major": 2,
       "version_minor": 0
      },
      "text/plain": [
       "Making ensembles:   0%|          | 0/1 [00:00<?, ?it/s]"
      ]
     },
     "metadata": {},
     "output_type": "display_data"
    },
    {
     "data": {
      "application/vnd.jupyter.widget-view+json": {
       "model_id": "be8ba262f0494f2b999444e7af78f47f",
       "version_major": 2,
       "version_minor": 0
      },
      "text/plain": [
       "network dynamic:   0%|          | 0/9999 [00:00<?, ?it/s]"
      ]
     },
     "metadata": {},
     "output_type": "display_data"
    },
    {
     "data": {
      "application/vnd.jupyter.widget-view+json": {
       "model_id": "a6cd6731b1cd4992ac80c94e65904742",
       "version_major": 2,
       "version_minor": 0
      },
      "text/plain": [
       "Variation of alpha:   0%|          | 0/1 [00:00<?, ?it/s]"
      ]
     },
     "metadata": {},
     "output_type": "display_data"
    },
    {
     "data": {
      "application/vnd.jupyter.widget-view+json": {
       "model_id": "91074c7c80ab4b84b0e3cabee913f73f",
       "version_major": 2,
       "version_minor": 0
      },
      "text/plain": [
       "Making ensembles:   0%|          | 0/1 [00:00<?, ?it/s]"
      ]
     },
     "metadata": {},
     "output_type": "display_data"
    },
    {
     "data": {
      "application/vnd.jupyter.widget-view+json": {
       "model_id": "011f04c413b24ad99857705acd2158d9",
       "version_major": 2,
       "version_minor": 0
      },
      "text/plain": [
       "network dynamic:   0%|          | 0/9999 [00:00<?, ?it/s]"
      ]
     },
     "metadata": {},
     "output_type": "display_data"
    },
    {
     "data": {
      "application/vnd.jupyter.widget-view+json": {
       "model_id": "62215c439a9c4e8abaeb386f51492428",
       "version_major": 2,
       "version_minor": 0
      },
      "text/plain": [
       "Variation of alpha:   0%|          | 0/1 [00:00<?, ?it/s]"
      ]
     },
     "metadata": {},
     "output_type": "display_data"
    },
    {
     "data": {
      "application/vnd.jupyter.widget-view+json": {
       "model_id": "3b8fc574a2cb4f84b2e11e02819028fe",
       "version_major": 2,
       "version_minor": 0
      },
      "text/plain": [
       "Making ensembles:   0%|          | 0/1 [00:00<?, ?it/s]"
      ]
     },
     "metadata": {},
     "output_type": "display_data"
    },
    {
     "data": {
      "application/vnd.jupyter.widget-view+json": {
       "model_id": "7ba2e161b4c44c88bcfc5bb04fd5c81b",
       "version_major": 2,
       "version_minor": 0
      },
      "text/plain": [
       "network dynamic:   0%|          | 0/9999 [00:00<?, ?it/s]"
      ]
     },
     "metadata": {},
     "output_type": "display_data"
    },
    {
     "data": {
      "application/vnd.jupyter.widget-view+json": {
       "model_id": "81b5d55be8a54d52854683f16cb76911",
       "version_major": 2,
       "version_minor": 0
      },
      "text/plain": [
       "Variation of alpha:   0%|          | 0/1 [00:00<?, ?it/s]"
      ]
     },
     "metadata": {},
     "output_type": "display_data"
    },
    {
     "data": {
      "application/vnd.jupyter.widget-view+json": {
       "model_id": "121a60c6d15c4ff9bf944c82549b1248",
       "version_major": 2,
       "version_minor": 0
      },
      "text/plain": [
       "Making ensembles:   0%|          | 0/1 [00:00<?, ?it/s]"
      ]
     },
     "metadata": {},
     "output_type": "display_data"
    },
    {
     "data": {
      "application/vnd.jupyter.widget-view+json": {
       "model_id": "6870ebecb9064acdb8428556079aa12d",
       "version_major": 2,
       "version_minor": 0
      },
      "text/plain": [
       "network dynamic:   0%|          | 0/9999 [00:00<?, ?it/s]"
      ]
     },
     "metadata": {},
     "output_type": "display_data"
    },
    {
     "data": {
      "application/vnd.jupyter.widget-view+json": {
       "model_id": "1f48041c95ba4024aad4cbb8c6457eb9",
       "version_major": 2,
       "version_minor": 0
      },
      "text/plain": [
       "Variation of alpha:   0%|          | 0/1 [00:00<?, ?it/s]"
      ]
     },
     "metadata": {},
     "output_type": "display_data"
    },
    {
     "data": {
      "application/vnd.jupyter.widget-view+json": {
       "model_id": "9be4cb8c489940d08de966f7eb0a1c1c",
       "version_major": 2,
       "version_minor": 0
      },
      "text/plain": [
       "Making ensembles:   0%|          | 0/1 [00:00<?, ?it/s]"
      ]
     },
     "metadata": {},
     "output_type": "display_data"
    },
    {
     "data": {
      "application/vnd.jupyter.widget-view+json": {
       "model_id": "05be9ae3d6934bff901acf2481b24cd1",
       "version_major": 2,
       "version_minor": 0
      },
      "text/plain": [
       "network dynamic:   0%|          | 0/9999 [00:00<?, ?it/s]"
      ]
     },
     "metadata": {},
     "output_type": "display_data"
    },
    {
     "data": {
      "application/vnd.jupyter.widget-view+json": {
       "model_id": "3ff6ca4d65624f74ab7cc2ac265f05a0",
       "version_major": 2,
       "version_minor": 0
      },
      "text/plain": [
       "Variation of alpha:   0%|          | 0/1 [00:00<?, ?it/s]"
      ]
     },
     "metadata": {},
     "output_type": "display_data"
    },
    {
     "data": {
      "application/vnd.jupyter.widget-view+json": {
       "model_id": "b891015277ad4a0f91920b5ef8235506",
       "version_major": 2,
       "version_minor": 0
      },
      "text/plain": [
       "Making ensembles:   0%|          | 0/1 [00:00<?, ?it/s]"
      ]
     },
     "metadata": {},
     "output_type": "display_data"
    },
    {
     "data": {
      "application/vnd.jupyter.widget-view+json": {
       "model_id": "e45b11f1189b49e8a0f0478d2aea626a",
       "version_major": 2,
       "version_minor": 0
      },
      "text/plain": [
       "network dynamic:   0%|          | 0/9999 [00:00<?, ?it/s]"
      ]
     },
     "metadata": {},
     "output_type": "display_data"
    },
    {
     "data": {
      "application/vnd.jupyter.widget-view+json": {
       "model_id": "dbcd1b3d95f04b2e9b02633ea1157a53",
       "version_major": 2,
       "version_minor": 0
      },
      "text/plain": [
       "Variation of alpha:   0%|          | 0/1 [00:00<?, ?it/s]"
      ]
     },
     "metadata": {},
     "output_type": "display_data"
    },
    {
     "data": {
      "application/vnd.jupyter.widget-view+json": {
       "model_id": "2577fa0b7baa4caf9a2ee3ef750d5e64",
       "version_major": 2,
       "version_minor": 0
      },
      "text/plain": [
       "Making ensembles:   0%|          | 0/1 [00:00<?, ?it/s]"
      ]
     },
     "metadata": {},
     "output_type": "display_data"
    },
    {
     "data": {
      "application/vnd.jupyter.widget-view+json": {
       "model_id": "9e9bfe43a3f548a29f9f8eaf32ff007f",
       "version_major": 2,
       "version_minor": 0
      },
      "text/plain": [
       "network dynamic:   0%|          | 0/9999 [00:00<?, ?it/s]"
      ]
     },
     "metadata": {},
     "output_type": "display_data"
    },
    {
     "data": {
      "application/vnd.jupyter.widget-view+json": {
       "model_id": "806c23ac290e4bb3bbf605a8ad419e93",
       "version_major": 2,
       "version_minor": 0
      },
      "text/plain": [
       "Variation of alpha:   0%|          | 0/1 [00:00<?, ?it/s]"
      ]
     },
     "metadata": {},
     "output_type": "display_data"
    },
    {
     "data": {
      "application/vnd.jupyter.widget-view+json": {
       "model_id": "72b90da4942041c29942ed09e6449357",
       "version_major": 2,
       "version_minor": 0
      },
      "text/plain": [
       "Making ensembles:   0%|          | 0/1 [00:00<?, ?it/s]"
      ]
     },
     "metadata": {},
     "output_type": "display_data"
    },
    {
     "data": {
      "application/vnd.jupyter.widget-view+json": {
       "model_id": "ead4998997b54a8fb068cce27f5899bf",
       "version_major": 2,
       "version_minor": 0
      },
      "text/plain": [
       "network dynamic:   0%|          | 0/9999 [00:00<?, ?it/s]"
      ]
     },
     "metadata": {},
     "output_type": "display_data"
    },
    {
     "data": {
      "application/vnd.jupyter.widget-view+json": {
       "model_id": "9b78e4d507034eab9f820e5bfe5e5d2a",
       "version_major": 2,
       "version_minor": 0
      },
      "text/plain": [
       "Variation of alpha:   0%|          | 0/1 [00:00<?, ?it/s]"
      ]
     },
     "metadata": {},
     "output_type": "display_data"
    },
    {
     "data": {
      "application/vnd.jupyter.widget-view+json": {
       "model_id": "d2f03275b3b3401d8ee4e59b16c0ac92",
       "version_major": 2,
       "version_minor": 0
      },
      "text/plain": [
       "Making ensembles:   0%|          | 0/1 [00:00<?, ?it/s]"
      ]
     },
     "metadata": {},
     "output_type": "display_data"
    },
    {
     "data": {
      "application/vnd.jupyter.widget-view+json": {
       "model_id": "cc82f02eb415455b8e3f1004d9d92085",
       "version_major": 2,
       "version_minor": 0
      },
      "text/plain": [
       "network dynamic:   0%|          | 0/9999 [00:00<?, ?it/s]"
      ]
     },
     "metadata": {},
     "output_type": "display_data"
    },
    {
     "data": {
      "application/vnd.jupyter.widget-view+json": {
       "model_id": "08f6f61529f543dca36b7954123da778",
       "version_major": 2,
       "version_minor": 0
      },
      "text/plain": [
       "Variation of alpha:   0%|          | 0/1 [00:00<?, ?it/s]"
      ]
     },
     "metadata": {},
     "output_type": "display_data"
    },
    {
     "data": {
      "application/vnd.jupyter.widget-view+json": {
       "model_id": "a573f417b8a24287a272233ac9f5241f",
       "version_major": 2,
       "version_minor": 0
      },
      "text/plain": [
       "Making ensembles:   0%|          | 0/1 [00:00<?, ?it/s]"
      ]
     },
     "metadata": {},
     "output_type": "display_data"
    },
    {
     "data": {
      "application/vnd.jupyter.widget-view+json": {
       "model_id": "e88b790d60324d008315fbc0fec8b1eb",
       "version_major": 2,
       "version_minor": 0
      },
      "text/plain": [
       "network dynamic:   0%|          | 0/9999 [00:00<?, ?it/s]"
      ]
     },
     "metadata": {},
     "output_type": "display_data"
    },
    {
     "data": {
      "application/vnd.jupyter.widget-view+json": {
       "model_id": "3b490210272945779422e451e65a8e47",
       "version_major": 2,
       "version_minor": 0
      },
      "text/plain": [
       "Variation of alpha:   0%|          | 0/1 [00:00<?, ?it/s]"
      ]
     },
     "metadata": {},
     "output_type": "display_data"
    },
    {
     "data": {
      "application/vnd.jupyter.widget-view+json": {
       "model_id": "ae36feed47164e8f958a30b0f3935fd9",
       "version_major": 2,
       "version_minor": 0
      },
      "text/plain": [
       "Making ensembles:   0%|          | 0/1 [00:00<?, ?it/s]"
      ]
     },
     "metadata": {},
     "output_type": "display_data"
    },
    {
     "data": {
      "application/vnd.jupyter.widget-view+json": {
       "model_id": "2a9a790017cd49f9bff2ea649bd98184",
       "version_major": 2,
       "version_minor": 0
      },
      "text/plain": [
       "network dynamic:   0%|          | 0/9999 [00:00<?, ?it/s]"
      ]
     },
     "metadata": {},
     "output_type": "display_data"
    },
    {
     "data": {
      "application/vnd.jupyter.widget-view+json": {
       "model_id": "49d8fcf396764090968927e5fbfa5f6b",
       "version_major": 2,
       "version_minor": 0
      },
      "text/plain": [
       "Variation of delay:   0%|          | 0/13 [00:00<?, ?it/s]"
      ]
     },
     "metadata": {},
     "output_type": "display_data"
    },
    {
     "data": {
      "application/vnd.jupyter.widget-view+json": {
       "model_id": "2d6e13bcb01344aeb829b43983cc4f91",
       "version_major": 2,
       "version_minor": 0
      },
      "text/plain": [
       "Variation of alpha:   0%|          | 0/1 [00:00<?, ?it/s]"
      ]
     },
     "metadata": {},
     "output_type": "display_data"
    },
    {
     "data": {
      "application/vnd.jupyter.widget-view+json": {
       "model_id": "241f890a10c14978a599f41390944b48",
       "version_major": 2,
       "version_minor": 0
      },
      "text/plain": [
       "Making ensembles:   0%|          | 0/1 [00:00<?, ?it/s]"
      ]
     },
     "metadata": {},
     "output_type": "display_data"
    },
    {
     "data": {
      "application/vnd.jupyter.widget-view+json": {
       "model_id": "b185048c172a4d5faa92f5fd7df2de69",
       "version_major": 2,
       "version_minor": 0
      },
      "text/plain": [
       "network dynamic:   0%|          | 0/9999 [00:00<?, ?it/s]"
      ]
     },
     "metadata": {},
     "output_type": "display_data"
    },
    {
     "data": {
      "application/vnd.jupyter.widget-view+json": {
       "model_id": "f940854d07114847807da8d4d5d6fe7b",
       "version_major": 2,
       "version_minor": 0
      },
      "text/plain": [
       "Variation of alpha:   0%|          | 0/1 [00:00<?, ?it/s]"
      ]
     },
     "metadata": {},
     "output_type": "display_data"
    },
    {
     "data": {
      "application/vnd.jupyter.widget-view+json": {
       "model_id": "70a68945fedf4f799aeb54c9998107cf",
       "version_major": 2,
       "version_minor": 0
      },
      "text/plain": [
       "Making ensembles:   0%|          | 0/1 [00:00<?, ?it/s]"
      ]
     },
     "metadata": {},
     "output_type": "display_data"
    },
    {
     "data": {
      "application/vnd.jupyter.widget-view+json": {
       "model_id": "5c7215aaa9de48099e1946986d0a123b",
       "version_major": 2,
       "version_minor": 0
      },
      "text/plain": [
       "network dynamic:   0%|          | 0/9999 [00:00<?, ?it/s]"
      ]
     },
     "metadata": {},
     "output_type": "display_data"
    },
    {
     "data": {
      "application/vnd.jupyter.widget-view+json": {
       "model_id": "5d26cdff3dbf43489dcd317101169a1c",
       "version_major": 2,
       "version_minor": 0
      },
      "text/plain": [
       "Variation of alpha:   0%|          | 0/1 [00:00<?, ?it/s]"
      ]
     },
     "metadata": {},
     "output_type": "display_data"
    },
    {
     "data": {
      "application/vnd.jupyter.widget-view+json": {
       "model_id": "82d7dd738f6d455e8dba4de39f01570a",
       "version_major": 2,
       "version_minor": 0
      },
      "text/plain": [
       "Making ensembles:   0%|          | 0/1 [00:00<?, ?it/s]"
      ]
     },
     "metadata": {},
     "output_type": "display_data"
    },
    {
     "data": {
      "application/vnd.jupyter.widget-view+json": {
       "model_id": "6c8b7e288a434981ace7db0a9c1a47d4",
       "version_major": 2,
       "version_minor": 0
      },
      "text/plain": [
       "network dynamic:   0%|          | 0/9999 [00:00<?, ?it/s]"
      ]
     },
     "metadata": {},
     "output_type": "display_data"
    },
    {
     "data": {
      "application/vnd.jupyter.widget-view+json": {
       "model_id": "628e47e4a33a4681ac093fce69d5da7e",
       "version_major": 2,
       "version_minor": 0
      },
      "text/plain": [
       "Variation of alpha:   0%|          | 0/1 [00:00<?, ?it/s]"
      ]
     },
     "metadata": {},
     "output_type": "display_data"
    },
    {
     "data": {
      "application/vnd.jupyter.widget-view+json": {
       "model_id": "6921a6285eab4197aba91b4b088f7a62",
       "version_major": 2,
       "version_minor": 0
      },
      "text/plain": [
       "Making ensembles:   0%|          | 0/1 [00:00<?, ?it/s]"
      ]
     },
     "metadata": {},
     "output_type": "display_data"
    },
    {
     "data": {
      "application/vnd.jupyter.widget-view+json": {
       "model_id": "27c56e541ea94e079a9b1243161ba02d",
       "version_major": 2,
       "version_minor": 0
      },
      "text/plain": [
       "network dynamic:   0%|          | 0/9999 [00:00<?, ?it/s]"
      ]
     },
     "metadata": {},
     "output_type": "display_data"
    },
    {
     "data": {
      "application/vnd.jupyter.widget-view+json": {
       "model_id": "b89a64e5a321470b82518e0ca47cea15",
       "version_major": 2,
       "version_minor": 0
      },
      "text/plain": [
       "Variation of alpha:   0%|          | 0/1 [00:00<?, ?it/s]"
      ]
     },
     "metadata": {},
     "output_type": "display_data"
    },
    {
     "data": {
      "application/vnd.jupyter.widget-view+json": {
       "model_id": "f7ae55cd470140f0a6bd022a4013c7ae",
       "version_major": 2,
       "version_minor": 0
      },
      "text/plain": [
       "Making ensembles:   0%|          | 0/1 [00:00<?, ?it/s]"
      ]
     },
     "metadata": {},
     "output_type": "display_data"
    },
    {
     "data": {
      "application/vnd.jupyter.widget-view+json": {
       "model_id": "1e041d7648c34b6bb993463909913f1c",
       "version_major": 2,
       "version_minor": 0
      },
      "text/plain": [
       "network dynamic:   0%|          | 0/9999 [00:00<?, ?it/s]"
      ]
     },
     "metadata": {},
     "output_type": "display_data"
    },
    {
     "data": {
      "application/vnd.jupyter.widget-view+json": {
       "model_id": "fe73c3de109d47599f03d8153641897f",
       "version_major": 2,
       "version_minor": 0
      },
      "text/plain": [
       "Variation of alpha:   0%|          | 0/1 [00:00<?, ?it/s]"
      ]
     },
     "metadata": {},
     "output_type": "display_data"
    },
    {
     "data": {
      "application/vnd.jupyter.widget-view+json": {
       "model_id": "dbfb4445dadf46ca8618ffd9a65fb6bc",
       "version_major": 2,
       "version_minor": 0
      },
      "text/plain": [
       "Making ensembles:   0%|          | 0/1 [00:00<?, ?it/s]"
      ]
     },
     "metadata": {},
     "output_type": "display_data"
    },
    {
     "data": {
      "application/vnd.jupyter.widget-view+json": {
       "model_id": "e86eeb9608ef48289fc6f5b3e1b55f4d",
       "version_major": 2,
       "version_minor": 0
      },
      "text/plain": [
       "network dynamic:   0%|          | 0/9999 [00:00<?, ?it/s]"
      ]
     },
     "metadata": {},
     "output_type": "display_data"
    },
    {
     "data": {
      "application/vnd.jupyter.widget-view+json": {
       "model_id": "9a22f2224fae4ea099ee6f3ec1ecbe56",
       "version_major": 2,
       "version_minor": 0
      },
      "text/plain": [
       "Variation of alpha:   0%|          | 0/1 [00:00<?, ?it/s]"
      ]
     },
     "metadata": {},
     "output_type": "display_data"
    },
    {
     "data": {
      "application/vnd.jupyter.widget-view+json": {
       "model_id": "f4e63467062f4a78890f7846ec9994f3",
       "version_major": 2,
       "version_minor": 0
      },
      "text/plain": [
       "Making ensembles:   0%|          | 0/1 [00:00<?, ?it/s]"
      ]
     },
     "metadata": {},
     "output_type": "display_data"
    },
    {
     "data": {
      "application/vnd.jupyter.widget-view+json": {
       "model_id": "51ff1ba31b4b4cf4b0495161e5f5b791",
       "version_major": 2,
       "version_minor": 0
      },
      "text/plain": [
       "network dynamic:   0%|          | 0/9999 [00:00<?, ?it/s]"
      ]
     },
     "metadata": {},
     "output_type": "display_data"
    },
    {
     "data": {
      "application/vnd.jupyter.widget-view+json": {
       "model_id": "e407eaf98dc14f208796bf4e820ed980",
       "version_major": 2,
       "version_minor": 0
      },
      "text/plain": [
       "Variation of alpha:   0%|          | 0/1 [00:00<?, ?it/s]"
      ]
     },
     "metadata": {},
     "output_type": "display_data"
    },
    {
     "data": {
      "application/vnd.jupyter.widget-view+json": {
       "model_id": "4003698dda5542a7abd1af6169ba0428",
       "version_major": 2,
       "version_minor": 0
      },
      "text/plain": [
       "Making ensembles:   0%|          | 0/1 [00:00<?, ?it/s]"
      ]
     },
     "metadata": {},
     "output_type": "display_data"
    },
    {
     "data": {
      "application/vnd.jupyter.widget-view+json": {
       "model_id": "543718de5e9a4bc49ad37bc1f9ba043d",
       "version_major": 2,
       "version_minor": 0
      },
      "text/plain": [
       "network dynamic:   0%|          | 0/9999 [00:00<?, ?it/s]"
      ]
     },
     "metadata": {},
     "output_type": "display_data"
    },
    {
     "data": {
      "application/vnd.jupyter.widget-view+json": {
       "model_id": "1d2a8c213d644225a0d3c891eba76f73",
       "version_major": 2,
       "version_minor": 0
      },
      "text/plain": [
       "Variation of alpha:   0%|          | 0/1 [00:00<?, ?it/s]"
      ]
     },
     "metadata": {},
     "output_type": "display_data"
    },
    {
     "data": {
      "application/vnd.jupyter.widget-view+json": {
       "model_id": "dda86a5b650c491d92975c93cc08f82d",
       "version_major": 2,
       "version_minor": 0
      },
      "text/plain": [
       "Making ensembles:   0%|          | 0/1 [00:00<?, ?it/s]"
      ]
     },
     "metadata": {},
     "output_type": "display_data"
    },
    {
     "data": {
      "application/vnd.jupyter.widget-view+json": {
       "model_id": "743818dc846b43ba8ca7c1ba68a1ca72",
       "version_major": 2,
       "version_minor": 0
      },
      "text/plain": [
       "network dynamic:   0%|          | 0/9999 [00:00<?, ?it/s]"
      ]
     },
     "metadata": {},
     "output_type": "display_data"
    },
    {
     "data": {
      "application/vnd.jupyter.widget-view+json": {
       "model_id": "6c15c4af46d94899b410a55d39e33a1e",
       "version_major": 2,
       "version_minor": 0
      },
      "text/plain": [
       "Variation of alpha:   0%|          | 0/1 [00:00<?, ?it/s]"
      ]
     },
     "metadata": {},
     "output_type": "display_data"
    },
    {
     "data": {
      "application/vnd.jupyter.widget-view+json": {
       "model_id": "b05a098e98b348c2abb9a6d4431b8734",
       "version_major": 2,
       "version_minor": 0
      },
      "text/plain": [
       "Making ensembles:   0%|          | 0/1 [00:00<?, ?it/s]"
      ]
     },
     "metadata": {},
     "output_type": "display_data"
    },
    {
     "data": {
      "application/vnd.jupyter.widget-view+json": {
       "model_id": "f7d074a400654c45b0acfddf0dc712a2",
       "version_major": 2,
       "version_minor": 0
      },
      "text/plain": [
       "network dynamic:   0%|          | 0/9999 [00:00<?, ?it/s]"
      ]
     },
     "metadata": {},
     "output_type": "display_data"
    },
    {
     "data": {
      "application/vnd.jupyter.widget-view+json": {
       "model_id": "c4b68f6822e9460ebb4eed94f6e50443",
       "version_major": 2,
       "version_minor": 0
      },
      "text/plain": [
       "Variation of alpha:   0%|          | 0/1 [00:00<?, ?it/s]"
      ]
     },
     "metadata": {},
     "output_type": "display_data"
    },
    {
     "data": {
      "application/vnd.jupyter.widget-view+json": {
       "model_id": "9ebc19a4acf049d2853e3e9a7c2384c9",
       "version_major": 2,
       "version_minor": 0
      },
      "text/plain": [
       "Making ensembles:   0%|          | 0/1 [00:00<?, ?it/s]"
      ]
     },
     "metadata": {},
     "output_type": "display_data"
    },
    {
     "data": {
      "application/vnd.jupyter.widget-view+json": {
       "model_id": "194c4b03354444b8a5dd05ceeb82cbde",
       "version_major": 2,
       "version_minor": 0
      },
      "text/plain": [
       "network dynamic:   0%|          | 0/9999 [00:00<?, ?it/s]"
      ]
     },
     "metadata": {},
     "output_type": "display_data"
    },
    {
     "data": {
      "application/vnd.jupyter.widget-view+json": {
       "model_id": "24a1999e43974b438ce1c266261f9251",
       "version_major": 2,
       "version_minor": 0
      },
      "text/plain": [
       "Variation of alpha:   0%|          | 0/1 [00:00<?, ?it/s]"
      ]
     },
     "metadata": {},
     "output_type": "display_data"
    },
    {
     "data": {
      "application/vnd.jupyter.widget-view+json": {
       "model_id": "7a32993c198746e78d162bbd2e25380d",
       "version_major": 2,
       "version_minor": 0
      },
      "text/plain": [
       "Making ensembles:   0%|          | 0/1 [00:00<?, ?it/s]"
      ]
     },
     "metadata": {},
     "output_type": "display_data"
    },
    {
     "data": {
      "application/vnd.jupyter.widget-view+json": {
       "model_id": "7d8b702b59dd4fc3b11ecb8620152565",
       "version_major": 2,
       "version_minor": 0
      },
      "text/plain": [
       "network dynamic:   0%|          | 0/9999 [00:00<?, ?it/s]"
      ]
     },
     "metadata": {},
     "output_type": "display_data"
    },
    {
     "data": {
      "application/vnd.jupyter.widget-view+json": {
       "model_id": "9aa6cd09c11f4a6092dd4fbe025d1ae0",
       "version_major": 2,
       "version_minor": 0
      },
      "text/plain": [
       "Variation of alpha:   0%|          | 0/1 [00:00<?, ?it/s]"
      ]
     },
     "metadata": {},
     "output_type": "display_data"
    },
    {
     "data": {
      "application/vnd.jupyter.widget-view+json": {
       "model_id": "00c1a92133e34ba3b21419a9154fa565",
       "version_major": 2,
       "version_minor": 0
      },
      "text/plain": [
       "Making ensembles:   0%|          | 0/1 [00:00<?, ?it/s]"
      ]
     },
     "metadata": {},
     "output_type": "display_data"
    },
    {
     "data": {
      "application/vnd.jupyter.widget-view+json": {
       "model_id": "d6e00a4779ee4e09803004471da6be31",
       "version_major": 2,
       "version_minor": 0
      },
      "text/plain": [
       "network dynamic:   0%|          | 0/9999 [00:00<?, ?it/s]"
      ]
     },
     "metadata": {},
     "output_type": "display_data"
    },
    {
     "data": {
      "application/vnd.jupyter.widget-view+json": {
       "model_id": "f172d28f8f594df48fcc14e7a6eae3f0",
       "version_major": 2,
       "version_minor": 0
      },
      "text/plain": [
       "Variation of delay:   0%|          | 0/13 [00:00<?, ?it/s]"
      ]
     },
     "metadata": {},
     "output_type": "display_data"
    },
    {
     "data": {
      "application/vnd.jupyter.widget-view+json": {
       "model_id": "a29d7ad2bb6649dd913dbbcf756a9012",
       "version_major": 2,
       "version_minor": 0
      },
      "text/plain": [
       "Variation of alpha:   0%|          | 0/1 [00:00<?, ?it/s]"
      ]
     },
     "metadata": {},
     "output_type": "display_data"
    },
    {
     "data": {
      "application/vnd.jupyter.widget-view+json": {
       "model_id": "583b8169bdd144cfa6b7993eaf086a79",
       "version_major": 2,
       "version_minor": 0
      },
      "text/plain": [
       "Making ensembles:   0%|          | 0/1 [00:00<?, ?it/s]"
      ]
     },
     "metadata": {},
     "output_type": "display_data"
    },
    {
     "data": {
      "application/vnd.jupyter.widget-view+json": {
       "model_id": "f1852bef419b4c2abb16e9f83c01b2d1",
       "version_major": 2,
       "version_minor": 0
      },
      "text/plain": [
       "network dynamic:   0%|          | 0/9999 [00:00<?, ?it/s]"
      ]
     },
     "metadata": {},
     "output_type": "display_data"
    },
    {
     "data": {
      "application/vnd.jupyter.widget-view+json": {
       "model_id": "cf4336183757451e90ee3a63067b72c0",
       "version_major": 2,
       "version_minor": 0
      },
      "text/plain": [
       "Variation of alpha:   0%|          | 0/1 [00:00<?, ?it/s]"
      ]
     },
     "metadata": {},
     "output_type": "display_data"
    },
    {
     "data": {
      "application/vnd.jupyter.widget-view+json": {
       "model_id": "e2889404bc274a85adceee969746c732",
       "version_major": 2,
       "version_minor": 0
      },
      "text/plain": [
       "Making ensembles:   0%|          | 0/1 [00:00<?, ?it/s]"
      ]
     },
     "metadata": {},
     "output_type": "display_data"
    },
    {
     "data": {
      "application/vnd.jupyter.widget-view+json": {
       "model_id": "df463b2a03e7477894d825f8d4dd363b",
       "version_major": 2,
       "version_minor": 0
      },
      "text/plain": [
       "network dynamic:   0%|          | 0/9999 [00:00<?, ?it/s]"
      ]
     },
     "metadata": {},
     "output_type": "display_data"
    },
    {
     "data": {
      "application/vnd.jupyter.widget-view+json": {
       "model_id": "319f6dee64bb4a04801dbb347fc398e8",
       "version_major": 2,
       "version_minor": 0
      },
      "text/plain": [
       "Variation of alpha:   0%|          | 0/1 [00:00<?, ?it/s]"
      ]
     },
     "metadata": {},
     "output_type": "display_data"
    },
    {
     "data": {
      "application/vnd.jupyter.widget-view+json": {
       "model_id": "a61975e4c29048b3b63af47208bf999c",
       "version_major": 2,
       "version_minor": 0
      },
      "text/plain": [
       "Making ensembles:   0%|          | 0/1 [00:00<?, ?it/s]"
      ]
     },
     "metadata": {},
     "output_type": "display_data"
    },
    {
     "data": {
      "application/vnd.jupyter.widget-view+json": {
       "model_id": "bc69b361519d45399ec0f1b4973c9bda",
       "version_major": 2,
       "version_minor": 0
      },
      "text/plain": [
       "network dynamic:   0%|          | 0/9999 [00:00<?, ?it/s]"
      ]
     },
     "metadata": {},
     "output_type": "display_data"
    },
    {
     "data": {
      "application/vnd.jupyter.widget-view+json": {
       "model_id": "db3ef0561494468fa5551d16a2ab0d3a",
       "version_major": 2,
       "version_minor": 0
      },
      "text/plain": [
       "Variation of alpha:   0%|          | 0/1 [00:00<?, ?it/s]"
      ]
     },
     "metadata": {},
     "output_type": "display_data"
    },
    {
     "data": {
      "application/vnd.jupyter.widget-view+json": {
       "model_id": "21958ae64a29491e8fd932bd961a227b",
       "version_major": 2,
       "version_minor": 0
      },
      "text/plain": [
       "Making ensembles:   0%|          | 0/1 [00:00<?, ?it/s]"
      ]
     },
     "metadata": {},
     "output_type": "display_data"
    },
    {
     "data": {
      "application/vnd.jupyter.widget-view+json": {
       "model_id": "ab78e5023c3f46d782399ae2f3aa55c8",
       "version_major": 2,
       "version_minor": 0
      },
      "text/plain": [
       "network dynamic:   0%|          | 0/9999 [00:00<?, ?it/s]"
      ]
     },
     "metadata": {},
     "output_type": "display_data"
    },
    {
     "data": {
      "application/vnd.jupyter.widget-view+json": {
       "model_id": "463967a66a164b8d967051e0eefeb8ff",
       "version_major": 2,
       "version_minor": 0
      },
      "text/plain": [
       "Variation of alpha:   0%|          | 0/1 [00:00<?, ?it/s]"
      ]
     },
     "metadata": {},
     "output_type": "display_data"
    },
    {
     "data": {
      "application/vnd.jupyter.widget-view+json": {
       "model_id": "7af8315a54064f25ba61627abe671a1a",
       "version_major": 2,
       "version_minor": 0
      },
      "text/plain": [
       "Making ensembles:   0%|          | 0/1 [00:00<?, ?it/s]"
      ]
     },
     "metadata": {},
     "output_type": "display_data"
    },
    {
     "data": {
      "application/vnd.jupyter.widget-view+json": {
       "model_id": "db997ad8e3544edd9162c53551a96ad3",
       "version_major": 2,
       "version_minor": 0
      },
      "text/plain": [
       "network dynamic:   0%|          | 0/9999 [00:00<?, ?it/s]"
      ]
     },
     "metadata": {},
     "output_type": "display_data"
    },
    {
     "data": {
      "application/vnd.jupyter.widget-view+json": {
       "model_id": "27446e759fc140b59c2a7f7217965c79",
       "version_major": 2,
       "version_minor": 0
      },
      "text/plain": [
       "Variation of alpha:   0%|          | 0/1 [00:00<?, ?it/s]"
      ]
     },
     "metadata": {},
     "output_type": "display_data"
    },
    {
     "data": {
      "application/vnd.jupyter.widget-view+json": {
       "model_id": "6eb8c1727d064bc090ef24f5fa33a1d9",
       "version_major": 2,
       "version_minor": 0
      },
      "text/plain": [
       "Making ensembles:   0%|          | 0/1 [00:00<?, ?it/s]"
      ]
     },
     "metadata": {},
     "output_type": "display_data"
    },
    {
     "data": {
      "application/vnd.jupyter.widget-view+json": {
       "model_id": "11476b24dc5f417db6267b8a0e7ced0a",
       "version_major": 2,
       "version_minor": 0
      },
      "text/plain": [
       "network dynamic:   0%|          | 0/9999 [00:00<?, ?it/s]"
      ]
     },
     "metadata": {},
     "output_type": "display_data"
    },
    {
     "data": {
      "application/vnd.jupyter.widget-view+json": {
       "model_id": "f6a6d69d3e354555a518ed8a6afbc066",
       "version_major": 2,
       "version_minor": 0
      },
      "text/plain": [
       "Variation of alpha:   0%|          | 0/1 [00:00<?, ?it/s]"
      ]
     },
     "metadata": {},
     "output_type": "display_data"
    },
    {
     "data": {
      "application/vnd.jupyter.widget-view+json": {
       "model_id": "5baafa0c444a434ca7f9d4a34b706608",
       "version_major": 2,
       "version_minor": 0
      },
      "text/plain": [
       "Making ensembles:   0%|          | 0/1 [00:00<?, ?it/s]"
      ]
     },
     "metadata": {},
     "output_type": "display_data"
    },
    {
     "data": {
      "application/vnd.jupyter.widget-view+json": {
       "model_id": "72abaa7690ae4256bbfbd7d4a578871d",
       "version_major": 2,
       "version_minor": 0
      },
      "text/plain": [
       "network dynamic:   0%|          | 0/9999 [00:00<?, ?it/s]"
      ]
     },
     "metadata": {},
     "output_type": "display_data"
    },
    {
     "data": {
      "application/vnd.jupyter.widget-view+json": {
       "model_id": "0b050e811fe84bdc88480e77ea059897",
       "version_major": 2,
       "version_minor": 0
      },
      "text/plain": [
       "Variation of alpha:   0%|          | 0/1 [00:00<?, ?it/s]"
      ]
     },
     "metadata": {},
     "output_type": "display_data"
    },
    {
     "data": {
      "application/vnd.jupyter.widget-view+json": {
       "model_id": "21060625e984469796cbd20e99e47268",
       "version_major": 2,
       "version_minor": 0
      },
      "text/plain": [
       "Making ensembles:   0%|          | 0/1 [00:00<?, ?it/s]"
      ]
     },
     "metadata": {},
     "output_type": "display_data"
    },
    {
     "data": {
      "application/vnd.jupyter.widget-view+json": {
       "model_id": "f9bd1f0fceed40f1a2e4b5e3ada12491",
       "version_major": 2,
       "version_minor": 0
      },
      "text/plain": [
       "network dynamic:   0%|          | 0/9999 [00:00<?, ?it/s]"
      ]
     },
     "metadata": {},
     "output_type": "display_data"
    },
    {
     "data": {
      "application/vnd.jupyter.widget-view+json": {
       "model_id": "9680b9d061894d2e807045d467a5eb10",
       "version_major": 2,
       "version_minor": 0
      },
      "text/plain": [
       "Variation of alpha:   0%|          | 0/1 [00:00<?, ?it/s]"
      ]
     },
     "metadata": {},
     "output_type": "display_data"
    },
    {
     "data": {
      "application/vnd.jupyter.widget-view+json": {
       "model_id": "b300bf58a49244a7912819681e445d66",
       "version_major": 2,
       "version_minor": 0
      },
      "text/plain": [
       "Making ensembles:   0%|          | 0/1 [00:00<?, ?it/s]"
      ]
     },
     "metadata": {},
     "output_type": "display_data"
    },
    {
     "data": {
      "application/vnd.jupyter.widget-view+json": {
       "model_id": "80abecf3a58749b8b75cb1d6e2884c05",
       "version_major": 2,
       "version_minor": 0
      },
      "text/plain": [
       "network dynamic:   0%|          | 0/9999 [00:00<?, ?it/s]"
      ]
     },
     "metadata": {},
     "output_type": "display_data"
    },
    {
     "data": {
      "application/vnd.jupyter.widget-view+json": {
       "model_id": "ece2f6b33a6944bea18f5cb8b4f15556",
       "version_major": 2,
       "version_minor": 0
      },
      "text/plain": [
       "Variation of alpha:   0%|          | 0/1 [00:00<?, ?it/s]"
      ]
     },
     "metadata": {},
     "output_type": "display_data"
    },
    {
     "data": {
      "application/vnd.jupyter.widget-view+json": {
       "model_id": "110358593fdc4ddfa71b898cc0601451",
       "version_major": 2,
       "version_minor": 0
      },
      "text/plain": [
       "Making ensembles:   0%|          | 0/1 [00:00<?, ?it/s]"
      ]
     },
     "metadata": {},
     "output_type": "display_data"
    },
    {
     "data": {
      "application/vnd.jupyter.widget-view+json": {
       "model_id": "0cc8329970b24e8f962dca923642559c",
       "version_major": 2,
       "version_minor": 0
      },
      "text/plain": [
       "network dynamic:   0%|          | 0/9999 [00:00<?, ?it/s]"
      ]
     },
     "metadata": {},
     "output_type": "display_data"
    },
    {
     "data": {
      "application/vnd.jupyter.widget-view+json": {
       "model_id": "f63003b108de4565846743c0753a7b46",
       "version_major": 2,
       "version_minor": 0
      },
      "text/plain": [
       "Variation of alpha:   0%|          | 0/1 [00:00<?, ?it/s]"
      ]
     },
     "metadata": {},
     "output_type": "display_data"
    },
    {
     "data": {
      "application/vnd.jupyter.widget-view+json": {
       "model_id": "f69fd48acf564223a8b3d1d4ec327efc",
       "version_major": 2,
       "version_minor": 0
      },
      "text/plain": [
       "Making ensembles:   0%|          | 0/1 [00:00<?, ?it/s]"
      ]
     },
     "metadata": {},
     "output_type": "display_data"
    },
    {
     "data": {
      "application/vnd.jupyter.widget-view+json": {
       "model_id": "00908b006a0b4d68987540a1f6c68d3b",
       "version_major": 2,
       "version_minor": 0
      },
      "text/plain": [
       "network dynamic:   0%|          | 0/9999 [00:00<?, ?it/s]"
      ]
     },
     "metadata": {},
     "output_type": "display_data"
    },
    {
     "data": {
      "application/vnd.jupyter.widget-view+json": {
       "model_id": "d66823dde37b47d4b3c9543e6d7b0e90",
       "version_major": 2,
       "version_minor": 0
      },
      "text/plain": [
       "Variation of alpha:   0%|          | 0/1 [00:00<?, ?it/s]"
      ]
     },
     "metadata": {},
     "output_type": "display_data"
    },
    {
     "data": {
      "application/vnd.jupyter.widget-view+json": {
       "model_id": "dcdf841b7c2645e2be9b819185bc1515",
       "version_major": 2,
       "version_minor": 0
      },
      "text/plain": [
       "Making ensembles:   0%|          | 0/1 [00:00<?, ?it/s]"
      ]
     },
     "metadata": {},
     "output_type": "display_data"
    },
    {
     "data": {
      "application/vnd.jupyter.widget-view+json": {
       "model_id": "a004f57427f548d187ffe2f053acd8b1",
       "version_major": 2,
       "version_minor": 0
      },
      "text/plain": [
       "network dynamic:   0%|          | 0/9999 [00:00<?, ?it/s]"
      ]
     },
     "metadata": {},
     "output_type": "display_data"
    },
    {
     "data": {
      "application/vnd.jupyter.widget-view+json": {
       "model_id": "c00eed89a6b84f288a2a62f17272df99",
       "version_major": 2,
       "version_minor": 0
      },
      "text/plain": [
       "Variation of alpha:   0%|          | 0/1 [00:00<?, ?it/s]"
      ]
     },
     "metadata": {},
     "output_type": "display_data"
    },
    {
     "data": {
      "application/vnd.jupyter.widget-view+json": {
       "model_id": "1431935b8b5d4051bc0c1c81200b7534",
       "version_major": 2,
       "version_minor": 0
      },
      "text/plain": [
       "Making ensembles:   0%|          | 0/1 [00:00<?, ?it/s]"
      ]
     },
     "metadata": {},
     "output_type": "display_data"
    },
    {
     "data": {
      "application/vnd.jupyter.widget-view+json": {
       "model_id": "90667cc5b7c84e05979dadc11493426c",
       "version_major": 2,
       "version_minor": 0
      },
      "text/plain": [
       "network dynamic:   0%|          | 0/9999 [00:00<?, ?it/s]"
      ]
     },
     "metadata": {},
     "output_type": "display_data"
    },
    {
     "data": {
      "application/vnd.jupyter.widget-view+json": {
       "model_id": "64a08cdc2b8c4ad3a9ca9727fbacb0e3",
       "version_major": 2,
       "version_minor": 0
      },
      "text/plain": [
       "Variation of delay:   0%|          | 0/13 [00:00<?, ?it/s]"
      ]
     },
     "metadata": {},
     "output_type": "display_data"
    },
    {
     "data": {
      "application/vnd.jupyter.widget-view+json": {
       "model_id": "8499c6f84d8f4c928b8119fcfe16d050",
       "version_major": 2,
       "version_minor": 0
      },
      "text/plain": [
       "Variation of alpha:   0%|          | 0/1 [00:00<?, ?it/s]"
      ]
     },
     "metadata": {},
     "output_type": "display_data"
    },
    {
     "data": {
      "application/vnd.jupyter.widget-view+json": {
       "model_id": "1f9b969e20f5499eb5a494b9e59a2581",
       "version_major": 2,
       "version_minor": 0
      },
      "text/plain": [
       "Making ensembles:   0%|          | 0/1 [00:00<?, ?it/s]"
      ]
     },
     "metadata": {},
     "output_type": "display_data"
    },
    {
     "data": {
      "application/vnd.jupyter.widget-view+json": {
       "model_id": "66ba37f3f05c4947b2ebc82e6bdd843f",
       "version_major": 2,
       "version_minor": 0
      },
      "text/plain": [
       "network dynamic:   0%|          | 0/9999 [00:00<?, ?it/s]"
      ]
     },
     "metadata": {},
     "output_type": "display_data"
    },
    {
     "data": {
      "application/vnd.jupyter.widget-view+json": {
       "model_id": "96d3c5ff6c4e48fb85453acead7c8b92",
       "version_major": 2,
       "version_minor": 0
      },
      "text/plain": [
       "Variation of alpha:   0%|          | 0/1 [00:00<?, ?it/s]"
      ]
     },
     "metadata": {},
     "output_type": "display_data"
    },
    {
     "data": {
      "application/vnd.jupyter.widget-view+json": {
       "model_id": "870e9819232e4d46862333efc363021e",
       "version_major": 2,
       "version_minor": 0
      },
      "text/plain": [
       "Making ensembles:   0%|          | 0/1 [00:00<?, ?it/s]"
      ]
     },
     "metadata": {},
     "output_type": "display_data"
    },
    {
     "data": {
      "application/vnd.jupyter.widget-view+json": {
       "model_id": "cf26d51e71a94fdc92affd7f47252d04",
       "version_major": 2,
       "version_minor": 0
      },
      "text/plain": [
       "network dynamic:   0%|          | 0/9999 [00:00<?, ?it/s]"
      ]
     },
     "metadata": {},
     "output_type": "display_data"
    },
    {
     "data": {
      "application/vnd.jupyter.widget-view+json": {
       "model_id": "27bd9f67913a4b32954c8a0f1f94f51a",
       "version_major": 2,
       "version_minor": 0
      },
      "text/plain": [
       "Variation of alpha:   0%|          | 0/1 [00:00<?, ?it/s]"
      ]
     },
     "metadata": {},
     "output_type": "display_data"
    },
    {
     "data": {
      "application/vnd.jupyter.widget-view+json": {
       "model_id": "dd158939555d4239a60a4f18d5155887",
       "version_major": 2,
       "version_minor": 0
      },
      "text/plain": [
       "Making ensembles:   0%|          | 0/1 [00:00<?, ?it/s]"
      ]
     },
     "metadata": {},
     "output_type": "display_data"
    },
    {
     "data": {
      "application/vnd.jupyter.widget-view+json": {
       "model_id": "de63bccbaa314316bffa60b8b059506a",
       "version_major": 2,
       "version_minor": 0
      },
      "text/plain": [
       "network dynamic:   0%|          | 0/9999 [00:00<?, ?it/s]"
      ]
     },
     "metadata": {},
     "output_type": "display_data"
    },
    {
     "data": {
      "application/vnd.jupyter.widget-view+json": {
       "model_id": "b2b28f1958e448c1b4486efd08368015",
       "version_major": 2,
       "version_minor": 0
      },
      "text/plain": [
       "Variation of alpha:   0%|          | 0/1 [00:00<?, ?it/s]"
      ]
     },
     "metadata": {},
     "output_type": "display_data"
    },
    {
     "data": {
      "application/vnd.jupyter.widget-view+json": {
       "model_id": "5c0e0b20a3d54aad88513a63327c2100",
       "version_major": 2,
       "version_minor": 0
      },
      "text/plain": [
       "Making ensembles:   0%|          | 0/1 [00:00<?, ?it/s]"
      ]
     },
     "metadata": {},
     "output_type": "display_data"
    },
    {
     "data": {
      "application/vnd.jupyter.widget-view+json": {
       "model_id": "2ee60ccd775b48048625aabd4c75232b",
       "version_major": 2,
       "version_minor": 0
      },
      "text/plain": [
       "network dynamic:   0%|          | 0/9999 [00:00<?, ?it/s]"
      ]
     },
     "metadata": {},
     "output_type": "display_data"
    },
    {
     "data": {
      "application/vnd.jupyter.widget-view+json": {
       "model_id": "a96bae3d47354b22a622622adf8f5aaa",
       "version_major": 2,
       "version_minor": 0
      },
      "text/plain": [
       "Variation of alpha:   0%|          | 0/1 [00:00<?, ?it/s]"
      ]
     },
     "metadata": {},
     "output_type": "display_data"
    },
    {
     "data": {
      "application/vnd.jupyter.widget-view+json": {
       "model_id": "f0ba3e990320423c88ac0f0612f125bd",
       "version_major": 2,
       "version_minor": 0
      },
      "text/plain": [
       "Making ensembles:   0%|          | 0/1 [00:00<?, ?it/s]"
      ]
     },
     "metadata": {},
     "output_type": "display_data"
    },
    {
     "data": {
      "application/vnd.jupyter.widget-view+json": {
       "model_id": "ed1b568b2af44f299fc70cce328a5e9e",
       "version_major": 2,
       "version_minor": 0
      },
      "text/plain": [
       "network dynamic:   0%|          | 0/9999 [00:00<?, ?it/s]"
      ]
     },
     "metadata": {},
     "output_type": "display_data"
    },
    {
     "data": {
      "application/vnd.jupyter.widget-view+json": {
       "model_id": "ff04a5a1c84f4c72916eda2e5a984db4",
       "version_major": 2,
       "version_minor": 0
      },
      "text/plain": [
       "Variation of alpha:   0%|          | 0/1 [00:00<?, ?it/s]"
      ]
     },
     "metadata": {},
     "output_type": "display_data"
    },
    {
     "data": {
      "application/vnd.jupyter.widget-view+json": {
       "model_id": "ff81a8f5ffce4ae0b240279525c916b8",
       "version_major": 2,
       "version_minor": 0
      },
      "text/plain": [
       "Making ensembles:   0%|          | 0/1 [00:00<?, ?it/s]"
      ]
     },
     "metadata": {},
     "output_type": "display_data"
    },
    {
     "data": {
      "application/vnd.jupyter.widget-view+json": {
       "model_id": "a384ab09f066440cb32addb4ddc020b0",
       "version_major": 2,
       "version_minor": 0
      },
      "text/plain": [
       "network dynamic:   0%|          | 0/9999 [00:00<?, ?it/s]"
      ]
     },
     "metadata": {},
     "output_type": "display_data"
    },
    {
     "data": {
      "application/vnd.jupyter.widget-view+json": {
       "model_id": "c7c3cd8b74c14eb4980de031ed6520da",
       "version_major": 2,
       "version_minor": 0
      },
      "text/plain": [
       "Variation of alpha:   0%|          | 0/1 [00:00<?, ?it/s]"
      ]
     },
     "metadata": {},
     "output_type": "display_data"
    },
    {
     "data": {
      "application/vnd.jupyter.widget-view+json": {
       "model_id": "c94efb36209741d496a78cd0a95c283c",
       "version_major": 2,
       "version_minor": 0
      },
      "text/plain": [
       "Making ensembles:   0%|          | 0/1 [00:00<?, ?it/s]"
      ]
     },
     "metadata": {},
     "output_type": "display_data"
    },
    {
     "data": {
      "application/vnd.jupyter.widget-view+json": {
       "model_id": "10c8f4f4ce0d40be91bebdb7d0d7f188",
       "version_major": 2,
       "version_minor": 0
      },
      "text/plain": [
       "network dynamic:   0%|          | 0/9999 [00:00<?, ?it/s]"
      ]
     },
     "metadata": {},
     "output_type": "display_data"
    },
    {
     "data": {
      "application/vnd.jupyter.widget-view+json": {
       "model_id": "d2d91c53f9ed461d8da52d20bbc06ff8",
       "version_major": 2,
       "version_minor": 0
      },
      "text/plain": [
       "Variation of alpha:   0%|          | 0/1 [00:00<?, ?it/s]"
      ]
     },
     "metadata": {},
     "output_type": "display_data"
    },
    {
     "data": {
      "application/vnd.jupyter.widget-view+json": {
       "model_id": "c67ac6f7037d4a538a2b3407e905ce20",
       "version_major": 2,
       "version_minor": 0
      },
      "text/plain": [
       "Making ensembles:   0%|          | 0/1 [00:00<?, ?it/s]"
      ]
     },
     "metadata": {},
     "output_type": "display_data"
    },
    {
     "data": {
      "application/vnd.jupyter.widget-view+json": {
       "model_id": "bf923fb6abec44aab0f2ea28c45b4b7e",
       "version_major": 2,
       "version_minor": 0
      },
      "text/plain": [
       "network dynamic:   0%|          | 0/9999 [00:00<?, ?it/s]"
      ]
     },
     "metadata": {},
     "output_type": "display_data"
    },
    {
     "data": {
      "application/vnd.jupyter.widget-view+json": {
       "model_id": "4f5a568a28ed401bbe343d49e64c84c8",
       "version_major": 2,
       "version_minor": 0
      },
      "text/plain": [
       "Variation of alpha:   0%|          | 0/1 [00:00<?, ?it/s]"
      ]
     },
     "metadata": {},
     "output_type": "display_data"
    },
    {
     "data": {
      "application/vnd.jupyter.widget-view+json": {
       "model_id": "45b59b13a57b40638de60533c0885d80",
       "version_major": 2,
       "version_minor": 0
      },
      "text/plain": [
       "Making ensembles:   0%|          | 0/1 [00:00<?, ?it/s]"
      ]
     },
     "metadata": {},
     "output_type": "display_data"
    },
    {
     "data": {
      "application/vnd.jupyter.widget-view+json": {
       "model_id": "8b012bf0502641f0b0f6ab0996c04594",
       "version_major": 2,
       "version_minor": 0
      },
      "text/plain": [
       "network dynamic:   0%|          | 0/9999 [00:00<?, ?it/s]"
      ]
     },
     "metadata": {},
     "output_type": "display_data"
    },
    {
     "data": {
      "application/vnd.jupyter.widget-view+json": {
       "model_id": "6b673c7f8e584c129a9d4e22e8593d7e",
       "version_major": 2,
       "version_minor": 0
      },
      "text/plain": [
       "Variation of alpha:   0%|          | 0/1 [00:00<?, ?it/s]"
      ]
     },
     "metadata": {},
     "output_type": "display_data"
    },
    {
     "data": {
      "application/vnd.jupyter.widget-view+json": {
       "model_id": "18278ac9ec58440e82a6e27ec10e5184",
       "version_major": 2,
       "version_minor": 0
      },
      "text/plain": [
       "Making ensembles:   0%|          | 0/1 [00:00<?, ?it/s]"
      ]
     },
     "metadata": {},
     "output_type": "display_data"
    },
    {
     "data": {
      "application/vnd.jupyter.widget-view+json": {
       "model_id": "dda1420a94704097b7e78516c84c3c28",
       "version_major": 2,
       "version_minor": 0
      },
      "text/plain": [
       "network dynamic:   0%|          | 0/9999 [00:00<?, ?it/s]"
      ]
     },
     "metadata": {},
     "output_type": "display_data"
    },
    {
     "data": {
      "application/vnd.jupyter.widget-view+json": {
       "model_id": "26172df35d6d4522980b1d7a95371bfb",
       "version_major": 2,
       "version_minor": 0
      },
      "text/plain": [
       "Variation of alpha:   0%|          | 0/1 [00:00<?, ?it/s]"
      ]
     },
     "metadata": {},
     "output_type": "display_data"
    },
    {
     "data": {
      "application/vnd.jupyter.widget-view+json": {
       "model_id": "91b9fed565c84315bc9b21c04332aa93",
       "version_major": 2,
       "version_minor": 0
      },
      "text/plain": [
       "Making ensembles:   0%|          | 0/1 [00:00<?, ?it/s]"
      ]
     },
     "metadata": {},
     "output_type": "display_data"
    },
    {
     "data": {
      "application/vnd.jupyter.widget-view+json": {
       "model_id": "600b8007959d4511a9d1f3b0406dcf30",
       "version_major": 2,
       "version_minor": 0
      },
      "text/plain": [
       "network dynamic:   0%|          | 0/9999 [00:00<?, ?it/s]"
      ]
     },
     "metadata": {},
     "output_type": "display_data"
    },
    {
     "data": {
      "application/vnd.jupyter.widget-view+json": {
       "model_id": "cef0a1fb7c0f4dab8fb04e9f5839461b",
       "version_major": 2,
       "version_minor": 0
      },
      "text/plain": [
       "Variation of alpha:   0%|          | 0/1 [00:00<?, ?it/s]"
      ]
     },
     "metadata": {},
     "output_type": "display_data"
    },
    {
     "data": {
      "application/vnd.jupyter.widget-view+json": {
       "model_id": "12b608ba55b5490f9479cb698329a730",
       "version_major": 2,
       "version_minor": 0
      },
      "text/plain": [
       "Making ensembles:   0%|          | 0/1 [00:00<?, ?it/s]"
      ]
     },
     "metadata": {},
     "output_type": "display_data"
    },
    {
     "data": {
      "application/vnd.jupyter.widget-view+json": {
       "model_id": "d165b849d40a425bb887903a3aa0d098",
       "version_major": 2,
       "version_minor": 0
      },
      "text/plain": [
       "network dynamic:   0%|          | 0/9999 [00:00<?, ?it/s]"
      ]
     },
     "metadata": {},
     "output_type": "display_data"
    },
    {
     "data": {
      "application/vnd.jupyter.widget-view+json": {
       "model_id": "f44440b4ba5645d397576bb62e662607",
       "version_major": 2,
       "version_minor": 0
      },
      "text/plain": [
       "Variation of alpha:   0%|          | 0/1 [00:00<?, ?it/s]"
      ]
     },
     "metadata": {},
     "output_type": "display_data"
    },
    {
     "data": {
      "application/vnd.jupyter.widget-view+json": {
       "model_id": "b46d24cac6ca46f38c410e8f3c296c75",
       "version_major": 2,
       "version_minor": 0
      },
      "text/plain": [
       "Making ensembles:   0%|          | 0/1 [00:00<?, ?it/s]"
      ]
     },
     "metadata": {},
     "output_type": "display_data"
    },
    {
     "data": {
      "application/vnd.jupyter.widget-view+json": {
       "model_id": "571a4a3d58f94dbd9ba1c19aa142f558",
       "version_major": 2,
       "version_minor": 0
      },
      "text/plain": [
       "network dynamic:   0%|          | 0/9999 [00:00<?, ?it/s]"
      ]
     },
     "metadata": {},
     "output_type": "display_data"
    },
    {
     "data": {
      "application/vnd.jupyter.widget-view+json": {
       "model_id": "01fdcaadc27f4639a6d23a6261f0788c",
       "version_major": 2,
       "version_minor": 0
      },
      "text/plain": [
       "Variation of delay:   0%|          | 0/13 [00:00<?, ?it/s]"
      ]
     },
     "metadata": {},
     "output_type": "display_data"
    },
    {
     "data": {
      "application/vnd.jupyter.widget-view+json": {
       "model_id": "8ffa46dd1d8946dbbc235f9149664743",
       "version_major": 2,
       "version_minor": 0
      },
      "text/plain": [
       "Variation of alpha:   0%|          | 0/1 [00:00<?, ?it/s]"
      ]
     },
     "metadata": {},
     "output_type": "display_data"
    },
    {
     "data": {
      "application/vnd.jupyter.widget-view+json": {
       "model_id": "a08cb050c07a433d8d03d1a3441d28d2",
       "version_major": 2,
       "version_minor": 0
      },
      "text/plain": [
       "Making ensembles:   0%|          | 0/1 [00:00<?, ?it/s]"
      ]
     },
     "metadata": {},
     "output_type": "display_data"
    },
    {
     "data": {
      "application/vnd.jupyter.widget-view+json": {
       "model_id": "5ff6263c42024e558f06b08815ef783b",
       "version_major": 2,
       "version_minor": 0
      },
      "text/plain": [
       "network dynamic:   0%|          | 0/9999 [00:00<?, ?it/s]"
      ]
     },
     "metadata": {},
     "output_type": "display_data"
    },
    {
     "data": {
      "application/vnd.jupyter.widget-view+json": {
       "model_id": "354dc2dca85b42419945d6d09f209684",
       "version_major": 2,
       "version_minor": 0
      },
      "text/plain": [
       "Variation of alpha:   0%|          | 0/1 [00:00<?, ?it/s]"
      ]
     },
     "metadata": {},
     "output_type": "display_data"
    },
    {
     "data": {
      "application/vnd.jupyter.widget-view+json": {
       "model_id": "0318dc19065a4c88bd731ebc9963ca2d",
       "version_major": 2,
       "version_minor": 0
      },
      "text/plain": [
       "Making ensembles:   0%|          | 0/1 [00:00<?, ?it/s]"
      ]
     },
     "metadata": {},
     "output_type": "display_data"
    },
    {
     "data": {
      "application/vnd.jupyter.widget-view+json": {
       "model_id": "34b36649cecb4eab883226b14c109ddf",
       "version_major": 2,
       "version_minor": 0
      },
      "text/plain": [
       "network dynamic:   0%|          | 0/9999 [00:00<?, ?it/s]"
      ]
     },
     "metadata": {},
     "output_type": "display_data"
    },
    {
     "data": {
      "application/vnd.jupyter.widget-view+json": {
       "model_id": "b081ba02705b41f6ad39cb9f9757a3d7",
       "version_major": 2,
       "version_minor": 0
      },
      "text/plain": [
       "Variation of alpha:   0%|          | 0/1 [00:00<?, ?it/s]"
      ]
     },
     "metadata": {},
     "output_type": "display_data"
    },
    {
     "data": {
      "application/vnd.jupyter.widget-view+json": {
       "model_id": "64e393c76d2747ccaffb3a9c4c917cce",
       "version_major": 2,
       "version_minor": 0
      },
      "text/plain": [
       "Making ensembles:   0%|          | 0/1 [00:00<?, ?it/s]"
      ]
     },
     "metadata": {},
     "output_type": "display_data"
    },
    {
     "data": {
      "application/vnd.jupyter.widget-view+json": {
       "model_id": "0b65da7bb0d54145b483dc3e4a1332a7",
       "version_major": 2,
       "version_minor": 0
      },
      "text/plain": [
       "network dynamic:   0%|          | 0/9999 [00:00<?, ?it/s]"
      ]
     },
     "metadata": {},
     "output_type": "display_data"
    },
    {
     "data": {
      "application/vnd.jupyter.widget-view+json": {
       "model_id": "fd025fe856044fb28ec2e02d8730f427",
       "version_major": 2,
       "version_minor": 0
      },
      "text/plain": [
       "Variation of alpha:   0%|          | 0/1 [00:00<?, ?it/s]"
      ]
     },
     "metadata": {},
     "output_type": "display_data"
    },
    {
     "data": {
      "application/vnd.jupyter.widget-view+json": {
       "model_id": "3dc76c9d6ba840c7941e5d608ec5f48c",
       "version_major": 2,
       "version_minor": 0
      },
      "text/plain": [
       "Making ensembles:   0%|          | 0/1 [00:00<?, ?it/s]"
      ]
     },
     "metadata": {},
     "output_type": "display_data"
    },
    {
     "data": {
      "application/vnd.jupyter.widget-view+json": {
       "model_id": "fc10197eabb345b59b9494bdf8e3e020",
       "version_major": 2,
       "version_minor": 0
      },
      "text/plain": [
       "network dynamic:   0%|          | 0/9999 [00:00<?, ?it/s]"
      ]
     },
     "metadata": {},
     "output_type": "display_data"
    },
    {
     "data": {
      "application/vnd.jupyter.widget-view+json": {
       "model_id": "2a3df591bd144faf9b0c203c8522aa79",
       "version_major": 2,
       "version_minor": 0
      },
      "text/plain": [
       "Variation of alpha:   0%|          | 0/1 [00:00<?, ?it/s]"
      ]
     },
     "metadata": {},
     "output_type": "display_data"
    },
    {
     "data": {
      "application/vnd.jupyter.widget-view+json": {
       "model_id": "97e1b1ce3f8e46db96fa700e24469697",
       "version_major": 2,
       "version_minor": 0
      },
      "text/plain": [
       "Making ensembles:   0%|          | 0/1 [00:00<?, ?it/s]"
      ]
     },
     "metadata": {},
     "output_type": "display_data"
    },
    {
     "data": {
      "application/vnd.jupyter.widget-view+json": {
       "model_id": "b9594b6af3a749a8811ccc78da407027",
       "version_major": 2,
       "version_minor": 0
      },
      "text/plain": [
       "network dynamic:   0%|          | 0/9999 [00:00<?, ?it/s]"
      ]
     },
     "metadata": {},
     "output_type": "display_data"
    },
    {
     "data": {
      "application/vnd.jupyter.widget-view+json": {
       "model_id": "ce30adb406b048e5b6f50fc4bf8eaa6e",
       "version_major": 2,
       "version_minor": 0
      },
      "text/plain": [
       "Variation of alpha:   0%|          | 0/1 [00:00<?, ?it/s]"
      ]
     },
     "metadata": {},
     "output_type": "display_data"
    },
    {
     "data": {
      "application/vnd.jupyter.widget-view+json": {
       "model_id": "6ba88912b32b44e18497fa8640943f66",
       "version_major": 2,
       "version_minor": 0
      },
      "text/plain": [
       "Making ensembles:   0%|          | 0/1 [00:00<?, ?it/s]"
      ]
     },
     "metadata": {},
     "output_type": "display_data"
    },
    {
     "data": {
      "application/vnd.jupyter.widget-view+json": {
       "model_id": "4d241fe07b52414a97d730b4001060ad",
       "version_major": 2,
       "version_minor": 0
      },
      "text/plain": [
       "network dynamic:   0%|          | 0/9999 [00:00<?, ?it/s]"
      ]
     },
     "metadata": {},
     "output_type": "display_data"
    },
    {
     "data": {
      "application/vnd.jupyter.widget-view+json": {
       "model_id": "d67587cc1c3b4dc5aded0742d185f3a3",
       "version_major": 2,
       "version_minor": 0
      },
      "text/plain": [
       "Variation of alpha:   0%|          | 0/1 [00:00<?, ?it/s]"
      ]
     },
     "metadata": {},
     "output_type": "display_data"
    },
    {
     "data": {
      "application/vnd.jupyter.widget-view+json": {
       "model_id": "0485a79b53014e299d05edf323762743",
       "version_major": 2,
       "version_minor": 0
      },
      "text/plain": [
       "Making ensembles:   0%|          | 0/1 [00:00<?, ?it/s]"
      ]
     },
     "metadata": {},
     "output_type": "display_data"
    },
    {
     "data": {
      "application/vnd.jupyter.widget-view+json": {
       "model_id": "bf89efcfd6024b35b2a99f18af679877",
       "version_major": 2,
       "version_minor": 0
      },
      "text/plain": [
       "network dynamic:   0%|          | 0/9999 [00:00<?, ?it/s]"
      ]
     },
     "metadata": {},
     "output_type": "display_data"
    },
    {
     "data": {
      "application/vnd.jupyter.widget-view+json": {
       "model_id": "be252a6788674e21ad685df4f767f1d0",
       "version_major": 2,
       "version_minor": 0
      },
      "text/plain": [
       "Variation of alpha:   0%|          | 0/1 [00:00<?, ?it/s]"
      ]
     },
     "metadata": {},
     "output_type": "display_data"
    },
    {
     "data": {
      "application/vnd.jupyter.widget-view+json": {
       "model_id": "8891a650b5bc4068a9704ff820771b13",
       "version_major": 2,
       "version_minor": 0
      },
      "text/plain": [
       "Making ensembles:   0%|          | 0/1 [00:00<?, ?it/s]"
      ]
     },
     "metadata": {},
     "output_type": "display_data"
    },
    {
     "data": {
      "application/vnd.jupyter.widget-view+json": {
       "model_id": "89aaa08f4e1c401f8e6384460bd8b211",
       "version_major": 2,
       "version_minor": 0
      },
      "text/plain": [
       "network dynamic:   0%|          | 0/9999 [00:00<?, ?it/s]"
      ]
     },
     "metadata": {},
     "output_type": "display_data"
    },
    {
     "data": {
      "application/vnd.jupyter.widget-view+json": {
       "model_id": "a376b230ccb24a64a054ddc74accc7e5",
       "version_major": 2,
       "version_minor": 0
      },
      "text/plain": [
       "Variation of alpha:   0%|          | 0/1 [00:00<?, ?it/s]"
      ]
     },
     "metadata": {},
     "output_type": "display_data"
    },
    {
     "data": {
      "application/vnd.jupyter.widget-view+json": {
       "model_id": "34f53dc635f04505aae4a03e123169c1",
       "version_major": 2,
       "version_minor": 0
      },
      "text/plain": [
       "Making ensembles:   0%|          | 0/1 [00:00<?, ?it/s]"
      ]
     },
     "metadata": {},
     "output_type": "display_data"
    },
    {
     "data": {
      "application/vnd.jupyter.widget-view+json": {
       "model_id": "7e327bcc5e6c496f98c5e45bd82f5339",
       "version_major": 2,
       "version_minor": 0
      },
      "text/plain": [
       "network dynamic:   0%|          | 0/9999 [00:00<?, ?it/s]"
      ]
     },
     "metadata": {},
     "output_type": "display_data"
    },
    {
     "data": {
      "application/vnd.jupyter.widget-view+json": {
       "model_id": "f6074d003e524faeb7c1ed386855aff5",
       "version_major": 2,
       "version_minor": 0
      },
      "text/plain": [
       "Variation of alpha:   0%|          | 0/1 [00:00<?, ?it/s]"
      ]
     },
     "metadata": {},
     "output_type": "display_data"
    },
    {
     "data": {
      "application/vnd.jupyter.widget-view+json": {
       "model_id": "a254525532bf4908a4ba5d2eea78f384",
       "version_major": 2,
       "version_minor": 0
      },
      "text/plain": [
       "Making ensembles:   0%|          | 0/1 [00:00<?, ?it/s]"
      ]
     },
     "metadata": {},
     "output_type": "display_data"
    },
    {
     "data": {
      "application/vnd.jupyter.widget-view+json": {
       "model_id": "141cf4fca885450e86eeb19940506c44",
       "version_major": 2,
       "version_minor": 0
      },
      "text/plain": [
       "network dynamic:   0%|          | 0/9999 [00:00<?, ?it/s]"
      ]
     },
     "metadata": {},
     "output_type": "display_data"
    },
    {
     "data": {
      "application/vnd.jupyter.widget-view+json": {
       "model_id": "8dc3ec777aff4f10aeb35832ab8f6e3a",
       "version_major": 2,
       "version_minor": 0
      },
      "text/plain": [
       "Variation of alpha:   0%|          | 0/1 [00:00<?, ?it/s]"
      ]
     },
     "metadata": {},
     "output_type": "display_data"
    },
    {
     "data": {
      "application/vnd.jupyter.widget-view+json": {
       "model_id": "07822f38ea11408b8976c349f09c5044",
       "version_major": 2,
       "version_minor": 0
      },
      "text/plain": [
       "Making ensembles:   0%|          | 0/1 [00:00<?, ?it/s]"
      ]
     },
     "metadata": {},
     "output_type": "display_data"
    },
    {
     "data": {
      "application/vnd.jupyter.widget-view+json": {
       "model_id": "e545876a777b4c18bb534c4cc5fce13f",
       "version_major": 2,
       "version_minor": 0
      },
      "text/plain": [
       "network dynamic:   0%|          | 0/9999 [00:00<?, ?it/s]"
      ]
     },
     "metadata": {},
     "output_type": "display_data"
    },
    {
     "data": {
      "application/vnd.jupyter.widget-view+json": {
       "model_id": "61434b2d391043f39e399a0409a2090c",
       "version_major": 2,
       "version_minor": 0
      },
      "text/plain": [
       "Variation of alpha:   0%|          | 0/1 [00:00<?, ?it/s]"
      ]
     },
     "metadata": {},
     "output_type": "display_data"
    },
    {
     "data": {
      "application/vnd.jupyter.widget-view+json": {
       "model_id": "8239f153600c44f4b50046fafb83a7cb",
       "version_major": 2,
       "version_minor": 0
      },
      "text/plain": [
       "Making ensembles:   0%|          | 0/1 [00:00<?, ?it/s]"
      ]
     },
     "metadata": {},
     "output_type": "display_data"
    },
    {
     "data": {
      "application/vnd.jupyter.widget-view+json": {
       "model_id": "5724e1cf5c104ec4a6f03af37a78ca87",
       "version_major": 2,
       "version_minor": 0
      },
      "text/plain": [
       "network dynamic:   0%|          | 0/9999 [00:00<?, ?it/s]"
      ]
     },
     "metadata": {},
     "output_type": "display_data"
    },
    {
     "data": {
      "application/vnd.jupyter.widget-view+json": {
       "model_id": "7c80ff88d14b48138690cb14d5685c86",
       "version_major": 2,
       "version_minor": 0
      },
      "text/plain": [
       "Variation of alpha:   0%|          | 0/1 [00:00<?, ?it/s]"
      ]
     },
     "metadata": {},
     "output_type": "display_data"
    },
    {
     "data": {
      "application/vnd.jupyter.widget-view+json": {
       "model_id": "01ef41f598834bf2bb3ba4dbbb1605e1",
       "version_major": 2,
       "version_minor": 0
      },
      "text/plain": [
       "Making ensembles:   0%|          | 0/1 [00:00<?, ?it/s]"
      ]
     },
     "metadata": {},
     "output_type": "display_data"
    },
    {
     "data": {
      "application/vnd.jupyter.widget-view+json": {
       "model_id": "84977f4c79d244848ccec4b7e95e5eaf",
       "version_major": 2,
       "version_minor": 0
      },
      "text/plain": [
       "network dynamic:   0%|          | 0/9999 [00:00<?, ?it/s]"
      ]
     },
     "metadata": {},
     "output_type": "display_data"
    },
    {
     "data": {
      "application/vnd.jupyter.widget-view+json": {
       "model_id": "a4ec80c4882e49bdb69a22d93076a865",
       "version_major": 2,
       "version_minor": 0
      },
      "text/plain": [
       "Variation of delay:   0%|          | 0/13 [00:00<?, ?it/s]"
      ]
     },
     "metadata": {},
     "output_type": "display_data"
    },
    {
     "data": {
      "application/vnd.jupyter.widget-view+json": {
       "model_id": "da68a18357d348af92c36a8945d91da8",
       "version_major": 2,
       "version_minor": 0
      },
      "text/plain": [
       "Variation of alpha:   0%|          | 0/1 [00:00<?, ?it/s]"
      ]
     },
     "metadata": {},
     "output_type": "display_data"
    },
    {
     "data": {
      "application/vnd.jupyter.widget-view+json": {
       "model_id": "d94617b5f1884a7a9c29246aef131191",
       "version_major": 2,
       "version_minor": 0
      },
      "text/plain": [
       "Making ensembles:   0%|          | 0/1 [00:00<?, ?it/s]"
      ]
     },
     "metadata": {},
     "output_type": "display_data"
    },
    {
     "data": {
      "application/vnd.jupyter.widget-view+json": {
       "model_id": "74408acbec2146df87a46dd590b1e312",
       "version_major": 2,
       "version_minor": 0
      },
      "text/plain": [
       "network dynamic:   0%|          | 0/9999 [00:00<?, ?it/s]"
      ]
     },
     "metadata": {},
     "output_type": "display_data"
    },
    {
     "data": {
      "application/vnd.jupyter.widget-view+json": {
       "model_id": "693d5b80a335495ebe74f434eff55ea3",
       "version_major": 2,
       "version_minor": 0
      },
      "text/plain": [
       "Variation of alpha:   0%|          | 0/1 [00:00<?, ?it/s]"
      ]
     },
     "metadata": {},
     "output_type": "display_data"
    },
    {
     "data": {
      "application/vnd.jupyter.widget-view+json": {
       "model_id": "170ddc24651a4aa887cabddaeb8afb79",
       "version_major": 2,
       "version_minor": 0
      },
      "text/plain": [
       "Making ensembles:   0%|          | 0/1 [00:00<?, ?it/s]"
      ]
     },
     "metadata": {},
     "output_type": "display_data"
    },
    {
     "data": {
      "application/vnd.jupyter.widget-view+json": {
       "model_id": "cc0c8325a6cf4a04b71cc875dfdf4a85",
       "version_major": 2,
       "version_minor": 0
      },
      "text/plain": [
       "network dynamic:   0%|          | 0/9999 [00:00<?, ?it/s]"
      ]
     },
     "metadata": {},
     "output_type": "display_data"
    },
    {
     "data": {
      "application/vnd.jupyter.widget-view+json": {
       "model_id": "23bf3c105db7473197ca4d3b09888151",
       "version_major": 2,
       "version_minor": 0
      },
      "text/plain": [
       "Variation of alpha:   0%|          | 0/1 [00:00<?, ?it/s]"
      ]
     },
     "metadata": {},
     "output_type": "display_data"
    },
    {
     "data": {
      "application/vnd.jupyter.widget-view+json": {
       "model_id": "b48527566a934beb8568c2aa6d933a45",
       "version_major": 2,
       "version_minor": 0
      },
      "text/plain": [
       "Making ensembles:   0%|          | 0/1 [00:00<?, ?it/s]"
      ]
     },
     "metadata": {},
     "output_type": "display_data"
    },
    {
     "data": {
      "application/vnd.jupyter.widget-view+json": {
       "model_id": "cdac9cb3b65d4eae8eab3f60168a2064",
       "version_major": 2,
       "version_minor": 0
      },
      "text/plain": [
       "network dynamic:   0%|          | 0/9999 [00:00<?, ?it/s]"
      ]
     },
     "metadata": {},
     "output_type": "display_data"
    },
    {
     "data": {
      "application/vnd.jupyter.widget-view+json": {
       "model_id": "ada10bfe937f4b1fa11755bce67d2694",
       "version_major": 2,
       "version_minor": 0
      },
      "text/plain": [
       "Variation of alpha:   0%|          | 0/1 [00:00<?, ?it/s]"
      ]
     },
     "metadata": {},
     "output_type": "display_data"
    },
    {
     "data": {
      "application/vnd.jupyter.widget-view+json": {
       "model_id": "f3659d391fcf4457804fc3018dba2f6e",
       "version_major": 2,
       "version_minor": 0
      },
      "text/plain": [
       "Making ensembles:   0%|          | 0/1 [00:00<?, ?it/s]"
      ]
     },
     "metadata": {},
     "output_type": "display_data"
    },
    {
     "data": {
      "application/vnd.jupyter.widget-view+json": {
       "model_id": "d9dd1565db834b1b86a6c94e0e81e23d",
       "version_major": 2,
       "version_minor": 0
      },
      "text/plain": [
       "network dynamic:   0%|          | 0/9999 [00:00<?, ?it/s]"
      ]
     },
     "metadata": {},
     "output_type": "display_data"
    },
    {
     "data": {
      "application/vnd.jupyter.widget-view+json": {
       "model_id": "a6b813f7844f446abe074e5b2d83ba75",
       "version_major": 2,
       "version_minor": 0
      },
      "text/plain": [
       "Variation of alpha:   0%|          | 0/1 [00:00<?, ?it/s]"
      ]
     },
     "metadata": {},
     "output_type": "display_data"
    },
    {
     "data": {
      "application/vnd.jupyter.widget-view+json": {
       "model_id": "e4b6d36164cb43f0b85e67266523ac6e",
       "version_major": 2,
       "version_minor": 0
      },
      "text/plain": [
       "Making ensembles:   0%|          | 0/1 [00:00<?, ?it/s]"
      ]
     },
     "metadata": {},
     "output_type": "display_data"
    },
    {
     "data": {
      "application/vnd.jupyter.widget-view+json": {
       "model_id": "7f6c20731aed4cb18324ea1b98472e35",
       "version_major": 2,
       "version_minor": 0
      },
      "text/plain": [
       "network dynamic:   0%|          | 0/9999 [00:00<?, ?it/s]"
      ]
     },
     "metadata": {},
     "output_type": "display_data"
    },
    {
     "data": {
      "application/vnd.jupyter.widget-view+json": {
       "model_id": "d1bd9adc763f4602af00aa126e90e7e3",
       "version_major": 2,
       "version_minor": 0
      },
      "text/plain": [
       "Variation of alpha:   0%|          | 0/1 [00:00<?, ?it/s]"
      ]
     },
     "metadata": {},
     "output_type": "display_data"
    },
    {
     "data": {
      "application/vnd.jupyter.widget-view+json": {
       "model_id": "710df08f5af946f8a4068864737e2b8c",
       "version_major": 2,
       "version_minor": 0
      },
      "text/plain": [
       "Making ensembles:   0%|          | 0/1 [00:00<?, ?it/s]"
      ]
     },
     "metadata": {},
     "output_type": "display_data"
    },
    {
     "data": {
      "application/vnd.jupyter.widget-view+json": {
       "model_id": "5fd08b7985ce40d8a74c5aa4a8434b02",
       "version_major": 2,
       "version_minor": 0
      },
      "text/plain": [
       "network dynamic:   0%|          | 0/9999 [00:00<?, ?it/s]"
      ]
     },
     "metadata": {},
     "output_type": "display_data"
    },
    {
     "data": {
      "application/vnd.jupyter.widget-view+json": {
       "model_id": "e590bb02386743c1b3dbad320b6d15a6",
       "version_major": 2,
       "version_minor": 0
      },
      "text/plain": [
       "Variation of alpha:   0%|          | 0/1 [00:00<?, ?it/s]"
      ]
     },
     "metadata": {},
     "output_type": "display_data"
    },
    {
     "data": {
      "application/vnd.jupyter.widget-view+json": {
       "model_id": "40e66da5400f46848667c9f5c55be6c0",
       "version_major": 2,
       "version_minor": 0
      },
      "text/plain": [
       "Making ensembles:   0%|          | 0/1 [00:00<?, ?it/s]"
      ]
     },
     "metadata": {},
     "output_type": "display_data"
    },
    {
     "data": {
      "application/vnd.jupyter.widget-view+json": {
       "model_id": "f61acb9727fb4154a8a2580ab206e85e",
       "version_major": 2,
       "version_minor": 0
      },
      "text/plain": [
       "network dynamic:   0%|          | 0/9999 [00:00<?, ?it/s]"
      ]
     },
     "metadata": {},
     "output_type": "display_data"
    },
    {
     "data": {
      "application/vnd.jupyter.widget-view+json": {
       "model_id": "3c65cd131655434fb3db9aea69dfcd1e",
       "version_major": 2,
       "version_minor": 0
      },
      "text/plain": [
       "Variation of alpha:   0%|          | 0/1 [00:00<?, ?it/s]"
      ]
     },
     "metadata": {},
     "output_type": "display_data"
    },
    {
     "data": {
      "application/vnd.jupyter.widget-view+json": {
       "model_id": "67c033c3b71a4283a2e2845e98454d50",
       "version_major": 2,
       "version_minor": 0
      },
      "text/plain": [
       "Making ensembles:   0%|          | 0/1 [00:00<?, ?it/s]"
      ]
     },
     "metadata": {},
     "output_type": "display_data"
    },
    {
     "data": {
      "application/vnd.jupyter.widget-view+json": {
       "model_id": "036f3743a1214aca932924729b48d680",
       "version_major": 2,
       "version_minor": 0
      },
      "text/plain": [
       "network dynamic:   0%|          | 0/9999 [00:00<?, ?it/s]"
      ]
     },
     "metadata": {},
     "output_type": "display_data"
    },
    {
     "data": {
      "application/vnd.jupyter.widget-view+json": {
       "model_id": "bb80d41472ee4ea7a3dd03b7cda2baa7",
       "version_major": 2,
       "version_minor": 0
      },
      "text/plain": [
       "Variation of alpha:   0%|          | 0/1 [00:00<?, ?it/s]"
      ]
     },
     "metadata": {},
     "output_type": "display_data"
    },
    {
     "data": {
      "application/vnd.jupyter.widget-view+json": {
       "model_id": "0e7b155c58684d909f27d37290b07e09",
       "version_major": 2,
       "version_minor": 0
      },
      "text/plain": [
       "Making ensembles:   0%|          | 0/1 [00:00<?, ?it/s]"
      ]
     },
     "metadata": {},
     "output_type": "display_data"
    },
    {
     "data": {
      "application/vnd.jupyter.widget-view+json": {
       "model_id": "fc83dfafb3064eb187b485a99ef1f76f",
       "version_major": 2,
       "version_minor": 0
      },
      "text/plain": [
       "network dynamic:   0%|          | 0/9999 [00:00<?, ?it/s]"
      ]
     },
     "metadata": {},
     "output_type": "display_data"
    },
    {
     "data": {
      "application/vnd.jupyter.widget-view+json": {
       "model_id": "90048d2f701545599a6d0441b4a9eb27",
       "version_major": 2,
       "version_minor": 0
      },
      "text/plain": [
       "Variation of alpha:   0%|          | 0/1 [00:00<?, ?it/s]"
      ]
     },
     "metadata": {},
     "output_type": "display_data"
    },
    {
     "data": {
      "application/vnd.jupyter.widget-view+json": {
       "model_id": "68569de634d748b48567eb68bfbeb690",
       "version_major": 2,
       "version_minor": 0
      },
      "text/plain": [
       "Making ensembles:   0%|          | 0/1 [00:00<?, ?it/s]"
      ]
     },
     "metadata": {},
     "output_type": "display_data"
    },
    {
     "data": {
      "application/vnd.jupyter.widget-view+json": {
       "model_id": "c13de1c969ea4fa08d36b938092eca9d",
       "version_major": 2,
       "version_minor": 0
      },
      "text/plain": [
       "network dynamic:   0%|          | 0/9999 [00:00<?, ?it/s]"
      ]
     },
     "metadata": {},
     "output_type": "display_data"
    },
    {
     "data": {
      "application/vnd.jupyter.widget-view+json": {
       "model_id": "6fc1872a554b4fc7b03e2853eac59fdb",
       "version_major": 2,
       "version_minor": 0
      },
      "text/plain": [
       "Variation of alpha:   0%|          | 0/1 [00:00<?, ?it/s]"
      ]
     },
     "metadata": {},
     "output_type": "display_data"
    },
    {
     "data": {
      "application/vnd.jupyter.widget-view+json": {
       "model_id": "99c98f18d47e489c90b1f87a9c26e469",
       "version_major": 2,
       "version_minor": 0
      },
      "text/plain": [
       "Making ensembles:   0%|          | 0/1 [00:00<?, ?it/s]"
      ]
     },
     "metadata": {},
     "output_type": "display_data"
    },
    {
     "data": {
      "application/vnd.jupyter.widget-view+json": {
       "model_id": "b0cfad070c9149008b54f2bab3de98e0",
       "version_major": 2,
       "version_minor": 0
      },
      "text/plain": [
       "network dynamic:   0%|          | 0/9999 [00:00<?, ?it/s]"
      ]
     },
     "metadata": {},
     "output_type": "display_data"
    },
    {
     "data": {
      "application/vnd.jupyter.widget-view+json": {
       "model_id": "66dd5a66f2b84aeea733e028efdab881",
       "version_major": 2,
       "version_minor": 0
      },
      "text/plain": [
       "Variation of alpha:   0%|          | 0/1 [00:00<?, ?it/s]"
      ]
     },
     "metadata": {},
     "output_type": "display_data"
    },
    {
     "data": {
      "application/vnd.jupyter.widget-view+json": {
       "model_id": "23b4fb702e224a988ebbc0c9ef8d35a4",
       "version_major": 2,
       "version_minor": 0
      },
      "text/plain": [
       "Making ensembles:   0%|          | 0/1 [00:00<?, ?it/s]"
      ]
     },
     "metadata": {},
     "output_type": "display_data"
    },
    {
     "data": {
      "application/vnd.jupyter.widget-view+json": {
       "model_id": "fb32866b469d4d2ba0a2d547b0e8ecca",
       "version_major": 2,
       "version_minor": 0
      },
      "text/plain": [
       "network dynamic:   0%|          | 0/9999 [00:00<?, ?it/s]"
      ]
     },
     "metadata": {},
     "output_type": "display_data"
    },
    {
     "data": {
      "application/vnd.jupyter.widget-view+json": {
       "model_id": "675d5506f28646ba8b65bfee9e90c93b",
       "version_major": 2,
       "version_minor": 0
      },
      "text/plain": [
       "Variation of alpha:   0%|          | 0/1 [00:00<?, ?it/s]"
      ]
     },
     "metadata": {},
     "output_type": "display_data"
    },
    {
     "data": {
      "application/vnd.jupyter.widget-view+json": {
       "model_id": "ab8c3c9c6b4c4e2b81d91cd1ff01e86d",
       "version_major": 2,
       "version_minor": 0
      },
      "text/plain": [
       "Making ensembles:   0%|          | 0/1 [00:00<?, ?it/s]"
      ]
     },
     "metadata": {},
     "output_type": "display_data"
    },
    {
     "data": {
      "application/vnd.jupyter.widget-view+json": {
       "model_id": "f80b653c4b1940c08162d6816a3f3f56",
       "version_major": 2,
       "version_minor": 0
      },
      "text/plain": [
       "network dynamic:   0%|          | 0/9999 [00:00<?, ?it/s]"
      ]
     },
     "metadata": {},
     "output_type": "display_data"
    },
    {
     "data": {
      "application/vnd.jupyter.widget-view+json": {
       "model_id": "ad8f980addc746679708d592940b9173",
       "version_major": 2,
       "version_minor": 0
      },
      "text/plain": [
       "Variation of delay:   0%|          | 0/13 [00:00<?, ?it/s]"
      ]
     },
     "metadata": {},
     "output_type": "display_data"
    },
    {
     "data": {
      "application/vnd.jupyter.widget-view+json": {
       "model_id": "1e06446571394dbd8c6d72fb7360e637",
       "version_major": 2,
       "version_minor": 0
      },
      "text/plain": [
       "Variation of alpha:   0%|          | 0/1 [00:00<?, ?it/s]"
      ]
     },
     "metadata": {},
     "output_type": "display_data"
    },
    {
     "data": {
      "application/vnd.jupyter.widget-view+json": {
       "model_id": "5b725618e3cb45cba4920b8cc81270df",
       "version_major": 2,
       "version_minor": 0
      },
      "text/plain": [
       "Making ensembles:   0%|          | 0/1 [00:00<?, ?it/s]"
      ]
     },
     "metadata": {},
     "output_type": "display_data"
    },
    {
     "data": {
      "application/vnd.jupyter.widget-view+json": {
       "model_id": "e1ed7976c0a242e18a97f9a98124f02d",
       "version_major": 2,
       "version_minor": 0
      },
      "text/plain": [
       "network dynamic:   0%|          | 0/9999 [00:00<?, ?it/s]"
      ]
     },
     "metadata": {},
     "output_type": "display_data"
    },
    {
     "data": {
      "application/vnd.jupyter.widget-view+json": {
       "model_id": "f43afd7cfcc84e0da85324199beb4984",
       "version_major": 2,
       "version_minor": 0
      },
      "text/plain": [
       "Variation of alpha:   0%|          | 0/1 [00:00<?, ?it/s]"
      ]
     },
     "metadata": {},
     "output_type": "display_data"
    },
    {
     "data": {
      "application/vnd.jupyter.widget-view+json": {
       "model_id": "5ead3d149c6140c29b57eeaf4055de38",
       "version_major": 2,
       "version_minor": 0
      },
      "text/plain": [
       "Making ensembles:   0%|          | 0/1 [00:00<?, ?it/s]"
      ]
     },
     "metadata": {},
     "output_type": "display_data"
    },
    {
     "data": {
      "application/vnd.jupyter.widget-view+json": {
       "model_id": "a36c7e45620941559b9661b5146c5329",
       "version_major": 2,
       "version_minor": 0
      },
      "text/plain": [
       "network dynamic:   0%|          | 0/9999 [00:00<?, ?it/s]"
      ]
     },
     "metadata": {},
     "output_type": "display_data"
    },
    {
     "data": {
      "application/vnd.jupyter.widget-view+json": {
       "model_id": "47746f9ae5594a1cbec1d4df45cd7593",
       "version_major": 2,
       "version_minor": 0
      },
      "text/plain": [
       "Variation of alpha:   0%|          | 0/1 [00:00<?, ?it/s]"
      ]
     },
     "metadata": {},
     "output_type": "display_data"
    },
    {
     "data": {
      "application/vnd.jupyter.widget-view+json": {
       "model_id": "57e22a17d24f4874ad20c90cf6ffe0d5",
       "version_major": 2,
       "version_minor": 0
      },
      "text/plain": [
       "Making ensembles:   0%|          | 0/1 [00:00<?, ?it/s]"
      ]
     },
     "metadata": {},
     "output_type": "display_data"
    },
    {
     "data": {
      "application/vnd.jupyter.widget-view+json": {
       "model_id": "b56e52fae2e149c9bd15cfd372cf0c6c",
       "version_major": 2,
       "version_minor": 0
      },
      "text/plain": [
       "network dynamic:   0%|          | 0/9999 [00:00<?, ?it/s]"
      ]
     },
     "metadata": {},
     "output_type": "display_data"
    },
    {
     "data": {
      "application/vnd.jupyter.widget-view+json": {
       "model_id": "3f5254401e554278a1641cbf0fb35c20",
       "version_major": 2,
       "version_minor": 0
      },
      "text/plain": [
       "Variation of alpha:   0%|          | 0/1 [00:00<?, ?it/s]"
      ]
     },
     "metadata": {},
     "output_type": "display_data"
    },
    {
     "data": {
      "application/vnd.jupyter.widget-view+json": {
       "model_id": "82b963096c8c4dd0a12eff65b854c8ca",
       "version_major": 2,
       "version_minor": 0
      },
      "text/plain": [
       "Making ensembles:   0%|          | 0/1 [00:00<?, ?it/s]"
      ]
     },
     "metadata": {},
     "output_type": "display_data"
    },
    {
     "data": {
      "application/vnd.jupyter.widget-view+json": {
       "model_id": "aeac31d48ad84cb683a7120fd97f27e7",
       "version_major": 2,
       "version_minor": 0
      },
      "text/plain": [
       "network dynamic:   0%|          | 0/9999 [00:00<?, ?it/s]"
      ]
     },
     "metadata": {},
     "output_type": "display_data"
    },
    {
     "data": {
      "application/vnd.jupyter.widget-view+json": {
       "model_id": "0576ed41c3c2426da95ae8e5ca4bfbbd",
       "version_major": 2,
       "version_minor": 0
      },
      "text/plain": [
       "Variation of alpha:   0%|          | 0/1 [00:00<?, ?it/s]"
      ]
     },
     "metadata": {},
     "output_type": "display_data"
    },
    {
     "data": {
      "application/vnd.jupyter.widget-view+json": {
       "model_id": "390e35e4b350467481ea582930da7ae4",
       "version_major": 2,
       "version_minor": 0
      },
      "text/plain": [
       "Making ensembles:   0%|          | 0/1 [00:00<?, ?it/s]"
      ]
     },
     "metadata": {},
     "output_type": "display_data"
    },
    {
     "data": {
      "application/vnd.jupyter.widget-view+json": {
       "model_id": "0f0b23d348a642719dc11795d20bf7d4",
       "version_major": 2,
       "version_minor": 0
      },
      "text/plain": [
       "network dynamic:   0%|          | 0/9999 [00:00<?, ?it/s]"
      ]
     },
     "metadata": {},
     "output_type": "display_data"
    },
    {
     "data": {
      "application/vnd.jupyter.widget-view+json": {
       "model_id": "ca8f7c6ecdf84bf686b61264c1fa173a",
       "version_major": 2,
       "version_minor": 0
      },
      "text/plain": [
       "Variation of alpha:   0%|          | 0/1 [00:00<?, ?it/s]"
      ]
     },
     "metadata": {},
     "output_type": "display_data"
    },
    {
     "data": {
      "application/vnd.jupyter.widget-view+json": {
       "model_id": "4a2792eba94d419788fb458103abf234",
       "version_major": 2,
       "version_minor": 0
      },
      "text/plain": [
       "Making ensembles:   0%|          | 0/1 [00:00<?, ?it/s]"
      ]
     },
     "metadata": {},
     "output_type": "display_data"
    },
    {
     "data": {
      "application/vnd.jupyter.widget-view+json": {
       "model_id": "7c090561d24c49249437f7bfc5c81b9f",
       "version_major": 2,
       "version_minor": 0
      },
      "text/plain": [
       "network dynamic:   0%|          | 0/9999 [00:00<?, ?it/s]"
      ]
     },
     "metadata": {},
     "output_type": "display_data"
    },
    {
     "data": {
      "application/vnd.jupyter.widget-view+json": {
       "model_id": "e79479dc54224b7aa0ab7f7249264767",
       "version_major": 2,
       "version_minor": 0
      },
      "text/plain": [
       "Variation of alpha:   0%|          | 0/1 [00:00<?, ?it/s]"
      ]
     },
     "metadata": {},
     "output_type": "display_data"
    },
    {
     "data": {
      "application/vnd.jupyter.widget-view+json": {
       "model_id": "8a0f4411cd1e4e7996ecf4bff7056721",
       "version_major": 2,
       "version_minor": 0
      },
      "text/plain": [
       "Making ensembles:   0%|          | 0/1 [00:00<?, ?it/s]"
      ]
     },
     "metadata": {},
     "output_type": "display_data"
    },
    {
     "data": {
      "application/vnd.jupyter.widget-view+json": {
       "model_id": "a33fb09445ad44ccb1b89f6f5e26fc13",
       "version_major": 2,
       "version_minor": 0
      },
      "text/plain": [
       "network dynamic:   0%|          | 0/9999 [00:00<?, ?it/s]"
      ]
     },
     "metadata": {},
     "output_type": "display_data"
    },
    {
     "data": {
      "application/vnd.jupyter.widget-view+json": {
       "model_id": "0c2320b0a676425eb2fe3203cbb81d4e",
       "version_major": 2,
       "version_minor": 0
      },
      "text/plain": [
       "Variation of alpha:   0%|          | 0/1 [00:00<?, ?it/s]"
      ]
     },
     "metadata": {},
     "output_type": "display_data"
    },
    {
     "data": {
      "application/vnd.jupyter.widget-view+json": {
       "model_id": "192a0ddc86b24bba8506e2477a729547",
       "version_major": 2,
       "version_minor": 0
      },
      "text/plain": [
       "Making ensembles:   0%|          | 0/1 [00:00<?, ?it/s]"
      ]
     },
     "metadata": {},
     "output_type": "display_data"
    },
    {
     "data": {
      "application/vnd.jupyter.widget-view+json": {
       "model_id": "ac824aae60174d5aa9ab67228bec8b77",
       "version_major": 2,
       "version_minor": 0
      },
      "text/plain": [
       "network dynamic:   0%|          | 0/9999 [00:00<?, ?it/s]"
      ]
     },
     "metadata": {},
     "output_type": "display_data"
    },
    {
     "data": {
      "application/vnd.jupyter.widget-view+json": {
       "model_id": "787b57b08fea47538cbbc0638a229090",
       "version_major": 2,
       "version_minor": 0
      },
      "text/plain": [
       "Variation of alpha:   0%|          | 0/1 [00:00<?, ?it/s]"
      ]
     },
     "metadata": {},
     "output_type": "display_data"
    },
    {
     "data": {
      "application/vnd.jupyter.widget-view+json": {
       "model_id": "26480f214ac74247a245fa0f344137a1",
       "version_major": 2,
       "version_minor": 0
      },
      "text/plain": [
       "Making ensembles:   0%|          | 0/1 [00:00<?, ?it/s]"
      ]
     },
     "metadata": {},
     "output_type": "display_data"
    },
    {
     "data": {
      "application/vnd.jupyter.widget-view+json": {
       "model_id": "98e1398cdae54a0e9b011147ffec7893",
       "version_major": 2,
       "version_minor": 0
      },
      "text/plain": [
       "network dynamic:   0%|          | 0/9999 [00:00<?, ?it/s]"
      ]
     },
     "metadata": {},
     "output_type": "display_data"
    },
    {
     "data": {
      "application/vnd.jupyter.widget-view+json": {
       "model_id": "a23fb7b9d6c8471bbdca8828dff48188",
       "version_major": 2,
       "version_minor": 0
      },
      "text/plain": [
       "Variation of alpha:   0%|          | 0/1 [00:00<?, ?it/s]"
      ]
     },
     "metadata": {},
     "output_type": "display_data"
    },
    {
     "data": {
      "application/vnd.jupyter.widget-view+json": {
       "model_id": "c2defb0b18ef403d925d9fc7e9dd5c3c",
       "version_major": 2,
       "version_minor": 0
      },
      "text/plain": [
       "Making ensembles:   0%|          | 0/1 [00:00<?, ?it/s]"
      ]
     },
     "metadata": {},
     "output_type": "display_data"
    },
    {
     "data": {
      "application/vnd.jupyter.widget-view+json": {
       "model_id": "44fec509e0f54841bed4d77876ad2aee",
       "version_major": 2,
       "version_minor": 0
      },
      "text/plain": [
       "network dynamic:   0%|          | 0/9999 [00:00<?, ?it/s]"
      ]
     },
     "metadata": {},
     "output_type": "display_data"
    },
    {
     "data": {
      "application/vnd.jupyter.widget-view+json": {
       "model_id": "ca298fce24a64e01b5dbf06731fee7a9",
       "version_major": 2,
       "version_minor": 0
      },
      "text/plain": [
       "Variation of alpha:   0%|          | 0/1 [00:00<?, ?it/s]"
      ]
     },
     "metadata": {},
     "output_type": "display_data"
    },
    {
     "data": {
      "application/vnd.jupyter.widget-view+json": {
       "model_id": "838e1e6bc02142f8b836242436615acf",
       "version_major": 2,
       "version_minor": 0
      },
      "text/plain": [
       "Making ensembles:   0%|          | 0/1 [00:00<?, ?it/s]"
      ]
     },
     "metadata": {},
     "output_type": "display_data"
    },
    {
     "data": {
      "application/vnd.jupyter.widget-view+json": {
       "model_id": "c1a96c0fd19c4ab9a8f47274b09086ac",
       "version_major": 2,
       "version_minor": 0
      },
      "text/plain": [
       "network dynamic:   0%|          | 0/9999 [00:00<?, ?it/s]"
      ]
     },
     "metadata": {},
     "output_type": "display_data"
    },
    {
     "data": {
      "application/vnd.jupyter.widget-view+json": {
       "model_id": "89e6166471664422a8a33307cc5c2f16",
       "version_major": 2,
       "version_minor": 0
      },
      "text/plain": [
       "Variation of alpha:   0%|          | 0/1 [00:00<?, ?it/s]"
      ]
     },
     "metadata": {},
     "output_type": "display_data"
    },
    {
     "data": {
      "application/vnd.jupyter.widget-view+json": {
       "model_id": "704eef1189224ceca6a53335893a4611",
       "version_major": 2,
       "version_minor": 0
      },
      "text/plain": [
       "Making ensembles:   0%|          | 0/1 [00:00<?, ?it/s]"
      ]
     },
     "metadata": {},
     "output_type": "display_data"
    },
    {
     "data": {
      "application/vnd.jupyter.widget-view+json": {
       "model_id": "d548561646054606a21335e7d3601215",
       "version_major": 2,
       "version_minor": 0
      },
      "text/plain": [
       "network dynamic:   0%|          | 0/9999 [00:00<?, ?it/s]"
      ]
     },
     "metadata": {},
     "output_type": "display_data"
    },
    {
     "data": {
      "application/vnd.jupyter.widget-view+json": {
       "model_id": "e928522327024e339c1dc3419a84630c",
       "version_major": 2,
       "version_minor": 0
      },
      "text/plain": [
       "Variation of alpha:   0%|          | 0/1 [00:00<?, ?it/s]"
      ]
     },
     "metadata": {},
     "output_type": "display_data"
    },
    {
     "data": {
      "application/vnd.jupyter.widget-view+json": {
       "model_id": "846d7a35f6394f3ca5a0b3d5cbb5ae7d",
       "version_major": 2,
       "version_minor": 0
      },
      "text/plain": [
       "Making ensembles:   0%|          | 0/1 [00:00<?, ?it/s]"
      ]
     },
     "metadata": {},
     "output_type": "display_data"
    },
    {
     "data": {
      "application/vnd.jupyter.widget-view+json": {
       "model_id": "11ff25f7a7884700a92fb49ebce9de39",
       "version_major": 2,
       "version_minor": 0
      },
      "text/plain": [
       "network dynamic:   0%|          | 0/9999 [00:00<?, ?it/s]"
      ]
     },
     "metadata": {},
     "output_type": "display_data"
    },
    {
     "data": {
      "application/vnd.jupyter.widget-view+json": {
       "model_id": "1ff02fa49bc8440785781ffaa5e23387",
       "version_major": 2,
       "version_minor": 0
      },
      "text/plain": [
       "Variation of delay:   0%|          | 0/13 [00:00<?, ?it/s]"
      ]
     },
     "metadata": {},
     "output_type": "display_data"
    },
    {
     "data": {
      "application/vnd.jupyter.widget-view+json": {
       "model_id": "468a728d0a664f83a85ef602b86369eb",
       "version_major": 2,
       "version_minor": 0
      },
      "text/plain": [
       "Variation of alpha:   0%|          | 0/1 [00:00<?, ?it/s]"
      ]
     },
     "metadata": {},
     "output_type": "display_data"
    },
    {
     "data": {
      "application/vnd.jupyter.widget-view+json": {
       "model_id": "fc3435ba09344e399f94534fe5e49961",
       "version_major": 2,
       "version_minor": 0
      },
      "text/plain": [
       "Making ensembles:   0%|          | 0/1 [00:00<?, ?it/s]"
      ]
     },
     "metadata": {},
     "output_type": "display_data"
    },
    {
     "data": {
      "application/vnd.jupyter.widget-view+json": {
       "model_id": "c67cc06420ec4c9a9ef58904a48b7b5e",
       "version_major": 2,
       "version_minor": 0
      },
      "text/plain": [
       "network dynamic:   0%|          | 0/9999 [00:00<?, ?it/s]"
      ]
     },
     "metadata": {},
     "output_type": "display_data"
    },
    {
     "data": {
      "application/vnd.jupyter.widget-view+json": {
       "model_id": "35ccb5ae5ccc40c2b02ee25b408ff4fa",
       "version_major": 2,
       "version_minor": 0
      },
      "text/plain": [
       "Variation of alpha:   0%|          | 0/1 [00:00<?, ?it/s]"
      ]
     },
     "metadata": {},
     "output_type": "display_data"
    },
    {
     "data": {
      "application/vnd.jupyter.widget-view+json": {
       "model_id": "868b765c28694b72aeb84ad11be11b4c",
       "version_major": 2,
       "version_minor": 0
      },
      "text/plain": [
       "Making ensembles:   0%|          | 0/1 [00:00<?, ?it/s]"
      ]
     },
     "metadata": {},
     "output_type": "display_data"
    },
    {
     "data": {
      "application/vnd.jupyter.widget-view+json": {
       "model_id": "3e0da6c918a04f028dbdcdc0de980203",
       "version_major": 2,
       "version_minor": 0
      },
      "text/plain": [
       "network dynamic:   0%|          | 0/9999 [00:00<?, ?it/s]"
      ]
     },
     "metadata": {},
     "output_type": "display_data"
    },
    {
     "data": {
      "application/vnd.jupyter.widget-view+json": {
       "model_id": "c7df9d4d627f450291c5cf70159da7e0",
       "version_major": 2,
       "version_minor": 0
      },
      "text/plain": [
       "Variation of alpha:   0%|          | 0/1 [00:00<?, ?it/s]"
      ]
     },
     "metadata": {},
     "output_type": "display_data"
    },
    {
     "data": {
      "application/vnd.jupyter.widget-view+json": {
       "model_id": "227517833c814097b682cb2b99506fc0",
       "version_major": 2,
       "version_minor": 0
      },
      "text/plain": [
       "Making ensembles:   0%|          | 0/1 [00:00<?, ?it/s]"
      ]
     },
     "metadata": {},
     "output_type": "display_data"
    },
    {
     "data": {
      "application/vnd.jupyter.widget-view+json": {
       "model_id": "3a79ccc845094050b4527b1ae4089d55",
       "version_major": 2,
       "version_minor": 0
      },
      "text/plain": [
       "network dynamic:   0%|          | 0/9999 [00:00<?, ?it/s]"
      ]
     },
     "metadata": {},
     "output_type": "display_data"
    },
    {
     "data": {
      "application/vnd.jupyter.widget-view+json": {
       "model_id": "bc2870d4f2f24fc3b80ce454be6ff9d4",
       "version_major": 2,
       "version_minor": 0
      },
      "text/plain": [
       "Variation of alpha:   0%|          | 0/1 [00:00<?, ?it/s]"
      ]
     },
     "metadata": {},
     "output_type": "display_data"
    },
    {
     "data": {
      "application/vnd.jupyter.widget-view+json": {
       "model_id": "e2ca012ebee343068c8be4618c87da1e",
       "version_major": 2,
       "version_minor": 0
      },
      "text/plain": [
       "Making ensembles:   0%|          | 0/1 [00:00<?, ?it/s]"
      ]
     },
     "metadata": {},
     "output_type": "display_data"
    },
    {
     "data": {
      "application/vnd.jupyter.widget-view+json": {
       "model_id": "aab1036f2e134f1286d7a738e0000a6d",
       "version_major": 2,
       "version_minor": 0
      },
      "text/plain": [
       "network dynamic:   0%|          | 0/9999 [00:00<?, ?it/s]"
      ]
     },
     "metadata": {},
     "output_type": "display_data"
    },
    {
     "data": {
      "application/vnd.jupyter.widget-view+json": {
       "model_id": "4ee8e98d99da4511bc79f0f9e7b0a00a",
       "version_major": 2,
       "version_minor": 0
      },
      "text/plain": [
       "Variation of alpha:   0%|          | 0/1 [00:00<?, ?it/s]"
      ]
     },
     "metadata": {},
     "output_type": "display_data"
    },
    {
     "data": {
      "application/vnd.jupyter.widget-view+json": {
       "model_id": "62b9d898b7264298870eb9b27ea8570f",
       "version_major": 2,
       "version_minor": 0
      },
      "text/plain": [
       "Making ensembles:   0%|          | 0/1 [00:00<?, ?it/s]"
      ]
     },
     "metadata": {},
     "output_type": "display_data"
    },
    {
     "data": {
      "application/vnd.jupyter.widget-view+json": {
       "model_id": "c3ec3e1fecef40de8e5d4d6d5924912b",
       "version_major": 2,
       "version_minor": 0
      },
      "text/plain": [
       "network dynamic:   0%|          | 0/9999 [00:00<?, ?it/s]"
      ]
     },
     "metadata": {},
     "output_type": "display_data"
    },
    {
     "data": {
      "application/vnd.jupyter.widget-view+json": {
       "model_id": "cd1d874413fd4908b9aaf9bf34b633ac",
       "version_major": 2,
       "version_minor": 0
      },
      "text/plain": [
       "Variation of alpha:   0%|          | 0/1 [00:00<?, ?it/s]"
      ]
     },
     "metadata": {},
     "output_type": "display_data"
    },
    {
     "data": {
      "application/vnd.jupyter.widget-view+json": {
       "model_id": "a08e030441ed4e47a733b118e23ed538",
       "version_major": 2,
       "version_minor": 0
      },
      "text/plain": [
       "Making ensembles:   0%|          | 0/1 [00:00<?, ?it/s]"
      ]
     },
     "metadata": {},
     "output_type": "display_data"
    },
    {
     "data": {
      "application/vnd.jupyter.widget-view+json": {
       "model_id": "cde17d2fab424978aa9cfc4fc16beb95",
       "version_major": 2,
       "version_minor": 0
      },
      "text/plain": [
       "network dynamic:   0%|          | 0/9999 [00:00<?, ?it/s]"
      ]
     },
     "metadata": {},
     "output_type": "display_data"
    },
    {
     "data": {
      "application/vnd.jupyter.widget-view+json": {
       "model_id": "c060fee0b60b454384ad51137fef0e2f",
       "version_major": 2,
       "version_minor": 0
      },
      "text/plain": [
       "Variation of alpha:   0%|          | 0/1 [00:00<?, ?it/s]"
      ]
     },
     "metadata": {},
     "output_type": "display_data"
    },
    {
     "data": {
      "application/vnd.jupyter.widget-view+json": {
       "model_id": "80a1984715dc43ec89eedcb7073d277c",
       "version_major": 2,
       "version_minor": 0
      },
      "text/plain": [
       "Making ensembles:   0%|          | 0/1 [00:00<?, ?it/s]"
      ]
     },
     "metadata": {},
     "output_type": "display_data"
    },
    {
     "data": {
      "application/vnd.jupyter.widget-view+json": {
       "model_id": "7fb0cb8da52d44d1be037c333db092ef",
       "version_major": 2,
       "version_minor": 0
      },
      "text/plain": [
       "network dynamic:   0%|          | 0/9999 [00:00<?, ?it/s]"
      ]
     },
     "metadata": {},
     "output_type": "display_data"
    },
    {
     "data": {
      "application/vnd.jupyter.widget-view+json": {
       "model_id": "5e0213d00cea4a74acb479a5ae4dad90",
       "version_major": 2,
       "version_minor": 0
      },
      "text/plain": [
       "Variation of alpha:   0%|          | 0/1 [00:00<?, ?it/s]"
      ]
     },
     "metadata": {},
     "output_type": "display_data"
    },
    {
     "data": {
      "application/vnd.jupyter.widget-view+json": {
       "model_id": "129ec6355cec4da796713f77b3e4077d",
       "version_major": 2,
       "version_minor": 0
      },
      "text/plain": [
       "Making ensembles:   0%|          | 0/1 [00:00<?, ?it/s]"
      ]
     },
     "metadata": {},
     "output_type": "display_data"
    },
    {
     "data": {
      "application/vnd.jupyter.widget-view+json": {
       "model_id": "f2083ecd65a5448188751949e53fd515",
       "version_major": 2,
       "version_minor": 0
      },
      "text/plain": [
       "network dynamic:   0%|          | 0/9999 [00:00<?, ?it/s]"
      ]
     },
     "metadata": {},
     "output_type": "display_data"
    },
    {
     "data": {
      "application/vnd.jupyter.widget-view+json": {
       "model_id": "b9c14d3e999047b195a5c8289f394e57",
       "version_major": 2,
       "version_minor": 0
      },
      "text/plain": [
       "Variation of alpha:   0%|          | 0/1 [00:00<?, ?it/s]"
      ]
     },
     "metadata": {},
     "output_type": "display_data"
    },
    {
     "data": {
      "application/vnd.jupyter.widget-view+json": {
       "model_id": "7555da1297814a698502b25389d1474b",
       "version_major": 2,
       "version_minor": 0
      },
      "text/plain": [
       "Making ensembles:   0%|          | 0/1 [00:00<?, ?it/s]"
      ]
     },
     "metadata": {},
     "output_type": "display_data"
    },
    {
     "data": {
      "application/vnd.jupyter.widget-view+json": {
       "model_id": "5450d9939daf4ae4b103152f1f94b7d0",
       "version_major": 2,
       "version_minor": 0
      },
      "text/plain": [
       "network dynamic:   0%|          | 0/9999 [00:00<?, ?it/s]"
      ]
     },
     "metadata": {},
     "output_type": "display_data"
    },
    {
     "data": {
      "application/vnd.jupyter.widget-view+json": {
       "model_id": "b1311a1a197d42b8b7773277dad72ef8",
       "version_major": 2,
       "version_minor": 0
      },
      "text/plain": [
       "Variation of alpha:   0%|          | 0/1 [00:00<?, ?it/s]"
      ]
     },
     "metadata": {},
     "output_type": "display_data"
    },
    {
     "data": {
      "application/vnd.jupyter.widget-view+json": {
       "model_id": "9a1b83dbda8a42b49b2cb45abb48e518",
       "version_major": 2,
       "version_minor": 0
      },
      "text/plain": [
       "Making ensembles:   0%|          | 0/1 [00:00<?, ?it/s]"
      ]
     },
     "metadata": {},
     "output_type": "display_data"
    },
    {
     "data": {
      "application/vnd.jupyter.widget-view+json": {
       "model_id": "86afb8bf762f4a61b85efc9dc4dd6288",
       "version_major": 2,
       "version_minor": 0
      },
      "text/plain": [
       "network dynamic:   0%|          | 0/9999 [00:00<?, ?it/s]"
      ]
     },
     "metadata": {},
     "output_type": "display_data"
    },
    {
     "data": {
      "application/vnd.jupyter.widget-view+json": {
       "model_id": "8b9b6d5a758544b491bf65bb0fab2054",
       "version_major": 2,
       "version_minor": 0
      },
      "text/plain": [
       "Variation of alpha:   0%|          | 0/1 [00:00<?, ?it/s]"
      ]
     },
     "metadata": {},
     "output_type": "display_data"
    },
    {
     "data": {
      "application/vnd.jupyter.widget-view+json": {
       "model_id": "6e2321fb42424a319e6aa5bd282cd961",
       "version_major": 2,
       "version_minor": 0
      },
      "text/plain": [
       "Making ensembles:   0%|          | 0/1 [00:00<?, ?it/s]"
      ]
     },
     "metadata": {},
     "output_type": "display_data"
    },
    {
     "data": {
      "application/vnd.jupyter.widget-view+json": {
       "model_id": "8490409661624559af340ffb0611644f",
       "version_major": 2,
       "version_minor": 0
      },
      "text/plain": [
       "network dynamic:   0%|          | 0/9999 [00:00<?, ?it/s]"
      ]
     },
     "metadata": {},
     "output_type": "display_data"
    },
    {
     "data": {
      "application/vnd.jupyter.widget-view+json": {
       "model_id": "8be5fa29f7524a23bb0f2439ca17f1fd",
       "version_major": 2,
       "version_minor": 0
      },
      "text/plain": [
       "Variation of alpha:   0%|          | 0/1 [00:00<?, ?it/s]"
      ]
     },
     "metadata": {},
     "output_type": "display_data"
    },
    {
     "data": {
      "application/vnd.jupyter.widget-view+json": {
       "model_id": "db7935f39ec244f5ab2d165f5ab47635",
       "version_major": 2,
       "version_minor": 0
      },
      "text/plain": [
       "Making ensembles:   0%|          | 0/1 [00:00<?, ?it/s]"
      ]
     },
     "metadata": {},
     "output_type": "display_data"
    },
    {
     "data": {
      "application/vnd.jupyter.widget-view+json": {
       "model_id": "c0a557fc86f145eeabf1f21718f895ba",
       "version_major": 2,
       "version_minor": 0
      },
      "text/plain": [
       "network dynamic:   0%|          | 0/9999 [00:00<?, ?it/s]"
      ]
     },
     "metadata": {},
     "output_type": "display_data"
    },
    {
     "data": {
      "application/vnd.jupyter.widget-view+json": {
       "model_id": "a9281c40b51b425ca14cd4d44ef50c86",
       "version_major": 2,
       "version_minor": 0
      },
      "text/plain": [
       "Variation of alpha:   0%|          | 0/1 [00:00<?, ?it/s]"
      ]
     },
     "metadata": {},
     "output_type": "display_data"
    },
    {
     "data": {
      "application/vnd.jupyter.widget-view+json": {
       "model_id": "be07933d12844757a5abaa16de6b1816",
       "version_major": 2,
       "version_minor": 0
      },
      "text/plain": [
       "Making ensembles:   0%|          | 0/1 [00:00<?, ?it/s]"
      ]
     },
     "metadata": {},
     "output_type": "display_data"
    },
    {
     "data": {
      "application/vnd.jupyter.widget-view+json": {
       "model_id": "ea872b74ea1c4ec28c63ac9ebbc21930",
       "version_major": 2,
       "version_minor": 0
      },
      "text/plain": [
       "network dynamic:   0%|          | 0/9999 [00:00<?, ?it/s]"
      ]
     },
     "metadata": {},
     "output_type": "display_data"
    },
    {
     "data": {
      "application/vnd.jupyter.widget-view+json": {
       "model_id": "84e147db136f40dd934a29ebad472f52",
       "version_major": 2,
       "version_minor": 0
      },
      "text/plain": [
       "Variation of delay:   0%|          | 0/13 [00:00<?, ?it/s]"
      ]
     },
     "metadata": {},
     "output_type": "display_data"
    },
    {
     "data": {
      "application/vnd.jupyter.widget-view+json": {
       "model_id": "394790d3e3ef4e13ab871ad8d3562014",
       "version_major": 2,
       "version_minor": 0
      },
      "text/plain": [
       "Variation of alpha:   0%|          | 0/1 [00:00<?, ?it/s]"
      ]
     },
     "metadata": {},
     "output_type": "display_data"
    },
    {
     "data": {
      "application/vnd.jupyter.widget-view+json": {
       "model_id": "2fd1a00628a24e2bb6ab3c811e452355",
       "version_major": 2,
       "version_minor": 0
      },
      "text/plain": [
       "Making ensembles:   0%|          | 0/1 [00:00<?, ?it/s]"
      ]
     },
     "metadata": {},
     "output_type": "display_data"
    },
    {
     "data": {
      "application/vnd.jupyter.widget-view+json": {
       "model_id": "cbcae8c15e4a4df480a7f2e55d7e0099",
       "version_major": 2,
       "version_minor": 0
      },
      "text/plain": [
       "network dynamic:   0%|          | 0/9999 [00:00<?, ?it/s]"
      ]
     },
     "metadata": {},
     "output_type": "display_data"
    },
    {
     "data": {
      "application/vnd.jupyter.widget-view+json": {
       "model_id": "0f99d0853bc64bb4bc2d67712a93f6c5",
       "version_major": 2,
       "version_minor": 0
      },
      "text/plain": [
       "Variation of alpha:   0%|          | 0/1 [00:00<?, ?it/s]"
      ]
     },
     "metadata": {},
     "output_type": "display_data"
    },
    {
     "data": {
      "application/vnd.jupyter.widget-view+json": {
       "model_id": "00af6e1b9a1c4ef1bf965d5d2766475d",
       "version_major": 2,
       "version_minor": 0
      },
      "text/plain": [
       "Making ensembles:   0%|          | 0/1 [00:00<?, ?it/s]"
      ]
     },
     "metadata": {},
     "output_type": "display_data"
    },
    {
     "data": {
      "application/vnd.jupyter.widget-view+json": {
       "model_id": "1fe3b5a4ecee427ba960b70f080cf250",
       "version_major": 2,
       "version_minor": 0
      },
      "text/plain": [
       "network dynamic:   0%|          | 0/9999 [00:00<?, ?it/s]"
      ]
     },
     "metadata": {},
     "output_type": "display_data"
    },
    {
     "data": {
      "application/vnd.jupyter.widget-view+json": {
       "model_id": "af7d4dc48bd54a1caffd908dfb96e5bf",
       "version_major": 2,
       "version_minor": 0
      },
      "text/plain": [
       "Variation of alpha:   0%|          | 0/1 [00:00<?, ?it/s]"
      ]
     },
     "metadata": {},
     "output_type": "display_data"
    },
    {
     "data": {
      "application/vnd.jupyter.widget-view+json": {
       "model_id": "5b2b9cbb15264e26a1e09804ff39f876",
       "version_major": 2,
       "version_minor": 0
      },
      "text/plain": [
       "Making ensembles:   0%|          | 0/1 [00:00<?, ?it/s]"
      ]
     },
     "metadata": {},
     "output_type": "display_data"
    },
    {
     "data": {
      "application/vnd.jupyter.widget-view+json": {
       "model_id": "e18db41125c34ed8851d1a4d5312460c",
       "version_major": 2,
       "version_minor": 0
      },
      "text/plain": [
       "network dynamic:   0%|          | 0/9999 [00:00<?, ?it/s]"
      ]
     },
     "metadata": {},
     "output_type": "display_data"
    },
    {
     "data": {
      "application/vnd.jupyter.widget-view+json": {
       "model_id": "953a1333475d4f75aaa78c8ca5390fc9",
       "version_major": 2,
       "version_minor": 0
      },
      "text/plain": [
       "Variation of alpha:   0%|          | 0/1 [00:00<?, ?it/s]"
      ]
     },
     "metadata": {},
     "output_type": "display_data"
    },
    {
     "data": {
      "application/vnd.jupyter.widget-view+json": {
       "model_id": "447b057b5ea94e69bc685e966b63f74f",
       "version_major": 2,
       "version_minor": 0
      },
      "text/plain": [
       "Making ensembles:   0%|          | 0/1 [00:00<?, ?it/s]"
      ]
     },
     "metadata": {},
     "output_type": "display_data"
    },
    {
     "data": {
      "application/vnd.jupyter.widget-view+json": {
       "model_id": "65e727badf7d456ca5df4af79fec4d39",
       "version_major": 2,
       "version_minor": 0
      },
      "text/plain": [
       "network dynamic:   0%|          | 0/9999 [00:00<?, ?it/s]"
      ]
     },
     "metadata": {},
     "output_type": "display_data"
    },
    {
     "data": {
      "application/vnd.jupyter.widget-view+json": {
       "model_id": "29da4d12d94d4150abeca82c4a7b76fe",
       "version_major": 2,
       "version_minor": 0
      },
      "text/plain": [
       "Variation of alpha:   0%|          | 0/1 [00:00<?, ?it/s]"
      ]
     },
     "metadata": {},
     "output_type": "display_data"
    },
    {
     "data": {
      "application/vnd.jupyter.widget-view+json": {
       "model_id": "67d6af216d87424684346868715014b1",
       "version_major": 2,
       "version_minor": 0
      },
      "text/plain": [
       "Making ensembles:   0%|          | 0/1 [00:00<?, ?it/s]"
      ]
     },
     "metadata": {},
     "output_type": "display_data"
    },
    {
     "data": {
      "application/vnd.jupyter.widget-view+json": {
       "model_id": "de39a09ac36b4eb69564340d36a9fcbc",
       "version_major": 2,
       "version_minor": 0
      },
      "text/plain": [
       "network dynamic:   0%|          | 0/9999 [00:00<?, ?it/s]"
      ]
     },
     "metadata": {},
     "output_type": "display_data"
    },
    {
     "data": {
      "application/vnd.jupyter.widget-view+json": {
       "model_id": "8298c9acfba544faa628684c2820dd78",
       "version_major": 2,
       "version_minor": 0
      },
      "text/plain": [
       "Variation of alpha:   0%|          | 0/1 [00:00<?, ?it/s]"
      ]
     },
     "metadata": {},
     "output_type": "display_data"
    },
    {
     "data": {
      "application/vnd.jupyter.widget-view+json": {
       "model_id": "683b7012d3b742abadb9959388251c12",
       "version_major": 2,
       "version_minor": 0
      },
      "text/plain": [
       "Making ensembles:   0%|          | 0/1 [00:00<?, ?it/s]"
      ]
     },
     "metadata": {},
     "output_type": "display_data"
    },
    {
     "data": {
      "application/vnd.jupyter.widget-view+json": {
       "model_id": "ca0c54f214dc488fa0208a9c85b80c8d",
       "version_major": 2,
       "version_minor": 0
      },
      "text/plain": [
       "network dynamic:   0%|          | 0/9999 [00:00<?, ?it/s]"
      ]
     },
     "metadata": {},
     "output_type": "display_data"
    },
    {
     "data": {
      "application/vnd.jupyter.widget-view+json": {
       "model_id": "a03c9795005c47f9924a48af87b2ff7e",
       "version_major": 2,
       "version_minor": 0
      },
      "text/plain": [
       "Variation of alpha:   0%|          | 0/1 [00:00<?, ?it/s]"
      ]
     },
     "metadata": {},
     "output_type": "display_data"
    },
    {
     "data": {
      "application/vnd.jupyter.widget-view+json": {
       "model_id": "b20fad0ded1d4cfd8185eec824fcbbd5",
       "version_major": 2,
       "version_minor": 0
      },
      "text/plain": [
       "Making ensembles:   0%|          | 0/1 [00:00<?, ?it/s]"
      ]
     },
     "metadata": {},
     "output_type": "display_data"
    },
    {
     "data": {
      "application/vnd.jupyter.widget-view+json": {
       "model_id": "92cd413da60948b8bac2c1b73a0d5032",
       "version_major": 2,
       "version_minor": 0
      },
      "text/plain": [
       "network dynamic:   0%|          | 0/9999 [00:00<?, ?it/s]"
      ]
     },
     "metadata": {},
     "output_type": "display_data"
    },
    {
     "data": {
      "application/vnd.jupyter.widget-view+json": {
       "model_id": "33fcec975f28481ca2e6b298642a66e2",
       "version_major": 2,
       "version_minor": 0
      },
      "text/plain": [
       "Variation of alpha:   0%|          | 0/1 [00:00<?, ?it/s]"
      ]
     },
     "metadata": {},
     "output_type": "display_data"
    },
    {
     "data": {
      "application/vnd.jupyter.widget-view+json": {
       "model_id": "00ed60c1efd54fdb851750b67a474399",
       "version_major": 2,
       "version_minor": 0
      },
      "text/plain": [
       "Making ensembles:   0%|          | 0/1 [00:00<?, ?it/s]"
      ]
     },
     "metadata": {},
     "output_type": "display_data"
    },
    {
     "data": {
      "application/vnd.jupyter.widget-view+json": {
       "model_id": "2f15e29baaca4a8f814d35d78bb7f051",
       "version_major": 2,
       "version_minor": 0
      },
      "text/plain": [
       "network dynamic:   0%|          | 0/9999 [00:00<?, ?it/s]"
      ]
     },
     "metadata": {},
     "output_type": "display_data"
    },
    {
     "data": {
      "application/vnd.jupyter.widget-view+json": {
       "model_id": "959989ed2d2747a1a8286486558f52d4",
       "version_major": 2,
       "version_minor": 0
      },
      "text/plain": [
       "Variation of alpha:   0%|          | 0/1 [00:00<?, ?it/s]"
      ]
     },
     "metadata": {},
     "output_type": "display_data"
    },
    {
     "data": {
      "application/vnd.jupyter.widget-view+json": {
       "model_id": "b732646f6088424aa80303d397e2aa8e",
       "version_major": 2,
       "version_minor": 0
      },
      "text/plain": [
       "Making ensembles:   0%|          | 0/1 [00:00<?, ?it/s]"
      ]
     },
     "metadata": {},
     "output_type": "display_data"
    },
    {
     "data": {
      "application/vnd.jupyter.widget-view+json": {
       "model_id": "f31cb462e2ef4683a5676fbdb979a0a1",
       "version_major": 2,
       "version_minor": 0
      },
      "text/plain": [
       "network dynamic:   0%|          | 0/9999 [00:00<?, ?it/s]"
      ]
     },
     "metadata": {},
     "output_type": "display_data"
    },
    {
     "data": {
      "application/vnd.jupyter.widget-view+json": {
       "model_id": "a47af38891b24bca999006bf685d282e",
       "version_major": 2,
       "version_minor": 0
      },
      "text/plain": [
       "Variation of alpha:   0%|          | 0/1 [00:00<?, ?it/s]"
      ]
     },
     "metadata": {},
     "output_type": "display_data"
    },
    {
     "data": {
      "application/vnd.jupyter.widget-view+json": {
       "model_id": "3111e8becc6f49aeb94d59bba199507f",
       "version_major": 2,
       "version_minor": 0
      },
      "text/plain": [
       "Making ensembles:   0%|          | 0/1 [00:00<?, ?it/s]"
      ]
     },
     "metadata": {},
     "output_type": "display_data"
    },
    {
     "data": {
      "application/vnd.jupyter.widget-view+json": {
       "model_id": "419d274ee64d439988918c2a7e46daeb",
       "version_major": 2,
       "version_minor": 0
      },
      "text/plain": [
       "network dynamic:   0%|          | 0/9999 [00:00<?, ?it/s]"
      ]
     },
     "metadata": {},
     "output_type": "display_data"
    },
    {
     "data": {
      "application/vnd.jupyter.widget-view+json": {
       "model_id": "e3a9228538ca489eae0a617d7946093f",
       "version_major": 2,
       "version_minor": 0
      },
      "text/plain": [
       "Variation of alpha:   0%|          | 0/1 [00:00<?, ?it/s]"
      ]
     },
     "metadata": {},
     "output_type": "display_data"
    },
    {
     "data": {
      "application/vnd.jupyter.widget-view+json": {
       "model_id": "e02487f8ed984258a1542ec4f99be4cd",
       "version_major": 2,
       "version_minor": 0
      },
      "text/plain": [
       "Making ensembles:   0%|          | 0/1 [00:00<?, ?it/s]"
      ]
     },
     "metadata": {},
     "output_type": "display_data"
    },
    {
     "data": {
      "application/vnd.jupyter.widget-view+json": {
       "model_id": "2960bc2cfaf04c088a793cb2cbb93c93",
       "version_major": 2,
       "version_minor": 0
      },
      "text/plain": [
       "network dynamic:   0%|          | 0/9999 [00:00<?, ?it/s]"
      ]
     },
     "metadata": {},
     "output_type": "display_data"
    },
    {
     "data": {
      "application/vnd.jupyter.widget-view+json": {
       "model_id": "7fec19df2e6e495e83ce0e6ea46466c8",
       "version_major": 2,
       "version_minor": 0
      },
      "text/plain": [
       "Variation of alpha:   0%|          | 0/1 [00:00<?, ?it/s]"
      ]
     },
     "metadata": {},
     "output_type": "display_data"
    },
    {
     "data": {
      "application/vnd.jupyter.widget-view+json": {
       "model_id": "27825588c8a246c2938f81d89dcf92e8",
       "version_major": 2,
       "version_minor": 0
      },
      "text/plain": [
       "Making ensembles:   0%|          | 0/1 [00:00<?, ?it/s]"
      ]
     },
     "metadata": {},
     "output_type": "display_data"
    },
    {
     "data": {
      "application/vnd.jupyter.widget-view+json": {
       "model_id": "f305ecbedc864055b68f2b459e16f93b",
       "version_major": 2,
       "version_minor": 0
      },
      "text/plain": [
       "network dynamic:   0%|          | 0/9999 [00:00<?, ?it/s]"
      ]
     },
     "metadata": {},
     "output_type": "display_data"
    },
    {
     "data": {
      "application/vnd.jupyter.widget-view+json": {
       "model_id": "5228e8c3020e4a66a78655b8e746342d",
       "version_major": 2,
       "version_minor": 0
      },
      "text/plain": [
       "Variation of alpha:   0%|          | 0/1 [00:00<?, ?it/s]"
      ]
     },
     "metadata": {},
     "output_type": "display_data"
    },
    {
     "data": {
      "application/vnd.jupyter.widget-view+json": {
       "model_id": "e6a9b4cf2a83480db2cd19eda0090126",
       "version_major": 2,
       "version_minor": 0
      },
      "text/plain": [
       "Making ensembles:   0%|          | 0/1 [00:00<?, ?it/s]"
      ]
     },
     "metadata": {},
     "output_type": "display_data"
    },
    {
     "data": {
      "application/vnd.jupyter.widget-view+json": {
       "model_id": "dcf1571b987c4547ab9e42e6fab1e5ec",
       "version_major": 2,
       "version_minor": 0
      },
      "text/plain": [
       "network dynamic:   0%|          | 0/9999 [00:00<?, ?it/s]"
      ]
     },
     "metadata": {},
     "output_type": "display_data"
    },
    {
     "data": {
      "application/vnd.jupyter.widget-view+json": {
       "model_id": "f7c7509404dc4bc497492dd00f18cf7d",
       "version_major": 2,
       "version_minor": 0
      },
      "text/plain": [
       "Variation of delay:   0%|          | 0/13 [00:00<?, ?it/s]"
      ]
     },
     "metadata": {},
     "output_type": "display_data"
    },
    {
     "data": {
      "application/vnd.jupyter.widget-view+json": {
       "model_id": "851c614fe6ea49b5bea435a84e0005a5",
       "version_major": 2,
       "version_minor": 0
      },
      "text/plain": [
       "Variation of alpha:   0%|          | 0/1 [00:00<?, ?it/s]"
      ]
     },
     "metadata": {},
     "output_type": "display_data"
    },
    {
     "data": {
      "application/vnd.jupyter.widget-view+json": {
       "model_id": "da70f07f1b2a4d4281a68adc8b4643a7",
       "version_major": 2,
       "version_minor": 0
      },
      "text/plain": [
       "Making ensembles:   0%|          | 0/1 [00:00<?, ?it/s]"
      ]
     },
     "metadata": {},
     "output_type": "display_data"
    },
    {
     "data": {
      "application/vnd.jupyter.widget-view+json": {
       "model_id": "24829cfd3fe34315af231046a5dbf502",
       "version_major": 2,
       "version_minor": 0
      },
      "text/plain": [
       "network dynamic:   0%|          | 0/9999 [00:00<?, ?it/s]"
      ]
     },
     "metadata": {},
     "output_type": "display_data"
    },
    {
     "data": {
      "application/vnd.jupyter.widget-view+json": {
       "model_id": "7b1b62a482d44a79b1610140751f9870",
       "version_major": 2,
       "version_minor": 0
      },
      "text/plain": [
       "Variation of alpha:   0%|          | 0/1 [00:00<?, ?it/s]"
      ]
     },
     "metadata": {},
     "output_type": "display_data"
    },
    {
     "data": {
      "application/vnd.jupyter.widget-view+json": {
       "model_id": "a5cb0ee28ca74d71903a75a10f6ac4c2",
       "version_major": 2,
       "version_minor": 0
      },
      "text/plain": [
       "Making ensembles:   0%|          | 0/1 [00:00<?, ?it/s]"
      ]
     },
     "metadata": {},
     "output_type": "display_data"
    },
    {
     "data": {
      "application/vnd.jupyter.widget-view+json": {
       "model_id": "2586569387364ee9af8067ed6c66c518",
       "version_major": 2,
       "version_minor": 0
      },
      "text/plain": [
       "network dynamic:   0%|          | 0/9999 [00:00<?, ?it/s]"
      ]
     },
     "metadata": {},
     "output_type": "display_data"
    },
    {
     "data": {
      "application/vnd.jupyter.widget-view+json": {
       "model_id": "226688988dd546179fdb8111ee15e566",
       "version_major": 2,
       "version_minor": 0
      },
      "text/plain": [
       "Variation of alpha:   0%|          | 0/1 [00:00<?, ?it/s]"
      ]
     },
     "metadata": {},
     "output_type": "display_data"
    },
    {
     "data": {
      "application/vnd.jupyter.widget-view+json": {
       "model_id": "a714881278d84b298e9353e96e12a68f",
       "version_major": 2,
       "version_minor": 0
      },
      "text/plain": [
       "Making ensembles:   0%|          | 0/1 [00:00<?, ?it/s]"
      ]
     },
     "metadata": {},
     "output_type": "display_data"
    },
    {
     "data": {
      "application/vnd.jupyter.widget-view+json": {
       "model_id": "68cbbe3dc31a4048a8328bb8720e749e",
       "version_major": 2,
       "version_minor": 0
      },
      "text/plain": [
       "network dynamic:   0%|          | 0/9999 [00:00<?, ?it/s]"
      ]
     },
     "metadata": {},
     "output_type": "display_data"
    },
    {
     "data": {
      "application/vnd.jupyter.widget-view+json": {
       "model_id": "42e8a76e55304f0aa58e274391a2e006",
       "version_major": 2,
       "version_minor": 0
      },
      "text/plain": [
       "Variation of alpha:   0%|          | 0/1 [00:00<?, ?it/s]"
      ]
     },
     "metadata": {},
     "output_type": "display_data"
    },
    {
     "data": {
      "application/vnd.jupyter.widget-view+json": {
       "model_id": "14ec2573bbf5412f9854290cfe631673",
       "version_major": 2,
       "version_minor": 0
      },
      "text/plain": [
       "Making ensembles:   0%|          | 0/1 [00:00<?, ?it/s]"
      ]
     },
     "metadata": {},
     "output_type": "display_data"
    },
    {
     "data": {
      "application/vnd.jupyter.widget-view+json": {
       "model_id": "904ed1742e524740bfacf9332334121a",
       "version_major": 2,
       "version_minor": 0
      },
      "text/plain": [
       "network dynamic:   0%|          | 0/9999 [00:00<?, ?it/s]"
      ]
     },
     "metadata": {},
     "output_type": "display_data"
    },
    {
     "data": {
      "application/vnd.jupyter.widget-view+json": {
       "model_id": "efbd5412365a47d79dc7e3de939972a1",
       "version_major": 2,
       "version_minor": 0
      },
      "text/plain": [
       "Variation of alpha:   0%|          | 0/1 [00:00<?, ?it/s]"
      ]
     },
     "metadata": {},
     "output_type": "display_data"
    },
    {
     "data": {
      "application/vnd.jupyter.widget-view+json": {
       "model_id": "751c66392aa24bbead92c4702efe514f",
       "version_major": 2,
       "version_minor": 0
      },
      "text/plain": [
       "Making ensembles:   0%|          | 0/1 [00:00<?, ?it/s]"
      ]
     },
     "metadata": {},
     "output_type": "display_data"
    },
    {
     "data": {
      "application/vnd.jupyter.widget-view+json": {
       "model_id": "2c93a0f99be041ecb95771ec7657a006",
       "version_major": 2,
       "version_minor": 0
      },
      "text/plain": [
       "network dynamic:   0%|          | 0/9999 [00:00<?, ?it/s]"
      ]
     },
     "metadata": {},
     "output_type": "display_data"
    },
    {
     "data": {
      "application/vnd.jupyter.widget-view+json": {
       "model_id": "fbfa638baaca4291babb7d0231d8f423",
       "version_major": 2,
       "version_minor": 0
      },
      "text/plain": [
       "Variation of alpha:   0%|          | 0/1 [00:00<?, ?it/s]"
      ]
     },
     "metadata": {},
     "output_type": "display_data"
    },
    {
     "data": {
      "application/vnd.jupyter.widget-view+json": {
       "model_id": "3690a50a1026429a9ad4a5394b421908",
       "version_major": 2,
       "version_minor": 0
      },
      "text/plain": [
       "Making ensembles:   0%|          | 0/1 [00:00<?, ?it/s]"
      ]
     },
     "metadata": {},
     "output_type": "display_data"
    },
    {
     "data": {
      "application/vnd.jupyter.widget-view+json": {
       "model_id": "e35c66a3c2aa4449a8b705a63fbddf30",
       "version_major": 2,
       "version_minor": 0
      },
      "text/plain": [
       "network dynamic:   0%|          | 0/9999 [00:00<?, ?it/s]"
      ]
     },
     "metadata": {},
     "output_type": "display_data"
    },
    {
     "data": {
      "application/vnd.jupyter.widget-view+json": {
       "model_id": "575b0ee41a48474f82d7cfde650dda4f",
       "version_major": 2,
       "version_minor": 0
      },
      "text/plain": [
       "Variation of alpha:   0%|          | 0/1 [00:00<?, ?it/s]"
      ]
     },
     "metadata": {},
     "output_type": "display_data"
    },
    {
     "data": {
      "application/vnd.jupyter.widget-view+json": {
       "model_id": "22778611090f4d8cac6d47f9efbc8a4c",
       "version_major": 2,
       "version_minor": 0
      },
      "text/plain": [
       "Making ensembles:   0%|          | 0/1 [00:00<?, ?it/s]"
      ]
     },
     "metadata": {},
     "output_type": "display_data"
    },
    {
     "data": {
      "application/vnd.jupyter.widget-view+json": {
       "model_id": "aebac505e0fd42d68aaf460aa86fa4e2",
       "version_major": 2,
       "version_minor": 0
      },
      "text/plain": [
       "network dynamic:   0%|          | 0/9999 [00:00<?, ?it/s]"
      ]
     },
     "metadata": {},
     "output_type": "display_data"
    },
    {
     "data": {
      "application/vnd.jupyter.widget-view+json": {
       "model_id": "7dcc8918953f4ff3a0d783b6214e77f2",
       "version_major": 2,
       "version_minor": 0
      },
      "text/plain": [
       "Variation of alpha:   0%|          | 0/1 [00:00<?, ?it/s]"
      ]
     },
     "metadata": {},
     "output_type": "display_data"
    },
    {
     "data": {
      "application/vnd.jupyter.widget-view+json": {
       "model_id": "d36eccb8bb2f44798dc86845db31c98e",
       "version_major": 2,
       "version_minor": 0
      },
      "text/plain": [
       "Making ensembles:   0%|          | 0/1 [00:00<?, ?it/s]"
      ]
     },
     "metadata": {},
     "output_type": "display_data"
    },
    {
     "data": {
      "application/vnd.jupyter.widget-view+json": {
       "model_id": "0f2c7a97d7514a56a916d755819d40f8",
       "version_major": 2,
       "version_minor": 0
      },
      "text/plain": [
       "network dynamic:   0%|          | 0/9999 [00:00<?, ?it/s]"
      ]
     },
     "metadata": {},
     "output_type": "display_data"
    },
    {
     "data": {
      "application/vnd.jupyter.widget-view+json": {
       "model_id": "2af565ae23d8427a80a2fbb4da47f577",
       "version_major": 2,
       "version_minor": 0
      },
      "text/plain": [
       "Variation of alpha:   0%|          | 0/1 [00:00<?, ?it/s]"
      ]
     },
     "metadata": {},
     "output_type": "display_data"
    },
    {
     "data": {
      "application/vnd.jupyter.widget-view+json": {
       "model_id": "e67c4f37466d4b619b8c2cbbeeeec7f7",
       "version_major": 2,
       "version_minor": 0
      },
      "text/plain": [
       "Making ensembles:   0%|          | 0/1 [00:00<?, ?it/s]"
      ]
     },
     "metadata": {},
     "output_type": "display_data"
    },
    {
     "data": {
      "application/vnd.jupyter.widget-view+json": {
       "model_id": "56f83353d4b147428756ab86d937516e",
       "version_major": 2,
       "version_minor": 0
      },
      "text/plain": [
       "network dynamic:   0%|          | 0/9999 [00:00<?, ?it/s]"
      ]
     },
     "metadata": {},
     "output_type": "display_data"
    },
    {
     "data": {
      "application/vnd.jupyter.widget-view+json": {
       "model_id": "db94220eb4594874834763d3ed48cc5e",
       "version_major": 2,
       "version_minor": 0
      },
      "text/plain": [
       "Variation of alpha:   0%|          | 0/1 [00:00<?, ?it/s]"
      ]
     },
     "metadata": {},
     "output_type": "display_data"
    },
    {
     "data": {
      "application/vnd.jupyter.widget-view+json": {
       "model_id": "f8afb586e98f41fea63bce2fce41df74",
       "version_major": 2,
       "version_minor": 0
      },
      "text/plain": [
       "Making ensembles:   0%|          | 0/1 [00:00<?, ?it/s]"
      ]
     },
     "metadata": {},
     "output_type": "display_data"
    },
    {
     "data": {
      "application/vnd.jupyter.widget-view+json": {
       "model_id": "91e0d85db3924cffa28e13a8e1a05acb",
       "version_major": 2,
       "version_minor": 0
      },
      "text/plain": [
       "network dynamic:   0%|          | 0/9999 [00:00<?, ?it/s]"
      ]
     },
     "metadata": {},
     "output_type": "display_data"
    },
    {
     "data": {
      "application/vnd.jupyter.widget-view+json": {
       "model_id": "6ca74c9a05c545129a3f90989ae748f6",
       "version_major": 2,
       "version_minor": 0
      },
      "text/plain": [
       "Variation of alpha:   0%|          | 0/1 [00:00<?, ?it/s]"
      ]
     },
     "metadata": {},
     "output_type": "display_data"
    },
    {
     "data": {
      "application/vnd.jupyter.widget-view+json": {
       "model_id": "5f62ed5b3e05461b8c9c5468b1c2657f",
       "version_major": 2,
       "version_minor": 0
      },
      "text/plain": [
       "Making ensembles:   0%|          | 0/1 [00:00<?, ?it/s]"
      ]
     },
     "metadata": {},
     "output_type": "display_data"
    },
    {
     "data": {
      "application/vnd.jupyter.widget-view+json": {
       "model_id": "97de827b20674ea3a78e52e962f6085f",
       "version_major": 2,
       "version_minor": 0
      },
      "text/plain": [
       "network dynamic:   0%|          | 0/9999 [00:00<?, ?it/s]"
      ]
     },
     "metadata": {},
     "output_type": "display_data"
    },
    {
     "data": {
      "application/vnd.jupyter.widget-view+json": {
       "model_id": "268c57ecda8b44359a0d8fca7084cffa",
       "version_major": 2,
       "version_minor": 0
      },
      "text/plain": [
       "Variation of alpha:   0%|          | 0/1 [00:00<?, ?it/s]"
      ]
     },
     "metadata": {},
     "output_type": "display_data"
    },
    {
     "data": {
      "application/vnd.jupyter.widget-view+json": {
       "model_id": "a6e579bdd4f54c1fa9b4a870cf1e753e",
       "version_major": 2,
       "version_minor": 0
      },
      "text/plain": [
       "Making ensembles:   0%|          | 0/1 [00:00<?, ?it/s]"
      ]
     },
     "metadata": {},
     "output_type": "display_data"
    },
    {
     "data": {
      "application/vnd.jupyter.widget-view+json": {
       "model_id": "cbc078646fe44a59be64170e4e9758ab",
       "version_major": 2,
       "version_minor": 0
      },
      "text/plain": [
       "network dynamic:   0%|          | 0/9999 [00:00<?, ?it/s]"
      ]
     },
     "metadata": {},
     "output_type": "display_data"
    },
    {
     "data": {
      "application/vnd.jupyter.widget-view+json": {
       "model_id": "d49e2c4f8b754e4b83b6a3971d680fad",
       "version_major": 2,
       "version_minor": 0
      },
      "text/plain": [
       "Variation of alpha:   0%|          | 0/1 [00:00<?, ?it/s]"
      ]
     },
     "metadata": {},
     "output_type": "display_data"
    },
    {
     "data": {
      "application/vnd.jupyter.widget-view+json": {
       "model_id": "dac6e608ac6846bead5ee796523d83d9",
       "version_major": 2,
       "version_minor": 0
      },
      "text/plain": [
       "Making ensembles:   0%|          | 0/1 [00:00<?, ?it/s]"
      ]
     },
     "metadata": {},
     "output_type": "display_data"
    },
    {
     "data": {
      "application/vnd.jupyter.widget-view+json": {
       "model_id": "4403262452ad4b07a459b1595a305d86",
       "version_major": 2,
       "version_minor": 0
      },
      "text/plain": [
       "network dynamic:   0%|          | 0/9999 [00:00<?, ?it/s]"
      ]
     },
     "metadata": {},
     "output_type": "display_data"
    },
    {
     "data": {
      "application/vnd.jupyter.widget-view+json": {
       "model_id": "3b31f63a049e45a7b381ff325743cf43",
       "version_major": 2,
       "version_minor": 0
      },
      "text/plain": [
       "Variation of delay:   0%|          | 0/13 [00:00<?, ?it/s]"
      ]
     },
     "metadata": {},
     "output_type": "display_data"
    },
    {
     "data": {
      "application/vnd.jupyter.widget-view+json": {
       "model_id": "593907c1ae5e4888927806cac70e62b0",
       "version_major": 2,
       "version_minor": 0
      },
      "text/plain": [
       "Variation of alpha:   0%|          | 0/1 [00:00<?, ?it/s]"
      ]
     },
     "metadata": {},
     "output_type": "display_data"
    },
    {
     "data": {
      "application/vnd.jupyter.widget-view+json": {
       "model_id": "d605871d9fe645138988a8cee647f94a",
       "version_major": 2,
       "version_minor": 0
      },
      "text/plain": [
       "Making ensembles:   0%|          | 0/1 [00:00<?, ?it/s]"
      ]
     },
     "metadata": {},
     "output_type": "display_data"
    },
    {
     "data": {
      "application/vnd.jupyter.widget-view+json": {
       "model_id": "d4efabdaef9e4914994ba68e11cb362d",
       "version_major": 2,
       "version_minor": 0
      },
      "text/plain": [
       "network dynamic:   0%|          | 0/9999 [00:00<?, ?it/s]"
      ]
     },
     "metadata": {},
     "output_type": "display_data"
    },
    {
     "data": {
      "application/vnd.jupyter.widget-view+json": {
       "model_id": "2c881d8cf4854c8b979f330eecfd0a40",
       "version_major": 2,
       "version_minor": 0
      },
      "text/plain": [
       "Variation of alpha:   0%|          | 0/1 [00:00<?, ?it/s]"
      ]
     },
     "metadata": {},
     "output_type": "display_data"
    },
    {
     "data": {
      "application/vnd.jupyter.widget-view+json": {
       "model_id": "07648af10afd40bcb01e866ce1c8719f",
       "version_major": 2,
       "version_minor": 0
      },
      "text/plain": [
       "Making ensembles:   0%|          | 0/1 [00:00<?, ?it/s]"
      ]
     },
     "metadata": {},
     "output_type": "display_data"
    },
    {
     "data": {
      "application/vnd.jupyter.widget-view+json": {
       "model_id": "917116b1a878445fa92b4e1e867c0eb7",
       "version_major": 2,
       "version_minor": 0
      },
      "text/plain": [
       "network dynamic:   0%|          | 0/9999 [00:00<?, ?it/s]"
      ]
     },
     "metadata": {},
     "output_type": "display_data"
    },
    {
     "data": {
      "application/vnd.jupyter.widget-view+json": {
       "model_id": "bbfd7ef0ecc140f8bf90b7ee231f63a7",
       "version_major": 2,
       "version_minor": 0
      },
      "text/plain": [
       "Variation of alpha:   0%|          | 0/1 [00:00<?, ?it/s]"
      ]
     },
     "metadata": {},
     "output_type": "display_data"
    },
    {
     "data": {
      "application/vnd.jupyter.widget-view+json": {
       "model_id": "18dcdaa12d7d4185bfa4f0a43171f559",
       "version_major": 2,
       "version_minor": 0
      },
      "text/plain": [
       "Making ensembles:   0%|          | 0/1 [00:00<?, ?it/s]"
      ]
     },
     "metadata": {},
     "output_type": "display_data"
    },
    {
     "data": {
      "application/vnd.jupyter.widget-view+json": {
       "model_id": "21e97e63df064969bbd063e124469c90",
       "version_major": 2,
       "version_minor": 0
      },
      "text/plain": [
       "network dynamic:   0%|          | 0/9999 [00:00<?, ?it/s]"
      ]
     },
     "metadata": {},
     "output_type": "display_data"
    },
    {
     "data": {
      "application/vnd.jupyter.widget-view+json": {
       "model_id": "90ad87038f1f461d97ec15456dcb0997",
       "version_major": 2,
       "version_minor": 0
      },
      "text/plain": [
       "Variation of alpha:   0%|          | 0/1 [00:00<?, ?it/s]"
      ]
     },
     "metadata": {},
     "output_type": "display_data"
    },
    {
     "data": {
      "application/vnd.jupyter.widget-view+json": {
       "model_id": "d476e5dc2c6d4955a992e8c511db63bc",
       "version_major": 2,
       "version_minor": 0
      },
      "text/plain": [
       "Making ensembles:   0%|          | 0/1 [00:00<?, ?it/s]"
      ]
     },
     "metadata": {},
     "output_type": "display_data"
    },
    {
     "data": {
      "application/vnd.jupyter.widget-view+json": {
       "model_id": "fcf7069ded0040508ac81058bc0bc473",
       "version_major": 2,
       "version_minor": 0
      },
      "text/plain": [
       "network dynamic:   0%|          | 0/9999 [00:00<?, ?it/s]"
      ]
     },
     "metadata": {},
     "output_type": "display_data"
    },
    {
     "data": {
      "application/vnd.jupyter.widget-view+json": {
       "model_id": "86d21bf3fb394a0f83837d2d665f7352",
       "version_major": 2,
       "version_minor": 0
      },
      "text/plain": [
       "Variation of alpha:   0%|          | 0/1 [00:00<?, ?it/s]"
      ]
     },
     "metadata": {},
     "output_type": "display_data"
    },
    {
     "data": {
      "application/vnd.jupyter.widget-view+json": {
       "model_id": "7c33dbd095dc43829eefcc2e143925ed",
       "version_major": 2,
       "version_minor": 0
      },
      "text/plain": [
       "Making ensembles:   0%|          | 0/1 [00:00<?, ?it/s]"
      ]
     },
     "metadata": {},
     "output_type": "display_data"
    },
    {
     "data": {
      "application/vnd.jupyter.widget-view+json": {
       "model_id": "42b50f8e0ab14e5f83bca7e6cdbb0bb1",
       "version_major": 2,
       "version_minor": 0
      },
      "text/plain": [
       "network dynamic:   0%|          | 0/9999 [00:00<?, ?it/s]"
      ]
     },
     "metadata": {},
     "output_type": "display_data"
    },
    {
     "data": {
      "application/vnd.jupyter.widget-view+json": {
       "model_id": "1b6b984719a246789916dc1c6a365a00",
       "version_major": 2,
       "version_minor": 0
      },
      "text/plain": [
       "Variation of alpha:   0%|          | 0/1 [00:00<?, ?it/s]"
      ]
     },
     "metadata": {},
     "output_type": "display_data"
    },
    {
     "data": {
      "application/vnd.jupyter.widget-view+json": {
       "model_id": "19e435cbcd8640639ea475910234915d",
       "version_major": 2,
       "version_minor": 0
      },
      "text/plain": [
       "Making ensembles:   0%|          | 0/1 [00:00<?, ?it/s]"
      ]
     },
     "metadata": {},
     "output_type": "display_data"
    },
    {
     "data": {
      "application/vnd.jupyter.widget-view+json": {
       "model_id": "da3f86675da44335b842f1d2fbb76736",
       "version_major": 2,
       "version_minor": 0
      },
      "text/plain": [
       "network dynamic:   0%|          | 0/9999 [00:00<?, ?it/s]"
      ]
     },
     "metadata": {},
     "output_type": "display_data"
    },
    {
     "data": {
      "application/vnd.jupyter.widget-view+json": {
       "model_id": "5e915319647f4ed892a6dbc74c7ec174",
       "version_major": 2,
       "version_minor": 0
      },
      "text/plain": [
       "Variation of alpha:   0%|          | 0/1 [00:00<?, ?it/s]"
      ]
     },
     "metadata": {},
     "output_type": "display_data"
    },
    {
     "data": {
      "application/vnd.jupyter.widget-view+json": {
       "model_id": "13675640a740451f925baaf61e43306c",
       "version_major": 2,
       "version_minor": 0
      },
      "text/plain": [
       "Making ensembles:   0%|          | 0/1 [00:00<?, ?it/s]"
      ]
     },
     "metadata": {},
     "output_type": "display_data"
    },
    {
     "data": {
      "application/vnd.jupyter.widget-view+json": {
       "model_id": "a5225e8b4c7d4aedae2b689f0ff5cca9",
       "version_major": 2,
       "version_minor": 0
      },
      "text/plain": [
       "network dynamic:   0%|          | 0/9999 [00:00<?, ?it/s]"
      ]
     },
     "metadata": {},
     "output_type": "display_data"
    },
    {
     "data": {
      "application/vnd.jupyter.widget-view+json": {
       "model_id": "f26bb600ba114031b2e3dcd53560f407",
       "version_major": 2,
       "version_minor": 0
      },
      "text/plain": [
       "Variation of alpha:   0%|          | 0/1 [00:00<?, ?it/s]"
      ]
     },
     "metadata": {},
     "output_type": "display_data"
    },
    {
     "data": {
      "application/vnd.jupyter.widget-view+json": {
       "model_id": "83a6a89b78704267aca632044e031604",
       "version_major": 2,
       "version_minor": 0
      },
      "text/plain": [
       "Making ensembles:   0%|          | 0/1 [00:00<?, ?it/s]"
      ]
     },
     "metadata": {},
     "output_type": "display_data"
    },
    {
     "data": {
      "application/vnd.jupyter.widget-view+json": {
       "model_id": "4d349121fac74573abf0a04b85b15d8b",
       "version_major": 2,
       "version_minor": 0
      },
      "text/plain": [
       "network dynamic:   0%|          | 0/9999 [00:00<?, ?it/s]"
      ]
     },
     "metadata": {},
     "output_type": "display_data"
    },
    {
     "data": {
      "application/vnd.jupyter.widget-view+json": {
       "model_id": "a1b79e830e0a4e07ad4b100abe879c5a",
       "version_major": 2,
       "version_minor": 0
      },
      "text/plain": [
       "Variation of alpha:   0%|          | 0/1 [00:00<?, ?it/s]"
      ]
     },
     "metadata": {},
     "output_type": "display_data"
    },
    {
     "data": {
      "application/vnd.jupyter.widget-view+json": {
       "model_id": "7ce1f5e60fc648038d99dc5cfd99d3b9",
       "version_major": 2,
       "version_minor": 0
      },
      "text/plain": [
       "Making ensembles:   0%|          | 0/1 [00:00<?, ?it/s]"
      ]
     },
     "metadata": {},
     "output_type": "display_data"
    },
    {
     "data": {
      "application/vnd.jupyter.widget-view+json": {
       "model_id": "39864822884442929a0a7c073c721ef4",
       "version_major": 2,
       "version_minor": 0
      },
      "text/plain": [
       "network dynamic:   0%|          | 0/9999 [00:00<?, ?it/s]"
      ]
     },
     "metadata": {},
     "output_type": "display_data"
    },
    {
     "data": {
      "application/vnd.jupyter.widget-view+json": {
       "model_id": "6b2f47ebdf5c49c3b4f638f845dac278",
       "version_major": 2,
       "version_minor": 0
      },
      "text/plain": [
       "Variation of alpha:   0%|          | 0/1 [00:00<?, ?it/s]"
      ]
     },
     "metadata": {},
     "output_type": "display_data"
    },
    {
     "data": {
      "application/vnd.jupyter.widget-view+json": {
       "model_id": "160d3d5b9867486ba18f2d761eb80959",
       "version_major": 2,
       "version_minor": 0
      },
      "text/plain": [
       "Making ensembles:   0%|          | 0/1 [00:00<?, ?it/s]"
      ]
     },
     "metadata": {},
     "output_type": "display_data"
    },
    {
     "data": {
      "application/vnd.jupyter.widget-view+json": {
       "model_id": "f88746f4814e4ac9a5d036aa1efc7068",
       "version_major": 2,
       "version_minor": 0
      },
      "text/plain": [
       "network dynamic:   0%|          | 0/9999 [00:00<?, ?it/s]"
      ]
     },
     "metadata": {},
     "output_type": "display_data"
    },
    {
     "data": {
      "application/vnd.jupyter.widget-view+json": {
       "model_id": "9f9e8a7fa7ad42869eeb81c6ffcfce75",
       "version_major": 2,
       "version_minor": 0
      },
      "text/plain": [
       "Variation of alpha:   0%|          | 0/1 [00:00<?, ?it/s]"
      ]
     },
     "metadata": {},
     "output_type": "display_data"
    },
    {
     "data": {
      "application/vnd.jupyter.widget-view+json": {
       "model_id": "da10a647a6b6401ea5fcc643fb7463f3",
       "version_major": 2,
       "version_minor": 0
      },
      "text/plain": [
       "Making ensembles:   0%|          | 0/1 [00:00<?, ?it/s]"
      ]
     },
     "metadata": {},
     "output_type": "display_data"
    },
    {
     "data": {
      "application/vnd.jupyter.widget-view+json": {
       "model_id": "b212541582454869848452eb47c83a4f",
       "version_major": 2,
       "version_minor": 0
      },
      "text/plain": [
       "network dynamic:   0%|          | 0/9999 [00:00<?, ?it/s]"
      ]
     },
     "metadata": {},
     "output_type": "display_data"
    },
    {
     "data": {
      "application/vnd.jupyter.widget-view+json": {
       "model_id": "0649236ef92e4e7997331d2e8c7c001d",
       "version_major": 2,
       "version_minor": 0
      },
      "text/plain": [
       "Variation of alpha:   0%|          | 0/1 [00:00<?, ?it/s]"
      ]
     },
     "metadata": {},
     "output_type": "display_data"
    },
    {
     "data": {
      "application/vnd.jupyter.widget-view+json": {
       "model_id": "f21a7910a4c34d238230c59fa510a016",
       "version_major": 2,
       "version_minor": 0
      },
      "text/plain": [
       "Making ensembles:   0%|          | 0/1 [00:00<?, ?it/s]"
      ]
     },
     "metadata": {},
     "output_type": "display_data"
    },
    {
     "data": {
      "application/vnd.jupyter.widget-view+json": {
       "model_id": "26ae4e345c134be3bed1344a9fec3cb8",
       "version_major": 2,
       "version_minor": 0
      },
      "text/plain": [
       "network dynamic:   0%|          | 0/9999 [00:00<?, ?it/s]"
      ]
     },
     "metadata": {},
     "output_type": "display_data"
    },
    {
     "data": {
      "application/vnd.jupyter.widget-view+json": {
       "model_id": "67cb3634b4a34e918d5df330ced5ea12",
       "version_major": 2,
       "version_minor": 0
      },
      "text/plain": [
       "Variation of alpha:   0%|          | 0/1 [00:00<?, ?it/s]"
      ]
     },
     "metadata": {},
     "output_type": "display_data"
    },
    {
     "data": {
      "application/vnd.jupyter.widget-view+json": {
       "model_id": "40ab6756ed8c4da7937f737147878ac4",
       "version_major": 2,
       "version_minor": 0
      },
      "text/plain": [
       "Making ensembles:   0%|          | 0/1 [00:00<?, ?it/s]"
      ]
     },
     "metadata": {},
     "output_type": "display_data"
    },
    {
     "data": {
      "application/vnd.jupyter.widget-view+json": {
       "model_id": "32e97c06b6da49f69bb0c1ea31bb699f",
       "version_major": 2,
       "version_minor": 0
      },
      "text/plain": [
       "network dynamic:   0%|          | 0/9999 [00:00<?, ?it/s]"
      ]
     },
     "metadata": {},
     "output_type": "display_data"
    },
    {
     "data": {
      "application/vnd.jupyter.widget-view+json": {
       "model_id": "76efdb71452b4b998c4b91926bea6ea9",
       "version_major": 2,
       "version_minor": 0
      },
      "text/plain": [
       "Variation of delay:   0%|          | 0/13 [00:00<?, ?it/s]"
      ]
     },
     "metadata": {},
     "output_type": "display_data"
    },
    {
     "data": {
      "application/vnd.jupyter.widget-view+json": {
       "model_id": "c97f892277a94a74aae102880547ee5a",
       "version_major": 2,
       "version_minor": 0
      },
      "text/plain": [
       "Variation of alpha:   0%|          | 0/1 [00:00<?, ?it/s]"
      ]
     },
     "metadata": {},
     "output_type": "display_data"
    },
    {
     "data": {
      "application/vnd.jupyter.widget-view+json": {
       "model_id": "f73a53cee1194be58147af07a1e73b8a",
       "version_major": 2,
       "version_minor": 0
      },
      "text/plain": [
       "Making ensembles:   0%|          | 0/1 [00:00<?, ?it/s]"
      ]
     },
     "metadata": {},
     "output_type": "display_data"
    },
    {
     "data": {
      "application/vnd.jupyter.widget-view+json": {
       "model_id": "1b4d3525f01a4c0e8d1b58b809d8f27f",
       "version_major": 2,
       "version_minor": 0
      },
      "text/plain": [
       "network dynamic:   0%|          | 0/9999 [00:00<?, ?it/s]"
      ]
     },
     "metadata": {},
     "output_type": "display_data"
    },
    {
     "data": {
      "application/vnd.jupyter.widget-view+json": {
       "model_id": "fe0ec038ac89467087878beba52d1f29",
       "version_major": 2,
       "version_minor": 0
      },
      "text/plain": [
       "Variation of alpha:   0%|          | 0/1 [00:00<?, ?it/s]"
      ]
     },
     "metadata": {},
     "output_type": "display_data"
    },
    {
     "data": {
      "application/vnd.jupyter.widget-view+json": {
       "model_id": "57c36c49d98741bda2905d4f09038e1b",
       "version_major": 2,
       "version_minor": 0
      },
      "text/plain": [
       "Making ensembles:   0%|          | 0/1 [00:00<?, ?it/s]"
      ]
     },
     "metadata": {},
     "output_type": "display_data"
    },
    {
     "data": {
      "application/vnd.jupyter.widget-view+json": {
       "model_id": "8a626e9d4088436d8957fced1e75a2ed",
       "version_major": 2,
       "version_minor": 0
      },
      "text/plain": [
       "network dynamic:   0%|          | 0/9999 [00:00<?, ?it/s]"
      ]
     },
     "metadata": {},
     "output_type": "display_data"
    },
    {
     "data": {
      "application/vnd.jupyter.widget-view+json": {
       "model_id": "01b0a31fad6f4e4282c6153c5baf79e2",
       "version_major": 2,
       "version_minor": 0
      },
      "text/plain": [
       "Variation of alpha:   0%|          | 0/1 [00:00<?, ?it/s]"
      ]
     },
     "metadata": {},
     "output_type": "display_data"
    },
    {
     "data": {
      "application/vnd.jupyter.widget-view+json": {
       "model_id": "a48fd7e6b71d4e149fc18e309ed5e94c",
       "version_major": 2,
       "version_minor": 0
      },
      "text/plain": [
       "Making ensembles:   0%|          | 0/1 [00:00<?, ?it/s]"
      ]
     },
     "metadata": {},
     "output_type": "display_data"
    },
    {
     "data": {
      "application/vnd.jupyter.widget-view+json": {
       "model_id": "1e95e41325ff447ba2ad1ba10a7dffe7",
       "version_major": 2,
       "version_minor": 0
      },
      "text/plain": [
       "network dynamic:   0%|          | 0/9999 [00:00<?, ?it/s]"
      ]
     },
     "metadata": {},
     "output_type": "display_data"
    },
    {
     "data": {
      "application/vnd.jupyter.widget-view+json": {
       "model_id": "a83075d170e54e8f91b8cc3da260046d",
       "version_major": 2,
       "version_minor": 0
      },
      "text/plain": [
       "Variation of alpha:   0%|          | 0/1 [00:00<?, ?it/s]"
      ]
     },
     "metadata": {},
     "output_type": "display_data"
    },
    {
     "data": {
      "application/vnd.jupyter.widget-view+json": {
       "model_id": "f76c251443fb4ab6a6c543ebad2825ec",
       "version_major": 2,
       "version_minor": 0
      },
      "text/plain": [
       "Making ensembles:   0%|          | 0/1 [00:00<?, ?it/s]"
      ]
     },
     "metadata": {},
     "output_type": "display_data"
    },
    {
     "data": {
      "application/vnd.jupyter.widget-view+json": {
       "model_id": "012c6716da074a27b45d8d0fc692f01d",
       "version_major": 2,
       "version_minor": 0
      },
      "text/plain": [
       "network dynamic:   0%|          | 0/9999 [00:00<?, ?it/s]"
      ]
     },
     "metadata": {},
     "output_type": "display_data"
    },
    {
     "data": {
      "application/vnd.jupyter.widget-view+json": {
       "model_id": "45a5755704444b7a8fc0821fd97beb98",
       "version_major": 2,
       "version_minor": 0
      },
      "text/plain": [
       "Variation of alpha:   0%|          | 0/1 [00:00<?, ?it/s]"
      ]
     },
     "metadata": {},
     "output_type": "display_data"
    },
    {
     "data": {
      "application/vnd.jupyter.widget-view+json": {
       "model_id": "b166c9f8daf542c79081368d92be46c5",
       "version_major": 2,
       "version_minor": 0
      },
      "text/plain": [
       "Making ensembles:   0%|          | 0/1 [00:00<?, ?it/s]"
      ]
     },
     "metadata": {},
     "output_type": "display_data"
    },
    {
     "data": {
      "application/vnd.jupyter.widget-view+json": {
       "model_id": "c80560de514e4765a0c3af2227f02a70",
       "version_major": 2,
       "version_minor": 0
      },
      "text/plain": [
       "network dynamic:   0%|          | 0/9999 [00:00<?, ?it/s]"
      ]
     },
     "metadata": {},
     "output_type": "display_data"
    },
    {
     "data": {
      "application/vnd.jupyter.widget-view+json": {
       "model_id": "ad99a27652ba46ed96b3f3f8186dfe2e",
       "version_major": 2,
       "version_minor": 0
      },
      "text/plain": [
       "Variation of alpha:   0%|          | 0/1 [00:00<?, ?it/s]"
      ]
     },
     "metadata": {},
     "output_type": "display_data"
    },
    {
     "data": {
      "application/vnd.jupyter.widget-view+json": {
       "model_id": "5b2e898a9ae2428f8db5f88e5a2a1d87",
       "version_major": 2,
       "version_minor": 0
      },
      "text/plain": [
       "Making ensembles:   0%|          | 0/1 [00:00<?, ?it/s]"
      ]
     },
     "metadata": {},
     "output_type": "display_data"
    },
    {
     "data": {
      "application/vnd.jupyter.widget-view+json": {
       "model_id": "163028e7dcde48398d6977427077b3d3",
       "version_major": 2,
       "version_minor": 0
      },
      "text/plain": [
       "network dynamic:   0%|          | 0/9999 [00:00<?, ?it/s]"
      ]
     },
     "metadata": {},
     "output_type": "display_data"
    },
    {
     "data": {
      "application/vnd.jupyter.widget-view+json": {
       "model_id": "e2a7fb63c09d4ee2bc2d51244521c312",
       "version_major": 2,
       "version_minor": 0
      },
      "text/plain": [
       "Variation of alpha:   0%|          | 0/1 [00:00<?, ?it/s]"
      ]
     },
     "metadata": {},
     "output_type": "display_data"
    },
    {
     "data": {
      "application/vnd.jupyter.widget-view+json": {
       "model_id": "5ed4f5da9f7b409a9a6fb5c9f7a38f42",
       "version_major": 2,
       "version_minor": 0
      },
      "text/plain": [
       "Making ensembles:   0%|          | 0/1 [00:00<?, ?it/s]"
      ]
     },
     "metadata": {},
     "output_type": "display_data"
    },
    {
     "data": {
      "application/vnd.jupyter.widget-view+json": {
       "model_id": "a4127a89b14b4755ac73f66589d7e6f2",
       "version_major": 2,
       "version_minor": 0
      },
      "text/plain": [
       "network dynamic:   0%|          | 0/9999 [00:00<?, ?it/s]"
      ]
     },
     "metadata": {},
     "output_type": "display_data"
    },
    {
     "data": {
      "application/vnd.jupyter.widget-view+json": {
       "model_id": "03a57654a9db40b095af2ca54d96f78c",
       "version_major": 2,
       "version_minor": 0
      },
      "text/plain": [
       "Variation of alpha:   0%|          | 0/1 [00:00<?, ?it/s]"
      ]
     },
     "metadata": {},
     "output_type": "display_data"
    },
    {
     "data": {
      "application/vnd.jupyter.widget-view+json": {
       "model_id": "4e4fb1dfc3c84ee8a0e3f27e7281bfe2",
       "version_major": 2,
       "version_minor": 0
      },
      "text/plain": [
       "Making ensembles:   0%|          | 0/1 [00:00<?, ?it/s]"
      ]
     },
     "metadata": {},
     "output_type": "display_data"
    },
    {
     "data": {
      "application/vnd.jupyter.widget-view+json": {
       "model_id": "6505f71a19254bb2ba29559f6996e090",
       "version_major": 2,
       "version_minor": 0
      },
      "text/plain": [
       "network dynamic:   0%|          | 0/9999 [00:00<?, ?it/s]"
      ]
     },
     "metadata": {},
     "output_type": "display_data"
    },
    {
     "data": {
      "application/vnd.jupyter.widget-view+json": {
       "model_id": "d27c88b84ee242288aec15f5ea60a10e",
       "version_major": 2,
       "version_minor": 0
      },
      "text/plain": [
       "Variation of alpha:   0%|          | 0/1 [00:00<?, ?it/s]"
      ]
     },
     "metadata": {},
     "output_type": "display_data"
    },
    {
     "data": {
      "application/vnd.jupyter.widget-view+json": {
       "model_id": "8d862f2c951245cc955747c5f215e955",
       "version_major": 2,
       "version_minor": 0
      },
      "text/plain": [
       "Making ensembles:   0%|          | 0/1 [00:00<?, ?it/s]"
      ]
     },
     "metadata": {},
     "output_type": "display_data"
    },
    {
     "data": {
      "application/vnd.jupyter.widget-view+json": {
       "model_id": "9fd5a492119342b98bd4e5c2b551632e",
       "version_major": 2,
       "version_minor": 0
      },
      "text/plain": [
       "network dynamic:   0%|          | 0/9999 [00:00<?, ?it/s]"
      ]
     },
     "metadata": {},
     "output_type": "display_data"
    },
    {
     "data": {
      "application/vnd.jupyter.widget-view+json": {
       "model_id": "40eec5ba0aa8404fa2011ffacc909e57",
       "version_major": 2,
       "version_minor": 0
      },
      "text/plain": [
       "Variation of alpha:   0%|          | 0/1 [00:00<?, ?it/s]"
      ]
     },
     "metadata": {},
     "output_type": "display_data"
    },
    {
     "data": {
      "application/vnd.jupyter.widget-view+json": {
       "model_id": "e60a010d6ec540179dc01e0b1daddeed",
       "version_major": 2,
       "version_minor": 0
      },
      "text/plain": [
       "Making ensembles:   0%|          | 0/1 [00:00<?, ?it/s]"
      ]
     },
     "metadata": {},
     "output_type": "display_data"
    },
    {
     "data": {
      "application/vnd.jupyter.widget-view+json": {
       "model_id": "9e6572952b114687add46c88981889d2",
       "version_major": 2,
       "version_minor": 0
      },
      "text/plain": [
       "network dynamic:   0%|          | 0/9999 [00:00<?, ?it/s]"
      ]
     },
     "metadata": {},
     "output_type": "display_data"
    },
    {
     "data": {
      "application/vnd.jupyter.widget-view+json": {
       "model_id": "f29174e33820400b82dc119b9a2d5426",
       "version_major": 2,
       "version_minor": 0
      },
      "text/plain": [
       "Variation of alpha:   0%|          | 0/1 [00:00<?, ?it/s]"
      ]
     },
     "metadata": {},
     "output_type": "display_data"
    },
    {
     "data": {
      "application/vnd.jupyter.widget-view+json": {
       "model_id": "4e82edf1874143be97ab95fc34e61913",
       "version_major": 2,
       "version_minor": 0
      },
      "text/plain": [
       "Making ensembles:   0%|          | 0/1 [00:00<?, ?it/s]"
      ]
     },
     "metadata": {},
     "output_type": "display_data"
    },
    {
     "data": {
      "application/vnd.jupyter.widget-view+json": {
       "model_id": "6c4531e378af449ba7cd048fef8766c2",
       "version_major": 2,
       "version_minor": 0
      },
      "text/plain": [
       "network dynamic:   0%|          | 0/9999 [00:00<?, ?it/s]"
      ]
     },
     "metadata": {},
     "output_type": "display_data"
    },
    {
     "data": {
      "application/vnd.jupyter.widget-view+json": {
       "model_id": "30c42eaa736d475db81890bd7c22a3e3",
       "version_major": 2,
       "version_minor": 0
      },
      "text/plain": [
       "Variation of alpha:   0%|          | 0/1 [00:00<?, ?it/s]"
      ]
     },
     "metadata": {},
     "output_type": "display_data"
    },
    {
     "data": {
      "application/vnd.jupyter.widget-view+json": {
       "model_id": "a58907a9fb344937855c3de6e771db2f",
       "version_major": 2,
       "version_minor": 0
      },
      "text/plain": [
       "Making ensembles:   0%|          | 0/1 [00:00<?, ?it/s]"
      ]
     },
     "metadata": {},
     "output_type": "display_data"
    },
    {
     "data": {
      "application/vnd.jupyter.widget-view+json": {
       "model_id": "8a22792296f04d75a383bd460ffe31a0",
       "version_major": 2,
       "version_minor": 0
      },
      "text/plain": [
       "network dynamic:   0%|          | 0/9999 [00:00<?, ?it/s]"
      ]
     },
     "metadata": {},
     "output_type": "display_data"
    },
    {
     "data": {
      "application/vnd.jupyter.widget-view+json": {
       "model_id": "b827027f4ec048af8a9a58f25b50d1d5",
       "version_major": 2,
       "version_minor": 0
      },
      "text/plain": [
       "Variation of alpha:   0%|          | 0/1 [00:00<?, ?it/s]"
      ]
     },
     "metadata": {},
     "output_type": "display_data"
    },
    {
     "data": {
      "application/vnd.jupyter.widget-view+json": {
       "model_id": "8ea41c0d2d3d4ee4923e0988f15e56ed",
       "version_major": 2,
       "version_minor": 0
      },
      "text/plain": [
       "Making ensembles:   0%|          | 0/1 [00:00<?, ?it/s]"
      ]
     },
     "metadata": {},
     "output_type": "display_data"
    },
    {
     "data": {
      "application/vnd.jupyter.widget-view+json": {
       "model_id": "a2ac522882bf4d47a824f7370dd11083",
       "version_major": 2,
       "version_minor": 0
      },
      "text/plain": [
       "network dynamic:   0%|          | 0/9999 [00:00<?, ?it/s]"
      ]
     },
     "metadata": {},
     "output_type": "display_data"
    },
    {
     "data": {
      "application/vnd.jupyter.widget-view+json": {
       "model_id": "df66d0eac44043bc8f21aa9e059b4d54",
       "version_major": 2,
       "version_minor": 0
      },
      "text/plain": [
       "Variation of delay:   0%|          | 0/13 [00:00<?, ?it/s]"
      ]
     },
     "metadata": {},
     "output_type": "display_data"
    },
    {
     "data": {
      "application/vnd.jupyter.widget-view+json": {
       "model_id": "0834a8b8054f40c6a9a476ff673bec6a",
       "version_major": 2,
       "version_minor": 0
      },
      "text/plain": [
       "Variation of alpha:   0%|          | 0/1 [00:00<?, ?it/s]"
      ]
     },
     "metadata": {},
     "output_type": "display_data"
    },
    {
     "data": {
      "application/vnd.jupyter.widget-view+json": {
       "model_id": "40f253ea6e9a494f8fd7da8883cf2859",
       "version_major": 2,
       "version_minor": 0
      },
      "text/plain": [
       "Making ensembles:   0%|          | 0/1 [00:00<?, ?it/s]"
      ]
     },
     "metadata": {},
     "output_type": "display_data"
    },
    {
     "data": {
      "application/vnd.jupyter.widget-view+json": {
       "model_id": "906847639363488dac12a5685a4c83f9",
       "version_major": 2,
       "version_minor": 0
      },
      "text/plain": [
       "network dynamic:   0%|          | 0/9999 [00:00<?, ?it/s]"
      ]
     },
     "metadata": {},
     "output_type": "display_data"
    },
    {
     "data": {
      "application/vnd.jupyter.widget-view+json": {
       "model_id": "67c2b763eb1745069d18163ae3fc1f4a",
       "version_major": 2,
       "version_minor": 0
      },
      "text/plain": [
       "Variation of alpha:   0%|          | 0/1 [00:00<?, ?it/s]"
      ]
     },
     "metadata": {},
     "output_type": "display_data"
    },
    {
     "data": {
      "application/vnd.jupyter.widget-view+json": {
       "model_id": "55f4c75dbb574af5a7a1c0e4260dc8f0",
       "version_major": 2,
       "version_minor": 0
      },
      "text/plain": [
       "Making ensembles:   0%|          | 0/1 [00:00<?, ?it/s]"
      ]
     },
     "metadata": {},
     "output_type": "display_data"
    },
    {
     "data": {
      "application/vnd.jupyter.widget-view+json": {
       "model_id": "a013bcd3460145d8aa13aa771bb8d2cf",
       "version_major": 2,
       "version_minor": 0
      },
      "text/plain": [
       "network dynamic:   0%|          | 0/9999 [00:00<?, ?it/s]"
      ]
     },
     "metadata": {},
     "output_type": "display_data"
    },
    {
     "data": {
      "application/vnd.jupyter.widget-view+json": {
       "model_id": "774cb7d2bdf945128712206607786498",
       "version_major": 2,
       "version_minor": 0
      },
      "text/plain": [
       "Variation of alpha:   0%|          | 0/1 [00:00<?, ?it/s]"
      ]
     },
     "metadata": {},
     "output_type": "display_data"
    },
    {
     "data": {
      "application/vnd.jupyter.widget-view+json": {
       "model_id": "a05340e7c68949998c37855c4e8be692",
       "version_major": 2,
       "version_minor": 0
      },
      "text/plain": [
       "Making ensembles:   0%|          | 0/1 [00:00<?, ?it/s]"
      ]
     },
     "metadata": {},
     "output_type": "display_data"
    },
    {
     "data": {
      "application/vnd.jupyter.widget-view+json": {
       "model_id": "4ffdb795cbf74f15835ced8f99e07885",
       "version_major": 2,
       "version_minor": 0
      },
      "text/plain": [
       "network dynamic:   0%|          | 0/9999 [00:00<?, ?it/s]"
      ]
     },
     "metadata": {},
     "output_type": "display_data"
    },
    {
     "data": {
      "application/vnd.jupyter.widget-view+json": {
       "model_id": "56e3ebcbd960449aa8ea6100107d872d",
       "version_major": 2,
       "version_minor": 0
      },
      "text/plain": [
       "Variation of alpha:   0%|          | 0/1 [00:00<?, ?it/s]"
      ]
     },
     "metadata": {},
     "output_type": "display_data"
    },
    {
     "data": {
      "application/vnd.jupyter.widget-view+json": {
       "model_id": "3578a16104204a5385380016f0d999ab",
       "version_major": 2,
       "version_minor": 0
      },
      "text/plain": [
       "Making ensembles:   0%|          | 0/1 [00:00<?, ?it/s]"
      ]
     },
     "metadata": {},
     "output_type": "display_data"
    },
    {
     "data": {
      "application/vnd.jupyter.widget-view+json": {
       "model_id": "e2d3f5aa427a43dda62d623f0618b748",
       "version_major": 2,
       "version_minor": 0
      },
      "text/plain": [
       "network dynamic:   0%|          | 0/9999 [00:00<?, ?it/s]"
      ]
     },
     "metadata": {},
     "output_type": "display_data"
    },
    {
     "data": {
      "application/vnd.jupyter.widget-view+json": {
       "model_id": "7aaec911412d4012ace2f05e8d0226d2",
       "version_major": 2,
       "version_minor": 0
      },
      "text/plain": [
       "Variation of alpha:   0%|          | 0/1 [00:00<?, ?it/s]"
      ]
     },
     "metadata": {},
     "output_type": "display_data"
    },
    {
     "data": {
      "application/vnd.jupyter.widget-view+json": {
       "model_id": "5b27c1fae11c4396ab32562917b600cd",
       "version_major": 2,
       "version_minor": 0
      },
      "text/plain": [
       "Making ensembles:   0%|          | 0/1 [00:00<?, ?it/s]"
      ]
     },
     "metadata": {},
     "output_type": "display_data"
    },
    {
     "data": {
      "application/vnd.jupyter.widget-view+json": {
       "model_id": "271e122eb01e4380b365f01577128595",
       "version_major": 2,
       "version_minor": 0
      },
      "text/plain": [
       "network dynamic:   0%|          | 0/9999 [00:00<?, ?it/s]"
      ]
     },
     "metadata": {},
     "output_type": "display_data"
    },
    {
     "data": {
      "application/vnd.jupyter.widget-view+json": {
       "model_id": "ff20fb255711453b987dfdcd2f5fe0a3",
       "version_major": 2,
       "version_minor": 0
      },
      "text/plain": [
       "Variation of alpha:   0%|          | 0/1 [00:00<?, ?it/s]"
      ]
     },
     "metadata": {},
     "output_type": "display_data"
    },
    {
     "data": {
      "application/vnd.jupyter.widget-view+json": {
       "model_id": "d2b7906271e24f0e8cc07b4017017bff",
       "version_major": 2,
       "version_minor": 0
      },
      "text/plain": [
       "Making ensembles:   0%|          | 0/1 [00:00<?, ?it/s]"
      ]
     },
     "metadata": {},
     "output_type": "display_data"
    },
    {
     "data": {
      "application/vnd.jupyter.widget-view+json": {
       "model_id": "0defcd8af9004704841ace0b1062a983",
       "version_major": 2,
       "version_minor": 0
      },
      "text/plain": [
       "network dynamic:   0%|          | 0/9999 [00:00<?, ?it/s]"
      ]
     },
     "metadata": {},
     "output_type": "display_data"
    },
    {
     "data": {
      "application/vnd.jupyter.widget-view+json": {
       "model_id": "29b7f57820ae475994842eb47e870370",
       "version_major": 2,
       "version_minor": 0
      },
      "text/plain": [
       "Variation of alpha:   0%|          | 0/1 [00:00<?, ?it/s]"
      ]
     },
     "metadata": {},
     "output_type": "display_data"
    },
    {
     "data": {
      "application/vnd.jupyter.widget-view+json": {
       "model_id": "005509161fc64b6b91b2b88b58ca56c2",
       "version_major": 2,
       "version_minor": 0
      },
      "text/plain": [
       "Making ensembles:   0%|          | 0/1 [00:00<?, ?it/s]"
      ]
     },
     "metadata": {},
     "output_type": "display_data"
    },
    {
     "data": {
      "application/vnd.jupyter.widget-view+json": {
       "model_id": "0d686490a3b24d7bb00db489bd9d8ef7",
       "version_major": 2,
       "version_minor": 0
      },
      "text/plain": [
       "network dynamic:   0%|          | 0/9999 [00:00<?, ?it/s]"
      ]
     },
     "metadata": {},
     "output_type": "display_data"
    },
    {
     "data": {
      "application/vnd.jupyter.widget-view+json": {
       "model_id": "081369f7ce94466fa5ece66ef5992e3b",
       "version_major": 2,
       "version_minor": 0
      },
      "text/plain": [
       "Variation of alpha:   0%|          | 0/1 [00:00<?, ?it/s]"
      ]
     },
     "metadata": {},
     "output_type": "display_data"
    },
    {
     "data": {
      "application/vnd.jupyter.widget-view+json": {
       "model_id": "e482b671a8bd493b94c3415618e47993",
       "version_major": 2,
       "version_minor": 0
      },
      "text/plain": [
       "Making ensembles:   0%|          | 0/1 [00:00<?, ?it/s]"
      ]
     },
     "metadata": {},
     "output_type": "display_data"
    },
    {
     "data": {
      "application/vnd.jupyter.widget-view+json": {
       "model_id": "0a4d41eb47e34efea3b5024ed8917b02",
       "version_major": 2,
       "version_minor": 0
      },
      "text/plain": [
       "network dynamic:   0%|          | 0/9999 [00:00<?, ?it/s]"
      ]
     },
     "metadata": {},
     "output_type": "display_data"
    },
    {
     "data": {
      "application/vnd.jupyter.widget-view+json": {
       "model_id": "8b6ae975a56e42719264f2f5fd98e09a",
       "version_major": 2,
       "version_minor": 0
      },
      "text/plain": [
       "Variation of alpha:   0%|          | 0/1 [00:00<?, ?it/s]"
      ]
     },
     "metadata": {},
     "output_type": "display_data"
    },
    {
     "data": {
      "application/vnd.jupyter.widget-view+json": {
       "model_id": "04058f8ddc934c079a69e4c403977b37",
       "version_major": 2,
       "version_minor": 0
      },
      "text/plain": [
       "Making ensembles:   0%|          | 0/1 [00:00<?, ?it/s]"
      ]
     },
     "metadata": {},
     "output_type": "display_data"
    },
    {
     "data": {
      "application/vnd.jupyter.widget-view+json": {
       "model_id": "b52c7469f9264bec8905fbd056a0a468",
       "version_major": 2,
       "version_minor": 0
      },
      "text/plain": [
       "network dynamic:   0%|          | 0/9999 [00:00<?, ?it/s]"
      ]
     },
     "metadata": {},
     "output_type": "display_data"
    },
    {
     "data": {
      "application/vnd.jupyter.widget-view+json": {
       "model_id": "46ce6712e7f04554893f04b09e7e98de",
       "version_major": 2,
       "version_minor": 0
      },
      "text/plain": [
       "Variation of alpha:   0%|          | 0/1 [00:00<?, ?it/s]"
      ]
     },
     "metadata": {},
     "output_type": "display_data"
    },
    {
     "data": {
      "application/vnd.jupyter.widget-view+json": {
       "model_id": "3fa22261f0a349e7913a7c5dce498c86",
       "version_major": 2,
       "version_minor": 0
      },
      "text/plain": [
       "Making ensembles:   0%|          | 0/1 [00:00<?, ?it/s]"
      ]
     },
     "metadata": {},
     "output_type": "display_data"
    },
    {
     "data": {
      "application/vnd.jupyter.widget-view+json": {
       "model_id": "4427c9cef7d8468abb18fea75905bd71",
       "version_major": 2,
       "version_minor": 0
      },
      "text/plain": [
       "network dynamic:   0%|          | 0/9999 [00:00<?, ?it/s]"
      ]
     },
     "metadata": {},
     "output_type": "display_data"
    },
    {
     "data": {
      "application/vnd.jupyter.widget-view+json": {
       "model_id": "4e4095c75568485e9910bf34e1924905",
       "version_major": 2,
       "version_minor": 0
      },
      "text/plain": [
       "Variation of alpha:   0%|          | 0/1 [00:00<?, ?it/s]"
      ]
     },
     "metadata": {},
     "output_type": "display_data"
    },
    {
     "data": {
      "application/vnd.jupyter.widget-view+json": {
       "model_id": "f9b7ba6d67e64e5cb557c26ebc4ca22d",
       "version_major": 2,
       "version_minor": 0
      },
      "text/plain": [
       "Making ensembles:   0%|          | 0/1 [00:00<?, ?it/s]"
      ]
     },
     "metadata": {},
     "output_type": "display_data"
    },
    {
     "data": {
      "application/vnd.jupyter.widget-view+json": {
       "model_id": "e97c47659ba743ec9e78a039cd12530e",
       "version_major": 2,
       "version_minor": 0
      },
      "text/plain": [
       "network dynamic:   0%|          | 0/9999 [00:00<?, ?it/s]"
      ]
     },
     "metadata": {},
     "output_type": "display_data"
    },
    {
     "data": {
      "application/vnd.jupyter.widget-view+json": {
       "model_id": "f51937fa7b3c4f2698d255b0bd28601c",
       "version_major": 2,
       "version_minor": 0
      },
      "text/plain": [
       "Variation of alpha:   0%|          | 0/1 [00:00<?, ?it/s]"
      ]
     },
     "metadata": {},
     "output_type": "display_data"
    },
    {
     "data": {
      "application/vnd.jupyter.widget-view+json": {
       "model_id": "062e10e9cdac431297f62877634b7b31",
       "version_major": 2,
       "version_minor": 0
      },
      "text/plain": [
       "Making ensembles:   0%|          | 0/1 [00:00<?, ?it/s]"
      ]
     },
     "metadata": {},
     "output_type": "display_data"
    },
    {
     "data": {
      "application/vnd.jupyter.widget-view+json": {
       "model_id": "cd9ec923bb524b7991347e64ab45a261",
       "version_major": 2,
       "version_minor": 0
      },
      "text/plain": [
       "network dynamic:   0%|          | 0/9999 [00:00<?, ?it/s]"
      ]
     },
     "metadata": {},
     "output_type": "display_data"
    },
    {
     "data": {
      "application/vnd.jupyter.widget-view+json": {
       "model_id": "c32a4d23941844869ed507cb3dbff9f3",
       "version_major": 2,
       "version_minor": 0
      },
      "text/plain": [
       "Variation of alpha:   0%|          | 0/1 [00:00<?, ?it/s]"
      ]
     },
     "metadata": {},
     "output_type": "display_data"
    },
    {
     "data": {
      "application/vnd.jupyter.widget-view+json": {
       "model_id": "195f9183af384b63ad38210fd0b67290",
       "version_major": 2,
       "version_minor": 0
      },
      "text/plain": [
       "Making ensembles:   0%|          | 0/1 [00:00<?, ?it/s]"
      ]
     },
     "metadata": {},
     "output_type": "display_data"
    },
    {
     "data": {
      "application/vnd.jupyter.widget-view+json": {
       "model_id": "18bba86bd8e848559dea5ed9662be9af",
       "version_major": 2,
       "version_minor": 0
      },
      "text/plain": [
       "network dynamic:   0%|          | 0/9999 [00:00<?, ?it/s]"
      ]
     },
     "metadata": {},
     "output_type": "display_data"
    },
    {
     "data": {
      "application/vnd.jupyter.widget-view+json": {
       "model_id": "6fb80a930b5d44eeaf114143919bd89a",
       "version_major": 2,
       "version_minor": 0
      },
      "text/plain": [
       "Variation of delay:   0%|          | 0/13 [00:00<?, ?it/s]"
      ]
     },
     "metadata": {},
     "output_type": "display_data"
    },
    {
     "data": {
      "application/vnd.jupyter.widget-view+json": {
       "model_id": "418e3a67bd624bcbad151463b1decdd4",
       "version_major": 2,
       "version_minor": 0
      },
      "text/plain": [
       "Variation of alpha:   0%|          | 0/1 [00:00<?, ?it/s]"
      ]
     },
     "metadata": {},
     "output_type": "display_data"
    },
    {
     "data": {
      "application/vnd.jupyter.widget-view+json": {
       "model_id": "b9810b29421b45b4814c9348cb4c499b",
       "version_major": 2,
       "version_minor": 0
      },
      "text/plain": [
       "Making ensembles:   0%|          | 0/1 [00:00<?, ?it/s]"
      ]
     },
     "metadata": {},
     "output_type": "display_data"
    },
    {
     "data": {
      "application/vnd.jupyter.widget-view+json": {
       "model_id": "8365a19662e049258974c5e1e0ad03d9",
       "version_major": 2,
       "version_minor": 0
      },
      "text/plain": [
       "network dynamic:   0%|          | 0/9999 [00:00<?, ?it/s]"
      ]
     },
     "metadata": {},
     "output_type": "display_data"
    },
    {
     "data": {
      "application/vnd.jupyter.widget-view+json": {
       "model_id": "1df33fbdfdda401e8fba2ffef72a8bb8",
       "version_major": 2,
       "version_minor": 0
      },
      "text/plain": [
       "Variation of alpha:   0%|          | 0/1 [00:00<?, ?it/s]"
      ]
     },
     "metadata": {},
     "output_type": "display_data"
    },
    {
     "data": {
      "application/vnd.jupyter.widget-view+json": {
       "model_id": "5c26c045ecf6486e8f6fbb8803af7de3",
       "version_major": 2,
       "version_minor": 0
      },
      "text/plain": [
       "Making ensembles:   0%|          | 0/1 [00:00<?, ?it/s]"
      ]
     },
     "metadata": {},
     "output_type": "display_data"
    },
    {
     "data": {
      "application/vnd.jupyter.widget-view+json": {
       "model_id": "390abd3c88ff482598391787285aa01e",
       "version_major": 2,
       "version_minor": 0
      },
      "text/plain": [
       "network dynamic:   0%|          | 0/9999 [00:00<?, ?it/s]"
      ]
     },
     "metadata": {},
     "output_type": "display_data"
    },
    {
     "data": {
      "application/vnd.jupyter.widget-view+json": {
       "model_id": "2f20fbf72a9e467384c5c23fc4066689",
       "version_major": 2,
       "version_minor": 0
      },
      "text/plain": [
       "Variation of alpha:   0%|          | 0/1 [00:00<?, ?it/s]"
      ]
     },
     "metadata": {},
     "output_type": "display_data"
    },
    {
     "data": {
      "application/vnd.jupyter.widget-view+json": {
       "model_id": "60ec58ef913d45ad93c50ad764e229f8",
       "version_major": 2,
       "version_minor": 0
      },
      "text/plain": [
       "Making ensembles:   0%|          | 0/1 [00:00<?, ?it/s]"
      ]
     },
     "metadata": {},
     "output_type": "display_data"
    },
    {
     "data": {
      "application/vnd.jupyter.widget-view+json": {
       "model_id": "e117db0ece8a4bfd8c6883a87551c390",
       "version_major": 2,
       "version_minor": 0
      },
      "text/plain": [
       "network dynamic:   0%|          | 0/9999 [00:00<?, ?it/s]"
      ]
     },
     "metadata": {},
     "output_type": "display_data"
    },
    {
     "data": {
      "application/vnd.jupyter.widget-view+json": {
       "model_id": "2c5f930e925e40a8bc60fad240b1edcb",
       "version_major": 2,
       "version_minor": 0
      },
      "text/plain": [
       "Variation of alpha:   0%|          | 0/1 [00:00<?, ?it/s]"
      ]
     },
     "metadata": {},
     "output_type": "display_data"
    },
    {
     "data": {
      "application/vnd.jupyter.widget-view+json": {
       "model_id": "819326f97d7548b3bc5fd0d38df5e534",
       "version_major": 2,
       "version_minor": 0
      },
      "text/plain": [
       "Making ensembles:   0%|          | 0/1 [00:00<?, ?it/s]"
      ]
     },
     "metadata": {},
     "output_type": "display_data"
    },
    {
     "data": {
      "application/vnd.jupyter.widget-view+json": {
       "model_id": "d6bd678d3b8f4f9094caa9adf53961dd",
       "version_major": 2,
       "version_minor": 0
      },
      "text/plain": [
       "network dynamic:   0%|          | 0/9999 [00:00<?, ?it/s]"
      ]
     },
     "metadata": {},
     "output_type": "display_data"
    },
    {
     "data": {
      "application/vnd.jupyter.widget-view+json": {
       "model_id": "8f027866e6014ef7b9ccd991b3771ad9",
       "version_major": 2,
       "version_minor": 0
      },
      "text/plain": [
       "Variation of alpha:   0%|          | 0/1 [00:00<?, ?it/s]"
      ]
     },
     "metadata": {},
     "output_type": "display_data"
    },
    {
     "data": {
      "application/vnd.jupyter.widget-view+json": {
       "model_id": "5d62a73754dd42ae8e5221aa4a728f85",
       "version_major": 2,
       "version_minor": 0
      },
      "text/plain": [
       "Making ensembles:   0%|          | 0/1 [00:00<?, ?it/s]"
      ]
     },
     "metadata": {},
     "output_type": "display_data"
    },
    {
     "data": {
      "application/vnd.jupyter.widget-view+json": {
       "model_id": "16b8375e2e5f44f2872da5032d6db516",
       "version_major": 2,
       "version_minor": 0
      },
      "text/plain": [
       "network dynamic:   0%|          | 0/9999 [00:00<?, ?it/s]"
      ]
     },
     "metadata": {},
     "output_type": "display_data"
    },
    {
     "data": {
      "application/vnd.jupyter.widget-view+json": {
       "model_id": "7476045a740746bdb96fac6b72b3a376",
       "version_major": 2,
       "version_minor": 0
      },
      "text/plain": [
       "Variation of alpha:   0%|          | 0/1 [00:00<?, ?it/s]"
      ]
     },
     "metadata": {},
     "output_type": "display_data"
    },
    {
     "data": {
      "application/vnd.jupyter.widget-view+json": {
       "model_id": "bee576ada0924c609b71ee03aeea7b27",
       "version_major": 2,
       "version_minor": 0
      },
      "text/plain": [
       "Making ensembles:   0%|          | 0/1 [00:00<?, ?it/s]"
      ]
     },
     "metadata": {},
     "output_type": "display_data"
    },
    {
     "data": {
      "application/vnd.jupyter.widget-view+json": {
       "model_id": "3d999945ddc048d79efecaa7ed63ef96",
       "version_major": 2,
       "version_minor": 0
      },
      "text/plain": [
       "network dynamic:   0%|          | 0/9999 [00:00<?, ?it/s]"
      ]
     },
     "metadata": {},
     "output_type": "display_data"
    },
    {
     "data": {
      "application/vnd.jupyter.widget-view+json": {
       "model_id": "96e47ec78c234a19b3570674ae9fcda7",
       "version_major": 2,
       "version_minor": 0
      },
      "text/plain": [
       "Variation of alpha:   0%|          | 0/1 [00:00<?, ?it/s]"
      ]
     },
     "metadata": {},
     "output_type": "display_data"
    },
    {
     "data": {
      "application/vnd.jupyter.widget-view+json": {
       "model_id": "9142da8d4ca74b0e9385d80611e7273b",
       "version_major": 2,
       "version_minor": 0
      },
      "text/plain": [
       "Making ensembles:   0%|          | 0/1 [00:00<?, ?it/s]"
      ]
     },
     "metadata": {},
     "output_type": "display_data"
    },
    {
     "data": {
      "application/vnd.jupyter.widget-view+json": {
       "model_id": "3b5d63e47e7a4799b0e69b2bff007843",
       "version_major": 2,
       "version_minor": 0
      },
      "text/plain": [
       "network dynamic:   0%|          | 0/9999 [00:00<?, ?it/s]"
      ]
     },
     "metadata": {},
     "output_type": "display_data"
    },
    {
     "data": {
      "application/vnd.jupyter.widget-view+json": {
       "model_id": "16a8b670a829465eb563d51f635255f4",
       "version_major": 2,
       "version_minor": 0
      },
      "text/plain": [
       "Variation of alpha:   0%|          | 0/1 [00:00<?, ?it/s]"
      ]
     },
     "metadata": {},
     "output_type": "display_data"
    },
    {
     "data": {
      "application/vnd.jupyter.widget-view+json": {
       "model_id": "66175a25a5df4602a1656577cfadf503",
       "version_major": 2,
       "version_minor": 0
      },
      "text/plain": [
       "Making ensembles:   0%|          | 0/1 [00:00<?, ?it/s]"
      ]
     },
     "metadata": {},
     "output_type": "display_data"
    },
    {
     "data": {
      "application/vnd.jupyter.widget-view+json": {
       "model_id": "fb032ca68cc847b887a7d06e0ae622c0",
       "version_major": 2,
       "version_minor": 0
      },
      "text/plain": [
       "network dynamic:   0%|          | 0/9999 [00:00<?, ?it/s]"
      ]
     },
     "metadata": {},
     "output_type": "display_data"
    },
    {
     "data": {
      "application/vnd.jupyter.widget-view+json": {
       "model_id": "6665aa1a866d44e88e7e73b0b8e3dc46",
       "version_major": 2,
       "version_minor": 0
      },
      "text/plain": [
       "Variation of alpha:   0%|          | 0/1 [00:00<?, ?it/s]"
      ]
     },
     "metadata": {},
     "output_type": "display_data"
    },
    {
     "data": {
      "application/vnd.jupyter.widget-view+json": {
       "model_id": "2df5731ee2ef4e9f94047486e843c1ce",
       "version_major": 2,
       "version_minor": 0
      },
      "text/plain": [
       "Making ensembles:   0%|          | 0/1 [00:00<?, ?it/s]"
      ]
     },
     "metadata": {},
     "output_type": "display_data"
    },
    {
     "data": {
      "application/vnd.jupyter.widget-view+json": {
       "model_id": "f3df856badad4f4d841e0e47de4ca410",
       "version_major": 2,
       "version_minor": 0
      },
      "text/plain": [
       "network dynamic:   0%|          | 0/9999 [00:00<?, ?it/s]"
      ]
     },
     "metadata": {},
     "output_type": "display_data"
    },
    {
     "data": {
      "application/vnd.jupyter.widget-view+json": {
       "model_id": "ecbc0b22d6774a12abae18ffa97e06ec",
       "version_major": 2,
       "version_minor": 0
      },
      "text/plain": [
       "Variation of alpha:   0%|          | 0/1 [00:00<?, ?it/s]"
      ]
     },
     "metadata": {},
     "output_type": "display_data"
    },
    {
     "data": {
      "application/vnd.jupyter.widget-view+json": {
       "model_id": "45d955c87ffe4cd9baf11afcdd2fb600",
       "version_major": 2,
       "version_minor": 0
      },
      "text/plain": [
       "Making ensembles:   0%|          | 0/1 [00:00<?, ?it/s]"
      ]
     },
     "metadata": {},
     "output_type": "display_data"
    },
    {
     "data": {
      "application/vnd.jupyter.widget-view+json": {
       "model_id": "150858a7f6204d7295438eb55101cf6e",
       "version_major": 2,
       "version_minor": 0
      },
      "text/plain": [
       "network dynamic:   0%|          | 0/9999 [00:00<?, ?it/s]"
      ]
     },
     "metadata": {},
     "output_type": "display_data"
    },
    {
     "data": {
      "application/vnd.jupyter.widget-view+json": {
       "model_id": "54bc16c0ccd94e1cabc68ee76fe614ff",
       "version_major": 2,
       "version_minor": 0
      },
      "text/plain": [
       "Variation of alpha:   0%|          | 0/1 [00:00<?, ?it/s]"
      ]
     },
     "metadata": {},
     "output_type": "display_data"
    },
    {
     "data": {
      "application/vnd.jupyter.widget-view+json": {
       "model_id": "2bbcf415a6994b2f8388d716ee04f6b3",
       "version_major": 2,
       "version_minor": 0
      },
      "text/plain": [
       "Making ensembles:   0%|          | 0/1 [00:00<?, ?it/s]"
      ]
     },
     "metadata": {},
     "output_type": "display_data"
    },
    {
     "data": {
      "application/vnd.jupyter.widget-view+json": {
       "model_id": "429191d2cd764d7fa30c675ed63ea264",
       "version_major": 2,
       "version_minor": 0
      },
      "text/plain": [
       "network dynamic:   0%|          | 0/9999 [00:00<?, ?it/s]"
      ]
     },
     "metadata": {},
     "output_type": "display_data"
    },
    {
     "data": {
      "application/vnd.jupyter.widget-view+json": {
       "model_id": "7199b3c07822494a9376bf3de4154910",
       "version_major": 2,
       "version_minor": 0
      },
      "text/plain": [
       "Variation of alpha:   0%|          | 0/1 [00:00<?, ?it/s]"
      ]
     },
     "metadata": {},
     "output_type": "display_data"
    },
    {
     "data": {
      "application/vnd.jupyter.widget-view+json": {
       "model_id": "29eed4b462b04967aaec6f9d60f5456c",
       "version_major": 2,
       "version_minor": 0
      },
      "text/plain": [
       "Making ensembles:   0%|          | 0/1 [00:00<?, ?it/s]"
      ]
     },
     "metadata": {},
     "output_type": "display_data"
    },
    {
     "data": {
      "application/vnd.jupyter.widget-view+json": {
       "model_id": "b9b4340d7c51423e80630b6c887959a1",
       "version_major": 2,
       "version_minor": 0
      },
      "text/plain": [
       "network dynamic:   0%|          | 0/9999 [00:00<?, ?it/s]"
      ]
     },
     "metadata": {},
     "output_type": "display_data"
    },
    {
     "data": {
      "application/vnd.jupyter.widget-view+json": {
       "model_id": "acfc8c04eaad4d6bbde835dc8fcd01e9",
       "version_major": 2,
       "version_minor": 0
      },
      "text/plain": [
       "Variation of alpha:   0%|          | 0/1 [00:00<?, ?it/s]"
      ]
     },
     "metadata": {},
     "output_type": "display_data"
    },
    {
     "data": {
      "application/vnd.jupyter.widget-view+json": {
       "model_id": "79404ddc59a84ca4ac4eb9f4f90112f7",
       "version_major": 2,
       "version_minor": 0
      },
      "text/plain": [
       "Making ensembles:   0%|          | 0/1 [00:00<?, ?it/s]"
      ]
     },
     "metadata": {},
     "output_type": "display_data"
    },
    {
     "data": {
      "application/vnd.jupyter.widget-view+json": {
       "model_id": "fcfc7221e99945f0b18f5aad496d34dc",
       "version_major": 2,
       "version_minor": 0
      },
      "text/plain": [
       "network dynamic:   0%|          | 0/9999 [00:00<?, ?it/s]"
      ]
     },
     "metadata": {},
     "output_type": "display_data"
    },
    {
     "data": {
      "application/vnd.jupyter.widget-view+json": {
       "model_id": "cf1e6912a8584fa694865dcd70cc1f19",
       "version_major": 2,
       "version_minor": 0
      },
      "text/plain": [
       "Variation of delay:   0%|          | 0/13 [00:00<?, ?it/s]"
      ]
     },
     "metadata": {},
     "output_type": "display_data"
    },
    {
     "data": {
      "application/vnd.jupyter.widget-view+json": {
       "model_id": "d70c37ff62e3454d85af6d1454fa80c7",
       "version_major": 2,
       "version_minor": 0
      },
      "text/plain": [
       "Variation of alpha:   0%|          | 0/1 [00:00<?, ?it/s]"
      ]
     },
     "metadata": {},
     "output_type": "display_data"
    },
    {
     "data": {
      "application/vnd.jupyter.widget-view+json": {
       "model_id": "9a4f2d83a67346379f3ff1e2b85c2370",
       "version_major": 2,
       "version_minor": 0
      },
      "text/plain": [
       "Making ensembles:   0%|          | 0/1 [00:00<?, ?it/s]"
      ]
     },
     "metadata": {},
     "output_type": "display_data"
    },
    {
     "data": {
      "application/vnd.jupyter.widget-view+json": {
       "model_id": "006b92d7f6c348a2a6e8f56faf665eba",
       "version_major": 2,
       "version_minor": 0
      },
      "text/plain": [
       "network dynamic:   0%|          | 0/9999 [00:00<?, ?it/s]"
      ]
     },
     "metadata": {},
     "output_type": "display_data"
    },
    {
     "data": {
      "application/vnd.jupyter.widget-view+json": {
       "model_id": "b47811364ebb4e27902c80022c6fef6d",
       "version_major": 2,
       "version_minor": 0
      },
      "text/plain": [
       "Variation of alpha:   0%|          | 0/1 [00:00<?, ?it/s]"
      ]
     },
     "metadata": {},
     "output_type": "display_data"
    },
    {
     "data": {
      "application/vnd.jupyter.widget-view+json": {
       "model_id": "4f7962a3c25043c0bfcab24862c46906",
       "version_major": 2,
       "version_minor": 0
      },
      "text/plain": [
       "Making ensembles:   0%|          | 0/1 [00:00<?, ?it/s]"
      ]
     },
     "metadata": {},
     "output_type": "display_data"
    },
    {
     "data": {
      "application/vnd.jupyter.widget-view+json": {
       "model_id": "1aff7c9a821c4486a333b8ade7994112",
       "version_major": 2,
       "version_minor": 0
      },
      "text/plain": [
       "network dynamic:   0%|          | 0/9999 [00:00<?, ?it/s]"
      ]
     },
     "metadata": {},
     "output_type": "display_data"
    },
    {
     "data": {
      "application/vnd.jupyter.widget-view+json": {
       "model_id": "106705f8b48d4a269cc8808154ea0426",
       "version_major": 2,
       "version_minor": 0
      },
      "text/plain": [
       "Variation of alpha:   0%|          | 0/1 [00:00<?, ?it/s]"
      ]
     },
     "metadata": {},
     "output_type": "display_data"
    },
    {
     "data": {
      "application/vnd.jupyter.widget-view+json": {
       "model_id": "f2c4173362564161b1232281e1d7d761",
       "version_major": 2,
       "version_minor": 0
      },
      "text/plain": [
       "Making ensembles:   0%|          | 0/1 [00:00<?, ?it/s]"
      ]
     },
     "metadata": {},
     "output_type": "display_data"
    },
    {
     "data": {
      "application/vnd.jupyter.widget-view+json": {
       "model_id": "44d02c13dbda46bd98c325e9cc182679",
       "version_major": 2,
       "version_minor": 0
      },
      "text/plain": [
       "network dynamic:   0%|          | 0/9999 [00:00<?, ?it/s]"
      ]
     },
     "metadata": {},
     "output_type": "display_data"
    },
    {
     "data": {
      "application/vnd.jupyter.widget-view+json": {
       "model_id": "027dda2e606e4292958b5104924cd40c",
       "version_major": 2,
       "version_minor": 0
      },
      "text/plain": [
       "Variation of alpha:   0%|          | 0/1 [00:00<?, ?it/s]"
      ]
     },
     "metadata": {},
     "output_type": "display_data"
    },
    {
     "data": {
      "application/vnd.jupyter.widget-view+json": {
       "model_id": "9ad35a7266374e12bbd28b83226de636",
       "version_major": 2,
       "version_minor": 0
      },
      "text/plain": [
       "Making ensembles:   0%|          | 0/1 [00:00<?, ?it/s]"
      ]
     },
     "metadata": {},
     "output_type": "display_data"
    },
    {
     "data": {
      "application/vnd.jupyter.widget-view+json": {
       "model_id": "4b70a4908ed14e0fb8960faa1a5a2b4a",
       "version_major": 2,
       "version_minor": 0
      },
      "text/plain": [
       "network dynamic:   0%|          | 0/9999 [00:00<?, ?it/s]"
      ]
     },
     "metadata": {},
     "output_type": "display_data"
    },
    {
     "data": {
      "application/vnd.jupyter.widget-view+json": {
       "model_id": "75645b5c133e4c42a01c1b25af3925ba",
       "version_major": 2,
       "version_minor": 0
      },
      "text/plain": [
       "Variation of alpha:   0%|          | 0/1 [00:00<?, ?it/s]"
      ]
     },
     "metadata": {},
     "output_type": "display_data"
    },
    {
     "data": {
      "application/vnd.jupyter.widget-view+json": {
       "model_id": "5d7fb886a59b4beca8641ff82564ae35",
       "version_major": 2,
       "version_minor": 0
      },
      "text/plain": [
       "Making ensembles:   0%|          | 0/1 [00:00<?, ?it/s]"
      ]
     },
     "metadata": {},
     "output_type": "display_data"
    },
    {
     "data": {
      "application/vnd.jupyter.widget-view+json": {
       "model_id": "8a2d0759d53b480998c071aa26ef9edd",
       "version_major": 2,
       "version_minor": 0
      },
      "text/plain": [
       "network dynamic:   0%|          | 0/9999 [00:00<?, ?it/s]"
      ]
     },
     "metadata": {},
     "output_type": "display_data"
    },
    {
     "data": {
      "application/vnd.jupyter.widget-view+json": {
       "model_id": "abbbcf39c3354e8181c108f1af69550c",
       "version_major": 2,
       "version_minor": 0
      },
      "text/plain": [
       "Variation of alpha:   0%|          | 0/1 [00:00<?, ?it/s]"
      ]
     },
     "metadata": {},
     "output_type": "display_data"
    },
    {
     "data": {
      "application/vnd.jupyter.widget-view+json": {
       "model_id": "59f5561a837641bb9e9f543270fcd0ef",
       "version_major": 2,
       "version_minor": 0
      },
      "text/plain": [
       "Making ensembles:   0%|          | 0/1 [00:00<?, ?it/s]"
      ]
     },
     "metadata": {},
     "output_type": "display_data"
    },
    {
     "data": {
      "application/vnd.jupyter.widget-view+json": {
       "model_id": "1ad3768f3d494b09a238877a159cb02b",
       "version_major": 2,
       "version_minor": 0
      },
      "text/plain": [
       "network dynamic:   0%|          | 0/9999 [00:00<?, ?it/s]"
      ]
     },
     "metadata": {},
     "output_type": "display_data"
    },
    {
     "data": {
      "application/vnd.jupyter.widget-view+json": {
       "model_id": "e3816f0752f0498485a53abc9cd8ccd8",
       "version_major": 2,
       "version_minor": 0
      },
      "text/plain": [
       "Variation of alpha:   0%|          | 0/1 [00:00<?, ?it/s]"
      ]
     },
     "metadata": {},
     "output_type": "display_data"
    },
    {
     "data": {
      "application/vnd.jupyter.widget-view+json": {
       "model_id": "e3621d0902ec4053a25b23efff69f2b6",
       "version_major": 2,
       "version_minor": 0
      },
      "text/plain": [
       "Making ensembles:   0%|          | 0/1 [00:00<?, ?it/s]"
      ]
     },
     "metadata": {},
     "output_type": "display_data"
    },
    {
     "data": {
      "application/vnd.jupyter.widget-view+json": {
       "model_id": "704e801320c64a138d41c27cfd88288a",
       "version_major": 2,
       "version_minor": 0
      },
      "text/plain": [
       "network dynamic:   0%|          | 0/9999 [00:00<?, ?it/s]"
      ]
     },
     "metadata": {},
     "output_type": "display_data"
    },
    {
     "data": {
      "application/vnd.jupyter.widget-view+json": {
       "model_id": "deec68f020884318b880375800e23bef",
       "version_major": 2,
       "version_minor": 0
      },
      "text/plain": [
       "Variation of alpha:   0%|          | 0/1 [00:00<?, ?it/s]"
      ]
     },
     "metadata": {},
     "output_type": "display_data"
    },
    {
     "data": {
      "application/vnd.jupyter.widget-view+json": {
       "model_id": "60eca837b4bb40e6953e3c2dc43bcd97",
       "version_major": 2,
       "version_minor": 0
      },
      "text/plain": [
       "Making ensembles:   0%|          | 0/1 [00:00<?, ?it/s]"
      ]
     },
     "metadata": {},
     "output_type": "display_data"
    },
    {
     "data": {
      "application/vnd.jupyter.widget-view+json": {
       "model_id": "3cf42a5e41d64b60ac2bdeba29d31988",
       "version_major": 2,
       "version_minor": 0
      },
      "text/plain": [
       "network dynamic:   0%|          | 0/9999 [00:00<?, ?it/s]"
      ]
     },
     "metadata": {},
     "output_type": "display_data"
    },
    {
     "data": {
      "application/vnd.jupyter.widget-view+json": {
       "model_id": "56d489c19ba743f98d60b87bf4cd5c19",
       "version_major": 2,
       "version_minor": 0
      },
      "text/plain": [
       "Variation of alpha:   0%|          | 0/1 [00:00<?, ?it/s]"
      ]
     },
     "metadata": {},
     "output_type": "display_data"
    },
    {
     "data": {
      "application/vnd.jupyter.widget-view+json": {
       "model_id": "6c3c3d0def524f8ba85d49b17f5f5a50",
       "version_major": 2,
       "version_minor": 0
      },
      "text/plain": [
       "Making ensembles:   0%|          | 0/1 [00:00<?, ?it/s]"
      ]
     },
     "metadata": {},
     "output_type": "display_data"
    },
    {
     "data": {
      "application/vnd.jupyter.widget-view+json": {
       "model_id": "420325e1d13a4f1090947b661b4285e7",
       "version_major": 2,
       "version_minor": 0
      },
      "text/plain": [
       "network dynamic:   0%|          | 0/9999 [00:00<?, ?it/s]"
      ]
     },
     "metadata": {},
     "output_type": "display_data"
    },
    {
     "data": {
      "application/vnd.jupyter.widget-view+json": {
       "model_id": "fe55d6ab0f1e4137bf0cf7120328e737",
       "version_major": 2,
       "version_minor": 0
      },
      "text/plain": [
       "Variation of alpha:   0%|          | 0/1 [00:00<?, ?it/s]"
      ]
     },
     "metadata": {},
     "output_type": "display_data"
    },
    {
     "data": {
      "application/vnd.jupyter.widget-view+json": {
       "model_id": "361e02d80658470b9fe7856cc3fb4c62",
       "version_major": 2,
       "version_minor": 0
      },
      "text/plain": [
       "Making ensembles:   0%|          | 0/1 [00:00<?, ?it/s]"
      ]
     },
     "metadata": {},
     "output_type": "display_data"
    },
    {
     "data": {
      "application/vnd.jupyter.widget-view+json": {
       "model_id": "b6184f3eed834d91bc334972ca5f9729",
       "version_major": 2,
       "version_minor": 0
      },
      "text/plain": [
       "network dynamic:   0%|          | 0/9999 [00:00<?, ?it/s]"
      ]
     },
     "metadata": {},
     "output_type": "display_data"
    },
    {
     "data": {
      "application/vnd.jupyter.widget-view+json": {
       "model_id": "03c53887640b4e41af3975229d146537",
       "version_major": 2,
       "version_minor": 0
      },
      "text/plain": [
       "Variation of alpha:   0%|          | 0/1 [00:00<?, ?it/s]"
      ]
     },
     "metadata": {},
     "output_type": "display_data"
    },
    {
     "data": {
      "application/vnd.jupyter.widget-view+json": {
       "model_id": "e5a2252872a146e28c6e1b2a95effd2e",
       "version_major": 2,
       "version_minor": 0
      },
      "text/plain": [
       "Making ensembles:   0%|          | 0/1 [00:00<?, ?it/s]"
      ]
     },
     "metadata": {},
     "output_type": "display_data"
    },
    {
     "data": {
      "application/vnd.jupyter.widget-view+json": {
       "model_id": "c54e9f7d10fc44949249da3f53308f63",
       "version_major": 2,
       "version_minor": 0
      },
      "text/plain": [
       "network dynamic:   0%|          | 0/9999 [00:00<?, ?it/s]"
      ]
     },
     "metadata": {},
     "output_type": "display_data"
    },
    {
     "data": {
      "application/vnd.jupyter.widget-view+json": {
       "model_id": "0e6a8f4674eb44c685d78cafe7f15786",
       "version_major": 2,
       "version_minor": 0
      },
      "text/plain": [
       "Variation of alpha:   0%|          | 0/1 [00:00<?, ?it/s]"
      ]
     },
     "metadata": {},
     "output_type": "display_data"
    },
    {
     "data": {
      "application/vnd.jupyter.widget-view+json": {
       "model_id": "a02fb4555a7b4106961325c39de61ca0",
       "version_major": 2,
       "version_minor": 0
      },
      "text/plain": [
       "Making ensembles:   0%|          | 0/1 [00:00<?, ?it/s]"
      ]
     },
     "metadata": {},
     "output_type": "display_data"
    },
    {
     "data": {
      "application/vnd.jupyter.widget-view+json": {
       "model_id": "21e97cc06d6f4a3598fce1db85c29309",
       "version_major": 2,
       "version_minor": 0
      },
      "text/plain": [
       "network dynamic:   0%|          | 0/9999 [00:00<?, ?it/s]"
      ]
     },
     "metadata": {},
     "output_type": "display_data"
    },
    {
     "data": {
      "application/vnd.jupyter.widget-view+json": {
       "model_id": "2d26108a2008411d8808c8b32c0a77c0",
       "version_major": 2,
       "version_minor": 0
      },
      "text/plain": [
       "Variation of alpha:   0%|          | 0/1 [00:00<?, ?it/s]"
      ]
     },
     "metadata": {},
     "output_type": "display_data"
    },
    {
     "data": {
      "application/vnd.jupyter.widget-view+json": {
       "model_id": "cf726808762d4544ad6fad90e5e275d1",
       "version_major": 2,
       "version_minor": 0
      },
      "text/plain": [
       "Making ensembles:   0%|          | 0/1 [00:00<?, ?it/s]"
      ]
     },
     "metadata": {},
     "output_type": "display_data"
    },
    {
     "data": {
      "application/vnd.jupyter.widget-view+json": {
       "model_id": "68c87e9e930f4ae5abe2e354881c6e60",
       "version_major": 2,
       "version_minor": 0
      },
      "text/plain": [
       "network dynamic:   0%|          | 0/9999 [00:00<?, ?it/s]"
      ]
     },
     "metadata": {},
     "output_type": "display_data"
    },
    {
     "data": {
      "application/vnd.jupyter.widget-view+json": {
       "model_id": "30a1712e5e814fc486a24fd89b65681e",
       "version_major": 2,
       "version_minor": 0
      },
      "text/plain": [
       "Variation of delay:   0%|          | 0/13 [00:00<?, ?it/s]"
      ]
     },
     "metadata": {},
     "output_type": "display_data"
    },
    {
     "data": {
      "application/vnd.jupyter.widget-view+json": {
       "model_id": "ef5395b61e1f40d392da500398081de9",
       "version_major": 2,
       "version_minor": 0
      },
      "text/plain": [
       "Variation of alpha:   0%|          | 0/1 [00:00<?, ?it/s]"
      ]
     },
     "metadata": {},
     "output_type": "display_data"
    },
    {
     "data": {
      "application/vnd.jupyter.widget-view+json": {
       "model_id": "d9c4811e3a714d6a87467255e20a048a",
       "version_major": 2,
       "version_minor": 0
      },
      "text/plain": [
       "Making ensembles:   0%|          | 0/1 [00:00<?, ?it/s]"
      ]
     },
     "metadata": {},
     "output_type": "display_data"
    },
    {
     "data": {
      "application/vnd.jupyter.widget-view+json": {
       "model_id": "227b99f9be434051983ac8b95b06df00",
       "version_major": 2,
       "version_minor": 0
      },
      "text/plain": [
       "network dynamic:   0%|          | 0/9999 [00:00<?, ?it/s]"
      ]
     },
     "metadata": {},
     "output_type": "display_data"
    },
    {
     "data": {
      "application/vnd.jupyter.widget-view+json": {
       "model_id": "21a6a00a8788415282a99c405a295732",
       "version_major": 2,
       "version_minor": 0
      },
      "text/plain": [
       "Variation of alpha:   0%|          | 0/1 [00:00<?, ?it/s]"
      ]
     },
     "metadata": {},
     "output_type": "display_data"
    },
    {
     "data": {
      "application/vnd.jupyter.widget-view+json": {
       "model_id": "d52676bcc0f745edb5492bd1db870690",
       "version_major": 2,
       "version_minor": 0
      },
      "text/plain": [
       "Making ensembles:   0%|          | 0/1 [00:00<?, ?it/s]"
      ]
     },
     "metadata": {},
     "output_type": "display_data"
    },
    {
     "data": {
      "application/vnd.jupyter.widget-view+json": {
       "model_id": "30a003abf8ad4024950cd0139172f911",
       "version_major": 2,
       "version_minor": 0
      },
      "text/plain": [
       "network dynamic:   0%|          | 0/9999 [00:00<?, ?it/s]"
      ]
     },
     "metadata": {},
     "output_type": "display_data"
    },
    {
     "data": {
      "application/vnd.jupyter.widget-view+json": {
       "model_id": "f1d01a301e014043846942640cd3702f",
       "version_major": 2,
       "version_minor": 0
      },
      "text/plain": [
       "Variation of alpha:   0%|          | 0/1 [00:00<?, ?it/s]"
      ]
     },
     "metadata": {},
     "output_type": "display_data"
    },
    {
     "data": {
      "application/vnd.jupyter.widget-view+json": {
       "model_id": "2978e2b705a74f079efb406cc8bd2cfc",
       "version_major": 2,
       "version_minor": 0
      },
      "text/plain": [
       "Making ensembles:   0%|          | 0/1 [00:00<?, ?it/s]"
      ]
     },
     "metadata": {},
     "output_type": "display_data"
    },
    {
     "data": {
      "application/vnd.jupyter.widget-view+json": {
       "model_id": "df1c17dcacb447d8a421a84e7d69234d",
       "version_major": 2,
       "version_minor": 0
      },
      "text/plain": [
       "network dynamic:   0%|          | 0/9999 [00:00<?, ?it/s]"
      ]
     },
     "metadata": {},
     "output_type": "display_data"
    },
    {
     "data": {
      "application/vnd.jupyter.widget-view+json": {
       "model_id": "1203537a3d074fb5bae53748176545cb",
       "version_major": 2,
       "version_minor": 0
      },
      "text/plain": [
       "Variation of alpha:   0%|          | 0/1 [00:00<?, ?it/s]"
      ]
     },
     "metadata": {},
     "output_type": "display_data"
    },
    {
     "data": {
      "application/vnd.jupyter.widget-view+json": {
       "model_id": "8dc39f1c7e69440a80646e2fbd356b5a",
       "version_major": 2,
       "version_minor": 0
      },
      "text/plain": [
       "Making ensembles:   0%|          | 0/1 [00:00<?, ?it/s]"
      ]
     },
     "metadata": {},
     "output_type": "display_data"
    },
    {
     "data": {
      "application/vnd.jupyter.widget-view+json": {
       "model_id": "3b2a3a30332143848d7018bc61c75b3d",
       "version_major": 2,
       "version_minor": 0
      },
      "text/plain": [
       "network dynamic:   0%|          | 0/9999 [00:00<?, ?it/s]"
      ]
     },
     "metadata": {},
     "output_type": "display_data"
    },
    {
     "data": {
      "application/vnd.jupyter.widget-view+json": {
       "model_id": "ea09a3b13e294ee0872191b839f7b167",
       "version_major": 2,
       "version_minor": 0
      },
      "text/plain": [
       "Variation of alpha:   0%|          | 0/1 [00:00<?, ?it/s]"
      ]
     },
     "metadata": {},
     "output_type": "display_data"
    },
    {
     "data": {
      "application/vnd.jupyter.widget-view+json": {
       "model_id": "1a08e24979d8425ba30114b0ff4d70c2",
       "version_major": 2,
       "version_minor": 0
      },
      "text/plain": [
       "Making ensembles:   0%|          | 0/1 [00:00<?, ?it/s]"
      ]
     },
     "metadata": {},
     "output_type": "display_data"
    },
    {
     "data": {
      "application/vnd.jupyter.widget-view+json": {
       "model_id": "e27d7853aed24a0a8cfa7ecb03e642f4",
       "version_major": 2,
       "version_minor": 0
      },
      "text/plain": [
       "network dynamic:   0%|          | 0/9999 [00:00<?, ?it/s]"
      ]
     },
     "metadata": {},
     "output_type": "display_data"
    },
    {
     "data": {
      "application/vnd.jupyter.widget-view+json": {
       "model_id": "f53b9991af8947cc96590f376f92a64a",
       "version_major": 2,
       "version_minor": 0
      },
      "text/plain": [
       "Variation of alpha:   0%|          | 0/1 [00:00<?, ?it/s]"
      ]
     },
     "metadata": {},
     "output_type": "display_data"
    },
    {
     "data": {
      "application/vnd.jupyter.widget-view+json": {
       "model_id": "3e2a57f0820c4b00a849f54638d4d6d1",
       "version_major": 2,
       "version_minor": 0
      },
      "text/plain": [
       "Making ensembles:   0%|          | 0/1 [00:00<?, ?it/s]"
      ]
     },
     "metadata": {},
     "output_type": "display_data"
    },
    {
     "data": {
      "application/vnd.jupyter.widget-view+json": {
       "model_id": "e727aca97fc14c79ae24b1727b5f4a74",
       "version_major": 2,
       "version_minor": 0
      },
      "text/plain": [
       "network dynamic:   0%|          | 0/9999 [00:00<?, ?it/s]"
      ]
     },
     "metadata": {},
     "output_type": "display_data"
    },
    {
     "data": {
      "application/vnd.jupyter.widget-view+json": {
       "model_id": "57aac6e8e7054796989ad0652c539f80",
       "version_major": 2,
       "version_minor": 0
      },
      "text/plain": [
       "Variation of alpha:   0%|          | 0/1 [00:00<?, ?it/s]"
      ]
     },
     "metadata": {},
     "output_type": "display_data"
    },
    {
     "data": {
      "application/vnd.jupyter.widget-view+json": {
       "model_id": "cbf484c4f8d144e7adc93f897736b475",
       "version_major": 2,
       "version_minor": 0
      },
      "text/plain": [
       "Making ensembles:   0%|          | 0/1 [00:00<?, ?it/s]"
      ]
     },
     "metadata": {},
     "output_type": "display_data"
    },
    {
     "data": {
      "application/vnd.jupyter.widget-view+json": {
       "model_id": "c8288cdd272a4b838ee38fdefd9f0a0e",
       "version_major": 2,
       "version_minor": 0
      },
      "text/plain": [
       "network dynamic:   0%|          | 0/9999 [00:00<?, ?it/s]"
      ]
     },
     "metadata": {},
     "output_type": "display_data"
    },
    {
     "data": {
      "application/vnd.jupyter.widget-view+json": {
       "model_id": "74c012d3b2824351951a8b520ddf6b10",
       "version_major": 2,
       "version_minor": 0
      },
      "text/plain": [
       "Variation of alpha:   0%|          | 0/1 [00:00<?, ?it/s]"
      ]
     },
     "metadata": {},
     "output_type": "display_data"
    },
    {
     "data": {
      "application/vnd.jupyter.widget-view+json": {
       "model_id": "849da8b0dba5445fbe035f20013ec165",
       "version_major": 2,
       "version_minor": 0
      },
      "text/plain": [
       "Making ensembles:   0%|          | 0/1 [00:00<?, ?it/s]"
      ]
     },
     "metadata": {},
     "output_type": "display_data"
    },
    {
     "data": {
      "application/vnd.jupyter.widget-view+json": {
       "model_id": "628e1d8bb0f1404b8e03bc49aeeb1eae",
       "version_major": 2,
       "version_minor": 0
      },
      "text/plain": [
       "network dynamic:   0%|          | 0/9999 [00:00<?, ?it/s]"
      ]
     },
     "metadata": {},
     "output_type": "display_data"
    },
    {
     "data": {
      "application/vnd.jupyter.widget-view+json": {
       "model_id": "43f3135800234e4e96e42efb90d685a1",
       "version_major": 2,
       "version_minor": 0
      },
      "text/plain": [
       "Variation of alpha:   0%|          | 0/1 [00:00<?, ?it/s]"
      ]
     },
     "metadata": {},
     "output_type": "display_data"
    },
    {
     "data": {
      "application/vnd.jupyter.widget-view+json": {
       "model_id": "15a9d4e0ae9b4fc88645594c37a1da0b",
       "version_major": 2,
       "version_minor": 0
      },
      "text/plain": [
       "Making ensembles:   0%|          | 0/1 [00:00<?, ?it/s]"
      ]
     },
     "metadata": {},
     "output_type": "display_data"
    },
    {
     "data": {
      "application/vnd.jupyter.widget-view+json": {
       "model_id": "eddd27c040ec4b6792905f7aa831556f",
       "version_major": 2,
       "version_minor": 0
      },
      "text/plain": [
       "network dynamic:   0%|          | 0/9999 [00:00<?, ?it/s]"
      ]
     },
     "metadata": {},
     "output_type": "display_data"
    },
    {
     "data": {
      "application/vnd.jupyter.widget-view+json": {
       "model_id": "304d71697a2145f5b024ac7057efa147",
       "version_major": 2,
       "version_minor": 0
      },
      "text/plain": [
       "Variation of alpha:   0%|          | 0/1 [00:00<?, ?it/s]"
      ]
     },
     "metadata": {},
     "output_type": "display_data"
    },
    {
     "data": {
      "application/vnd.jupyter.widget-view+json": {
       "model_id": "4b10449270844cfeb588e4310adab40e",
       "version_major": 2,
       "version_minor": 0
      },
      "text/plain": [
       "Making ensembles:   0%|          | 0/1 [00:00<?, ?it/s]"
      ]
     },
     "metadata": {},
     "output_type": "display_data"
    },
    {
     "data": {
      "application/vnd.jupyter.widget-view+json": {
       "model_id": "cbc3c9012aa8425b826bbc6b42a71243",
       "version_major": 2,
       "version_minor": 0
      },
      "text/plain": [
       "network dynamic:   0%|          | 0/9999 [00:00<?, ?it/s]"
      ]
     },
     "metadata": {},
     "output_type": "display_data"
    },
    {
     "data": {
      "application/vnd.jupyter.widget-view+json": {
       "model_id": "89bded5bb75a4bea90a7f3ea1d99d053",
       "version_major": 2,
       "version_minor": 0
      },
      "text/plain": [
       "Variation of alpha:   0%|          | 0/1 [00:00<?, ?it/s]"
      ]
     },
     "metadata": {},
     "output_type": "display_data"
    },
    {
     "data": {
      "application/vnd.jupyter.widget-view+json": {
       "model_id": "c8eb1a5718b04d23898d336c9e800f21",
       "version_major": 2,
       "version_minor": 0
      },
      "text/plain": [
       "Making ensembles:   0%|          | 0/1 [00:00<?, ?it/s]"
      ]
     },
     "metadata": {},
     "output_type": "display_data"
    },
    {
     "data": {
      "application/vnd.jupyter.widget-view+json": {
       "model_id": "dfbf5ea494854aceb9b16050fe00b61d",
       "version_major": 2,
       "version_minor": 0
      },
      "text/plain": [
       "network dynamic:   0%|          | 0/9999 [00:00<?, ?it/s]"
      ]
     },
     "metadata": {},
     "output_type": "display_data"
    },
    {
     "data": {
      "application/vnd.jupyter.widget-view+json": {
       "model_id": "a1f7edfb356349e9a38637dede3e43f2",
       "version_major": 2,
       "version_minor": 0
      },
      "text/plain": [
       "Variation of alpha:   0%|          | 0/1 [00:00<?, ?it/s]"
      ]
     },
     "metadata": {},
     "output_type": "display_data"
    },
    {
     "data": {
      "application/vnd.jupyter.widget-view+json": {
       "model_id": "c6a24c1729c244f79ae12bc7baa984ad",
       "version_major": 2,
       "version_minor": 0
      },
      "text/plain": [
       "Making ensembles:   0%|          | 0/1 [00:00<?, ?it/s]"
      ]
     },
     "metadata": {},
     "output_type": "display_data"
    },
    {
     "data": {
      "application/vnd.jupyter.widget-view+json": {
       "model_id": "78631207efa249468bbbf9e41f644f0c",
       "version_major": 2,
       "version_minor": 0
      },
      "text/plain": [
       "network dynamic:   0%|          | 0/9999 [00:00<?, ?it/s]"
      ]
     },
     "metadata": {},
     "output_type": "display_data"
    },
    {
     "data": {
      "application/vnd.jupyter.widget-view+json": {
       "model_id": "9d938cc2a5b44e10aa117fec2ea2ed66",
       "version_major": 2,
       "version_minor": 0
      },
      "text/plain": [
       "Variation of alpha:   0%|          | 0/1 [00:00<?, ?it/s]"
      ]
     },
     "metadata": {},
     "output_type": "display_data"
    },
    {
     "data": {
      "application/vnd.jupyter.widget-view+json": {
       "model_id": "b6aa38bdd1fe4032a738789c5e94b7a2",
       "version_major": 2,
       "version_minor": 0
      },
      "text/plain": [
       "Making ensembles:   0%|          | 0/1 [00:00<?, ?it/s]"
      ]
     },
     "metadata": {},
     "output_type": "display_data"
    },
    {
     "data": {
      "application/vnd.jupyter.widget-view+json": {
       "model_id": "c71bc1432efc43c2acea927d7f9dae57",
       "version_major": 2,
       "version_minor": 0
      },
      "text/plain": [
       "network dynamic:   0%|          | 0/9999 [00:00<?, ?it/s]"
      ]
     },
     "metadata": {},
     "output_type": "display_data"
    },
    {
     "data": {
      "application/vnd.jupyter.widget-view+json": {
       "model_id": "7952b33dc2bd46cfaad1ba877b7c0671",
       "version_major": 2,
       "version_minor": 0
      },
      "text/plain": [
       "Variation of delay:   0%|          | 0/13 [00:00<?, ?it/s]"
      ]
     },
     "metadata": {},
     "output_type": "display_data"
    },
    {
     "data": {
      "application/vnd.jupyter.widget-view+json": {
       "model_id": "bdc8dfd586f54c0a92e139c1cea10a01",
       "version_major": 2,
       "version_minor": 0
      },
      "text/plain": [
       "Variation of alpha:   0%|          | 0/1 [00:00<?, ?it/s]"
      ]
     },
     "metadata": {},
     "output_type": "display_data"
    },
    {
     "data": {
      "application/vnd.jupyter.widget-view+json": {
       "model_id": "4fbab801028e4935b356160a64886a40",
       "version_major": 2,
       "version_minor": 0
      },
      "text/plain": [
       "Making ensembles:   0%|          | 0/1 [00:00<?, ?it/s]"
      ]
     },
     "metadata": {},
     "output_type": "display_data"
    },
    {
     "data": {
      "application/vnd.jupyter.widget-view+json": {
       "model_id": "fed994b51df543c9a4789fdfced2345a",
       "version_major": 2,
       "version_minor": 0
      },
      "text/plain": [
       "network dynamic:   0%|          | 0/9999 [00:00<?, ?it/s]"
      ]
     },
     "metadata": {},
     "output_type": "display_data"
    },
    {
     "data": {
      "application/vnd.jupyter.widget-view+json": {
       "model_id": "b01c4d77a1494e6bb57573cf604aa1d4",
       "version_major": 2,
       "version_minor": 0
      },
      "text/plain": [
       "Variation of alpha:   0%|          | 0/1 [00:00<?, ?it/s]"
      ]
     },
     "metadata": {},
     "output_type": "display_data"
    },
    {
     "data": {
      "application/vnd.jupyter.widget-view+json": {
       "model_id": "fbf6338ff2f44674937df9e4a0106c47",
       "version_major": 2,
       "version_minor": 0
      },
      "text/plain": [
       "Making ensembles:   0%|          | 0/1 [00:00<?, ?it/s]"
      ]
     },
     "metadata": {},
     "output_type": "display_data"
    },
    {
     "data": {
      "application/vnd.jupyter.widget-view+json": {
       "model_id": "64c46eb4b0e14781a0d5aaf288e6871e",
       "version_major": 2,
       "version_minor": 0
      },
      "text/plain": [
       "network dynamic:   0%|          | 0/9999 [00:00<?, ?it/s]"
      ]
     },
     "metadata": {},
     "output_type": "display_data"
    },
    {
     "data": {
      "application/vnd.jupyter.widget-view+json": {
       "model_id": "b5794c32455e4736a45af2125cd6aebc",
       "version_major": 2,
       "version_minor": 0
      },
      "text/plain": [
       "Variation of alpha:   0%|          | 0/1 [00:00<?, ?it/s]"
      ]
     },
     "metadata": {},
     "output_type": "display_data"
    },
    {
     "data": {
      "application/vnd.jupyter.widget-view+json": {
       "model_id": "de274c4d43a44ae79bfb8f23d4e57407",
       "version_major": 2,
       "version_minor": 0
      },
      "text/plain": [
       "Making ensembles:   0%|          | 0/1 [00:00<?, ?it/s]"
      ]
     },
     "metadata": {},
     "output_type": "display_data"
    },
    {
     "data": {
      "application/vnd.jupyter.widget-view+json": {
       "model_id": "af3769297f0847eea576b0b621ab1079",
       "version_major": 2,
       "version_minor": 0
      },
      "text/plain": [
       "network dynamic:   0%|          | 0/9999 [00:00<?, ?it/s]"
      ]
     },
     "metadata": {},
     "output_type": "display_data"
    },
    {
     "data": {
      "application/vnd.jupyter.widget-view+json": {
       "model_id": "2641520fb5864ddf93deb7be1bc456fc",
       "version_major": 2,
       "version_minor": 0
      },
      "text/plain": [
       "Variation of alpha:   0%|          | 0/1 [00:00<?, ?it/s]"
      ]
     },
     "metadata": {},
     "output_type": "display_data"
    },
    {
     "data": {
      "application/vnd.jupyter.widget-view+json": {
       "model_id": "99fd8206a4484b5a8adb041d1fec2cd2",
       "version_major": 2,
       "version_minor": 0
      },
      "text/plain": [
       "Making ensembles:   0%|          | 0/1 [00:00<?, ?it/s]"
      ]
     },
     "metadata": {},
     "output_type": "display_data"
    },
    {
     "data": {
      "application/vnd.jupyter.widget-view+json": {
       "model_id": "f9a76d3ad0cb4d98a6853116b3c9cc1c",
       "version_major": 2,
       "version_minor": 0
      },
      "text/plain": [
       "network dynamic:   0%|          | 0/9999 [00:00<?, ?it/s]"
      ]
     },
     "metadata": {},
     "output_type": "display_data"
    },
    {
     "data": {
      "application/vnd.jupyter.widget-view+json": {
       "model_id": "9efc447ca9ac4fdfbee986e289f6b031",
       "version_major": 2,
       "version_minor": 0
      },
      "text/plain": [
       "Variation of alpha:   0%|          | 0/1 [00:00<?, ?it/s]"
      ]
     },
     "metadata": {},
     "output_type": "display_data"
    },
    {
     "data": {
      "application/vnd.jupyter.widget-view+json": {
       "model_id": "7900e4c577964c7292cefba650c73a60",
       "version_major": 2,
       "version_minor": 0
      },
      "text/plain": [
       "Making ensembles:   0%|          | 0/1 [00:00<?, ?it/s]"
      ]
     },
     "metadata": {},
     "output_type": "display_data"
    },
    {
     "data": {
      "application/vnd.jupyter.widget-view+json": {
       "model_id": "c326d25d5ad7466389a1a80874211133",
       "version_major": 2,
       "version_minor": 0
      },
      "text/plain": [
       "network dynamic:   0%|          | 0/9999 [00:00<?, ?it/s]"
      ]
     },
     "metadata": {},
     "output_type": "display_data"
    },
    {
     "data": {
      "application/vnd.jupyter.widget-view+json": {
       "model_id": "dfff2e4894554f3dae86bbd3747fde99",
       "version_major": 2,
       "version_minor": 0
      },
      "text/plain": [
       "Variation of alpha:   0%|          | 0/1 [00:00<?, ?it/s]"
      ]
     },
     "metadata": {},
     "output_type": "display_data"
    },
    {
     "data": {
      "application/vnd.jupyter.widget-view+json": {
       "model_id": "ee33daafab074acd9fb5325b257b33f0",
       "version_major": 2,
       "version_minor": 0
      },
      "text/plain": [
       "Making ensembles:   0%|          | 0/1 [00:00<?, ?it/s]"
      ]
     },
     "metadata": {},
     "output_type": "display_data"
    },
    {
     "data": {
      "application/vnd.jupyter.widget-view+json": {
       "model_id": "00b09752015447bcba8fa6db9fcf5120",
       "version_major": 2,
       "version_minor": 0
      },
      "text/plain": [
       "network dynamic:   0%|          | 0/9999 [00:00<?, ?it/s]"
      ]
     },
     "metadata": {},
     "output_type": "display_data"
    },
    {
     "data": {
      "application/vnd.jupyter.widget-view+json": {
       "model_id": "4c441087391144a3b247aa2c56cbfbea",
       "version_major": 2,
       "version_minor": 0
      },
      "text/plain": [
       "Variation of alpha:   0%|          | 0/1 [00:00<?, ?it/s]"
      ]
     },
     "metadata": {},
     "output_type": "display_data"
    },
    {
     "data": {
      "application/vnd.jupyter.widget-view+json": {
       "model_id": "68006c15accf4880ad49c67d1744b44b",
       "version_major": 2,
       "version_minor": 0
      },
      "text/plain": [
       "Making ensembles:   0%|          | 0/1 [00:00<?, ?it/s]"
      ]
     },
     "metadata": {},
     "output_type": "display_data"
    },
    {
     "data": {
      "application/vnd.jupyter.widget-view+json": {
       "model_id": "0645bbce896c4ff6bead07a987d9a6db",
       "version_major": 2,
       "version_minor": 0
      },
      "text/plain": [
       "network dynamic:   0%|          | 0/9999 [00:00<?, ?it/s]"
      ]
     },
     "metadata": {},
     "output_type": "display_data"
    },
    {
     "data": {
      "application/vnd.jupyter.widget-view+json": {
       "model_id": "44c31b556589463dad12936a57c04cb3",
       "version_major": 2,
       "version_minor": 0
      },
      "text/plain": [
       "Variation of alpha:   0%|          | 0/1 [00:00<?, ?it/s]"
      ]
     },
     "metadata": {},
     "output_type": "display_data"
    },
    {
     "data": {
      "application/vnd.jupyter.widget-view+json": {
       "model_id": "3743f3927d0347f48166a41881c48fa4",
       "version_major": 2,
       "version_minor": 0
      },
      "text/plain": [
       "Making ensembles:   0%|          | 0/1 [00:00<?, ?it/s]"
      ]
     },
     "metadata": {},
     "output_type": "display_data"
    },
    {
     "data": {
      "application/vnd.jupyter.widget-view+json": {
       "model_id": "a3bd8a44a1e1402fa969ae58b1d51336",
       "version_major": 2,
       "version_minor": 0
      },
      "text/plain": [
       "network dynamic:   0%|          | 0/9999 [00:00<?, ?it/s]"
      ]
     },
     "metadata": {},
     "output_type": "display_data"
    },
    {
     "data": {
      "application/vnd.jupyter.widget-view+json": {
       "model_id": "c51e05717b974a53bffb74d945758b09",
       "version_major": 2,
       "version_minor": 0
      },
      "text/plain": [
       "Variation of alpha:   0%|          | 0/1 [00:00<?, ?it/s]"
      ]
     },
     "metadata": {},
     "output_type": "display_data"
    },
    {
     "data": {
      "application/vnd.jupyter.widget-view+json": {
       "model_id": "f8f739ac7d414d05b0f69f54c57d2b2d",
       "version_major": 2,
       "version_minor": 0
      },
      "text/plain": [
       "Making ensembles:   0%|          | 0/1 [00:00<?, ?it/s]"
      ]
     },
     "metadata": {},
     "output_type": "display_data"
    },
    {
     "data": {
      "application/vnd.jupyter.widget-view+json": {
       "model_id": "6814c208005f4f39820d45d334867279",
       "version_major": 2,
       "version_minor": 0
      },
      "text/plain": [
       "network dynamic:   0%|          | 0/9999 [00:00<?, ?it/s]"
      ]
     },
     "metadata": {},
     "output_type": "display_data"
    },
    {
     "data": {
      "application/vnd.jupyter.widget-view+json": {
       "model_id": "ddbc0f6baa8846cfa035d474ee5b717d",
       "version_major": 2,
       "version_minor": 0
      },
      "text/plain": [
       "Variation of alpha:   0%|          | 0/1 [00:00<?, ?it/s]"
      ]
     },
     "metadata": {},
     "output_type": "display_data"
    },
    {
     "data": {
      "application/vnd.jupyter.widget-view+json": {
       "model_id": "3fccc8917601431a972bd5b877c11e0e",
       "version_major": 2,
       "version_minor": 0
      },
      "text/plain": [
       "Making ensembles:   0%|          | 0/1 [00:00<?, ?it/s]"
      ]
     },
     "metadata": {},
     "output_type": "display_data"
    },
    {
     "data": {
      "application/vnd.jupyter.widget-view+json": {
       "model_id": "53e8b1b671104e58acbd1afa053b7303",
       "version_major": 2,
       "version_minor": 0
      },
      "text/plain": [
       "network dynamic:   0%|          | 0/9999 [00:00<?, ?it/s]"
      ]
     },
     "metadata": {},
     "output_type": "display_data"
    },
    {
     "data": {
      "application/vnd.jupyter.widget-view+json": {
       "model_id": "68024f3e769e4e94ba8927f3cf36a8fd",
       "version_major": 2,
       "version_minor": 0
      },
      "text/plain": [
       "Variation of alpha:   0%|          | 0/1 [00:00<?, ?it/s]"
      ]
     },
     "metadata": {},
     "output_type": "display_data"
    },
    {
     "data": {
      "application/vnd.jupyter.widget-view+json": {
       "model_id": "fe383ae5ab1847fcbc09cf5019aca772",
       "version_major": 2,
       "version_minor": 0
      },
      "text/plain": [
       "Making ensembles:   0%|          | 0/1 [00:00<?, ?it/s]"
      ]
     },
     "metadata": {},
     "output_type": "display_data"
    },
    {
     "data": {
      "application/vnd.jupyter.widget-view+json": {
       "model_id": "1043056d95bc4f718dc99415835d3e8f",
       "version_major": 2,
       "version_minor": 0
      },
      "text/plain": [
       "network dynamic:   0%|          | 0/9999 [00:00<?, ?it/s]"
      ]
     },
     "metadata": {},
     "output_type": "display_data"
    },
    {
     "data": {
      "application/vnd.jupyter.widget-view+json": {
       "model_id": "ba0db9f0eef24e69968a8893e344837a",
       "version_major": 2,
       "version_minor": 0
      },
      "text/plain": [
       "Variation of alpha:   0%|          | 0/1 [00:00<?, ?it/s]"
      ]
     },
     "metadata": {},
     "output_type": "display_data"
    },
    {
     "data": {
      "application/vnd.jupyter.widget-view+json": {
       "model_id": "83865999982d4f58aa6c67ce0f17a778",
       "version_major": 2,
       "version_minor": 0
      },
      "text/plain": [
       "Making ensembles:   0%|          | 0/1 [00:00<?, ?it/s]"
      ]
     },
     "metadata": {},
     "output_type": "display_data"
    },
    {
     "data": {
      "application/vnd.jupyter.widget-view+json": {
       "model_id": "c130e2569ccb4eb89d6cd13ed2f87ec1",
       "version_major": 2,
       "version_minor": 0
      },
      "text/plain": [
       "network dynamic:   0%|          | 0/9999 [00:00<?, ?it/s]"
      ]
     },
     "metadata": {},
     "output_type": "display_data"
    },
    {
     "data": {
      "application/vnd.jupyter.widget-view+json": {
       "model_id": "a000038e2aea4a0f80803dd230a4ad9c",
       "version_major": 2,
       "version_minor": 0
      },
      "text/plain": [
       "Variation of alpha:   0%|          | 0/1 [00:00<?, ?it/s]"
      ]
     },
     "metadata": {},
     "output_type": "display_data"
    },
    {
     "data": {
      "application/vnd.jupyter.widget-view+json": {
       "model_id": "acd06c0c45dd45349479e623830dab65",
       "version_major": 2,
       "version_minor": 0
      },
      "text/plain": [
       "Making ensembles:   0%|          | 0/1 [00:00<?, ?it/s]"
      ]
     },
     "metadata": {},
     "output_type": "display_data"
    },
    {
     "data": {
      "application/vnd.jupyter.widget-view+json": {
       "model_id": "98b840e5af0d4e18aa0f4b136f0cbd40",
       "version_major": 2,
       "version_minor": 0
      },
      "text/plain": [
       "network dynamic:   0%|          | 0/9999 [00:00<?, ?it/s]"
      ]
     },
     "metadata": {},
     "output_type": "display_data"
    },
    {
     "data": {
      "application/vnd.jupyter.widget-view+json": {
       "model_id": "69b1e60236ca4dc09af104770fa9daa3",
       "version_major": 2,
       "version_minor": 0
      },
      "text/plain": [
       "Variation of delay:   0%|          | 0/13 [00:00<?, ?it/s]"
      ]
     },
     "metadata": {},
     "output_type": "display_data"
    },
    {
     "data": {
      "application/vnd.jupyter.widget-view+json": {
       "model_id": "8d0c8df93e434324b6b08f1a1972f546",
       "version_major": 2,
       "version_minor": 0
      },
      "text/plain": [
       "Variation of alpha:   0%|          | 0/1 [00:00<?, ?it/s]"
      ]
     },
     "metadata": {},
     "output_type": "display_data"
    },
    {
     "data": {
      "application/vnd.jupyter.widget-view+json": {
       "model_id": "6c31827bf3ff4c1aa4416f5ab67a4fa9",
       "version_major": 2,
       "version_minor": 0
      },
      "text/plain": [
       "Making ensembles:   0%|          | 0/1 [00:00<?, ?it/s]"
      ]
     },
     "metadata": {},
     "output_type": "display_data"
    },
    {
     "data": {
      "application/vnd.jupyter.widget-view+json": {
       "model_id": "a5fd8a3e3c834fc5a93711ef3012eee9",
       "version_major": 2,
       "version_minor": 0
      },
      "text/plain": [
       "network dynamic:   0%|          | 0/9999 [00:00<?, ?it/s]"
      ]
     },
     "metadata": {},
     "output_type": "display_data"
    },
    {
     "data": {
      "application/vnd.jupyter.widget-view+json": {
       "model_id": "8db3995228da4f108d095dc8804b576f",
       "version_major": 2,
       "version_minor": 0
      },
      "text/plain": [
       "Variation of alpha:   0%|          | 0/1 [00:00<?, ?it/s]"
      ]
     },
     "metadata": {},
     "output_type": "display_data"
    },
    {
     "data": {
      "application/vnd.jupyter.widget-view+json": {
       "model_id": "9c27dcadd6ea4b1784c4d5167f193b9a",
       "version_major": 2,
       "version_minor": 0
      },
      "text/plain": [
       "Making ensembles:   0%|          | 0/1 [00:00<?, ?it/s]"
      ]
     },
     "metadata": {},
     "output_type": "display_data"
    },
    {
     "data": {
      "application/vnd.jupyter.widget-view+json": {
       "model_id": "b3164069d7d64aea85b5f0bdb9c13acd",
       "version_major": 2,
       "version_minor": 0
      },
      "text/plain": [
       "network dynamic:   0%|          | 0/9999 [00:00<?, ?it/s]"
      ]
     },
     "metadata": {},
     "output_type": "display_data"
    },
    {
     "data": {
      "application/vnd.jupyter.widget-view+json": {
       "model_id": "e80d6a08ef134fff82d640c863bd520f",
       "version_major": 2,
       "version_minor": 0
      },
      "text/plain": [
       "Variation of alpha:   0%|          | 0/1 [00:00<?, ?it/s]"
      ]
     },
     "metadata": {},
     "output_type": "display_data"
    },
    {
     "data": {
      "application/vnd.jupyter.widget-view+json": {
       "model_id": "71f5ee0d4d2e426883ddda2a939ab2e9",
       "version_major": 2,
       "version_minor": 0
      },
      "text/plain": [
       "Making ensembles:   0%|          | 0/1 [00:00<?, ?it/s]"
      ]
     },
     "metadata": {},
     "output_type": "display_data"
    },
    {
     "data": {
      "application/vnd.jupyter.widget-view+json": {
       "model_id": "1e50d618ef564b92834cb7e2679389f3",
       "version_major": 2,
       "version_minor": 0
      },
      "text/plain": [
       "network dynamic:   0%|          | 0/9999 [00:00<?, ?it/s]"
      ]
     },
     "metadata": {},
     "output_type": "display_data"
    },
    {
     "data": {
      "application/vnd.jupyter.widget-view+json": {
       "model_id": "13f1133130f442838397253b1cb71140",
       "version_major": 2,
       "version_minor": 0
      },
      "text/plain": [
       "Variation of alpha:   0%|          | 0/1 [00:00<?, ?it/s]"
      ]
     },
     "metadata": {},
     "output_type": "display_data"
    },
    {
     "data": {
      "application/vnd.jupyter.widget-view+json": {
       "model_id": "6eb6926f7e0b4e2b8f0a5bed0b62b650",
       "version_major": 2,
       "version_minor": 0
      },
      "text/plain": [
       "Making ensembles:   0%|          | 0/1 [00:00<?, ?it/s]"
      ]
     },
     "metadata": {},
     "output_type": "display_data"
    },
    {
     "data": {
      "application/vnd.jupyter.widget-view+json": {
       "model_id": "a34d83b8a76a45ada8790e2b8473c75f",
       "version_major": 2,
       "version_minor": 0
      },
      "text/plain": [
       "network dynamic:   0%|          | 0/9999 [00:00<?, ?it/s]"
      ]
     },
     "metadata": {},
     "output_type": "display_data"
    },
    {
     "data": {
      "application/vnd.jupyter.widget-view+json": {
       "model_id": "96fd8c9195bf42b4bca1b6cd78e0b66f",
       "version_major": 2,
       "version_minor": 0
      },
      "text/plain": [
       "Variation of alpha:   0%|          | 0/1 [00:00<?, ?it/s]"
      ]
     },
     "metadata": {},
     "output_type": "display_data"
    },
    {
     "data": {
      "application/vnd.jupyter.widget-view+json": {
       "model_id": "bb3a9e1044124253a240940135d48363",
       "version_major": 2,
       "version_minor": 0
      },
      "text/plain": [
       "Making ensembles:   0%|          | 0/1 [00:00<?, ?it/s]"
      ]
     },
     "metadata": {},
     "output_type": "display_data"
    },
    {
     "data": {
      "application/vnd.jupyter.widget-view+json": {
       "model_id": "38e57f1ecc9947f79e2688560cb28f24",
       "version_major": 2,
       "version_minor": 0
      },
      "text/plain": [
       "network dynamic:   0%|          | 0/9999 [00:00<?, ?it/s]"
      ]
     },
     "metadata": {},
     "output_type": "display_data"
    },
    {
     "data": {
      "application/vnd.jupyter.widget-view+json": {
       "model_id": "1663c4dc767e4b2994182031024615ab",
       "version_major": 2,
       "version_minor": 0
      },
      "text/plain": [
       "Variation of alpha:   0%|          | 0/1 [00:00<?, ?it/s]"
      ]
     },
     "metadata": {},
     "output_type": "display_data"
    },
    {
     "data": {
      "application/vnd.jupyter.widget-view+json": {
       "model_id": "fe495100c2114cdab4118cc4ba88e6b1",
       "version_major": 2,
       "version_minor": 0
      },
      "text/plain": [
       "Making ensembles:   0%|          | 0/1 [00:00<?, ?it/s]"
      ]
     },
     "metadata": {},
     "output_type": "display_data"
    },
    {
     "data": {
      "application/vnd.jupyter.widget-view+json": {
       "model_id": "021bad24277142338f6fe87e187a9534",
       "version_major": 2,
       "version_minor": 0
      },
      "text/plain": [
       "network dynamic:   0%|          | 0/9999 [00:00<?, ?it/s]"
      ]
     },
     "metadata": {},
     "output_type": "display_data"
    },
    {
     "data": {
      "application/vnd.jupyter.widget-view+json": {
       "model_id": "d2891ec742614d5d9dfd9ac0f54ac59b",
       "version_major": 2,
       "version_minor": 0
      },
      "text/plain": [
       "Variation of alpha:   0%|          | 0/1 [00:00<?, ?it/s]"
      ]
     },
     "metadata": {},
     "output_type": "display_data"
    },
    {
     "data": {
      "application/vnd.jupyter.widget-view+json": {
       "model_id": "ed6b477df4be4d87a77abaed8ca98936",
       "version_major": 2,
       "version_minor": 0
      },
      "text/plain": [
       "Making ensembles:   0%|          | 0/1 [00:00<?, ?it/s]"
      ]
     },
     "metadata": {},
     "output_type": "display_data"
    },
    {
     "data": {
      "application/vnd.jupyter.widget-view+json": {
       "model_id": "83236a12ce6642deb81708fd2b616f9c",
       "version_major": 2,
       "version_minor": 0
      },
      "text/plain": [
       "network dynamic:   0%|          | 0/9999 [00:00<?, ?it/s]"
      ]
     },
     "metadata": {},
     "output_type": "display_data"
    },
    {
     "data": {
      "application/vnd.jupyter.widget-view+json": {
       "model_id": "6dfac62eb34e45c7a14d043a8ed93784",
       "version_major": 2,
       "version_minor": 0
      },
      "text/plain": [
       "Variation of alpha:   0%|          | 0/1 [00:00<?, ?it/s]"
      ]
     },
     "metadata": {},
     "output_type": "display_data"
    },
    {
     "data": {
      "application/vnd.jupyter.widget-view+json": {
       "model_id": "1f74d90b6ad44aaf9b17b7934e523e29",
       "version_major": 2,
       "version_minor": 0
      },
      "text/plain": [
       "Making ensembles:   0%|          | 0/1 [00:00<?, ?it/s]"
      ]
     },
     "metadata": {},
     "output_type": "display_data"
    },
    {
     "data": {
      "application/vnd.jupyter.widget-view+json": {
       "model_id": "fe424629e86349d08e0f035384df2c11",
       "version_major": 2,
       "version_minor": 0
      },
      "text/plain": [
       "network dynamic:   0%|          | 0/9999 [00:00<?, ?it/s]"
      ]
     },
     "metadata": {},
     "output_type": "display_data"
    },
    {
     "data": {
      "application/vnd.jupyter.widget-view+json": {
       "model_id": "ea760cbc7c674dd5888819c86d4662ba",
       "version_major": 2,
       "version_minor": 0
      },
      "text/plain": [
       "Variation of alpha:   0%|          | 0/1 [00:00<?, ?it/s]"
      ]
     },
     "metadata": {},
     "output_type": "display_data"
    },
    {
     "data": {
      "application/vnd.jupyter.widget-view+json": {
       "model_id": "08876b82fd804f96a2e67051b5a55e49",
       "version_major": 2,
       "version_minor": 0
      },
      "text/plain": [
       "Making ensembles:   0%|          | 0/1 [00:00<?, ?it/s]"
      ]
     },
     "metadata": {},
     "output_type": "display_data"
    },
    {
     "data": {
      "application/vnd.jupyter.widget-view+json": {
       "model_id": "f35e01f9e7764164b1647e5adfea050d",
       "version_major": 2,
       "version_minor": 0
      },
      "text/plain": [
       "network dynamic:   0%|          | 0/9999 [00:00<?, ?it/s]"
      ]
     },
     "metadata": {},
     "output_type": "display_data"
    },
    {
     "data": {
      "application/vnd.jupyter.widget-view+json": {
       "model_id": "bf539d10e6f245628a43281f3fff8962",
       "version_major": 2,
       "version_minor": 0
      },
      "text/plain": [
       "Variation of alpha:   0%|          | 0/1 [00:00<?, ?it/s]"
      ]
     },
     "metadata": {},
     "output_type": "display_data"
    },
    {
     "data": {
      "application/vnd.jupyter.widget-view+json": {
       "model_id": "783757382e354709a4995f9fcc7c9273",
       "version_major": 2,
       "version_minor": 0
      },
      "text/plain": [
       "Making ensembles:   0%|          | 0/1 [00:00<?, ?it/s]"
      ]
     },
     "metadata": {},
     "output_type": "display_data"
    },
    {
     "data": {
      "application/vnd.jupyter.widget-view+json": {
       "model_id": "c8b27601c2af4d76a348869b4b57a560",
       "version_major": 2,
       "version_minor": 0
      },
      "text/plain": [
       "network dynamic:   0%|          | 0/9999 [00:00<?, ?it/s]"
      ]
     },
     "metadata": {},
     "output_type": "display_data"
    },
    {
     "data": {
      "application/vnd.jupyter.widget-view+json": {
       "model_id": "63c437aeec174c7db1f9862dd8761993",
       "version_major": 2,
       "version_minor": 0
      },
      "text/plain": [
       "Variation of alpha:   0%|          | 0/1 [00:00<?, ?it/s]"
      ]
     },
     "metadata": {},
     "output_type": "display_data"
    },
    {
     "data": {
      "application/vnd.jupyter.widget-view+json": {
       "model_id": "f3e83c2f28dd430c825230fa68e4bf4b",
       "version_major": 2,
       "version_minor": 0
      },
      "text/plain": [
       "Making ensembles:   0%|          | 0/1 [00:00<?, ?it/s]"
      ]
     },
     "metadata": {},
     "output_type": "display_data"
    },
    {
     "data": {
      "application/vnd.jupyter.widget-view+json": {
       "model_id": "ae0213bcffbb415393d13a757fd8ed17",
       "version_major": 2,
       "version_minor": 0
      },
      "text/plain": [
       "network dynamic:   0%|          | 0/9999 [00:00<?, ?it/s]"
      ]
     },
     "metadata": {},
     "output_type": "display_data"
    },
    {
     "data": {
      "application/vnd.jupyter.widget-view+json": {
       "model_id": "514a42743fe940909ae7abe27dad2d57",
       "version_major": 2,
       "version_minor": 0
      },
      "text/plain": [
       "Variation of alpha:   0%|          | 0/1 [00:00<?, ?it/s]"
      ]
     },
     "metadata": {},
     "output_type": "display_data"
    },
    {
     "data": {
      "application/vnd.jupyter.widget-view+json": {
       "model_id": "156c253c2aa245faa0115fc43baaeefe",
       "version_major": 2,
       "version_minor": 0
      },
      "text/plain": [
       "Making ensembles:   0%|          | 0/1 [00:00<?, ?it/s]"
      ]
     },
     "metadata": {},
     "output_type": "display_data"
    },
    {
     "data": {
      "application/vnd.jupyter.widget-view+json": {
       "model_id": "db83fdc79669406a98200657f70f772b",
       "version_major": 2,
       "version_minor": 0
      },
      "text/plain": [
       "network dynamic:   0%|          | 0/9999 [00:00<?, ?it/s]"
      ]
     },
     "metadata": {},
     "output_type": "display_data"
    },
    {
     "data": {
      "application/vnd.jupyter.widget-view+json": {
       "model_id": "c32a8fab45224e65ad4ed3ff0e27e5ab",
       "version_major": 2,
       "version_minor": 0
      },
      "text/plain": [
       "Variation of alpha:   0%|          | 0/1 [00:00<?, ?it/s]"
      ]
     },
     "metadata": {},
     "output_type": "display_data"
    },
    {
     "data": {
      "application/vnd.jupyter.widget-view+json": {
       "model_id": "202803ee65eb484fb7a52e77339241ce",
       "version_major": 2,
       "version_minor": 0
      },
      "text/plain": [
       "Making ensembles:   0%|          | 0/1 [00:00<?, ?it/s]"
      ]
     },
     "metadata": {},
     "output_type": "display_data"
    },
    {
     "data": {
      "application/vnd.jupyter.widget-view+json": {
       "model_id": "73be3f99c1fe4174a1f73abdd984434f",
       "version_major": 2,
       "version_minor": 0
      },
      "text/plain": [
       "network dynamic:   0%|          | 0/9999 [00:00<?, ?it/s]"
      ]
     },
     "metadata": {},
     "output_type": "display_data"
    },
    {
     "data": {
      "application/vnd.jupyter.widget-view+json": {
       "model_id": "c587e53e2f3849e980223ef32077b25b",
       "version_major": 2,
       "version_minor": 0
      },
      "text/plain": [
       "Variation of delay:   0%|          | 0/13 [00:00<?, ?it/s]"
      ]
     },
     "metadata": {},
     "output_type": "display_data"
    },
    {
     "data": {
      "application/vnd.jupyter.widget-view+json": {
       "model_id": "2112e33c93d14f4299d57aaa9418df49",
       "version_major": 2,
       "version_minor": 0
      },
      "text/plain": [
       "Variation of alpha:   0%|          | 0/1 [00:00<?, ?it/s]"
      ]
     },
     "metadata": {},
     "output_type": "display_data"
    },
    {
     "data": {
      "application/vnd.jupyter.widget-view+json": {
       "model_id": "fc1923d864cd4e19aadc84ab70661525",
       "version_major": 2,
       "version_minor": 0
      },
      "text/plain": [
       "Making ensembles:   0%|          | 0/1 [00:00<?, ?it/s]"
      ]
     },
     "metadata": {},
     "output_type": "display_data"
    },
    {
     "data": {
      "application/vnd.jupyter.widget-view+json": {
       "model_id": "d50df5e3b62e4d698eaf19b8ca0d7a13",
       "version_major": 2,
       "version_minor": 0
      },
      "text/plain": [
       "network dynamic:   0%|          | 0/9999 [00:00<?, ?it/s]"
      ]
     },
     "metadata": {},
     "output_type": "display_data"
    },
    {
     "data": {
      "application/vnd.jupyter.widget-view+json": {
       "model_id": "1879493b5cfd43eda033be480895141c",
       "version_major": 2,
       "version_minor": 0
      },
      "text/plain": [
       "Variation of alpha:   0%|          | 0/1 [00:00<?, ?it/s]"
      ]
     },
     "metadata": {},
     "output_type": "display_data"
    },
    {
     "data": {
      "application/vnd.jupyter.widget-view+json": {
       "model_id": "2a20de6095c14220bf17b1c73fb41acf",
       "version_major": 2,
       "version_minor": 0
      },
      "text/plain": [
       "Making ensembles:   0%|          | 0/1 [00:00<?, ?it/s]"
      ]
     },
     "metadata": {},
     "output_type": "display_data"
    },
    {
     "data": {
      "application/vnd.jupyter.widget-view+json": {
       "model_id": "04514f14e5374c688481a23717d8ec08",
       "version_major": 2,
       "version_minor": 0
      },
      "text/plain": [
       "network dynamic:   0%|          | 0/9999 [00:00<?, ?it/s]"
      ]
     },
     "metadata": {},
     "output_type": "display_data"
    },
    {
     "data": {
      "application/vnd.jupyter.widget-view+json": {
       "model_id": "ccbb5ea04dab4e62946b34eda9e5d08f",
       "version_major": 2,
       "version_minor": 0
      },
      "text/plain": [
       "Variation of alpha:   0%|          | 0/1 [00:00<?, ?it/s]"
      ]
     },
     "metadata": {},
     "output_type": "display_data"
    },
    {
     "data": {
      "application/vnd.jupyter.widget-view+json": {
       "model_id": "edb8cf36801549118572520085c0bd02",
       "version_major": 2,
       "version_minor": 0
      },
      "text/plain": [
       "Making ensembles:   0%|          | 0/1 [00:00<?, ?it/s]"
      ]
     },
     "metadata": {},
     "output_type": "display_data"
    },
    {
     "data": {
      "application/vnd.jupyter.widget-view+json": {
       "model_id": "d55ccbfd811346d3a5d2893780e41fdf",
       "version_major": 2,
       "version_minor": 0
      },
      "text/plain": [
       "network dynamic:   0%|          | 0/9999 [00:00<?, ?it/s]"
      ]
     },
     "metadata": {},
     "output_type": "display_data"
    },
    {
     "data": {
      "application/vnd.jupyter.widget-view+json": {
       "model_id": "2946c012176a4714929c216c1b86db6b",
       "version_major": 2,
       "version_minor": 0
      },
      "text/plain": [
       "Variation of alpha:   0%|          | 0/1 [00:00<?, ?it/s]"
      ]
     },
     "metadata": {},
     "output_type": "display_data"
    },
    {
     "data": {
      "application/vnd.jupyter.widget-view+json": {
       "model_id": "4ee9893632994ee68587ad55d078e932",
       "version_major": 2,
       "version_minor": 0
      },
      "text/plain": [
       "Making ensembles:   0%|          | 0/1 [00:00<?, ?it/s]"
      ]
     },
     "metadata": {},
     "output_type": "display_data"
    },
    {
     "data": {
      "application/vnd.jupyter.widget-view+json": {
       "model_id": "1243f4a639cf40acbaaa725e9506ed79",
       "version_major": 2,
       "version_minor": 0
      },
      "text/plain": [
       "network dynamic:   0%|          | 0/9999 [00:00<?, ?it/s]"
      ]
     },
     "metadata": {},
     "output_type": "display_data"
    },
    {
     "data": {
      "application/vnd.jupyter.widget-view+json": {
       "model_id": "83b8beb364ec41acb8ff245c5dac8154",
       "version_major": 2,
       "version_minor": 0
      },
      "text/plain": [
       "Variation of alpha:   0%|          | 0/1 [00:00<?, ?it/s]"
      ]
     },
     "metadata": {},
     "output_type": "display_data"
    },
    {
     "data": {
      "application/vnd.jupyter.widget-view+json": {
       "model_id": "371b535ceff74140803f83f1e622dc7d",
       "version_major": 2,
       "version_minor": 0
      },
      "text/plain": [
       "Making ensembles:   0%|          | 0/1 [00:00<?, ?it/s]"
      ]
     },
     "metadata": {},
     "output_type": "display_data"
    },
    {
     "data": {
      "application/vnd.jupyter.widget-view+json": {
       "model_id": "c1c2ec09ace6403fb48544f1841c7846",
       "version_major": 2,
       "version_minor": 0
      },
      "text/plain": [
       "network dynamic:   0%|          | 0/9999 [00:00<?, ?it/s]"
      ]
     },
     "metadata": {},
     "output_type": "display_data"
    },
    {
     "data": {
      "application/vnd.jupyter.widget-view+json": {
       "model_id": "5a7ee946399b429abc518e9a734e45ea",
       "version_major": 2,
       "version_minor": 0
      },
      "text/plain": [
       "Variation of alpha:   0%|          | 0/1 [00:00<?, ?it/s]"
      ]
     },
     "metadata": {},
     "output_type": "display_data"
    },
    {
     "data": {
      "application/vnd.jupyter.widget-view+json": {
       "model_id": "6cc4581f366e4697ae4669ebbdf4add6",
       "version_major": 2,
       "version_minor": 0
      },
      "text/plain": [
       "Making ensembles:   0%|          | 0/1 [00:00<?, ?it/s]"
      ]
     },
     "metadata": {},
     "output_type": "display_data"
    },
    {
     "data": {
      "application/vnd.jupyter.widget-view+json": {
       "model_id": "b889ea9b92a94e83b0ac232bc7c94744",
       "version_major": 2,
       "version_minor": 0
      },
      "text/plain": [
       "network dynamic:   0%|          | 0/9999 [00:00<?, ?it/s]"
      ]
     },
     "metadata": {},
     "output_type": "display_data"
    },
    {
     "data": {
      "application/vnd.jupyter.widget-view+json": {
       "model_id": "b8b1457f1db043c3a27a69ec481c7090",
       "version_major": 2,
       "version_minor": 0
      },
      "text/plain": [
       "Variation of alpha:   0%|          | 0/1 [00:00<?, ?it/s]"
      ]
     },
     "metadata": {},
     "output_type": "display_data"
    },
    {
     "data": {
      "application/vnd.jupyter.widget-view+json": {
       "model_id": "481f5477592b4e5498951f0b4db0db7d",
       "version_major": 2,
       "version_minor": 0
      },
      "text/plain": [
       "Making ensembles:   0%|          | 0/1 [00:00<?, ?it/s]"
      ]
     },
     "metadata": {},
     "output_type": "display_data"
    },
    {
     "data": {
      "application/vnd.jupyter.widget-view+json": {
       "model_id": "4d23730f75bf4b899b5d011c6e089dc6",
       "version_major": 2,
       "version_minor": 0
      },
      "text/plain": [
       "network dynamic:   0%|          | 0/9999 [00:00<?, ?it/s]"
      ]
     },
     "metadata": {},
     "output_type": "display_data"
    },
    {
     "data": {
      "application/vnd.jupyter.widget-view+json": {
       "model_id": "688cd5d48da644398679f911095ab2d7",
       "version_major": 2,
       "version_minor": 0
      },
      "text/plain": [
       "Variation of alpha:   0%|          | 0/1 [00:00<?, ?it/s]"
      ]
     },
     "metadata": {},
     "output_type": "display_data"
    },
    {
     "data": {
      "application/vnd.jupyter.widget-view+json": {
       "model_id": "4632d482aa334e428ba58aabaa6253fd",
       "version_major": 2,
       "version_minor": 0
      },
      "text/plain": [
       "Making ensembles:   0%|          | 0/1 [00:00<?, ?it/s]"
      ]
     },
     "metadata": {},
     "output_type": "display_data"
    },
    {
     "data": {
      "application/vnd.jupyter.widget-view+json": {
       "model_id": "aa5b2e53efed4bee9e63eec1c1fa96d4",
       "version_major": 2,
       "version_minor": 0
      },
      "text/plain": [
       "network dynamic:   0%|          | 0/9999 [00:00<?, ?it/s]"
      ]
     },
     "metadata": {},
     "output_type": "display_data"
    },
    {
     "data": {
      "application/vnd.jupyter.widget-view+json": {
       "model_id": "bb5a2478c01347e8b098d28e707d0696",
       "version_major": 2,
       "version_minor": 0
      },
      "text/plain": [
       "Variation of alpha:   0%|          | 0/1 [00:00<?, ?it/s]"
      ]
     },
     "metadata": {},
     "output_type": "display_data"
    },
    {
     "data": {
      "application/vnd.jupyter.widget-view+json": {
       "model_id": "06d53c86f5d845d29abee75fa652e5df",
       "version_major": 2,
       "version_minor": 0
      },
      "text/plain": [
       "Making ensembles:   0%|          | 0/1 [00:00<?, ?it/s]"
      ]
     },
     "metadata": {},
     "output_type": "display_data"
    },
    {
     "data": {
      "application/vnd.jupyter.widget-view+json": {
       "model_id": "776071c3566b4a88a29703b477abe394",
       "version_major": 2,
       "version_minor": 0
      },
      "text/plain": [
       "network dynamic:   0%|          | 0/9999 [00:00<?, ?it/s]"
      ]
     },
     "metadata": {},
     "output_type": "display_data"
    },
    {
     "data": {
      "application/vnd.jupyter.widget-view+json": {
       "model_id": "0826528a00f444c78ecad1aaf456c4e7",
       "version_major": 2,
       "version_minor": 0
      },
      "text/plain": [
       "Variation of alpha:   0%|          | 0/1 [00:00<?, ?it/s]"
      ]
     },
     "metadata": {},
     "output_type": "display_data"
    },
    {
     "data": {
      "application/vnd.jupyter.widget-view+json": {
       "model_id": "53c0fdefdf3744f09afa0256415d8ad2",
       "version_major": 2,
       "version_minor": 0
      },
      "text/plain": [
       "Making ensembles:   0%|          | 0/1 [00:00<?, ?it/s]"
      ]
     },
     "metadata": {},
     "output_type": "display_data"
    },
    {
     "data": {
      "application/vnd.jupyter.widget-view+json": {
       "model_id": "a53813c33eb74787b7575fb3f4757768",
       "version_major": 2,
       "version_minor": 0
      },
      "text/plain": [
       "network dynamic:   0%|          | 0/9999 [00:00<?, ?it/s]"
      ]
     },
     "metadata": {},
     "output_type": "display_data"
    },
    {
     "data": {
      "application/vnd.jupyter.widget-view+json": {
       "model_id": "95cf65eac4104b9ea0b73c246e7031ff",
       "version_major": 2,
       "version_minor": 0
      },
      "text/plain": [
       "Variation of alpha:   0%|          | 0/1 [00:00<?, ?it/s]"
      ]
     },
     "metadata": {},
     "output_type": "display_data"
    },
    {
     "data": {
      "application/vnd.jupyter.widget-view+json": {
       "model_id": "fbb628b4405e47ecb35855a7cf90850b",
       "version_major": 2,
       "version_minor": 0
      },
      "text/plain": [
       "Making ensembles:   0%|          | 0/1 [00:00<?, ?it/s]"
      ]
     },
     "metadata": {},
     "output_type": "display_data"
    },
    {
     "data": {
      "application/vnd.jupyter.widget-view+json": {
       "model_id": "39d0482c2fda4b3b9e6add0cba294f6a",
       "version_major": 2,
       "version_minor": 0
      },
      "text/plain": [
       "network dynamic:   0%|          | 0/9999 [00:00<?, ?it/s]"
      ]
     },
     "metadata": {},
     "output_type": "display_data"
    },
    {
     "data": {
      "application/vnd.jupyter.widget-view+json": {
       "model_id": "e1288010bbda4746a8d94e6a8d1b8c7f",
       "version_major": 2,
       "version_minor": 0
      },
      "text/plain": [
       "Variation of alpha:   0%|          | 0/1 [00:00<?, ?it/s]"
      ]
     },
     "metadata": {},
     "output_type": "display_data"
    },
    {
     "data": {
      "application/vnd.jupyter.widget-view+json": {
       "model_id": "42b797ee85cf4964a199032e7a309a79",
       "version_major": 2,
       "version_minor": 0
      },
      "text/plain": [
       "Making ensembles:   0%|          | 0/1 [00:00<?, ?it/s]"
      ]
     },
     "metadata": {},
     "output_type": "display_data"
    },
    {
     "data": {
      "application/vnd.jupyter.widget-view+json": {
       "model_id": "5fdea010edeb45ea999b3797809b9c80",
       "version_major": 2,
       "version_minor": 0
      },
      "text/plain": [
       "network dynamic:   0%|          | 0/9999 [00:00<?, ?it/s]"
      ]
     },
     "metadata": {},
     "output_type": "display_data"
    },
    {
     "data": {
      "application/vnd.jupyter.widget-view+json": {
       "model_id": "85c9d4bbe2d64c9f87f3aea9d45cdf7d",
       "version_major": 2,
       "version_minor": 0
      },
      "text/plain": [
       "Variation of alpha:   0%|          | 0/1 [00:00<?, ?it/s]"
      ]
     },
     "metadata": {},
     "output_type": "display_data"
    },
    {
     "data": {
      "application/vnd.jupyter.widget-view+json": {
       "model_id": "bf886dcc01894a23883d049a33d10b4b",
       "version_major": 2,
       "version_minor": 0
      },
      "text/plain": [
       "Making ensembles:   0%|          | 0/1 [00:00<?, ?it/s]"
      ]
     },
     "metadata": {},
     "output_type": "display_data"
    },
    {
     "data": {
      "application/vnd.jupyter.widget-view+json": {
       "model_id": "476f6021aa9e49cbb110e98c7aca9866",
       "version_major": 2,
       "version_minor": 0
      },
      "text/plain": [
       "network dynamic:   0%|          | 0/9999 [00:00<?, ?it/s]"
      ]
     },
     "metadata": {},
     "output_type": "display_data"
    },
    {
     "data": {
      "application/vnd.jupyter.widget-view+json": {
       "model_id": "511f403391214122aafa7866a2bca071",
       "version_major": 2,
       "version_minor": 0
      },
      "text/plain": [
       "Variation of delay:   0%|          | 0/13 [00:00<?, ?it/s]"
      ]
     },
     "metadata": {},
     "output_type": "display_data"
    },
    {
     "data": {
      "application/vnd.jupyter.widget-view+json": {
       "model_id": "d78009a16fd748179acef78573675580",
       "version_major": 2,
       "version_minor": 0
      },
      "text/plain": [
       "Variation of alpha:   0%|          | 0/1 [00:00<?, ?it/s]"
      ]
     },
     "metadata": {},
     "output_type": "display_data"
    },
    {
     "data": {
      "application/vnd.jupyter.widget-view+json": {
       "model_id": "dc6f259c83ab4689b03f833f2910f937",
       "version_major": 2,
       "version_minor": 0
      },
      "text/plain": [
       "Making ensembles:   0%|          | 0/1 [00:00<?, ?it/s]"
      ]
     },
     "metadata": {},
     "output_type": "display_data"
    },
    {
     "data": {
      "application/vnd.jupyter.widget-view+json": {
       "model_id": "9d07d8903b0d4088b4564a4c3ad7459f",
       "version_major": 2,
       "version_minor": 0
      },
      "text/plain": [
       "network dynamic:   0%|          | 0/9999 [00:00<?, ?it/s]"
      ]
     },
     "metadata": {},
     "output_type": "display_data"
    },
    {
     "data": {
      "application/vnd.jupyter.widget-view+json": {
       "model_id": "0903019ccdd347edb8abfd4493d90c32",
       "version_major": 2,
       "version_minor": 0
      },
      "text/plain": [
       "Variation of alpha:   0%|          | 0/1 [00:00<?, ?it/s]"
      ]
     },
     "metadata": {},
     "output_type": "display_data"
    },
    {
     "data": {
      "application/vnd.jupyter.widget-view+json": {
       "model_id": "e88a9856d75c4475930efabc90750a7f",
       "version_major": 2,
       "version_minor": 0
      },
      "text/plain": [
       "Making ensembles:   0%|          | 0/1 [00:00<?, ?it/s]"
      ]
     },
     "metadata": {},
     "output_type": "display_data"
    },
    {
     "data": {
      "application/vnd.jupyter.widget-view+json": {
       "model_id": "9da12098b46f4146b5044e9bc80dffc0",
       "version_major": 2,
       "version_minor": 0
      },
      "text/plain": [
       "network dynamic:   0%|          | 0/9999 [00:00<?, ?it/s]"
      ]
     },
     "metadata": {},
     "output_type": "display_data"
    },
    {
     "data": {
      "application/vnd.jupyter.widget-view+json": {
       "model_id": "57e82cccfda748f4afdd5f1693771413",
       "version_major": 2,
       "version_minor": 0
      },
      "text/plain": [
       "Variation of alpha:   0%|          | 0/1 [00:00<?, ?it/s]"
      ]
     },
     "metadata": {},
     "output_type": "display_data"
    },
    {
     "data": {
      "application/vnd.jupyter.widget-view+json": {
       "model_id": "0779c5c98c5c4510a2168bd60c14d028",
       "version_major": 2,
       "version_minor": 0
      },
      "text/plain": [
       "Making ensembles:   0%|          | 0/1 [00:00<?, ?it/s]"
      ]
     },
     "metadata": {},
     "output_type": "display_data"
    },
    {
     "data": {
      "application/vnd.jupyter.widget-view+json": {
       "model_id": "43838e558c494fd6b305fb555be181f1",
       "version_major": 2,
       "version_minor": 0
      },
      "text/plain": [
       "network dynamic:   0%|          | 0/9999 [00:00<?, ?it/s]"
      ]
     },
     "metadata": {},
     "output_type": "display_data"
    },
    {
     "data": {
      "application/vnd.jupyter.widget-view+json": {
       "model_id": "f58a7804670b482b81f5f7f54af81bbf",
       "version_major": 2,
       "version_minor": 0
      },
      "text/plain": [
       "Variation of alpha:   0%|          | 0/1 [00:00<?, ?it/s]"
      ]
     },
     "metadata": {},
     "output_type": "display_data"
    },
    {
     "data": {
      "application/vnd.jupyter.widget-view+json": {
       "model_id": "48fa0d0ba64d4580923fe1899d075ad2",
       "version_major": 2,
       "version_minor": 0
      },
      "text/plain": [
       "Making ensembles:   0%|          | 0/1 [00:00<?, ?it/s]"
      ]
     },
     "metadata": {},
     "output_type": "display_data"
    },
    {
     "data": {
      "application/vnd.jupyter.widget-view+json": {
       "model_id": "49ea10574e02427da57d10b6358a1502",
       "version_major": 2,
       "version_minor": 0
      },
      "text/plain": [
       "network dynamic:   0%|          | 0/9999 [00:00<?, ?it/s]"
      ]
     },
     "metadata": {},
     "output_type": "display_data"
    },
    {
     "data": {
      "application/vnd.jupyter.widget-view+json": {
       "model_id": "63f0f6d8f6154aa388cd1b48bedc2177",
       "version_major": 2,
       "version_minor": 0
      },
      "text/plain": [
       "Variation of alpha:   0%|          | 0/1 [00:00<?, ?it/s]"
      ]
     },
     "metadata": {},
     "output_type": "display_data"
    },
    {
     "data": {
      "application/vnd.jupyter.widget-view+json": {
       "model_id": "3708622f15c849c093d69ca52e47422b",
       "version_major": 2,
       "version_minor": 0
      },
      "text/plain": [
       "Making ensembles:   0%|          | 0/1 [00:00<?, ?it/s]"
      ]
     },
     "metadata": {},
     "output_type": "display_data"
    },
    {
     "data": {
      "application/vnd.jupyter.widget-view+json": {
       "model_id": "4df33de4c1594be8859f3e991a88413b",
       "version_major": 2,
       "version_minor": 0
      },
      "text/plain": [
       "network dynamic:   0%|          | 0/9999 [00:00<?, ?it/s]"
      ]
     },
     "metadata": {},
     "output_type": "display_data"
    },
    {
     "data": {
      "application/vnd.jupyter.widget-view+json": {
       "model_id": "305c768e27d84e9885f7b42b0861fdb4",
       "version_major": 2,
       "version_minor": 0
      },
      "text/plain": [
       "Variation of alpha:   0%|          | 0/1 [00:00<?, ?it/s]"
      ]
     },
     "metadata": {},
     "output_type": "display_data"
    },
    {
     "data": {
      "application/vnd.jupyter.widget-view+json": {
       "model_id": "d4b8d925edf94794823a9458d5d19ee7",
       "version_major": 2,
       "version_minor": 0
      },
      "text/plain": [
       "Making ensembles:   0%|          | 0/1 [00:00<?, ?it/s]"
      ]
     },
     "metadata": {},
     "output_type": "display_data"
    },
    {
     "data": {
      "application/vnd.jupyter.widget-view+json": {
       "model_id": "367091d6b5864b4993f2e7fd60ce5f0c",
       "version_major": 2,
       "version_minor": 0
      },
      "text/plain": [
       "network dynamic:   0%|          | 0/9999 [00:00<?, ?it/s]"
      ]
     },
     "metadata": {},
     "output_type": "display_data"
    },
    {
     "data": {
      "application/vnd.jupyter.widget-view+json": {
       "model_id": "1b33222447a24ad9b27520629b881618",
       "version_major": 2,
       "version_minor": 0
      },
      "text/plain": [
       "Variation of alpha:   0%|          | 0/1 [00:00<?, ?it/s]"
      ]
     },
     "metadata": {},
     "output_type": "display_data"
    },
    {
     "data": {
      "application/vnd.jupyter.widget-view+json": {
       "model_id": "4aa3a4d5f6bd43078757f69ce9e3b6c5",
       "version_major": 2,
       "version_minor": 0
      },
      "text/plain": [
       "Making ensembles:   0%|          | 0/1 [00:00<?, ?it/s]"
      ]
     },
     "metadata": {},
     "output_type": "display_data"
    },
    {
     "data": {
      "application/vnd.jupyter.widget-view+json": {
       "model_id": "30d06407e02c4407b7944e7bb0d4f699",
       "version_major": 2,
       "version_minor": 0
      },
      "text/plain": [
       "network dynamic:   0%|          | 0/9999 [00:00<?, ?it/s]"
      ]
     },
     "metadata": {},
     "output_type": "display_data"
    },
    {
     "data": {
      "application/vnd.jupyter.widget-view+json": {
       "model_id": "1717c509b4e6465ebc7f7bf3e25a6562",
       "version_major": 2,
       "version_minor": 0
      },
      "text/plain": [
       "Variation of alpha:   0%|          | 0/1 [00:00<?, ?it/s]"
      ]
     },
     "metadata": {},
     "output_type": "display_data"
    },
    {
     "data": {
      "application/vnd.jupyter.widget-view+json": {
       "model_id": "9d527738d9c04e26aa4bd48ced750577",
       "version_major": 2,
       "version_minor": 0
      },
      "text/plain": [
       "Making ensembles:   0%|          | 0/1 [00:00<?, ?it/s]"
      ]
     },
     "metadata": {},
     "output_type": "display_data"
    },
    {
     "data": {
      "application/vnd.jupyter.widget-view+json": {
       "model_id": "29001f049f2144c7b0cb80d1b0dccb58",
       "version_major": 2,
       "version_minor": 0
      },
      "text/plain": [
       "network dynamic:   0%|          | 0/9999 [00:00<?, ?it/s]"
      ]
     },
     "metadata": {},
     "output_type": "display_data"
    },
    {
     "data": {
      "application/vnd.jupyter.widget-view+json": {
       "model_id": "47eb635167f54b418f585d9a8fd6f59d",
       "version_major": 2,
       "version_minor": 0
      },
      "text/plain": [
       "Variation of alpha:   0%|          | 0/1 [00:00<?, ?it/s]"
      ]
     },
     "metadata": {},
     "output_type": "display_data"
    },
    {
     "data": {
      "application/vnd.jupyter.widget-view+json": {
       "model_id": "1801a28bef9749899e727c1b715ca2d6",
       "version_major": 2,
       "version_minor": 0
      },
      "text/plain": [
       "Making ensembles:   0%|          | 0/1 [00:00<?, ?it/s]"
      ]
     },
     "metadata": {},
     "output_type": "display_data"
    },
    {
     "data": {
      "application/vnd.jupyter.widget-view+json": {
       "model_id": "0e28eec21263433e8f2a2076712857cc",
       "version_major": 2,
       "version_minor": 0
      },
      "text/plain": [
       "network dynamic:   0%|          | 0/9999 [00:00<?, ?it/s]"
      ]
     },
     "metadata": {},
     "output_type": "display_data"
    },
    {
     "data": {
      "application/vnd.jupyter.widget-view+json": {
       "model_id": "c503886ff12147faa87e5720bfd2929b",
       "version_major": 2,
       "version_minor": 0
      },
      "text/plain": [
       "Variation of alpha:   0%|          | 0/1 [00:00<?, ?it/s]"
      ]
     },
     "metadata": {},
     "output_type": "display_data"
    },
    {
     "data": {
      "application/vnd.jupyter.widget-view+json": {
       "model_id": "f696cc9e96ac43aca0efeacbd86418e5",
       "version_major": 2,
       "version_minor": 0
      },
      "text/plain": [
       "Making ensembles:   0%|          | 0/1 [00:00<?, ?it/s]"
      ]
     },
     "metadata": {},
     "output_type": "display_data"
    },
    {
     "data": {
      "application/vnd.jupyter.widget-view+json": {
       "model_id": "772bdef62ea448198394dac1137b96ea",
       "version_major": 2,
       "version_minor": 0
      },
      "text/plain": [
       "network dynamic:   0%|          | 0/9999 [00:00<?, ?it/s]"
      ]
     },
     "metadata": {},
     "output_type": "display_data"
    },
    {
     "data": {
      "application/vnd.jupyter.widget-view+json": {
       "model_id": "28bfc53c3747436b8875e789025c7953",
       "version_major": 2,
       "version_minor": 0
      },
      "text/plain": [
       "Variation of alpha:   0%|          | 0/1 [00:00<?, ?it/s]"
      ]
     },
     "metadata": {},
     "output_type": "display_data"
    },
    {
     "data": {
      "application/vnd.jupyter.widget-view+json": {
       "model_id": "854c4655478e4ccc827932032a3e8068",
       "version_major": 2,
       "version_minor": 0
      },
      "text/plain": [
       "Making ensembles:   0%|          | 0/1 [00:00<?, ?it/s]"
      ]
     },
     "metadata": {},
     "output_type": "display_data"
    },
    {
     "data": {
      "application/vnd.jupyter.widget-view+json": {
       "model_id": "940114e394a44499823744cd4c7c83e7",
       "version_major": 2,
       "version_minor": 0
      },
      "text/plain": [
       "network dynamic:   0%|          | 0/9999 [00:00<?, ?it/s]"
      ]
     },
     "metadata": {},
     "output_type": "display_data"
    },
    {
     "data": {
      "application/vnd.jupyter.widget-view+json": {
       "model_id": "2b66b6f3d41e4843b367872d5ccf4f2e",
       "version_major": 2,
       "version_minor": 0
      },
      "text/plain": [
       "Variation of alpha:   0%|          | 0/1 [00:00<?, ?it/s]"
      ]
     },
     "metadata": {},
     "output_type": "display_data"
    },
    {
     "data": {
      "application/vnd.jupyter.widget-view+json": {
       "model_id": "45676615095645c7948ce796eecc62a9",
       "version_major": 2,
       "version_minor": 0
      },
      "text/plain": [
       "Making ensembles:   0%|          | 0/1 [00:00<?, ?it/s]"
      ]
     },
     "metadata": {},
     "output_type": "display_data"
    },
    {
     "data": {
      "application/vnd.jupyter.widget-view+json": {
       "model_id": "94cd850176cd4391939b347c5a383788",
       "version_major": 2,
       "version_minor": 0
      },
      "text/plain": [
       "network dynamic:   0%|          | 0/9999 [00:00<?, ?it/s]"
      ]
     },
     "metadata": {},
     "output_type": "display_data"
    },
    {
     "data": {
      "application/vnd.jupyter.widget-view+json": {
       "model_id": "2ddb3a3808fe4561b4b91c15294b3806",
       "version_major": 2,
       "version_minor": 0
      },
      "text/plain": [
       "Variation of alpha:   0%|          | 0/1 [00:00<?, ?it/s]"
      ]
     },
     "metadata": {},
     "output_type": "display_data"
    },
    {
     "data": {
      "application/vnd.jupyter.widget-view+json": {
       "model_id": "dd92289b89e14c628ab667a92fba709a",
       "version_major": 2,
       "version_minor": 0
      },
      "text/plain": [
       "Making ensembles:   0%|          | 0/1 [00:00<?, ?it/s]"
      ]
     },
     "metadata": {},
     "output_type": "display_data"
    },
    {
     "data": {
      "application/vnd.jupyter.widget-view+json": {
       "model_id": "73539b2d72204b9d9479c40530698226",
       "version_major": 2,
       "version_minor": 0
      },
      "text/plain": [
       "network dynamic:   0%|          | 0/9999 [00:00<?, ?it/s]"
      ]
     },
     "metadata": {},
     "output_type": "display_data"
    },
    {
     "data": {
      "application/vnd.jupyter.widget-view+json": {
       "model_id": "1287e2ea63f443029df9a8f4c52bd03b",
       "version_major": 2,
       "version_minor": 0
      },
      "text/plain": [
       "Variation of delay:   0%|          | 0/13 [00:00<?, ?it/s]"
      ]
     },
     "metadata": {},
     "output_type": "display_data"
    },
    {
     "data": {
      "application/vnd.jupyter.widget-view+json": {
       "model_id": "0f91db588e314e3caf3b01ef84b8a1bd",
       "version_major": 2,
       "version_minor": 0
      },
      "text/plain": [
       "Variation of alpha:   0%|          | 0/1 [00:00<?, ?it/s]"
      ]
     },
     "metadata": {},
     "output_type": "display_data"
    },
    {
     "data": {
      "application/vnd.jupyter.widget-view+json": {
       "model_id": "2e1431ef6e6f40ebb5d2fd57f7364bf7",
       "version_major": 2,
       "version_minor": 0
      },
      "text/plain": [
       "Making ensembles:   0%|          | 0/1 [00:00<?, ?it/s]"
      ]
     },
     "metadata": {},
     "output_type": "display_data"
    },
    {
     "data": {
      "application/vnd.jupyter.widget-view+json": {
       "model_id": "94ec8a2bfb5f4151a376c29181490f25",
       "version_major": 2,
       "version_minor": 0
      },
      "text/plain": [
       "network dynamic:   0%|          | 0/9999 [00:00<?, ?it/s]"
      ]
     },
     "metadata": {},
     "output_type": "display_data"
    },
    {
     "data": {
      "application/vnd.jupyter.widget-view+json": {
       "model_id": "62426559b3fb4647bb44ea84cd1cd42d",
       "version_major": 2,
       "version_minor": 0
      },
      "text/plain": [
       "Variation of alpha:   0%|          | 0/1 [00:00<?, ?it/s]"
      ]
     },
     "metadata": {},
     "output_type": "display_data"
    },
    {
     "data": {
      "application/vnd.jupyter.widget-view+json": {
       "model_id": "e4366322a3b049fa8ec55031a497f22f",
       "version_major": 2,
       "version_minor": 0
      },
      "text/plain": [
       "Making ensembles:   0%|          | 0/1 [00:00<?, ?it/s]"
      ]
     },
     "metadata": {},
     "output_type": "display_data"
    },
    {
     "data": {
      "application/vnd.jupyter.widget-view+json": {
       "model_id": "f616d56899d94d8894c292ca5eb2caaa",
       "version_major": 2,
       "version_minor": 0
      },
      "text/plain": [
       "network dynamic:   0%|          | 0/9999 [00:00<?, ?it/s]"
      ]
     },
     "metadata": {},
     "output_type": "display_data"
    },
    {
     "data": {
      "application/vnd.jupyter.widget-view+json": {
       "model_id": "19c96e87d858403a8433d737ae6940da",
       "version_major": 2,
       "version_minor": 0
      },
      "text/plain": [
       "Variation of alpha:   0%|          | 0/1 [00:00<?, ?it/s]"
      ]
     },
     "metadata": {},
     "output_type": "display_data"
    },
    {
     "data": {
      "application/vnd.jupyter.widget-view+json": {
       "model_id": "69cb6ab62cd34d64a0fb3a8960b73fc2",
       "version_major": 2,
       "version_minor": 0
      },
      "text/plain": [
       "Making ensembles:   0%|          | 0/1 [00:00<?, ?it/s]"
      ]
     },
     "metadata": {},
     "output_type": "display_data"
    },
    {
     "data": {
      "application/vnd.jupyter.widget-view+json": {
       "model_id": "6cdbec4961504e619697413cc84d76dd",
       "version_major": 2,
       "version_minor": 0
      },
      "text/plain": [
       "network dynamic:   0%|          | 0/9999 [00:00<?, ?it/s]"
      ]
     },
     "metadata": {},
     "output_type": "display_data"
    },
    {
     "data": {
      "application/vnd.jupyter.widget-view+json": {
       "model_id": "583546b8869b48e7ab276efb50b8fa32",
       "version_major": 2,
       "version_minor": 0
      },
      "text/plain": [
       "Variation of alpha:   0%|          | 0/1 [00:00<?, ?it/s]"
      ]
     },
     "metadata": {},
     "output_type": "display_data"
    },
    {
     "data": {
      "application/vnd.jupyter.widget-view+json": {
       "model_id": "bba6f5c9242f4723b72821d97708717e",
       "version_major": 2,
       "version_minor": 0
      },
      "text/plain": [
       "Making ensembles:   0%|          | 0/1 [00:00<?, ?it/s]"
      ]
     },
     "metadata": {},
     "output_type": "display_data"
    },
    {
     "data": {
      "application/vnd.jupyter.widget-view+json": {
       "model_id": "b3532c84213840989d39ccd7d8ea6217",
       "version_major": 2,
       "version_minor": 0
      },
      "text/plain": [
       "network dynamic:   0%|          | 0/9999 [00:00<?, ?it/s]"
      ]
     },
     "metadata": {},
     "output_type": "display_data"
    },
    {
     "data": {
      "application/vnd.jupyter.widget-view+json": {
       "model_id": "17b7c32fd1e149db84596c834215ddcb",
       "version_major": 2,
       "version_minor": 0
      },
      "text/plain": [
       "Variation of alpha:   0%|          | 0/1 [00:00<?, ?it/s]"
      ]
     },
     "metadata": {},
     "output_type": "display_data"
    },
    {
     "data": {
      "application/vnd.jupyter.widget-view+json": {
       "model_id": "63941f4415184ee5845df64cc3aff464",
       "version_major": 2,
       "version_minor": 0
      },
      "text/plain": [
       "Making ensembles:   0%|          | 0/1 [00:00<?, ?it/s]"
      ]
     },
     "metadata": {},
     "output_type": "display_data"
    },
    {
     "data": {
      "application/vnd.jupyter.widget-view+json": {
       "model_id": "3807c600101e45b89bc8dba6d65349ae",
       "version_major": 2,
       "version_minor": 0
      },
      "text/plain": [
       "network dynamic:   0%|          | 0/9999 [00:00<?, ?it/s]"
      ]
     },
     "metadata": {},
     "output_type": "display_data"
    },
    {
     "data": {
      "application/vnd.jupyter.widget-view+json": {
       "model_id": "370028e22b864e59b8dcf3d84d4975c8",
       "version_major": 2,
       "version_minor": 0
      },
      "text/plain": [
       "Variation of alpha:   0%|          | 0/1 [00:00<?, ?it/s]"
      ]
     },
     "metadata": {},
     "output_type": "display_data"
    },
    {
     "data": {
      "application/vnd.jupyter.widget-view+json": {
       "model_id": "eba3e53becb14afe9178f004b60db37b",
       "version_major": 2,
       "version_minor": 0
      },
      "text/plain": [
       "Making ensembles:   0%|          | 0/1 [00:00<?, ?it/s]"
      ]
     },
     "metadata": {},
     "output_type": "display_data"
    },
    {
     "data": {
      "application/vnd.jupyter.widget-view+json": {
       "model_id": "5755faea676246848b80c45834f6c616",
       "version_major": 2,
       "version_minor": 0
      },
      "text/plain": [
       "network dynamic:   0%|          | 0/9999 [00:00<?, ?it/s]"
      ]
     },
     "metadata": {},
     "output_type": "display_data"
    },
    {
     "data": {
      "application/vnd.jupyter.widget-view+json": {
       "model_id": "3db651ece4ed46c0a7fc46ee3a1c0edf",
       "version_major": 2,
       "version_minor": 0
      },
      "text/plain": [
       "Variation of alpha:   0%|          | 0/1 [00:00<?, ?it/s]"
      ]
     },
     "metadata": {},
     "output_type": "display_data"
    },
    {
     "data": {
      "application/vnd.jupyter.widget-view+json": {
       "model_id": "a04e3af0c8d1406daed76a1f8684e81d",
       "version_major": 2,
       "version_minor": 0
      },
      "text/plain": [
       "Making ensembles:   0%|          | 0/1 [00:00<?, ?it/s]"
      ]
     },
     "metadata": {},
     "output_type": "display_data"
    },
    {
     "data": {
      "application/vnd.jupyter.widget-view+json": {
       "model_id": "6f09d34749b945f892ed59be200a51af",
       "version_major": 2,
       "version_minor": 0
      },
      "text/plain": [
       "network dynamic:   0%|          | 0/9999 [00:00<?, ?it/s]"
      ]
     },
     "metadata": {},
     "output_type": "display_data"
    },
    {
     "data": {
      "application/vnd.jupyter.widget-view+json": {
       "model_id": "7f3d3c42d92f406885c13c6e6c7ff3ad",
       "version_major": 2,
       "version_minor": 0
      },
      "text/plain": [
       "Variation of alpha:   0%|          | 0/1 [00:00<?, ?it/s]"
      ]
     },
     "metadata": {},
     "output_type": "display_data"
    },
    {
     "data": {
      "application/vnd.jupyter.widget-view+json": {
       "model_id": "fb15e9c5fb0a4f7cbdd31942e863ea7f",
       "version_major": 2,
       "version_minor": 0
      },
      "text/plain": [
       "Making ensembles:   0%|          | 0/1 [00:00<?, ?it/s]"
      ]
     },
     "metadata": {},
     "output_type": "display_data"
    },
    {
     "data": {
      "application/vnd.jupyter.widget-view+json": {
       "model_id": "1635d694818544cea9cbc78cd73aaa41",
       "version_major": 2,
       "version_minor": 0
      },
      "text/plain": [
       "network dynamic:   0%|          | 0/9999 [00:00<?, ?it/s]"
      ]
     },
     "metadata": {},
     "output_type": "display_data"
    },
    {
     "data": {
      "application/vnd.jupyter.widget-view+json": {
       "model_id": "9aff0e4db7fa4dc1b4f9401d09e84843",
       "version_major": 2,
       "version_minor": 0
      },
      "text/plain": [
       "Variation of alpha:   0%|          | 0/1 [00:00<?, ?it/s]"
      ]
     },
     "metadata": {},
     "output_type": "display_data"
    },
    {
     "data": {
      "application/vnd.jupyter.widget-view+json": {
       "model_id": "6842ad437ddc4fc39cddeacde28602c6",
       "version_major": 2,
       "version_minor": 0
      },
      "text/plain": [
       "Making ensembles:   0%|          | 0/1 [00:00<?, ?it/s]"
      ]
     },
     "metadata": {},
     "output_type": "display_data"
    },
    {
     "data": {
      "application/vnd.jupyter.widget-view+json": {
       "model_id": "fc6f517fcab54cd0bfd31f44d8985768",
       "version_major": 2,
       "version_minor": 0
      },
      "text/plain": [
       "network dynamic:   0%|          | 0/9999 [00:00<?, ?it/s]"
      ]
     },
     "metadata": {},
     "output_type": "display_data"
    },
    {
     "data": {
      "application/vnd.jupyter.widget-view+json": {
       "model_id": "d3bb4b9106404432a70e2b95f399fd61",
       "version_major": 2,
       "version_minor": 0
      },
      "text/plain": [
       "Variation of alpha:   0%|          | 0/1 [00:00<?, ?it/s]"
      ]
     },
     "metadata": {},
     "output_type": "display_data"
    },
    {
     "data": {
      "application/vnd.jupyter.widget-view+json": {
       "model_id": "b30e4418b58f4e559ca0f0a5379a3b66",
       "version_major": 2,
       "version_minor": 0
      },
      "text/plain": [
       "Making ensembles:   0%|          | 0/1 [00:00<?, ?it/s]"
      ]
     },
     "metadata": {},
     "output_type": "display_data"
    },
    {
     "data": {
      "application/vnd.jupyter.widget-view+json": {
       "model_id": "5c7c91f7411242cf89864b55ae63f1c6",
       "version_major": 2,
       "version_minor": 0
      },
      "text/plain": [
       "network dynamic:   0%|          | 0/9999 [00:00<?, ?it/s]"
      ]
     },
     "metadata": {},
     "output_type": "display_data"
    },
    {
     "data": {
      "application/vnd.jupyter.widget-view+json": {
       "model_id": "fdd16cbfb73044a8a2554681f9183b82",
       "version_major": 2,
       "version_minor": 0
      },
      "text/plain": [
       "Variation of alpha:   0%|          | 0/1 [00:00<?, ?it/s]"
      ]
     },
     "metadata": {},
     "output_type": "display_data"
    },
    {
     "data": {
      "application/vnd.jupyter.widget-view+json": {
       "model_id": "f1ae059b26c54411b74c608ca4394cf2",
       "version_major": 2,
       "version_minor": 0
      },
      "text/plain": [
       "Making ensembles:   0%|          | 0/1 [00:00<?, ?it/s]"
      ]
     },
     "metadata": {},
     "output_type": "display_data"
    },
    {
     "data": {
      "application/vnd.jupyter.widget-view+json": {
       "model_id": "7332d41d114b46cc99079224cefebb5b",
       "version_major": 2,
       "version_minor": 0
      },
      "text/plain": [
       "network dynamic:   0%|          | 0/9999 [00:00<?, ?it/s]"
      ]
     },
     "metadata": {},
     "output_type": "display_data"
    },
    {
     "data": {
      "application/vnd.jupyter.widget-view+json": {
       "model_id": "282d8abb642c4b04b5fddfcdbadef7be",
       "version_major": 2,
       "version_minor": 0
      },
      "text/plain": [
       "Variation of alpha:   0%|          | 0/1 [00:00<?, ?it/s]"
      ]
     },
     "metadata": {},
     "output_type": "display_data"
    },
    {
     "data": {
      "application/vnd.jupyter.widget-view+json": {
       "model_id": "37c4bafc4e05423294ec438a1fe3a832",
       "version_major": 2,
       "version_minor": 0
      },
      "text/plain": [
       "Making ensembles:   0%|          | 0/1 [00:00<?, ?it/s]"
      ]
     },
     "metadata": {},
     "output_type": "display_data"
    },
    {
     "data": {
      "application/vnd.jupyter.widget-view+json": {
       "model_id": "8b3d8af555674625bb1ce161b9e781d6",
       "version_major": 2,
       "version_minor": 0
      },
      "text/plain": [
       "network dynamic:   0%|          | 0/9999 [00:00<?, ?it/s]"
      ]
     },
     "metadata": {},
     "output_type": "display_data"
    },
    {
     "data": {
      "application/vnd.jupyter.widget-view+json": {
       "model_id": "633b886e8115418b8fd1cabb87a97e93",
       "version_major": 2,
       "version_minor": 0
      },
      "text/plain": [
       "Variation of alpha:   0%|          | 0/1 [00:00<?, ?it/s]"
      ]
     },
     "metadata": {},
     "output_type": "display_data"
    },
    {
     "data": {
      "application/vnd.jupyter.widget-view+json": {
       "model_id": "1f17234659964edf97fe3256710f6f29",
       "version_major": 2,
       "version_minor": 0
      },
      "text/plain": [
       "Making ensembles:   0%|          | 0/1 [00:00<?, ?it/s]"
      ]
     },
     "metadata": {},
     "output_type": "display_data"
    },
    {
     "data": {
      "application/vnd.jupyter.widget-view+json": {
       "model_id": "89cff344fb8b4e17bc55242d52374527",
       "version_major": 2,
       "version_minor": 0
      },
      "text/plain": [
       "network dynamic:   0%|          | 0/9999 [00:00<?, ?it/s]"
      ]
     },
     "metadata": {},
     "output_type": "display_data"
    },
    {
     "data": {
      "application/vnd.jupyter.widget-view+json": {
       "model_id": "b88eb837be0c438cb56d83ae182d671e",
       "version_major": 2,
       "version_minor": 0
      },
      "text/plain": [
       "Variation of delay:   0%|          | 0/13 [00:00<?, ?it/s]"
      ]
     },
     "metadata": {},
     "output_type": "display_data"
    },
    {
     "data": {
      "application/vnd.jupyter.widget-view+json": {
       "model_id": "d7552d7d7d2d4244b02a7cae169c0960",
       "version_major": 2,
       "version_minor": 0
      },
      "text/plain": [
       "Variation of alpha:   0%|          | 0/1 [00:00<?, ?it/s]"
      ]
     },
     "metadata": {},
     "output_type": "display_data"
    },
    {
     "data": {
      "application/vnd.jupyter.widget-view+json": {
       "model_id": "e598568e4fce4e77a1392ebbca67254b",
       "version_major": 2,
       "version_minor": 0
      },
      "text/plain": [
       "Making ensembles:   0%|          | 0/1 [00:00<?, ?it/s]"
      ]
     },
     "metadata": {},
     "output_type": "display_data"
    },
    {
     "data": {
      "application/vnd.jupyter.widget-view+json": {
       "model_id": "e5c76e6b17774bfc800e3c418c6e155e",
       "version_major": 2,
       "version_minor": 0
      },
      "text/plain": [
       "network dynamic:   0%|          | 0/9999 [00:00<?, ?it/s]"
      ]
     },
     "metadata": {},
     "output_type": "display_data"
    },
    {
     "data": {
      "application/vnd.jupyter.widget-view+json": {
       "model_id": "22356259a7ac4554a227eee6c2009934",
       "version_major": 2,
       "version_minor": 0
      },
      "text/plain": [
       "Variation of alpha:   0%|          | 0/1 [00:00<?, ?it/s]"
      ]
     },
     "metadata": {},
     "output_type": "display_data"
    },
    {
     "data": {
      "application/vnd.jupyter.widget-view+json": {
       "model_id": "8dcb6fc0f395479aa2148347b2cf8604",
       "version_major": 2,
       "version_minor": 0
      },
      "text/plain": [
       "Making ensembles:   0%|          | 0/1 [00:00<?, ?it/s]"
      ]
     },
     "metadata": {},
     "output_type": "display_data"
    },
    {
     "data": {
      "application/vnd.jupyter.widget-view+json": {
       "model_id": "eb1eebab99b14eae96a9696cad74ec09",
       "version_major": 2,
       "version_minor": 0
      },
      "text/plain": [
       "network dynamic:   0%|          | 0/9999 [00:00<?, ?it/s]"
      ]
     },
     "metadata": {},
     "output_type": "display_data"
    },
    {
     "data": {
      "application/vnd.jupyter.widget-view+json": {
       "model_id": "7605e58b5e9d415b83703b648c93dff6",
       "version_major": 2,
       "version_minor": 0
      },
      "text/plain": [
       "Variation of alpha:   0%|          | 0/1 [00:00<?, ?it/s]"
      ]
     },
     "metadata": {},
     "output_type": "display_data"
    },
    {
     "data": {
      "application/vnd.jupyter.widget-view+json": {
       "model_id": "0960a968ba0a4fe8821bff002f51585c",
       "version_major": 2,
       "version_minor": 0
      },
      "text/plain": [
       "Making ensembles:   0%|          | 0/1 [00:00<?, ?it/s]"
      ]
     },
     "metadata": {},
     "output_type": "display_data"
    },
    {
     "data": {
      "application/vnd.jupyter.widget-view+json": {
       "model_id": "4953b321721d402ea4204603276d30ff",
       "version_major": 2,
       "version_minor": 0
      },
      "text/plain": [
       "network dynamic:   0%|          | 0/9999 [00:00<?, ?it/s]"
      ]
     },
     "metadata": {},
     "output_type": "display_data"
    },
    {
     "data": {
      "application/vnd.jupyter.widget-view+json": {
       "model_id": "779149385f4a45208b713515e7731bb2",
       "version_major": 2,
       "version_minor": 0
      },
      "text/plain": [
       "Variation of alpha:   0%|          | 0/1 [00:00<?, ?it/s]"
      ]
     },
     "metadata": {},
     "output_type": "display_data"
    },
    {
     "data": {
      "application/vnd.jupyter.widget-view+json": {
       "model_id": "ae2d60538a0d4f149e5cecab5cf98379",
       "version_major": 2,
       "version_minor": 0
      },
      "text/plain": [
       "Making ensembles:   0%|          | 0/1 [00:00<?, ?it/s]"
      ]
     },
     "metadata": {},
     "output_type": "display_data"
    },
    {
     "data": {
      "application/vnd.jupyter.widget-view+json": {
       "model_id": "263b460c13df4c118a3a94362c35c076",
       "version_major": 2,
       "version_minor": 0
      },
      "text/plain": [
       "network dynamic:   0%|          | 0/9999 [00:00<?, ?it/s]"
      ]
     },
     "metadata": {},
     "output_type": "display_data"
    },
    {
     "data": {
      "application/vnd.jupyter.widget-view+json": {
       "model_id": "26eb2d95ee3d40699dfbb3f5e87048ca",
       "version_major": 2,
       "version_minor": 0
      },
      "text/plain": [
       "Variation of alpha:   0%|          | 0/1 [00:00<?, ?it/s]"
      ]
     },
     "metadata": {},
     "output_type": "display_data"
    },
    {
     "data": {
      "application/vnd.jupyter.widget-view+json": {
       "model_id": "892bd5ba8d95426b89c900c2b88bee4b",
       "version_major": 2,
       "version_minor": 0
      },
      "text/plain": [
       "Making ensembles:   0%|          | 0/1 [00:00<?, ?it/s]"
      ]
     },
     "metadata": {},
     "output_type": "display_data"
    },
    {
     "data": {
      "application/vnd.jupyter.widget-view+json": {
       "model_id": "67cf2a4e493549a18397c457372db0c0",
       "version_major": 2,
       "version_minor": 0
      },
      "text/plain": [
       "network dynamic:   0%|          | 0/9999 [00:00<?, ?it/s]"
      ]
     },
     "metadata": {},
     "output_type": "display_data"
    },
    {
     "data": {
      "application/vnd.jupyter.widget-view+json": {
       "model_id": "5fc68d7abe3c4155a0b159282402c985",
       "version_major": 2,
       "version_minor": 0
      },
      "text/plain": [
       "Variation of alpha:   0%|          | 0/1 [00:00<?, ?it/s]"
      ]
     },
     "metadata": {},
     "output_type": "display_data"
    },
    {
     "data": {
      "application/vnd.jupyter.widget-view+json": {
       "model_id": "05a7919c41b14b0aa37ba12cf6f8298f",
       "version_major": 2,
       "version_minor": 0
      },
      "text/plain": [
       "Making ensembles:   0%|          | 0/1 [00:00<?, ?it/s]"
      ]
     },
     "metadata": {},
     "output_type": "display_data"
    },
    {
     "data": {
      "application/vnd.jupyter.widget-view+json": {
       "model_id": "a2c7049228894963a52e165919c078b2",
       "version_major": 2,
       "version_minor": 0
      },
      "text/plain": [
       "network dynamic:   0%|          | 0/9999 [00:00<?, ?it/s]"
      ]
     },
     "metadata": {},
     "output_type": "display_data"
    },
    {
     "data": {
      "application/vnd.jupyter.widget-view+json": {
       "model_id": "c5c6b92ba0ac424bb8ec62281ea18a38",
       "version_major": 2,
       "version_minor": 0
      },
      "text/plain": [
       "Variation of alpha:   0%|          | 0/1 [00:00<?, ?it/s]"
      ]
     },
     "metadata": {},
     "output_type": "display_data"
    },
    {
     "data": {
      "application/vnd.jupyter.widget-view+json": {
       "model_id": "33738e401fb84d288260cb2c2474d769",
       "version_major": 2,
       "version_minor": 0
      },
      "text/plain": [
       "Making ensembles:   0%|          | 0/1 [00:00<?, ?it/s]"
      ]
     },
     "metadata": {},
     "output_type": "display_data"
    },
    {
     "data": {
      "application/vnd.jupyter.widget-view+json": {
       "model_id": "1b3d8079f3cb4d8b9352fe9c455c26e0",
       "version_major": 2,
       "version_minor": 0
      },
      "text/plain": [
       "network dynamic:   0%|          | 0/9999 [00:00<?, ?it/s]"
      ]
     },
     "metadata": {},
     "output_type": "display_data"
    },
    {
     "data": {
      "application/vnd.jupyter.widget-view+json": {
       "model_id": "c726ad173a6847a2bf4a84936119fbd0",
       "version_major": 2,
       "version_minor": 0
      },
      "text/plain": [
       "Variation of alpha:   0%|          | 0/1 [00:00<?, ?it/s]"
      ]
     },
     "metadata": {},
     "output_type": "display_data"
    },
    {
     "data": {
      "application/vnd.jupyter.widget-view+json": {
       "model_id": "e7ec9c38052344509be1ed103536c4d0",
       "version_major": 2,
       "version_minor": 0
      },
      "text/plain": [
       "Making ensembles:   0%|          | 0/1 [00:00<?, ?it/s]"
      ]
     },
     "metadata": {},
     "output_type": "display_data"
    },
    {
     "data": {
      "application/vnd.jupyter.widget-view+json": {
       "model_id": "801b446e03e6418f8e02238f33474b7d",
       "version_major": 2,
       "version_minor": 0
      },
      "text/plain": [
       "network dynamic:   0%|          | 0/9999 [00:00<?, ?it/s]"
      ]
     },
     "metadata": {},
     "output_type": "display_data"
    },
    {
     "data": {
      "application/vnd.jupyter.widget-view+json": {
       "model_id": "fd6b939c3f0548f1a2694c8be5749d13",
       "version_major": 2,
       "version_minor": 0
      },
      "text/plain": [
       "Variation of alpha:   0%|          | 0/1 [00:00<?, ?it/s]"
      ]
     },
     "metadata": {},
     "output_type": "display_data"
    },
    {
     "data": {
      "application/vnd.jupyter.widget-view+json": {
       "model_id": "77f377739f424655bb776ef91e64af3a",
       "version_major": 2,
       "version_minor": 0
      },
      "text/plain": [
       "Making ensembles:   0%|          | 0/1 [00:00<?, ?it/s]"
      ]
     },
     "metadata": {},
     "output_type": "display_data"
    },
    {
     "data": {
      "application/vnd.jupyter.widget-view+json": {
       "model_id": "ed7f9d91522a49da8b430912bf80af6f",
       "version_major": 2,
       "version_minor": 0
      },
      "text/plain": [
       "network dynamic:   0%|          | 0/9999 [00:00<?, ?it/s]"
      ]
     },
     "metadata": {},
     "output_type": "display_data"
    },
    {
     "data": {
      "application/vnd.jupyter.widget-view+json": {
       "model_id": "45c694f913e24eb59cb29780a1baac87",
       "version_major": 2,
       "version_minor": 0
      },
      "text/plain": [
       "Variation of alpha:   0%|          | 0/1 [00:00<?, ?it/s]"
      ]
     },
     "metadata": {},
     "output_type": "display_data"
    },
    {
     "data": {
      "application/vnd.jupyter.widget-view+json": {
       "model_id": "7052dc499c6b406fa94ea90a7ae01339",
       "version_major": 2,
       "version_minor": 0
      },
      "text/plain": [
       "Making ensembles:   0%|          | 0/1 [00:00<?, ?it/s]"
      ]
     },
     "metadata": {},
     "output_type": "display_data"
    },
    {
     "data": {
      "application/vnd.jupyter.widget-view+json": {
       "model_id": "01c4120b13394b82a6ad02f9b8500010",
       "version_major": 2,
       "version_minor": 0
      },
      "text/plain": [
       "network dynamic:   0%|          | 0/9999 [00:00<?, ?it/s]"
      ]
     },
     "metadata": {},
     "output_type": "display_data"
    },
    {
     "data": {
      "application/vnd.jupyter.widget-view+json": {
       "model_id": "72d6b61ea3b049669bbee106d91808a5",
       "version_major": 2,
       "version_minor": 0
      },
      "text/plain": [
       "Variation of alpha:   0%|          | 0/1 [00:00<?, ?it/s]"
      ]
     },
     "metadata": {},
     "output_type": "display_data"
    },
    {
     "data": {
      "application/vnd.jupyter.widget-view+json": {
       "model_id": "e230dbc2e98c45e7983f777d4bdbebca",
       "version_major": 2,
       "version_minor": 0
      },
      "text/plain": [
       "Making ensembles:   0%|          | 0/1 [00:00<?, ?it/s]"
      ]
     },
     "metadata": {},
     "output_type": "display_data"
    },
    {
     "data": {
      "application/vnd.jupyter.widget-view+json": {
       "model_id": "4a3bba73aff840e2b923ac215badd0c7",
       "version_major": 2,
       "version_minor": 0
      },
      "text/plain": [
       "network dynamic:   0%|          | 0/9999 [00:00<?, ?it/s]"
      ]
     },
     "metadata": {},
     "output_type": "display_data"
    },
    {
     "data": {
      "application/vnd.jupyter.widget-view+json": {
       "model_id": "c6ec1de28eb944febcd4060fc6a56a21",
       "version_major": 2,
       "version_minor": 0
      },
      "text/plain": [
       "Variation of alpha:   0%|          | 0/1 [00:00<?, ?it/s]"
      ]
     },
     "metadata": {},
     "output_type": "display_data"
    },
    {
     "data": {
      "application/vnd.jupyter.widget-view+json": {
       "model_id": "2866354ed623473e834f80a67b433aa3",
       "version_major": 2,
       "version_minor": 0
      },
      "text/plain": [
       "Making ensembles:   0%|          | 0/1 [00:00<?, ?it/s]"
      ]
     },
     "metadata": {},
     "output_type": "display_data"
    },
    {
     "data": {
      "application/vnd.jupyter.widget-view+json": {
       "model_id": "5cadc11b73b94a11a8d021e4c510986f",
       "version_major": 2,
       "version_minor": 0
      },
      "text/plain": [
       "network dynamic:   0%|          | 0/9999 [00:00<?, ?it/s]"
      ]
     },
     "metadata": {},
     "output_type": "display_data"
    },
    {
     "data": {
      "application/vnd.jupyter.widget-view+json": {
       "model_id": "25b847c8f070482ca5b8cd280067697f",
       "version_major": 2,
       "version_minor": 0
      },
      "text/plain": [
       "Variation of alpha:   0%|          | 0/1 [00:00<?, ?it/s]"
      ]
     },
     "metadata": {},
     "output_type": "display_data"
    },
    {
     "data": {
      "application/vnd.jupyter.widget-view+json": {
       "model_id": "5cf1fe5343734901b6796b8021993950",
       "version_major": 2,
       "version_minor": 0
      },
      "text/plain": [
       "Making ensembles:   0%|          | 0/1 [00:00<?, ?it/s]"
      ]
     },
     "metadata": {},
     "output_type": "display_data"
    },
    {
     "data": {
      "application/vnd.jupyter.widget-view+json": {
       "model_id": "936d51f39ffc43c2b73c952afd30fe56",
       "version_major": 2,
       "version_minor": 0
      },
      "text/plain": [
       "network dynamic:   0%|          | 0/9999 [00:00<?, ?it/s]"
      ]
     },
     "metadata": {},
     "output_type": "display_data"
    },
    {
     "data": {
      "application/vnd.jupyter.widget-view+json": {
       "model_id": "f518eb20510b425c9dc6affcc77bec03",
       "version_major": 2,
       "version_minor": 0
      },
      "text/plain": [
       "Variation of delay:   0%|          | 0/13 [00:00<?, ?it/s]"
      ]
     },
     "metadata": {},
     "output_type": "display_data"
    },
    {
     "data": {
      "application/vnd.jupyter.widget-view+json": {
       "model_id": "5eb28c70ae134eb7b6a3037d2a5a6886",
       "version_major": 2,
       "version_minor": 0
      },
      "text/plain": [
       "Variation of alpha:   0%|          | 0/1 [00:00<?, ?it/s]"
      ]
     },
     "metadata": {},
     "output_type": "display_data"
    },
    {
     "data": {
      "application/vnd.jupyter.widget-view+json": {
       "model_id": "dbd2bb4c9c024da4ab61523504d796d4",
       "version_major": 2,
       "version_minor": 0
      },
      "text/plain": [
       "Making ensembles:   0%|          | 0/1 [00:00<?, ?it/s]"
      ]
     },
     "metadata": {},
     "output_type": "display_data"
    },
    {
     "data": {
      "application/vnd.jupyter.widget-view+json": {
       "model_id": "194b54d167ca4794953a1c8309b6b478",
       "version_major": 2,
       "version_minor": 0
      },
      "text/plain": [
       "network dynamic:   0%|          | 0/9999 [00:00<?, ?it/s]"
      ]
     },
     "metadata": {},
     "output_type": "display_data"
    },
    {
     "data": {
      "application/vnd.jupyter.widget-view+json": {
       "model_id": "e32c79e47a684498be4f1e3cf0e40b25",
       "version_major": 2,
       "version_minor": 0
      },
      "text/plain": [
       "Variation of alpha:   0%|          | 0/1 [00:00<?, ?it/s]"
      ]
     },
     "metadata": {},
     "output_type": "display_data"
    },
    {
     "data": {
      "application/vnd.jupyter.widget-view+json": {
       "model_id": "d5f94ecc30cb4833a0df72e01f1bc81b",
       "version_major": 2,
       "version_minor": 0
      },
      "text/plain": [
       "Making ensembles:   0%|          | 0/1 [00:00<?, ?it/s]"
      ]
     },
     "metadata": {},
     "output_type": "display_data"
    },
    {
     "data": {
      "application/vnd.jupyter.widget-view+json": {
       "model_id": "d594ccdd01fe41a5a2ea06df53ab3df3",
       "version_major": 2,
       "version_minor": 0
      },
      "text/plain": [
       "network dynamic:   0%|          | 0/9999 [00:00<?, ?it/s]"
      ]
     },
     "metadata": {},
     "output_type": "display_data"
    },
    {
     "data": {
      "application/vnd.jupyter.widget-view+json": {
       "model_id": "9faa93bd8aaf43279ceaf6755392cd84",
       "version_major": 2,
       "version_minor": 0
      },
      "text/plain": [
       "Variation of alpha:   0%|          | 0/1 [00:00<?, ?it/s]"
      ]
     },
     "metadata": {},
     "output_type": "display_data"
    },
    {
     "data": {
      "application/vnd.jupyter.widget-view+json": {
       "model_id": "802d8de857b647c4acaa4a7798699fcb",
       "version_major": 2,
       "version_minor": 0
      },
      "text/plain": [
       "Making ensembles:   0%|          | 0/1 [00:00<?, ?it/s]"
      ]
     },
     "metadata": {},
     "output_type": "display_data"
    },
    {
     "data": {
      "application/vnd.jupyter.widget-view+json": {
       "model_id": "4320fde852c44e0db2c922f693f42a4c",
       "version_major": 2,
       "version_minor": 0
      },
      "text/plain": [
       "network dynamic:   0%|          | 0/9999 [00:00<?, ?it/s]"
      ]
     },
     "metadata": {},
     "output_type": "display_data"
    },
    {
     "data": {
      "application/vnd.jupyter.widget-view+json": {
       "model_id": "c2239ca4420d486fb700f7b07b705a6d",
       "version_major": 2,
       "version_minor": 0
      },
      "text/plain": [
       "Variation of alpha:   0%|          | 0/1 [00:00<?, ?it/s]"
      ]
     },
     "metadata": {},
     "output_type": "display_data"
    },
    {
     "data": {
      "application/vnd.jupyter.widget-view+json": {
       "model_id": "1334c85cbac04f199eee51320ff36fac",
       "version_major": 2,
       "version_minor": 0
      },
      "text/plain": [
       "Making ensembles:   0%|          | 0/1 [00:00<?, ?it/s]"
      ]
     },
     "metadata": {},
     "output_type": "display_data"
    },
    {
     "data": {
      "application/vnd.jupyter.widget-view+json": {
       "model_id": "1ac110e6ff01465490e55ee84d33adf8",
       "version_major": 2,
       "version_minor": 0
      },
      "text/plain": [
       "network dynamic:   0%|          | 0/9999 [00:00<?, ?it/s]"
      ]
     },
     "metadata": {},
     "output_type": "display_data"
    },
    {
     "data": {
      "application/vnd.jupyter.widget-view+json": {
       "model_id": "ad03698025cd4c2ca329050efe173ce4",
       "version_major": 2,
       "version_minor": 0
      },
      "text/plain": [
       "Variation of alpha:   0%|          | 0/1 [00:00<?, ?it/s]"
      ]
     },
     "metadata": {},
     "output_type": "display_data"
    },
    {
     "data": {
      "application/vnd.jupyter.widget-view+json": {
       "model_id": "8d80e5e4f16d4b6fb8ff6455c4a51767",
       "version_major": 2,
       "version_minor": 0
      },
      "text/plain": [
       "Making ensembles:   0%|          | 0/1 [00:00<?, ?it/s]"
      ]
     },
     "metadata": {},
     "output_type": "display_data"
    },
    {
     "data": {
      "application/vnd.jupyter.widget-view+json": {
       "model_id": "e582fb5084cb4b638cc51c359c3bf037",
       "version_major": 2,
       "version_minor": 0
      },
      "text/plain": [
       "network dynamic:   0%|          | 0/9999 [00:00<?, ?it/s]"
      ]
     },
     "metadata": {},
     "output_type": "display_data"
    },
    {
     "data": {
      "application/vnd.jupyter.widget-view+json": {
       "model_id": "8fedf482c3094ee58130a0f775074e8b",
       "version_major": 2,
       "version_minor": 0
      },
      "text/plain": [
       "Variation of alpha:   0%|          | 0/1 [00:00<?, ?it/s]"
      ]
     },
     "metadata": {},
     "output_type": "display_data"
    },
    {
     "data": {
      "application/vnd.jupyter.widget-view+json": {
       "model_id": "f751558cfe554366b16659c4b6416eae",
       "version_major": 2,
       "version_minor": 0
      },
      "text/plain": [
       "Making ensembles:   0%|          | 0/1 [00:00<?, ?it/s]"
      ]
     },
     "metadata": {},
     "output_type": "display_data"
    },
    {
     "data": {
      "application/vnd.jupyter.widget-view+json": {
       "model_id": "d41ea05aeadb4162af18614914d42924",
       "version_major": 2,
       "version_minor": 0
      },
      "text/plain": [
       "network dynamic:   0%|          | 0/9999 [00:00<?, ?it/s]"
      ]
     },
     "metadata": {},
     "output_type": "display_data"
    },
    {
     "data": {
      "application/vnd.jupyter.widget-view+json": {
       "model_id": "e3eb02b0c52e40abb4f95453db621123",
       "version_major": 2,
       "version_minor": 0
      },
      "text/plain": [
       "Variation of alpha:   0%|          | 0/1 [00:00<?, ?it/s]"
      ]
     },
     "metadata": {},
     "output_type": "display_data"
    },
    {
     "data": {
      "application/vnd.jupyter.widget-view+json": {
       "model_id": "c5f868d0e83d488b847463bd22e262a5",
       "version_major": 2,
       "version_minor": 0
      },
      "text/plain": [
       "Making ensembles:   0%|          | 0/1 [00:00<?, ?it/s]"
      ]
     },
     "metadata": {},
     "output_type": "display_data"
    },
    {
     "data": {
      "application/vnd.jupyter.widget-view+json": {
       "model_id": "44a0c14769c442ecb7a27b818a609547",
       "version_major": 2,
       "version_minor": 0
      },
      "text/plain": [
       "network dynamic:   0%|          | 0/9999 [00:00<?, ?it/s]"
      ]
     },
     "metadata": {},
     "output_type": "display_data"
    },
    {
     "data": {
      "application/vnd.jupyter.widget-view+json": {
       "model_id": "9f6fcf23427d4a569d23fb1073d47a05",
       "version_major": 2,
       "version_minor": 0
      },
      "text/plain": [
       "Variation of alpha:   0%|          | 0/1 [00:00<?, ?it/s]"
      ]
     },
     "metadata": {},
     "output_type": "display_data"
    },
    {
     "data": {
      "application/vnd.jupyter.widget-view+json": {
       "model_id": "5bc67c65b11e48b9a328ad71c45f0b6a",
       "version_major": 2,
       "version_minor": 0
      },
      "text/plain": [
       "Making ensembles:   0%|          | 0/1 [00:00<?, ?it/s]"
      ]
     },
     "metadata": {},
     "output_type": "display_data"
    },
    {
     "data": {
      "application/vnd.jupyter.widget-view+json": {
       "model_id": "d9c98cacdd6c4c9699c00c0bae925175",
       "version_major": 2,
       "version_minor": 0
      },
      "text/plain": [
       "network dynamic:   0%|          | 0/9999 [00:00<?, ?it/s]"
      ]
     },
     "metadata": {},
     "output_type": "display_data"
    },
    {
     "data": {
      "application/vnd.jupyter.widget-view+json": {
       "model_id": "c99970bf45344d51a08803a164aa6500",
       "version_major": 2,
       "version_minor": 0
      },
      "text/plain": [
       "Variation of alpha:   0%|          | 0/1 [00:00<?, ?it/s]"
      ]
     },
     "metadata": {},
     "output_type": "display_data"
    },
    {
     "data": {
      "application/vnd.jupyter.widget-view+json": {
       "model_id": "b7ef2f1bd06046d6affd27610ef6c21b",
       "version_major": 2,
       "version_minor": 0
      },
      "text/plain": [
       "Making ensembles:   0%|          | 0/1 [00:00<?, ?it/s]"
      ]
     },
     "metadata": {},
     "output_type": "display_data"
    },
    {
     "data": {
      "application/vnd.jupyter.widget-view+json": {
       "model_id": "905ecbea1fd24d958dd80497d2fb1e02",
       "version_major": 2,
       "version_minor": 0
      },
      "text/plain": [
       "network dynamic:   0%|          | 0/9999 [00:00<?, ?it/s]"
      ]
     },
     "metadata": {},
     "output_type": "display_data"
    },
    {
     "data": {
      "application/vnd.jupyter.widget-view+json": {
       "model_id": "bc4f7d67dd4c4d67a623142a3fe55e69",
       "version_major": 2,
       "version_minor": 0
      },
      "text/plain": [
       "Variation of alpha:   0%|          | 0/1 [00:00<?, ?it/s]"
      ]
     },
     "metadata": {},
     "output_type": "display_data"
    },
    {
     "data": {
      "application/vnd.jupyter.widget-view+json": {
       "model_id": "0ec98c194f9b4a0ab084ad1bf2e17491",
       "version_major": 2,
       "version_minor": 0
      },
      "text/plain": [
       "Making ensembles:   0%|          | 0/1 [00:00<?, ?it/s]"
      ]
     },
     "metadata": {},
     "output_type": "display_data"
    },
    {
     "data": {
      "application/vnd.jupyter.widget-view+json": {
       "model_id": "1585c287b7d04cefbc2bdfb402741ca4",
       "version_major": 2,
       "version_minor": 0
      },
      "text/plain": [
       "network dynamic:   0%|          | 0/9999 [00:00<?, ?it/s]"
      ]
     },
     "metadata": {},
     "output_type": "display_data"
    },
    {
     "data": {
      "application/vnd.jupyter.widget-view+json": {
       "model_id": "46176ad919e14d2a9ca55688b9fe6ec4",
       "version_major": 2,
       "version_minor": 0
      },
      "text/plain": [
       "Variation of alpha:   0%|          | 0/1 [00:00<?, ?it/s]"
      ]
     },
     "metadata": {},
     "output_type": "display_data"
    },
    {
     "data": {
      "application/vnd.jupyter.widget-view+json": {
       "model_id": "c34a3e2d61944f1491fe53bc35bb8099",
       "version_major": 2,
       "version_minor": 0
      },
      "text/plain": [
       "Making ensembles:   0%|          | 0/1 [00:00<?, ?it/s]"
      ]
     },
     "metadata": {},
     "output_type": "display_data"
    },
    {
     "data": {
      "application/vnd.jupyter.widget-view+json": {
       "model_id": "40d871ba6dde4e98a6234e10ccb2e06b",
       "version_major": 2,
       "version_minor": 0
      },
      "text/plain": [
       "network dynamic:   0%|          | 0/9999 [00:00<?, ?it/s]"
      ]
     },
     "metadata": {},
     "output_type": "display_data"
    },
    {
     "data": {
      "application/vnd.jupyter.widget-view+json": {
       "model_id": "9096015183f64820a89f0816048ad9c2",
       "version_major": 2,
       "version_minor": 0
      },
      "text/plain": [
       "Variation of alpha:   0%|          | 0/1 [00:00<?, ?it/s]"
      ]
     },
     "metadata": {},
     "output_type": "display_data"
    },
    {
     "data": {
      "application/vnd.jupyter.widget-view+json": {
       "model_id": "4d60d55850a8471c9e1b4d80efec4356",
       "version_major": 2,
       "version_minor": 0
      },
      "text/plain": [
       "Making ensembles:   0%|          | 0/1 [00:00<?, ?it/s]"
      ]
     },
     "metadata": {},
     "output_type": "display_data"
    },
    {
     "data": {
      "application/vnd.jupyter.widget-view+json": {
       "model_id": "4604e93039fa42c8873f8139ccef6589",
       "version_major": 2,
       "version_minor": 0
      },
      "text/plain": [
       "network dynamic:   0%|          | 0/9999 [00:00<?, ?it/s]"
      ]
     },
     "metadata": {},
     "output_type": "display_data"
    },
    {
     "data": {
      "application/vnd.jupyter.widget-view+json": {
       "model_id": "ea9735baf3594a23ba1f4a5c752ed578",
       "version_major": 2,
       "version_minor": 0
      },
      "text/plain": [
       "Variation of alpha:   0%|          | 0/1 [00:00<?, ?it/s]"
      ]
     },
     "metadata": {},
     "output_type": "display_data"
    },
    {
     "data": {
      "application/vnd.jupyter.widget-view+json": {
       "model_id": "db4c8018e4734cbbafd756fc18dfc3f3",
       "version_major": 2,
       "version_minor": 0
      },
      "text/plain": [
       "Making ensembles:   0%|          | 0/1 [00:00<?, ?it/s]"
      ]
     },
     "metadata": {},
     "output_type": "display_data"
    },
    {
     "data": {
      "application/vnd.jupyter.widget-view+json": {
       "model_id": "1a9a81d0eb424b5686526c144f66ac1a",
       "version_major": 2,
       "version_minor": 0
      },
      "text/plain": [
       "network dynamic:   0%|          | 0/9999 [00:00<?, ?it/s]"
      ]
     },
     "metadata": {},
     "output_type": "display_data"
    },
    {
     "data": {
      "application/vnd.jupyter.widget-view+json": {
       "model_id": "11e90d15475247918267520edf50fbb5",
       "version_major": 2,
       "version_minor": 0
      },
      "text/plain": [
       "Variation of delay:   0%|          | 0/13 [00:00<?, ?it/s]"
      ]
     },
     "metadata": {},
     "output_type": "display_data"
    },
    {
     "data": {
      "application/vnd.jupyter.widget-view+json": {
       "model_id": "2e917a6175fe40e099a050e5e925590f",
       "version_major": 2,
       "version_minor": 0
      },
      "text/plain": [
       "Variation of alpha:   0%|          | 0/1 [00:00<?, ?it/s]"
      ]
     },
     "metadata": {},
     "output_type": "display_data"
    },
    {
     "data": {
      "application/vnd.jupyter.widget-view+json": {
       "model_id": "36852bc297ed43659dbcbeae56d7471a",
       "version_major": 2,
       "version_minor": 0
      },
      "text/plain": [
       "Making ensembles:   0%|          | 0/1 [00:00<?, ?it/s]"
      ]
     },
     "metadata": {},
     "output_type": "display_data"
    },
    {
     "data": {
      "application/vnd.jupyter.widget-view+json": {
       "model_id": "c345a3558f964885b9be145456915d57",
       "version_major": 2,
       "version_minor": 0
      },
      "text/plain": [
       "network dynamic:   0%|          | 0/9999 [00:00<?, ?it/s]"
      ]
     },
     "metadata": {},
     "output_type": "display_data"
    },
    {
     "data": {
      "application/vnd.jupyter.widget-view+json": {
       "model_id": "a61e6f16cb2147e59dd7898e3ae61521",
       "version_major": 2,
       "version_minor": 0
      },
      "text/plain": [
       "Variation of alpha:   0%|          | 0/1 [00:00<?, ?it/s]"
      ]
     },
     "metadata": {},
     "output_type": "display_data"
    },
    {
     "data": {
      "application/vnd.jupyter.widget-view+json": {
       "model_id": "2675be8e843f43cab5799634fa93f23f",
       "version_major": 2,
       "version_minor": 0
      },
      "text/plain": [
       "Making ensembles:   0%|          | 0/1 [00:00<?, ?it/s]"
      ]
     },
     "metadata": {},
     "output_type": "display_data"
    },
    {
     "data": {
      "application/vnd.jupyter.widget-view+json": {
       "model_id": "dd3ece38577e4368928dbd0b3f9c2b23",
       "version_major": 2,
       "version_minor": 0
      },
      "text/plain": [
       "network dynamic:   0%|          | 0/9999 [00:00<?, ?it/s]"
      ]
     },
     "metadata": {},
     "output_type": "display_data"
    },
    {
     "data": {
      "application/vnd.jupyter.widget-view+json": {
       "model_id": "d8bb59576c5446958c35422975d32ac0",
       "version_major": 2,
       "version_minor": 0
      },
      "text/plain": [
       "Variation of alpha:   0%|          | 0/1 [00:00<?, ?it/s]"
      ]
     },
     "metadata": {},
     "output_type": "display_data"
    },
    {
     "data": {
      "application/vnd.jupyter.widget-view+json": {
       "model_id": "7cb6b4bb863f4e83ae4a5fd85fce2250",
       "version_major": 2,
       "version_minor": 0
      },
      "text/plain": [
       "Making ensembles:   0%|          | 0/1 [00:00<?, ?it/s]"
      ]
     },
     "metadata": {},
     "output_type": "display_data"
    },
    {
     "data": {
      "application/vnd.jupyter.widget-view+json": {
       "model_id": "ab357804a04843e7abb473f4816202d0",
       "version_major": 2,
       "version_minor": 0
      },
      "text/plain": [
       "network dynamic:   0%|          | 0/9999 [00:00<?, ?it/s]"
      ]
     },
     "metadata": {},
     "output_type": "display_data"
    },
    {
     "data": {
      "application/vnd.jupyter.widget-view+json": {
       "model_id": "f7242cf8c2ec4590bc685a1203e4d35b",
       "version_major": 2,
       "version_minor": 0
      },
      "text/plain": [
       "Variation of alpha:   0%|          | 0/1 [00:00<?, ?it/s]"
      ]
     },
     "metadata": {},
     "output_type": "display_data"
    },
    {
     "data": {
      "application/vnd.jupyter.widget-view+json": {
       "model_id": "6be45dff7dba45b491860911fe2ffccd",
       "version_major": 2,
       "version_minor": 0
      },
      "text/plain": [
       "Making ensembles:   0%|          | 0/1 [00:00<?, ?it/s]"
      ]
     },
     "metadata": {},
     "output_type": "display_data"
    },
    {
     "data": {
      "application/vnd.jupyter.widget-view+json": {
       "model_id": "17544924dbd24fa1848316a2bfedb025",
       "version_major": 2,
       "version_minor": 0
      },
      "text/plain": [
       "network dynamic:   0%|          | 0/9999 [00:00<?, ?it/s]"
      ]
     },
     "metadata": {},
     "output_type": "display_data"
    },
    {
     "data": {
      "application/vnd.jupyter.widget-view+json": {
       "model_id": "705be45a4e3a4561b492d6ac8608521b",
       "version_major": 2,
       "version_minor": 0
      },
      "text/plain": [
       "Variation of alpha:   0%|          | 0/1 [00:00<?, ?it/s]"
      ]
     },
     "metadata": {},
     "output_type": "display_data"
    },
    {
     "data": {
      "application/vnd.jupyter.widget-view+json": {
       "model_id": "19ecbb4eecc346a4b3a936bbb09f8311",
       "version_major": 2,
       "version_minor": 0
      },
      "text/plain": [
       "Making ensembles:   0%|          | 0/1 [00:00<?, ?it/s]"
      ]
     },
     "metadata": {},
     "output_type": "display_data"
    },
    {
     "data": {
      "application/vnd.jupyter.widget-view+json": {
       "model_id": "67aaac3dc8c546f083a4007d2a0de95f",
       "version_major": 2,
       "version_minor": 0
      },
      "text/plain": [
       "network dynamic:   0%|          | 0/9999 [00:00<?, ?it/s]"
      ]
     },
     "metadata": {},
     "output_type": "display_data"
    },
    {
     "data": {
      "application/vnd.jupyter.widget-view+json": {
       "model_id": "2aad35ab5d5c4a7abd6dc642c9350ac9",
       "version_major": 2,
       "version_minor": 0
      },
      "text/plain": [
       "Variation of alpha:   0%|          | 0/1 [00:00<?, ?it/s]"
      ]
     },
     "metadata": {},
     "output_type": "display_data"
    },
    {
     "data": {
      "application/vnd.jupyter.widget-view+json": {
       "model_id": "bd81c0c811c64f3798fa3f843d146145",
       "version_major": 2,
       "version_minor": 0
      },
      "text/plain": [
       "Making ensembles:   0%|          | 0/1 [00:00<?, ?it/s]"
      ]
     },
     "metadata": {},
     "output_type": "display_data"
    },
    {
     "data": {
      "application/vnd.jupyter.widget-view+json": {
       "model_id": "5df9029b2e664dc9ac333d516e3c5c5d",
       "version_major": 2,
       "version_minor": 0
      },
      "text/plain": [
       "network dynamic:   0%|          | 0/9999 [00:00<?, ?it/s]"
      ]
     },
     "metadata": {},
     "output_type": "display_data"
    },
    {
     "data": {
      "application/vnd.jupyter.widget-view+json": {
       "model_id": "1fccde1ea62b43b7aa522ba202b3d09d",
       "version_major": 2,
       "version_minor": 0
      },
      "text/plain": [
       "Variation of alpha:   0%|          | 0/1 [00:00<?, ?it/s]"
      ]
     },
     "metadata": {},
     "output_type": "display_data"
    },
    {
     "data": {
      "application/vnd.jupyter.widget-view+json": {
       "model_id": "fa79f0f28c5b482791afba21f84ceb88",
       "version_major": 2,
       "version_minor": 0
      },
      "text/plain": [
       "Making ensembles:   0%|          | 0/1 [00:00<?, ?it/s]"
      ]
     },
     "metadata": {},
     "output_type": "display_data"
    },
    {
     "data": {
      "application/vnd.jupyter.widget-view+json": {
       "model_id": "ba51c3c1507d47dabf9eb4107b6ecd91",
       "version_major": 2,
       "version_minor": 0
      },
      "text/plain": [
       "network dynamic:   0%|          | 0/9999 [00:00<?, ?it/s]"
      ]
     },
     "metadata": {},
     "output_type": "display_data"
    },
    {
     "data": {
      "application/vnd.jupyter.widget-view+json": {
       "model_id": "7edc38c37d894a1da63cc95b7b70fbdf",
       "version_major": 2,
       "version_minor": 0
      },
      "text/plain": [
       "Variation of alpha:   0%|          | 0/1 [00:00<?, ?it/s]"
      ]
     },
     "metadata": {},
     "output_type": "display_data"
    },
    {
     "data": {
      "application/vnd.jupyter.widget-view+json": {
       "model_id": "83731c0662384998afc7026a121d0b92",
       "version_major": 2,
       "version_minor": 0
      },
      "text/plain": [
       "Making ensembles:   0%|          | 0/1 [00:00<?, ?it/s]"
      ]
     },
     "metadata": {},
     "output_type": "display_data"
    },
    {
     "data": {
      "application/vnd.jupyter.widget-view+json": {
       "model_id": "3a2e0e5370db4eb5ae7d439de6162461",
       "version_major": 2,
       "version_minor": 0
      },
      "text/plain": [
       "network dynamic:   0%|          | 0/9999 [00:00<?, ?it/s]"
      ]
     },
     "metadata": {},
     "output_type": "display_data"
    },
    {
     "data": {
      "application/vnd.jupyter.widget-view+json": {
       "model_id": "19342edc70714837811d3e5a9133a3e2",
       "version_major": 2,
       "version_minor": 0
      },
      "text/plain": [
       "Variation of alpha:   0%|          | 0/1 [00:00<?, ?it/s]"
      ]
     },
     "metadata": {},
     "output_type": "display_data"
    },
    {
     "data": {
      "application/vnd.jupyter.widget-view+json": {
       "model_id": "dc149c4374134409859a16a191be2c02",
       "version_major": 2,
       "version_minor": 0
      },
      "text/plain": [
       "Making ensembles:   0%|          | 0/1 [00:00<?, ?it/s]"
      ]
     },
     "metadata": {},
     "output_type": "display_data"
    },
    {
     "data": {
      "application/vnd.jupyter.widget-view+json": {
       "model_id": "c006993a1cde4270910ff73fb11894b4",
       "version_major": 2,
       "version_minor": 0
      },
      "text/plain": [
       "network dynamic:   0%|          | 0/9999 [00:00<?, ?it/s]"
      ]
     },
     "metadata": {},
     "output_type": "display_data"
    },
    {
     "data": {
      "application/vnd.jupyter.widget-view+json": {
       "model_id": "dbd621591b044982aa84f07ad1f2dc1d",
       "version_major": 2,
       "version_minor": 0
      },
      "text/plain": [
       "Variation of alpha:   0%|          | 0/1 [00:00<?, ?it/s]"
      ]
     },
     "metadata": {},
     "output_type": "display_data"
    },
    {
     "data": {
      "application/vnd.jupyter.widget-view+json": {
       "model_id": "f8c38d924b1943e1a99922f2c848dda4",
       "version_major": 2,
       "version_minor": 0
      },
      "text/plain": [
       "Making ensembles:   0%|          | 0/1 [00:00<?, ?it/s]"
      ]
     },
     "metadata": {},
     "output_type": "display_data"
    },
    {
     "data": {
      "application/vnd.jupyter.widget-view+json": {
       "model_id": "812ca6864ddc42b4a39ee9bf10e91254",
       "version_major": 2,
       "version_minor": 0
      },
      "text/plain": [
       "network dynamic:   0%|          | 0/9999 [00:00<?, ?it/s]"
      ]
     },
     "metadata": {},
     "output_type": "display_data"
    },
    {
     "data": {
      "application/vnd.jupyter.widget-view+json": {
       "model_id": "f6a8df9509d840d6a0b27c49b1cf56fa",
       "version_major": 2,
       "version_minor": 0
      },
      "text/plain": [
       "Variation of alpha:   0%|          | 0/1 [00:00<?, ?it/s]"
      ]
     },
     "metadata": {},
     "output_type": "display_data"
    },
    {
     "data": {
      "application/vnd.jupyter.widget-view+json": {
       "model_id": "9499631e848243e1a71c2fbcec237843",
       "version_major": 2,
       "version_minor": 0
      },
      "text/plain": [
       "Making ensembles:   0%|          | 0/1 [00:00<?, ?it/s]"
      ]
     },
     "metadata": {},
     "output_type": "display_data"
    },
    {
     "data": {
      "application/vnd.jupyter.widget-view+json": {
       "model_id": "756bb3db7f82453c9f54729cbbf89868",
       "version_major": 2,
       "version_minor": 0
      },
      "text/plain": [
       "network dynamic:   0%|          | 0/9999 [00:00<?, ?it/s]"
      ]
     },
     "metadata": {},
     "output_type": "display_data"
    },
    {
     "data": {
      "application/vnd.jupyter.widget-view+json": {
       "model_id": "76bb6435830e4c9da0197a2fe3b31aa2",
       "version_major": 2,
       "version_minor": 0
      },
      "text/plain": [
       "Variation of alpha:   0%|          | 0/1 [00:00<?, ?it/s]"
      ]
     },
     "metadata": {},
     "output_type": "display_data"
    },
    {
     "data": {
      "application/vnd.jupyter.widget-view+json": {
       "model_id": "858bcaf9d6db413a8a529f2b9f0a43ef",
       "version_major": 2,
       "version_minor": 0
      },
      "text/plain": [
       "Making ensembles:   0%|          | 0/1 [00:00<?, ?it/s]"
      ]
     },
     "metadata": {},
     "output_type": "display_data"
    },
    {
     "data": {
      "application/vnd.jupyter.widget-view+json": {
       "model_id": "5ce0ea63543544bf9006c5ab2ccc0b5d",
       "version_major": 2,
       "version_minor": 0
      },
      "text/plain": [
       "network dynamic:   0%|          | 0/9999 [00:00<?, ?it/s]"
      ]
     },
     "metadata": {},
     "output_type": "display_data"
    },
    {
     "data": {
      "application/vnd.jupyter.widget-view+json": {
       "model_id": "2b59acf2149a4628b0ba905a05775504",
       "version_major": 2,
       "version_minor": 0
      },
      "text/plain": [
       "Variation of alpha:   0%|          | 0/1 [00:00<?, ?it/s]"
      ]
     },
     "metadata": {},
     "output_type": "display_data"
    },
    {
     "data": {
      "application/vnd.jupyter.widget-view+json": {
       "model_id": "abf8b9e5c60d4c29b1f5cd4426c1a1b9",
       "version_major": 2,
       "version_minor": 0
      },
      "text/plain": [
       "Making ensembles:   0%|          | 0/1 [00:00<?, ?it/s]"
      ]
     },
     "metadata": {},
     "output_type": "display_data"
    },
    {
     "data": {
      "application/vnd.jupyter.widget-view+json": {
       "model_id": "19f71f6603ea4fb9b13a226eddf0ff63",
       "version_major": 2,
       "version_minor": 0
      },
      "text/plain": [
       "network dynamic:   0%|          | 0/9999 [00:00<?, ?it/s]"
      ]
     },
     "metadata": {},
     "output_type": "display_data"
    },
    {
     "data": {
      "application/vnd.jupyter.widget-view+json": {
       "model_id": "d427031da2e042a8a7148743ae8df362",
       "version_major": 2,
       "version_minor": 0
      },
      "text/plain": [
       "Variation of delay:   0%|          | 0/13 [00:00<?, ?it/s]"
      ]
     },
     "metadata": {},
     "output_type": "display_data"
    },
    {
     "data": {
      "application/vnd.jupyter.widget-view+json": {
       "model_id": "37ddc783f13a4b90a0a407b8574603f4",
       "version_major": 2,
       "version_minor": 0
      },
      "text/plain": [
       "Variation of alpha:   0%|          | 0/1 [00:00<?, ?it/s]"
      ]
     },
     "metadata": {},
     "output_type": "display_data"
    },
    {
     "data": {
      "application/vnd.jupyter.widget-view+json": {
       "model_id": "7a050754cb55465895be7335d06c7a3d",
       "version_major": 2,
       "version_minor": 0
      },
      "text/plain": [
       "Making ensembles:   0%|          | 0/1 [00:00<?, ?it/s]"
      ]
     },
     "metadata": {},
     "output_type": "display_data"
    },
    {
     "data": {
      "application/vnd.jupyter.widget-view+json": {
       "model_id": "e4a72c143e9648a5b9d07567a12cb26f",
       "version_major": 2,
       "version_minor": 0
      },
      "text/plain": [
       "network dynamic:   0%|          | 0/9999 [00:00<?, ?it/s]"
      ]
     },
     "metadata": {},
     "output_type": "display_data"
    },
    {
     "data": {
      "application/vnd.jupyter.widget-view+json": {
       "model_id": "3ec08af71c534d66ba37c173ba876504",
       "version_major": 2,
       "version_minor": 0
      },
      "text/plain": [
       "Variation of alpha:   0%|          | 0/1 [00:00<?, ?it/s]"
      ]
     },
     "metadata": {},
     "output_type": "display_data"
    },
    {
     "data": {
      "application/vnd.jupyter.widget-view+json": {
       "model_id": "e9fe481578b34a83a10423afb0f02b90",
       "version_major": 2,
       "version_minor": 0
      },
      "text/plain": [
       "Making ensembles:   0%|          | 0/1 [00:00<?, ?it/s]"
      ]
     },
     "metadata": {},
     "output_type": "display_data"
    },
    {
     "data": {
      "application/vnd.jupyter.widget-view+json": {
       "model_id": "989a23dee8084a028744b5ab0cad5362",
       "version_major": 2,
       "version_minor": 0
      },
      "text/plain": [
       "network dynamic:   0%|          | 0/9999 [00:00<?, ?it/s]"
      ]
     },
     "metadata": {},
     "output_type": "display_data"
    },
    {
     "data": {
      "application/vnd.jupyter.widget-view+json": {
       "model_id": "1499292d49334ac5a3749935b5a59b64",
       "version_major": 2,
       "version_minor": 0
      },
      "text/plain": [
       "Variation of alpha:   0%|          | 0/1 [00:00<?, ?it/s]"
      ]
     },
     "metadata": {},
     "output_type": "display_data"
    },
    {
     "data": {
      "application/vnd.jupyter.widget-view+json": {
       "model_id": "eb2ef550e1a546328c3ddaf3c3297bcd",
       "version_major": 2,
       "version_minor": 0
      },
      "text/plain": [
       "Making ensembles:   0%|          | 0/1 [00:00<?, ?it/s]"
      ]
     },
     "metadata": {},
     "output_type": "display_data"
    },
    {
     "data": {
      "application/vnd.jupyter.widget-view+json": {
       "model_id": "59fe35f0afde43058db12ca93f499628",
       "version_major": 2,
       "version_minor": 0
      },
      "text/plain": [
       "network dynamic:   0%|          | 0/9999 [00:00<?, ?it/s]"
      ]
     },
     "metadata": {},
     "output_type": "display_data"
    },
    {
     "data": {
      "application/vnd.jupyter.widget-view+json": {
       "model_id": "6ed2cdf6602e4bb8a2c82646b8c2f191",
       "version_major": 2,
       "version_minor": 0
      },
      "text/plain": [
       "Variation of alpha:   0%|          | 0/1 [00:00<?, ?it/s]"
      ]
     },
     "metadata": {},
     "output_type": "display_data"
    },
    {
     "data": {
      "application/vnd.jupyter.widget-view+json": {
       "model_id": "ce0f83d5dec14dcdbcf478b325523452",
       "version_major": 2,
       "version_minor": 0
      },
      "text/plain": [
       "Making ensembles:   0%|          | 0/1 [00:00<?, ?it/s]"
      ]
     },
     "metadata": {},
     "output_type": "display_data"
    },
    {
     "data": {
      "application/vnd.jupyter.widget-view+json": {
       "model_id": "0e95593d49334b90830e7bb404dba99f",
       "version_major": 2,
       "version_minor": 0
      },
      "text/plain": [
       "network dynamic:   0%|          | 0/9999 [00:00<?, ?it/s]"
      ]
     },
     "metadata": {},
     "output_type": "display_data"
    },
    {
     "data": {
      "application/vnd.jupyter.widget-view+json": {
       "model_id": "5a44ef0fec3746e993a84d9fddd2972b",
       "version_major": 2,
       "version_minor": 0
      },
      "text/plain": [
       "Variation of alpha:   0%|          | 0/1 [00:00<?, ?it/s]"
      ]
     },
     "metadata": {},
     "output_type": "display_data"
    },
    {
     "data": {
      "application/vnd.jupyter.widget-view+json": {
       "model_id": "dc847a56cf6f43108d2614b42b539e49",
       "version_major": 2,
       "version_minor": 0
      },
      "text/plain": [
       "Making ensembles:   0%|          | 0/1 [00:00<?, ?it/s]"
      ]
     },
     "metadata": {},
     "output_type": "display_data"
    },
    {
     "data": {
      "application/vnd.jupyter.widget-view+json": {
       "model_id": "b7c625b304df4cbc92ba27b0cf825dee",
       "version_major": 2,
       "version_minor": 0
      },
      "text/plain": [
       "network dynamic:   0%|          | 0/9999 [00:00<?, ?it/s]"
      ]
     },
     "metadata": {},
     "output_type": "display_data"
    },
    {
     "data": {
      "application/vnd.jupyter.widget-view+json": {
       "model_id": "0715e4efbc154fedbe82ecb7a859c2c5",
       "version_major": 2,
       "version_minor": 0
      },
      "text/plain": [
       "Variation of alpha:   0%|          | 0/1 [00:00<?, ?it/s]"
      ]
     },
     "metadata": {},
     "output_type": "display_data"
    },
    {
     "data": {
      "application/vnd.jupyter.widget-view+json": {
       "model_id": "dc446e746aa3446fb86c71019ab9fde6",
       "version_major": 2,
       "version_minor": 0
      },
      "text/plain": [
       "Making ensembles:   0%|          | 0/1 [00:00<?, ?it/s]"
      ]
     },
     "metadata": {},
     "output_type": "display_data"
    },
    {
     "data": {
      "application/vnd.jupyter.widget-view+json": {
       "model_id": "94d57cfd09b44cd7b7a60a1ba5933500",
       "version_major": 2,
       "version_minor": 0
      },
      "text/plain": [
       "network dynamic:   0%|          | 0/9999 [00:00<?, ?it/s]"
      ]
     },
     "metadata": {},
     "output_type": "display_data"
    },
    {
     "data": {
      "application/vnd.jupyter.widget-view+json": {
       "model_id": "9578d0c84b8243a8861cc61176cd0265",
       "version_major": 2,
       "version_minor": 0
      },
      "text/plain": [
       "Variation of alpha:   0%|          | 0/1 [00:00<?, ?it/s]"
      ]
     },
     "metadata": {},
     "output_type": "display_data"
    },
    {
     "data": {
      "application/vnd.jupyter.widget-view+json": {
       "model_id": "149c603dff174229a9ec9fa0668e494e",
       "version_major": 2,
       "version_minor": 0
      },
      "text/plain": [
       "Making ensembles:   0%|          | 0/1 [00:00<?, ?it/s]"
      ]
     },
     "metadata": {},
     "output_type": "display_data"
    },
    {
     "data": {
      "application/vnd.jupyter.widget-view+json": {
       "model_id": "1ee678a07ab94daebf29b0e1c71616cc",
       "version_major": 2,
       "version_minor": 0
      },
      "text/plain": [
       "network dynamic:   0%|          | 0/9999 [00:00<?, ?it/s]"
      ]
     },
     "metadata": {},
     "output_type": "display_data"
    },
    {
     "data": {
      "application/vnd.jupyter.widget-view+json": {
       "model_id": "21a1e31a735e4dd88e9eddc54ae039ce",
       "version_major": 2,
       "version_minor": 0
      },
      "text/plain": [
       "Variation of alpha:   0%|          | 0/1 [00:00<?, ?it/s]"
      ]
     },
     "metadata": {},
     "output_type": "display_data"
    },
    {
     "data": {
      "application/vnd.jupyter.widget-view+json": {
       "model_id": "e9e1c99f33594b0b95b5b2fae0d07692",
       "version_major": 2,
       "version_minor": 0
      },
      "text/plain": [
       "Making ensembles:   0%|          | 0/1 [00:00<?, ?it/s]"
      ]
     },
     "metadata": {},
     "output_type": "display_data"
    },
    {
     "data": {
      "application/vnd.jupyter.widget-view+json": {
       "model_id": "05810faccf44421ebe93242f872b737c",
       "version_major": 2,
       "version_minor": 0
      },
      "text/plain": [
       "network dynamic:   0%|          | 0/9999 [00:00<?, ?it/s]"
      ]
     },
     "metadata": {},
     "output_type": "display_data"
    },
    {
     "data": {
      "application/vnd.jupyter.widget-view+json": {
       "model_id": "54ba096b1dd948dcb0d468df6c734c1c",
       "version_major": 2,
       "version_minor": 0
      },
      "text/plain": [
       "Variation of alpha:   0%|          | 0/1 [00:00<?, ?it/s]"
      ]
     },
     "metadata": {},
     "output_type": "display_data"
    },
    {
     "data": {
      "application/vnd.jupyter.widget-view+json": {
       "model_id": "510a8c47955a491291824938528721e8",
       "version_major": 2,
       "version_minor": 0
      },
      "text/plain": [
       "Making ensembles:   0%|          | 0/1 [00:00<?, ?it/s]"
      ]
     },
     "metadata": {},
     "output_type": "display_data"
    },
    {
     "data": {
      "application/vnd.jupyter.widget-view+json": {
       "model_id": "0feedd636f5346ef83c2524a0135250a",
       "version_major": 2,
       "version_minor": 0
      },
      "text/plain": [
       "network dynamic:   0%|          | 0/9999 [00:00<?, ?it/s]"
      ]
     },
     "metadata": {},
     "output_type": "display_data"
    },
    {
     "data": {
      "application/vnd.jupyter.widget-view+json": {
       "model_id": "102f8130fb954c1382e6e2556e965804",
       "version_major": 2,
       "version_minor": 0
      },
      "text/plain": [
       "Variation of alpha:   0%|          | 0/1 [00:00<?, ?it/s]"
      ]
     },
     "metadata": {},
     "output_type": "display_data"
    },
    {
     "data": {
      "application/vnd.jupyter.widget-view+json": {
       "model_id": "9cbbd4868d6944bea235881b364e78d3",
       "version_major": 2,
       "version_minor": 0
      },
      "text/plain": [
       "Making ensembles:   0%|          | 0/1 [00:00<?, ?it/s]"
      ]
     },
     "metadata": {},
     "output_type": "display_data"
    },
    {
     "data": {
      "application/vnd.jupyter.widget-view+json": {
       "model_id": "33fe2cfe940b4f60b3440d7e9242ba9c",
       "version_major": 2,
       "version_minor": 0
      },
      "text/plain": [
       "network dynamic:   0%|          | 0/9999 [00:00<?, ?it/s]"
      ]
     },
     "metadata": {},
     "output_type": "display_data"
    },
    {
     "data": {
      "application/vnd.jupyter.widget-view+json": {
       "model_id": "a5a6e5f6e15d42a09f12dc5ef190e4cc",
       "version_major": 2,
       "version_minor": 0
      },
      "text/plain": [
       "Variation of alpha:   0%|          | 0/1 [00:00<?, ?it/s]"
      ]
     },
     "metadata": {},
     "output_type": "display_data"
    },
    {
     "data": {
      "application/vnd.jupyter.widget-view+json": {
       "model_id": "502472d4f2e54ad5b3a6c9de9a40db09",
       "version_major": 2,
       "version_minor": 0
      },
      "text/plain": [
       "Making ensembles:   0%|          | 0/1 [00:00<?, ?it/s]"
      ]
     },
     "metadata": {},
     "output_type": "display_data"
    },
    {
     "data": {
      "application/vnd.jupyter.widget-view+json": {
       "model_id": "f80242bfd6a24b70a77449835e099926",
       "version_major": 2,
       "version_minor": 0
      },
      "text/plain": [
       "network dynamic:   0%|          | 0/9999 [00:00<?, ?it/s]"
      ]
     },
     "metadata": {},
     "output_type": "display_data"
    },
    {
     "data": {
      "application/vnd.jupyter.widget-view+json": {
       "model_id": "4c0ee96040eb4428a155ac396465145d",
       "version_major": 2,
       "version_minor": 0
      },
      "text/plain": [
       "Variation of alpha:   0%|          | 0/1 [00:00<?, ?it/s]"
      ]
     },
     "metadata": {},
     "output_type": "display_data"
    },
    {
     "data": {
      "application/vnd.jupyter.widget-view+json": {
       "model_id": "ba47da4ffbcc496db1feff36de74c06f",
       "version_major": 2,
       "version_minor": 0
      },
      "text/plain": [
       "Making ensembles:   0%|          | 0/1 [00:00<?, ?it/s]"
      ]
     },
     "metadata": {},
     "output_type": "display_data"
    },
    {
     "data": {
      "application/vnd.jupyter.widget-view+json": {
       "model_id": "555fcc524c3f493192b11cb4293c93b2",
       "version_major": 2,
       "version_minor": 0
      },
      "text/plain": [
       "network dynamic:   0%|          | 0/9999 [00:00<?, ?it/s]"
      ]
     },
     "metadata": {},
     "output_type": "display_data"
    },
    {
     "data": {
      "application/vnd.jupyter.widget-view+json": {
       "model_id": "bae517a5329448b193baa579a55956cd",
       "version_major": 2,
       "version_minor": 0
      },
      "text/plain": [
       "Variation of alpha:   0%|          | 0/1 [00:00<?, ?it/s]"
      ]
     },
     "metadata": {},
     "output_type": "display_data"
    },
    {
     "data": {
      "application/vnd.jupyter.widget-view+json": {
       "model_id": "a7e785e2e5d542eba33641031bdfac37",
       "version_major": 2,
       "version_minor": 0
      },
      "text/plain": [
       "Making ensembles:   0%|          | 0/1 [00:00<?, ?it/s]"
      ]
     },
     "metadata": {},
     "output_type": "display_data"
    },
    {
     "data": {
      "application/vnd.jupyter.widget-view+json": {
       "model_id": "13680fb71ddc4694bed070105960a37d",
       "version_major": 2,
       "version_minor": 0
      },
      "text/plain": [
       "network dynamic:   0%|          | 0/9999 [00:00<?, ?it/s]"
      ]
     },
     "metadata": {},
     "output_type": "display_data"
    },
    {
     "data": {
      "application/vnd.jupyter.widget-view+json": {
       "model_id": "86b0dfddb792441faa24591cb85e26cf",
       "version_major": 2,
       "version_minor": 0
      },
      "text/plain": [
       "Variation of delay:   0%|          | 0/13 [00:00<?, ?it/s]"
      ]
     },
     "metadata": {},
     "output_type": "display_data"
    },
    {
     "data": {
      "application/vnd.jupyter.widget-view+json": {
       "model_id": "ef6989bdcfe74e3395c922be48ce405f",
       "version_major": 2,
       "version_minor": 0
      },
      "text/plain": [
       "Variation of alpha:   0%|          | 0/1 [00:00<?, ?it/s]"
      ]
     },
     "metadata": {},
     "output_type": "display_data"
    },
    {
     "data": {
      "application/vnd.jupyter.widget-view+json": {
       "model_id": "1099551dcf3f4b1e8f24ad6b7ab88d49",
       "version_major": 2,
       "version_minor": 0
      },
      "text/plain": [
       "Making ensembles:   0%|          | 0/1 [00:00<?, ?it/s]"
      ]
     },
     "metadata": {},
     "output_type": "display_data"
    },
    {
     "data": {
      "application/vnd.jupyter.widget-view+json": {
       "model_id": "c81cf849bd354cf5b2cc806126434873",
       "version_major": 2,
       "version_minor": 0
      },
      "text/plain": [
       "network dynamic:   0%|          | 0/9999 [00:00<?, ?it/s]"
      ]
     },
     "metadata": {},
     "output_type": "display_data"
    },
    {
     "data": {
      "application/vnd.jupyter.widget-view+json": {
       "model_id": "49c7f2520be546fe898ab518333c90c7",
       "version_major": 2,
       "version_minor": 0
      },
      "text/plain": [
       "Variation of alpha:   0%|          | 0/1 [00:00<?, ?it/s]"
      ]
     },
     "metadata": {},
     "output_type": "display_data"
    },
    {
     "data": {
      "application/vnd.jupyter.widget-view+json": {
       "model_id": "006438c009ed4524973de325d7e869ec",
       "version_major": 2,
       "version_minor": 0
      },
      "text/plain": [
       "Making ensembles:   0%|          | 0/1 [00:00<?, ?it/s]"
      ]
     },
     "metadata": {},
     "output_type": "display_data"
    },
    {
     "data": {
      "application/vnd.jupyter.widget-view+json": {
       "model_id": "fa3197e7d78946c29e3d7a94431dd0b9",
       "version_major": 2,
       "version_minor": 0
      },
      "text/plain": [
       "network dynamic:   0%|          | 0/9999 [00:00<?, ?it/s]"
      ]
     },
     "metadata": {},
     "output_type": "display_data"
    },
    {
     "data": {
      "application/vnd.jupyter.widget-view+json": {
       "model_id": "134dc878e63d403d97bcba3587df1008",
       "version_major": 2,
       "version_minor": 0
      },
      "text/plain": [
       "Variation of alpha:   0%|          | 0/1 [00:00<?, ?it/s]"
      ]
     },
     "metadata": {},
     "output_type": "display_data"
    },
    {
     "data": {
      "application/vnd.jupyter.widget-view+json": {
       "model_id": "711192d6a9d149769525f37025679937",
       "version_major": 2,
       "version_minor": 0
      },
      "text/plain": [
       "Making ensembles:   0%|          | 0/1 [00:00<?, ?it/s]"
      ]
     },
     "metadata": {},
     "output_type": "display_data"
    },
    {
     "data": {
      "application/vnd.jupyter.widget-view+json": {
       "model_id": "c1146578a6df41319d777fe002e8a2a2",
       "version_major": 2,
       "version_minor": 0
      },
      "text/plain": [
       "network dynamic:   0%|          | 0/9999 [00:00<?, ?it/s]"
      ]
     },
     "metadata": {},
     "output_type": "display_data"
    },
    {
     "data": {
      "application/vnd.jupyter.widget-view+json": {
       "model_id": "12364dfe143248abbb0ba6327835f3cc",
       "version_major": 2,
       "version_minor": 0
      },
      "text/plain": [
       "Variation of alpha:   0%|          | 0/1 [00:00<?, ?it/s]"
      ]
     },
     "metadata": {},
     "output_type": "display_data"
    },
    {
     "data": {
      "application/vnd.jupyter.widget-view+json": {
       "model_id": "c81430647ec0474ea138571f05944509",
       "version_major": 2,
       "version_minor": 0
      },
      "text/plain": [
       "Making ensembles:   0%|          | 0/1 [00:00<?, ?it/s]"
      ]
     },
     "metadata": {},
     "output_type": "display_data"
    },
    {
     "data": {
      "application/vnd.jupyter.widget-view+json": {
       "model_id": "ea46ea9b828e48f0a2297e7c2f826ace",
       "version_major": 2,
       "version_minor": 0
      },
      "text/plain": [
       "network dynamic:   0%|          | 0/9999 [00:00<?, ?it/s]"
      ]
     },
     "metadata": {},
     "output_type": "display_data"
    },
    {
     "data": {
      "application/vnd.jupyter.widget-view+json": {
       "model_id": "3a4d492b7ee34c8580796da4d4f4890d",
       "version_major": 2,
       "version_minor": 0
      },
      "text/plain": [
       "Variation of alpha:   0%|          | 0/1 [00:00<?, ?it/s]"
      ]
     },
     "metadata": {},
     "output_type": "display_data"
    },
    {
     "data": {
      "application/vnd.jupyter.widget-view+json": {
       "model_id": "b583db5381cd45abbb7317967af55080",
       "version_major": 2,
       "version_minor": 0
      },
      "text/plain": [
       "Making ensembles:   0%|          | 0/1 [00:00<?, ?it/s]"
      ]
     },
     "metadata": {},
     "output_type": "display_data"
    },
    {
     "data": {
      "application/vnd.jupyter.widget-view+json": {
       "model_id": "b465dba9ce6745d5857b153c18ec953f",
       "version_major": 2,
       "version_minor": 0
      },
      "text/plain": [
       "network dynamic:   0%|          | 0/9999 [00:00<?, ?it/s]"
      ]
     },
     "metadata": {},
     "output_type": "display_data"
    },
    {
     "data": {
      "application/vnd.jupyter.widget-view+json": {
       "model_id": "b67675e28764494f923c3ce5a3cdd4b8",
       "version_major": 2,
       "version_minor": 0
      },
      "text/plain": [
       "Variation of alpha:   0%|          | 0/1 [00:00<?, ?it/s]"
      ]
     },
     "metadata": {},
     "output_type": "display_data"
    },
    {
     "data": {
      "application/vnd.jupyter.widget-view+json": {
       "model_id": "7c8c6f2ead87417eaba2d86ec90f4926",
       "version_major": 2,
       "version_minor": 0
      },
      "text/plain": [
       "Making ensembles:   0%|          | 0/1 [00:00<?, ?it/s]"
      ]
     },
     "metadata": {},
     "output_type": "display_data"
    },
    {
     "data": {
      "application/vnd.jupyter.widget-view+json": {
       "model_id": "b772ee2064b7403eb4ecc2e2828083f4",
       "version_major": 2,
       "version_minor": 0
      },
      "text/plain": [
       "network dynamic:   0%|          | 0/9999 [00:00<?, ?it/s]"
      ]
     },
     "metadata": {},
     "output_type": "display_data"
    },
    {
     "data": {
      "application/vnd.jupyter.widget-view+json": {
       "model_id": "98ea571b509841cca8103ffbd5702567",
       "version_major": 2,
       "version_minor": 0
      },
      "text/plain": [
       "Variation of alpha:   0%|          | 0/1 [00:00<?, ?it/s]"
      ]
     },
     "metadata": {},
     "output_type": "display_data"
    },
    {
     "data": {
      "application/vnd.jupyter.widget-view+json": {
       "model_id": "b94800d5df5b434fa30328f39d2473e8",
       "version_major": 2,
       "version_minor": 0
      },
      "text/plain": [
       "Making ensembles:   0%|          | 0/1 [00:00<?, ?it/s]"
      ]
     },
     "metadata": {},
     "output_type": "display_data"
    },
    {
     "data": {
      "application/vnd.jupyter.widget-view+json": {
       "model_id": "e8fe5fe997c14633abf328cca658a9d7",
       "version_major": 2,
       "version_minor": 0
      },
      "text/plain": [
       "network dynamic:   0%|          | 0/9999 [00:00<?, ?it/s]"
      ]
     },
     "metadata": {},
     "output_type": "display_data"
    },
    {
     "data": {
      "application/vnd.jupyter.widget-view+json": {
       "model_id": "1a3069e1e2a2473fa4e5d6698aff8500",
       "version_major": 2,
       "version_minor": 0
      },
      "text/plain": [
       "Variation of alpha:   0%|          | 0/1 [00:00<?, ?it/s]"
      ]
     },
     "metadata": {},
     "output_type": "display_data"
    },
    {
     "data": {
      "application/vnd.jupyter.widget-view+json": {
       "model_id": "f38017580599458a82a51968f506b74a",
       "version_major": 2,
       "version_minor": 0
      },
      "text/plain": [
       "Making ensembles:   0%|          | 0/1 [00:00<?, ?it/s]"
      ]
     },
     "metadata": {},
     "output_type": "display_data"
    },
    {
     "data": {
      "application/vnd.jupyter.widget-view+json": {
       "model_id": "0e36f09dbc5446feb3fcd4bbcf7405f8",
       "version_major": 2,
       "version_minor": 0
      },
      "text/plain": [
       "network dynamic:   0%|          | 0/9999 [00:00<?, ?it/s]"
      ]
     },
     "metadata": {},
     "output_type": "display_data"
    },
    {
     "data": {
      "application/vnd.jupyter.widget-view+json": {
       "model_id": "66fb2c139c6c46ddbbfc9c16b88cc71d",
       "version_major": 2,
       "version_minor": 0
      },
      "text/plain": [
       "Variation of alpha:   0%|          | 0/1 [00:00<?, ?it/s]"
      ]
     },
     "metadata": {},
     "output_type": "display_data"
    },
    {
     "data": {
      "application/vnd.jupyter.widget-view+json": {
       "model_id": "8802060eac7146a5b4366b04d061a6d3",
       "version_major": 2,
       "version_minor": 0
      },
      "text/plain": [
       "Making ensembles:   0%|          | 0/1 [00:00<?, ?it/s]"
      ]
     },
     "metadata": {},
     "output_type": "display_data"
    },
    {
     "data": {
      "application/vnd.jupyter.widget-view+json": {
       "model_id": "e29ef52a9baa4665bf3cad41fb2746af",
       "version_major": 2,
       "version_minor": 0
      },
      "text/plain": [
       "network dynamic:   0%|          | 0/9999 [00:00<?, ?it/s]"
      ]
     },
     "metadata": {},
     "output_type": "display_data"
    },
    {
     "data": {
      "application/vnd.jupyter.widget-view+json": {
       "model_id": "7aa432cec9f644dab10fc75f34ecfe71",
       "version_major": 2,
       "version_minor": 0
      },
      "text/plain": [
       "Variation of alpha:   0%|          | 0/1 [00:00<?, ?it/s]"
      ]
     },
     "metadata": {},
     "output_type": "display_data"
    },
    {
     "data": {
      "application/vnd.jupyter.widget-view+json": {
       "model_id": "b7ff2feff40b45de82d212a696981566",
       "version_major": 2,
       "version_minor": 0
      },
      "text/plain": [
       "Making ensembles:   0%|          | 0/1 [00:00<?, ?it/s]"
      ]
     },
     "metadata": {},
     "output_type": "display_data"
    },
    {
     "data": {
      "application/vnd.jupyter.widget-view+json": {
       "model_id": "0e5c3e7d2cf647548a7329a6b82a9073",
       "version_major": 2,
       "version_minor": 0
      },
      "text/plain": [
       "network dynamic:   0%|          | 0/9999 [00:00<?, ?it/s]"
      ]
     },
     "metadata": {},
     "output_type": "display_data"
    },
    {
     "data": {
      "application/vnd.jupyter.widget-view+json": {
       "model_id": "1d0409c6eee6466ba8251e4d7865da54",
       "version_major": 2,
       "version_minor": 0
      },
      "text/plain": [
       "Variation of alpha:   0%|          | 0/1 [00:00<?, ?it/s]"
      ]
     },
     "metadata": {},
     "output_type": "display_data"
    },
    {
     "data": {
      "application/vnd.jupyter.widget-view+json": {
       "model_id": "36e319eacd824bc496062d5fc24076f7",
       "version_major": 2,
       "version_minor": 0
      },
      "text/plain": [
       "Making ensembles:   0%|          | 0/1 [00:00<?, ?it/s]"
      ]
     },
     "metadata": {},
     "output_type": "display_data"
    },
    {
     "data": {
      "application/vnd.jupyter.widget-view+json": {
       "model_id": "9f6b7b0361ae41c997c5f2c6f5cd1cc0",
       "version_major": 2,
       "version_minor": 0
      },
      "text/plain": [
       "network dynamic:   0%|          | 0/9999 [00:00<?, ?it/s]"
      ]
     },
     "metadata": {},
     "output_type": "display_data"
    },
    {
     "data": {
      "application/vnd.jupyter.widget-view+json": {
       "model_id": "fb50981d259a401ab3d2cb6d0dc33311",
       "version_major": 2,
       "version_minor": 0
      },
      "text/plain": [
       "Variation of alpha:   0%|          | 0/1 [00:00<?, ?it/s]"
      ]
     },
     "metadata": {},
     "output_type": "display_data"
    },
    {
     "data": {
      "application/vnd.jupyter.widget-view+json": {
       "model_id": "de314bcb2483475b8293022762b4f0ab",
       "version_major": 2,
       "version_minor": 0
      },
      "text/plain": [
       "Making ensembles:   0%|          | 0/1 [00:00<?, ?it/s]"
      ]
     },
     "metadata": {},
     "output_type": "display_data"
    },
    {
     "data": {
      "application/vnd.jupyter.widget-view+json": {
       "model_id": "6f2cd030b6a040e89740498c6cc62dd8",
       "version_major": 2,
       "version_minor": 0
      },
      "text/plain": [
       "network dynamic:   0%|          | 0/9999 [00:00<?, ?it/s]"
      ]
     },
     "metadata": {},
     "output_type": "display_data"
    },
    {
     "data": {
      "application/vnd.jupyter.widget-view+json": {
       "model_id": "d33dbeaf0c414578a6e52dd29e337554",
       "version_major": 2,
       "version_minor": 0
      },
      "text/plain": [
       "Variation of alpha:   0%|          | 0/1 [00:00<?, ?it/s]"
      ]
     },
     "metadata": {},
     "output_type": "display_data"
    },
    {
     "data": {
      "application/vnd.jupyter.widget-view+json": {
       "model_id": "4ea1e15289584e4aaa52719792b44efe",
       "version_major": 2,
       "version_minor": 0
      },
      "text/plain": [
       "Making ensembles:   0%|          | 0/1 [00:00<?, ?it/s]"
      ]
     },
     "metadata": {},
     "output_type": "display_data"
    },
    {
     "data": {
      "application/vnd.jupyter.widget-view+json": {
       "model_id": "00b4655c982c4cac92f24428d58eb755",
       "version_major": 2,
       "version_minor": 0
      },
      "text/plain": [
       "network dynamic:   0%|          | 0/9999 [00:00<?, ?it/s]"
      ]
     },
     "metadata": {},
     "output_type": "display_data"
    },
    {
     "data": {
      "application/vnd.jupyter.widget-view+json": {
       "model_id": "fc1584a5c01046e5b426cccf1d8449b2",
       "version_major": 2,
       "version_minor": 0
      },
      "text/plain": [
       "Variation of delay:   0%|          | 0/13 [00:00<?, ?it/s]"
      ]
     },
     "metadata": {},
     "output_type": "display_data"
    },
    {
     "data": {
      "application/vnd.jupyter.widget-view+json": {
       "model_id": "da31ad8c757e4760b9ab4916e5fec829",
       "version_major": 2,
       "version_minor": 0
      },
      "text/plain": [
       "Variation of alpha:   0%|          | 0/1 [00:00<?, ?it/s]"
      ]
     },
     "metadata": {},
     "output_type": "display_data"
    },
    {
     "data": {
      "application/vnd.jupyter.widget-view+json": {
       "model_id": "242dc03b115e45498440450e8d9e1694",
       "version_major": 2,
       "version_minor": 0
      },
      "text/plain": [
       "Making ensembles:   0%|          | 0/1 [00:00<?, ?it/s]"
      ]
     },
     "metadata": {},
     "output_type": "display_data"
    },
    {
     "data": {
      "application/vnd.jupyter.widget-view+json": {
       "model_id": "7fd93cddb82d47c9bce644102277324d",
       "version_major": 2,
       "version_minor": 0
      },
      "text/plain": [
       "network dynamic:   0%|          | 0/9999 [00:00<?, ?it/s]"
      ]
     },
     "metadata": {},
     "output_type": "display_data"
    },
    {
     "data": {
      "application/vnd.jupyter.widget-view+json": {
       "model_id": "033ee516d3a146b4adefbe2980217893",
       "version_major": 2,
       "version_minor": 0
      },
      "text/plain": [
       "Variation of alpha:   0%|          | 0/1 [00:00<?, ?it/s]"
      ]
     },
     "metadata": {},
     "output_type": "display_data"
    },
    {
     "data": {
      "application/vnd.jupyter.widget-view+json": {
       "model_id": "b04c2e5774224f549934f611344d67c3",
       "version_major": 2,
       "version_minor": 0
      },
      "text/plain": [
       "Making ensembles:   0%|          | 0/1 [00:00<?, ?it/s]"
      ]
     },
     "metadata": {},
     "output_type": "display_data"
    },
    {
     "data": {
      "application/vnd.jupyter.widget-view+json": {
       "model_id": "fbf588e5f44a4cc3b899bb47df8d1054",
       "version_major": 2,
       "version_minor": 0
      },
      "text/plain": [
       "network dynamic:   0%|          | 0/9999 [00:00<?, ?it/s]"
      ]
     },
     "metadata": {},
     "output_type": "display_data"
    },
    {
     "data": {
      "application/vnd.jupyter.widget-view+json": {
       "model_id": "7e9caf9db00c461fbf6ba42fc2470301",
       "version_major": 2,
       "version_minor": 0
      },
      "text/plain": [
       "Variation of alpha:   0%|          | 0/1 [00:00<?, ?it/s]"
      ]
     },
     "metadata": {},
     "output_type": "display_data"
    },
    {
     "data": {
      "application/vnd.jupyter.widget-view+json": {
       "model_id": "d5cc1201c4824018ba0553672771b593",
       "version_major": 2,
       "version_minor": 0
      },
      "text/plain": [
       "Making ensembles:   0%|          | 0/1 [00:00<?, ?it/s]"
      ]
     },
     "metadata": {},
     "output_type": "display_data"
    },
    {
     "data": {
      "application/vnd.jupyter.widget-view+json": {
       "model_id": "5b109a923f8340da9e64b2fdda9028eb",
       "version_major": 2,
       "version_minor": 0
      },
      "text/plain": [
       "network dynamic:   0%|          | 0/9999 [00:00<?, ?it/s]"
      ]
     },
     "metadata": {},
     "output_type": "display_data"
    },
    {
     "data": {
      "application/vnd.jupyter.widget-view+json": {
       "model_id": "cfcf0b6c81a54058970b55fffd49fa4a",
       "version_major": 2,
       "version_minor": 0
      },
      "text/plain": [
       "Variation of alpha:   0%|          | 0/1 [00:00<?, ?it/s]"
      ]
     },
     "metadata": {},
     "output_type": "display_data"
    },
    {
     "data": {
      "application/vnd.jupyter.widget-view+json": {
       "model_id": "fcba081c776844f2b7472f809fb01ce2",
       "version_major": 2,
       "version_minor": 0
      },
      "text/plain": [
       "Making ensembles:   0%|          | 0/1 [00:00<?, ?it/s]"
      ]
     },
     "metadata": {},
     "output_type": "display_data"
    },
    {
     "data": {
      "application/vnd.jupyter.widget-view+json": {
       "model_id": "0d4fbf3e5239499b9b63f2a5006e31eb",
       "version_major": 2,
       "version_minor": 0
      },
      "text/plain": [
       "network dynamic:   0%|          | 0/9999 [00:00<?, ?it/s]"
      ]
     },
     "metadata": {},
     "output_type": "display_data"
    },
    {
     "data": {
      "application/vnd.jupyter.widget-view+json": {
       "model_id": "6f64c5f95e0d474d9578a3477e12563a",
       "version_major": 2,
       "version_minor": 0
      },
      "text/plain": [
       "Variation of alpha:   0%|          | 0/1 [00:00<?, ?it/s]"
      ]
     },
     "metadata": {},
     "output_type": "display_data"
    },
    {
     "data": {
      "application/vnd.jupyter.widget-view+json": {
       "model_id": "f1841a92bed641d29a7526035263b143",
       "version_major": 2,
       "version_minor": 0
      },
      "text/plain": [
       "Making ensembles:   0%|          | 0/1 [00:00<?, ?it/s]"
      ]
     },
     "metadata": {},
     "output_type": "display_data"
    },
    {
     "data": {
      "application/vnd.jupyter.widget-view+json": {
       "model_id": "1b44ab583d774df783de6c14b6e204d4",
       "version_major": 2,
       "version_minor": 0
      },
      "text/plain": [
       "network dynamic:   0%|          | 0/9999 [00:00<?, ?it/s]"
      ]
     },
     "metadata": {},
     "output_type": "display_data"
    },
    {
     "data": {
      "application/vnd.jupyter.widget-view+json": {
       "model_id": "35a124fa3a3541bea2bff4233f6c368b",
       "version_major": 2,
       "version_minor": 0
      },
      "text/plain": [
       "Variation of alpha:   0%|          | 0/1 [00:00<?, ?it/s]"
      ]
     },
     "metadata": {},
     "output_type": "display_data"
    },
    {
     "data": {
      "application/vnd.jupyter.widget-view+json": {
       "model_id": "9491cf1b09bf42b9b1da95309df9c668",
       "version_major": 2,
       "version_minor": 0
      },
      "text/plain": [
       "Making ensembles:   0%|          | 0/1 [00:00<?, ?it/s]"
      ]
     },
     "metadata": {},
     "output_type": "display_data"
    },
    {
     "data": {
      "application/vnd.jupyter.widget-view+json": {
       "model_id": "f6abc84ef8a64205977be4e0a72e6616",
       "version_major": 2,
       "version_minor": 0
      },
      "text/plain": [
       "network dynamic:   0%|          | 0/9999 [00:00<?, ?it/s]"
      ]
     },
     "metadata": {},
     "output_type": "display_data"
    },
    {
     "data": {
      "application/vnd.jupyter.widget-view+json": {
       "model_id": "c60b650d619140c689c2c47c452ccc71",
       "version_major": 2,
       "version_minor": 0
      },
      "text/plain": [
       "Variation of alpha:   0%|          | 0/1 [00:00<?, ?it/s]"
      ]
     },
     "metadata": {},
     "output_type": "display_data"
    },
    {
     "data": {
      "application/vnd.jupyter.widget-view+json": {
       "model_id": "79bc21e38c95415dbe472f54cc7d2f61",
       "version_major": 2,
       "version_minor": 0
      },
      "text/plain": [
       "Making ensembles:   0%|          | 0/1 [00:00<?, ?it/s]"
      ]
     },
     "metadata": {},
     "output_type": "display_data"
    },
    {
     "data": {
      "application/vnd.jupyter.widget-view+json": {
       "model_id": "822740cc7d014c2589dc34378c732dd0",
       "version_major": 2,
       "version_minor": 0
      },
      "text/plain": [
       "network dynamic:   0%|          | 0/9999 [00:00<?, ?it/s]"
      ]
     },
     "metadata": {},
     "output_type": "display_data"
    },
    {
     "data": {
      "application/vnd.jupyter.widget-view+json": {
       "model_id": "a4cf792ec13a49cb860041a7b99c1137",
       "version_major": 2,
       "version_minor": 0
      },
      "text/plain": [
       "Variation of alpha:   0%|          | 0/1 [00:00<?, ?it/s]"
      ]
     },
     "metadata": {},
     "output_type": "display_data"
    },
    {
     "data": {
      "application/vnd.jupyter.widget-view+json": {
       "model_id": "6754810c31dd4c55a71e7c0f9ce0f967",
       "version_major": 2,
       "version_minor": 0
      },
      "text/plain": [
       "Making ensembles:   0%|          | 0/1 [00:00<?, ?it/s]"
      ]
     },
     "metadata": {},
     "output_type": "display_data"
    },
    {
     "data": {
      "application/vnd.jupyter.widget-view+json": {
       "model_id": "d609b504cf064f8b8633e0fbca26c6b2",
       "version_major": 2,
       "version_minor": 0
      },
      "text/plain": [
       "network dynamic:   0%|          | 0/9999 [00:00<?, ?it/s]"
      ]
     },
     "metadata": {},
     "output_type": "display_data"
    },
    {
     "data": {
      "application/vnd.jupyter.widget-view+json": {
       "model_id": "f1b6a4c3bd11455b8e4ec11460543be6",
       "version_major": 2,
       "version_minor": 0
      },
      "text/plain": [
       "Variation of alpha:   0%|          | 0/1 [00:00<?, ?it/s]"
      ]
     },
     "metadata": {},
     "output_type": "display_data"
    },
    {
     "data": {
      "application/vnd.jupyter.widget-view+json": {
       "model_id": "2cb25b49a9d94dc3a176e7ea66d3a665",
       "version_major": 2,
       "version_minor": 0
      },
      "text/plain": [
       "Making ensembles:   0%|          | 0/1 [00:00<?, ?it/s]"
      ]
     },
     "metadata": {},
     "output_type": "display_data"
    },
    {
     "data": {
      "application/vnd.jupyter.widget-view+json": {
       "model_id": "391c13a7944c48fcb6f1eebf45c26387",
       "version_major": 2,
       "version_minor": 0
      },
      "text/plain": [
       "network dynamic:   0%|          | 0/9999 [00:00<?, ?it/s]"
      ]
     },
     "metadata": {},
     "output_type": "display_data"
    },
    {
     "data": {
      "application/vnd.jupyter.widget-view+json": {
       "model_id": "c3ca4b175e284e8ea751faf356ee5df3",
       "version_major": 2,
       "version_minor": 0
      },
      "text/plain": [
       "Variation of alpha:   0%|          | 0/1 [00:00<?, ?it/s]"
      ]
     },
     "metadata": {},
     "output_type": "display_data"
    },
    {
     "data": {
      "application/vnd.jupyter.widget-view+json": {
       "model_id": "6539485ea0cc4d9e809bcfb3cb4fe573",
       "version_major": 2,
       "version_minor": 0
      },
      "text/plain": [
       "Making ensembles:   0%|          | 0/1 [00:00<?, ?it/s]"
      ]
     },
     "metadata": {},
     "output_type": "display_data"
    },
    {
     "data": {
      "application/vnd.jupyter.widget-view+json": {
       "model_id": "3d077067d83b4298876acba2da20b79a",
       "version_major": 2,
       "version_minor": 0
      },
      "text/plain": [
       "network dynamic:   0%|          | 0/9999 [00:00<?, ?it/s]"
      ]
     },
     "metadata": {},
     "output_type": "display_data"
    },
    {
     "data": {
      "application/vnd.jupyter.widget-view+json": {
       "model_id": "303514a2bc334903b00abb5ec80c1237",
       "version_major": 2,
       "version_minor": 0
      },
      "text/plain": [
       "Variation of alpha:   0%|          | 0/1 [00:00<?, ?it/s]"
      ]
     },
     "metadata": {},
     "output_type": "display_data"
    },
    {
     "data": {
      "application/vnd.jupyter.widget-view+json": {
       "model_id": "a15def65f2f443c0bec72eabca369e13",
       "version_major": 2,
       "version_minor": 0
      },
      "text/plain": [
       "Making ensembles:   0%|          | 0/1 [00:00<?, ?it/s]"
      ]
     },
     "metadata": {},
     "output_type": "display_data"
    },
    {
     "data": {
      "application/vnd.jupyter.widget-view+json": {
       "model_id": "53fc1428553f4677a781b8a32f760482",
       "version_major": 2,
       "version_minor": 0
      },
      "text/plain": [
       "network dynamic:   0%|          | 0/9999 [00:00<?, ?it/s]"
      ]
     },
     "metadata": {},
     "output_type": "display_data"
    },
    {
     "data": {
      "application/vnd.jupyter.widget-view+json": {
       "model_id": "492fb8860fa641d5bffad547056944b2",
       "version_major": 2,
       "version_minor": 0
      },
      "text/plain": [
       "Variation of alpha:   0%|          | 0/1 [00:00<?, ?it/s]"
      ]
     },
     "metadata": {},
     "output_type": "display_data"
    },
    {
     "data": {
      "application/vnd.jupyter.widget-view+json": {
       "model_id": "433fe5456ce84c35940196a303ff9b79",
       "version_major": 2,
       "version_minor": 0
      },
      "text/plain": [
       "Making ensembles:   0%|          | 0/1 [00:00<?, ?it/s]"
      ]
     },
     "metadata": {},
     "output_type": "display_data"
    },
    {
     "data": {
      "application/vnd.jupyter.widget-view+json": {
       "model_id": "05cd9bf0daf74c6fa241f5bcb3cdfc99",
       "version_major": 2,
       "version_minor": 0
      },
      "text/plain": [
       "network dynamic:   0%|          | 0/9999 [00:00<?, ?it/s]"
      ]
     },
     "metadata": {},
     "output_type": "display_data"
    },
    {
     "data": {
      "application/vnd.jupyter.widget-view+json": {
       "model_id": "d75bc5a6d20b4b8db703ec54edc8fa81",
       "version_major": 2,
       "version_minor": 0
      },
      "text/plain": [
       "Variation of alpha:   0%|          | 0/1 [00:00<?, ?it/s]"
      ]
     },
     "metadata": {},
     "output_type": "display_data"
    },
    {
     "data": {
      "application/vnd.jupyter.widget-view+json": {
       "model_id": "7351ad17283b4ace8887a14502b05e70",
       "version_major": 2,
       "version_minor": 0
      },
      "text/plain": [
       "Making ensembles:   0%|          | 0/1 [00:00<?, ?it/s]"
      ]
     },
     "metadata": {},
     "output_type": "display_data"
    },
    {
     "data": {
      "application/vnd.jupyter.widget-view+json": {
       "model_id": "f0e43fc44d55407da2d6ac3aae5d373d",
       "version_major": 2,
       "version_minor": 0
      },
      "text/plain": [
       "network dynamic:   0%|          | 0/9999 [00:00<?, ?it/s]"
      ]
     },
     "metadata": {},
     "output_type": "display_data"
    },
    {
     "data": {
      "application/vnd.jupyter.widget-view+json": {
       "model_id": "51cde847a01a42d0ab77a0ffb22dcead",
       "version_major": 2,
       "version_minor": 0
      },
      "text/plain": [
       "Variation of delay:   0%|          | 0/13 [00:00<?, ?it/s]"
      ]
     },
     "metadata": {},
     "output_type": "display_data"
    },
    {
     "data": {
      "application/vnd.jupyter.widget-view+json": {
       "model_id": "d9a884e5316f4630bb44e26241252509",
       "version_major": 2,
       "version_minor": 0
      },
      "text/plain": [
       "Variation of alpha:   0%|          | 0/1 [00:00<?, ?it/s]"
      ]
     },
     "metadata": {},
     "output_type": "display_data"
    },
    {
     "data": {
      "application/vnd.jupyter.widget-view+json": {
       "model_id": "94021919a37245a3804efeef85873fb7",
       "version_major": 2,
       "version_minor": 0
      },
      "text/plain": [
       "Making ensembles:   0%|          | 0/1 [00:00<?, ?it/s]"
      ]
     },
     "metadata": {},
     "output_type": "display_data"
    },
    {
     "data": {
      "application/vnd.jupyter.widget-view+json": {
       "model_id": "4d218cba889347a3a65a95741a939835",
       "version_major": 2,
       "version_minor": 0
      },
      "text/plain": [
       "network dynamic:   0%|          | 0/9999 [00:00<?, ?it/s]"
      ]
     },
     "metadata": {},
     "output_type": "display_data"
    },
    {
     "data": {
      "application/vnd.jupyter.widget-view+json": {
       "model_id": "31907f105d364395aae29ccddc03b495",
       "version_major": 2,
       "version_minor": 0
      },
      "text/plain": [
       "Variation of alpha:   0%|          | 0/1 [00:00<?, ?it/s]"
      ]
     },
     "metadata": {},
     "output_type": "display_data"
    },
    {
     "data": {
      "application/vnd.jupyter.widget-view+json": {
       "model_id": "6f91f334120c4c5a8466a06371066918",
       "version_major": 2,
       "version_minor": 0
      },
      "text/plain": [
       "Making ensembles:   0%|          | 0/1 [00:00<?, ?it/s]"
      ]
     },
     "metadata": {},
     "output_type": "display_data"
    },
    {
     "data": {
      "application/vnd.jupyter.widget-view+json": {
       "model_id": "190cbbd17de940fcb249c30f2b3f8524",
       "version_major": 2,
       "version_minor": 0
      },
      "text/plain": [
       "network dynamic:   0%|          | 0/9999 [00:00<?, ?it/s]"
      ]
     },
     "metadata": {},
     "output_type": "display_data"
    },
    {
     "data": {
      "application/vnd.jupyter.widget-view+json": {
       "model_id": "a3bdde9a104c4a5fadefda05e9c1462a",
       "version_major": 2,
       "version_minor": 0
      },
      "text/plain": [
       "Variation of alpha:   0%|          | 0/1 [00:00<?, ?it/s]"
      ]
     },
     "metadata": {},
     "output_type": "display_data"
    },
    {
     "data": {
      "application/vnd.jupyter.widget-view+json": {
       "model_id": "845d25dc6f0445be856b70736edcde8a",
       "version_major": 2,
       "version_minor": 0
      },
      "text/plain": [
       "Making ensembles:   0%|          | 0/1 [00:00<?, ?it/s]"
      ]
     },
     "metadata": {},
     "output_type": "display_data"
    },
    {
     "data": {
      "application/vnd.jupyter.widget-view+json": {
       "model_id": "4a98e568989d4dac907af4b2174d02e2",
       "version_major": 2,
       "version_minor": 0
      },
      "text/plain": [
       "network dynamic:   0%|          | 0/9999 [00:00<?, ?it/s]"
      ]
     },
     "metadata": {},
     "output_type": "display_data"
    },
    {
     "data": {
      "application/vnd.jupyter.widget-view+json": {
       "model_id": "93d3647d6cdd41afb4bccc8a5233a732",
       "version_major": 2,
       "version_minor": 0
      },
      "text/plain": [
       "Variation of alpha:   0%|          | 0/1 [00:00<?, ?it/s]"
      ]
     },
     "metadata": {},
     "output_type": "display_data"
    },
    {
     "data": {
      "application/vnd.jupyter.widget-view+json": {
       "model_id": "cca77a8ab9824bce86aed9ca2c2c9384",
       "version_major": 2,
       "version_minor": 0
      },
      "text/plain": [
       "Making ensembles:   0%|          | 0/1 [00:00<?, ?it/s]"
      ]
     },
     "metadata": {},
     "output_type": "display_data"
    },
    {
     "data": {
      "application/vnd.jupyter.widget-view+json": {
       "model_id": "19da8afc633147d99d3e6ff043fb4cb8",
       "version_major": 2,
       "version_minor": 0
      },
      "text/plain": [
       "network dynamic:   0%|          | 0/9999 [00:00<?, ?it/s]"
      ]
     },
     "metadata": {},
     "output_type": "display_data"
    },
    {
     "data": {
      "application/vnd.jupyter.widget-view+json": {
       "model_id": "32c8480f14f84430b8df1bb462f4fc51",
       "version_major": 2,
       "version_minor": 0
      },
      "text/plain": [
       "Variation of alpha:   0%|          | 0/1 [00:00<?, ?it/s]"
      ]
     },
     "metadata": {},
     "output_type": "display_data"
    },
    {
     "data": {
      "application/vnd.jupyter.widget-view+json": {
       "model_id": "61203e318bae4bdcbf1a43176fca7ed3",
       "version_major": 2,
       "version_minor": 0
      },
      "text/plain": [
       "Making ensembles:   0%|          | 0/1 [00:00<?, ?it/s]"
      ]
     },
     "metadata": {},
     "output_type": "display_data"
    },
    {
     "data": {
      "application/vnd.jupyter.widget-view+json": {
       "model_id": "ce5710eb556a4c86aa9bd7735fcb6db7",
       "version_major": 2,
       "version_minor": 0
      },
      "text/plain": [
       "network dynamic:   0%|          | 0/9999 [00:00<?, ?it/s]"
      ]
     },
     "metadata": {},
     "output_type": "display_data"
    },
    {
     "data": {
      "application/vnd.jupyter.widget-view+json": {
       "model_id": "f685e1f0cdbe4ddabc4a55940a339916",
       "version_major": 2,
       "version_minor": 0
      },
      "text/plain": [
       "Variation of alpha:   0%|          | 0/1 [00:00<?, ?it/s]"
      ]
     },
     "metadata": {},
     "output_type": "display_data"
    },
    {
     "data": {
      "application/vnd.jupyter.widget-view+json": {
       "model_id": "4d5ea0d75ab94696959930804ac3eb4d",
       "version_major": 2,
       "version_minor": 0
      },
      "text/plain": [
       "Making ensembles:   0%|          | 0/1 [00:00<?, ?it/s]"
      ]
     },
     "metadata": {},
     "output_type": "display_data"
    },
    {
     "data": {
      "application/vnd.jupyter.widget-view+json": {
       "model_id": "f067b3d80fe44356aa049c24b583277c",
       "version_major": 2,
       "version_minor": 0
      },
      "text/plain": [
       "network dynamic:   0%|          | 0/9999 [00:00<?, ?it/s]"
      ]
     },
     "metadata": {},
     "output_type": "display_data"
    },
    {
     "data": {
      "application/vnd.jupyter.widget-view+json": {
       "model_id": "c3e15c9f5a484e1496da1f57bb58a29b",
       "version_major": 2,
       "version_minor": 0
      },
      "text/plain": [
       "Variation of alpha:   0%|          | 0/1 [00:00<?, ?it/s]"
      ]
     },
     "metadata": {},
     "output_type": "display_data"
    },
    {
     "data": {
      "application/vnd.jupyter.widget-view+json": {
       "model_id": "f7f0049af3e649479d4d30a5b93cbde1",
       "version_major": 2,
       "version_minor": 0
      },
      "text/plain": [
       "Making ensembles:   0%|          | 0/1 [00:00<?, ?it/s]"
      ]
     },
     "metadata": {},
     "output_type": "display_data"
    },
    {
     "data": {
      "application/vnd.jupyter.widget-view+json": {
       "model_id": "f260e28658d44186ae95b6e3a2df898f",
       "version_major": 2,
       "version_minor": 0
      },
      "text/plain": [
       "network dynamic:   0%|          | 0/9999 [00:00<?, ?it/s]"
      ]
     },
     "metadata": {},
     "output_type": "display_data"
    },
    {
     "data": {
      "application/vnd.jupyter.widget-view+json": {
       "model_id": "9aaf23a11d09473fa1c5b3a6996b2b4e",
       "version_major": 2,
       "version_minor": 0
      },
      "text/plain": [
       "Variation of alpha:   0%|          | 0/1 [00:00<?, ?it/s]"
      ]
     },
     "metadata": {},
     "output_type": "display_data"
    },
    {
     "data": {
      "application/vnd.jupyter.widget-view+json": {
       "model_id": "097de663c3704f4abb98410c74998096",
       "version_major": 2,
       "version_minor": 0
      },
      "text/plain": [
       "Making ensembles:   0%|          | 0/1 [00:00<?, ?it/s]"
      ]
     },
     "metadata": {},
     "output_type": "display_data"
    },
    {
     "data": {
      "application/vnd.jupyter.widget-view+json": {
       "model_id": "790b529203cc43ba8824d38971846efa",
       "version_major": 2,
       "version_minor": 0
      },
      "text/plain": [
       "network dynamic:   0%|          | 0/9999 [00:00<?, ?it/s]"
      ]
     },
     "metadata": {},
     "output_type": "display_data"
    },
    {
     "data": {
      "application/vnd.jupyter.widget-view+json": {
       "model_id": "31c4d9dcd2104faca4ffe2f14150a4f6",
       "version_major": 2,
       "version_minor": 0
      },
      "text/plain": [
       "Variation of alpha:   0%|          | 0/1 [00:00<?, ?it/s]"
      ]
     },
     "metadata": {},
     "output_type": "display_data"
    },
    {
     "data": {
      "application/vnd.jupyter.widget-view+json": {
       "model_id": "4e23e9823e9746e0966f3cd288ba737d",
       "version_major": 2,
       "version_minor": 0
      },
      "text/plain": [
       "Making ensembles:   0%|          | 0/1 [00:00<?, ?it/s]"
      ]
     },
     "metadata": {},
     "output_type": "display_data"
    },
    {
     "data": {
      "application/vnd.jupyter.widget-view+json": {
       "model_id": "637db428c7e0481fba72f79fca80e290",
       "version_major": 2,
       "version_minor": 0
      },
      "text/plain": [
       "network dynamic:   0%|          | 0/9999 [00:00<?, ?it/s]"
      ]
     },
     "metadata": {},
     "output_type": "display_data"
    },
    {
     "data": {
      "application/vnd.jupyter.widget-view+json": {
       "model_id": "b3b7e61cce6e4a46a6ebea6a8b8060b5",
       "version_major": 2,
       "version_minor": 0
      },
      "text/plain": [
       "Variation of alpha:   0%|          | 0/1 [00:00<?, ?it/s]"
      ]
     },
     "metadata": {},
     "output_type": "display_data"
    },
    {
     "data": {
      "application/vnd.jupyter.widget-view+json": {
       "model_id": "480ff2a8bfdf43c687887f0ef1f02a4d",
       "version_major": 2,
       "version_minor": 0
      },
      "text/plain": [
       "Making ensembles:   0%|          | 0/1 [00:00<?, ?it/s]"
      ]
     },
     "metadata": {},
     "output_type": "display_data"
    },
    {
     "data": {
      "application/vnd.jupyter.widget-view+json": {
       "model_id": "e60d5f8a3cb24e6d944483640d2def4f",
       "version_major": 2,
       "version_minor": 0
      },
      "text/plain": [
       "network dynamic:   0%|          | 0/9999 [00:00<?, ?it/s]"
      ]
     },
     "metadata": {},
     "output_type": "display_data"
    }
   ],
   "source": [
    "for connectivity in tqdm( connectivity_span , desc='Variation of connectivities'):\n",
    "    group_folder_name = 'g_{}'.format(connectivity)\n",
    "    group_storage = make_inner_dir(current_size_networks_path, group_folder_name)\n",
    "    \n",
    "    for delay in tqdm( delay_span , desc='Variation of delay'):\n",
    "        d_subgroup_folder_name = 'd_{}'.format(delay)\n",
    "        d_subgroup_storage = make_inner_dir(group_storage, d_subgroup_folder_name)\n",
    "        \n",
    "        for alpha in tqdm( alpha_span , desc='Variation of alpha') :\n",
    "            alpha_subgroup_folder_name = 'alpha_{}'.format(alpha)\n",
    "            alpha_subgroup_storage = make_inner_dir(d_subgroup_storage, alpha_subgroup_folder_name)\n",
    "            last_index = last_ensemble_index_in_group(alpha_subgroup_storage)\n",
    "\n",
    "            for i in tqdm( range(num_ensembles_each_g) , desc='Making ensembles'):\n",
    "                sample_model = Network_of_neurons(num_neurons=num_neurons,\n",
    "                                                  g=connectivity, alpha = alpha)\n",
    "                sample_model.ignite(random_input_span, total_time = total_time,\n",
    "                                    time_step = 0.01, delay_time = delay)\n",
    "\n",
    "                current_ensemble_folder = make_inner_dir(alpha_subgroup_storage, str(last_index + i + 1) )\n",
    "\n",
    "                save_sigma(sample_model.report_sigma(), current_ensemble_folder)\n",
    "                save_field_period(*sample_model.report_e_period_fft(), current_ensemble_folder)\n",
    "                save_field_average(sample_model.e_arr, current_ensemble_folder)\n",
    "                \n",
    "                if neuron_model in current_models[1:]: save_amin_saman_param(sample_model.report_sync_parameter(), current_ensemble_folder)\n",
    "                save_mean_spiking_periods( sample_model.report_spikies_period_mean(), current_ensemble_folder )"
   ]
  },
  {
   "cell_type": "code",
   "execution_count": null,
   "metadata": {},
   "outputs": [],
   "source": []
  },
  {
   "cell_type": "code",
   "execution_count": null,
   "metadata": {},
   "outputs": [],
   "source": [
    "!ipython nbconvert --to python any_neural_model_ensembles.ipynb"
   ]
  },
  {
   "cell_type": "code",
   "execution_count": null,
   "metadata": {},
   "outputs": [],
   "source": []
  }
 ],
 "metadata": {
  "kernelspec": {
   "display_name": "Python 3 (ipykernel)",
   "language": "python",
   "name": "python3"
  },
  "language_info": {
   "codemirror_mode": {
    "name": "ipython",
    "version": 3
   },
   "file_extension": ".py",
   "mimetype": "text/x-python",
   "name": "python",
   "nbconvert_exporter": "python",
   "pygments_lexer": "ipython3",
   "version": "3.9.12"
  }
 },
 "nbformat": 4,
 "nbformat_minor": 4
}
