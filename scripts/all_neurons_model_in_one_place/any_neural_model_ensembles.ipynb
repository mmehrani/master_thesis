{
 "cells": [
  {
   "cell_type": "markdown",
   "metadata": {},
   "source": [
    "# Neural networks simulation (Synchronization Problem)"
   ]
  },
  {
   "cell_type": "markdown",
   "metadata": {},
   "source": [
    "This file is going to study any neural netwrok class which is defined in the `<network_reference.py>` file."
   ]
  },
  {
   "cell_type": "code",
   "execution_count": 1,
   "metadata": {},
   "outputs": [],
   "source": [
    "import numpy as np\n",
    "from tqdm import tqdm\n",
    "import matplotlib.pyplot as plt\n",
    "import os"
   ]
  },
  {
   "cell_type": "code",
   "execution_count": 2,
   "metadata": {},
   "outputs": [],
   "source": [
    "%%capture\n",
    "from tqdm import tqdm_notebook as tqdm\n",
    "tqdm().pandas() #This line make sure that the progress bars looks natural"
   ]
  },
  {
   "cell_type": "markdown",
   "metadata": {},
   "source": [
    "## Order your neuron model of interest"
   ]
  },
  {
   "cell_type": "code",
   "execution_count": 3,
   "metadata": {},
   "outputs": [],
   "source": [
    "current_models = ['IF','Rotational']\n",
    "neuron_model = current_models[1]"
   ]
  },
  {
   "cell_type": "code",
   "execution_count": 4,
   "metadata": {},
   "outputs": [],
   "source": [
    "with open(\"network_reference.py\") as net_ref: \n",
    "    lines = net_ref.readlines() #read \n",
    " \n",
    "    #modify \n",
    "    lines[0] = \"neuron_engine = '{}'\\n\".format(neuron_model) #you can replace zero with any line number. \n",
    " \n",
    "with open(\"network_reference.py\", \"w\") as net_ref: \n",
    "    net_ref.writelines(lines) #write back "
   ]
  },
  {
   "cell_type": "code",
   "execution_count": 5,
   "metadata": {},
   "outputs": [],
   "source": [
    "from network_reference import Network_of_neurons"
   ]
  },
  {
   "cell_type": "markdown",
   "metadata": {},
   "source": [
    "## Parameters and constants"
   ]
  },
  {
   "cell_type": "code",
   "execution_count": 6,
   "metadata": {},
   "outputs": [],
   "source": [
    "num_neurons = 10000\n",
    "total_time = 100\n",
    "\n",
    "num_ensembles_each_g = 2"
   ]
  },
  {
   "cell_type": "code",
   "execution_count": 7,
   "metadata": {},
   "outputs": [],
   "source": [
    "random_input_span = (9.5,13.5)"
   ]
  },
  {
   "cell_type": "code",
   "execution_count": 8,
   "metadata": {},
   "outputs": [],
   "source": [
    "connectivity_min,connectivity_max, connectivity_step =10, 20, 1\n",
    "connectivity_span = np.arange(connectivity_min,connectivity_max,connectivity_step).round(2)"
   ]
  },
  {
   "cell_type": "code",
   "execution_count": 9,
   "metadata": {},
   "outputs": [],
   "source": [
    "delay_min,delay_max, delay_step =0.05, 0.30, 0.02 #think what option serves us best\n",
    "delay_span = np.arange(delay_min, delay_max, delay_step).round(2)"
   ]
  },
  {
   "cell_type": "markdown",
   "metadata": {},
   "source": [
    "## Prepare the storage to record the outputs"
   ]
  },
  {
   "cell_type": "code",
   "execution_count": 10,
   "metadata": {},
   "outputs": [],
   "source": [
    "current_size_networks_path = os.path.join(neuron_model + '_ensembles','N{}_T{}_I{}_{}'.format(num_neurons,total_time,random_input_span[0],random_input_span[1]) )\n",
    "try:\n",
    "    os.makedirs(current_size_networks_path)\n",
    "except:\n",
    "    pass"
   ]
  },
  {
   "cell_type": "code",
   "execution_count": 11,
   "metadata": {},
   "outputs": [],
   "source": [
    "from storage_modifications import *"
   ]
  },
  {
   "cell_type": "markdown",
   "metadata": {},
   "source": [
    "## Creating various ensembles:"
   ]
  },
  {
   "cell_type": "code",
   "execution_count": 12,
   "metadata": {},
   "outputs": [
    {
     "name": "stderr",
     "output_type": "stream",
     "text": [
      "C:\\ProgramData\\Anaconda3\\lib\\site-packages\\ipykernel_launcher.py:1: TqdmDeprecationWarning: This function will be removed in tqdm==5.0.0\n",
      "Please use `tqdm.notebook.tqdm` instead of `tqdm.tqdm_notebook`\n",
      "  \"\"\"Entry point for launching an IPython kernel.\n"
     ]
    },
    {
     "data": {
      "application/vnd.jupyter.widget-view+json": {
       "model_id": "88c0f93dc346453aa4443a6664e0dcc9",
       "version_major": 2,
       "version_minor": 0
      },
      "text/plain": [
       "HBox(children=(FloatProgress(value=0.0, description='Variation of connectivities', max=10.0, style=ProgressSty…"
      ]
     },
     "metadata": {},
     "output_type": "display_data"
    },
    {
     "name": "stderr",
     "output_type": "stream",
     "text": [
      "C:\\ProgramData\\Anaconda3\\lib\\site-packages\\ipykernel_launcher.py:5: TqdmDeprecationWarning: This function will be removed in tqdm==5.0.0\n",
      "Please use `tqdm.notebook.tqdm` instead of `tqdm.tqdm_notebook`\n",
      "  \"\"\"\n"
     ]
    },
    {
     "data": {
      "application/vnd.jupyter.widget-view+json": {
       "model_id": "e5e611ec22f949ae97ccb13dcf2c1485",
       "version_major": 2,
       "version_minor": 0
      },
      "text/plain": [
       "HBox(children=(FloatProgress(value=0.0, description='Variation of delay', max=13.0, style=ProgressStyle(descri…"
      ]
     },
     "metadata": {},
     "output_type": "display_data"
    },
    {
     "name": "stderr",
     "output_type": "stream",
     "text": [
      "C:\\ProgramData\\Anaconda3\\lib\\site-packages\\ipykernel_launcher.py:10: TqdmDeprecationWarning: This function will be removed in tqdm==5.0.0\n",
      "Please use `tqdm.notebook.tqdm` instead of `tqdm.tqdm_notebook`\n",
      "  # Remove the CWD from sys.path while we load stuff.\n"
     ]
    },
    {
     "data": {
      "application/vnd.jupyter.widget-view+json": {
       "model_id": "326dd34cf73b441d993a25ade093eda7",
       "version_major": 2,
       "version_minor": 0
      },
      "text/plain": [
       "HBox(children=(FloatProgress(value=0.0, description='Making ensembles', max=2.0, style=ProgressStyle(descripti…"
      ]
     },
     "metadata": {},
     "output_type": "display_data"
    },
    {
     "name": "stderr",
     "output_type": "stream",
     "text": [
      "network dynamic:   0%|                                                                        | 0/9999 [00:00<?, ?it/s]C:\\ProgramData\\Anaconda3\\lib\\site-packages\\numpy\\core\\fromnumeric.py:3335: RuntimeWarning: Mean of empty slice.\n",
      "  out=out, **kwargs)\n",
      "C:\\ProgramData\\Anaconda3\\lib\\site-packages\\numpy\\core\\_methods.py:161: RuntimeWarning: invalid value encountered in double_scalars\n",
      "  ret = ret.dtype.type(ret / rcount)\n",
      "network dynamic: 100%|███████████████████████████████████████████████████████████| 9999/9999 [00:05<00:00, 1730.63it/s]\n",
      "network dynamic: 100%|███████████████████████████████████████████████████████████| 9999/9999 [00:07<00:00, 1320.75it/s]\n"
     ]
    },
    {
     "name": "stdout",
     "output_type": "stream",
     "text": [
      "\n"
     ]
    },
    {
     "data": {
      "application/vnd.jupyter.widget-view+json": {
       "model_id": "d98df5f12bdd4487b17454a0b29c73e6",
       "version_major": 2,
       "version_minor": 0
      },
      "text/plain": [
       "HBox(children=(FloatProgress(value=0.0, description='Making ensembles', max=2.0, style=ProgressStyle(descripti…"
      ]
     },
     "metadata": {},
     "output_type": "display_data"
    },
    {
     "name": "stderr",
     "output_type": "stream",
     "text": [
      "network dynamic: 100%|███████████████████████████████████████████████████████████| 9999/9999 [00:07<00:00, 1358.90it/s]\n",
      "network dynamic: 100%|███████████████████████████████████████████████████████████| 9999/9999 [00:06<00:00, 1553.21it/s]\n"
     ]
    },
    {
     "name": "stdout",
     "output_type": "stream",
     "text": [
      "\n"
     ]
    },
    {
     "data": {
      "application/vnd.jupyter.widget-view+json": {
       "model_id": "e4b25d1c95184dcb8075f9d17781620c",
       "version_major": 2,
       "version_minor": 0
      },
      "text/plain": [
       "HBox(children=(FloatProgress(value=0.0, description='Making ensembles', max=2.0, style=ProgressStyle(descripti…"
      ]
     },
     "metadata": {},
     "output_type": "display_data"
    },
    {
     "name": "stderr",
     "output_type": "stream",
     "text": [
      "network dynamic: 100%|███████████████████████████████████████████████████████████| 9999/9999 [00:06<00:00, 1576.50it/s]\n",
      "network dynamic: 100%|███████████████████████████████████████████████████████████| 9999/9999 [00:06<00:00, 1483.13it/s]\n"
     ]
    },
    {
     "name": "stdout",
     "output_type": "stream",
     "text": [
      "\n"
     ]
    },
    {
     "data": {
      "application/vnd.jupyter.widget-view+json": {
       "model_id": "6ad4bc865f154782b39ccf69604ff3eb",
       "version_major": 2,
       "version_minor": 0
      },
      "text/plain": [
       "HBox(children=(FloatProgress(value=0.0, description='Making ensembles', max=2.0, style=ProgressStyle(descripti…"
      ]
     },
     "metadata": {},
     "output_type": "display_data"
    },
    {
     "name": "stderr",
     "output_type": "stream",
     "text": [
      "network dynamic: 100%|███████████████████████████████████████████████████████████| 9999/9999 [00:07<00:00, 1381.19it/s]\n",
      "network dynamic: 100%|███████████████████████████████████████████████████████████| 9999/9999 [00:07<00:00, 1380.75it/s]"
     ]
    },
    {
     "name": "stdout",
     "output_type": "stream",
     "text": [
      "\n"
     ]
    },
    {
     "name": "stderr",
     "output_type": "stream",
     "text": [
      "\n"
     ]
    },
    {
     "data": {
      "application/vnd.jupyter.widget-view+json": {
       "model_id": "6d9f1a3c70c54cb7a6219a3a2c87e6af",
       "version_major": 2,
       "version_minor": 0
      },
      "text/plain": [
       "HBox(children=(FloatProgress(value=0.0, description='Making ensembles', max=2.0, style=ProgressStyle(descripti…"
      ]
     },
     "metadata": {},
     "output_type": "display_data"
    },
    {
     "name": "stderr",
     "output_type": "stream",
     "text": [
      "network dynamic: 100%|███████████████████████████████████████████████████████████| 9999/9999 [00:07<00:00, 1330.37it/s]\n",
      "network dynamic: 100%|███████████████████████████████████████████████████████████| 9999/9999 [00:07<00:00, 1377.95it/s]\n"
     ]
    },
    {
     "name": "stdout",
     "output_type": "stream",
     "text": [
      "\n"
     ]
    },
    {
     "data": {
      "application/vnd.jupyter.widget-view+json": {
       "model_id": "a0cc5a8c84c2414dadcfc5f6279656aa",
       "version_major": 2,
       "version_minor": 0
      },
      "text/plain": [
       "HBox(children=(FloatProgress(value=0.0, description='Making ensembles', max=2.0, style=ProgressStyle(descripti…"
      ]
     },
     "metadata": {},
     "output_type": "display_data"
    },
    {
     "name": "stderr",
     "output_type": "stream",
     "text": [
      "network dynamic: 100%|███████████████████████████████████████████████████████████| 9999/9999 [00:06<00:00, 1458.50it/s]\n",
      "network dynamic: 100%|███████████████████████████████████████████████████████████| 9999/9999 [00:06<00:00, 1572.81it/s]"
     ]
    },
    {
     "name": "stdout",
     "output_type": "stream",
     "text": [
      "\n"
     ]
    },
    {
     "name": "stderr",
     "output_type": "stream",
     "text": [
      "\n"
     ]
    },
    {
     "data": {
      "application/vnd.jupyter.widget-view+json": {
       "model_id": "1e63e4af7d7641449fecb31cb65e9ee3",
       "version_major": 2,
       "version_minor": 0
      },
      "text/plain": [
       "HBox(children=(FloatProgress(value=0.0, description='Making ensembles', max=2.0, style=ProgressStyle(descripti…"
      ]
     },
     "metadata": {},
     "output_type": "display_data"
    },
    {
     "name": "stderr",
     "output_type": "stream",
     "text": [
      "network dynamic: 100%|███████████████████████████████████████████████████████████| 9999/9999 [00:07<00:00, 1298.70it/s]\n",
      "network dynamic: 100%|███████████████████████████████████████████████████████████| 9999/9999 [00:07<00:00, 1255.05it/s]\n"
     ]
    },
    {
     "name": "stdout",
     "output_type": "stream",
     "text": [
      "\n"
     ]
    },
    {
     "data": {
      "application/vnd.jupyter.widget-view+json": {
       "model_id": "0556774882b54834bf5a4c29e46bc593",
       "version_major": 2,
       "version_minor": 0
      },
      "text/plain": [
       "HBox(children=(FloatProgress(value=0.0, description='Making ensembles', max=2.0, style=ProgressStyle(descripti…"
      ]
     },
     "metadata": {},
     "output_type": "display_data"
    },
    {
     "name": "stderr",
     "output_type": "stream",
     "text": [
      "network dynamic: 100%|████████████████████████████████████████████████████████████| 9999/9999 [00:10<00:00, 919.59it/s]\n",
      "network dynamic: 100%|███████████████████████████████████████████████████████████| 9999/9999 [00:08<00:00, 1114.12it/s]\n"
     ]
    },
    {
     "name": "stdout",
     "output_type": "stream",
     "text": [
      "\n"
     ]
    },
    {
     "data": {
      "application/vnd.jupyter.widget-view+json": {
       "model_id": "39586bb060914cfaba81a82a84bb435d",
       "version_major": 2,
       "version_minor": 0
      },
      "text/plain": [
       "HBox(children=(FloatProgress(value=0.0, description='Making ensembles', max=2.0, style=ProgressStyle(descripti…"
      ]
     },
     "metadata": {},
     "output_type": "display_data"
    },
    {
     "name": "stderr",
     "output_type": "stream",
     "text": [
      "network dynamic: 100%|███████████████████████████████████████████████████████████| 9999/9999 [00:07<00:00, 1325.30it/s]\n",
      "network dynamic: 100%|███████████████████████████████████████████████████████████| 9999/9999 [00:07<00:00, 1354.68it/s]\n"
     ]
    },
    {
     "name": "stdout",
     "output_type": "stream",
     "text": [
      "\n"
     ]
    },
    {
     "data": {
      "application/vnd.jupyter.widget-view+json": {
       "model_id": "1d6126e456684c6181da816227c879bc",
       "version_major": 2,
       "version_minor": 0
      },
      "text/plain": [
       "HBox(children=(FloatProgress(value=0.0, description='Making ensembles', max=2.0, style=ProgressStyle(descripti…"
      ]
     },
     "metadata": {},
     "output_type": "display_data"
    },
    {
     "name": "stderr",
     "output_type": "stream",
     "text": [
      "network dynamic: 100%|███████████████████████████████████████████████████████████| 9999/9999 [00:08<00:00, 1225.82it/s]\n",
      "network dynamic: 100%|███████████████████████████████████████████████████████████| 9999/9999 [00:09<00:00, 1110.41it/s]"
     ]
    },
    {
     "name": "stdout",
     "output_type": "stream",
     "text": [
      "\n"
     ]
    },
    {
     "name": "stderr",
     "output_type": "stream",
     "text": [
      "\n"
     ]
    },
    {
     "data": {
      "application/vnd.jupyter.widget-view+json": {
       "model_id": "6360f221e95a4373849f563aad5e9713",
       "version_major": 2,
       "version_minor": 0
      },
      "text/plain": [
       "HBox(children=(FloatProgress(value=0.0, description='Making ensembles', max=2.0, style=ProgressStyle(descripti…"
      ]
     },
     "metadata": {},
     "output_type": "display_data"
    },
    {
     "name": "stderr",
     "output_type": "stream",
     "text": [
      "network dynamic: 100%|███████████████████████████████████████████████████████████| 9999/9999 [00:08<00:00, 1130.00it/s]\n",
      "network dynamic: 100%|███████████████████████████████████████████████████████████| 9999/9999 [00:08<00:00, 1115.73it/s]\n"
     ]
    },
    {
     "name": "stdout",
     "output_type": "stream",
     "text": [
      "\n"
     ]
    },
    {
     "data": {
      "application/vnd.jupyter.widget-view+json": {
       "model_id": "7c3690db471c4ae98f3331eaac9a2005",
       "version_major": 2,
       "version_minor": 0
      },
      "text/plain": [
       "HBox(children=(FloatProgress(value=0.0, description='Making ensembles', max=2.0, style=ProgressStyle(descripti…"
      ]
     },
     "metadata": {},
     "output_type": "display_data"
    },
    {
     "name": "stderr",
     "output_type": "stream",
     "text": [
      "network dynamic: 100%|███████████████████████████████████████████████████████████| 9999/9999 [00:07<00:00, 1325.65it/s]\n",
      "network dynamic: 100%|███████████████████████████████████████████████████████████| 9999/9999 [00:07<00:00, 1283.12it/s]"
     ]
    },
    {
     "name": "stdout",
     "output_type": "stream",
     "text": [
      "\n"
     ]
    },
    {
     "name": "stderr",
     "output_type": "stream",
     "text": [
      "\n"
     ]
    },
    {
     "data": {
      "application/vnd.jupyter.widget-view+json": {
       "model_id": "7a22c22d90de48e4ad0c38fb0d5c3b53",
       "version_major": 2,
       "version_minor": 0
      },
      "text/plain": [
       "HBox(children=(FloatProgress(value=0.0, description='Making ensembles', max=2.0, style=ProgressStyle(descripti…"
      ]
     },
     "metadata": {},
     "output_type": "display_data"
    },
    {
     "name": "stderr",
     "output_type": "stream",
     "text": [
      "network dynamic: 100%|███████████████████████████████████████████████████████████| 9999/9999 [00:09<00:00, 1070.57it/s]\n",
      "network dynamic: 100%|███████████████████████████████████████████████████████████| 9999/9999 [00:08<00:00, 1195.41it/s]"
     ]
    },
    {
     "name": "stdout",
     "output_type": "stream",
     "text": [
      "\n",
      "\n"
     ]
    },
    {
     "name": "stderr",
     "output_type": "stream",
     "text": [
      "\n"
     ]
    },
    {
     "data": {
      "application/vnd.jupyter.widget-view+json": {
       "model_id": "c4aeb58be54f4ee3aa33e50e7ecb8c47",
       "version_major": 2,
       "version_minor": 0
      },
      "text/plain": [
       "HBox(children=(FloatProgress(value=0.0, description='Variation of delay', max=13.0, style=ProgressStyle(descri…"
      ]
     },
     "metadata": {},
     "output_type": "display_data"
    },
    {
     "data": {
      "application/vnd.jupyter.widget-view+json": {
       "model_id": "e5ebe8987ee04d96b872ce42284c6dd1",
       "version_major": 2,
       "version_minor": 0
      },
      "text/plain": [
       "HBox(children=(FloatProgress(value=0.0, description='Making ensembles', max=2.0, style=ProgressStyle(descripti…"
      ]
     },
     "metadata": {},
     "output_type": "display_data"
    },
    {
     "name": "stderr",
     "output_type": "stream",
     "text": [
      "network dynamic: 100%|███████████████████████████████████████████████████████████| 9999/9999 [00:09<00:00, 1076.15it/s]\n",
      "network dynamic: 100%|███████████████████████████████████████████████████████████| 9999/9999 [00:07<00:00, 1267.83it/s]"
     ]
    },
    {
     "name": "stdout",
     "output_type": "stream",
     "text": [
      "\n"
     ]
    },
    {
     "name": "stderr",
     "output_type": "stream",
     "text": [
      "\n"
     ]
    },
    {
     "data": {
      "application/vnd.jupyter.widget-view+json": {
       "model_id": "0a9d7cdec8e7472c8aee9e13e5574988",
       "version_major": 2,
       "version_minor": 0
      },
      "text/plain": [
       "HBox(children=(FloatProgress(value=0.0, description='Making ensembles', max=2.0, style=ProgressStyle(descripti…"
      ]
     },
     "metadata": {},
     "output_type": "display_data"
    },
    {
     "name": "stderr",
     "output_type": "stream",
     "text": [
      "network dynamic: 100%|███████████████████████████████████████████████████████████| 9999/9999 [00:09<00:00, 1063.19it/s]\n",
      "network dynamic: 100%|███████████████████████████████████████████████████████████| 9999/9999 [00:08<00:00, 1124.32it/s]\n"
     ]
    },
    {
     "name": "stdout",
     "output_type": "stream",
     "text": [
      "\n"
     ]
    },
    {
     "data": {
      "application/vnd.jupyter.widget-view+json": {
       "model_id": "544482dafd024db59088ba0701c3c217",
       "version_major": 2,
       "version_minor": 0
      },
      "text/plain": [
       "HBox(children=(FloatProgress(value=0.0, description='Making ensembles', max=2.0, style=ProgressStyle(descripti…"
      ]
     },
     "metadata": {},
     "output_type": "display_data"
    },
    {
     "name": "stderr",
     "output_type": "stream",
     "text": [
      "network dynamic: 100%|███████████████████████████████████████████████████████████| 9999/9999 [00:08<00:00, 1150.54it/s]\n",
      "network dynamic: 100%|███████████████████████████████████████████████████████████| 9999/9999 [00:07<00:00, 1299.72it/s]\n"
     ]
    },
    {
     "name": "stdout",
     "output_type": "stream",
     "text": [
      "\n"
     ]
    },
    {
     "data": {
      "application/vnd.jupyter.widget-view+json": {
       "model_id": "318a265b3e364975b7d8eedb4d2bba0f",
       "version_major": 2,
       "version_minor": 0
      },
      "text/plain": [
       "HBox(children=(FloatProgress(value=0.0, description='Making ensembles', max=2.0, style=ProgressStyle(descripti…"
      ]
     },
     "metadata": {},
     "output_type": "display_data"
    },
    {
     "name": "stderr",
     "output_type": "stream",
     "text": [
      "network dynamic: 100%|███████████████████████████████████████████████████████████| 9999/9999 [00:09<00:00, 1104.61it/s]\n",
      "network dynamic: 100%|███████████████████████████████████████████████████████████| 9999/9999 [00:09<00:00, 1003.14it/s]"
     ]
    },
    {
     "name": "stdout",
     "output_type": "stream",
     "text": [
      "\n"
     ]
    },
    {
     "name": "stderr",
     "output_type": "stream",
     "text": [
      "\n"
     ]
    },
    {
     "data": {
      "application/vnd.jupyter.widget-view+json": {
       "model_id": "1939cbebd8d445cc9fe677950e328772",
       "version_major": 2,
       "version_minor": 0
      },
      "text/plain": [
       "HBox(children=(FloatProgress(value=0.0, description='Making ensembles', max=2.0, style=ProgressStyle(descripti…"
      ]
     },
     "metadata": {},
     "output_type": "display_data"
    },
    {
     "name": "stderr",
     "output_type": "stream",
     "text": [
      "network dynamic: 100%|███████████████████████████████████████████████████████████| 9999/9999 [00:08<00:00, 1220.57it/s]\n",
      "network dynamic: 100%|███████████████████████████████████████████████████████████| 9999/9999 [00:07<00:00, 1351.21it/s]\n"
     ]
    },
    {
     "name": "stdout",
     "output_type": "stream",
     "text": [
      "\n"
     ]
    },
    {
     "data": {
      "application/vnd.jupyter.widget-view+json": {
       "model_id": "63b223279b8f465984ec85794c14dfc8",
       "version_major": 2,
       "version_minor": 0
      },
      "text/plain": [
       "HBox(children=(FloatProgress(value=0.0, description='Making ensembles', max=2.0, style=ProgressStyle(descripti…"
      ]
     },
     "metadata": {},
     "output_type": "display_data"
    },
    {
     "name": "stderr",
     "output_type": "stream",
     "text": [
      "network dynamic: 100%|███████████████████████████████████████████████████████████| 9999/9999 [00:08<00:00, 1177.96it/s]\n",
      "network dynamic: 100%|███████████████████████████████████████████████████████████| 9999/9999 [00:09<00:00, 1069.55it/s]\n"
     ]
    },
    {
     "name": "stdout",
     "output_type": "stream",
     "text": [
      "\n"
     ]
    },
    {
     "data": {
      "application/vnd.jupyter.widget-view+json": {
       "model_id": "49d2da278c27458d9632c72d3ecbebe0",
       "version_major": 2,
       "version_minor": 0
      },
      "text/plain": [
       "HBox(children=(FloatProgress(value=0.0, description='Making ensembles', max=2.0, style=ProgressStyle(descripti…"
      ]
     },
     "metadata": {},
     "output_type": "display_data"
    },
    {
     "name": "stderr",
     "output_type": "stream",
     "text": [
      "network dynamic: 100%|███████████████████████████████████████████████████████████| 9999/9999 [00:08<00:00, 1116.59it/s]\n",
      "network dynamic: 100%|███████████████████████████████████████████████████████████| 9999/9999 [00:07<00:00, 1353.40it/s]\n"
     ]
    },
    {
     "name": "stdout",
     "output_type": "stream",
     "text": [
      "\n"
     ]
    },
    {
     "data": {
      "application/vnd.jupyter.widget-view+json": {
       "model_id": "2458e095576e4ab4b53aeaa751fdc5f5",
       "version_major": 2,
       "version_minor": 0
      },
      "text/plain": [
       "HBox(children=(FloatProgress(value=0.0, description='Making ensembles', max=2.0, style=ProgressStyle(descripti…"
      ]
     },
     "metadata": {},
     "output_type": "display_data"
    },
    {
     "name": "stderr",
     "output_type": "stream",
     "text": [
      "network dynamic: 100%|████████████████████████████████████████████████████████████| 9999/9999 [00:10<00:00, 997.11it/s]\n",
      "network dynamic: 100%|███████████████████████████████████████████████████████████| 9999/9999 [00:08<00:00, 1126.27it/s]"
     ]
    },
    {
     "name": "stdout",
     "output_type": "stream",
     "text": [
      "\n"
     ]
    },
    {
     "name": "stderr",
     "output_type": "stream",
     "text": [
      "\n"
     ]
    },
    {
     "data": {
      "application/vnd.jupyter.widget-view+json": {
       "model_id": "b08c7f7613004adf8275fa47125d9edb",
       "version_major": 2,
       "version_minor": 0
      },
      "text/plain": [
       "HBox(children=(FloatProgress(value=0.0, description='Making ensembles', max=2.0, style=ProgressStyle(descripti…"
      ]
     },
     "metadata": {},
     "output_type": "display_data"
    },
    {
     "name": "stderr",
     "output_type": "stream",
     "text": [
      "network dynamic: 100%|███████████████████████████████████████████████████████████| 9999/9999 [00:08<00:00, 1200.84it/s]\n",
      "network dynamic: 100%|███████████████████████████████████████████████████████████| 9999/9999 [00:07<00:00, 1332.98it/s]\n"
     ]
    },
    {
     "name": "stdout",
     "output_type": "stream",
     "text": [
      "\n"
     ]
    },
    {
     "data": {
      "application/vnd.jupyter.widget-view+json": {
       "model_id": "c46c493433f14b04882d80714ddca70a",
       "version_major": 2,
       "version_minor": 0
      },
      "text/plain": [
       "HBox(children=(FloatProgress(value=0.0, description='Making ensembles', max=2.0, style=ProgressStyle(descripti…"
      ]
     },
     "metadata": {},
     "output_type": "display_data"
    },
    {
     "name": "stderr",
     "output_type": "stream",
     "text": [
      "network dynamic: 100%|███████████████████████████████████████████████████████████| 9999/9999 [00:08<00:00, 1185.42it/s]\n",
      "network dynamic: 100%|████████████████████████████████████████████████████████████| 9999/9999 [00:10<00:00, 944.18it/s]\n"
     ]
    },
    {
     "name": "stdout",
     "output_type": "stream",
     "text": [
      "\n"
     ]
    },
    {
     "data": {
      "application/vnd.jupyter.widget-view+json": {
       "model_id": "d6a7810979da4e91868479bdca5a7815",
       "version_major": 2,
       "version_minor": 0
      },
      "text/plain": [
       "HBox(children=(FloatProgress(value=0.0, description='Making ensembles', max=2.0, style=ProgressStyle(descripti…"
      ]
     },
     "metadata": {},
     "output_type": "display_data"
    },
    {
     "name": "stderr",
     "output_type": "stream",
     "text": [
      "network dynamic: 100%|███████████████████████████████████████████████████████████| 9999/9999 [00:08<00:00, 1216.59it/s]\n",
      "network dynamic: 100%|███████████████████████████████████████████████████████████| 9999/9999 [00:07<00:00, 1260.11it/s]\n"
     ]
    },
    {
     "name": "stdout",
     "output_type": "stream",
     "text": [
      "\n"
     ]
    },
    {
     "data": {
      "application/vnd.jupyter.widget-view+json": {
       "model_id": "0d53d66e12fa4b6cbc2918c128a02959",
       "version_major": 2,
       "version_minor": 0
      },
      "text/plain": [
       "HBox(children=(FloatProgress(value=0.0, description='Making ensembles', max=2.0, style=ProgressStyle(descripti…"
      ]
     },
     "metadata": {},
     "output_type": "display_data"
    },
    {
     "name": "stderr",
     "output_type": "stream",
     "text": [
      "network dynamic: 100%|████████████████████████████████████████████████████████████| 9999/9999 [00:11<00:00, 843.50it/s]\n",
      "network dynamic: 100%|███████████████████████████████████████████████████████████| 9999/9999 [00:07<00:00, 1366.60it/s]\n"
     ]
    },
    {
     "name": "stdout",
     "output_type": "stream",
     "text": [
      "\n"
     ]
    },
    {
     "data": {
      "application/vnd.jupyter.widget-view+json": {
       "model_id": "a4a6bb56b1c5463faa1c65dd154e580e",
       "version_major": 2,
       "version_minor": 0
      },
      "text/plain": [
       "HBox(children=(FloatProgress(value=0.0, description='Making ensembles', max=2.0, style=ProgressStyle(descripti…"
      ]
     },
     "metadata": {},
     "output_type": "display_data"
    },
    {
     "name": "stderr",
     "output_type": "stream",
     "text": [
      "network dynamic: 100%|███████████████████████████████████████████████████████████| 9999/9999 [00:08<00:00, 1230.24it/s]\n",
      "network dynamic: 100%|████████████████████████████████████████████████████████████| 9999/9999 [00:10<00:00, 910.85it/s]\n"
     ]
    },
    {
     "name": "stdout",
     "output_type": "stream",
     "text": [
      "\n",
      "\n"
     ]
    },
    {
     "data": {
      "application/vnd.jupyter.widget-view+json": {
       "model_id": "7fd5a6c7c4d443f19020966ea97e5add",
       "version_major": 2,
       "version_minor": 0
      },
      "text/plain": [
       "HBox(children=(FloatProgress(value=0.0, description='Variation of delay', max=13.0, style=ProgressStyle(descri…"
      ]
     },
     "metadata": {},
     "output_type": "display_data"
    },
    {
     "data": {
      "application/vnd.jupyter.widget-view+json": {
       "model_id": "75b342472a9549088c20c163c529bfe8",
       "version_major": 2,
       "version_minor": 0
      },
      "text/plain": [
       "HBox(children=(FloatProgress(value=0.0, description='Making ensembles', max=2.0, style=ProgressStyle(descripti…"
      ]
     },
     "metadata": {},
     "output_type": "display_data"
    },
    {
     "name": "stderr",
     "output_type": "stream",
     "text": [
      "network dynamic: 100%|███████████████████████████████████████████████████████████| 9999/9999 [00:07<00:00, 1381.33it/s]\n",
      "network dynamic: 100%|███████████████████████████████████████████████████████████| 9999/9999 [00:08<00:00, 1141.18it/s]"
     ]
    },
    {
     "name": "stdout",
     "output_type": "stream",
     "text": [
      "\n"
     ]
    },
    {
     "name": "stderr",
     "output_type": "stream",
     "text": [
      "\n"
     ]
    },
    {
     "data": {
      "application/vnd.jupyter.widget-view+json": {
       "model_id": "3e44dda1355c4e4f84a07a0cc483c1c1",
       "version_major": 2,
       "version_minor": 0
      },
      "text/plain": [
       "HBox(children=(FloatProgress(value=0.0, description='Making ensembles', max=2.0, style=ProgressStyle(descripti…"
      ]
     },
     "metadata": {},
     "output_type": "display_data"
    },
    {
     "name": "stderr",
     "output_type": "stream",
     "text": [
      "network dynamic: 100%|███████████████████████████████████████████████████████████| 9999/9999 [00:09<00:00, 1048.82it/s]\n",
      "network dynamic: 100%|███████████████████████████████████████████████████████████| 9999/9999 [00:06<00:00, 1456.18it/s]\n"
     ]
    },
    {
     "name": "stdout",
     "output_type": "stream",
     "text": [
      "\n"
     ]
    },
    {
     "data": {
      "application/vnd.jupyter.widget-view+json": {
       "model_id": "4c60c69c34694218a2ab4f6683e97b63",
       "version_major": 2,
       "version_minor": 0
      },
      "text/plain": [
       "HBox(children=(FloatProgress(value=0.0, description='Making ensembles', max=2.0, style=ProgressStyle(descripti…"
      ]
     },
     "metadata": {},
     "output_type": "display_data"
    },
    {
     "name": "stderr",
     "output_type": "stream",
     "text": [
      "network dynamic: 100%|███████████████████████████████████████████████████████████| 9999/9999 [00:07<00:00, 1316.03it/s]\n",
      "network dynamic: 100%|███████████████████████████████████████████████████████████| 9999/9999 [00:08<00:00, 1249.46it/s]"
     ]
    },
    {
     "name": "stdout",
     "output_type": "stream",
     "text": [
      "\n"
     ]
    },
    {
     "name": "stderr",
     "output_type": "stream",
     "text": [
      "\n"
     ]
    },
    {
     "data": {
      "application/vnd.jupyter.widget-view+json": {
       "model_id": "339e56993b74423e982a88aea37c4511",
       "version_major": 2,
       "version_minor": 0
      },
      "text/plain": [
       "HBox(children=(FloatProgress(value=0.0, description='Making ensembles', max=2.0, style=ProgressStyle(descripti…"
      ]
     },
     "metadata": {},
     "output_type": "display_data"
    },
    {
     "name": "stderr",
     "output_type": "stream",
     "text": [
      "network dynamic: 100%|███████████████████████████████████████████████████████████| 9999/9999 [00:09<00:00, 1096.82it/s]\n",
      "network dynamic: 100%|███████████████████████████████████████████████████████████| 9999/9999 [00:07<00:00, 1314.66it/s]"
     ]
    },
    {
     "name": "stdout",
     "output_type": "stream",
     "text": [
      "\n"
     ]
    },
    {
     "name": "stderr",
     "output_type": "stream",
     "text": [
      "\n"
     ]
    },
    {
     "data": {
      "application/vnd.jupyter.widget-view+json": {
       "model_id": "cffd3fc83588454abc9674b2c6b88f64",
       "version_major": 2,
       "version_minor": 0
      },
      "text/plain": [
       "HBox(children=(FloatProgress(value=0.0, description='Making ensembles', max=2.0, style=ProgressStyle(descripti…"
      ]
     },
     "metadata": {},
     "output_type": "display_data"
    },
    {
     "name": "stderr",
     "output_type": "stream",
     "text": [
      "network dynamic: 100%|███████████████████████████████████████████████████████████| 9999/9999 [00:07<00:00, 1326.19it/s]\n",
      "network dynamic: 100%|███████████████████████████████████████████████████████████| 9999/9999 [00:09<00:00, 1063.90it/s]\n"
     ]
    },
    {
     "name": "stdout",
     "output_type": "stream",
     "text": [
      "\n"
     ]
    },
    {
     "data": {
      "application/vnd.jupyter.widget-view+json": {
       "model_id": "6b573bd984b949c083303ba589484e2e",
       "version_major": 2,
       "version_minor": 0
      },
      "text/plain": [
       "HBox(children=(FloatProgress(value=0.0, description='Making ensembles', max=2.0, style=ProgressStyle(descripti…"
      ]
     },
     "metadata": {},
     "output_type": "display_data"
    },
    {
     "name": "stderr",
     "output_type": "stream",
     "text": [
      "network dynamic: 100%|████████████████████████████████████████████████████████████| 9999/9999 [00:14<00:00, 687.31it/s]\n",
      "network dynamic: 100%|████████████████████████████████████████████████████████████| 9999/9999 [00:17<00:00, 585.89it/s]\n"
     ]
    },
    {
     "name": "stdout",
     "output_type": "stream",
     "text": [
      "\n"
     ]
    },
    {
     "data": {
      "application/vnd.jupyter.widget-view+json": {
       "model_id": "529a5b0ccc784b3486360d998938fd35",
       "version_major": 2,
       "version_minor": 0
      },
      "text/plain": [
       "HBox(children=(FloatProgress(value=0.0, description='Making ensembles', max=2.0, style=ProgressStyle(descripti…"
      ]
     },
     "metadata": {},
     "output_type": "display_data"
    },
    {
     "name": "stderr",
     "output_type": "stream",
     "text": [
      "network dynamic: 100%|████████████████████████████████████████████████████████████| 9999/9999 [00:15<00:00, 627.75it/s]\n",
      "network dynamic: 100%|███████████████████████████████████████████████████████████| 9999/9999 [00:09<00:00, 1086.25it/s]\n"
     ]
    },
    {
     "name": "stdout",
     "output_type": "stream",
     "text": [
      "\n"
     ]
    },
    {
     "data": {
      "application/vnd.jupyter.widget-view+json": {
       "model_id": "7c0ead5da35e4b1a8bae83c46a40c189",
       "version_major": 2,
       "version_minor": 0
      },
      "text/plain": [
       "HBox(children=(FloatProgress(value=0.0, description='Making ensembles', max=2.0, style=ProgressStyle(descripti…"
      ]
     },
     "metadata": {},
     "output_type": "display_data"
    },
    {
     "name": "stderr",
     "output_type": "stream",
     "text": [
      "network dynamic: 100%|███████████████████████████████████████████████████████████| 9999/9999 [00:06<00:00, 1461.65it/s]\n",
      "network dynamic: 100%|███████████████████████████████████████████████████████████| 9999/9999 [00:07<00:00, 1411.25it/s]\n"
     ]
    },
    {
     "name": "stdout",
     "output_type": "stream",
     "text": [
      "\n"
     ]
    },
    {
     "data": {
      "application/vnd.jupyter.widget-view+json": {
       "model_id": "d47311de747042fab6479ecf0d1d6908",
       "version_major": 2,
       "version_minor": 0
      },
      "text/plain": [
       "HBox(children=(FloatProgress(value=0.0, description='Making ensembles', max=2.0, style=ProgressStyle(descripti…"
      ]
     },
     "metadata": {},
     "output_type": "display_data"
    },
    {
     "name": "stderr",
     "output_type": "stream",
     "text": [
      "network dynamic: 100%|███████████████████████████████████████████████████████████| 9999/9999 [00:07<00:00, 1323.78it/s]\n",
      "network dynamic: 100%|███████████████████████████████████████████████████████████| 9999/9999 [00:07<00:00, 1313.11it/s]"
     ]
    },
    {
     "name": "stdout",
     "output_type": "stream",
     "text": [
      "\n"
     ]
    },
    {
     "name": "stderr",
     "output_type": "stream",
     "text": [
      "\n"
     ]
    },
    {
     "data": {
      "application/vnd.jupyter.widget-view+json": {
       "model_id": "d0ef980070a24915bc6c136eea5a5a5c",
       "version_major": 2,
       "version_minor": 0
      },
      "text/plain": [
       "HBox(children=(FloatProgress(value=0.0, description='Making ensembles', max=2.0, style=ProgressStyle(descripti…"
      ]
     },
     "metadata": {},
     "output_type": "display_data"
    },
    {
     "name": "stderr",
     "output_type": "stream",
     "text": [
      "network dynamic: 100%|███████████████████████████████████████████████████████████| 9999/9999 [00:07<00:00, 1369.59it/s]\n",
      "network dynamic: 100%|███████████████████████████████████████████████████████████| 9999/9999 [00:07<00:00, 1371.93it/s]\n"
     ]
    },
    {
     "name": "stdout",
     "output_type": "stream",
     "text": [
      "\n"
     ]
    },
    {
     "data": {
      "application/vnd.jupyter.widget-view+json": {
       "model_id": "7d6c21e7681f4237965effbc710f6385",
       "version_major": 2,
       "version_minor": 0
      },
      "text/plain": [
       "HBox(children=(FloatProgress(value=0.0, description='Making ensembles', max=2.0, style=ProgressStyle(descripti…"
      ]
     },
     "metadata": {},
     "output_type": "display_data"
    },
    {
     "name": "stderr",
     "output_type": "stream",
     "text": [
      "network dynamic: 100%|███████████████████████████████████████████████████████████| 9999/9999 [00:07<00:00, 1373.40it/s]\n",
      "network dynamic: 100%|███████████████████████████████████████████████████████████| 9999/9999 [00:07<00:00, 1354.37it/s]"
     ]
    },
    {
     "name": "stdout",
     "output_type": "stream",
     "text": [
      "\n"
     ]
    },
    {
     "name": "stderr",
     "output_type": "stream",
     "text": [
      "\n"
     ]
    },
    {
     "data": {
      "application/vnd.jupyter.widget-view+json": {
       "model_id": "726c0a3f46b2427b9aae1ea8658f0cd6",
       "version_major": 2,
       "version_minor": 0
      },
      "text/plain": [
       "HBox(children=(FloatProgress(value=0.0, description='Making ensembles', max=2.0, style=ProgressStyle(descripti…"
      ]
     },
     "metadata": {},
     "output_type": "display_data"
    },
    {
     "name": "stderr",
     "output_type": "stream",
     "text": [
      "network dynamic: 100%|███████████████████████████████████████████████████████████| 9999/9999 [00:07<00:00, 1382.99it/s]\n",
      "network dynamic: 100%|███████████████████████████████████████████████████████████| 9999/9999 [00:08<00:00, 1204.55it/s]\n"
     ]
    },
    {
     "name": "stdout",
     "output_type": "stream",
     "text": [
      "\n"
     ]
    },
    {
     "data": {
      "application/vnd.jupyter.widget-view+json": {
       "model_id": "e797cf5b10334dd7b0c06f7e9d84d0b6",
       "version_major": 2,
       "version_minor": 0
      },
      "text/plain": [
       "HBox(children=(FloatProgress(value=0.0, description='Making ensembles', max=2.0, style=ProgressStyle(descripti…"
      ]
     },
     "metadata": {},
     "output_type": "display_data"
    },
    {
     "name": "stderr",
     "output_type": "stream",
     "text": [
      "network dynamic: 100%|███████████████████████████████████████████████████████████| 9999/9999 [00:07<00:00, 1268.85it/s]\n",
      "network dynamic: 100%|███████████████████████████████████████████████████████████| 9999/9999 [00:07<00:00, 1302.22it/s]\n"
     ]
    },
    {
     "name": "stdout",
     "output_type": "stream",
     "text": [
      "\n",
      "\n"
     ]
    },
    {
     "data": {
      "application/vnd.jupyter.widget-view+json": {
       "model_id": "6ca5e42e34cd43dc9c4e5a137da3aab6",
       "version_major": 2,
       "version_minor": 0
      },
      "text/plain": [
       "HBox(children=(FloatProgress(value=0.0, description='Variation of delay', max=13.0, style=ProgressStyle(descri…"
      ]
     },
     "metadata": {},
     "output_type": "display_data"
    },
    {
     "data": {
      "application/vnd.jupyter.widget-view+json": {
       "model_id": "cf71d4bf38cf4c3ebe304ebe08e85780",
       "version_major": 2,
       "version_minor": 0
      },
      "text/plain": [
       "HBox(children=(FloatProgress(value=0.0, description='Making ensembles', max=2.0, style=ProgressStyle(descripti…"
      ]
     },
     "metadata": {},
     "output_type": "display_data"
    },
    {
     "name": "stderr",
     "output_type": "stream",
     "text": [
      "network dynamic: 100%|███████████████████████████████████████████████████████████| 9999/9999 [00:07<00:00, 1335.69it/s]\n",
      "network dynamic: 100%|███████████████████████████████████████████████████████████| 9999/9999 [00:07<00:00, 1275.64it/s]"
     ]
    },
    {
     "name": "stdout",
     "output_type": "stream",
     "text": [
      "\n"
     ]
    },
    {
     "name": "stderr",
     "output_type": "stream",
     "text": [
      "\n"
     ]
    },
    {
     "data": {
      "application/vnd.jupyter.widget-view+json": {
       "model_id": "491c3e4610ba4632967e9ec41d61b754",
       "version_major": 2,
       "version_minor": 0
      },
      "text/plain": [
       "HBox(children=(FloatProgress(value=0.0, description='Making ensembles', max=2.0, style=ProgressStyle(descripti…"
      ]
     },
     "metadata": {},
     "output_type": "display_data"
    },
    {
     "name": "stderr",
     "output_type": "stream",
     "text": [
      "network dynamic: 100%|███████████████████████████████████████████████████████████| 9999/9999 [00:07<00:00, 1255.85it/s]\n",
      "network dynamic: 100%|████████████████████████████████████████████████████████████| 9999/9999 [00:10<00:00, 996.52it/s]\n"
     ]
    },
    {
     "name": "stdout",
     "output_type": "stream",
     "text": [
      "\n"
     ]
    },
    {
     "data": {
      "application/vnd.jupyter.widget-view+json": {
       "model_id": "1ea2b8d07b3045c08cf62cf71d78555e",
       "version_major": 2,
       "version_minor": 0
      },
      "text/plain": [
       "HBox(children=(FloatProgress(value=0.0, description='Making ensembles', max=2.0, style=ProgressStyle(descripti…"
      ]
     },
     "metadata": {},
     "output_type": "display_data"
    },
    {
     "name": "stderr",
     "output_type": "stream",
     "text": [
      "network dynamic: 100%|███████████████████████████████████████████████████████████| 9999/9999 [00:07<00:00, 1400.54it/s]\n",
      "network dynamic: 100%|███████████████████████████████████████████████████████████| 9999/9999 [00:08<00:00, 1212.87it/s]\n"
     ]
    },
    {
     "name": "stdout",
     "output_type": "stream",
     "text": [
      "\n"
     ]
    },
    {
     "data": {
      "application/vnd.jupyter.widget-view+json": {
       "model_id": "2f240d5a3bdc460a8b6a7a8a00a751c0",
       "version_major": 2,
       "version_minor": 0
      },
      "text/plain": [
       "HBox(children=(FloatProgress(value=0.0, description='Making ensembles', max=2.0, style=ProgressStyle(descripti…"
      ]
     },
     "metadata": {},
     "output_type": "display_data"
    },
    {
     "name": "stderr",
     "output_type": "stream",
     "text": [
      "network dynamic: 100%|███████████████████████████████████████████████████████████| 9999/9999 [00:07<00:00, 1290.74it/s]\n",
      "network dynamic: 100%|███████████████████████████████████████████████████████████| 9999/9999 [00:08<00:00, 1234.64it/s]\n"
     ]
    },
    {
     "name": "stdout",
     "output_type": "stream",
     "text": [
      "\n"
     ]
    },
    {
     "data": {
      "application/vnd.jupyter.widget-view+json": {
       "model_id": "5804c2fd683e4c61b1106354d867a2ef",
       "version_major": 2,
       "version_minor": 0
      },
      "text/plain": [
       "HBox(children=(FloatProgress(value=0.0, description='Making ensembles', max=2.0, style=ProgressStyle(descripti…"
      ]
     },
     "metadata": {},
     "output_type": "display_data"
    },
    {
     "name": "stderr",
     "output_type": "stream",
     "text": [
      "network dynamic: 100%|███████████████████████████████████████████████████████████| 9999/9999 [00:07<00:00, 1337.29it/s]\n",
      "network dynamic: 100%|███████████████████████████████████████████████████████████| 9999/9999 [00:08<00:00, 1230.33it/s]"
     ]
    },
    {
     "name": "stdout",
     "output_type": "stream",
     "text": [
      "\n"
     ]
    },
    {
     "name": "stderr",
     "output_type": "stream",
     "text": [
      "\n"
     ]
    },
    {
     "data": {
      "application/vnd.jupyter.widget-view+json": {
       "model_id": "20e03a39e61e40f4bff318ef9bc52e9f",
       "version_major": 2,
       "version_minor": 0
      },
      "text/plain": [
       "HBox(children=(FloatProgress(value=0.0, description='Making ensembles', max=2.0, style=ProgressStyle(descripti…"
      ]
     },
     "metadata": {},
     "output_type": "display_data"
    },
    {
     "name": "stderr",
     "output_type": "stream",
     "text": [
      "network dynamic: 100%|███████████████████████████████████████████████████████████| 9999/9999 [00:07<00:00, 1250.19it/s]\n",
      "network dynamic: 100%|███████████████████████████████████████████████████████████| 9999/9999 [00:06<00:00, 1449.46it/s]\n"
     ]
    },
    {
     "name": "stdout",
     "output_type": "stream",
     "text": [
      "\n"
     ]
    },
    {
     "data": {
      "application/vnd.jupyter.widget-view+json": {
       "model_id": "7d925dcb411349209b695958e5fce37f",
       "version_major": 2,
       "version_minor": 0
      },
      "text/plain": [
       "HBox(children=(FloatProgress(value=0.0, description='Making ensembles', max=2.0, style=ProgressStyle(descripti…"
      ]
     },
     "metadata": {},
     "output_type": "display_data"
    },
    {
     "name": "stderr",
     "output_type": "stream",
     "text": [
      "network dynamic: 100%|███████████████████████████████████████████████████████████| 9999/9999 [00:07<00:00, 1356.53it/s]\n",
      "network dynamic: 100%|███████████████████████████████████████████████████████████| 9999/9999 [00:07<00:00, 1325.49it/s]\n"
     ]
    },
    {
     "name": "stdout",
     "output_type": "stream",
     "text": [
      "\n"
     ]
    },
    {
     "data": {
      "application/vnd.jupyter.widget-view+json": {
       "model_id": "feb2a133af2341b980b1e15270bf0a26",
       "version_major": 2,
       "version_minor": 0
      },
      "text/plain": [
       "HBox(children=(FloatProgress(value=0.0, description='Making ensembles', max=2.0, style=ProgressStyle(descripti…"
      ]
     },
     "metadata": {},
     "output_type": "display_data"
    },
    {
     "name": "stderr",
     "output_type": "stream",
     "text": [
      "network dynamic: 100%|███████████████████████████████████████████████████████████| 9999/9999 [00:08<00:00, 1229.07it/s]\n",
      "network dynamic: 100%|███████████████████████████████████████████████████████████| 9999/9999 [00:07<00:00, 1285.38it/s]"
     ]
    },
    {
     "name": "stdout",
     "output_type": "stream",
     "text": [
      "\n"
     ]
    },
    {
     "name": "stderr",
     "output_type": "stream",
     "text": [
      "\n"
     ]
    },
    {
     "data": {
      "application/vnd.jupyter.widget-view+json": {
       "model_id": "29af6acb2029440b91229ce992b7be23",
       "version_major": 2,
       "version_minor": 0
      },
      "text/plain": [
       "HBox(children=(FloatProgress(value=0.0, description='Making ensembles', max=2.0, style=ProgressStyle(descripti…"
      ]
     },
     "metadata": {},
     "output_type": "display_data"
    },
    {
     "name": "stderr",
     "output_type": "stream",
     "text": [
      "network dynamic: 100%|███████████████████████████████████████████████████████████| 9999/9999 [00:07<00:00, 1289.59it/s]\n",
      "network dynamic: 100%|███████████████████████████████████████████████████████████| 9999/9999 [00:09<00:00, 1003.56it/s]\n"
     ]
    },
    {
     "name": "stdout",
     "output_type": "stream",
     "text": [
      "\n"
     ]
    },
    {
     "data": {
      "application/vnd.jupyter.widget-view+json": {
       "model_id": "ecad15b7f6d042ec92918872420153f1",
       "version_major": 2,
       "version_minor": 0
      },
      "text/plain": [
       "HBox(children=(FloatProgress(value=0.0, description='Making ensembles', max=2.0, style=ProgressStyle(descripti…"
      ]
     },
     "metadata": {},
     "output_type": "display_data"
    },
    {
     "name": "stderr",
     "output_type": "stream",
     "text": [
      "network dynamic: 100%|███████████████████████████████████████████████████████████| 9999/9999 [00:08<00:00, 1172.20it/s]\n",
      "network dynamic: 100%|███████████████████████████████████████████████████████████| 9999/9999 [00:07<00:00, 1305.78it/s]"
     ]
    },
    {
     "name": "stdout",
     "output_type": "stream",
     "text": [
      "\n"
     ]
    },
    {
     "name": "stderr",
     "output_type": "stream",
     "text": [
      "\n"
     ]
    },
    {
     "data": {
      "application/vnd.jupyter.widget-view+json": {
       "model_id": "930a44794b254b60a6b04ed0cd3bfad5",
       "version_major": 2,
       "version_minor": 0
      },
      "text/plain": [
       "HBox(children=(FloatProgress(value=0.0, description='Making ensembles', max=2.0, style=ProgressStyle(descripti…"
      ]
     },
     "metadata": {},
     "output_type": "display_data"
    },
    {
     "name": "stderr",
     "output_type": "stream",
     "text": [
      "network dynamic: 100%|███████████████████████████████████████████████████████████| 9999/9999 [00:08<00:00, 1210.63it/s]\n",
      "network dynamic: 100%|███████████████████████████████████████████████████████████| 9999/9999 [00:08<00:00, 1126.80it/s]"
     ]
    },
    {
     "name": "stdout",
     "output_type": "stream",
     "text": [
      "\n"
     ]
    },
    {
     "name": "stderr",
     "output_type": "stream",
     "text": [
      "\n"
     ]
    },
    {
     "data": {
      "application/vnd.jupyter.widget-view+json": {
       "model_id": "54d42b1d41ee4e2899ab7974528e5842",
       "version_major": 2,
       "version_minor": 0
      },
      "text/plain": [
       "HBox(children=(FloatProgress(value=0.0, description='Making ensembles', max=2.0, style=ProgressStyle(descripti…"
      ]
     },
     "metadata": {},
     "output_type": "display_data"
    },
    {
     "name": "stderr",
     "output_type": "stream",
     "text": [
      "network dynamic: 100%|███████████████████████████████████████████████████████████| 9999/9999 [00:07<00:00, 1291.72it/s]\n",
      "network dynamic: 100%|███████████████████████████████████████████████████████████| 9999/9999 [00:08<00:00, 1202.33it/s]"
     ]
    },
    {
     "name": "stdout",
     "output_type": "stream",
     "text": [
      "\n"
     ]
    },
    {
     "name": "stderr",
     "output_type": "stream",
     "text": [
      "\n"
     ]
    },
    {
     "data": {
      "application/vnd.jupyter.widget-view+json": {
       "model_id": "cb9964f5a2704ee1b15893a8182b2ff2",
       "version_major": 2,
       "version_minor": 0
      },
      "text/plain": [
       "HBox(children=(FloatProgress(value=0.0, description='Making ensembles', max=2.0, style=ProgressStyle(descripti…"
      ]
     },
     "metadata": {},
     "output_type": "display_data"
    },
    {
     "name": "stderr",
     "output_type": "stream",
     "text": [
      "network dynamic: 100%|███████████████████████████████████████████████████████████| 9999/9999 [00:07<00:00, 1349.28it/s]\n",
      "network dynamic: 100%|███████████████████████████████████████████████████████████| 9999/9999 [00:07<00:00, 1296.43it/s]\n"
     ]
    },
    {
     "name": "stdout",
     "output_type": "stream",
     "text": [
      "\n",
      "\n"
     ]
    },
    {
     "data": {
      "application/vnd.jupyter.widget-view+json": {
       "model_id": "f2f41398e0dd4330b72a4abb9ba34172",
       "version_major": 2,
       "version_minor": 0
      },
      "text/plain": [
       "HBox(children=(FloatProgress(value=0.0, description='Variation of delay', max=13.0, style=ProgressStyle(descri…"
      ]
     },
     "metadata": {},
     "output_type": "display_data"
    },
    {
     "data": {
      "application/vnd.jupyter.widget-view+json": {
       "model_id": "409a859d302543a1a635cf5522e315ba",
       "version_major": 2,
       "version_minor": 0
      },
      "text/plain": [
       "HBox(children=(FloatProgress(value=0.0, description='Making ensembles', max=2.0, style=ProgressStyle(descripti…"
      ]
     },
     "metadata": {},
     "output_type": "display_data"
    },
    {
     "name": "stderr",
     "output_type": "stream",
     "text": [
      "network dynamic: 100%|███████████████████████████████████████████████████████████| 9999/9999 [00:07<00:00, 1380.39it/s]\n",
      "network dynamic: 100%|███████████████████████████████████████████████████████████| 9999/9999 [00:07<00:00, 1361.17it/s]"
     ]
    },
    {
     "name": "stdout",
     "output_type": "stream",
     "text": [
      "\n"
     ]
    },
    {
     "name": "stderr",
     "output_type": "stream",
     "text": [
      "\n"
     ]
    },
    {
     "data": {
      "application/vnd.jupyter.widget-view+json": {
       "model_id": "ba0e2afa034f4d9e8646ea8f545be59e",
       "version_major": 2,
       "version_minor": 0
      },
      "text/plain": [
       "HBox(children=(FloatProgress(value=0.0, description='Making ensembles', max=2.0, style=ProgressStyle(descripti…"
      ]
     },
     "metadata": {},
     "output_type": "display_data"
    },
    {
     "name": "stderr",
     "output_type": "stream",
     "text": [
      "network dynamic: 100%|███████████████████████████████████████████████████████████| 9999/9999 [00:07<00:00, 1332.26it/s]\n",
      "network dynamic: 100%|███████████████████████████████████████████████████████████| 9999/9999 [00:07<00:00, 1323.13it/s]\n"
     ]
    },
    {
     "name": "stdout",
     "output_type": "stream",
     "text": [
      "\n"
     ]
    },
    {
     "data": {
      "application/vnd.jupyter.widget-view+json": {
       "model_id": "7c3308ee61ab4262988061fff8a68757",
       "version_major": 2,
       "version_minor": 0
      },
      "text/plain": [
       "HBox(children=(FloatProgress(value=0.0, description='Making ensembles', max=2.0, style=ProgressStyle(descripti…"
      ]
     },
     "metadata": {},
     "output_type": "display_data"
    },
    {
     "name": "stderr",
     "output_type": "stream",
     "text": [
      "network dynamic: 100%|███████████████████████████████████████████████████████████| 9999/9999 [00:07<00:00, 1328.64it/s]\n",
      "network dynamic: 100%|███████████████████████████████████████████████████████████| 9999/9999 [00:08<00:00, 1132.54it/s]\n"
     ]
    },
    {
     "name": "stdout",
     "output_type": "stream",
     "text": [
      "\n"
     ]
    },
    {
     "data": {
      "application/vnd.jupyter.widget-view+json": {
       "model_id": "5261b02e284b4b8992971aeb1c66a054",
       "version_major": 2,
       "version_minor": 0
      },
      "text/plain": [
       "HBox(children=(FloatProgress(value=0.0, description='Making ensembles', max=2.0, style=ProgressStyle(descripti…"
      ]
     },
     "metadata": {},
     "output_type": "display_data"
    },
    {
     "name": "stderr",
     "output_type": "stream",
     "text": [
      "network dynamic: 100%|███████████████████████████████████████████████████████████| 9999/9999 [00:07<00:00, 1302.65it/s]\n",
      "network dynamic: 100%|███████████████████████████████████████████████████████████| 9999/9999 [00:06<00:00, 1498.66it/s]\n"
     ]
    },
    {
     "name": "stdout",
     "output_type": "stream",
     "text": [
      "\n"
     ]
    },
    {
     "data": {
      "application/vnd.jupyter.widget-view+json": {
       "model_id": "963faee4698941d2bde94bad9aa048e8",
       "version_major": 2,
       "version_minor": 0
      },
      "text/plain": [
       "HBox(children=(FloatProgress(value=0.0, description='Making ensembles', max=2.0, style=ProgressStyle(descripti…"
      ]
     },
     "metadata": {},
     "output_type": "display_data"
    },
    {
     "name": "stderr",
     "output_type": "stream",
     "text": [
      "network dynamic: 100%|███████████████████████████████████████████████████████████| 9999/9999 [00:07<00:00, 1407.69it/s]\n",
      "network dynamic: 100%|███████████████████████████████████████████████████████████| 9999/9999 [00:07<00:00, 1417.30it/s]\n"
     ]
    },
    {
     "name": "stdout",
     "output_type": "stream",
     "text": [
      "\n"
     ]
    },
    {
     "data": {
      "application/vnd.jupyter.widget-view+json": {
       "model_id": "659a421a094043289d65d74973288eaa",
       "version_major": 2,
       "version_minor": 0
      },
      "text/plain": [
       "HBox(children=(FloatProgress(value=0.0, description='Making ensembles', max=2.0, style=ProgressStyle(descripti…"
      ]
     },
     "metadata": {},
     "output_type": "display_data"
    },
    {
     "name": "stderr",
     "output_type": "stream",
     "text": [
      "network dynamic: 100%|███████████████████████████████████████████████████████████| 9999/9999 [00:07<00:00, 1258.78it/s]\n",
      "network dynamic: 100%|███████████████████████████████████████████████████████████| 9999/9999 [00:08<00:00, 1155.86it/s]"
     ]
    },
    {
     "name": "stdout",
     "output_type": "stream",
     "text": [
      "\n"
     ]
    },
    {
     "name": "stderr",
     "output_type": "stream",
     "text": [
      "\n"
     ]
    },
    {
     "data": {
      "application/vnd.jupyter.widget-view+json": {
       "model_id": "66549ccd1ba04e9ba249db6a0e9d174a",
       "version_major": 2,
       "version_minor": 0
      },
      "text/plain": [
       "HBox(children=(FloatProgress(value=0.0, description='Making ensembles', max=2.0, style=ProgressStyle(descripti…"
      ]
     },
     "metadata": {},
     "output_type": "display_data"
    },
    {
     "name": "stderr",
     "output_type": "stream",
     "text": [
      "network dynamic: 100%|███████████████████████████████████████████████████████████| 9999/9999 [00:07<00:00, 1325.00it/s]\n",
      "network dynamic: 100%|███████████████████████████████████████████████████████████| 9999/9999 [00:08<00:00, 1204.45it/s]"
     ]
    },
    {
     "name": "stdout",
     "output_type": "stream",
     "text": [
      "\n"
     ]
    },
    {
     "name": "stderr",
     "output_type": "stream",
     "text": [
      "\n"
     ]
    },
    {
     "data": {
      "application/vnd.jupyter.widget-view+json": {
       "model_id": "813b53a0b17142d7b30347d22860f139",
       "version_major": 2,
       "version_minor": 0
      },
      "text/plain": [
       "HBox(children=(FloatProgress(value=0.0, description='Making ensembles', max=2.0, style=ProgressStyle(descripti…"
      ]
     },
     "metadata": {},
     "output_type": "display_data"
    },
    {
     "name": "stderr",
     "output_type": "stream",
     "text": [
      "network dynamic: 100%|███████████████████████████████████████████████████████████| 9999/9999 [00:08<00:00, 1134.65it/s]\n",
      "network dynamic: 100%|████████████████████████████████████████████████████████████| 9999/9999 [00:10<00:00, 915.76it/s]\n"
     ]
    },
    {
     "name": "stdout",
     "output_type": "stream",
     "text": [
      "\n"
     ]
    },
    {
     "data": {
      "application/vnd.jupyter.widget-view+json": {
       "model_id": "20a2f562b0a148a3b9428f2ee53d232c",
       "version_major": 2,
       "version_minor": 0
      },
      "text/plain": [
       "HBox(children=(FloatProgress(value=0.0, description='Making ensembles', max=2.0, style=ProgressStyle(descripti…"
      ]
     },
     "metadata": {},
     "output_type": "display_data"
    },
    {
     "name": "stderr",
     "output_type": "stream",
     "text": [
      "network dynamic: 100%|███████████████████████████████████████████████████████████| 9999/9999 [00:07<00:00, 1282.59it/s]\n",
      "network dynamic: 100%|███████████████████████████████████████████████████████████| 9999/9999 [00:09<00:00, 1092.01it/s]\n"
     ]
    },
    {
     "name": "stdout",
     "output_type": "stream",
     "text": [
      "\n"
     ]
    },
    {
     "data": {
      "application/vnd.jupyter.widget-view+json": {
       "model_id": "0543296b297046cabf5f64a7c1a94131",
       "version_major": 2,
       "version_minor": 0
      },
      "text/plain": [
       "HBox(children=(FloatProgress(value=0.0, description='Making ensembles', max=2.0, style=ProgressStyle(descripti…"
      ]
     },
     "metadata": {},
     "output_type": "display_data"
    },
    {
     "name": "stderr",
     "output_type": "stream",
     "text": [
      "network dynamic: 100%|███████████████████████████████████████████████████████████| 9999/9999 [00:07<00:00, 1392.20it/s]\n",
      "network dynamic: 100%|███████████████████████████████████████████████████████████| 9999/9999 [00:07<00:00, 1313.47it/s]\n"
     ]
    },
    {
     "name": "stdout",
     "output_type": "stream",
     "text": [
      "\n"
     ]
    },
    {
     "data": {
      "application/vnd.jupyter.widget-view+json": {
       "model_id": "fdaca3bb63c44b5598b88d51201163d0",
       "version_major": 2,
       "version_minor": 0
      },
      "text/plain": [
       "HBox(children=(FloatProgress(value=0.0, description='Making ensembles', max=2.0, style=ProgressStyle(descripti…"
      ]
     },
     "metadata": {},
     "output_type": "display_data"
    },
    {
     "name": "stderr",
     "output_type": "stream",
     "text": [
      "network dynamic: 100%|███████████████████████████████████████████████████████████| 9999/9999 [00:07<00:00, 1386.59it/s]\n",
      "network dynamic: 100%|███████████████████████████████████████████████████████████| 9999/9999 [00:07<00:00, 1341.09it/s]\n"
     ]
    },
    {
     "name": "stdout",
     "output_type": "stream",
     "text": [
      "\n"
     ]
    },
    {
     "data": {
      "application/vnd.jupyter.widget-view+json": {
       "model_id": "3db3a0d95cf443a39f48e30906e67f1e",
       "version_major": 2,
       "version_minor": 0
      },
      "text/plain": [
       "HBox(children=(FloatProgress(value=0.0, description='Making ensembles', max=2.0, style=ProgressStyle(descripti…"
      ]
     },
     "metadata": {},
     "output_type": "display_data"
    },
    {
     "name": "stderr",
     "output_type": "stream",
     "text": [
      "network dynamic: 100%|███████████████████████████████████████████████████████████| 9999/9999 [00:08<00:00, 1114.19it/s]\n",
      "network dynamic: 100%|███████████████████████████████████████████████████████████| 9999/9999 [00:08<00:00, 1188.81it/s]\n"
     ]
    },
    {
     "name": "stdout",
     "output_type": "stream",
     "text": [
      "\n"
     ]
    },
    {
     "data": {
      "application/vnd.jupyter.widget-view+json": {
       "model_id": "0eb037c6590b4baca86031ec88c9ec84",
       "version_major": 2,
       "version_minor": 0
      },
      "text/plain": [
       "HBox(children=(FloatProgress(value=0.0, description='Making ensembles', max=2.0, style=ProgressStyle(descripti…"
      ]
     },
     "metadata": {},
     "output_type": "display_data"
    },
    {
     "name": "stderr",
     "output_type": "stream",
     "text": [
      "network dynamic: 100%|███████████████████████████████████████████████████████████| 9999/9999 [00:09<00:00, 1089.42it/s]\n",
      "network dynamic: 100%|███████████████████████████████████████████████████████████| 9999/9999 [00:08<00:00, 1169.15it/s]"
     ]
    },
    {
     "name": "stdout",
     "output_type": "stream",
     "text": [
      "\n",
      "\n"
     ]
    },
    {
     "name": "stderr",
     "output_type": "stream",
     "text": [
      "\n"
     ]
    },
    {
     "data": {
      "application/vnd.jupyter.widget-view+json": {
       "model_id": "65c4b2a2419f48888a33f9007b28479e",
       "version_major": 2,
       "version_minor": 0
      },
      "text/plain": [
       "HBox(children=(FloatProgress(value=0.0, description='Variation of delay', max=13.0, style=ProgressStyle(descri…"
      ]
     },
     "metadata": {},
     "output_type": "display_data"
    },
    {
     "data": {
      "application/vnd.jupyter.widget-view+json": {
       "model_id": "3dc2bae2c4634c188393fc425e4734ee",
       "version_major": 2,
       "version_minor": 0
      },
      "text/plain": [
       "HBox(children=(FloatProgress(value=0.0, description='Making ensembles', max=2.0, style=ProgressStyle(descripti…"
      ]
     },
     "metadata": {},
     "output_type": "display_data"
    },
    {
     "name": "stderr",
     "output_type": "stream",
     "text": [
      "network dynamic: 100%|███████████████████████████████████████████████████████████| 9999/9999 [00:08<00:00, 1174.15it/s]\n",
      "network dynamic: 100%|███████████████████████████████████████████████████████████| 9999/9999 [00:06<00:00, 1456.73it/s]\n"
     ]
    },
    {
     "name": "stdout",
     "output_type": "stream",
     "text": [
      "\n"
     ]
    },
    {
     "data": {
      "application/vnd.jupyter.widget-view+json": {
       "model_id": "5809446e2f4f45038eb866d6878e2559",
       "version_major": 2,
       "version_minor": 0
      },
      "text/plain": [
       "HBox(children=(FloatProgress(value=0.0, description='Making ensembles', max=2.0, style=ProgressStyle(descripti…"
      ]
     },
     "metadata": {},
     "output_type": "display_data"
    },
    {
     "name": "stderr",
     "output_type": "stream",
     "text": [
      "network dynamic: 100%|███████████████████████████████████████████████████████████| 9999/9999 [00:06<00:00, 1470.14it/s]\n",
      "network dynamic: 100%|███████████████████████████████████████████████████████████| 9999/9999 [00:09<00:00, 1090.19it/s]\n"
     ]
    },
    {
     "name": "stdout",
     "output_type": "stream",
     "text": [
      "\n"
     ]
    },
    {
     "data": {
      "application/vnd.jupyter.widget-view+json": {
       "model_id": "de9da752292346e7b1eebe6e8a47f713",
       "version_major": 2,
       "version_minor": 0
      },
      "text/plain": [
       "HBox(children=(FloatProgress(value=0.0, description='Making ensembles', max=2.0, style=ProgressStyle(descripti…"
      ]
     },
     "metadata": {},
     "output_type": "display_data"
    },
    {
     "name": "stderr",
     "output_type": "stream",
     "text": [
      "network dynamic: 100%|████████████████████████████████████████████████████████████| 9999/9999 [00:10<00:00, 997.07it/s]\n",
      "network dynamic: 100%|███████████████████████████████████████████████████████████| 9999/9999 [00:07<00:00, 1295.32it/s]\n"
     ]
    },
    {
     "name": "stdout",
     "output_type": "stream",
     "text": [
      "\n"
     ]
    },
    {
     "data": {
      "application/vnd.jupyter.widget-view+json": {
       "model_id": "670be76323e34fea9eb6ab93b8b98ef7",
       "version_major": 2,
       "version_minor": 0
      },
      "text/plain": [
       "HBox(children=(FloatProgress(value=0.0, description='Making ensembles', max=2.0, style=ProgressStyle(descripti…"
      ]
     },
     "metadata": {},
     "output_type": "display_data"
    },
    {
     "name": "stderr",
     "output_type": "stream",
     "text": [
      "network dynamic: 100%|███████████████████████████████████████████████████████████| 9999/9999 [00:06<00:00, 1499.11it/s]\n",
      "network dynamic: 100%|███████████████████████████████████████████████████████████| 9999/9999 [00:06<00:00, 1438.20it/s]\n"
     ]
    },
    {
     "name": "stdout",
     "output_type": "stream",
     "text": [
      "\n"
     ]
    },
    {
     "data": {
      "application/vnd.jupyter.widget-view+json": {
       "model_id": "4166be7b32244948bdbfd06466aa6c7d",
       "version_major": 2,
       "version_minor": 0
      },
      "text/plain": [
       "HBox(children=(FloatProgress(value=0.0, description='Making ensembles', max=2.0, style=ProgressStyle(descripti…"
      ]
     },
     "metadata": {},
     "output_type": "display_data"
    },
    {
     "name": "stderr",
     "output_type": "stream",
     "text": [
      "network dynamic: 100%|███████████████████████████████████████████████████████████| 9999/9999 [00:07<00:00, 1256.28it/s]\n",
      "network dynamic: 100%|███████████████████████████████████████████████████████████| 9999/9999 [00:08<00:00, 1222.48it/s]\n"
     ]
    },
    {
     "name": "stdout",
     "output_type": "stream",
     "text": [
      "\n"
     ]
    },
    {
     "data": {
      "application/vnd.jupyter.widget-view+json": {
       "model_id": "fb874326522546ba9a3d2b747a8966c3",
       "version_major": 2,
       "version_minor": 0
      },
      "text/plain": [
       "HBox(children=(FloatProgress(value=0.0, description='Making ensembles', max=2.0, style=ProgressStyle(descripti…"
      ]
     },
     "metadata": {},
     "output_type": "display_data"
    },
    {
     "name": "stderr",
     "output_type": "stream",
     "text": [
      "network dynamic: 100%|███████████████████████████████████████████████████████████| 9999/9999 [00:09<00:00, 1079.01it/s]\n",
      "network dynamic: 100%|███████████████████████████████████████████████████████████| 9999/9999 [00:07<00:00, 1339.59it/s]"
     ]
    },
    {
     "name": "stdout",
     "output_type": "stream",
     "text": [
      "\n"
     ]
    },
    {
     "name": "stderr",
     "output_type": "stream",
     "text": [
      "\n"
     ]
    },
    {
     "data": {
      "application/vnd.jupyter.widget-view+json": {
       "model_id": "5abbe37276df49f185c6f5ce44300d88",
       "version_major": 2,
       "version_minor": 0
      },
      "text/plain": [
       "HBox(children=(FloatProgress(value=0.0, description='Making ensembles', max=2.0, style=ProgressStyle(descripti…"
      ]
     },
     "metadata": {},
     "output_type": "display_data"
    },
    {
     "name": "stderr",
     "output_type": "stream",
     "text": [
      "network dynamic: 100%|███████████████████████████████████████████████████████████| 9999/9999 [00:06<00:00, 1444.55it/s]\n",
      "network dynamic: 100%|███████████████████████████████████████████████████████████| 9999/9999 [00:06<00:00, 1439.03it/s]\n"
     ]
    },
    {
     "name": "stdout",
     "output_type": "stream",
     "text": [
      "\n"
     ]
    },
    {
     "data": {
      "application/vnd.jupyter.widget-view+json": {
       "model_id": "09ac980b62394c7ebc6afdd87c8f2350",
       "version_major": 2,
       "version_minor": 0
      },
      "text/plain": [
       "HBox(children=(FloatProgress(value=0.0, description='Making ensembles', max=2.0, style=ProgressStyle(descripti…"
      ]
     },
     "metadata": {},
     "output_type": "display_data"
    },
    {
     "name": "stderr",
     "output_type": "stream",
     "text": [
      "network dynamic: 100%|███████████████████████████████████████████████████████████| 9999/9999 [00:07<00:00, 1349.18it/s]\n",
      "network dynamic: 100%|███████████████████████████████████████████████████████████| 9999/9999 [00:07<00:00, 1309.74it/s]"
     ]
    },
    {
     "name": "stdout",
     "output_type": "stream",
     "text": [
      "\n"
     ]
    },
    {
     "name": "stderr",
     "output_type": "stream",
     "text": [
      "\n"
     ]
    },
    {
     "data": {
      "application/vnd.jupyter.widget-view+json": {
       "model_id": "80013019e2404add9fccaa7f1498c4a0",
       "version_major": 2,
       "version_minor": 0
      },
      "text/plain": [
       "HBox(children=(FloatProgress(value=0.0, description='Making ensembles', max=2.0, style=ProgressStyle(descripti…"
      ]
     },
     "metadata": {},
     "output_type": "display_data"
    },
    {
     "name": "stderr",
     "output_type": "stream",
     "text": [
      "network dynamic: 100%|███████████████████████████████████████████████████████████| 9999/9999 [00:07<00:00, 1260.20it/s]\n",
      "network dynamic: 100%|███████████████████████████████████████████████████████████| 9999/9999 [00:08<00:00, 1196.62it/s]\n"
     ]
    },
    {
     "name": "stdout",
     "output_type": "stream",
     "text": [
      "\n"
     ]
    },
    {
     "data": {
      "application/vnd.jupyter.widget-view+json": {
       "model_id": "c91e4f30f5d542798c6374f9d3fc3276",
       "version_major": 2,
       "version_minor": 0
      },
      "text/plain": [
       "HBox(children=(FloatProgress(value=0.0, description='Making ensembles', max=2.0, style=ProgressStyle(descripti…"
      ]
     },
     "metadata": {},
     "output_type": "display_data"
    },
    {
     "name": "stderr",
     "output_type": "stream",
     "text": [
      "network dynamic: 100%|███████████████████████████████████████████████████████████| 9999/9999 [00:08<00:00, 1197.64it/s]\n",
      "network dynamic: 100%|███████████████████████████████████████████████████████████| 9999/9999 [00:08<00:00, 1203.37it/s]\n"
     ]
    },
    {
     "name": "stdout",
     "output_type": "stream",
     "text": [
      "\n"
     ]
    },
    {
     "data": {
      "application/vnd.jupyter.widget-view+json": {
       "model_id": "a97fec9f8d594c4099ee169a6461f17e",
       "version_major": 2,
       "version_minor": 0
      },
      "text/plain": [
       "HBox(children=(FloatProgress(value=0.0, description='Making ensembles', max=2.0, style=ProgressStyle(descripti…"
      ]
     },
     "metadata": {},
     "output_type": "display_data"
    },
    {
     "name": "stderr",
     "output_type": "stream",
     "text": [
      "network dynamic: 100%|███████████████████████████████████████████████████████████| 9999/9999 [00:08<00:00, 1205.20it/s]\n",
      "network dynamic: 100%|███████████████████████████████████████████████████████████| 9999/9999 [00:07<00:00, 1266.71it/s]\n"
     ]
    },
    {
     "name": "stdout",
     "output_type": "stream",
     "text": [
      "\n"
     ]
    },
    {
     "data": {
      "application/vnd.jupyter.widget-view+json": {
       "model_id": "bacbfe678f62424cbcb1c6de2eb9beea",
       "version_major": 2,
       "version_minor": 0
      },
      "text/plain": [
       "HBox(children=(FloatProgress(value=0.0, description='Making ensembles', max=2.0, style=ProgressStyle(descripti…"
      ]
     },
     "metadata": {},
     "output_type": "display_data"
    },
    {
     "name": "stderr",
     "output_type": "stream",
     "text": [
      "network dynamic: 100%|███████████████████████████████████████████████████████████| 9999/9999 [00:07<00:00, 1397.35it/s]\n",
      "network dynamic: 100%|███████████████████████████████████████████████████████████| 9999/9999 [00:08<00:00, 1190.29it/s]\n"
     ]
    },
    {
     "name": "stdout",
     "output_type": "stream",
     "text": [
      "\n"
     ]
    },
    {
     "data": {
      "application/vnd.jupyter.widget-view+json": {
       "model_id": "abfe6eaca0a24fbd99d544ebdf6d943c",
       "version_major": 2,
       "version_minor": 0
      },
      "text/plain": [
       "HBox(children=(FloatProgress(value=0.0, description='Making ensembles', max=2.0, style=ProgressStyle(descripti…"
      ]
     },
     "metadata": {},
     "output_type": "display_data"
    },
    {
     "name": "stderr",
     "output_type": "stream",
     "text": [
      "network dynamic: 100%|███████████████████████████████████████████████████████████| 9999/9999 [00:08<00:00, 1201.49it/s]\n",
      "network dynamic: 100%|███████████████████████████████████████████████████████████| 9999/9999 [00:07<00:00, 1254.43it/s]\n"
     ]
    },
    {
     "name": "stdout",
     "output_type": "stream",
     "text": [
      "\n",
      "\n"
     ]
    },
    {
     "data": {
      "application/vnd.jupyter.widget-view+json": {
       "model_id": "7d19296332ac4079be3097cb6ca4cab9",
       "version_major": 2,
       "version_minor": 0
      },
      "text/plain": [
       "HBox(children=(FloatProgress(value=0.0, description='Variation of delay', max=13.0, style=ProgressStyle(descri…"
      ]
     },
     "metadata": {},
     "output_type": "display_data"
    },
    {
     "data": {
      "application/vnd.jupyter.widget-view+json": {
       "model_id": "603133f0f8d1451f99910bdaa5b04715",
       "version_major": 2,
       "version_minor": 0
      },
      "text/plain": [
       "HBox(children=(FloatProgress(value=0.0, description='Making ensembles', max=2.0, style=ProgressStyle(descripti…"
      ]
     },
     "metadata": {},
     "output_type": "display_data"
    },
    {
     "name": "stderr",
     "output_type": "stream",
     "text": [
      "network dynamic: 100%|███████████████████████████████████████████████████████████| 9999/9999 [00:08<00:00, 1249.17it/s]\n",
      "network dynamic: 100%|███████████████████████████████████████████████████████████| 9999/9999 [00:08<00:00, 1241.75it/s]"
     ]
    },
    {
     "name": "stdout",
     "output_type": "stream",
     "text": [
      "\n"
     ]
    },
    {
     "name": "stderr",
     "output_type": "stream",
     "text": [
      "\n"
     ]
    },
    {
     "data": {
      "application/vnd.jupyter.widget-view+json": {
       "model_id": "44b2e1bd05944a329410eda1ebdcd4cb",
       "version_major": 2,
       "version_minor": 0
      },
      "text/plain": [
       "HBox(children=(FloatProgress(value=0.0, description='Making ensembles', max=2.0, style=ProgressStyle(descripti…"
      ]
     },
     "metadata": {},
     "output_type": "display_data"
    },
    {
     "name": "stderr",
     "output_type": "stream",
     "text": [
      "network dynamic: 100%|███████████████████████████████████████████████████████████| 9999/9999 [00:08<00:00, 1115.82it/s]\n",
      "network dynamic: 100%|███████████████████████████████████████████████████████████| 9999/9999 [00:07<00:00, 1265.22it/s]"
     ]
    },
    {
     "name": "stdout",
     "output_type": "stream",
     "text": [
      "\n"
     ]
    },
    {
     "name": "stderr",
     "output_type": "stream",
     "text": [
      "\n"
     ]
    },
    {
     "data": {
      "application/vnd.jupyter.widget-view+json": {
       "model_id": "77d1a6cbf1414ef5ad19c765beebb2be",
       "version_major": 2,
       "version_minor": 0
      },
      "text/plain": [
       "HBox(children=(FloatProgress(value=0.0, description='Making ensembles', max=2.0, style=ProgressStyle(descripti…"
      ]
     },
     "metadata": {},
     "output_type": "display_data"
    },
    {
     "name": "stderr",
     "output_type": "stream",
     "text": [
      "network dynamic: 100%|███████████████████████████████████████████████████████████| 9999/9999 [00:08<00:00, 1155.44it/s]\n",
      "network dynamic: 100%|███████████████████████████████████████████████████████████| 9999/9999 [00:07<00:00, 1341.77it/s]\n"
     ]
    },
    {
     "name": "stdout",
     "output_type": "stream",
     "text": [
      "\n"
     ]
    },
    {
     "data": {
      "application/vnd.jupyter.widget-view+json": {
       "model_id": "be82d77daf674c769abbc26c56daafee",
       "version_major": 2,
       "version_minor": 0
      },
      "text/plain": [
       "HBox(children=(FloatProgress(value=0.0, description='Making ensembles', max=2.0, style=ProgressStyle(descripti…"
      ]
     },
     "metadata": {},
     "output_type": "display_data"
    },
    {
     "name": "stderr",
     "output_type": "stream",
     "text": [
      "network dynamic: 100%|███████████████████████████████████████████████████████████| 9999/9999 [00:08<00:00, 1154.42it/s]\n",
      "network dynamic: 100%|███████████████████████████████████████████████████████████| 9999/9999 [00:06<00:00, 1439.79it/s]\n"
     ]
    },
    {
     "name": "stdout",
     "output_type": "stream",
     "text": [
      "\n"
     ]
    },
    {
     "data": {
      "application/vnd.jupyter.widget-view+json": {
       "model_id": "31015c8d61a44582b4ae7c98563a88e8",
       "version_major": 2,
       "version_minor": 0
      },
      "text/plain": [
       "HBox(children=(FloatProgress(value=0.0, description='Making ensembles', max=2.0, style=ProgressStyle(descripti…"
      ]
     },
     "metadata": {},
     "output_type": "display_data"
    },
    {
     "name": "stderr",
     "output_type": "stream",
     "text": [
      "network dynamic: 100%|███████████████████████████████████████████████████████████| 9999/9999 [00:07<00:00, 1361.18it/s]\n",
      "network dynamic: 100%|███████████████████████████████████████████████████████████| 9999/9999 [00:08<00:00, 1235.42it/s]"
     ]
    },
    {
     "name": "stdout",
     "output_type": "stream",
     "text": [
      "\n"
     ]
    },
    {
     "name": "stderr",
     "output_type": "stream",
     "text": [
      "\n"
     ]
    },
    {
     "data": {
      "application/vnd.jupyter.widget-view+json": {
       "model_id": "f3414dd1a48240cb8d85f12dfe291594",
       "version_major": 2,
       "version_minor": 0
      },
      "text/plain": [
       "HBox(children=(FloatProgress(value=0.0, description='Making ensembles', max=2.0, style=ProgressStyle(descripti…"
      ]
     },
     "metadata": {},
     "output_type": "display_data"
    },
    {
     "name": "stderr",
     "output_type": "stream",
     "text": [
      "network dynamic: 100%|███████████████████████████████████████████████████████████| 9999/9999 [00:07<00:00, 1313.54it/s]\n",
      "network dynamic: 100%|███████████████████████████████████████████████████████████| 9999/9999 [00:08<00:00, 1136.90it/s]"
     ]
    },
    {
     "name": "stdout",
     "output_type": "stream",
     "text": [
      "\n"
     ]
    },
    {
     "name": "stderr",
     "output_type": "stream",
     "text": [
      "\n"
     ]
    },
    {
     "data": {
      "application/vnd.jupyter.widget-view+json": {
       "model_id": "ed37ab6609644194b7f8026aab2218c0",
       "version_major": 2,
       "version_minor": 0
      },
      "text/plain": [
       "HBox(children=(FloatProgress(value=0.0, description='Making ensembles', max=2.0, style=ProgressStyle(descripti…"
      ]
     },
     "metadata": {},
     "output_type": "display_data"
    },
    {
     "name": "stderr",
     "output_type": "stream",
     "text": [
      "network dynamic: 100%|███████████████████████████████████████████████████████████| 9999/9999 [00:08<00:00, 1239.81it/s]\n",
      "network dynamic: 100%|███████████████████████████████████████████████████████████| 9999/9999 [00:06<00:00, 1461.78it/s]"
     ]
    },
    {
     "name": "stdout",
     "output_type": "stream",
     "text": [
      "\n"
     ]
    },
    {
     "name": "stderr",
     "output_type": "stream",
     "text": [
      "\n"
     ]
    },
    {
     "data": {
      "application/vnd.jupyter.widget-view+json": {
       "model_id": "fa4003a656ba41bcb3eccbfc2062cb72",
       "version_major": 2,
       "version_minor": 0
      },
      "text/plain": [
       "HBox(children=(FloatProgress(value=0.0, description='Making ensembles', max=2.0, style=ProgressStyle(descripti…"
      ]
     },
     "metadata": {},
     "output_type": "display_data"
    },
    {
     "name": "stderr",
     "output_type": "stream",
     "text": [
      "network dynamic: 100%|███████████████████████████████████████████████████████████| 9999/9999 [00:06<00:00, 1434.74it/s]\n",
      "network dynamic: 100%|███████████████████████████████████████████████████████████| 9999/9999 [00:07<00:00, 1313.23it/s]"
     ]
    },
    {
     "name": "stdout",
     "output_type": "stream",
     "text": [
      "\n"
     ]
    },
    {
     "name": "stderr",
     "output_type": "stream",
     "text": [
      "\n"
     ]
    },
    {
     "data": {
      "application/vnd.jupyter.widget-view+json": {
       "model_id": "ddf7fdec2bbd4fee96a55f1d8b01a843",
       "version_major": 2,
       "version_minor": 0
      },
      "text/plain": [
       "HBox(children=(FloatProgress(value=0.0, description='Making ensembles', max=2.0, style=ProgressStyle(descripti…"
      ]
     },
     "metadata": {},
     "output_type": "display_data"
    },
    {
     "name": "stderr",
     "output_type": "stream",
     "text": [
      "network dynamic: 100%|███████████████████████████████████████████████████████████| 9999/9999 [00:08<00:00, 1229.13it/s]\n",
      "network dynamic: 100%|███████████████████████████████████████████████████████████| 9999/9999 [00:07<00:00, 1334.65it/s]"
     ]
    },
    {
     "name": "stdout",
     "output_type": "stream",
     "text": [
      "\n"
     ]
    },
    {
     "name": "stderr",
     "output_type": "stream",
     "text": [
      "\n"
     ]
    },
    {
     "data": {
      "application/vnd.jupyter.widget-view+json": {
       "model_id": "dafa37b88ebb4b1ca380bb8a8bb7172f",
       "version_major": 2,
       "version_minor": 0
      },
      "text/plain": [
       "HBox(children=(FloatProgress(value=0.0, description='Making ensembles', max=2.0, style=ProgressStyle(descripti…"
      ]
     },
     "metadata": {},
     "output_type": "display_data"
    },
    {
     "name": "stderr",
     "output_type": "stream",
     "text": [
      "network dynamic: 100%|███████████████████████████████████████████████████████████| 9999/9999 [00:08<00:00, 1225.92it/s]\n",
      "network dynamic: 100%|███████████████████████████████████████████████████████████| 9999/9999 [00:08<00:00, 1220.89it/s]"
     ]
    },
    {
     "name": "stdout",
     "output_type": "stream",
     "text": [
      "\n"
     ]
    },
    {
     "name": "stderr",
     "output_type": "stream",
     "text": [
      "\n"
     ]
    },
    {
     "data": {
      "application/vnd.jupyter.widget-view+json": {
       "model_id": "c617b5c7dec84c97b66827e75119f6d4",
       "version_major": 2,
       "version_minor": 0
      },
      "text/plain": [
       "HBox(children=(FloatProgress(value=0.0, description='Making ensembles', max=2.0, style=ProgressStyle(descripti…"
      ]
     },
     "metadata": {},
     "output_type": "display_data"
    },
    {
     "name": "stderr",
     "output_type": "stream",
     "text": [
      "network dynamic: 100%|███████████████████████████████████████████████████████████| 9999/9999 [00:07<00:00, 1310.31it/s]\n",
      "network dynamic: 100%|███████████████████████████████████████████████████████████| 9999/9999 [00:07<00:00, 1321.49it/s]\n"
     ]
    },
    {
     "name": "stdout",
     "output_type": "stream",
     "text": [
      "\n"
     ]
    },
    {
     "data": {
      "application/vnd.jupyter.widget-view+json": {
       "model_id": "0dbb4b4b176a45e3a43e27f32a57da8b",
       "version_major": 2,
       "version_minor": 0
      },
      "text/plain": [
       "HBox(children=(FloatProgress(value=0.0, description='Making ensembles', max=2.0, style=ProgressStyle(descripti…"
      ]
     },
     "metadata": {},
     "output_type": "display_data"
    },
    {
     "name": "stderr",
     "output_type": "stream",
     "text": [
      "network dynamic: 100%|███████████████████████████████████████████████████████████| 9999/9999 [00:07<00:00, 1297.48it/s]\n",
      "network dynamic: 100%|███████████████████████████████████████████████████████████| 9999/9999 [00:08<00:00, 1147.34it/s]"
     ]
    },
    {
     "name": "stdout",
     "output_type": "stream",
     "text": [
      "\n"
     ]
    },
    {
     "name": "stderr",
     "output_type": "stream",
     "text": [
      "\n"
     ]
    },
    {
     "data": {
      "application/vnd.jupyter.widget-view+json": {
       "model_id": "baa40ac06ff54f94924e87bc322b0b68",
       "version_major": 2,
       "version_minor": 0
      },
      "text/plain": [
       "HBox(children=(FloatProgress(value=0.0, description='Making ensembles', max=2.0, style=ProgressStyle(descripti…"
      ]
     },
     "metadata": {},
     "output_type": "display_data"
    },
    {
     "name": "stderr",
     "output_type": "stream",
     "text": [
      "network dynamic: 100%|███████████████████████████████████████████████████████████| 9999/9999 [00:08<00:00, 1122.40it/s]\n",
      "network dynamic: 100%|███████████████████████████████████████████████████████████| 9999/9999 [00:07<00:00, 1300.38it/s]"
     ]
    },
    {
     "name": "stdout",
     "output_type": "stream",
     "text": [
      "\n",
      "\n"
     ]
    },
    {
     "name": "stderr",
     "output_type": "stream",
     "text": [
      "\n"
     ]
    },
    {
     "data": {
      "application/vnd.jupyter.widget-view+json": {
       "model_id": "dde5518443564fbbb693d61697be505d",
       "version_major": 2,
       "version_minor": 0
      },
      "text/plain": [
       "HBox(children=(FloatProgress(value=0.0, description='Variation of delay', max=13.0, style=ProgressStyle(descri…"
      ]
     },
     "metadata": {},
     "output_type": "display_data"
    },
    {
     "data": {
      "application/vnd.jupyter.widget-view+json": {
       "model_id": "3bde7daa3eab4b4fb1844707379bc7dd",
       "version_major": 2,
       "version_minor": 0
      },
      "text/plain": [
       "HBox(children=(FloatProgress(value=0.0, description='Making ensembles', max=2.0, style=ProgressStyle(descripti…"
      ]
     },
     "metadata": {},
     "output_type": "display_data"
    },
    {
     "name": "stderr",
     "output_type": "stream",
     "text": [
      "network dynamic: 100%|███████████████████████████████████████████████████████████| 9999/9999 [00:09<00:00, 1039.32it/s]\n",
      "network dynamic: 100%|███████████████████████████████████████████████████████████| 9999/9999 [00:06<00:00, 1517.24it/s]\n"
     ]
    },
    {
     "name": "stdout",
     "output_type": "stream",
     "text": [
      "\n"
     ]
    },
    {
     "data": {
      "application/vnd.jupyter.widget-view+json": {
       "model_id": "b6e84f74caeb446890a69d6c28d5ebb5",
       "version_major": 2,
       "version_minor": 0
      },
      "text/plain": [
       "HBox(children=(FloatProgress(value=0.0, description='Making ensembles', max=2.0, style=ProgressStyle(descripti…"
      ]
     },
     "metadata": {},
     "output_type": "display_data"
    },
    {
     "name": "stderr",
     "output_type": "stream",
     "text": [
      "network dynamic: 100%|███████████████████████████████████████████████████████████| 9999/9999 [00:06<00:00, 1465.89it/s]\n",
      "network dynamic: 100%|███████████████████████████████████████████████████████████| 9999/9999 [00:08<00:00, 1235.52it/s]\n"
     ]
    },
    {
     "name": "stdout",
     "output_type": "stream",
     "text": [
      "\n"
     ]
    },
    {
     "data": {
      "application/vnd.jupyter.widget-view+json": {
       "model_id": "e5411a9c57e54ec6b7546c51f2169c01",
       "version_major": 2,
       "version_minor": 0
      },
      "text/plain": [
       "HBox(children=(FloatProgress(value=0.0, description='Making ensembles', max=2.0, style=ProgressStyle(descripti…"
      ]
     },
     "metadata": {},
     "output_type": "display_data"
    },
    {
     "name": "stderr",
     "output_type": "stream",
     "text": [
      "network dynamic: 100%|███████████████████████████████████████████████████████████| 9999/9999 [00:08<00:00, 1142.38it/s]\n",
      "network dynamic: 100%|███████████████████████████████████████████████████████████| 9999/9999 [00:07<00:00, 1330.79it/s]"
     ]
    },
    {
     "name": "stdout",
     "output_type": "stream",
     "text": [
      "\n"
     ]
    },
    {
     "name": "stderr",
     "output_type": "stream",
     "text": [
      "\n"
     ]
    },
    {
     "data": {
      "application/vnd.jupyter.widget-view+json": {
       "model_id": "f72d8e8310fa495a8f2bb8ce1e18b8ed",
       "version_major": 2,
       "version_minor": 0
      },
      "text/plain": [
       "HBox(children=(FloatProgress(value=0.0, description='Making ensembles', max=2.0, style=ProgressStyle(descripti…"
      ]
     },
     "metadata": {},
     "output_type": "display_data"
    },
    {
     "name": "stderr",
     "output_type": "stream",
     "text": [
      "network dynamic: 100%|███████████████████████████████████████████████████████████| 9999/9999 [00:08<00:00, 1239.65it/s]\n",
      "network dynamic: 100%|███████████████████████████████████████████████████████████| 9999/9999 [00:07<00:00, 1404.20it/s]\n"
     ]
    },
    {
     "name": "stdout",
     "output_type": "stream",
     "text": [
      "\n"
     ]
    },
    {
     "data": {
      "application/vnd.jupyter.widget-view+json": {
       "model_id": "99f09c6b10e84b7c904606b800db18c8",
       "version_major": 2,
       "version_minor": 0
      },
      "text/plain": [
       "HBox(children=(FloatProgress(value=0.0, description='Making ensembles', max=2.0, style=ProgressStyle(descripti…"
      ]
     },
     "metadata": {},
     "output_type": "display_data"
    },
    {
     "name": "stderr",
     "output_type": "stream",
     "text": [
      "network dynamic: 100%|███████████████████████████████████████████████████████████| 9999/9999 [00:06<00:00, 1471.90it/s]\n",
      "network dynamic: 100%|███████████████████████████████████████████████████████████| 9999/9999 [00:05<00:00, 1687.27it/s]"
     ]
    },
    {
     "name": "stdout",
     "output_type": "stream",
     "text": [
      "\n"
     ]
    },
    {
     "name": "stderr",
     "output_type": "stream",
     "text": [
      "\n"
     ]
    },
    {
     "data": {
      "application/vnd.jupyter.widget-view+json": {
       "model_id": "b22795cad9bc4441ae371d1097846146",
       "version_major": 2,
       "version_minor": 0
      },
      "text/plain": [
       "HBox(children=(FloatProgress(value=0.0, description='Making ensembles', max=2.0, style=ProgressStyle(descripti…"
      ]
     },
     "metadata": {},
     "output_type": "display_data"
    },
    {
     "name": "stderr",
     "output_type": "stream",
     "text": [
      "network dynamic: 100%|███████████████████████████████████████████████████████████| 9999/9999 [00:05<00:00, 1679.25it/s]\n",
      "network dynamic: 100%|███████████████████████████████████████████████████████████| 9999/9999 [00:05<00:00, 1705.28it/s]"
     ]
    },
    {
     "name": "stdout",
     "output_type": "stream",
     "text": [
      "\n"
     ]
    },
    {
     "name": "stderr",
     "output_type": "stream",
     "text": [
      "\n"
     ]
    },
    {
     "data": {
      "application/vnd.jupyter.widget-view+json": {
       "model_id": "4505e6cbb28645759d481351c1cf91fd",
       "version_major": 2,
       "version_minor": 0
      },
      "text/plain": [
       "HBox(children=(FloatProgress(value=0.0, description='Making ensembles', max=2.0, style=ProgressStyle(descripti…"
      ]
     },
     "metadata": {},
     "output_type": "display_data"
    },
    {
     "name": "stderr",
     "output_type": "stream",
     "text": [
      "network dynamic: 100%|███████████████████████████████████████████████████████████| 9999/9999 [00:05<00:00, 1701.14it/s]\n",
      "network dynamic: 100%|███████████████████████████████████████████████████████████| 9999/9999 [00:05<00:00, 1744.95it/s]"
     ]
    },
    {
     "name": "stdout",
     "output_type": "stream",
     "text": [
      "\n"
     ]
    },
    {
     "name": "stderr",
     "output_type": "stream",
     "text": [
      "\n"
     ]
    },
    {
     "data": {
      "application/vnd.jupyter.widget-view+json": {
       "model_id": "8c1c82353af04357bd5195fd5669d5d0",
       "version_major": 2,
       "version_minor": 0
      },
      "text/plain": [
       "HBox(children=(FloatProgress(value=0.0, description='Making ensembles', max=2.0, style=ProgressStyle(descripti…"
      ]
     },
     "metadata": {},
     "output_type": "display_data"
    },
    {
     "name": "stderr",
     "output_type": "stream",
     "text": [
      "network dynamic: 100%|███████████████████████████████████████████████████████████| 9999/9999 [00:05<00:00, 1730.53it/s]\n",
      "network dynamic: 100%|███████████████████████████████████████████████████████████| 9999/9999 [00:05<00:00, 1691.39it/s]\n"
     ]
    },
    {
     "name": "stdout",
     "output_type": "stream",
     "text": [
      "\n"
     ]
    },
    {
     "data": {
      "application/vnd.jupyter.widget-view+json": {
       "model_id": "2fddba6f6eaa48a08cb1429c14589d9b",
       "version_major": 2,
       "version_minor": 0
      },
      "text/plain": [
       "HBox(children=(FloatProgress(value=0.0, description='Making ensembles', max=2.0, style=ProgressStyle(descripti…"
      ]
     },
     "metadata": {},
     "output_type": "display_data"
    },
    {
     "name": "stderr",
     "output_type": "stream",
     "text": [
      "network dynamic: 100%|███████████████████████████████████████████████████████████| 9999/9999 [00:06<00:00, 1641.91it/s]\n",
      "network dynamic: 100%|███████████████████████████████████████████████████████████| 9999/9999 [00:06<00:00, 1582.49it/s]"
     ]
    },
    {
     "name": "stdout",
     "output_type": "stream",
     "text": [
      "\n"
     ]
    },
    {
     "name": "stderr",
     "output_type": "stream",
     "text": [
      "\n"
     ]
    },
    {
     "data": {
      "application/vnd.jupyter.widget-view+json": {
       "model_id": "7ac8d6524bc844f0a02fb48a12a6a7c5",
       "version_major": 2,
       "version_minor": 0
      },
      "text/plain": [
       "HBox(children=(FloatProgress(value=0.0, description='Making ensembles', max=2.0, style=ProgressStyle(descripti…"
      ]
     },
     "metadata": {},
     "output_type": "display_data"
    },
    {
     "name": "stderr",
     "output_type": "stream",
     "text": [
      "network dynamic: 100%|███████████████████████████████████████████████████████████| 9999/9999 [00:05<00:00, 1690.11it/s]\n",
      "network dynamic: 100%|███████████████████████████████████████████████████████████| 9999/9999 [00:05<00:00, 1702.42it/s]"
     ]
    },
    {
     "name": "stdout",
     "output_type": "stream",
     "text": [
      "\n"
     ]
    },
    {
     "name": "stderr",
     "output_type": "stream",
     "text": [
      "\n"
     ]
    },
    {
     "data": {
      "application/vnd.jupyter.widget-view+json": {
       "model_id": "108e8f590e3242ce83cfb80b54631324",
       "version_major": 2,
       "version_minor": 0
      },
      "text/plain": [
       "HBox(children=(FloatProgress(value=0.0, description='Making ensembles', max=2.0, style=ProgressStyle(descripti…"
      ]
     },
     "metadata": {},
     "output_type": "display_data"
    },
    {
     "name": "stderr",
     "output_type": "stream",
     "text": [
      "network dynamic: 100%|███████████████████████████████████████████████████████████| 9999/9999 [00:05<00:00, 1698.70it/s]\n",
      "network dynamic: 100%|███████████████████████████████████████████████████████████| 9999/9999 [00:06<00:00, 1655.05it/s]"
     ]
    },
    {
     "name": "stdout",
     "output_type": "stream",
     "text": [
      "\n"
     ]
    },
    {
     "name": "stderr",
     "output_type": "stream",
     "text": [
      "\n"
     ]
    },
    {
     "data": {
      "application/vnd.jupyter.widget-view+json": {
       "model_id": "8085180eca09480ea8c0212c3bb2c8aa",
       "version_major": 2,
       "version_minor": 0
      },
      "text/plain": [
       "HBox(children=(FloatProgress(value=0.0, description='Making ensembles', max=2.0, style=ProgressStyle(descripti…"
      ]
     },
     "metadata": {},
     "output_type": "display_data"
    },
    {
     "name": "stderr",
     "output_type": "stream",
     "text": [
      "network dynamic: 100%|███████████████████████████████████████████████████████████| 9999/9999 [00:06<00:00, 1580.31it/s]\n",
      "network dynamic: 100%|███████████████████████████████████████████████████████████| 9999/9999 [00:06<00:00, 1638.67it/s]"
     ]
    },
    {
     "name": "stdout",
     "output_type": "stream",
     "text": [
      "\n"
     ]
    },
    {
     "name": "stderr",
     "output_type": "stream",
     "text": [
      "\n"
     ]
    },
    {
     "data": {
      "application/vnd.jupyter.widget-view+json": {
       "model_id": "242d8189ae044bc89d5f07d4d326ac5b",
       "version_major": 2,
       "version_minor": 0
      },
      "text/plain": [
       "HBox(children=(FloatProgress(value=0.0, description='Making ensembles', max=2.0, style=ProgressStyle(descripti…"
      ]
     },
     "metadata": {},
     "output_type": "display_data"
    },
    {
     "name": "stderr",
     "output_type": "stream",
     "text": [
      "network dynamic: 100%|███████████████████████████████████████████████████████████| 9999/9999 [00:06<00:00, 1622.71it/s]\n",
      "network dynamic: 100%|███████████████████████████████████████████████████████████| 9999/9999 [00:06<00:00, 1638.30it/s]"
     ]
    },
    {
     "name": "stdout",
     "output_type": "stream",
     "text": [
      "\n",
      "\n"
     ]
    },
    {
     "name": "stderr",
     "output_type": "stream",
     "text": [
      "\n"
     ]
    },
    {
     "data": {
      "application/vnd.jupyter.widget-view+json": {
       "model_id": "7694b852ae1446788978e3f6854cdcee",
       "version_major": 2,
       "version_minor": 0
      },
      "text/plain": [
       "HBox(children=(FloatProgress(value=0.0, description='Variation of delay', max=13.0, style=ProgressStyle(descri…"
      ]
     },
     "metadata": {},
     "output_type": "display_data"
    },
    {
     "data": {
      "application/vnd.jupyter.widget-view+json": {
       "model_id": "b584439b2bf94705a14015f3276f9a5b",
       "version_major": 2,
       "version_minor": 0
      },
      "text/plain": [
       "HBox(children=(FloatProgress(value=0.0, description='Making ensembles', max=2.0, style=ProgressStyle(descripti…"
      ]
     },
     "metadata": {},
     "output_type": "display_data"
    },
    {
     "name": "stderr",
     "output_type": "stream",
     "text": [
      "network dynamic: 100%|███████████████████████████████████████████████████████████| 9999/9999 [00:05<00:00, 1791.18it/s]\n",
      "network dynamic: 100%|███████████████████████████████████████████████████████████| 9999/9999 [00:05<00:00, 1796.80it/s]\n"
     ]
    },
    {
     "name": "stdout",
     "output_type": "stream",
     "text": [
      "\n"
     ]
    },
    {
     "data": {
      "application/vnd.jupyter.widget-view+json": {
       "model_id": "9c467aa23e374305b22651df05005161",
       "version_major": 2,
       "version_minor": 0
      },
      "text/plain": [
       "HBox(children=(FloatProgress(value=0.0, description='Making ensembles', max=2.0, style=ProgressStyle(descripti…"
      ]
     },
     "metadata": {},
     "output_type": "display_data"
    },
    {
     "name": "stderr",
     "output_type": "stream",
     "text": [
      "network dynamic: 100%|███████████████████████████████████████████████████████████| 9999/9999 [00:05<00:00, 1714.26it/s]\n",
      "network dynamic: 100%|███████████████████████████████████████████████████████████| 9999/9999 [00:05<00:00, 1688.98it/s]\n"
     ]
    },
    {
     "name": "stdout",
     "output_type": "stream",
     "text": [
      "\n"
     ]
    },
    {
     "data": {
      "application/vnd.jupyter.widget-view+json": {
       "model_id": "dbdc490387c94b61825fe8f8bd10c1ce",
       "version_major": 2,
       "version_minor": 0
      },
      "text/plain": [
       "HBox(children=(FloatProgress(value=0.0, description='Making ensembles', max=2.0, style=ProgressStyle(descripti…"
      ]
     },
     "metadata": {},
     "output_type": "display_data"
    },
    {
     "name": "stderr",
     "output_type": "stream",
     "text": [
      "network dynamic: 100%|███████████████████████████████████████████████████████████| 9999/9999 [00:05<00:00, 1775.35it/s]\n",
      "network dynamic: 100%|███████████████████████████████████████████████████████████| 9999/9999 [00:05<00:00, 1772.10it/s]"
     ]
    },
    {
     "name": "stdout",
     "output_type": "stream",
     "text": [
      "\n"
     ]
    },
    {
     "name": "stderr",
     "output_type": "stream",
     "text": [
      "\n"
     ]
    },
    {
     "data": {
      "application/vnd.jupyter.widget-view+json": {
       "model_id": "8421f32c8ed242fe90fc888f40518857",
       "version_major": 2,
       "version_minor": 0
      },
      "text/plain": [
       "HBox(children=(FloatProgress(value=0.0, description='Making ensembles', max=2.0, style=ProgressStyle(descripti…"
      ]
     },
     "metadata": {},
     "output_type": "display_data"
    },
    {
     "name": "stderr",
     "output_type": "stream",
     "text": [
      "network dynamic: 100%|███████████████████████████████████████████████████████████| 9999/9999 [00:05<00:00, 1716.00it/s]\n",
      "network dynamic: 100%|███████████████████████████████████████████████████████████| 9999/9999 [00:05<00:00, 1782.86it/s]\n"
     ]
    },
    {
     "name": "stdout",
     "output_type": "stream",
     "text": [
      "\n"
     ]
    },
    {
     "data": {
      "application/vnd.jupyter.widget-view+json": {
       "model_id": "23f1bcbae9e64cb1874b4189d63b84be",
       "version_major": 2,
       "version_minor": 0
      },
      "text/plain": [
       "HBox(children=(FloatProgress(value=0.0, description='Making ensembles', max=2.0, style=ProgressStyle(descripti…"
      ]
     },
     "metadata": {},
     "output_type": "display_data"
    },
    {
     "name": "stderr",
     "output_type": "stream",
     "text": [
      "network dynamic: 100%|███████████████████████████████████████████████████████████| 9999/9999 [00:05<00:00, 1698.48it/s]\n",
      "network dynamic: 100%|███████████████████████████████████████████████████████████| 9999/9999 [00:08<00:00, 1124.32it/s]\n"
     ]
    },
    {
     "name": "stdout",
     "output_type": "stream",
     "text": [
      "\n"
     ]
    },
    {
     "data": {
      "application/vnd.jupyter.widget-view+json": {
       "model_id": "6419607ade4e4844be9f01c0f752ab0c",
       "version_major": 2,
       "version_minor": 0
      },
      "text/plain": [
       "HBox(children=(FloatProgress(value=0.0, description='Making ensembles', max=2.0, style=ProgressStyle(descripti…"
      ]
     },
     "metadata": {},
     "output_type": "display_data"
    },
    {
     "name": "stderr",
     "output_type": "stream",
     "text": [
      "network dynamic: 100%|████████████████████████████████████████████████████████████| 9999/9999 [00:10<00:00, 933.08it/s]\n",
      "network dynamic: 100%|███████████████████████████████████████████████████████████| 9999/9999 [00:08<00:00, 1204.35it/s]\n"
     ]
    },
    {
     "name": "stdout",
     "output_type": "stream",
     "text": [
      "\n"
     ]
    },
    {
     "data": {
      "application/vnd.jupyter.widget-view+json": {
       "model_id": "fc64217d9c5f4abab9ecd99b25f0ec04",
       "version_major": 2,
       "version_minor": 0
      },
      "text/plain": [
       "HBox(children=(FloatProgress(value=0.0, description='Making ensembles', max=2.0, style=ProgressStyle(descripti…"
      ]
     },
     "metadata": {},
     "output_type": "display_data"
    },
    {
     "name": "stderr",
     "output_type": "stream",
     "text": [
      "network dynamic: 100%|███████████████████████████████████████████████████████████| 9999/9999 [00:06<00:00, 1447.04it/s]\n",
      "network dynamic: 100%|███████████████████████████████████████████████████████████| 9999/9999 [00:07<00:00, 1282.28it/s]"
     ]
    },
    {
     "name": "stdout",
     "output_type": "stream",
     "text": [
      "\n"
     ]
    },
    {
     "name": "stderr",
     "output_type": "stream",
     "text": [
      "\n"
     ]
    },
    {
     "data": {
      "application/vnd.jupyter.widget-view+json": {
       "model_id": "250af1a63d6e457c986580e3fdfa2172",
       "version_major": 2,
       "version_minor": 0
      },
      "text/plain": [
       "HBox(children=(FloatProgress(value=0.0, description='Making ensembles', max=2.0, style=ProgressStyle(descripti…"
      ]
     },
     "metadata": {},
     "output_type": "display_data"
    },
    {
     "name": "stderr",
     "output_type": "stream",
     "text": [
      "network dynamic: 100%|███████████████████████████████████████████████████████████| 9999/9999 [00:08<00:00, 1145.03it/s]\n",
      "network dynamic: 100%|███████████████████████████████████████████████████████████| 9999/9999 [00:08<00:00, 1226.05it/s]\n"
     ]
    },
    {
     "name": "stdout",
     "output_type": "stream",
     "text": [
      "\n"
     ]
    },
    {
     "data": {
      "application/vnd.jupyter.widget-view+json": {
       "model_id": "b53065f1458f49d49884faeec0dc9e77",
       "version_major": 2,
       "version_minor": 0
      },
      "text/plain": [
       "HBox(children=(FloatProgress(value=0.0, description='Making ensembles', max=2.0, style=ProgressStyle(descripti…"
      ]
     },
     "metadata": {},
     "output_type": "display_data"
    },
    {
     "name": "stderr",
     "output_type": "stream",
     "text": [
      "network dynamic: 100%|███████████████████████████████████████████████████████████| 9999/9999 [00:08<00:00, 1156.22it/s]\n",
      "network dynamic: 100%|███████████████████████████████████████████████████████████| 9999/9999 [00:06<00:00, 1449.25it/s]\n"
     ]
    },
    {
     "name": "stdout",
     "output_type": "stream",
     "text": [
      "\n"
     ]
    },
    {
     "data": {
      "application/vnd.jupyter.widget-view+json": {
       "model_id": "360e27d375bf4ca19fb199d780bec972",
       "version_major": 2,
       "version_minor": 0
      },
      "text/plain": [
       "HBox(children=(FloatProgress(value=0.0, description='Making ensembles', max=2.0, style=ProgressStyle(descripti…"
      ]
     },
     "metadata": {},
     "output_type": "display_data"
    },
    {
     "name": "stderr",
     "output_type": "stream",
     "text": [
      "network dynamic: 100%|███████████████████████████████████████████████████████████| 9999/9999 [00:07<00:00, 1387.66it/s]\n",
      "network dynamic: 100%|███████████████████████████████████████████████████████████| 9999/9999 [00:08<00:00, 1237.44it/s]\n"
     ]
    },
    {
     "name": "stdout",
     "output_type": "stream",
     "text": [
      "\n"
     ]
    },
    {
     "data": {
      "application/vnd.jupyter.widget-view+json": {
       "model_id": "bd1fa5c7c01d48efa67a9c7b2b43db0c",
       "version_major": 2,
       "version_minor": 0
      },
      "text/plain": [
       "HBox(children=(FloatProgress(value=0.0, description='Making ensembles', max=2.0, style=ProgressStyle(descripti…"
      ]
     },
     "metadata": {},
     "output_type": "display_data"
    },
    {
     "name": "stderr",
     "output_type": "stream",
     "text": [
      "network dynamic: 100%|███████████████████████████████████████████████████████████| 9999/9999 [00:08<00:00, 1216.11it/s]\n",
      "network dynamic: 100%|████████████████████████████████████████████████████████████| 9999/9999 [00:10<00:00, 995.68it/s]"
     ]
    },
    {
     "name": "stdout",
     "output_type": "stream",
     "text": [
      "\n"
     ]
    },
    {
     "name": "stderr",
     "output_type": "stream",
     "text": [
      "\n"
     ]
    },
    {
     "data": {
      "application/vnd.jupyter.widget-view+json": {
       "model_id": "9c4fe1aa5cbd44f284ec0c1aafd7a97f",
       "version_major": 2,
       "version_minor": 0
      },
      "text/plain": [
       "HBox(children=(FloatProgress(value=0.0, description='Making ensembles', max=2.0, style=ProgressStyle(descripti…"
      ]
     },
     "metadata": {},
     "output_type": "display_data"
    },
    {
     "name": "stderr",
     "output_type": "stream",
     "text": [
      "network dynamic: 100%|███████████████████████████████████████████████████████████| 9999/9999 [00:07<00:00, 1271.55it/s]\n",
      "network dynamic: 100%|███████████████████████████████████████████████████████████| 9999/9999 [00:07<00:00, 1384.86it/s]\n"
     ]
    },
    {
     "name": "stdout",
     "output_type": "stream",
     "text": [
      "\n"
     ]
    },
    {
     "data": {
      "application/vnd.jupyter.widget-view+json": {
       "model_id": "637239b3d58d45ecb43d38ddaad97416",
       "version_major": 2,
       "version_minor": 0
      },
      "text/plain": [
       "HBox(children=(FloatProgress(value=0.0, description='Making ensembles', max=2.0, style=ProgressStyle(descripti…"
      ]
     },
     "metadata": {},
     "output_type": "display_data"
    },
    {
     "name": "stderr",
     "output_type": "stream",
     "text": [
      "network dynamic: 100%|███████████████████████████████████████████████████████████| 9999/9999 [00:07<00:00, 1375.18it/s]\n",
      "network dynamic: 100%|███████████████████████████████████████████████████████████| 9999/9999 [00:07<00:00, 1358.14it/s]\n"
     ]
    },
    {
     "name": "stdout",
     "output_type": "stream",
     "text": [
      "\n",
      "\n"
     ]
    },
    {
     "data": {
      "application/vnd.jupyter.widget-view+json": {
       "model_id": "159f8f02053a49dca6d3efdaf5297608",
       "version_major": 2,
       "version_minor": 0
      },
      "text/plain": [
       "HBox(children=(FloatProgress(value=0.0, description='Variation of delay', max=13.0, style=ProgressStyle(descri…"
      ]
     },
     "metadata": {},
     "output_type": "display_data"
    },
    {
     "data": {
      "application/vnd.jupyter.widget-view+json": {
       "model_id": "1f40893389fa4572994ed1994e9dc85d",
       "version_major": 2,
       "version_minor": 0
      },
      "text/plain": [
       "HBox(children=(FloatProgress(value=0.0, description='Making ensembles', max=2.0, style=ProgressStyle(descripti…"
      ]
     },
     "metadata": {},
     "output_type": "display_data"
    },
    {
     "name": "stderr",
     "output_type": "stream",
     "text": [
      "network dynamic: 100%|███████████████████████████████████████████████████████████| 9999/9999 [00:07<00:00, 1421.61it/s]\n",
      "network dynamic: 100%|███████████████████████████████████████████████████████████| 9999/9999 [00:07<00:00, 1272.59it/s]"
     ]
    },
    {
     "name": "stdout",
     "output_type": "stream",
     "text": [
      "\n"
     ]
    },
    {
     "name": "stderr",
     "output_type": "stream",
     "text": [
      "\n"
     ]
    },
    {
     "data": {
      "application/vnd.jupyter.widget-view+json": {
       "model_id": "cb48cc134b1242598db2045b5ea39f6e",
       "version_major": 2,
       "version_minor": 0
      },
      "text/plain": [
       "HBox(children=(FloatProgress(value=0.0, description='Making ensembles', max=2.0, style=ProgressStyle(descripti…"
      ]
     },
     "metadata": {},
     "output_type": "display_data"
    },
    {
     "name": "stderr",
     "output_type": "stream",
     "text": [
      "network dynamic: 100%|███████████████████████████████████████████████████████████| 9999/9999 [00:07<00:00, 1260.77it/s]\n",
      "network dynamic: 100%|███████████████████████████████████████████████████████████| 9999/9999 [00:08<00:00, 1240.56it/s]\n"
     ]
    },
    {
     "name": "stdout",
     "output_type": "stream",
     "text": [
      "\n"
     ]
    },
    {
     "data": {
      "application/vnd.jupyter.widget-view+json": {
       "model_id": "26d0bae4cdf2445a83d32f4bd9b21c98",
       "version_major": 2,
       "version_minor": 0
      },
      "text/plain": [
       "HBox(children=(FloatProgress(value=0.0, description='Making ensembles', max=2.0, style=ProgressStyle(descripti…"
      ]
     },
     "metadata": {},
     "output_type": "display_data"
    },
    {
     "name": "stderr",
     "output_type": "stream",
     "text": [
      "network dynamic: 100%|███████████████████████████████████████████████████████████| 9999/9999 [00:06<00:00, 1433.40it/s]\n",
      "network dynamic: 100%|███████████████████████████████████████████████████████████| 9999/9999 [00:06<00:00, 1520.03it/s]\n"
     ]
    },
    {
     "name": "stdout",
     "output_type": "stream",
     "text": [
      "\n"
     ]
    },
    {
     "data": {
      "application/vnd.jupyter.widget-view+json": {
       "model_id": "9ee30110a7af41f68a2569e0fe18577a",
       "version_major": 2,
       "version_minor": 0
      },
      "text/plain": [
       "HBox(children=(FloatProgress(value=0.0, description='Making ensembles', max=2.0, style=ProgressStyle(descripti…"
      ]
     },
     "metadata": {},
     "output_type": "display_data"
    },
    {
     "name": "stderr",
     "output_type": "stream",
     "text": [
      "network dynamic: 100%|███████████████████████████████████████████████████████████| 9999/9999 [00:07<00:00, 1267.74it/s]\n",
      "network dynamic: 100%|███████████████████████████████████████████████████████████| 9999/9999 [00:08<00:00, 1243.13it/s]"
     ]
    },
    {
     "name": "stdout",
     "output_type": "stream",
     "text": [
      "\n"
     ]
    },
    {
     "name": "stderr",
     "output_type": "stream",
     "text": [
      "\n"
     ]
    },
    {
     "data": {
      "application/vnd.jupyter.widget-view+json": {
       "model_id": "4965bda6c10449a297f8aa48b4093c8f",
       "version_major": 2,
       "version_minor": 0
      },
      "text/plain": [
       "HBox(children=(FloatProgress(value=0.0, description='Making ensembles', max=2.0, style=ProgressStyle(descripti…"
      ]
     },
     "metadata": {},
     "output_type": "display_data"
    },
    {
     "name": "stderr",
     "output_type": "stream",
     "text": [
      "network dynamic: 100%|███████████████████████████████████████████████████████████| 9999/9999 [00:07<00:00, 1253.91it/s]\n",
      "network dynamic: 100%|███████████████████████████████████████████████████████████| 9999/9999 [00:08<00:00, 1193.45it/s]\n"
     ]
    },
    {
     "name": "stdout",
     "output_type": "stream",
     "text": [
      "\n"
     ]
    },
    {
     "data": {
      "application/vnd.jupyter.widget-view+json": {
       "model_id": "f07c1afdcc724bd98e4054258f815658",
       "version_major": 2,
       "version_minor": 0
      },
      "text/plain": [
       "HBox(children=(FloatProgress(value=0.0, description='Making ensembles', max=2.0, style=ProgressStyle(descripti…"
      ]
     },
     "metadata": {},
     "output_type": "display_data"
    },
    {
     "name": "stderr",
     "output_type": "stream",
     "text": [
      "network dynamic: 100%|███████████████████████████████████████████████████████████| 9999/9999 [00:07<00:00, 1325.30it/s]\n",
      "network dynamic: 100%|███████████████████████████████████████████████████████████| 9999/9999 [00:07<00:00, 1338.46it/s]"
     ]
    },
    {
     "name": "stdout",
     "output_type": "stream",
     "text": [
      "\n"
     ]
    },
    {
     "name": "stderr",
     "output_type": "stream",
     "text": [
      "\n"
     ]
    },
    {
     "data": {
      "application/vnd.jupyter.widget-view+json": {
       "model_id": "07e0457599344e0c905541aa0436b93f",
       "version_major": 2,
       "version_minor": 0
      },
      "text/plain": [
       "HBox(children=(FloatProgress(value=0.0, description='Making ensembles', max=2.0, style=ProgressStyle(descripti…"
      ]
     },
     "metadata": {},
     "output_type": "display_data"
    },
    {
     "name": "stderr",
     "output_type": "stream",
     "text": [
      "network dynamic: 100%|███████████████████████████████████████████████████████████| 9999/9999 [00:07<00:00, 1333.28it/s]\n",
      "network dynamic: 100%|███████████████████████████████████████████████████████████| 9999/9999 [00:08<00:00, 1208.55it/s]\n"
     ]
    },
    {
     "name": "stdout",
     "output_type": "stream",
     "text": [
      "\n"
     ]
    },
    {
     "data": {
      "application/vnd.jupyter.widget-view+json": {
       "model_id": "2755220acc174303b6b2457718c2398b",
       "version_major": 2,
       "version_minor": 0
      },
      "text/plain": [
       "HBox(children=(FloatProgress(value=0.0, description='Making ensembles', max=2.0, style=ProgressStyle(descripti…"
      ]
     },
     "metadata": {},
     "output_type": "display_data"
    },
    {
     "name": "stderr",
     "output_type": "stream",
     "text": [
      "network dynamic: 100%|███████████████████████████████████████████████████████████| 9999/9999 [00:08<00:00, 1225.88it/s]\n",
      "network dynamic: 100%|███████████████████████████████████████████████████████████| 9999/9999 [00:08<00:00, 1226.72it/s]"
     ]
    },
    {
     "name": "stdout",
     "output_type": "stream",
     "text": [
      "\n"
     ]
    },
    {
     "name": "stderr",
     "output_type": "stream",
     "text": [
      "\n"
     ]
    },
    {
     "data": {
      "application/vnd.jupyter.widget-view+json": {
       "model_id": "72b6a49d56994b6eb1bb4266dd623af5",
       "version_major": 2,
       "version_minor": 0
      },
      "text/plain": [
       "HBox(children=(FloatProgress(value=0.0, description='Making ensembles', max=2.0, style=ProgressStyle(descripti…"
      ]
     },
     "metadata": {},
     "output_type": "display_data"
    },
    {
     "name": "stderr",
     "output_type": "stream",
     "text": [
      "network dynamic: 100%|███████████████████████████████████████████████████████████| 9999/9999 [00:07<00:00, 1294.62it/s]\n",
      "network dynamic: 100%|███████████████████████████████████████████████████████████| 9999/9999 [00:06<00:00, 1494.96it/s]"
     ]
    },
    {
     "name": "stdout",
     "output_type": "stream",
     "text": [
      "\n"
     ]
    },
    {
     "name": "stderr",
     "output_type": "stream",
     "text": [
      "\n"
     ]
    },
    {
     "data": {
      "application/vnd.jupyter.widget-view+json": {
       "model_id": "4c221a87eb0a4bfca459f926ddc19c3a",
       "version_major": 2,
       "version_minor": 0
      },
      "text/plain": [
       "HBox(children=(FloatProgress(value=0.0, description='Making ensembles', max=2.0, style=ProgressStyle(descripti…"
      ]
     },
     "metadata": {},
     "output_type": "display_data"
    },
    {
     "name": "stderr",
     "output_type": "stream",
     "text": [
      "network dynamic: 100%|███████████████████████████████████████████████████████████| 9999/9999 [00:07<00:00, 1270.62it/s]\n",
      "network dynamic: 100%|███████████████████████████████████████████████████████████| 9999/9999 [00:07<00:00, 1259.25it/s]"
     ]
    },
    {
     "name": "stdout",
     "output_type": "stream",
     "text": [
      "\n"
     ]
    },
    {
     "name": "stderr",
     "output_type": "stream",
     "text": [
      "\n"
     ]
    },
    {
     "data": {
      "application/vnd.jupyter.widget-view+json": {
       "model_id": "d5d3a25ac03449a095e29b8856a09849",
       "version_major": 2,
       "version_minor": 0
      },
      "text/plain": [
       "HBox(children=(FloatProgress(value=0.0, description='Making ensembles', max=2.0, style=ProgressStyle(descripti…"
      ]
     },
     "metadata": {},
     "output_type": "display_data"
    },
    {
     "name": "stderr",
     "output_type": "stream",
     "text": [
      "network dynamic: 100%|███████████████████████████████████████████████████████████| 9999/9999 [00:07<00:00, 1255.58it/s]\n",
      "network dynamic: 100%|███████████████████████████████████████████████████████████| 9999/9999 [00:07<00:00, 1276.52it/s]\n"
     ]
    },
    {
     "name": "stdout",
     "output_type": "stream",
     "text": [
      "\n"
     ]
    },
    {
     "data": {
      "application/vnd.jupyter.widget-view+json": {
       "model_id": "d1caca59158c4f68b0cb072e2adebc2f",
       "version_major": 2,
       "version_minor": 0
      },
      "text/plain": [
       "HBox(children=(FloatProgress(value=0.0, description='Making ensembles', max=2.0, style=ProgressStyle(descripti…"
      ]
     },
     "metadata": {},
     "output_type": "display_data"
    },
    {
     "name": "stderr",
     "output_type": "stream",
     "text": [
      "network dynamic: 100%|███████████████████████████████████████████████████████████| 9999/9999 [00:06<00:00, 1493.29it/s]\n",
      "network dynamic: 100%|███████████████████████████████████████████████████████████| 9999/9999 [00:06<00:00, 1516.33it/s]\n"
     ]
    },
    {
     "name": "stdout",
     "output_type": "stream",
     "text": [
      "\n"
     ]
    },
    {
     "data": {
      "application/vnd.jupyter.widget-view+json": {
       "model_id": "2c370e90b22a4a62b51ea01828433abe",
       "version_major": 2,
       "version_minor": 0
      },
      "text/plain": [
       "HBox(children=(FloatProgress(value=0.0, description='Making ensembles', max=2.0, style=ProgressStyle(descripti…"
      ]
     },
     "metadata": {},
     "output_type": "display_data"
    },
    {
     "name": "stderr",
     "output_type": "stream",
     "text": [
      "network dynamic: 100%|███████████████████████████████████████████████████████████| 9999/9999 [00:06<00:00, 1490.10it/s]\n",
      "network dynamic: 100%|███████████████████████████████████████████████████████████| 9999/9999 [00:07<00:00, 1351.31it/s]"
     ]
    },
    {
     "name": "stdout",
     "output_type": "stream",
     "text": [
      "\n",
      "\n",
      "\n"
     ]
    },
    {
     "name": "stderr",
     "output_type": "stream",
     "text": [
      "\n"
     ]
    }
   ],
   "source": [
    "for i,connectivity in enumerate(tqdm( connectivity_span , desc='Variation of connectivities') ):\n",
    "    group_folder_name = 'g_{}'.format(connectivity)\n",
    "    group_storage = make_inner_dir(current_size_networks_path, group_folder_name)\n",
    "    \n",
    "    for j,delay in enumerate(tqdm( delay_span , desc='Variation of delay') ):\n",
    "        subgroup_folder_name = 'd_{}'.format(delay)\n",
    "        subgroup_storage = make_inner_dir(group_storage, subgroup_folder_name)\n",
    "        last_index = last_ensemble_index_in_group(subgroup_storage)\n",
    "\n",
    "        for k in tqdm( range(num_ensembles_each_g) , desc='Making ensembles'):\n",
    "            sample_model = Network_of_neurons(num_neurons=num_neurons,g=connectivity)\n",
    "            sample_model.ignite(random_input_span, total_time = total_time,\n",
    "                                time_step = 0.01, delay_time = delay)\n",
    "\n",
    "            current_ensemble_folder = make_inner_dir(subgroup_storage, str(last_index + k + 1) )\n",
    "            \n",
    "            save_sigma(sample_model.report_sigma(), current_ensemble_folder)\n",
    "            save_field_period(sample_model.report_e_period_fft(), current_ensemble_folder)\n",
    "            if neuron_model == current_models[1]: save_amin_saman_param(sample_model.report_sync_parameter(), current_ensemble_folder)\n",
    "            save_mean_spiking_periods( sample_model.report_spikies_period_mean(), current_ensemble_folder )"
   ]
  },
  {
   "cell_type": "code",
   "execution_count": null,
   "metadata": {},
   "outputs": [],
   "source": []
  },
  {
   "cell_type": "code",
   "execution_count": null,
   "metadata": {},
   "outputs": [],
   "source": []
  }
 ],
 "metadata": {
  "kernelspec": {
   "display_name": "Python 3",
   "language": "python",
   "name": "python3"
  },
  "language_info": {
   "codemirror_mode": {
    "name": "ipython",
    "version": 3
   },
   "file_extension": ".py",
   "mimetype": "text/x-python",
   "name": "python",
   "nbconvert_exporter": "python",
   "pygments_lexer": "ipython3",
   "version": "3.7.6"
  }
 },
 "nbformat": 4,
 "nbformat_minor": 4
}
