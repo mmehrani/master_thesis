{
 "cells": [
  {
   "cell_type": "markdown",
   "metadata": {},
   "source": [
    "# Synchornization in complete networks of neurons\n",
    "Here is the equation of neurons potentails dynamics:\n",
    "$$\n",
    "\\dot{v_i}=a_i - v_i - \\frac{g}{N} \\sum_{n|t_n<t} S_{i,l(n)} \\delta(t - t_n - t_d) \n",
    "$$"
   ]
  },
  {
   "cell_type": "code",
   "execution_count": 1,
   "metadata": {},
   "outputs": [],
   "source": [
    "import numpy as np\n",
    "import matplotlib.pyplot as plt\n",
    "from tqdm import tqdm"
   ]
  },
  {
   "cell_type": "markdown",
   "metadata": {},
   "source": [
    "## Constants and parameters:"
   ]
  },
  {
   "cell_type": "code",
   "execution_count": 2,
   "metadata": {},
   "outputs": [],
   "source": [
    "num_neurons = 1000\n",
    "g = 2\n",
    "random_input_span = (1.2,2.8)\n",
    "\n",
    "total_time = 1000\n",
    "time_step = 0.01\n",
    "total_steps = int(total_time/time_step)\n",
    "time_span = np.arange(0,total_time,time_step)\n",
    "\n",
    "delay_time = 0.1\n",
    "delay_step = int(delay_time/time_step)\n",
    "\n",
    "potentail_arr = np.zeros(num_neurons,dtype = float)\n",
    "random_input = np.random.uniform(*random_input_span,size = num_neurons)"
   ]
  },
  {
   "cell_type": "code",
   "execution_count": 3,
   "metadata": {},
   "outputs": [],
   "source": [
    "spiking_records = np.array( np.zeros((total_steps,num_neurons)), dtype = bool )"
   ]
  },
  {
   "cell_type": "markdown",
   "metadata": {},
   "source": [
    "## Instrumentes to capture spiking frequency\n",
    "Here we use *cornometer* and number of spikies to measure their frequencies."
   ]
  },
  {
   "cell_type": "code",
   "execution_count": 4,
   "metadata": {},
   "outputs": [],
   "source": [
    "spiking_cornometer = np.zeros(num_neurons)\n",
    "total_spikes_intervals = np.zeros(num_neurons)\n",
    "total_spikes_num = np.zeros(num_neurons)"
   ]
  },
  {
   "cell_type": "markdown",
   "metadata": {},
   "source": [
    "### Useful functions:"
   ]
  },
  {
   "cell_type": "code",
   "execution_count": 5,
   "metadata": {},
   "outputs": [],
   "source": [
    "def retarded_spikes_record(step):\n",
    "    \"\"\"\n",
    "    This is the function which take cares of response delay between spikes and their effects.\n",
    "    \"\"\"\n",
    "    if step > delay_step: \n",
    "        return np.sum(spiking_records[step - delay_step])\n",
    "    else:\n",
    "        return 0"
   ]
  },
  {
   "cell_type": "markdown",
   "metadata": {},
   "source": [
    "## Solving the differential equation"
   ]
  },
  {
   "cell_type": "code",
   "execution_count": 6,
   "metadata": {},
   "outputs": [
    {
     "name": "stderr",
     "output_type": "stream",
     "text": [
      "100%|███████████████████████████████████████████████████████████████████████| 100000/100000 [00:08<00:00, 12010.00it/s]\n"
     ]
    }
   ],
   "source": [
    "for i in tqdm( range(total_steps) ):\n",
    "    potentail_arr = potentail_arr + (random_input - potentail_arr)*time_step - (g/num_neurons)*retarded_spikes_record(i)\n",
    "    spiking_records[i] = potentail_arr > 1\n",
    "    potentail_arr = potentail_arr - 1 * spiking_records[i]\n",
    "    #frequency calculator\n",
    "    total_spikes_num = total_spikes_num + spiking_records[i]\n",
    "    total_spikes_intervals = total_spikes_intervals + spiking_cornometer * spiking_records[i] #add to spike lapsed time\n",
    "    spiking_cornometer = spiking_cornometer * (spiking_records[i]-1)*(-1) #reset the spikied cornos\n",
    "    spiking_cornometer = spiking_cornometer + (spiking_records[i]-1)*(-1) #update the not spikied ones"
   ]
  },
  {
   "cell_type": "code",
   "execution_count": null,
   "metadata": {},
   "outputs": [],
   "source": []
  },
  {
   "cell_type": "code",
   "execution_count": 7,
   "metadata": {},
   "outputs": [
    {
     "data": {
      "text/plain": [
       "(array([ 54.,  39.,  27.,  96., 120., 148., 112., 120., 135., 149.]),\n",
       " array([2.09842445e-04, 1.00157863e-01, 2.00105884e-01, 3.00053905e-01,\n",
       "        4.00001926e-01, 4.99949947e-01, 5.99897968e-01, 6.99845989e-01,\n",
       "        7.99794010e-01, 8.99742030e-01, 9.99690051e-01]),\n",
       " <a list of 10 Patch objects>)"
      ]
     },
     "execution_count": 7,
     "metadata": {},
     "output_type": "execute_result"
    },
    {
     "data": {
      "image/png": "[encoded data removed]",
      "text/plain": [
       "<Figure size 432x288 with 1 Axes>"
      ]
     },
     "metadata": {
      "needs_background": "light"
     },
     "output_type": "display_data"
    }
   ],
   "source": [
    "plt.hist(potentail_arr)"
   ]
  },
  {
   "cell_type": "code",
   "execution_count": null,
   "metadata": {},
   "outputs": [],
   "source": []
  },
  {
   "cell_type": "markdown",
   "metadata": {},
   "source": [
    "# Measuring E (effective field):\n",
    "we can measure if the total network is synchronized. let's define E as following:\n",
    "\n",
    "$$\n",
    "\\ddot{E}+ 2\\alpha \\dot{E}+\\alpha^{2}E =\\frac{\\alpha^{2}}{N} \\sum_{n|tـn<t} \\delta(t - t_n - t_d)\n",
    "$$\n",
    "\n",
    "To do so, we define $M$ as $M = \\dot{E} + \\alpha E$. As a result we wil have the following systems of equation:\n",
    "\\begin{equation}\n",
    "    \\begin{cases}\n",
    "      \\dot{E} = M - \\alpha E\\\\\n",
    "      \\dot{M} = -  \\alpha M + \\frac{ \\alpha^{2} }{N} \\sum_{n|tـn<t} \\delta(t - t_n - t_d)\n",
    "    \\end{cases}\\,.\n",
    "\\end{equation}\n"
   ]
  },
  {
   "cell_type": "code",
   "execution_count": 8,
   "metadata": {},
   "outputs": [],
   "source": [
    "alpha = 20\n",
    "m_arr = np.zeros(total_steps)\n",
    "e_arr = np.zeros(total_steps)"
   ]
  },
  {
   "cell_type": "code",
   "execution_count": 9,
   "metadata": {},
   "outputs": [
    {
     "name": "stderr",
     "output_type": "stream",
     "text": [
      "100%|█████████████████████████████████████████████████████████████████████████| 99999/99999 [00:02<00:00, 47029.06it/s]\n"
     ]
    }
   ],
   "source": [
    "for i in tqdm(range(0,total_steps-1)):\n",
    "    m_arr[i+1] = m_arr[i] + time_step*( -alpha*m_arr[i] ) + ( (alpha**2)/num_neurons ) *retarded_spikes_record(i) \n",
    "    e_arr[i+1] = e_arr[i] + time_step*( m_arr[i] - alpha*e_arr[i] )"
   ]
  },
  {
   "cell_type": "code",
   "execution_count": 10,
   "metadata": {},
   "outputs": [
    {
     "data": {
      "text/plain": [
       "Text(0.5, 1.0, 'E')"
      ]
     },
     "execution_count": 10,
     "metadata": {},
     "output_type": "execute_result"
    },
    {
     "data": {
      "image/png": "[encoded data removed]",
      "text/plain": [
       "<Figure size 432x288 with 1 Axes>"
      ]
     },
     "metadata": {
      "needs_background": "light"
     },
     "output_type": "display_data"
    }
   ],
   "source": [
    "plt.plot(time_span,e_arr)\n",
    "plt.title('E')"
   ]
  },
  {
   "cell_type": "code",
   "execution_count": 11,
   "metadata": {},
   "outputs": [
    {
     "data": {
      "text/plain": [
       "[<matplotlib.lines.Line2D at 0x2556f405c48>]"
      ]
     },
     "execution_count": 11,
     "metadata": {},
     "output_type": "execute_result"
    },
    {
     "data": {
      "image/png": "[encoded data removed]",
      "text/plain": [
       "<Figure size 432x288 with 1 Axes>"
      ]
     },
     "metadata": {
      "needs_background": "light"
     },
     "output_type": "display_data"
    }
   ],
   "source": [
    "plt.plot(e_arr[-1000:])"
   ]
  },
  {
   "cell_type": "code",
   "execution_count": 12,
   "metadata": {},
   "outputs": [
    {
     "data": {
      "text/plain": [
       "0.25390108297390523"
      ]
     },
     "execution_count": 12,
     "metadata": {},
     "output_type": "execute_result"
    }
   ],
   "source": [
    "sigma = np.std( e_arr )\n",
    "sigma"
   ]
  },
  {
   "cell_type": "code",
   "execution_count": null,
   "metadata": {},
   "outputs": [],
   "source": []
  },
  {
   "cell_type": "markdown",
   "metadata": {},
   "source": [
    "# Rasterplot"
   ]
  },
  {
   "cell_type": "code",
   "execution_count": 13,
   "metadata": {},
   "outputs": [
    {
     "data": {
      "image/png": "[encoded data removed]",
      "text/plain": [
       "<Figure size 432x288 with 1 Axes>"
      ]
     },
     "metadata": {
      "needs_background": "light"
     },
     "output_type": "display_data"
    }
   ],
   "source": [
    "plt.imshow( spiking_records,aspect= 'auto')\n",
    "plt.xlabel('Neurons')\n",
    "plt.ylabel('Time')\n",
    "plt.title('Rasterplot')\n",
    "plt.savefig('raster_plot_N{}.png'.format(num_neurons))"
   ]
  },
  {
   "cell_type": "code",
   "execution_count": 14,
   "metadata": {},
   "outputs": [
    {
     "data": {
      "text/plain": [
       "array([[False, False, False, ..., False, False, False],\n",
       "       [False, False, False, ..., False, False, False],\n",
       "       [False, False, False, ..., False, False, False],\n",
       "       ...,\n",
       "       [False, False, False, ..., False, False, False],\n",
       "       [False, False, False, ..., False, False, False],\n",
       "       [False, False, False, ..., False, False, False]])"
      ]
     },
     "execution_count": 14,
     "metadata": {},
     "output_type": "execute_result"
    }
   ],
   "source": [
    "spiking_records"
   ]
  },
  {
   "cell_type": "code",
   "execution_count": 15,
   "metadata": {},
   "outputs": [
    {
     "data": {
      "text/plain": [
       "[<matplotlib.lines.Line2D at 0x2556f476c08>]"
      ]
     },
     "execution_count": 15,
     "metadata": {},
     "output_type": "execute_result"
    },
    {
     "data": {
      "image/png": "[encoded data removed]",
      "text/plain": [
       "<Figure size 432x288 with 1 Axes>"
      ]
     },
     "metadata": {
      "needs_background": "light"
     },
     "output_type": "display_data"
    }
   ],
   "source": [
    "plt.plot(np.sum( spiking_records, axis = 1))"
   ]
  },
  {
   "cell_type": "markdown",
   "metadata": {},
   "source": [
    "## Calculate frequency"
   ]
  },
  {
   "cell_type": "code",
   "execution_count": 16,
   "metadata": {},
   "outputs": [
    {
     "name": "stderr",
     "output_type": "stream",
     "text": [
      "C:\\ProgramData\\Anaconda3\\lib\\site-packages\\ipykernel_launcher.py:1: RuntimeWarning: invalid value encountered in true_divide\n",
      "  \"\"\"Entry point for launching an IPython kernel.\n"
     ]
    },
    {
     "data": {
      "text/plain": [
       "array([         nan,   1.06197425,   1.23699126,          nan,\n",
       "                nan,   3.06669753,          nan,   1.02296488,\n",
       "         1.93826511,   1.03981092,   0.77117969,          nan,\n",
       "         1.3102642 ,   0.85834057,   1.02941788,          nan,\n",
       "                nan,          nan,   0.77488226,          nan,\n",
       "                nan,   2.86195402,   1.05266738,          nan,\n",
       "         1.29130208,   0.78090981,   1.65196339,          nan,\n",
       "                nan,          nan,          nan,   0.80870598,\n",
       "                nan,   1.02296488,   1.76928826,   1.0313125 ,\n",
       "         2.30414352,   0.97902077,   0.77322884,   1.30122047,\n",
       "                nan,   2.07097917,          nan,          nan,\n",
       "                nan,   0.7790292 ,          nan,   1.28323415,\n",
       "                nan,   1.29568627,   4.55527523,   0.82889262,\n",
       "                nan,   1.29568627,          nan,   1.39566807,\n",
       "         5.9139881 ,          nan,          nan,   1.82434862,\n",
       "         2.36828571,   0.99669688,   0.79427192,   2.30414352,\n",
       "                nan,          nan,          nan,          nan,\n",
       "         0.78715311,   1.83110497,   1.09274834,          nan,\n",
       "         0.87358974,   1.81658135,   1.24776101,          nan,\n",
       "         1.1170575 ,   0.82982353,          nan,   1.38660615,\n",
       "         1.78751799,   2.32100233,   1.0763587 ,          nan,\n",
       "                nan,   3.31546667,          nan,   1.55402191,\n",
       "         2.4557284 ,          nan,   0.87209179,   1.80710909,\n",
       "         0.77117969,          nan,          nan,   0.90751148,\n",
       "                nan,   1.60724919,          nan,          nan,\n",
       "         1.85460821,   0.7744584 ,          nan,   1.02805815,\n",
       "                nan,   3.31546667,   1.02669087,   0.95071154,\n",
       "         0.93617424,          nan,          nan,          nan,\n",
       "         2.61317585,   0.79060849,   0.90404936,   1.73722028,\n",
       "         2.52736041,          nan,   0.85834057,          nan,\n",
       "                nan,   1.57049051,   0.7773622 ,   0.91541667,\n",
       "                nan,   1.03430512,          nan,   1.10229143,\n",
       "         1.72329861,   1.29166667,          nan,   0.77674272,\n",
       "                nan,   2.80450704,          nan,          nan,\n",
       "         1.81186131,          nan,   1.03159375,          nan,\n",
       "                nan,          nan,          nan,   3.86271318,\n",
       "         0.78403495,   1.02056701,          nan,          nan,\n",
       "                nan,          nan,   0.83744068,   1.85460821,\n",
       "         1.05852406,          nan,          nan,   4.21173729,\n",
       "                nan,   1.28189922,   2.50816121,   1.02941788,\n",
       "                nan,   0.92167754,   1.03349687,          nan,\n",
       "         1.07488599,          nan,   1.67777027,   0.82304167,\n",
       "         1.78204301,   2.14336207,   1.03981092,          nan,\n",
       "                nan,   3.24211726,   0.93978137,          nan,\n",
       "         1.0684466 ,   1.63011494,   1.03159375,   1.0684466 ,\n",
       "         2.69357724,          nan,          nan,   0.83336709,\n",
       "                nan,          nan,   0.77488226,          nan,\n",
       "         1.36655647,   0.91850511,   3.77363636,   1.55561129,\n",
       "                nan,   0.81638017,          nan,   1.71063683,\n",
       "                nan,   0.81411377,          nan,          nan,\n",
       "         0.7790292 ,   1.12441544,   2.58997396,          nan,\n",
       "         0.80736713,   0.80470253,          nan,          nan,\n",
       "         1.30194226,   0.77097656,   2.25562358,   0.87003521,\n",
       "                nan,   0.95472008,   1.60724919,   2.07097917,\n",
       "         1.55648903,   0.94750958,   1.33733154,          nan,\n",
       "         0.97681145,   1.13121005,          nan,   1.87573585,\n",
       "                nan,          nan,   1.29950197,   2.23968468,\n",
       "         0.82889262,          nan,   0.77241784,          nan,\n",
       "         4.02692308,   0.96783757,          nan,   2.0613278 ,\n",
       "                nan,  90.48142857,   1.37690707,          nan,\n",
       "                nan,          nan,   1.60201613,          nan,\n",
       "         1.09427624,   0.78530628,   1.63553542,   0.924     ,\n",
       "         1.57726984,   3.68955556,   0.77425882,          nan,\n",
       "                nan,   2.00552419,          nan,          nan,\n",
       "         0.8314899 ,   0.81004922,   1.04870763,          nan,\n",
       "                nan,          nan,          nan,   0.88547491,\n",
       "         0.79752827,   0.79642742,   3.16961783,   1.10353007,\n",
       "         1.36655647,   0.91027624,          nan,   1.91362235,\n",
       "         1.01156442,   0.90883272,   0.79297992,          nan,\n",
       "         1.35602459,          nan,   2.13412017,   0.79752827,\n",
       "                nan,   1.30575   ,   0.77158718,  70.935     ,\n",
       "                nan,   2.08846639,   0.86235602,   0.78153603,\n",
       "                nan,          nan,   0.77117969,   1.05776709,\n",
       "                nan,   0.95351977,          nan,          nan,\n",
       "                nan,   4.49207207,          nan,   2.07097917,\n",
       "         1.04453586,          nan,   0.83951572,   3.39044369,\n",
       "         2.14336207,   2.6897027 ,   2.63761273,   2.11325532,\n",
       "                nan,   1.29166667,          nan,   1.22152709,\n",
       "        90.48142857,   1.5527856 ,          nan,   1.27715206,\n",
       "        70.935     ,          nan,          nan,   0.92312792,\n",
       "         1.78204301,   0.90065574,   1.23855   ,   0.95071154,\n",
       "                nan,   0.82796312,          nan,   1.05293617,\n",
       "                nan,   0.89494118,   1.20768575,          nan,\n",
       "         0.89906364,   2.06779626,  24.09485714,   1.92319149,\n",
       "                nan,          nan,          nan,   1.52091884,\n",
       "                nan,   1.2199016 ,          nan,   3.31546667,\n",
       "         4.02692308,          nan,          nan,   2.39387952,\n",
       "         4.49207207,          nan,   2.08643606,   1.8209707 ,\n",
       "        70.37222222,          nan,   1.02965661,          nan,\n",
       "         1.4579442 ,  70.935     ,   0.82143095,   0.85758681,\n",
       "                nan,   1.18796163,   1.17163121,  17.0974    ,\n",
       "         0.90238139,   1.42935159,   2.91780059,          nan,\n",
       "                nan,   0.79642742,          nan,   1.29950197,\n",
       "         2.2921659 ,   1.47638393,   1.72933798,   4.451875  ,\n",
       "         0.89384268,   0.87291519,   1.59636656,   0.77158718,\n",
       "                nan,          nan,   1.80710909,   2.37529833,\n",
       "                nan,   1.03952731,   1.32296   ,   2.24476298,\n",
       "         0.91282548,   2.50183417,   0.79104968,   1.01577002,\n",
       "                nan,   0.78715311,   1.19329723,          nan,\n",
       "         0.7744584 ,   2.36828571,          nan,   3.18669872,\n",
       "                nan,   1.56141509,   0.98241311,          nan,\n",
       "         1.14911833,   2.33542254,          nan,   0.94784483,\n",
       "                nan,          nan,          nan,   1.57726984,\n",
       "         0.97750988,   0.8631179 ,   0.77674272,  11.15284091,\n",
       "                nan,          nan,          nan,          nan,\n",
       "                nan,   1.41650499,          nan,   0.91344732,\n",
       "                nan,   0.77014832,          nan,          nan,\n",
       "         2.05010309,   1.64605307,   1.73017422,          nan,\n",
       "                nan,          nan,  90.48142857,   0.93507561,\n",
       "                nan,   1.02965661,          nan,   3.11739812,\n",
       "                nan,          nan,   1.64097521,   0.83336709,\n",
       "         2.34971631,          nan,          nan,          nan,\n",
       "         1.71063683,   0.87437168,          nan,   5.17916667,\n",
       "                nan,          nan,          nan,   1.47579495,\n",
       "         0.90404936,          nan,   1.03159375,   1.30748353,\n",
       "         0.78404289,   0.90751148,          nan,          nan,\n",
       "         1.62742623,   0.95913676,   1.9894    ,   0.77261551,\n",
       "                nan,          nan,          nan,   1.0930574 ,\n",
       "                nan,          nan,   2.64465426,          nan,\n",
       "         1.80052536,   0.91282548,          nan,   1.74028021,\n",
       "         0.95819767,   3.29344371,   1.41368946,   2.13412017,\n",
       "         1.24517588,  54.64666667,   4.0890535 ,   1.87930057,\n",
       "         0.77014832,   5.33315508,   2.03958932,   2.63761273,\n",
       "         1.10976484,   1.88386364,   1.29166667,          nan,\n",
       "         1.33515478,          nan,          nan,   1.66356784,\n",
       "         1.31941489,          nan,   1.00638861,   1.16062061,\n",
       "         1.4735905 ,   0.82889262,          nan,   1.03650262,\n",
       "         1.22348148,          nan,          nan,   1.04342466,\n",
       "                nan,   1.12570455,          nan,          nan,\n",
       "         0.84241262,   0.96413255,          nan,   0.96508293,\n",
       "         1.23069479,   1.02965661,   0.77798266,          nan,\n",
       "                nan,   2.33861176,   1.03706806,   0.82818944,\n",
       "                nan,   8.47905983,   2.993003  ,   1.55770801,\n",
       "                nan,          nan,   1.33696765,   0.97681145,\n",
       "         2.23525843,   0.78699362,          nan,   0.93134652,\n",
       "         1.40158192,          nan,          nan,   0.88577957,\n",
       "         0.99669688,   3.06669753,   0.7744584 ,   2.02490835,\n",
       "         0.97627838,   2.2921659 ,          nan,   1.44218023,\n",
       "                nan,   1.70768041,   1.87930057,          nan,\n",
       "         4.1576569 ,   2.31183721,   1.17833532,          nan,\n",
       "         1.34170501,          nan,   1.8209707 ,          nan,\n",
       "         1.87067797,          nan,   1.55769231,   1.16062061,\n",
       "         2.33192037,          nan,          nan,          nan,\n",
       "                nan,   1.73722028,   1.4901952 ,   0.77260767,\n",
       "                nan,          nan,   1.90465517,   2.42512195,\n",
       "         4.89256158,   1.03539749,          nan,   1.03075   ,\n",
       "         1.65196339,  70.935     ,          nan,   0.91139171,\n",
       "         1.23387298,   0.92431776,          nan,   1.56763033,\n",
       "                nan,   0.94234286,   1.78204301,          nan,\n",
       "         0.95632495,          nan,   1.35054422,   1.83252768,\n",
       "         0.77158718,          nan,   1.14911833,   1.55648903,\n",
       "         1.29301173,          nan,   2.31183721,   1.52003063,\n",
       "         1.39369382,          nan,          nan,          nan,\n",
       "                nan,          nan,   3.97071713,          nan,\n",
       "         3.62054545,   1.02776739,   1.13668578,   0.94784483,\n",
       "                nan,   3.79480916,   1.02056701,          nan,\n",
       "         1.8363586 ,   0.96249027,          nan,   0.7891207 ,\n",
       "         3.10174455,   0.85010327,   2.11325532,          nan,\n",
       "         1.48794603,   1.14911833,   1.00151822,   1.55157813,\n",
       "         1.21246944,   1.13253714,   1.29569935,   1.03430512,\n",
       "         0.81411377,          nan,   1.02805815,          nan,\n",
       "                nan,          nan,   0.94021863,   1.81658135,\n",
       "         2.23525843,          nan,   1.03349687,          nan,\n",
       "                nan,   1.65196339,   0.83864177,   1.14234141,\n",
       "                nan,   1.56141509,          nan,   4.36219298,\n",
       "         0.78699362,   2.5145202 ,   0.85829713,   1.93447471,\n",
       "         1.55157813,   0.85627383,          nan,          nan,\n",
       "         0.96783757,   0.78090981,          nan,   2.0527686 ,\n",
       "                nan,   7.68937984,          nan,          nan,\n",
       "                nan,   1.59636656,   1.05852406,          nan,\n",
       "                nan,          nan,          nan,   0.95125962,\n",
       "        10.12989796,          nan,          nan,   1.22915737,\n",
       "                nan,          nan,          nan,   1.0313125 ,\n",
       "         1.30575   ,          nan,          nan,   0.87569531,\n",
       "         1.57979332,          nan,   1.33154362,          nan,\n",
       "                nan,   2.81245763,   1.097949  ,          nan,\n",
       "         1.60201613,          nan,   3.13712934,          nan,\n",
       "         0.86111595,   1.19185096,          nan,   0.8314899 ,\n",
       "         1.49696833,   1.49924471,   0.77117969,   0.77673485,\n",
       "         0.77756501,          nan,          nan,          nan,\n",
       "                nan,   1.03159375,   3.60365942,  39.579375  ,\n",
       "         2.73826446,   0.94294566,   2.76266667,          nan,\n",
       "                nan,   0.93841556,          nan,          nan,\n",
       "         1.96179487,   1.55157813,   1.36362637,   2.86195402,\n",
       "         3.22106796,          nan,   1.01108274,   1.43638205,\n",
       "         4.35982456,          nan,   1.24993695,          nan,\n",
       "         0.77966035,          nan,          nan,          nan,\n",
       "         0.77220657,   2.83512821,   0.90020947,   4.42048889,\n",
       "         1.03707853,   1.47859911,          nan,   2.06779626,\n",
       "                nan,   0.93240339,          nan,          nan,\n",
       "                nan,          nan,          nan,          nan,\n",
       "         0.92695408,   1.02296488,   1.37533981,   1.15423077,\n",
       "         0.97328417,          nan,   1.56475591,   1.87930057,\n",
       "                nan,          nan,   1.46482301,   0.82070657,\n",
       "         0.77966035,   2.26077273,          nan,   1.67208754,\n",
       "         0.90020947,   0.84827468,   1.48123881,   0.77322884,\n",
       "         2.12495726,          nan,   1.13382151,          nan,\n",
       "                nan,   3.17292994,   0.86980634,   1.39172511,\n",
       "                nan,   1.68543294,   1.31165344,          nan,\n",
       "                nan,   0.77818612,   1.00900102,   2.10743644,\n",
       "                nan,          nan,   0.90231752,   1.08971397,\n",
       "         3.29344371,   0.93707109,          nan,          nan,\n",
       "                nan,          nan,   3.97071713,   0.87442478,\n",
       "                nan,   0.79060849,   0.8117023 ,   1.49924471,\n",
       "         2.08202929,   1.26401786,          nan,   1.02561658,\n",
       "         1.35054422,   0.7790292 ,          nan,   0.77220657,\n",
       "         1.4946988 ,   1.01473846,          nan,   1.14975638,\n",
       "                nan,   1.03430512,   1.19478313,   1.03539749,\n",
       "         2.35271868,   1.18796163,   1.47139259,          nan,\n",
       "         1.84133333,          nan,   0.7744584 ,   3.2934106 ,\n",
       "         1.15582264,   0.88894784,          nan,          nan,\n",
       "         0.771595  ,   1.08971397,   2.35271868,          nan,\n",
       "         0.88634978,          nan,          nan,          nan,\n",
       "         0.78699362,   0.78028458,          nan,          nan,\n",
       "                nan,   1.04454641,   1.03159375,   1.70083904,\n",
       "         1.03981092,   0.92974624,          nan,          nan,\n",
       "         1.40277228,   1.03981092,          nan,   0.94451767,\n",
       "                nan,          nan,          nan,   1.55769231,\n",
       "                nan,          nan,          nan,   0.77014832,\n",
       "                nan,   1.14082949,          nan,   1.78204301,\n",
       "                nan,   2.07097917,   2.53494898,   1.03842602,\n",
       "         1.03842602,          nan,   2.06348548,   0.7736442 ,\n",
       "         1.03540795,   0.8117023 ,          nan,          nan,\n",
       "         1.8209707 ,   2.19986726,   2.76266667,          nan,\n",
       "         0.92974624,   0.90798898,          nan,          nan,\n",
       "         1.80992714,          nan,          nan,   0.89056757,\n",
       "         1.03430512,  63.334     , 126.678     ,          nan,\n",
       "         0.93223374,   1.10011111,   1.03650262,          nan,\n",
       "         1.01949537,          nan,          nan,   0.94021863,\n",
       "                nan,          nan,   1.14064442,          nan,\n",
       "         1.56141509,          nan,   0.83951572,          nan,\n",
       "         0.7773622 ,   3.50003521,          nan,          nan,\n",
       "                nan,          nan,          nan,   3.53754448,\n",
       "                nan,   1.3590137 ,   2.91780059,          nan,\n",
       "         2.6780914 ,   1.29398172,  90.48142857,          nan,\n",
       "         0.83864177,          nan,   5.15227979,          nan,\n",
       "                nan,   0.8930262 ,   1.05153928,   0.77241002,\n",
       "         1.34170501,   2.20915556,   1.04342466,   0.86388112,\n",
       "         6.10245399,          nan,          nan,   0.91515741,\n",
       "         1.05293617,   1.03842602,   2.98816817,   1.4579442 ,\n",
       "                nan,          nan,          nan,          nan,\n",
       "                nan,          nan,   1.3912763 ,   2.02490835,\n",
       "         2.13412017,   2.11878465,          nan,   1.09672204,\n",
       "                nan,   1.35601093,   4.21173729,   2.06779626,\n",
       "         0.96794521,          nan,          nan,          nan,\n",
       "         1.28323415,          nan,          nan,   0.77488226,\n",
       "                nan,   1.86256554,   2.4817207 ,          nan,\n",
       "         0.77220657,   1.08429354,   2.2921659 ,          nan,\n",
       "                nan,   1.5527856 ,   0.88634978,   2.08406709,\n",
       "                nan,   1.37690707,          nan,          nan])"
      ]
     },
     "execution_count": 16,
     "metadata": {},
     "output_type": "execute_result"
    }
   ],
   "source": [
    "spikies_freq_neurons = total_spikes_intervals * time_step / total_spikes_num\n",
    "spikies_freq_neurons"
   ]
  },
  {
   "cell_type": "code",
   "execution_count": 17,
   "metadata": {},
   "outputs": [
    {
     "name": "stderr",
     "output_type": "stream",
     "text": [
      "C:\\ProgramData\\Anaconda3\\lib\\site-packages\\numpy\\lib\\histograms.py:839: RuntimeWarning: invalid value encountered in greater_equal\n",
      "  keep = (tmp_a >= first_edge)\n",
      "C:\\ProgramData\\Anaconda3\\lib\\site-packages\\numpy\\lib\\histograms.py:840: RuntimeWarning: invalid value encountered in less_equal\n",
      "  keep &= (tmp_a <= last_edge)\n"
     ]
    },
    {
     "data": {
      "text/plain": [
       "(array([596.,   2.,   0.,   1.,   2.,   5.,   0.,   4.,   0.,   1.]),\n",
       " array([  0.77014832,  13.36093349,  25.95171866,  38.54250383,\n",
       "         51.13328899,  63.72407416,  76.31485933,  88.9056445 ,\n",
       "        101.49642966, 114.08721483, 126.678     ]),\n",
       " <a list of 10 Patch objects>)"
      ]
     },
     "execution_count": 17,
     "metadata": {},
     "output_type": "execute_result"
    },
    {
     "data": {
      "image/png": "[encoded data removed]",
      "text/plain": [
       "<Figure size 432x288 with 1 Axes>"
      ]
     },
     "metadata": {
      "needs_background": "light"
     },
     "output_type": "display_data"
    }
   ],
   "source": [
    "plt.hist(spikies_freq_neurons)"
   ]
  },
  {
   "cell_type": "code",
   "execution_count": null,
   "metadata": {},
   "outputs": [],
   "source": []
  }
 ],
 "metadata": {
  "kernelspec": {
   "display_name": "Python 3",
   "language": "python",
   "name": "python3"
  },
  "language_info": {
   "codemirror_mode": {
    "name": "ipython",
    "version": 3
   },
   "file_extension": ".py",
   "mimetype": "text/x-python",
   "name": "python",
   "nbconvert_exporter": "python",
   "pygments_lexer": "ipython3",
   "version": "3.7.6"
  }
 },
 "nbformat": 4,
 "nbformat_minor": 4
}
