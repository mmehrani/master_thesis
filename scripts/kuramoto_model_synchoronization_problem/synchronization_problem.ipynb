{
 "cells": [
  {
   "cell_type": "markdown",
   "metadata": {},
   "source": [
    "# Synchornization in complete networks of neurons\n",
    "Here is the equation of neurons potentails dynamics:\n",
    "$$\n",
    "\\dot{v_i}=a_i - v_i - \\frac{g}{N} \\sum_{n|t_n<t} S_{i,l(n)} \\delta(t - t_n - t_d) \n",
    "$$"
   ]
  },
  {
   "cell_type": "code",
   "execution_count": 1,
   "metadata": {},
   "outputs": [],
   "source": [
    "import os\n",
    "import numpy as np\n",
    "import matplotlib.pyplot as plt\n",
    "from tqdm import tqdm"
   ]
  },
  {
   "cell_type": "markdown",
   "metadata": {},
   "source": [
    "## Constants and parameters:"
   ]
  },
  {
   "cell_type": "code",
   "execution_count": 2,
   "metadata": {},
   "outputs": [],
   "source": [
    "num_neurons = 1000\n",
    "g = 5\n",
    "random_input_span = (1.2,2.8)\n",
    "\n",
    "total_time = 1000\n",
    "time_step = 0.01\n",
    "total_steps = int(total_time/time_step)\n",
    "time_span = np.arange(0,total_time,time_step)\n",
    "\n",
    "delay_time = 0.1\n",
    "delay_step = int(delay_time/time_step)\n",
    "\n",
    "potentail_arr = np.zeros(num_neurons,dtype = float)\n",
    "random_input = np.random.uniform(*random_input_span,size = num_neurons)"
   ]
  },
  {
   "cell_type": "code",
   "execution_count": 3,
   "metadata": {},
   "outputs": [],
   "source": [
    "spiking_records = np.array( np.zeros((total_steps,num_neurons)), dtype = bool )"
   ]
  },
  {
   "cell_type": "code",
   "execution_count": 4,
   "metadata": {},
   "outputs": [],
   "source": [
    "saving_path_name = 'single_runs'\n",
    "current_version = 'N{}_T{}_g{}_input_{}_{}'.format(num_neurons,total_time,g,random_input_span[0],random_input_span[1])\n",
    "try:\n",
    "    saving_path = os.path.join(saving_path_name, current_version) \n",
    "    os.makedirs(saving_path)\n",
    "except:\n",
    "    pass"
   ]
  },
  {
   "cell_type": "markdown",
   "metadata": {},
   "source": [
    "## Instrumentes to capture spiking frequency\n",
    "Here we use *cornometer* and number of spikies to measure their frequencies."
   ]
  },
  {
   "cell_type": "code",
   "execution_count": 5,
   "metadata": {},
   "outputs": [],
   "source": [
    "spiking_cornometer = np.zeros(num_neurons)\n",
    "total_spikes_intervals = np.zeros(num_neurons)\n",
    "total_spikes_num = np.zeros(num_neurons)"
   ]
  },
  {
   "cell_type": "markdown",
   "metadata": {},
   "source": [
    "### Useful functions:"
   ]
  },
  {
   "cell_type": "code",
   "execution_count": 6,
   "metadata": {},
   "outputs": [],
   "source": [
    "def retarded_spikes_record(step):\n",
    "    \"\"\"\n",
    "    This is the function which take cares of response delay between spikes and their effects.\n",
    "    \"\"\"\n",
    "    if step > delay_step: \n",
    "        return np.sum(spiking_records[step - delay_step])\n",
    "    else:\n",
    "        return 0"
   ]
  },
  {
   "cell_type": "markdown",
   "metadata": {},
   "source": [
    "## Solving the differential equation"
   ]
  },
  {
   "cell_type": "code",
   "execution_count": 7,
   "metadata": {},
   "outputs": [
    {
     "name": "stderr",
     "output_type": "stream",
     "text": [
      "100%|███████████████████████████████████████████████████████████████████████| 100000/100000 [00:03<00:00, 26003.31it/s]\n"
     ]
    }
   ],
   "source": [
    "for i in tqdm( range(total_steps) ):\n",
    "    potentail_arr = potentail_arr + (random_input - potentail_arr)*time_step - (g/num_neurons)*retarded_spikes_record(i)\n",
    "    spiking_records[i] = potentail_arr > 1\n",
    "    potentail_arr = potentail_arr - 1 * spiking_records[i]\n",
    "    #frequency calculator\n",
    "    total_spikes_num = total_spikes_num + spiking_records[i]\n",
    "    total_spikes_intervals = total_spikes_intervals + spiking_cornometer * spiking_records[i] #add to spike lapsed time\n",
    "    spiking_cornometer = spiking_cornometer * (spiking_records[i]-1)*(-1) #reset the spikied cornos\n",
    "    spiking_cornometer = spiking_cornometer + (spiking_records[i]-1)*(-1) #update the not spikied ones"
   ]
  },
  {
   "cell_type": "code",
   "execution_count": null,
   "metadata": {},
   "outputs": [],
   "source": []
  },
  {
   "cell_type": "code",
   "execution_count": 8,
   "metadata": {},
   "outputs": [
    {
     "data": {
      "text/plain": [
       "(array([ 79.,  75.,  73.,  83., 115., 114., 100., 110., 139., 112.]),\n",
       " array([7.10963672e-04, 1.00558263e-01, 2.00405563e-01, 3.00252862e-01,\n",
       "        4.00100161e-01, 4.99947461e-01, 5.99794760e-01, 6.99642060e-01,\n",
       "        7.99489359e-01, 8.99336659e-01, 9.99183958e-01]),\n",
       " <a list of 10 Patch objects>)"
      ]
     },
     "execution_count": 8,
     "metadata": {},
     "output_type": "execute_result"
    },
    {
     "data": {
      "image/png": "[encoded data removed]",
      "text/plain": [
       "<Figure size 432x288 with 1 Axes>"
      ]
     },
     "metadata": {
      "needs_background": "light"
     },
     "output_type": "display_data"
    }
   ],
   "source": [
    "plt.hist(potentail_arr)"
   ]
  },
  {
   "cell_type": "code",
   "execution_count": null,
   "metadata": {},
   "outputs": [],
   "source": []
  },
  {
   "cell_type": "markdown",
   "metadata": {},
   "source": [
    "# Measuring E (effective field):\n",
    "we can measure if the total network is synchronized. let's define E as following:\n",
    "\n",
    "$$\n",
    "\\ddot{E}+ 2\\alpha \\dot{E}+\\alpha^{2}E =\\frac{\\alpha^{2}}{N} \\sum_{n|tـn<t} \\delta(t - t_n - t_d)\n",
    "$$\n",
    "\n",
    "To do so, we define $M$ as $M = \\dot{E} + \\alpha E$. As a result we wil have the following systems of equation:\n",
    "\\begin{equation}\n",
    "    \\begin{cases}\n",
    "      \\dot{E} = M - \\alpha E\\\\\n",
    "      \\dot{M} = -  \\alpha M + \\frac{ \\alpha^{2} }{N} \\sum_{n|tـn<t} \\delta(t - t_n - t_d)\n",
    "    \\end{cases}\\,.\n",
    "\\end{equation}\n"
   ]
  },
  {
   "cell_type": "code",
   "execution_count": 9,
   "metadata": {},
   "outputs": [],
   "source": [
    "alpha = 20\n",
    "m_arr = np.zeros(total_steps)\n",
    "e_arr = np.zeros(total_steps)"
   ]
  },
  {
   "cell_type": "code",
   "execution_count": 10,
   "metadata": {},
   "outputs": [
    {
     "name": "stderr",
     "output_type": "stream",
     "text": [
      "100%|█████████████████████████████████████████████████████████████████████████| 99999/99999 [00:01<00:00, 85767.67it/s]\n"
     ]
    }
   ],
   "source": [
    "for i in tqdm(range(0,total_steps-1)):\n",
    "    m_arr[i+1] = m_arr[i] + time_step*( -alpha*m_arr[i] ) + ( (alpha**2)/num_neurons ) *retarded_spikes_record(i) \n",
    "    e_arr[i+1] = e_arr[i] + time_step*( m_arr[i] - alpha*e_arr[i] )"
   ]
  },
  {
   "cell_type": "code",
   "execution_count": 11,
   "metadata": {},
   "outputs": [
    {
     "data": {
      "text/plain": [
       "Text(0.5, 1.0, 'E')"
      ]
     },
     "execution_count": 11,
     "metadata": {},
     "output_type": "execute_result"
    },
    {
     "data": {
      "image/png": "[encoded data removed]",
      "text/plain": [
       "<Figure size 432x288 with 1 Axes>"
      ]
     },
     "metadata": {
      "needs_background": "light"
     },
     "output_type": "display_data"
    }
   ],
   "source": [
    "plt.plot(time_span,e_arr)\n",
    "plt.title('E')"
   ]
  },
  {
   "cell_type": "code",
   "execution_count": 12,
   "metadata": {},
   "outputs": [
    {
     "data": {
      "text/plain": [
       "[<matplotlib.lines.Line2D at 0x1db2d754048>]"
      ]
     },
     "execution_count": 12,
     "metadata": {},
     "output_type": "execute_result"
    },
    {
     "data": {
      "image/png": "[encoded data removed]",
      "text/plain": [
       "<Figure size 432x288 with 1 Axes>"
      ]
     },
     "metadata": {
      "needs_background": "light"
     },
     "output_type": "display_data"
    }
   ],
   "source": [
    "plt.plot(e_arr[-1000:])"
   ]
  },
  {
   "cell_type": "code",
   "execution_count": 13,
   "metadata": {},
   "outputs": [
    {
     "data": {
      "text/plain": [
       "0.23117392007694285"
      ]
     },
     "execution_count": 13,
     "metadata": {},
     "output_type": "execute_result"
    }
   ],
   "source": [
    "sigma = np.std( e_arr )\n",
    "sigma"
   ]
  },
  {
   "cell_type": "code",
   "execution_count": null,
   "metadata": {},
   "outputs": [],
   "source": []
  },
  {
   "cell_type": "markdown",
   "metadata": {},
   "source": [
    "# Rasterplot"
   ]
  },
  {
   "cell_type": "code",
   "execution_count": 14,
   "metadata": {},
   "outputs": [
    {
     "data": {
      "image/png": "[encoded data removed]",
      "text/plain": [
       "<Figure size 432x288 with 1 Axes>"
      ]
     },
     "metadata": {
      "needs_background": "light"
     },
     "output_type": "display_data"
    }
   ],
   "source": [
    "plt.imshow( spiking_records,aspect= 'auto')\n",
    "plt.xlabel('Neurons')\n",
    "plt.ylabel('Time')\n",
    "plt.title('Rasterplot')\n",
    "# plt.savefig('raster_plot_N{}.png'.format(num_neurons))\n",
    "plt.savefig(os.path.join(saving_path, 'raster_plot.png'))"
   ]
  },
  {
   "cell_type": "code",
   "execution_count": 15,
   "metadata": {},
   "outputs": [
    {
     "data": {
      "text/plain": [
       "array([[False, False, False, ..., False, False, False],\n",
       "       [False, False, False, ..., False, False, False],\n",
       "       [False, False, False, ..., False, False, False],\n",
       "       ...,\n",
       "       [False, False, False, ..., False, False,  True],\n",
       "       [False, False, False, ..., False, False, False],\n",
       "       [False, False, False, ..., False, False, False]])"
      ]
     },
     "execution_count": 15,
     "metadata": {},
     "output_type": "execute_result"
    }
   ],
   "source": [
    "spiking_records"
   ]
  },
  {
   "cell_type": "code",
   "execution_count": 16,
   "metadata": {},
   "outputs": [
    {
     "data": {
      "text/plain": [
       "[<matplotlib.lines.Line2D at 0x1db2d822d88>]"
      ]
     },
     "execution_count": 16,
     "metadata": {},
     "output_type": "execute_result"
    },
    {
     "data": {
      "image/png": "[encoded data removed]",
      "text/plain": [
       "<Figure size 432x288 with 1 Axes>"
      ]
     },
     "metadata": {
      "needs_background": "light"
     },
     "output_type": "display_data"
    }
   ],
   "source": [
    "plt.plot(np.sum( spiking_records, axis = 1))"
   ]
  },
  {
   "cell_type": "markdown",
   "metadata": {},
   "source": [
    "## Calculate frequency"
   ]
  },
  {
   "cell_type": "code",
   "execution_count": 17,
   "metadata": {},
   "outputs": [
    {
     "name": "stderr",
     "output_type": "stream",
     "text": [
      "C:\\ProgramData\\Anaconda3\\lib\\site-packages\\ipykernel_launcher.py:1: RuntimeWarning: invalid value encountered in true_divide\n",
      "  \"\"\"Entry point for launching an IPython kernel.\n"
     ]
    },
    {
     "data": {
      "text/plain": [
       "array([ 13.52342466,          nan,          nan,   1.9415625 ,\n",
       "         1.0230062 ,   1.0433509 ,          nan,          nan,\n",
       "                nan,          nan,   1.11962712,          nan,\n",
       "                nan,          nan,   2.07605428,   1.4175    ,\n",
       "                nan,   3.64285714,          nan,          nan,\n",
       "                nan,   1.38467225,   1.32401869,          nan,\n",
       "                nan,          nan,          nan,   1.40535411,\n",
       "                nan,          nan,          nan,          nan,\n",
       "         2.89197674,   1.85721495,          nan,          nan,\n",
       "                nan,   1.4175    ,          nan,   1.1752669 ,\n",
       "                nan,   1.04673362, 229.935     ,   1.04148265,\n",
       "         1.53826357,   1.41343305,          nan,          nan,\n",
       "         4.71620853,          nan,          nan,          nan,\n",
       "         1.29160156,   2.16165217,   4.98625   ,   1.0938232 ,\n",
       "                nan,   1.72555556,          nan,          nan,\n",
       "                nan,          nan,   1.21114914,          nan,\n",
       "                nan,          nan,   1.32759036,   1.39844852,\n",
       "                nan,          nan,  27.77484848,   1.68777211,\n",
       "                nan,          nan,          nan,   1.04447257,\n",
       "         1.22320988,          nan,   1.44730321,   1.55770801,\n",
       "                nan,   3.51236749,          nan,   2.66630027,\n",
       "                nan,          nan,   4.83092233,   2.32697892,\n",
       "                nan,   1.2765251 ,          nan,   1.04673362,\n",
       "         1.39733803,          nan,          nan,          nan,\n",
       "                nan,          nan,          nan,          nan,\n",
       "         1.39495077,   2.02802041,          nan,          nan,\n",
       "         1.44655977,   2.02802041,          nan,          nan,\n",
       "                nan,   3.57715827,          nan,          nan,\n",
       "         2.08787815,          nan,   1.5500468 ,          nan,\n",
       "                nan,   1.70281304,          nan,   1.06910367,\n",
       "         1.72555556,          nan,          nan,   2.37591885,\n",
       "                nan,   1.15371362,   3.11265625,   2.78120112,\n",
       "                nan,   1.39843441,   3.90858824,   1.39495077,\n",
       "       308.02      ,          nan,          nan,          nan,\n",
       "                nan,   1.10574777,   1.41139403,   1.37262794,\n",
       "         1.91155769,   2.79909859,          nan,          nan,\n",
       "                nan,          nan,   2.11016985,          nan,\n",
       "         1.38467225,   1.36736915,   1.04370917,   2.94352071,\n",
       "                nan,          nan,   2.96110119,   1.58370016,\n",
       "                nan,          nan,          nan,   2.0827673 ,\n",
       "                nan,          nan,   1.82768382,          nan,\n",
       "         1.0518916 ,          nan,   1.2085    ,          nan,\n",
       "                nan,          nan,  10.46893617,   1.31933511,\n",
       "                nan,   1.58116242,          nan,   1.21813268,\n",
       "         4.96139303,   1.1484241 ,          nan,   1.40335219,\n",
       "                nan,          nan,          nan,   2.11016985,\n",
       "                nan,          nan,   3.29665563,          nan,\n",
       "         1.04625793,          nan,          nan,          nan,\n",
       "         2.102537  ,   1.19930993,          nan,   1.4175    ,\n",
       "         1.17159574,   1.01875514,          nan,   1.42364419,\n",
       "         7.22934307,          nan,          nan,          nan,\n",
       "                nan,   4.30688312,   1.45514663,          nan,\n",
       "                nan,          nan,   1.69647863,   1.04625793,\n",
       "         2.62997354,   1.73882662,          nan,          nan,\n",
       "                nan,          nan,          nan,   1.83245387,\n",
       "                nan,          nan,          nan,   1.4175    ,\n",
       "                nan,   1.39798592,          nan,   2.83805714,\n",
       "         1.40535411,          nan,   8.86405405,  13.71138889,\n",
       "                nan,   2.74765193,          nan,          nan,\n",
       "                nan,   1.82904236,   1.51670229, 598.75      ,\n",
       "         4.45349776,   1.25698352,   2.08043933,   1.68488964,\n",
       "         1.39297753,          nan,          nan,          nan,\n",
       "         1.00440609,   2.362019  ,          nan,   1.295     ,\n",
       "         1.55770801,          nan,          nan,          nan,\n",
       "                nan,          nan,   1.26581098,   4.1755042 ,\n",
       "                nan,          nan,          nan,          nan,\n",
       "                nan,   1.42570402,   1.04558606,          nan,\n",
       "         1.69988014,          nan,   1.4073617 ,   1.04595565,\n",
       "                nan,          nan,          nan,   1.04673362,\n",
       "         1.24492462,          nan,   1.39599156,          nan,\n",
       "                nan,   1.33585464,   2.79120787,          nan,\n",
       "         1.76800712,          nan,          nan,          nan,\n",
       "                nan,   1.39798592,          nan,          nan,\n",
       "         2.03218814,   4.26029915,   3.51367491,   1.39733803,\n",
       "         1.77756708,   1.45086257,   1.13189714,          nan,\n",
       "                nan,          nan,   2.10701271,   2.11468085,\n",
       "         2.32697892,          nan,          nan,          nan,\n",
       "         1.27394602,          nan,   1.40094633,   2.99069069,\n",
       "                nan,          nan,  50.92944444,          nan,\n",
       "                nan,   1.20225728,   1.53108025,   1.04447257,\n",
       "                nan,   2.60918635,          nan,   2.12057569,\n",
       "                nan,   2.95228487,          nan,          nan,\n",
       "         1.1045039 ,          nan,   2.23038117,   1.46886095,\n",
       "                nan,   1.73769231,          nan,   2.08043933,\n",
       "                nan,          nan,          nan,          nan,\n",
       "         8.86405405,          nan,   1.39843441,   1.18044048,\n",
       "                nan,   2.48184539,          nan,   1.61692182,\n",
       "         8.33762712,  29.56774194,   5.28446809,          nan,\n",
       "         1.79696203,          nan,   1.77756708,   1.19973366,\n",
       "                nan,          nan,   1.22669554,          nan,\n",
       "                nan,          nan,   1.35649795,          nan,\n",
       "                nan,          nan,          nan,   2.06184647,\n",
       "                nan,          nan,          nan,          nan,\n",
       "         1.02728216,          nan,          nan,          nan,\n",
       "                nan,   1.01004082,   4.17672269,          nan,\n",
       "                nan,          nan,   6.69128378,   3.0180303 ,\n",
       "                nan,          nan,          nan,          nan,\n",
       "                nan,          nan,   1.39733803,   1.85373134,\n",
       "                nan,          nan,   1.19535585,   1.0433509 ,\n",
       "                nan,          nan,          nan,          nan,\n",
       "                nan,          nan,          nan,   1.41140825,\n",
       "                nan,          nan,          nan,          nan,\n",
       "         1.00132591,   1.40335219,   6.87743056,          nan,\n",
       "         1.20965812,          nan,          nan,   2.5292112 ,\n",
       "                nan,          nan,   1.04370917,          nan,\n",
       "                nan,   5.67777143,          nan,   1.44730321,\n",
       "         1.19091346,   1.73464223,          nan,   1.04673362,\n",
       "         1.50284418,   3.51367491,          nan,          nan,\n",
       "                nan,          nan,   1.04559662,          nan,\n",
       "         1.22725248,   1.32580214,   1.38079277,   1.95793307,\n",
       "         1.57856916,          nan,          nan,          nan,\n",
       "                nan,   1.74303509,          nan,          nan,\n",
       "                nan,   1.11706877,   1.20225728,          nan,\n",
       "                nan,          nan,          nan,   1.19930993,\n",
       "         2.88356522,          nan,   2.79120787,          nan,\n",
       "         5.24921053,   1.1752669 ,   1.39495077, 598.75      ,\n",
       "                nan,   1.17525504,          nan,   2.84621777,\n",
       "                nan,          nan,   1.39733803,          nan,\n",
       "        11.18340909,          nan,          nan,          nan,\n",
       "         2.79120787,          nan,   1.33768194,          nan,\n",
       "         1.68487267,          nan,          nan,   1.1246311 ,\n",
       "         1.04819915,   1.40096045,          nan,          nan,\n",
       "         1.18770983,          nan,   1.1359289 ,          nan,\n",
       "         3.28574257,   2.01839757,          nan,   1.57856916,\n",
       "                nan,          nan,   2.79909859,   1.73769231,\n",
       "                nan,   2.15149351,   1.22669554,          nan,\n",
       "                nan,   3.21718447,   1.84817844,   1.17525504,\n",
       "         1.40094633,          nan,          nan,   1.21813268,\n",
       "         1.77756708,          nan,   1.18341697,   1.39895628,\n",
       "                nan,   2.10251586,   2.10868365,          nan,\n",
       "                nan,          nan,          nan,          nan,\n",
       "                nan,          nan,          nan,          nan,\n",
       "                nan,          nan,          nan,          nan,\n",
       "         1.41139403,          nan,   1.68259322,          nan,\n",
       "         1.1165389 ,   1.18627545,          nan,   2.688     ,\n",
       "                nan,          nan,          nan,          nan,\n",
       "                nan,          nan,          nan,          nan,\n",
       "                nan,          nan,          nan,   2.77169916,\n",
       "                nan,          nan,          nan,          nan,\n",
       "                nan,          nan,          nan,          nan,\n",
       "         1.25131313,   2.83805714,   2.52274112,          nan,\n",
       "         2.91750733,          nan,   0.99623364,          nan,\n",
       "                nan,          nan,   1.00132591,   1.39733803,\n",
       "         1.33585464,   3.87809339,   1.26581098,   3.0180303 ,\n",
       "                nan,          nan,          nan,          nan,\n",
       "                nan,          nan,          nan,   2.55874036,\n",
       "         1.61692182,          nan,          nan,   1.88339015,\n",
       "         1.69695726,   2.99978916,   2.28928571,   1.03052029,\n",
       "                nan,          nan, 598.75      ,   2.82994302,\n",
       "       598.75      ,          nan,          nan,   1.70870912,\n",
       "         2.41385922,          nan,          nan,          nan,\n",
       "                nan,          nan,          nan,   2.5921875 ,\n",
       "                nan,   1.39844852,          nan,   2.10251586,\n",
       "                nan,   1.50284418,   2.88356522,          nan,\n",
       "         1.30575   ,          nan,   1.39599156,   1.39798592,\n",
       "                nan,   1.39798592,          nan,          nan,\n",
       "                nan,          nan,          nan,          nan,\n",
       "                nan,          nan,          nan,          nan,\n",
       "                nan,          nan,   2.78120112,          nan,\n",
       "                nan,          nan,   2.39633735,   1.18627545,\n",
       "                nan,          nan,   1.32329333,   1.39599156,\n",
       "         2.12057569,          nan,   4.45349776,          nan,\n",
       "                nan,          nan,          nan,          nan,\n",
       "         1.24276942,          nan,  45.8355    ,   2.10251586,\n",
       "         1.02407446,   2.5921875 ,          nan,   1.38272981,\n",
       "                nan,          nan,          nan,          nan,\n",
       "                nan,          nan,          nan,          nan,\n",
       "                nan,   1.19298436,          nan,   1.32938338,\n",
       "                nan,          nan,   1.39843441,          nan,\n",
       "         1.39495077,          nan,          nan,          nan,\n",
       "                nan,   4.26029915,   1.39100982,   1.04673362,\n",
       "                nan,   2.7400551 ,   1.39599156,          nan,\n",
       "         1.20225728,          nan,   1.73769231,  11.18340909,\n",
       "         2.63343915,   2.26828767,          nan,          nan,\n",
       "                nan,          nan,   1.04673362,          nan,\n",
       "                nan,          nan,          nan,          nan,\n",
       "         1.05871658,          nan,          nan,   1.65056478,\n",
       "         2.11468085,   2.11016985,   5.67777143,          nan,\n",
       "         1.04181053,          nan,   2.29459584,          nan,\n",
       "                nan,   1.39495077,          nan,          nan,\n",
       "                nan,   1.04707937,          nan,   1.74303509,\n",
       "                nan,          nan,   1.24434128,          nan,\n",
       "                nan,   1.39599156,   1.14175115,          nan,\n",
       "                nan,   2.10251586,          nan,          nan,\n",
       "         1.90786948,          nan,  10.250625  ,   2.43163814,\n",
       "                nan,   7.17688406,          nan,          nan,\n",
       "                nan,          nan,          nan,          nan,\n",
       "                nan,          nan,   1.04673362,          nan,\n",
       "         1.0085423 ,   1.31756972,          nan,          nan,\n",
       "         1.04624736,   1.64506623,   1.20859756,   2.14682505,\n",
       "         1.04447257,          nan,  45.8355    ,          nan,\n",
       "                nan,   4.85453659,  83.34545455,   2.91750733,\n",
       "                nan,          nan,          nan,          nan,\n",
       "                nan,          nan,          nan,          nan,\n",
       "         1.04625793,          nan,          nan,          nan,\n",
       "         2.21741071,   4.96139303,          nan,          nan,\n",
       "        15.79932203,   1.676875  ,          nan,          nan,\n",
       "                nan,   3.03954128,          nan,   2.11468085,\n",
       "         1.06910367,          nan,   2.99972892,          nan,\n",
       "                nan,   1.27394602,          nan,          nan,\n",
       "                nan,          nan,          nan,          nan,\n",
       "         6.35471338,          nan,   3.55153571,   1.07027027,\n",
       "                nan,          nan,   1.07261105,   1.39599156,\n",
       "         1.0230062 ,          nan,          nan,   2.10701271,\n",
       "         2.5921875 , 183.946     ,          nan,   2.393125  ,\n",
       "         1.69177172,          nan,          nan,          nan,\n",
       "                nan,   1.16879717,          nan,          nan,\n",
       "                nan,          nan,          nan,          nan,\n",
       "                nan,          nan,          nan,   1.39495077,\n",
       "                nan,   2.02234216,   2.34351415,   1.43674385,\n",
       "                nan,   1.73464223,   2.12057569,          nan,\n",
       "                nan,   1.04625793,   1.04625793,   1.49600904,\n",
       "         1.02728216,          nan,   1.45514663,   1.00132591,\n",
       "                nan,   6.92559441,          nan,   2.34351415,\n",
       "         2.79120787,          nan,   1.37262794,          nan,\n",
       "         1.54638629,   1.01981462,          nan,   1.73160279,\n",
       "                nan,          nan,   1.70281304,   3.05830769,\n",
       "         1.32329333,   1.03270073,          nan,          nan,\n",
       "                nan,          nan,          nan,          nan,\n",
       "                nan,          nan,   1.40535411,          nan,\n",
       "         1.39297753,          nan,   1.04739683,   1.04037815,\n",
       "         2.82994302,   1.57353407,   5.19442708,          nan,\n",
       "                nan,          nan,          nan,   2.40799031,\n",
       "         2.99972892,          nan,          nan,   2.11468085,\n",
       "                nan,   3.11265625,          nan,          nan,\n",
       "         1.04624736,   1.55035937,          nan,   1.04625793,\n",
       "         1.36313187,          nan,          nan,   4.41150442,\n",
       "                nan,          nan,          nan,          nan,\n",
       "                nan,   1.46162003,          nan,   1.04559662,\n",
       "                nan,          nan,          nan,   1.04447257,\n",
       "                nan,          nan,   1.91155769,          nan,\n",
       "                nan,          nan,          nan,   3.81850575,\n",
       "                nan,          nan,          nan,          nan,\n",
       "                nan,          nan,   1.72555556,          nan,\n",
       "                nan,          nan,   2.7249589 ,  48.24842105,\n",
       "         1.75179894,          nan,   1.43674385,   1.27394602,\n",
       "                nan,   1.39599156,   1.98325349,   2.38736211,\n",
       "                nan,   1.04370917,          nan,          nan,\n",
       "         1.27160256,   1.39495077,   1.15641774,          nan,\n",
       "                nan,   1.04369863,          nan,   2.1759081 ,\n",
       "                nan,   1.04673362,          nan,          nan,\n",
       "         2.08043933, 183.946     ,          nan,   1.0433509 ,\n",
       "       308.02      ,          nan,          nan,          nan,\n",
       "                nan,          nan,   1.3678069 ,          nan,\n",
       "                nan,          nan,          nan,          nan,\n",
       "        38.19458333,   1.74303509,   1.69124361,   2.37591885,\n",
       "                nan,          nan,          nan,   1.01348004,\n",
       "         1.39495077,   1.74303509,          nan,          nan,\n",
       "                nan,   2.89197674,          nan,   1.95021569,\n",
       "         1.04819915,   1.02407446,   1.04673362,   1.04594509])"
      ]
     },
     "execution_count": 17,
     "metadata": {},
     "output_type": "execute_result"
    }
   ],
   "source": [
    "spikies_freq_neurons = total_spikes_intervals * time_step / total_spikes_num\n",
    "spikies_freq_neurons"
   ]
  },
  {
   "cell_type": "code",
   "execution_count": 18,
   "metadata": {},
   "outputs": [
    {
     "name": "stderr",
     "output_type": "stream",
     "text": [
      "C:\\ProgramData\\Anaconda3\\lib\\site-packages\\numpy\\lib\\histograms.py:839: RuntimeWarning: invalid value encountered in greater_equal\n",
      "  keep = (tmp_a >= first_edge)\n",
      "C:\\ProgramData\\Anaconda3\\lib\\site-packages\\numpy\\lib\\histograms.py:840: RuntimeWarning: invalid value encountered in less_equal\n",
      "  keep &= (tmp_a <= last_edge)\n"
     ]
    },
    {
     "data": {
      "text/plain": [
       "(array([426.,   1.,   0.,   3.,   0.,   2.,   0.,   0.,   0.,   4.]),\n",
       " array([  0.99623364,  60.77161027, 120.54698691, 180.32236354,\n",
       "        240.09774018, 299.87311682, 359.64849345, 419.42387009,\n",
       "        479.19924673, 538.97462336, 598.75      ]),\n",
       " <a list of 10 Patch objects>)"
      ]
     },
     "execution_count": 18,
     "metadata": {},
     "output_type": "execute_result"
    },
    {
     "data": {
      "image/png": "[encoded data removed]",
      "text/plain": [
       "<Figure size 432x288 with 1 Axes>"
      ]
     },
     "metadata": {
      "needs_background": "light"
     },
     "output_type": "display_data"
    }
   ],
   "source": [
    "plt.hist(spikies_freq_neurons)"
   ]
  },
  {
   "cell_type": "code",
   "execution_count": null,
   "metadata": {},
   "outputs": [],
   "source": []
  }
 ],
 "metadata": {
  "kernelspec": {
   "display_name": "Python 3",
   "language": "python",
   "name": "python3"
  },
  "language_info": {
   "codemirror_mode": {
    "name": "ipython",
    "version": 3
   },
   "file_extension": ".py",
   "mimetype": "text/x-python",
   "name": "python",
   "nbconvert_exporter": "python",
   "pygments_lexer": "ipython3",
   "version": "3.7.6"
  }
 },
 "nbformat": 4,
 "nbformat_minor": 4
}
