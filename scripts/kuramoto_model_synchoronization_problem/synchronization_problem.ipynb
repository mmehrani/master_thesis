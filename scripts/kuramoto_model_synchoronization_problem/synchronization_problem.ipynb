{
 "cells": [
  {
   "cell_type": "markdown",
   "metadata": {},
   "source": [
    "# Synchornization in complete networks of neurons\n",
    "Here is the equation of neurons potentails dynamics:\n",
    "$$\n",
    "\\dot{v_i}=a_i - v_i - \\frac{g}{N} \\sum_{n|t_n<t} S_{i,l(n)} \\delta(t - t_n - t_d) \n",
    "$$"
   ]
  },
  {
   "cell_type": "code",
   "execution_count": 1,
   "metadata": {},
   "outputs": [],
   "source": [
    "import numpy as np\n",
    "import matplotlib.pyplot as plt\n",
    "from tqdm import tqdm"
   ]
  },
  {
   "cell_type": "markdown",
   "metadata": {},
   "source": [
    "## Constants and parameters:"
   ]
  },
  {
   "cell_type": "code",
   "execution_count": 2,
   "metadata": {},
   "outputs": [],
   "source": [
    "num_neurons = 1000\n",
    "g = 0\n",
    "random_input_span = (1.2,2.8)\n",
    "\n",
    "total_time = 1000\n",
    "time_step = 0.01\n",
    "total_steps = int(total_time/time_step)\n",
    "time_span = np.arange(0,total_time,time_step)\n",
    "\n",
    "delay_time = 0.1\n",
    "delay_step = int(delay_time/time_step)\n",
    "\n",
    "potentail_arr = np.zeros(num_neurons,dtype = float)\n",
    "random_input = np.random.uniform(*random_input_span,size = num_neurons)"
   ]
  },
  {
   "cell_type": "code",
   "execution_count": 3,
   "metadata": {},
   "outputs": [],
   "source": [
    "spiking_records = np.array( np.zeros((total_steps,num_neurons)), dtype = bool )"
   ]
  },
  {
   "cell_type": "markdown",
   "metadata": {},
   "source": [
    "### Useful functions:"
   ]
  },
  {
   "cell_type": "code",
   "execution_count": 4,
   "metadata": {},
   "outputs": [],
   "source": [
    "def retarded_spikes_record(step):\n",
    "    \"\"\"\n",
    "    This is the function which take cares of response delay between spikes and their effects.\n",
    "    \"\"\"\n",
    "    if step > delay_step: \n",
    "        return np.sum(spiking_records[step - delay_step])\n",
    "    else:\n",
    "        return 0"
   ]
  },
  {
   "cell_type": "markdown",
   "metadata": {},
   "source": [
    "## Solving the differential equation"
   ]
  },
  {
   "cell_type": "code",
   "execution_count": 5,
   "metadata": {},
   "outputs": [
    {
     "name": "stderr",
     "output_type": "stream",
     "text": [
      "100%|████████████████████████████████████████████████████████████████████████| 100000/100000 [00:21<00:00, 4586.08it/s]\n"
     ]
    }
   ],
   "source": [
    "for i in tqdm( range(total_steps) ):\n",
    "    potentail_arr = potentail_arr + (random_input - potentail_arr)*time_step - (g/num_neurons)*retarded_spikes_record(i)\n",
    "    spiking_records[i] = potentail_arr > 1\n",
    "    reset_func = lambda v: v-1 if v>1 else v\n",
    "    vfunc = np.vectorize(reset_func)\n",
    "    potentail_arr = vfunc(potentail_arr)"
   ]
  },
  {
   "cell_type": "code",
   "execution_count": null,
   "metadata": {},
   "outputs": [],
   "source": []
  },
  {
   "cell_type": "code",
   "execution_count": 6,
   "metadata": {},
   "outputs": [
    {
     "data": {
      "text/plain": [
       "(array([ 60.,  84.,  76.,  80.,  95., 110.,  89., 112., 151., 143.]),\n",
       " array([4.99891131e-05, 9.98138793e-02, 1.99577770e-01, 2.99341660e-01,\n",
       "        3.99105550e-01, 4.98869440e-01, 5.98633330e-01, 6.98397221e-01,\n",
       "        7.98161111e-01, 8.97925001e-01, 9.97688891e-01]),\n",
       " <a list of 10 Patch objects>)"
      ]
     },
     "execution_count": 6,
     "metadata": {},
     "output_type": "execute_result"
    },
    {
     "data": {
      "image/png": "[encoded data removed]",
      "text/plain": [
       "<Figure size 432x288 with 1 Axes>"
      ]
     },
     "metadata": {
      "needs_background": "light"
     },
     "output_type": "display_data"
    }
   ],
   "source": [
    "plt.hist(potentail_arr)"
   ]
  },
  {
   "cell_type": "code",
   "execution_count": null,
   "metadata": {},
   "outputs": [],
   "source": []
  },
  {
   "cell_type": "markdown",
   "metadata": {},
   "source": [
    "# Measuring E (effective field):\n",
    "we can measure if the total network is synchronized. let's define E as following:\n",
    "\n",
    "$$\n",
    "\\ddot{E}+ 2\\alpha \\dot{E}+\\alpha^{2}E =\\frac{\\alpha^{2}}{N} \\sum_{n|tـn<t} \\delta(t - t_n - t_d)\n",
    "$$\n",
    "\n",
    "To do so, we define $M$ as $M = \\dot{E} + \\alpha E$. As a result we wil have the following systems of equation:\n",
    "\\begin{equation}\n",
    "    \\begin{cases}\n",
    "      \\dot{E} = M - \\alpha E\\\\\n",
    "      \\dot{M} = -  \\alpha M + \\frac{ \\alpha^{2} }{N} \\sum_{n|tـn<t} \\delta(t - t_n - t_d)\n",
    "    \\end{cases}\\,.\n",
    "\\end{equation}\n"
   ]
  },
  {
   "cell_type": "code",
   "execution_count": 7,
   "metadata": {},
   "outputs": [],
   "source": [
    "alpha = 20\n",
    "m_arr = np.zeros(total_steps)\n",
    "e_arr = np.zeros(total_steps)"
   ]
  },
  {
   "cell_type": "code",
   "execution_count": 8,
   "metadata": {},
   "outputs": [
    {
     "name": "stderr",
     "output_type": "stream",
     "text": [
      "100%|█████████████████████████████████████████████████████████████████████████| 99999/99999 [00:01<00:00, 51258.44it/s]\n"
     ]
    }
   ],
   "source": [
    "for i in tqdm(range(0,total_steps-1)):\n",
    "    m_arr[i+1] = m_arr[i] + time_step*( -alpha*m_arr[i] ) + ( (alpha**2)/num_neurons ) *retarded_spikes_record(i) \n",
    "    e_arr[i+1] = e_arr[i] + time_step*( m_arr[i] - alpha*e_arr[i] )"
   ]
  },
  {
   "cell_type": "code",
   "execution_count": 9,
   "metadata": {},
   "outputs": [
    {
     "data": {
      "text/plain": [
       "Text(0.5, 1.0, 'E')"
      ]
     },
     "execution_count": 9,
     "metadata": {},
     "output_type": "execute_result"
    },
    {
     "data": {
      "image/png": "[encoded data removed]",
      "text/plain": [
       "<Figure size 432x288 with 1 Axes>"
      ]
     },
     "metadata": {
      "needs_background": "light"
     },
     "output_type": "display_data"
    }
   ],
   "source": [
    "plt.plot(time_span,e_arr)\n",
    "plt.title('E')"
   ]
  },
  {
   "cell_type": "code",
   "execution_count": 10,
   "metadata": {},
   "outputs": [
    {
     "data": {
      "text/plain": [
       "0.20123111891143905"
      ]
     },
     "execution_count": 10,
     "metadata": {},
     "output_type": "execute_result"
    }
   ],
   "source": [
    "sigma = np.std( e_arr )\n",
    "sigma"
   ]
  },
  {
   "cell_type": "code",
   "execution_count": null,
   "metadata": {},
   "outputs": [],
   "source": []
  },
  {
   "cell_type": "markdown",
   "metadata": {},
   "source": [
    "# Rasterplot"
   ]
  },
  {
   "cell_type": "code",
   "execution_count": 11,
   "metadata": {},
   "outputs": [
    {
     "data": {
      "image/png": "[encoded data removed]",
      "text/plain": [
       "<Figure size 432x288 with 1 Axes>"
      ]
     },
     "metadata": {
      "needs_background": "light"
     },
     "output_type": "display_data"
    }
   ],
   "source": [
    "plt.imshow( spiking_records,aspect= 'auto')\n",
    "plt.xlabel('Neurons')\n",
    "plt.ylabel('Time')\n",
    "plt.title('Rasterplot')\n",
    "plt.savefig('raster_plot_N{}.png'.format(num_neurons))"
   ]
  },
  {
   "cell_type": "code",
   "execution_count": 12,
   "metadata": {},
   "outputs": [
    {
     "data": {
      "text/plain": [
       "array([[False, False, False, ..., False, False, False],\n",
       "       [False, False, False, ..., False, False, False],\n",
       "       [False, False, False, ..., False, False, False],\n",
       "       ...,\n",
       "       [False, False, False, ..., False, False, False],\n",
       "       [False, False, False, ..., False, False, False],\n",
       "       [False, False, False, ..., False, False, False]])"
      ]
     },
     "execution_count": 12,
     "metadata": {},
     "output_type": "execute_result"
    }
   ],
   "source": [
    "spiking_records"
   ]
  },
  {
   "cell_type": "code",
   "execution_count": 13,
   "metadata": {},
   "outputs": [
    {
     "data": {
      "text/plain": [
       "[<matplotlib.lines.Line2D at 0x241b04cd688>]"
      ]
     },
     "execution_count": 13,
     "metadata": {},
     "output_type": "execute_result"
    },
    {
     "data": {
      "image/png": "[encoded data removed]",
      "text/plain": [
       "<Figure size 432x288 with 1 Axes>"
      ]
     },
     "metadata": {
      "needs_background": "light"
     },
     "output_type": "display_data"
    }
   ],
   "source": [
    "plt.plot(np.sum( spiking_records, axis = 1))"
   ]
  },
  {
   "cell_type": "code",
   "execution_count": null,
   "metadata": {},
   "outputs": [],
   "source": []
  }
 ],
 "metadata": {
  "kernelspec": {
   "display_name": "Python 3",
   "language": "python",
   "name": "python3"
  },
  "language_info": {
   "codemirror_mode": {
    "name": "ipython",
    "version": 3
   },
   "file_extension": ".py",
   "mimetype": "text/x-python",
   "name": "python",
   "nbconvert_exporter": "python",
   "pygments_lexer": "ipython3",
   "version": "3.7.6"
  }
 },
 "nbformat": 4,
 "nbformat_minor": 4
}
