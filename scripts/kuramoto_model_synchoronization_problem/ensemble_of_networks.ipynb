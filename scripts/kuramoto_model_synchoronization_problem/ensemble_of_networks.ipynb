{
 "cells": [
  {
   "cell_type": "markdown",
   "metadata": {},
   "source": [
    "# Netwoks in different connectivty (g):\n",
    "This notebook will set networks side by side which are different in the connectivity constant \"g\".\n",
    "This procedure will be done with the help of engine code in __network_simulation.py__ file. It contains network object and serves its behaviours."
   ]
  },
  {
   "cell_type": "code",
   "execution_count": 1,
   "metadata": {},
   "outputs": [],
   "source": [
    "import numpy as np\n",
    "from tqdm import tqdm\n",
    "import matplotlib.pyplot as plt"
   ]
  },
  {
   "cell_type": "code",
   "execution_count": 2,
   "metadata": {},
   "outputs": [],
   "source": [
    "%%capture\n",
    "from tqdm import tqdm_notebook as tqdm\n",
    "tqdm().pandas() #This line make sure that the progress bars looks natural."
   ]
  },
  {
   "cell_type": "code",
   "execution_count": null,
   "metadata": {},
   "outputs": [],
   "source": []
  },
  {
   "cell_type": "code",
   "execution_count": 3,
   "metadata": {},
   "outputs": [],
   "source": [
    "from network_simulation import Kuramoto_neural_network"
   ]
  },
  {
   "cell_type": "code",
   "execution_count": 4,
   "metadata": {},
   "outputs": [],
   "source": [
    "connectivity_span = np.arange(0.1,5,0.25)\n",
    "num_ensembles_each_g = 5\n",
    "sigma_record = np.zeros( shape = (len(connectivity_span),num_ensembles_each_g) )"
   ]
  },
  {
   "cell_type": "markdown",
   "metadata": {},
   "source": [
    "## Creating various ensembles:"
   ]
  },
  {
   "cell_type": "code",
   "execution_count": 5,
   "metadata": {},
   "outputs": [],
   "source": [
    "num_neurons = 1000\n",
    "total_time = 1000"
   ]
  },
  {
   "cell_type": "code",
   "execution_count": 6,
   "metadata": {},
   "outputs": [
    {
     "name": "stderr",
     "output_type": "stream",
     "text": [
      "C:\\ProgramData\\Anaconda3\\lib\\site-packages\\ipykernel_launcher.py:1: TqdmDeprecationWarning: This function will be removed in tqdm==5.0.0\n",
      "Please use `tqdm.notebook.tqdm` instead of `tqdm.tqdm_notebook`\n",
      "  \"\"\"Entry point for launching an IPython kernel.\n"
     ]
    },
    {
     "data": {
      "application/vnd.jupyter.widget-view+json": {
       "model_id": "577ab36c1abd4a899299a6f7688c1440",
       "version_major": 2,
       "version_minor": 0
      },
      "text/plain": [
       "HBox(children=(FloatProgress(value=0.0, description='Variation of connectivities', max=20.0, style=ProgressSty…"
      ]
     },
     "metadata": {},
     "output_type": "display_data"
    },
    {
     "name": "stderr",
     "output_type": "stream",
     "text": [
      "C:\\ProgramData\\Anaconda3\\lib\\site-packages\\ipykernel_launcher.py:2: TqdmDeprecationWarning: This function will be removed in tqdm==5.0.0\n",
      "Please use `tqdm.notebook.tqdm` instead of `tqdm.tqdm_notebook`\n",
      "  \n"
     ]
    },
    {
     "data": {
      "application/vnd.jupyter.widget-view+json": {
       "model_id": "6196aceeadd04924bfd9774d5b8a859d",
       "version_major": 2,
       "version_minor": 0
      },
      "text/plain": [
       "HBox(children=(FloatProgress(value=0.0, description='Making ensembles', max=5.0, style=ProgressStyle(descripti…"
      ]
     },
     "metadata": {},
     "output_type": "display_data"
    },
    {
     "name": "stderr",
     "output_type": "stream",
     "text": [
      "network dynamic: 100%|███████████████████████████████████████████████████████| 100000/100000 [00:26<00:00, 3822.31it/s]\n",
      "network dynamic: 100%|███████████████████████████████████████████████████████| 100000/100000 [00:24<00:00, 4076.87it/s]\n",
      "network dynamic: 100%|███████████████████████████████████████████████████████| 100000/100000 [00:24<00:00, 4091.29it/s]\n",
      "network dynamic: 100%|███████████████████████████████████████████████████████| 100000/100000 [00:23<00:00, 4190.00it/s]\n",
      "network dynamic: 100%|███████████████████████████████████████████████████████| 100000/100000 [00:20<00:00, 4924.37it/s]\n"
     ]
    },
    {
     "name": "stdout",
     "output_type": "stream",
     "text": [
      "\n"
     ]
    },
    {
     "data": {
      "application/vnd.jupyter.widget-view+json": {
       "model_id": "18f076a94e4440e99784f487dff54d75",
       "version_major": 2,
       "version_minor": 0
      },
      "text/plain": [
       "HBox(children=(FloatProgress(value=0.0, description='Making ensembles', max=5.0, style=ProgressStyle(descripti…"
      ]
     },
     "metadata": {},
     "output_type": "display_data"
    },
    {
     "name": "stderr",
     "output_type": "stream",
     "text": [
      "network dynamic: 100%|███████████████████████████████████████████████████████| 100000/100000 [00:21<00:00, 4726.16it/s]\n",
      "network dynamic: 100%|███████████████████████████████████████████████████████| 100000/100000 [00:24<00:00, 4155.29it/s]\n",
      "network dynamic: 100%|███████████████████████████████████████████████████████| 100000/100000 [00:24<00:00, 4001.30it/s]\n",
      "network dynamic: 100%|███████████████████████████████████████████████████████| 100000/100000 [00:24<00:00, 4054.81it/s]\n",
      "network dynamic: 100%|███████████████████████████████████████████████████████| 100000/100000 [00:24<00:00, 4136.24it/s]\n"
     ]
    },
    {
     "name": "stdout",
     "output_type": "stream",
     "text": [
      "\n"
     ]
    },
    {
     "data": {
      "application/vnd.jupyter.widget-view+json": {
       "model_id": "afc2658364c448f79c9464709790e608",
       "version_major": 2,
       "version_minor": 0
      },
      "text/plain": [
       "HBox(children=(FloatProgress(value=0.0, description='Making ensembles', max=5.0, style=ProgressStyle(descripti…"
      ]
     },
     "metadata": {},
     "output_type": "display_data"
    },
    {
     "name": "stderr",
     "output_type": "stream",
     "text": [
      "network dynamic: 100%|███████████████████████████████████████████████████████| 100000/100000 [00:24<00:00, 4094.56it/s]\n",
      "network dynamic: 100%|███████████████████████████████████████████████████████| 100000/100000 [00:24<00:00, 4057.98it/s]\n",
      "network dynamic: 100%|███████████████████████████████████████████████████████| 100000/100000 [00:26<00:00, 3822.15it/s]\n",
      "network dynamic: 100%|███████████████████████████████████████████████████████| 100000/100000 [00:25<00:00, 3852.14it/s]\n",
      "network dynamic: 100%|███████████████████████████████████████████████████████| 100000/100000 [00:25<00:00, 3912.95it/s]\n"
     ]
    },
    {
     "name": "stdout",
     "output_type": "stream",
     "text": [
      "\n"
     ]
    },
    {
     "data": {
      "application/vnd.jupyter.widget-view+json": {
       "model_id": "5415ba2862354fd5857da1e8989456b6",
       "version_major": 2,
       "version_minor": 0
      },
      "text/plain": [
       "HBox(children=(FloatProgress(value=0.0, description='Making ensembles', max=5.0, style=ProgressStyle(descripti…"
      ]
     },
     "metadata": {},
     "output_type": "display_data"
    },
    {
     "name": "stderr",
     "output_type": "stream",
     "text": [
      "network dynamic: 100%|███████████████████████████████████████████████████████| 100000/100000 [00:24<00:00, 4075.39it/s]\n",
      "network dynamic: 100%|███████████████████████████████████████████████████████| 100000/100000 [00:24<00:00, 4004.82it/s]\n",
      "network dynamic: 100%|███████████████████████████████████████████████████████| 100000/100000 [00:26<00:00, 3805.15it/s]\n",
      "network dynamic: 100%|███████████████████████████████████████████████████████| 100000/100000 [00:24<00:00, 4018.21it/s]\n",
      "network dynamic: 100%|███████████████████████████████████████████████████████| 100000/100000 [00:24<00:00, 4063.07it/s]\n"
     ]
    },
    {
     "name": "stdout",
     "output_type": "stream",
     "text": [
      "\n"
     ]
    },
    {
     "data": {
      "application/vnd.jupyter.widget-view+json": {
       "model_id": "6921f0a47c7c44daa8127d25de53aaab",
       "version_major": 2,
       "version_minor": 0
      },
      "text/plain": [
       "HBox(children=(FloatProgress(value=0.0, description='Making ensembles', max=5.0, style=ProgressStyle(descripti…"
      ]
     },
     "metadata": {},
     "output_type": "display_data"
    },
    {
     "name": "stderr",
     "output_type": "stream",
     "text": [
      "network dynamic: 100%|███████████████████████████████████████████████████████| 100000/100000 [00:24<00:00, 4089.68it/s]\n",
      "network dynamic: 100%|███████████████████████████████████████████████████████| 100000/100000 [00:24<00:00, 4118.10it/s]\n",
      "network dynamic: 100%|███████████████████████████████████████████████████████| 100000/100000 [00:24<00:00, 4094.85it/s]\n",
      "network dynamic: 100%|███████████████████████████████████████████████████████| 100000/100000 [00:24<00:00, 4082.24it/s]\n",
      "network dynamic: 100%|███████████████████████████████████████████████████████| 100000/100000 [00:24<00:00, 4003.17it/s]\n"
     ]
    },
    {
     "name": "stdout",
     "output_type": "stream",
     "text": [
      "\n"
     ]
    },
    {
     "data": {
      "application/vnd.jupyter.widget-view+json": {
       "model_id": "131f6b6efb9146939c2d9c3f520cb1ba",
       "version_major": 2,
       "version_minor": 0
      },
      "text/plain": [
       "HBox(children=(FloatProgress(value=0.0, description='Making ensembles', max=5.0, style=ProgressStyle(descripti…"
      ]
     },
     "metadata": {},
     "output_type": "display_data"
    },
    {
     "name": "stderr",
     "output_type": "stream",
     "text": [
      "network dynamic: 100%|███████████████████████████████████████████████████████| 100000/100000 [00:26<00:00, 3828.39it/s]\n",
      "network dynamic: 100%|███████████████████████████████████████████████████████| 100000/100000 [00:23<00:00, 4167.86it/s]\n",
      "network dynamic: 100%|███████████████████████████████████████████████████████| 100000/100000 [00:24<00:00, 4160.87it/s]\n",
      "network dynamic: 100%|███████████████████████████████████████████████████████| 100000/100000 [00:23<00:00, 4330.35it/s]\n",
      "network dynamic: 100%|███████████████████████████████████████████████████████| 100000/100000 [00:23<00:00, 4204.99it/s]\n"
     ]
    },
    {
     "name": "stdout",
     "output_type": "stream",
     "text": [
      "\n"
     ]
    },
    {
     "data": {
      "application/vnd.jupyter.widget-view+json": {
       "model_id": "910e5079b4cd4795bffd7ffa236a033d",
       "version_major": 2,
       "version_minor": 0
      },
      "text/plain": [
       "HBox(children=(FloatProgress(value=0.0, description='Making ensembles', max=5.0, style=ProgressStyle(descripti…"
      ]
     },
     "metadata": {},
     "output_type": "display_data"
    },
    {
     "name": "stderr",
     "output_type": "stream",
     "text": [
      "network dynamic: 100%|███████████████████████████████████████████████████████| 100000/100000 [00:23<00:00, 4171.20it/s]\n",
      "network dynamic: 100%|███████████████████████████████████████████████████████| 100000/100000 [00:23<00:00, 4256.71it/s]\n",
      "network dynamic: 100%|███████████████████████████████████████████████████████| 100000/100000 [00:23<00:00, 4264.40it/s]\n",
      "network dynamic: 100%|███████████████████████████████████████████████████████| 100000/100000 [00:23<00:00, 4267.51it/s]\n",
      "network dynamic: 100%|███████████████████████████████████████████████████████| 100000/100000 [00:23<00:00, 4248.90it/s]\n"
     ]
    },
    {
     "name": "stdout",
     "output_type": "stream",
     "text": [
      "\n"
     ]
    },
    {
     "data": {
      "application/vnd.jupyter.widget-view+json": {
       "model_id": "6998293bd8134532a74d96ec009c8ca5",
       "version_major": 2,
       "version_minor": 0
      },
      "text/plain": [
       "HBox(children=(FloatProgress(value=0.0, description='Making ensembles', max=5.0, style=ProgressStyle(descripti…"
      ]
     },
     "metadata": {},
     "output_type": "display_data"
    },
    {
     "name": "stderr",
     "output_type": "stream",
     "text": [
      "network dynamic: 100%|███████████████████████████████████████████████████████| 100000/100000 [00:23<00:00, 4210.13it/s]\n",
      "network dynamic: 100%|███████████████████████████████████████████████████████| 100000/100000 [00:23<00:00, 4221.43it/s]\n",
      "network dynamic: 100%|███████████████████████████████████████████████████████| 100000/100000 [00:23<00:00, 4282.49it/s]\n",
      "network dynamic: 100%|███████████████████████████████████████████████████████| 100000/100000 [00:23<00:00, 4287.84it/s]\n",
      "network dynamic: 100%|███████████████████████████████████████████████████████| 100000/100000 [00:23<00:00, 4210.68it/s]\n"
     ]
    },
    {
     "name": "stdout",
     "output_type": "stream",
     "text": [
      "\n"
     ]
    },
    {
     "data": {
      "application/vnd.jupyter.widget-view+json": {
       "model_id": "c663716c19824147a8ac55bc7aa4787d",
       "version_major": 2,
       "version_minor": 0
      },
      "text/plain": [
       "HBox(children=(FloatProgress(value=0.0, description='Making ensembles', max=5.0, style=ProgressStyle(descripti…"
      ]
     },
     "metadata": {},
     "output_type": "display_data"
    },
    {
     "name": "stderr",
     "output_type": "stream",
     "text": [
      "network dynamic: 100%|███████████████████████████████████████████████████████| 100000/100000 [00:23<00:00, 4251.78it/s]\n",
      "network dynamic: 100%|███████████████████████████████████████████████████████| 100000/100000 [00:23<00:00, 4244.87it/s]\n",
      "network dynamic: 100%|███████████████████████████████████████████████████████| 100000/100000 [00:23<00:00, 4284.47it/s]\n",
      "network dynamic: 100%|███████████████████████████████████████████████████████| 100000/100000 [00:22<00:00, 4436.04it/s]\n",
      "network dynamic: 100%|███████████████████████████████████████████████████████| 100000/100000 [00:22<00:00, 4455.38it/s]\n"
     ]
    },
    {
     "name": "stdout",
     "output_type": "stream",
     "text": [
      "\n"
     ]
    },
    {
     "data": {
      "application/vnd.jupyter.widget-view+json": {
       "model_id": "75019adb61254af5aaa5383cfed5880d",
       "version_major": 2,
       "version_minor": 0
      },
      "text/plain": [
       "HBox(children=(FloatProgress(value=0.0, description='Making ensembles', max=5.0, style=ProgressStyle(descripti…"
      ]
     },
     "metadata": {},
     "output_type": "display_data"
    },
    {
     "name": "stderr",
     "output_type": "stream",
     "text": [
      "network dynamic: 100%|███████████████████████████████████████████████████████| 100000/100000 [00:22<00:00, 4524.05it/s]\n",
      "network dynamic: 100%|███████████████████████████████████████████████████████| 100000/100000 [00:22<00:00, 4384.76it/s]\n",
      "network dynamic: 100%|███████████████████████████████████████████████████████| 100000/100000 [00:23<00:00, 4186.03it/s]\n",
      "network dynamic: 100%|███████████████████████████████████████████████████████| 100000/100000 [00:23<00:00, 4251.79it/s]\n",
      "network dynamic: 100%|███████████████████████████████████████████████████████| 100000/100000 [00:23<00:00, 4221.05it/s]\n"
     ]
    },
    {
     "name": "stdout",
     "output_type": "stream",
     "text": [
      "\n"
     ]
    },
    {
     "data": {
      "application/vnd.jupyter.widget-view+json": {
       "model_id": "567a587785404e6ba94cd0783e2c55ab",
       "version_major": 2,
       "version_minor": 0
      },
      "text/plain": [
       "HBox(children=(FloatProgress(value=0.0, description='Making ensembles', max=5.0, style=ProgressStyle(descripti…"
      ]
     },
     "metadata": {},
     "output_type": "display_data"
    },
    {
     "name": "stderr",
     "output_type": "stream",
     "text": [
      "network dynamic: 100%|███████████████████████████████████████████████████████| 100000/100000 [00:23<00:00, 4275.42it/s]\n",
      "network dynamic: 100%|███████████████████████████████████████████████████████| 100000/100000 [00:23<00:00, 4263.71it/s]\n",
      "network dynamic: 100%|███████████████████████████████████████████████████████| 100000/100000 [00:25<00:00, 3976.71it/s]\n",
      "network dynamic: 100%|███████████████████████████████████████████████████████| 100000/100000 [00:26<00:00, 3805.72it/s]\n",
      "network dynamic: 100%|███████████████████████████████████████████████████████| 100000/100000 [00:22<00:00, 4384.50it/s]\n"
     ]
    },
    {
     "name": "stdout",
     "output_type": "stream",
     "text": [
      "\n"
     ]
    },
    {
     "data": {
      "application/vnd.jupyter.widget-view+json": {
       "model_id": "28fea85755ec42df8e2a9bf327772266",
       "version_major": 2,
       "version_minor": 0
      },
      "text/plain": [
       "HBox(children=(FloatProgress(value=0.0, description='Making ensembles', max=5.0, style=ProgressStyle(descripti…"
      ]
     },
     "metadata": {},
     "output_type": "display_data"
    },
    {
     "name": "stderr",
     "output_type": "stream",
     "text": [
      "network dynamic: 100%|███████████████████████████████████████████████████████| 100000/100000 [00:24<00:00, 4146.64it/s]\n",
      "network dynamic: 100%|███████████████████████████████████████████████████████| 100000/100000 [00:24<00:00, 4155.90it/s]\n",
      "network dynamic: 100%|███████████████████████████████████████████████████████| 100000/100000 [00:23<00:00, 4230.87it/s]\n",
      "network dynamic: 100%|███████████████████████████████████████████████████████| 100000/100000 [00:24<00:00, 4146.12it/s]\n",
      "network dynamic: 100%|███████████████████████████████████████████████████████| 100000/100000 [00:24<00:00, 4106.62it/s]\n"
     ]
    },
    {
     "name": "stdout",
     "output_type": "stream",
     "text": [
      "\n"
     ]
    },
    {
     "data": {
      "application/vnd.jupyter.widget-view+json": {
       "model_id": "56f11efb45784f50a5719f12e11b8e0d",
       "version_major": 2,
       "version_minor": 0
      },
      "text/plain": [
       "HBox(children=(FloatProgress(value=0.0, description='Making ensembles', max=5.0, style=ProgressStyle(descripti…"
      ]
     },
     "metadata": {},
     "output_type": "display_data"
    },
    {
     "name": "stderr",
     "output_type": "stream",
     "text": [
      "network dynamic: 100%|███████████████████████████████████████████████████████| 100000/100000 [00:24<00:00, 4141.24it/s]\n",
      "network dynamic: 100%|███████████████████████████████████████████████████████| 100000/100000 [00:24<00:00, 4137.23it/s]\n",
      "network dynamic: 100%|███████████████████████████████████████████████████████| 100000/100000 [00:24<00:00, 4139.67it/s]\n",
      "network dynamic: 100%|███████████████████████████████████████████████████████| 100000/100000 [00:24<00:00, 4153.59it/s]\n",
      "network dynamic: 100%|███████████████████████████████████████████████████████| 100000/100000 [00:24<00:00, 4152.37it/s]\n"
     ]
    },
    {
     "name": "stdout",
     "output_type": "stream",
     "text": [
      "\n"
     ]
    },
    {
     "data": {
      "application/vnd.jupyter.widget-view+json": {
       "model_id": "04bf3b1c740d487cab16d60f6a074c7e",
       "version_major": 2,
       "version_minor": 0
      },
      "text/plain": [
       "HBox(children=(FloatProgress(value=0.0, description='Making ensembles', max=5.0, style=ProgressStyle(descripti…"
      ]
     },
     "metadata": {},
     "output_type": "display_data"
    },
    {
     "name": "stderr",
     "output_type": "stream",
     "text": [
      "network dynamic: 100%|███████████████████████████████████████████████████████| 100000/100000 [00:23<00:00, 4283.22it/s]\n",
      "network dynamic: 100%|███████████████████████████████████████████████████████| 100000/100000 [00:23<00:00, 4261.79it/s]\n",
      "network dynamic: 100%|███████████████████████████████████████████████████████| 100000/100000 [00:23<00:00, 4304.20it/s]\n",
      "network dynamic: 100%|███████████████████████████████████████████████████████| 100000/100000 [00:22<00:00, 4403.15it/s]\n",
      "network dynamic: 100%|███████████████████████████████████████████████████████| 100000/100000 [00:23<00:00, 4338.90it/s]\n"
     ]
    },
    {
     "name": "stdout",
     "output_type": "stream",
     "text": [
      "\n"
     ]
    },
    {
     "data": {
      "application/vnd.jupyter.widget-view+json": {
       "model_id": "f11b027928864129829f50081208eb42",
       "version_major": 2,
       "version_minor": 0
      },
      "text/plain": [
       "HBox(children=(FloatProgress(value=0.0, description='Making ensembles', max=5.0, style=ProgressStyle(descripti…"
      ]
     },
     "metadata": {},
     "output_type": "display_data"
    },
    {
     "name": "stderr",
     "output_type": "stream",
     "text": [
      "network dynamic: 100%|███████████████████████████████████████████████████████| 100000/100000 [00:24<00:00, 4058.30it/s]\n",
      "network dynamic: 100%|███████████████████████████████████████████████████████| 100000/100000 [00:24<00:00, 4126.71it/s]\n",
      "network dynamic: 100%|███████████████████████████████████████████████████████| 100000/100000 [00:24<00:00, 4159.88it/s]\n",
      "network dynamic: 100%|███████████████████████████████████████████████████████| 100000/100000 [00:23<00:00, 4203.04it/s]\n",
      "network dynamic: 100%|███████████████████████████████████████████████████████| 100000/100000 [00:24<00:00, 4159.67it/s]\n"
     ]
    },
    {
     "name": "stdout",
     "output_type": "stream",
     "text": [
      "\n"
     ]
    },
    {
     "data": {
      "application/vnd.jupyter.widget-view+json": {
       "model_id": "38c37877f6df4cd8930244ac0c29aa75",
       "version_major": 2,
       "version_minor": 0
      },
      "text/plain": [
       "HBox(children=(FloatProgress(value=0.0, description='Making ensembles', max=5.0, style=ProgressStyle(descripti…"
      ]
     },
     "metadata": {},
     "output_type": "display_data"
    },
    {
     "name": "stderr",
     "output_type": "stream",
     "text": [
      "network dynamic: 100%|███████████████████████████████████████████████████████| 100000/100000 [00:23<00:00, 4227.42it/s]\n",
      "network dynamic: 100%|███████████████████████████████████████████████████████| 100000/100000 [00:23<00:00, 4195.74it/s]\n",
      "network dynamic: 100%|███████████████████████████████████████████████████████| 100000/100000 [00:23<00:00, 4218.46it/s]\n",
      "network dynamic: 100%|███████████████████████████████████████████████████████| 100000/100000 [00:23<00:00, 4187.84it/s]\n",
      "network dynamic: 100%|███████████████████████████████████████████████████████| 100000/100000 [00:23<00:00, 4192.16it/s]\n"
     ]
    },
    {
     "name": "stdout",
     "output_type": "stream",
     "text": [
      "\n"
     ]
    },
    {
     "data": {
      "application/vnd.jupyter.widget-view+json": {
       "model_id": "5a50827390954b2c9d52ca08b6c365e8",
       "version_major": 2,
       "version_minor": 0
      },
      "text/plain": [
       "HBox(children=(FloatProgress(value=0.0, description='Making ensembles', max=5.0, style=ProgressStyle(descripti…"
      ]
     },
     "metadata": {},
     "output_type": "display_data"
    },
    {
     "name": "stderr",
     "output_type": "stream",
     "text": [
      "network dynamic: 100%|███████████████████████████████████████████████████████| 100000/100000 [00:23<00:00, 4209.33it/s]\n",
      "network dynamic: 100%|███████████████████████████████████████████████████████| 100000/100000 [00:24<00:00, 4114.71it/s]\n",
      "network dynamic: 100%|███████████████████████████████████████████████████████| 100000/100000 [00:23<00:00, 4195.32it/s]\n",
      "network dynamic: 100%|███████████████████████████████████████████████████████| 100000/100000 [00:23<00:00, 4207.06it/s]\n",
      "network dynamic: 100%|███████████████████████████████████████████████████████| 100000/100000 [00:24<00:00, 4108.60it/s]\n"
     ]
    },
    {
     "name": "stdout",
     "output_type": "stream",
     "text": [
      "\n"
     ]
    },
    {
     "data": {
      "application/vnd.jupyter.widget-view+json": {
       "model_id": "86dd9ac285774c0c9b61fab2f1332490",
       "version_major": 2,
       "version_minor": 0
      },
      "text/plain": [
       "HBox(children=(FloatProgress(value=0.0, description='Making ensembles', max=5.0, style=ProgressStyle(descripti…"
      ]
     },
     "metadata": {},
     "output_type": "display_data"
    },
    {
     "name": "stderr",
     "output_type": "stream",
     "text": [
      "network dynamic: 100%|███████████████████████████████████████████████████████| 100000/100000 [00:24<00:00, 4090.57it/s]\n",
      "network dynamic: 100%|███████████████████████████████████████████████████████| 100000/100000 [00:25<00:00, 3894.73it/s]\n",
      "network dynamic: 100%|███████████████████████████████████████████████████████| 100000/100000 [00:24<00:00, 4140.12it/s]\n",
      "network dynamic: 100%|███████████████████████████████████████████████████████| 100000/100000 [00:24<00:00, 4046.95it/s]\n",
      "network dynamic: 100%|███████████████████████████████████████████████████████| 100000/100000 [00:23<00:00, 4174.02it/s]\n"
     ]
    },
    {
     "name": "stdout",
     "output_type": "stream",
     "text": [
      "\n"
     ]
    },
    {
     "data": {
      "application/vnd.jupyter.widget-view+json": {
       "model_id": "61092048a3954115a9aceb815c5667cf",
       "version_major": 2,
       "version_minor": 0
      },
      "text/plain": [
       "HBox(children=(FloatProgress(value=0.0, description='Making ensembles', max=5.0, style=ProgressStyle(descripti…"
      ]
     },
     "metadata": {},
     "output_type": "display_data"
    },
    {
     "name": "stderr",
     "output_type": "stream",
     "text": [
      "network dynamic: 100%|███████████████████████████████████████████████████████| 100000/100000 [00:22<00:00, 4371.17it/s]\n",
      "network dynamic: 100%|███████████████████████████████████████████████████████| 100000/100000 [00:23<00:00, 4264.22it/s]\n",
      "network dynamic: 100%|███████████████████████████████████████████████████████| 100000/100000 [00:22<00:00, 4362.73it/s]\n",
      "network dynamic: 100%|███████████████████████████████████████████████████████| 100000/100000 [00:23<00:00, 4292.22it/s]\n",
      "network dynamic: 100%|███████████████████████████████████████████████████████| 100000/100000 [00:23<00:00, 4253.43it/s]\n"
     ]
    },
    {
     "name": "stdout",
     "output_type": "stream",
     "text": [
      "\n"
     ]
    },
    {
     "data": {
      "application/vnd.jupyter.widget-view+json": {
       "model_id": "2c503c5fd9844793a8b86bcf9c1c5d7d",
       "version_major": 2,
       "version_minor": 0
      },
      "text/plain": [
       "HBox(children=(FloatProgress(value=0.0, description='Making ensembles', max=5.0, style=ProgressStyle(descripti…"
      ]
     },
     "metadata": {},
     "output_type": "display_data"
    },
    {
     "name": "stderr",
     "output_type": "stream",
     "text": [
      "network dynamic: 100%|███████████████████████████████████████████████████████| 100000/100000 [00:23<00:00, 4209.72it/s]\n",
      "network dynamic: 100%|███████████████████████████████████████████████████████| 100000/100000 [00:24<00:00, 4166.49it/s]\n",
      "network dynamic: 100%|███████████████████████████████████████████████████████| 100000/100000 [00:23<00:00, 4173.78it/s]\n",
      "network dynamic: 100%|███████████████████████████████████████████████████████| 100000/100000 [00:23<00:00, 4167.86it/s]\n",
      "network dynamic: 100%|███████████████████████████████████████████████████████| 100000/100000 [00:23<00:00, 4168.54it/s]\n"
     ]
    },
    {
     "name": "stdout",
     "output_type": "stream",
     "text": [
      "\n",
      "\n"
     ]
    }
   ],
   "source": [
    "for i,connectivity in enumerate(tqdm( connectivity_span , desc='Variation of connectivities') ):\n",
    "    for j in tqdm( range(num_ensembles_each_g) , desc='Making ensembles'):\n",
    "        sample_model = Kuramoto_neural_network(num_neurons=num_neurons,g=connectivity)\n",
    "        sample_model.ignite(total_time = total_time)\n",
    "        sample_model.compute_effective_field( alpha = 20)\n",
    "        sigma_record[i][j] = sample_model.report_sigma()"
   ]
  },
  {
   "cell_type": "code",
   "execution_count": 7,
   "metadata": {},
   "outputs": [],
   "source": [
    "# sigma_record = connectivity_record\n",
    "np.save('sigma_records_{}.npy'.format(num_neurons),sigma_record)"
   ]
  },
  {
   "cell_type": "code",
   "execution_count": 8,
   "metadata": {},
   "outputs": [
    {
     "data": {
      "image/png": "[encoded data removed]",
      "text/plain": [
       "<Figure size 432x288 with 1 Axes>"
      ]
     },
     "metadata": {
      "needs_background": "light"
     },
     "output_type": "display_data"
    }
   ],
   "source": [
    "fig = plt.figure()\n",
    "ax = fig.subplots()\n",
    "ax.errorbar(x = connectivity_span, y = np.mean(sigma_record,axis = 1),yerr = np.var(sigma_record,axis = 1)**(0.5))\n",
    "# ax.set_title('$\\sigma$')\n",
    "ax.set_xlabel('g as connectivity')\n",
    "ax.set_ylabel('$\\sigma$')\n",
    "fig.savefig('sigma_as_synchoronization_meter_{}.png'.format(num_neurons))"
   ]
  },
  {
   "cell_type": "code",
   "execution_count": 11,
   "metadata": {},
   "outputs": [
    {
     "data": {
      "text/plain": [
       "array([4.3844084 , 4.40488368, 4.39937505, 4.4348502 , 4.45286675])"
      ]
     },
     "execution_count": 11,
     "metadata": {},
     "output_type": "execute_result"
    }
   ],
   "source": [
    "np.sum(sigma_record,axis = 0)"
   ]
  },
  {
   "cell_type": "code",
   "execution_count": null,
   "metadata": {},
   "outputs": [],
   "source": []
  },
  {
   "cell_type": "code",
   "execution_count": null,
   "metadata": {},
   "outputs": [],
   "source": []
  },
  {
   "cell_type": "code",
   "execution_count": null,
   "metadata": {},
   "outputs": [],
   "source": []
  },
  {
   "cell_type": "code",
   "execution_count": null,
   "metadata": {},
   "outputs": [],
   "source": []
  },
  {
   "cell_type": "code",
   "execution_count": null,
   "metadata": {},
   "outputs": [],
   "source": []
  }
 ],
 "metadata": {
  "kernelspec": {
   "display_name": "Python 3 (ipykernel)",
   "language": "python",
   "name": "python3"
  },
  "language_info": {
   "codemirror_mode": {
    "name": "ipython",
    "version": 3
   },
   "file_extension": ".py",
   "mimetype": "text/x-python",
   "name": "python",
   "nbconvert_exporter": "python",
   "pygments_lexer": "ipython3",
   "version": "3.9.7"
  }
 },
 "nbformat": 4,
 "nbformat_minor": 4
}
