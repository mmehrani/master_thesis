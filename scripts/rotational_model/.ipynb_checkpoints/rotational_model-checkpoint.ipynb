{
 "cells": [
  {
   "cell_type": "markdown",
   "metadata": {},
   "source": [
    "# Synchornization in complete networks of neurons\n",
    "Here is the dynamics of neurons potentails in rotational model :\n",
    "$$\n",
    "\\begin{cases}\n",
    "\\dot{\\theta_i}=I_i - cos(\\theta_i) +  E \\\\\n",
    "\\ddot{E}+ 2\\alpha \\dot{E}+\\alpha^{2}E =\\frac{\\alpha^{2}}{N} \\sum_{n|tـn<t} \\delta(t - t_n - t_d)\n",
    "\\end{cases}\n",
    "$$"
   ]
  },
  {
   "cell_type": "code",
   "execution_count": 1,
   "metadata": {},
   "outputs": [],
   "source": [
    "import numpy as np\n",
    "import matplotlib.pyplot as plt\n",
    "from tqdm import tqdm"
   ]
  },
  {
   "cell_type": "code",
   "execution_count": 2,
   "metadata": {},
   "outputs": [],
   "source": [
    "num_neurons = 1000\n",
    "g =  5\n",
    "random_input_span = (1.2*10,2.8*10) #it should fall in the well defined cos(\\theta) domain.\n",
    "\n",
    "total_time = 1000\n",
    "time_step = 0.01\n",
    "total_steps = int(total_time/time_step)\n",
    "time_span = np.arange(0,total_time,time_step)\n",
    "\n",
    "delay_time = 0.1\n",
    "delay_step = int(delay_time/time_step)\n",
    "\n",
    "alpha = 20\n",
    "m_arr = np.zeros(total_steps)\n",
    "e_arr = np.zeros(total_steps)\n",
    "\n",
    "theta_arr = np.zeros(num_neurons,dtype = float)\n",
    "# theta_arr = np.random.uniform(0,2*np.pi,size = num_neurons)\n",
    "random_input = np.random.uniform(*random_input_span,size = num_neurons)"
   ]
  },
  {
   "cell_type": "code",
   "execution_count": 3,
   "metadata": {},
   "outputs": [],
   "source": [
    "spiking_records = np.array( np.zeros((total_steps,num_neurons)), dtype = bool )\n",
    "amin_saman_param = np.zeros( total_steps )"
   ]
  },
  {
   "cell_type": "markdown",
   "metadata": {},
   "source": [
    "## Instrumentes to capture spiking frequency\n",
    "Here we use *cornometer* and number of spikies to measure their frequencies."
   ]
  },
  {
   "cell_type": "code",
   "execution_count": 4,
   "metadata": {},
   "outputs": [],
   "source": [
    "spiking_cornometer = np.zeros(num_neurons)\n",
    "total_spikes_intervals = np.zeros(num_neurons)\n",
    "total_spikes_num = np.zeros(num_neurons)"
   ]
  },
  {
   "cell_type": "code",
   "execution_count": 5,
   "metadata": {},
   "outputs": [],
   "source": [
    "def retarded_spikes_record(step):\n",
    "    \"\"\"\n",
    "    This is the function which take cares of response delay between spikes and their effects.\n",
    "    \"\"\"\n",
    "    if step > delay_step: \n",
    "        return np.sum(spiking_records[step - delay_step])\n",
    "    else:\n",
    "        return 0\n"
   ]
  },
  {
   "cell_type": "markdown",
   "metadata": {},
   "source": [
    "## \"For\" loop on the march!\n",
    "To make equations more solvable we turn them into three cases of linear first order equations:\n",
    "$$\n",
    "\\begin{cases}\n",
    "\\dot{\\theta_i}=I_i - cos(\\theta_i) - g E \\\\\n",
    "\\dot{E} = M - \\alpha E\\\\\n",
    "\\dot{M} = -  \\alpha M + \\frac{ \\alpha^{2} }{N} \\sum_{n|tـn<t} \\delta(t - t_n - t_d)\n",
    "\\end{cases}\n",
    "$$"
   ]
  },
  {
   "cell_type": "code",
   "execution_count": 6,
   "metadata": {},
   "outputs": [
    {
     "name": "stderr",
     "output_type": "stream",
     "text": [
      "  0%|                                                                                        | 0/99999 [00:00<?, ?it/s]C:\\ProgramData\\Anaconda3\\lib\\site-packages\\numpy\\core\\fromnumeric.py:3335: RuntimeWarning: Mean of empty slice.\n",
      "  out=out, **kwargs)\n",
      "C:\\ProgramData\\Anaconda3\\lib\\site-packages\\numpy\\core\\_methods.py:161: RuntimeWarning: invalid value encountered in double_scalars\n",
      "  ret = ret.dtype.type(ret / rcount)\n",
      "100%|██████████████████████████████████████████████████████████████████████████| 99999/99999 [00:23<00:00, 4233.51it/s]\n"
     ]
    }
   ],
   "source": [
    "for i in tqdm( range(total_steps - 1) ):\n",
    "    theta_arr = theta_arr + (random_input - np.cos(theta_arr) - g * e_arr[i] )*time_step\n",
    "    \n",
    "    #here we should spot the spiking neurons.\n",
    "    spiking_records[i] = theta_arr > np.pi\n",
    "    theta_arr = theta_arr - 2 * np.pi * spiking_records[i]\n",
    "    #neurons activity\n",
    "    m_arr[i+1] = m_arr[i] + time_step*( -alpha*m_arr[i] ) + ( (alpha**2)/num_neurons ) *retarded_spikes_record(i) \n",
    "    e_arr[i+1] = e_arr[i] + time_step*( m_arr[i] - alpha*e_arr[i] )\n",
    "    #\n",
    "    left_handed_neurons = np.cos(theta_arr) < 0\n",
    "    amin_saman_param[i] = np.mean( np.sin(theta_arr[left_handed_neurons]) )**2\n",
    "    #frequency calculator\n",
    "    total_spikes_num = total_spikes_num + spiking_records[i]\n",
    "    total_spikes_intervals = total_spikes_intervals + spiking_cornometer * spiking_records[i] #add to spike lapsed time\n",
    "    spiking_cornometer = spiking_cornometer * (spiking_records[i]-1)*(-1) #reset the spikied cornos\n",
    "    spiking_cornometer = spiking_cornometer + (spiking_records[i]-1)*(-1) #update the not spikied ones\n",
    "    \n",
    "    "
   ]
  },
  {
   "cell_type": "code",
   "execution_count": 7,
   "metadata": {},
   "outputs": [
    {
     "data": {
      "text/plain": [
       "(array([ 77.,  81., 137., 128., 120., 121.,  81.,  86.,  92.,  77.]),\n",
       " array([-3.13834401, -2.51374743, -1.88915085, -1.26455428, -0.6399577 ,\n",
       "        -0.01536112,  0.60923546,  1.23383203,  1.85842861,  2.48302519,\n",
       "         3.10762176]),\n",
       " <a list of 10 Patch objects>)"
      ]
     },
     "execution_count": 7,
     "metadata": {},
     "output_type": "execute_result"
    },
    {
     "data": {
      "image/png": "[encoded data removed]",
      "text/plain": [
       "<Figure size 432x288 with 1 Axes>"
      ]
     },
     "metadata": {
      "needs_background": "light"
     },
     "output_type": "display_data"
    }
   ],
   "source": [
    "plt.hist(theta_arr)"
   ]
  },
  {
   "cell_type": "code",
   "execution_count": 8,
   "metadata": {},
   "outputs": [
    {
     "data": {
      "text/plain": [
       "0.13927076423713125"
      ]
     },
     "execution_count": 8,
     "metadata": {},
     "output_type": "execute_result"
    }
   ],
   "source": [
    "sigma = np.std( e_arr )\n",
    "sigma"
   ]
  },
  {
   "cell_type": "code",
   "execution_count": 9,
   "metadata": {},
   "outputs": [
    {
     "data": {
      "image/png": "[encoded data removed]",
      "text/plain": [
       "<Figure size 432x288 with 1 Axes>"
      ]
     },
     "metadata": {
      "needs_background": "light"
     },
     "output_type": "display_data"
    }
   ],
   "source": [
    "plt.imshow( spiking_records,aspect= 'auto')\n",
    "plt.xlabel('Neurons')\n",
    "plt.ylabel('Time')\n",
    "plt.title('Rasterplot')\n",
    "plt.savefig('raster_plot_N{}_g{}.png'.format(num_neurons,g))"
   ]
  },
  {
   "cell_type": "code",
   "execution_count": 10,
   "metadata": {},
   "outputs": [
    {
     "data": {
      "text/plain": [
       "[<matplotlib.lines.Line2D at 0x12280048fc8>]"
      ]
     },
     "execution_count": 10,
     "metadata": {},
     "output_type": "execute_result"
    },
    {
     "data": {
      "image/png": "[encoded data removed]",
      "text/plain": [
       "<Figure size 432x288 with 1 Axes>"
      ]
     },
     "metadata": {
      "needs_background": "light"
     },
     "output_type": "display_data"
    }
   ],
   "source": [
    "plt.plot(e_arr[-1000:])"
   ]
  },
  {
   "cell_type": "code",
   "execution_count": null,
   "metadata": {},
   "outputs": [],
   "source": []
  },
  {
   "cell_type": "code",
   "execution_count": 11,
   "metadata": {},
   "outputs": [
    {
     "data": {
      "text/plain": [
       "(array([ 77.,  81., 137., 128., 120., 121.,  81.,  86.,  92.,  77.]),\n",
       " array([-3.13834401, -2.51374743, -1.88915085, -1.26455428, -0.6399577 ,\n",
       "        -0.01536112,  0.60923546,  1.23383203,  1.85842861,  2.48302519,\n",
       "         3.10762176]),\n",
       " <a list of 10 Patch objects>)"
      ]
     },
     "execution_count": 11,
     "metadata": {},
     "output_type": "execute_result"
    },
    {
     "data": {
      "image/png": "[encoded data removed]",
      "text/plain": [
       "<Figure size 432x288 with 1 Axes>"
      ]
     },
     "metadata": {
      "needs_background": "light"
     },
     "output_type": "display_data"
    }
   ],
   "source": [
    "plt.hist(theta_arr )"
   ]
  },
  {
   "cell_type": "code",
   "execution_count": 12,
   "metadata": {},
   "outputs": [
    {
     "data": {
      "text/plain": [
       "[<matplotlib.lines.Line2D at 0x1228013bdc8>]"
      ]
     },
     "execution_count": 12,
     "metadata": {},
     "output_type": "execute_result"
    },
    {
     "data": {
      "image/png": "[encoded data removed]",
      "text/plain": [
       "<Figure size 432x288 with 1 Axes>"
      ]
     },
     "metadata": {
      "needs_background": "light"
     },
     "output_type": "display_data"
    }
   ],
   "source": [
    "plt.plot(amin_saman_param)"
   ]
  },
  {
   "cell_type": "code",
   "execution_count": 13,
   "metadata": {},
   "outputs": [
    {
     "data": {
      "text/plain": [
       "0.002696176390622244"
      ]
     },
     "execution_count": 13,
     "metadata": {},
     "output_type": "execute_result"
    }
   ],
   "source": [
    "np.mean(amin_saman_param[-100:])"
   ]
  },
  {
   "cell_type": "code",
   "execution_count": 14,
   "metadata": {},
   "outputs": [
    {
     "name": "stderr",
     "output_type": "stream",
     "text": [
      "C:\\ProgramData\\Anaconda3\\lib\\site-packages\\ipykernel_launcher.py:1: RuntimeWarning: invalid value encountered in true_divide\n",
      "  \"\"\"Entry point for launching an IPython kernel.\n"
     ]
    },
    {
     "data": {
      "text/plain": [
       "array([8.76841171e+01, 3.42641379e+02, 5.61394286e+01, 5.22118148e+01,\n",
       "       6.24936468e+01, 5.07664423e+01, 5.88026316e+01, 1.10510045e+02,\n",
       "       8.40042373e+02, 1.78500898e+02, 2.86426513e+02, 7.05733715e+01,\n",
       "       2.94011834e+02, 1.27619048e+02, 5.23833422e+01, 1.00091001e+02,\n",
       "       9.82601787e+01, 5.93852657e+01, 3.33267559e+02, 7.53575248e+01,\n",
       "       3.81000000e+02, 1.18205251e+02, 4.37622033e+01, 3.53615658e+02,\n",
       "       9.17402597e+01, 5.74395091e+01,            nan, 2.58000000e+02,\n",
       "       9.51742060e+01, 9.93755020e+01, 1.19952785e+02, 3.56021429e+02,\n",
       "       2.01484787e+02, 3.04006116e+02, 7.45151057e+01, 7.81369755e+01,\n",
       "                  nan, 4.29033816e+01, 3.41126712e+02, 3.49698246e+02,\n",
       "       4.94709743e+01, 6.43339869e+01, 1.12158550e+02,            nan,\n",
       "       1.81771481e+02,            nan, 7.80418972e+01, 7.43436323e+01,\n",
       "       5.87585176e+01, 1.22699257e+02, 2.93052941e+02, 7.10937275e+01,\n",
       "       4.94745078e+01, 6.02481618e+01, 7.99619433e+01, 4.63256034e+01,\n",
       "       2.91301170e+02, 9.01130356e+01, 3.11315625e+02, 2.82446023e+02,\n",
       "       4.68277512e+01, 4.49031221e+01, 6.44702030e+01, 5.73316092e+02,\n",
       "       4.93697733e+01, 1.51213415e+02, 5.65659182e+01, 2.25000000e+02,\n",
       "       1.59502408e+02, 4.56528231e+01, 1.03801887e+02,            nan,\n",
       "                  nan, 5.95108959e+01, 1.49228571e+02, 7.84122319e+01,\n",
       "       6.73972973e+02, 5.46467033e+02, 7.62015444e+01, 5.17420886e+01,\n",
       "       5.08738972e+01, 2.04728395e+02, 8.08738739e+01, 5.54108352e+01,\n",
       "       1.80039855e+02, 5.44359401e+01, 6.55346205e+01, 5.70255369e+01,\n",
       "       4.25448606e+01, 6.47736842e+01, 3.95133712e+01, 2.53000000e+02,\n",
       "       3.96724980e+01, 2.22878924e+02, 6.37828905e+01, 3.91473896e+01,\n",
       "       5.54012415e+01, 1.13883908e+02, 4.43812982e+01, 1.98431138e+02,\n",
       "       7.33360595e+01, 5.40330215e+01, 1.00340771e+02, 5.59669516e+01,\n",
       "       1.00352941e+02, 5.50392377e+01, 5.86622912e+01, 4.61361111e+02,\n",
       "       2.54956410e+02,            nan,            nan, 8.11907895e+01,\n",
       "       4.68039216e+01, 4.72349252e+01, 7.25964654e+01, 6.36043956e+01,\n",
       "       5.24233030e+01, 5.10150884e+01, 8.59356522e+01, 4.94714791e+01,\n",
       "       4.71855422e+01, 4.31456954e+01, 5.84941176e+03, 4.30281385e+02,\n",
       "       7.44249057e+01, 5.63407917e+01, 2.25000000e+02, 9.01084777e+01,\n",
       "       8.35131023e+01, 7.62108108e+01, 5.08671510e+01, 9.26982193e+01,\n",
       "       9.40647003e+01, 6.11978843e+01, 4.70875421e+01, 8.58939130e+01,\n",
       "       7.10699351e+01, 5.04706488e+01, 7.69851794e+01, 8.40876596e+01,\n",
       "       2.71846995e+02, 1.07787813e+02, 4.68005739e+01, 1.12780182e+02,\n",
       "       4.25884917e+01, 6.69334239e+01, 7.75992188e+02, 1.58014331e+02,\n",
       "       5.75216628e+01, 1.18370370e+02, 4.25911072e+01, 3.97137622e+01,\n",
       "                  nan, 1.15265116e+02, 4.74232446e+01, 4.44436364e+01,\n",
       "       2.05121649e+02, 1.49288722e+02, 5.59686610e+01, 3.92452756e+02,\n",
       "       1.24442911e+02, 9.39154796e+01, 6.58175134e+01, 8.05522023e+01,\n",
       "       4.01771005e+01, 5.35649563e+01, 1.13354691e+02, 2.00822222e+02,\n",
       "       9.71040236e+01, 4.80756014e+01, 9.97039275e+01, 9.19553488e+01,\n",
       "       4.88359920e+01, 1.98632000e+02, 8.38210084e+02, 6.27461735e+01,\n",
       "       9.78447082e+01, 9.62950341e+01, 2.60000000e+02, 3.04000000e+02,\n",
       "       2.63386243e+02, 3.15917460e+02, 5.50852974e+01, 1.91310212e+02,\n",
       "       5.81046718e+01, 3.92156074e+01, 8.06318367e+01, 1.48065672e+02,\n",
       "       1.22675743e+02, 9.26925961e+01, 7.95136876e+01, 7.34244229e+01,\n",
       "       4.75614376e+01, 1.19837969e+02, 4.68306220e+01, 4.62500000e+01,\n",
       "       5.98690621e+01, 1.98564870e+02,            nan,            nan,\n",
       "       5.95372502e+01, 8.63327511e+01, 1.02592746e+02, 7.62115830e+01,\n",
       "       1.75010563e+02, 1.62382353e+02, 5.35963954e+01, 8.60792683e+01,\n",
       "       4.09659950e+01, 6.80843124e+01, 5.21723404e+01, 8.61421099e+01,\n",
       "       7.05000000e+02, 7.31320475e+01,            nan, 2.22380313e+02,\n",
       "       1.81930403e+02, 4.48000000e+02, 5.12161880e+01,            nan,\n",
       "       1.41609130e+02,            nan, 1.21430147e+02, 7.84201747e+01,\n",
       "       1.39271067e+02, 4.70321961e+01, 6.46329613e+01, 9.94834171e+01,\n",
       "       7.48899013e+01, 2.84545714e+02, 1.57000000e+02, 2.12189765e+02,\n",
       "       1.37829167e+02, 5.34504357e+01, 2.17000000e+02, 1.38227019e+02,\n",
       "       6.08385900e+01, 4.82399015e+01, 2.55000000e+02,            nan,\n",
       "       3.91735637e+01, 6.49136454e+01, 6.27189293e+01, 4.90315315e+01,\n",
       "       9.99989899e+01, 2.09080000e+02, 4.95280445e+01, 4.91731059e+01,\n",
       "       4.75065502e+01, 3.91844855e+01, 4.85671790e+01, 5.29816415e+01,\n",
       "       4.22979645e+01, 5.12241379e+01, 6.11049689e+01, 3.27006579e+02,\n",
       "       4.33263636e+03,            nan, 9.85448207e+01, 8.64073427e+01,\n",
       "       6.42789027e+01, 3.74962264e+02, 3.95338468e+01, 1.31278146e+02,\n",
       "       7.96836158e+01, 6.50562092e+02, 7.08670022e+01, 1.02238636e+02,\n",
       "       1.17879905e+02, 4.98585961e+01, 4.23249567e+01, 8.74203540e+01,\n",
       "       8.54351211e+01, 6.10795031e+01, 1.53115741e+02, 1.31398675e+02,\n",
       "       6.49077126e+01, 6.80303867e+01, 4.68020086e+01,            nan,\n",
       "       5.54717514e+01, 4.73165781e+01, 1.12630682e+02, 5.81034891e+01,\n",
       "       5.50303867e+02, 4.85170877e+01, 6.06516646e+01, 2.26507973e+02,\n",
       "       3.49828070e+02, 1.25932656e+02, 7.03476089e+01, 1.52117917e+02,\n",
       "       7.07209469e+01, 6.80276243e+01, 3.19672026e+02, 6.98160839e+02,\n",
       "       4.98420000e+02, 5.37393209e+01, 6.63726415e+01, 8.86475336e+01,\n",
       "       4.81780620e+01, 2.39421687e+02, 5.79286557e+01, 4.89660170e+01,\n",
       "       7.98956311e+01, 6.10707635e+01, 8.08134206e+01, 9.48408437e+01,\n",
       "       6.85511482e+01, 9.37715640e+01, 5.43660022e+01, 4.54206128e+01,\n",
       "       3.97125407e+01, 8.96582049e+01, 5.49781635e+01, 8.77539964e+01,\n",
       "       1.22151665e+02, 4.06715298e+01, 3.90484776e+01, 6.32938907e+01,\n",
       "       4.49485294e+01, 2.21492205e+02, 4.32376106e+01, 1.19449398e+02,\n",
       "       7.00853485e+01, 4.96197468e+01, 8.29991597e+01, 4.55004651e+01,\n",
       "       4.49480699e+01, 5.13661603e+01, 6.76366758e+01, 1.22662129e+02,\n",
       "       8.41192504e+01, 6.76346154e+01, 4.76660175e+01, 1.48573353e+02,\n",
       "       4.49880405e+01, 4.19651912e+01, 1.93447471e+02, 1.18338112e+02,\n",
       "       3.49207018e+02, 9.50855769e+01, 6.59738781e+01, 6.71882674e+01,\n",
       "       5.82572614e+01, 1.05028632e+02, 4.79696376e+01, 4.31714538e+01,\n",
       "       7.60593678e+01, 1.11912994e+02, 4.93430693e+02, 1.09313466e+02,\n",
       "       1.13657110e+02, 5.51657303e+01, 2.87725434e+02, 3.99528882e+01,\n",
       "       6.25518118e+01, 9.79693069e+01, 8.55082251e+01, 6.60845638e+01,\n",
       "       5.81088114e+01, 3.24543974e+02, 1.07947655e+02, 1.30719368e+02,\n",
       "       1.36566116e+02, 4.87411765e+02, 5.25198073e+01, 5.03151951e+01,\n",
       "       6.46597403e+02, 7.63513932e+01, 9.40675547e+01, 6.83266297e+01,\n",
       "       4.88818627e+02, 1.05589552e+02, 5.86622912e+01, 4.21181544e+01,\n",
       "       4.50755760e+01, 4.11513491e+01, 7.37696335e+01, 9.97671371e+01,\n",
       "       6.01811506e+01, 9.99686869e+01, 1.53000000e+02, 4.90686029e+01,\n",
       "       5.22059606e+01, 5.59658120e+01, 7.92086677e+01, 1.11331461e+02,\n",
       "       4.05363523e+01, 4.55756870e+01, 1.59393548e+03,            nan,\n",
       "       4.99612640e+01, 7.71885759e+01, 2.70904632e+02, 5.91166566e+01,\n",
       "       1.56682965e+02, 4.61116871e+01, 5.35969416e+01, 5.78881037e+01,\n",
       "       1.08511501e+02, 3.33557047e+02, 2.44454545e+02,            nan,\n",
       "       4.22522717e+01, 5.04614213e+02, 4.19690589e+01, 1.48464179e+03,\n",
       "       5.07852041e+02, 1.30091864e+02, 1.03985294e+02, 7.27601476e+01,\n",
       "       5.69501449e+01, 4.72611004e+01, 8.18623549e+01, 1.72662609e+02,\n",
       "       2.30076389e+02, 6.16328321e+01, 4.29512088e+01, 4.14132372e+01,\n",
       "                  nan, 8.40740426e+01, 2.40364734e+02, 1.99674699e+02,\n",
       "       1.58531949e+02, 5.24313201e+01, 2.16167391e+02, 1.15526807e+02,\n",
       "       1.04827331e+02, 1.19677536e+02, 1.27165385e+02, 1.09837029e+02,\n",
       "       1.37682386e+02,            nan, 5.57773992e+01,            nan,\n",
       "                  nan, 1.72726957e+02, 4.21000000e+02, 6.67593220e+01,\n",
       "       5.51623596e+01, 1.21114914e+02, 3.99271388e+01, 1.19006002e+02,\n",
       "       3.95121556e+01, 1.74641476e+02, 1.16794811e+02, 5.92766727e+01,\n",
       "       1.06363050e+02, 1.82306422e+02, 4.41481481e+01, 7.25423105e+01,\n",
       "       4.62220123e+01, 4.11141533e+01, 5.18730830e+01, 6.71206544e+01,\n",
       "       2.51297980e+02, 5.81052632e+01,            nan, 1.15761682e+02,\n",
       "       5.25382967e+01, 4.95045455e+01, 3.92123894e+01, 5.75310304e+01,\n",
       "       4.97285642e+01, 4.05174419e+01, 6.52292909e+01, 3.90838011e+01,\n",
       "       2.20904444e+02, 7.22087912e+01,            nan, 3.93287616e+01,\n",
       "       8.65043783e+01, 1.73149826e+02, 7.84292528e+01, 6.87266388e+01,\n",
       "       1.32182667e+02, 7.12550000e+02, 5.46145717e+01, 4.71425132e+01,\n",
       "       1.43426301e+02, 6.04815498e+01, 5.21350346e+01, 4.43548094e+01,\n",
       "       2.24839367e+02, 1.05425985e+02, 6.36031028e+01, 5.51984261e+01,\n",
       "       8.31725589e+01, 3.98333333e+01, 5.45703168e+01, 5.04082262e+01,\n",
       "       4.00941225e+01, 5.53977778e+02, 4.04506633e+01, 8.84436494e+01,\n",
       "       1.36643251e+02, 1.16171161e+02, 4.04767635e+01, 5.84046346e+01,\n",
       "       6.56744496e+01, 4.44979518e+01, 2.70266304e+02, 4.45394077e+01,\n",
       "                  nan, 1.45638767e+02, 4.04552239e+01, 7.71688819e+01,\n",
       "       3.66007353e+02,            nan, 7.51454684e+01, 4.71874699e+01,\n",
       "       7.62061776e+01, 4.32340708e+01, 1.37680999e+02, 1.26966709e+02,\n",
       "       2.76036111e+02, 6.57530040e+01, 6.07579268e+02, 7.78776638e+01,\n",
       "       4.97831386e+01, 5.38518925e+01, 2.63534392e+02, 9.02034672e+01,\n",
       "       6.32913183e+01, 1.26464286e+02, 1.22114532e+02, 1.16157093e+02,\n",
       "       1.62354575e+02, 2.09400000e+02, 4.44922657e+01, 4.05983673e+02,\n",
       "       1.01756423e+02, 1.09014317e+02, 4.49012856e+01, 5.36431694e+01,\n",
       "       4.32349558e+01, 1.09337748e+02, 5.34564270e+01, 7.37546746e+01,\n",
       "       6.32906752e+01, 5.75286885e+01, 1.84592937e+02, 6.36539457e+01,\n",
       "       1.22383951e+02, 6.39804941e+01, 4.64781576e+01, 6.63773585e+01,\n",
       "       2.35985748e+02, 5.32071584e+01, 4.39316854e+01, 3.55789286e+02,\n",
       "       4.15291365e+01, 4.52884259e+01, 4.00123052e+01, 1.34971429e+02,\n",
       "       9.05576923e+01, 1.27616474e+02, 7.73315047e+01, 4.34566474e+01,\n",
       "       2.46828784e+02, 5.32893048e+02, 8.07465249e+01, 2.31900000e+03,\n",
       "       4.31696863e+01, 6.69738255e+02, 4.22317337e+01, 5.26021448e+01,\n",
       "       2.25541950e+02, 2.56000000e+02, 1.93000000e+02, 3.15701587e+02,\n",
       "       1.33380376e+02, 6.51216931e+01, 4.35606061e+01, 2.13873118e+02,\n",
       "       2.25000000e+02, 1.35752394e+02, 9.35458846e+01, 1.02312306e+02,\n",
       "       8.43364646e+01, 4.20766911e+01, 5.63084862e+01, 6.08725248e+01,\n",
       "       1.02952133e+02, 6.24270305e+01, 5.79716814e+01, 9.45525813e+01,\n",
       "       4.47001828e+01, 4.14732370e+01, 5.30854978e+01, 1.09434254e+02,\n",
       "       1.70231164e+02, 5.79705015e+01, 9.01276208e+01, 1.00087968e+02,\n",
       "       6.02296387e+01, 9.73927165e+01, 7.16555233e+01, 8.72950530e+01,\n",
       "                  nan, 1.31457560e+02, 5.41478213e+01, 5.98490566e+01,\n",
       "       3.88763462e+01, 4.46275673e+01, 1.86228464e+02, 8.88803957e+01,\n",
       "       5.04902163e+01, 1.16988194e+02, 1.12174405e+02, 2.91315789e+02,\n",
       "       5.78457916e+01, 4.88339980e+01,            nan,            nan,\n",
       "       1.81197080e+02, 3.89672262e+01, 5.77046389e+01, 3.88875150e+01,\n",
       "       8.16033058e+01, 7.52908397e+01, 5.67521664e+01, 1.75356261e+02,\n",
       "       1.52695385e+02, 5.66710906e+01, 4.47756410e+01, 7.11790614e+01,\n",
       "       5.66242075e+01, 4.18043664e+01, 8.49888124e+01, 1.09958935e+02,\n",
       "       2.27000000e+02, 5.66178674e+01, 1.97202381e+02, 1.41678571e+02,\n",
       "       3.89241214e+01, 2.63000000e+02, 4.13327688e+01, 2.08266247e+02,\n",
       "                  nan, 1.21166259e+02, 8.23486239e+01, 1.07534202e+02,\n",
       "       1.19444578e+02, 4.80240314e+01, 8.26036789e+01, 4.75560952e+01,\n",
       "       4.88887226e+01, 2.22237136e+02, 4.00106645e+01, 6.45098296e+01,\n",
       "       1.44455604e+02, 2.42624390e+02, 5.58303371e+02, 8.38259762e+01,\n",
       "       4.14342105e+01, 5.30827474e+01, 5.47845982e+01, 3.45000000e+02,\n",
       "       2.23485393e+02, 1.58886400e+02, 4.14740867e+01, 3.88974461e+01,\n",
       "       1.51159817e+02, 2.29611628e+03, 2.92058651e+02,            nan,\n",
       "       6.76865979e+01, 4.39932493e+01, 5.47467931e+01, 4.03377429e+01,\n",
       "       8.91199279e+01, 4.13323455e+01, 4.27571116e+01, 3.93327955e+01,\n",
       "       3.91703495e+01, 2.21068889e+02,            nan, 4.05359369e+01,\n",
       "       3.43000000e+02, 2.64023873e+02, 9.65004878e+01, 1.48658683e+02,\n",
       "       5.57258797e+01, 4.89280719e+01, 9.71010795e+01, 4.18052226e+01,\n",
       "       4.71797590e+01, 4.10222783e+01, 6.86710801e+01, 5.17079599e+01,\n",
       "       3.10426791e+02, 8.18515755e+01, 1.65834725e+02, 1.04170526e+02,\n",
       "       4.64950119e+01,            nan, 1.40868571e+03, 1.88121212e+02,\n",
       "       6.53818061e+01, 5.36273224e+01, 1.41249288e+02, 1.00946939e+02,\n",
       "       4.78188477e+01, 4.22544353e+01, 1.05863102e+02, 4.54168988e+01,\n",
       "       7.85732484e+01, 8.93634720e+01, 1.33073826e+02, 5.84165181e+01,\n",
       "       9.24911132e+01, 3.99279574e+01, 4.84591786e+01,            nan,\n",
       "       4.65675547e+01, 2.86060345e+02, 7.31878248e+01, 5.67901734e+01,\n",
       "       1.53293210e+02, 1.70408233e+02, 6.52119205e+01,            nan,\n",
       "       4.26412047e+01,            nan, 5.59920182e+01, 4.86310824e+01,\n",
       "       1.03000000e+02, 9.08474265e+01, 6.52172185e+01, 2.15483731e+02,\n",
       "       4.42303167e+01, 2.26000000e+02, 1.66375209e+02, 4.69966395e+01,\n",
       "                  nan, 4.34908767e+01, 4.94328961e+01, 3.06000000e+02,\n",
       "                  nan, 4.21840173e+01, 9.99191919e+01, 1.80370236e+02,\n",
       "       5.69760000e+02, 1.98377246e+02, 4.45052344e+01, 1.45213763e+02,\n",
       "       4.70084906e+02, 1.12396141e+02, 1.02681535e+02, 5.21035582e+01,\n",
       "       2.93551622e+02, 1.79971014e+02, 4.33692854e+01, 8.00478508e+01,\n",
       "       5.84167658e+01, 4.51551247e+01, 4.69410072e+01, 7.44249057e+01,\n",
       "       7.48399090e+01, 3.15000000e+02, 7.43067069e+01, 3.39549488e+02,\n",
       "       4.06711130e+01, 7.71704457e+01, 5.62398397e+01, 6.24175127e+01,\n",
       "       4.33688415e+01, 8.13924155e+01, 1.03810273e+02, 4.08835358e+01,\n",
       "       4.42785326e+01, 9.28366197e+01, 4.18132762e+01, 2.58340260e+02,\n",
       "       2.91401760e+02, 3.67321033e+02, 9.43702290e+01, 6.87939944e+01,\n",
       "       4.22548680e+01, 4.21380500e+01, 3.62784672e+02, 1.70125000e+02,\n",
       "       1.17366114e+02, 3.75947170e+02, 4.80775650e+01, 7.76231314e+01,\n",
       "       1.35711354e+02, 6.12691589e+01, 9.46086124e+01, 2.15861171e+02,\n",
       "       4.75512385e+01, 8.14253916e+01, 6.63780323e+01, 3.31623333e+02,\n",
       "       1.95422397e+02, 4.00127153e+01, 4.10214376e+01,            nan,\n",
       "       6.52352551e+01, 4.20271084e+01, 9.77440711e+01, 7.13997104e+01,\n",
       "       9.88751249e+01, 3.55321429e+02, 4.72864734e+01, 3.91308711e+01,\n",
       "       1.59639871e+02, 5.39499725e+01, 2.70451087e+02, 1.61481301e+02,\n",
       "       8.49724850e+01, 1.27846649e+02, 5.79728614e+01, 4.57791296e+01,\n",
       "       4.19734177e+02, 1.84710037e+02, 2.26004545e+02, 8.22775000e+01,\n",
       "       4.29468132e+01,            nan, 7.07717157e+01, 6.96296820e+01,\n",
       "       4.93925743e+02, 6.22359266e+01, 4.06203164e+01, 1.03031217e+02,\n",
       "       2.24000000e+02, 8.92845528e+01, 1.82952118e+02, 4.64710351e+01,\n",
       "       2.52446701e+02, 5.82971530e+01, 1.23188820e+02, 1.09338852e+02,\n",
       "                  nan, 5.18651507e+01, 5.15244351e+01, 9.93694779e+01,\n",
       "       5.63119266e+01, 7.77407407e+01, 9.35468307e+01, 1.16013953e+03,\n",
       "       5.80856974e+01, 6.01357576e+02, 7.01451957e+01, 5.46167964e+01,\n",
       "       2.93705015e+02, 3.97412388e+01, 4.22222222e+01, 1.08819780e+02,\n",
       "       1.18158522e+02, 6.49643564e+01, 7.42590361e+01, 2.59000000e+02,\n",
       "       3.00540785e+02, 2.56695876e+02, 2.20002212e+02, 4.25841325e+01,\n",
       "       7.54503058e+01, 1.62357843e+02, 5.99432927e+01, 6.00494505e+01,\n",
       "       6.65574324e+01, 4.79197652e+01, 4.75215311e+02, 3.11446875e+02,\n",
       "       6.13907615e+01, 5.67361432e+01, 4.97395939e+01, 4.40345000e+04,\n",
       "       2.26025000e+02, 1.07523344e+02, 3.08015480e+02, 5.61382857e+01,\n",
       "       5.79298349e+01, 7.20146092e+01, 1.27225931e+02, 7.78989740e+01,\n",
       "       1.23218634e+02, 1.06063169e+02, 2.79241573e+02, 2.52530457e+02,\n",
       "       1.00768839e+02, 8.88767986e+01, 1.10048889e+02, 4.41264108e+01,\n",
       "       2.83356125e+02, 4.98616480e+01, 7.27852399e+01, 3.89412705e+01,\n",
       "       6.22550633e+01, 4.21558049e+01, 5.44650388e+01, 1.22213317e+02,\n",
       "       4.96372847e+01, 2.77038997e+02, 5.35562227e+01, 1.00487310e+02,\n",
       "       5.15212822e+01, 1.27545689e+02, 2.19827434e+02, 6.75971174e+01,\n",
       "       3.98720360e+01, 4.63262311e+01, 4.53393602e+01, 7.99570850e+01,\n",
       "       5.40280682e+01, 6.27653061e+01, 8.35592217e+01, 1.00004040e+02,\n",
       "       4.53336423e+01, 3.99312321e+01, 7.95560032e+01, 4.05594347e+01,\n",
       "                  nan, 5.14876640e+01,            nan, 1.16790094e+02,\n",
       "       4.25893636e+01, 4.60753296e+01, 2.57471503e+02, 4.79662096e+01,\n",
       "       5.25436529e+01, 4.98641221e+01, 3.81000000e+02, 4.07278798e+01,\n",
       "       4.54679368e+01, 1.52296012e+02, 4.94393035e+02, 1.01050051e+02,\n",
       "       4.31445887e+02, 5.28930851e+02, 1.09697674e+02,            nan,\n",
       "       4.98890000e+02, 4.50308471e+01, 9.73346457e+01, 5.44514698e+01,\n",
       "       1.01563655e+02, 6.10944099e+01, 7.33913690e+01, 5.88138839e+01,\n",
       "       1.35679452e+03, 7.14655547e+01, 8.39889456e+01, 1.18876499e+02,\n",
       "       5.09765991e+01, 1.02660788e+02, 1.33559892e+02, 4.10189155e+01,\n",
       "       1.07631522e+02, 4.05586035e+01, 4.19651912e+01, 5.44514698e+01,\n",
       "       4.07681704e+01, 9.08648897e+01, 3.73453184e+02, 8.64164479e+01,\n",
       "       4.64753086e+01, 2.39250000e+02, 6.95098731e+01, 8.14295136e+01,\n",
       "       1.24656604e+02, 1.36325549e+02, 1.45108187e+02, 1.11956180e+03,\n",
       "       4.22248163e+01, 7.16707849e+01, 2.09157895e+02, 7.00227434e+01,\n",
       "       1.90549808e+02,            nan, 1.50480303e+02, 9.12029520e+01,\n",
       "       4.81347826e+02, 7.04453181e+01, 4.33675100e+01, 4.25000000e+02,\n",
       "       6.14434728e+01, 8.72356575e+01, 1.02634855e+02, 8.45599315e+01,\n",
       "       1.48507485e+02, 2.43546569e+02, 4.72615830e+01, 4.81731431e+01,\n",
       "       3.93971717e+01, 5.30849567e+01, 3.77246212e+02, 1.11028027e+02,\n",
       "       6.21705622e+01, 9.11124424e+01, 4.03686388e+01,            nan,\n",
       "       5.49200224e+01, 2.76163889e+02, 1.58103503e+02, 3.92370221e+01])"
      ]
     },
     "execution_count": 14,
     "metadata": {},
     "output_type": "execute_result"
    }
   ],
   "source": [
    "spikies_freq_neurons = total_spikes_intervals / total_spikes_num\n",
    "spikies_freq_neurons"
   ]
  },
  {
   "cell_type": "code",
   "execution_count": 15,
   "metadata": {},
   "outputs": [
    {
     "name": "stderr",
     "output_type": "stream",
     "text": [
      "C:\\ProgramData\\Anaconda3\\lib\\site-packages\\numpy\\lib\\histograms.py:839: RuntimeWarning: invalid value encountered in greater_equal\n",
      "  keep = (tmp_a >= first_edge)\n",
      "C:\\ProgramData\\Anaconda3\\lib\\site-packages\\numpy\\lib\\histograms.py:840: RuntimeWarning: invalid value encountered in less_equal\n",
      "  keep &= (tmp_a <= last_edge)\n"
     ]
    },
    {
     "data": {
      "text/plain": [
       "(array([951.,   1.,   0.,   0.,   0.,   0.,   0.,   0.,   0.,   1.]),\n",
       " array([3.88763462e+01, 4.43843871e+03, 8.83800108e+03, 1.32375634e+04,\n",
       "        1.76371258e+04, 2.20366882e+04, 2.64362505e+04, 3.08358129e+04,\n",
       "        3.52353753e+04, 3.96349376e+04, 4.40345000e+04]),\n",
       " <a list of 10 Patch objects>)"
      ]
     },
     "execution_count": 15,
     "metadata": {},
     "output_type": "execute_result"
    },
    {
     "data": {
      "image/png": "[encoded data removed]",
      "text/plain": [
       "<Figure size 432x288 with 1 Axes>"
      ]
     },
     "metadata": {
      "needs_background": "light"
     },
     "output_type": "display_data"
    }
   ],
   "source": [
    "plt.hist(spikies_freq_neurons)"
   ]
  },
  {
   "cell_type": "code",
   "execution_count": null,
   "metadata": {},
   "outputs": [],
   "source": []
  }
 ],
 "metadata": {
  "kernelspec": {
   "display_name": "Python 3",
   "language": "python",
   "name": "python3"
  },
  "language_info": {
   "codemirror_mode": {
    "name": "ipython",
    "version": 3
   },
   "file_extension": ".py",
   "mimetype": "text/x-python",
   "name": "python",
   "nbconvert_exporter": "python",
   "pygments_lexer": "ipython3",
   "version": "3.7.6"
  }
 },
 "nbformat": 4,
 "nbformat_minor": 4
}
