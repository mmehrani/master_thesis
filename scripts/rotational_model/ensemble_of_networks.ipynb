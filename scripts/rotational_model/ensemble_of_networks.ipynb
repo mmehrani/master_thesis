{
 "cells": [
  {
   "cell_type": "markdown",
   "metadata": {},
   "source": [
    "# Netwoks in different connectivty (g):\n",
    "This notebook will set networks side by side which are different in the connectivity constant \"g\".\n",
    "This procedure will be done with the help of engine code in __network_simulation.py__ file. It contains network object and serves its behaviours."
   ]
  },
  {
   "cell_type": "code",
   "execution_count": 1,
   "metadata": {},
   "outputs": [],
   "source": [
    "import numpy as np\n",
    "from tqdm import tqdm\n",
    "import matplotlib.pyplot as plt"
   ]
  },
  {
   "cell_type": "code",
   "execution_count": 2,
   "metadata": {},
   "outputs": [],
   "source": [
    "%%capture\n",
    "from tqdm import tqdm_notebook as tqdm\n",
    "tqdm().pandas() #This line make sure that the progress bars looks natural."
   ]
  },
  {
   "cell_type": "code",
   "execution_count": null,
   "metadata": {},
   "outputs": [],
   "source": []
  },
  {
   "cell_type": "code",
   "execution_count": 3,
   "metadata": {},
   "outputs": [],
   "source": [
    "from network_simulation import Rotational_neural_network"
   ]
  },
  {
   "cell_type": "code",
   "execution_count": 4,
   "metadata": {},
   "outputs": [],
   "source": [
    "connectivity_span = np.arange(0.1,5,0.25)\n",
    "num_ensembles_each_g = 5\n",
    "sync_param_record = np.zeros( shape = (len(connectivity_span),num_ensembles_each_g) )\n",
    "sigma_record = np.zeros( shape = (len(connectivity_span),num_ensembles_each_g) )"
   ]
  },
  {
   "cell_type": "markdown",
   "metadata": {},
   "source": [
    "## Creating various ensembles:"
   ]
  },
  {
   "cell_type": "code",
   "execution_count": 5,
   "metadata": {},
   "outputs": [],
   "source": [
    "num_neurons = 1000\n",
    "total_time = 1000"
   ]
  },
  {
   "cell_type": "code",
   "execution_count": 6,
   "metadata": {},
   "outputs": [
    {
     "name": "stderr",
     "output_type": "stream",
     "text": [
      "C:\\ProgramData\\Anaconda3\\lib\\site-packages\\ipykernel_launcher.py:1: TqdmDeprecationWarning: This function will be removed in tqdm==5.0.0\n",
      "Please use `tqdm.notebook.tqdm` instead of `tqdm.tqdm_notebook`\n",
      "  \"\"\"Entry point for launching an IPython kernel.\n"
     ]
    },
    {
     "data": {
      "application/vnd.jupyter.widget-view+json": {
       "model_id": "935e3e04a9594affb3d80068cb56e20d",
       "version_major": 2,
       "version_minor": 0
      },
      "text/plain": [
       "HBox(children=(FloatProgress(value=0.0, description='Variation of connectivities', max=20.0, style=ProgressSty…"
      ]
     },
     "metadata": {},
     "output_type": "display_data"
    },
    {
     "name": "stderr",
     "output_type": "stream",
     "text": [
      "C:\\ProgramData\\Anaconda3\\lib\\site-packages\\ipykernel_launcher.py:2: TqdmDeprecationWarning: This function will be removed in tqdm==5.0.0\n",
      "Please use `tqdm.notebook.tqdm` instead of `tqdm.tqdm_notebook`\n",
      "  \n"
     ]
    },
    {
     "data": {
      "application/vnd.jupyter.widget-view+json": {
       "model_id": "0c0305db30374204aacbf52d3eb2bdcb",
       "version_major": 2,
       "version_minor": 0
      },
      "text/plain": [
       "HBox(children=(FloatProgress(value=0.0, description='Making ensembles', max=5.0, style=ProgressStyle(descripti…"
      ]
     },
     "metadata": {},
     "output_type": "display_data"
    },
    {
     "name": "stderr",
     "output_type": "stream",
     "text": [
      "network dynamic: 100%|████████████████████████████████████████████████████████| 99999/99999 [00:05<00:00, 17455.28it/s]\n",
      "network dynamic: 100%|████████████████████████████████████████████████████████| 99999/99999 [00:06<00:00, 14973.91it/s]\n",
      "network dynamic: 100%|████████████████████████████████████████████████████████| 99999/99999 [00:06<00:00, 14973.43it/s]\n",
      "network dynamic: 100%|████████████████████████████████████████████████████████| 99999/99999 [00:07<00:00, 13624.95it/s]\n",
      "network dynamic: 100%|████████████████████████████████████████████████████████| 99999/99999 [00:06<00:00, 14399.89it/s]"
     ]
    },
    {
     "name": "stdout",
     "output_type": "stream",
     "text": [
      "\n"
     ]
    },
    {
     "name": "stderr",
     "output_type": "stream",
     "text": [
      "\n"
     ]
    },
    {
     "data": {
      "application/vnd.jupyter.widget-view+json": {
       "model_id": "02e66edb619b4fa3a02d274514151836",
       "version_major": 2,
       "version_minor": 0
      },
      "text/plain": [
       "HBox(children=(FloatProgress(value=0.0, description='Making ensembles', max=5.0, style=ProgressStyle(descripti…"
      ]
     },
     "metadata": {},
     "output_type": "display_data"
    },
    {
     "name": "stderr",
     "output_type": "stream",
     "text": [
      "network dynamic: 100%|████████████████████████████████████████████████████████| 99999/99999 [00:07<00:00, 14129.99it/s]\n",
      "network dynamic: 100%|████████████████████████████████████████████████████████| 99999/99999 [00:07<00:00, 13500.20it/s]\n",
      "network dynamic: 100%|████████████████████████████████████████████████████████| 99999/99999 [00:08<00:00, 12377.00it/s]\n",
      "network dynamic: 100%|████████████████████████████████████████████████████████| 99999/99999 [00:06<00:00, 14287.04it/s]\n",
      "network dynamic: 100%|████████████████████████████████████████████████████████| 99999/99999 [00:07<00:00, 12938.09it/s]"
     ]
    },
    {
     "name": "stdout",
     "output_type": "stream",
     "text": [
      "\n"
     ]
    },
    {
     "name": "stderr",
     "output_type": "stream",
     "text": [
      "\n"
     ]
    },
    {
     "data": {
      "application/vnd.jupyter.widget-view+json": {
       "model_id": "a2b9a5c9fee048b1bf04498decb93d59",
       "version_major": 2,
       "version_minor": 0
      },
      "text/plain": [
       "HBox(children=(FloatProgress(value=0.0, description='Making ensembles', max=5.0, style=ProgressStyle(descripti…"
      ]
     },
     "metadata": {},
     "output_type": "display_data"
    },
    {
     "name": "stderr",
     "output_type": "stream",
     "text": [
      "network dynamic: 100%|████████████████████████████████████████████████████████| 99999/99999 [00:07<00:00, 14008.68it/s]\n",
      "network dynamic: 100%|████████████████████████████████████████████████████████| 99999/99999 [00:07<00:00, 14099.88it/s]\n",
      "network dynamic: 100%|████████████████████████████████████████████████████████| 99999/99999 [00:06<00:00, 14436.45it/s]\n",
      "network dynamic: 100%|████████████████████████████████████████████████████████| 99999/99999 [00:06<00:00, 14430.98it/s]\n",
      "network dynamic: 100%|████████████████████████████████████████████████████████| 99999/99999 [00:06<00:00, 14929.08it/s]"
     ]
    },
    {
     "name": "stdout",
     "output_type": "stream",
     "text": [
      "\n"
     ]
    },
    {
     "name": "stderr",
     "output_type": "stream",
     "text": [
      "\n"
     ]
    },
    {
     "data": {
      "application/vnd.jupyter.widget-view+json": {
       "model_id": "868c812912ef47c39771bdc57e198c2a",
       "version_major": 2,
       "version_minor": 0
      },
      "text/plain": [
       "HBox(children=(FloatProgress(value=0.0, description='Making ensembles', max=5.0, style=ProgressStyle(descripti…"
      ]
     },
     "metadata": {},
     "output_type": "display_data"
    },
    {
     "name": "stderr",
     "output_type": "stream",
     "text": [
      "network dynamic: 100%|████████████████████████████████████████████████████████| 99999/99999 [00:06<00:00, 14790.20it/s]\n",
      "network dynamic: 100%|████████████████████████████████████████████████████████| 99999/99999 [00:06<00:00, 14887.00it/s]\n",
      "network dynamic: 100%|████████████████████████████████████████████████████████| 99999/99999 [00:06<00:00, 14374.79it/s]\n",
      "network dynamic: 100%|████████████████████████████████████████████████████████| 99999/99999 [00:07<00:00, 14015.43it/s]\n",
      "network dynamic: 100%|████████████████████████████████████████████████████████| 99999/99999 [00:07<00:00, 13523.93it/s]"
     ]
    },
    {
     "name": "stdout",
     "output_type": "stream",
     "text": [
      "\n"
     ]
    },
    {
     "name": "stderr",
     "output_type": "stream",
     "text": [
      "\n"
     ]
    },
    {
     "data": {
      "application/vnd.jupyter.widget-view+json": {
       "model_id": "6e867a3f91354228a5fb574174a41820",
       "version_major": 2,
       "version_minor": 0
      },
      "text/plain": [
       "HBox(children=(FloatProgress(value=0.0, description='Making ensembles', max=5.0, style=ProgressStyle(descripti…"
      ]
     },
     "metadata": {},
     "output_type": "display_data"
    },
    {
     "name": "stderr",
     "output_type": "stream",
     "text": [
      "network dynamic: 100%|████████████████████████████████████████████████████████| 99999/99999 [00:07<00:00, 14097.05it/s]\n",
      "network dynamic: 100%|████████████████████████████████████████████████████████| 99999/99999 [00:07<00:00, 14247.70it/s]\n",
      "network dynamic: 100%|████████████████████████████████████████████████████████| 99999/99999 [00:07<00:00, 14214.12it/s]\n",
      "network dynamic: 100%|████████████████████████████████████████████████████████| 99999/99999 [00:06<00:00, 14773.31it/s]\n",
      "network dynamic: 100%|████████████████████████████████████████████████████████| 99999/99999 [00:06<00:00, 14788.56it/s]"
     ]
    },
    {
     "name": "stdout",
     "output_type": "stream",
     "text": [
      "\n"
     ]
    },
    {
     "name": "stderr",
     "output_type": "stream",
     "text": [
      "\n"
     ]
    },
    {
     "data": {
      "application/vnd.jupyter.widget-view+json": {
       "model_id": "3c8a114866a541f883b67e526b1886d4",
       "version_major": 2,
       "version_minor": 0
      },
      "text/plain": [
       "HBox(children=(FloatProgress(value=0.0, description='Making ensembles', max=5.0, style=ProgressStyle(descripti…"
      ]
     },
     "metadata": {},
     "output_type": "display_data"
    },
    {
     "name": "stderr",
     "output_type": "stream",
     "text": [
      "network dynamic: 100%|████████████████████████████████████████████████████████| 99999/99999 [00:06<00:00, 15084.41it/s]\n",
      "network dynamic: 100%|████████████████████████████████████████████████████████| 99999/99999 [00:07<00:00, 14141.95it/s]\n",
      "network dynamic: 100%|████████████████████████████████████████████████████████| 99999/99999 [00:06<00:00, 15461.97it/s]\n",
      "network dynamic: 100%|████████████████████████████████████████████████████████| 99999/99999 [00:06<00:00, 15444.62it/s]\n",
      "network dynamic: 100%|████████████████████████████████████████████████████████| 99999/99999 [00:06<00:00, 15864.86it/s]\n"
     ]
    },
    {
     "name": "stdout",
     "output_type": "stream",
     "text": [
      "\n"
     ]
    },
    {
     "data": {
      "application/vnd.jupyter.widget-view+json": {
       "model_id": "9af8bbc6b3e4410ab7a67b2dd04c03a0",
       "version_major": 2,
       "version_minor": 0
      },
      "text/plain": [
       "HBox(children=(FloatProgress(value=0.0, description='Making ensembles', max=5.0, style=ProgressStyle(descripti…"
      ]
     },
     "metadata": {},
     "output_type": "display_data"
    },
    {
     "name": "stderr",
     "output_type": "stream",
     "text": [
      "network dynamic: 100%|████████████████████████████████████████████████████████| 99999/99999 [00:06<00:00, 15844.88it/s]\n",
      "network dynamic: 100%|████████████████████████████████████████████████████████| 99999/99999 [00:06<00:00, 15832.28it/s]\n",
      "network dynamic: 100%|████████████████████████████████████████████████████████| 99999/99999 [00:06<00:00, 15084.39it/s]\n",
      "network dynamic: 100%|████████████████████████████████████████████████████████| 99999/99999 [00:06<00:00, 15827.38it/s]\n",
      "network dynamic: 100%|████████████████████████████████████████████████████████| 99999/99999 [00:06<00:00, 15859.93it/s]"
     ]
    },
    {
     "name": "stdout",
     "output_type": "stream",
     "text": [
      "\n"
     ]
    },
    {
     "name": "stderr",
     "output_type": "stream",
     "text": [
      "\n"
     ]
    },
    {
     "data": {
      "application/vnd.jupyter.widget-view+json": {
       "model_id": "a36bda44bf974dcc8aef230cab1a0066",
       "version_major": 2,
       "version_minor": 0
      },
      "text/plain": [
       "HBox(children=(FloatProgress(value=0.0, description='Making ensembles', max=5.0, style=ProgressStyle(descripti…"
      ]
     },
     "metadata": {},
     "output_type": "display_data"
    },
    {
     "name": "stderr",
     "output_type": "stream",
     "text": [
      "network dynamic: 100%|████████████████████████████████████████████████████████| 99999/99999 [00:06<00:00, 16088.97it/s]\n",
      "network dynamic: 100%|████████████████████████████████████████████████████████| 99999/99999 [00:06<00:00, 16063.09it/s]\n",
      "network dynamic: 100%|████████████████████████████████████████████████████████| 99999/99999 [00:06<00:00, 15958.37it/s]\n",
      "network dynamic: 100%|████████████████████████████████████████████████████████| 99999/99999 [00:06<00:00, 14654.78it/s]\n",
      "network dynamic: 100%|████████████████████████████████████████████████████████| 99999/99999 [00:06<00:00, 15598.39it/s]"
     ]
    },
    {
     "name": "stdout",
     "output_type": "stream",
     "text": [
      "\n"
     ]
    },
    {
     "name": "stderr",
     "output_type": "stream",
     "text": [
      "\n"
     ]
    },
    {
     "data": {
      "application/vnd.jupyter.widget-view+json": {
       "model_id": "e10cfae8a8314a6e91b1ce386f9d3d0b",
       "version_major": 2,
       "version_minor": 0
      },
      "text/plain": [
       "HBox(children=(FloatProgress(value=0.0, description='Making ensembles', max=5.0, style=ProgressStyle(descripti…"
      ]
     },
     "metadata": {},
     "output_type": "display_data"
    },
    {
     "name": "stderr",
     "output_type": "stream",
     "text": [
      "network dynamic: 100%|████████████████████████████████████████████████████████| 99999/99999 [00:06<00:00, 16166.79it/s]\n",
      "network dynamic: 100%|████████████████████████████████████████████████████████| 99999/99999 [00:06<00:00, 16145.97it/s]\n",
      "network dynamic: 100%|████████████████████████████████████████████████████████| 99999/99999 [00:06<00:00, 15996.56it/s]\n",
      "network dynamic: 100%|████████████████████████████████████████████████████████| 99999/99999 [00:06<00:00, 15920.26it/s]\n",
      "network dynamic: 100%|████████████████████████████████████████████████████████| 99999/99999 [00:06<00:00, 16221.71it/s]\n"
     ]
    },
    {
     "name": "stdout",
     "output_type": "stream",
     "text": [
      "\n"
     ]
    },
    {
     "data": {
      "application/vnd.jupyter.widget-view+json": {
       "model_id": "9b0d5195cbe8408d9a67ede9e5d87f1a",
       "version_major": 2,
       "version_minor": 0
      },
      "text/plain": [
       "HBox(children=(FloatProgress(value=0.0, description='Making ensembles', max=5.0, style=ProgressStyle(descripti…"
      ]
     },
     "metadata": {},
     "output_type": "display_data"
    },
    {
     "name": "stderr",
     "output_type": "stream",
     "text": [
      "network dynamic: 100%|████████████████████████████████████████████████████████| 99999/99999 [00:07<00:00, 12720.32it/s]\n",
      "network dynamic: 100%|████████████████████████████████████████████████████████| 99999/99999 [00:07<00:00, 13622.64it/s]\n",
      "network dynamic: 100%|████████████████████████████████████████████████████████| 99999/99999 [00:06<00:00, 15521.12it/s]\n",
      "network dynamic: 100%|████████████████████████████████████████████████████████| 99999/99999 [00:06<00:00, 15835.68it/s]\n",
      "network dynamic: 100%|████████████████████████████████████████████████████████| 99999/99999 [00:06<00:00, 15432.62it/s]"
     ]
    },
    {
     "name": "stdout",
     "output_type": "stream",
     "text": [
      "\n"
     ]
    },
    {
     "name": "stderr",
     "output_type": "stream",
     "text": [
      "\n"
     ]
    },
    {
     "data": {
      "application/vnd.jupyter.widget-view+json": {
       "model_id": "4fd62e9c31ea42ae866d0fcf5bfeb67c",
       "version_major": 2,
       "version_minor": 0
      },
      "text/plain": [
       "HBox(children=(FloatProgress(value=0.0, description='Making ensembles', max=5.0, style=ProgressStyle(descripti…"
      ]
     },
     "metadata": {},
     "output_type": "display_data"
    },
    {
     "name": "stderr",
     "output_type": "stream",
     "text": [
      "network dynamic: 100%|████████████████████████████████████████████████████████| 99999/99999 [00:06<00:00, 16415.60it/s]\n",
      "network dynamic: 100%|████████████████████████████████████████████████████████| 99999/99999 [00:06<00:00, 15963.46it/s]\n",
      "network dynamic: 100%|████████████████████████████████████████████████████████| 99999/99999 [00:06<00:00, 16461.41it/s]\n",
      "network dynamic: 100%|████████████████████████████████████████████████████████| 99999/99999 [00:06<00:00, 16402.17it/s]\n",
      "network dynamic: 100%|████████████████████████████████████████████████████████| 99999/99999 [00:06<00:00, 16477.64it/s]"
     ]
    },
    {
     "name": "stdout",
     "output_type": "stream",
     "text": [
      "\n"
     ]
    },
    {
     "name": "stderr",
     "output_type": "stream",
     "text": [
      "\n"
     ]
    },
    {
     "data": {
      "application/vnd.jupyter.widget-view+json": {
       "model_id": "857a3dfff9c848499eaf4fb1b78bd163",
       "version_major": 2,
       "version_minor": 0
      },
      "text/plain": [
       "HBox(children=(FloatProgress(value=0.0, description='Making ensembles', max=5.0, style=ProgressStyle(descripti…"
      ]
     },
     "metadata": {},
     "output_type": "display_data"
    },
    {
     "name": "stderr",
     "output_type": "stream",
     "text": [
      "network dynamic: 100%|████████████████████████████████████████████████████████| 99999/99999 [00:06<00:00, 16279.25it/s]\n",
      "network dynamic: 100%|████████████████████████████████████████████████████████| 99999/99999 [00:05<00:00, 16837.36it/s]\n",
      "network dynamic: 100%|████████████████████████████████████████████████████████| 99999/99999 [00:05<00:00, 16866.67it/s]\n",
      "network dynamic: 100%|████████████████████████████████████████████████████████| 99999/99999 [00:05<00:00, 16939.76it/s]\n",
      "network dynamic: 100%|████████████████████████████████████████████████████████| 99999/99999 [00:06<00:00, 16526.44it/s]"
     ]
    },
    {
     "name": "stdout",
     "output_type": "stream",
     "text": [
      "\n"
     ]
    },
    {
     "name": "stderr",
     "output_type": "stream",
     "text": [
      "\n"
     ]
    },
    {
     "data": {
      "application/vnd.jupyter.widget-view+json": {
       "model_id": "4bc9672b74b748b0a607b97ddd750286",
       "version_major": 2,
       "version_minor": 0
      },
      "text/plain": [
       "HBox(children=(FloatProgress(value=0.0, description='Making ensembles', max=5.0, style=ProgressStyle(descripti…"
      ]
     },
     "metadata": {},
     "output_type": "display_data"
    },
    {
     "name": "stderr",
     "output_type": "stream",
     "text": [
      "network dynamic: 100%|████████████████████████████████████████████████████████| 99999/99999 [00:06<00:00, 16215.19it/s]\n",
      "network dynamic: 100%|████████████████████████████████████████████████████████| 99999/99999 [00:05<00:00, 17183.52it/s]\n",
      "network dynamic: 100%|████████████████████████████████████████████████████████| 99999/99999 [00:05<00:00, 17257.57it/s]\n",
      "network dynamic: 100%|████████████████████████████████████████████████████████| 99999/99999 [00:05<00:00, 17262.61it/s]\n",
      "network dynamic: 100%|████████████████████████████████████████████████████████| 99999/99999 [00:05<00:00, 17227.29it/s]"
     ]
    },
    {
     "name": "stdout",
     "output_type": "stream",
     "text": [
      "\n"
     ]
    },
    {
     "name": "stderr",
     "output_type": "stream",
     "text": [
      "\n"
     ]
    },
    {
     "data": {
      "application/vnd.jupyter.widget-view+json": {
       "model_id": "bb8f208ce76b4f90a9806f3d79acc7a4",
       "version_major": 2,
       "version_minor": 0
      },
      "text/plain": [
       "HBox(children=(FloatProgress(value=0.0, description='Making ensembles', max=5.0, style=ProgressStyle(descripti…"
      ]
     },
     "metadata": {},
     "output_type": "display_data"
    },
    {
     "name": "stderr",
     "output_type": "stream",
     "text": [
      "network dynamic: 100%|████████████████████████████████████████████████████████| 99999/99999 [00:05<00:00, 16953.59it/s]\n",
      "network dynamic: 100%|████████████████████████████████████████████████████████| 99999/99999 [00:05<00:00, 17086.89it/s]\n",
      "network dynamic: 100%|████████████████████████████████████████████████████████| 99999/99999 [00:05<00:00, 17180.58it/s]\n",
      "network dynamic: 100%|████████████████████████████████████████████████████████| 99999/99999 [00:05<00:00, 17213.13it/s]\n",
      "network dynamic: 100%|████████████████████████████████████████████████████████| 99999/99999 [00:05<00:00, 17038.86it/s]"
     ]
    },
    {
     "name": "stdout",
     "output_type": "stream",
     "text": [
      "\n"
     ]
    },
    {
     "name": "stderr",
     "output_type": "stream",
     "text": [
      "\n"
     ]
    },
    {
     "data": {
      "application/vnd.jupyter.widget-view+json": {
       "model_id": "7184058d887c4c6d9e6f98ca5b1692cc",
       "version_major": 2,
       "version_minor": 0
      },
      "text/plain": [
       "HBox(children=(FloatProgress(value=0.0, description='Making ensembles', max=5.0, style=ProgressStyle(descripti…"
      ]
     },
     "metadata": {},
     "output_type": "display_data"
    },
    {
     "name": "stderr",
     "output_type": "stream",
     "text": [
      "network dynamic: 100%|████████████████████████████████████████████████████████| 99999/99999 [00:05<00:00, 17048.60it/s]\n",
      "network dynamic: 100%|████████████████████████████████████████████████████████| 99999/99999 [00:08<00:00, 11312.95it/s]\n",
      "network dynamic: 100%|████████████████████████████████████████████████████████| 99999/99999 [00:09<00:00, 10539.94it/s]\n",
      "network dynamic: 100%|████████████████████████████████████████████████████████| 99999/99999 [00:07<00:00, 13822.23it/s]\n",
      "network dynamic: 100%|████████████████████████████████████████████████████████| 99999/99999 [00:06<00:00, 15659.29it/s]"
     ]
    },
    {
     "name": "stdout",
     "output_type": "stream",
     "text": [
      "\n"
     ]
    },
    {
     "name": "stderr",
     "output_type": "stream",
     "text": [
      "\n"
     ]
    },
    {
     "data": {
      "application/vnd.jupyter.widget-view+json": {
       "model_id": "5f5557857709434aa7822f7f64878956",
       "version_major": 2,
       "version_minor": 0
      },
      "text/plain": [
       "HBox(children=(FloatProgress(value=0.0, description='Making ensembles', max=5.0, style=ProgressStyle(descripti…"
      ]
     },
     "metadata": {},
     "output_type": "display_data"
    },
    {
     "name": "stderr",
     "output_type": "stream",
     "text": [
      "network dynamic: 100%|████████████████████████████████████████████████████████| 99999/99999 [00:06<00:00, 15504.32it/s]\n",
      "network dynamic: 100%|████████████████████████████████████████████████████████| 99999/99999 [00:06<00:00, 15950.76it/s]\n",
      "network dynamic: 100%|████████████████████████████████████████████████████████| 99999/99999 [00:06<00:00, 15155.15it/s]\n",
      "network dynamic: 100%|████████████████████████████████████████████████████████| 99999/99999 [00:06<00:00, 15364.15it/s]\n",
      "network dynamic: 100%|████████████████████████████████████████████████████████| 99999/99999 [00:07<00:00, 13720.10it/s]"
     ]
    },
    {
     "name": "stdout",
     "output_type": "stream",
     "text": [
      "\n"
     ]
    },
    {
     "name": "stderr",
     "output_type": "stream",
     "text": [
      "\n"
     ]
    },
    {
     "data": {
      "application/vnd.jupyter.widget-view+json": {
       "model_id": "bc2ed23668d243bbafc4c6d90b0780af",
       "version_major": 2,
       "version_minor": 0
      },
      "text/plain": [
       "HBox(children=(FloatProgress(value=0.0, description='Making ensembles', max=5.0, style=ProgressStyle(descripti…"
      ]
     },
     "metadata": {},
     "output_type": "display_data"
    },
    {
     "name": "stderr",
     "output_type": "stream",
     "text": [
      "network dynamic: 100%|████████████████████████████████████████████████████████| 99999/99999 [00:06<00:00, 15552.42it/s]\n",
      "network dynamic: 100%|████████████████████████████████████████████████████████| 99999/99999 [00:06<00:00, 15064.07it/s]\n",
      "network dynamic: 100%|████████████████████████████████████████████████████████| 99999/99999 [00:06<00:00, 15413.66it/s]\n",
      "network dynamic: 100%|████████████████████████████████████████████████████████| 99999/99999 [00:06<00:00, 15475.60it/s]\n",
      "network dynamic: 100%|████████████████████████████████████████████████████████| 99999/99999 [00:06<00:00, 15145.99it/s]"
     ]
    },
    {
     "name": "stdout",
     "output_type": "stream",
     "text": [
      "\n"
     ]
    },
    {
     "name": "stderr",
     "output_type": "stream",
     "text": [
      "\n"
     ]
    },
    {
     "data": {
      "application/vnd.jupyter.widget-view+json": {
       "model_id": "51e47967d7064f2fb1085939047e6738",
       "version_major": 2,
       "version_minor": 0
      },
      "text/plain": [
       "HBox(children=(FloatProgress(value=0.0, description='Making ensembles', max=5.0, style=ProgressStyle(descripti…"
      ]
     },
     "metadata": {},
     "output_type": "display_data"
    },
    {
     "name": "stderr",
     "output_type": "stream",
     "text": [
      "network dynamic: 100%|████████████████████████████████████████████████████████| 99999/99999 [00:06<00:00, 15527.63it/s]\n",
      "network dynamic: 100%|████████████████████████████████████████████████████████| 99999/99999 [00:06<00:00, 15591.11it/s]\n",
      "network dynamic: 100%|████████████████████████████████████████████████████████| 99999/99999 [00:06<00:00, 15737.85it/s]\n",
      "network dynamic: 100%|████████████████████████████████████████████████████████| 99999/99999 [00:06<00:00, 15152.86it/s]\n",
      "network dynamic: 100%|████████████████████████████████████████████████████████| 99999/99999 [00:06<00:00, 15691.15it/s]"
     ]
    },
    {
     "name": "stdout",
     "output_type": "stream",
     "text": [
      "\n"
     ]
    },
    {
     "name": "stderr",
     "output_type": "stream",
     "text": [
      "\n"
     ]
    },
    {
     "data": {
      "application/vnd.jupyter.widget-view+json": {
       "model_id": "3fbc449550ca408a9b971c9dd606781f",
       "version_major": 2,
       "version_minor": 0
      },
      "text/plain": [
       "HBox(children=(FloatProgress(value=0.0, description='Making ensembles', max=5.0, style=ProgressStyle(descripti…"
      ]
     },
     "metadata": {},
     "output_type": "display_data"
    },
    {
     "name": "stderr",
     "output_type": "stream",
     "text": [
      "network dynamic: 100%|████████████████████████████████████████████████████████| 99999/99999 [00:06<00:00, 15578.92it/s]\n",
      "network dynamic: 100%|████████████████████████████████████████████████████████| 99999/99999 [00:06<00:00, 15750.31it/s]\n",
      "network dynamic: 100%|████████████████████████████████████████████████████████| 99999/99999 [00:06<00:00, 15233.43it/s]\n",
      "network dynamic: 100%|████████████████████████████████████████████████████████| 99999/99999 [00:06<00:00, 15787.01it/s]\n",
      "network dynamic: 100%|████████████████████████████████████████████████████████| 99999/99999 [00:06<00:00, 14865.30it/s]"
     ]
    },
    {
     "name": "stdout",
     "output_type": "stream",
     "text": [
      "\n"
     ]
    },
    {
     "name": "stderr",
     "output_type": "stream",
     "text": [
      "\n"
     ]
    },
    {
     "data": {
      "application/vnd.jupyter.widget-view+json": {
       "model_id": "379dc70886e24b1c8c651690e576fa2c",
       "version_major": 2,
       "version_minor": 0
      },
      "text/plain": [
       "HBox(children=(FloatProgress(value=0.0, description='Making ensembles', max=5.0, style=ProgressStyle(descripti…"
      ]
     },
     "metadata": {},
     "output_type": "display_data"
    },
    {
     "name": "stderr",
     "output_type": "stream",
     "text": [
      "network dynamic: 100%|████████████████████████████████████████████████████████| 99999/99999 [00:06<00:00, 15027.94it/s]\n",
      "network dynamic: 100%|████████████████████████████████████████████████████████| 99999/99999 [00:06<00:00, 14650.19it/s]\n",
      "network dynamic: 100%|████████████████████████████████████████████████████████| 99999/99999 [00:06<00:00, 15221.78it/s]\n",
      "network dynamic: 100%|████████████████████████████████████████████████████████| 99999/99999 [00:06<00:00, 15018.83it/s]\n",
      "network dynamic: 100%|████████████████████████████████████████████████████████| 99999/99999 [00:06<00:00, 14953.90it/s]"
     ]
    },
    {
     "name": "stdout",
     "output_type": "stream",
     "text": [
      "\n",
      "\n"
     ]
    },
    {
     "name": "stderr",
     "output_type": "stream",
     "text": [
      "\n"
     ]
    }
   ],
   "source": [
    "for i,connectivity in enumerate(tqdm( connectivity_span , desc='Variation of connectivities') ):\n",
    "    for j in tqdm( range(num_ensembles_each_g) , desc='Making ensembles'):\n",
    "        sample_model = Rotational_neural_network(num_neurons=num_neurons,g=connectivity)\n",
    "        sample_model.ignite(total_time = total_time)\n",
    "        # sample_model.compute_effective_field( alpha = 20)\n",
    "        sync_param_record[i][j] = sample_model.report_sync_parameter()\n",
    "        sigma_record[i][j] = sample_model.report_sigma()"
   ]
  },
  {
   "cell_type": "code",
   "execution_count": 7,
   "metadata": {},
   "outputs": [],
   "source": [
    "# sigma_record = connectivity_record\n",
    "np.save('sync_param_records_{}.npy'.format(num_neurons),sync_param_record)\n",
    "np.save('sigma_records_{}.npy'.format(num_neurons),sigma_record)"
   ]
  },
  {
   "cell_type": "code",
   "execution_count": 8,
   "metadata": {},
   "outputs": [
    {
     "data": {
      "image/png": "[encoded data removed]",
      "text/plain": [
       "<Figure size 432x288 with 1 Axes>"
      ]
     },
     "metadata": {
      "needs_background": "light"
     },
     "output_type": "display_data"
    }
   ],
   "source": [
    "fig = plt.figure()\n",
    "ax = fig.subplots()\n",
    "ax.errorbar(x = connectivity_span, y = np.mean(sync_param_record,axis = 1),yerr = np.var(sync_param_record,axis = 1)**(0.5))\n",
    "# ax.set_title('$\\sigma$')\n",
    "ax.set_xlabel('g as connectivity')\n",
    "ax.set_ylabel('$\\sum \\frac{sin\\theta_i}{N}$')\n",
    "fig.savefig('synchoronization_{}_{}_{}.png'.format(num_neurons,connectivity_span[0],connectivity_span[-1]))"
   ]
  },
  {
   "cell_type": "code",
   "execution_count": 9,
   "metadata": {},
   "outputs": [
    {
     "data": {
      "text/plain": [
       "array([0.16506993, 0.1699605 , 0.18295549, 0.17427926, 0.1692637 ])"
      ]
     },
     "execution_count": 9,
     "metadata": {},
     "output_type": "execute_result"
    }
   ],
   "source": [
    "np.sum(sync_param_record,axis = 0)"
   ]
  },
  {
   "cell_type": "code",
   "execution_count": 10,
   "metadata": {},
   "outputs": [
    {
     "data": {
      "image/png": "[encoded data removed]",
      "text/plain": [
       "<Figure size 432x288 with 1 Axes>"
      ]
     },
     "metadata": {
      "needs_background": "light"
     },
     "output_type": "display_data"
    }
   ],
   "source": [
    "fig = plt.figure()\n",
    "ax = fig.subplots()\n",
    "ax.errorbar(x = connectivity_span, y = np.mean(sigma_record,axis = 1),yerr = np.var(sigma_record,axis = 1)**(0.5))\n",
    "# ax.set_title('$\\sigma$')\n",
    "ax.set_xlabel('g as connectivity')\n",
    "ax.set_ylabel('$\\sigma$')\n",
    "fig.savefig('sigma_as_synchoronization_meter_{}.png'.format(num_neurons))"
   ]
  },
  {
   "cell_type": "code",
   "execution_count": null,
   "metadata": {},
   "outputs": [],
   "source": []
  },
  {
   "cell_type": "code",
   "execution_count": null,
   "metadata": {},
   "outputs": [],
   "source": []
  },
  {
   "cell_type": "code",
   "execution_count": null,
   "metadata": {},
   "outputs": [],
   "source": []
  },
  {
   "cell_type": "code",
   "execution_count": null,
   "metadata": {},
   "outputs": [],
   "source": []
  }
 ],
 "metadata": {
  "kernelspec": {
   "display_name": "Python 3",
   "language": "python",
   "name": "python3"
  },
  "language_info": {
   "codemirror_mode": {
    "name": "ipython",
    "version": 3
   },
   "file_extension": ".py",
   "mimetype": "text/x-python",
   "name": "python",
   "nbconvert_exporter": "python",
   "pygments_lexer": "ipython3",
   "version": "3.7.6"
  }
 },
 "nbformat": 4,
 "nbformat_minor": 4
}
