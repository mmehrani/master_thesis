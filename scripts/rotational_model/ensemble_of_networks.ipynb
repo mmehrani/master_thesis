{
 "cells": [
  {
   "cell_type": "markdown",
   "metadata": {},
   "source": [
    "# Netwoks in different connectivty (g):\n",
    "This notebook will set networks side by side which are different in the connectivity constant \"g\".\n",
    "This procedure will be done with the help of engine code in __network_simulation.py__ file. It contains network object and serves its behaviours."
   ]
  },
  {
   "cell_type": "code",
   "execution_count": 1,
   "metadata": {},
   "outputs": [],
   "source": [
    "import numpy as np\n",
    "from tqdm import tqdm\n",
    "import matplotlib.pyplot as plt"
   ]
  },
  {
   "cell_type": "code",
   "execution_count": 2,
   "metadata": {},
   "outputs": [],
   "source": [
    "%%capture\n",
    "from tqdm import tqdm_notebook as tqdm\n",
    "tqdm().pandas() #This line make sure that the progress bars looks natural."
   ]
  },
  {
   "cell_type": "code",
   "execution_count": null,
   "metadata": {},
   "outputs": [],
   "source": []
  },
  {
   "cell_type": "code",
   "execution_count": 3,
   "metadata": {},
   "outputs": [],
   "source": [
    "from network_simulation import Rotational_neural_network"
   ]
  },
  {
   "cell_type": "code",
   "execution_count": 4,
   "metadata": {},
   "outputs": [],
   "source": [
    "connectivity_span = np.arange(0.1,5,0.25)\n",
    "num_ensembles_each_g = 5\n",
    "sync_param_record = np.zeros( shape = (len(connectivity_span),num_ensembles_each_g) )\n",
    "sigma_record = np.zeros( shape = (len(connectivity_span),num_ensembles_each_g) )"
   ]
  },
  {
   "cell_type": "markdown",
   "metadata": {},
   "source": [
    "## Creating various ensembles:"
   ]
  },
  {
   "cell_type": "code",
   "execution_count": 5,
   "metadata": {},
   "outputs": [],
   "source": [
    "num_neurons = 10000\n",
    "total_time = 1000"
   ]
  },
  {
   "cell_type": "code",
   "execution_count": 6,
   "metadata": {},
   "outputs": [
    {
     "name": "stderr",
     "output_type": "stream",
     "text": [
      "C:\\ProgramData\\Anaconda3\\lib\\site-packages\\ipykernel_launcher.py:1: TqdmDeprecationWarning: This function will be removed in tqdm==5.0.0\n",
      "Please use `tqdm.notebook.tqdm` instead of `tqdm.tqdm_notebook`\n",
      "  \"\"\"Entry point for launching an IPython kernel.\n"
     ]
    },
    {
     "data": {
      "application/vnd.jupyter.widget-view+json": {
       "model_id": "1453776d39a44a58ac602a26fc01a472",
       "version_major": 2,
       "version_minor": 0
      },
      "text/plain": [
       "HBox(children=(FloatProgress(value=0.0, description='Variation of connectivities', max=20.0, style=ProgressSty…"
      ]
     },
     "metadata": {},
     "output_type": "display_data"
    },
    {
     "name": "stderr",
     "output_type": "stream",
     "text": [
      "C:\\ProgramData\\Anaconda3\\lib\\site-packages\\ipykernel_launcher.py:2: TqdmDeprecationWarning: This function will be removed in tqdm==5.0.0\n",
      "Please use `tqdm.notebook.tqdm` instead of `tqdm.tqdm_notebook`\n",
      "  \n"
     ]
    },
    {
     "data": {
      "application/vnd.jupyter.widget-view+json": {
       "model_id": "f89333ce2eab48b1b62f75cb0b42737e",
       "version_major": 2,
       "version_minor": 0
      },
      "text/plain": [
       "HBox(children=(FloatProgress(value=0.0, description='Making ensembles', max=5.0, style=ProgressStyle(descripti…"
      ]
     },
     "metadata": {},
     "output_type": "display_data"
    },
    {
     "name": "stderr",
     "output_type": "stream",
     "text": [
      "network dynamic: 100%|█████████████████████████████████████████████████████████| 99999/99999 [00:28<00:00, 3502.14it/s]\n",
      "network dynamic: 100%|█████████████████████████████████████████████████████████| 99999/99999 [00:28<00:00, 3470.98it/s]\n",
      "network dynamic: 100%|█████████████████████████████████████████████████████████| 99999/99999 [00:29<00:00, 3422.35it/s]\n",
      "network dynamic: 100%|█████████████████████████████████████████████████████████| 99999/99999 [00:29<00:00, 3445.45it/s]\n",
      "network dynamic: 100%|█████████████████████████████████████████████████████████| 99999/99999 [00:29<00:00, 3398.75it/s]"
     ]
    },
    {
     "name": "stdout",
     "output_type": "stream",
     "text": [
      "\n"
     ]
    },
    {
     "name": "stderr",
     "output_type": "stream",
     "text": [
      "\n"
     ]
    },
    {
     "data": {
      "application/vnd.jupyter.widget-view+json": {
       "model_id": "2e97ac46e98c4799a66e6c6fda8369fa",
       "version_major": 2,
       "version_minor": 0
      },
      "text/plain": [
       "HBox(children=(FloatProgress(value=0.0, description='Making ensembles', max=5.0, style=ProgressStyle(descripti…"
      ]
     },
     "metadata": {},
     "output_type": "display_data"
    },
    {
     "name": "stderr",
     "output_type": "stream",
     "text": [
      "network dynamic: 100%|█████████████████████████████████████████████████████████| 99999/99999 [00:29<00:00, 3445.54it/s]\n",
      "network dynamic: 100%|█████████████████████████████████████████████████████████| 99999/99999 [00:28<00:00, 3449.13it/s]\n",
      "network dynamic: 100%|█████████████████████████████████████████████████████████| 99999/99999 [00:28<00:00, 3532.60it/s]\n",
      "network dynamic: 100%|█████████████████████████████████████████████████████████| 99999/99999 [00:30<00:00, 3314.45it/s]\n",
      "network dynamic: 100%|█████████████████████████████████████████████████████████| 99999/99999 [00:29<00:00, 3407.31it/s]"
     ]
    },
    {
     "name": "stdout",
     "output_type": "stream",
     "text": [
      "\n"
     ]
    },
    {
     "name": "stderr",
     "output_type": "stream",
     "text": [
      "\n"
     ]
    },
    {
     "data": {
      "application/vnd.jupyter.widget-view+json": {
       "model_id": "fd7e692e1f9f459a9bdf1991211fba6c",
       "version_major": 2,
       "version_minor": 0
      },
      "text/plain": [
       "HBox(children=(FloatProgress(value=0.0, description='Making ensembles', max=5.0, style=ProgressStyle(descripti…"
      ]
     },
     "metadata": {},
     "output_type": "display_data"
    },
    {
     "name": "stderr",
     "output_type": "stream",
     "text": [
      "network dynamic: 100%|█████████████████████████████████████████████████████████| 99999/99999 [00:30<00:00, 3258.76it/s]\n",
      "network dynamic: 100%|█████████████████████████████████████████████████████████| 99999/99999 [00:30<00:00, 3332.60it/s]\n",
      "network dynamic: 100%|█████████████████████████████████████████████████████████| 99999/99999 [00:31<00:00, 3224.37it/s]\n",
      "network dynamic: 100%|█████████████████████████████████████████████████████████| 99999/99999 [00:29<00:00, 3334.35it/s]\n",
      "network dynamic: 100%|█████████████████████████████████████████████████████████| 99999/99999 [00:33<00:00, 2970.68it/s]"
     ]
    },
    {
     "name": "stdout",
     "output_type": "stream",
     "text": [
      "\n"
     ]
    },
    {
     "name": "stderr",
     "output_type": "stream",
     "text": [
      "\n"
     ]
    },
    {
     "data": {
      "application/vnd.jupyter.widget-view+json": {
       "model_id": "048f94dc4e9245a7bfab6e1bbacf5d02",
       "version_major": 2,
       "version_minor": 0
      },
      "text/plain": [
       "HBox(children=(FloatProgress(value=0.0, description='Making ensembles', max=5.0, style=ProgressStyle(descripti…"
      ]
     },
     "metadata": {},
     "output_type": "display_data"
    },
    {
     "name": "stderr",
     "output_type": "stream",
     "text": [
      "network dynamic: 100%|█████████████████████████████████████████████████████████| 99999/99999 [00:30<00:00, 3327.58it/s]\n",
      "network dynamic: 100%|█████████████████████████████████████████████████████████| 99999/99999 [00:30<00:00, 3272.12it/s]\n",
      "network dynamic: 100%|█████████████████████████████████████████████████████████| 99999/99999 [00:30<00:00, 3255.56it/s]\n",
      "network dynamic: 100%|█████████████████████████████████████████████████████████| 99999/99999 [00:40<00:00, 2455.74it/s]\n",
      "network dynamic: 100%|█████████████████████████████████████████████████████████| 99999/99999 [00:36<00:00, 2771.70it/s]"
     ]
    },
    {
     "name": "stdout",
     "output_type": "stream",
     "text": [
      "\n"
     ]
    },
    {
     "name": "stderr",
     "output_type": "stream",
     "text": [
      "\n"
     ]
    },
    {
     "data": {
      "application/vnd.jupyter.widget-view+json": {
       "model_id": "2f99266ea8fb44549c9f6a46a01d004e",
       "version_major": 2,
       "version_minor": 0
      },
      "text/plain": [
       "HBox(children=(FloatProgress(value=0.0, description='Making ensembles', max=5.0, style=ProgressStyle(descripti…"
      ]
     },
     "metadata": {},
     "output_type": "display_data"
    },
    {
     "name": "stderr",
     "output_type": "stream",
     "text": [
      "network dynamic: 100%|█████████████████████████████████████████████████████████| 99999/99999 [00:37<00:00, 2637.73it/s]\n",
      "network dynamic: 100%|█████████████████████████████████████████████████████████| 99999/99999 [00:36<00:00, 2760.83it/s]\n",
      "network dynamic: 100%|█████████████████████████████████████████████████████████| 99999/99999 [00:37<00:00, 2656.95it/s]\n",
      "network dynamic: 100%|█████████████████████████████████████████████████████████| 99999/99999 [00:38<00:00, 2625.66it/s]\n",
      "network dynamic: 100%|█████████████████████████████████████████████████████████| 99999/99999 [00:35<00:00, 2798.51it/s]"
     ]
    },
    {
     "name": "stdout",
     "output_type": "stream",
     "text": [
      "\n"
     ]
    },
    {
     "name": "stderr",
     "output_type": "stream",
     "text": [
      "\n"
     ]
    },
    {
     "data": {
      "application/vnd.jupyter.widget-view+json": {
       "model_id": "2ed51c87ae2c4de2a014159135e1e42d",
       "version_major": 2,
       "version_minor": 0
      },
      "text/plain": [
       "HBox(children=(FloatProgress(value=0.0, description='Making ensembles', max=5.0, style=ProgressStyle(descripti…"
      ]
     },
     "metadata": {},
     "output_type": "display_data"
    },
    {
     "name": "stderr",
     "output_type": "stream",
     "text": [
      "network dynamic: 100%|█████████████████████████████████████████████████████████| 99999/99999 [00:38<00:00, 2626.28it/s]\n",
      "network dynamic: 100%|█████████████████████████████████████████████████████████| 99999/99999 [00:37<00:00, 2635.24it/s]\n",
      "network dynamic: 100%|█████████████████████████████████████████████████████████| 99999/99999 [00:36<00:00, 2760.10it/s]\n",
      "network dynamic: 100%|█████████████████████████████████████████████████████████| 99999/99999 [00:38<00:00, 2613.25it/s]\n",
      "network dynamic: 100%|█████████████████████████████████████████████████████████| 99999/99999 [00:38<00:00, 2615.62it/s]"
     ]
    },
    {
     "name": "stdout",
     "output_type": "stream",
     "text": [
      "\n"
     ]
    },
    {
     "name": "stderr",
     "output_type": "stream",
     "text": [
      "\n"
     ]
    },
    {
     "data": {
      "application/vnd.jupyter.widget-view+json": {
       "model_id": "44ba56c6b749466283f9ae1cc9a39098",
       "version_major": 2,
       "version_minor": 0
      },
      "text/plain": [
       "HBox(children=(FloatProgress(value=0.0, description='Making ensembles', max=5.0, style=ProgressStyle(descripti…"
      ]
     },
     "metadata": {},
     "output_type": "display_data"
    },
    {
     "name": "stderr",
     "output_type": "stream",
     "text": [
      "network dynamic: 100%|█████████████████████████████████████████████████████████| 99999/99999 [00:36<00:00, 2704.78it/s]\n",
      "network dynamic: 100%|█████████████████████████████████████████████████████████| 99999/99999 [00:38<00:00, 2622.55it/s]\n",
      "network dynamic: 100%|█████████████████████████████████████████████████████████| 99999/99999 [00:38<00:00, 2590.62it/s]\n",
      "network dynamic: 100%|█████████████████████████████████████████████████████████| 99999/99999 [00:36<00:00, 2709.39it/s]\n",
      "network dynamic: 100%|█████████████████████████████████████████████████████████| 99999/99999 [00:37<00:00, 2697.24it/s]"
     ]
    },
    {
     "name": "stdout",
     "output_type": "stream",
     "text": [
      "\n"
     ]
    },
    {
     "name": "stderr",
     "output_type": "stream",
     "text": [
      "\n"
     ]
    },
    {
     "data": {
      "application/vnd.jupyter.widget-view+json": {
       "model_id": "ccd3753c23df404c8b983c940c6ba05a",
       "version_major": 2,
       "version_minor": 0
      },
      "text/plain": [
       "HBox(children=(FloatProgress(value=0.0, description='Making ensembles', max=5.0, style=ProgressStyle(descripti…"
      ]
     },
     "metadata": {},
     "output_type": "display_data"
    },
    {
     "name": "stderr",
     "output_type": "stream",
     "text": [
      "network dynamic: 100%|█████████████████████████████████████████████████████████| 99999/99999 [00:36<00:00, 2708.57it/s]\n",
      "network dynamic: 100%|█████████████████████████████████████████████████████████| 99999/99999 [00:34<00:00, 2880.86it/s]\n",
      "network dynamic: 100%|█████████████████████████████████████████████████████████| 99999/99999 [00:37<00:00, 2678.26it/s]\n",
      "network dynamic: 100%|█████████████████████████████████████████████████████████| 99999/99999 [00:35<00:00, 2807.72it/s]\n",
      "network dynamic: 100%|█████████████████████████████████████████████████████████| 99999/99999 [00:37<00:00, 2687.57it/s]"
     ]
    },
    {
     "name": "stdout",
     "output_type": "stream",
     "text": [
      "\n"
     ]
    },
    {
     "name": "stderr",
     "output_type": "stream",
     "text": [
      "\n"
     ]
    },
    {
     "data": {
      "application/vnd.jupyter.widget-view+json": {
       "model_id": "fe88e4318e944eaa85b2c878516ff69d",
       "version_major": 2,
       "version_minor": 0
      },
      "text/plain": [
       "HBox(children=(FloatProgress(value=0.0, description='Making ensembles', max=5.0, style=ProgressStyle(descripti…"
      ]
     },
     "metadata": {},
     "output_type": "display_data"
    },
    {
     "name": "stderr",
     "output_type": "stream",
     "text": [
      "network dynamic: 100%|█████████████████████████████████████████████████████████| 99999/99999 [00:37<00:00, 2662.39it/s]\n",
      "network dynamic: 100%|█████████████████████████████████████████████████████████| 99999/99999 [00:36<00:00, 2761.23it/s]\n",
      "network dynamic: 100%|█████████████████████████████████████████████████████████| 99999/99999 [00:34<00:00, 2861.45it/s]\n",
      "network dynamic: 100%|█████████████████████████████████████████████████████████| 99999/99999 [00:37<00:00, 2674.54it/s]\n",
      "network dynamic: 100%|█████████████████████████████████████████████████████████| 99999/99999 [00:35<00:00, 2835.33it/s]"
     ]
    },
    {
     "name": "stdout",
     "output_type": "stream",
     "text": [
      "\n"
     ]
    },
    {
     "name": "stderr",
     "output_type": "stream",
     "text": [
      "\n"
     ]
    },
    {
     "data": {
      "application/vnd.jupyter.widget-view+json": {
       "model_id": "7ead2b3f561145f98527554ab3158d3c",
       "version_major": 2,
       "version_minor": 0
      },
      "text/plain": [
       "HBox(children=(FloatProgress(value=0.0, description='Making ensembles', max=5.0, style=ProgressStyle(descripti…"
      ]
     },
     "metadata": {},
     "output_type": "display_data"
    },
    {
     "name": "stderr",
     "output_type": "stream",
     "text": [
      "network dynamic: 100%|█████████████████████████████████████████████████████████| 99999/99999 [00:45<00:00, 2196.41it/s]\n",
      "network dynamic: 100%|█████████████████████████████████████████████████████████| 99999/99999 [00:44<00:00, 2270.27it/s]\n",
      "network dynamic: 100%|█████████████████████████████████████████████████████████| 99999/99999 [00:44<00:00, 2239.09it/s]\n",
      "network dynamic: 100%|█████████████████████████████████████████████████████████| 99999/99999 [00:43<00:00, 2315.42it/s]\n",
      "network dynamic: 100%|█████████████████████████████████████████████████████████| 99999/99999 [00:45<00:00, 2183.70it/s]"
     ]
    },
    {
     "name": "stdout",
     "output_type": "stream",
     "text": [
      "\n"
     ]
    },
    {
     "name": "stderr",
     "output_type": "stream",
     "text": [
      "\n"
     ]
    },
    {
     "data": {
      "application/vnd.jupyter.widget-view+json": {
       "model_id": "93ed4c0cc58e4b139f8a83ad068c52d0",
       "version_major": 2,
       "version_minor": 0
      },
      "text/plain": [
       "HBox(children=(FloatProgress(value=0.0, description='Making ensembles', max=5.0, style=ProgressStyle(descripti…"
      ]
     },
     "metadata": {},
     "output_type": "display_data"
    },
    {
     "name": "stderr",
     "output_type": "stream",
     "text": [
      "network dynamic: 100%|█████████████████████████████████████████████████████████| 99999/99999 [00:42<00:00, 2362.55it/s]\n",
      "network dynamic: 100%|█████████████████████████████████████████████████████████| 99999/99999 [00:43<00:00, 2296.81it/s]\n",
      "network dynamic: 100%|█████████████████████████████████████████████████████████| 99999/99999 [00:46<00:00, 2152.24it/s]\n",
      "network dynamic: 100%|█████████████████████████████████████████████████████████| 99999/99999 [00:36<00:00, 2739.68it/s]\n",
      "network dynamic: 100%|█████████████████████████████████████████████████████████| 99999/99999 [00:44<00:00, 2241.75it/s]"
     ]
    },
    {
     "name": "stdout",
     "output_type": "stream",
     "text": [
      "\n"
     ]
    },
    {
     "name": "stderr",
     "output_type": "stream",
     "text": [
      "\n"
     ]
    },
    {
     "data": {
      "application/vnd.jupyter.widget-view+json": {
       "model_id": "6d4c93ecde18415aae545345abf0f847",
       "version_major": 2,
       "version_minor": 0
      },
      "text/plain": [
       "HBox(children=(FloatProgress(value=0.0, description='Making ensembles', max=5.0, style=ProgressStyle(descripti…"
      ]
     },
     "metadata": {},
     "output_type": "display_data"
    },
    {
     "name": "stderr",
     "output_type": "stream",
     "text": [
      "network dynamic: 100%|█████████████████████████████████████████████████████████| 99999/99999 [00:40<00:00, 2448.28it/s]\n",
      "network dynamic: 100%|█████████████████████████████████████████████████████████| 99999/99999 [00:40<00:00, 2495.28it/s]\n",
      "network dynamic: 100%|█████████████████████████████████████████████████████████| 99999/99999 [00:40<00:00, 2497.47it/s]\n",
      "network dynamic: 100%|█████████████████████████████████████████████████████████| 99999/99999 [00:40<00:00, 2488.96it/s]\n",
      "network dynamic: 100%|█████████████████████████████████████████████████████████| 99999/99999 [00:40<00:00, 2494.68it/s]"
     ]
    },
    {
     "name": "stdout",
     "output_type": "stream",
     "text": [
      "\n"
     ]
    },
    {
     "name": "stderr",
     "output_type": "stream",
     "text": [
      "\n"
     ]
    },
    {
     "data": {
      "application/vnd.jupyter.widget-view+json": {
       "model_id": "528203b91a9a43cebe0865600d47e35d",
       "version_major": 2,
       "version_minor": 0
      },
      "text/plain": [
       "HBox(children=(FloatProgress(value=0.0, description='Making ensembles', max=5.0, style=ProgressStyle(descripti…"
      ]
     },
     "metadata": {},
     "output_type": "display_data"
    },
    {
     "name": "stderr",
     "output_type": "stream",
     "text": [
      "network dynamic: 100%|█████████████████████████████████████████████████████████| 99999/99999 [00:39<00:00, 2539.97it/s]\n",
      "network dynamic: 100%|█████████████████████████████████████████████████████████| 99999/99999 [00:39<00:00, 2516.59it/s]\n",
      "network dynamic: 100%|█████████████████████████████████████████████████████████| 99999/99999 [00:42<00:00, 2367.95it/s]\n",
      "network dynamic: 100%|█████████████████████████████████████████████████████████| 99999/99999 [00:40<00:00, 2485.29it/s]\n",
      "network dynamic: 100%|█████████████████████████████████████████████████████████| 99999/99999 [00:36<00:00, 2733.92it/s]"
     ]
    },
    {
     "name": "stdout",
     "output_type": "stream",
     "text": [
      "\n"
     ]
    },
    {
     "name": "stderr",
     "output_type": "stream",
     "text": [
      "\n"
     ]
    },
    {
     "data": {
      "application/vnd.jupyter.widget-view+json": {
       "model_id": "22ae2aac347647588e64da67fa47f4b7",
       "version_major": 2,
       "version_minor": 0
      },
      "text/plain": [
       "HBox(children=(FloatProgress(value=0.0, description='Making ensembles', max=5.0, style=ProgressStyle(descripti…"
      ]
     },
     "metadata": {},
     "output_type": "display_data"
    },
    {
     "name": "stderr",
     "output_type": "stream",
     "text": [
      "network dynamic: 100%|█████████████████████████████████████████████████████████| 99999/99999 [00:30<00:00, 3250.85it/s]\n",
      "network dynamic: 100%|█████████████████████████████████████████████████████████| 99999/99999 [00:31<00:00, 3157.01it/s]\n",
      "network dynamic: 100%|█████████████████████████████████████████████████████████| 99999/99999 [00:36<00:00, 2766.08it/s]\n",
      "network dynamic: 100%|█████████████████████████████████████████████████████████| 99999/99999 [00:37<00:00, 2645.46it/s]\n",
      "network dynamic: 100%|█████████████████████████████████████████████████████████| 99999/99999 [00:38<00:00, 2595.12it/s]"
     ]
    },
    {
     "name": "stdout",
     "output_type": "stream",
     "text": [
      "\n"
     ]
    },
    {
     "name": "stderr",
     "output_type": "stream",
     "text": [
      "\n"
     ]
    },
    {
     "data": {
      "application/vnd.jupyter.widget-view+json": {
       "model_id": "1e4efd18f9fd4a2894a318e5c4e5263d",
       "version_major": 2,
       "version_minor": 0
      },
      "text/plain": [
       "HBox(children=(FloatProgress(value=0.0, description='Making ensembles', max=5.0, style=ProgressStyle(descripti…"
      ]
     },
     "metadata": {},
     "output_type": "display_data"
    },
    {
     "name": "stderr",
     "output_type": "stream",
     "text": [
      "network dynamic: 100%|█████████████████████████████████████████████████████████| 99999/99999 [00:35<00:00, 2838.02it/s]\n",
      "network dynamic: 100%|█████████████████████████████████████████████████████████| 99999/99999 [00:35<00:00, 2789.19it/s]\n",
      "network dynamic: 100%|█████████████████████████████████████████████████████████| 99999/99999 [00:34<00:00, 2893.21it/s]\n",
      "network dynamic: 100%|█████████████████████████████████████████████████████████| 99999/99999 [00:35<00:00, 2839.20it/s]\n",
      "network dynamic: 100%|█████████████████████████████████████████████████████████| 99999/99999 [00:36<00:00, 2777.55it/s]"
     ]
    },
    {
     "name": "stdout",
     "output_type": "stream",
     "text": [
      "\n"
     ]
    },
    {
     "name": "stderr",
     "output_type": "stream",
     "text": [
      "\n"
     ]
    },
    {
     "data": {
      "application/vnd.jupyter.widget-view+json": {
       "model_id": "e9f4f951d7524935a944012acf94fe97",
       "version_major": 2,
       "version_minor": 0
      },
      "text/plain": [
       "HBox(children=(FloatProgress(value=0.0, description='Making ensembles', max=5.0, style=ProgressStyle(descripti…"
      ]
     },
     "metadata": {},
     "output_type": "display_data"
    },
    {
     "name": "stderr",
     "output_type": "stream",
     "text": [
      "network dynamic: 100%|█████████████████████████████████████████████████████████| 99999/99999 [00:34<00:00, 2925.94it/s]\n",
      "network dynamic: 100%|█████████████████████████████████████████████████████████| 99999/99999 [00:35<00:00, 2780.27it/s]\n",
      "network dynamic: 100%|█████████████████████████████████████████████████████████| 99999/99999 [00:34<00:00, 2887.27it/s]\n",
      "network dynamic: 100%|█████████████████████████████████████████████████████████| 99999/99999 [00:34<00:00, 2920.88it/s]\n",
      "network dynamic: 100%|█████████████████████████████████████████████████████████| 99999/99999 [00:36<00:00, 2737.52it/s]"
     ]
    },
    {
     "name": "stdout",
     "output_type": "stream",
     "text": [
      "\n"
     ]
    },
    {
     "name": "stderr",
     "output_type": "stream",
     "text": [
      "\n"
     ]
    },
    {
     "data": {
      "application/vnd.jupyter.widget-view+json": {
       "model_id": "3b86339555244636819962fc0fd33b91",
       "version_major": 2,
       "version_minor": 0
      },
      "text/plain": [
       "HBox(children=(FloatProgress(value=0.0, description='Making ensembles', max=5.0, style=ProgressStyle(descripti…"
      ]
     },
     "metadata": {},
     "output_type": "display_data"
    },
    {
     "name": "stderr",
     "output_type": "stream",
     "text": [
      "network dynamic: 100%|█████████████████████████████████████████████████████████| 99999/99999 [00:32<00:00, 3033.43it/s]\n",
      "network dynamic: 100%|█████████████████████████████████████████████████████████| 99999/99999 [00:34<00:00, 2889.37it/s]\n",
      "network dynamic: 100%|█████████████████████████████████████████████████████████| 99999/99999 [00:34<00:00, 2913.16it/s]\n",
      "network dynamic: 100%|█████████████████████████████████████████████████████████| 99999/99999 [00:35<00:00, 2835.33it/s]\n",
      "network dynamic: 100%|█████████████████████████████████████████████████████████| 99999/99999 [00:34<00:00, 2875.67it/s]"
     ]
    },
    {
     "name": "stdout",
     "output_type": "stream",
     "text": [
      "\n"
     ]
    },
    {
     "name": "stderr",
     "output_type": "stream",
     "text": [
      "\n"
     ]
    },
    {
     "data": {
      "application/vnd.jupyter.widget-view+json": {
       "model_id": "dfbcd63eb22b4c0a9b1508e50f99c430",
       "version_major": 2,
       "version_minor": 0
      },
      "text/plain": [
       "HBox(children=(FloatProgress(value=0.0, description='Making ensembles', max=5.0, style=ProgressStyle(descripti…"
      ]
     },
     "metadata": {},
     "output_type": "display_data"
    },
    {
     "name": "stderr",
     "output_type": "stream",
     "text": [
      "network dynamic: 100%|█████████████████████████████████████████████████████████| 99999/99999 [00:33<00:00, 2993.18it/s]\n",
      "network dynamic: 100%|█████████████████████████████████████████████████████████| 99999/99999 [00:34<00:00, 2927.48it/s]\n",
      "network dynamic: 100%|█████████████████████████████████████████████████████████| 99999/99999 [00:33<00:00, 3018.41it/s]\n",
      "network dynamic: 100%|█████████████████████████████████████████████████████████| 99999/99999 [00:33<00:00, 2985.81it/s]\n",
      "network dynamic: 100%|█████████████████████████████████████████████████████████| 99999/99999 [00:33<00:00, 2962.04it/s]"
     ]
    },
    {
     "name": "stdout",
     "output_type": "stream",
     "text": [
      "\n"
     ]
    },
    {
     "name": "stderr",
     "output_type": "stream",
     "text": [
      "\n"
     ]
    },
    {
     "data": {
      "application/vnd.jupyter.widget-view+json": {
       "model_id": "2a9460f7174042efbc0e7e401d68fe62",
       "version_major": 2,
       "version_minor": 0
      },
      "text/plain": [
       "HBox(children=(FloatProgress(value=0.0, description='Making ensembles', max=5.0, style=ProgressStyle(descripti…"
      ]
     },
     "metadata": {},
     "output_type": "display_data"
    },
    {
     "name": "stderr",
     "output_type": "stream",
     "text": [
      "network dynamic: 100%|█████████████████████████████████████████████████████████| 99999/99999 [00:33<00:00, 2964.08it/s]\n",
      "network dynamic: 100%|█████████████████████████████████████████████████████████| 99999/99999 [00:33<00:00, 3022.40it/s]\n",
      "network dynamic: 100%|█████████████████████████████████████████████████████████| 99999/99999 [00:33<00:00, 3027.29it/s]\n",
      "network dynamic: 100%|█████████████████████████████████████████████████████████| 99999/99999 [00:32<00:00, 3085.89it/s]\n",
      "network dynamic: 100%|█████████████████████████████████████████████████████████| 99999/99999 [00:32<00:00, 3109.78it/s]"
     ]
    },
    {
     "name": "stdout",
     "output_type": "stream",
     "text": [
      "\n"
     ]
    },
    {
     "name": "stderr",
     "output_type": "stream",
     "text": [
      "\n"
     ]
    },
    {
     "data": {
      "application/vnd.jupyter.widget-view+json": {
       "model_id": "ea3b9a90bc5743f8bcdd92b09189372e",
       "version_major": 2,
       "version_minor": 0
      },
      "text/plain": [
       "HBox(children=(FloatProgress(value=0.0, description='Making ensembles', max=5.0, style=ProgressStyle(descripti…"
      ]
     },
     "metadata": {},
     "output_type": "display_data"
    },
    {
     "name": "stderr",
     "output_type": "stream",
     "text": [
      "network dynamic: 100%|█████████████████████████████████████████████████████████| 99999/99999 [00:32<00:00, 3107.53it/s]\n",
      "network dynamic: 100%|█████████████████████████████████████████████████████████| 99999/99999 [00:32<00:00, 3114.10it/s]\n",
      "network dynamic: 100%|█████████████████████████████████████████████████████████| 99999/99999 [00:32<00:00, 3118.23it/s]\n",
      "network dynamic: 100%|█████████████████████████████████████████████████████████| 99999/99999 [00:32<00:00, 3124.27it/s]\n",
      "network dynamic: 100%|█████████████████████████████████████████████████████████| 99999/99999 [00:31<00:00, 3139.38it/s]"
     ]
    },
    {
     "name": "stdout",
     "output_type": "stream",
     "text": [
      "\n",
      "\n"
     ]
    },
    {
     "name": "stderr",
     "output_type": "stream",
     "text": [
      "\n"
     ]
    }
   ],
   "source": [
    "for i,connectivity in enumerate(tqdm( connectivity_span , desc='Variation of connectivities') ):\n",
    "    for j in tqdm( range(num_ensembles_each_g) , desc='Making ensembles'):\n",
    "        sample_model = Rotational_neural_network(num_neurons=num_neurons,g=connectivity)\n",
    "        sample_model.ignite(total_time = total_time)\n",
    "        # sample_model.compute_effective_field( alpha = 20)\n",
    "        sync_param_record[i][j] = sample_model.report_sync_parameter()\n",
    "        sigma_record[i][j] = sample_model.report_sigma()"
   ]
  },
  {
   "cell_type": "code",
   "execution_count": 7,
   "metadata": {},
   "outputs": [],
   "source": [
    "# sigma_record = connectivity_record\n",
    "np.save('sync_param_records_{}.npy'.format(num_neurons),sync_param_record)\n",
    "np.save('sigma_records_{}.npy'.format(num_neurons),sigma_record)"
   ]
  },
  {
   "cell_type": "code",
   "execution_count": 8,
   "metadata": {},
   "outputs": [
    {
     "data": {
      "image/png": "[encoded data removed]",
      "text/plain": [
       "<Figure size 432x288 with 1 Axes>"
      ]
     },
     "metadata": {
      "needs_background": "light"
     },
     "output_type": "display_data"
    }
   ],
   "source": [
    "fig = plt.figure()\n",
    "ax = fig.subplots()\n",
    "ax.errorbar(x = connectivity_span, y = np.mean(sync_param_record,axis = 1),yerr = np.var(sync_param_record,axis = 1)**(0.5))\n",
    "# ax.set_title('$\\sigma$')\n",
    "ax.set_xlabel('g as connectivity')\n",
    "ax.set_ylabel('$\\sum \\frac{sin\\theta_i}{N}$')\n",
    "fig.savefig('synchoronization_{}_{}_{}.png'.format(num_neurons,connectivity_span[0],connectivity_span[-1]))"
   ]
  },
  {
   "cell_type": "code",
   "execution_count": 9,
   "metadata": {},
   "outputs": [
    {
     "data": {
      "text/plain": [
       "array([9.66248107, 9.60738854, 9.44608696, 9.50305275, 9.62564054])"
      ]
     },
     "execution_count": 9,
     "metadata": {},
     "output_type": "execute_result"
    }
   ],
   "source": [
    "np.sum(sync_param_record,axis = 0)"
   ]
  },
  {
   "cell_type": "code",
   "execution_count": 10,
   "metadata": {},
   "outputs": [
    {
     "data": {
      "image/png": "[encoded data removed]",
      "text/plain": [
       "<Figure size 432x288 with 1 Axes>"
      ]
     },
     "metadata": {
      "needs_background": "light"
     },
     "output_type": "display_data"
    }
   ],
   "source": [
    "fig = plt.figure()\n",
    "ax = fig.subplots()\n",
    "ax.errorbar(x = connectivity_span, y = np.mean(sigma_record,axis = 1),yerr = np.var(sigma_record,axis = 1)**(0.5))\n",
    "# ax.set_title('$\\sigma$')\n",
    "ax.set_xlabel('g as connectivity')\n",
    "ax.set_ylabel('$\\sigma$')\n",
    "fig.savefig('sigma_as_synchoronization_meter_{}.png'.format(num_neurons))"
   ]
  },
  {
   "cell_type": "code",
   "execution_count": null,
   "metadata": {},
   "outputs": [],
   "source": []
  },
  {
   "cell_type": "code",
   "execution_count": null,
   "metadata": {},
   "outputs": [],
   "source": []
  },
  {
   "cell_type": "code",
   "execution_count": null,
   "metadata": {},
   "outputs": [],
   "source": []
  },
  {
   "cell_type": "code",
   "execution_count": null,
   "metadata": {},
   "outputs": [],
   "source": []
  }
 ],
 "metadata": {
  "kernelspec": {
   "display_name": "Python 3",
   "language": "python",
   "name": "python3"
  },
  "language_info": {
   "codemirror_mode": {
    "name": "ipython",
    "version": 3
   },
   "file_extension": ".py",
   "mimetype": "text/x-python",
   "name": "python",
   "nbconvert_exporter": "python",
   "pygments_lexer": "ipython3",
   "version": "3.7.6"
  }
 },
 "nbformat": 4,
 "nbformat_minor": 4
}
