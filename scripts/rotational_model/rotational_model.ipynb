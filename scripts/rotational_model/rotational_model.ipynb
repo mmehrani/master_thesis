{
 "cells": [
  {
   "cell_type": "markdown",
   "metadata": {},
   "source": [
    "# Synchornization in complete networks of neurons\n",
    "Here is the dynamics of neurons potentails in rotational model :\n",
    "$$\n",
    "\\begin{cases}\n",
    "\\dot{\\theta_i}=I_i - cos(\\theta_i) +  E \\\\\n",
    "\\ddot{E}+ 2\\alpha \\dot{E}+\\alpha^{2}E =\\frac{\\alpha^{2}}{N} \\sum_{n|tـn<t} \\delta(t - t_n - t_d)\n",
    "\\end{cases}\n",
    "$$"
   ]
  },
  {
   "cell_type": "code",
   "execution_count": 1,
   "metadata": {},
   "outputs": [],
   "source": [
    "import numpy as np\n",
    "import matplotlib.pyplot as plt\n",
    "from tqdm import tqdm"
   ]
  },
  {
   "cell_type": "code",
   "execution_count": 2,
   "metadata": {},
   "outputs": [],
   "source": [
    "num_neurons = 1000\n",
    "g =  5\n",
    "random_input_span = (1.2,2.8) #it should fall in the well defined cos(\\theta) domain.\n",
    "\n",
    "total_time = 1000\n",
    "time_step = 0.01\n",
    "total_steps = int(total_time/time_step)\n",
    "time_span = np.arange(0,total_time,time_step)\n",
    "\n",
    "delay_time = 0.1\n",
    "delay_step = int(delay_time/time_step)\n",
    "\n",
    "alpha = 20\n",
    "m_arr = np.zeros(total_steps)\n",
    "e_arr = np.zeros(total_steps)\n",
    "\n",
    "theta_arr = np.zeros(num_neurons,dtype = float)\n",
    "# theta_arr = np.random.uniform(0,2*np.pi,size = num_neurons)\n",
    "random_input = np.random.uniform(*random_input_span,size = num_neurons)"
   ]
  },
  {
   "cell_type": "code",
   "execution_count": 3,
   "metadata": {},
   "outputs": [],
   "source": [
    "spiking_records = np.array( np.zeros((total_steps,num_neurons)), dtype = bool )\n",
    "completed_laps = np.zeros( num_neurons )\n",
    "reversed_lap_checkpoint = np.array( np.zeros((total_steps,num_neurons)), dtype = bool ) #check whether all goes in positive direction"
   ]
  },
  {
   "cell_type": "code",
   "execution_count": 4,
   "metadata": {},
   "outputs": [],
   "source": [
    "def retarded_spikes_record(step):\n",
    "    \"\"\"\n",
    "    This is the function which take cares of response delay between spikes and their effects.\n",
    "    \"\"\"\n",
    "    if step > delay_step: \n",
    "        return np.sum(spiking_records[step - delay_step])\n",
    "    else:\n",
    "        return 0\n"
   ]
  },
  {
   "cell_type": "markdown",
   "metadata": {},
   "source": [
    "## \"For\" loop on the march!\n",
    "To make equations more solvable we turn them into three cases of linear first order equations:\n",
    "$$\n",
    "\\begin{cases}\n",
    "\\dot{\\theta_i}=I_i - cos(\\theta_i) - g E \\\\\n",
    "\\dot{E} = M - \\alpha E\\\\\n",
    "\\dot{M} = -  \\alpha M + \\frac{ \\alpha^{2} }{N} \\sum_{n|tـn<t} \\delta(t - t_n - t_d)\n",
    "\\end{cases}\n",
    "$$"
   ]
  },
  {
   "cell_type": "code",
   "execution_count": 5,
   "metadata": {},
   "outputs": [
    {
     "name": "stderr",
     "output_type": "stream",
     "text": [
      "100%|██████████████████████████████████████████████████████████████████████████| 99999/99999 [00:15<00:00, 6311.15it/s]\n"
     ]
    }
   ],
   "source": [
    "for i in tqdm( range(total_steps - 1) ):\n",
    "    completed_laps = np.floor( (theta_arr - np.pi) / 2*np.pi,dtype = float)\n",
    "    \n",
    "    #phases update\n",
    "    theta_arr = theta_arr + (random_input - np.cos(theta_arr) - g * e_arr[i] )*time_step\n",
    "    \n",
    "    #reversed check is exist?\n",
    "    reversed_lap_checkpoint[i] = np.floor( (theta_arr - np.pi) / 2*np.pi,dtype = float) < completed_laps    \n",
    "    \n",
    "    #here we should spot the spiking neurons. we capture if any has completed new lap\n",
    "    spiking_records[i] =  np.floor( (theta_arr - np.pi) / 2*np.pi,dtype = float) > completed_laps\n",
    "    \n",
    "    m_arr[i+1] = m_arr[i] + time_step*( -alpha*m_arr[i] ) + ( (alpha**2)/num_neurons ) *retarded_spikes_record(i) \n",
    "    e_arr[i+1] = e_arr[i] + time_step*( m_arr[i] - alpha*e_arr[i] )\n",
    "    "
   ]
  },
  {
   "cell_type": "code",
   "execution_count": 6,
   "metadata": {},
   "outputs": [
    {
     "data": {
      "text/plain": [
       "(array([110., 110., 100., 104., 110., 105., 110.,  76.,  76.,  99.]),\n",
       " array([-2841.3113019 , -2658.87529385, -2476.4392858 , -2294.00327775,\n",
       "        -2111.5672697 , -1929.13126165, -1746.69525359, -1564.25924554,\n",
       "        -1381.82323749, -1199.38722944, -1016.95122139]),\n",
       " <a list of 10 Patch objects>)"
      ]
     },
     "execution_count": 6,
     "metadata": {},
     "output_type": "execute_result"
    },
    {
     "data": {
      "image/png": "[encoded data removed]",
      "text/plain": [
       "<Figure size 432x288 with 1 Axes>"
      ]
     },
     "metadata": {
      "needs_background": "light"
     },
     "output_type": "display_data"
    }
   ],
   "source": [
    "plt.hist(theta_arr)"
   ]
  },
  {
   "cell_type": "code",
   "execution_count": 7,
   "metadata": {},
   "outputs": [
    {
     "data": {
      "text/plain": [
       "0.663361315175825"
      ]
     },
     "execution_count": 7,
     "metadata": {},
     "output_type": "execute_result"
    }
   ],
   "source": [
    "sigma = np.std( e_arr )\n",
    "sigma"
   ]
  },
  {
   "cell_type": "code",
   "execution_count": 8,
   "metadata": {},
   "outputs": [
    {
     "data": {
      "image/png": "[encoded data removed]",
      "text/plain": [
       "<Figure size 432x288 with 1 Axes>"
      ]
     },
     "metadata": {
      "needs_background": "light"
     },
     "output_type": "display_data"
    }
   ],
   "source": [
    "plt.imshow( spiking_records,aspect= 'auto')\n",
    "plt.xlabel('Neurons')\n",
    "plt.ylabel('Time')\n",
    "plt.title('Rasterplot')\n",
    "plt.savefig('raster_plot_N{}_g{}.png'.format(num_neurons,g))"
   ]
  },
  {
   "cell_type": "code",
   "execution_count": 9,
   "metadata": {},
   "outputs": [
    {
     "data": {
      "text/plain": [
       "[<matplotlib.lines.Line2D at 0x1f5867cb448>]"
      ]
     },
     "execution_count": 9,
     "metadata": {},
     "output_type": "execute_result"
    },
    {
     "data": {
      "image/png": "[encoded data removed]",
      "text/plain": [
       "<Figure size 432x288 with 1 Axes>"
      ]
     },
     "metadata": {
      "needs_background": "light"
     },
     "output_type": "display_data"
    }
   ],
   "source": [
    "plt.plot(e_arr)"
   ]
  },
  {
   "cell_type": "code",
   "execution_count": 10,
   "metadata": {},
   "outputs": [
    {
     "data": {
      "text/plain": [
       "0.4623333996982322"
      ]
     },
     "execution_count": 10,
     "metadata": {},
     "output_type": "execute_result"
    }
   ],
   "source": [
    "param = np.sum( np.sin(theta_arr)**2 ) / num_neurons\n",
    "param"
   ]
  },
  {
   "cell_type": "code",
   "execution_count": 11,
   "metadata": {},
   "outputs": [
    {
     "data": {
      "text/plain": [
       "(array([ 96., 105., 103., 100., 100.,  90., 103., 108.,  88., 107.]),\n",
       " array([5.54545008e-03, 6.31758089e-01, 1.25797073e+00, 1.88418337e+00,\n",
       "        2.51039601e+00, 3.13660864e+00, 3.76282128e+00, 4.38903392e+00,\n",
       "        5.01524656e+00, 5.64145920e+00, 6.26767184e+00]),\n",
       " <a list of 10 Patch objects>)"
      ]
     },
     "execution_count": 11,
     "metadata": {},
     "output_type": "execute_result"
    },
    {
     "data": {
      "image/png": "[encoded data removed]",
      "text/plain": [
       "<Figure size 432x288 with 1 Axes>"
      ]
     },
     "metadata": {
      "needs_background": "light"
     },
     "output_type": "display_data"
    }
   ],
   "source": [
    "plt.hist(theta_arr % 2*np.pi)"
   ]
  },
  {
   "cell_type": "code",
   "execution_count": 13,
   "metadata": {},
   "outputs": [
    {
     "data": {
      "text/plain": [
       "<matplotlib.image.AxesImage at 0x1f58ba2ff48>"
      ]
     },
     "execution_count": 13,
     "metadata": {},
     "output_type": "execute_result"
    },
    {
     "data": {
      "image/png": "[encoded data removed]",
      "text/plain": [
       "<Figure size 432x288 with 1 Axes>"
      ]
     },
     "metadata": {
      "needs_background": "light"
     },
     "output_type": "display_data"
    }
   ],
   "source": [
    "plt.imshow( reversed_lap_checkpoint,aspect= 'auto')"
   ]
  },
  {
   "cell_type": "code",
   "execution_count": null,
   "metadata": {},
   "outputs": [],
   "source": [
    "\"\"\"\n",
    "As the reversed checkpoints exist in the system we 'the completed laps' does not serve a good method.\n",
    "\"\"\""
   ]
  }
 ],
 "metadata": {
  "kernelspec": {
   "display_name": "Python 3",
   "language": "python",
   "name": "python3"
  },
  "language_info": {
   "codemirror_mode": {
    "name": "ipython",
    "version": 3
   },
   "file_extension": ".py",
   "mimetype": "text/x-python",
   "name": "python",
   "nbconvert_exporter": "python",
   "pygments_lexer": "ipython3",
   "version": "3.7.6"
  }
 },
 "nbformat": 4,
 "nbformat_minor": 4
}
