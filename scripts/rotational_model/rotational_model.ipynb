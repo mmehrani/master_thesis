{
 "cells": [
  {
   "cell_type": "markdown",
   "metadata": {},
   "source": [
    "# Synchornization in complete networks of neurons\n",
    "Here is the dynamics of neurons potentails in rotational model :\n",
    "$$\n",
    "\\begin{cases}\n",
    "\\dot{\\theta_i}=I_i - cos(\\theta_i) -g  E \\\\\n",
    "\\ddot{E}+ 2\\alpha \\dot{E}+\\alpha^{2}E =\\frac{\\alpha^{2}}{N} \\sum_{n|tـn<t} \\delta(t - t_n - t_d)\n",
    "\\end{cases}\n",
    "$$"
   ]
  },
  {
   "cell_type": "code",
   "execution_count": null,
   "metadata": {},
   "outputs": [],
   "source": []
  },
  {
   "cell_type": "code",
   "execution_count": 1,
   "metadata": {},
   "outputs": [],
   "source": [
    "import numpy as np\n",
    "import matplotlib.pyplot as plt\n",
    "from tqdm import tqdm\n",
    "import os"
   ]
  },
  {
   "cell_type": "code",
   "execution_count": 2,
   "metadata": {},
   "outputs": [],
   "source": [
    "num_neurons = 10000\n",
    "g = 50\n",
    "random_input_span = (3.5,13.5) #it should fall in the well defined cos(\\theta) domain.\n",
    "\n",
    "total_time = 1000\n",
    "time_step = 0.001\n",
    "total_steps = int(total_time/time_step)\n",
    "time_span = np.arange(0,total_time,time_step)\n",
    "\n",
    "delay_time = 0.1\n",
    "delay_step = int(delay_time/time_step)\n",
    "\n",
    "alpha = 20\n",
    "m_arr = np.zeros(total_steps)\n",
    "e_arr = np.zeros(total_steps)\n",
    "\n",
    "theta_arr = np.zeros(num_neurons,dtype = float)\n",
    "# theta_arr = np.random.uniform(0,np.pi,size = num_neurons)\n",
    "random_input = np.random.uniform(*random_input_span,size = num_neurons)"
   ]
  },
  {
   "cell_type": "code",
   "execution_count": 3,
   "metadata": {},
   "outputs": [],
   "source": [
    "saving_path_name = 'single_runs'\n",
    "current_version = 'N{}_T{}_g{}_input_{}_{}'.format(num_neurons,total_time,g,random_input_span[0],random_input_span[1])\n",
    "try:\n",
    "    saving_path = os.path.join(saving_path_name, current_version) \n",
    "    os.makedirs(saving_path)\n",
    "except:\n",
    "    pass"
   ]
  },
  {
   "cell_type": "code",
   "execution_count": 4,
   "metadata": {},
   "outputs": [],
   "source": [
    "spiking_records = np.array( np.zeros((total_steps,num_neurons)), dtype = bool )\n",
    "amin_saman_param = np.zeros( total_steps )"
   ]
  },
  {
   "cell_type": "markdown",
   "metadata": {},
   "source": [
    "## Instrumentes to capture spiking frequency\n",
    "Here we use *cornometer* and number of spikies to measure their frequencies."
   ]
  },
  {
   "cell_type": "code",
   "execution_count": 5,
   "metadata": {},
   "outputs": [],
   "source": [
    "spiking_cornometer = np.zeros(num_neurons)\n",
    "total_spikes_intervals = np.zeros(num_neurons)\n",
    "total_spikes_num = np.zeros(num_neurons)"
   ]
  },
  {
   "cell_type": "code",
   "execution_count": 6,
   "metadata": {},
   "outputs": [],
   "source": [
    "def retarded_spikes_record(step):\n",
    "    \"\"\"\n",
    "    This is the function which take cares of response delay between spikes and their effects.\n",
    "    \"\"\"\n",
    "    if step > delay_step: \n",
    "        return np.sum(spiking_records[step - delay_step])\n",
    "    else:\n",
    "        return 0\n"
   ]
  },
  {
   "cell_type": "markdown",
   "metadata": {},
   "source": [
    "## \"For\" loop on the march!\n",
    "To make equations more solvable we turn them into three cases of linear first order equations:\n",
    "$$\n",
    "\\begin{cases}\n",
    "\\dot{\\theta_i}=I_i - cos(\\theta_i) - g E \\\\\n",
    "\\dot{E} = M - \\alpha E\\\\\n",
    "\\dot{M} = -  \\alpha M + \\frac{ \\alpha^{2} }{N} \\sum_{n|tـn<t} \\delta(t - t_n - t_d)\n",
    "\\end{cases}\n",
    "$$"
   ]
  },
  {
   "cell_type": "code",
   "execution_count": 7,
   "metadata": {},
   "outputs": [
    {
     "name": "stderr",
     "output_type": "stream",
     "text": [
      "  0%|                                                                                        | 0/99999 [00:00<?, ?it/s]C:\\ProgramData\\Anaconda3\\lib\\site-packages\\numpy\\core\\fromnumeric.py:3335: RuntimeWarning: Mean of empty slice.\n",
      "  out=out, **kwargs)\n",
      "C:\\ProgramData\\Anaconda3\\lib\\site-packages\\numpy\\core\\_methods.py:161: RuntimeWarning: invalid value encountered in double_scalars\n",
      "  ret = ret.dtype.type(ret / rcount)\n",
      "100%|██████████████████████████████████████████████████████████████████████████| 99999/99999 [01:18<00:00, 1266.57it/s]\n"
     ]
    }
   ],
   "source": [
    "for i in tqdm( range(total_steps - 1) ):\n",
    "    #potential to fall\n",
    "#     potential_free_fall_mask = theta_arr > - 3*np.pi/2\n",
    "    \n",
    "    #dynamic\n",
    "    theta_arr = theta_arr + (random_input - np.cos(theta_arr) - g * e_arr[i] )*time_step\n",
    "    \n",
    "    # Prevent neurons from free falling to large negative degrees.\n",
    "    free_fall_mask = theta_arr < - 3*np.pi/2\n",
    "#     theta_arr[free_fall_mask & potential_free_fall_mask] = -3*np.pi/2 + 0.1\n",
    "    theta_arr[free_fall_mask] = -3*np.pi/2 + 0.1\n",
    "    \n",
    "    #here we should spot the spiking neurons.\n",
    "    spiking_records[i] = theta_arr > np.pi\n",
    "    theta_arr = theta_arr - 2 * np.pi * spiking_records[i]\n",
    "\n",
    "    \n",
    "    #neurons activity\n",
    "    m_arr[i+1] = m_arr[i] + time_step*( -alpha*m_arr[i] ) + ( (alpha**2)/num_neurons ) *retarded_spikes_record(i) \n",
    "    e_arr[i+1] = e_arr[i] + time_step*( m_arr[i] - alpha*e_arr[i] )\n",
    "    \n",
    "    #\n",
    "    left_handed_neurons = np.cos(theta_arr) < 0\n",
    "    amin_saman_param[i] = np.mean( np.sin(theta_arr[left_handed_neurons]) )**2\n",
    "    \n",
    "    #frequency calculator\n",
    "    total_spikes_num = total_spikes_num + spiking_records[i]\n",
    "    total_spikes_intervals = total_spikes_intervals + spiking_cornometer * spiking_records[i] #add to spike lapsed time\n",
    "    spiking_cornometer = spiking_cornometer * (spiking_records[i]-1)*(-1) #reset the spikied cornos\n",
    "    spiking_cornometer = spiking_cornometer + (spiking_records[i]-1)*(-1) #update the not spikied ones\n",
    "    \n",
    "    "
   ]
  },
  {
   "cell_type": "code",
   "execution_count": null,
   "metadata": {},
   "outputs": [],
   "source": []
  },
  {
   "cell_type": "code",
   "execution_count": 8,
   "metadata": {},
   "outputs": [
    {
     "data": {
      "text/plain": [
       "0.4164131058890931"
      ]
     },
     "execution_count": 8,
     "metadata": {},
     "output_type": "execute_result"
    }
   ],
   "source": [
    "sigma = np.std( e_arr )\n",
    "sigma"
   ]
  },
  {
   "cell_type": "code",
   "execution_count": 9,
   "metadata": {},
   "outputs": [
    {
     "data": {
      "image/png": "[encoded data removed]",
      "text/plain": [
       "<Figure size 432x288 with 1 Axes>"
      ]
     },
     "metadata": {
      "needs_background": "light"
     },
     "output_type": "display_data"
    }
   ],
   "source": [
    "plt.imshow( spiking_records, aspect= 'auto')\n",
    "plt.xlabel('Neurons')\n",
    "plt.ylabel('Time')\n",
    "plt.title('Rasterplot')\n",
    "plt.savefig( os.path.join(saving_path, 'raster_plot.png'))"
   ]
  },
  {
   "cell_type": "code",
   "execution_count": 10,
   "metadata": {},
   "outputs": [
    {
     "data": {
      "text/plain": [
       "[<matplotlib.lines.Line2D at 0x177487fcec8>]"
      ]
     },
     "execution_count": 10,
     "metadata": {},
     "output_type": "execute_result"
    },
    {
     "data": {
      "image/png": "[encoded data removed]",
      "text/plain": [
       "<Figure size 432x288 with 1 Axes>"
      ]
     },
     "metadata": {
      "needs_background": "light"
     },
     "output_type": "display_data"
    }
   ],
   "source": [
    "plt.plot(e_arr[-1000:])"
   ]
  },
  {
   "cell_type": "code",
   "execution_count": null,
   "metadata": {},
   "outputs": [],
   "source": []
  },
  {
   "cell_type": "code",
   "execution_count": 11,
   "metadata": {},
   "outputs": [
    {
     "data": {
      "text/plain": [
       "(array([ 872.,  987., 1210.,  929., 1076.,  970., 1051., 1040.,  945.,\n",
       "         920.]),\n",
       " array([-3.11012613, -2.66646211, -2.22279809, -1.77913407, -1.33547004,\n",
       "        -0.89180602, -0.448142  , -0.00447798,  0.43918604,  0.88285006,\n",
       "         1.32651409]),\n",
       " <a list of 10 Patch objects>)"
      ]
     },
     "execution_count": 11,
     "metadata": {},
     "output_type": "execute_result"
    },
    {
     "data": {
      "image/png": "[encoded data removed]",
      "text/plain": [
       "<Figure size 432x288 with 1 Axes>"
      ]
     },
     "metadata": {
      "needs_background": "light"
     },
     "output_type": "display_data"
    }
   ],
   "source": [
    "plt.hist(theta_arr )"
   ]
  },
  {
   "cell_type": "code",
   "execution_count": 12,
   "metadata": {},
   "outputs": [
    {
     "data": {
      "text/plain": [
       "2889"
      ]
     },
     "execution_count": 12,
     "metadata": {},
     "output_type": "execute_result"
    }
   ],
   "source": [
    "np.sum(theta_arr>0)"
   ]
  },
  {
   "cell_type": "code",
   "execution_count": 13,
   "metadata": {},
   "outputs": [
    {
     "data": {
      "text/plain": [
       "[<matplotlib.lines.Line2D at 0x177488f5948>]"
      ]
     },
     "execution_count": 13,
     "metadata": {},
     "output_type": "execute_result"
    },
    {
     "data": {
      "image/png": "[encoded data removed]",
      "text/plain": [
       "<Figure size 432x288 with 1 Axes>"
      ]
     },
     "metadata": {
      "needs_background": "light"
     },
     "output_type": "display_data"
    }
   ],
   "source": [
    "plt.plot(amin_saman_param[-1000:-1])"
   ]
  },
  {
   "cell_type": "code",
   "execution_count": null,
   "metadata": {},
   "outputs": [],
   "source": []
  },
  {
   "cell_type": "markdown",
   "metadata": {},
   "source": [
    "## Calculate frequnecy"
   ]
  },
  {
   "cell_type": "code",
   "execution_count": 14,
   "metadata": {},
   "outputs": [
    {
     "name": "stderr",
     "output_type": "stream",
     "text": [
      "C:\\ProgramData\\Anaconda3\\lib\\site-packages\\ipykernel_launcher.py:1: RuntimeWarning: invalid value encountered in true_divide\n",
      "  \"\"\"Entry point for launching an IPython kernel.\n"
     ]
    }
   ],
   "source": [
    "spikies_period_mean = total_spikes_intervals * time_step / total_spikes_num\n",
    "spikies_period_mean;"
   ]
  },
  {
   "cell_type": "code",
   "execution_count": 15,
   "metadata": {},
   "outputs": [],
   "source": [
    "heights, bins = np.histogram(spikies_period_mean,bins=np.logspace(np.log10(0.1),np.log10(10.0), 20))"
   ]
  },
  {
   "cell_type": "code",
   "execution_count": 16,
   "metadata": {},
   "outputs": [
    {
     "data": {
      "image/png": "[encoded data removed]",
      "text/plain": [
       "<Figure size 432x288 with 1 Axes>"
      ]
     },
     "metadata": {
      "needs_background": "light"
     },
     "output_type": "display_data"
    }
   ],
   "source": [
    "(heights, bins, patches) = plt.hist(spikies_period_mean,bins=np.logspace(np.log10(0.1),np.log10(10.0), 20))\n",
    "plt.yscale('log')\n",
    "plt.xscale('log')"
   ]
  },
  {
   "cell_type": "code",
   "execution_count": 17,
   "metadata": {
    "scrolled": true
   },
   "outputs": [
    {
     "data": {
      "image/png": "[encoded data removed]",
      "text/plain": [
       "<Figure size 432x288 with 1 Axes>"
      ]
     },
     "metadata": {
      "needs_background": "light"
     },
     "output_type": "display_data"
    }
   ],
   "source": [
    "plt.scatter(bins[:-1],heights)\n",
    "\n",
    "plt.savefig( os.path.join(saving_path, 'spikies_time_interval.png'))"
   ]
  },
  {
   "cell_type": "markdown",
   "metadata": {},
   "source": [
    "## Are silent neurons the lower recieved inputs?"
   ]
  },
  {
   "cell_type": "code",
   "execution_count": 18,
   "metadata": {},
   "outputs": [
    {
     "data": {
      "text/plain": [
       "Text(0.5, 1.0, 'Activity vs constant input')"
      ]
     },
     "execution_count": 18,
     "metadata": {},
     "output_type": "execute_result"
    },
    {
     "data": {
      "image/png": "[encoded data removed]",
      "text/plain": [
       "<Figure size 432x288 with 1 Axes>"
      ]
     },
     "metadata": {
      "needs_background": "light"
     },
     "output_type": "display_data"
    }
   ],
   "source": [
    "plt.plot(np.sort(random_input), total_spikes_num[ np.argsort(random_input) ]/total_time )\n",
    "plt.xlabel('Input currents')\n",
    "plt.ylabel('Number of spikies')\n",
    "plt.title('Activity vs constant input')\n",
    "# plt.savefig(os.path.join(saving_path, 'spikies_num_vs_input.png'))"
   ]
  },
  {
   "cell_type": "markdown",
   "metadata": {},
   "source": [
    "### Curve fitting"
   ]
  },
  {
   "cell_type": "markdown",
   "metadata": {},
   "source": [
    "This section we will try to fit a f(I) curve on the neurons response data.\n",
    "$$\n",
    "f(I) = a \\frac{\\sqrt{[b(I - I_0 )]^2 - 1}}{2\\pi}\n",
    "$$"
   ]
  },
  {
   "cell_type": "code",
   "execution_count": 19,
   "metadata": {},
   "outputs": [],
   "source": [
    "from scipy.optimize import curve_fit"
   ]
  },
  {
   "cell_type": "code",
   "execution_count": 20,
   "metadata": {},
   "outputs": [],
   "source": [
    "def response_func(i,a,b,i0):\n",
    "    if type(i) == int:\n",
    "        returned_value = a*(b**2 * (i-i0)**2 - 1)**(1/2) / 2*np.pi\n",
    "    else:\n",
    "        returned_value = np.zeros(len(i))\n",
    "        for index in range(len(i)):\n",
    "            if i[index] > 1/b + i0:\n",
    "                returned_value[index] = a*(b**2 * (i[index]-i0)**2 - 1)**(1/2) / 2*np.pi\n",
    "    return returned_value"
   ]
  },
  {
   "cell_type": "code",
   "execution_count": 21,
   "metadata": {},
   "outputs": [],
   "source": [
    "xdata = np.sort(random_input)\n",
    "ydata = total_spikes_num[ np.argsort(random_input) ]/total_time # not total steps\n",
    "\n",
    "popt, popv = curve_fit(response_func,xdata,ydata, bounds = (0,[20,20,20]))\n",
    "# popt, popv = curve_fit(response_func,xdata,ydata)"
   ]
  },
  {
   "cell_type": "code",
   "execution_count": 22,
   "metadata": {
    "scrolled": true
   },
   "outputs": [
    {
     "data": {
      "image/png": "[encoded data removed]",
      "text/plain": [
       "<Figure size 432x288 with 1 Axes>"
      ]
     },
     "metadata": {
      "needs_background": "light"
     },
     "output_type": "display_data"
    }
   ],
   "source": [
    "fig,ax = plt.subplots()\n",
    "ax.plot(xdata, ydata, label = 'data')\n",
    "ax.plot(xdata, response_func(xdata, *popt), 'r--', label='fit: a=%5.5f, b=%5.3f, $I_0$=%5.3f' % tuple(popt))\n",
    "plt.legend()\n",
    "ax.set_xlabel('Input currents')\n",
    "ax.set_ylabel('Number of spikies')\n",
    "ax.set_title('Curve fitting')\n",
    "plt.savefig(os.path.join(saving_path, 'spikies_num_vs_input_fitted_curve.png'))"
   ]
  },
  {
   "cell_type": "markdown",
   "metadata": {},
   "source": [
    "## Current Estimation with I_0\n",
    "$$\n",
    "F_{mean} == \\sum_i f_{mean}(I_i - I_0)\\\\\n",
    "I_{mean_{l}} == -g F_{mean} / N\n",
    "$$"
   ]
  },
  {
   "cell_type": "code",
   "execution_count": 23,
   "metadata": {},
   "outputs": [
    {
     "data": {
      "text/plain": [
       "-11.345433493301547"
      ]
     },
     "execution_count": 23,
     "metadata": {},
     "output_type": "execute_result"
    }
   ],
   "source": [
    "xdata = np.sort(random_input)\n",
    "i_0 = popt[2]\n",
    "-g * np.mean( response_func(xdata, popt[0],popt[1], i_0 )  )"
   ]
  },
  {
   "cell_type": "code",
   "execution_count": 24,
   "metadata": {},
   "outputs": [
    {
     "data": {
      "text/plain": [
       "7.832902174333069e-09"
      ]
     },
     "execution_count": 24,
     "metadata": {},
     "output_type": "execute_result"
    }
   ],
   "source": [
    "i_0"
   ]
  },
  {
   "cell_type": "code",
   "execution_count": 25,
   "metadata": {},
   "outputs": [
    {
     "data": {
      "text/plain": [
       "11.754997376920429"
      ]
     },
     "execution_count": 25,
     "metadata": {},
     "output_type": "execute_result"
    }
   ],
   "source": [
    "g*np.mean(e_arr[-1000:])"
   ]
  },
  {
   "cell_type": "code",
   "execution_count": null,
   "metadata": {},
   "outputs": [],
   "source": []
  },
  {
   "cell_type": "markdown",
   "metadata": {},
   "source": [
    "## Current calculation"
   ]
  },
  {
   "cell_type": "markdown",
   "metadata": {},
   "source": [
    "Analytical current says:\n",
    "$$\n",
    "<I_{in}>_t = -g \\int_{a_{min}}^{a_{max}} p(a) <f(a + I_{in})>_t da \n",
    "$$\n",
    "do this recursion actually happen?"
   ]
  },
  {
   "cell_type": "code",
   "execution_count": 26,
   "metadata": {},
   "outputs": [
    {
     "data": {
      "text/plain": [
       "-11.754997376920429"
      ]
     },
     "execution_count": 26,
     "metadata": {},
     "output_type": "execute_result"
    }
   ],
   "source": [
    "i_in_avg = np.mean( -g* e_arr[-1000:] )\n",
    "i_in_avg"
   ]
  },
  {
   "cell_type": "code",
   "execution_count": 27,
   "metadata": {},
   "outputs": [],
   "source": [
    "def single_neuron_response(current_array):\n",
    "    return_response = np.zeros(len(current_array))\n",
    "    for index in range(len(current_array)):\n",
    "        if current_array[index] > 1:\n",
    "            return_response[index] =  np.sqrt(current_array[index]**2 - 1)/ (2*np.pi)\n",
    "    return return_response\n",
    "\n",
    "def analytical_current(i_exp_arr):\n",
    "    computed_current = np.zeros(len(i_exp_arr))\n",
    "    for index in range(len(i_exp_arr)):\n",
    "        computed_current[index] = -g * np.mean( single_neuron_response(random_input + i_exp_arr[index] ) )\n",
    "    return computed_current"
   ]
  },
  {
   "cell_type": "code",
   "execution_count": 28,
   "metadata": {},
   "outputs": [],
   "source": [
    "i_in_suspect_range = np.linspace(-13,-8,100)\n",
    "# analytical_current(i_in_suspect_range)"
   ]
  },
  {
   "cell_type": "code",
   "execution_count": 29,
   "metadata": {},
   "outputs": [
    {
     "data": {
      "text/plain": [
       "[<matplotlib.lines.Line2D at 0x1770d8ec6c8>]"
      ]
     },
     "execution_count": 29,
     "metadata": {},
     "output_type": "execute_result"
    },
    {
     "data": {
      "image/png": "[encoded data removed]",
      "text/plain": [
       "<Figure size 432x288 with 1 Axes>"
      ]
     },
     "metadata": {
      "needs_background": "light"
     },
     "output_type": "display_data"
    }
   ],
   "source": [
    "plt.plot(i_in_suspect_range, analytical_current(i_in_suspect_range))\n",
    "plt.plot(i_in_suspect_range, i_in_suspect_range, 'g')"
   ]
  },
  {
   "cell_type": "code",
   "execution_count": null,
   "metadata": {},
   "outputs": [],
   "source": []
  },
  {
   "cell_type": "code",
   "execution_count": null,
   "metadata": {},
   "outputs": [],
   "source": []
  }
 ],
 "metadata": {
  "kernelspec": {
   "display_name": "Python 3",
   "language": "python",
   "name": "python3"
  },
  "language_info": {
   "codemirror_mode": {
    "name": "ipython",
    "version": 3
   },
   "file_extension": ".py",
   "mimetype": "text/x-python",
   "name": "python",
   "nbconvert_exporter": "python",
   "pygments_lexer": "ipython3",
   "version": "3.7.6"
  }
 },
 "nbformat": 4,
 "nbformat_minor": 4
}
