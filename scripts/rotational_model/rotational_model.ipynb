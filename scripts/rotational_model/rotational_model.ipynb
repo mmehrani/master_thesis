{
 "cells": [
  {
   "cell_type": "markdown",
   "metadata": {},
   "source": [
    "# Synchornization in complete networks of neurons\n",
    "Here is the dynamics of neurons potentails in rotational model :\n",
    "$$\n",
    "\\begin{cases}\n",
    "\\dot{\\theta_i}=I_i - cos(\\theta_i) +  E \\\\\n",
    "\\ddot{E}+ 2\\alpha \\dot{E}+\\alpha^{2}E =\\frac{\\alpha^{2}}{N} \\sum_{n|tـn<t} \\delta(t - t_n - t_d)\n",
    "\\end{cases}\n",
    "$$"
   ]
  },
  {
   "cell_type": "code",
   "execution_count": 1,
   "metadata": {},
   "outputs": [],
   "source": [
    "import numpy as np\n",
    "import matplotlib.pyplot as plt\n",
    "from tqdm import tqdm"
   ]
  },
  {
   "cell_type": "code",
   "execution_count": 2,
   "metadata": {},
   "outputs": [],
   "source": [
    "num_neurons = 1000\n",
    "g =  2\n",
    "random_input_span = (3.5,13.5) #it should fall in the well defined cos(\\theta) domain.\n",
    "\n",
    "total_time = 1000\n",
    "time_step = 0.01\n",
    "total_steps = int(total_time/time_step)\n",
    "time_span = np.arange(0,total_time,time_step)\n",
    "\n",
    "delay_time = 0.1\n",
    "delay_step = int(delay_time/time_step)\n",
    "\n",
    "alpha = 20\n",
    "m_arr = np.zeros(total_steps)\n",
    "e_arr = np.zeros(total_steps)\n",
    "\n",
    "theta_arr = np.zeros(num_neurons,dtype = float)\n",
    "# theta_arr = np.random.uniform(0,2*np.pi,size = num_neurons)\n",
    "random_input = np.random.uniform(*random_input_span,size = num_neurons)"
   ]
  },
  {
   "cell_type": "code",
   "execution_count": 3,
   "metadata": {},
   "outputs": [],
   "source": [
    "spiking_records = np.array( np.zeros((total_steps,num_neurons)), dtype = bool )\n",
    "amin_saman_param = np.zeros( total_steps )"
   ]
  },
  {
   "cell_type": "markdown",
   "metadata": {},
   "source": [
    "## Instrumentes to capture spiking frequency\n",
    "Here we use *cornometer* and number of spikies to measure their frequencies."
   ]
  },
  {
   "cell_type": "code",
   "execution_count": 4,
   "metadata": {},
   "outputs": [],
   "source": [
    "spiking_cornometer = np.zeros(num_neurons)\n",
    "total_spikes_intervals = np.zeros(num_neurons)\n",
    "total_spikes_num = np.zeros(num_neurons)"
   ]
  },
  {
   "cell_type": "code",
   "execution_count": 5,
   "metadata": {},
   "outputs": [],
   "source": [
    "def retarded_spikes_record(step):\n",
    "    \"\"\"\n",
    "    This is the function which take cares of response delay between spikes and their effects.\n",
    "    \"\"\"\n",
    "    if step > delay_step: \n",
    "        return np.sum(spiking_records[step - delay_step])\n",
    "    else:\n",
    "        return 0\n"
   ]
  },
  {
   "cell_type": "markdown",
   "metadata": {},
   "source": [
    "## \"For\" loop on the march!\n",
    "To make equations more solvable we turn them into three cases of linear first order equations:\n",
    "$$\n",
    "\\begin{cases}\n",
    "\\dot{\\theta_i}=I_i - cos(\\theta_i) - g E \\\\\n",
    "\\dot{E} = M - \\alpha E\\\\\n",
    "\\dot{M} = -  \\alpha M + \\frac{ \\alpha^{2} }{N} \\sum_{n|tـn<t} \\delta(t - t_n - t_d)\n",
    "\\end{cases}\n",
    "$$"
   ]
  },
  {
   "cell_type": "code",
   "execution_count": 6,
   "metadata": {},
   "outputs": [
    {
     "name": "stderr",
     "output_type": "stream",
     "text": [
      "  0%|                                                                                        | 0/99999 [00:00<?, ?it/s]C:\\ProgramData\\Anaconda3\\lib\\site-packages\\numpy\\core\\fromnumeric.py:3335: RuntimeWarning: Mean of empty slice.\n",
      "  out=out, **kwargs)\n",
      "C:\\ProgramData\\Anaconda3\\lib\\site-packages\\numpy\\core\\_methods.py:161: RuntimeWarning: invalid value encountered in double_scalars\n",
      "  ret = ret.dtype.type(ret / rcount)\n",
      "100%|█████████████████████████████████████████████████████████████████████████| 99999/99999 [00:08<00:00, 12205.08it/s]\n"
     ]
    }
   ],
   "source": [
    "for i in tqdm( range(total_steps - 1) ):\n",
    "    theta_arr = theta_arr + (random_input - np.cos(theta_arr) - g * e_arr[i] )*time_step\n",
    "    \n",
    "    #here we should spot the spiking neurons.\n",
    "    spiking_records[i] = theta_arr > np.pi\n",
    "    theta_arr = theta_arr - 2 * np.pi * spiking_records[i]\n",
    "    #neurons activity\n",
    "    m_arr[i+1] = m_arr[i] + time_step*( -alpha*m_arr[i] ) + ( (alpha**2)/num_neurons ) *retarded_spikes_record(i) \n",
    "    e_arr[i+1] = e_arr[i] + time_step*( m_arr[i] - alpha*e_arr[i] )\n",
    "    #\n",
    "    left_handed_neurons = np.cos(theta_arr) < 0\n",
    "    amin_saman_param[i] = np.mean( np.sin(theta_arr[left_handed_neurons]) )**2\n",
    "    #frequency calculator\n",
    "    total_spikes_num = total_spikes_num + spiking_records[i]\n",
    "    total_spikes_intervals = total_spikes_intervals + spiking_cornometer * spiking_records[i] #add to spike lapsed time\n",
    "    spiking_cornometer = spiking_cornometer * (spiking_records[i]-1)*(-1) #reset the spikied cornos\n",
    "    spiking_cornometer = spiking_cornometer + (spiking_records[i]-1)*(-1) #update the not spikied ones\n",
    "    \n",
    "    "
   ]
  },
  {
   "cell_type": "code",
   "execution_count": null,
   "metadata": {},
   "outputs": [],
   "source": []
  },
  {
   "cell_type": "code",
   "execution_count": 7,
   "metadata": {},
   "outputs": [
    {
     "data": {
      "text/plain": [
       "0.07724485067712351"
      ]
     },
     "execution_count": 7,
     "metadata": {},
     "output_type": "execute_result"
    }
   ],
   "source": [
    "sigma = np.std( e_arr )\n",
    "sigma"
   ]
  },
  {
   "cell_type": "code",
   "execution_count": 8,
   "metadata": {},
   "outputs": [
    {
     "data": {
      "image/png": "[encoded data removed]",
      "text/plain": [
       "<Figure size 432x288 with 1 Axes>"
      ]
     },
     "metadata": {
      "needs_background": "light"
     },
     "output_type": "display_data"
    }
   ],
   "source": [
    "plt.imshow( spiking_records,aspect= 'auto')\n",
    "plt.xlabel('Neurons')\n",
    "plt.ylabel('Time')\n",
    "plt.title('Rasterplot')\n",
    "plt.savefig('raster_plot_N{}_g{}.png'.format(num_neurons,g))"
   ]
  },
  {
   "cell_type": "code",
   "execution_count": 9,
   "metadata": {},
   "outputs": [
    {
     "data": {
      "text/plain": [
       "[<matplotlib.lines.Line2D at 0x1f4be210248>]"
      ]
     },
     "execution_count": 9,
     "metadata": {},
     "output_type": "execute_result"
    },
    {
     "data": {
      "image/png": "[encoded data removed]",
      "text/plain": [
       "<Figure size 432x288 with 1 Axes>"
      ]
     },
     "metadata": {
      "needs_background": "light"
     },
     "output_type": "display_data"
    }
   ],
   "source": [
    "plt.plot(e_arr[-1000:])"
   ]
  },
  {
   "cell_type": "code",
   "execution_count": null,
   "metadata": {},
   "outputs": [],
   "source": []
  },
  {
   "cell_type": "code",
   "execution_count": 10,
   "metadata": {},
   "outputs": [
    {
     "data": {
      "text/plain": [
       "(array([ 95., 100.,  84.,  99., 130., 126., 110.,  91.,  84.,  81.]),\n",
       " array([-3.13615261, -2.51038623, -1.88461986, -1.25885348, -0.6330871 ,\n",
       "        -0.00732073,  0.61844565,  1.24421203,  1.8699784 ,  2.49574478,\n",
       "         3.12151116]),\n",
       " <a list of 10 Patch objects>)"
      ]
     },
     "execution_count": 10,
     "metadata": {},
     "output_type": "execute_result"
    },
    {
     "data": {
      "image/png": "[encoded data removed]",
      "text/plain": [
       "<Figure size 432x288 with 1 Axes>"
      ]
     },
     "metadata": {
      "needs_background": "light"
     },
     "output_type": "display_data"
    }
   ],
   "source": [
    "plt.hist(theta_arr )"
   ]
  },
  {
   "cell_type": "code",
   "execution_count": 11,
   "metadata": {},
   "outputs": [
    {
     "data": {
      "text/plain": [
       "[<matplotlib.lines.Line2D at 0x1f4be2ce508>]"
      ]
     },
     "execution_count": 11,
     "metadata": {},
     "output_type": "execute_result"
    },
    {
     "data": {
      "image/png": "[encoded data removed]",
      "text/plain": [
       "<Figure size 432x288 with 1 Axes>"
      ]
     },
     "metadata": {
      "needs_background": "light"
     },
     "output_type": "display_data"
    }
   ],
   "source": [
    "plt.plot(amin_saman_param)"
   ]
  },
  {
   "cell_type": "code",
   "execution_count": 12,
   "metadata": {},
   "outputs": [
    {
     "data": {
      "text/plain": [
       "0.0014592433668066467"
      ]
     },
     "execution_count": 12,
     "metadata": {},
     "output_type": "execute_result"
    }
   ],
   "source": [
    "np.mean(amin_saman_param[-100:])"
   ]
  },
  {
   "cell_type": "markdown",
   "metadata": {},
   "source": [
    "## Calculate frequnecy"
   ]
  },
  {
   "cell_type": "code",
   "execution_count": 15,
   "metadata": {},
   "outputs": [
    {
     "data": {
      "text/plain": [
       "array([1.67419899, 0.92479888, 1.25518987, 0.8931075 , 0.96378168,\n",
       "       0.55232283, 0.69822821, 0.73193022, 0.59876979, 0.63811933,\n",
       "       1.27726804, 1.74201754, 4.92514851, 0.9707262 , 1.93309339,\n",
       "       1.02948025, 0.55396503, 0.75873077, 1.35305593, 1.50087746,\n",
       "       1.7414386 , 1.19255114, 0.66629229, 0.71870262, 2.08014644,\n",
       "       1.30141732, 1.65951505, 0.85947826, 2.41997567, 2.00237903,\n",
       "       0.96226654, 0.58665274, 0.55481921, 0.5647069 , 1.45561584,\n",
       "       0.61826524, 1.87320151, 1.01464615, 1.21169927, 1.02954214,\n",
       "       1.4341185 , 0.97987129, 3.65536765, 0.66923234, 5.70337143,\n",
       "       0.88471799, 0.7185277 , 0.572318  , 0.89615594, 4.46103139,\n",
       "       3.88511719, 0.62368188, 2.69834688, 0.71677091, 2.38143541,\n",
       "       2.01908537, 2.56654639, 1.16192263, 0.87283569, 2.51265152,\n",
       "       1.58535144, 0.59055856, 0.55535633, 0.6111995 , 2.51012626,\n",
       "       1.77303571, 1.21797297, 1.03050989, 3.37518644, 1.25253788,\n",
       "       0.63790668, 2.93247788, 0.55556561, 0.97772727, 1.67127946,\n",
       "       0.56975638, 0.54570317, 0.58374109, 3.05972308, 0.92820657,\n",
       "       0.60590881, 0.80493073, 1.25541772, 0.8550173 , 0.55093715,\n",
       "       0.57381425, 0.80918852, 0.58128918, 0.88141838, 0.59712811,\n",
       "       0.60129664, 0.58584625, 0.61279751, 3.97211155, 2.99731928,\n",
       "       0.60425323, 1.52466974, 0.92147251, 0.57735018, 0.6027897 ,\n",
       "       3.7305618 , 0.5954997 , 2.24099099, 5.93113095, 2.02397149,\n",
       "       0.60762199, 0.84910576, 1.46036765, 3.90615686, 3.91173228,\n",
       "       1.73033101, 1.01098059, 1.45078947, 1.13499427, 1.16273474,\n",
       "       1.95775591, 0.67730399, 0.65759519, 0.6492942 , 1.23374378,\n",
       "       1.14560694, 1.28027097, 0.82391159, 0.60686613, 1.63891089,\n",
       "       0.56937971, 0.71239884, 2.63708223, 3.61509091, 1.14489017,\n",
       "       0.60951673, 0.78249009, 0.82491228, 1.73247818, 1.70368782,\n",
       "       0.874969  , 1.65408333, 0.70356174, 0.95940834, 1.58125796,\n",
       "       1.155986  , 2.08419287, 0.78195721, 0.62199747, 1.16511765,\n",
       "       0.81272428, 1.11420697, 1.36658402, 4.31532468, 2.46381188,\n",
       "       0.83473373, 0.91042357, 5.48696133, 0.88916367, 1.57106013,\n",
       "       1.66709732, 0.74366516, 1.50552352, 1.91585742, 1.17370853,\n",
       "       0.55462451, 0.97204322, 4.06616327, 1.2146201 , 0.56972158,\n",
       "       1.02931393, 1.13836782, 2.14480603, 0.57248834, 0.77649095,\n",
       "       0.69605932, 1.589008  , 0.74533636, 4.80478261, 1.61892333,\n",
       "       0.58754334, 0.82116376, 3.23266234, 1.97695825, 0.67422313,\n",
       "       4.03036437, 0.55842524, 0.88789757, 0.83559222, 0.80471883,\n",
       "       1.63598023, 1.22885998, 2.20737778, 1.32573529, 0.60327607,\n",
       "       1.01207566, 1.38935574, 1.70023973, 0.99954545, 0.7702498 ,\n",
       "       0.65996649, 1.64995017, 1.62081566, 1.85968165, 0.92576779,\n",
       "       1.80283122, 1.83154696, 0.54880939, 0.95978661, 0.57300292,\n",
       "       2.62485488, 0.63140475, 0.75262395, 0.58147929, 1.98516966,\n",
       "       0.65343729, 0.56351119, 1.68879252, 0.70854781, 1.01817901,\n",
       "       0.76467442, 1.46325959, 3.94488095, 0.68549756, 1.16771496,\n",
       "       2.22489933, 1.37038674, 1.92631783, 1.68884354, 0.63634777,\n",
       "       0.94826462, 5.31224599, 1.17185579, 3.58115108, 3.19407051,\n",
       "       1.24214286, 0.95391514, 1.90917466, 1.78818345, 1.47224036,\n",
       "       0.76400465, 1.842282  , 0.59931749, 1.71205172, 0.76957098,\n",
       "       1.16883255, 0.70791667, 0.95145192, 0.97324484, 1.45115497,\n",
       "       0.55084736, 0.54583658, 0.56767187, 0.78617038, 0.60657619,\n",
       "       1.42925072, 0.83988095, 0.60988221, 0.77411765, 0.70065387,\n",
       "       0.82088113, 0.66473684, 1.47503715, 5.91672619, 5.08653061,\n",
       "       0.88814016, 2.59934726, 0.68214681, 0.61704517, 0.67721649,\n",
       "       0.98087215, 0.64340523, 3.68233333, 0.83396959, 0.75195884,\n",
       "       0.74683573, 0.88474485, 0.56388634, 2.40769976, 0.58029516,\n",
       "       0.61977316, 0.70671685, 0.61529706, 1.22380247, 0.56657439,\n",
       "       1.43154401, 0.86498249, 0.74164662, 0.77597484, 4.94323383,\n",
       "       0.76447715, 1.32169333, 0.64795918, 0.56211792, 0.64424738,\n",
       "       2.23029148, 1.53061633, 0.54935646, 0.80054339, 0.63170732,\n",
       "       1.51578626, 1.36430536, 2.02525458, 0.84607877, 4.5940553 ,\n",
       "       1.5782194 , 3.06126154, 0.61362445, 0.70484979, 0.59094351,\n",
       "       0.54913311, 0.7914996 , 0.77007806, 0.5694087 , 1.42219198,\n",
       "       2.7113624 , 0.58916667, 0.58444114, 1.0236091 , 1.02394002,\n",
       "       1.21913899, 0.69662191, 2.2144098 , 0.83631668, 0.79802749,\n",
       "       1.20370595, 1.05529851, 2.19200441, 0.65265739, 0.91347505,\n",
       "       1.98469062, 0.57721504, 2.67058981, 1.02084536, 0.75869231,\n",
       "       0.79827001, 0.61004342, 0.54510272, 1.12687144, 0.65796927,\n",
       "       0.62433376, 0.73088213, 1.39614627, 1.79658228, 1.40768794,\n",
       "       0.55874289, 0.86039199, 0.83100925, 1.77458929, 0.87269435,\n",
       "       2.16091304, 0.71908826, 1.40582153, 3.92133858, 0.88215179,\n",
       "       0.69950319, 2.49909548, 1.07541802, 0.59663835, 0.83443412,\n",
       "       0.97356299, 0.60323926, 0.72043097, 1.14808806, 2.33598592,\n",
       "       3.03045732, 0.55144862, 0.62678344, 1.51016743, 2.16245652,\n",
       "       0.54460899, 1.45538123, 1.07414317, 0.67811425, 0.87209179,\n",
       "       0.55268993, 0.5493005 , 1.57189873, 1.18902878, 0.59990238,\n",
       "       0.65349038, 0.6270682 , 2.87260116, 1.22711634, 0.62958413,\n",
       "       1.81645338, 2.86272989, 0.57480983, 3.77870722, 1.90480843,\n",
       "       0.77991304, 1.00613821, 1.19096154, 3.52765957, 4.63362791,\n",
       "       0.61280997, 1.33267473, 0.58211493, 1.73469459, 0.69656537,\n",
       "       1.24138924, 1.34193505, 0.63186256, 1.07799782, 0.56513809,\n",
       "       0.81565648, 1.84075926, 1.31369536, 0.67491096, 1.37448753,\n",
       "       0.98106046, 1.03629319, 0.67367305, 1.01087845, 1.06774542,\n",
       "       0.97774704, 0.74142857, 0.84007653, 1.53616099, 1.46429204,\n",
       "       0.67228669, 2.37897129, 0.57641056, 1.18428913, 3.38367347,\n",
       "       0.54927293, 0.7516997 , 2.34691038, 1.40509915, 1.10098889,\n",
       "       1.19539204, 1.69335605, 2.10270613, 0.56532796, 0.69465116,\n",
       "       1.44534207, 0.62791959, 0.72944527, 1.53078582, 0.95189605,\n",
       "       2.03903689, 0.71713455, 1.20428919, 1.0941768 , 1.31115079,\n",
       "       0.6509187 , 2.59882507, 0.63628313, 2.85260745, 1.74384211,\n",
       "       0.66361186, 0.99052052, 0.75922308, 2.10308668, 1.65069767,\n",
       "       1.1443649 , 0.59909202, 1.01093973, 0.61075776, 0.56517261,\n",
       "       0.55083006, 0.73434103, 4.52709091, 1.81436131, 0.67660714,\n",
       "       1.1646416 , 4.69834906, 1.13292906, 0.84309727, 3.79496183,\n",
       "       0.89525362, 0.68062889, 4.72104265, 1.31210317, 0.98578685,\n",
       "       1.10058889, 0.97859545, 1.08625   , 3.28854785, 2.09191579,\n",
       "       0.93392823, 0.78880895, 2.63484127, 0.55930524, 0.91927509,\n",
       "       0.81835128, 0.60245711, 1.02689834, 1.61469919, 0.6834258 ,\n",
       "       1.44263081, 1.77633274, 0.647875  , 1.05761752, 0.5440133 ,\n",
       "       0.55600227, 0.9196    , 1.2385    , 0.74927866, 2.00747475,\n",
       "       1.78654676, 0.5458199 , 0.54838547, 0.58510714, 2.38544365,\n",
       "       0.93683712, 2.63116402, 1.11718151, 0.84034894, 1.07137446,\n",
       "       1.40875   , 0.96093294, 1.77130125, 0.55360203, 1.80130435,\n",
       "       0.9163392 , 0.99071071, 5.62      , 0.77222222, 0.62542912,\n",
       "       1.0641828 , 0.64885959, 1.04167368, 2.78050279, 0.88833783,\n",
       "       4.90083744, 0.59830189, 0.70233072, 0.79214286, 3.68440741,\n",
       "       0.55397631, 5.39297297, 1.78539568, 0.64886618, 0.54920022,\n",
       "       1.2399625 , 0.58110585, 0.78382049, 2.0957384 , 0.97210216,\n",
       "       0.62316656, 1.15894737, 1.4172    , 0.81565648, 0.59602424,\n",
       "       0.72733038, 0.75285496, 2.44891626, 0.69824238, 0.73902622,\n",
       "       0.59657767, 1.48666168, 0.65207947, 1.09435359, 0.77338558,\n",
       "       0.86690351, 1.07896514, 0.56272623, 2.63330688, 0.6564    ,\n",
       "       0.60574507, 1.01572895, 0.65217219, 0.77254503, 1.03583682,\n",
       "       0.65075347, 1.32981233, 1.46641064, 1.0206701 , 0.62134555,\n",
       "       0.65637333, 1.2018303 , 3.37423729, 1.27197436, 1.17388626,\n",
       "       1.11873446, 1.51117199, 1.23818976, 1.12476731, 0.78571656,\n",
       "       0.59610067, 0.75760369, 3.35299663, 2.21316258, 0.62996159,\n",
       "       0.63336551, 1.45548387, 0.64116612, 1.11478065, 0.75791859,\n",
       "       1.87310734, 1.0939116 , 2.13240343, 0.62190265, 0.70450322,\n",
       "       1.04729101, 0.8247452 , 3.88289062, 1.46039706, 2.39672289,\n",
       "       0.88160571, 0.86638037, 1.25300885, 1.55924647, 0.60761581,\n",
       "       1.55422535, 1.51879205, 3.15485714, 0.62213156, 2.70743869,\n",
       "       0.62370089, 0.65358566, 2.29085253, 0.67943448, 0.63366388,\n",
       "       0.54694708, 0.67162236, 1.86114232, 0.66410654, 0.78403495,\n",
       "       0.7269469 , 0.59869671, 0.60344785, 0.58340653, 0.9374218 ,\n",
       "       0.54142306, 0.74830046, 2.85249284, 0.73425912, 2.35687204,\n",
       "       0.63931169, 0.63237147, 1.38468619, 1.14704861, 1.79625678,\n",
       "       2.85824713, 0.78507558, 0.62488254, 0.81269959, 0.61110559,\n",
       "       1.06035332, 0.59616737, 0.75891538, 0.57105171, 1.3524693 ,\n",
       "       0.83458615, 3.8021374 , 0.62769133, 1.70843373, 0.68487839,\n",
       "       0.66723577, 1.01230061, 0.5969156 , 0.79028022, 4.06489796,\n",
       "       1.06825243, 0.61940806, 1.95404715, 1.50660091, 1.43090778,\n",
       "       0.7659472 , 0.63702913, 0.63217726, 3.91456693, 0.64115309,\n",
       "       1.22409877, 0.62393786, 1.69904274, 1.50325758, 1.70908778,\n",
       "       0.72016801, 5.33016043, 0.94629665, 0.76158179, 0.54332042,\n",
       "       1.25261364, 0.6067921 , 0.76121142, 1.10683799, 1.37763889,\n",
       "       0.69351161, 0.77344828, 1.56522082, 0.58076832, 0.78723285,\n",
       "       0.55647025, 0.6435817 , 0.90350091, 1.64521523, 0.93829222,\n",
       "       3.76909091, 0.84057872, 3.56548387, 1.92761628, 0.76337974,\n",
       "       1.02631743, 0.56759676, 0.76814786, 0.57390771, 0.76967239,\n",
       "       0.61395131, 1.91234615, 1.91026923, 0.7792812 , 0.88062389,\n",
       "       0.8583927 , 2.19878319, 0.83678814, 0.66560811, 1.51039574,\n",
       "       1.00601626, 0.8070646 , 0.62817369, 0.6855254 , 1.3684    ,\n",
       "       0.90314155, 0.7037616 , 1.29981651, 0.73464232, 0.86612621,\n",
       "       1.14026467, 0.58918465, 1.6319376 , 1.31714475, 0.55600227,\n",
       "       1.40022567, 1.02078351, 1.42400287, 0.66898777, 0.85099053,\n",
       "       0.78274385, 0.55007843, 0.75221205, 1.16760895, 0.64629022,\n",
       "       3.26836066, 1.46094256, 1.51120244, 0.82960537, 0.99951515,\n",
       "       1.63325658, 1.12703072, 1.4369754 , 0.78179081, 1.53050847,\n",
       "       0.70490701, 1.8417963 , 1.76720641, 0.55200675, 0.81510322,\n",
       "       0.57808824, 1.03486938, 0.76885425, 0.72407489, 0.66283984,\n",
       "       0.55300676, 0.685     , 0.71869534, 0.67510624, 0.55760931,\n",
       "       0.75285496, 1.2182801 , 0.789448  , 0.99592555, 0.63118666,\n",
       "       0.54732441, 0.63124439, 0.99896065, 0.85576623, 1.24308271,\n",
       "       0.66860828, 1.46727811, 2.09357895, 1.40401697, 0.81545004,\n",
       "       0.81685691, 0.92905075, 0.77110937, 0.65710474, 1.3726556 ,\n",
       "       0.69953158, 0.89595648, 1.43794203, 0.79539081, 0.67535298,\n",
       "       1.33718329, 0.64257833, 0.82906801, 0.83492815, 0.61124922,\n",
       "       2.09355789, 1.84979516, 0.91196494, 1.14449192, 2.17402626,\n",
       "       0.58919065, 0.56645329, 0.88980198, 1.80032609, 0.8004704 ,\n",
       "       4.35663755, 0.5571696 , 2.15246753, 0.88043633, 0.77344044,\n",
       "       0.67219795, 1.12675768, 0.87324205, 2.21939732, 0.61253425,\n",
       "       0.65475399, 0.918829  , 4.04609756, 1.09784922, 0.63922078,\n",
       "       1.09396685, 0.6336188 , 0.5603765 , 0.96061165, 2.52870229,\n",
       "       1.91284615, 1.99304609, 1.7306446 , 1.48461883, 1.02846154,\n",
       "       0.5586405 , 3.34973064, 2.12691649, 0.7518064 , 1.66090301,\n",
       "       1.87441509, 0.89667877, 0.65269231, 0.75300763, 0.55576684,\n",
       "       0.68670383, 0.62865176, 1.58514377, 0.73160237, 0.6674187 ,\n",
       "       0.7875419 , 0.57939858, 1.27379177, 3.59505415, 2.96285714,\n",
       "       0.73403274, 1.02751817, 2.8637464 , 0.67261612, 1.39943583,\n",
       "       1.44207849, 0.95802517, 0.77655389, 0.79421561, 1.55039062,\n",
       "       1.65988294, 3.92511811, 1.59771337, 3.01108761, 1.45219619,\n",
       "       1.86078652, 1.7982821 , 0.94503343, 0.57200815, 5.85735294,\n",
       "       0.90657195, 0.6905466 , 1.04101998, 0.56090805, 1.30085302,\n",
       "       1.27831186, 1.62651391, 0.99378514, 0.54319867, 1.13338673,\n",
       "       1.61056726, 3.53319149, 0.79572925, 1.31921543, 0.70093883,\n",
       "       1.44705539, 1.45423754, 1.06803668, 2.83418803, 0.85671292,\n",
       "       0.67966874, 0.69315049, 0.63341699, 1.83428044, 2.79466292,\n",
       "       0.83901444, 0.97316618, 1.4217192 , 0.66639378, 2.22742152,\n",
       "       0.73596269, 0.9828997 , 2.09841772, 3.74349624, 1.22898389,\n",
       "       1.04489968, 0.82203164, 0.62576972, 0.63550678, 0.68790503,\n",
       "       1.77855098, 1.2395125 , 0.74135338, 3.82734615, 0.64612861,\n",
       "       0.92510758, 0.70743001, 1.66329983, 0.57160558, 1.91194231,\n",
       "       1.71549223, 0.78120348, 3.8028626 , 1.31596817, 0.68346047,\n",
       "       2.25128959, 0.98441791, 0.57545082, 1.5473676 , 1.23790262,\n",
       "       0.55918565, 3.12454545, 0.58935851, 3.09629283, 2.53811224,\n",
       "       2.22599553, 0.63403351, 0.64145928, 0.78499602, 0.64339216,\n",
       "       1.7780322 , 1.30485526, 0.7663587 , 0.58881366, 1.60668285,\n",
       "       1.239825  , 1.26151399, 0.60650432, 0.82372811, 4.17605042,\n",
       "       0.70142349, 2.97634731, 0.61268536, 0.84546233, 1.14231834,\n",
       "       1.5026475 , 0.78480127, 0.60800371, 0.81523534, 0.58508333,\n",
       "       0.70592407, 0.82507937, 0.87252427, 0.70224359, 2.09763713,\n",
       "       0.92540692, 0.96797456, 2.09729958, 3.26163934, 1.05755342,\n",
       "       1.01086823, 1.4472449 , 3.1911859 , 0.56814344, 0.95294798,\n",
       "       1.09170893, 0.64278903, 2.8414    , 0.56518412, 4.45825112,\n",
       "       0.77568396, 0.79738288, 0.78508353, 1.32827309, 0.78853035,\n",
       "       2.40697337, 2.31327907, 2.06681913, 5.2121466 , 0.79702179,\n",
       "       5.57825843, 0.65800134, 0.66172715, 2.43110024, 0.64397646,\n",
       "       0.71215318, 1.18769784, 0.68820531, 0.79954656, 2.31955711,\n",
       "       0.84601027, 0.55195053, 0.87492035, 0.68842767, 1.36503439,\n",
       "       1.83117864, 0.73869663, 2.70508152, 1.02354705, 2.01973577])"
      ]
     },
     "execution_count": 15,
     "metadata": {},
     "output_type": "execute_result"
    }
   ],
   "source": [
    "spikies_period_mean = total_spikes_intervals * time_step / total_spikes_num\n",
    "spikies_period_mean"
   ]
  },
  {
   "cell_type": "code",
   "execution_count": 17,
   "metadata": {},
   "outputs": [
    {
     "data": {
      "text/plain": [
       "(array([574., 185., 104.,  45.,  28.,  20.,  19.,  10.,   7.,   8.]),\n",
       " array([0.54142306, 1.08039385, 1.61936464, 2.15833542, 2.69730621,\n",
       "        3.236277  , 3.77524779, 4.31421858, 4.85318937, 5.39216016,\n",
       "        5.93113095]),\n",
       " <a list of 10 Patch objects>)"
      ]
     },
     "execution_count": 17,
     "metadata": {},
     "output_type": "execute_result"
    },
    {
     "data": {
      "image/png": "[encoded data removed]",
      "text/plain": [
       "<Figure size 432x288 with 1 Axes>"
      ]
     },
     "metadata": {
      "needs_background": "light"
     },
     "output_type": "display_data"
    }
   ],
   "source": [
    "plt.hist(spikies_period_mean)"
   ]
  },
  {
   "cell_type": "code",
   "execution_count": 18,
   "metadata": {},
   "outputs": [
    {
     "ename": "NameError",
     "evalue": "name 'spikies_freq_neurons' is not defined",
     "output_type": "error",
     "traceback": [
      "\u001b[1;31m---------------------------------------------------------------------------\u001b[0m",
      "\u001b[1;31mNameError\u001b[0m                                 Traceback (most recent call last)",
      "\u001b[1;32m<ipython-input-18-6f71d725a65c>\u001b[0m in \u001b[0;36m<module>\u001b[1;34m\u001b[0m\n\u001b[1;32m----> 1\u001b[1;33m \u001b[0mbins\u001b[0m \u001b[1;33m=\u001b[0m  \u001b[0mplt\u001b[0m\u001b[1;33m.\u001b[0m\u001b[0mhist\u001b[0m\u001b[1;33m(\u001b[0m\u001b[0mspikies_freq_neurons\u001b[0m\u001b[1;33m)\u001b[0m\u001b[1;33m[\u001b[0m\u001b[1;36m0\u001b[0m\u001b[1;33m]\u001b[0m\u001b[1;33m\u001b[0m\u001b[1;33m\u001b[0m\u001b[0m\n\u001b[0m\u001b[0;32m      2\u001b[0m \u001b[0mheight\u001b[0m \u001b[1;33m=\u001b[0m \u001b[0mplt\u001b[0m\u001b[1;33m.\u001b[0m\u001b[0mhist\u001b[0m\u001b[1;33m(\u001b[0m\u001b[0mspikies_freq_neurons\u001b[0m\u001b[1;33m)\u001b[0m\u001b[1;33m[\u001b[0m\u001b[1;36m1\u001b[0m\u001b[1;33m]\u001b[0m\u001b[1;33m\u001b[0m\u001b[1;33m\u001b[0m\u001b[0m\n\u001b[0;32m      3\u001b[0m \u001b[0mplt\u001b[0m\u001b[1;33m.\u001b[0m\u001b[0mscatter\u001b[0m\u001b[1;33m(\u001b[0m \u001b[0mbins\u001b[0m\u001b[1;33m,\u001b[0m\u001b[0mheight\u001b[0m\u001b[1;33m)\u001b[0m\u001b[1;33m\u001b[0m\u001b[1;33m\u001b[0m\u001b[0m\n\u001b[0;32m      4\u001b[0m \u001b[0mplt\u001b[0m\u001b[1;33m.\u001b[0m\u001b[0myscale\u001b[0m\u001b[1;33m(\u001b[0m\u001b[1;34m'log'\u001b[0m\u001b[1;33m)\u001b[0m\u001b[1;33m\u001b[0m\u001b[1;33m\u001b[0m\u001b[0m\n\u001b[0;32m      5\u001b[0m \u001b[0mplt\u001b[0m\u001b[1;33m.\u001b[0m\u001b[0mxscale\u001b[0m\u001b[1;33m(\u001b[0m\u001b[1;34m'log'\u001b[0m\u001b[1;33m)\u001b[0m\u001b[1;33m\u001b[0m\u001b[1;33m\u001b[0m\u001b[0m\n",
      "\u001b[1;31mNameError\u001b[0m: name 'spikies_freq_neurons' is not defined"
     ]
    }
   ],
   "source": [
    "bins =  plt.hist(spikies_freq_neurons)[0]\n",
    "height = plt.hist(spikies_freq_neurons)[1]\n",
    "plt.scatter( bins,height)\n",
    "plt.yscale('log')\n",
    "plt.xscale('log')"
   ]
  },
  {
   "cell_type": "code",
   "execution_count": 25,
   "metadata": {},
   "outputs": [
    {
     "data": {
      "image/png": "[encoded data removed]",
      "text/plain": [
       "<Figure size 432x288 with 1 Axes>"
      ]
     },
     "metadata": {
      "needs_background": "light"
     },
     "output_type": "display_data"
    }
   ],
   "source": [
    "heights, bins = np.histogram(spikies_period_mean)\n",
    "plt.scatter(bins[:-1],heights)\n",
    "plt.yscale('log')\n",
    "plt.xscale('log')"
   ]
  },
  {
   "cell_type": "code",
   "execution_count": null,
   "metadata": {},
   "outputs": [],
   "source": [
    "np.mean(spikies_freq_neurons),np.var(spikies_freq_neurons)"
   ]
  },
  {
   "cell_type": "code",
   "execution_count": null,
   "metadata": {},
   "outputs": [],
   "source": []
  }
 ],
 "metadata": {
  "kernelspec": {
   "display_name": "Python 3",
   "language": "python",
   "name": "python3"
  },
  "language_info": {
   "codemirror_mode": {
    "name": "ipython",
    "version": 3
   },
   "file_extension": ".py",
   "mimetype": "text/x-python",
   "name": "python",
   "nbconvert_exporter": "python",
   "pygments_lexer": "ipython3",
   "version": "3.7.6"
  }
 },
 "nbformat": 4,
 "nbformat_minor": 4
}
