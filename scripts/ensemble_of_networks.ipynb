{
 "cells": [
  {
   "cell_type": "markdown",
   "metadata": {},
   "source": [
    "# Netwoks in different connectivty (g):\n",
    "This notebook will set networks side by side which are different in the connectivity constant \"g\".\n",
    "This procedure will be done with the help of engine code in __network_simulation.py__ file. It contains network object and serves its behaviours."
   ]
  },
  {
   "cell_type": "code",
   "execution_count": 1,
   "metadata": {},
   "outputs": [],
   "source": [
    "import numpy as np\n",
    "from tqdm import tqdm\n",
    "import matplotlib.pyplot as plt"
   ]
  },
  {
   "cell_type": "code",
   "execution_count": 2,
   "metadata": {},
   "outputs": [],
   "source": [
    "%%capture\n",
    "from tqdm import tqdm_notebook as tqdm\n",
    "tqdm().pandas() #This line make sure that the progress bars looks natural."
   ]
  },
  {
   "cell_type": "code",
   "execution_count": null,
   "metadata": {},
   "outputs": [],
   "source": []
  },
  {
   "cell_type": "code",
   "execution_count": 3,
   "metadata": {},
   "outputs": [],
   "source": [
    "from network_simulation import Kuramoto_neural_network"
   ]
  },
  {
   "cell_type": "code",
   "execution_count": 4,
   "metadata": {},
   "outputs": [],
   "source": [
    "connectivity_span = np.arange(0.1,5,0.25)\n",
    "num_ensembles_each_g = 5\n",
    "sigma_record = np.zeros( shape = (len(connectivity_span),num_ensembles_each_g) )"
   ]
  },
  {
   "cell_type": "markdown",
   "metadata": {},
   "source": [
    "## Creating various ensembles:"
   ]
  },
  {
   "cell_type": "code",
   "execution_count": 5,
   "metadata": {},
   "outputs": [
    {
     "name": "stderr",
     "output_type": "stream",
     "text": [
      "C:\\ProgramData\\Anaconda3\\lib\\site-packages\\ipykernel_launcher.py:1: TqdmDeprecationWarning: This function will be removed in tqdm==5.0.0\n",
      "Please use `tqdm.notebook.tqdm` instead of `tqdm.tqdm_notebook`\n",
      "  \"\"\"Entry point for launching an IPython kernel.\n"
     ]
    },
    {
     "data": {
      "application/vnd.jupyter.widget-view+json": {
       "model_id": "abcc6477656d4ba3bf4cb9810d77ff39",
       "version_major": 2,
       "version_minor": 0
      },
      "text/plain": [
       "HBox(children=(FloatProgress(value=0.0, description='Variation of connectivities', max=20.0, style=ProgressSty…"
      ]
     },
     "metadata": {},
     "output_type": "display_data"
    },
    {
     "name": "stderr",
     "output_type": "stream",
     "text": [
      "C:\\ProgramData\\Anaconda3\\lib\\site-packages\\ipykernel_launcher.py:2: TqdmDeprecationWarning: This function will be removed in tqdm==5.0.0\n",
      "Please use `tqdm.notebook.tqdm` instead of `tqdm.tqdm_notebook`\n",
      "  \n"
     ]
    },
    {
     "data": {
      "application/vnd.jupyter.widget-view+json": {
       "model_id": "01b6e05d872c4945b57dc20ab5a6c683",
       "version_major": 2,
       "version_minor": 0
      },
      "text/plain": [
       "HBox(children=(FloatProgress(value=0.0, description='Making ensembles', max=5.0, style=ProgressStyle(descripti…"
      ]
     },
     "metadata": {},
     "output_type": "display_data"
    },
    {
     "name": "stderr",
     "output_type": "stream",
     "text": [
      "network dynamic: 100%|██████████████████████████████████████████████████████| 100000/100000 [00:07<00:00, 12774.62it/s]\n",
      "network dynamic: 100%|██████████████████████████████████████████████████████| 100000/100000 [00:09<00:00, 10201.16it/s]\n",
      "network dynamic: 100%|██████████████████████████████████████████████████████| 100000/100000 [00:07<00:00, 12628.11it/s]\n",
      "network dynamic: 100%|██████████████████████████████████████████████████████| 100000/100000 [00:08<00:00, 12443.27it/s]\n",
      "network dynamic: 100%|██████████████████████████████████████████████████████| 100000/100000 [00:08<00:00, 12232.16it/s]\n"
     ]
    },
    {
     "name": "stdout",
     "output_type": "stream",
     "text": [
      "\n"
     ]
    },
    {
     "data": {
      "application/vnd.jupyter.widget-view+json": {
       "model_id": "e06c2d5fbd6a4f7fb7864b932d6c9330",
       "version_major": 2,
       "version_minor": 0
      },
      "text/plain": [
       "HBox(children=(FloatProgress(value=0.0, description='Making ensembles', max=5.0, style=ProgressStyle(descripti…"
      ]
     },
     "metadata": {},
     "output_type": "display_data"
    },
    {
     "name": "stderr",
     "output_type": "stream",
     "text": [
      "network dynamic: 100%|██████████████████████████████████████████████████████| 100000/100000 [00:08<00:00, 12049.93it/s]\n",
      "network dynamic: 100%|██████████████████████████████████████████████████████| 100000/100000 [00:08<00:00, 12121.36it/s]\n",
      "network dynamic: 100%|██████████████████████████████████████████████████████| 100000/100000 [00:08<00:00, 11973.67it/s]\n",
      "network dynamic: 100%|██████████████████████████████████████████████████████| 100000/100000 [00:08<00:00, 11972.25it/s]\n",
      "network dynamic: 100%|██████████████████████████████████████████████████████| 100000/100000 [00:08<00:00, 12103.75it/s]\n"
     ]
    },
    {
     "name": "stdout",
     "output_type": "stream",
     "text": [
      "\n"
     ]
    },
    {
     "data": {
      "application/vnd.jupyter.widget-view+json": {
       "model_id": "96667b1b64a0453a916cca05995522cb",
       "version_major": 2,
       "version_minor": 0
      },
      "text/plain": [
       "HBox(children=(FloatProgress(value=0.0, description='Making ensembles', max=5.0, style=ProgressStyle(descripti…"
      ]
     },
     "metadata": {},
     "output_type": "display_data"
    },
    {
     "name": "stderr",
     "output_type": "stream",
     "text": [
      "network dynamic: 100%|██████████████████████████████████████████████████████| 100000/100000 [00:08<00:00, 11844.90it/s]\n",
      "network dynamic: 100%|██████████████████████████████████████████████████████| 100000/100000 [00:08<00:00, 12152.21it/s]\n",
      "network dynamic: 100%|██████████████████████████████████████████████████████| 100000/100000 [00:08<00:00, 11955.11it/s]\n",
      "network dynamic: 100%|██████████████████████████████████████████████████████| 100000/100000 [00:08<00:00, 11655.00it/s]\n",
      "network dynamic: 100%|██████████████████████████████████████████████████████| 100000/100000 [00:08<00:00, 11595.68it/s]\n"
     ]
    },
    {
     "name": "stdout",
     "output_type": "stream",
     "text": [
      "\n"
     ]
    },
    {
     "data": {
      "application/vnd.jupyter.widget-view+json": {
       "model_id": "c1750d82a03c46198db52064e6961bf2",
       "version_major": 2,
       "version_minor": 0
      },
      "text/plain": [
       "HBox(children=(FloatProgress(value=0.0, description='Making ensembles', max=5.0, style=ProgressStyle(descripti…"
      ]
     },
     "metadata": {},
     "output_type": "display_data"
    },
    {
     "name": "stderr",
     "output_type": "stream",
     "text": [
      "network dynamic: 100%|██████████████████████████████████████████████████████| 100000/100000 [00:08<00:00, 12026.81it/s]\n",
      "network dynamic: 100%|██████████████████████████████████████████████████████| 100000/100000 [00:08<00:00, 11881.40it/s]\n",
      "network dynamic: 100%|██████████████████████████████████████████████████████| 100000/100000 [00:07<00:00, 12508.42it/s]\n",
      "network dynamic: 100%|██████████████████████████████████████████████████████| 100000/100000 [00:08<00:00, 12296.73it/s]\n",
      "network dynamic: 100%|██████████████████████████████████████████████████████| 100000/100000 [00:08<00:00, 12078.97it/s]\n"
     ]
    },
    {
     "name": "stdout",
     "output_type": "stream",
     "text": [
      "\n"
     ]
    },
    {
     "data": {
      "application/vnd.jupyter.widget-view+json": {
       "model_id": "ef31bb5b6d784be58d54751822d1e1af",
       "version_major": 2,
       "version_minor": 0
      },
      "text/plain": [
       "HBox(children=(FloatProgress(value=0.0, description='Making ensembles', max=5.0, style=ProgressStyle(descripti…"
      ]
     },
     "metadata": {},
     "output_type": "display_data"
    },
    {
     "name": "stderr",
     "output_type": "stream",
     "text": [
      "network dynamic: 100%|███████████████████████████████████████████████████████| 100000/100000 [00:10<00:00, 9995.76it/s]\n",
      "network dynamic: 100%|███████████████████████████████████████████████████████| 100000/100000 [00:10<00:00, 9251.48it/s]\n",
      "network dynamic: 100%|███████████████████████████████████████████████████████| 100000/100000 [00:10<00:00, 9834.97it/s]\n",
      "network dynamic: 100%|███████████████████████████████████████████████████████| 100000/100000 [00:10<00:00, 9427.18it/s]\n",
      "network dynamic: 100%|██████████████████████████████████████████████████████| 100000/100000 [00:09<00:00, 10083.22it/s]\n"
     ]
    },
    {
     "name": "stdout",
     "output_type": "stream",
     "text": [
      "\n"
     ]
    },
    {
     "data": {
      "application/vnd.jupyter.widget-view+json": {
       "model_id": "25aca4e71e464d5797054d94d90c4446",
       "version_major": 2,
       "version_minor": 0
      },
      "text/plain": [
       "HBox(children=(FloatProgress(value=0.0, description='Making ensembles', max=5.0, style=ProgressStyle(descripti…"
      ]
     },
     "metadata": {},
     "output_type": "display_data"
    },
    {
     "name": "stderr",
     "output_type": "stream",
     "text": [
      "network dynamic: 100%|███████████████████████████████████████████████████████| 100000/100000 [00:10<00:00, 9406.88it/s]\n",
      "network dynamic: 100%|██████████████████████████████████████████████████████| 100000/100000 [00:09<00:00, 10167.06it/s]\n",
      "network dynamic: 100%|███████████████████████████████████████████████████████| 100000/100000 [00:10<00:00, 9322.91it/s]\n",
      "network dynamic: 100%|███████████████████████████████████████████████████████| 100000/100000 [00:10<00:00, 9946.19it/s]\n",
      "network dynamic: 100%|███████████████████████████████████████████████████████| 100000/100000 [00:10<00:00, 9246.29it/s]\n"
     ]
    },
    {
     "name": "stdout",
     "output_type": "stream",
     "text": [
      "\n"
     ]
    },
    {
     "data": {
      "application/vnd.jupyter.widget-view+json": {
       "model_id": "dd3b70c70bd94620aa76ecafd15f5f9f",
       "version_major": 2,
       "version_minor": 0
      },
      "text/plain": [
       "HBox(children=(FloatProgress(value=0.0, description='Making ensembles', max=5.0, style=ProgressStyle(descripti…"
      ]
     },
     "metadata": {},
     "output_type": "display_data"
    },
    {
     "name": "stderr",
     "output_type": "stream",
     "text": [
      "network dynamic: 100%|██████████████████████████████████████████████████████| 100000/100000 [00:09<00:00, 10302.88it/s]\n",
      "network dynamic: 100%|███████████████████████████████████████████████████████| 100000/100000 [00:10<00:00, 9277.15it/s]\n",
      "network dynamic: 100%|██████████████████████████████████████████████████████| 100000/100000 [00:09<00:00, 10328.30it/s]\n",
      "network dynamic: 100%|███████████████████████████████████████████████████████| 100000/100000 [00:11<00:00, 8825.59it/s]\n",
      "network dynamic: 100%|██████████████████████████████████████████████████████| 100000/100000 [00:09<00:00, 10311.34it/s]\n"
     ]
    },
    {
     "name": "stdout",
     "output_type": "stream",
     "text": [
      "\n"
     ]
    },
    {
     "data": {
      "application/vnd.jupyter.widget-view+json": {
       "model_id": "67fc2758528646018f22317b962697ac",
       "version_major": 2,
       "version_minor": 0
      },
      "text/plain": [
       "HBox(children=(FloatProgress(value=0.0, description='Making ensembles', max=5.0, style=ProgressStyle(descripti…"
      ]
     },
     "metadata": {},
     "output_type": "display_data"
    },
    {
     "name": "stderr",
     "output_type": "stream",
     "text": [
      "network dynamic: 100%|██████████████████████████████████████████████████████| 100000/100000 [00:09<00:00, 10309.19it/s]\n",
      "network dynamic: 100%|██████████████████████████████████████████████████████| 100000/100000 [00:08<00:00, 12400.10it/s]\n",
      "network dynamic: 100%|██████████████████████████████████████████████████████| 100000/100000 [00:08<00:00, 12407.81it/s]\n",
      "network dynamic: 100%|██████████████████████████████████████████████████████| 100000/100000 [00:08<00:00, 12472.58it/s]\n",
      "network dynamic: 100%|██████████████████████████████████████████████████████| 100000/100000 [00:07<00:00, 12708.18it/s]\n"
     ]
    },
    {
     "name": "stdout",
     "output_type": "stream",
     "text": [
      "\n"
     ]
    },
    {
     "data": {
      "application/vnd.jupyter.widget-view+json": {
       "model_id": "ddd7af4a44544f2fb02599bf9e1c0152",
       "version_major": 2,
       "version_minor": 0
      },
      "text/plain": [
       "HBox(children=(FloatProgress(value=0.0, description='Making ensembles', max=5.0, style=ProgressStyle(descripti…"
      ]
     },
     "metadata": {},
     "output_type": "display_data"
    },
    {
     "name": "stderr",
     "output_type": "stream",
     "text": [
      "network dynamic: 100%|██████████████████████████████████████████████████████| 100000/100000 [00:07<00:00, 12549.07it/s]\n",
      "network dynamic: 100%|██████████████████████████████████████████████████████| 100000/100000 [00:08<00:00, 12489.73it/s]\n",
      "network dynamic: 100%|██████████████████████████████████████████████████████| 100000/100000 [00:07<00:00, 12544.47it/s]\n",
      "network dynamic: 100%|██████████████████████████████████████████████████████| 100000/100000 [00:07<00:00, 12506.86it/s]\n",
      "network dynamic: 100%|██████████████████████████████████████████████████████| 100000/100000 [00:08<00:00, 12492.78it/s]\n"
     ]
    },
    {
     "name": "stdout",
     "output_type": "stream",
     "text": [
      "\n"
     ]
    },
    {
     "data": {
      "application/vnd.jupyter.widget-view+json": {
       "model_id": "e32e5d1036694200979cd87da5b39483",
       "version_major": 2,
       "version_minor": 0
      },
      "text/plain": [
       "HBox(children=(FloatProgress(value=0.0, description='Making ensembles', max=5.0, style=ProgressStyle(descripti…"
      ]
     },
     "metadata": {},
     "output_type": "display_data"
    },
    {
     "name": "stderr",
     "output_type": "stream",
     "text": [
      "network dynamic: 100%|██████████████████████████████████████████████████████| 100000/100000 [00:07<00:00, 12522.53it/s]\n",
      "network dynamic: 100%|██████████████████████████████████████████████████████| 100000/100000 [00:08<00:00, 12469.53it/s]\n",
      "network dynamic: 100%|██████████████████████████████████████████████████████| 100000/100000 [00:07<00:00, 12508.43it/s]\n",
      "network dynamic: 100%|██████████████████████████████████████████████████████| 100000/100000 [00:08<00:00, 12378.71it/s]\n",
      "network dynamic: 100%|██████████████████████████████████████████████████████| 100000/100000 [00:08<00:00, 11935.06it/s]\n"
     ]
    },
    {
     "name": "stdout",
     "output_type": "stream",
     "text": [
      "\n"
     ]
    },
    {
     "data": {
      "application/vnd.jupyter.widget-view+json": {
       "model_id": "31311aed5601434e9fd77a3c190f9d9a",
       "version_major": 2,
       "version_minor": 0
      },
      "text/plain": [
       "HBox(children=(FloatProgress(value=0.0, description='Making ensembles', max=5.0, style=ProgressStyle(descripti…"
      ]
     },
     "metadata": {},
     "output_type": "display_data"
    },
    {
     "name": "stderr",
     "output_type": "stream",
     "text": [
      "network dynamic: 100%|██████████████████████████████████████████████████████| 100000/100000 [00:07<00:00, 12530.25it/s]\n",
      "network dynamic: 100%|██████████████████████████████████████████████████████| 100000/100000 [00:08<00:00, 12458.63it/s]\n",
      "network dynamic: 100%|██████████████████████████████████████████████████████| 100000/100000 [00:08<00:00, 12301.26it/s]\n",
      "network dynamic: 100%|██████████████████████████████████████████████████████| 100000/100000 [00:08<00:00, 12383.29it/s]\n",
      "network dynamic: 100%|██████████████████████████████████████████████████████| 100000/100000 [00:08<00:00, 12481.90it/s]\n"
     ]
    },
    {
     "name": "stdout",
     "output_type": "stream",
     "text": [
      "\n"
     ]
    },
    {
     "data": {
      "application/vnd.jupyter.widget-view+json": {
       "model_id": "f29d98b1f1764b85b7df48c955b1cfca",
       "version_major": 2,
       "version_minor": 0
      },
      "text/plain": [
       "HBox(children=(FloatProgress(value=0.0, description='Making ensembles', max=5.0, style=ProgressStyle(descripti…"
      ]
     },
     "metadata": {},
     "output_type": "display_data"
    },
    {
     "name": "stderr",
     "output_type": "stream",
     "text": [
      "network dynamic: 100%|██████████████████████████████████████████████████████| 100000/100000 [00:08<00:00, 12218.86it/s]\n",
      "network dynamic: 100%|███████████████████████████████████████████████████████| 100000/100000 [00:11<00:00, 8982.94it/s]\n",
      "network dynamic: 100%|██████████████████████████████████████████████████████| 100000/100000 [00:09<00:00, 10217.80it/s]\n",
      "network dynamic: 100%|███████████████████████████████████████████████████████| 100000/100000 [00:11<00:00, 9029.07it/s]\n",
      "network dynamic: 100%|██████████████████████████████████████████████████████| 100000/100000 [00:09<00:00, 10129.05it/s]\n"
     ]
    },
    {
     "name": "stdout",
     "output_type": "stream",
     "text": [
      "\n"
     ]
    },
    {
     "data": {
      "application/vnd.jupyter.widget-view+json": {
       "model_id": "926509b23de6499a9d36fbc71e0fc5e8",
       "version_major": 2,
       "version_minor": 0
      },
      "text/plain": [
       "HBox(children=(FloatProgress(value=0.0, description='Making ensembles', max=5.0, style=ProgressStyle(descripti…"
      ]
     },
     "metadata": {},
     "output_type": "display_data"
    },
    {
     "name": "stderr",
     "output_type": "stream",
     "text": [
      "network dynamic: 100%|███████████████████████████████████████████████████████| 100000/100000 [00:11<00:00, 9086.31it/s]\n",
      "network dynamic: 100%|██████████████████████████████████████████████████████| 100000/100000 [00:09<00:00, 10306.08it/s]\n",
      "network dynamic: 100%|███████████████████████████████████████████████████████| 100000/100000 [00:10<00:00, 9104.46it/s]\n",
      "network dynamic: 100%|██████████████████████████████████████████████████████| 100000/100000 [00:09<00:00, 10169.12it/s]\n",
      "network dynamic: 100%|███████████████████████████████████████████████████████| 100000/100000 [00:12<00:00, 8140.31it/s]\n"
     ]
    },
    {
     "name": "stdout",
     "output_type": "stream",
     "text": [
      "\n"
     ]
    },
    {
     "data": {
      "application/vnd.jupyter.widget-view+json": {
       "model_id": "a02499d4909b493988fbb4920facca8d",
       "version_major": 2,
       "version_minor": 0
      },
      "text/plain": [
       "HBox(children=(FloatProgress(value=0.0, description='Making ensembles', max=5.0, style=ProgressStyle(descripti…"
      ]
     },
     "metadata": {},
     "output_type": "display_data"
    },
    {
     "name": "stderr",
     "output_type": "stream",
     "text": [
      "network dynamic: 100%|███████████████████████████████████████████████████████| 100000/100000 [00:11<00:00, 8948.10it/s]\n",
      "network dynamic: 100%|██████████████████████████████████████████████████████| 100000/100000 [00:09<00:00, 10048.51it/s]\n",
      "network dynamic: 100%|██████████████████████████████████████████████████████| 100000/100000 [00:09<00:00, 10342.54it/s]\n",
      "network dynamic: 100%|███████████████████████████████████████████████████████| 100000/100000 [00:10<00:00, 9871.98it/s]\n",
      "network dynamic: 100%|██████████████████████████████████████████████████████| 100000/100000 [00:09<00:00, 10501.44it/s]\n"
     ]
    },
    {
     "name": "stdout",
     "output_type": "stream",
     "text": [
      "\n"
     ]
    },
    {
     "data": {
      "application/vnd.jupyter.widget-view+json": {
       "model_id": "d27193ff976644cca553d4b7dc450ffc",
       "version_major": 2,
       "version_minor": 0
      },
      "text/plain": [
       "HBox(children=(FloatProgress(value=0.0, description='Making ensembles', max=5.0, style=ProgressStyle(descripti…"
      ]
     },
     "metadata": {},
     "output_type": "display_data"
    },
    {
     "name": "stderr",
     "output_type": "stream",
     "text": [
      "network dynamic: 100%|██████████████████████████████████████████████████████| 100000/100000 [00:08<00:00, 11247.95it/s]\n",
      "network dynamic: 100%|███████████████████████████████████████████████████████| 100000/100000 [00:10<00:00, 9838.17it/s]\n",
      "network dynamic: 100%|███████████████████████████████████████████████████████| 100000/100000 [00:10<00:00, 9211.31it/s]\n",
      "network dynamic: 100%|███████████████████████████████████████████████████████| 100000/100000 [00:10<00:00, 9404.30it/s]\n",
      "network dynamic: 100%|███████████████████████████████████████████████████████| 100000/100000 [00:10<00:00, 9971.69it/s]\n"
     ]
    },
    {
     "name": "stdout",
     "output_type": "stream",
     "text": [
      "\n"
     ]
    },
    {
     "data": {
      "application/vnd.jupyter.widget-view+json": {
       "model_id": "6aa8c86c506440f490e31ae870497a22",
       "version_major": 2,
       "version_minor": 0
      },
      "text/plain": [
       "HBox(children=(FloatProgress(value=0.0, description='Making ensembles', max=5.0, style=ProgressStyle(descripti…"
      ]
     },
     "metadata": {},
     "output_type": "display_data"
    },
    {
     "name": "stderr",
     "output_type": "stream",
     "text": [
      "network dynamic: 100%|███████████████████████████████████████████████████████| 100000/100000 [00:10<00:00, 9365.76it/s]\n",
      "network dynamic: 100%|███████████████████████████████████████████████████████| 100000/100000 [00:10<00:00, 9540.15it/s]\n",
      "network dynamic: 100%|███████████████████████████████████████████████████████| 100000/100000 [00:10<00:00, 9207.67it/s]\n",
      "network dynamic: 100%|██████████████████████████████████████████████████████| 100000/100000 [00:09<00:00, 10508.24it/s]\n",
      "network dynamic: 100%|███████████████████████████████████████████████████████| 100000/100000 [00:15<00:00, 6474.08it/s]\n"
     ]
    },
    {
     "name": "stdout",
     "output_type": "stream",
     "text": [
      "\n"
     ]
    },
    {
     "data": {
      "application/vnd.jupyter.widget-view+json": {
       "model_id": "d02994fa4401496e8a6cc789ab42eb33",
       "version_major": 2,
       "version_minor": 0
      },
      "text/plain": [
       "HBox(children=(FloatProgress(value=0.0, description='Making ensembles', max=5.0, style=ProgressStyle(descripti…"
      ]
     },
     "metadata": {},
     "output_type": "display_data"
    },
    {
     "name": "stderr",
     "output_type": "stream",
     "text": [
      "network dynamic: 100%|███████████████████████████████████████████████████████| 100000/100000 [00:14<00:00, 6869.31it/s]\n",
      "network dynamic: 100%|███████████████████████████████████████████████████████| 100000/100000 [00:14<00:00, 7087.80it/s]\n",
      "network dynamic: 100%|███████████████████████████████████████████████████████| 100000/100000 [00:14<00:00, 7139.51it/s]\n",
      "network dynamic: 100%|███████████████████████████████████████████████████████| 100000/100000 [00:13<00:00, 7301.81it/s]\n",
      "network dynamic: 100%|███████████████████████████████████████████████████████| 100000/100000 [00:15<00:00, 6502.47it/s]\n"
     ]
    },
    {
     "name": "stdout",
     "output_type": "stream",
     "text": [
      "\n"
     ]
    },
    {
     "data": {
      "application/vnd.jupyter.widget-view+json": {
       "model_id": "319dbba0395b4144b5acfa04df0d80d7",
       "version_major": 2,
       "version_minor": 0
      },
      "text/plain": [
       "HBox(children=(FloatProgress(value=0.0, description='Making ensembles', max=5.0, style=ProgressStyle(descripti…"
      ]
     },
     "metadata": {},
     "output_type": "display_data"
    },
    {
     "name": "stderr",
     "output_type": "stream",
     "text": [
      "network dynamic: 100%|███████████████████████████████████████████████████████| 100000/100000 [00:14<00:00, 6702.38it/s]\n",
      "network dynamic: 100%|███████████████████████████████████████████████████████| 100000/100000 [00:15<00:00, 6612.23it/s]\n",
      "network dynamic: 100%|███████████████████████████████████████████████████████| 100000/100000 [00:15<00:00, 6406.59it/s]\n",
      "network dynamic: 100%|███████████████████████████████████████████████████████| 100000/100000 [00:15<00:00, 6607.34it/s]\n",
      "network dynamic: 100%|███████████████████████████████████████████████████████| 100000/100000 [00:14<00:00, 6893.61it/s]\n"
     ]
    },
    {
     "name": "stdout",
     "output_type": "stream",
     "text": [
      "\n"
     ]
    },
    {
     "data": {
      "application/vnd.jupyter.widget-view+json": {
       "model_id": "641886a58c8643bc818d1f6b26aef257",
       "version_major": 2,
       "version_minor": 0
      },
      "text/plain": [
       "HBox(children=(FloatProgress(value=0.0, description='Making ensembles', max=5.0, style=ProgressStyle(descripti…"
      ]
     },
     "metadata": {},
     "output_type": "display_data"
    },
    {
     "name": "stderr",
     "output_type": "stream",
     "text": [
      "network dynamic: 100%|███████████████████████████████████████████████████████| 100000/100000 [00:12<00:00, 8006.94it/s]\n",
      "network dynamic: 100%|███████████████████████████████████████████████████████| 100000/100000 [00:14<00:00, 6729.69it/s]\n",
      "network dynamic: 100%|███████████████████████████████████████████████████████| 100000/100000 [00:15<00:00, 6318.55it/s]\n",
      "network dynamic: 100%|███████████████████████████████████████████████████████| 100000/100000 [00:10<00:00, 9338.95it/s]\n",
      "network dynamic: 100%|██████████████████████████████████████████████████████| 100000/100000 [00:09<00:00, 10160.85it/s]\n"
     ]
    },
    {
     "name": "stdout",
     "output_type": "stream",
     "text": [
      "\n"
     ]
    },
    {
     "data": {
      "application/vnd.jupyter.widget-view+json": {
       "model_id": "fa6b011ce0434c499df5ee1b81db3b37",
       "version_major": 2,
       "version_minor": 0
      },
      "text/plain": [
       "HBox(children=(FloatProgress(value=0.0, description='Making ensembles', max=5.0, style=ProgressStyle(descripti…"
      ]
     },
     "metadata": {},
     "output_type": "display_data"
    },
    {
     "name": "stderr",
     "output_type": "stream",
     "text": [
      "network dynamic: 100%|███████████████████████████████████████████████████████| 100000/100000 [00:10<00:00, 9332.04it/s]\n",
      "network dynamic: 100%|██████████████████████████████████████████████████████| 100000/100000 [00:09<00:00, 10074.29it/s]\n",
      "network dynamic: 100%|██████████████████████████████████████████████████████| 100000/100000 [00:09<00:00, 10076.09it/s]\n",
      "network dynamic: 100%|██████████████████████████████████████████████████████| 100000/100000 [00:09<00:00, 10551.97it/s]\n",
      "network dynamic: 100%|██████████████████████████████████████████████████████| 100000/100000 [00:09<00:00, 10060.89it/s]\n"
     ]
    },
    {
     "name": "stdout",
     "output_type": "stream",
     "text": [
      "\n",
      "\n"
     ]
    }
   ],
   "source": [
    "for i,connectivity in enumerate(tqdm( connectivity_span , desc='Variation of connectivities') ):\n",
    "    for j in tqdm( range(num_ensembles_each_g) , desc='Making ensembles'):\n",
    "        sample_model = Kuramoto_neural_network(num_neurons=300,g=connectivity)\n",
    "        sample_model.ignite(total_time = 1000)\n",
    "        sample_model.compute_effective_field( alpha = 20)\n",
    "        sigma_record[i][j] = sample_model.report_sigma()"
   ]
  },
  {
   "cell_type": "code",
   "execution_count": 6,
   "metadata": {},
   "outputs": [],
   "source": [
    "# sigma_record = connectivity_record\n",
    "np.save('sigma_records.npy',sigma_record)"
   ]
  },
  {
   "cell_type": "code",
   "execution_count": 7,
   "metadata": {},
   "outputs": [
    {
     "data": {
      "image/png": "[encoded data removed]",
      "text/plain": [
       "<Figure size 432x288 with 1 Axes>"
      ]
     },
     "metadata": {
      "needs_background": "light"
     },
     "output_type": "display_data"
    }
   ],
   "source": [
    "fig = plt.figure()\n",
    "ax = fig.subplots()\n",
    "ax.errorbar(x = connectivity_span, y = np.mean(sigma_record,axis = 1),yerr = np.var(sigma_record,axis = 1))\n",
    "# ax.set_title('$\\sigma$')\n",
    "ax.set_xlabel('g as connectivity')\n",
    "ax.set_ylabel('$\\sigma$')\n",
    "fig.savefig('sigma_as_synchoronization_meter.png')"
   ]
  },
  {
   "cell_type": "code",
   "execution_count": 8,
   "metadata": {},
   "outputs": [
    {
     "data": {
      "text/plain": [
       "array([4.71180461, 4.68343377, 4.81765564, 4.71527749, 4.81101099])"
      ]
     },
     "execution_count": 8,
     "metadata": {},
     "output_type": "execute_result"
    }
   ],
   "source": [
    "np.sum(sigma_record,axis = 0)"
   ]
  },
  {
   "cell_type": "code",
   "execution_count": 9,
   "metadata": {},
   "outputs": [
    {
     "data": {
      "text/plain": [
       "(20, 5)"
      ]
     },
     "execution_count": 9,
     "metadata": {},
     "output_type": "execute_result"
    }
   ],
   "source": [
    "sigma_record.shape"
   ]
  },
  {
   "cell_type": "code",
   "execution_count": 10,
   "metadata": {},
   "outputs": [
    {
     "data": {
      "text/plain": [
       "array([[0.14164872, 0.14264001, 0.14397403, 0.14368995, 0.13716302],\n",
       "       [0.13422439, 0.13417366, 0.13782477, 0.1310871 , 0.12843033],\n",
       "       [0.14805461, 0.1505484 , 0.15239638, 0.15896527, 0.16470215],\n",
       "       [0.18782552, 0.20933471, 0.18288022, 0.19037561, 0.2009753 ],\n",
       "       [0.21228263, 0.20333523, 0.25727005, 0.2271492 , 0.21839464],\n",
       "       [0.2291533 , 0.24861445, 0.22315536, 0.23937068, 0.24633881],\n",
       "       [0.23992887, 0.25592393, 0.24473818, 0.26672921, 0.2509778 ],\n",
       "       [0.27681275, 0.24286718, 0.28770242, 0.23131871, 0.26450042],\n",
       "       [0.25370304, 0.25801471, 0.27679736, 0.25975728, 0.25589957],\n",
       "       [0.29287049, 0.28994451, 0.25335177, 0.25842283, 0.25871984],\n",
       "       [0.28924054, 0.24143169, 0.27190832, 0.26321992, 0.26502659],\n",
       "       [0.24631308, 0.26961463, 0.27166623, 0.28051067, 0.27679316],\n",
       "       [0.25769674, 0.24013298, 0.29107087, 0.27774779, 0.29479348],\n",
       "       [0.2897464 , 0.25006752, 0.27475361, 0.23545468, 0.27551634],\n",
       "       [0.2570975 , 0.26209256, 0.28221418, 0.26800153, 0.26497899],\n",
       "       [0.27920322, 0.26039791, 0.25693565, 0.24898755, 0.27889253],\n",
       "       [0.2344412 , 0.25214584, 0.25320787, 0.2535291 , 0.26204196],\n",
       "       [0.24827642, 0.24417068, 0.23756319, 0.26760864, 0.26582357],\n",
       "       [0.25227906, 0.28517841, 0.24230699, 0.25643849, 0.24371505],\n",
       "       [0.24100613, 0.24280475, 0.27593819, 0.2569133 , 0.25732746]])"
      ]
     },
     "execution_count": 10,
     "metadata": {},
     "output_type": "execute_result"
    }
   ],
   "source": [
    "sigma_record"
   ]
  },
  {
   "cell_type": "code",
   "execution_count": 11,
   "metadata": {},
   "outputs": [
    {
     "data": {
      "text/plain": [
       "array([0.14164872, 0.14264001, 0.14397403, 0.14368995, 0.13716302])"
      ]
     },
     "execution_count": 11,
     "metadata": {},
     "output_type": "execute_result"
    }
   ],
   "source": [
    "sigma_record[0]"
   ]
  },
  {
   "cell_type": "code",
   "execution_count": null,
   "metadata": {},
   "outputs": [],
   "source": []
  },
  {
   "cell_type": "code",
   "execution_count": null,
   "metadata": {},
   "outputs": [],
   "source": []
  }
 ],
 "metadata": {
  "kernelspec": {
   "display_name": "Python 3",
   "language": "python",
   "name": "python3"
  },
  "language_info": {
   "codemirror_mode": {
    "name": "ipython",
    "version": 3
   },
   "file_extension": ".py",
   "mimetype": "text/x-python",
   "name": "python",
   "nbconvert_exporter": "python",
   "pygments_lexer": "ipython3",
   "version": "3.7.6"
  }
 },
 "nbformat": 4,
 "nbformat_minor": 4
}
