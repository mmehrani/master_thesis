{
 "cells": [
  {
   "cell_type": "code",
   "execution_count": 1,
   "metadata": {},
   "outputs": [],
   "source": [
    "import numpy as np\n",
    "from tqdm import tqdm\n",
    "import matplotlib.pyplot as plt"
   ]
  },
  {
   "cell_type": "code",
   "execution_count": 2,
   "metadata": {},
   "outputs": [],
   "source": [
    "%%capture\n",
    "from tqdm import tqdm_notebook as tqdm\n",
    "tqdm().pandas()"
   ]
  },
  {
   "cell_type": "code",
   "execution_count": 3,
   "metadata": {},
   "outputs": [],
   "source": [
    "from network_simulation import Kuramoto_neural_network"
   ]
  },
  {
   "cell_type": "code",
   "execution_count": 4,
   "metadata": {},
   "outputs": [],
   "source": [
    "connectivity_span = np.arange(0.1,5,0.25)\n",
    "num_ensembles_each_g = 5\n",
    "sigma_record = np.zeros( shape = (len(connectivity_span),num_ensembles_each_g) )"
   ]
  },
  {
   "cell_type": "code",
   "execution_count": 5,
   "metadata": {},
   "outputs": [
    {
     "name": "stderr",
     "output_type": "stream",
     "text": [
      "C:\\ProgramData\\Anaconda3\\lib\\site-packages\\ipykernel_launcher.py:1: TqdmDeprecationWarning: This function will be removed in tqdm==5.0.0\n",
      "Please use `tqdm.notebook.tqdm` instead of `tqdm.tqdm_notebook`\n",
      "  \"\"\"Entry point for launching an IPython kernel.\n"
     ]
    },
    {
     "data": {
      "application/vnd.jupyter.widget-view+json": {
       "model_id": "87b7f3fb33f94fcf8fc8f72e1b79c570",
       "version_major": 2,
       "version_minor": 0
      },
      "text/plain": [
       "HBox(children=(FloatProgress(value=0.0, description='Variation of connectivities', max=20.0, style=ProgressSty…"
      ]
     },
     "metadata": {},
     "output_type": "display_data"
    },
    {
     "name": "stderr",
     "output_type": "stream",
     "text": [
      "C:\\ProgramData\\Anaconda3\\lib\\site-packages\\ipykernel_launcher.py:2: TqdmDeprecationWarning: This function will be removed in tqdm==5.0.0\n",
      "Please use `tqdm.notebook.tqdm` instead of `tqdm.tqdm_notebook`\n",
      "  \n"
     ]
    },
    {
     "data": {
      "application/vnd.jupyter.widget-view+json": {
       "model_id": "08ed543da1f34fdca51ed56cfeda8032",
       "version_major": 2,
       "version_minor": 0
      },
      "text/plain": [
       "HBox(children=(FloatProgress(value=0.0, description='Making ensembles', max=5.0, style=ProgressStyle(descripti…"
      ]
     },
     "metadata": {},
     "output_type": "display_data"
    },
    {
     "name": "stderr",
     "output_type": "stream",
     "text": [
      "network dynamic: 100%|██████████████████████████████████████████████████████| 100000/100000 [00:04<00:00, 22627.46it/s]\n",
      "network dynamic: 100%|██████████████████████████████████████████████████████| 100000/100000 [00:04<00:00, 23406.64it/s]\n",
      "network dynamic: 100%|██████████████████████████████████████████████████████| 100000/100000 [00:04<00:00, 23059.95it/s]\n",
      "network dynamic: 100%|██████████████████████████████████████████████████████| 100000/100000 [00:04<00:00, 20855.13it/s]\n",
      "network dynamic: 100%|██████████████████████████████████████████████████████| 100000/100000 [00:04<00:00, 21566.37it/s]\n"
     ]
    },
    {
     "name": "stdout",
     "output_type": "stream",
     "text": [
      "\n"
     ]
    },
    {
     "data": {
      "application/vnd.jupyter.widget-view+json": {
       "model_id": "8c579b44cf86453ba690d0df27b7a690",
       "version_major": 2,
       "version_minor": 0
      },
      "text/plain": [
       "HBox(children=(FloatProgress(value=0.0, description='Making ensembles', max=5.0, style=ProgressStyle(descripti…"
      ]
     },
     "metadata": {},
     "output_type": "display_data"
    },
    {
     "name": "stderr",
     "output_type": "stream",
     "text": [
      "network dynamic: 100%|██████████████████████████████████████████████████████| 100000/100000 [00:04<00:00, 22695.24it/s]\n",
      "network dynamic: 100%|██████████████████████████████████████████████████████| 100000/100000 [00:04<00:00, 21745.26it/s]\n",
      "network dynamic: 100%|██████████████████████████████████████████████████████| 100000/100000 [00:04<00:00, 21115.78it/s]\n",
      "network dynamic: 100%|██████████████████████████████████████████████████████| 100000/100000 [00:04<00:00, 21071.40it/s]\n",
      "network dynamic: 100%|██████████████████████████████████████████████████████| 100000/100000 [00:04<00:00, 22436.04it/s]\n"
     ]
    },
    {
     "name": "stdout",
     "output_type": "stream",
     "text": [
      "\n"
     ]
    },
    {
     "data": {
      "application/vnd.jupyter.widget-view+json": {
       "model_id": "c17c892edc1b4a6681f7da8d1625d01c",
       "version_major": 2,
       "version_minor": 0
      },
      "text/plain": [
       "HBox(children=(FloatProgress(value=0.0, description='Making ensembles', max=5.0, style=ProgressStyle(descripti…"
      ]
     },
     "metadata": {},
     "output_type": "display_data"
    },
    {
     "name": "stderr",
     "output_type": "stream",
     "text": [
      "network dynamic: 100%|██████████████████████████████████████████████████████| 100000/100000 [00:04<00:00, 21042.34it/s]\n",
      "network dynamic: 100%|██████████████████████████████████████████████████████| 100000/100000 [00:05<00:00, 19875.44it/s]\n",
      "network dynamic: 100%|██████████████████████████████████████████████████████| 100000/100000 [00:04<00:00, 21330.01it/s]\n",
      "network dynamic: 100%|██████████████████████████████████████████████████████| 100000/100000 [00:04<00:00, 21047.91it/s]\n",
      "network dynamic: 100%|██████████████████████████████████████████████████████| 100000/100000 [00:04<00:00, 21045.53it/s]\n"
     ]
    },
    {
     "name": "stdout",
     "output_type": "stream",
     "text": [
      "\n"
     ]
    },
    {
     "data": {
      "application/vnd.jupyter.widget-view+json": {
       "model_id": "f3af4694db444669a8a53639d576abc7",
       "version_major": 2,
       "version_minor": 0
      },
      "text/plain": [
       "HBox(children=(FloatProgress(value=0.0, description='Making ensembles', max=5.0, style=ProgressStyle(descripti…"
      ]
     },
     "metadata": {},
     "output_type": "display_data"
    },
    {
     "name": "stderr",
     "output_type": "stream",
     "text": [
      "network dynamic: 100%|██████████████████████████████████████████████████████| 100000/100000 [00:04<00:00, 20502.61it/s]\n",
      "network dynamic: 100%|██████████████████████████████████████████████████████| 100000/100000 [00:04<00:00, 20959.65it/s]\n",
      "network dynamic: 100%|██████████████████████████████████████████████████████| 100000/100000 [00:04<00:00, 21243.97it/s]\n",
      "network dynamic: 100%|██████████████████████████████████████████████████████| 100000/100000 [00:04<00:00, 20996.62it/s]\n",
      "network dynamic: 100%|██████████████████████████████████████████████████████| 100000/100000 [00:04<00:00, 20455.02it/s]\n"
     ]
    },
    {
     "name": "stdout",
     "output_type": "stream",
     "text": [
      "\n"
     ]
    },
    {
     "data": {
      "application/vnd.jupyter.widget-view+json": {
       "model_id": "e5be37696cc349ac8c32287369f58dea",
       "version_major": 2,
       "version_minor": 0
      },
      "text/plain": [
       "HBox(children=(FloatProgress(value=0.0, description='Making ensembles', max=5.0, style=ProgressStyle(descripti…"
      ]
     },
     "metadata": {},
     "output_type": "display_data"
    },
    {
     "name": "stderr",
     "output_type": "stream",
     "text": [
      "network dynamic: 100%|██████████████████████████████████████████████████████| 100000/100000 [00:04<00:00, 20722.81it/s]\n",
      "network dynamic: 100%|██████████████████████████████████████████████████████| 100000/100000 [00:04<00:00, 20692.75it/s]\n",
      "network dynamic: 100%|██████████████████████████████████████████████████████| 100000/100000 [00:04<00:00, 21140.85it/s]\n",
      "network dynamic: 100%|██████████████████████████████████████████████████████| 100000/100000 [00:04<00:00, 21004.86it/s]\n",
      "network dynamic: 100%|██████████████████████████████████████████████████████| 100000/100000 [00:04<00:00, 21145.25it/s]\n"
     ]
    },
    {
     "name": "stdout",
     "output_type": "stream",
     "text": [
      "\n"
     ]
    },
    {
     "data": {
      "application/vnd.jupyter.widget-view+json": {
       "model_id": "9e5d779b965f43868cbb9f5933ce7787",
       "version_major": 2,
       "version_minor": 0
      },
      "text/plain": [
       "HBox(children=(FloatProgress(value=0.0, description='Making ensembles', max=5.0, style=ProgressStyle(descripti…"
      ]
     },
     "metadata": {},
     "output_type": "display_data"
    },
    {
     "name": "stderr",
     "output_type": "stream",
     "text": [
      "network dynamic: 100%|██████████████████████████████████████████████████████| 100000/100000 [00:04<00:00, 21289.06it/s]\n",
      "network dynamic: 100%|██████████████████████████████████████████████████████| 100000/100000 [00:04<00:00, 21177.22it/s]\n",
      "network dynamic: 100%|██████████████████████████████████████████████████████| 100000/100000 [00:04<00:00, 21199.82it/s]\n",
      "network dynamic: 100%|██████████████████████████████████████████████████████| 100000/100000 [00:04<00:00, 21099.19it/s]\n",
      "network dynamic: 100%|██████████████████████████████████████████████████████| 100000/100000 [00:04<00:00, 20979.03it/s]\n"
     ]
    },
    {
     "name": "stdout",
     "output_type": "stream",
     "text": [
      "\n"
     ]
    },
    {
     "data": {
      "application/vnd.jupyter.widget-view+json": {
       "model_id": "5032433494b94b2a8dda4bae8ddde042",
       "version_major": 2,
       "version_minor": 0
      },
      "text/plain": [
       "HBox(children=(FloatProgress(value=0.0, description='Making ensembles', max=5.0, style=ProgressStyle(descripti…"
      ]
     },
     "metadata": {},
     "output_type": "display_data"
    },
    {
     "name": "stderr",
     "output_type": "stream",
     "text": [
      "network dynamic: 100%|██████████████████████████████████████████████████████| 100000/100000 [00:04<00:00, 21297.01it/s]\n",
      "network dynamic: 100%|██████████████████████████████████████████████████████| 100000/100000 [00:04<00:00, 20311.18it/s]\n",
      "network dynamic: 100%|██████████████████████████████████████████████████████| 100000/100000 [00:04<00:00, 20961.61it/s]\n",
      "network dynamic: 100%|██████████████████████████████████████████████████████| 100000/100000 [00:04<00:00, 20828.39it/s]\n",
      "network dynamic: 100%|██████████████████████████████████████████████████████| 100000/100000 [00:04<00:00, 20894.42it/s]\n"
     ]
    },
    {
     "name": "stdout",
     "output_type": "stream",
     "text": [
      "\n"
     ]
    },
    {
     "data": {
      "application/vnd.jupyter.widget-view+json": {
       "model_id": "dfdaf10d8a6243158a48d7e758bd7732",
       "version_major": 2,
       "version_minor": 0
      },
      "text/plain": [
       "HBox(children=(FloatProgress(value=0.0, description='Making ensembles', max=5.0, style=ProgressStyle(descripti…"
      ]
     },
     "metadata": {},
     "output_type": "display_data"
    },
    {
     "name": "stderr",
     "output_type": "stream",
     "text": [
      "network dynamic: 100%|██████████████████████████████████████████████████████| 100000/100000 [00:04<00:00, 20627.29it/s]\n",
      "network dynamic: 100%|██████████████████████████████████████████████████████| 100000/100000 [00:04<00:00, 20969.22it/s]\n",
      "network dynamic: 100%|██████████████████████████████████████████████████████| 100000/100000 [00:04<00:00, 20854.15it/s]\n",
      "network dynamic: 100%|██████████████████████████████████████████████████████| 100000/100000 [00:04<00:00, 20828.31it/s]\n",
      "network dynamic: 100%|██████████████████████████████████████████████████████| 100000/100000 [00:04<00:00, 20606.26it/s]\n"
     ]
    },
    {
     "name": "stdout",
     "output_type": "stream",
     "text": [
      "\n"
     ]
    },
    {
     "data": {
      "application/vnd.jupyter.widget-view+json": {
       "model_id": "9c375e8fe8d94801b1f02e9162b592f9",
       "version_major": 2,
       "version_minor": 0
      },
      "text/plain": [
       "HBox(children=(FloatProgress(value=0.0, description='Making ensembles', max=5.0, style=ProgressStyle(descripti…"
      ]
     },
     "metadata": {},
     "output_type": "display_data"
    },
    {
     "name": "stderr",
     "output_type": "stream",
     "text": [
      "network dynamic: 100%|██████████████████████████████████████████████████████| 100000/100000 [00:04<00:00, 20733.56it/s]\n",
      "network dynamic: 100%|██████████████████████████████████████████████████████| 100000/100000 [00:04<00:00, 20525.60it/s]\n",
      "network dynamic: 100%|██████████████████████████████████████████████████████| 100000/100000 [00:04<00:00, 20777.91it/s]\n",
      "network dynamic: 100%|██████████████████████████████████████████████████████| 100000/100000 [00:04<00:00, 21082.47it/s]\n",
      "network dynamic: 100%|██████████████████████████████████████████████████████| 100000/100000 [00:04<00:00, 20967.71it/s]\n"
     ]
    },
    {
     "name": "stdout",
     "output_type": "stream",
     "text": [
      "\n"
     ]
    },
    {
     "data": {
      "application/vnd.jupyter.widget-view+json": {
       "model_id": "a1264e793f0b469ca6eefbf13320a765",
       "version_major": 2,
       "version_minor": 0
      },
      "text/plain": [
       "HBox(children=(FloatProgress(value=0.0, description='Making ensembles', max=5.0, style=ProgressStyle(descripti…"
      ]
     },
     "metadata": {},
     "output_type": "display_data"
    },
    {
     "name": "stderr",
     "output_type": "stream",
     "text": [
      "network dynamic: 100%|██████████████████████████████████████████████████████| 100000/100000 [00:05<00:00, 19731.91it/s]\n",
      "network dynamic: 100%|██████████████████████████████████████████████████████| 100000/100000 [00:05<00:00, 19412.89it/s]\n",
      "network dynamic: 100%|██████████████████████████████████████████████████████| 100000/100000 [00:04<00:00, 20969.72it/s]\n",
      "network dynamic: 100%|██████████████████████████████████████████████████████| 100000/100000 [00:04<00:00, 20989.62it/s]\n",
      "network dynamic: 100%|██████████████████████████████████████████████████████| 100000/100000 [00:04<00:00, 21065.25it/s]\n"
     ]
    },
    {
     "name": "stdout",
     "output_type": "stream",
     "text": [
      "\n"
     ]
    },
    {
     "data": {
      "application/vnd.jupyter.widget-view+json": {
       "model_id": "fc9bd3cf2f064284bb10148237e1e452",
       "version_major": 2,
       "version_minor": 0
      },
      "text/plain": [
       "HBox(children=(FloatProgress(value=0.0, description='Making ensembles', max=5.0, style=ProgressStyle(descripti…"
      ]
     },
     "metadata": {},
     "output_type": "display_data"
    },
    {
     "name": "stderr",
     "output_type": "stream",
     "text": [
      "network dynamic: 100%|██████████████████████████████████████████████████████| 100000/100000 [00:04<00:00, 20922.23it/s]\n",
      "network dynamic: 100%|██████████████████████████████████████████████████████| 100000/100000 [00:04<00:00, 21077.73it/s]\n",
      "network dynamic: 100%|██████████████████████████████████████████████████████| 100000/100000 [00:04<00:00, 21084.79it/s]\n",
      "network dynamic: 100%|██████████████████████████████████████████████████████| 100000/100000 [00:04<00:00, 20833.41it/s]\n",
      "network dynamic: 100%|██████████████████████████████████████████████████████| 100000/100000 [00:04<00:00, 21315.38it/s]\n"
     ]
    },
    {
     "name": "stdout",
     "output_type": "stream",
     "text": [
      "\n"
     ]
    },
    {
     "data": {
      "application/vnd.jupyter.widget-view+json": {
       "model_id": "3347904d7dfd4a4581453d6f071f691f",
       "version_major": 2,
       "version_minor": 0
      },
      "text/plain": [
       "HBox(children=(FloatProgress(value=0.0, description='Making ensembles', max=5.0, style=ProgressStyle(descripti…"
      ]
     },
     "metadata": {},
     "output_type": "display_data"
    },
    {
     "name": "stderr",
     "output_type": "stream",
     "text": [
      "network dynamic: 100%|██████████████████████████████████████████████████████| 100000/100000 [00:04<00:00, 21498.09it/s]\n",
      "network dynamic: 100%|██████████████████████████████████████████████████████| 100000/100000 [00:05<00:00, 19206.77it/s]\n",
      "network dynamic: 100%|██████████████████████████████████████████████████████| 100000/100000 [00:04<00:00, 21709.84it/s]\n",
      "network dynamic: 100%|██████████████████████████████████████████████████████| 100000/100000 [00:04<00:00, 21925.90it/s]\n",
      "network dynamic: 100%|██████████████████████████████████████████████████████| 100000/100000 [00:04<00:00, 22037.77it/s]\n"
     ]
    },
    {
     "name": "stdout",
     "output_type": "stream",
     "text": [
      "\n"
     ]
    },
    {
     "data": {
      "application/vnd.jupyter.widget-view+json": {
       "model_id": "58a89eb6423c4ce396497244285a5367",
       "version_major": 2,
       "version_minor": 0
      },
      "text/plain": [
       "HBox(children=(FloatProgress(value=0.0, description='Making ensembles', max=5.0, style=ProgressStyle(descripti…"
      ]
     },
     "metadata": {},
     "output_type": "display_data"
    },
    {
     "name": "stderr",
     "output_type": "stream",
     "text": [
      "network dynamic: 100%|██████████████████████████████████████████████████████| 100000/100000 [00:04<00:00, 22141.57it/s]\n",
      "network dynamic: 100%|██████████████████████████████████████████████████████| 100000/100000 [00:04<00:00, 21556.03it/s]\n",
      "network dynamic: 100%|██████████████████████████████████████████████████████| 100000/100000 [00:04<00:00, 21858.38it/s]\n",
      "network dynamic: 100%|██████████████████████████████████████████████████████| 100000/100000 [00:04<00:00, 22018.64it/s]\n",
      "network dynamic: 100%|██████████████████████████████████████████████████████| 100000/100000 [00:04<00:00, 21432.31it/s]\n"
     ]
    },
    {
     "name": "stdout",
     "output_type": "stream",
     "text": [
      "\n"
     ]
    },
    {
     "data": {
      "application/vnd.jupyter.widget-view+json": {
       "model_id": "1ec73e2135ef4a5faf4fd299fe7d14f7",
       "version_major": 2,
       "version_minor": 0
      },
      "text/plain": [
       "HBox(children=(FloatProgress(value=0.0, description='Making ensembles', max=5.0, style=ProgressStyle(descripti…"
      ]
     },
     "metadata": {},
     "output_type": "display_data"
    },
    {
     "name": "stderr",
     "output_type": "stream",
     "text": [
      "network dynamic: 100%|██████████████████████████████████████████████████████| 100000/100000 [00:04<00:00, 22417.24it/s]\n",
      "network dynamic: 100%|██████████████████████████████████████████████████████| 100000/100000 [00:06<00:00, 15077.17it/s]\n",
      "network dynamic: 100%|██████████████████████████████████████████████████████| 100000/100000 [00:06<00:00, 15340.11it/s]\n",
      "network dynamic: 100%|██████████████████████████████████████████████████████| 100000/100000 [00:05<00:00, 18111.65it/s]\n",
      "network dynamic: 100%|██████████████████████████████████████████████████████| 100000/100000 [00:04<00:00, 22441.22it/s]\n"
     ]
    },
    {
     "name": "stdout",
     "output_type": "stream",
     "text": [
      "\n"
     ]
    },
    {
     "data": {
      "application/vnd.jupyter.widget-view+json": {
       "model_id": "4c221083f04548e4affd9a80271f21f8",
       "version_major": 2,
       "version_minor": 0
      },
      "text/plain": [
       "HBox(children=(FloatProgress(value=0.0, description='Making ensembles', max=5.0, style=ProgressStyle(descripti…"
      ]
     },
     "metadata": {},
     "output_type": "display_data"
    },
    {
     "name": "stderr",
     "output_type": "stream",
     "text": [
      "network dynamic: 100%|██████████████████████████████████████████████████████| 100000/100000 [00:05<00:00, 18675.07it/s]\n",
      "network dynamic: 100%|██████████████████████████████████████████████████████| 100000/100000 [00:06<00:00, 15543.88it/s]\n",
      "network dynamic: 100%|██████████████████████████████████████████████████████| 100000/100000 [00:06<00:00, 15454.10it/s]\n",
      "network dynamic: 100%|██████████████████████████████████████████████████████| 100000/100000 [00:06<00:00, 15333.77it/s]\n",
      "network dynamic: 100%|██████████████████████████████████████████████████████| 100000/100000 [00:05<00:00, 17338.10it/s]\n"
     ]
    },
    {
     "name": "stdout",
     "output_type": "stream",
     "text": [
      "\n"
     ]
    },
    {
     "data": {
      "application/vnd.jupyter.widget-view+json": {
       "model_id": "a3aaebe0c006484fb9dc3df17836809b",
       "version_major": 2,
       "version_minor": 0
      },
      "text/plain": [
       "HBox(children=(FloatProgress(value=0.0, description='Making ensembles', max=5.0, style=ProgressStyle(descripti…"
      ]
     },
     "metadata": {},
     "output_type": "display_data"
    },
    {
     "name": "stderr",
     "output_type": "stream",
     "text": [
      "network dynamic: 100%|██████████████████████████████████████████████████████| 100000/100000 [00:04<00:00, 22300.13it/s]\n",
      "network dynamic: 100%|██████████████████████████████████████████████████████| 100000/100000 [00:05<00:00, 19679.49it/s]\n",
      "network dynamic: 100%|██████████████████████████████████████████████████████| 100000/100000 [00:06<00:00, 15594.73it/s]\n",
      "network dynamic: 100%|██████████████████████████████████████████████████████| 100000/100000 [00:06<00:00, 15444.09it/s]\n",
      "network dynamic: 100%|██████████████████████████████████████████████████████| 100000/100000 [00:06<00:00, 15435.53it/s]\n"
     ]
    },
    {
     "name": "stdout",
     "output_type": "stream",
     "text": [
      "\n"
     ]
    },
    {
     "data": {
      "application/vnd.jupyter.widget-view+json": {
       "model_id": "f19d6b246e934ddb9058016a243172dc",
       "version_major": 2,
       "version_minor": 0
      },
      "text/plain": [
       "HBox(children=(FloatProgress(value=0.0, description='Making ensembles', max=5.0, style=ProgressStyle(descripti…"
      ]
     },
     "metadata": {},
     "output_type": "display_data"
    },
    {
     "name": "stderr",
     "output_type": "stream",
     "text": [
      "network dynamic: 100%|██████████████████████████████████████████████████████| 100000/100000 [00:05<00:00, 17465.16it/s]\n",
      "network dynamic: 100%|██████████████████████████████████████████████████████| 100000/100000 [00:04<00:00, 22494.79it/s]\n",
      "network dynamic: 100%|██████████████████████████████████████████████████████| 100000/100000 [00:05<00:00, 19323.63it/s]\n",
      "network dynamic: 100%|██████████████████████████████████████████████████████| 100000/100000 [00:06<00:00, 15677.67it/s]\n",
      "network dynamic: 100%|██████████████████████████████████████████████████████| 100000/100000 [00:06<00:00, 15524.01it/s]\n"
     ]
    },
    {
     "name": "stdout",
     "output_type": "stream",
     "text": [
      "\n"
     ]
    },
    {
     "data": {
      "application/vnd.jupyter.widget-view+json": {
       "model_id": "6ada8cdeb35448d196d53b92814e594d",
       "version_major": 2,
       "version_minor": 0
      },
      "text/plain": [
       "HBox(children=(FloatProgress(value=0.0, description='Making ensembles', max=5.0, style=ProgressStyle(descripti…"
      ]
     },
     "metadata": {},
     "output_type": "display_data"
    },
    {
     "name": "stderr",
     "output_type": "stream",
     "text": [
      "network dynamic: 100%|██████████████████████████████████████████████████████| 100000/100000 [00:06<00:00, 15359.84it/s]\n",
      "network dynamic: 100%|██████████████████████████████████████████████████████| 100000/100000 [00:05<00:00, 18152.82it/s]\n",
      "network dynamic: 100%|██████████████████████████████████████████████████████| 100000/100000 [00:04<00:00, 23780.13it/s]\n",
      "network dynamic: 100%|██████████████████████████████████████████████████████| 100000/100000 [00:05<00:00, 18664.33it/s]\n",
      "network dynamic: 100%|██████████████████████████████████████████████████████| 100000/100000 [00:06<00:00, 15396.36it/s]\n"
     ]
    },
    {
     "name": "stdout",
     "output_type": "stream",
     "text": [
      "\n"
     ]
    },
    {
     "data": {
      "application/vnd.jupyter.widget-view+json": {
       "model_id": "ab1a5e2b8ae44f6b959fb6a9c8f93fdd",
       "version_major": 2,
       "version_minor": 0
      },
      "text/plain": [
       "HBox(children=(FloatProgress(value=0.0, description='Making ensembles', max=5.0, style=ProgressStyle(descripti…"
      ]
     },
     "metadata": {},
     "output_type": "display_data"
    },
    {
     "name": "stderr",
     "output_type": "stream",
     "text": [
      "network dynamic: 100%|██████████████████████████████████████████████████████| 100000/100000 [00:06<00:00, 15400.61it/s]\n",
      "network dynamic: 100%|██████████████████████████████████████████████████████| 100000/100000 [00:06<00:00, 15436.84it/s]\n",
      "network dynamic: 100%|██████████████████████████████████████████████████████| 100000/100000 [00:05<00:00, 17616.68it/s]\n",
      "network dynamic: 100%|██████████████████████████████████████████████████████| 100000/100000 [00:04<00:00, 23636.07it/s]\n",
      "network dynamic: 100%|██████████████████████████████████████████████████████| 100000/100000 [00:05<00:00, 18828.63it/s]\n"
     ]
    },
    {
     "name": "stdout",
     "output_type": "stream",
     "text": [
      "\n"
     ]
    },
    {
     "data": {
      "application/vnd.jupyter.widget-view+json": {
       "model_id": "d094baaa478b47b196e56becccbaec41",
       "version_major": 2,
       "version_minor": 0
      },
      "text/plain": [
       "HBox(children=(FloatProgress(value=0.0, description='Making ensembles', max=5.0, style=ProgressStyle(descripti…"
      ]
     },
     "metadata": {},
     "output_type": "display_data"
    },
    {
     "name": "stderr",
     "output_type": "stream",
     "text": [
      "network dynamic: 100%|██████████████████████████████████████████████████████| 100000/100000 [00:06<00:00, 15525.01it/s]\n",
      "network dynamic: 100%|██████████████████████████████████████████████████████| 100000/100000 [00:06<00:00, 15403.82it/s]\n",
      "network dynamic: 100%|██████████████████████████████████████████████████████| 100000/100000 [00:06<00:00, 15466.73it/s]\n",
      "network dynamic: 100%|██████████████████████████████████████████████████████| 100000/100000 [00:05<00:00, 17856.92it/s]\n",
      "network dynamic: 100%|██████████████████████████████████████████████████████| 100000/100000 [00:04<00:00, 22085.89it/s]\n"
     ]
    },
    {
     "name": "stdout",
     "output_type": "stream",
     "text": [
      "\n",
      "\n"
     ]
    }
   ],
   "source": [
    "for i,connectivity in enumerate(tqdm( connectivity_span , desc='Variation of connectivities') ):\n",
    "    for j in tqdm( range(num_ensembles_each_g) , desc='Making ensembles'):\n",
    "        sample_model = Kuramoto_neural_network(num_neurons=100,g=connectivity)\n",
    "        sample_model.ignite(total_time = 1000)\n",
    "        sample_model.compute_effective_field( alpha = 20)\n",
    "        sigma_record[i][j] = sample_model.report_sigma()"
   ]
  },
  {
   "cell_type": "code",
   "execution_count": 6,
   "metadata": {},
   "outputs": [],
   "source": [
    "# sigma_record = connectivity_record\n",
    "np.save('sigma_records.npy',sigma_record)"
   ]
  },
  {
   "cell_type": "code",
   "execution_count": 7,
   "metadata": {},
   "outputs": [
    {
     "data": {
      "image/png": "[encoded data removed]",
      "text/plain": [
       "<Figure size 432x288 with 1 Axes>"
      ]
     },
     "metadata": {
      "needs_background": "light"
     },
     "output_type": "display_data"
    }
   ],
   "source": [
    "fig = plt.figure()\n",
    "ax = fig.subplots()\n",
    "ax.errorbar(x = connectivity_span, y = np.mean(sigma_record,axis = 1),yerr = np.var(sigma_record,axis = 1))\n",
    "# ax.set_title('$\\sigma$')\n",
    "ax.set_xlabel('g as connectivity')\n",
    "ax.set_ylabel('$\\sigma$')\n",
    "fig.savefig('sigma_as_synchoronization_meter.png')"
   ]
  },
  {
   "cell_type": "code",
   "execution_count": 8,
   "metadata": {},
   "outputs": [
    {
     "data": {
      "text/plain": [
       "array([18.13122391, 17.41306037, 18.57316642, 18.95901625, 18.42130793])"
      ]
     },
     "execution_count": 8,
     "metadata": {},
     "output_type": "execute_result"
    }
   ],
   "source": [
    "np.sum(sigma_record,axis = 0)"
   ]
  },
  {
   "cell_type": "code",
   "execution_count": 9,
   "metadata": {},
   "outputs": [
    {
     "data": {
      "text/plain": [
       "(20, 5)"
      ]
     },
     "execution_count": 9,
     "metadata": {},
     "output_type": "execute_result"
    }
   ],
   "source": [
    "sigma_record.shape"
   ]
  },
  {
   "cell_type": "code",
   "execution_count": 10,
   "metadata": {},
   "outputs": [
    {
     "data": {
      "text/plain": [
       "array([[0.92295573, 1.05660109, 1.44251559, 1.10044305, 0.91007383],\n",
       "       [0.93007386, 0.81497146, 0.98265285, 1.37420157, 0.72208676],\n",
       "       [0.55505368, 1.04817039, 0.84286987, 1.3004231 , 0.72799361],\n",
       "       [0.94691755, 0.98287084, 0.62026628, 1.0601047 , 1.27058306],\n",
       "       [0.91383059, 0.93474813, 0.77376673, 1.19996343, 1.09133585],\n",
       "       [0.91720852, 0.77644666, 1.27855851, 1.16338215, 0.78710153],\n",
       "       [0.50602787, 0.81303692, 0.88576828, 0.87397671, 0.99713473],\n",
       "       [0.93830722, 1.05374471, 1.1108057 , 1.1590899 , 0.87184953],\n",
       "       [0.96216838, 1.0887242 , 1.03630675, 0.63730257, 0.47046874],\n",
       "       [0.65777426, 0.90655337, 0.8872183 , 1.23841145, 1.42350922],\n",
       "       [0.829566  , 0.59865708, 1.33775669, 0.94629985, 1.09848204],\n",
       "       [0.63330232, 0.48306513, 0.98956926, 0.57582881, 0.93512146],\n",
       "       [1.50791271, 1.0767018 , 1.3463407 , 0.62902795, 0.75640977],\n",
       "       [1.04505413, 0.85586784, 0.76660805, 0.7676996 , 0.76066243],\n",
       "       [1.14819685, 0.70442817, 0.57194242, 0.73896912, 1.04403793],\n",
       "       [1.00733846, 1.02245433, 0.64631538, 0.94420802, 1.25862487],\n",
       "       [1.240249  , 0.65878622, 0.55556975, 0.62618925, 0.84989133],\n",
       "       [0.50759102, 0.70830629, 0.65776787, 0.74558815, 0.91489298],\n",
       "       [1.06239568, 1.08645717, 1.18983581, 0.69409194, 0.69285387],\n",
       "       [0.89930011, 0.74246859, 0.65073162, 1.18381493, 0.8381944 ]])"
      ]
     },
     "execution_count": 10,
     "metadata": {},
     "output_type": "execute_result"
    }
   ],
   "source": [
    "sigma_record"
   ]
  },
  {
   "cell_type": "code",
   "execution_count": 11,
   "metadata": {},
   "outputs": [
    {
     "data": {
      "text/plain": [
       "array([0.92295573, 1.05660109, 1.44251559, 1.10044305, 0.91007383])"
      ]
     },
     "execution_count": 11,
     "metadata": {},
     "output_type": "execute_result"
    }
   ],
   "source": [
    "sigma_record[0]"
   ]
  },
  {
   "cell_type": "code",
   "execution_count": null,
   "metadata": {},
   "outputs": [],
   "source": []
  }
 ],
 "metadata": {
  "kernelspec": {
   "display_name": "Python 3",
   "language": "python",
   "name": "python3"
  },
  "language_info": {
   "codemirror_mode": {
    "name": "ipython",
    "version": 3
   },
   "file_extension": ".py",
   "mimetype": "text/x-python",
   "name": "python",
   "nbconvert_exporter": "python",
   "pygments_lexer": "ipython3",
   "version": "3.7.6"
  }
 },
 "nbformat": 4,
 "nbformat_minor": 4
}
